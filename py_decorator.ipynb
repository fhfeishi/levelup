{
 "cells": [
  {
   "cell_type": "code",
   "execution_count": 1,
   "metadata": {},
   "outputs": [
    {
     "name": "stdout",
     "output_type": "stream",
     "text": [
      "Package                 Version              Editable project location\n",
      "----------------------- -------------------- ---------------------------------------------------------------------\n",
      "absl-py                 2.0.0\n",
      "asttokens               2.4.1\n",
      "av                      10.0.0\n",
      "beautifulsoup4          4.12.2\n",
      "blinker                 1.6.2\n",
      "boto3                   1.28.31\n",
      "botocore                1.31.31\n",
      "bs4                     0.0.1\n",
      "cachetools              5.3.2\n",
      "certifi                 2023.5.7\n",
      "charset-normalizer      3.2.0\n",
      "click                   8.1.7\n",
      "colorama                0.4.6\n",
      "coloredlogs             15.0.1\n",
      "comm                    0.2.2\n",
      "contourpy               1.1.0\n",
      "cycler                  0.11.0\n",
      "Cython                  3.0.0\n",
      "cython-bbox             0.1.3                d:\\chycodespace\\dataprocessing\\mvr_gait\\human_trick\\cython_bbox-0.1.3\n",
      "debugpy                 1.8.1\n",
      "decorator               4.4.2\n",
      "et-xmlfile              1.1.0\n",
      "exceptiongroup          1.2.0\n",
      "executing               2.0.1\n",
      "filelock                3.12.2\n",
      "Flask                   2.3.3\n",
      "flatbuffers             23.5.26\n",
      "fonttools               4.41.1\n",
      "fsspec                  2023.9.2\n",
      "fvcore                  0.1.5.post20221221\n",
      "gdown                   4.7.1\n",
      "google-auth             2.23.3\n",
      "google-auth-oauthlib    1.0.0\n",
      "grpcio                  1.59.0\n",
      "huggingface-hub         0.17.3\n",
      "humanfriendly           10.0\n",
      "idna                    3.4\n",
      "imageio                 2.31.1\n",
      "imageio-ffmpeg          0.4.8\n",
      "imgviz                  1.7.5\n",
      "importlib-metadata      6.8.0\n",
      "importlib-resources     6.0.0\n",
      "iopath                  0.1.10\n",
      "ipykernel               6.29.4\n",
      "ipython                 8.23.0\n",
      "itsdangerous            2.1.2\n",
      "jedi                    0.19.1\n",
      "Jinja2                  3.1.2\n",
      "jmespath                1.0.1\n",
      "jupyter_client          8.6.1\n",
      "jupyter_core            5.7.2\n",
      "kiwisolver              1.4.5\n",
      "labelImg                1.8.6\n",
      "labelme                 5.4.1\n",
      "lap                     0.4.0\n",
      "lazy_loader             0.3\n",
      "loguru                  0.7.0\n",
      "lxml                    4.9.3\n",
      "Markdown                3.5\n",
      "markdown-it-py          3.0.0\n",
      "MarkupSafe              2.1.3\n",
      "matplotlib              3.8.2\n",
      "matplotlib-inline       0.1.6\n",
      "mdurl                   0.1.2\n",
      "mkl-fft                 1.3.8\n",
      "mkl-random              1.2.4\n",
      "mkl-service             2.4.0\n",
      "moviepy                 1.0.3\n",
      "mpmath                  1.3.0\n",
      "natsort                 8.4.0\n",
      "nest-asyncio            1.6.0\n",
      "networkx                3.1\n",
      "numpy                   1.24.4\n",
      "oauthlib                3.2.2\n",
      "onnx                    1.13.1\n",
      "onnxruntime             1.15.1\n",
      "opencv-python           4.8.0.74\n",
      "openpyxl                3.1.2\n",
      "packaging               23.1\n",
      "pandas                  2.0.3\n",
      "parameterized           0.9.0\n",
      "parso                   0.8.4\n",
      "pika                    1.3.2\n",
      "pillow                  10.2.0\n",
      "pip                     23.3.1\n",
      "pip-search              0.0.12\n",
      "platformdirs            4.2.0\n",
      "portalocker             2.7.0\n",
      "proglog                 0.1.10\n",
      "prompt-toolkit          3.0.43\n",
      "protobuf                3.20.3\n",
      "psutil                  5.9.8\n",
      "pure-eval               0.2.2\n",
      "pyasn1                  0.5.0\n",
      "pyasn1-modules          0.3.0\n",
      "pycocotools             2.0.6\n",
      "Pygments                2.17.2\n",
      "pyparsing               3.0.9\n",
      "PyQt5                   5.15.10\n",
      "PyQt5-Qt5               5.15.2\n",
      "PyQt5-sip               12.13.0\n",
      "pyreadline3             3.4.1\n",
      "PySimpleGUI             4.60.5\n",
      "PySocks                 1.7.1\n",
      "python-dateutil         2.8.2\n",
      "pytorchvideo            0.1.5\n",
      "pytz                    2023.3\n",
      "PyWavelets              1.4.1\n",
      "pywin32                 306\n",
      "PyYAML                  6.0.1\n",
      "pyzmq                   25.1.2\n",
      "QtPy                    2.4.1\n",
      "requests                2.31.0\n",
      "requests-oauthlib       1.3.1\n",
      "rich                    13.7.0\n",
      "rsa                     4.9\n",
      "s3transfer              0.6.2\n",
      "safetensors             0.4.0\n",
      "scikit-image            0.21.0\n",
      "scipy                   1.10.1\n",
      "setuptools              68.2.2\n",
      "six                     1.16.0\n",
      "soupsieve               2.5\n",
      "stack-data              0.6.3\n",
      "sympy                   1.12\n",
      "tabulate                0.9.0\n",
      "tensorboard             2.14.0\n",
      "tensorboard-data-server 0.7.2\n",
      "termcolor               2.3.0\n",
      "thop                    0.1.1.post2209072238\n",
      "tifffile                2023.7.10\n",
      "timm                    0.9.7\n",
      "torch                   2.0.1\n",
      "torchaudio              2.0.2\n",
      "torchvision             0.15.2\n",
      "tornado                 6.4\n",
      "tqdm                    4.65.0\n",
      "traitlets               5.14.2\n",
      "typing_extensions       4.9.0\n",
      "tzdata                  2023.3\n",
      "urllib3                 1.26.16\n",
      "wcwidth                 0.2.13\n",
      "Werkzeug                2.3.7\n",
      "wheel                   0.41.2\n",
      "win32-setctime          1.1.0\n",
      "yacs                    0.1.8\n",
      "zipp                    3.16.2\n"
     ]
    }
   ],
   "source": [
    "!pip list"
   ]
  },
  {
   "cell_type": "code",
   "execution_count": 2,
   "metadata": {},
   "outputs": [
    {
     "name": "stdout",
     "output_type": "stream",
     "text": [
      "Name: ipykernel\n",
      "Version: 6.29.4\n",
      "Summary: IPython Kernel for Jupyter\n",
      "Home-page: \n",
      "Author: \n",
      "Author-email: IPython Development Team <ipython-dev@scipy.org>\n",
      "License: BSD 3-Clause License\n",
      "        \n",
      "        Copyright (c) 2015, IPython Development Team\n",
      "        \n",
      "        All rights reserved.\n",
      "        \n",
      "        Redistribution and use in source and binary forms, with or without\n",
      "        modification, are permitted provided that the following conditions are met:\n",
      "        \n",
      "        1. Redistributions of source code must retain the above copyright notice, this\n",
      "           list of conditions and the following disclaimer.\n",
      "        \n",
      "        2. Redistributions in binary form must reproduce the above copyright notice,\n",
      "           this list of conditions and the following disclaimer in the documentation\n",
      "           and/or other materials provided with the distribution.\n",
      "        \n",
      "        3. Neither the name of the copyright holder nor the names of its\n",
      "           contributors may be used to endorse or promote products derived from\n",
      "           this software without specific prior written permission.\n",
      "        \n",
      "        THIS SOFTWARE IS PROVIDED BY THE COPYRIGHT HOLDERS AND CONTRIBUTORS \"AS IS\"\n",
      "        AND ANY EXPRESS OR IMPLIED WARRANTIES, INCLUDING, BUT NOT LIMITED TO, THE\n",
      "        IMPLIED WARRANTIES OF MERCHANTABILITY AND FITNESS FOR A PARTICULAR PURPOSE ARE\n",
      "        DISCLAIMED. IN NO EVENT SHALL THE COPYRIGHT HOLDER OR CONTRIBUTORS BE LIABLE\n",
      "        FOR ANY DIRECT, INDIRECT, INCIDENTAL, SPECIAL, EXEMPLARY, OR CONSEQUENTIAL\n",
      "        DAMAGES (INCLUDING, BUT NOT LIMITED TO, PROCUREMENT OF SUBSTITUTE GOODS OR\n",
      "        SERVICES; LOSS OF USE, DATA, OR PROFITS; OR BUSINESS INTERRUPTION) HOWEVER\n",
      "        CAUSED AND ON ANY THEORY OF LIABILITY, WHETHER IN CONTRACT, STRICT LIABILITY,\n",
      "        OR TORT (INCLUDING NEGLIGENCE OR OTHERWISE) ARISING IN ANY WAY OUT OF THE USE\n",
      "        OF THIS SOFTWARE, EVEN IF ADVISED OF THE POSSIBILITY OF SUCH DAMAGE.\n",
      "Location: d:\\anaconda\\envs\\mmdata\\lib\\site-packages\n",
      "Requires: comm, debugpy, ipython, jupyter-client, jupyter-core, matplotlib-inline, nest-asyncio, packaging, psutil, pyzmq, tornado, traitlets\n",
      "Required-by: \n"
     ]
    }
   ],
   "source": [
    "!pip show ipykernel"
   ]
  },
  {
   "cell_type": "markdown",
   "metadata": {},
   "source": [
    "# decorator"
   ]
  },
  {
   "cell_type": "code",
   "execution_count": 4,
   "metadata": {},
   "outputs": [
    {
     "name": "stdout",
     "output_type": "stream",
     "text": [
      "self: <__main__.A object at 0x0000020ED316B790>\n",
      "cls: <class '__main__.A'>\n"
     ]
    }
   ],
   "source": [
    "class A:\n",
    "    # instance method\n",
    "    def m1(self, n):\n",
    "        print(\"self:\", self)\n",
    "    \n",
    "    # classmethod\n",
    "    @classmethod\n",
    "    def m2(cls, n):\n",
    "        print(\"cls:\", cls)\n",
    "    \n",
    "    # staticmethod\n",
    "    @staticmethod\n",
    "    def m3(n):\n",
    "        pass\n",
    "\n",
    "a = A()\n",
    "a.m1(1) # ==  A.m1(a, 1)\n",
    "A.m2(1)\n",
    "A.m3(1)"
   ]
  },
  {
   "attachments": {
    "image.png": {
     "image/png": "[encoded data removed]"
    }
   },
   "cell_type": "markdown",
   "metadata": {},
   "source": [
    "![image.png](attachment:image.png)"
   ]
  },
  {
   "cell_type": "markdown",
   "metadata": {},
   "source": [
    "## instance method"
   ]
  },
  {
   "cell_type": "code",
   "execution_count": 5,
   "metadata": {},
   "outputs": [
    {
     "name": "stdout",
     "output_type": "stream",
     "text": [
      "<function A.m1 at 0x0000020ED1D9F910>\n"
     ]
    }
   ],
   "source": [
    "print(A.m1)"
   ]
  },
  {
   "cell_type": "code",
   "execution_count": 6,
   "metadata": {},
   "outputs": [
    {
     "name": "stdout",
     "output_type": "stream",
     "text": [
      "<bound method A.m1 of <__main__.A object at 0x0000020ED316B790>>\n"
     ]
    }
   ],
   "source": [
    "print(a.m1)"
   ]
  },
  {
   "cell_type": "markdown",
   "metadata": {},
   "source": [
    "A.m1是一个还没有绑定实例对象的方法，对于未绑定方法，调用 A.m1 时必须显示地传入一个实例对象进去，而 a.m1是已经绑定了实例的方法，python隐式地把对象传递给了self参数，所以不再手动传递参数，这是调用实例方法的过程。"
   ]
  },
  {
   "cell_type": "code",
   "execution_count": 7,
   "metadata": {},
   "outputs": [
    {
     "name": "stdout",
     "output_type": "stream",
     "text": [
      "self: <__main__.A object at 0x0000020ED316B790>\n",
      "self: <__main__.A object at 0x0000020ED316B790>\n"
     ]
    }
   ],
   "source": [
    "A.m1(a, 1)  # error A.m1(1)\n",
    "# ==\n",
    "a.m1(1)"
   ]
  },
  {
   "cell_type": "markdown",
   "metadata": {},
   "source": [
    "## classmethod"
   ]
  },
  {
   "cell_type": "code",
   "execution_count": 8,
   "metadata": {},
   "outputs": [
    {
     "name": "stdout",
     "output_type": "stream",
     "text": [
      "<bound method A.m2 of <class '__main__.A'>>\n",
      "<bound method A.m2 of <class '__main__.A'>>\n"
     ]
    }
   ],
   "source": [
    "print(A.m2)\n",
    "\n",
    "print(a.m2)"
   ]
  },
  {
   "cell_type": "markdown",
   "metadata": {},
   "source": [
    "m2是类方法，不管是 A.m2 还是 a.m2，都是已经自动绑定了类对象A的方法，对于后者，因为python可以通过实例对象a找到它所属的类是A，找到A之后自动绑定到 cls。"
   ]
  },
  {
   "cell_type": "markdown",
   "metadata": {},
   "source": [
    "这使得我们可以在实例方法中通过使用 self.m2()这种方式来调用类方法和静态方法。"
   ]
  },
  {
   "cell_type": "code",
   "execution_count": 9,
   "metadata": {},
   "outputs": [],
   "source": [
    "def m1(self,n):\n",
    "    print(\"self:\", self)\n",
    "    self.m2(n)"
   ]
  },
  {
   "cell_type": "code",
   "execution_count": null,
   "metadata": {},
   "outputs": [],
   "source": []
  },
  {
   "cell_type": "markdown",
   "metadata": {},
   "source": [
    "## staticmethod"
   ]
  },
  {
   "cell_type": "code",
   "execution_count": 10,
   "metadata": {},
   "outputs": [
    {
     "name": "stdout",
     "output_type": "stream",
     "text": [
      "<function A.m3 at 0x0000020ED3254700>\n",
      "<function A.m3 at 0x0000020ED3254700>\n"
     ]
    }
   ],
   "source": [
    "print(A.m3)\n",
    "print(a.m3)"
   ]
  },
  {
   "cell_type": "markdown",
   "metadata": {},
   "source": [
    "m3是类里面的一个静态方法，跟普通函数没什么区别，与类和实例都没有所谓的绑定关系，它只不过是碰巧存在类中的一个函数而已。不论是通过类还是实例都可以引用该方法。"
   ]
  },
  {
   "cell_type": "code",
   "execution_count": 11,
   "metadata": {},
   "outputs": [],
   "source": [
    "A.m3(1)\n",
    "# ==\n",
    "a.m3(1)"
   ]
  },
  {
   "cell_type": "markdown",
   "metadata": {},
   "source": [
    "## 静态方法的使用场景\n",
    "\n",
    "如果在方法中不需要访问任何示例和属性，纯粹地通过传入参数并返回数据的功能性方法，那么就适用静态方法"
   ]
  },
  {
   "cell_type": "markdown",
   "metadata": {},
   "source": [
    "## 类方法的使用场景\n",
    "\n",
    "作为工厂方法创建实例对象，例如内置模块 datetime.date 类中就有大量使用类方法作为工厂方法，以此来创建date对象。\n",
    "\n",
    "如果希望在方法里面调用静态类，那么把方法定义成类方法是合适的，因为要是定义成静态方法，那么你就要显示地引用类A，这对继承来说可不是一件好事情。\n",
    "\n"
   ]
  },
  {
   "cell_type": "code",
   "execution_count": null,
   "metadata": {},
   "outputs": [],
   "source": [
    "class A:\n",
    "    \n",
    "    @staticmethod\n",
    "    def m1():\n",
    "        pass\n",
    "    \n",
    "    @staticmethod\n",
    "    def m2():\n",
    "        A.m1()   # bad\n",
    "        \n",
    "    @classmethod\n",
    "    def m3(cls):\n",
    "        cls.m1()   # good"
   ]
  }
 ],
 "metadata": {
  "kernelspec": {
   "display_name": "mmdata",
   "language": "python",
   "name": "python3"
  },
  "language_info": {
   "codemirror_mode": {
    "name": "ipython",
    "version": 3
   },
   "file_extension": ".py",
   "mimetype": "text/x-python",
   "name": "python",
   "nbconvert_exporter": "python",
   "pygments_lexer": "ipython3",
   "version": "3.10.13"
  },
  "orig_nbformat": 4
 },
 "nbformat": 4,
 "nbformat_minor": 2
}
