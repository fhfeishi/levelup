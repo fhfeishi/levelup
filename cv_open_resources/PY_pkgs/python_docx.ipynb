{
 "cells": [
  {
   "cell_type": "markdown",
   "metadata": {},
   "source": [
    "# .doc是一种二进制文件格式，文件通常大，存储效率低。\n",
    "# .docx是基于XML（可拓展标记语言）的文件格式\n",
    "# install\n",
    "pip install python-docx\n",
    "\n",
    "官方手册：https://python-docx.readthedocs.io/en/latest/index.html\n",
    "pypi 官方地址：https://pypi.org/project/python-docx/"
   ]
  },
  {
   "cell_type": "code",
   "execution_count": 1,
   "metadata": {},
   "outputs": [],
   "source": [
    "from docx import Document\n",
    "\n",
    "document = Document()\n",
    "\n",
    "document.add_heading('this is a title', level=0)\n",
    "\n",
    "document.save('demo.docx')"
   ]
  },
  {
   "cell_type": "code",
   "execution_count": 2,
   "metadata": {},
   "outputs": [],
   "source": [
    "from docx import Document\n",
    "from docx.shared import Inches, Cm\n",
    "\n",
    "document = Document()\n",
    "\n",
    "document.add_heading('this is a titlte', level=0)\n",
    "\n",
    "p = document.add_paragraph('zhe shi bai gei de duan luo.')\n",
    "\n",
    "p.add_run('\\nwo qing xie le.').italic = True\n",
    "p.add_run('\\nwo jia cu le.').bold = True\n",
    "\n",
    "prep_p = p.insert_paragraph_before('duan luo zhi qian cha ru nei rong.')\n",
    "\n",
    "document.add_page_break()\n",
    "p1 = document.add_paragraph('xin ye xin duan luo.')\n",
    "\n",
    "document.save('demo.docx')\n"
   ]
  },
  {
   "cell_type": "code",
   "execution_count": null,
   "metadata": {},
   "outputs": [],
   "source": []
  },
  {
   "cell_type": "code",
   "execution_count": null,
   "metadata": {},
   "outputs": [],
   "source": []
  },
  {
   "cell_type": "code",
   "execution_count": null,
   "metadata": {},
   "outputs": [],
   "source": []
  },
  {
   "cell_type": "code",
   "execution_count": null,
   "metadata": {},
   "outputs": [],
   "source": []
  },
  {
   "cell_type": "code",
   "execution_count": null,
   "metadata": {},
   "outputs": [],
   "source": []
  }
 ],
 "metadata": {
  "kernelspec": {
   "display_name": "mmdata",
   "language": "python",
   "name": "python3"
  },
  "language_info": {
   "codemirror_mode": {
    "name": "ipython",
    "version": 3
   },
   "file_extension": ".py",
   "mimetype": "text/x-python",
   "name": "python",
   "nbconvert_exporter": "python",
   "pygments_lexer": "ipython3",
   "version": "3.8.19"
  },
  "orig_nbformat": 4
 },
 "nbformat": 4,
 "nbformat_minor": 2
}
