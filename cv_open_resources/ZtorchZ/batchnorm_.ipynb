{
 "cells": [
  {
   "cell_type": "markdown",
   "metadata": {},
   "source": [
    "# 批量规范化"
   ]
  },
  {
   "cell_type": "markdown",
   "metadata": {},
   "source": []
  },
  {
   "cell_type": "code",
   "execution_count": null,
   "metadata": {},
   "outputs": [],
   "source": [
    "import torch\n",
    "from torch import nn\n",
    "\n",
    "def batch_norm(x, gamma, beta, moving_mean,\n",
    "               moving_var, eps, moemntum):\n",
    "    # 通过is_grad_enabled判断当前模式是否为训练模式\n",
    "    if not torch.is_grad_enabled():\n",
    "        x_hat = (x - moving_mean) / torch.sqrt(moving_var + eps)\n",
    "    else:\n",
    "        assert len(x.shape) in (2,4)\n",
    "        if len(x.shape) == 2:\n",
    "            # 使用全连接层的情况，计算特征维上的均值和方差\n",
    "            mean = x.mean(dim=0)\n",
    "            var = ((x - mean) ** 2).mean(dim=0)\n",
    "        else:\n",
    "            # 使用二维卷积层的情况，计算通道维度上（axis=1）的均值和方差。这里我们需要保持\n",
    "            # 这里我们需要保持x的形状以便后面可以做广播运算\n",
    "            mean = x.mean(dim=(0,2,3), keepdim=True)\n",
    "            var = ((x - mean) ** 2).mean(dim=(0,2,3), keepdim=True) \n",
    "        # 训练模式下使用当前的均值和方差做标准化\n",
    "        x_hat = (x - mean) / torch.sqrt(var + eps)  \n",
    "        # 更新移动平均的均值和方差\n",
    "        moving_mean = moemntum * moving_mean + (1.0 - moemntum) * mean\n",
    "        moving_var = moemntum * moving_var + (1.0 - moemntum) * var\n",
    "    y = gamma * x_hat + beta  # 拉伸和偏移\n",
    "    return y, moving_mean, moving_var\n",
    "            \n",
    "        \n"
   ]
  },
  {
   "cell_type": "markdown",
   "metadata": {},
   "source": []
  },
  {
   "cell_type": "markdown",
   "metadata": {},
   "source": []
  },
  {
   "cell_type": "markdown",
   "metadata": {},
   "source": []
  },
  {
   "cell_type": "markdown",
   "metadata": {},
   "source": []
  },
  {
   "cell_type": "markdown",
   "metadata": {},
   "source": []
  },
  {
   "cell_type": "markdown",
   "metadata": {},
   "source": []
  },
  {
   "cell_type": "markdown",
   "metadata": {},
   "source": []
  },
  {
   "cell_type": "markdown",
   "metadata": {},
   "source": []
  },
  {
   "cell_type": "markdown",
   "metadata": {},
   "source": []
  },
  {
   "cell_type": "markdown",
   "metadata": {},
   "source": []
  }
 ],
 "metadata": {
  "kernelspec": {
   "display_name": "kiana",
   "language": "python",
   "name": "python3"
  },
  "language_info": {
   "name": "python",
   "version": "3.10.13"
  }
 },
 "nbformat": 4,
 "nbformat_minor": 2
}
