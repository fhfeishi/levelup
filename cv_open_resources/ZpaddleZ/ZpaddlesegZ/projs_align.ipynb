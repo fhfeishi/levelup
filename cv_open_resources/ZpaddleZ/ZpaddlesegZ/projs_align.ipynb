{
 "cells": [
  {
   "cell_type": "markdown",
   "metadata": {},
   "source": [
    "使用PaddleSeg仓库来构建unet_paddle 人像分割项目。"
   ]
  },
  {
   "cell_type": "markdown",
   "metadata": {},
   "source": [
    "项目结构\n",
    "```python\n",
    "└─-- /unet_paddle\n",
    "        ├─-- /VOCDevkit/VOC2007   # 人像分割数据集\n",
    "                ├─-- /ImageSets/Segmentation  # dataset.txt\n",
    "                ├─-- /JPEGImages     # images\n",
    "                ├─-- /SegmentationClass # mask\n",
    "        ├─-- /PaddleSeg    # PaddleSeg仓库\n",
    "        ├─-- /preweights  # 预训练权重\n",
    "        ├─-- projs_align.ipynb  # 数据处理\n",
    "\n",
    "```"
   ]
  },
  {
   "cell_type": "markdown",
   "metadata": {},
   "source": [
    "PaddleSeg仓库介绍\n",
    "\n",
    "文件结构\n",
    "```python\n",
    "└─-- /PaddleSeg\n",
    "        ├─-- /configs  # 配置\n",
    "        ├─-- /deploy   # 部署\n",
    "        ├─-- /docs     # 文档、教程，建议看\n",
    "        ├─-- /EISeg    # 交互式分割标注软件\n",
    "        ├─-- /Matting  # 精细化分割/影像去背/抠图\n",
    "        ├─-- /paddleseg # paddleseg 包\n",
    "        ├─-- /test_tipc # 飞桨训推一体认证（TIPC）\n",
    "        ├─-- /tests    # 模型测试\n",
    "        ├─-- /tools    # 包含train.py infer.py 等脚本\n",
    "        ├─-- requirements.txt setup.py  # 构建/配置paddleseg环境\n",
    "        ├─-- README.md  # PaddleSeg介绍，优先看\n",
    "\n",
    "```"
   ]
  },
  {
   "cell_type": "markdown",
   "metadata": {},
   "source": [
    "安装PaddleSeg的依赖\n",
    "```bash\n",
    "conda activate pdet\n",
    "cd path/to/PaddleSeg\n",
    "pip pip install -r requirements.txt\n",
    "pip install .\n",
    "```"
   ]
  },
  {
   "cell_type": "markdown",
   "metadata": {},
   "source": [
    "数据集格式整理"
   ]
  },
  {
   "cell_type": "markdown",
   "metadata": {},
   "source": [
    "```python\n",
    "# 人像分割数据集VOCDevkit\n",
    "└─-- /dataset/VOCDevkit\n",
    "        ├─-- /ImageSets/Segmentation # test.txt ...  line:jpg/png文件的文件名\n",
    "        ├─-- /JPEGImages             # *.jpg rgb\n",
    "        ├─-- /SegmentationClass      # *.png 单通道png图 0:背景  1:人\n",
    "\n",
    "# PaddleSeg语义分割数据集格式\n",
    "└─-- /pseg360  \n",
    "        ├─-- /images   # *.jpg\n",
    "        ├─-- /labels   # *.png    #  单通道mask\n",
    "        ├─-- train.txt # line:images/*.jpg labels/*.png\n",
    "        ├─-- val.txt\n",
    "        ├─-- test.txt\n",
    "```"
   ]
  },
  {
   "cell_type": "code",
   "execution_count": 6,
   "metadata": {},
   "outputs": [],
   "source": [
    "# 从数据集VOCDevkit中构建pseg360数据集\n",
    "import os, shutil, tqdm\n",
    "def getdataset_pseg360(src_root=r\"dataset/VOCDevkit/VOC2007\", \n",
    "                       dst_root=r\"PaddleSeg/dataset/pseg360\"):\n",
    "    os.makedirs(dst_root, exist_ok=True)\n",
    "    src_imgd = os.path.join(src_root, \"JPEGImages\")\n",
    "    src_txtd = os.path.join(src_root, \"ImageSets/Segmentation\")\n",
    "    src_mskd = os.path.join(src_root, \"SegmentationClass\")\n",
    "    \n",
    "    tgt_imgd = os.path.join(dst_root, \"images\")\n",
    "    os.makedirs(tgt_imgd, exist_ok=True)\n",
    "    tgt_txtd = dst_root\n",
    "    tgt_mskd = os.path.join(dst_root, \"labels\")\n",
    "    os.makedirs(tgt_mskd,exist_ok=True)\n",
    "    \n",
    "    def copy_files(set_txt_path, srcd, tgtd, img=True):\n",
    "        with open(set_txt_path, \"r\", encoding='utf-8') as f:\n",
    "            names = f.readlines()\n",
    "        \n",
    "        suffix = '.jpg' if img else '.png'\n",
    "        \n",
    "        for name in tqdm.tqdm(names):\n",
    "            name = name.strip()\n",
    "            shutil.copyfile(os.path.join(srcd, name+suffix), \n",
    "                            os.path.join(tgtd, name+suffix))\n",
    "    \n",
    "    def gen_txt(src, tgtd):\n",
    "        with open(src, \"r\", encoding='utf-8') as fil:\n",
    "            lines = fil.readlines()\n",
    "        \n",
    "        lists = open(os.path.join(tgtd, os.path.basename(src)), \"w\", encoding='utf-8')\n",
    "        for ll in lines:\n",
    "            ll = ll.strip()\n",
    "            lists.write(f\"images/{ll}.jpg labels/{ll}.png\\n\")\n",
    "\n",
    "            \n",
    "      \n",
    "    for fi in os.listdir(src_txtd):\n",
    "        if fi != 'trainval.txt':\n",
    "            src_txtf = os.path.join(src_txtd, fi)\n",
    "            copy_files(src_txtf, src_imgd, tgt_imgd, img=True)\n",
    "            copy_files(src_txtf, src_mskd, tgt_mskd, img=False)\n",
    "            gen_txt(src_txtf, tgt_txtd)\n",
    "getdataset_pseg360()"
   ]
  },
  {
   "cell_type": "markdown",
   "metadata": {},
   "source": [
    "- 配置 PaddleSeg/configs/unet\n",
    "    - \n",
    "    - \n",
    "    - \n",
    "    - "
   ]
  },
  {
   "cell_type": "markdown",
   "metadata": {},
   "source": [
    "```yaml\n",
    "batch_size: 4  # batch_size\n",
    "iters: 1000    # 模型训练迭代的轮数\n",
    "\n",
    "train_dataset:  # 训练数据设置\n",
    "  type: Dataset # 指定加载数据集的类。数据集类的代码在`PaddleSeg/paddleseg/datasets`目录下。\n",
    "  dataset_root: dataset/pseg360 #数据集路径\n",
    "  train_path: dataset/pseg360/train_list.txt  #数据集中用于训练的标识文件\n",
    "  num_classes: 2  # 指定类别个数（背景也算为一类）\n",
    "  mode: train # 表示用于训练\n",
    "  transforms: # 模型训练的数据预处理方式。\n",
    "    - type: ResizeStepScaling #将原始图像和标注图像随机缩放为0.5~2.0倍\n",
    "      min_scale_factor: 0.5\n",
    "      max_scale_factor: 2.0\n",
    "      scale_step_size: 0.25\n",
    "    - type: RandomPaddingCrop #从原始图像和标注图像中随机裁剪512x512大小\n",
    "      crop_size: [64, 64]\n",
    "    - type: RandomHorizontalFlip  #对原始图像和标注图像随机进行水平反转\n",
    "    - type: RandomDistort #对原始图像进行亮度、对比度、饱和度随机变动，标注图像不变\n",
    "      brightness_range: 0.5\n",
    "      contrast_range: 0.5\n",
    "      saturation_range: 0.5\n",
    "    - type: Normalize #对原始图像进行归一化，标注图像保持不变\n",
    "\n",
    "val_dataset:  #验证数据设置\n",
    "  type: Dataset #指定加载数据集的类。数据集类的代码在`PaddleSeg/paddleseg/datasets`目录下。\n",
    "  dataset_root: data/optic_disc_seg #数据集路径\n",
    "  val_path: data/optic_disc_seg/val_list.txt  #数据集中用于验证的标识文件\n",
    "  num_classes: 2  #指定类别个数（背景也算为一类）\n",
    "  mode: val #表示用于验证\n",
    "  transforms: #模型验证的数据预处理的方式\n",
    "    - type: Normalize #对原始图像进行归一化，标注图像保持不变\n",
    "\n",
    "optimizer: #设定优化器的类型\n",
    "  type: SGD #采用SGD（Stochastic Gradient Descent）随机梯度下降方法为优化器\n",
    "  momentum: 0.9 #设置SGD的动量\n",
    "  weight_decay: 4.0e-5 #权值衰减，使用的目的是防止过拟合\n",
    "\n",
    "lr_scheduler: # 学习率的相关设置\n",
    "  type: PolynomialDecay # 一种学习率类型。共支持12种策略\n",
    "  learning_rate: 0.01 # 初始学习率\n",
    "  power: 0.9\n",
    "  end_lr: 0\n",
    "\n",
    "loss: #设定损失函数的类型\n",
    "  types:\n",
    "    - type: CrossEntropyLoss  #CE损失\n",
    "  coef: [1, 1, 1] # PP-LiteSeg有一个主loss和两个辅助loss，coef表示权重，所以 total_loss = coef_1 * loss_1 + .... + coef_n * loss_n\n",
    "\n",
    "model:  #模型说明\n",
    "  type: PPLiteSeg  #设定模型类别\n",
    "  backbone:  # 设定模型的backbone，包括名字和预训练权重\n",
    "    type: STDC2\n",
    "    pretrained: https://bj.bcebos.com/paddleseg/dygraph/PP_STDCNet2.tar.gz\n",
    "```"
   ]
  },
  {
   "cell_type": "markdown",
   "metadata": {},
   "source": [
    "train\n",
    "\n",
    "```bash\n",
    "python tools/train.py --config configs/unet/unet_pseg360_main.yml --use_vdl --save_interval 500 --save_dir output\n",
    "\n",
    "```\n",
    "```bash\n",
    "python tools/train.py --config configs/unet/unet_pseg360_main.yml   --do_eval --use_vdl --save_interval 500 --save_dir output\n",
    "\n",
    "```"
   ]
  },
  {
   "cell_type": "markdown",
   "metadata": {},
   "source": [
    "infer\n",
    "```bash\n",
    "python tools/predict.py --config configs/unet/unet_pseg360_main.yml --model_path output/path/to/model.pdparams --image_path dataset/pseg360/images/xx.jpg --save_dir output/result\n",
    "\n",
    "```"
   ]
  },
  {
   "cell_type": "markdown",
   "metadata": {},
   "source": [
    "test\n",
    "```bash\n",
    "python tools/val.py --config configs/unet/unet_pseg360_main.yml --model_path output/path/to/model.pdparams \n",
    "\n",
    "```"
   ]
  },
  {
   "cell_type": "markdown",
   "metadata": {},
   "source": [
    "paddleseg  用Dataset 类  -> val 会因为验证集数据 size不一样 而报错"
   ]
  }
 ],
 "metadata": {
  "kernelspec": {
   "display_name": "pdet",
   "language": "python",
   "name": "python3"
  },
  "language_info": {
   "codemirror_mode": {
    "name": "ipython",
    "version": 3
   },
   "file_extension": ".py",
   "mimetype": "text/x-python",
   "name": "python",
   "nbconvert_exporter": "python",
   "pygments_lexer": "ipython3",
   "version": "3.9.21"
  },
  "orig_nbformat": 4
 },
 "nbformat": 4,
 "nbformat_minor": 2
}
