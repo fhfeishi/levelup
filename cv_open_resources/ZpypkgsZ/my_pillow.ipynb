{
 "cells": [
  {
   "cell_type": "code",
   "execution_count": 1,
   "metadata": {},
   "outputs": [
    {
     "name": "stdout",
     "output_type": "stream",
     "text": [
      "Name: pillow\n",
      "Version: 10.2.0\n",
      "Summary: Python Imaging Library (Fork)\n",
      "Home-page: \n",
      "Author: \n",
      "Author-email: \"Jeffrey A. Clark (Alex)\" <aclark@aclark.net>\n",
      "License: HPND\n",
      "Location: d:\\anaconda\\envs\\mmdata\\lib\\site-packages\n",
      "Requires: \n",
      "Required-by: fvcore, imageio, imgviz, labelme, matplotlib, scikit-image, torchvision\n"
     ]
    }
   ],
   "source": [
    "!pip show pillow"
   ]
  },
  {
   "cell_type": "code",
   "execution_count": 2,
   "metadata": {},
   "outputs": [],
   "source": [
    "from PIL import Image, ImageDraw, ImageFont"
   ]
  },
  {
   "cell_type": "code",
   "execution_count": 6,
   "metadata": {},
   "outputs": [],
   "source": [
    "from IPython.display import display  # 导入display函数用于显示图片"
   ]
  },
  {
   "cell_type": "code",
   "execution_count": 8,
   "metadata": {},
   "outputs": [
    {
     "name": "stdout",
     "output_type": "stream",
     "text": [
      "(10, 12, 115, 22)\n",
      "text width: 105\n",
      "text height: 10\n"
     ]
    },
    {
     "data": {
      "image/jpeg": "[encoded data removed]",
      "image/png": "[encoded data removed]",
      "text/plain": [
       "<PIL.Image.Image image mode=RGB size=200x100>"
      ]
     },
     "metadata": {},
     "output_type": "display_data"
    }
   ],
   "source": [
    "# ImageDraw.textbbox()\n",
    "# 这个函数用于获取单行文本在图像上的绘制区域。返回一个表示文本边框的四元组，格式为(left, top, right, bottom)。\n",
    "# xy：文本开始的位置坐标。\n",
    "# text：要绘制的文本字符串。\n",
    "# font：用于绘制文本的字体对象。\n",
    "# anchor：可选，指定文本的锚点，影响文本布局的起始位置。\n",
    "\n",
    "image = Image.new('RGB', (200, 100), color = (73, 173, 222))\n",
    "draw = ImageDraw.Draw(image)\n",
    "font = ImageFont.load_default()\n",
    "\n",
    "text = \"hello, my pillow 10.2.0!\"\n",
    "bbox = draw.textbbox((10, 10), text, font = font)  # (text)\n",
    "print(bbox)\n",
    "t_left, t_top, t_right, t_bottom = bbox\n",
    "print(\"text width:\", abs(t_left-t_right))\n",
    "print(\"text height:\", abs(t_top-t_bottom))\n",
    "\n",
    "draw.rectangle(bbox, outline='yellow')\n",
    "draw.text((10, 10), text, fill='white', font=font)\n",
    "\n",
    "# image.show()\n",
    "display(image)\n",
    "\n"
   ]
  },
  {
   "cell_type": "code",
   "execution_count": null,
   "metadata": {},
   "outputs": [],
   "source": []
  },
  {
   "cell_type": "code",
   "execution_count": null,
   "metadata": {},
   "outputs": [],
   "source": []
  },
  {
   "cell_type": "code",
   "execution_count": null,
   "metadata": {},
   "outputs": [],
   "source": []
  },
  {
   "cell_type": "code",
   "execution_count": null,
   "metadata": {},
   "outputs": [],
   "source": []
  },
  {
   "cell_type": "code",
   "execution_count": null,
   "metadata": {},
   "outputs": [],
   "source": []
  },
  {
   "cell_type": "code",
   "execution_count": null,
   "metadata": {},
   "outputs": [],
   "source": []
  },
  {
   "cell_type": "code",
   "execution_count": null,
   "metadata": {},
   "outputs": [],
   "source": []
  },
  {
   "cell_type": "code",
   "execution_count": null,
   "metadata": {},
   "outputs": [],
   "source": []
  },
  {
   "cell_type": "code",
   "execution_count": null,
   "metadata": {},
   "outputs": [],
   "source": []
  },
  {
   "cell_type": "code",
   "execution_count": null,
   "metadata": {},
   "outputs": [],
   "source": []
  },
  {
   "cell_type": "code",
   "execution_count": null,
   "metadata": {},
   "outputs": [],
   "source": []
  },
  {
   "cell_type": "code",
   "execution_count": null,
   "metadata": {},
   "outputs": [],
   "source": []
  },
  {
   "cell_type": "code",
   "execution_count": null,
   "metadata": {},
   "outputs": [],
   "source": []
  }
 ],
 "metadata": {
  "kernelspec": {
   "display_name": "mmdata",
   "language": "python",
   "name": "python3"
  },
  "language_info": {
   "codemirror_mode": {
    "name": "ipython",
    "version": 3
   },
   "file_extension": ".py",
   "mimetype": "text/x-python",
   "name": "python",
   "nbconvert_exporter": "python",
   "pygments_lexer": "ipython3",
   "version": "3.10.13"
  },
  "orig_nbformat": 4
 },
 "nbformat": 4,
 "nbformat_minor": 2
}
