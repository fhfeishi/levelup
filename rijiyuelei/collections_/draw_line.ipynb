{
 "cells": [
  {
   "cell_type": "markdown",
   "metadata": {},
   "source": [
    "# ```-->.  .<---```"
   ]
  },
  {
   "cell_type": "code",
   "execution_count": 2,
   "metadata": {},
   "outputs": [],
   "source": [
    "import numpy as np\n",
    "from matplotlib import pyplot as plt\n",
    "# #1# plt\n",
    "def draw_line(image, p1, p2, thick=1, color=\"black\", arrow_length=100):\n",
    "    # 设置图像\n",
    "    fig, ax = plt.subplots()\n",
    "    ax.set_aspect('equal')\n",
    "    if image is not None:\n",
    "        ax.imshow(image)\n",
    "    \n",
    "    # 计算两点之间的单位向量\n",
    "    direction = np.array(p2) - np.array(p1)\n",
    "    norm = np.linalg.norm(direction)\n",
    "    unit_direction = direction / norm if norm != 0 else np.zeros_like(direction)\n",
    "    \n",
    "    # 计算短箭头的起点\n",
    "    arrow_p1_start = np.array(p1) - unit_direction * arrow_length\n",
    "    arrow_p2_start = np.array(p2) + unit_direction * arrow_length\n",
    "    \n",
    "    # 绘制箭头\n",
    "    ax.annotate('', xy=p1, xytext=arrow_p1_start, arrowprops=dict(arrowstyle=\"->\", color=color, lw=thick))\n",
    "    ax.annotate('', xy=p2, xytext=arrow_p2_start, arrowprops=dict(arrowstyle=\"->\", color=color, lw=thick))\n",
    "    \n",
    "    # # 设置图形限制，留出足够空间显示箭头\n",
    "    # buffer = arrow_length + 1\n",
    "    # plt.xlim(min(p1[0], p2[0]) - buffer, max(p1[0], p2[0]) + buffer)\n",
    "    # plt.ylim(min(p1[1], p2[1]) - buffer, max(p1[1], p2[1]) + buffer)\n",
    "    # plt.show()"
   ]
  },
  {
   "cell_type": "code",
   "execution_count": 6,
   "metadata": {},
   "outputs": [],
   "source": [
    "# #2# opencv\n",
    "import cv2\n",
    "def draw_line(image, p1, p2, thick=1, color=(0, 0, 0), arrow_length=50):\n",
    "    \n",
    "    # 计算方向向量\n",
    "    direction = np.array(p2) - np.array(p1)\n",
    "    norm = np.linalg.norm(direction)\n",
    "    unit_direction = direction / norm if norm != 0 else np.zeros_like(direction)\n",
    "    \n",
    "    # 计算箭头的终点\n",
    "    arrow_p1_start = tuple(np.int32(np.array(p1) - unit_direction * arrow_length))\n",
    "    arrow_p2_start = tuple(np.int32(np.array(p2) + unit_direction * arrow_length))\n",
    "    \n",
    "    # 绘制箭头\n",
    "    cv2.arrowedLine(image, arrow_p1_start, tuple(p1), color, thickness=thick, tipLength=0.05)\n",
    "    cv2.arrowedLine(image, arrow_p2_start, tuple(p2), color, thickness=thick, tipLength=0.05)\n",
    "\n",
    "    return image\n",
    "\n",
    "# 示例调用\n",
    "image = np.zeros((500, 500, 3), dtype=np.uint8)  # 创建黑色背景图像\n",
    "p1 = (100, 100)\n",
    "p2 = (400, 100)\n",
    "color = (0, 0, 255)  # 红色BGR\n",
    "thick = 2\n",
    "\n",
    "result_image = draw_line(image, p1, p2, thick, color)\n",
    "\n",
    "cv2.imshow(\"Image with Arrowed Line\", result_image)\n",
    "cv2.waitKey(0)\n",
    "cv2.destroyAllWindows()"
   ]
  },
  {
   "cell_type": "code",
   "execution_count": null,
   "metadata": {},
   "outputs": [],
   "source": []
  }
 ],
 "metadata": {
  "kernelspec": {
   "display_name": "yoloenv",
   "language": "python",
   "name": "python3"
  },
  "language_info": {
   "codemirror_mode": {
    "name": "ipython",
    "version": 3
   },
   "file_extension": ".py",
   "mimetype": "text/x-python",
   "name": "python",
   "nbconvert_exporter": "python",
   "pygments_lexer": "ipython3",
   "version": "3.8.19"
  },
  "orig_nbformat": 4
 },
 "nbformat": 4,
 "nbformat_minor": 2
}
