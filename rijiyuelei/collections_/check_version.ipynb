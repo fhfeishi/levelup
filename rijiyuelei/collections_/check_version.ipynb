{
 "cells": [
  {
   "cell_type": "code",
   "execution_count": null,
   "metadata": {},
   "outputs": [],
   "source": [
    "from importlib.metadata import version, PackageNotFoundError\n",
    "\n",
    "# python > 3.8 \n",
    "# 版本号字符串比大小，这里用官方的工具转一下再比较\n",
    "def check_version(current: str = \"0.0.0\",\n",
    "                  minimum: str = \"0.0.0\",\n",
    "                  name: str = \"version \",\n",
    "                  pinned: bool = False) -> bool:\n",
    "    try:\n",
    "        # 使用 importlib.metadata 来获取当前版本\n",
    "        current_version = version(name)\n",
    "        current = current_version if current == \"0.0.0\" else current\n",
    "    except PackageNotFoundError:\n",
    "        # 如果找不到包，说明可能未安装\n",
    "        print(f\"{name} package not found\")\n",
    "        return False\n",
    "\n",
    "    # 版本号比较\n",
    "    result = (current == minimum) if pinned else (current >= minimum)\n",
    "    return result\n"
   ]
  }
 ],
 "metadata": {
  "language_info": {
   "name": "python"
  },
  "orig_nbformat": 4
 },
 "nbformat": 4,
 "nbformat_minor": 2
}
