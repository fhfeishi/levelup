{
 "cells": [
  {
   "cell_type": "code",
   "execution_count": 4,
   "metadata": {},
   "outputs": [
    {
     "name": "stdout",
     "output_type": "stream",
     "text": [
      "i=9\n",
      "before case1=[9, 2, 3, 4, 2, 3, 2, 2, 1]\n",
      "after case1=[9, 2, 3, 4, 2, 3, 2, 2, 1]\n",
      "i=2\n",
      "before case1=[9, 2, 3, 4, 2, 3, 2, 2, 1]\n",
      "after case1=[9, 3, 4, 2, 3, 2, 2, 1]\n",
      "i=4\n",
      "before case1=[9, 3, 4, 2, 3, 2, 2, 1]\n",
      "after case1=[9, 3, 2, 3, 2, 2, 1]\n",
      "i=3\n",
      "before case1=[9, 3, 2, 3, 2, 2, 1]\n",
      "after case1=[9, 3, 2, 3, 2, 2, 1]\n",
      "i=2\n",
      "before case1=[9, 3, 2, 3, 2, 2, 1]\n",
      "after case1=[9, 3, 3, 2, 2, 1]\n",
      "i=1\n",
      "before case1=[9, 3, 3, 2, 2, 1]\n",
      "after case1=[9, 3, 3, 2, 2, 1]\n"
     ]
    },
    {
     "data": {
      "text/plain": [
       "[9, 3, 3, 2, 2, 1]"
      ]
     },
     "execution_count": 4,
     "metadata": {},
     "output_type": "execute_result"
    }
   ],
   "source": [
    "case1 = [9,2,3,4,2,3,2,2,1]\n",
    "for i in case1:\n",
    "    print(f\"{i=}\")\n",
    "    print(f\"before {case1=}\")\n",
    "    if i%2 == 0:\n",
    "        case1.remove(i)\n",
    "    print(f\"after {case1=}\")\n",
    "    \n",
    "# jishu_case1 = [i for i in case1 if i%2 != 0]\n",
    "case1 # [9, 3, 3, 2, 2, 1]\n",
    "\n",
    "# remove(i) 删除的是当前匹配的元素，这样就改变了列表的长度，导致一些元素被跳过，因为迭代器的位置已经前进了。"
   ]
  },
  {
   "cell_type": "code",
   "execution_count": 6,
   "metadata": {},
   "outputs": [
    {
     "name": "stdout",
     "output_type": "stream",
     "text": [
      "5\n"
     ]
    }
   ],
   "source": [
    "case3 = ['a', 'b','c', 'd', 'e',]\n",
    "print(len(case3))"
   ]
  },
  {
   "cell_type": "code",
   "execution_count": 15,
   "metadata": {},
   "outputs": [
    {
     "name": "stdout",
     "output_type": "stream",
     "text": [
      "5\n"
     ]
    }
   ],
   "source": [
    "case33 = ['a', 'b', 'c', 'd', 'e',]\n",
    "print(len(case33))"
   ]
  },
  {
   "cell_type": "code",
   "execution_count": 7,
   "metadata": {},
   "outputs": [
    {
     "name": "stdout",
     "output_type": "stream",
     "text": [
      "abc\n"
     ]
    }
   ],
   "source": [
    "case4 = ['abc',]\n",
    "for i in case4:\n",
    "    print(i)"
   ]
  },
  {
   "cell_type": "code",
   "execution_count": 8,
   "metadata": {},
   "outputs": [
    {
     "name": "stdout",
     "output_type": "stream",
     "text": [
      "abc\n"
     ]
    }
   ],
   "source": [
    "case44 = ['abc']\n",
    "for i in case44:\n",
    "    print(i)"
   ]
  },
  {
   "cell_type": "code",
   "execution_count": 9,
   "metadata": {},
   "outputs": [
    {
     "name": "stdout",
     "output_type": "stream",
     "text": [
      "a\n",
      "b\n",
      "c\n"
     ]
    }
   ],
   "source": [
    "case444 = ('abc')\n",
    "for i in case444:\n",
    "    print(i)"
   ]
  },
  {
   "cell_type": "code",
   "execution_count": 12,
   "metadata": {},
   "outputs": [
    {
     "data": {
      "text/plain": [
       "['b', 'c', 'd']"
      ]
     },
     "execution_count": 12,
     "metadata": {},
     "output_type": "execute_result"
    }
   ],
   "source": [
    "list(str('bcd'))"
   ]
  },
  {
   "cell_type": "code",
   "execution_count": 13,
   "metadata": {},
   "outputs": [
    {
     "data": {
      "text/plain": [
       "('b', 'c', 'd')"
      ]
     },
     "execution_count": 13,
     "metadata": {},
     "output_type": "execute_result"
    }
   ],
   "source": [
    "tuple(str('bcd'))"
   ]
  },
  {
   "cell_type": "code",
   "execution_count": null,
   "metadata": {},
   "outputs": [],
   "source": [
    "xx = (x for x in range(100000)) \n",
    "# 生成器表达式，更省内存\n"
   ]
  }
 ],
 "metadata": {
  "kernelspec": {
   "display_name": "kiana",
   "language": "python",
   "name": "python3"
  },
  "language_info": {
   "codemirror_mode": {
    "name": "ipython",
    "version": 3
   },
   "file_extension": ".py",
   "mimetype": "text/x-python",
   "name": "python",
   "nbconvert_exporter": "python",
   "pygments_lexer": "ipython3",
   "version": "3.10.13"
  }
 },
 "nbformat": 4,
 "nbformat_minor": 2
}
