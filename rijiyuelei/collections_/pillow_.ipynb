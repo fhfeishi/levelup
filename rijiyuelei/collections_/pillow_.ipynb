{
 "cells": [
  {
   "cell_type": "code",
   "execution_count": null,
   "metadata": {},
   "outputs": [],
   "source": [
    "# pillow 与 9.2.0 用于计算渲染文本的大小和偏移量的几个函数已被弃用，并将在 Pillow 10 中删除 （2023-07-01）\n",
    "# https://pillow.readthedocs.io/en/stable/releasenotes/9.2.0.html"
   ]
  },
  {
   "cell_type": "code",
   "execution_count": 1,
   "metadata": {},
   "outputs": [
    {
     "data": {
      "text/plain": [
       "'10.3.0'"
      ]
     },
     "execution_count": 1,
     "metadata": {},
     "output_type": "execute_result"
    }
   ],
   "source": [
    "# get pillow version\n",
    "import PIL \n",
    "PIL.__version__"
   ]
  },
  {
   "cell_type": "code",
   "execution_count": null,
   "metadata": {},
   "outputs": [],
   "source": [
    "# check_version: package\n",
    "import pkg_resources as pkg\n",
    "def check_version(current: str='0.0.0',\n",
    "                  minimum: str='0.0.0',\n",
    "                  name: str='version',\n",
    "                  pinned: bool=False) -> bool:\n",
    "    current, minimum = (pkg.parse_version(x) for x in (current, minimum))\n",
    "    result = (current == minimum) if pinned else (current >= minimum)\n",
    "    return result"
   ]
  },
  {
   "cell_type": "code",
   "execution_count": null,
   "metadata": {},
   "outputs": [],
   "source": [
    "# ImageDraw.textsize()\n",
    "\n",
    "# old\n",
    "from PIL import Image, ImageDraw, ImageFont\n",
    "\n",
    "font = ImageFont.truetype(\"Tests/fonts/FreeMono.ttf\")\n",
    "width, height = font.getsize(\"Hello world\")\n",
    "left, top = font.getoffset(\"Hello world\")\n",
    "\n",
    "im = Image.new(\"RGB\", (100, 100))\n",
    "draw = ImageDraw.Draw(im)\n",
    "width, height = draw.textsize(\"Hello world\", font)\n",
    "\n",
    "width, height = font.getsize_multiline(\"Hello\\nworld\")\n",
    "width, height = draw.multiline_textsize(\"Hello\\nworld\", font)\n"
   ]
  },
  {
   "cell_type": "code",
   "execution_count": null,
   "metadata": {},
   "outputs": [],
   "source": [
    "# new\n",
    "from PIL import Image, ImageDraw, ImageFont\n",
    "\n",
    "font = ImageFont.truetype(\"Tests/fonts/FreeMono.ttf\")\n",
    "left, top, right, bottom = font.getbbox(\"Hello world\")\n",
    "width, height = right - left, bottom - top\n",
    "\n",
    "im = Image.new(\"RGB\", (100, 100))\n",
    "draw = ImageDraw.Draw(im)\n",
    "width = draw.textlength(\"Hello world\", font)\n",
    "\n",
    "left, top, right, bottom = draw.multiline_textbbox((0, 0), \"Hello\\nworld\", font)\n",
    "width, height = right - left, bottom - top"
   ]
  }
 ],
 "metadata": {
  "kernelspec": {
   "display_name": "kiana",
   "language": "python",
   "name": "python3"
  },
  "language_info": {
   "codemirror_mode": {
    "name": "ipython",
    "version": 3
   },
   "file_extension": ".py",
   "mimetype": "text/x-python",
   "name": "python",
   "nbconvert_exporter": "python",
   "pygments_lexer": "ipython3",
   "version": "3.10.13"
  }
 },
 "nbformat": 4,
 "nbformat_minor": 2
}
