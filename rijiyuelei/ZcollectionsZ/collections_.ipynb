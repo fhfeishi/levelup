{
 "cells": [
  {
   "cell_type": "markdown",
   "metadata": {},
   "source": [
    "# collections"
   ]
  },
  {
   "cell_type": "code",
   "execution_count": 1,
   "metadata": {},
   "outputs": [],
   "source": [
    "# collections\n",
    "\n",
    "# collections模块提供了几种额外的具体的容器数据类型，比如：\n",
    "# Counter: 用于计数可哈希对象，是字典的子类，提供了元素计数的能力。\n",
    "# defaultdict: 类似于字典，但是它允许调用者在键不存在时返回一个默认值。\n",
    "# OrderedDict: 是一个字典的子类，它保持了键的插入顺序。\n",
    "# deque: 提供了一个双端队列，支持从前端或后端添加和移除元素，具有高效的性能。"
   ]
  },
  {
   "cell_type": "markdown",
   "metadata": {},
   "source": [
    "# collections.abc"
   ]
  },
  {
   "cell_type": "code",
   "execution_count": 2,
   "metadata": {},
   "outputs": [],
   "source": [
    "# collections.abc\n",
    "\n",
    "# collections.abc（Abstract Base Classes for Containers）提供了一系列抽象基类，\n",
    "# 这些基类用于定义容器必须实现的一组方法，使得它们能够执行容器类型应该提供的操作。\n",
    "\n",
    "# 例如：\n",
    "# Iterable: 任何实现了 __iter__() 方法的类，这使得对象能够返回其成员，一次一个。\n",
    "# Iterator: 实现了 __next__() 方法的类，这使得对象可以进行迭代。\n",
    "# Sized: 实现了 __len__() 方法的类，这使得对象可以返回其长度。\n",
    "# Container: 实现了 __contains__() 方法的类，这使得可以使用 in 关键字检查成员是否存在于容器中。\n",
    "# Collection: 同时继承了 Iterable、Sized 和 Container，为基本的集合接口提供支持。\n"
   ]
  },
  {
   "cell_type": "markdown",
   "metadata": {},
   "source": [
    "# typring"
   ]
  },
  {
   "cell_type": "code",
   "execution_count": 3,
   "metadata": {},
   "outputs": [],
   "source": [
    "# typring\n",
    "\n",
    "# typing模块主要用于支持Python的类型注释。这个模块提供了一系列用于描述函数参数和返回值类型的类和函数。\n",
    "\n",
    "# 例如：\n",
    "# List, Dict, Set, Tuple: 用于指定具体类型的列表、字典、集合和元组。\n",
    "# Union: 表示变量可以是多种类型中的一种。\n",
    "# Optional: 表示变量可以是指定的类型或者是None。"
   ]
  },
  {
   "cell_type": "markdown",
   "metadata": {},
   "source": [
    "# yield"
   ]
  },
  {
   "cell_type": "code",
   "execution_count": 1,
   "metadata": {},
   "outputs": [
    {
     "name": "stdout",
     "output_type": "stream",
     "text": [
      "1\n",
      "2\n",
      "3\n",
      "4\n",
      "5\n"
     ]
    }
   ],
   "source": [
    "# yield\n",
    "# yield 关键字用于从函数返回一个值，但与 return 不同，\n",
    "# yield 会返回一个生成器（generator），\n",
    "# 这是一种特殊类型的迭代器。使用 yield 的函数被称为生成器函数。\n",
    "# 当生成器函数被调用时，它的执行会在包含 yield 的位置暂停，并返回一个值。\n",
    "# 下次迭代到该生成器时，函数将从停止的位置继续执行，直到遇到下一个 yield 或终止。\n",
    "\n",
    "# 这种行为使得 yield 非常适合处理大型数据集，\n",
    "# 因为它允许按需生成数据而不是一次性加载到内存中。\n",
    "# 例如，一个简单的生成器函数可以这样定义：\n",
    "def count_up_to(max):\n",
    "    count = 1\n",
    "    while count <= max:\n",
    "        yield count\n",
    "        count += 1\n",
    "\n",
    "counter = count_up_to(5)\n",
    "for num in counter:\n",
    "    print(num)\n",
    "\n",
    "# 这段代码将输出从1到5的数字，每次调用 yield 时都返回当前的 count 值。"
   ]
  },
  {
   "cell_type": "markdown",
   "metadata": {},
   "source": [
    "## yield from"
   ]
  },
  {
   "cell_type": "code",
   "execution_count": 2,
   "metadata": {},
   "outputs": [
    {
     "name": "stdout",
     "output_type": "stream",
     "text": [
      "1\n",
      "2\n",
      "3\n",
      "1\n",
      "2\n",
      "3\n"
     ]
    }
   ],
   "source": [
    "# yield from 是在Python 3.3中引入的，用于从另一个生成器中生成所有值。\n",
    "# 它是用来简化在生成器中使用其他生成器或可迭代对象的代码的。\n",
    "# 当你使用 yield from 时，当前生成器会暂停，控制权和状态会传递到 yield from 后面的生成器或可迭代对象。\n",
    "\n",
    "# 使用 yield from 可以避免生成器嵌套的复杂性，并使代码更简洁易读。\n",
    "# 例如，假设我们有另一个生成器函数，我们想在一个生成器中使用它：\n",
    "\n",
    "def count_up_to(max):\n",
    "    count = 1\n",
    "    while count <= max:\n",
    "        yield count\n",
    "        count += 1\n",
    "\n",
    "def count_twice(x):\n",
    "    yield from count_up_to(x)\n",
    "    yield from count_up_to(x)\n",
    "\n",
    "counter = count_twice(3)\n",
    "for num in counter:\n",
    "    print(num)\n",
    "\n",
    "# 这段代码将输出1到3两次。在 count_twice 函数中，\n",
    "# yield from count_up_to(x) 使得所有来自 count_up_to 的值都被一个接一个地产生。\n"
   ]
  },
  {
   "cell_type": "code",
   "execution_count": null,
   "metadata": {},
   "outputs": [],
   "source": []
  }
 ],
 "metadata": {
  "kernelspec": {
   "display_name": "kiana",
   "language": "python",
   "name": "python3"
  },
  "language_info": {
   "codemirror_mode": {
    "name": "ipython",
    "version": 3
   },
   "file_extension": ".py",
   "mimetype": "text/x-python",
   "name": "python",
   "nbconvert_exporter": "python",
   "pygments_lexer": "ipython3",
   "version": "3.10.13"
  }
 },
 "nbformat": 4,
 "nbformat_minor": 2
}
