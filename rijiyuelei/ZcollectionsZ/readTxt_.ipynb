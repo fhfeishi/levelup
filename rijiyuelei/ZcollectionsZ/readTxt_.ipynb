{
 "cells": [
  {
   "cell_type": "code",
   "execution_count": null,
   "metadata": {},
   "outputs": [],
   "source": [
    "# 一行一行的读\n",
    "def read_txt_file(txt_path):\n",
    "    with open(txt_path, 'r') as file:\n",
    "        lines = file.readlines()\n",
    "    xml_files = [line.strip() for line in lines]\n",
    "    return xml_files"
   ]
  },
  {
   "cell_type": "code",
   "execution_count": null,
   "metadata": {},
   "outputs": [],
   "source": [
    "# 读出来一行"
   ]
  },
  {
   "cell_type": "code",
   "execution_count": null,
   "metadata": {},
   "outputs": [],
   "source": [
    "# 写"
   ]
  }
 ],
 "metadata": {
  "language_info": {
   "name": "python"
  },
  "orig_nbformat": 4
 },
 "nbformat": 4,
 "nbformat_minor": 2
}
