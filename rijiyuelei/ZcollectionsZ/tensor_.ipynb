{
 "cells": [
  {
   "cell_type": "code",
   "execution_count": 1,
   "metadata": {},
   "outputs": [],
   "source": [
    "# n维数组   -  list 嵌套列表    -   torch.Tensor\n",
    "\n",
    "# numpy ndarray  :   提供了广泛的数学和统计函数库，可以进行快速的数组操作，如矩阵乘法、转置、维度变换等。\n",
    "#                  在内存中是连续存储的，这意味着它们可以支持高效的数据访问和向量化操作，减少了循环和其他开销。\n",
    "#                  由于其底层优化和 C 语言实现，对于数值运算来说速度很快。\n",
    "\n",
    "# python list    :   支持各种类型的数据，包括列表、字典、对象等。操作简单，如添加、删除元素等，\n",
    "#                  但在进行数学运算时通常需要额外的循环或库。\n",
    "#                  Python 的列表是一种动态数组，可以存储不同类型的数据元素。\n",
    "#                  嵌套列表可以模拟多维数组，但每个子列表可以有不同的长度和类型，\n",
    "#                  这种灵活性意味着对内存的利用和访问速度可能不如专门的数组类型。\n",
    "\n",
    "# torch tensor   :   除了支持类似 NumPy 的操作外，还可以进行反向传播和梯度计算\n",
    "#                  类似于 NumPy 数组，但是它优化了可以在 GPU 或其他硬件加速器上运行。\n",
    "\n",
    "import torch\n",
    "import numpy as np"
   ]
  },
  {
   "cell_type": "code",
   "execution_count": 2,
   "metadata": {},
   "outputs": [],
   "source": [
    "# 生成序列 Arange\n",
    "\n",
    "# NumPy ndarray   ： np.arange 生成值在指定的间隔内均匀分布的数组，类似于 Python 的 range 但返回 ndarray。\n",
    "# Python List     ： range 函数生成一个整数列表，通常用在循环中。可以转换为列表，如 list(range(10))。\n",
    "# PyTorch Tensor  ： torch.arange 与 NumPy 的 arange 类似，但输出为 tensor。"
   ]
  },
  {
   "cell_type": "code",
   "execution_count": 3,
   "metadata": {},
   "outputs": [],
   "source": [
    "# a = [\n",
    "#     [1,2],\n",
    "#     [2]\n",
    "# ]\n",
    "\n",
    "# a_nda_ = np.array(a)\n",
    "# print(f'{a_nda_ = }')  # 不能转，"
   ]
  },
  {
   "cell_type": "code",
   "execution_count": 4,
   "metadata": {},
   "outputs": [],
   "source": [
    "# 切片 slicing\n",
    "\n",
    "# NumPy ndarray :支持多维切片，例如，array[1:5, :3] \n",
    "# python list   :支持基本的切片，但仅限于一维。多维切片需要通过嵌套列表解析或循环实现。例如，list[1:5]。\n",
    "# torch tensor  :类似于 NumPy，支持多维切片。例如，tensor[:, :3]。"
   ]
  },
  {
   "cell_type": "code",
   "execution_count": 5,
   "metadata": {},
   "outputs": [],
   "source": [
    "# 拼接 Concatenate\n",
    "\n",
    "# NumPy ndarray  : 使用 np.concatenate（或更高级的 np.hstack 和 np.vstack 等）可以沿着一个现有的轴连接数组序列。\n",
    "# Python List    : 使用加号（+）直接连接列表。例如，list1 + list2\n",
    "# PyTorch Tensor ：使用 torch.cat 可以沿指定的维度连接多个 tensor。\n"
   ]
  },
  {
   "cell_type": "code",
   "execution_count": 6,
   "metadata": {},
   "outputs": [],
   "source": [
    "# 堆叠 Stack\n",
    "\n",
    "# NumPy ndarray  : np.stack 将数组序列堆叠为一个新的数组。不同于 concatenate，stack 会创建一个新的维度。\n",
    "# Python List    : 堆叠通常意味着创建嵌套列表，或者使用列表解析式来组合多个列表。\n",
    "# PyTorch Tensor ：torch.stack 类似于 NumPy，但用于 tensor。\n"
   ]
  },
  {
   "cell_type": "code",
   "execution_count": 7,
   "metadata": {},
   "outputs": [
    {
     "name": "stdout",
     "output_type": "stream",
     "text": [
      "np_slice = array([[3, 4]])\n",
      "np_cat =array([[0, 1, 2, 3, 4],\n",
      "       [5, 6, 7, 8, 9],\n",
      "       [0, 1, 2, 3, 4],\n",
      "       [5, 6, 7, 8, 9]])\n",
      "np_stack =array([[[0, 1, 2, 3, 4],\n",
      "        [5, 6, 7, 8, 9]],\n",
      "\n",
      "       [[0, 1, 2, 3, 4],\n",
      "        [5, 6, 7, 8, 9]]])\n",
      "py_list = [0, 1, 2, 3, 4, 5, 6, 7, 8, 9]\n",
      "py_slice =[3, 4, 5, 6]\n",
      "py_cat =[0, 1, 2, 3, 4, 5, 6, 7, 8, 9, 0, 1, 2, 3, 4, 5, 6, 7, 8, 9]\n",
      "torch_slice = tensor([[3, 4],\n",
      "        [8, 9]])\n",
      "torch_cat =tensor([[0, 1, 2, 3, 4],\n",
      "        [5, 6, 7, 8, 9],\n",
      "        [0, 1, 2, 3, 4],\n",
      "        [5, 6, 7, 8, 9]])\n",
      "torch_stack =tensor([[[0, 1, 2, 3, 4],\n",
      "         [5, 6, 7, 8, 9]],\n",
      "\n",
      "        [[0, 1, 2, 3, 4],\n",
      "         [5, 6, 7, 8, 9]]])\n"
     ]
    }
   ],
   "source": [
    "import numpy as np\n",
    "import torch\n",
    "\n",
    "# NumPy操作\n",
    "np_array = np.arange(10).reshape(2, 5)\n",
    "np_slice = np_array[:1, 3:5]  # 切片\n",
    "np_cat = np.concatenate([np_array, np_array], axis=0)  # 拼接\n",
    "np_stack = np.stack([np_array, np_array])  # 堆叠\n",
    "print(f'{np_slice = }')\n",
    "print(f'{np_cat =}')\n",
    "print(f'{np_stack =}')\n",
    "\n",
    "# Python列表操作\n",
    "py_list = list(range(10))\n",
    "py_slice = py_list[3:7]  # 切片\n",
    "py_cat = py_list + py_list  # 拼接\n",
    "print(f'{py_list = }')\n",
    "print(f'{py_slice =}')\n",
    "print(f'{py_cat =}')\n",
    "\n",
    "# PyTorch操作\n",
    "torch_tensor = torch.arange(10).reshape(2, 5)\n",
    "torch_slice = torch_tensor[:, 3:5]  # 切片\n",
    "torch_cat = torch.cat([torch_tensor, torch_tensor], dim=0)  # 拼接\n",
    "torch_stack = torch.stack([torch_tensor, torch_tensor])  # 堆叠\n",
    "print(f'{torch_slice = }')\n",
    "print(f'{torch_cat =}')\n",
    "print(f'{torch_stack =}')\n"
   ]
  },
  {
   "cell_type": "code",
   "execution_count": 9,
   "metadata": {},
   "outputs": [
    {
     "name": "stdout",
     "output_type": "stream",
     "text": [
      "anchor_points = [tensor([[0.5000, 0.5000],\n",
      "        [1.5000, 0.5000],\n",
      "        [0.5000, 1.5000],\n",
      "        [1.5000, 1.5000]], dtype=torch.float64)]\n",
      "stride_tensor = [tensor([[8.],\n",
      "        [8.],\n",
      "        [8.],\n",
      "        [8.]], dtype=torch.float64)]\n"
     ]
    }
   ],
   "source": [
    "w = 2\n",
    "h = 2\n",
    "grid_cell_offet = 0.5\n",
    "anchor_points = []\n",
    "stride_tensor = []\n",
    "\n",
    "sx = torch.arange(end=w, device='cpu', dtype=float) + grid_cell_offet\n",
    "sy = torch.arange(end=h, device='cpu', dtype=float) + grid_cell_offet\n",
    "sy, sx      = torch.meshgrid(sy, sx, indexing='ij')\n",
    "anchor_points.append(torch.stack((sx, sy), -1).view(-1, 2))\n",
    "stride_tensor.append(torch.full((h * w, 1), 8, dtype=float, device='cpu'))\n",
    "print(f'{anchor_points = }')\n",
    "print(f'{stride_tensor = }')\n",
    " "
   ]
  },
  {
   "cell_type": "code",
   "execution_count": null,
   "metadata": {},
   "outputs": [],
   "source": []
  },
  {
   "cell_type": "code",
   "execution_count": null,
   "metadata": {},
   "outputs": [],
   "source": []
  },
  {
   "cell_type": "code",
   "execution_count": null,
   "metadata": {},
   "outputs": [],
   "source": []
  },
  {
   "cell_type": "code",
   "execution_count": null,
   "metadata": {},
   "outputs": [],
   "source": []
  },
  {
   "cell_type": "code",
   "execution_count": null,
   "metadata": {},
   "outputs": [],
   "source": []
  },
  {
   "cell_type": "code",
   "execution_count": null,
   "metadata": {},
   "outputs": [],
   "source": []
  },
  {
   "cell_type": "code",
   "execution_count": null,
   "metadata": {},
   "outputs": [],
   "source": []
  },
  {
   "cell_type": "code",
   "execution_count": null,
   "metadata": {},
   "outputs": [],
   "source": []
  },
  {
   "cell_type": "code",
   "execution_count": null,
   "metadata": {},
   "outputs": [],
   "source": []
  },
  {
   "cell_type": "code",
   "execution_count": null,
   "metadata": {},
   "outputs": [],
   "source": []
  },
  {
   "cell_type": "code",
   "execution_count": null,
   "metadata": {},
   "outputs": [],
   "source": []
  }
 ],
 "metadata": {
  "kernelspec": {
   "display_name": "Python 3 (ipykernel)",
   "language": "python",
   "name": "python3"
  },
  "language_info": {
   "codemirror_mode": {
    "name": "ipython",
    "version": 3
   },
   "file_extension": ".py",
   "mimetype": "text/x-python",
   "name": "python",
   "nbconvert_exporter": "python",
   "pygments_lexer": "ipython3",
   "version": "3.10.13"
  }
 },
 "nbformat": 4,
 "nbformat_minor": 4
}
