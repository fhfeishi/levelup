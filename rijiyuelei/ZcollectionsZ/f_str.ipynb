{
 "cells": [
  {
   "cell_type": "code",
   "execution_count": 1,
   "metadata": {},
   "outputs": [
    {
     "name": "stdout",
     "output_type": "stream",
     "text": [
      "a+b=0.30000000000000004\n"
     ]
    }
   ],
   "source": [
    "a: float = 0.1\n",
    "b: float = 0.2\n",
    "\n",
    "print(f'{a+b=}')"
   ]
  },
  {
   "cell_type": "code",
   "execution_count": 38,
   "metadata": {},
   "outputs": [
    {
     "name": "stdout",
     "output_type": "stream",
     "text": [
      "0.3\n"
     ]
    }
   ],
   "source": [
    "print(f'{a+b :,.1f}')"
   ]
  },
  {
   "cell_type": "code",
   "execution_count": 6,
   "metadata": {},
   "outputs": [
    {
     "name": "stdout",
     "output_type": "stream",
     "text": [
      "name = 'Bob'\n"
     ]
    }
   ],
   "source": [
    "name: str = 'Bob'\n",
    "print(f'{name = }')"
   ]
  },
  {
   "cell_type": "code",
   "execution_count": 7,
   "metadata": {},
   "outputs": [
    {
     "name": "stdout",
     "output_type": "stream",
     "text": [
      "name = Bob\n"
     ]
    }
   ],
   "source": [
    "print(f'{name = !s}')"
   ]
  },
  {
   "cell_type": "code",
   "execution_count": 8,
   "metadata": {},
   "outputs": [
    {
     "name": "stdout",
     "output_type": "stream",
     "text": [
      "Bob\n"
     ]
    }
   ],
   "source": [
    "print(f'{name}')"
   ]
  },
  {
   "cell_type": "code",
   "execution_count": 9,
   "metadata": {},
   "outputs": [],
   "source": [
    "# folder = \"z_dir\"\n",
    "# path = fr\"\\x\\xx\\xxx\\{folder}\"\n",
    "# path = rf\"\\x\\xx\\xxx\\{folder}\""
   ]
  },
  {
   "cell_type": "code",
   "execution_count": 10,
   "metadata": {},
   "outputs": [
    {
     "name": "stdout",
     "output_type": "stream",
     "text": [
      "1630232000\n"
     ]
    }
   ],
   "source": [
    "big_number: int = 1_630_232_000\n",
    "\n",
    "print(f'{big_number}')"
   ]
  },
  {
   "cell_type": "code",
   "execution_count": 12,
   "metadata": {},
   "outputs": [
    {
     "name": "stdout",
     "output_type": "stream",
     "text": [
      "1.630232e+09\n"
     ]
    }
   ],
   "source": [
    "print(f'{big_number :e}')"
   ]
  },
  {
   "cell_type": "code",
   "execution_count": 13,
   "metadata": {},
   "outputs": [
    {
     "name": "stdout",
     "output_type": "stream",
     "text": [
      "1.630232e+09\n"
     ]
    }
   ],
   "source": [
    "print(f'{big_number :2e}')"
   ]
  },
  {
   "cell_type": "code",
   "execution_count": 15,
   "metadata": {},
   "outputs": [
    {
     "name": "stdout",
     "output_type": "stream",
     "text": [
      "1.561340e-01\n"
     ]
    }
   ],
   "source": [
    "small_number: float = 0.156134\n",
    "print(f'{small_number :e}')"
   ]
  },
  {
   "cell_type": "code",
   "execution_count": 16,
   "metadata": {},
   "outputs": [
    {
     "name": "stdout",
     "output_type": "stream",
     "text": [
      "1.56e-01\n"
     ]
    }
   ],
   "source": [
    "print(f'{small_number :.2e}')"
   ]
  },
  {
   "cell_type": "code",
   "execution_count": 17,
   "metadata": {},
   "outputs": [
    {
     "name": "stdout",
     "output_type": "stream",
     "text": [
      "07.09.24\n"
     ]
    }
   ],
   "source": [
    "from datetime import datetime\n",
    "\n",
    "now: datetime = datetime.now()\n",
    "print(f'{now :%d.%m.%y}')"
   ]
  },
  {
   "cell_type": "code",
   "execution_count": 18,
   "metadata": {},
   "outputs": [
    {
     "name": "stdout",
     "output_type": "stream",
     "text": [
      "07.09.24\n"
     ]
    }
   ],
   "source": [
    "time_spes: str = '%d.%m.%y'\n",
    "print(f'{now :{time_spes}}')"
   ]
  },
  {
   "cell_type": "code",
   "execution_count": 22,
   "metadata": {},
   "outputs": [
    {
     "name": "stdout",
     "output_type": "stream",
     "text": [
      "[2024-09-07] Bob says: 🍌\n"
     ]
    }
   ],
   "source": [
    "from datetime import time, datetime\n",
    "\n",
    "banana: str = '\\U0001f34c'  # 香蕉的表情包\n",
    "name: str = 'Bob'\n",
    "today: str = datetime.now().date()\n",
    "\n",
    "print(f'[{today}] {name} says: {banana}')"
   ]
  },
  {
   "cell_type": "code",
   "execution_count": 23,
   "metadata": {},
   "outputs": [
    {
     "name": "stdout",
     "output_type": "stream",
     "text": [
      "[2024-09-07] Bob says: 🍌\n",
      "[datetime.date(2024, 9, 7)] 'Bob' says: '🍌'\n",
      "[datetime.date(2024, 9, 7)] 'Bob' says: '\\U0001f34c'\n"
     ]
    }
   ],
   "source": [
    "print(f'[{today !s}] {name!s} says: {banana!s}')\n",
    "print(f'[{today!r}] {name!r} says: {banana!r}')\n",
    "print(f'[{today!a}] {name!a} says: {banana!a}')"
   ]
  },
  {
   "cell_type": "code",
   "execution_count": 37,
   "metadata": {},
   "outputs": [
    {
     "name": "stdout",
     "output_type": "stream",
     "text": [
      "07.09.24 (14.28.23)\n",
      "Sat Sep  7 14:28:23 2024\n",
      "Sat Sep  7 14:28:23 2024 02 PM\n",
      " 02 PM\n"
     ]
    }
   ],
   "source": [
    "from datetime import datetime\n",
    "\n",
    "now_: datetime = datetime.now()\n",
    "print(f'{now_:%d.%m.%y (%H.%M.%S)}')\n",
    "print(f'{now_:%c}')  # %c 本地时间\n",
    "print(f'{now_:%c %I %p}') \n",
    "print(f'{now_: %I %p}') "
   ]
  },
  {
   "cell_type": "code",
   "execution_count": 26,
   "metadata": {},
   "outputs": [
    {
     "name": "stdout",
     "output_type": "stream",
     "text": [
      "1_000_000_000\n",
      "1,000,000,000\n",
      "1000000000\n"
     ]
    }
   ],
   "source": [
    "n: int = 1000000000\n",
    "print(f'{n:_}')   #  1 only tqo\n",
    "print(f'{n:,}')   #  2\n",
    "print(f'{n:-}')  # no use"
   ]
  },
  {
   "cell_type": "code",
   "execution_count": 27,
   "metadata": {},
   "outputs": [
    {
     "name": "stdout",
     "output_type": "stream",
     "text": [
      "                 var:\n",
      "var                 :\n"
     ]
    }
   ],
   "source": [
    "var: str = 'var'\n",
    "\n",
    "print(f'{var:>20}:')\n",
    "print(f'{var:<20}:')"
   ]
  },
  {
   "cell_type": "code",
   "execution_count": 28,
   "metadata": {},
   "outputs": [
    {
     "name": "stdout",
     "output_type": "stream",
     "text": [
      "              var:\n",
      "var              :\n"
     ]
    }
   ],
   "source": [
    "print(f'{var:>17}:')\n",
    "print(f'{var:<17}:')"
   ]
  },
  {
   "cell_type": "code",
   "execution_count": 29,
   "metadata": {},
   "outputs": [
    {
     "name": "stdout",
     "output_type": "stream",
     "text": [
      "var              :\n"
     ]
    }
   ],
   "source": [
    "print(f'{var:17}:')"
   ]
  },
  {
   "cell_type": "code",
   "execution_count": 30,
   "metadata": {},
   "outputs": [
    {
     "name": "stdout",
     "output_type": "stream",
     "text": [
      "       var       :\n"
     ]
    }
   ],
   "source": [
    "print(f'{var:^17}:')"
   ]
  },
  {
   "cell_type": "code",
   "execution_count": 31,
   "metadata": {},
   "outputs": [
    {
     "name": "stdout",
     "output_type": "stream",
     "text": [
      "______________var:\n",
      "#######var#######:\n",
      "var||||||||||||||:\n"
     ]
    }
   ],
   "source": [
    "print(f'{var:_>17}:')\n",
    "print(f'{var:#^17}:')\n",
    "print(f'{var:|<17}:')"
   ]
  },
  {
   "cell_type": "code",
   "execution_count": null,
   "metadata": {},
   "outputs": [],
   "source": []
  }
 ],
 "metadata": {
  "kernelspec": {
   "display_name": "kiana",
   "language": "python",
   "name": "python3"
  },
  "language_info": {
   "codemirror_mode": {
    "name": "ipython",
    "version": 3
   },
   "file_extension": ".py",
   "mimetype": "text/x-python",
   "name": "python",
   "nbconvert_exporter": "python",
   "pygments_lexer": "ipython3",
   "version": "3.10.13"
  }
 },
 "nbformat": 4,
 "nbformat_minor": 2
}
