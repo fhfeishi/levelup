{
 "cells": [
  {
   "cell_type": "code",
   "execution_count": 6,
   "metadata": {},
   "outputs": [],
   "source": [
    "import copy"
   ]
  },
  {
   "cell_type": "code",
   "execution_count": 18,
   "metadata": {},
   "outputs": [
    {
     "name": "stdout",
     "output_type": "stream",
     "text": [
      "id(origin) =1906769880768\n",
      "id(origin_b) =1906769880768\n"
     ]
    }
   ],
   "source": [
    "origin = [1,2, [3,4], (5,6)]\n",
    "origin_b = origin\n",
    "print(f\"{id(origin) =}\")\n",
    "print(f\"{id(origin_b) =}\")"
   ]
  },
  {
   "cell_type": "code",
   "execution_count": 19,
   "metadata": {},
   "outputs": [
    {
     "name": "stdout",
     "output_type": "stream",
     "text": [
      "cpy1=[1, 2, [3, 4], (5, 6)]\n",
      "id(cpy1)=1906793235776\n"
     ]
    }
   ],
   "source": [
    "cpy1 = copy.copy(origin)\n",
    "print(f\"{cpy1=}\")\n",
    "print(f\"{id(cpy1)=}\")"
   ]
  },
  {
   "cell_type": "code",
   "execution_count": 20,
   "metadata": {},
   "outputs": [
    {
     "name": "stdout",
     "output_type": "stream",
     "text": [
      "cpy2=[1, 2, [3, 4], (5, 6)]\n",
      "id(cpy2)=1906793249856\n"
     ]
    }
   ],
   "source": [
    "cpy2 = copy.deepcopy(origin)\n",
    "print(f\"{cpy2=}\")\n",
    "print(f\"{id(cpy2)=}\")"
   ]
  },
  {
   "cell_type": "code",
   "execution_count": 22,
   "metadata": {},
   "outputs": [
    {
     "name": "stdout",
     "output_type": "stream",
     "text": [
      "(cpy1==cpy2) = True\n"
     ]
    }
   ],
   "source": [
    "print(f\"{(cpy1==cpy2) = }\")"
   ]
  },
  {
   "cell_type": "code",
   "execution_count": 14,
   "metadata": {},
   "outputs": [
    {
     "name": "stdout",
     "output_type": "stream",
     "text": [
      "cpy1=['cpy1-0', 2, [3, 4], (5, 6), 'cpy1', 'cpy1']\n",
      "id(cpy1)=1906793249856\n",
      "origin=[1, 2, [3, 4], (5, 6)]\n",
      "id(origin)=1906793131712\n",
      "cpy2=['cpy2-0', 2, [3, 4], (5, 6), 'cpy2', 'cpy2']\n",
      "id(cpy2)=1906766856320\n"
     ]
    }
   ],
   "source": [
    "# 原地操作\n",
    "cpy1.append('cpy1')\n",
    "cpy2.append('cpy2')\n",
    "print(f\"{cpy1=}\")\n",
    "print(f\"{id(cpy1)=}\")\n",
    "print(f\"{origin=}\")\n",
    "print(f\"{id(origin)=}\")\n",
    "print(f\"{cpy2=}\")\n",
    "print(f\"{id(cpy2)=}\")"
   ]
  },
  {
   "cell_type": "code",
   "execution_count": 16,
   "metadata": {},
   "outputs": [
    {
     "name": "stdout",
     "output_type": "stream",
     "text": [
      "cpy1=['cpy1-0', 2, [3, 4], (5, 6), 'cpy1', 'cpy1']\n",
      "id(cpy1)=1906793249856\n",
      "origin=[1, 2, [3, 4], (5, 6)]\n",
      "id(origin)=1906793131712\n",
      "cpy2=['cpy2-0', 2, [3, 4], (5, 6), 'cpy2', 'cpy2']\n",
      "id(cpy2)=1906766856320\n"
     ]
    }
   ],
   "source": [
    "# 改变\n",
    "cpy1[0] = \"cpy1-0\"\n",
    "cpy2[0] = \"cpy2-0\"\n",
    "print(f\"{cpy1=}\")\n",
    "print(f\"{id(cpy1)=}\")\n",
    "print(f\"{origin=}\")\n",
    "print(f\"{id(origin)=}\")\n",
    "print(f\"{cpy2=}\")\n",
    "print(f\"{id(cpy2)=}\")"
   ]
  },
  {
   "cell_type": "code",
   "execution_count": 24,
   "metadata": {},
   "outputs": [
    {
     "name": "stdout",
     "output_type": "stream",
     "text": [
      "origin_b = [1, 2, [3, 4], (5, 6), 'origin', 'origin']\n",
      "id(origin_b) = 1906769880768\n",
      "(origin==origin_b) = True\n",
      "(origin is origin_b) = True\n"
     ]
    }
   ],
   "source": [
    "origin.append('origin')\n",
    "print(f\"{origin_b = }\")\n",
    "print(f\"{id(origin_b) = }\")\n",
    "print(f\"{(origin==origin_b) = }\")\n",
    "print(f\"{(origin is origin_b) = }\")"
   ]
  },
  {
   "cell_type": "code",
   "execution_count": 34,
   "metadata": {},
   "outputs": [
    {
     "name": "stdout",
     "output_type": "stream",
     "text": [
      "origin_b = [1, 2, [3, 4], (5, 6), 'origin', 'origin', '_b change']\n",
      "origin = [1, 2, [3, 4], (5, 6), 'origin', 'origin', '_b change']\n",
      "cpy1 = [1, 2, [3, 4], (5, 6)]\n",
      "cpy2 = [1, 2, [3, 4], (5, 6)]\n"
     ]
    }
   ],
   "source": [
    "# _b change\n",
    "origin_b.append(\"_b change\")\n",
    "print(f\"{origin_b = }\")  \n",
    "\n",
    "print(f\"{origin = }\")   # origin_b change  ->  origin change \n",
    "print(f\"{cpy1 = }\")\n",
    "print(f\"{cpy2 = }\")"
   ]
  },
  {
   "cell_type": "code",
   "execution_count": 35,
   "metadata": {},
   "outputs": [
    {
     "name": "stdout",
     "output_type": "stream",
     "text": [
      "origin = [1, 2, [3, 4], (5, 6), 'origin', 'origin', '_b change', 'origin change']\n",
      "origin_b = [1, 2, [3, 4], (5, 6), 'origin', 'origin', '_b change', 'origin change']\n",
      "cpy1 = [1, 2, [3, 4], (5, 6)]\n",
      "cpy2 = [1, 2, [3, 4], (5, 6)]\n"
     ]
    }
   ],
   "source": [
    "# origin change \n",
    "origin.append(\"origin change\")\n",
    "print(f\"{origin = }\") \n",
    "\n",
    "print(f\"{origin_b = }\")  # origin change -> origin_b change\n",
    "print(f\"{cpy1 = }\")\n",
    "print(f\"{cpy2 = }\")"
   ]
  },
  {
   "cell_type": "code",
   "execution_count": 36,
   "metadata": {},
   "outputs": [
    {
     "name": "stdout",
     "output_type": "stream",
     "text": [
      "cpy1 = [1, 2, [3, 4], (5, 6), 'copy change']\n",
      "origin = [1, 2, [3, 4], (5, 6), 'origin', 'origin', '_b change', 'origin change']\n",
      "origin_b = [1, 2, [3, 4], (5, 6), 'origin', 'origin', '_b change', 'origin change']\n",
      "cpy2 = [1, 2, [3, 4], (5, 6)]\n"
     ]
    }
   ],
   "source": [
    "# copy change     nothing\n",
    "cpy1.append(\"copy change\")\n",
    "print(f\"{cpy1 = }\")\n",
    "\n",
    "\n",
    "print(f\"{origin = }\") \n",
    "print(f\"{origin_b = }\")  \n",
    "print(f\"{cpy2 = }\")"
   ]
  },
  {
   "cell_type": "code",
   "execution_count": 37,
   "metadata": {},
   "outputs": [
    {
     "name": "stdout",
     "output_type": "stream",
     "text": [
      "cpy2 = [1, 2, [3, 4], (5, 6), 'deepcopy change']\n",
      "origin = [1, 2, [3, 4], (5, 6), 'origin', 'origin', '_b change', 'origin change']\n",
      "origin_b = [1, 2, [3, 4], (5, 6), 'origin', 'origin', '_b change', 'origin change']\n",
      "cpy1 = [1, 2, [3, 4], (5, 6), 'copy change']\n"
     ]
    }
   ],
   "source": [
    "# deepcopy change\n",
    "cpy2.append(\"deepcopy change\")\n",
    "print(f\"{cpy2 = }\")\n",
    "\n",
    "\n",
    "print(f\"{origin = }\") \n",
    "print(f\"{origin_b = }\")\n",
    "print(f\"{cpy1 = }\")\n"
   ]
  },
  {
   "cell_type": "code",
   "execution_count": null,
   "metadata": {},
   "outputs": [],
   "source": [
    "# var_a = var_b 左右两边的变量绑定\n",
    "\n",
    "# 原地操作， copy  deepcopy都是新建了一个对象，不在跟原来的origin有联系， \n",
    "\n",
    "# 非原地操作，复杂嵌套内变量变化  copy跟origin绑定， deepcopy依旧是新建一个对象"
   ]
  },
  {
   "cell_type": "code",
   "execution_count": 40,
   "metadata": {},
   "outputs": [
    {
     "name": "stdout",
     "output_type": "stream",
     "text": [
      "cpy2 = [1, 2, [3, 4], (5, 6), 'deepcopy change']\n",
      "id(cpy2) = 1906793249856\n",
      "origin = [1, 2, ['x', 4], (5, 6), 'origin', 'origin', '_b change', 'origin change']\n",
      "id(origin) = 1906769880768\n",
      "origin_b = [1, 2, ['x', 4], (5, 6), 'origin', 'origin', '_b change', 'origin change']\n",
      "id(origin_b) = 1906769880768\n",
      "cpy1 = [1, 2, ['x', 4], (5, 6), 'copy change']\n",
      "id(cpy1) = 1906793235776\n"
     ]
    }
   ],
   "source": [
    "origin[2][0] = \"x\"  # 嵌套结构内的变量改变\n",
    "\n",
    "print(f\"{cpy2 = }\")\n",
    "print(f\"{id(cpy2) = }\")\n",
    "print(f\"{origin = }\") \n",
    "print(f\"{id(origin) = }\")\n",
    "print(f\"{origin_b = }\")\n",
    "print(f\"{id(origin_b) = }\")\n",
    "print(f\"{cpy1 = }\")\n",
    "print(f\"{id(cpy1) = }\")"
   ]
  },
  {
   "cell_type": "code",
   "execution_count": 41,
   "metadata": {},
   "outputs": [
    {
     "name": "stdout",
     "output_type": "stream",
     "text": [
      "cpy1 = [1, 2, ['x', 'x'], (5, 6), 'copy change']\n",
      "id(cpy1) = 1906793235776\n",
      "cpy2 = [1, 2, [3, 4], (5, 6), 'deepcopy change']\n",
      "id(cpy2) = 1906793249856\n",
      "origin = [1, 2, ['x', 'x'], (5, 6), 'origin', 'origin', '_b change', 'origin change']\n",
      "id(origin) = 1906769880768\n",
      "origin_b = [1, 2, ['x', 'x'], (5, 6), 'origin', 'origin', '_b change', 'origin change']\n",
      "id(origin_b) = 1906769880768\n"
     ]
    }
   ],
   "source": [
    "cpy1[2][1] = \"x\"  # 嵌套结构内的变量改变\n",
    "print(f\"{cpy1 = }\")\n",
    "print(f\"{id(cpy1) = }\")\n",
    "\n",
    "print(f\"{cpy2 = }\")\n",
    "print(f\"{id(cpy2) = }\")\n",
    "print(f\"{origin = }\")    # origin跟着变\n",
    "print(f\"{id(origin) = }\")\n",
    "print(f\"{origin_b = }\")\n",
    "print(f\"{id(origin_b) = }\")"
   ]
  },
  {
   "cell_type": "code",
   "execution_count": 25,
   "metadata": {},
   "outputs": [
    {
     "name": "stdout",
     "output_type": "stream",
     "text": [
      "orinp==orinp_b = array([ True,  True,  True,  True,  True])\n",
      "id(orinp) = 1906793094128\n",
      "id(orinp_b) = 1906793094128\n",
      "id(cpynp) = 1906767289232\n"
     ]
    }
   ],
   "source": [
    "import numpy as np\n",
    "\n",
    "orinp = np.array([1,2,3,4,5])\n",
    "orinp_b = orinp\n",
    "cpynp = orinp.copy()\n",
    "\n",
    "print(f\"{orinp==orinp_b = }\")  # array([ True,  True,  True,  True,  True])\n",
    "print(f\"{id(orinp) = }\")\n",
    "print(f\"{id(orinp_b) = }\")\n",
    "print(f\"{id(cpynp) = }\")"
   ]
  },
  {
   "cell_type": "code",
   "execution_count": 30,
   "metadata": {},
   "outputs": [
    {
     "name": "stdout",
     "output_type": "stream",
     "text": [
      "cpynp = array([ 6,  7,  8,  9, 10])\n",
      "id(cpynp) = 1906767289232\n",
      "orinp_b = array([1, 2, 3, 4, 5])\n",
      "id(orinp_b) = 1906793094128\n",
      "(cpynp is orinp_b) = False\n",
      "cpynp is orinp_b = False\n",
      "orinp = array([1, 2, 3, 4, 5])\n",
      "id(orinp) = 1906793094128\n"
     ]
    }
   ],
   "source": [
    "cpynp += 1  # .copy  change\n",
    "\n",
    "print(f\"{cpynp = }\")\n",
    "print(f\"{id(cpynp) = }\")\n",
    "print(f\"{orinp_b = }\")\n",
    "print(f\"{id(orinp_b) = }\")\n",
    "print(f\"{(cpynp is orinp_b) = }\")  # false\n",
    "print(f\"{cpynp is orinp_b = }\")   # false\n",
    "\n",
    "print(f\"{orinp = }\")\n",
    "print(f\"{id(orinp) = }\")"
   ]
  },
  {
   "cell_type": "code",
   "execution_count": 32,
   "metadata": {},
   "outputs": [
    {
     "name": "stdout",
     "output_type": "stream",
     "text": [
      "cpynp = array([ 6,  7,  8,  9, 10])\n",
      "id(cpynp) = 1906767289232\n",
      "orinp_b = array([2, 3, 4, 5, 6])\n",
      "id(orinp_b) = 1906793094128\n",
      "(cpynp is orinp_b) = False\n",
      "orinp = array([2, 3, 4, 5, 6])\n",
      "id(orinp) = 1906793094128\n"
     ]
    }
   ],
   "source": [
    "orinp += 1   # origin change\n",
    "\n",
    "print(f\"{cpynp = }\")\n",
    "print(f\"{id(cpynp) = }\")\n",
    "print(f\"{orinp_b = }\")    #  orinp_b  change\n",
    "print(f\"{id(orinp_b) = }\")\n",
    "print(f\"{(cpynp is orinp_b) = }\")  \n",
    "print(f\"{orinp = }\")\n",
    "print(f\"{id(orinp) = }\")"
   ]
  },
  {
   "cell_type": "code",
   "execution_count": 33,
   "metadata": {},
   "outputs": [
    {
     "name": "stdout",
     "output_type": "stream",
     "text": [
      "cpynp = array([ 6,  7,  8,  9, 10])\n",
      "id(cpynp) = 1906767289232\n",
      "orinp_b = array([3, 4, 5, 6, 7])\n",
      "id(orinp_b) = 1906793094128\n",
      "(cpynp is orinp_b) = False\n",
      "orinp = array([3, 4, 5, 6, 7])\n",
      "id(orinp) = 1906793094128\n"
     ]
    }
   ],
   "source": [
    "orinp_b += 1\n",
    "\n",
    "print(f\"{cpynp = }\")\n",
    "print(f\"{id(cpynp) = }\")\n",
    "print(f\"{orinp_b = }\")  \n",
    "print(f\"{id(orinp_b) = }\")\n",
    "print(f\"{(cpynp is orinp_b) = }\")  \n",
    "print(f\"{orinp = }\")\n",
    "print(f\"{id(orinp) = }\")"
   ]
  },
  {
   "cell_type": "code",
   "execution_count": null,
   "metadata": {},
   "outputs": [],
   "source": [
    "# 嵌套数组\n",
    "\n"
   ]
  }
 ],
 "metadata": {
  "kernelspec": {
   "display_name": "mmdata",
   "language": "python",
   "name": "python3"
  },
  "language_info": {
   "codemirror_mode": {
    "name": "ipython",
    "version": 3
   },
   "file_extension": ".py",
   "mimetype": "text/x-python",
   "name": "python",
   "nbconvert_exporter": "python",
   "pygments_lexer": "ipython3",
   "version": "3.10.13"
  },
  "orig_nbformat": 4
 },
 "nbformat": 4,
 "nbformat_minor": 2
}
