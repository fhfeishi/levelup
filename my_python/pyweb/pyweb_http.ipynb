{
 "cells": [
  {
   "cell_type": "markdown",
   "metadata": {},
   "source": [
    "# HTTP"
   ]
  },
  {
   "cell_type": "markdown",
   "metadata": {},
   "source": [
    "HTTP是HyperText Transfer Protocol的缩写，翻译后的意思是超文本传输协议。"
   ]
  },
  {
   "cell_type": "markdown",
   "metadata": {},
   "source": [
    "## http里的时间格式"
   ]
  },
  {
   "cell_type": "markdown",
   "metadata": {},
   "source": [
    "http里的日期都采用GMT时间格式。\n",
    "GMT时间格式是符合英语国家的人的习惯，http里的日期时间都采用GMT时间格式，我们随便打开一个网页，通过谷歌浏览器的开发者工具查看Response headers的Date首部，就可以看到类似下面的时间格式\n",
    "\n",
    "* Data: Mon, 06 Apr 2020 13:20:09 GMT\n"
   ]
  },
  {
   "cell_type": "markdown",
   "metadata": {},
   "source": [
    "在http里，允许你使用下面三种时间格式的任意一种\n",
    "* Mon, 06 Apr 2020 13:20:09 GMT   # RFC 822, updated by RFC 1123\n",
    "* Monday, 06-Apr-20 13:20:09 GMT  # RFC 850, obsoleted by RFC 1036\n",
    "* Mon Apr  6 13:20:09 2020   # ANSI C's asctime() format"
   ]
  },
  {
   "cell_type": "code",
   "execution_count": 1,
   "metadata": {},
   "outputs": [
    {
     "name": "stdout",
     "output_type": "stream",
     "text": [
      "Thu, 11 Apr 2024 16:52:37 GMT\n",
      "Thursday, 11-Apr-24 16:52:37 GMT\n",
      "2024-04-11 16:52:37\n",
      "2024-04-11 16:52:37\n"
     ]
    }
   ],
   "source": [
    "# UTC  --   GMT\n",
    "# 当你想生成一个GMT时间时，必须从UTC时间开始进行转换，\n",
    "# 前两种GMT格式，可以很容易通过strptime方法进行转换\n",
    "from datetime import datetime\n",
    "\n",
    "# UTC -> GMT \n",
    "# 当前utc转成GMT时间格式\n",
    "format_1 = '%a, %d %b %Y %H:%M:%S GMT'\n",
    "format_2 = '%A, %d-%b-%y %H:%M:%S GMT'\n",
    "utc_now = datetime.utcnow()\n",
    "gmt_1 = utc_now.strftime(format_1)\n",
    "gmt_2 = utc_now.strftime(format_2)\n",
    "\n",
    "print(gmt_1)\n",
    "print(gmt_2)\n",
    "\n",
    "# GMT时间格式转成utc   比北京时间慢8h\n",
    "utc_1 = datetime.strptime(gmt_1, format_1)\n",
    "utc_2 = datetime.strptime(gmt_2, format_2)\n",
    "print(utc_1)\n",
    "print(utc_2)\n",
    "\n",
    "# 为在http的时间里，使用的时间一定是比我们所用的北京时间慢8个小时，\n",
    "# 当你处理与http相关的时间时，一定要切记，用utc时间来理解问题和解决问题。"
   ]
  },
  {
   "cell_type": "code",
   "execution_count": 2,
   "metadata": {},
   "outputs": [
    {
     "name": "stdout",
     "output_type": "stream",
     "text": [
      "Thu Apr  11 16:55:28 2024\n"
     ]
    }
   ],
   "source": [
    "# 处理ANSI c 的asctime 时间格式\n",
    "# 这是第三种可以在http里使用的时间格式，我们可以直接从datetime.utcnow()进行转换，\n",
    "# 稍麻烦之处在于无法直接使用strftime方法，因为处理日的时间时，\n",
    "# 小于10的日总是以0开头进行表示，比如3月1日，总是表示成03-01， \n",
    "# 这与GMT时间格式不符，但可以使用自定义的字符串格式化方法来解决这个问题\n",
    "from datetime import datetime\n",
    "\n",
    "utc_now = datetime.utcnow()\n",
    "date_str = utc_now.strftime(\"%a %b\") + \\\n",
    "           \"  {day}\".format(day=utc_now.day) + \\\n",
    "           utc_now.strftime(' %H:%M:%S %Y')\n",
    "\n",
    "\n",
    "print(date_str)"
   ]
  },
  {
   "cell_type": "code",
   "execution_count": 3,
   "metadata": {},
   "outputs": [
    {
     "name": "stdout",
     "output_type": "stream",
     "text": [
      "Thu Apr 11 16:56:07 2024\n"
     ]
    }
   ],
   "source": [
    "# 使用 time模块\n",
    "import time\n",
    "print(time.asctime(time.gmtime()))"
   ]
  },
  {
   "cell_type": "code",
   "execution_count": 5,
   "metadata": {},
   "outputs": [
    {
     "name": "stdout",
     "output_type": "stream",
     "text": [
      "2020-04-06 14:17:40\n",
      "time.struct_time(tm_year=2020, tm_mon=4, tm_mday=6, tm_hour=14, tm_min=17, tm_sec=40, tm_wday=0, tm_yday=97, tm_isdst=-1)\n"
     ]
    }
   ],
   "source": [
    "# 如果想把这种格式的字符串转成datetime类型，却可以使用strptime方法\n",
    "print(datetime.strptime('Mon Apr  6 14:17:40 2020', '%a %b  %d %H:%M:%S %Y'))\n",
    "# %d 可以将日期6转换为对应的datetime类型中的day， \n",
    "# 但是反过来，从datetime数据类型触发，使用%d不能将日期06转换为6。\n",
    "# 如果你习惯使用time模块来处理时间，那么也可以将这种格式的时间字符串转成struct_time\n",
    "print(time.strptime('Mon Apr  6 14:17:40 2020', '%a %b  %d %H:%M:%S %Y'))"
   ]
  },
  {
   "cell_type": "markdown",
   "metadata": {},
   "source": [
    "# HTTP协议的9种请求方法\n",
    "* OPTIONS\n",
    "* GET\n",
    "* HEAD\n",
    "* POST\n",
    "* PUT\n",
    "* PATCH\n",
    "* DELETE\n",
    "* TRACE\n",
    "* CONNECT"
   ]
  },
  {
   "cell_type": "markdown",
   "source": [
    "* 频繁使用的GET、POST。\n",
    "\n",
    "大量使用post请求，区分请求意图的方法是使用不同的uri，比如获取数据用get_xx,新增数据用add_xx， 修改数据用modify_xx，删除数据用del_xx, 一个post请求，实现了对同一个资源的四种操作。"
   ],
   "metadata": {
    "collapsed": false
   }
  },
  {
   "cell_type": "raw",
   "source": [
    "通常而言  服务代码和测试代码应分开。在不同的执行环境中运行\n",
    "如果说非要在一个py文件里测试的话，就可以用到python的thread\n",
    "但是这样的情况还是要注意一些前提条件，不然也是会报错的\n",
    "* notenote1   --利用python多线程一个py文件里面测试\n",
    "aaa.py:\n",
    "app=Flask(__name__)\n",
    "@app.route('/')\n",
    "    def home()   ---网页的反馈。如果没有的话是  404 not found\n",
    "@app.rout('/book', methods ...)\n",
    "    ...\n",
    "    def run_app():\n",
    "        app_run(debug=False, port=5000)\n",
    "    --这里要注意 debug应该设置成flase，\n",
    "if __name__ == '__main__':\n",
    "    import requests\n",
    "    t = threading.Thread(target=run_app)\n",
    "    ----将 run_app 函数作为目标传递给 Thread 对象,\n",
    "    ----而不是run_app()，会被调用并执行的，就以为这在主线程中执行，而不是新线程\n",
    "    t.start()\n",
    "    time.sleep(2)\n",
    "    url = 'http://127.0.0.1:5000/book'\n",
    "    res = requests.options(url)\n",
    "    print(res.headers)\n",
    "    t.join()\n",
    "    *\n",
    "你遇到的错误 ValueError: signal only works in main thread of the main interpreter 是由于在非主线程中尝试使用信号处理函数所致。在 Python 中，只有主解释器的主线程可以设置信号处理。这是因为信号是由操作系统发送到进程的，并且由于线程共享同一进程空间，所以操作系统无法将信号发送到一个特定的线程，只能发送到整个进程。\n",
    "\n",
    "在你的 Flask 应用例子中，如果 app.run() 在一个子线程中执行，而它内部尝试设置或处理信号（比如用于重新加载或退出），就会抛出这个错误。Flask 的开发服务器（Werkzeug）在调试模式下使用信号来控制自动重新加载和其他特性。\n",
    "\n",
    "* 1不在子线程中运行 Flask 应用：\n",
    "最简单的解决方法是直接在主线程中运行 Flask 应用，避免使用线程。这通常意味着将测试代码移到另一个独立的脚本或测试环境中。\n",
    "* 2禁用调试模式：\n",
    "在调试模式下，Flask 使用信号来实现代码的热重载等功能。如果你确实需要在子线程中运行 Flask，并且可以放弃调试模式带来的便利（如自动重新加载），可以尝试关闭调试模式。\n",
    "app.run(debug=False, port=5000)\n",
    "* 3使用其他方式进行应用测试： ----不启用flask服务的测试，好像用处一般\n",
    "为了测试 Flask 应用，可以使用 Flask 提供的测试客户端，这样可以在不实际启动服务器的情况下测试应用逻辑。示例代码：\n",
    "with app.test_client() as client:\n",
    "    response = client.get('/path')\n",
    "    print(response.data)\n",
    "* 4分开服务和测试代码：\n",
    "将服务代码和测试代码分开在不同的执行环境中运行。例如，可以在一个终端中启动 Flask 应用，而在另一个终端或脚本中使用 requests 或其他 HTTP 客户端库来测试应用。"
   ],
   "metadata": {
    "collapsed": false
   }
  },
  {
   "cell_type": "raw",
   "source": [
    "##########################################\n",
    "## ---------------OPTIONS------------------------ ##\n",
    "* 用途：此方法用于描述目标资源的通信选项，通过发送一个预检请求来确定服务器支持的方法。\n",
    "* 场景：在CORS（跨源资源共享）中，浏览器可以先发送一个OPTIONS请求来检查实际请求是否安全可接受。\n",
    "\n",
    "import requests\n",
    "url = \"http://127.0.0.1:5000/book\"\n",
    "def test_options():\n",
    "    res = requests.options(url)\n",
    "    print(res.headers)\n",
    "test_options()\n",
    "\n",
    "* 向服务器发送options方法，可以测试服务器功能是否正常，服务器会返回这个资源所支持的HTTP请求方法，在javascript中，使用XMLHttpRequest对象进行CORS跨域资源共享时，会先使用options方法进行嗅探，以此判断对指定资源是否具有访问权限。\n",
    "* flask框架会自动处理OPTIONS和HEAD请求，我在指定'/book'所支持的methods中并没有写OPTIONS，但使用requests发送OPTIONS请求，可以得到正常响应\n",
    "* response 的headers里，会返回Allow 首部，其内容为\"TRACE, GET, HEAD, PATCH, POST, DELETE, OPTIONS, PUT\"，这表示，请求'/book'时，服务器支持这么多的请求方法。"
   ],
   "metadata": {
    "collapsed": false
   }
  },
  {
   "cell_type": "raw",
   "source": [
    "##########################################\n",
    "## ----------GET------------------------ ##\n",
    "* 用途：请求指定的资源。GET请求应该只用于获取数据而不应当引起服务器上的状态变化。\n",
    "* 场景：浏览网页时，浏览器向服务器请求页面和资源。\n",
    "\n",
    "* GET方法用于显示的请求指定资源，通常，GET方法只用于读取数据，这在restful接口中尤为严格，GET方法绝不应该应用于会产生副作用的非幂等操作中。\n",
    "\n",
    "* 所谓幂等，是一个数学与计算机概念，在编程中一个幂等操作的特点是其任意多次执行所产生的影响均与一次执行的影响相同。\n",
    "* 本示例中，服务端收到GET请求后，返回一段json数据，发送请求的客户端程序如下\n",
    "import requests\n",
    "url = 'http://127.0.0.1:5000/book'\n",
    "def test_get():\n",
    "    params = {'name': 'python'}\n",
    "    res = requests.get(url, params=params)\n",
    "    print(res.text)\n",
    "test_get()\n",
    "* 你应该已经注意到，发送get请求也是可以携带参数的，而不只是post可以.\n",
    "* 不同之处在于，post请求的参数放在dody体中，而get请求的参数放在url中，服务端收到的请求的完整url是\n",
    "http://127.0.0.1:5000/book?name=python\n",
    "* GET请求的URL在浏览器里是极容易暴露的，因此用户的敏感信息不可以明文传输。"
   ],
   "metadata": {
    "collapsed": false
   }
  },
  {
   "cell_type": "raw",
   "source": [
    "##########################################\n",
    "## --------------HEAD------------------ ##\n",
    "* 用途：与GET方法相似，但服务器在响应中只返回首部，不返回实际的数据，用于获取资源的元信息而不是资源本身。\n",
    "* 场景：检查链接是否有效、资源是否被修改，或获取文件大小等。\n",
    "* HEAD方法在各个方面均与GET方法相同，唯一不同之处在于，服务器收到HEAD请求，不会将body里的内容返回给客户端，在本实例中，虽然响应HEAD请求时，明确的使用return语句返回了数据\n",
    "return jsonify({'name': 'python进阶教程', 'price': 35.5})\n",
    "* 但客户端不会收到这些数据，既然收不到数据，HEAD方法还有什么用处呢？\n",
    "* HEAD方法通常用来获取资源的信息，这些信息都蕴藏在响应头信息中，比如Content-Length, 客户端只是想知道自己将要请求的资源有多大，而并不是真的想要获取这份资源，那么就可以使用HEAD方法进行查看，虽然返回的response里没有body数据，但header里的部首和使用GET请求时返回的完全一样。\n",
    "\n",
    "* 一个比较实用的场景如下，有一个很大的文件需要下载，单线程下载会很慢，那么就可以考虑使用多线程，每个线程只下载资源的一段，这个利用Range部首很容易就做到，那么整件事件最关键的就是获得资源的大小，你可以使用GET请求，但更便捷的方法是用HEAD请求，毕竟GET请求会返回整个文件。\n",
    "* 多线程下载大文件，可以参考我的一篇文章https://blog.csdn.net/KWSY2008/article/details/49204047"
   ],
   "metadata": {
    "collapsed": false
   }
  },
  {
   "cell_type": "raw",
   "source": [
    "##########################################\n",
    "## --------------POST------------------ ##\n",
    "* 用途：向指定资源提交数据，请求服务器进行处理（例如提交表单或上传文件）。数据包含在请求体中。POST请求可能会创建新的资源或修改现有资源。\n",
    "* 场景：提交表单数据，如用户登录信息。\n",
    "\n",
    "* post用于向指定资源提交数据，在restful风格的接口里，post用于新增数据。\n",
    "* post请求提交的数据放在请求的body体中，post提交的数据一般有两种格式，一种是form表单，一种是json数据\n",
    "* form表单\n",
    "* 我们在登录某个网站的后台时，在网页上填写用户名和密码，点击回车后的提交过程就是post请求，请求的Content-Type值为 application/x-www-form-urlencoded 下面是模拟客户端提交form表单的一段代码\n",
    "import requests\n",
    "url = 'http://127.0.0.1:5000/book'\n",
    "def test_form_post():\n",
    "    data = {'name': 'python', 'price': 45.6}\n",
    "    res = requests.post(url, data=data)\n",
    "    print(res.text)\n",
    "test_form_post()\n",
    "* 服务端处理这种post请求要使用book_post_form函数，收到的请求body体中，数据为\n",
    "name=python&price=45.6\n",
    "flask框架会帮助我们解析这里的内容，我们通过request.form对象即可获得name和price\n",
    "\n",
    "* 上面的代码是通过requests库直接提交，如果是通过网页上的form表单进行提交，则form表单应该是如下形式\n",
    "<form action=\"/book\" method=\"POST\">\n",
    "      <p>name: <input type=\"text\" name=\"name\" /></p>\n",
    "      <p>price: <input type=\"text\" name=\"price\" /></p>\n",
    "      <input type=\"submit\" value=\"提交\" />\n",
    "    </form>\n",
    "application/x-www-form-urlencoded 是表单默认的提交方式，你也可以通过enctype 来指定提交方式\n",
    "\n",
    "<form action=\"/book\" method=\"POST\" enctype='application/x-www-form-urlencoded'>\n",
    "如果你的表单还要上传文件，那么enctype则要设置成multipart/form-data\n",
    "\n",
    "* 提交json数据\n",
    "另一种较为常用的post数据格式是json，下面是一个具体示例\n",
    "import requests\n",
    "url = 'http://127.0.0.1:5000/book'\n",
    "def test_json_post():\n",
    "    data = {'name': 'python', 'price': 45.6}\n",
    "    res = requests.post(url, json=data)\n",
    "    print(res.text)\n",
    "test_json_post()\n",
    "服务端收到的请求的Content-Type 为application/json，body体中的数据为\n",
    "\n",
    "{\"name\": \"python\", \"price\": 45.6}\n",
    "不同于form表单数据，json数据需要我们自己写代码从body中取出并loads成字典来使用，具体方法参见flask 服务端程序里的book_post_json函数"
   ],
   "metadata": {
    "collapsed": false
   }
  },
  {
   "cell_type": "raw",
   "source": [
    "##########################################\n",
    "## --------------PUT------------------ ##\n",
    "* 用途：从客户端向服务器传送的数据取代指定的文档的内容。\n",
    "* 场景：上传文件的内容，或完整地更新现有资源。\n",
    "\n",
    "* put请求方法用于向指定资源上传最新数据，用于更新操作，该方法是幂等操作。同post一样，提交数据时，可以使用form表单或者json格式数据，下面是具体示例\n",
    "import requests\n",
    "url = 'http://127.0.0.1:5000/book'\n",
    "def test_put():\n",
    "    data = {'name': 'python', 'price': 55.6}\n",
    "    res = requests.put(url, json=data)\n",
    "    print(res.text)\n",
    "test_put()"
   ],
   "metadata": {
    "collapsed": false
   }
  },
  {
   "cell_type": "raw",
   "source": [
    "##########################################\n",
    "## --------------PATCH------------------ ##\n",
    "* 用途：对资源进行部分修改。\n",
    "* 场景：如果资源的一部分字段需要更新，比如修改数据库记录的一个属性。\n",
    "\n",
    "* PATCH方法是HTTP/1.1标准制定之后扩展的方法，和PUT一样，也用于资源的更新，不同之处有两点\n",
    "* PATCH用于资源的部分更新，PUT多用于资源的整体更新\n",
    "如果资源不存在，使用PATCH时应创建一个新的资源，而PUT则不要求创建新资源\n",
    "下面是使用patch请求的示例代码\n",
    "\n",
    "import requests\n",
    "url = 'http://127.0.0.1:5000/book'\n",
    "def test_patch():\n",
    "    data = {'name': 'python'}\n",
    "    res = requests.request('trace', url, json=data)\n",
    "    print(res.text)\n",
    "test_patch()"
   ],
   "metadata": {
    "collapsed": false
   }
  },
  {
   "cell_type": "raw",
   "source": [
    "##########################################\n",
    "## --------------DELETEE------------------ ##\n",
    "* 用途：删除指定的资源。\n",
    "* 场景：从数据库中删除记录。\n",
    "\n",
    "* delete方法用于删除URI所标识的资源，同样是幂等操作\n",
    "\n",
    "import requests\n",
    "url = 'http://127.0.0.1:5000/book'\n",
    "def test_delete():\n",
    "    data = {'name': 'python', 'price': 55.6}\n",
    "    res = requests.delete(url, json=data)\n",
    "    print(res.text)\n",
    "test_delete()"
   ],
   "metadata": {
    "collapsed": false
   }
  },
  {
   "cell_type": "raw",
   "source": [
    "## --------------TRACE------------------ ##\n",
    "* 用途：回显服务器收到的请求，主要用于测试或诊断。\n",
    "* 场景：诊断复杂的应用程序行为或服务器配置问题。\n",
    "* trace请求方法用于http请求的测试和诊断，根据协议，服务器在收到trace请求后，应回显所收到的数据，即服务器返回自己所收到的数据。\n",
    "\n",
    "* 下面是客户端发送trace请求的一个例子\n",
    "import requests\n",
    "url = 'http://127.0.0.1:5000/book'\n",
    "def test_trace():\n",
    "    data = {'name': 'python'}\n",
    "    res = requests.request('trace', url, json=data)\n",
    "    print(res.text)\n",
    "test_trace()\n",
    "* requests模块目前还没有提供专门用来发送trace请求的方法，因此我这里使用request方法直接进行发送"
   ],
   "metadata": {
    "collapsed": false
   }
  },
  {
   "cell_type": "raw",
   "source": [
    "## --------------CONNECT------------------ ##\n",
    "* 用途：将连接转换到透明模式，用于创建隧道，常用于SSL加密服务器的连接（通过代理）。\n",
    "* 场景：通过代理访问HTTPS服务器。\n",
    "\n",
    "* connect请求方法在我们日常的开发工作中是不会遇到的，因为它的作用是让服务器作为代理，让服务器代替用户访问其他网页，其实就是代理服务器。\n",
    "\n",
    "* 鉴于connect在日常工作中很难有所应用，因此该请求不提供参考示例，感兴趣的同学可以阅读以下几篇博文\n",
    "\n",
    "https://www.jianshu.com/p/54357cdd4736\n",
    "https://blog.csdn.net/aotony_1988/article/details/42005835\n",
    "https://www.joji.me/zh-cn/blog/the-http-connect-tunnel/"
   ],
   "metadata": {
    "collapsed": false
   }
  },
  {
   "cell_type": "markdown",
   "metadata": {},
   "source": []
  }
 ],
 "metadata": {
  "kernelspec": {
   "display_name": "kiana",
   "language": "python",
   "name": "python3"
  },
  "language_info": {
   "codemirror_mode": {
    "name": "ipython",
    "version": 3
   },
   "file_extension": ".py",
   "mimetype": "text/x-python",
   "name": "python",
   "nbconvert_exporter": "python",
   "pygments_lexer": "ipython3",
   "version": "3.10.13"
  }
 },
 "nbformat": 4,
 "nbformat_minor": 2
}
