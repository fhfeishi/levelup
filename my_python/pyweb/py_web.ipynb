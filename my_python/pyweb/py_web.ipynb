{
 "cells": [
  {
   "cell_type": "markdown",
   "metadata": {},
   "source": [
    "# python web"
   ]
  },
  {
   "cell_type": "markdown",
   "metadata": {},
   "source": [
    "* flask   +\n",
    "* fastapi   +\n",
    "* tornado"
   ]
  },
  {
   "cell_type": "markdown",
   "metadata": {},
   "source": [
    "```\n",
    "|----app.py\n",
    "|----static\n",
    "       +-- css  main.css\n",
    "       +-- js  main.js\n",
    "|----templates\n",
    "       +-- xxx.html \n",
    "```"
   ]
  },
  {
   "cell_type": "markdown",
   "metadata": {},
   "source": [
    "```\n",
    "├── Procfile\n",
    "├── app.py\n",
    "├── env\n",
    "│   ├── bin\n",
    "├── requirements.txt\n",
    "├── static\n",
    "│   └── css\n",
    "│       └── main.css\n",
    "└── templates\n",
    "    ├── about.html\n",
    "    ├── home.html\n",
    "    ├── layout.html\n",
    "    ├── post.html\n",
    "    └── result.html\n",
    "```"
   ]
  },
  {
   "cell_type": "code",
   "execution_count": null,
   "metadata": {},
   "outputs": [],
   "source": []
  },
  {
   "cell_type": "code",
   "execution_count": null,
   "metadata": {},
   "outputs": [],
   "source": []
  }
 ],
 "metadata": {
  "language_info": {
   "name": "python"
  }
 },
 "nbformat": 4,
 "nbformat_minor": 2
}
