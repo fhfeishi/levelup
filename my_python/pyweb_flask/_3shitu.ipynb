{
 "cells": [
  {
   "cell_type": "markdown",
   "metadata": {},
   "source": [
    "# flask 视图\n",
    "\n",
    "编程中的许多概念，并不能像生活中的许多概念一样找到一个具体的与之相对应的实物，\n",
    "它就是这样的。"
   ]
  },
  {
   "cell_type": "raw",
   "metadata": {
    "vscode": {
     "languageId": "raw"
    }
   },
   "source": [
    "1、视图函数\n",
    "@app.route('/hello')\n",
    "def hello():\n",
    "    return 'hello'\n",
    "\n",
    "通过route装饰器，将一个url /hello 与 函数hello 关联在一起，我们称这个函数就是视图函数。\n",
    "请注意，视图函数并不是python中的概念，而是flask中的一个概念，\n",
    "一个视图函数用来处理一个请求，最终返回数据。\n",
    "\n",
    "基于函数的视图是最简单便捷的用法，出于设计模式的考虑，如果能用类来处理请求，\n",
    "某些情况下，系统架构会更加合理，更易于扩展。\n",
    "\n",
    "flask提供了两个两个视图类，我们可以继承这两个类中的一个，实现自己的类视图"
   ]
  },
  {
   "cell_type": "raw",
   "metadata": {
    "vscode": {
     "languageId": "raw"
    }
   },
   "source": [
    "2、flask.views.View\n",
    "继承flask.views.View，必须实现dispatch_request方法以处理请求，下面是一个简单的示例\n",
    "\n",
    "from flask import Flask, request\n",
    "from flask.views import View\n",
    "\n",
    "app = Flask(__name__)\n",
    "\n",
    "class UserView(View):\n",
    "    methods = ['GET']\n",
    "\n",
    "    def dispatch_request(self):\n",
    "        print(request.method)\n",
    "        return 'ok'\n",
    "\n",
    "app.add_url_rule('/users', view_func=UserView.as_view('users'))\n",
    "\n",
    "if __name__ == '__main__':\n",
    "    app.run(debug=True)\n",
    "\n",
    "as_view方法返回的是一个View类里的一个方法，类里的方法本质上仍然是函数， \n",
    "methods 规定这个视图类可以处理的请求方法。\n",
    "\n",
    "这样设计，我们可以把处理请求的相关代码抽象成不同的方法写在UserView类里，\n",
    "这样便于管理。\n"
   ]
  },
  {
   "cell_type": "raw",
   "metadata": {
    "vscode": {
     "languageId": "raw"
    }
   },
   "source": [
    "3、flask.views.MethodView\n",
    "View类里，如果一个资源支持多种请求方式，get，post,put,delete等等，\n",
    "那么你不得不在dispatch_request方法里根据request.method对他们进行区分，\n",
    "然后调用不同的处理方法进行响应，对各种请求的路由是由你自己完成的。\n",
    "\n",
    "而MethodView则帮你做好了路由，不同的请求，会被路由到不同的处理方法上\n",
    "\n",
    "from flask import Flask, request\n",
    "from flask.views import MethodView\n",
    "\n",
    "app = Flask(__name__)\n",
    "\n",
    "class UserView(MethodView):\n",
    "    def get(self):\n",
    "        return \"收到get请求\"\n",
    "\n",
    "    def post(self):\n",
    "        return '收到post请求'\n",
    "\n",
    "\n",
    "app.add_url_rule('/users', view_func=UserView.as_view('users'))\n",
    "\n",
    "if __name__ == '__main__':\n",
    "    app.run(debug=True)\n",
    "\n",
    "这种设计和tornado的处理方式是一样的，MethodView是View的子类，\n",
    "它实现了dispatch_request方法，\n",
    "如果请求的get请求，则路由到get方法，就是这么简单"
   ]
  },
  {
   "cell_type": "markdown",
   "metadata": {},
   "source": []
  }
 ],
 "metadata": {
  "kernelspec": {
   "display_name": "kiana",
   "language": "python",
   "name": "python3"
  },
  "language_info": {
   "codemirror_mode": {
    "name": "ipython",
    "version": 3
   },
   "file_extension": ".py",
   "mimetype": "text/x-python",
   "name": "python",
   "nbconvert_exporter": "python",
   "pygments_lexer": "ipython3",
   "version": "3.10.13"
  }
 },
 "nbformat": 4,
 "nbformat_minor": 2
}
