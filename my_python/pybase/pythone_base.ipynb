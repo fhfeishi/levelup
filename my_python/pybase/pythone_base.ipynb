{
 "cells": [
  {
   "cell_type": "markdown",
   "metadata": {},
   "source": [
    "## **1.2 Python语法基础**\n",
    "### **1.2.1 Python常用数据类型**\n",
    "\n",
    "- NoneType  \n",
    "- 布尔类型（Boolean）\n",
    "- 数字类型（Numeric Typies）\n",
    "- 字符串（String）\n",
    "- 元组（Tuple）\n",
    "- 集合（Set）\n",
    "- 列表（List）\n",
    "- 字典（Dictionary）\n",
    "- Python常用数据类型小结"
   ]
  },
  {
   "cell_type": "code",
   "execution_count": 214,
   "metadata": {},
   "outputs": [
    {
     "name": "stdout",
     "output_type": "stream",
     "text": [
      "<class 'NoneType'>\n"
     ]
    }
   ],
   "source": [
    "# NoneType  这个数据类型比较特殊，NoneType仅有唯一实例None\n",
    "print(type(None))   # <class 'NoneType'>"
   ]
  },
  {
   "cell_type": "markdown",
   "metadata": {},
   "source": [
    "**布尔类型（Boolean）**\n",
    "\n",
    "用来表示真（True）和假（False）的值，常用于条件判断"
   ]
  },
  {
   "cell_type": "code",
   "execution_count": 215,
   "metadata": {},
   "outputs": [
    {
     "name": "stdout",
     "output_type": "stream",
     "text": [
      "<class 'bool'>\n",
      "<class 'bool'>\n"
     ]
    }
   ],
   "source": [
    "is_student = True\n",
    "has_graduated = False\n",
    "\n",
    "print(type(is_student))   # <class 'bool'>\n",
    "print(type(has_graduated))   # <class 'bool'>"
   ]
  },
  {
   "cell_type": "markdown",
   "metadata": {},
   "source": [
    "**数字类型（Numeric Typies）**\n",
    "\n",
    "Python的的数字类型有整数、浮点数、复数：<br>\n",
    "\n",
    "    整数（int）： 用于表示整数值，没有小数部分<br>\n",
    "    浮点数（float）： 用于表示带有小数部分的数值<br>\n",
    "    复数（complex）：用于表示复数，包含实部和虚部"
   ]
  },
  {
   "cell_type": "code",
   "execution_count": 216,
   "metadata": {},
   "outputs": [
    {
     "name": "stdout",
     "output_type": "stream",
     "text": [
      "<class 'int'>\n",
      "<class 'int'>\n",
      "<class 'float'>\n",
      "<class 'float'>\n",
      "<class 'complex'>\n"
     ]
    }
   ],
   "source": [
    "# int\n",
    "a = 10\n",
    "b = -1  \n",
    "print(type(a))  # <class 'int'>\n",
    "print(type(b))  # <class 'int'>\n",
    "\n",
    "# float\n",
    "c = 3.4\n",
    "d = -0.002\n",
    "print(type(c))  # <class 'float'>\n",
    "print(type(d))  # <class 'float'>\n",
    "\n",
    "# complex\n",
    "e = -2 + 4j\n",
    "print(type(e))   # <class 'complex'>"
   ]
  },
  {
   "cell_type": "markdown",
   "metadata": {},
   "source": [
    "**四则混合运算、科学计数法、常用数字运算函数**"
   ]
  },
  {
   "cell_type": "code",
   "execution_count": 217,
   "metadata": {},
   "outputs": [
    {
     "name": "stdout",
     "output_type": "stream",
     "text": [
      "add_=3\n",
      "add_b=1.1\n"
     ]
    }
   ],
   "source": [
    "# 加 + \n",
    "add_ = 1 + 2\n",
    "add_b = 1.0 + .1\n",
    "print(f\"{add_=}\")   # add_=3\n",
    "print(f\"{add_b=}\")   # add_b=1.1"
   ]
  },
  {
   "cell_type": "code",
   "execution_count": 218,
   "metadata": {},
   "outputs": [
    {
     "name": "stdout",
     "output_type": "stream",
     "text": [
      "subtraction_=-1\n",
      "subtraction_b=-1.0\n"
     ]
    }
   ],
   "source": [
    "# 减 -\n",
    "subtraction_ = 1-2\n",
    "subtraction_b = 1-2. \n",
    "print(f\"{subtraction_=}\")  # subtraction_=-1\n",
    "print(f\"{subtraction_b=}\")  # subtraction_b=-1.0"
   ]
  },
  {
   "cell_type": "code",
   "execution_count": 219,
   "metadata": {},
   "outputs": [
    {
     "name": "stdout",
     "output_type": "stream",
     "text": [
      "multiplication_=6\n",
      "multiplication_b=6.0\n"
     ]
    }
   ],
   "source": [
    "# 乘 *\n",
    "multiplication_ = 2*3\n",
    "multiplication_b = 2.*3\n",
    "print(f\"{multiplication_=}\")   # multiplication_=6\n",
    "print(f\"{multiplication_b=}\")  # multiplication_b=6.0"
   ]
  },
  {
   "cell_type": "code",
   "execution_count": 220,
   "metadata": {},
   "outputs": [
    {
     "name": "stdout",
     "output_type": "stream",
     "text": [
      "division_=0.5\n",
      "division_b=2.0\n"
     ]
    }
   ],
   "source": [
    "# 除 /\n",
    "division_ = 1/2\n",
    "division_b = 2/1\n",
    "print(f\"{division_=}\")  # division_=0.5\n",
    "print(f\"{division_b=}\")  # division_b=2.0"
   ]
  },
  {
   "cell_type": "code",
   "execution_count": 221,
   "metadata": {},
   "outputs": [
    {
     "name": "stdout",
     "output_type": "stream",
     "text": [
      "rounding_=0\n",
      "remainder_=1\n"
     ]
    }
   ],
   "source": [
    "# 取商 //\n",
    "rounding_ = 1 //2\n",
    "print(f\"{rounding_=}\")   # rounding_=0\n",
    "\n",
    "# 取余 % \n",
    "remainder_ = 1%2\n",
    "print(f\"{remainder_=}\")  # remainder_=1"
   ]
  },
  {
   "cell_type": "code",
   "execution_count": 222,
   "metadata": {},
   "outputs": [
    {
     "name": "stdout",
     "output_type": "stream",
     "text": [
      "power_=8\n"
     ]
    }
   ],
   "source": [
    "# 幂运算 **\n",
    "power_ = 2**3\n",
    "print(f\"{power_=}\")  # power_=8"
   ]
  },
  {
   "cell_type": "code",
   "execution_count": 223,
   "metadata": {},
   "outputs": [
    {
     "name": "stdout",
     "output_type": "stream",
     "text": [
      "a=1000.0\n",
      "b=-0.0002\n"
     ]
    }
   ],
   "source": [
    "# 科学计数法\n",
    "a = 1e3\n",
    "print(f\"{a=}\")  # a=1000.0\n",
    "\n",
    "b = -2e-4\n",
    "print(f\"{b=}\")  # b=-0.0002"
   ]
  },
  {
   "cell_type": "code",
   "execution_count": 224,
   "metadata": {},
   "outputs": [
    {
     "name": "stdout",
     "output_type": "stream",
     "text": [
      "取绝对值：abs(number)=7.25\n",
      "求幂：pow(2,3)=8\n",
      "小数位数调整(有四舍五入)：round(3.1415, 3)=3.142\n",
      "取商取余：divmod(10,3)=(3, 1)\n"
     ]
    }
   ],
   "source": [
    "# 常用数字运算函数\n",
    "number = -7.25\n",
    "\n",
    "print(f\"取绝对值：{abs(number)=}\")  # 取绝对值：abs(number)=7.25\n",
    "print(f\"求幂：{pow(2,3)=}\")  # 求幂：pow(2,3)=8\n",
    "print(f\"小数位数调整(有四舍五入)：{round(3.1415, 3)=}\")  # 小数位数调整(有四舍五入)：round(3.1415, 3)=3.142\n",
    "print(f\"取商取余：{divmod(10,3)=}\")  # 取商取余：divmod(10,3)=(3, 1)"
   ]
  },
  {
   "cell_type": "code",
   "execution_count": 225,
   "metadata": {},
   "outputs": [
    {
     "name": "stdout",
     "output_type": "stream",
     "text": [
      "int(a)=1\n",
      "<class 'int'>\n",
      "float(b)=2.0\n",
      "<class 'float'>\n",
      "type(empty_int)=<class 'int'>\n",
      "type(empty_float)=<class 'float'>\n"
     ]
    }
   ],
   "source": [
    "# 数字类型转换\n",
    "a = 1.2  # <class 'float'>\n",
    "b = 2  # <class 'int'>\n",
    "print(f\"{int(a)=}\")  # int(a)=1\n",
    "print(type(int(a)))  # <class 'int'>\n",
    "print(f\"{float(b)=}\")  # float(b)=2.0\n",
    "print(type(float(b)))  # <class 'float'>\n",
    "\n",
    "# 空int \n",
    "empty_int = int()\n",
    "print(f\"{type(empty_int)=}\")   # type(empty_int)=<class 'int'>\n",
    "\n",
    "# 空float\n",
    "empty_float = float()\n",
    "print(f\"{type(empty_float)=}\")  # type(empty_float)=<class 'float'>"
   ]
  },
  {
   "cell_type": "markdown",
   "metadata": {},
   "source": [
    "**字符串（String）**\n",
    "\n",
    "用于存储文本数据，可以使用单引号、双引号或者三引号（三引号可以用于多行字符串）"
   ]
  },
  {
   "cell_type": "code",
   "execution_count": 226,
   "metadata": {},
   "outputs": [
    {
     "name": "stdout",
     "output_type": "stream",
     "text": [
      "<class 'str'>\n"
     ]
    }
   ],
   "source": [
    "name = \"Alili\"\n",
    "greeting = \"Hello !\"\n",
    "multiline = \"\"\"This is \n",
    "a \n",
    "multiline.\"\"\"\n",
    "\n",
    "# 空字符串   <class 'str'>\n",
    "empty_str = str()\n",
    "# empty_str = ''\n",
    "# empty_str = \"\"\n",
    "print(type(empty_str))    # <class 'str'>"
   ]
  },
  {
   "cell_type": "markdown",
   "metadata": {},
   "source": [
    "字符串是不可变类型，字符串在Python中是不可变的。这意味着一旦创建，字符串的内容不能被修改。所有对字符串的“修改”操作实际上都是创建了新的字符串对象。"
   ]
  },
  {
   "cell_type": "code",
   "execution_count": 227,
   "metadata": {},
   "outputs": [
    {
     "ename": "TypeError",
     "evalue": "'str' object does not support item assignment",
     "output_type": "error",
     "traceback": [
      "\u001b[1;31m---------------------------------------------------------------------------\u001b[0m",
      "\u001b[1;31mTypeError\u001b[0m                                 Traceback (most recent call last)",
      "Cell \u001b[1;32mIn[227], line 3\u001b[0m\n\u001b[0;32m      1\u001b[0m s \u001b[39m=\u001b[39m \u001b[39m\"\u001b[39m\u001b[39mHello\u001b[39m\u001b[39m\"\u001b[39m\n\u001b[0;32m      2\u001b[0m \u001b[39m# 尝试修改第一个字符\u001b[39;00m\n\u001b[1;32m----> 3\u001b[0m s[\u001b[39m0\u001b[39;49m] \u001b[39m=\u001b[39m \u001b[39m'\u001b[39m\u001b[39mh\u001b[39m\u001b[39m'\u001b[39m    \u001b[39m# TypeError: 'str' object does not support item assignment\u001b[39;00m\n",
      "\u001b[1;31mTypeError\u001b[0m: 'str' object does not support item assignment"
     ]
    }
   ],
   "source": [
    "s = \"Hello\"\n",
    "# 尝试修改第一个字符\n",
    "s[0] = 'h'    # TypeError: 'str' object does not support item assignment"
   ]
  },
  {
   "cell_type": "code",
   "execution_count": 228,
   "metadata": {},
   "outputs": [
    {
     "name": "stdout",
     "output_type": "stream",
     "text": [
      "hello\n"
     ]
    }
   ],
   "source": [
    "# 正确的做法是创建一个新的字符串\n",
    "s_new = 'hello'\n",
    "print(s_new)  # hello"
   ]
  },
  {
   "cell_type": "markdown",
   "metadata": {},
   "source": [
    "字符串是有序的字符序列，每个字符都有一个索引，Python支持通过索引访问字符串中的单个字符，并支持切片操作获取子字符串。这对于列表、元组同样适用。"
   ]
  },
  {
   "cell_type": "code",
   "execution_count": 229,
   "metadata": {},
   "outputs": [
    {
     "name": "stdout",
     "output_type": "stream",
     "text": [
      "H\n",
      "P\n",
      "!\n",
      "y\n",
      "Hello\n",
      "Python !\n",
      "Hello\n",
      "Hlo yhn!\n",
      "! nohtyP ,olleH\n",
      "thon \n"
     ]
    }
   ],
   "source": [
    "s = \"Hello, Python !\"\n",
    "# 索引\n",
    "# 正向索引  从0开始\n",
    "print(s[0])   # H\n",
    "print(s[7])   # P\n",
    "# 反向索引  从-1开始\n",
    "print(s[-1])  # !\n",
    "print(s[-7])  # y\n",
    "# 切片\n",
    "# 基本切片\n",
    "print(s[0:5])  # Hello\n",
    "print(s[7:])  # Python !\n",
    "print(s[:5])  # Hello\n",
    "# 使用步长   start:end:step     step默认是1，也就是连续取，step=2就是隔一个取\n",
    "print(s[::2])  # Hlo yhn!\n",
    "print(s[::-1])  # ! nohtyP ,olleH  # 字符串反转\n",
    "# 负数索引切片 \n",
    "print(s[-6:-1])  # thon "
   ]
  },
  {
   "cell_type": "markdown",
   "metadata": {},
   "source": [
    "字符串能够索引，自然也支持切片。此外，字符串也支持拼接或重复等操作"
   ]
  },
  {
   "cell_type": "code",
   "execution_count": 230,
   "metadata": {},
   "outputs": [
    {
     "name": "stdout",
     "output_type": "stream",
     "text": [
      "Hello,World!\n",
      "Python is awesome\n",
      "Echo! Echo! Echo! \n"
     ]
    }
   ],
   "source": [
    "# 拼接\n",
    "# 使用加号\n",
    "s1 = \"Hello\"\n",
    "s2 = \"World\"\n",
    "s3 = s1 + \",\" + s2 + \"!\"\n",
    "print(s3) # Hello,World!\n",
    "\n",
    "# 使用join()方法\n",
    "words= [\"Python\", \"is\", \"awesome\"]\n",
    "sentense = \" \".join(words)\n",
    "print(sentense)  # Python is awesome\n",
    "\n",
    "# 重复\n",
    "s = 'Echo! '\n",
    "repeated = s * 3\n",
    "print(repeated)  # Echo! Echo! Echo! "
   ]
  },
  {
   "cell_type": "markdown",
   "metadata": {},
   "source": [
    "Python字符串方法丰富，以下是一些常用的方法及示例。\n",
    "\n",
    "**分割**。split()方法根据指定的分隔符将字符串分割成列表，默认分隔符位空格； rsplit()方法从右侧开始分割字符串，功能与split()类似，可以指定最大分割次数"
   ]
  },
  {
   "cell_type": "code",
   "execution_count": 231,
   "metadata": {},
   "outputs": [
    {
     "name": "stdout",
     "output_type": "stream",
     "text": [
      "['Python', 'is', 'fun', 'and', 'powerful.']\n",
      "['Python is fun and powerful', '']\n",
      "['apple', 'banana', 'orange']\n"
     ]
    }
   ],
   "source": [
    "# 分割\n",
    "\n",
    "s = \"Python is fun and powerful.\"\n",
    "words = s.split()\n",
    "print(words)   # ['Python', 'is', 'fun', 'and', 'powerful.']\n",
    "\n",
    "# words = s.split(' ', 1)  # 看python的版本是否支持\n",
    "# print(words)  # ['Python', 'is fun and powerful.']\n",
    "\n",
    "# 使用指定分隔符\n",
    "words_dot = s.split('.')\n",
    "print(words_dot)  # ['Python is fun and powerful', '']\n",
    "\n",
    "s_ = \"apple,banana,orange\"\n",
    "# rsplit  从右开始分割,最多分割2次\n",
    "fruits = s_.rsplit(',', 2)\n",
    "print(fruits)  # ['apple', 'banana', 'orange']\n"
   ]
  },
  {
   "cell_type": "markdown",
   "metadata": {},
   "source": [
    "**查找**。<br>find()返回子字符串首次出现的位置，如果未找到则返回-1；rfind()返回子字符串最后一次出现的位置，如果未找到则返回-1"
   ]
  },
  {
   "cell_type": "code",
   "execution_count": 232,
   "metadata": {},
   "outputs": [
    {
     "name": "stdout",
     "output_type": "stream",
     "text": [
      "4\n",
      "-1\n",
      "7\n"
     ]
    }
   ],
   "source": [
    "s = 'abracadabra'\n",
    "\n",
    "index = s.find('cad')\n",
    "print(index)  # 4\n",
    "\n",
    "ind = s.find('xyt')\n",
    "print(ind)  # -1\n",
    "\n",
    "last_idx = s.rfind('abra')\n",
    "print(last_idx)  # 7"
   ]
  },
  {
   "cell_type": "markdown",
   "metadata": {},
   "source": [
    "**大小写转换**<br>\n",
    "upper()将字符串转换成大写；lower()系那个字符串转换成小写"
   ]
  },
  {
   "cell_type": "code",
   "execution_count": 233,
   "metadata": {},
   "outputs": [
    {
     "name": "stdout",
     "output_type": "stream",
     "text": [
      "A, A\n",
      "a, a\n"
     ]
    }
   ],
   "source": [
    "s = \"a, A\"\n",
    "print(s.upper())  # A, A\n",
    "print(s.lower())  # a, a"
   ]
  },
  {
   "cell_type": "markdown",
   "metadata": {},
   "source": [
    "**移除指定字符串**<br>\n",
    "strip()移除字符串两端的指定字符(默认空格)，lstrip()移除字符串左侧的指定字符(默认空格)， rstrip()移除字符串右侧的指定字符(默认空格)"
   ]
  },
  {
   "cell_type": "code",
   "execution_count": 234,
   "metadata": {},
   "outputs": [
    {
     "name": "stdout",
     "output_type": "stream",
     "text": [
      "Hello, Python!\n",
      "Hello, Python!  \n",
      "  Hello, Python!\n"
     ]
    }
   ],
   "source": [
    "s = \"  Hello, Python!  \"\n",
    "\n",
    "print(s.strip())  # Hello, Python!\n",
    "print(s.lstrip()) # Hello, Python!\n",
    "print(s.rstrip()) #   Hello, Python!"
   ]
  },
  {
   "cell_type": "markdown",
   "metadata": {},
   "source": [
    "**判断字符串的开头、结尾** <br>\n",
    "startswith()检查字符串是否以指定子字符串开头； endswith()检查字符串是否以子字符串结尾"
   ]
  },
  {
   "cell_type": "code",
   "execution_count": 235,
   "metadata": {},
   "outputs": [
    {
     "name": "stdout",
     "output_type": "stream",
     "text": [
      "True\n",
      "True\n",
      "False\n"
     ]
    }
   ],
   "source": [
    "s = \"Pyrhon Programming\"\n",
    "\n",
    "print(s.startswith('Py'))  # True\n",
    "print(s.endswith('g'))  # True\n",
    "print(s.startswith('Java'))  # False"
   ]
  },
  {
   "cell_type": "markdown",
   "metadata": {},
   "source": [
    "**count()** 方法用于统计子字符串在字符串中出现的次数"
   ]
  },
  {
   "cell_type": "code",
   "execution_count": 236,
   "metadata": {},
   "outputs": [
    {
     "name": "stdout",
     "output_type": "stream",
     "text": [
      "3\n"
     ]
    }
   ],
   "source": [
    "s = 'banana'\n",
    "\n",
    "count = s.count('a')\n",
    "print(count)  # 3"
   ]
  },
  {
   "cell_type": "markdown",
   "metadata": {},
   "source": [
    "**index()** 方法用于查看子字符串在字符串中的索引位置"
   ]
  },
  {
   "cell_type": "code",
   "execution_count": 237,
   "metadata": {},
   "outputs": [
    {
     "name": "stdout",
     "output_type": "stream",
     "text": [
      "1\n"
     ]
    }
   ],
   "source": [
    "s = 'banana'\n",
    "\n",
    "index_ = s.index('a')\n",
    "print(index_)  # 1"
   ]
  },
  {
   "cell_type": "markdown",
   "metadata": {},
   "source": [
    "**字符串格式化**<br>\n",
    "字符串格式化用于动态插入变量到字符串中。Python提供了多种格式化方法，包括%格式化、str.format()和f-str(Python 3.6+)。f-str提供了一种简洁的格式化方法，直接在字符串前加f并在花括号{}中引入变量，推荐使用"
   ]
  },
  {
   "cell_type": "code",
   "execution_count": 238,
   "metadata": {},
   "outputs": [
    {
     "name": "stdout",
     "output_type": "stream",
     "text": [
      "My name is Alili and I am 24 years old.\n",
      "My name is Alili and I am 24.00 years old.\n",
      "My name is Alili and I am 24.00 years old.\n"
     ]
    }
   ],
   "source": [
    "name = \"Alili\"\n",
    "age = 24\n",
    "\n",
    "# %\n",
    "s = \"My name is %s and I am %d years old.\" % (name, age)\n",
    "print(s)\n",
    "\n",
    "# str.format()\n",
    "fmt_mtd = \"My name is {} and I am {:.2f} years old.\".format(name, age)\n",
    "print(fmt_mtd)  # My name is Alili and I am 24.00 years old.\n",
    "# 0 1 表示索引\n",
    "# fmt_mtd = \"My name is {0} and I am {1} years old.\".format(name, age)\n",
    "# fmt_mtd = \"My name is {0} and I am {1:.2f} years old.\".format(name, age)\n",
    "\n",
    "# f-str\n",
    "f_method = f\"My name is {name} and I am {age:.2f} years old.\"\n",
    "print(f_method)  # My name is Alili and I am 24.00 years old."
   ]
  },
  {
   "cell_type": "markdown",
   "metadata": {},
   "source": [
    "**转义字符与原始字符串** <br> 转义字符与原始字符串。字符串中可以包含特殊字符，如换行符 \\n、制表符 \\t 等。使用反斜杠 \\ 作为转义字符；使用 r 或 R 前缀可以创建原始字符串，忽略转义字符，原始字符串多用于文件路径（Ubuntu或其他类 Unix 系统文件路径使用正斜杠 / 作为路径分隔符；Windows文件路径通常包含反斜杠\\，使用原始字符串可以避免重复转义）。"
   ]
  },
  {
   "cell_type": "code",
   "execution_count": 239,
   "metadata": {},
   "outputs": [
    {
     "name": "stdout",
     "output_type": "stream",
     "text": [
      "Hello,\n",
      "Python!\n",
      "C:\\Users\\Alili\\Documents\n"
     ]
    }
   ],
   "source": [
    "s = \"Hello,\\nPython!\"\n",
    "print(s)\n",
    "# Hello,\n",
    "# Python!\n",
    "\n",
    "s = r\"C:\\Users\\Alili\\Documents\"\n",
    "print(s)  # C:\\Users\\Alice\\Documents"
   ]
  },
  {
   "cell_type": "markdown",
   "metadata": {},
   "source": [
    "**字符串长度** <br>使用 len() 函数获取字符串的长度。"
   ]
  },
  {
   "cell_type": "code",
   "execution_count": 240,
   "metadata": {},
   "outputs": [
    {
     "name": "stdout",
     "output_type": "stream",
     "text": [
      "6\n"
     ]
    }
   ],
   "source": [
    "s = \"Python\"\n",
    "print(len(s))  # 6"
   ]
  },
  {
   "cell_type": "markdown",
   "metadata": {},
   "source": [
    "**检查子字符串**<br>使用 in 和 not in 关键字检查字符串中是否包含某个子字符串。"
   ]
  },
  {
   "cell_type": "code",
   "execution_count": 241,
   "metadata": {},
   "outputs": [
    {
     "name": "stdout",
     "output_type": "stream",
     "text": [
      "True\n",
      "True\n"
     ]
    }
   ],
   "source": [
    "s = \"Python Programming\"\n",
    "print(\"Python\" in s)      # True\n",
    "print(\"Java\" not in s)    # True"
   ]
  },
  {
   "cell_type": "markdown",
   "metadata": {},
   "source": [
    "**遍历字符串** <br> 可以使用for循环遍历字符串中的每个字符"
   ]
  },
  {
   "cell_type": "code",
   "execution_count": 242,
   "metadata": {},
   "outputs": [
    {
     "name": "stdout",
     "output_type": "stream",
     "text": [
      "H\n",
      "e\n",
      "l\n",
      "l\n",
      "o\n"
     ]
    }
   ],
   "source": [
    "s = \"Hello\"\n",
    "for char in s:\n",
    "    print(char)\n",
    "# H\n",
    "# e\n",
    "# l\n",
    "# l\n",
    "# o"
   ]
  },
  {
   "cell_type": "markdown",
   "metadata": {},
   "source": [
    "**列表转换**<br>将字符串转换为列表，或者将列表转换位为字符串"
   ]
  },
  {
   "cell_type": "code",
   "execution_count": 243,
   "metadata": {},
   "outputs": [
    {
     "name": "stdout",
     "output_type": "stream",
     "text": [
      "['H', 'e', 'l', 'l', 'o']\n",
      "Hello\n"
     ]
    }
   ],
   "source": [
    "s = \"Hello\"\n",
    "\n",
    "# 转换为列表\n",
    "chars = list(s)\n",
    "print(chars)  # ['H', 'e', 'l', 'l', 'o']\n",
    "\n",
    "# 列表转换为字符串\n",
    "s_new = ''.join(chars)\n",
    "print(s_new)  # Hello"
   ]
  },
  {
   "cell_type": "markdown",
   "metadata": {},
   "source": [
    "**字符串查找替换**<br>结合find()和replace()方法，可以进行复杂的查找与替换操作"
   ]
  },
  {
   "cell_type": "code",
   "execution_count": 244,
   "metadata": {},
   "outputs": [
    {
     "name": "stdout",
     "output_type": "stream",
     "text": [
      "16\n",
      "The quick brown cat jumps over the lazy dog.\n"
     ]
    }
   ],
   "source": [
    "s = \"The quick brown fox jumps over the lazy dog.\"\n",
    "# 查找子字符串\n",
    "index = s.find(\"fox\")\n",
    "print(index)  # 16\n",
    "# 替换子字符串\n",
    "s_new = s.replace(\"fox\", \"cat\")  \n",
    "print(s_new)  # The quick brown cat jumps over the lazy dog."
   ]
  },
  {
   "cell_type": "markdown",
   "metadata": {},
   "source": [
    "**元组（Tuple）**\n"
   ]
  },
  {
   "cell_type": "markdown",
   "metadata": {},
   "source": [
    "有序但不可变的序列对象，适用于存储不需要修改的数据。创建元组最简单的方式是用逗号分隔开一列值，当用复杂的表达式定义元组时最好将值放到圆括号`()`内"
   ]
  },
  {
   "cell_type": "code",
   "execution_count": 245,
   "metadata": {},
   "outputs": [
    {
     "name": "stdout",
     "output_type": "stream",
     "text": [
      "(1, 2, 4)\n",
      "((4, 2, 1), (3, 9))\n",
      "<class 'tuple'>\n"
     ]
    }
   ],
   "source": [
    "tup = 1,2,4\n",
    "# tup = 1,2,4,\n",
    "# tup = (1,2,4)\n",
    "# tup = (1,2,4,)\n",
    "print(tup)   # (1, 2, 4)\n",
    "\n",
    "z_tup = (4,2,1), (3,9)\n",
    "print(z_tup)   # ((4, 2, 1), (3, 9))\n",
    "\n",
    "# 空元组\n",
    "empty_tup = ()   #  <class 'tuple'>\n",
    "# empty_tup = tuple()   # <class 'tuple'>\n",
    "print(type(empty_tup))   # <class 'tuple'>"
   ]
  },
  {
   "cell_type": "markdown",
   "metadata": {},
   "source": [
    "用`tuple()`可以将任意序列或者迭代器转换成元组"
   ]
  },
  {
   "cell_type": "code",
   "execution_count": 246,
   "metadata": {},
   "outputs": [
    {
     "name": "stdout",
     "output_type": "stream",
     "text": [
      "(1, 3, 2, 4, 2)\n",
      "('A', 'b', 'C', 'd', 'e', 'f')\n"
     ]
    }
   ],
   "source": [
    "tuple_a = tuple([1,3,2,4,2])  # (1, 3, 2, 4, 2)\n",
    "print(tuple_a)\n",
    "tuple_b = tuple(\"AbCdef\")  # ('A', 'b', 'C', 'd', 'e', 'f')\n",
    "print(tuple_b)"
   ]
  },
  {
   "cell_type": "markdown",
   "metadata": {},
   "source": [
    "元组具有有序、不可变、支持重复元素的特点，元组支持索引。元组中存储的对象可能是可变对象，一旦创建了元组，元组中的对象就不能修改了"
   ]
  },
  {
   "cell_type": "code",
   "execution_count": 247,
   "metadata": {},
   "outputs": [
    {
     "name": "stdout",
     "output_type": "stream",
     "text": [
      "True\n"
     ]
    }
   ],
   "source": [
    "tuple_c = tuple(['start', [0,0], 1, False])\n",
    "id_before = id(tuple_c[1])  # 3004552076736\n",
    "\n",
    "# tuple_c[1] = [0,0,1] # 会引发 TypeError\n",
    "tuple_c[1].append(1)  # ('start', [0, 0, 1], 1, False) \n",
    "id_after = id(tuple_c[1])  # 3004552076736\n",
    "\n",
    "print(id_before == id_after) # True\n",
    "\n",
    "# 在Python中，每个对象都有一个唯一的身份标识，用于区分不同的对象。\n",
    "# id() 函数用于获取对象的唯一标识符。这是一个唯一的整数，且在对象的生命周期内保持不变\n",
    "# id_before == id_after，id_before、id_after引用的是同一个对象 tuple_c[1]\n",
    "# is 运算符,用于判断两个变量是否引用同一个对象,等同于比较两个变量的id是否相同"
   ]
  },
  {
   "cell_type": "markdown",
   "metadata": {},
   "source": [
    "在Python中，变量实际上是对象的引用。不同变量可以引用同一个对象，也可以引用不同的对象。\n",
    "* id(object) 函数返回对象的“身份”，这是一个唯一的整数，且在对象的生命周期内保持不变。\n",
    "* is 运算符,用于判断两个变量是否引用同一个对象,等同于比较两个变量的id是否相同"
   ]
  },
  {
   "cell_type": "markdown",
   "metadata": {},
   "source": [
    "用加号运算符可以将元组串联起来，也可以乘以一个整数，将几个元组的复制串联起来（对象本身并没有复制，只是引用了它）。"
   ]
  },
  {
   "cell_type": "code",
   "execution_count": 248,
   "metadata": {},
   "outputs": [
    {
     "ename": "TypeError",
     "evalue": "can only concatenate tuple (not \"str\") to tuple",
     "output_type": "error",
     "traceback": [
      "\u001b[1;31m---------------------------------------------------------------------------\u001b[0m",
      "\u001b[1;31mTypeError\u001b[0m                                 Traceback (most recent call last)",
      "Cell \u001b[1;32mIn[248], line 1\u001b[0m\n\u001b[1;32m----> 1\u001b[0m tuple_ \u001b[39m=\u001b[39m (\u001b[39m1\u001b[39;49m,\u001b[39m2\u001b[39;49m,) \u001b[39m+\u001b[39;49m \u001b[39m\"\u001b[39;49m\u001b[39ma\u001b[39;49m\u001b[39m\"\u001b[39;49m \u001b[39m+\u001b[39m (\u001b[39m\"\u001b[39m\u001b[39m1\u001b[39m\u001b[39m\"\u001b[39m,) \u001b[39m+\u001b[39m (\u001b[39m2\u001b[39m)  \n\u001b[0;32m      2\u001b[0m \u001b[39m# TypeError \"a\"、(\"a\") is str, type((2)) is int\u001b[39;00m\n",
      "\u001b[1;31mTypeError\u001b[0m: can only concatenate tuple (not \"str\") to tuple"
     ]
    }
   ],
   "source": [
    "tuple_ = (1,2,) + \"a\" + (\"1\",) + (2)  \n",
    "# TypeError \"a\"、(\"a\") is str, type((2)) is int\n"
   ]
  },
  {
   "cell_type": "code",
   "execution_count": 249,
   "metadata": {},
   "outputs": [
    {
     "name": "stdout",
     "output_type": "stream",
     "text": [
      "tuple_d=(1, 2, 'a', '1', 2)\n",
      "tuple_e=('kk', 'ss', 'kk', 'ss')\n"
     ]
    }
   ],
   "source": [
    "tuple_d = (1,2,) + (\"a\",) + (\"1\",) + (2,)  \n",
    "tuple_e = ('kk', 'ss') * 2   \n",
    "print(f\"{tuple_d=}\")  # tuple_d=(1, 2, 'a', '1', 2)\n",
    "print(f\"{tuple_e=}\")  # tuple_e=('kk', 'ss', 'kk', 'ss')"
   ]
  },
  {
   "cell_type": "markdown",
   "metadata": {},
   "source": [
    "**元组支持拆分**\n",
    "\n",
    "如果你想将元组赋值给类似元组的变量，Pyhton会试图拆分等号右边的值，<br>其中`*rest`这个特殊语法可用于抓取任意长度列表的位置参数，如果这个rest是不需要的参数，其名字也就不重要了，这个时候通常会使用`_`这个字符来表示"
   ]
  },
  {
   "cell_type": "code",
   "execution_count": 250,
   "metadata": {},
   "outputs": [
    {
     "name": "stdout",
     "output_type": "stream",
     "text": [
      "rest=[33, 41]\n",
      "1\n"
     ]
    }
   ],
   "source": [
    "tuple_f = (1,21,33,41)\n",
    "a_, b_, c_, d_= tuple_f   # 1 21 33 41\n",
    "a_, b_, *rest = tuple_f   # 1 21\n",
    "print(f\"{rest=}\")   # rest=[33, 41]\n",
    "\n",
    "tuple_g = (1,),(21,33,41)\n",
    "a_, (b_, c_, d_) = tuple_g   #  (1,) 21 33 41\n",
    "a_, b_ = tuple_g   # (1,) (21, 33, 41)\n",
    "print(a_[0])   # 1"
   ]
  },
  {
   "cell_type": "markdown",
   "metadata": {},
   "source": [
    "因此，在Pyhton中可以简单地替换变量的名字"
   ]
  },
  {
   "cell_type": "code",
   "execution_count": 251,
   "metadata": {},
   "outputs": [
    {
     "name": "stdout",
     "output_type": "stream",
     "text": [
      "x_=2\n",
      "y_=1\n"
     ]
    }
   ],
   "source": [
    "x_, y_ = 1, 2\n",
    "x_, y_ = y_, x_ \n",
    "print(f\"{x_=}\") # x_=2\n",
    "print(f\"{y_=}\") # y_=1"
   ]
  },
  {
   "cell_type": "markdown",
   "metadata": {},
   "source": [
    "因为元组的大小和内容不能修改，他的实例方法都很轻量。其中一个很有用的就是count（）方法，它可以统计某个值的出现频率："
   ]
  },
  {
   "cell_type": "code",
   "execution_count": 252,
   "metadata": {},
   "outputs": [
    {
     "data": {
      "text/plain": [
       "5"
      ]
     },
     "execution_count": 252,
     "metadata": {},
     "output_type": "execute_result"
    }
   ],
   "source": [
    "tuple_h = 1,2,3,4,5,6,6,6,6,6,\n",
    "tuple_h.count(6)  # 5"
   ]
  },
  {
   "cell_type": "markdown",
   "metadata": {},
   "source": [
    "**集合（Set）**"
   ]
  },
  {
   "cell_type": "markdown",
   "metadata": {},
   "source": [
    "无序且不重复的元素集合，常用于去重和集合操作。<br>特性：无序、不可重复元素"
   ]
  },
  {
   "cell_type": "code",
   "execution_count": 253,
   "metadata": {},
   "outputs": [
    {
     "name": "stdout",
     "output_type": "stream",
     "text": [
      "<class 'set'>\n",
      "sub_result={8, 2, 4, 6}\n",
      "union={1, 2, 3, 4, 5, 6, 7, 8}\n",
      "intersection={4, 6}\n",
      "tuple_=(1, 2, 3, 4, 12)\n",
      "1\n",
      "2\n",
      "3\n",
      "4\n",
      "12\n"
     ]
    }
   ],
   "source": [
    "# 空集合\n",
    "empty_set = set()  # <class 'set'>\n",
    "print(type(empty_set))  # <class 'set'>\n",
    "# 创建集合\n",
    "unique_numbers = {1, 2, 3, 4, 5}\n",
    "# 添加元素\n",
    "unique_numbers.add(6)\n",
    "# 删除元素\n",
    "unique_numbers.discard(3)\n",
    "\n",
    "# 集合运算\n",
    "evens = {2, 4, 6, 8}\n",
    "odds = {1, 3, 5, 7}\n",
    "# # -\n",
    "sub_result = evens - odds\n",
    "print(f\"{sub_result=}\")   # sub_result={8, 2, 4, 6}\n",
    "# # 并集\n",
    "union = evens.union(odds)\n",
    "# union = evens | odds\n",
    "# union = evens.update(odds)\n",
    "print(f\"{union=}\")  # union={1, 2, 3, 4, 5, 6, 7, 8}\n",
    "# # 交集\n",
    "intersection = evens.intersection({4, 5, 6})\n",
    "print(f\"{intersection=}\")  # intersection={4, 6}\n",
    "\n",
    "# 不在意内部元素顺序的情况下, 剔除重复值\n",
    "tu = 1,1,1,1,1,1,12,2,3,4,\n",
    "tuple_ = tuple(set(tu))\n",
    "print(f\"{tuple_=}\")  # list_=[1, 2, 3, 4, 12]\n",
    "# 集合支持for循环遍历\n",
    "for x in tuple_:\n",
    "    print(x) # 1 2 3 4 12"
   ]
  },
  {
   "cell_type": "markdown",
   "metadata": {},
   "source": [
    "**列表（List）**\n"
   ]
  },
  {
   "cell_type": "markdown",
   "metadata": {},
   "source": [
    "有序且可变的集合，允许存储不同类型的元素。<br>特性：有序、可变、支持重复元素。列表与元组的语义接近，在许多函数中可以交叉使用。"
   ]
  },
  {
   "cell_type": "code",
   "execution_count": 254,
   "metadata": {},
   "outputs": [
    {
     "name": "stdout",
     "output_type": "stream",
     "text": [
      "<class 'list'>\n",
      "first_fruit='apple'\n",
      "last_fruit='cherry'\n",
      "[2, 3, 4]\n",
      "[0, 1, 2, 3]\n",
      "[6, 7, 8, 9]\n",
      "[0, 2, 4, 6, 8]\n",
      "[9, 8, 7, 6, 5, 4, 3, 2, 1, 0]\n"
     ]
    }
   ],
   "source": [
    "# 创建列表\n",
    "# # 空列表\n",
    "empty_list = [] \n",
    "# empty_list = list()\n",
    "# print(empty_list)  # []\n",
    "print(type(empty_list))  # <class 'list'>\n",
    "\n",
    "# # 嵌套列表\n",
    "nested_list = [1, [2, 3], [4, 5, 6]]\n",
    "# # 列表中可以包含不同类型的元素\n",
    "mixed_list = [1, \"Python\", 3.14, True]\n",
    "\n",
    "\n",
    "fruits = ['apple', 'banana', 'cherry']\n",
    "# 正向索引\n",
    "first_fruit = fruits[0]\n",
    "print(f\"{first_fruit=}\")  # first_fruit='apple'\n",
    "# 反向索引\n",
    "last_fruit = fruits[-1]\n",
    "print(f\"{last_fruit=}\")  # last_fruit='cherry'\n",
    "\n",
    "# 列表切片 语法为list[start:end:step]\n",
    "numbers = [0, 1, 2, 3, 4, 5, 6, 7, 8, 9]\n",
    "# # 基本切片\n",
    "print(numbers[2:5])    # [2, 3, 4]\n",
    "print(numbers[:4])     # [0, 1, 2, 3]\n",
    "print(numbers[6:])     # [6, 7, 8, 9]\n",
    "# # 使用步长\n",
    "print(numbers[::2])    # [0, 2, 4, 6, 8]\n",
    "print(numbers[::-1])   # [9, 8, 7, 6, 5, 4, 3, 2, 1, 0]"
   ]
  },
  {
   "cell_type": "markdown",
   "metadata": {},
   "source": [
    "列表是可变的，可以添加、删除或修改元素"
   ]
  },
  {
   "cell_type": "markdown",
   "metadata": {},
   "source": [
    "添加元素： `append()`，在列表末尾添加一个元素。`insert()`，在指定位置插入一个元素。`extend()`，使用另一个可迭代对象扩展列表。"
   ]
  },
  {
   "cell_type": "code",
   "execution_count": 255,
   "metadata": {},
   "outputs": [
    {
     "name": "stdout",
     "output_type": "stream",
     "text": [
      "['apple', 'banana', 'cherry', 'date']\n",
      "['apple', 'blueberry', 'banana', 'cherry', 'date']\n",
      "['apple', 'blueberry', 'banana', 'cherry', 'date', 'elderberry', 'fig']\n"
     ]
    }
   ],
   "source": [
    "fruits = ['apple', 'banana', 'cherry']\n",
    "\n",
    "# append()\n",
    "fruits.append('date')\n",
    "print(fruits)  #  ['apple', 'banana', 'cherry', 'date']\n",
    "\n",
    "# insert()\n",
    "fruits.insert(1, 'blueberry')\n",
    "print(fruits)  # ['apple', 'blueberry', 'banana', 'cherry', 'date']\n",
    "\n",
    "# extend()\n",
    "fruits.extend(['elderberry', 'fig'])\n",
    "print(fruits)  # ['apple', 'blueberry', 'banana', 'cherry', 'date', 'elderberry', 'fig']"
   ]
  },
  {
   "cell_type": "markdown",
   "metadata": {},
   "source": [
    "删除元素\n",
    "\n",
    "    remove(): 删除第一个匹配的元素。\n",
    "    pop(): 删除并返回指定位置的元素，默认删除最后一个元素。\n",
    "    clear(): 删除列表中的所有元素。"
   ]
  },
  {
   "cell_type": "code",
   "execution_count": 256,
   "metadata": {},
   "outputs": [
    {
     "name": "stdout",
     "output_type": "stream",
     "text": [
      "['apple', 'blueberry', 'cherry', 'date', 'elderberry', 'fig']\n",
      "cherry\n",
      "['apple', 'blueberry', 'date', 'elderberry', 'fig']\n",
      "[]\n"
     ]
    }
   ],
   "source": [
    "fruits = ['apple', 'blueberry', 'banana', 'cherry', 'date', 'elderberry', 'fig']\n",
    "\n",
    "# remove()\n",
    "fruits.remove('banana')\n",
    "print(fruits)  # ['apple', 'blueberry', 'cherry', 'date', 'elderberry', 'fig']\n",
    "\n",
    "# pop()\n",
    "removed = fruits.pop(2)\n",
    "print(removed)  # cherry\n",
    "print(fruits)    # ['apple', 'blueberry', 'date', 'elderberry', 'fig']\n",
    "\n",
    "# clear()\n",
    "fruits.clear()\n",
    "print(fruits)  # []\n"
   ]
  },
  {
   "cell_type": "markdown",
   "metadata": {},
   "source": [
    "常用的列表方法：\n",
    "\n",
    "    index()，返回第一个匹配元素的索引。\n",
    "    count()，统计元素在列表中出现的次数。\n",
    "    sort()，对列表进行就地排序。\n",
    "    sorted(): 返回排序后的新列表。\n",
    "    reverse()，将列表元素反转。"
   ]
  },
  {
   "cell_type": "code",
   "execution_count": 257,
   "metadata": {},
   "outputs": [
    {
     "name": "stdout",
     "output_type": "stream",
     "text": [
      "4\n",
      "2\n",
      "[1, 2, 2, 4, 5, 6, 9]\n",
      "[9, 6, 5, 4, 2, 2, 1]\n",
      "[9, 6, 5, 4, 2, 2, 1]\n"
     ]
    }
   ],
   "source": [
    "numbers = [4, 2, 9, 1, 5, 6, 2]\n",
    "\n",
    "# index()\n",
    "print(numbers.index(5))  # 4\n",
    "\n",
    "# count()\n",
    "print(numbers.count(2))  # 2\n",
    "\n",
    "# sort()\n",
    "numbers.sort()\n",
    "print(numbers)  # [1, 2, 2, 4, 5, 6, 9]\n",
    "\n",
    "# sorted()   reverse: True降序 False升序\n",
    "sorted_numbers = sorted(numbers, reverse=True)  \n",
    "print(sorted_numbers)  # [9, 6, 5, 4, 2, 2, 1]\n",
    "\n",
    "# reverse()\n",
    "numbers.reverse()\n",
    "print(numbers)  # [9, 6, 5, 4, 2, 2, 1]\n"
   ]
  },
  {
   "cell_type": "markdown",
   "metadata": {},
   "source": [
    "列表的遍历\n",
    "\n",
    "    最常见的遍历方法是使用 for 循环逐个访问列表中的元素。虽然不如 for 循环常用，但 while 循环也可以用于遍历列表，特别是在需要基于索引进行操作时。"
   ]
  },
  {
   "cell_type": "code",
   "execution_count": 258,
   "metadata": {},
   "outputs": [
    {
     "name": "stdout",
     "output_type": "stream",
     "text": [
      "apple\n",
      "banana\n",
      "cherry\n",
      "date\n",
      "apple\n",
      "banana\n",
      "cherry\n",
      "date\n"
     ]
    }
   ],
   "source": [
    "fruits = ['apple', 'banana', 'cherry', 'date']\n",
    "\n",
    "# 使用 for 循环遍历列表\n",
    "for fruit in fruits:\n",
    "    print(fruit)\n",
    "\n",
    "# while循环\n",
    "index = 0\n",
    "while index < len(fruits):\n",
    "    print(fruits[index])\n",
    "    index += 1\n",
    "# apple banana cherry date"
   ]
  },
  {
   "cell_type": "markdown",
   "metadata": {},
   "source": [
    "    使用enumerate() 函数遍历列表。enumerate() 函数为遍历提供了一个索引和值的组合，使得在遍历过程中同时获取元素的索引和内容变得更加简洁。"
   ]
  },
  {
   "cell_type": "code",
   "execution_count": 259,
   "metadata": {},
   "outputs": [
    {
     "name": "stdout",
     "output_type": "stream",
     "text": [
      "Index 0: apple\n",
      "Index 1: banana\n",
      "Index 2: cherry\n",
      "Index 3: date\n",
      "Index 1: apple\n",
      "Index 2: banana\n",
      "Index 3: cherry\n",
      "Index 4: date\n"
     ]
    }
   ],
   "source": [
    "fruits = ['apple', 'banana', 'cherry', 'date']\n",
    "\n",
    "# 使用 enumerate() 遍历列表\n",
    "for index, fruit in enumerate(fruits):\n",
    "    print(f\"Index {index}: {fruit}\")\n",
    "# Index 0: apple\n",
    "# Index 1: banana\n",
    "# Index 2: cherry\n",
    "# Index 3: date\n",
    "\n",
    "# 从索引 1 开始遍历\n",
    "for index, fruit in enumerate(fruits, start=1):\n",
    "    print(f\"Index {index}: {fruit}\")\n",
    "# Index 1: apple\n",
    "# Index 2: banana\n",
    "# Index 3: cherry\n",
    "# Index 4: date"
   ]
  },
  {
   "cell_type": "markdown",
   "metadata": {},
   "source": [
    "    使用 zip() 函数遍历多个列表。zip() 函数用于将多个可迭代对象（如列表、元组等）打包成一个个元组，常用于同时遍历多个列表。当 zip() 遍历的多个列表长度不同时，zip() 会以最短的列表为准，忽略多余的元素。"
   ]
  },
  {
   "cell_type": "code",
   "execution_count": 260,
   "metadata": {},
   "outputs": [
    {
     "name": "stdout",
     "output_type": "stream",
     "text": [
      "Alili is 25 years old.\n",
      "Bobo is 30 years old.\n"
     ]
    }
   ],
   "source": [
    "names = ['Alili', 'Bobo', 'Qiuqiu']\n",
    "ages = [25, 30]\n",
    "\n",
    "# 使用 zip() 遍历长度不同的列表\n",
    "for name, age in zip(names, ages):\n",
    "    print(f\"{name} is {age} years old.\")\n",
    "# Alili is 25 years old.\n",
    "# Bobo is 30 years old."
   ]
  },
  {
   "cell_type": "markdown",
   "metadata": {},
   "source": [
    "**列表与其他数据类型的转换**。将字符串转换为列表：使用 `list()` 函数。将列表转换为字符串：使用 `join()` 方法。"
   ]
  },
  {
   "cell_type": "code",
   "execution_count": 261,
   "metadata": {},
   "outputs": [
    {
     "name": "stdout",
     "output_type": "stream",
     "text": [
      "['H', 'e', 'l', 'l', 'o']\n"
     ]
    }
   ],
   "source": [
    "# 字符串转列表\n",
    "s = \"Hello\"\n",
    "lst = list(s)\n",
    "print(lst)  # ['H', 'e', 'l', 'l', 'o']\n",
    "\n",
    "# # 列表转字符串\n",
    "# words = ['Python', 'is', 'awesome']\n",
    "# sentence = ' '.join(words)\n",
    "# print(sentence)  # Python is awesome"
   ]
  },
  {
   "cell_type": "markdown",
   "metadata": {},
   "source": [
    "**列表的嵌套**。列表可以包含其他列表，实现多维列表。"
   ]
  },
  {
   "cell_type": "code",
   "execution_count": 262,
   "metadata": {},
   "outputs": [
    {
     "name": "stdout",
     "output_type": "stream",
     "text": [
      "2\n",
      "9\n",
      "[1, 2, 3]\n",
      "[4, 5, 6]\n",
      "[7, 8, 9]\n",
      "1\n",
      "2\n",
      "3\n"
     ]
    }
   ],
   "source": [
    "matrix = [\n",
    "    [1, 2, 3],\n",
    "    [4, 5, 6],\n",
    "    [7, 8, 9]\n",
    "]\n",
    "\n",
    "# 访问元素\n",
    "print(matrix[0][1])  # 2\n",
    "print(matrix[2][2])  # 9\n",
    "\n",
    "for x in matrix:\n",
    "    print(x)\n",
    "# [1, 2, 3]\n",
    "# [4, 5, 6]\n",
    "# [7, 8, 9]\n",
    "\n",
    "for x in matrix[0]:\n",
    "    print(x)\n",
    "# 1\n",
    "# 2\n",
    "# 3"
   ]
  },
  {
   "cell_type": "markdown",
   "metadata": {},
   "source": [
    "**字典（Dictionary）**"
   ]
  },
  {
   "cell_type": "markdown",
   "metadata": {},
   "source": [
    "字典是Python中一种非常灵活且高效的数据结构，用于存储键值对（key-value pairs）。字典可能是Python最为重要的数据结构。它更为常见的名字是哈希映射或关联数组。它是键值对的大小可变集合，键和值都是Python对象。每个键必须是唯一的，并且是不可变类型（如字符串、整数、元组等）。字典允许快速查找、添加、删除和修改数据，是处理关联性数据的理想选择。"
   ]
  },
  {
   "cell_type": "markdown",
   "metadata": {},
   "source": [
    "创建字典。字典使用花括号 `{}` 创建，键值对之间用逗号分隔，键和值之间用冒号 `: `分隔。"
   ]
  },
  {
   "cell_type": "code",
   "execution_count": 263,
   "metadata": {},
   "outputs": [
    {
     "name": "stdout",
     "output_type": "stream",
     "text": [
      "<class 'dict'>\n",
      "{'name': 'Bomm', 'age': 30, 'city': 'New York'}\n",
      "{0: 4, 1: 3, 2: 2, 3: 1, 4: 0}\n",
      "1\n",
      "3\n"
     ]
    }
   ],
   "source": [
    "# 创建空字典\n",
    "empty_dict = {}\n",
    "# empty_dict = dict()\n",
    "print(type(empty_dict))  # <class 'dict'>\n",
    "\n",
    "# 创建包含键值对的字典\n",
    "student = {'name': 'Alili',\n",
    "    'age': 25,\n",
    "    'major': 'Computer Science'}\n",
    "\n",
    "# 使用 dict() 构造函数创建字典\n",
    "person = dict(name='Bomm', age=30, city='New York')\n",
    "print(person) # {'name': 'Bomm', 'age': 30, 'city': 'New York'}\n",
    "\n",
    "# 使用序列创建字典\n",
    "mapping = dict(zip(range(5), reversed(range(5))))\n",
    "print(mapping)  # {0: 4, 1: 3, 2: 2, 3: 1, 4: 0}\n",
    "\n",
    "# 设置默认值  setdefault方法\n",
    "# dict.setdefault(key, default=None)\n",
    "my_dict = {'a': 1, 'b': 2}\n",
    "result1 = my_dict.setdefault('a', 100)  # 键 'a' 存在，返回其对应的值 1\n",
    "print(result1)  # 1\n",
    "result2 = my_dict.setdefault('c', 3)    # 键 'c' 不存在，添加 'c' 键，值为 3\n",
    "print(result2) # 3"
   ]
  },
  {
   "cell_type": "markdown",
   "metadata": {},
   "source": [
    "访问字典元素。通过键来访问对应的值。使用中括号` [] `（如果键不存在，会引发`KeyError`。）或 `get() `方法。"
   ]
  },
  {
   "cell_type": "code",
   "execution_count": 264,
   "metadata": {},
   "outputs": [
    {
     "name": "stdout",
     "output_type": "stream",
     "text": [
      "Alili\n",
      "25\n",
      "Not Available\n"
     ]
    }
   ],
   "source": [
    "student = {\n",
    "    'name': 'Alili',\n",
    "    'age': 25,\n",
    "    'major': 'Computer Science'}\n",
    "\n",
    "# 使用中括号访问\n",
    "print(student['name'])  # Alili\n",
    "# 使用 get() 方法访问\n",
    "print(student.get('age'))  # 25\n",
    "# 如果键不存在，使用 get() 可设置默认值\n",
    "print(student.get('gpa', 'Not Available'))  # Not Available"
   ]
  },
  {
   "cell_type": "markdown",
   "metadata": {},
   "source": [
    "**添加和修改字典元素**。可以通过赋值语句添加新的键值对或修改现有的值。"
   ]
  },
  {
   "cell_type": "code",
   "execution_count": 265,
   "metadata": {},
   "outputs": [
    {
     "name": "stdout",
     "output_type": "stream",
     "text": [
      "{'name': 'Alili', 'age': 25, 'like': 'orange'}\n",
      "{'name': 'Alili', 'age': 25.5, 'like': 'orange'}\n"
     ]
    }
   ],
   "source": [
    "student = {\n",
    "    'name': 'Alili',\n",
    "    'age': 25,\n",
    "    'like': 'orange'\n",
    "}\n",
    "\n",
    "# 添加新的键值对\n",
    "student['like'] = 'orange'\n",
    "print(student)\n",
    "# {'name': 'Alili', 'age': 25, 'like': 'orange'}\n",
    "\n",
    "# 修改现有的值\n",
    "student['age'] = 25.5\n",
    "print(student)\n",
    "# {'name': 'Alili', 'age': 25.5, 'like': 'orange'}"
   ]
  },
  {
   "cell_type": "markdown",
   "metadata": {},
   "source": [
    "删除字典元素。使用 del 语句、pop() 方法或 clear() 方法删除元素"
   ]
  },
  {
   "cell_type": "code",
   "execution_count": 266,
   "metadata": {},
   "outputs": [
    {
     "name": "stdout",
     "output_type": "stream",
     "text": [
      "{'name': 'Alili', 'age': 25}\n",
      "25\n",
      "{'name': 'Alili'}\n",
      "{}\n"
     ]
    }
   ],
   "source": [
    "student = {\n",
    "    'name': 'Alili',\n",
    "    'age': 25,\n",
    "    'like': 'orange'\n",
    "}\n",
    "\n",
    "# 使用 del 语句删除键值对\n",
    "del student['like']\n",
    "print(student)\n",
    "# {'name': 'Alili', 'age': 25}\n",
    "\n",
    "# 使用 pop() 方法删除并返回值\n",
    "age = student.pop('age')\n",
    "print(age)       # 25\n",
    "print(student)   # {'name': 'Alili'}\n",
    "\n",
    "# 使用 clear() 方法清空字典\n",
    "student.clear()\n",
    "print(student)  # {}"
   ]
  },
  {
   "cell_type": "markdown",
   "metadata": {},
   "source": [
    "常用字典方法。\n",
    "\n",
    "    keys()返回字典中所有键的视图。\n",
    "    values()，返回字典中所有值的视图。\n",
    "    items()，返回字典中所有键值对的视图，以元组形式呈现。\n",
    "    get()，获取指定键的值，如果键不存在则返回默认值。\n",
    "    update()，使用另一个字典或键值对更新当前字典。\n",
    "    popitem()，随机删除并返回一个键值对（在Python 3.7+中，默认删除最后一个键值对）。"
   ]
  },
  {
   "cell_type": "code",
   "execution_count": 267,
   "metadata": {},
   "outputs": [
    {
     "name": "stdout",
     "output_type": "stream",
     "text": [
      "dict_keys(['name'])\n",
      "dict_values(['Alili'])\n",
      "dict_items([('name', 'Alili')])\n",
      "{'name': 'Alili', 'gpa': 3.9, 'graduated': False}\n",
      "('graduated', False)\n",
      "{'name': 'Alili', 'gpa': 3.9}\n"
     ]
    }
   ],
   "source": [
    "student = {\n",
    "    'name': 'Alili',\n",
    "}\n",
    "\n",
    "keys = student.keys()\n",
    "print(keys)  # dict_keys(['name'])\n",
    "\n",
    "values = student.values()\n",
    "print(values)  # dict_values(['Alili'])\n",
    "\n",
    "items = student.items()\n",
    "print(items)  # dict_items([('name', 'Alili')])\n",
    "\n",
    "# gpa = student.get('gpa', 'Not Available')\n",
    "# print(gpa)  # Not Available\n",
    "\n",
    "additional_info = {'gpa': 3.9, 'graduated': False}\n",
    "student.update(additional_info)\n",
    "print(student)   # {'name': 'Alili', 'gpa': 3.9, 'graduated': False}\n",
    "\n",
    "item = student.popitem()\n",
    "print(item)      # ('graduated', False)\n",
    "print(student)   # {'name': 'Alili', 'gpa': 3.9}"
   ]
  },
  {
   "cell_type": "markdown",
   "metadata": {},
   "source": [
    "遍历字典"
   ]
  },
  {
   "cell_type": "code",
   "execution_count": 268,
   "metadata": {},
   "outputs": [
    {
     "name": "stdout",
     "output_type": "stream",
     "text": [
      "name\n",
      "age\n",
      "like\n",
      "Alili\n",
      "25\n",
      "orange\n",
      "name: Alili\n",
      "age: 25\n",
      "like: orange\n"
     ]
    }
   ],
   "source": [
    "student = {\n",
    "    'name': 'Alili',\n",
    "    'age': 25,\n",
    "    'like': 'orange'}\n",
    "\n",
    "# 遍历键\n",
    "for key in student:\n",
    "    print(key)\n",
    "# name age like\n",
    "\n",
    "# 遍历值\n",
    "for value in student.values():\n",
    "    print(value)\n",
    "# Alili 25 orange\n",
    "\n",
    "# 遍历键值对\n",
    "for key, value in student.items():\n",
    "    print(f\"{key}: {value}\")\n",
    "# name: Alili  age: 25  like: orange"
   ]
  },
  {
   "cell_type": "markdown",
   "metadata": {},
   "source": [
    "嵌套字典。字典可以包含其他字典，实现多层嵌套，适用于表示复杂的数据结构。"
   ]
  },
  {
   "cell_type": "code",
   "execution_count": 269,
   "metadata": {},
   "outputs": [
    {
     "name": "stdout",
     "output_type": "stream",
     "text": [
      "Computer Science\n",
      "{'Alili': {'age': 25, 'major': 'Computer Science', 'gpa': 3.8}, 'Bomm': {'age': 22, 'major': 'Mathematics', 'gpa': 3.5}, 'Charlo': {'age': 24, 'major': 'Physics', 'gpa': 3.6}}\n"
     ]
    }
   ],
   "source": [
    "# 创建嵌套字典\n",
    "students = {\n",
    "    'Alili': {\n",
    "        'age': 25,\n",
    "        'major': 'Computer Science',\n",
    "        'gpa': 3.8},\n",
    "    'Bomm': {\n",
    "        'age': 22,\n",
    "        'major': 'Mathematics',\n",
    "        'gpa': 3.5}}\n",
    "\n",
    "# 访问嵌套字典中的值\n",
    "print(students['Alili']['major'])  # Computer Science\n",
    "# 添加新的嵌套字典\n",
    "students['Charlo'] = {'age': 24, 'major': 'Physics', 'gpa': 3.6}\n",
    "print(students)\n",
    "# {'Alili': {'age': 25, 'major': 'Computer Science', 'gpa': 3.8}, \n",
    "# 'Bomm': {'age': 22, 'major': 'Mathematics', 'gpa': 3.5}, \n",
    "# 'Charlo': {'age': 24, 'major': 'Physics', 'gpa': 3.6}}"
   ]
  },
  {
   "cell_type": "code",
   "execution_count": 270,
   "metadata": {},
   "outputs": [
    {
     "name": "stdout",
     "output_type": "stream",
     "text": [
      "key:Alili,value:{'age': 25, 'major': 'Computer Science', 'gpa': 3.8}\n",
      "key:Bomm,value:{'age': 22, 'major': 'Mathematics', 'gpa': 3.5}\n",
      "key:Charlo,value:{'age': 24, 'major': 'Physics', 'gpa': 3.6}\n"
     ]
    }
   ],
   "source": [
    "for k,v in students.items():\n",
    "    print(f\"key:{k},value:{v}\")\n",
    "# key:Alili,value:{'age':25,'major':'Computer Science','gpa':3.8}\n",
    "# key:Bomm,value:{'age':22,'major':'Mathematics','gpa':3.5}\n",
    "# key:Charlo,value:{'age':24,'major':'Physics','gpa':3.6}"
   ]
  },
  {
   "cell_type": "markdown",
   "metadata": {},
   "source": [
    "### Python数据类型小结"
   ]
  },
  {
   "cell_type": "markdown",
   "metadata": {},
   "source": [
    "    基本数据类型: 整数（int）用于表示整数；浮点数（float）:用于表示实数或小数；布尔值（bool）:用于表示真值，只有两个值True 和 False；字符串（str）:用于表示文本数据。\n",
    "\n",
    "    容器数据类型：列表（list）用于存储有序的元素集合，支持修改（可变）；元组（tuple）:用于存储有序的元素集合，但不可修改（不可变）；集合（set） 用于存储无序、不重复的元素集合；字典（dict） 用于存储无序的键值对映射，键是唯一的。可以通过键访问对应的值。\n",
    "\n",
    "    特殊数据类型：None表示“无值”或“空值”，常用于函数没有返回值的情况或变量初始化为空值。<br>\n",
    "\n",
    "    空列表、空整数、空字符串等与None不是同一对象。<br>\n",
    "    \n",
    "    Python内部对（-5，256）间的整数设置了缓存，可以共享。\n"
   ]
  },
  {
   "cell_type": "code",
   "execution_count": 271,
   "metadata": {},
   "outputs": [
    {
     "name": "stdout",
     "output_type": "stream",
     "text": [
      "True False\n",
      "True False\n"
     ]
    }
   ],
   "source": [
    "a = 100\n",
    "b = 100   # 小整数在 Python 中会被缓存并共享\n",
    "c = 1000  # 大整数则不会被缓存\n",
    "d = 1000\n",
    "print(id(a)==id(b),id(c)==id(d)) # True False\n",
    "print(a is b, c is d)  # True False"
   ]
  },
  {
   "cell_type": "markdown",
   "metadata": {},
   "source": [
    "    原地操作，比如列表的append()方法（或者一些函数中的inplace参数），并不会创建一个新对象。\n",
    "\n",
    "    此外，利用typing、collections可以快速构建快速构建常见的数据结构：list、tuple、dict、defaultdict、OrderedDict等。\n"
   ]
  },
  {
   "cell_type": "code",
   "execution_count": 272,
   "metadata": {},
   "outputs": [
    {
     "name": "stdout",
     "output_type": "stream",
     "text": [
      "[1, 2, 3, 4, 5]\n",
      "(42, 'example')\n",
      "{'Alili': 95, 'Bobo': 88}\n",
      "defaultdict(<class 'int'>, {})\n",
      "1\n",
      "one 1\n",
      "two 2\n",
      "three 3\n"
     ]
    }
   ],
   "source": [
    "from typing import List, Tuple, Dict\n",
    "\n",
    "# List: 一个整数类型的列表\n",
    "numbers: List[int] = [1, 2, 3, 4, 5]\n",
    "print(numbers)  # [1, 2, 3, 4, 5]\n",
    "# Tuple: 一个包含整数和字符串的元组\n",
    "info: Tuple[int, str] = (42, \"example\")\n",
    "print(info)  # (42, 'example')\n",
    "# Dict: 一个键为字符串类型、值为整数类型的字典\n",
    "scores: Dict[str, int] = {\"Alili\": 95, \"Bobo\": 88}\n",
    "print(scores)  # {'Alili': 95, 'Bobo': 88}\n",
    "\n",
    "from collections import defaultdict, OrderedDict\n",
    "\n",
    "# defaultdict: 创建一个有默认值的字典\n",
    "# 当键不存在时，自动返回指定的默认值\n",
    "default_dict = defaultdict(int)\n",
    "print(default_dict)  # defaultdict(<class 'int'>, {})\n",
    "default_dict[\"a\"] += 1  # 默认值为0，所以输出结果为1\n",
    "print(default_dict[\"a\"])  # 1\n",
    "# OrderedDict: 保持键值对的插入顺序\n",
    "ordered_dict = OrderedDict([(\"one\", 1), (\"two\", 2), (\"three\", 3)])\n",
    "for key, value in ordered_dict.items():\n",
    "    print(key, value)\n",
    "# one 1\n",
    "# two 2\n",
    "# three 3\n"
   ]
  },
  {
   "cell_type": "markdown",
   "metadata": {},
   "source": [
    "### 1.2.2 Pyhton控制流\n",
    "* 条件语句(if语句)\n",
    "* for循环 \n",
    "* while循环\n",
    "* 循环控制语句 break、continue、pass\n",
    "* 列表、集合和字典推导式\n",
    "* Python异常处理\n",
    "* Python控制流小结"
   ]
  },
  {
   "cell_type": "markdown",
   "metadata": {},
   "source": [
    "首先简单介绍一下常见的Python内置字和常量\n",
    "\n",
    "`True`: 代表逻辑上的真，在算数运算中相当于`1`；`False`代表逻辑上的假，在算数运算中相当于`0`\n",
    "\n",
    "`None`: 表示“无值”或“空”，类似其他语言中的`null`。`NoneType`唯一实例\n",
    "\n",
    "\n",
    "`and`：只有当左右两个条件为`True`时，结果才为`True`\n",
    "\n",
    "\n",
    "`or`：左右两个条件中有一个为`True`时，结果为`True`\n",
    "\n",
    "\n",
    "`not`： 对条件求反。如果条件为`True`，则not之后为False，反之亦然\n",
    "\n",
    "\n",
    "`in`、`not in`：检查某个元素是否在可迭代对象中(如列表、字符串、元组、字典的键等)\n",
    "\n",
    "`is` 、`is not`：判断两个变量是否引用了同一个对象\n",
    "\n",
    "`==`、`!=`: 比较两个对象的值相等、不等<br>(对比：== 是比较两个对象的“值”是否相等；is 则是比较两个变量在内存中的身份是否相同。)\n",
    "\n",
    "`>=`, `<=`, `>`, `<`: 用于数值比较，分别表示大于等于、小于等于、大于、小于\n",
    "\n",
    "`pass`：占位符。在语法上需要一个语句但实际不执行任何操作时，可以使用 `pass` 占位\n",
    "\n",
    "`continue`： 结束当前一次循环迭代，直接进入下一次循环\n",
    "\n",
    "`break`：终止循环"
   ]
  },
  {
   "cell_type": "markdown",
   "metadata": {},
   "source": [
    "**条件语句(`if`语句)**\n",
    "\n",
    "条件语句用于根据特定条件决定程序的执行路径。Python中的条件语句主要包括`if`、`elif` 和 `else`。"
   ]
  },
  {
   "cell_type": "markdown",
   "metadata": {},
   "source": [
    "基本语法\n",
    "```\n",
    "if condition1:\n",
    "    # 当 condition1 为 True 时执行\n",
    "    statement1\n",
    "elif condition2:\n",
    "    # 当 condition1 为 False 且 condition2 为 True 时执行\n",
    "    statement2\n",
    "else:\n",
    "    # 当 condition1 和 condition2 都为 False 时执行\n",
    "    statement3\n",
    "```"
   ]
  },
  {
   "cell_type": "code",
   "execution_count": 273,
   "metadata": {},
   "outputs": [
    {
     "name": "stdout",
     "output_type": "stream",
     "text": [
      "You are an adult.\n"
     ]
    }
   ],
   "source": [
    "age = 19   # age = input(\"请输入年龄:\")\n",
    "if age >= 18: print(\"You are an adult.\")\n",
    "elif age >= 13: print(\"You are a teenager.\")\n",
    "else: print(\"You are a child.\")"
   ]
  },
  {
   "cell_type": "markdown",
   "metadata": {},
   "source": [
    "**循环结构**\n",
    "用于重复执行一段代码，直到满足特定的条件。Python主要有两种循环结构：for 循环和 while 循环。\n",
    "\n",
    "**for 循环**<br>\n",
    "for 循环用于遍历可迭代对象（如列表、元组、字符串、字典等），逐一访问其中的元素。"
   ]
  },
  {
   "cell_type": "markdown",
   "metadata": {},
   "source": [
    "```\n",
    "for item in iterable:\n",
    "    # 执行语句\n",
    "    statement\n",
    "```"
   ]
  },
  {
   "cell_type": "code",
   "execution_count": 274,
   "metadata": {},
   "outputs": [
    {
     "name": "stdout",
     "output_type": "stream",
     "text": [
      "0\n",
      "1\n",
      "2\n",
      "3\n",
      "4\n"
     ]
    }
   ],
   "source": [
    "# 打印 0 到 4\n",
    "for i in range(5):\n",
    "    print(i)\n"
   ]
  },
  {
   "cell_type": "markdown",
   "metadata": {},
   "source": [
    "**while循环**<br>\n",
    "while 循环在给定条件为True时，重复执行代码块。"
   ]
  },
  {
   "cell_type": "markdown",
   "metadata": {},
   "source": [
    "```\n",
    "while condition:\n",
    "    # 执行语句\n",
    "    statement\n",
    "```"
   ]
  },
  {
   "cell_type": "code",
   "execution_count": 275,
   "metadata": {},
   "outputs": [
    {
     "name": "stdout",
     "output_type": "stream",
     "text": [
      "0\n",
      "1\n",
      "2\n",
      "3\n",
      "4\n"
     ]
    }
   ],
   "source": [
    "count = 0\n",
    "\n",
    "while count < 5:\n",
    "    print(count)\n",
    "    count += 1\n",
    "\n",
    "# 0\n",
    "# 1\n",
    "# 2\n",
    "# 3\n",
    "# 4"
   ]
  },
  {
   "cell_type": "code",
   "execution_count": 276,
   "metadata": {},
   "outputs": [],
   "source": [
    "# password = \"\"\n",
    "# while password != \"python123\":\n",
    "#     password = input(\"Enter the password: \")\n",
    "#     if password == \"python123\":\n",
    "#         print(\"Access granted.\")\n",
    "#     else:\n",
    "#         print(\"Incorrect password. Try again.\")\n",
    "\n",
    "\n",
    "# # for \n",
    "# for _ in range(5):\n",
    "#     password = input(\"Enter the password: \")\n",
    "#     if password == \"python123\":\n",
    "#         print(\"Access granted.\")\n",
    "#     else:\n",
    "#         print(\"Incorrect password. Try again.\")\n",
    "        "
   ]
  },
  {
   "cell_type": "markdown",
   "metadata": {},
   "source": [
    "**循环控制语句**<br>\n",
    "Python提供了break、continue 和 pass 等控制语句，用于在循环中控制执行流程。\n",
    "\n",
    "break：终止循环"
   ]
  },
  {
   "cell_type": "code",
   "execution_count": 277,
   "metadata": {},
   "outputs": [
    {
     "name": "stdout",
     "output_type": "stream",
     "text": [
      "0\n",
      "1\n",
      "2\n",
      "3\n",
      "4\n"
     ]
    }
   ],
   "source": [
    "for i in range(10):\n",
    "    if i == 5:\n",
    "        break\n",
    "    print(i)\n",
    "    \n",
    "# 0\n",
    "# 1\n",
    "# 2\n",
    "# 3\n",
    "# 4"
   ]
  },
  {
   "cell_type": "markdown",
   "metadata": {},
   "source": [
    "continue： 结束当前一次循环迭代，直接进入下一次循环"
   ]
  },
  {
   "cell_type": "code",
   "execution_count": 278,
   "metadata": {},
   "outputs": [
    {
     "name": "stdout",
     "output_type": "stream",
     "text": [
      "0\n",
      "1\n",
      "3\n",
      "4\n"
     ]
    }
   ],
   "source": [
    "for i in range(5):\n",
    "    # if i == 2: continue   # 这种写法也支持\n",
    "    if i == 2:\n",
    "        continue\n",
    "    print(i)\n",
    "\n",
    "# 0\n",
    "# 1\n",
    "# 3\n",
    "# 4"
   ]
  },
  {
   "cell_type": "markdown",
   "metadata": {},
   "source": [
    "pass：占位符。在语法上需要一个语句但实际不执行任何操作时，可以使用 pass占位"
   ]
  },
  {
   "cell_type": "code",
   "execution_count": 279,
   "metadata": {},
   "outputs": [
    {
     "name": "stdout",
     "output_type": "stream",
     "text": [
      "0\n",
      "1\n",
      "2\n",
      "3\n",
      "4\n"
     ]
    }
   ],
   "source": [
    "for i in range(5):\n",
    "    if i == 2:\n",
    "        pass  # 暂不处理\n",
    "    print(i)\n",
    "\n",
    "# 0\n",
    "# 1\n",
    "# 2\n",
    "# 3\n",
    "# 4"
   ]
  },
  {
   "cell_type": "markdown",
   "metadata": {},
   "source": [
    "**列表、集合和字典推导式**"
   ]
  },
  {
   "cell_type": "markdown",
   "metadata": {},
   "source": [
    "列表推导式\n",
    "\n",
    "Python最受喜爱的特性之一。它允许客户方便的从一个集合过滤元素，形成列表，在传递参数的过程中还可以修改元素。形式如下：\n",
    "```\n",
    "list_ = [expression for item in collection if condition]\n",
    "\n",
    "```\n",
    "它等同于下面的`for`循环\n",
    "```\n",
    "list_ = []\n",
    "for val in collection:\n",
    "    if condition:\n",
    "        list_.append(val)\n",
    "```\n",
    "filter条件可以被忽略(`if`语句)只留下表达式就行。"
   ]
  },
  {
   "cell_type": "markdown",
   "metadata": {},
   "source": [
    "例如，给定一个字符串，我们可以过滤出长度在2记一下的字符串，并将其转换成大写"
   ]
  },
  {
   "cell_type": "code",
   "execution_count": 280,
   "metadata": {},
   "outputs": [
    {
     "data": {
      "text/plain": [
       "['BAT', 'CAR', 'HAHA', 'PYTHON']"
      ]
     },
     "execution_count": 280,
     "metadata": {},
     "output_type": "execute_result"
    }
   ],
   "source": [
    "strings = ['a', 'as', 'bat', 'car', 'haha', 'python']\n",
    "[x.upper() for x in strings if len(x) > 2]\n",
    "# ['BAT', 'CAR', 'HAHA', 'PYTHON']"
   ]
  },
  {
   "cell_type": "markdown",
   "metadata": {},
   "source": [
    "相似的，我们可以得到集合推导式：\n",
    "```\n",
    "set_ = {expression for item in collection if condition}\n",
    "\n",
    "```\n",
    "\n",
    "以及字典推导式：\n",
    "```\n",
    "dict_ = {key_expression: value_expression for item in collection if condition}\n",
    "\n",
    "```"
   ]
  },
  {
   "cell_type": "code",
   "execution_count": 281,
   "metadata": {},
   "outputs": [
    {
     "name": "stdout",
     "output_type": "stream",
     "text": [
      "{1, 2, 3, 4, 6}\n"
     ]
    }
   ],
   "source": [
    "# 集合推导式\n",
    "strings = ['a', 'as', 'bat', 'car', 'haha', 'python']\n",
    "\n",
    "unique_lengths = {len(x) for x in strings}\n",
    "print(unique_lengths)  # {1, 2, 3, 4, 6}"
   ]
  },
  {
   "cell_type": "code",
   "execution_count": 282,
   "metadata": {},
   "outputs": [
    {
     "name": "stdout",
     "output_type": "stream",
     "text": [
      "{1: 1, 2: 4, 3: 9, 4: 16}\n",
      "{'Bomm': 'Male'}\n",
      "{'Alili': 'name', 25: 'age', 'New York': 'city'}\n"
     ]
    }
   ],
   "source": [
    "# 字典推导式\n",
    "numbers = [1, 2, 3, 4]\n",
    "squares_dict = {num: num ** 2 for num in numbers}\n",
    "print(squares_dict)  # {1: 1, 2: 4, 3: 9, 4: 16}\n",
    "\n",
    "# 原始字典，值为字符串类型\n",
    "original = {'Alili': 'Female', 'Bomm': 'Male', 'Charlo': 'Male', \n",
    "            'Daisy': 'Female'}\n",
    "# 保留 \"Male\" 性别且键名以 \"B\" 开头的项\n",
    "filtered = {\n",
    "    name: gender\n",
    "    for name, gender in original.items()\n",
    "    if gender == 'Male' and name.startswith('B')}\n",
    "print(filtered)  # {'Bomm': 'Male'}\n",
    "# 给定字典是 {字段名: 值}，反转它成 {值: 字段名} 形式\n",
    "info = {'name': 'Alili', 'age': 25, 'city': 'New York'}\n",
    "reversed_dict = {value: key for key, value in info.items()}\n",
    "print(reversed_dict)\n",
    "# {'Alili': 'name', 25: 'age', 'New York': 'city'}\n"
   ]
  },
  {
   "cell_type": "markdown",
   "metadata": {},
   "source": [
    "利用python内置函数map()，我们可以也可得到更简表达："
   ]
  },
  {
   "cell_type": "code",
   "execution_count": 283,
   "metadata": {},
   "outputs": [
    {
     "name": "stdout",
     "output_type": "stream",
     "text": [
      "{1, 2, 3, 4, 6}\n",
      "{1, 2, 3, 4, 6}\n",
      "{'1': 0, 'as': 1, 'bat': 2, 'god': 3, 'boom': 4, 'python': 5}\n"
     ]
    }
   ],
   "source": [
    "s = ['1', 'as', 'bat', 'god', 'boom', 'python']\n",
    "\n",
    "unique_lens = {len(x) for x in s}\n",
    "print(unique_lens)  # {1, 2, 3, 4, 6}\n",
    "\n",
    "unique_lens_b = set(map(len, s))  \n",
    "print(unique_lens_b)  # {1, 2, 3, 4, 6}\n",
    "\n",
    "# 构建一个字典推导式,创建一个字符串的查找映射表以确定它在列表中的位置\n",
    "idx_mapping = {val : index for index, val in enumerate(s)}\n",
    "print(idx_mapping)\n",
    "# {'1': 0, 'as': 1, 'bat': 2, 'god': 3, 'boom': 4, 'python': 5}"
   ]
  },
  {
   "cell_type": "markdown",
   "metadata": {},
   "source": [
    "map() 是一个内置函数，主要用于将指定的函数应用到一个或多个可迭代对象（如列表、元组、字符串等）的每个元素上，并返回一个迭代器。可以通过对 map() 的结果进行循环遍历或使用 list()、tuple() 等转换来获取映射后的数据。"
   ]
  },
  {
   "cell_type": "markdown",
   "metadata": {},
   "source": [
    "迭代器：是一种对象，用于逐一访问集合（如列表、元组、字典等）中的元素，而无需一次性将所有元素加载到内存中。\n",
    "\n",
    "生成器：是一种特殊类型的迭代器，使用简单的语法创建，能够在需要时生成值（yield var），而不是一次性生成所有值。yield是python内置关键字。"
   ]
  },
  {
   "cell_type": "markdown",
   "metadata": {},
   "source": [
    "嵌套列表推导式"
   ]
  },
  {
   "cell_type": "markdown",
   "metadata": {},
   "source": [
    "现在有一个包含英文名、西班牙名的列表"
   ]
  },
  {
   "cell_type": "code",
   "execution_count": 284,
   "metadata": {},
   "outputs": [],
   "source": [
    "all_data = [['Johnn', 'Emly', 'Mikhael', 'Marny', 'Steven'], ['Marian', 'Juany', 'Javieru', 'Natalia', 'Pilar']]"
   ]
  },
  {
   "cell_type": "markdown",
   "metadata": {},
   "source": [
    "现在对这个列表进行分类，比如这些名字中包含两个或者更多的e"
   ]
  },
  {
   "cell_type": "code",
   "execution_count": 285,
   "metadata": {},
   "outputs": [
    {
     "data": {
      "text/plain": [
       "['Steven']"
      ]
     },
     "execution_count": 285,
     "metadata": {},
     "output_type": "execute_result"
    }
   ],
   "source": [
    "names_of_interest = []\n",
    "for names in all_data:\n",
    "    enough_es = [name for name in names if name.count('e') > 1]\n",
    "    names_of_interest.extend(enough_es)\n",
    "names_of_interest  # ['Steven']"
   ]
  },
  {
   "cell_type": "markdown",
   "metadata": {},
   "source": [
    "现在可以将上述代码块写成一行 嵌套列表推导式"
   ]
  },
  {
   "cell_type": "code",
   "execution_count": 286,
   "metadata": {},
   "outputs": [
    {
     "name": "stdout",
     "output_type": "stream",
     "text": [
      "['Steven']\n"
     ]
    }
   ],
   "source": [
    "result = [name for names in all_data for name in names if name.count('e') > 1]\n",
    "print(result)   # ['Steven']"
   ]
  },
  {
   "cell_type": "markdown",
   "metadata": {},
   "source": [
    "**Python 异常处理**"
   ]
  },
  {
   "cell_type": "markdown",
   "metadata": {},
   "source": [
    "Python 提供了两个非常重要的功能来处理 Python 程序在运行中出现的异常和错误。你可以使用该功能来调试 Python 程序。\n",
    "\n",
    "    异常处理\n",
    "    断言(Assertions)"
   ]
  },
  {
   "cell_type": "markdown",
   "metadata": {},
   "source": [
    "什么是异常？<br>\n",
    "\n",
    "异常即是一个事件，该事件会在程序执行过程中发生，影响了程序的正常执行。<br>\n",
    "一般情况下，在Python无法正常处理程序时就会发生一个异常。<br>\n",
    "异常是Python对象，表示一个错误。<br>\n",
    "当Python脚本发生异常时我们需要捕获处理它，否则程序会终止执行。"
   ]
  },
  {
   "cell_type": "markdown",
   "metadata": {},
   "source": [
    "Python标准异常有哪些？"
   ]
  },
  {
   "cell_type": "markdown",
   "metadata": {},
   "source": [
    "|**异常名称**|**描述**|\n",
    "|---|---|\n",
    "|BaseException|所有异常的基类|\n",
    "|SystemExit|解释器请求退出|\n",
    "|KeyboardInterrupt|用户中断执行|\n",
    "|Exception|常规错误的基类|\n",
    "|StopIteration|迭代器没有更多的值|\n",
    "|GeneratorExit|生成器(generator)发生异常来通知退出|\n",
    "|StandardError|所有的内建标准异常的基类|\n",
    "|ArithmeticError|所有数值计算错误的基类|\n",
    "|FloatingPointError|浮点计算错误|\n",
    "|OverflowError|数值运算超出最大限制\n",
    "|ZeroDivisionError|除(或取模)零 (所有数据类型)|\n",
    "|AssertionError|断言语句失败|\n",
    "|AttributeError|对象没有这个属性|\n",
    "|EOFError|没有内建输入,到达EOF 标记|\n",
    "|EnvironmentError|操作系统错误的基类|\n",
    "|IOError|输入/输出操作失败|\n",
    "|OSError|操作系统错误|\n",
    "|WindowsError|系统调用失败|\n",
    "|ImportError|导入模块/对象失败|\n",
    "|LookupError|无效数据查询的基类|\n",
    "|IndexError|序列中没有此索引(index)|\n",
    "|KeyError|映射中没有这个键|\n",
    "|MemoryError|内存溢出错误(对于Python 解释器不是致命的)|\n",
    "|NameError|未声明/初始化对象 (没有属性)|\n",
    "|UnboundLocalError|访问未初始化的本地变量|\n",
    "|ReferenceError|弱引用(Weak reference)试图访问已经垃圾回收了的对象|\n",
    "|RuntimeError|一般的运行时错误|\n",
    "|NotImplementedError|尚未实现的方法|\n",
    "|SyntaxError|Python语法错误|\n",
    "|IndentationError|缩进错误|\n",
    "|TabError|Tab和空格混用|\n",
    "|SystemError|一般的解释器系统错误|\n",
    "|TypeError|对类型无效的操作|\n",
    "|ValueError|传入无效的参数|\n",
    "|UnicodeError|Unicode相关的错误|\n",
    "|UnicodeDecodeError|Unicode 解码时的错误|\n",
    "|UnicodeEncodeError|Unicode 编码时错误|\n",
    "|UnicodeTranslateError|Unicode 转换时错误|\n",
    "|Warning|警告的基类|\n",
    "|DeprecationWarning|关于被弃用的特征的警告|\n",
    "|FutureWarning|关于构造将来语义会有改变的警告|\n",
    "|OverflowWarning|旧的关于自动提升为长整型(long)的警告|\n",
    "|PendingDeprecationWarning|关于特性将会被废弃的警告|\n",
    "|RuntimeWarning|可疑的运行时行为(runtime behavior)的警告|\n",
    "|SyntaxWarning|可疑的语法的警告|\n",
    "|UserWarning|用户代码生成的警告|"
   ]
  },
  {
   "cell_type": "markdown",
   "metadata": {},
   "source": [
    "**异常处理**\n",
    "\n",
    "捉异常可以使用try/except语句。<br>\n",
    "try/except语句用来检测try语句块中的错误，从而让except语句捕获异常信息并处理。<br>\n",
    "如果你不想在异常发生时结束你的程序，只需在try里捕获它。\n",
    "\n",
    "以下为简单的`try....except...else`的语法：\n",
    "```\n",
    "try:\n",
    "    # 可能会发生异常的代码块\n",
    "    risky_operation()\n",
    "except SomeException as e:\n",
    "    # 针对特定类型异常进行处理\n",
    "    handle_exception(e)\n",
    "except AnotherException:\n",
    "    # 针对另一类型的异常进行处理\n",
    "    ...\n",
    "else:\n",
    "    # 当 try 块内代码没有发生异常时才会执行的代码\n",
    "    post_success_operation()\n"
   ]
  },
  {
   "cell_type": "markdown",
   "metadata": {},
   "source": [
    "try的工作原理是，当开始一个try语句后，python就在当前程序的上下文中作标记，这样当异常出现时就可以回到这里，try子句先执行，接下来会发生什么依赖于执行时是否出现异常。\n",
    "\n",
    "    如果当try后的语句执行时发生异常，python就跳回到try并执行第一个匹配该异常的except子句，异常处理完毕，控制流就通过整个try语句（除非在处理异常时又引发新的异常）。\n",
    "\n",
    "    如果在try后的语句里发生了异常，却没有匹配的except子句，异常将被递交到上层的try，或者到程序的最上层（这样将结束程序，并打印默认的出错信息）。\n",
    "\n",
    "    如果在try子句执行时没有发生异常，python将执行else语句后的语句（如果有else的话），然后控制流通过整个try语句。"
   ]
  },
  {
   "cell_type": "code",
   "execution_count": 287,
   "metadata": {},
   "outputs": [
    {
     "name": "stdout",
     "output_type": "stream",
     "text": [
      "除法运算成功。\n",
      "结果： 5.0\n",
      "错误：除数为0！\n",
      "结果： None\n"
     ]
    }
   ],
   "source": [
    "# try-except\n",
    "\n",
    "def divide(a, b):\n",
    "    try:\n",
    "        result = a / b\n",
    "    except ZeroDivisionError as e:\n",
    "        print(\"错误：除数为0！\")\n",
    "        return None\n",
    "    else:\n",
    "        print(\"除法运算成功。\")\n",
    "        return result\n",
    "\n",
    "res = divide(10, 2)\n",
    "print(\"结果：\", res)\n",
    "# 除法运算成功。\n",
    "# 结果： 5.0\n",
    "res = divide(5, 0)\n",
    "print(\"结果：\", res)\n",
    "# 错误：除数为0！\n",
    "# 结果： None"
   ]
  },
  {
   "cell_type": "markdown",
   "metadata": {},
   "source": [
    "`try-finally`语句\n",
    "\n",
    "无论 try 块中的代码是否抛出异常，finally 块中的代码都会被执行，常用于资源清理或后续收尾操作，如关闭文件、关闭数据库连接等。\n",
    "\n",
    "* 基本语法\n",
    "\n",
    "```\n",
    "try:\n",
    "    # 可能会发生异常的代码块\n",
    "    do_something()\n",
    "finally:\n",
    "    # 无论有没有发生异常，都会执行\n",
    "    cleanup()\n",
    "```\n",
    "\n",
    "* 可以搭配 except 或不搭配都行。语法形式常见为：\n",
    "```\n",
    "try:\n",
    "    ...\n",
    "except SomeException:\n",
    "    ...\n",
    "finally:\n",
    "    ...\n",
    "```"
   ]
  },
  {
   "cell_type": "code",
   "execution_count": 288,
   "metadata": {},
   "outputs": [
    {
     "name": "stdout",
     "output_type": "stream",
     "text": [
      "2.0\n",
      "错误：类型不匹配，无法进行除法运算！\n",
      "无法正常计算 2 除以 a\n",
      "None\n"
     ]
    }
   ],
   "source": [
    "def divide_b(a, b):\n",
    "    result = None  # 先在函数开始处定义一个默认值，避免局部变量未定义\n",
    "\n",
    "    try:\n",
    "        result = a / b\n",
    "    except ZeroDivisionError:\n",
    "        print(\"错误：除数不能为 0！\")\n",
    "    except TypeError:\n",
    "        print(\"错误：类型不匹配，无法进行除法运算！\")\n",
    "    finally:\n",
    "        # finally 块中的代码无论是否发生异常都会被执行\n",
    "        if result is not None:\n",
    "            # 如果 result 在 try 中成功被赋值，则返回它\n",
    "            return result\n",
    "        else:\n",
    "            # 如果 result 仍是 None，说明出现了异常或其他问题\n",
    "            print(f\"无法正常计算 {a} 除以 {b}\")\n",
    "            return None\n",
    "\n",
    "print(divide_b(4,2))\n",
    "# 2.0\n",
    "\n",
    "print(divide_b(2,'a'))\n",
    "# 错误：类型不匹配，无法进行除法运算！\n",
    "# 无法正常计算 2 除以 a\n",
    "# None"
   ]
  },
  {
   "cell_type": "markdown",
   "metadata": {},
   "source": [
    "`raise`语句。在 Python 中，raise 语句用于引发异常（即抛出错误），以便在程序运行过程中遇到问题时能够及时停止执行并报告错误信息。raise 语句的基本语法：\n",
    "```\n",
    "raise [Exception [, args [, traceback]]]\n"
   ]
  },
  {
   "cell_type": "code",
   "execution_count": 289,
   "metadata": {},
   "outputs": [
    {
     "name": "stdout",
     "output_type": "stream",
     "text": [
      "错误: 除数不能为零\n"
     ]
    }
   ],
   "source": [
    "def divide(a, b):\n",
    "    if b == 0:\n",
    "        raise ZeroDivisionError(\"除数不能为零\")\n",
    "    return a / b\n",
    "\n",
    "try:\n",
    "    result = divide(10, 0)\n",
    "except ZeroDivisionError as e:\n",
    "    print(f\"错误: {e}\")\n",
    "# 错误: 除数不能为零"
   ]
  },
  {
   "cell_type": "markdown",
   "metadata": {},
   "source": [
    "`assert` (断言)语句。assert 语句可用于在开发和调试过程中，对特定条件进行断言（验证），如果条件不满足就抛出 AssertionError 异常。它在生产环境中可以选择关闭，也可以用来做简单的条件检查。"
   ]
  },
  {
   "cell_type": "code",
   "execution_count": 290,
   "metadata": {},
   "outputs": [
    {
     "name": "stdout",
     "output_type": "stream",
     "text": [
      "[1, 2, 3]\n"
     ]
    },
    {
     "ename": "AssertionError",
     "evalue": "数据必须是非空列表且包含不少于4个元素",
     "output_type": "error",
     "traceback": [
      "\u001b[1;31m---------------------------------------------------------------------------\u001b[0m",
      "\u001b[1;31mAssertionError\u001b[0m                            Traceback (most recent call last)",
      "Cell \u001b[1;32mIn[290], line 7\u001b[0m\n\u001b[0;32m      3\u001b[0m \u001b[39massert\u001b[39;00m \u001b[39misinstance\u001b[39m(nums, \u001b[39mlist\u001b[39m) \u001b[39mand\u001b[39;00m \u001b[39mlen\u001b[39m(nums) \u001b[39m>\u001b[39m \u001b[39m0\u001b[39m, \u001b[39m\"\u001b[39m\u001b[39m数据必须是非空列表\u001b[39m\u001b[39m\"\u001b[39m\n\u001b[0;32m      5\u001b[0m \u001b[39mprint\u001b[39m(nums)  \u001b[39m# assert 语句通过\u001b[39;00m\n\u001b[1;32m----> 7\u001b[0m \u001b[39massert\u001b[39;00m \u001b[39misinstance\u001b[39m(nums, \u001b[39mlist\u001b[39m) \u001b[39mand\u001b[39;00m \u001b[39mlen\u001b[39m(nums) \u001b[39m>\u001b[39m \u001b[39m3\u001b[39m, \u001b[39m\"\u001b[39m\u001b[39m数据必须是非空列表且包含不少于4个元素\u001b[39m\u001b[39m\"\u001b[39m\n\u001b[0;32m      8\u001b[0m \u001b[39mprint\u001b[39m(nums)  \u001b[39m# AssertionError: 数据必须是非空列表且包含不少于4个元素\u001b[39;00m\n",
      "\u001b[1;31mAssertionError\u001b[0m: 数据必须是非空列表且包含不少于4个元素"
     ]
    }
   ],
   "source": [
    "nums = [1, 2, 3]\n",
    "\n",
    "assert isinstance(nums, list) and len(nums) > 0, \"数据必须是非空列表\"\n",
    "\n",
    "print(nums)  # assert 语句通过\n",
    "\n",
    "assert isinstance(nums, list) and len(nums) > 3, \"数据必须是非空列表且包含不少于4个元素\"\n",
    "print(nums)  # AssertionError: 数据必须是非空列表且包含不少于4个元素\n"
   ]
  },
  {
   "cell_type": "markdown",
   "metadata": {},
   "source": [
    "**python控制流小结**\n",
    "\n",
    "条件语句（`if` 语句）：用于根据不同的条件执行不同的代码块。\n",
    "\n",
    "    比较对象本身（是否为 `True`、`False`、`None`）时，常用 `is` 进行 身份（`identity`） 判断;\n",
    "    判断变量数值是否相等，用 `==` / `!=` 进行 值（`equality`） 比较;\n",
    "    `if var_a`: 当 `var_a` 不为 `0`、`False`、`None` 时，判断通过； `if not var_a`与之相反.\n",
    "\n",
    "循环结构:\n",
    "\n",
    "    `for` 循环：用于遍历可迭代对象的每个元素。\n",
    "    `while` 循环：在给定条件为True时重复执行代码块。\n",
    "    循环控制语句：\n",
    "    `break`：提前终止循环。\n",
    "    `continue`：跳过当前迭代，继续下一个循环。\n",
    "    `pass`：占位符，不执行任何操作。\n",
    "\n",
    "(嵌套)列表/字典/集合推导式能够简化代码。<br>\n",
    "\n",
    "异常处理：\n",
    "\n",
    "    `try-except`：用于捕获并处理运行时可能发生的异常，避免程序崩溃并提供更友好的错误信息。\n",
    "    `try-finally`：无论 `try` 块是否抛出异常，`finally` 中的代码都会执行，常用于释放资源或清理操作。\n",
    "    `raise`：用于引发异常（即抛出错误），以便在程序运行过程中遇到问题时能够及时停止执行并报告错误信息。\n",
    "    `assert`：开发和测试时的“断言”工具，确保程序中的关键假设成立；若断言失败，会抛出 `AssertionError`。"
   ]
  },
  {
   "cell_type": "markdown",
   "metadata": {},
   "source": [
    "### **1.2.3 Python的函数和类**"
   ]
  },
  {
   "cell_type": "markdown",
   "metadata": {},
   "source": [
    "- 函数\n",
    "- 函数的参数\n",
    "- 匿名函数\n",
    "- 柯里化（部分参数应用）\n",
    "- 闭包\n",
    "- Python文件的读写\n",
    "- 迭代器与生成器\n",
    "- 类\n",
    "- 魔术方法\n",
    "- Python的函数和类小结"
   ]
  },
  {
   "cell_type": "markdown",
   "metadata": {},
   "source": [
    "**函数**"
   ]
  },
  {
   "cell_type": "markdown",
   "metadata": {},
   "source": [
    "函数是Python中最主要也是最重要的代码组织和复用手段。作为最重要的原则，如果你要重复使用相同或非常类似的代码，就需要写一个函数。通过给函数起一个名字，还可以提高代码的可读性。\n",
    "\n",
    "函数使用``def``关键字声明，用``return``关键字返回值：\n",
    "\n",
    "基本语法：\n",
    "```\n",
    "def function_name(parameters):\n",
    "    \"\"\"\n",
    "    （可选）文档字符串，用于说明函数的功能\n",
    "    \"\"\"\n",
    "    # 函数体（若干条语句）\n",
    "    ...\n",
    "    # 通常有一个 return 语句，若不写则默认返回 None\n"
   ]
  },
  {
   "cell_type": "code",
   "execution_count": 291,
   "metadata": {},
   "outputs": [
    {
     "name": "stdout",
     "output_type": "stream",
     "text": [
      "<class 'tuple'>\n",
      "1 5\n",
      "None\n",
      "4.5\n",
      "18\n"
     ]
    }
   ],
   "source": [
    "# 返回一个或多个变量(通常是一个元组)\n",
    "def min_and_max(numbers):\n",
    "    \"\"\"返回给定列表的最小值和最大值\"\"\"\n",
    "    return min(numbers), max(numbers)\n",
    "nums = [3, 1, 5, 2, 4]\n",
    "print(type(min_and_max(nums)))    # <class 'tuple'>\n",
    "lowest, highest = min_and_max(nums)\n",
    "print(lowest, highest)  # 输出: 1 5\n",
    "\n",
    "# 没有return\n",
    "def do_nothing(): pass\n",
    "result = do_nothing()\n",
    "print(result)  # None\n",
    "\n",
    "def my_function(x, y, z=1.5):  \n",
    "    if z > 1: return z * (x + y)\n",
    "    else: return z / (x + y)\n",
    "# 使用\n",
    "print(my_function(1,2))  # 按照定义时的参数顺序来传递值\n",
    "# 4.5\n",
    "print(my_function(z=3,x=2,y=4))  # 显式地通过参数名来传递值，顺序随意\n",
    "# 18"
   ]
  },
  {
   "cell_type": "markdown",
   "metadata": {},
   "source": [
    "**函数的参数**"
   ]
  },
  {
   "cell_type": "markdown",
   "metadata": {},
   "source": [
    "**位置参数（Positional Arguments）** 这是最常见、最基础的函数参数形式，调用函数时，按照定义时的参数顺序来传递值。"
   ]
  },
  {
   "cell_type": "code",
   "execution_count": 292,
   "metadata": {},
   "outputs": [
    {
     "name": "stdout",
     "output_type": "stream",
     "text": [
      "Hello, Python!\n"
     ]
    }
   ],
   "source": [
    "def greet(name, message):\n",
    "    print(f\"{message}, {name}!\")\n",
    "\n",
    "greet(\"Python\", \"Hello\")  # Hello, Python! \n",
    "# 按顺序传递: name=\"Python\", message=\"Hello\""
   ]
  },
  {
   "cell_type": "markdown",
   "metadata": {},
   "source": [
    "**关键字参数（Keyword Arguments）** 在调用函数时，可以显式地通过参数名来传递值，不再依赖定义时的顺序。"
   ]
  },
  {
   "cell_type": "code",
   "execution_count": 293,
   "metadata": {},
   "outputs": [
    {
     "name": "stdout",
     "output_type": "stream",
     "text": [
      "Hi, Python!\n"
     ]
    }
   ],
   "source": [
    "def greet(name, message):\n",
    "    print(f\"{message}, {name}!\")\n",
    "\n",
    "# 使用关键字参数，顺序随意\n",
    "greet(message=\"Hi\", name=\"Python\") # Hi, Python!"
   ]
  },
  {
   "cell_type": "markdown",
   "metadata": {},
   "source": [
    "**默认参数（Default Arguments）**\n",
    "当函数某些参数有默认值时，调用者可选择是否给该参数传值。如果不传，则使用默认值。"
   ]
  },
  {
   "cell_type": "code",
   "execution_count": 294,
   "metadata": {},
   "outputs": [
    {
     "name": "stdout",
     "output_type": "stream",
     "text": [
      "Hello, Charlo!\n",
      "Hi, Daissy!\n"
     ]
    }
   ],
   "source": [
    "def greet(name, message=\"Hello\"):\n",
    "    print(f\"{message}, {name}!\")\n",
    "\n",
    "# 只传name，message使用默认值\"Hello\"\n",
    "greet(\"Charlo\")  # HHello, Charlo!\n",
    "# 同时传递两个参数\n",
    "greet(\"Daissy\", \"Hi\")  # Hi, Daissy!"
   ]
  },
  {
   "cell_type": "markdown",
   "metadata": {},
   "source": [
    "在 Python 中，函数在定义和调用时有多种方式来传递参数，特别是遇到可变数量的参数或需要灵活地通过参数名传递值时，就会用到 `*args` 和 `**kwargs`\n"
   ]
  },
  {
   "cell_type": "markdown",
   "metadata": {},
   "source": [
    "***args：可变长度的位置参数**\n",
    "\n",
    "    *args（名字随意，但约定俗成常用 args）表示可接受任意数量的位置参数，并在函数内部将它们打包成一个元组。<br>\n",
    "    当函数需要处理未知数量的位置参数时，可使用此机制。"
   ]
  },
  {
   "cell_type": "code",
   "execution_count": 295,
   "metadata": {},
   "outputs": [
    {
     "name": "stdout",
     "output_type": "stream",
     "text": [
      "6\n",
      "65\n"
     ]
    }
   ],
   "source": [
    "def add_numbers(*args):\n",
    "    total = 0\n",
    "    for num in args:\n",
    "        total += num\n",
    "    return total\n",
    "\n",
    "print(add_numbers(1, 2, 3))       # 6\n",
    "print(add_numbers(10, 20, 30, 5)) # 65\n"
   ]
  },
  {
   "cell_type": "markdown",
   "metadata": {},
   "source": [
    "在函数调用时，传递的额外位置参数会被收集到 args 这个元组里，函数内部可以用迭代的方式进行处理。\n",
    "\n",
    "***args 与其他参数的顺序**\n",
    "\n",
    "如果函数的定义中还包含其他普通参数或关键字参数，*args 一般放在普通参数之后、**kwargs 之前。函数的参数顺序通常是：\n",
    "```\n",
    "def func(positional_args, default_args=..., *args, keyword_only_args=..., **kwargs):\n",
    "    ...\n"
   ]
  },
  {
   "cell_type": "markdown",
   "metadata": {},
   "source": [
    "****kwargs：可变长度的关键字参数**\n",
    "\n",
    "    **kwargs（常用此名称）表示可接受任意数量的关键字参数，并在函数内部将它们打包成一个字典（dict）。\n",
    "    \n",
    "    当函数需要处理未知数量的关键字参数时，可使用此机制。"
   ]
  },
  {
   "cell_type": "code",
   "execution_count": 296,
   "metadata": {},
   "outputs": [
    {
     "name": "stdout",
     "output_type": "stream",
     "text": [
      "{'first_name': 'Alili', 'last_name': 'Smith', 'location': 'New York', 'age': 30, 'hobby': 'Reading'}\n"
     ]
    }
   ],
   "source": [
    "def build_profile(first_name, last_name, **kwargs):\n",
    "    profile = {\"first_name\": first_name, \"last_name\": last_name}\n",
    "    # 将额外的关键字参数更新到profile字典中\n",
    "    for key, value in kwargs.items():\n",
    "        profile[key] = value\n",
    "    return profile\n",
    "\n",
    "user_profile = build_profile(\"Alili\", \"Smith\", location=\"New York\", age=30, hobby=\"Reading\")\n",
    "print(user_profile)\n",
    "# {'first_name': 'Alili', 'last_name': 'Smith', 'location': 'New York', 'age': 30, 'hobby': 'Reading'}\n",
    "\n",
    "# 在这个示例中，除了 first_name 和 last_name 外，\n",
    "# 任何其他的关键字参数（location=\"New York\", age=30, hobby=\"Reading\"）都会被聚合到 kwargs 这个字典里。"
   ]
  },
  {
   "cell_type": "markdown",
   "metadata": {},
   "source": [
    "使用 `**` 解包字典\n",
    "\n",
    "在函数调用时，如果有一个字典，可以使用 ** 将其解包成多个关键字参数传入函数。"
   ]
  },
  {
   "cell_type": "code",
   "execution_count": 297,
   "metadata": {},
   "outputs": [
    {
     "name": "stdout",
     "output_type": "stream",
     "text": [
      "1 2 3\n"
     ]
    }
   ],
   "source": [
    "def show_info(a, b, c):\n",
    "    print(a, b, c)\n",
    "\n",
    "data = {\"a\": 1, \"b\": 2, \"c\": 3}\n",
    "show_info(**data)  # 等价于 show_info(a=1, b=2, c=3)"
   ]
  },
  {
   "cell_type": "markdown",
   "metadata": {},
   "source": [
    "**匿名函数**"
   ]
  },
  {
   "cell_type": "markdown",
   "metadata": {},
   "source": [
    "Python 提供了 匿名函数（lambda），用来定义简单的内联函数。其语法是：\n",
    "```python\n",
    "lambda 参数列表: 表达式\n"
   ]
  },
  {
   "cell_type": "code",
   "execution_count": 298,
   "metadata": {},
   "outputs": [
    {
     "name": "stdout",
     "output_type": "stream",
     "text": [
      "[1, 4, 9, 16]\n",
      "[1, 4, 9, 16]\n"
     ]
    }
   ],
   "source": [
    "# 将列表中每个数值平方\n",
    "numbers = [1, 2, 3, 4]\n",
    "squared = list(map(lambda x: x**2, numbers))\n",
    "print(squared)  # 输出: [1, 4, 9, 16]\n",
    "\n",
    "# lambda 语句 等价于  fun_square\n",
    "def fun_square(x):\n",
    "    return x ** 2\n",
    "squared_b = list(map(fun_square, numbers))\n",
    "print(squared_b)  # 输出: [1, 4, 9, 16]\n",
    "    \n",
    "# squared_c = [x ** 2 for x in numbers]"
   ]
  },
  {
   "cell_type": "markdown",
   "metadata": {},
   "source": [
    "**柯里化：部分参数应用**"
   ]
  },
  {
   "cell_type": "markdown",
   "metadata": {},
   "source": [
    "柯里化（currying）是一个有趣的计算机科学术语，它指的是通过“部分参数应用”（partial argument application）从现有函数派生出新函数的技术。例如，假设我们有一个执行两数相加的简单函数："
   ]
  },
  {
   "cell_type": "code",
   "execution_count": 299,
   "metadata": {},
   "outputs": [],
   "source": [
    "def add_nums(a, b):\n",
    "    return a + b"
   ]
  },
  {
   "cell_type": "markdown",
   "metadata": {},
   "source": [
    "通过这个函数，我们可以派生出一个新的只有一个参数的函数——add_five，它用于对其参数加5："
   ]
  },
  {
   "cell_type": "code",
   "execution_count": 300,
   "metadata": {},
   "outputs": [],
   "source": [
    "add_five = lambda y: add_nums(5, y)"
   ]
  },
  {
   "cell_type": "markdown",
   "metadata": {},
   "source": [
    "add_numbers的第二个参数称为“柯里化的”（curried）。这里没什么特别花哨的东西，因为我们其实就只是定义了一个可以调用现有函数的新函数而已。内置的functools模块可以用partial函数将此过程简化："
   ]
  },
  {
   "cell_type": "code",
   "execution_count": 301,
   "metadata": {},
   "outputs": [
    {
     "name": "stdout",
     "output_type": "stream",
     "text": [
      "functools.partial(<function add_nums at 0x0000024D5E271DC0>, 5)\n",
      "6\n"
     ]
    }
   ],
   "source": [
    "from functools import partial\n",
    "add_five = partial(add_nums, 5)\n",
    "print(add_five)\n",
    "# functools.partial(<function add_nums at 0x00000222C2976B90>, 5)\n",
    "print(add_five(1)) \n",
    "# 6"
   ]
  },
  {
   "cell_type": "markdown",
   "metadata": {},
   "source": [
    "**闭包**"
   ]
  },
  {
   "cell_type": "markdown",
   "metadata": {},
   "source": [
    "> 这里，我们简单介绍一下命名空间、作用域和局部函数。<br>\n",
    "\n",
    "函数可以访问两种不同作用域中的变量：全局（global）和局部（local）。Python有一种更科学的用于描述变量作用域的名称，即命名空间（namespace）。任何在函数中赋值的变量默认都是被分配到局部命名空间（local namespace）中的。局部命名空间是在函数被调用时创建的，函数参数会立即填入该命名空间。在函数执行完毕之后，局部命名空间就会被销毁。\n",
    "\n",
    "```\n",
    "def func():\n",
    "    a = []\n",
    "    for i in range(5):\n",
    "        a.append(i)\n",
    "```\n",
    "\n",
    "调用func()之后，首先会创建出空列表a，然后添加5个元素，最后a会在该函数退出的时候被销毁。假如我们像下面这样定义a：\n",
    "\n",
    "```\n",
    "a = []\n",
    "def func():\n",
    "    for i in range(5):\n",
    "        a.append(i)\n",
    "```\n",
    "\n",
    "虽然可以在函数中对全局变量进行赋值操作，但是那些变量必须用global关键字声明成全局的才行(不建议频繁使用global)："
   ]
  },
  {
   "cell_type": "code",
   "execution_count": 302,
   "metadata": {},
   "outputs": [
    {
     "name": "stdout",
     "output_type": "stream",
     "text": [
      "[]\n"
     ]
    }
   ],
   "source": [
    "a = None\n",
    "def bind_a_variable():\n",
    "    global a\n",
    "    a = []\n",
    "bind_a_variable()\n",
    "print(a)  # []"
   ]
  },
  {
   "cell_type": "markdown",
   "metadata": {},
   "source": [
    "在 Python 中，函数也是对象，意味着我们可以将函数赋值给变量、当作参数传递、或者储存在数据结构中等。正因为函数的“第一类对象（First-Class Citizen）”特性，Python 提供了多种灵活的用法。"
   ]
  },
  {
   "cell_type": "markdown",
   "metadata": {},
   "source": [
    "**在函数内部定义函数**\n",
    "\n",
    "    允许在一个函数的作用域内，定义另一个（或多个）内部函数。这样做往往是为了封装逻辑并保持外部命名空间的整洁。\n",
    "    只有在外部函数被调用时，内部函数才会被创建，不会污染全局或其他作用域。"
   ]
  },
  {
   "cell_type": "code",
   "execution_count": 303,
   "metadata": {},
   "outputs": [
    {
     "name": "stdout",
     "output_type": "stream",
     "text": [
      "调用内部函数之前\n",
      "这是内部函数\n"
     ]
    }
   ],
   "source": [
    "def outer():\n",
    "    def inner():\n",
    "        print(\"这是内部函数\")\n",
    "    print(\"调用内部函数之前\")\n",
    "    inner()\n",
    "outer()\n",
    "\n",
    "# 调用内部函数之前\n",
    "# 这是内部函数"
   ]
  },
  {
   "cell_type": "markdown",
   "metadata": {},
   "source": [
    "**闭包（Closure）**\n",
    "\n",
    "    当内部函数引用了外部函数作用域中的变量，并且外部函数执行完毕后，这些变量依然能被内部函数访问，这种机制就称为闭包。\n",
    "    能实现“记住”某些状态或数据，让函数具备持久化的变量环境。"
   ]
  },
  {
   "cell_type": "code",
   "execution_count": 304,
   "metadata": {},
   "outputs": [
    {
     "name": "stdout",
     "output_type": "stream",
     "text": [
      "10\n"
     ]
    }
   ],
   "source": [
    "def make_multiplier(n):\n",
    "    def multiplier(x):\n",
    "        return x * n\n",
    "    return multiplier\n",
    "\n",
    "times2 = make_multiplier(2)\n",
    "print(times2(5))  # 10"
   ]
  },
  {
   "cell_type": "markdown",
   "metadata": {},
   "source": [
    "**Python文件的读写**"
   ]
  },
  {
   "cell_type": "markdown",
   "metadata": {},
   "source": [
    "先介绍一下Python的内置函数。Python 内置了许多常用的函数，例如：\n",
    "\n",
    "    len()：返回序列或容器的长度\n",
    "    range()：产生一系列整数\n",
    "    max() / min()：返回最大 / 最小值\n",
    "    sum()：求和\n",
    "    map(), filter(), zip()：函数式编程相关工具\n",
    "    print()：打印输出\n",
    "    input()：从标准输入读取字符串\n",
    "    enumerate(): 循环遍历\n",
    "    zip()：用于循环遍历、数据打包 \n",
    "    open(): 打开文件"
   ]
  },
  {
   "cell_type": "markdown",
   "metadata": {},
   "source": [
    "    python 文件读写  open()方法"
   ]
  },
  {
   "cell_type": "markdown",
   "metadata": {},
   "source": [
    "Python open() 方法用于打开一个文件，并返回文件对象，在对文件进行处理过程都需要使用到这个函数，如果该文件无法被打开，会抛出 OSError。\n",
    "\n",
    "注意：使用 open() 方法一定要保证关闭文件对象，即调用 close() 方法。\n",
    "\n",
    "open() 函数常用形式是接收两个参数：文件名(file)和模式(mode)。"
   ]
  },
  {
   "cell_type": "markdown",
   "metadata": {},
   "source": [
    "```open(file, mode='r')```\n",
    "\n",
    "完整的语法格式为：\n",
    "```\n",
    "open(file, mode='r', buffering=-1, encoding=None, errors=None, newline=None, closefd=True, opener=None)\n",
    "```\n",
    "参数说明:\n",
    "\n",
    "    file (必需): 要打开的文件的路径（可以是相对路径或绝对路径）。可以是字符串或 Path 对象。\n",
    "    mode (可选): 打开文件的模式，默认值是 r（只读模式）。\n",
    "    encoding (可选): 指定文件的编码方式，常见的编码有 utf-8、ascii 等。如果打开文本文件，推荐指定编码。\n",
    "    errors (可选): 控制如何处理编码/解码错误。常用值有 strict（默认值，抛出错误）、ignore（忽略错误）等。\n",
    "    newline (可选): 控制换行符的处理。默认情况下，文本文件中的换行符会转换成 Python 的换行符（\\n）。\n",
    "    closefd (可选): 默认为 True，表示关闭文件时也会关闭底层文件描述符。如果设置为 False，即使文件关闭时底层文件描述符也不会被关闭。\n",
    "    opener (可选): 允许自定义一个用于打开文件的函数。\n",
    "\n"
   ]
  },
  {
   "cell_type": "markdown",
   "metadata": {},
   "source": [
    "|**操作模式**mode|具体含义|\n",
    "|---|---|\n",
    "|`'r'`|读取(默认)|\n",
    "|`'w'`|\t写入（会先截断之前的内容）|\n",
    "|`'x'`|\t写入，如果文件已经存在会产生异常|\n",
    "|`'a'`|\t追加，将内容写入到已有文件的末尾|\n",
    "|`'b'`|\t二进制模式|\n",
    "|`'t'`|\t文本模式（默认）|\n",
    "|`'+'`|\t更新（既可以读又可以写）|"
   ]
  },
  {
   "cell_type": "markdown",
   "metadata": {},
   "source": [
    "**File对象的属性**\n",
    "\n",
    "一个文件被打开后，会有一个file对象，你可以得到有关该文件的各种信息\n",
    "\n",
    "|属性|描述|\n",
    "|---|---|\n",
    "|`file.closed`|返回`true`如果文件已被关闭，否则返回`false`。|\n",
    "|`file.mode`|返回被打开文件的访问模式。\n",
    "|`file.name`|返回文件的名称。\n"
   ]
  },
  {
   "cell_type": "code",
   "execution_count": 305,
   "metadata": {},
   "outputs": [
    {
     "name": "stdout",
     "output_type": "stream",
     "text": [
      "文件名:  example.txt\n",
      "是否已关闭 :  False\n",
      "访问模式 :  w\n"
     ]
    }
   ],
   "source": [
    "# 打开一个文件\n",
    "f = open(\"example.txt\", \"w\")\n",
    "print(\"文件名: \", f.name)  # 文件名:  example.txt\n",
    "print(\"是否已关闭 : \", f.closed)  # 是否已关闭 :  False\n",
    "print(\"访问模式 : \", f.mode)  # 访问模式 :  w\n",
    "f.close()"
   ]
  },
  {
   "cell_type": "markdown",
   "metadata": {},
   "source": [
    "**文本文件的读写**\n",
    "\n",
    "    使用 `open()` 与 `close()`\n",
    "    使用  `with open(...) as ...` 语句\n"
   ]
  },
  {
   "cell_type": "code",
   "execution_count": 306,
   "metadata": {},
   "outputs": [],
   "source": [
    "# open()  close\n",
    "f = open(\"example.txt\", mode=\"r\", encoding=\"utf-8\")  # 打开文本文件\n",
    "content = f.read()\n",
    "f.close()  # 操作完毕后，务必手动关闭"
   ]
  },
  {
   "cell_type": "code",
   "execution_count": 307,
   "metadata": {},
   "outputs": [],
   "source": [
    "with open(\"example.txt\", \"r\", encoding=\"utf-8\") as f:\n",
    "    content = f.read()\n",
    "    # 在这里可以对 content 做各种处理\n",
    "\n",
    "# with 块结束后，文件会自动关闭，无需手动 f.close()\n"
   ]
  },
  {
   "cell_type": "markdown",
   "metadata": {},
   "source": [
    "* 一次性读取整个文件：使用 `read()`。\n",
    "* 按行读取：\n",
    "    * `readline()`: 一次只读取文件中的一行文本（包括行末的换行符，如果有的话）。<br>**返回值**：返回所读取的一行字符串，如果到达文件末尾，则返回空字符串 ''\n",
    "    * `readlines()`: 一次性读取文件中所有行并返回一个列表，每个元素是文件中的一行字符串。<br>**返回值**：列表类型，每个元素对应一行文本（包含换行符），如果文件为空，则返回空列表 []。"
   ]
  },
  {
   "cell_type": "markdown",
   "metadata": {},
   "source": [
    "**写入文本文件**\n",
    "* 使用 \"w\" 模式：会覆盖文件原有内容，如果文件不存在则创建。\n",
    "* 使用 \"a\" 模式：会在文件末尾追加内容。"
   ]
  },
  {
   "cell_type": "code",
   "execution_count": 308,
   "metadata": {},
   "outputs": [
    {
     "name": "stdout",
     "output_type": "stream",
     "text": [
      "这是写入文本文件的第一行\n",
      "这是第二行\n"
     ]
    }
   ],
   "source": [
    "# 写入\n",
    "f = open(\"example.txt\", \"w\", encoding=\"utf-8\")\n",
    "f.write(\"这是写入文本文件的第一行\\n\")\n",
    "f.write(\"这是第二行\\n\")\n",
    "f.close()\n",
    "\n",
    "# 按行读取 \n",
    "with open(\"example.txt\", \"r\", encoding=\"utf-8\") as f:\n",
    "    for line in f:\n",
    "        line = line.strip()  # 去掉行末尾的换行符或空白\n",
    "        print(line)\n",
    "# 这是写入文本文件的第一行\n",
    "# 这是第二行\n",
    "\n",
    "# line.strip() 去除两端的空白字符，包括 \\n、空格等。\n",
    "# 如果只想去除换行符，也可用 line.rstrip(\"\\n\")。"
   ]
  },
  {
   "cell_type": "markdown",
   "metadata": {},
   "source": [
    "**JSON文件的读写**\n",
    "\n",
    "JSON（JavaScript Object Notation）常用于配置文件、数据交换等场景。在 Python 中，可以使用 json 标准库进行读写。常见函数：\n",
    "\n",
    "    json.dump(obj, file, ...)：将 Python 对象编码为 JSON 并写入文件\n",
    "    json.load(file)：从文件读取 JSON 并解码为 Python 对象\n",
    "    json.dumps(obj, ...)：将 Python 对象编码为 JSON 字符串\n",
    "    json.loads(string)：将 JSON 字符串解码为 Python 对象"
   ]
  },
  {
   "cell_type": "markdown",
   "metadata": {},
   "source": [
    "JSON是“JavaScript Object Notation”的缩写，它本来是JavaScript语言中创建对象的一种字面量语法，现在已经被广泛的应用于跨平台跨语言的数据交换，原因很简单，因为JSON也是纯文本，任何系统任何编程语言处理纯文本都是没有问题的。目前JSON基本上已经取代了XML作为异构系统间交换数据的事实标准。"
   ]
  },
  {
   "cell_type": "code",
   "execution_count": 309,
   "metadata": {},
   "outputs": [
    {
     "name": "stdout",
     "output_type": "stream",
     "text": [
      "{'name': 'Alili', 'age': 25, 'skills': ['Python', 'Data Analysis']}\n"
     ]
    }
   ],
   "source": [
    "import json\n",
    "data = {\n",
    "    \"name\": \"Alili\",\n",
    "    \"age\": 25,\n",
    "    \"skills\": [\"Python\", \"Data Analysis\"]}\n",
    "\n",
    "# 写入JSON文件\n",
    "with open(\"data.json\", \"w\", encoding=\"utf-8\") as f:\n",
    "    json.dump(data, f, ensure_ascii=False, indent=4)\n",
    "\n",
    "# 读取JSON文件\n",
    "with open(\"data.json\", \"r\", encoding=\"utf-8\") as f:\n",
    "    loaded_data = json.load(f)\n",
    "\n",
    "print(loaded_data)\n",
    "# {'name': 'Alili', 'age': 25, 'skills': ['Python', 'Data Analysis']}\n",
    "\n",
    "# ensure_ascii=False 可以在写入 JSON 时保留非 ASCII 字符（如中文），避免出现 \\uXXXX 形式。\n",
    "# indent=4 表示写入时缩进 4 个空格，方便阅读。\n"
   ]
  },
  {
   "cell_type": "markdown",
   "metadata": {},
   "source": [
    "**二进制文件的读写**<br>\n",
    "当需要处理图片、音视频或其他非文本数据时，通常会使用二进制模式（在 mode 中添加 b）\n",
    "\n",
    "    读取：`\"rb\"`\n",
    "    写入：`\"wb\"`\n",
    "    读写：`\"rb+\"` 或 `\"wb+\"` 等\n",
    "```\n",
    "try:\n",
    "    with open('path/to/image.jpg', 'rb') as fs1:\n",
    "        data = fs1.read()\n",
    "        print(type(data))  # <class 'bytes'>\n",
    "    with open('path/to/image_save.jpg', 'wb') as fs2:\n",
    "        fs2.write(data)\n",
    "except FileNotFoundError as e:\n",
    "    print('指定的文件无法打开.')\n",
    "except IOError as e:\n",
    "    print('读写文件时出现错误.')\n",
    "print('程序执行结束.')"
   ]
  },
  {
   "cell_type": "markdown",
   "metadata": {},
   "source": [
    "**迭代器(Iterator)**与**生成器(generator)**"
   ]
  },
  {
   "cell_type": "markdown",
   "metadata": {},
   "source": [
    "**迭代器**是一种对象，用于逐一访问集合（如列表、元组、字典等）中的元素，而无需一次性将所有元素加载到内存中。\n",
    "\n",
    "**生成器**是一种特殊类型的迭代器，使用简单的语法创建，能够在需要时生成（yield）值，而不是一次性生成所有值。生成器通过 懒惰求值（Lazy Evaluation）实现内存效率高的迭代。\n",
    "\n",
    "迭代器涉及Python的类，我们先介绍生成器。"
   ]
  },
  {
   "cell_type": "markdown",
   "metadata": {},
   "source": [
    "**生成器(generator)** "
   ]
  },
  {
   "cell_type": "markdown",
   "metadata": {},
   "source": [
    "**生成器的创建方式**\n",
    "\n",
    "使用生成器函数<br>\n",
    "    生成器函数类似于普通函数，但使用 yield 关键字返回值。"
   ]
  },
  {
   "cell_type": "code",
   "execution_count": 310,
   "metadata": {},
   "outputs": [
    {
     "name": "stdout",
     "output_type": "stream",
     "text": [
      "1\n",
      "2\n",
      "3\n"
     ]
    }
   ],
   "source": [
    "def count_up_to(max):\n",
    "    count = 1\n",
    "    while count <= max:\n",
    "        yield count  # 返回当前计数，并暂停函数状态\n",
    "        count += 1\n",
    "\n",
    "# 使用生成器函数\n",
    "counter = count_up_to(3)\n",
    "\n",
    "print(next(counter))  # 1\n",
    "print(next(counter))  # 2\n",
    "print(next(counter))  # 3\n",
    "# print(next(counter))  # 会引发 StopIteration"
   ]
  },
  {
   "cell_type": "markdown",
   "metadata": {},
   "source": [
    "使用生成器表达式<br>\n",
    "类似于列表推导式，但使用圆括号`()`，返回生成器对象"
   ]
  },
  {
   "cell_type": "code",
   "execution_count": 311,
   "metadata": {},
   "outputs": [
    {
     "name": "stdout",
     "output_type": "stream",
     "text": [
      "1\n",
      "4\n",
      "9\n"
     ]
    }
   ],
   "source": [
    "# 创建一个生成器表达式\n",
    "squares_gen = (x**2 for x in range(1, 4))\n",
    "\n",
    "print(next(squares_gen))  # 1\n",
    "print(next(squares_gen))  # 4\n",
    "print(next(squares_gen))  # 9\n",
    "# print(next(squares_gen))  # 会引发 StopIteration\n"
   ]
  },
  {
   "cell_type": "markdown",
   "metadata": {},
   "source": [
    "**生成器的使用示例**\n",
    "\n",
    "使用生成器函数遍历"
   ]
  },
  {
   "cell_type": "code",
   "execution_count": 312,
   "metadata": {},
   "outputs": [
    {
     "name": "stdout",
     "output_type": "stream",
     "text": [
      "0\n",
      "1\n",
      "1\n",
      "2\n",
      "3\n"
     ]
    }
   ],
   "source": [
    "def fibonacci(n):\n",
    "    a, b = 0, 1\n",
    "    for _ in range(n):\n",
    "        yield a\n",
    "        a, b = b, a + b\n",
    "\n",
    "# 创建一个Fibonacci生成器\n",
    "fib_gen = fibonacci(5)\n",
    "\n",
    "for num in fib_gen:\n",
    "    print(num)\n",
    "\n",
    "# 0\n",
    "# 1\n",
    "# 1\n",
    "# 2\n",
    "# 3"
   ]
  },
  {
   "cell_type": "code",
   "execution_count": 313,
   "metadata": {},
   "outputs": [
    {
     "name": "stdout",
     "output_type": "stream",
     "text": [
      "1\n",
      "8\n",
      "27\n",
      "64\n",
      "125\n"
     ]
    }
   ],
   "source": [
    "# 创建一个生成器表达式，生成1到5的立方\n",
    "cubes_gen = (x**3 for x in range(1, 6))\n",
    "\n",
    "for cube in cubes_gen:\n",
    "    print(cube)\n",
    "# 1\n",
    "# 8\n",
    "# 27\n",
    "# 64\n",
    "# 125"
   ]
  },
  {
   "cell_type": "code",
   "execution_count": 314,
   "metadata": {},
   "outputs": [
    {
     "name": "stdout",
     "output_type": "stream",
     "text": [
      "1\n",
      "4\n",
      "9\n",
      "16\n",
      "25\n"
     ]
    }
   ],
   "source": [
    "# 使用生成器函数生成平方数\n",
    "\n",
    "def generate_squares(n):\n",
    "    for x in range(1, n + 1):\n",
    "        yield x**2\n",
    "\n",
    "squares = generate_squares(5)\n",
    "\n",
    "for square in squares:\n",
    "    print(square)\n",
    "\n",
    "# 1\n",
    "# 4\n",
    "# 9\n",
    "# 16\n",
    "# 25\n"
   ]
  },
  {
   "cell_type": "markdown",
   "metadata": {},
   "source": [
    "**生成器的生命周期**\n",
    "\n",
    "    创建：定义生成器函数或表达式，创建生成器对象。\n",
    "    迭代：使用 next() 函数或 for 循环逐步获取生成器中的值。\n",
    "    终止：当生成器耗尽所有值时，引发 StopIteration 异常，迭代结束。"
   ]
  },
  {
   "cell_type": "markdown",
   "metadata": {},
   "source": [
    "**生成器的高级用法**"
   ]
  },
  {
   "cell_type": "markdown",
   "metadata": {},
   "source": [
    "生成器的send()方法<br>\n",
    "除了next()方法，生成器还可以接收外部发送的数据。"
   ]
  },
  {
   "cell_type": "code",
   "execution_count": 315,
   "metadata": {},
   "outputs": [
    {
     "name": "stdout",
     "output_type": "stream",
     "text": [
      "Echo: Hello\n",
      "Echo: World\n"
     ]
    }
   ],
   "source": [
    "def echo():\n",
    "    while True:\n",
    "        value = yield\n",
    "        print(f\"Echo: {value}\")\n",
    "\n",
    "# 创建生成器\n",
    "e = echo()\n",
    "next(e)  # 启动生成器\n",
    "\n",
    "# 发送数据\n",
    "e.send(\"Hello\")  # Echo: Hello\n",
    "e.send(\"World\")  # Echo: World\n"
   ]
  },
  {
   "cell_type": "markdown",
   "metadata": {},
   "source": [
    "生成器的close()方法<br>\n",
    "可以使用`close()`方法提前终止生成器。"
   ]
  },
  {
   "cell_type": "code",
   "execution_count": 316,
   "metadata": {},
   "outputs": [
    {
     "name": "stdout",
     "output_type": "stream",
     "text": [
      "1\n",
      "Generator closed.\n"
     ]
    }
   ],
   "source": [
    "def generator():\n",
    "    try:\n",
    "        yield 1\n",
    "        yield 2\n",
    "        yield 3\n",
    "    except GeneratorExit:\n",
    "        print(\"Generator closed.\")\n",
    "\n",
    "gen = generator()\n",
    "print(next(gen))  # 1\n",
    "gen.close()      # Generator closed.\n"
   ]
  },
  {
   "cell_type": "markdown",
   "metadata": {},
   "source": [
    "**生成器的优势**\n",
    "\n",
    "    节省内存：生成器一次生成一个值，而不是将所有值存储在内存中，适用于处理大数据集。\n",
    "    惰性求值：生成器只有在需要时才生成下一个值，提升效率\n",
    "    简洁的语法：相比于自定义迭代器，生成器函数和表达式语法更简洁。"
   ]
  },
  {
   "cell_type": "markdown",
   "metadata": {},
   "source": [
    "**itertools模块**\n",
    "\n",
    "\n",
    "标准库itertools模块中有一组用于许多常见数据算法的生成器。例如，groupby可以接受任何序列和一个函数。它根据函数的返回值对序列中的连续元素进行分组。下面是一个例子："
   ]
  },
  {
   "cell_type": "code",
   "execution_count": 317,
   "metadata": {},
   "outputs": [
    {
     "name": "stdout",
     "output_type": "stream",
     "text": [
      "A ['Aln', 'Ada']\n",
      "W ['Wes', 'Wi']\n",
      "A ['Albe']\n",
      "S ['Sten']\n"
     ]
    }
   ],
   "source": [
    "import itertools\n",
    "first_letter = lambda x: x[0]\n",
    "names = ['Aln', 'Ada', 'Wes', 'Wi', 'Albe', 'Sten']\n",
    "for letter, names in itertools.groupby(names, first_letter):\n",
    "    print(letter, list(names)) # names is a generator\n",
    "\n",
    "# A ['Aln', 'Ada']\n",
    "# W ['Wes', 'Wi']\n",
    "# A ['Albe']\n",
    "# S ['Sten']"
   ]
  },
  {
   "cell_type": "markdown",
   "metadata": {},
   "source": [
    "**迭代器(Iterator)**<br>迭代器提供了一种高效且灵活的方式来遍历数据结构。<br>\n",
    "\n",
    "**迭代器及基本概念**\n",
    "\n",
    "    **可迭代对象(Iterable)**: 任何可以返回一个迭代器的对象。常见的可迭代对象包括列表、元组、字符串、字典和集合。\n",
    "    **迭代器(Iterator)**: 实现了 `__iter__()` 和 `__next__()` 方法的对象。`__iter__()` 返回迭代器对象本身，`__next__()` 返回下一个元素，当没有元素时引发 `StopIteration` 异常。"
   ]
  },
  {
   "cell_type": "markdown",
   "metadata": {},
   "source": [
    "**使用迭代器**"
   ]
  },
  {
   "cell_type": "code",
   "execution_count": 318,
   "metadata": {},
   "outputs": [
    {
     "name": "stdout",
     "output_type": "stream",
     "text": [
      "apple\n",
      "banana\n",
      "cherry\n"
     ]
    }
   ],
   "source": [
    "# 获取迭代器\n",
    "# 可以使用内置函数 iter() 将可迭代对象转换为迭代器。\n",
    "# 创建一个列表\n",
    "fruits = ['apple', 'banana', 'cherry']\n",
    "# 获取列表的迭代器\n",
    "fruits_iterator = iter(fruits)\n",
    "# 使用 next() 获取元素\n",
    "print(next(fruits_iterator))  # apple\n",
    "print(next(fruits_iterator))  # banana\n",
    "print(next(fruits_iterator))  # cherry\n",
    "# 再调用 next() 会引发 StopIteration 异常\n",
    "# print(next(fruits_iterator))  # 会引发 StopIteration\n"
   ]
  },
  {
   "cell_type": "markdown",
   "metadata": {},
   "source": [
    "**使用`for`循环遍历迭代器**"
   ]
  },
  {
   "cell_type": "code",
   "execution_count": 319,
   "metadata": {},
   "outputs": [
    {
     "name": "stdout",
     "output_type": "stream",
     "text": [
      "apple\n",
      "banana\n",
      "cherry\n"
     ]
    }
   ],
   "source": [
    "# for 循环内部使用迭代器机制，自动处理 StopIteration 异常。\n",
    "fruits = ['apple', 'banana', 'cherry']\n",
    "for fruit in fruits:\n",
    "    print(fruit)\n",
    "# apple\n",
    "# banana\n",
    "# cherry\n"
   ]
  },
  {
   "cell_type": "markdown",
   "metadata": {},
   "source": [
    "**创建自定义迭代器** <br>\n",
    "\n",
    "通过实现 `__iter__()` 和 `__next__()` 方法，可以创建自定义的迭代器。"
   ]
  },
  {
   "cell_type": "code",
   "execution_count": 320,
   "metadata": {},
   "outputs": [
    {
     "name": "stdout",
     "output_type": "stream",
     "text": [
      "1\n",
      "2\n",
      "3\n"
     ]
    }
   ],
   "source": [
    "class MyIterator:\n",
    "    def __init__(self, start, end):\n",
    "        self.current = start\n",
    "        self.end = end\n",
    "    def __iter__(self):\n",
    "        return self  # 迭代器返回自身\n",
    "    def __next__(self):\n",
    "        if self.current >= self.end:\n",
    "            raise StopIteration  # 没有更多元素时引发异常\n",
    "        self.current += 1\n",
    "        return self.current - 1\n",
    "# 使用自定义迭代器\n",
    "my_iter = MyIterator(1, 4)\n",
    "for num in my_iter:\n",
    "    print(num)  # 1 2 3"
   ]
  },
  {
   "cell_type": "markdown",
   "metadata": {},
   "source": [
    "**迭代器与生成器对比**\n",
    "\n",
    "|特性|迭代器(Iterator)|生成器(Generator)|\n",
    "|---|---|---|\n",
    "|创建方式|通过实现`__iter__()`和`__next__()`方法|通过生成器函数(使用`yield`)或生成器表达式|\n",
    "|内存效率|根据实现，可能需要更多内存|高效，按需生成值|\n",
    "|简洁性|需要定义类和方法|语法更简洁，易于编写|\n",
    "|状态管理|手动管理状态|自动管理状态|"
   ]
  },
  {
   "cell_type": "code",
   "execution_count": 321,
   "metadata": {},
   "outputs": [
    {
     "name": "stdout",
     "output_type": "stream",
     "text": [
      "2\n",
      "1\n",
      "0\n"
     ]
    }
   ],
   "source": [
    "# 创建一个简单的迭代器\n",
    "\n",
    "class Countdown:\n",
    "    def __init__(self, start):\n",
    "        self.current = start\n",
    "\n",
    "    def __iter__(self):\n",
    "        return self\n",
    "\n",
    "    def __next__(self):\n",
    "        if self.current <= 0:\n",
    "            raise StopIteration\n",
    "        self.current -= 1\n",
    "        return self.current\n",
    "\n",
    "# 使用迭代器\n",
    "for number in Countdown(3):\n",
    "    print(number)\n",
    "\n",
    "# 2\n",
    "# 1\n",
    "# 0\n"
   ]
  },
  {
   "cell_type": "code",
   "execution_count": 322,
   "metadata": {},
   "outputs": [
    {
     "name": "stdout",
     "output_type": "stream",
     "text": [
      "2\n",
      "4\n",
      "6\n",
      "8\n",
      "10\n"
     ]
    }
   ],
   "source": [
    "# 使用生成器表达式筛选偶数\n",
    "\n",
    "numbers = range(1, 11)\n",
    "evens_gen = (x for x in numbers if x % 2 == 0)\n",
    "\n",
    "for even in evens_gen:\n",
    "    print(even)\n",
    "\n",
    "# 2\n",
    "# 4\n",
    "# 6\n",
    "# 8\n",
    "# 10"
   ]
  },
  {
   "cell_type": "markdown",
   "metadata": {},
   "source": [
    "**类**"
   ]
  },
  {
   "cell_type": "markdown",
   "metadata": {},
   "source": [
    "**类与对象**\n",
    "\n",
    "    类（Class）：一种蓝图或模板，用来描述具有相同属性和方法的一组对象。\n",
    "    对象（Object / Instance）：类的具体实例，每个对象拥有独立的属性值，但共享类定义的方法。\n",
    "\n",
    "在Python中，一切皆对象，类本身也是对象（元类的实例），但初学阶段可先把握“类是蓝图，对象是依据蓝图创建的实体”这一概念。"
   ]
  },
  {
   "cell_type": "markdown",
   "metadata": {},
   "source": [
    "1） **定义类** <br>\n",
    "使用关键字 class 定义类；常见规范是将类名首字母大写且采用驼峰式命名（如 MyClass）："
   ]
  },
  {
   "cell_type": "code",
   "execution_count": 323,
   "metadata": {},
   "outputs": [],
   "source": [
    "class Person:\n",
    "    \"\"\"代表一个人的类\"\"\"\n",
    "    def __init__(self, name, age):\n",
    "        # __init__ 是构造方法，用于初始化对象属性\n",
    "        self.name = name\n",
    "        self.age = age\n",
    "    def greet(self):\n",
    "        # self 是对实例自身的引用，在定义实例方法时必须作为第一个参数\n",
    "        print(f\"Hello, I am {self.name}, and I'm {self.age} years old.\")\n"
   ]
  },
  {
   "cell_type": "markdown",
   "metadata": {},
   "source": [
    "* `__init__` 方法：构造方法，每当创建类实例时自动调用，用来初始化对象属性。\n",
    "* `self`：指代当前实例对象本身，类似其他语言中的 `this`，但在Python中要手动显式写在方法定义里。\n",
    " "
   ]
  },
  {
   "cell_type": "markdown",
   "metadata": {},
   "source": [
    "**创建对象（实例化）**"
   ]
  },
  {
   "cell_type": "code",
   "execution_count": 324,
   "metadata": {},
   "outputs": [
    {
     "name": "stdout",
     "output_type": "stream",
     "text": [
      "Hello, I am Alili, and I'm 25 years old.\n",
      "Hello, I am Bomm, and I'm 30 years old.\n"
     ]
    }
   ],
   "source": [
    "person1 = Person(\"Alili\", 25)\n",
    "person2 = Person(\"Bomm\", 30)\n",
    "\n",
    "person1.greet()  # Hello, I am Alili, and I'm 25 years old.\n",
    "person2.greet()  # Hello, I am Bomm, and I'm 30 years old.\n"
   ]
  },
  {
   "cell_type": "markdown",
   "metadata": {},
   "source": [
    "类属性与实例属性\n",
    "\n",
    "    实例属性：通过 `self.xxx` 在 `__init__` 或其他实例方法中定义，每个实例独立拥有。\n",
    "    类属性：在类体中直接赋值给一个变量，全体实例共享。"
   ]
  },
  {
   "cell_type": "code",
   "execution_count": 325,
   "metadata": {},
   "outputs": [
    {
     "name": "stdout",
     "output_type": "stream",
     "text": [
      "4 4\n",
      "车a 车b\n"
     ]
    }
   ],
   "source": [
    "class Car:\n",
    "    # 类属性\n",
    "    wheels = 4\n",
    "    def __init__(self, brand, model):\n",
    "        # 实例属性\n",
    "        self.brand = brand\n",
    "        self.model = model\n",
    "\n",
    "car1 = Car(\"车a\", \"x-a\")\n",
    "car2 = Car(\"车b\", \"x-b\")\n",
    "\n",
    "print(car1.wheels, car2.wheels)  # 都是 4（共享）\n",
    "print(car1.brand, car2.brand)    # 车a, 车b（不同）\n"
   ]
  },
  {
   "cell_type": "markdown",
   "metadata": {},
   "source": [
    "方法类型\n",
    "\n",
    "    实例方法\n",
    "        第一个参数必须是 `self`，用于访问实例属性和其他实例方法。\n",
    "        在类外调用时，必须通过实例来调用\n",
    "    类方法（`@classmethod`）\n",
    "        第一个参数是 `cls`，代表当前类对象，而不是实例。\n",
    "        可通过类或实例调用，常用于操作“类属性”，或根据不同需求创建实例。"
   ]
  },
  {
   "cell_type": "code",
   "execution_count": 326,
   "metadata": {},
   "outputs": [
    {
     "name": "stdout",
     "output_type": "stream",
     "text": [
      "2\n"
     ]
    }
   ],
   "source": [
    "class MyClass:\n",
    "    count = 0\n",
    "\n",
    "    def __init__(self):\n",
    "        MyClass.count += 1\n",
    "\n",
    "    @classmethod\n",
    "    def how_many(cls):\n",
    "        return cls.count\n",
    "\n",
    "x1 = MyClass()\n",
    "x2 = MyClass()\n",
    "print(MyClass.how_many())  # 2\n"
   ]
  },
  {
   "cell_type": "markdown",
   "metadata": {},
   "source": [
    "静态方法（@staticmethod）\n",
    "\n",
    "    既不需要 self 也不需要 cls，相当于放在类中的普通函数，和类本身关联度不大。\n",
    "    常用于逻辑上和类相关，但不需要访问实例或类的属性、方法的情况。"
   ]
  },
  {
   "cell_type": "code",
   "execution_count": 327,
   "metadata": {},
   "outputs": [
    {
     "name": "stdout",
     "output_type": "stream",
     "text": [
      "7\n"
     ]
    }
   ],
   "source": [
    "class MathHelper:\n",
    "    @staticmethod\n",
    "    def add(a, b):\n",
    "        return a + b\n",
    "\n",
    "print(MathHelper.add(3, 4))  # 7"
   ]
  },
  {
   "cell_type": "markdown",
   "metadata": {},
   "source": [
    "**Magic Method 魔术方法、魔法、魔法函数**"
   ]
  },
  {
   "cell_type": "markdown",
   "metadata": {},
   "source": [
    "\n",
    "\n",
    "    Python 中有一些特殊命名的“魔术方法”，形如 `__init__`、`__str__`、`__add__` 等。当类或对象需要实现某些特定行为时，可以定义这些方法。常见的魔术方法包括：\n",
    "\n",
    "    * `__init__`：类的构造函数，用于对象初始化\n",
    "    * `__str__`：定义对象通过 `print()` 或 `str()` 函数显示时的字符串形式\n",
    "    * `__repr__`：定义对象在交互式解释器中显示时的字符串形式\n",
    "    * `__len__`：定义对象被 `len()` 调用时返回的长度\n",
    "    * `__add__`：定义对象与另一个对象相加时的行为（如数值相加、列表拼接等）\n"
   ]
  },
  {
   "cell_type": "code",
   "execution_count": 328,
   "metadata": {},
   "outputs": [
    {
     "name": "stdout",
     "output_type": "stream",
     "text": [
      "MyList: [4, 2, 3]\n",
      "3\n"
     ]
    }
   ],
   "source": [
    "# 自定义一个简单的类，为其实现 __str__ 和 __len__。\n",
    "\n",
    "class MyList:\n",
    "    def __init__(self, items):\n",
    "        self.items = items\n",
    "\n",
    "    def __str__(self):\n",
    "        return f\"MyList: {self.items}\"\n",
    "\n",
    "    def __len__(self):\n",
    "        return len(self.items)\n",
    "\n",
    "lst = MyList([4, 2, 3])\n",
    "print(lst)         # MyList: [4, 2, 3]\n",
    "print(len(lst))    # 3\n"
   ]
  },
  {
   "cell_type": "markdown",
   "metadata": {},
   "source": [
    "**Python的函数和类 小结**"
   ]
  },
  {
   "cell_type": "markdown",
   "metadata": {},
   "source": [
    "    函数是 Python 中封装可重用代码的基本单元。通过函数，可以将代码逻辑封装起来，避免重复代码，提升代码可读性和可维护性。\n",
    "\n",
    "    函数的参数是传递给函数的信息，可以有多种形式：位置参数，按顺序传递的参数。默认参数，有默认值的参数，调用时可以不传。可变位置参数 (*args)，接收任意数量的位置参数，返回一个元组。关键字参数 (**kwargs)，接收任意数量的关键字参数，返回一个字典。\n",
    "\n",
    "    匿名函数（lambda 函数）是一种简洁的函数定义方式，通常用于简单的函数操作。\n",
    "\n",
    "    闭包是指一个函数引用了其外部作用域的变量，并且该函数可以在外部作用域之外执行的情况。闭包常用于封装和隐藏内部数据。\n",
    "\n",
    "    Python 提供了多种内置函数和用于文件操作的方法。内置函数，如 len()、max()、min()、sum()、sorted() 等。文件读写，open() 、close()用于打开、关闭文件，with open() as …语句，read() 用于读取，write() 用于写入。\n",
    "\n",
    "    迭代器 (Iterator) 与 生成器 (Generator)：迭代器是一个可以返回其成员的对象，通过 iter() 创建（也可以自定义，设计类的__iter__()和__next__()方法），next() 获取下一个元素。生成器是一个特殊的迭代器，通过 yield 语句生成值。生成器函数每次被调用时会返回一个新的值，直到结束。\n",
    "\n",
    "    Python 中的 magic methods（魔术方法），是具有特殊名称的方法，它们允许开发者自定义类的行为，这些方法通常以双下划线（__）开头和结尾。魔术方法让你可以在对象中定义一些常见的操作行为，比如对象加法、比较、表示、容器迭代等。\n",
    "\n",
    "    类是 Python 面向对象编程的基础，它是创建对象的模板。通过类可以封装数据和方法，定义对象的行为。\n"
   ]
  },
  {
   "cell_type": "markdown",
   "metadata": {},
   "source": [
    "### 1.2.4 **面向对象编程**"
   ]
  },
  {
   "cell_type": "markdown",
   "metadata": {},
   "source": [
    "- 封装\n",
    "- @property装饰器\n",
    "- __slots__魔法\n",
    "- 静态方法和类方法\n",
    "- 类之间的关系\n",
    "- 继承\n",
    "- 多态\n",
    "-Python面向对象编程小结"
   ]
  },
  {
   "cell_type": "markdown",
   "metadata": {},
   "source": [
    "\n",
    "把一组数据结构和处理它们的方法组成对象（object），把相同行为的对象归纳为类（class），通过类的封装（encapsulation）隐藏内部细节，通过继承（inheritance）实现类的特化（specialization）和泛化（generalization），通过多态（polymorphism）实现基于对象类型的动态分派。\n",
    "\n",
    "**面向对象的支柱**\n",
    "\n",
    "面向对象有三大支柱：封装、继承和多态。"
   ]
  },
  {
   "cell_type": "markdown",
   "metadata": {},
   "source": [
    "**封装**\n",
    "\n",
    "封装即是\"隐藏一切可以隐藏的实现细节，只向外界暴露（提供）简单的编程接口\"。我们在类中定义的方法其实就是把数据和对数据的操作封装起来了，在我们创建了对象之后，只需要给对象发送一个消息（调用方法）就可以执行方法中的代码，也就是说我们只需要知道方法的名字和传入的参数（方法的外部视图），而不需要知道方法内部的实现细节（方法的内部视图）。"
   ]
  },
  {
   "cell_type": "code",
   "execution_count": 329,
   "metadata": {},
   "outputs": [],
   "source": [
    "#  练习1：定义一个类描述数字时钟。 \n",
    "\n",
    "from time import sleep\n",
    "class Clock(object):\n",
    "    \"\"\"数字时钟\"\"\"\n",
    "\n",
    "    def __init__(self, hour=0, minute=0, second=0):\n",
    "        \"\"\"初始化方法\n",
    "        :param hour: 时\n",
    "        :param minute: 分\n",
    "        :param second: 秒\n",
    "        \"\"\"\n",
    "        self._hour = hour\n",
    "        self._minute = minute\n",
    "        self._second = second\n",
    "\n",
    "    def run(self):\n",
    "        \"\"\"走字\"\"\"\n",
    "        self._second += 1\n",
    "        if self._second == 60:\n",
    "            self._second = 0\n",
    "            self._minute += 1\n",
    "            if self._minute == 60:\n",
    "                self._minute = 0\n",
    "                self._hour += 1\n",
    "                if self._hour == 24:\n",
    "                    self._hour = 0\n",
    "\n",
    "    def show(self):\n",
    "        \"\"\"显示时间\"\"\"\n",
    "        return '%02d:%02d:%02d' % \\\n",
    "               (self._hour, self._minute, self._second)\n",
    "\n",
    "\n",
    "# clock = Clock(23,54,58)\n",
    "# while True:\n",
    "#     print(clock.show())\n",
    "#     sleep(1)\n",
    "#     clock.run()"
   ]
  },
  {
   "cell_type": "code",
   "execution_count": 330,
   "metadata": {},
   "outputs": [
    {
     "name": "stdout",
     "output_type": "stream",
     "text": [
      "(4, 5)\n",
      "(0, 0)\n",
      "(-1, 3)\n",
      "5.385164807134504\n"
     ]
    }
   ],
   "source": [
    "# 练习2：定义一个类描述平面上的点并提供移动点和计算到另一个点距离的方法。\n",
    "from math import sqrt\n",
    "\n",
    "class Point(object):\n",
    "\n",
    "    def __init__(self, x=0, y=0):\n",
    "        \"\"\"初始化方法\n",
    "        \n",
    "        :param x: 横坐标\n",
    "        :param y: 纵坐标\n",
    "        \"\"\"\n",
    "        self.x = x\n",
    "        self.y = y\n",
    "\n",
    "    def move_to(self, x, y):\n",
    "        \"\"\"移动到指定位置\n",
    "        \n",
    "        :param x: 新的横坐标\n",
    "        \"param y: 新的纵坐标\n",
    "        \"\"\"\n",
    "        self.x = x\n",
    "        self.y = y\n",
    "\n",
    "    def move_by(self, dx, dy):\n",
    "        \"\"\"移动指定的增量\n",
    "        \n",
    "        :param dx: 横坐标的增量\n",
    "        \"param dy: 纵坐标的增量\n",
    "        \"\"\"\n",
    "        self.x += dx\n",
    "        self.y += dy\n",
    "\n",
    "    def distance_to(self, other):\n",
    "        \"\"\"计算与另一个点的距离\n",
    "        \n",
    "        :param other: 另一个点\n",
    "        \"\"\"\n",
    "        dx = self.x - other.x\n",
    "        dy = self.y - other.y\n",
    "        return sqrt(dx ** 2 + dy ** 2)\n",
    "\n",
    "    def __str__(self):\n",
    "        return '(%s, %s)' % (str(self.x), str(self.y))\n",
    "\n",
    "\n",
    "p1 = Point(4, 5)\n",
    "p2 = Point()\n",
    "print(p1)\n",
    "print(p2)\n",
    "p2.move_by(-1, 3)\n",
    "print(p2)\n",
    "print(p1.distance_to(p2))\n",
    "\n",
    "# (4, 5)\n",
    "# (0, 0)\n",
    "# (-1, 3)\n",
    "# 5.385164807134504"
   ]
  },
  {
   "cell_type": "markdown",
   "metadata": {},
   "source": [
    "**@property装饰器**"
   ]
  },
  {
   "cell_type": "markdown",
   "metadata": {},
   "source": [
    ">装饰器（Decorator） 是 Python 中的一种特殊语法，它允许在函数或方法调用前后，动态地修改或增强其功能。装饰器本质上是一个返回函数的函数，它通过语法糖 @decorator_name 的形式，简化了对函数或方法的增强（例如类方法@classmethod、静态方法staticmethod）。"
   ]
  },
  {
   "cell_type": "code",
   "execution_count": 331,
   "metadata": {},
   "outputs": [
    {
     "name": "stdout",
     "output_type": "stream",
     "text": [
      "Before function call\n",
      "Hello!\n",
      "After function call\n"
     ]
    }
   ],
   "source": [
    "def decorator(func):\n",
    "    def wrapper():\n",
    "        print(\"Before function call\")\n",
    "        func()  # 调用原始函数\n",
    "        print(\"After function call\")\n",
    "    return wrapper\n",
    "\n",
    "@decorator  # 等价于 func = decorator(func)\n",
    "def say_hello():\n",
    "    print(\"Hello!\")\n",
    "\n",
    "say_hello()  \n",
    "# Before function call\n",
    "# Hello!\n",
    "# After function call"
   ]
  },
  {
   "cell_type": "markdown",
   "metadata": {},
   "source": [
    "Python中属性和方法有访问权限的问题，虽然不建议将属性设置为私有的，但是如果直接将属性暴露给外界也是有问题的，比如我们没有办法检查赋给属性的值是否有效。\n",
    "\n",
    "这里用一个简单的例子说明一下 Python中的访问可见性问题："
   ]
  },
  {
   "cell_type": "code",
   "execution_count": 332,
   "metadata": {},
   "outputs": [
    {
     "ename": "AttributeError",
     "evalue": "'OpTest' object has no attribute '__qst'",
     "output_type": "error",
     "traceback": [
      "\u001b[1;31m---------------------------------------------------------------------------\u001b[0m",
      "\u001b[1;31mAttributeError\u001b[0m                            Traceback (most recent call last)",
      "Cell \u001b[1;32mIn[332], line 15\u001b[0m\n\u001b[0;32m     13\u001b[0m     \u001b[39mprint\u001b[39m(test\u001b[39m.\u001b[39m__qst)\n\u001b[0;32m     14\u001b[0m     \u001b[39m# AttributeError: 'OpTest' object has no attribute '__qst'\u001b[39;00m\n\u001b[1;32m---> 15\u001b[0m main()\n",
      "Cell \u001b[1;32mIn[332], line 13\u001b[0m, in \u001b[0;36mmain\u001b[1;34m()\u001b[0m\n\u001b[0;32m     10\u001b[0m test \u001b[39m=\u001b[39m OpTest(\u001b[39m'\u001b[39m\u001b[39mHello\u001b[39m\u001b[39m'\u001b[39m)\n\u001b[0;32m     11\u001b[0m \u001b[39m# test.__qst()\u001b[39;00m\n\u001b[0;32m     12\u001b[0m \u001b[39m# # AttributeError: 'OpTest' object has no attribute '__qst'\u001b[39;00m\n\u001b[1;32m---> 13\u001b[0m \u001b[39mprint\u001b[39m(test\u001b[39m.\u001b[39;49m__qst)\n",
      "\u001b[1;31mAttributeError\u001b[0m: 'OpTest' object has no attribute '__qst'"
     ]
    }
   ],
   "source": [
    "class OpTest:\n",
    "    \"\"\"访问可见性简单测试\"\"\"\n",
    "    def __init__(self, insA):\n",
    "        self.__insA = insA\n",
    "    def __qst(self):\n",
    "        print(self.__insA)\n",
    "        print(\"__qst\")\n",
    "\n",
    "def main():\n",
    "    test = OpTest('Hello')\n",
    "    # test.__qst()\n",
    "    # # AttributeError: 'OpTest' object has no attribute '__qst'\n",
    "    print(test.__qst)\n",
    "    # AttributeError: 'OpTest' object has no attribute '__qst'\n",
    "main()"
   ]
  },
  {
   "cell_type": "markdown",
   "metadata": {},
   "source": [
    "在Python中，属性和方法的访问权限只有两种，也就是公开的和私有的，如果希望属性是私有的，在给属性命名时可以用两个下划线作为开头，但是这通常是不建议的，会导致子类无法访问到他们。\n",
    "\n",
    "Python并没有从语法上严格保证私有属性或方法的私密性，它只是给私有的属性和方法换了一个名字来妨碍对它们的访问，事实上更换名字仍然可以访问到它们。"
   ]
  },
  {
   "cell_type": "code",
   "execution_count": 333,
   "metadata": {},
   "outputs": [
    {
     "name": "stdout",
     "output_type": "stream",
     "text": [
      "Hello\n",
      "__qst\n",
      "Hello\n"
     ]
    }
   ],
   "source": [
    "class OpTest:\n",
    "    \"\"\"访问可见性简单测试\"\"\"\n",
    "    \n",
    "    def __init__(self, insA):\n",
    "        self.__insA = insA\n",
    "    \n",
    "    def __qst(self):\n",
    "        print(self.__insA)\n",
    "        print(\"__qst\")\n",
    "\n",
    "def main():\n",
    "    test = OpTest('Hello')\n",
    "    \n",
    "    test._OpTest__qst()\n",
    "    print(test._OpTest__insA)\n",
    "    \n",
    "main()\n",
    "\n",
    "# Hello\n",
    "# __qst\n",
    "# Hello"
   ]
  },
  {
   "cell_type": "markdown",
   "metadata": {},
   "source": [
    "所以大多数Python程序员会遵循一种命名惯例就是让属性名以单下划线开头来表示属性是受保护的，这种做法并不是语法上的规则，单下划线开头的属性和方法外界仍然是可以访问的，所以更多的时候它是一种暗示或隐喻。"
   ]
  },
  {
   "cell_type": "markdown",
   "metadata": {},
   "source": [
    "如果想访问属性可以通过属性的getter（访问器）和setter（修改器）方法进行对应的操作。如果要做到这点，就可以考虑使用@property装饰器来包装getter和setter方法，使得对属性的访问既安全又方便。"
   ]
  },
  {
   "cell_type": "code",
   "execution_count": 334,
   "metadata": {},
   "outputs": [
    {
     "name": "stdout",
     "output_type": "stream",
     "text": [
      "abc在玩这\n",
      "abc在玩那\n",
      "10000\n"
     ]
    }
   ],
   "source": [
    "# @property包装器来包装getter和setter方法，使得对属性的访问既安全又方便\n",
    "class Person(object):\n",
    "\n",
    "    def __init__(self, name, age):\n",
    "        self._name = name\n",
    "        self._age = age\n",
    "\n",
    "    # 访问器 - getter方法\n",
    "    @property\n",
    "    def name(self):\n",
    "        return self._name\n",
    "\n",
    "    # 访问器 - getter方法\n",
    "    @property\n",
    "    def age(self):\n",
    "        return self._age\n",
    "\n",
    "    # 修改器 - setter方法\n",
    "    @age.setter\n",
    "    def age(self, age):\n",
    "        self._age = age\n",
    "\n",
    "    def play(self):\n",
    "        if self._age <= 16:\n",
    "            print(f\"{self.name}在玩这\")\n",
    "        else:\n",
    "            print(f\"{self.name}在玩那\")\n",
    "\n",
    "person = Person('abc', 12)\n",
    "person.play()\n",
    "person.age = 22\n",
    "person.play()\n",
    "# abc在玩这\n",
    "# abc在玩那\n",
    "\n",
    "# person.name = '另一个人'  # AttributeError: can't set attribute\n",
    "person.age = 10000\n",
    "print(person.age)  # 10000"
   ]
  },
  {
   "cell_type": "markdown",
   "metadata": {},
   "source": [
    "**`__slots__`魔法**\n",
    "\n",
    "Python是一门动态语言。通常，动态语言允许我们在程序运行时给对象绑定新的属性或方法，当然也可以对已经绑定的属性和方法进行解绑定。但是如果我们需要限定自定义类型的对象只能绑定某些属性，可以通过在类中定义`__slots__`变量来进行限定。需要注意的是`__slots__`的限定只对当前类的对象生效，对子类并不起任何作用。"
   ]
  },
  {
   "cell_type": "code",
   "execution_count": 335,
   "metadata": {},
   "outputs": [
    {
     "name": "stdout",
     "output_type": "stream",
     "text": [
      "aaa在睡觉\n"
     ]
    }
   ],
   "source": [
    "class Person(object):\n",
    "    # 限定Person对象只能绑定_name, _age和_gender属性\n",
    "    __slots__ = ('_name', '_age', '_gender')\n",
    "    def __init__(self, name, age):\n",
    "        self._name = name\n",
    "        self._age = age\n",
    "    @property\n",
    "    def name(self):\n",
    "        return self._name\n",
    "    @property\n",
    "    def age(self):\n",
    "        return self._age\n",
    "    @age.setter\n",
    "    def age(self, age):\n",
    "        self._age = age\n",
    "    def play(self):\n",
    "        if self._age <= 16:\n",
    "            print(f\"{self.name}在玩\")\n",
    "        else:\n",
    "            print(f\"{self.name}在睡觉\")\n",
    "\n",
    "person = Person('aaa', 22)\n",
    "person.play()\n",
    "person._gender = '男'\n",
    "# aaa在睡觉\n",
    "\n",
    "# # AttributeError: 'Person' object has no attribute '_is_bad'\n",
    "# person._is_bad = True"
   ]
  },
  {
   "cell_type": "markdown",
   "metadata": {},
   "source": [
    "**静态方法和类方法**\n",
    "\n",
    "在Python的类中我们有简单了解过类方法和静态方法。现在我们重新审视一下它们。类的实例方法是对象方法，可以理解成这些方法都是发送给对象的消息。实际上我们在类中我们并不需要都是对象方法。\n",
    "\n",
    "例如我们定义一个“三角形”类，通过传入三条边长来构造三角形，并提供计算周长和面积的方法，但是传入的三条边长未必能构造出三角形对象，因此我们可以先写一个方法来验证三条边长是否可以构成三角形，这个方法很显然就不是对象方法，因为在调用这个方法时三角形对象尚未创建出来（因为都不知道三条边能不能构成三角形），所以这个方法是属于三角形类而并不属于三角形对象的。我们可以使用静态方法来解决这类问题"
   ]
  },
  {
   "cell_type": "code",
   "execution_count": 336,
   "metadata": {},
   "outputs": [
    {
     "name": "stdout",
     "output_type": "stream",
     "text": [
      "21\n",
      "9.921567416492215\n"
     ]
    }
   ],
   "source": [
    "from math import sqrt\n",
    "\n",
    "\n",
    "class Triangle(object):\n",
    "\n",
    "    def __init__(self, a, b, c):\n",
    "        self._a = a\n",
    "        self._b = b\n",
    "        self._c = c\n",
    "\n",
    "    @staticmethod\n",
    "    def is_valid(a, b, c):\n",
    "        return a + b > c and b + c > a and a + c > b\n",
    "\n",
    "    def perimeter(self):\n",
    "        return self._a + self._b + self._c\n",
    "\n",
    "    def area(self):\n",
    "        half = self.perimeter() / 2\n",
    "        return sqrt(half * (half - self._a) *\n",
    "                    (half - self._b) * (half - self._c))\n",
    "\n",
    "def main():\n",
    "    a, b, c = 10, 8, 3\n",
    "    # 静态方法和类方法都是通过给类发消息来调用的\n",
    "    if Triangle.is_valid(a, b, c):\n",
    "        t = Triangle(a, b, c)\n",
    "        print(t.perimeter())\n",
    "        # 也可以通过给类发消息来调用对象方法但是要传入接收消息的对象作为参数\n",
    "        # print(Triangle.perimeter(t))\n",
    "        print(t.area())\n",
    "        # print(Triangle.area(t))\n",
    "    else:\n",
    "        print('无法构成三角形.')\n",
    "\n",
    "main()\n",
    "# 21\n",
    "# 9.921567416492215\n"
   ]
  },
  {
   "cell_type": "markdown",
   "metadata": {},
   "source": [
    "和静态方法比较类似，Python还可以在类中定义类方法，类方法的第一个参数约定名为cls，它代表的是当前类相关的信息的对象（类本身也是一个对象，有的地方也称之为类的元数据对象），通过这个参数我们可以获取和类相关的信息并且可以创建出类的对象"
   ]
  },
  {
   "cell_type": "code",
   "execution_count": 337,
   "metadata": {},
   "outputs": [],
   "source": [
    "from time import time, localtime, sleep\n",
    "\n",
    "\n",
    "class Clock(object):\n",
    "    \"\"\"数字时钟\"\"\"\n",
    "\n",
    "    def __init__(self, hour=0, minute=0, second=0):\n",
    "        self._hour = hour\n",
    "        self._minute = minute\n",
    "        self._second = second\n",
    "\n",
    "    @classmethod\n",
    "    def now(cls):\n",
    "        ctime = localtime(time())\n",
    "        return cls(ctime.tm_hour, ctime.tm_min, ctime.tm_sec)\n",
    "\n",
    "    def run(self):\n",
    "        \"\"\"走字\"\"\"\n",
    "        self._second += 1\n",
    "        if self._second == 60:\n",
    "            self._second = 0\n",
    "            self._minute += 1\n",
    "            if self._minute == 60:\n",
    "                self._minute = 0\n",
    "                self._hour += 1\n",
    "                if self._hour == 24:\n",
    "                    self._hour = 0\n",
    "\n",
    "    def show(self):\n",
    "        \"\"\"显示时间\"\"\"\n",
    "        return '%02d:%02d:%02d' % \\\n",
    "               (self._hour, self._minute, self._second)\n",
    "\n",
    "# # 通过类方法创建对象并获取系统时间\n",
    "# clock = Clock.now()\n",
    "# while True:\n",
    "#     print(clock.show())\n",
    "#     sleep(1)\n",
    "#     clock.run()"
   ]
  },
  {
   "cell_type": "markdown",
   "metadata": {},
   "source": [
    "**类之间的关系**<br>\n",
    "简单的说，类和类之间的关系有三种：is-a、has-a和use-a关系。\n",
    "\n",
    "    is-a 关系（继承或泛化）：这种关系表示一个类是另一个类的子类，体现了类之间的继承层次。例如，学生 是 人 的子类，手机 是 电子产品 的子类，这些都属于继承关系。\n",
    "\n",
    "    has-a 关系（关联）：这种关系表示一个类包含另一个类，体现了类之间的组合关系。例如，部门 包含 员工，汽车 拥有 引擎，这些都属于关联关系。聚合关系，如果关联表示整体与部分的关系，但整体不负责部分的生命周期，则称为聚合关系。例如，部门与员工的关系。合成关系，如果整体负责部分的生命周期，即整体与部分是不可分割的，且同时存在与消亡，则称为合成关系。这是最强的关联关系，例如 汽车 与 引擎 的关系。\n",
    "    \n",
    "    use-a 关系（依赖）：这种关系表示一个类依赖于另一个类，通常体现在方法的参数或局部变量中。例如，司机 有一个驾驶的行为（方法），该方法的参数使用了 汽车，因此 司机 与 汽车 之间的关系就是依赖关系。\n"
   ]
  },
  {
   "cell_type": "markdown",
   "metadata": {},
   "source": [
    "利用类之间的这些关系，我们可以在已有类的基础上来完成某些操作，也可以在已有类的基础上创建新的类，这些都是实现代码复用的重要手段。复用现有的代码不仅可以减少开发的工作量，也有利于代码的管理和维护，这是我们在日常工作中都会使用到的技术手段。"
   ]
  },
  {
   "cell_type": "markdown",
   "metadata": {},
   "source": [
    "* **继承**"
   ]
  },
  {
   "cell_type": "markdown",
   "metadata": {},
   "source": [
    "刚才我们提到了，可以在已有类的基础上创建新类，这其中的一种做法就是让一个类从另一个类那里将属性和方法直接继承下来，从而减少重复代码的编写。提供继承信息的我们称之为父类，也叫超类或基类；得到继承信息的我们称之为子类，也叫派生类或衍生类。子类除了继承父类提供的属性和方法，还可以定义自己特有的属性和方法，所以子类比父类拥有的更多的能力，在实际开发中，我们经常会用子类对象去替换掉一个父类对象，这是面向对象编程中一个常见的行为，对应的原则称之为里氏替换原则。"
   ]
  },
  {
   "cell_type": "code",
   "execution_count": 338,
   "metadata": {},
   "outputs": [
    {
     "name": "stdout",
     "output_type": "stream",
     "text": [
      "初三的学生a在学数学\n",
      "学生a不看电视\n",
      "无敌程序员在授课Python如何打印helloworld\n",
      "无敌看电视睡着了\n"
     ]
    }
   ],
   "source": [
    "class Person(object):\n",
    "    \"\"\"人\"\"\"\n",
    "    def __init__(self, name, age):\n",
    "        self._name = name\n",
    "        self._age = age\n",
    "        \n",
    "    @property\n",
    "    def name(self):\n",
    "        return self._name\n",
    "\n",
    "    @property\n",
    "    def age(self):\n",
    "        return self._age\n",
    "\n",
    "    @age.setter\n",
    "    def age(self, age):\n",
    "        self._age = age\n",
    "\n",
    "    def play(self): print(f\"{self.name}玩疯了\")\n",
    "    def watch_tv(self):\n",
    "        if self._age >= 18: print(f\"{self.name}看电视睡着了\")\n",
    "        else: print(f\"{self.name}不看电视\")\n",
    "\n",
    "class Student(Person):\n",
    "    \"\"\"学生\"\"\"\n",
    "    def __init__(self, name, age, grade):\n",
    "        super().__init__(name, age)\n",
    "        self._grade = grade\n",
    "\n",
    "    @property\n",
    "    def grade(self):\n",
    "        return self._grade\n",
    "\n",
    "    @grade.setter\n",
    "    def grade(self, grade):\n",
    "        self._grade = grade\n",
    "\n",
    "    def study(self, course): print(f\"{self._grade}的{self._name}在学{course}\")\n",
    "\n",
    "class Teacher(Person):\n",
    "    \"\"\"老师\"\"\"\n",
    "    def __init__(self, name, age, title):\n",
    "        super().__init__(name, age)\n",
    "        self._title = title\n",
    "\n",
    "    @property\n",
    "    def title(self):\n",
    "        return self._title\n",
    "\n",
    "    @title.setter\n",
    "    def title(self, title):\n",
    "        self._title = title\n",
    "        \n",
    "    def teach(self, course): print(f\"{self._name}{self._title}在授课{course}\")\n",
    "\n",
    "stu = Student('学生a', 15, '初三')\n",
    "stu.study('数学')\n",
    "stu.watch_tv()\n",
    "t = Teacher('无敌', 49, '程序员')\n",
    "t.teach('Python如何打印helloworld')\n",
    "t.watch_tv()\n",
    "\n",
    "# 初三的学生a在学数学\n",
    "# 学生a不看电视\n",
    "# 无敌程序员在授课Python如何打印helloworld\n",
    "# 无敌看电视睡着了"
   ]
  },
  {
   "cell_type": "markdown",
   "metadata": {},
   "source": [
    "**多态**"
   ]
  },
  {
   "cell_type": "markdown",
   "metadata": {},
   "source": [
    "子类在继承了父类的方法后，可以对父类已有的方法给出新的实现版本，这个动作称之为方法重写（override）。通过方法重写我们可以让父类的同一个行为在子类中拥有不同的实现版本，当我们调用这个经过子类重写的方法时，不同的子类对象会表现出不同的行为，这个就是多态（poly-morphism）。"
   ]
  },
  {
   "cell_type": "code",
   "execution_count": 339,
   "metadata": {},
   "outputs": [
    {
     "name": "stdout",
     "output_type": "stream",
     "text": [
      "狗a: 汪汪汪...\n",
      "猫a: 喵...喵...\n",
      "另一只狗: 汪汪汪...\n"
     ]
    }
   ],
   "source": [
    "from abc import ABCMeta, abstractmethod\n",
    "\n",
    "class Pet(object, metaclass=ABCMeta):\n",
    "    \"\"\"宠物\"\"\"\n",
    "    def __init__(self, nickname):\n",
    "        self._nickname = nickname\n",
    "    @abstractmethod\n",
    "    def make_voice(self):\n",
    "        \"\"\"发出声音\"\"\"\n",
    "        pass\n",
    "\n",
    "class Dog(Pet):\n",
    "    \"\"\"狗\"\"\"\n",
    "    def make_voice(self):\n",
    "        print('%s: 汪汪汪...' % self._nickname)\n",
    "\n",
    "class Cat(Pet):\n",
    "    \"\"\"猫\"\"\"\n",
    "    def make_voice(self):\n",
    "        print('%s: 喵...喵...' % self._nickname)\n",
    "\n",
    "pets = [Dog('狗a'), Cat('猫a'), Dog('另一只狗')]\n",
    "for pet in pets:\n",
    "    pet.make_voice()\n",
    "\n",
    "# 狗a: 汪汪汪...\n",
    "# 猫a: 喵...喵...\n",
    "# 另一只狗: 汪汪汪..."
   ]
  },
  {
   "cell_type": "code",
   "execution_count": 340,
   "metadata": {},
   "outputs": [
    {
     "name": "stdout",
     "output_type": "stream",
     "text": [
      "狗a: 汪汪汪...\n",
      "猫a: 喵...喵...\n",
      "另一只狗: 汪汪汪...\n"
     ]
    }
   ],
   "source": [
    "from abc import ABCMeta, abstractmethod\n",
    "class Pet(object, metaclass=ABCMeta):\n",
    "    def __init__(self, nickname):\n",
    "        self._nickname = nickname\n",
    "    @abstractmethod\n",
    "    def make_voice(self): pass\n",
    "class Dog(Pet):\n",
    "    def make_voice(self): print('%s: 汪汪汪...' % self._nickname)\n",
    "class Cat(Pet):\n",
    "    def make_voice(self): print('%s: 喵...喵...' % self._nickname)\n",
    "\n",
    "pets = [Dog('狗a'), Cat('猫a'), Dog('另一只狗')]\n",
    "for pet in pets:\n",
    "    pet.make_voice()\n",
    "# 狗a: 汪汪汪...\n",
    "# 猫a: 喵...喵...\n",
    "# 另一只狗: 汪汪汪..."
   ]
  },
  {
   "cell_type": "markdown",
   "metadata": {},
   "source": [
    "在上面的代码中，我们将Pet类处理成了一个抽象类，所谓抽象类就是不能够创建对象的类，这种类的存在就是专门为了让其他类去继承它。Python从语法层面并没有像Java或C#那样提供对抽象类的支持，但是我们可以通过abc模块的ABCMeta元类和abstractmethod包装器来达到抽象类的效果，如果一个类中存在抽象方法那么这个类就不能够实例化（创建对象）。上面的代码中，Dog和Cat两个子类分别对Pet类中的make_voice抽象方法进行了重写并给出了不同的实现版本，当我们调用该方法时，这个方法就表现出了多态行为（同样的方法做了不同的事情）。"
   ]
  },
  {
   "cell_type": "code",
   "execution_count": 341,
   "metadata": {},
   "outputs": [],
   "source": [
    "# 综合案例1：奥特曼打小怪兽。\n",
    "\n",
    "from abc import ABCMeta, abstractmethod\n",
    "from random import randint, randrange\n",
    "\n",
    "class Fighter(object, metaclass=ABCMeta):\n",
    "    \"\"\"战斗者\"\"\"\n",
    "    # 通过__slots__魔法限定对象可以绑定的成员变量\n",
    "    __slots__ = ('_name', '_hp')\n",
    "    def __init__(self, name, hp):\n",
    "        \"\"\"初始化方法\n",
    "        :param name: 名字\n",
    "        :param hp: 生命值\n",
    "        \"\"\"\n",
    "        self._name = name\n",
    "        self._hp = hp\n",
    "    @property\n",
    "    def name(self):\n",
    "        return self._name\n",
    "    @property\n",
    "    def hp(self):\n",
    "        return self._hp\n",
    "    @hp.setter\n",
    "    def hp(self, hp):\n",
    "        self._hp = hp if hp >= 0 else 0\n",
    "    @property\n",
    "    def alive(self):\n",
    "        return self._hp > 0\n",
    "    @abstractmethod\n",
    "    def attack(self, other):\n",
    "        \"\"\"攻击\n",
    "        :param other: 被攻击的对象\n",
    "        \"\"\"\n",
    "        pass\n",
    "\n",
    "class Ultraman(Fighter):\n",
    "    \"\"\"奥特曼\"\"\"\n",
    "    __slots__ = ('_name', '_hp', '_mp')\n",
    "    def __init__(self, name, hp, mp):\n",
    "        \"\"\"初始化方法\n",
    "        :param name: 名字\n",
    "        :param hp: 生命值\n",
    "        :param mp: 魔法值\n",
    "        \"\"\"\n",
    "        super().__init__(name, hp)\n",
    "        self._mp = mp\n",
    "    def attack(self, other):\n",
    "        other.hp -= randint(15, 25)\n",
    "    def huge_attack(self, other):\n",
    "        \"\"\"究极必杀技(打掉对方至少50点或四分之三的血)\n",
    "        :param other: 被攻击的对象\n",
    "        :return: 使用成功返回True否则返回False\n",
    "        \"\"\"\n",
    "        if self._mp >= 50:\n",
    "            self._mp -= 50\n",
    "            injury = other.hp * 3 // 4\n",
    "            injury = injury if injury >= 50 else 50\n",
    "            other.hp -= injury\n",
    "            return True\n",
    "        else:\n",
    "            self.attack(other)\n",
    "            return False\n",
    "    def magic_attack(self, others):\n",
    "        \"\"\"魔法攻击\n",
    "        :param others: 被攻击的群体\n",
    "        :return: 使用魔法成功返回True否则返回False\n",
    "        \"\"\"\n",
    "        if self._mp >= 20:\n",
    "            self._mp -= 20\n",
    "            for temp in others:\n",
    "                if temp.alive:\n",
    "                    temp.hp -= randint(10, 15)\n",
    "            return True\n",
    "        else:\n",
    "            return False\n",
    "    def resume(self):\n",
    "        \"\"\"恢复魔法值\"\"\"\n",
    "        incr_point = randint(1, 10)\n",
    "        self._mp += incr_point\n",
    "        return incr_point\n",
    "    def __str__(self):\n",
    "        return '~~~%s奥特曼~~~\\n' % self._name + \\\n",
    "            '生命值: %d\\n' % self._hp + \\\n",
    "            '魔法值: %d\\n' % self._mp\n",
    "\n",
    "class Monster(Fighter):\n",
    "    \"\"\"小怪兽\"\"\"\n",
    "    __slots__ = ('_name', '_hp')\n",
    "    def attack(self, other):\n",
    "        other.hp -= randint(10, 20)\n",
    "    def __str__(self):\n",
    "        return '~~~%s小怪兽~~~\\n' % self._name + \\\n",
    "            '生命值: %d\\n' % self._hp\n",
    "\n",
    "def is_any_alive(monsters):\n",
    "    \"\"\"判断有没有小怪兽是活着的\"\"\"\n",
    "    for monster in monsters:\n",
    "        if monster.alive > 0:\n",
    "            return True\n",
    "    return False\n",
    "\n",
    "def select_alive_one(monsters):\n",
    "    \"\"\"选中一只活着的小怪兽\"\"\"\n",
    "    monsters_len = len(monsters)\n",
    "    while True:\n",
    "        index = randrange(monsters_len)\n",
    "        monster = monsters[index]\n",
    "        if monster.alive > 0:\n",
    "            return monster\n",
    "\n",
    "def display_info(ultraman, monsters):\n",
    "    \"\"\"显示奥特曼和小怪兽的信息\"\"\"\n",
    "    print(ultraman)\n",
    "    for monster in monsters:\n",
    "        print(monster, end='')\n",
    "\n",
    "def main():\n",
    "    u = Ultraman('a', 1000, 120)\n",
    "    m1 = Monster('c1', 250)\n",
    "    m2 = Monster('c2', 500)\n",
    "    m3 = Monster('c3', 750)\n",
    "    ms = [m1, m2, m3]\n",
    "    fight_round = 1\n",
    "    while u.alive and is_any_alive(ms):\n",
    "        print('========第%02d回合========' % fight_round)\n",
    "        m = select_alive_one(ms)  # 选中一只小怪兽\n",
    "        skill = randint(1, 10)   # 通过随机数选择使用哪种技能\n",
    "        if skill <= 6:  # 60%的概率使用普通攻击\n",
    "            print('%s使用普通攻击打了%s.' % (u.name, m.name))\n",
    "            u.attack(m)\n",
    "            print('%s的魔法值恢复了%d点.' % (u.name, u.resume()))\n",
    "        elif skill <= 9:  # 30%的概率使用魔法攻击(可能因魔法值不足而失败)\n",
    "            if u.magic_attack(ms):\n",
    "                print('%s使用了魔法攻击.' % u.name)\n",
    "            else:\n",
    "                print('%s使用魔法失败.' % u.name)\n",
    "        else:  # 10%的概率使用究极必杀技(如果魔法值不足则使用普通攻击)\n",
    "            if u.huge_attack(m):\n",
    "                print('%s使用究极必杀技虐了%s.' % (u.name, m.name))\n",
    "            else:\n",
    "                print('%s使用普通攻击打了%s.' % (u.name, m.name))\n",
    "                print('%s的魔法值恢复了%d点.' % (u.name, u.resume()))\n",
    "        if m.alive > 0:  # 如果选中的小怪兽没有死就回击奥特曼\n",
    "            print('%s回击了%s.' % (m.name, u.name))\n",
    "            m.attack(u)\n",
    "        display_info(u, ms)  # 每个回合结束后显示奥特曼和小怪兽的信息\n",
    "        fight_round += 1\n",
    "    print('\\n========战斗结束!========\\n')\n",
    "    if u.alive > 0:\n",
    "        print('%s奥特曼胜利!' % u.name)\n",
    "    else:\n",
    "        print('小怪兽胜利!')\n",
    "\n",
    "# # 调用\n",
    "# main()"
   ]
  },
  {
   "cell_type": "code",
   "execution_count": 342,
   "metadata": {},
   "outputs": [],
   "source": [
    "# 综合案例2： 扑克游戏。\n",
    "\n",
    "import random\n",
    "\n",
    "\n",
    "class Card(object):\n",
    "    \"\"\"一张牌\"\"\"\n",
    "\n",
    "    def __init__(self, suite, face):\n",
    "        self._suite = suite\n",
    "        self._face = face\n",
    "\n",
    "    @property\n",
    "    def face(self):\n",
    "        return self._face\n",
    "\n",
    "    @property\n",
    "    def suite(self):\n",
    "        return self._suite\n",
    "\n",
    "    def __str__(self):\n",
    "        if self._face == 1:\n",
    "            face_str = 'A'\n",
    "        elif self._face == 11:\n",
    "            face_str = 'J'\n",
    "        elif self._face == 12:\n",
    "            face_str = 'Q'\n",
    "        elif self._face == 13:\n",
    "            face_str = 'K'\n",
    "        else:\n",
    "            face_str = str(self._face)\n",
    "        return '%s%s' % (self._suite, face_str)\n",
    "    \n",
    "    def __repr__(self):\n",
    "        return self.__str__()\n",
    "\n",
    "\n",
    "class Poker(object):\n",
    "    \"\"\"一副牌\"\"\"\n",
    "\n",
    "    def __init__(self):\n",
    "        self._cards = [Card(suite, face) \n",
    "                       for suite in '♠♥♣♦'\n",
    "                       for face in range(1, 14)]\n",
    "        self._current = 0\n",
    "\n",
    "    @property\n",
    "    def cards(self):\n",
    "        return self._cards\n",
    "\n",
    "    def shuffle(self):\n",
    "        \"\"\"洗牌(随机乱序)\"\"\"\n",
    "        self._current = 0\n",
    "        random.shuffle(self._cards)\n",
    "\n",
    "    @property\n",
    "    def next(self):\n",
    "        \"\"\"发牌\"\"\"\n",
    "        card = self._cards[self._current]\n",
    "        self._current += 1\n",
    "        return card\n",
    "\n",
    "    @property\n",
    "    def has_next(self):\n",
    "        \"\"\"还有没有牌\"\"\"\n",
    "        return self._current < len(self._cards)\n",
    "\n",
    "\n",
    "class Player(object):\n",
    "    \"\"\"玩家\"\"\"\n",
    "\n",
    "    def __init__(self, name):\n",
    "        self._name = name\n",
    "        self._cards_on_hand = []\n",
    "\n",
    "    @property\n",
    "    def name(self):\n",
    "        return self._name\n",
    "\n",
    "    @property\n",
    "    def cards_on_hand(self):\n",
    "        return self._cards_on_hand\n",
    "\n",
    "    def get(self, card):\n",
    "        \"\"\"摸牌\"\"\"\n",
    "        self._cards_on_hand.append(card)\n",
    "\n",
    "    def arrange(self, card_key):\n",
    "        \"\"\"玩家整理手上的牌\"\"\"\n",
    "        self._cards_on_hand.sort(key=card_key)\n",
    "\n",
    "\n",
    "# 排序规则-先根据花色再根据点数排序\n",
    "def get_key(card):\n",
    "    return (card.suite, card.face)\n",
    "\n",
    "\n",
    "def main():\n",
    "    p = Poker()\n",
    "    p.shuffle()\n",
    "    players = [Player('小东'), Player('小西'), Player('小南'), Player('小北')]\n",
    "    for _ in range(13):\n",
    "        for player in players:\n",
    "            player.get(p.next)\n",
    "    for player in players:\n",
    "        print(player.name + ':', end=' ')\n",
    "        player.arrange(get_key)\n",
    "        print(player.cards_on_hand)\n",
    "\n",
    "\n",
    "# main()"
   ]
  },
  {
   "cell_type": "code",
   "execution_count": 343,
   "metadata": {},
   "outputs": [],
   "source": [
    "# 综合案例3：工资结算系统。\n",
    "\n",
    "\"\"\"\n",
    "某公司有三种类型的员工 分别是部门经理、程序员和销售员\n",
    "需要设计一个工资结算系统 根据提供的员工信息来计算月薪\n",
    "部门经理的月薪是每月固定15000元\n",
    "程序员的月薪按本月工作时间计算 每小时150元\n",
    "销售员的月薪是1200元的底薪加上销售额5%的提成\n",
    "\"\"\"\n",
    "from abc import ABCMeta, abstractmethod\n",
    "\n",
    "\n",
    "class Employee(object, metaclass=ABCMeta):\n",
    "    \"\"\"员工\"\"\"\n",
    "\n",
    "    def __init__(self, name):\n",
    "        \"\"\"\n",
    "        初始化方法\n",
    "\n",
    "        :param name: 姓名\n",
    "        \"\"\"\n",
    "        self._name = name\n",
    "\n",
    "    @property\n",
    "    def name(self):\n",
    "        return self._name\n",
    "\n",
    "    @abstractmethod\n",
    "    def get_salary(self):\n",
    "        \"\"\"\n",
    "        获得月薪\n",
    "\n",
    "        :return: 月薪\n",
    "        \"\"\"\n",
    "        pass\n",
    "\n",
    "\n",
    "class Manager(Employee):\n",
    "    \"\"\"部门经理\"\"\"\n",
    "\n",
    "    def get_salary(self):\n",
    "        return 15000.0\n",
    "\n",
    "\n",
    "class Programmer(Employee):\n",
    "    \"\"\"程序员\"\"\"\n",
    "\n",
    "    def __init__(self, name, working_hour=0):\n",
    "        super().__init__(name)\n",
    "        self._working_hour = working_hour\n",
    "\n",
    "    @property\n",
    "    def working_hour(self):\n",
    "        return self._working_hour\n",
    "\n",
    "    @working_hour.setter\n",
    "    def working_hour(self, working_hour):\n",
    "        self._working_hour = working_hour if working_hour > 0 else 0\n",
    "\n",
    "    def get_salary(self):\n",
    "        return 150.0 * self._working_hour\n",
    "\n",
    "\n",
    "class Salesman(Employee):\n",
    "    \"\"\"销售员\"\"\"\n",
    "\n",
    "    def __init__(self, name, sales=0):\n",
    "        super().__init__(name)\n",
    "        self._sales = sales\n",
    "\n",
    "    @property\n",
    "    def sales(self):\n",
    "        return self._sales\n",
    "\n",
    "    @sales.setter\n",
    "    def sales(self, sales):\n",
    "        self._sales = sales if sales > 0 else 0\n",
    "\n",
    "    def get_salary(self):\n",
    "        return 1200.0 + self._sales * 0.05\n",
    "\n",
    "\n",
    "def main():\n",
    "    emps = [\n",
    "        Manager('a'), Programmer('b'),\n",
    "        Manager('c'), Salesman('d'),\n",
    "        Salesman('e'), Programmer('f'),\n",
    "        Programmer('g')\n",
    "    ]\n",
    "    for emp in emps:\n",
    "        if isinstance(emp, Programmer):\n",
    "            emp.working_hour = int(input('请输入%s本月工作时间: ' % emp.name))\n",
    "        elif isinstance(emp, Salesman):\n",
    "            emp.sales = float(input('请输入%s本月销售额: ' % emp.name))\n",
    "        # 同样是接收get_salary这个消息但是不同的员工表现出了不同的行为(多态)\n",
    "        print('%s本月工资为: ￥%s元' %\n",
    "              (emp.name, emp.get_salary()))\n",
    "\n",
    "\n",
    "# main()"
   ]
  },
  {
   "cell_type": "markdown",
   "metadata": {},
   "source": [
    "**python的函数和类小结**\n",
    "\n",
    "    面向对象编程（OOP）是一种编程范式，通过将数据和操作数据的代码封装成对象，来组织和设计程序。在 Python 中，面向对象编程是一种核心编程理念，能够提高代码的可重用性、可维护性和扩展性。\n",
    "    Python 的 OOP 主要包括类（Class）、对象（Object）、继承（Inheritance）、封装（Encapsulation）和多态（Polymorphism）等。\n",
    "    类：定义对象的属性和方法。\n",
    "    对象：类的实例，通过对象访问类中的属性和方法。\n",
    "    封装：隐藏类内部的实现细节，提供公共接口。\n",
    "    继承：通过继承实现代码复用和扩展。\n",
    "    多态：不同的对象通过相同的接口表现出不同的行为。\n",
    "    类方法和静态方法：分别操作类本身和独立于类和实例的功能。\n"
   ]
  },
  {
   "cell_type": "markdown",
   "metadata": {},
   "source": [
    "### **1.2.5 Python的模块和包**"
   ]
  },
  {
   "cell_type": "markdown",
   "metadata": {},
   "source": [
    "- 模块\n",
    "- 包\n",
    "- Python中的import机制\n",
    "- Python的内置属性\n",
    "- Python的模块和包小结"
   ]
  },
  {
   "cell_type": "markdown",
   "metadata": {},
   "source": [
    "**模块**"
   ]
  },
  {
   "cell_type": "markdown",
   "metadata": {},
   "source": [
    "`模块(module)`: 一般情况下是一个以.py为后缀的文件，可作为module的文件类型还有.pyc .pyx .pyd .so .dll\n",
    "\n",
    "**`.py`：Python 源代码文件。最常见的模块形式，包含可执行的 Python 代码。**\n",
    "\n",
    "（可作为module的文件类型还有.pyc .pyx .pyd .so .dll）\n",
    ".pyc:    已编译的 Python 字节码文件。Python 在导入模块时会自动生成这种文件，以加速模块的加载。\n",
    ".pyx:   Cython 源文件。Cython 是一种增强 Python 性能的工具，允许在 Python 中直接编写 C 扩展。\n",
    ".pyd (Windows) / .so (Linux):已编译的 Python 扩展模块。这些文件是用 C/C++ 编写并编译的动态链接库，允许 Python 调用本机代码以提高性能。\n",
    ".dll: Windows 动态链接库文件。可以用于创建 Python 扩展模块，但通常需要使用 .pyd 扩展名。"
   ]
  },
  {
   "cell_type": "markdown",
   "metadata": {},
   "source": [
    "模块有什么作用？\n",
    "\n",
    "模块可以用来管理函数。<br>\n",
    "对于任何一种编程语言来说，给变量、函数这样的标识符起名字都是一个让人头疼的问题，因为我们会遇到命名冲突这种尴尬的情况。最简单的场景就是在同一个.py文件中定义了两个同名函数，由于Python没有函数重载的概念，那么后面的定义会覆盖之前的定义，也就意味着两个函数同名函数实际上只有一个是存在的。\n"
   ]
  },
  {
   "cell_type": "code",
   "execution_count": 344,
   "metadata": {},
   "outputs": [
    {
     "name": "stdout",
     "output_type": "stream",
     "text": [
      "goodbye, world!\n"
     ]
    }
   ],
   "source": [
    "def foo():\n",
    "    print('hello, world!')\n",
    "\n",
    "def foo():\n",
    "    print('goodbye, world!')\n",
    "\n",
    "# 下面的代码会输出什么呢？\n",
    "foo()\n",
    "# goodbye, world!"
   ]
  },
  {
   "cell_type": "markdown",
   "metadata": {},
   "source": [
    "当然上面的这种情况我们很容易就能避免，但是如果项目是由多人协作进行团队开发的时候，团队中可能有多个程序员都定义了名为foo的函数，那么怎么解决这种命名冲突呢？答案其实很简单，Python中每个文件就代表了一个模块（module），我们在不同的模块中可以有同名的函数，在使用函数的时候我们通过import关键字导入指定的模块就可以区分到底要使用的是哪个模块中的foo函数，代码如下所示。"
   ]
  },
  {
   "cell_type": "markdown",
   "metadata": {},
   "source": [
    "```\n",
    "文件系统结构：\n",
    "module1.py\n",
    "module2.py\n",
    "test.py\n",
    "\n",
    "# module1.py\n",
    "def foo():\n",
    "    print('hello, world!')\n",
    "\n",
    "# module2.py\n",
    "def foo():\n",
    "    print('goodbye, world!')\n",
    "\n",
    "\n",
    "# test.py\n",
    "from module1 import foo\n",
    "foo()\n",
    "# hello, world!\n",
    "\n",
    "from module2 import foo\n",
    "foo()\n",
    "# goodbye, world!"
   ]
  },
  {
   "cell_type": "markdown",
   "metadata": {},
   "source": [
    "**包**"
   ]
  },
  {
   "cell_type": "markdown",
   "metadata": {},
   "source": [
    "`Python的包package`：为避免模块名冲突，python引入了按目录组织模块的方法，称之为package包。包是含有python模块的文件夹。当一个文件夹下有   init   .py时，意为该文件夹是一个包（package），其下的多个模块（module）构成一个整体，而这些模块（module）都可通过同一个包（package）导入其他代码中。\n",
    "\n",
    "'`__init__.py`' 也可以是空,有 `__init__.py` 文件存在的称为普通包，没有 `__init__.py` 存在的称为命名空间包。 "
   ]
  },
  {
   "cell_type": "markdown",
   "metadata": {},
   "source": [
    "Python的包如何使用？\n",
    "\n",
    "    Python内置包的使用。Python 自带了一些常用的工具包，这些包在安装 Python 时已经被自动安装和配置好。使用这些内置包时，只需通过 import 语句进行引入，无需进行额外安装。"
   ]
  },
  {
   "cell_type": "code",
   "execution_count": 345,
   "metadata": {},
   "outputs": [
    {
     "name": "stdout",
     "output_type": "stream",
     "text": [
      "d:\\chyCodespace\\repo\\origin\\my_python\\pybase\n",
      "3.9.21 (main, Dec 11 2024, 16:35:24) [MSC v.1929 64 bit (AMD64)]\n"
     ]
    }
   ],
   "source": [
    "import os  # 引入内置模块 os  \n",
    "import sys  # 引入内置模块 sys  \n",
    "  \n",
    "# 使用 os 模块中的方法  \n",
    "print(os.getcwd())  \n",
    "  \n",
    "# 使用 sys 模块中的方法  \n",
    "print(sys.version)  \n"
   ]
  },
  {
   "cell_type": "markdown",
   "metadata": {},
   "source": [
    "    第三方开源包的使用。第三方开源包通常是由社区开发和维护的包，它们通常通过 Python 的包管理工具pip 或 conda进行安装到虚拟环境。安装后的包可以在代码中通过 import 引入。"
   ]
  },
  {
   "cell_type": "markdown",
   "metadata": {},
   "source": [
    "```bash\n",
    "pip install package_name\n",
    "\n",
    "conda install package_name\n",
    "```"
   ]
  },
  {
   "cell_type": "markdown",
   "metadata": {},
   "source": [
    "    通过setup.py安装的包。有些 Python 项目通过暴露 setup.py 文件来提供安装方式。setup.py 是 Python 项目常用的打包配置文件，其中指定了包的安装依赖、元数据等信息。通过 setup.py 安装的包可以直接下载源代码并进行安装。"
   ]
  },
  {
   "cell_type": "markdown",
   "metadata": {},
   "source": [
    "在包的根目录下运行以下命令，使用 pip 安装当前目录下的包（推荐，但是要求setuptools版本较新）：\n",
    "在包的根目录下运行以下命令，使用 pip 安装当前目录下的包：\n",
    "```bash\n",
    "pip install .\n",
    "\n",
    "```"
   ]
  },
  {
   "cell_type": "markdown",
   "metadata": {},
   "source": [
    "或者使用python setup.py install 安装，同样需要在包的根目录下，打开PowerShell，使用下面的命令来安装（这种方法相对传统，适用于setuptools低的版本）：\n",
    "```bash\n",
    "python setup.py install\n",
    "```"
   ]
  },
  {
   "cell_type": "markdown",
   "metadata": {},
   "source": [
    "**Python 的 import 机制概述**<br>\n",
    "当我们在代码中执行 import some_module 或其他形式的 import 语句时，Python 会按照以下顺序进行模块加载：\n",
    "\n",
    "    检查是否已在 sys.modules 中。sys.modules 是一个字典，存储了已经加载过的模块及其对应的模块对象；如果已在其中，则直接使用缓存的模块对象而不再重新加载。\n",
    "\n",
    "    在 sys.path 中搜索模块。sys.path 是一个列表，包含了多个搜索路径（如当前脚本所在目录、环境变量 PYTHONPATH 指定的目录、标准库目录等）。\n",
    "    Python 会依次在这些路径中查找模块文件（.py、.pyc、包目录等），找到后进行加载。\n",
    "\n",
    "    加载并执行模块。 一旦找到对应文件，Python 解释器会将模块文件的代码执行一次，并在执行完成后将生成的模块对象添加进 sys.modules。 如果在搜索路径中没有找到对应模块，就会抛出 ModuleNotFoundError（Python 3.x）或 ImportError（部分场合）。"
   ]
  },
  {
   "cell_type": "markdown",
   "metadata": {},
   "source": [
    "**绝对导入（Absolute Import）**\n",
    "\n",
    "绝对导入是指使用完整的包路径来导入目标模块。在绝对导入中，你的导入语句完全指定了包层次结构的顶层目录，一直到所需的模块。\n",
    "\n",
    "```\n",
    "# 工程结构：\n",
    "# my_project/\n",
    "#   ├─ main.py\n",
    "#   └─ my_package/\n",
    "#       ├─ __init__.py\n",
    "#       ├─ module_a.py\n",
    "#       └─ sub_package/\n",
    "#           └─ module_b.py\n",
    "\n",
    "# 在 main.py 中\n",
    "import my_package.module_a\n",
    "\n",
    "# 或者导入某个函数或类\n",
    "from my_package.module_a import some_function\n"
   ]
  },
  {
   "cell_type": "markdown",
   "metadata": {},
   "source": [
    "**相对导入（Relative Import）**\n",
    "\n",
    "相对导入指的是在同一个包内，使用点号来表示“当前目录（.）”或“父目录（..）”来导入模块。\n",
    "\n",
    "```\n",
    "# 在 my_package/sub_package/module_b.py 中\n",
    "from . import module_b_helper      # 从当前目录导入 module_b_helper\n",
    "from .. import module_a            # 从上层包导入 module_a\n",
    "from ..module_a import SomeClass   # 进一步导入module_a中的类\n"
   ]
  },
  {
   "cell_type": "markdown",
   "metadata": {},
   "source": [
    "使用场景\n",
    "\n",
    "* 多数情况下，编写包内部模块之间的导入时使用相对导入可以减少重复的包名，并且在包结构发生变动时（如移动整个包）依然能保持导入正确。\n",
    "* 然而，与绝对导入相比，相对导入可能使代码对包结构的“上下文”更敏感，不利于包独立运行测试。如果包需要被独立安装或分发，绝对导入通常会更直观。"
   ]
  },
  {
   "cell_type": "markdown",
   "metadata": {},
   "source": [
    "* **sys.modules 的作用**\n",
    "sys.modules 是一个字典，键是模块名（字符串），值是已加载的模块对象。\n",
    "Python 在导入一个模块时，会先检查 sys.modules 看是否已经加载过：\n",
    "    1. 如果已存在，则直接返回模块对象（不会再读文件）。\n",
    "    2. 如果不存在，Python 会找到并加载该模块文件，将其执行后的模块对象保存到 sys.modules，再返回给调用者。\n",
    "\n",
    "* 典型使用\n",
    "查看已加载模块\n",
    "\n",
    "```\n",
    "import sys\n",
    "print(sys.modules.keys())  # 列出已经加载的模块名\n",
    "```\n",
    "\n",
    "动态替换模块（高级用法，不太常见）\n",
    "\n",
    "可以直接向 sys.modules 中插入或修改一条记录，从而改变某个模块名对应的模块对象，实现某些动态插件或测试替换等技巧，但这种操作必须谨慎，会影响全局行为。\n",
    "调试或查看加载顺序\n",
    "\n",
    "在排查循环导入（circular import）或模块重复加载的问题时，可以检查 sys.modules 了解当前已加载情况。"
   ]
  },
  {
   "cell_type": "markdown",
   "metadata": {},
   "source": [
    "Python提供了丰富的内置属性，这些属性分布在不同的对象类型上，如模块、函数、类、实例等。\n",
    "\n",
    "模块的内置属性\n",
    "- **`__name__`: 模块的名称。当模块被直接运行时，`__name__`的值是`\"__main__\"`。当模块被导入时，`__name__`的值是模块的实际名称。**\n",
    "- `__file__`: 模块的文件路径。内置模块如`sys`，`__file__`可能不存在或为`None`\n",
    "- `__doc__`:模块的文档字符串。 或者使用`help(example_module)`\n",
    "- **`__package__`:模块所属的包的名称。提示模块在包中的层级结构，用于相对导入。顶级模块的话`__package__`与`__name__`相同**\n",
    "- `__loader__`:模块的加载器对象，负责从源代码加载模块。\n",
    "- `__spec__`: 模块规范（Module Specification），一个ModuleSpec对象，包含了模块的加载相关信息用于替代旧的加载机制。\n",
    "- `__dict__`:是一个字典，包含了模块命名空间中所有名称和对象的映射关系。\n",
    "- `__cached__`:执行模块的字节码缓存文件，如vscode中的`__pycache__`文件夹下的.pyc文件。\n",
    "- `__builtins__`:指向内置模块 builtins 或其字典。\n",
    "- `__annotations__`:是一个字典，包含了模块中所有带有类型注解的变量、函数参数和返回值的类型信息。\n",
    "- **`__all__`:是一个列表，定义了使用`from module import *`时，哪些名称会被导入到当前的命名空间中。如果模块没有定义`__all__`，`from module import *`会导入所有不以下划线开头的名称。**\n",
    "- `__path__`:是一个列表，制定了包的搜索路径，仅存在于包模块中，用于支持包的子模块和子包的查找。\n",
    "- `__version__`:指定模块的版本信息。\n",
    "\n",
    "函数Function内置属性\n",
    "- `__doc__`: 函数的文档字符串\n",
    "- `__annotations__`: 存储函数参数和返回值的类型注释\n",
    "- `__defaults__`: 函数参数的默认值\n",
    "- `__kwdefaults__`: 关键字参数的默认值\n",
    "- `__code__`: 函数的代码对象，包含编译后的字节码等信息\n",
    "- `__globals__`: 函数的全局命名空间，返回一个字典\n",
    "- `__closure__`: 闭包函数引用的外部变量\n",
    "\n",
    "类Class内置属性\n",
    "- `__name__`: 类的名称\n",
    "- `__doc__`: 类的文档字符串\n",
    "- `__module__`: 定义类的模块名称\n",
    "- `__dict__`: 类的命名空间字典，包含类属性和方法\n",
    "- `__bases__`: 类的基类（父类）元组\n",
    "- `__subclasses__()`: 返回当前类的所有子类列表\n",
    "- `__annotations__`:存储类属性和方法的类型注解\n",
    "- `__slots__`: 限制类实例的属性，节省内存\n",
    "\n",
    "实例Instance内置属性\n",
    "- `__dict__`: 实例的属性字典，包含实例的所有可写属性\n",
    "- `__class__`: 只想实例所属的类\n",
    "- `__slots__`: 限制实例可拥有的属性，节省内存（与类的`__slots__`结合使用）\n",
    "- `__weakref__`: 支持创建对实例的弱引用\n",
    "\n",
    "其他内置属性\n",
    "如特殊方法（Magic Methods）：\n",
    "\tPython中以双下划线开头和结尾的方法，如`__init__`、`__str__`、`__getitem__`、`__len__`\n"
   ]
  },
  {
   "cell_type": "markdown",
   "metadata": {},
   "source": [
    "**下面是附加的对命名空间的一些概念**"
   ]
  },
  {
   "cell_type": "markdown",
   "metadata": {},
   "source": [
    "**命名空间**\n",
    "\n",
    "在 Python 中，命名空间（namespace）是一种将名字（标识符）映射到对象的机制。这种机制用于避免名字冲突，并组织代码。每个命名空间都是独立的，不同的命名空间可以包含相同的名字，但它们之间不会互相干扰。\n",
    "\n",
    "* **命名空间的类型**\n",
    "    1. **内置命名空间**（Built-in Namespace）：由 Python 解释器在启动时创建，包含内置的函数和异常，例如 len()、int() 等。\n",
    "    2. **全局命名空间**（Global Namespace）：每个模块都有一个全局命名空间，包含模块中定义的所有变量、函数和类。\n",
    "    3. **局部命名空间**（Local Namespace）：每个函数调用时创建一个局部命名空间，包含函数内部定义的变量和参数。\n",
    "    4. **嵌套命名空间**（Enclosing Namespace）：包含嵌套函数的外部函数的命名空间。在嵌套函数内部，使用 nonlocal 关键字可以声明变量在外部函数中。\n"
   ]
  },
  {
   "cell_type": "code",
   "execution_count": 346,
   "metadata": {},
   "outputs": [],
   "source": [
    "def func():\n",
    "    a = 1  # a 在局部命名空间中\n",
    "    print(locals())  # 打印当前函数的局部命名空间\n",
    "\n",
    "b = 2  # b 在全局命名空间中\n",
    "# print(globals())  # 打印当前模块的全局命名空间"
   ]
  },
  {
   "cell_type": "markdown",
   "metadata": {},
   "source": [
    "* **命名空间的生命周期**\n",
    "\n",
    "命名空间的生命周期与其范围（scope）密切相关：\n",
    "1. 内置命名空间：在 Python 解释器的整个生命周期内存在。\n",
    "2. 全局命名空间：在模块的整个生命周期内存在。\n",
    "3. 局部命名空间：在函数调用期间存在，当函数返回时，局部命名空间被销毁。\n",
    "4. 嵌套命名空间：在外部函数的整个生命周期内存在。\n"
   ]
  },
  {
   "cell_type": "markdown",
   "metadata": {},
   "source": [
    "某段Python代码访问 变量x 时，Python会所有的命名空间中查找该变量，顺序是：<br>\n",
    "1. local namespace: 即当前函数或类方法。若找到，则停止搜索；\n",
    "2. global namespace: 即当前模块。若找到，则停止搜索；\n",
    "3. build-in namespace:   Python会假设变量x是build-in的函数函数或变量。若变量x不是build-in的内置函数或变量，Python将报错NameError。\n",
    "4. 对于闭包，若在local namespace找不到该变量，则下一个查找目标是父函数的local namespace。"
   ]
  },
  {
   "cell_type": "markdown",
   "metadata": {},
   "source": [
    "* **命名空间的作用域规则（LEGB）**\n",
    "\n",
    "Python 使用 LEGB 规则（Local, Enclosing, Global, Built-in）来查找变量，即从局部作用域开始，逐级向外查找：\n",
    "1. 局部作用域（Local）：当前函数内的命名空间。当前函数或类方法的命名空间。如果找到变量，则停止搜索。\n",
    "2. 嵌套作用域（Enclosing）：包含当前函数的外部函数的命名空间。包含当前函数的外部函数的命名空间（适用于嵌套函数）。如果找到变量，则停止搜索。\n",
    "3. 全局作用域（Global）：当前模块的命名空间。当前模块的命名空间。如果找到变量，则停止搜索。\n",
    "4. 内置作用域（Built-in）：Python 内置模块的命名空间。Python 内置命名空间。如果找到变量，则停止搜索。如果变量不在以上任何命名空间中，Python 将报错 NameError。"
   ]
  },
  {
   "cell_type": "code",
   "execution_count": 347,
   "metadata": {},
   "outputs": [
    {
     "name": "stdout",
     "output_type": "stream",
     "text": [
      "Inner: inner\n",
      "Outer: inner\n",
      "Global: global\n"
     ]
    }
   ],
   "source": [
    "# 示例：命名空间和作用域\n",
    "\n",
    "# 全局变量\n",
    "x = \"global\"\n",
    "\n",
    "def outer_function():\n",
    "    # 嵌套函数的外部函数变量\n",
    "    x = \"outer\"\n",
    "\n",
    "    def inner_function():\n",
    "        # 嵌套函数变量\n",
    "        nonlocal x  # 使用外部函数的变量\n",
    "        x = \"inner\"\n",
    "        print(\"Inner:\", x)\n",
    "\n",
    "    inner_function()\n",
    "    print(\"Outer:\", x)\n",
    "\n",
    "outer_function()\n",
    "print(\"Global:\", x)\n",
    "\n",
    "# Inner: inner\n",
    "# Outer: inner\n",
    "# Global: global"
   ]
  },
  {
   "cell_type": "markdown",
   "metadata": {},
   "source": [
    "在这个示例中：\n",
    "* x 在全局命名空间中是 \"global\"。\n",
    "* outer_function 中的 x 在外部函数的命名空间中是 \"outer\"。\n",
    "* inner_function 中的 x 使用 nonlocal 声明，使其作用于外部函数的命名空间，所以它的值变为 \"inner\"。"
   ]
  },
  {
   "cell_type": "code",
   "execution_count": 348,
   "metadata": {},
   "outputs": [
    {
     "name": "stdout",
     "output_type": "stream",
     "text": [
      "{'a': 1, 'b': 2}\n",
      "4\n",
      "{'__name__': '__main__', '__doc__': '\\n某公司有三种类型的员工 分别是部门经理、程序员和销售员\\n需要设计一个工资结算系统 根据提供的员工信息来计算月薪\\n部门经理的月薪是每月固定15000元\\n程序员的月薪按本月工作时间计算 每小时150元\\n销售员的月薪是1200元的底薪加上销售额5%的提成\\n', '__package__': None, '__loader__': None, '__spec__': None, '__builtin__': <module 'builtins' (built-in)>, '__builtins__': <module 'builtins' (built-in)>, '_ih': ['', \"# NoneType  这个数据类型比较特殊，NoneType仅有唯一实例None\\nprint(type(None))   # <class 'NoneType'>\", '# 乘 *\\nmultiplication_ = 2*3\\nmultiplication_b = 2.*3\\nprint(f\"{multiplication_=}\")   # multiplication_=6\\nprint(f\"{multiplication_b=}\")  # multiplication_b=6.0', '# 除 /\\ndivision_ = 1/2\\ndivision_b = 2/1\\nprint(f\"{division_=}\")  # division_=0.5\\nprint(f\"{division_b=}\")  # division_b=2.0', '# 取商 //\\nrounding_ = 1 //2\\nprint(f\"{rounding_=}\")   # rounding_=0\\n\\n# 取余 % \\nremainder_ = 1%2\\nprint(f\"{remainder_=}\")  # remainder_=1', '# 幂运算 **\\npower_ = 2**3\\nprint(f\"{power_=}\")  # power_=8', '# 科学计数法\\na = 1e3\\nprint(f\"{a=}\")  # a=1000.0\\n\\nb = -2e-4\\nprint(f\"{b=}\")  # b=-0.0002', '# 常用数字运算函数\\nnumber = -7.25\\n\\nprint(f\"取绝对值：{abs(number)=}\")  # 取绝对值：abs(number)=7.25\\nprint(f\"求幂：{pow(2,3)=}\")  # 求幂：pow(2,3)=8\\nprint(f\"小数位数调整(有四舍五入)：{round(3.1415, 3)=}\")  # 小数位数调整(有四舍五入)：round(3.1415, 3)=3.142\\nprint(f\"取商取余：{divmod(10,3)=}\")  # 取商取余：divmod(10,3)=(3, 1)', '# 数字类型转换\\na = 1.2  # <class \\'float\\'>\\nb = 2  # <class \\'int\\'>\\nprint(f\"{int(a)=}\")  # int(a)=1\\nprint(type(int(a)))  # <class \\'int\\'>\\nprint(f\"{float(b)=}\")  # float(b)=2.0\\nprint(type(float(b)))  # <class \\'float\\'>\\n\\n# 空int \\nempty_int = int()\\nprint(f\"{type(empty_int)=}\")   # type(empty_int)=<class \\'int\\'>\\n\\n# 空float\\nempty_float = float()\\nprint(f\"{type(empty_float)=}\")  # type(empty_float)=<class \\'float\\'>', '# 拼接\\n# 使用加号\\ns1 = \"Hello\"\\ns2 = \"World\"\\ns3 = s1 + \",\" + s2 + \"!\"\\nprint(s3) # Hello,World!\\n\\n# 使用join()方法\\nwords= [\"Python\", \"is\", \"awesome\"]\\nsentense = \" \".join(words)\\nprint(sentense)  # Python is awesome\\n\\n# 重复\\ns = \\'Echo! \\'\\nrepeated = s * 3\\nprint(repeated)  # Echo! Echo! Echo! ', '# 分割\\n\\ns = \"Python is fun and powerful.\"\\nwords = s.split()\\nprint(words)   # [\\'Python\\', \\'is\\', \\'fun\\', \\'and\\', \\'powerful.\\']\\n\\n# words = s.split(\\' \\', 1)  # 看python的版本是否支持\\n# print(words)  # [\\'Python\\', \\'is fun and powerful.\\']\\n\\n# 使用指定分隔符\\nwords_dot = s.split(\\'.\\')\\nprint(words_dot)  # [\\'Python is fun and powerful\\', \\'\\']\\n\\ns_ = \"apple,banana,orange\"\\n# rsplit  从右开始分割,最多分割2次\\nfruits = s_.rsplit(\\',\\', 2)\\nprint(fruits)  # [\\'apple\\', \\'banana\\', \\'orange\\']', \"s = 'abracadabra'\\n\\nindex = s.find('cad')\\nprint(index)  # 4\\n\\nind = s.find('xyt')\\nprint(ind)  # -1\\n\\nlast_idx = s.rfind('abra')\\nprint(last_idx)  # 7\", 's = \"  Hello, Python!  \"\\n\\nprint(s.strip())  # Hello, Python\\nprint(s.lstrip()) # Hello, Python\\nprint(s.rstrip()) #   Hello, Python', 's = \"  Hello, Python!  \"\\n\\nprint(s.strip())  # Hello, Python!\\nprint(s.lstrip()) # Hello, Python!\\nprint(s.rstrip()) #   Hello, Python!', 'age = 19  \\nif age >= 18: print(\"You are an adult.\")\\nelif age >= 13: print(\"You are a teenager.\")\\nelse: print(\"You are a child.\")', 'age = 19   # age = input(\"请输入年龄:\")\\nif age >= 18: print(\"You are an adult.\")\\nelif age >= 13: print(\"You are a teenager.\")\\nelse: print(\"You are a child.\")', 'count = 0\\n\\nwhile count < 5:\\n    print(count)\\n    count += 1\\n\\n# 0\\n# 1\\n# 2\\n# 3\\n# 4', 'password = \"\"\\nwhile password != \"python123\":\\n    password = input(\"Enter the password: \")\\n    if password == \"python123\":\\n        print(\"Access granted.\")\\n    else:\\n        print(\"Incorrect password. Try again.\")\\n\\n\\n# # for \\n# for _ in range(5):\\n#     password = input(\"Enter the password: \")\\n#     if password == \"python123\":\\n#         print(\"Access granted.\")\\n#     else:\\n#         print(\"Incorrect password. Try again.\")\\n        ', \"strings = ['a', 'as', 'bat', 'car', 'haha', 'python']\\n[x.upper() for x in strings if len(x) > 2]\\n# ['BAT', 'CAR', 'HAHA', 'PYTHON']\", \"names_of_interest = []\\nfor names in all_data:\\n    enough_es = [name for name in names if name.count('e') > 1]\\n    names_of_interest.extend(enough_es)\\nnames_of_interest  # ['Steven']\", \"all_data = [['Johnn', 'Emly', 'Mikhael', 'Marny', 'Steven'], ['Marian', 'Juany', 'Javieru', 'Natalia', 'Pilar']]\", \"names_of_interest = []\\nfor names in all_data:\\n    enough_es = [name for name in names if name.count('e') > 1]\\n    names_of_interest.extend(enough_es)\\nnames_of_interest  # ['Steven']\", '# 返回一个或多个变量(通常是一个元组)\\ndef min_and_max(numbers):\\n    \"\"\"返回给定列表的最小值和最大值\"\"\"\\n    return min(numbers), max(numbers)\\nnums = [3, 1, 5, 2, 4]\\nprint(type(min_and_max(nums)))    # <class \\'tuple\\'>\\nlowest, highest = min_and_max(nums)\\nprint(lowest, highest)  # 输出: 1 5\\n\\n# 没有return\\ndef do_nothing(): pass\\nresult = do_nothing()\\nprint(result)  # None\\n\\ndef my_function(x, y, z=1.5):  \\n    if z > 1: return z * (x + y)\\n    else: return z / (x + y)\\n# 使用\\nprint(my_function(1,2))  # 按照定义时的参数顺序来传递值\\n# 4.5\\nprint(my_function(z=3,x=2,y=4))  # 显式地通过参数名来传递值，顺序随意\\n# 18', 'def greet(name, message):\\n    print(f\"{message}, {name}!\")\\n\\ngreet(\"Python\", \"Hello\")  # Hello, Python! \\n# 按顺序传递: name=\"Python\", message=\"Hello\"', 'def greet(name, message):\\n    print(f\"{message}, {name}!\")\\n\\n# 使用关键字参数，顺序随意\\ngreet(message=\"Hi\", name=\"Python\") # Hi, Python!', 'def greet(name, message=\"Hello\"):\\n    print(f\"{message}, {name}!\")\\n\\n# 只传name，message使用默认值\"Hello\"\\ngreet(\"Charlo\")  # HHello, Charlo!\\n# 同时传递两个参数\\ngreet(\"Daissy\", \"Hi\")  # Hi, Daissy!', 'def add_numbers(*args):\\n    total = 0\\n    for num in args:\\n        total += num\\n    return total\\n\\nprint(add_numbers(1, 2, 3))       # 6\\nprint(add_numbers(10, 20, 30, 5)) # 65', 'def build_profile(first_name, last_name, **kwargs):\\n    profile = {\"first_name\": first_name, \"last_name\": last_name}\\n    # 将额外的关键字参数更新到profile字典中\\n    for key, value in kwargs.items():\\n        profile[key] = value\\n    return profile\\n\\nuser_profile = build_profile(\"Alili\", \"Smith\", location=\"New York\", age=30, hobby=\"Reading\")\\nprint(user_profile)\\n# {\\'first_name\\': \\'Alili\\', \\'last_name\\': \\'Smith\\', \\'location\\': \\'New York\\', \\'age\\': 30, \\'hobby\\': \\'Reading\\'}\\n\\n# 在这个示例中，除了 first_name 和 last_name 外，\\n# 任何其他的关键字参数（location=\"New York\", age=30, hobby=\"Reading\"）都会被聚合到 kwargs 这个字典里。', 'def show_info(a, b, c):\\n    print(a, b, c)\\n\\ndata = {\"a\": 1, \"b\": 2, \"c\": 3}\\nshow_info(**data)  # 等价于 show_info(a=1, b=2, c=3)', '# 将列表中每个数值平方\\nnumbers = [1, 2, 3, 4]\\nsquared = list(map(lambda x: x**2, numbers))\\nprint(squared)  # 输出: [1, 4, 9, 16]\\n\\n# lambda 语句 等价于  fun_square\\ndef fun_square(x):\\n    return x ** 2\\nsquared_b = list(map(fun_square, numbers))\\nprint(squared_b)  # 输出: [1, 4, 9, 16]\\n    \\n# squared_c = [x ** 2 for x in numbers]', 'def add_nums(a, b):\\n    return a + b', 'add_five = lambda y: add_nums(5, y)', 'from functools import partial\\nadd_five = partial(add_nums, 5)\\nprint(add_five)\\n# functools.partial(<function add_nums at 0x00000222C2976B90>, 5)\\nprint(add_five(1)) \\n# 6', 'a = None\\ndef bind_a_variable():\\n    global a\\n    a = []\\nbind_a_variable()\\nprint(a)  # []', '# 创建一个简单的迭代器\\n\\nclass Countdown:\\n    def __init__(self, start):\\n        self.current = start\\n\\n    def __iter__(self):\\n        return self\\n\\n    def __next__(self):\\n        if self.current <= 0:\\n            raise StopIteration\\n        self.current -= 1\\n        return self.current\\n\\n# 使用迭代器\\nfor number in Countdown(3):\\n    print(number)\\n\\n# 2\\n# 1\\n# 0', \"import itertools\\nfirst_letter = lambda x: x[0]\\nnames = ['Aln', 'Ada', 'Wes', 'Wi', 'Albe', 'Sten']\\nfor letter, names in itertools.groupby(names, first_letter):\\n    print(letter, list(names)) # names is a generator\\n\\n# A ['Aln', 'Ada']\\n# W ['Wes', 'Wi']\\n# A ['Albe']\\n# S ['Sten']\", 'def echo():\\n    while True:\\n        value = yield\\n        print(f\"Echo: {value}\")\\n\\n# 创建生成器\\ne = echo()\\nnext(e)  # 启动生成器\\n\\n# 发送数据\\ne.send(\"Hello\")  # Echo: Hello\\ne.send(\"World\")  # Echo: World', 'person1 = Person(\"Alili\", 25)\\nperson2 = Person(\"Bomm\", 30)\\n\\nperson1.greet()  # Hello, I am Alili, and I\\'m 25 years old.\\nperson2.greet()  # Hello, I am Bomm, and I\\'m 30 years old.', 'class Person:\\n    \"\"\"代表一个人的类\"\"\"\\n    def __init__(self, name, age):\\n        # __init__ 是构造方法，用于初始化对象属性\\n        self.name = name\\n        self.age = age\\n    def greet(self):\\n        # self 是对实例自身的引用，在定义实例方法时必须作为第一个参数\\n        print(f\"Hello, I am {self.name}, and I\\'m {self.age} years old.\")', 'person1 = Person(\"Alili\", 25)\\nperson2 = Person(\"Bomm\", 30)\\n\\nperson1.greet()  # Hello, I am Alili, and I\\'m 25 years old.\\nperson2.greet()  # Hello, I am Bomm, and I\\'m 30 years old.', 'class Car:\\n    # 类属性\\n    wheels = 4\\n    def __init__(self, brand, model):\\n        # 实例属性\\n        self.brand = brand\\n        self.model = model\\n\\ncar1 = Car(\"车a\", \"x-a\")\\ncar2 = Car(\"车c\", \"x-d\")\\n\\nprint(car1.wheels, car2.wheels)  # 都是 4（共享）\\nprint(car1.brand, car2.brand)    # Toyota, Honda（不同）', 'class Car:\\n    # 类属性\\n    wheels = 4\\n    def __init__(self, brand, model):\\n        # 实例属性\\n        self.brand = brand\\n        self.model = model\\n\\ncar1 = Car(\"车a\", \"x-a\")\\ncar2 = Car(\"车b\", \"x-b\")\\n\\nprint(car1.wheels, car2.wheels)  # 都是 4（共享）\\nprint(car1.brand, car2.brand)    # 车a, Honda（不同）', 'class MyClass:\\n    count = 0\\n\\n    def __init__(self):\\n        MyClass.count += 1\\n\\n    @classmethod\\n    def how_many(cls):\\n        return cls.count\\n\\nx1 = MyClass()\\nx2 = MyClass()\\nprint(MyClass.how_many())  # 2', 'class MathHelper:\\n    @staticmethod\\n    def add(a, b):\\n        return a + b\\n\\nprint(MathHelper.add(3, 4))  # 7', '# 自定义一个简单的类，为其实现 __str__ 和 __len__。\\n\\nclass MyList:\\n    def __init__(self, items):\\n        self.items = items\\n\\n    def __str__(self):\\n        return f\"MyList: {self.items}\"\\n\\n    def __len__(self):\\n        return len(self.items)\\n\\nlst = MyList([4, 2, 3])\\nprint(lst)         # MyList: [1, 2, 3]\\nprint(len(lst))    # 3', '# 练习2：定义一个类描述平面上的点并提供移动点和计算到另一个点距离的方法。\\nfrom math import sqrt\\n\\nclass Point(object):\\n\\n    def __init__(self, x=0, y=0):\\n        \"\"\"初始化方法\\n        \\n        :param x: 横坐标\\n        :param y: 纵坐标\\n        \"\"\"\\n        self.x = x\\n        self.y = y\\n\\n    def move_to(self, x, y):\\n        \"\"\"移动到指定位置\\n        \\n        :param x: 新的横坐标\\n        \"param y: 新的纵坐标\\n        \"\"\"\\n        self.x = x\\n        self.y = y\\n\\n    def move_by(self, dx, dy):\\n        \"\"\"移动指定的增量\\n        \\n        :param dx: 横坐标的增量\\n        \"param dy: 纵坐标的增量\\n        \"\"\"\\n        self.x += dx\\n        self.y += dy\\n\\n    def distance_to(self, other):\\n        \"\"\"计算与另一个点的距离\\n        \\n        :param other: 另一个点\\n        \"\"\"\\n        dx = self.x - other.x\\n        dy = self.y - other.y\\n        return sqrt(dx ** 2 + dy ** 2)\\n\\n    def __str__(self):\\n        return \\'(%s, %s)\\' % (str(self.x), str(self.y))\\n\\n\\np1 = Point(4, 5)\\np2 = Point()\\nprint(p1)\\nprint(p2)\\np2.move_by(-1, 3)\\nprint(p2)\\nprint(p1.distance_to(p2))\\n\\n# (3, 5)\\n# (0, 0)\\n# (-1, 2)\\n# 5.0', 'class OpTest:\\n    \"\"\"访问可见性简单测试\"\"\"\\n    \\n    def __init__(self, insA):\\n        self.__insA = insA\\n    \\n    def __qst(self):\\n        print(self.__insA)\\n        print(\"__qst\")\\n\\ndef main():\\n    test = OpTest(\\'Hello\\')\\n    test.__qst()\\n    \\n    print(test.__qst)\\n        ', 'class OpTest:\\n    \"\"\"访问可见性简单测试\"\"\"\\n    \\n    def __init__(self, insA):\\n        self.__insA = insA\\n    \\n    def __qst(self):\\n        print(self.__insA)\\n        print(\"__qst\")\\n\\ndef main():\\n    test = OpTest(\\'Hello\\')\\n    test.__qst()\\n    \\n    print(test.__qst)\\n\\nmain()', 'class OpTest:\\n    \"\"\"访问可见性简单测试\"\"\"\\n    \\n    def __init__(self, insA):\\n        self.__insA = insA\\n    \\n    def __qst(self):\\n        print(self.__insA)\\n        print(\"__qst\")\\n\\ndef main():\\n    test = OpTest(\\'Hello\\')\\n    \\n    # test.__qst()\\n    # # AttributeError: \\'OpTest\\' object has no attribute \\'__qst\\'\\n    \\n    print(test.__qst)\\n\\nmain()', 'class OpTest:\\n    \"\"\"访问可见性简单测试\"\"\"\\n    \\n    def __init__(self, insA):\\n        self.__insA = insA\\n    \\n    def __qst(self):\\n        print(self.__insA)\\n        print(\"__qst\")\\n\\ndef main():\\n    test = OpTest(\\'Hello\\')\\n    \\n    test._OpTest__insA()\\n    print(test._OpTest__qst)\\nmain()', 'class OpTest:\\n    \"\"\"访问可见性简单测试\"\"\"\\n    \\n    def __init__(self, insA):\\n        self.__insA = insA\\n    \\n    def __qst(self):\\n        print(self.__insA)\\n        print(\"__qst\")\\n\\ndef main():\\n    test = OpTest(\\'Hello\\')\\n    \\n    test._OpTest__qst()\\n    print(test._OpTest__insA)\\n    \\nmain()', '# @property包装器来包装getter和setter方法，使得对属性的访问既安全又方便\\nclass Person(object):\\n\\n    def __init__(self, name, age):\\n        self._name = name\\n        self._age = age\\n\\n    # 访问器 - getter方法\\n    @property\\n    def name(self):\\n        return self._name\\n\\n    # 访问器 - getter方法\\n    @property\\n    def age(self):\\n        return self._age\\n\\n    # 修改器 - setter方法\\n    @age.setter\\n    def age(self, age):\\n        self._age = age\\n\\n    def play(self):\\n        if self._age <= 16:\\n            print(f\"{self.name}在玩这\")\\n        else:\\n            print(f\"{self.name}在玩那\")\\n\\nperson = Person(\\'abc\\', 12)\\nperson.play()\\nperson.age = 22\\nperson.play()\\n\\n\\n# person.name = \\'另一个人\\'  # AttributeError: can\\'t set attribute', '# @property包装器来包装getter和setter方法，使得对属性的访问既安全又方便\\nclass Person(object):\\n\\n    def __init__(self, name, age):\\n        self._name = name\\n        self._age = age\\n\\n    # 访问器 - getter方法\\n    @property\\n    def name(self):\\n        return self._name\\n\\n    # 访问器 - getter方法\\n    @property\\n    def age(self):\\n        return self._age\\n\\n    # 修改器 - setter方法\\n    @age.setter\\n    def age(self, age):\\n        self._age = age\\n\\n    def play(self):\\n        if self._age <= 16:\\n            print(f\"{self.name}在玩这\")\\n        else:\\n            print(f\"{self.name}在玩那\")\\n\\nperson = Person(\\'abc\\', 12)\\nperson.play()\\nperson.age = 22\\nperson.play()\\n# abc在玩这\\n# abc在玩那\\n\\nperson.name = \\'另一个人\\'  # AttributeError: can\\'t set attribute', '# @property包装器来包装getter和setter方法，使得对属性的访问既安全又方便\\nclass Person(object):\\n\\n    def __init__(self, name, age):\\n        self._name = name\\n        self._age = age\\n\\n    # 访问器 - getter方法\\n    @property\\n    def name(self):\\n        return self._name\\n\\n    # 访问器 - getter方法\\n    @property\\n    def age(self):\\n        return self._age\\n\\n    # 修改器 - setter方法\\n    @age.setter\\n    def age(self, age):\\n        self._age = age\\n\\n    def play(self):\\n        if self._age <= 16:\\n            print(f\"{self.name}在玩这\")\\n        else:\\n            print(f\"{self.name}在玩那\")\\n\\nperson = Person(\\'abc\\', 12)\\nperson.play()\\nperson.age = 22\\nperson.play()\\n# abc在玩这\\n# abc在玩那\\n\\n# person.name = \\'另一个人\\'  # AttributeError: can\\'t set attribute\\nperson.age = 100\\nprint(person.age)', '# @property包装器来包装getter和setter方法，使得对属性的访问既安全又方便\\nclass Person(object):\\n\\n    def __init__(self, name, age):\\n        self._name = name\\n        self._age = age\\n\\n    # 访问器 - getter方法\\n    @property\\n    def name(self):\\n        return self._name\\n\\n    # 访问器 - getter方法\\n    @property\\n    def age(self):\\n        return self._age\\n\\n    # 修改器 - setter方法\\n    @age.setter\\n    def age(self, age):\\n        self._age = age\\n\\n    def play(self):\\n        if self._age <= 16:\\n            print(f\"{self.name}在玩这\")\\n        else:\\n            print(f\"{self.name}在玩那\")\\n\\nperson = Person(\\'abc\\', 12)\\nperson.play()\\nperson.age = 22\\nperson.play()\\n# abc在玩这\\n# abc在玩那\\n\\n# person.name = \\'另一个人\\'  # AttributeError: can\\'t set attribute\\nperson.age = 10000\\nprint(person.age)  # 10000', 'class Person(object):\\n    # 限定Person对象只能绑定_name, _age和_gender属性\\n    __slots__ = (\\'_name\\', \\'_age\\', \\'_gender\\')\\n    def __init__(self, name, age):\\n        self._name = name\\n        self._age = age\\n    @property\\n    def name(self):\\n        return self._name\\n    @property\\n    def age(self):\\n        return self._age\\n    @age.setter\\n    def age(self, age):\\n        self._age = age\\n    def play(self):\\n        if self._age <= 16:\\n            print(f\"{self.name}在玩\")\\n        else:\\n            print(f\"{self.name}在睡觉\")\\n\\nperson = Person(\\'aaa\\', 22)\\nperson.play()\\nperson._gender = \\'男\\'\\n# \\n\\n# AttributeError: \\'Person\\' object has no attribute \\'_is_bad\\'\\nperson._is_bad = True', 'class Person(object):\\n    # 限定Person对象只能绑定_name, _age和_gender属性\\n    __slots__ = (\\'_name\\', \\'_age\\', \\'_gender\\')\\n    def __init__(self, name, age):\\n        self._name = name\\n        self._age = age\\n    @property\\n    def name(self):\\n        return self._name\\n    @property\\n    def age(self):\\n        return self._age\\n    @age.setter\\n    def age(self, age):\\n        self._age = age\\n    def play(self):\\n        if self._age <= 16:\\n            print(f\"{self.name}在玩\")\\n        else:\\n            print(f\"{self.name}在睡觉\")\\n\\nperson = Person(\\'aaa\\', 22)\\nperson.play()\\nperson._gender = \\'男\\'\\n# aaa在睡觉\\n\\n# # AttributeError: \\'Person\\' object has no attribute \\'_is_bad\\'\\n# person._is_bad = True', \"from math import sqrt\\n\\n\\nclass Triangle(object):\\n\\n    def __init__(self, a, b, c):\\n        self._a = a\\n        self._b = b\\n        self._c = c\\n\\n    @staticmethod\\n    def is_valid(a, b, c):\\n        return a + b > c and b + c > a and a + c > b\\n\\n    def perimeter(self):\\n        return self._a + self._b + self._c\\n\\n    def area(self):\\n        half = self.perimeter() / 2\\n        return sqrt(half * (half - self._a) *\\n                    (half - self._b) * (half - self._c))\\n\\ndef main():\\n    a, b, c = 10, 8, 3\\n    # 静态方法和类方法都是通过给类发消息来调用的\\n    if Triangle.is_valid(a, b, c):\\n        t = Triangle(a, b, c)\\n        print(t.perimeter())\\n        # 也可以通过给类发消息来调用对象方法但是要传入接收消息的对象作为参数\\n        # print(Triangle.perimeter(t))\\n        print(t.area())\\n        # print(Triangle.area(t))\\n    else:\\n        print('无法构成三角形.')\\n\\nmain()\", 'class Person(object):\\n    \"\"\"人\"\"\"\\n    def __init__(self, name, age):\\n        self._name = name\\n        self._age = age\\n        \\n    @property\\n    def name(self):\\n        return self._name\\n\\n    @property\\n    def age(self):\\n        return self._age\\n\\n    @age.setter\\n    def age(self, age):\\n        self._age = age\\n\\n    def play(self): print(f\"{self.name}玩疯了\")\\n    def watch_tv(self):\\n        if self._age >= 18: print(f\"{self.name}看电视睡着了\")\\n        else: print(f\"{self.name}不看电视\")\\n\\nclass Student(Person):\\n    \"\"\"学生\"\"\"\\n    def __init__(self, name, age, grade):\\n        super().__init__(name, age)\\n        self._grade = grade\\n\\n    @property\\n    def grade(self):\\n        return self._grade\\n\\n    @grade.setter\\n    def grade(self, grade):\\n        self._grade = grade\\n\\n    def study(self, course): print(f\"{self._grade}的{self._name}在学{course}\")\\n\\nclass Teacher(Person):\\n    \"\"\"老师\"\"\"\\n    def __init__(self, name, age, title):\\n        super().__init__(name, age)\\n        self._title = title\\n\\n    @property\\n    def title(self):\\n        return self._title\\n\\n    @title.setter\\n    def title(self, title):\\n        self._title = title\\n        \\n    def teach(self, course): print(f\"{self._name}{self._title}在授课{course}\")\\n\\nstu = Student(\\'学生a\\', 15, \\'初三\\')\\nstu.study(\\'数学\\')\\nstu.watch_tv()\\nt = Teacher(\\'无敌\\', 49, \\'程序员\\')\\nt.teach(\\'Python如何打印helloworld\\')\\nt.watch_tv()\\n\\n# 初三的王大锤正在学习数学.\\n# 王大锤只能观看《熊出没》.\\n# 无敌砖家正在讲Python程序设计.\\n# 无敌正在观看恐怖片.', 'from abc import ABCMeta, abstractmethod\\n\\nclass Pet(object, metaclass=ABCMeta):\\n    \"\"\"宠物\"\"\"\\n    def __init__(self, nickname):\\n        self._nickname = nickname\\n    @abstractmethod\\n    def make_voice(self):\\n        \"\"\"发出声音\"\"\"\\n        pass\\n\\nclass Dog(Pet):\\n    \"\"\"狗\"\"\"\\n    def make_voice(self):\\n        print(\\'%s: 汪汪汪...\\' % self._nickname)\\n\\nclass Cat(Pet):\\n    \"\"\"猫\"\"\"\\n    def make_voice(self):\\n        print(\\'%s: 喵...喵...\\' % self._nickname)\\n\\npets = [Dog(\\'狗a\\'), Cat(\\'猫a\\'), Dog(\\'另一只狗\\')]\\nfor pet in pets:\\n    pet.make_voice()\\n\\n# 旺财: 汪汪汪...\\n# 凯蒂: 喵...喵...\\n# 大黄: 汪汪汪...', \"from abc import ABCMeta, abstractmethod\\nclass Pet(object, metaclass=ABCMeta):\\n    def __init__(self, nickname):\\n        self._nickname = nickname\\n    @abstractmethod\\n    def make_voice(self): pass\\nclass Dog(Pet):\\n    def make_voice(self): print('%s: 汪汪汪...' % self._nickname)\\nclass Cat(Pet):\\n    def make_voice(self): print('%s: 喵...喵...' % self._nickname)\\n\\npets = [Dog('狗a'), Cat('猫a'), Dog('另一只狗')]\\nfor pet in pets:\\n    pet.make_voice()\\n# 旺财: 汪汪汪...\\n# 凯蒂: 喵...喵...\\n# 大黄: 汪汪汪...\", '# 综合案例1：奥特曼打小怪兽。\\n\\nfrom abc import ABCMeta, abstractmethod\\nfrom random import randint, randrange\\n\\nclass Fighter(object, metaclass=ABCMeta):\\n    \"\"\"战斗者\"\"\"\\n    # 通过__slots__魔法限定对象可以绑定的成员变量\\n    __slots__ = (\\'_name\\', \\'_hp\\')\\n    def __init__(self, name, hp):\\n        \"\"\"初始化方法\\n        :param name: 名字\\n        :param hp: 生命值\\n        \"\"\"\\n        self._name = name\\n        self._hp = hp\\n    @property\\n    def name(self):\\n        return self._name\\n    @property\\n    def hp(self):\\n        return self._hp\\n    @hp.setter\\n    def hp(self, hp):\\n        self._hp = hp if hp >= 0 else 0\\n    @property\\n    def alive(self):\\n        return self._hp > 0\\n    @abstractmethod\\n    def attack(self, other):\\n        \"\"\"攻击\\n        :param other: 被攻击的对象\\n        \"\"\"\\n        pass\\n\\nclass Ultraman(Fighter):\\n    \"\"\"奥特曼\"\"\"\\n    __slots__ = (\\'_name\\', \\'_hp\\', \\'_mp\\')\\n    def __init__(self, name, hp, mp):\\n        \"\"\"初始化方法\\n        :param name: 名字\\n        :param hp: 生命值\\n        :param mp: 魔法值\\n        \"\"\"\\n        super().__init__(name, hp)\\n        self._mp = mp\\n    def attack(self, other):\\n        other.hp -= randint(15, 25)\\n    def huge_attack(self, other):\\n        \"\"\"究极必杀技(打掉对方至少50点或四分之三的血)\\n        :param other: 被攻击的对象\\n        :return: 使用成功返回True否则返回False\\n        \"\"\"\\n        if self._mp >= 50:\\n            self._mp -= 50\\n            injury = other.hp * 3 // 4\\n            injury = injury if injury >= 50 else 50\\n            other.hp -= injury\\n            return True\\n        else:\\n            self.attack(other)\\n            return False\\n    def magic_attack(self, others):\\n        \"\"\"魔法攻击\\n        :param others: 被攻击的群体\\n        :return: 使用魔法成功返回True否则返回False\\n        \"\"\"\\n        if self._mp >= 20:\\n            self._mp -= 20\\n            for temp in others:\\n                if temp.alive:\\n                    temp.hp -= randint(10, 15)\\n            return True\\n        else:\\n            return False\\n    def resume(self):\\n        \"\"\"恢复魔法值\"\"\"\\n        incr_point = randint(1, 10)\\n        self._mp += incr_point\\n        return incr_point\\n    def __str__(self):\\n        return \\'~~~%s奥特曼~~~\\\\n\\' % self._name + \\\\\\n            \\'生命值: %d\\\\n\\' % self._hp + \\\\\\n            \\'魔法值: %d\\\\n\\' % self._mp\\n\\nclass Monster(Fighter):\\n    \"\"\"小怪兽\"\"\"\\n    __slots__ = (\\'_name\\', \\'_hp\\')\\n    def attack(self, other):\\n        other.hp -= randint(10, 20)\\n    def __str__(self):\\n        return \\'~~~%s小怪兽~~~\\\\n\\' % self._name + \\\\\\n            \\'生命值: %d\\\\n\\' % self._hp\\n\\ndef is_any_alive(monsters):\\n    \"\"\"判断有没有小怪兽是活着的\"\"\"\\n    for monster in monsters:\\n        if monster.alive > 0:\\n            return True\\n    return False\\n\\ndef select_alive_one(monsters):\\n    \"\"\"选中一只活着的小怪兽\"\"\"\\n    monsters_len = len(monsters)\\n    while True:\\n        index = randrange(monsters_len)\\n        monster = monsters[index]\\n        if monster.alive > 0:\\n            return monster\\n\\ndef display_info(ultraman, monsters):\\n    \"\"\"显示奥特曼和小怪兽的信息\"\"\"\\n    print(ultraman)\\n    for monster in monsters:\\n        print(monster, end=\\'\\')\\n\\ndef main():\\n    u = Ultraman(\\'a\\', 1000, 120)\\n    m1 = Monster(\\'c1\\', 250)\\n    m2 = Monster(\\'c2\\', 500)\\n    m3 = Monster(\\'c3\\', 750)\\n    ms = [m1, m2, m3]\\n    fight_round = 1\\n    while u.alive and is_any_alive(ms):\\n        print(\\'========第%02d回合========\\' % fight_round)\\n        m = select_alive_one(ms)  # 选中一只小怪兽\\n        skill = randint(1, 10)   # 通过随机数选择使用哪种技能\\n        if skill <= 6:  # 60%的概率使用普通攻击\\n            print(\\'%s使用普通攻击打了%s.\\' % (u.name, m.name))\\n            u.attack(m)\\n            print(\\'%s的魔法值恢复了%d点.\\' % (u.name, u.resume()))\\n        elif skill <= 9:  # 30%的概率使用魔法攻击(可能因魔法值不足而失败)\\n            if u.magic_attack(ms):\\n                print(\\'%s使用了魔法攻击.\\' % u.name)\\n            else:\\n                print(\\'%s使用魔法失败.\\' % u.name)\\n        else:  # 10%的概率使用究极必杀技(如果魔法值不足则使用普通攻击)\\n            if u.huge_attack(m):\\n                print(\\'%s使用究极必杀技虐了%s.\\' % (u.name, m.name))\\n            else:\\n                print(\\'%s使用普通攻击打了%s.\\' % (u.name, m.name))\\n                print(\\'%s的魔法值恢复了%d点.\\' % (u.name, u.resume()))\\n        if m.alive > 0:  # 如果选中的小怪兽没有死就回击奥特曼\\n            print(\\'%s回击了%s.\\' % (m.name, u.name))\\n            m.attack(u)\\n        display_info(u, ms)  # 每个回合结束后显示奥特曼和小怪兽的信息\\n        fight_round += 1\\n    print(\\'\\\\n========战斗结束!========\\\\n\\')\\n    if u.alive > 0:\\n        print(\\'%s奥特曼胜利!\\' % u.name)\\n    else:\\n        print(\\'小怪兽胜利!\\')\\n\\n# 调用\\nmain()', '# 综合案例3：工资结算系统。\\n\\n\"\"\"\\n某公司有三种类型的员工 分别是部门经理、程序员和销售员\\n需要设计一个工资结算系统 根据提供的员工信息来计算月薪\\n部门经理的月薪是每月固定15000元\\n程序员的月薪按本月工作时间计算 每小时150元\\n销售员的月薪是1200元的底薪加上销售额5%的提成\\n\"\"\"\\nfrom abc import ABCMeta, abstractmethod\\n\\n\\nclass Employee(object, metaclass=ABCMeta):\\n    \"\"\"员工\"\"\"\\n\\n    def __init__(self, name):\\n        \"\"\"\\n        初始化方法\\n\\n        :param name: 姓名\\n        \"\"\"\\n        self._name = name\\n\\n    @property\\n    def name(self):\\n        return self._name\\n\\n    @abstractmethod\\n    def get_salary(self):\\n        \"\"\"\\n        获得月薪\\n\\n        :return: 月薪\\n        \"\"\"\\n        pass\\n\\n\\nclass Manager(Employee):\\n    \"\"\"部门经理\"\"\"\\n\\n    def get_salary(self):\\n        return 15000.0\\n\\n\\nclass Programmer(Employee):\\n    \"\"\"程序员\"\"\"\\n\\n    def __init__(self, name, working_hour=0):\\n        super().__init__(name)\\n        self._working_hour = working_hour\\n\\n    @property\\n    def working_hour(self):\\n        return self._working_hour\\n\\n    @working_hour.setter\\n    def working_hour(self, working_hour):\\n        self._working_hour = working_hour if working_hour > 0 else 0\\n\\n    def get_salary(self):\\n        return 150.0 * self._working_hour\\n\\n\\nclass Salesman(Employee):\\n    \"\"\"销售员\"\"\"\\n\\n    def __init__(self, name, sales=0):\\n        super().__init__(name)\\n        self._sales = sales\\n\\n    @property\\n    def sales(self):\\n        return self._sales\\n\\n    @sales.setter\\n    def sales(self, sales):\\n        self._sales = sales if sales > 0 else 0\\n\\n    def get_salary(self):\\n        return 1200.0 + self._sales * 0.05\\n\\n\\ndef main():\\n    emps = [\\n        Manager(\\'a\\'), Programmer(\\'b\\'),\\n        Manager(\\'c\\'), Salesman(\\'d\\'),\\n        Salesman(\\'e\\'), Programmer(\\'f\\'),\\n        Programmer(\\'g\\')\\n    ]\\n    for emp in emps:\\n        if isinstance(emp, Programmer):\\n            emp.working_hour = int(input(\\'请输入%s本月工作时间: \\' % emp.name))\\n        elif isinstance(emp, Salesman):\\n            emp.sales = float(input(\\'请输入%s本月销售额: \\' % emp.name))\\n        # 同样是接收get_salary这个消息但是不同的员工表现出了不同的行为(多态)\\n        print(\\'%s本月工资为: ￥%s元\\' %\\n              (emp.name, emp.get_salary()))\\n\\n\\nmain()', 'import os  # 引入内置模块 os  \\nimport sys  # 引入内置模块 sys  \\n  \\n# 使用 os 模块中的方法  \\nprint(os.getcwd())  \\n  \\n# 使用 sys 模块中的方法  \\nprint(sys.version)  ', \"# NoneType  这个数据类型比较特殊，NoneType仅有唯一实例None\\nprint(type(None))   # <class 'NoneType'>\", \"is_student = True\\nhas_graduated = False\\n\\nprint(type(is_student))   # <class 'bool'>\\nprint(type(has_graduated))   # <class 'bool'>\", \"# int\\na = 10\\nb = -1  \\nprint(type(a))  # <class 'int'>\\nprint(type(b))  # <class 'int'>\\n\\n# float\\nc = 3.4\\nd = -0.002\\nprint(type(c))  # <class 'float'>\\nprint(type(d))  # <class 'float'>\\n\\n# complex\\ne = -2 + 4j\\nprint(type(e))   # <class 'complex'>\", '# 加 + \\nadd_ = 1 + 2\\nadd_b = 1.0 + .1\\nprint(f\"{add_=}\")   # add_=3\\nprint(f\"{add_b=}\")   # add_b=1.1', '# 减 -\\nsubtraction_ = 1-2\\nsubtraction_b = 1-2. \\nprint(f\"{subtraction_=}\")  # subtraction_=-1\\nprint(f\"{subtraction_b=}\")  # subtraction_b=-1.0', '# 乘 *\\nmultiplication_ = 2*3\\nmultiplication_b = 2.*3\\nprint(f\"{multiplication_=}\")   # multiplication_=6\\nprint(f\"{multiplication_b=}\")  # multiplication_b=6.0', '# 除 /\\ndivision_ = 1/2\\ndivision_b = 2/1\\nprint(f\"{division_=}\")  # division_=0.5\\nprint(f\"{division_b=}\")  # division_b=2.0', '# 取商 //\\nrounding_ = 1 //2\\nprint(f\"{rounding_=}\")   # rounding_=0\\n\\n# 取余 % \\nremainder_ = 1%2\\nprint(f\"{remainder_=}\")  # remainder_=1', '# 幂运算 **\\npower_ = 2**3\\nprint(f\"{power_=}\")  # power_=8', '# 科学计数法\\na = 1e3\\nprint(f\"{a=}\")  # a=1000.0\\n\\nb = -2e-4\\nprint(f\"{b=}\")  # b=-0.0002', '# 常用数字运算函数\\nnumber = -7.25\\n\\nprint(f\"取绝对值：{abs(number)=}\")  # 取绝对值：abs(number)=7.25\\nprint(f\"求幂：{pow(2,3)=}\")  # 求幂：pow(2,3)=8\\nprint(f\"小数位数调整(有四舍五入)：{round(3.1415, 3)=}\")  # 小数位数调整(有四舍五入)：round(3.1415, 3)=3.142\\nprint(f\"取商取余：{divmod(10,3)=}\")  # 取商取余：divmod(10,3)=(3, 1)', '# 数字类型转换\\na = 1.2  # <class \\'float\\'>\\nb = 2  # <class \\'int\\'>\\nprint(f\"{int(a)=}\")  # int(a)=1\\nprint(type(int(a)))  # <class \\'int\\'>\\nprint(f\"{float(b)=}\")  # float(b)=2.0\\nprint(type(float(b)))  # <class \\'float\\'>\\n\\n# 空int \\nempty_int = int()\\nprint(f\"{type(empty_int)=}\")   # type(empty_int)=<class \\'int\\'>\\n\\n# 空float\\nempty_float = float()\\nprint(f\"{type(empty_float)=}\")  # type(empty_float)=<class \\'float\\'>', 'name = \"Alili\"\\ngreeting = \"Hello !\"\\nmultiline = \"\"\"This is \\na \\nmultiline.\"\"\"\\n\\n# 空字符串   <class \\'str\\'>\\nempty_str = str()\\n# empty_str = \\'\\'\\n# empty_str = \"\"\\nprint(type(empty_str))    # <class \\'str\\'>', 's = \"Hello\"\\n# 尝试修改第一个字符\\ns[0] = \\'h\\'    # TypeError: \\'str\\' object does not support item assignment', \"# NoneType  这个数据类型比较特殊，NoneType仅有唯一实例None\\nprint(type(None))   # <class 'NoneType'>\", \"is_student = True\\nhas_graduated = False\\n\\nprint(type(is_student))   # <class 'bool'>\\nprint(type(has_graduated))   # <class 'bool'>\", \"# int\\na = 10\\nb = -1  \\nprint(type(a))  # <class 'int'>\\nprint(type(b))  # <class 'int'>\\n\\n# float\\nc = 3.4\\nd = -0.002\\nprint(type(c))  # <class 'float'>\\nprint(type(d))  # <class 'float'>\\n\\n# complex\\ne = -2 + 4j\\nprint(type(e))   # <class 'complex'>\", '# 加 + \\nadd_ = 1 + 2\\nadd_b = 1.0 + .1\\nprint(f\"{add_=}\")   # add_=3\\nprint(f\"{add_b=}\")   # add_b=1.1', '# 减 -\\nsubtraction_ = 1-2\\nsubtraction_b = 1-2. \\nprint(f\"{subtraction_=}\")  # subtraction_=-1\\nprint(f\"{subtraction_b=}\")  # subtraction_b=-1.0', '# 乘 *\\nmultiplication_ = 2*3\\nmultiplication_b = 2.*3\\nprint(f\"{multiplication_=}\")   # multiplication_=6\\nprint(f\"{multiplication_b=}\")  # multiplication_b=6.0', '# 除 /\\ndivision_ = 1/2\\ndivision_b = 2/1\\nprint(f\"{division_=}\")  # division_=0.5\\nprint(f\"{division_b=}\")  # division_b=2.0', '# 取商 //\\nrounding_ = 1 //2\\nprint(f\"{rounding_=}\")   # rounding_=0\\n\\n# 取余 % \\nremainder_ = 1%2\\nprint(f\"{remainder_=}\")  # remainder_=1', '# 幂运算 **\\npower_ = 2**3\\nprint(f\"{power_=}\")  # power_=8', '# 科学计数法\\na = 1e3\\nprint(f\"{a=}\")  # a=1000.0\\n\\nb = -2e-4\\nprint(f\"{b=}\")  # b=-0.0002', '# 常用数字运算函数\\nnumber = -7.25\\n\\nprint(f\"取绝对值：{abs(number)=}\")  # 取绝对值：abs(number)=7.25\\nprint(f\"求幂：{pow(2,3)=}\")  # 求幂：pow(2,3)=8\\nprint(f\"小数位数调整(有四舍五入)：{round(3.1415, 3)=}\")  # 小数位数调整(有四舍五入)：round(3.1415, 3)=3.142\\nprint(f\"取商取余：{divmod(10,3)=}\")  # 取商取余：divmod(10,3)=(3, 1)', '# 数字类型转换\\na = 1.2  # <class \\'float\\'>\\nb = 2  # <class \\'int\\'>\\nprint(f\"{int(a)=}\")  # int(a)=1\\nprint(type(int(a)))  # <class \\'int\\'>\\nprint(f\"{float(b)=}\")  # float(b)=2.0\\nprint(type(float(b)))  # <class \\'float\\'>\\n\\n# 空int \\nempty_int = int()\\nprint(f\"{type(empty_int)=}\")   # type(empty_int)=<class \\'int\\'>\\n\\n# 空float\\nempty_float = float()\\nprint(f\"{type(empty_float)=}\")  # type(empty_float)=<class \\'float\\'>', 'name = \"Alili\"\\ngreeting = \"Hello !\"\\nmultiline = \"\"\"This is \\na \\nmultiline.\"\"\"\\n\\n# 空字符串   <class \\'str\\'>\\nempty_str = str()\\n# empty_str = \\'\\'\\n# empty_str = \"\"\\nprint(type(empty_str))    # <class \\'str\\'>', 's = \"Hello\"\\n# 尝试修改第一个字符\\ns[0] = \\'h\\'    # TypeError: \\'str\\' object does not support item assignment', \"# 正确的做法是创建一个新的字符串\\ns_new = 'hello'\\nprint(s_new)  # hello\", 's = \"Hello, Python !\"\\n# 索引\\n# 正向索引  从0开始\\nprint(s[0])   # H\\nprint(s[7])   # P\\n# 反向索引  从-1开始\\nprint(s[-1])  # !\\nprint(s[-7])  # y\\n# 切片\\n# 基本切片\\nprint(s[0:5])  # Hello\\nprint(s[7:])  # Python !\\nprint(s[:5])  # Hello\\n# 使用步长   start:end:step     step默认是1，也就是连续取，step=2就是隔一个取\\nprint(s[::2])  # Hlo yhn!\\nprint(s[::-1])  # ! nohtyP ,olleH  # 字符串反转\\n# 负数索引切片 \\nprint(s[-6:-1])  # thon ', '# 拼接\\n# 使用加号\\ns1 = \"Hello\"\\ns2 = \"World\"\\ns3 = s1 + \",\" + s2 + \"!\"\\nprint(s3) # Hello,World!\\n\\n# 使用join()方法\\nwords= [\"Python\", \"is\", \"awesome\"]\\nsentense = \" \".join(words)\\nprint(sentense)  # Python is awesome\\n\\n# 重复\\ns = \\'Echo! \\'\\nrepeated = s * 3\\nprint(repeated)  # Echo! Echo! Echo! ', '# 分割\\n\\ns = \"Python is fun and powerful.\"\\nwords = s.split()\\nprint(words)   # [\\'Python\\', \\'is\\', \\'fun\\', \\'and\\', \\'powerful.\\']\\n\\n# words = s.split(\\' \\', 1)  # 看python的版本是否支持\\n# print(words)  # [\\'Python\\', \\'is fun and powerful.\\']\\n\\n# 使用指定分隔符\\nwords_dot = s.split(\\'.\\')\\nprint(words_dot)  # [\\'Python is fun and powerful\\', \\'\\']\\n\\ns_ = \"apple,banana,orange\"\\n# rsplit  从右开始分割,最多分割2次\\nfruits = s_.rsplit(\\',\\', 2)\\nprint(fruits)  # [\\'apple\\', \\'banana\\', \\'orange\\']', \"s = 'abracadabra'\\n\\nindex = s.find('cad')\\nprint(index)  # 4\\n\\nind = s.find('xyt')\\nprint(ind)  # -1\\n\\nlast_idx = s.rfind('abra')\\nprint(last_idx)  # 7\", 's = \"a, A\"\\nprint(s.upper())  # A, A\\nprint(s.lower())  # a, a', 's = \"  Hello, Python!  \"\\n\\nprint(s.strip())  # Hello, Python!\\nprint(s.lstrip()) # Hello, Python!\\nprint(s.rstrip()) #   Hello, Python!', 's = \"Pyrhon Programming\"\\n\\nprint(s.startswith(\\'Py\\'))  # True\\nprint(s.endswith(\\'g\\'))  # True\\nprint(s.startswith(\\'Java\\'))  # False', \"s = 'banana'\\n\\ncount = s.count('a')\\nprint(count)  # 3\", \"s = 'banana'\\n\\nindex_ = s.index('a')\\nprint(index_)  # 1\", 'name = \"Alili\"\\nage = 24\\n\\n# %\\ns = \"My name is %s and I am %d years old.\" % (name, age)\\nprint(s)\\n\\n# str.format()\\nfmt_mtd = \"My name is {} and I am {:.2f} years old.\".format(name, age)\\nprint(fmt_mtd)  # My name is Alili and I am 24.00 years old.\\n# 0 1 表示索引\\n# fmt_mtd = \"My name is {0} and I am {1} years old.\".format(name, age)\\n# fmt_mtd = \"My name is {0} and I am {1:.2f} years old.\".format(name, age)\\n\\n# f-str\\nf_method = f\"My name is {name} and I am {age:.2f} years old.\"\\nprint(f_method)  # My name is Alili and I am 24.00 years old.', 's = \"Hello,\\\\nPython!\"\\nprint(s)\\n# Hello,\\n# Python!\\n\\ns = r\"C:\\\\Users\\\\Alili\\\\Documents\"\\nprint(s)  # C:\\\\Users\\\\Alice\\\\Documents', 's = \"Python\"\\nprint(len(s))  # 6', 's = \"Python Programming\"\\nprint(\"Python\" in s)      # True\\nprint(\"Java\" not in s)    # True', 's = \"Hello\"\\nfor char in s:\\n    print(char)\\n# H\\n# e\\n# l\\n# l\\n# o', 's = \"Hello\"\\n\\n# 转换为列表\\nchars = list(s)\\nprint(chars)  # [\\'H\\', \\'e\\', \\'l\\', \\'l\\', \\'o\\']\\n\\n# 列表转换为字符串\\ns_new = \\'\\'.join(chars)\\nprint(s_new)  # Hello', 's = \"The quick brown fox jumps over the lazy dog.\"\\n# 查找子字符串\\nindex = s.find(\"fox\")\\nprint(index)  # 16\\n# 替换子字符串\\ns_new = s.replace(\"fox\", \"cat\")  \\nprint(s_new)  # The quick brown cat jumps over the lazy dog.', \"tup = 1,2,4\\n# tup = 1,2,4,\\n# tup = (1,2,4)\\n# tup = (1,2,4,)\\nprint(tup)   # (1, 2, 4)\\n\\nz_tup = (4,2,1), (3,9)\\nprint(z_tup)   # ((4, 2, 1), (3, 9))\\n\\n# 空元组\\nempty_tup = ()   #  <class 'tuple'>\\n# empty_tup = tuple()   # <class 'tuple'>\\nprint(type(empty_tup))   # <class 'tuple'>\", 'tuple_a = tuple([1,3,2,4,2])  # (1, 3, 2, 4, 2)\\nprint(tuple_a)\\ntuple_b = tuple(\"AbCdef\")  # (\\'A\\', \\'b\\', \\'C\\', \\'d\\', \\'e\\', \\'f\\')\\nprint(tuple_b)', \"tuple_c = tuple(['start', [0,0], 1, False])\\nid_before = id(tuple_c[1])  # 3004552076736\\n\\n# tuple_c[1] = [0,0,1] # 会引发 TypeError\\ntuple_c[1].append(1)  # ('start', [0, 0, 1], 1, False) \\nid_after = id(tuple_c[1])  # 3004552076736\\n\\nprint(id_before == id_after) # True\\n\\n# 在Python中，每个对象都有一个唯一的身份标识，用于区分不同的对象。\\n# id() 函数用于获取对象的唯一标识符。这是一个唯一的整数，且在对象的生命周期内保持不变\\n# id_before == id_after，id_before、id_after引用的是同一个对象 tuple_c[1]\\n# is 运算符,用于判断两个变量是否引用同一个对象,等同于比较两个变量的id是否相同\", 'tuple_ = (1,2,) + \"a\" + (\"1\",) + (2)  \\n# TypeError \"a\"、(\"a\") is str, type((2)) is int', 'tuple_d = (1,2,) + (\"a\",) + (\"1\",) + (2,)  \\ntuple_e = (\\'kk\\', \\'ss\\') * 2   \\nprint(f\"{tuple_d=}\")  # tuple_d=(1, 2, \\'a\\', \\'1\\', 2)\\nprint(f\"{tuple_e=}\")  # tuple_e=(\\'kk\\', \\'ss\\', \\'kk\\', \\'ss\\')', 'tuple_f = (1,21,33,41)\\na_, b_, c_, d_= tuple_f   # 1 21 33 41\\na_, b_, *rest = tuple_f   # 1 21\\nprint(f\"{rest=}\")   # rest=[33, 41]\\n\\ntuple_g = (1,),(21,33,41)\\na_, (b_, c_, d_) = tuple_g   #  (1,) 21 33 41\\na_, b_ = tuple_g   # (1,) (21, 33, 41)\\nprint(a_[0])   # 1', 'x_, y_ = 1, 2\\nx_, y_ = y_, x_ \\nprint(f\"{x_=}\") # x_=2\\nprint(f\"{y_=}\") # y_=1', 'tuple_h = 1,2,3,4,5,6,6,6,6,6,\\ntuple_h.count(6)  # 5', '# 空集合\\nempty_set = set()  # <class \\'set\\'>\\nprint(type(empty_set))  # <class \\'set\\'>\\n# 创建集合\\nunique_numbers = {1, 2, 3, 4, 5}\\n# 添加元素\\nunique_numbers.add(6)\\n# 删除元素\\nunique_numbers.discard(3)\\n\\n# 集合运算\\nevens = {2, 4, 6, 8}\\nodds = {1, 3, 5, 7}\\n# # -\\nsub_result = evens - odds\\nprint(f\"{sub_result=}\")   # sub_result={8, 2, 4, 6}\\n# # 并集\\nunion = evens.union(odds)\\n# union = evens | odds\\n# union = evens.update(odds)\\nprint(f\"{union=}\")  # union={1, 2, 3, 4, 5, 6, 7, 8}\\n# # 交集\\nintersection = evens.intersection({4, 5, 6})\\nprint(f\"{intersection=}\")  # intersection={4, 6}\\n\\n# 不在意内部元素顺序的情况下, 剔除重复值\\ntu = 1,1,1,1,1,1,12,2,3,4,\\ntuple_ = tuple(set(tu))\\nprint(f\"{tuple_=}\")  # list_=[1, 2, 3, 4, 12]\\n# 集合支持for循环遍历\\nfor x in tuple_:\\n    print(x) # 1 2 3 4 12', '# 创建列表\\n# # 空列表\\nempty_list = [] \\n# empty_list = list()\\n# print(empty_list)  # []\\nprint(type(empty_list))  # <class \\'list\\'>\\n\\n# # 嵌套列表\\nnested_list = [1, [2, 3], [4, 5, 6]]\\n# # 列表中可以包含不同类型的元素\\nmixed_list = [1, \"Python\", 3.14, True]\\n\\n\\nfruits = [\\'apple\\', \\'banana\\', \\'cherry\\']\\n# 正向索引\\nfirst_fruit = fruits[0]\\nprint(f\"{first_fruit=}\")  # first_fruit=\\'apple\\'\\n# 反向索引\\nlast_fruit = fruits[-1]\\nprint(f\"{last_fruit=}\")  # last_fruit=\\'cherry\\'\\n\\n# 列表切片 语法为list[start:end:step]\\nnumbers = [0, 1, 2, 3, 4, 5, 6, 7, 8, 9]\\n# # 基本切片\\nprint(numbers[2:5])    # [2, 3, 4]\\nprint(numbers[:4])     # [0, 1, 2, 3]\\nprint(numbers[6:])     # [6, 7, 8, 9]\\n# # 使用步长\\nprint(numbers[::2])    # [0, 2, 4, 6, 8]\\nprint(numbers[::-1])   # [9, 8, 7, 6, 5, 4, 3, 2, 1, 0]', \"fruits = ['apple', 'banana', 'cherry']\\n\\n# append()\\nfruits.append('date')\\nprint(fruits)  #  ['apple', 'banana', 'cherry', 'date']\\n\\n# insert()\\nfruits.insert(1, 'blueberry')\\nprint(fruits)  # ['apple', 'blueberry', 'banana', 'cherry', 'date']\\n\\n# extend()\\nfruits.extend(['elderberry', 'fig'])\\nprint(fruits)  # ['apple', 'blueberry', 'banana', 'cherry', 'date', 'elderberry', 'fig']\", \"fruits = ['apple', 'blueberry', 'banana', 'cherry', 'date', 'elderberry', 'fig']\\n\\n# remove()\\nfruits.remove('banana')\\nprint(fruits)  # ['apple', 'blueberry', 'cherry', 'date', 'elderberry', 'fig']\\n\\n# pop()\\nremoved = fruits.pop(2)\\nprint(removed)  # cherry\\nprint(fruits)    # ['apple', 'blueberry', 'date', 'elderberry', 'fig']\\n\\n# clear()\\nfruits.clear()\\nprint(fruits)  # []\", 'numbers = [4, 2, 9, 1, 5, 6, 2]\\n\\n# index()\\nprint(numbers.index(5))  # 4\\n\\n# count()\\nprint(numbers.count(2))  # 2\\n\\n# sort()\\nnumbers.sort()\\nprint(numbers)  # [1, 2, 2, 4, 5, 6, 9]\\n\\n# sorted()   reverse: True降序 False升序\\nsorted_numbers = sorted(numbers, reverse=True)  \\nprint(sorted_numbers)  # [9, 6, 5, 4, 2, 2, 1]\\n\\n# reverse()\\nnumbers.reverse()\\nprint(numbers)  # [9, 6, 5, 4, 2, 2, 1]', \"fruits = ['apple', 'banana', 'cherry', 'date']\\n\\n# 使用 for 循环遍历列表\\nfor fruit in fruits:\\n    print(fruit)\\n\\n# while循环\\nindex = 0\\nwhile index < len(fruits):\\n    print(fruits[index])\\n    index += 1\\n# apple banana cherry date\", 'fruits = [\\'apple\\', \\'banana\\', \\'cherry\\', \\'date\\']\\n\\n# 使用 enumerate() 遍历列表\\nfor index, fruit in enumerate(fruits):\\n    print(f\"Index {index}: {fruit}\")\\n# Index 0: apple\\n# Index 1: banana\\n# Index 2: cherry\\n# Index 3: date\\n\\n# 从索引 1 开始遍历\\nfor index, fruit in enumerate(fruits, start=1):\\n    print(f\"Index {index}: {fruit}\")\\n# Index 1: apple\\n# Index 2: banana\\n# Index 3: cherry\\n# Index 4: date', 'names = [\\'Alili\\', \\'Bobo\\', \\'Qiuqiu\\']\\nages = [25, 30]\\n\\n# 使用 zip() 遍历长度不同的列表\\nfor name, age in zip(names, ages):\\n    print(f\"{name} is {age} years old.\")\\n# Alili is 25 years old.\\n# Bobo is 30 years old.', '# 字符串转列表\\ns = \"Hello\"\\nlst = list(s)\\nprint(lst)  # [\\'H\\', \\'e\\', \\'l\\', \\'l\\', \\'o\\']\\n\\n# # 列表转字符串\\n# words = [\\'Python\\', \\'is\\', \\'awesome\\']\\n# sentence = \\' \\'.join(words)\\n# print(sentence)  # Python is awesome', 'matrix = [\\n    [1, 2, 3],\\n    [4, 5, 6],\\n    [7, 8, 9]\\n]\\n\\n# 访问元素\\nprint(matrix[0][1])  # 2\\nprint(matrix[2][2])  # 9\\n\\nfor x in matrix:\\n    print(x)\\n# [1, 2, 3]\\n# [4, 5, 6]\\n# [7, 8, 9]\\n\\nfor x in matrix[0]:\\n    print(x)\\n# 1\\n# 2\\n# 3', \"# 创建空字典\\nempty_dict = {}\\n# empty_dict = dict()\\nprint(type(empty_dict))  # <class 'dict'>\\n\\n# 创建包含键值对的字典\\nstudent = {'name': 'Alili',\\n    'age': 25,\\n    'major': 'Computer Science'}\\n\\n# 使用 dict() 构造函数创建字典\\nperson = dict(name='Bomm', age=30, city='New York')\\nprint(person) # {'name': 'Bomm', 'age': 30, 'city': 'New York'}\\n\\n# 使用序列创建字典\\nmapping = dict(zip(range(5), reversed(range(5))))\\nprint(mapping)  # {0: 4, 1: 3, 2: 2, 3: 1, 4: 0}\\n\\n# 设置默认值  setdefault方法\\n# dict.setdefault(key, default=None)\\nmy_dict = {'a': 1, 'b': 2}\\nresult1 = my_dict.setdefault('a', 100)  # 键 'a' 存在，返回其对应的值 1\\nprint(result1)  # 1\\nresult2 = my_dict.setdefault('c', 3)    # 键 'c' 不存在，添加 'c' 键，值为 3\\nprint(result2) # 3\", \"student = {\\n    'name': 'Alili',\\n    'age': 25,\\n    'major': 'Computer Science'}\\n\\n# 使用中括号访问\\nprint(student['name'])  # Alili\\n# 使用 get() 方法访问\\nprint(student.get('age'))  # 25\\n# 如果键不存在，使用 get() 可设置默认值\\nprint(student.get('gpa', 'Not Available'))  # Not Available\", \"student = {\\n    'name': 'Alili',\\n    'age': 25,\\n    'like': 'orange'\\n}\\n\\n# 添加新的键值对\\nstudent['like'] = 'orange'\\nprint(student)\\n# {'name': 'Alili', 'age': 25, 'like': 'orange'}\\n\\n# 修改现有的值\\nstudent['age'] = 25.5\\nprint(student)\\n# {'name': 'Alili', 'age': 25.5, 'like': 'orange'}\", \"student = {\\n    'name': 'Alili',\\n    'age': 25,\\n    'like': 'orange'\\n}\\n\\n# 使用 del 语句删除键值对\\ndel student['like']\\nprint(student)\\n# {'name': 'Alili', 'age': 25}\\n\\n# 使用 pop() 方法删除并返回值\\nage = student.pop('age')\\nprint(age)       # 25\\nprint(student)   # {'name': 'Alili'}\\n\\n# 使用 clear() 方法清空字典\\nstudent.clear()\\nprint(student)  # {}\", \"student = {\\n    'name': 'Alili',\\n}\\n\\nkeys = student.keys()\\nprint(keys)  # dict_keys(['name'])\\n\\nvalues = student.values()\\nprint(values)  # dict_values(['Alili'])\\n\\nitems = student.items()\\nprint(items)  # dict_items([('name', 'Alili')])\\n\\n# gpa = student.get('gpa', 'Not Available')\\n# print(gpa)  # Not Available\\n\\nadditional_info = {'gpa': 3.9, 'graduated': False}\\nstudent.update(additional_info)\\nprint(student)   # {'name': 'Alili', 'gpa': 3.9, 'graduated': False}\\n\\nitem = student.popitem()\\nprint(item)      # ('graduated', False)\\nprint(student)   # {'name': 'Alili', 'gpa': 3.9}\", 'student = {\\n    \\'name\\': \\'Alili\\',\\n    \\'age\\': 25,\\n    \\'like\\': \\'orange\\'}\\n\\n# 遍历键\\nfor key in student:\\n    print(key)\\n# name age like\\n\\n# 遍历值\\nfor value in student.values():\\n    print(value)\\n# Alili 25 orange\\n\\n# 遍历键值对\\nfor key, value in student.items():\\n    print(f\"{key}: {value}\")\\n# name: Alili  age: 25  like: orange', \"# 创建嵌套字典\\nstudents = {\\n    'Alili': {\\n        'age': 25,\\n        'major': 'Computer Science',\\n        'gpa': 3.8},\\n    'Bomm': {\\n        'age': 22,\\n        'major': 'Mathematics',\\n        'gpa': 3.5}}\\n\\n# 访问嵌套字典中的值\\nprint(students['Alili']['major'])  # Computer Science\\n# 添加新的嵌套字典\\nstudents['Charlo'] = {'age': 24, 'major': 'Physics', 'gpa': 3.6}\\nprint(students)\\n# {'Alili': {'age': 25, 'major': 'Computer Science', 'gpa': 3.8}, \\n# 'Bomm': {'age': 22, 'major': 'Mathematics', 'gpa': 3.5}, \\n# 'Charlo': {'age': 24, 'major': 'Physics', 'gpa': 3.6}}\", 'for k,v in students.items():\\n    print(f\"key:{k},value:{v}\")\\n# key:Alili,value:{\\'age\\':25,\\'major\\':\\'Computer Science\\',\\'gpa\\':3.8}\\n# key:Bomm,value:{\\'age\\':22,\\'major\\':\\'Mathematics\\',\\'gpa\\':3.5}\\n# key:Charlo,value:{\\'age\\':24,\\'major\\':\\'Physics\\',\\'gpa\\':3.6}', 'a = 100\\nb = 100   # 小整数在 Python 中会被缓存并共享\\nc = 1000  # 大整数则不会被缓存\\nd = 1000\\nprint(id(a)==id(b),id(c)==id(d)) # True False\\nprint(a is b, c is d)  # True False', 'from typing import List, Tuple, Dict\\n\\n# List: 一个整数类型的列表\\nnumbers: List[int] = [1, 2, 3, 4, 5]\\nprint(numbers)  # [1, 2, 3, 4, 5]\\n# Tuple: 一个包含整数和字符串的元组\\ninfo: Tuple[int, str] = (42, \"example\")\\nprint(info)  # (42, \\'example\\')\\n# Dict: 一个键为字符串类型、值为整数类型的字典\\nscores: Dict[str, int] = {\"Alili\": 95, \"Bobo\": 88}\\nprint(scores)  # {\\'Alili\\': 95, \\'Bobo\\': 88}\\n\\nfrom collections import defaultdict, OrderedDict\\n\\n# defaultdict: 创建一个有默认值的字典\\n# 当键不存在时，自动返回指定的默认值\\ndefault_dict = defaultdict(int)\\nprint(default_dict)  # defaultdict(<class \\'int\\'>, {})\\ndefault_dict[\"a\"] += 1  # 默认值为0，所以输出结果为1\\nprint(default_dict[\"a\"])  # 1\\n# OrderedDict: 保持键值对的插入顺序\\nordered_dict = OrderedDict([(\"one\", 1), (\"two\", 2), (\"three\", 3)])\\nfor key, value in ordered_dict.items():\\n    print(key, value)\\n# one 1\\n# two 2\\n# three 3', 'age = 19   # age = input(\"请输入年龄:\")\\nif age >= 18: print(\"You are an adult.\")\\nelif age >= 13: print(\"You are a teenager.\")\\nelse: print(\"You are a child.\")', '# 打印 0 到 4\\nfor i in range(5):\\n    print(i)', 'count = 0\\n\\nwhile count < 5:\\n    print(count)\\n    count += 1\\n\\n# 0\\n# 1\\n# 2\\n# 3\\n# 4', '# password = \"\"\\n# while password != \"python123\":\\n#     password = input(\"Enter the password: \")\\n#     if password == \"python123\":\\n#         print(\"Access granted.\")\\n#     else:\\n#         print(\"Incorrect password. Try again.\")\\n\\n\\n# # for \\n# for _ in range(5):\\n#     password = input(\"Enter the password: \")\\n#     if password == \"python123\":\\n#         print(\"Access granted.\")\\n#     else:\\n#         print(\"Incorrect password. Try again.\")\\n        ', 'for i in range(10):\\n    if i == 5:\\n        break\\n    print(i)\\n    \\n# 0\\n# 1\\n# 2\\n# 3\\n# 4', 'for i in range(5):\\n    # if i == 2: continue   # 这种写法也支持\\n    if i == 2:\\n        continue\\n    print(i)\\n\\n# 0\\n# 1\\n# 3\\n# 4', 'for i in range(5):\\n    if i == 2:\\n        pass  # 暂不处理\\n    print(i)\\n\\n# 0\\n# 1\\n# 2\\n# 3\\n# 4', \"strings = ['a', 'as', 'bat', 'car', 'haha', 'python']\\n[x.upper() for x in strings if len(x) > 2]\\n# ['BAT', 'CAR', 'HAHA', 'PYTHON']\", \"# 集合推导式\\nstrings = ['a', 'as', 'bat', 'car', 'haha', 'python']\\n\\nunique_lengths = {len(x) for x in strings}\\nprint(unique_lengths)  # {1, 2, 3, 4, 6}\", '# 字典推导式\\nnumbers = [1, 2, 3, 4]\\nsquares_dict = {num: num ** 2 for num in numbers}\\nprint(squares_dict)  # {1: 1, 2: 4, 3: 9, 4: 16}\\n\\n# 原始字典，值为字符串类型\\noriginal = {\\'Alili\\': \\'Female\\', \\'Bomm\\': \\'Male\\', \\'Charlo\\': \\'Male\\', \\n            \\'Daisy\\': \\'Female\\'}\\n# 保留 \"Male\" 性别且键名以 \"B\" 开头的项\\nfiltered = {\\n    name: gender\\n    for name, gender in original.items()\\n    if gender == \\'Male\\' and name.startswith(\\'B\\')}\\nprint(filtered)  # {\\'Bomm\\': \\'Male\\'}\\n# 给定字典是 {字段名: 值}，反转它成 {值: 字段名} 形式\\ninfo = {\\'name\\': \\'Alili\\', \\'age\\': 25, \\'city\\': \\'New York\\'}\\nreversed_dict = {value: key for key, value in info.items()}\\nprint(reversed_dict)\\n# {\\'Alili\\': \\'name\\', 25: \\'age\\', \\'New York\\': \\'city\\'}', \"s = ['1', 'as', 'bat', 'god', 'boom', 'python']\\n\\nunique_lens = {len(x) for x in s}\\nprint(unique_lens)  # {1, 2, 3, 4, 6}\\n\\nunique_lens_b = set(map(len, s))  \\nprint(unique_lens_b)  # {1, 2, 3, 4, 6}\\n\\n# 构建一个字典推导式,创建一个字符串的查找映射表以确定它在列表中的位置\\nidx_mapping = {val : index for index, val in enumerate(s)}\\nprint(idx_mapping)\\n# {'1': 0, 'as': 1, 'bat': 2, 'god': 3, 'boom': 4, 'python': 5}\", \"all_data = [['Johnn', 'Emly', 'Mikhael', 'Marny', 'Steven'], ['Marian', 'Juany', 'Javieru', 'Natalia', 'Pilar']]\", \"names_of_interest = []\\nfor names in all_data:\\n    enough_es = [name for name in names if name.count('e') > 1]\\n    names_of_interest.extend(enough_es)\\nnames_of_interest  # ['Steven']\", \"result = [name for names in all_data for name in names if name.count('e') > 1]\\nprint(result)   # ['Steven']\", '# try-except\\n\\ndef divide(a, b):\\n    try:\\n        result = a / b\\n    except ZeroDivisionError as e:\\n        print(\"错误：除数为0！\")\\n        return None\\n    else:\\n        print(\"除法运算成功。\")\\n        return result\\n\\nres = divide(10, 2)\\nprint(\"结果：\", res)\\n# 除法运算成功。\\n# 结果： 5.0\\nres = divide(5, 0)\\nprint(\"结果：\", res)\\n# 错误：除数为0！\\n# 结果： None', 'def divide_b(a, b):\\n    result = None  # 先在函数开始处定义一个默认值，避免局部变量未定义\\n\\n    try:\\n        result = a / b\\n    except ZeroDivisionError:\\n        print(\"错误：除数不能为 0！\")\\n    except TypeError:\\n        print(\"错误：类型不匹配，无法进行除法运算！\")\\n    finally:\\n        # finally 块中的代码无论是否发生异常都会被执行\\n        if result is not None:\\n            # 如果 result 在 try 中成功被赋值，则返回它\\n            return result\\n        else:\\n            # 如果 result 仍是 None，说明出现了异常或其他问题\\n            print(f\"无法正常计算 {a} 除以 {b}\")\\n            return None\\n\\nprint(divide_b(4,2))\\n# 2.0\\n\\nprint(divide_b(2,\\'a\\'))\\n# 错误：类型不匹配，无法进行除法运算！\\n# 无法正常计算 2 除以 a\\n# None', 'def divide(a, b):\\n    if b == 0:\\n        raise ZeroDivisionError(\"除数不能为零\")\\n    return a / b\\n\\ntry:\\n    result = divide(10, 0)\\nexcept ZeroDivisionError as e:\\n    print(f\"错误: {e}\")\\n# 错误: 除数不能为零', 'nums = [1, 2, 3]\\n\\nassert isinstance(nums, list) and len(nums) > 0, \"数据必须是非空列表\"\\n\\nprint(nums)  # assert 语句通过\\n\\nassert isinstance(nums, list) and len(nums) > 3, \"数据必须是非空列表且包含不少于4个元素\"\\nprint(nums)  # AssertionError: 数据必须是非空列表且包含不少于4个元素', '# 返回一个或多个变量(通常是一个元组)\\ndef min_and_max(numbers):\\n    \"\"\"返回给定列表的最小值和最大值\"\"\"\\n    return min(numbers), max(numbers)\\nnums = [3, 1, 5, 2, 4]\\nprint(type(min_and_max(nums)))    # <class \\'tuple\\'>\\nlowest, highest = min_and_max(nums)\\nprint(lowest, highest)  # 输出: 1 5\\n\\n# 没有return\\ndef do_nothing(): pass\\nresult = do_nothing()\\nprint(result)  # None\\n\\ndef my_function(x, y, z=1.5):  \\n    if z > 1: return z * (x + y)\\n    else: return z / (x + y)\\n# 使用\\nprint(my_function(1,2))  # 按照定义时的参数顺序来传递值\\n# 4.5\\nprint(my_function(z=3,x=2,y=4))  # 显式地通过参数名来传递值，顺序随意\\n# 18', 'def greet(name, message):\\n    print(f\"{message}, {name}!\")\\n\\ngreet(\"Python\", \"Hello\")  # Hello, Python! \\n# 按顺序传递: name=\"Python\", message=\"Hello\"', 'def greet(name, message):\\n    print(f\"{message}, {name}!\")\\n\\n# 使用关键字参数，顺序随意\\ngreet(message=\"Hi\", name=\"Python\") # Hi, Python!', 'def greet(name, message=\"Hello\"):\\n    print(f\"{message}, {name}!\")\\n\\n# 只传name，message使用默认值\"Hello\"\\ngreet(\"Charlo\")  # HHello, Charlo!\\n# 同时传递两个参数\\ngreet(\"Daissy\", \"Hi\")  # Hi, Daissy!', 'def add_numbers(*args):\\n    total = 0\\n    for num in args:\\n        total += num\\n    return total\\n\\nprint(add_numbers(1, 2, 3))       # 6\\nprint(add_numbers(10, 20, 30, 5)) # 65', 'def build_profile(first_name, last_name, **kwargs):\\n    profile = {\"first_name\": first_name, \"last_name\": last_name}\\n    # 将额外的关键字参数更新到profile字典中\\n    for key, value in kwargs.items():\\n        profile[key] = value\\n    return profile\\n\\nuser_profile = build_profile(\"Alili\", \"Smith\", location=\"New York\", age=30, hobby=\"Reading\")\\nprint(user_profile)\\n# {\\'first_name\\': \\'Alili\\', \\'last_name\\': \\'Smith\\', \\'location\\': \\'New York\\', \\'age\\': 30, \\'hobby\\': \\'Reading\\'}\\n\\n# 在这个示例中，除了 first_name 和 last_name 外，\\n# 任何其他的关键字参数（location=\"New York\", age=30, hobby=\"Reading\"）都会被聚合到 kwargs 这个字典里。', 'def show_info(a, b, c):\\n    print(a, b, c)\\n\\ndata = {\"a\": 1, \"b\": 2, \"c\": 3}\\nshow_info(**data)  # 等价于 show_info(a=1, b=2, c=3)', '# 将列表中每个数值平方\\nnumbers = [1, 2, 3, 4]\\nsquared = list(map(lambda x: x**2, numbers))\\nprint(squared)  # 输出: [1, 4, 9, 16]\\n\\n# lambda 语句 等价于  fun_square\\ndef fun_square(x):\\n    return x ** 2\\nsquared_b = list(map(fun_square, numbers))\\nprint(squared_b)  # 输出: [1, 4, 9, 16]\\n    \\n# squared_c = [x ** 2 for x in numbers]', 'def add_nums(a, b):\\n    return a + b', 'add_five = lambda y: add_nums(5, y)', 'from functools import partial\\nadd_five = partial(add_nums, 5)\\nprint(add_five)\\n# functools.partial(<function add_nums at 0x00000222C2976B90>, 5)\\nprint(add_five(1)) \\n# 6', 'a = None\\ndef bind_a_variable():\\n    global a\\n    a = []\\nbind_a_variable()\\nprint(a)  # []', 'def outer():\\n    def inner():\\n        print(\"这是内部函数\")\\n    print(\"调用内部函数之前\")\\n    inner()\\nouter()\\n\\n# 调用内部函数之前\\n# 这是内部函数', 'def make_multiplier(n):\\n    def multiplier(x):\\n        return x * n\\n    return multiplier\\n\\ntimes2 = make_multiplier(2)\\nprint(times2(5))  # 10', '# 打开一个文件\\nf = open(\"example.txt\", \"w\")\\nprint(\"文件名: \", f.name)  # 文件名:  example.txt\\nprint(\"是否已关闭 : \", f.closed)  # 是否已关闭 :  False\\nprint(\"访问模式 : \", f.mode)  # 访问模式 :  w\\nf.close()', '# open()  close\\nf = open(\"example.txt\", mode=\"r\", encoding=\"utf-8\")  # 打开文本文件\\ncontent = f.read()\\nf.close()  # 操作完毕后，务必手动关闭', 'with open(\"example.txt\", \"r\", encoding=\"utf-8\") as f:\\n    content = f.read()\\n    # 在这里可以对 content 做各种处理\\n\\n# with 块结束后，文件会自动关闭，无需手动 f.close()', '# 写入\\nf = open(\"example.txt\", \"w\", encoding=\"utf-8\")\\nf.write(\"这是写入文本文件的第一行\\\\n\")\\nf.write(\"这是第二行\\\\n\")\\nf.close()\\n\\n# 按行读取 \\nwith open(\"example.txt\", \"r\", encoding=\"utf-8\") as f:\\n    for line in f:\\n        line = line.strip()  # 去掉行末尾的换行符或空白\\n        print(line)\\n# 这是写入文本文件的第一行\\n# 这是第二行\\n\\n# line.strip() 去除两端的空白字符，包括 \\\\n、空格等。\\n# 如果只想去除换行符，也可用 line.rstrip(\"\\\\n\")。', 'import json\\ndata = {\\n    \"name\": \"Alili\",\\n    \"age\": 25,\\n    \"skills\": [\"Python\", \"Data Analysis\"]}\\n\\n# 写入JSON文件\\nwith open(\"data.json\", \"w\", encoding=\"utf-8\") as f:\\n    json.dump(data, f, ensure_ascii=False, indent=4)\\n\\n# 读取JSON文件\\nwith open(\"data.json\", \"r\", encoding=\"utf-8\") as f:\\n    loaded_data = json.load(f)\\n\\nprint(loaded_data)\\n# {\\'name\\': \\'Alili\\', \\'age\\': 25, \\'skills\\': [\\'Python\\', \\'Data Analysis\\']}\\n\\n# ensure_ascii=False 可以在写入 JSON 时保留非 ASCII 字符（如中文），避免出现 \\\\uXXXX 形式。\\n# indent=4 表示写入时缩进 4 个空格，方便阅读。', 'def count_up_to(max):\\n    count = 1\\n    while count <= max:\\n        yield count  # 返回当前计数，并暂停函数状态\\n        count += 1\\n\\n# 使用生成器函数\\ncounter = count_up_to(3)\\n\\nprint(next(counter))  # 1\\nprint(next(counter))  # 2\\nprint(next(counter))  # 3\\n# print(next(counter))  # 会引发 StopIteration', '# 创建一个生成器表达式\\nsquares_gen = (x**2 for x in range(1, 4))\\n\\nprint(next(squares_gen))  # 1\\nprint(next(squares_gen))  # 4\\nprint(next(squares_gen))  # 9\\n# print(next(squares_gen))  # 会引发 StopIteration', 'def fibonacci(n):\\n    a, b = 0, 1\\n    for _ in range(n):\\n        yield a\\n        a, b = b, a + b\\n\\n# 创建一个Fibonacci生成器\\nfib_gen = fibonacci(5)\\n\\nfor num in fib_gen:\\n    print(num)\\n\\n# 0\\n# 1\\n# 1\\n# 2\\n# 3', '# 创建一个生成器表达式，生成1到5的立方\\ncubes_gen = (x**3 for x in range(1, 6))\\n\\nfor cube in cubes_gen:\\n    print(cube)\\n# 1\\n# 8\\n# 27\\n# 64\\n# 125', '# 使用生成器函数生成平方数\\n\\ndef generate_squares(n):\\n    for x in range(1, n + 1):\\n        yield x**2\\n\\nsquares = generate_squares(5)\\n\\nfor square in squares:\\n    print(square)\\n\\n# 1\\n# 4\\n# 9\\n# 16\\n# 25', 'def echo():\\n    while True:\\n        value = yield\\n        print(f\"Echo: {value}\")\\n\\n# 创建生成器\\ne = echo()\\nnext(e)  # 启动生成器\\n\\n# 发送数据\\ne.send(\"Hello\")  # Echo: Hello\\ne.send(\"World\")  # Echo: World', 'def generator():\\n    try:\\n        yield 1\\n        yield 2\\n        yield 3\\n    except GeneratorExit:\\n        print(\"Generator closed.\")\\n\\ngen = generator()\\nprint(next(gen))  # 1\\ngen.close()      # Generator closed.', \"import itertools\\nfirst_letter = lambda x: x[0]\\nnames = ['Aln', 'Ada', 'Wes', 'Wi', 'Albe', 'Sten']\\nfor letter, names in itertools.groupby(names, first_letter):\\n    print(letter, list(names)) # names is a generator\\n\\n# A ['Aln', 'Ada']\\n# W ['Wes', 'Wi']\\n# A ['Albe']\\n# S ['Sten']\", \"# 获取迭代器\\n# 可以使用内置函数 iter() 将可迭代对象转换为迭代器。\\n# 创建一个列表\\nfruits = ['apple', 'banana', 'cherry']\\n# 获取列表的迭代器\\nfruits_iterator = iter(fruits)\\n# 使用 next() 获取元素\\nprint(next(fruits_iterator))  # apple\\nprint(next(fruits_iterator))  # banana\\nprint(next(fruits_iterator))  # cherry\\n# 再调用 next() 会引发 StopIteration 异常\\n# print(next(fruits_iterator))  # 会引发 StopIteration\", \"# for 循环内部使用迭代器机制，自动处理 StopIteration 异常。\\nfruits = ['apple', 'banana', 'cherry']\\nfor fruit in fruits:\\n    print(fruit)\\n# apple\\n# banana\\n# cherry\", 'class MyIterator:\\n    def __init__(self, start, end):\\n        self.current = start\\n        self.end = end\\n    def __iter__(self):\\n        return self  # 迭代器返回自身\\n    def __next__(self):\\n        if self.current >= self.end:\\n            raise StopIteration  # 没有更多元素时引发异常\\n        self.current += 1\\n        return self.current - 1\\n# 使用自定义迭代器\\nmy_iter = MyIterator(1, 4)\\nfor num in my_iter:\\n    print(num)  # 1 2 3', '# 创建一个简单的迭代器\\n\\nclass Countdown:\\n    def __init__(self, start):\\n        self.current = start\\n\\n    def __iter__(self):\\n        return self\\n\\n    def __next__(self):\\n        if self.current <= 0:\\n            raise StopIteration\\n        self.current -= 1\\n        return self.current\\n\\n# 使用迭代器\\nfor number in Countdown(3):\\n    print(number)\\n\\n# 2\\n# 1\\n# 0', '# 使用生成器表达式筛选偶数\\n\\nnumbers = range(1, 11)\\nevens_gen = (x for x in numbers if x % 2 == 0)\\n\\nfor even in evens_gen:\\n    print(even)\\n\\n# 2\\n# 4\\n# 6\\n# 8\\n# 10', 'class Person:\\n    \"\"\"代表一个人的类\"\"\"\\n    def __init__(self, name, age):\\n        # __init__ 是构造方法，用于初始化对象属性\\n        self.name = name\\n        self.age = age\\n    def greet(self):\\n        # self 是对实例自身的引用，在定义实例方法时必须作为第一个参数\\n        print(f\"Hello, I am {self.name}, and I\\'m {self.age} years old.\")', 'person1 = Person(\"Alili\", 25)\\nperson2 = Person(\"Bomm\", 30)\\n\\nperson1.greet()  # Hello, I am Alili, and I\\'m 25 years old.\\nperson2.greet()  # Hello, I am Bomm, and I\\'m 30 years old.', 'class Car:\\n    # 类属性\\n    wheels = 4\\n    def __init__(self, brand, model):\\n        # 实例属性\\n        self.brand = brand\\n        self.model = model\\n\\ncar1 = Car(\"车a\", \"x-a\")\\ncar2 = Car(\"车b\", \"x-b\")\\n\\nprint(car1.wheels, car2.wheels)  # 都是 4（共享）\\nprint(car1.brand, car2.brand)    # 车a, 车b（不同）', 'class MyClass:\\n    count = 0\\n\\n    def __init__(self):\\n        MyClass.count += 1\\n\\n    @classmethod\\n    def how_many(cls):\\n        return cls.count\\n\\nx1 = MyClass()\\nx2 = MyClass()\\nprint(MyClass.how_many())  # 2', 'class MathHelper:\\n    @staticmethod\\n    def add(a, b):\\n        return a + b\\n\\nprint(MathHelper.add(3, 4))  # 7', '# 自定义一个简单的类，为其实现 __str__ 和 __len__。\\n\\nclass MyList:\\n    def __init__(self, items):\\n        self.items = items\\n\\n    def __str__(self):\\n        return f\"MyList: {self.items}\"\\n\\n    def __len__(self):\\n        return len(self.items)\\n\\nlst = MyList([4, 2, 3])\\nprint(lst)         # MyList: [4, 2, 3]\\nprint(len(lst))    # 3', '#  练习1：定义一个类描述数字时钟。 \\n\\nfrom time import sleep\\nclass Clock(object):\\n    \"\"\"数字时钟\"\"\"\\n\\n    def __init__(self, hour=0, minute=0, second=0):\\n        \"\"\"初始化方法\\n        :param hour: 时\\n        :param minute: 分\\n        :param second: 秒\\n        \"\"\"\\n        self._hour = hour\\n        self._minute = minute\\n        self._second = second\\n\\n    def run(self):\\n        \"\"\"走字\"\"\"\\n        self._second += 1\\n        if self._second == 60:\\n            self._second = 0\\n            self._minute += 1\\n            if self._minute == 60:\\n                self._minute = 0\\n                self._hour += 1\\n                if self._hour == 24:\\n                    self._hour = 0\\n\\n    def show(self):\\n        \"\"\"显示时间\"\"\"\\n        return \\'%02d:%02d:%02d\\' % \\\\\\n               (self._hour, self._minute, self._second)\\n\\n\\nclock = Clock(23,54,58)\\nwhile True:\\n    print(clock.show())\\n    sleep(1)\\n    clock.run()', '#  练习1：定义一个类描述数字时钟。 \\n\\nfrom time import sleep\\nclass Clock(object):\\n    \"\"\"数字时钟\"\"\"\\n\\n    def __init__(self, hour=0, minute=0, second=0):\\n        \"\"\"初始化方法\\n        :param hour: 时\\n        :param minute: 分\\n        :param second: 秒\\n        \"\"\"\\n        self._hour = hour\\n        self._minute = minute\\n        self._second = second\\n\\n    def run(self):\\n        \"\"\"走字\"\"\"\\n        self._second += 1\\n        if self._second == 60:\\n            self._second = 0\\n            self._minute += 1\\n            if self._minute == 60:\\n                self._minute = 0\\n                self._hour += 1\\n                if self._hour == 24:\\n                    self._hour = 0\\n\\n    def show(self):\\n        \"\"\"显示时间\"\"\"\\n        return \\'%02d:%02d:%02d\\' % \\\\\\n               (self._hour, self._minute, self._second)\\n\\n\\n# clock = Clock(23,54,58)\\n# while True:\\n#     print(clock.show())\\n#     sleep(1)\\n#     clock.run()', '# 练习2：定义一个类描述平面上的点并提供移动点和计算到另一个点距离的方法。\\nfrom math import sqrt\\n\\nclass Point(object):\\n\\n    def __init__(self, x=0, y=0):\\n        \"\"\"初始化方法\\n        \\n        :param x: 横坐标\\n        :param y: 纵坐标\\n        \"\"\"\\n        self.x = x\\n        self.y = y\\n\\n    def move_to(self, x, y):\\n        \"\"\"移动到指定位置\\n        \\n        :param x: 新的横坐标\\n        \"param y: 新的纵坐标\\n        \"\"\"\\n        self.x = x\\n        self.y = y\\n\\n    def move_by(self, dx, dy):\\n        \"\"\"移动指定的增量\\n        \\n        :param dx: 横坐标的增量\\n        \"param dy: 纵坐标的增量\\n        \"\"\"\\n        self.x += dx\\n        self.y += dy\\n\\n    def distance_to(self, other):\\n        \"\"\"计算与另一个点的距离\\n        \\n        :param other: 另一个点\\n        \"\"\"\\n        dx = self.x - other.x\\n        dy = self.y - other.y\\n        return sqrt(dx ** 2 + dy ** 2)\\n\\n    def __str__(self):\\n        return \\'(%s, %s)\\' % (str(self.x), str(self.y))\\n\\n\\np1 = Point(4, 5)\\np2 = Point()\\nprint(p1)\\nprint(p2)\\np2.move_by(-1, 3)\\nprint(p2)\\nprint(p1.distance_to(p2))\\n\\n# (4, 5)\\n# (0, 0)\\n# (-1, 3)\\n# 5.385164807134504', 'def decorator(func):\\n    def wrapper():\\n        print(\"Before function call\")\\n        func()  # 调用原始函数\\n        print(\"After function call\")\\n    return wrapper\\n\\n@decorator  # 等价于 func = decorator(func)\\ndef say_hello():\\n    print(\"Hello!\")\\n\\nsay_hello()  \\n# Before function call\\n# Hello!\\n# After function call', 'class OpTest:\\n    \"\"\"访问可见性简单测试\"\"\"\\n    def __init__(self, insA):\\n        self.__insA = insA\\n    def __qst(self):\\n        print(self.__insA)\\n        print(\"__qst\")\\n\\ndef main():\\n    test = OpTest(\\'Hello\\')\\n    # test.__qst()\\n    # # AttributeError: \\'OpTest\\' object has no attribute \\'__qst\\'\\n    print(test.__qst)\\n    # AttributeError: \\'OpTest\\' object has no attribute \\'__qst\\'\\nmain()', 'class OpTest:\\n    \"\"\"访问可见性简单测试\"\"\"\\n    \\n    def __init__(self, insA):\\n        self.__insA = insA\\n    \\n    def __qst(self):\\n        print(self.__insA)\\n        print(\"__qst\")\\n\\ndef main():\\n    test = OpTest(\\'Hello\\')\\n    \\n    test._OpTest__qst()\\n    print(test._OpTest__insA)\\n    \\nmain()\\n\\n# Hello\\n# __qst\\n# Hello', '# @property包装器来包装getter和setter方法，使得对属性的访问既安全又方便\\nclass Person(object):\\n\\n    def __init__(self, name, age):\\n        self._name = name\\n        self._age = age\\n\\n    # 访问器 - getter方法\\n    @property\\n    def name(self):\\n        return self._name\\n\\n    # 访问器 - getter方法\\n    @property\\n    def age(self):\\n        return self._age\\n\\n    # 修改器 - setter方法\\n    @age.setter\\n    def age(self, age):\\n        self._age = age\\n\\n    def play(self):\\n        if self._age <= 16:\\n            print(f\"{self.name}在玩这\")\\n        else:\\n            print(f\"{self.name}在玩那\")\\n\\nperson = Person(\\'abc\\', 12)\\nperson.play()\\nperson.age = 22\\nperson.play()\\n# abc在玩这\\n# abc在玩那\\n\\n# person.name = \\'另一个人\\'  # AttributeError: can\\'t set attribute\\nperson.age = 10000\\nprint(person.age)  # 10000', 'class Person(object):\\n    # 限定Person对象只能绑定_name, _age和_gender属性\\n    __slots__ = (\\'_name\\', \\'_age\\', \\'_gender\\')\\n    def __init__(self, name, age):\\n        self._name = name\\n        self._age = age\\n    @property\\n    def name(self):\\n        return self._name\\n    @property\\n    def age(self):\\n        return self._age\\n    @age.setter\\n    def age(self, age):\\n        self._age = age\\n    def play(self):\\n        if self._age <= 16:\\n            print(f\"{self.name}在玩\")\\n        else:\\n            print(f\"{self.name}在睡觉\")\\n\\nperson = Person(\\'aaa\\', 22)\\nperson.play()\\nperson._gender = \\'男\\'\\n# aaa在睡觉\\n\\n# # AttributeError: \\'Person\\' object has no attribute \\'_is_bad\\'\\n# person._is_bad = True', \"from math import sqrt\\n\\n\\nclass Triangle(object):\\n\\n    def __init__(self, a, b, c):\\n        self._a = a\\n        self._b = b\\n        self._c = c\\n\\n    @staticmethod\\n    def is_valid(a, b, c):\\n        return a + b > c and b + c > a and a + c > b\\n\\n    def perimeter(self):\\n        return self._a + self._b + self._c\\n\\n    def area(self):\\n        half = self.perimeter() / 2\\n        return sqrt(half * (half - self._a) *\\n                    (half - self._b) * (half - self._c))\\n\\ndef main():\\n    a, b, c = 10, 8, 3\\n    # 静态方法和类方法都是通过给类发消息来调用的\\n    if Triangle.is_valid(a, b, c):\\n        t = Triangle(a, b, c)\\n        print(t.perimeter())\\n        # 也可以通过给类发消息来调用对象方法但是要传入接收消息的对象作为参数\\n        # print(Triangle.perimeter(t))\\n        print(t.area())\\n        # print(Triangle.area(t))\\n    else:\\n        print('无法构成三角形.')\\n\\nmain()\\n# 21\\n# 9.921567416492215\", 'from time import time, localtime, sleep\\n\\n\\nclass Clock(object):\\n    \"\"\"数字时钟\"\"\"\\n\\n    def __init__(self, hour=0, minute=0, second=0):\\n        self._hour = hour\\n        self._minute = minute\\n        self._second = second\\n\\n    @classmethod\\n    def now(cls):\\n        ctime = localtime(time())\\n        return cls(ctime.tm_hour, ctime.tm_min, ctime.tm_sec)\\n\\n    def run(self):\\n        \"\"\"走字\"\"\"\\n        self._second += 1\\n        if self._second == 60:\\n            self._second = 0\\n            self._minute += 1\\n            if self._minute == 60:\\n                self._minute = 0\\n                self._hour += 1\\n                if self._hour == 24:\\n                    self._hour = 0\\n\\n    def show(self):\\n        \"\"\"显示时间\"\"\"\\n        return \\'%02d:%02d:%02d\\' % \\\\\\n               (self._hour, self._minute, self._second)\\n\\n# 通过类方法创建对象并获取系统时间\\nclock = Clock.now()\\nwhile True:\\n    print(clock.show())\\n    sleep(1)\\n    clock.run()', 'from time import time, localtime, sleep\\n\\n\\nclass Clock(object):\\n    \"\"\"数字时钟\"\"\"\\n\\n    def __init__(self, hour=0, minute=0, second=0):\\n        self._hour = hour\\n        self._minute = minute\\n        self._second = second\\n\\n    @classmethod\\n    def now(cls):\\n        ctime = localtime(time())\\n        return cls(ctime.tm_hour, ctime.tm_min, ctime.tm_sec)\\n\\n    def run(self):\\n        \"\"\"走字\"\"\"\\n        self._second += 1\\n        if self._second == 60:\\n            self._second = 0\\n            self._minute += 1\\n            if self._minute == 60:\\n                self._minute = 0\\n                self._hour += 1\\n                if self._hour == 24:\\n                    self._hour = 0\\n\\n    def show(self):\\n        \"\"\"显示时间\"\"\"\\n        return \\'%02d:%02d:%02d\\' % \\\\\\n               (self._hour, self._minute, self._second)\\n\\n# # 通过类方法创建对象并获取系统时间\\n# clock = Clock.now()\\n# while True:\\n#     print(clock.show())\\n#     sleep(1)\\n#     clock.run()', 'class Person(object):\\n    \"\"\"人\"\"\"\\n    def __init__(self, name, age):\\n        self._name = name\\n        self._age = age\\n        \\n    @property\\n    def name(self):\\n        return self._name\\n\\n    @property\\n    def age(self):\\n        return self._age\\n\\n    @age.setter\\n    def age(self, age):\\n        self._age = age\\n\\n    def play(self): print(f\"{self.name}玩疯了\")\\n    def watch_tv(self):\\n        if self._age >= 18: print(f\"{self.name}看电视睡着了\")\\n        else: print(f\"{self.name}不看电视\")\\n\\nclass Student(Person):\\n    \"\"\"学生\"\"\"\\n    def __init__(self, name, age, grade):\\n        super().__init__(name, age)\\n        self._grade = grade\\n\\n    @property\\n    def grade(self):\\n        return self._grade\\n\\n    @grade.setter\\n    def grade(self, grade):\\n        self._grade = grade\\n\\n    def study(self, course): print(f\"{self._grade}的{self._name}在学{course}\")\\n\\nclass Teacher(Person):\\n    \"\"\"老师\"\"\"\\n    def __init__(self, name, age, title):\\n        super().__init__(name, age)\\n        self._title = title\\n\\n    @property\\n    def title(self):\\n        return self._title\\n\\n    @title.setter\\n    def title(self, title):\\n        self._title = title\\n        \\n    def teach(self, course): print(f\"{self._name}{self._title}在授课{course}\")\\n\\nstu = Student(\\'学生a\\', 15, \\'初三\\')\\nstu.study(\\'数学\\')\\nstu.watch_tv()\\nt = Teacher(\\'无敌\\', 49, \\'程序员\\')\\nt.teach(\\'Python如何打印helloworld\\')\\nt.watch_tv()\\n\\n# 初三的学生a在学数学\\n# 学生a不看电视\\n# 无敌程序员在授课Python如何打印helloworld\\n# 无敌看电视睡着了', 'from abc import ABCMeta, abstractmethod\\n\\nclass Pet(object, metaclass=ABCMeta):\\n    \"\"\"宠物\"\"\"\\n    def __init__(self, nickname):\\n        self._nickname = nickname\\n    @abstractmethod\\n    def make_voice(self):\\n        \"\"\"发出声音\"\"\"\\n        pass\\n\\nclass Dog(Pet):\\n    \"\"\"狗\"\"\"\\n    def make_voice(self):\\n        print(\\'%s: 汪汪汪...\\' % self._nickname)\\n\\nclass Cat(Pet):\\n    \"\"\"猫\"\"\"\\n    def make_voice(self):\\n        print(\\'%s: 喵...喵...\\' % self._nickname)\\n\\npets = [Dog(\\'狗a\\'), Cat(\\'猫a\\'), Dog(\\'另一只狗\\')]\\nfor pet in pets:\\n    pet.make_voice()\\n\\n# 狗a: 汪汪汪...\\n# 猫a: 喵...喵...\\n# 另一只狗: 汪汪汪...', \"from abc import ABCMeta, abstractmethod\\nclass Pet(object, metaclass=ABCMeta):\\n    def __init__(self, nickname):\\n        self._nickname = nickname\\n    @abstractmethod\\n    def make_voice(self): pass\\nclass Dog(Pet):\\n    def make_voice(self): print('%s: 汪汪汪...' % self._nickname)\\nclass Cat(Pet):\\n    def make_voice(self): print('%s: 喵...喵...' % self._nickname)\\n\\npets = [Dog('狗a'), Cat('猫a'), Dog('另一只狗')]\\nfor pet in pets:\\n    pet.make_voice()\\n# 狗a: 汪汪汪...\\n# 猫a: 喵...喵...\\n# 另一只狗: 汪汪汪...\", '# 综合案例1：奥特曼打小怪兽。\\n\\nfrom abc import ABCMeta, abstractmethod\\nfrom random import randint, randrange\\n\\nclass Fighter(object, metaclass=ABCMeta):\\n    \"\"\"战斗者\"\"\"\\n    # 通过__slots__魔法限定对象可以绑定的成员变量\\n    __slots__ = (\\'_name\\', \\'_hp\\')\\n    def __init__(self, name, hp):\\n        \"\"\"初始化方法\\n        :param name: 名字\\n        :param hp: 生命值\\n        \"\"\"\\n        self._name = name\\n        self._hp = hp\\n    @property\\n    def name(self):\\n        return self._name\\n    @property\\n    def hp(self):\\n        return self._hp\\n    @hp.setter\\n    def hp(self, hp):\\n        self._hp = hp if hp >= 0 else 0\\n    @property\\n    def alive(self):\\n        return self._hp > 0\\n    @abstractmethod\\n    def attack(self, other):\\n        \"\"\"攻击\\n        :param other: 被攻击的对象\\n        \"\"\"\\n        pass\\n\\nclass Ultraman(Fighter):\\n    \"\"\"奥特曼\"\"\"\\n    __slots__ = (\\'_name\\', \\'_hp\\', \\'_mp\\')\\n    def __init__(self, name, hp, mp):\\n        \"\"\"初始化方法\\n        :param name: 名字\\n        :param hp: 生命值\\n        :param mp: 魔法值\\n        \"\"\"\\n        super().__init__(name, hp)\\n        self._mp = mp\\n    def attack(self, other):\\n        other.hp -= randint(15, 25)\\n    def huge_attack(self, other):\\n        \"\"\"究极必杀技(打掉对方至少50点或四分之三的血)\\n        :param other: 被攻击的对象\\n        :return: 使用成功返回True否则返回False\\n        \"\"\"\\n        if self._mp >= 50:\\n            self._mp -= 50\\n            injury = other.hp * 3 // 4\\n            injury = injury if injury >= 50 else 50\\n            other.hp -= injury\\n            return True\\n        else:\\n            self.attack(other)\\n            return False\\n    def magic_attack(self, others):\\n        \"\"\"魔法攻击\\n        :param others: 被攻击的群体\\n        :return: 使用魔法成功返回True否则返回False\\n        \"\"\"\\n        if self._mp >= 20:\\n            self._mp -= 20\\n            for temp in others:\\n                if temp.alive:\\n                    temp.hp -= randint(10, 15)\\n            return True\\n        else:\\n            return False\\n    def resume(self):\\n        \"\"\"恢复魔法值\"\"\"\\n        incr_point = randint(1, 10)\\n        self._mp += incr_point\\n        return incr_point\\n    def __str__(self):\\n        return \\'~~~%s奥特曼~~~\\\\n\\' % self._name + \\\\\\n            \\'生命值: %d\\\\n\\' % self._hp + \\\\\\n            \\'魔法值: %d\\\\n\\' % self._mp\\n\\nclass Monster(Fighter):\\n    \"\"\"小怪兽\"\"\"\\n    __slots__ = (\\'_name\\', \\'_hp\\')\\n    def attack(self, other):\\n        other.hp -= randint(10, 20)\\n    def __str__(self):\\n        return \\'~~~%s小怪兽~~~\\\\n\\' % self._name + \\\\\\n            \\'生命值: %d\\\\n\\' % self._hp\\n\\ndef is_any_alive(monsters):\\n    \"\"\"判断有没有小怪兽是活着的\"\"\"\\n    for monster in monsters:\\n        if monster.alive > 0:\\n            return True\\n    return False\\n\\ndef select_alive_one(monsters):\\n    \"\"\"选中一只活着的小怪兽\"\"\"\\n    monsters_len = len(monsters)\\n    while True:\\n        index = randrange(monsters_len)\\n        monster = monsters[index]\\n        if monster.alive > 0:\\n            return monster\\n\\ndef display_info(ultraman, monsters):\\n    \"\"\"显示奥特曼和小怪兽的信息\"\"\"\\n    print(ultraman)\\n    for monster in monsters:\\n        print(monster, end=\\'\\')\\n\\ndef main():\\n    u = Ultraman(\\'a\\', 1000, 120)\\n    m1 = Monster(\\'c1\\', 250)\\n    m2 = Monster(\\'c2\\', 500)\\n    m3 = Monster(\\'c3\\', 750)\\n    ms = [m1, m2, m3]\\n    fight_round = 1\\n    while u.alive and is_any_alive(ms):\\n        print(\\'========第%02d回合========\\' % fight_round)\\n        m = select_alive_one(ms)  # 选中一只小怪兽\\n        skill = randint(1, 10)   # 通过随机数选择使用哪种技能\\n        if skill <= 6:  # 60%的概率使用普通攻击\\n            print(\\'%s使用普通攻击打了%s.\\' % (u.name, m.name))\\n            u.attack(m)\\n            print(\\'%s的魔法值恢复了%d点.\\' % (u.name, u.resume()))\\n        elif skill <= 9:  # 30%的概率使用魔法攻击(可能因魔法值不足而失败)\\n            if u.magic_attack(ms):\\n                print(\\'%s使用了魔法攻击.\\' % u.name)\\n            else:\\n                print(\\'%s使用魔法失败.\\' % u.name)\\n        else:  # 10%的概率使用究极必杀技(如果魔法值不足则使用普通攻击)\\n            if u.huge_attack(m):\\n                print(\\'%s使用究极必杀技虐了%s.\\' % (u.name, m.name))\\n            else:\\n                print(\\'%s使用普通攻击打了%s.\\' % (u.name, m.name))\\n                print(\\'%s的魔法值恢复了%d点.\\' % (u.name, u.resume()))\\n        if m.alive > 0:  # 如果选中的小怪兽没有死就回击奥特曼\\n            print(\\'%s回击了%s.\\' % (m.name, u.name))\\n            m.attack(u)\\n        display_info(u, ms)  # 每个回合结束后显示奥特曼和小怪兽的信息\\n        fight_round += 1\\n    print(\\'\\\\n========战斗结束!========\\\\n\\')\\n    if u.alive > 0:\\n        print(\\'%s奥特曼胜利!\\' % u.name)\\n    else:\\n        print(\\'小怪兽胜利!\\')\\n\\n# 调用\\nmain()', '# 综合案例1：奥特曼打小怪兽。\\n\\nfrom abc import ABCMeta, abstractmethod\\nfrom random import randint, randrange\\n\\nclass Fighter(object, metaclass=ABCMeta):\\n    \"\"\"战斗者\"\"\"\\n    # 通过__slots__魔法限定对象可以绑定的成员变量\\n    __slots__ = (\\'_name\\', \\'_hp\\')\\n    def __init__(self, name, hp):\\n        \"\"\"初始化方法\\n        :param name: 名字\\n        :param hp: 生命值\\n        \"\"\"\\n        self._name = name\\n        self._hp = hp\\n    @property\\n    def name(self):\\n        return self._name\\n    @property\\n    def hp(self):\\n        return self._hp\\n    @hp.setter\\n    def hp(self, hp):\\n        self._hp = hp if hp >= 0 else 0\\n    @property\\n    def alive(self):\\n        return self._hp > 0\\n    @abstractmethod\\n    def attack(self, other):\\n        \"\"\"攻击\\n        :param other: 被攻击的对象\\n        \"\"\"\\n        pass\\n\\nclass Ultraman(Fighter):\\n    \"\"\"奥特曼\"\"\"\\n    __slots__ = (\\'_name\\', \\'_hp\\', \\'_mp\\')\\n    def __init__(self, name, hp, mp):\\n        \"\"\"初始化方法\\n        :param name: 名字\\n        :param hp: 生命值\\n        :param mp: 魔法值\\n        \"\"\"\\n        super().__init__(name, hp)\\n        self._mp = mp\\n    def attack(self, other):\\n        other.hp -= randint(15, 25)\\n    def huge_attack(self, other):\\n        \"\"\"究极必杀技(打掉对方至少50点或四分之三的血)\\n        :param other: 被攻击的对象\\n        :return: 使用成功返回True否则返回False\\n        \"\"\"\\n        if self._mp >= 50:\\n            self._mp -= 50\\n            injury = other.hp * 3 // 4\\n            injury = injury if injury >= 50 else 50\\n            other.hp -= injury\\n            return True\\n        else:\\n            self.attack(other)\\n            return False\\n    def magic_attack(self, others):\\n        \"\"\"魔法攻击\\n        :param others: 被攻击的群体\\n        :return: 使用魔法成功返回True否则返回False\\n        \"\"\"\\n        if self._mp >= 20:\\n            self._mp -= 20\\n            for temp in others:\\n                if temp.alive:\\n                    temp.hp -= randint(10, 15)\\n            return True\\n        else:\\n            return False\\n    def resume(self):\\n        \"\"\"恢复魔法值\"\"\"\\n        incr_point = randint(1, 10)\\n        self._mp += incr_point\\n        return incr_point\\n    def __str__(self):\\n        return \\'~~~%s奥特曼~~~\\\\n\\' % self._name + \\\\\\n            \\'生命值: %d\\\\n\\' % self._hp + \\\\\\n            \\'魔法值: %d\\\\n\\' % self._mp\\n\\nclass Monster(Fighter):\\n    \"\"\"小怪兽\"\"\"\\n    __slots__ = (\\'_name\\', \\'_hp\\')\\n    def attack(self, other):\\n        other.hp -= randint(10, 20)\\n    def __str__(self):\\n        return \\'~~~%s小怪兽~~~\\\\n\\' % self._name + \\\\\\n            \\'生命值: %d\\\\n\\' % self._hp\\n\\ndef is_any_alive(monsters):\\n    \"\"\"判断有没有小怪兽是活着的\"\"\"\\n    for monster in monsters:\\n        if monster.alive > 0:\\n            return True\\n    return False\\n\\ndef select_alive_one(monsters):\\n    \"\"\"选中一只活着的小怪兽\"\"\"\\n    monsters_len = len(monsters)\\n    while True:\\n        index = randrange(monsters_len)\\n        monster = monsters[index]\\n        if monster.alive > 0:\\n            return monster\\n\\ndef display_info(ultraman, monsters):\\n    \"\"\"显示奥特曼和小怪兽的信息\"\"\"\\n    print(ultraman)\\n    for monster in monsters:\\n        print(monster, end=\\'\\')\\n\\ndef main():\\n    u = Ultraman(\\'a\\', 1000, 120)\\n    m1 = Monster(\\'c1\\', 250)\\n    m2 = Monster(\\'c2\\', 500)\\n    m3 = Monster(\\'c3\\', 750)\\n    ms = [m1, m2, m3]\\n    fight_round = 1\\n    while u.alive and is_any_alive(ms):\\n        print(\\'========第%02d回合========\\' % fight_round)\\n        m = select_alive_one(ms)  # 选中一只小怪兽\\n        skill = randint(1, 10)   # 通过随机数选择使用哪种技能\\n        if skill <= 6:  # 60%的概率使用普通攻击\\n            print(\\'%s使用普通攻击打了%s.\\' % (u.name, m.name))\\n            u.attack(m)\\n            print(\\'%s的魔法值恢复了%d点.\\' % (u.name, u.resume()))\\n        elif skill <= 9:  # 30%的概率使用魔法攻击(可能因魔法值不足而失败)\\n            if u.magic_attack(ms):\\n                print(\\'%s使用了魔法攻击.\\' % u.name)\\n            else:\\n                print(\\'%s使用魔法失败.\\' % u.name)\\n        else:  # 10%的概率使用究极必杀技(如果魔法值不足则使用普通攻击)\\n            if u.huge_attack(m):\\n                print(\\'%s使用究极必杀技虐了%s.\\' % (u.name, m.name))\\n            else:\\n                print(\\'%s使用普通攻击打了%s.\\' % (u.name, m.name))\\n                print(\\'%s的魔法值恢复了%d点.\\' % (u.name, u.resume()))\\n        if m.alive > 0:  # 如果选中的小怪兽没有死就回击奥特曼\\n            print(\\'%s回击了%s.\\' % (m.name, u.name))\\n            m.attack(u)\\n        display_info(u, ms)  # 每个回合结束后显示奥特曼和小怪兽的信息\\n        fight_round += 1\\n    print(\\'\\\\n========战斗结束!========\\\\n\\')\\n    if u.alive > 0:\\n        print(\\'%s奥特曼胜利!\\' % u.name)\\n    else:\\n        print(\\'小怪兽胜利!\\')\\n\\n# 调用\\nmain()', '# 综合案例1：奥特曼打小怪兽。\\n\\nfrom abc import ABCMeta, abstractmethod\\nfrom random import randint, randrange\\n\\nclass Fighter(object, metaclass=ABCMeta):\\n    \"\"\"战斗者\"\"\"\\n    # 通过__slots__魔法限定对象可以绑定的成员变量\\n    __slots__ = (\\'_name\\', \\'_hp\\')\\n    def __init__(self, name, hp):\\n        \"\"\"初始化方法\\n        :param name: 名字\\n        :param hp: 生命值\\n        \"\"\"\\n        self._name = name\\n        self._hp = hp\\n    @property\\n    def name(self):\\n        return self._name\\n    @property\\n    def hp(self):\\n        return self._hp\\n    @hp.setter\\n    def hp(self, hp):\\n        self._hp = hp if hp >= 0 else 0\\n    @property\\n    def alive(self):\\n        return self._hp > 0\\n    @abstractmethod\\n    def attack(self, other):\\n        \"\"\"攻击\\n        :param other: 被攻击的对象\\n        \"\"\"\\n        pass\\n\\nclass Ultraman(Fighter):\\n    \"\"\"奥特曼\"\"\"\\n    __slots__ = (\\'_name\\', \\'_hp\\', \\'_mp\\')\\n    def __init__(self, name, hp, mp):\\n        \"\"\"初始化方法\\n        :param name: 名字\\n        :param hp: 生命值\\n        :param mp: 魔法值\\n        \"\"\"\\n        super().__init__(name, hp)\\n        self._mp = mp\\n    def attack(self, other):\\n        other.hp -= randint(15, 25)\\n    def huge_attack(self, other):\\n        \"\"\"究极必杀技(打掉对方至少50点或四分之三的血)\\n        :param other: 被攻击的对象\\n        :return: 使用成功返回True否则返回False\\n        \"\"\"\\n        if self._mp >= 50:\\n            self._mp -= 50\\n            injury = other.hp * 3 // 4\\n            injury = injury if injury >= 50 else 50\\n            other.hp -= injury\\n            return True\\n        else:\\n            self.attack(other)\\n            return False\\n    def magic_attack(self, others):\\n        \"\"\"魔法攻击\\n        :param others: 被攻击的群体\\n        :return: 使用魔法成功返回True否则返回False\\n        \"\"\"\\n        if self._mp >= 20:\\n            self._mp -= 20\\n            for temp in others:\\n                if temp.alive:\\n                    temp.hp -= randint(10, 15)\\n            return True\\n        else:\\n            return False\\n    def resume(self):\\n        \"\"\"恢复魔法值\"\"\"\\n        incr_point = randint(1, 10)\\n        self._mp += incr_point\\n        return incr_point\\n    def __str__(self):\\n        return \\'~~~%s奥特曼~~~\\\\n\\' % self._name + \\\\\\n            \\'生命值: %d\\\\n\\' % self._hp + \\\\\\n            \\'魔法值: %d\\\\n\\' % self._mp\\n\\nclass Monster(Fighter):\\n    \"\"\"小怪兽\"\"\"\\n    __slots__ = (\\'_name\\', \\'_hp\\')\\n    def attack(self, other):\\n        other.hp -= randint(10, 20)\\n    def __str__(self):\\n        return \\'~~~%s小怪兽~~~\\\\n\\' % self._name + \\\\\\n            \\'生命值: %d\\\\n\\' % self._hp\\n\\ndef is_any_alive(monsters):\\n    \"\"\"判断有没有小怪兽是活着的\"\"\"\\n    for monster in monsters:\\n        if monster.alive > 0:\\n            return True\\n    return False\\n\\ndef select_alive_one(monsters):\\n    \"\"\"选中一只活着的小怪兽\"\"\"\\n    monsters_len = len(monsters)\\n    while True:\\n        index = randrange(monsters_len)\\n        monster = monsters[index]\\n        if monster.alive > 0:\\n            return monster\\n\\ndef display_info(ultraman, monsters):\\n    \"\"\"显示奥特曼和小怪兽的信息\"\"\"\\n    print(ultraman)\\n    for monster in monsters:\\n        print(monster, end=\\'\\')\\n\\ndef main():\\n    u = Ultraman(\\'a\\', 1000, 120)\\n    m1 = Monster(\\'c1\\', 250)\\n    m2 = Monster(\\'c2\\', 500)\\n    m3 = Monster(\\'c3\\', 750)\\n    ms = [m1, m2, m3]\\n    fight_round = 1\\n    while u.alive and is_any_alive(ms):\\n        print(\\'========第%02d回合========\\' % fight_round)\\n        m = select_alive_one(ms)  # 选中一只小怪兽\\n        skill = randint(1, 10)   # 通过随机数选择使用哪种技能\\n        if skill <= 6:  # 60%的概率使用普通攻击\\n            print(\\'%s使用普通攻击打了%s.\\' % (u.name, m.name))\\n            u.attack(m)\\n            print(\\'%s的魔法值恢复了%d点.\\' % (u.name, u.resume()))\\n        elif skill <= 9:  # 30%的概率使用魔法攻击(可能因魔法值不足而失败)\\n            if u.magic_attack(ms):\\n                print(\\'%s使用了魔法攻击.\\' % u.name)\\n            else:\\n                print(\\'%s使用魔法失败.\\' % u.name)\\n        else:  # 10%的概率使用究极必杀技(如果魔法值不足则使用普通攻击)\\n            if u.huge_attack(m):\\n                print(\\'%s使用究极必杀技虐了%s.\\' % (u.name, m.name))\\n            else:\\n                print(\\'%s使用普通攻击打了%s.\\' % (u.name, m.name))\\n                print(\\'%s的魔法值恢复了%d点.\\' % (u.name, u.resume()))\\n        if m.alive > 0:  # 如果选中的小怪兽没有死就回击奥特曼\\n            print(\\'%s回击了%s.\\' % (m.name, u.name))\\n            m.attack(u)\\n        display_info(u, ms)  # 每个回合结束后显示奥特曼和小怪兽的信息\\n        fight_round += 1\\n    print(\\'\\\\n========战斗结束!========\\\\n\\')\\n    if u.alive > 0:\\n        print(\\'%s奥特曼胜利!\\' % u.name)\\n    else:\\n        print(\\'小怪兽胜利!\\')\\n\\n# 调用\\nmain()', '# 综合案例1：奥特曼打小怪兽。\\n\\nfrom abc import ABCMeta, abstractmethod\\nfrom random import randint, randrange\\n\\nclass Fighter(object, metaclass=ABCMeta):\\n    \"\"\"战斗者\"\"\"\\n    # 通过__slots__魔法限定对象可以绑定的成员变量\\n    __slots__ = (\\'_name\\', \\'_hp\\')\\n    def __init__(self, name, hp):\\n        \"\"\"初始化方法\\n        :param name: 名字\\n        :param hp: 生命值\\n        \"\"\"\\n        self._name = name\\n        self._hp = hp\\n    @property\\n    def name(self):\\n        return self._name\\n    @property\\n    def hp(self):\\n        return self._hp\\n    @hp.setter\\n    def hp(self, hp):\\n        self._hp = hp if hp >= 0 else 0\\n    @property\\n    def alive(self):\\n        return self._hp > 0\\n    @abstractmethod\\n    def attack(self, other):\\n        \"\"\"攻击\\n        :param other: 被攻击的对象\\n        \"\"\"\\n        pass\\n\\nclass Ultraman(Fighter):\\n    \"\"\"奥特曼\"\"\"\\n    __slots__ = (\\'_name\\', \\'_hp\\', \\'_mp\\')\\n    def __init__(self, name, hp, mp):\\n        \"\"\"初始化方法\\n        :param name: 名字\\n        :param hp: 生命值\\n        :param mp: 魔法值\\n        \"\"\"\\n        super().__init__(name, hp)\\n        self._mp = mp\\n    def attack(self, other):\\n        other.hp -= randint(15, 25)\\n    def huge_attack(self, other):\\n        \"\"\"究极必杀技(打掉对方至少50点或四分之三的血)\\n        :param other: 被攻击的对象\\n        :return: 使用成功返回True否则返回False\\n        \"\"\"\\n        if self._mp >= 50:\\n            self._mp -= 50\\n            injury = other.hp * 3 // 4\\n            injury = injury if injury >= 50 else 50\\n            other.hp -= injury\\n            return True\\n        else:\\n            self.attack(other)\\n            return False\\n    def magic_attack(self, others):\\n        \"\"\"魔法攻击\\n        :param others: 被攻击的群体\\n        :return: 使用魔法成功返回True否则返回False\\n        \"\"\"\\n        if self._mp >= 20:\\n            self._mp -= 20\\n            for temp in others:\\n                if temp.alive:\\n                    temp.hp -= randint(10, 15)\\n            return True\\n        else:\\n            return False\\n    def resume(self):\\n        \"\"\"恢复魔法值\"\"\"\\n        incr_point = randint(1, 10)\\n        self._mp += incr_point\\n        return incr_point\\n    def __str__(self):\\n        return \\'~~~%s奥特曼~~~\\\\n\\' % self._name + \\\\\\n            \\'生命值: %d\\\\n\\' % self._hp + \\\\\\n            \\'魔法值: %d\\\\n\\' % self._mp\\n\\nclass Monster(Fighter):\\n    \"\"\"小怪兽\"\"\"\\n    __slots__ = (\\'_name\\', \\'_hp\\')\\n    def attack(self, other):\\n        other.hp -= randint(10, 20)\\n    def __str__(self):\\n        return \\'~~~%s小怪兽~~~\\\\n\\' % self._name + \\\\\\n            \\'生命值: %d\\\\n\\' % self._hp\\n\\ndef is_any_alive(monsters):\\n    \"\"\"判断有没有小怪兽是活着的\"\"\"\\n    for monster in monsters:\\n        if monster.alive > 0:\\n            return True\\n    return False\\n\\ndef select_alive_one(monsters):\\n    \"\"\"选中一只活着的小怪兽\"\"\"\\n    monsters_len = len(monsters)\\n    while True:\\n        index = randrange(monsters_len)\\n        monster = monsters[index]\\n        if monster.alive > 0:\\n            return monster\\n\\ndef display_info(ultraman, monsters):\\n    \"\"\"显示奥特曼和小怪兽的信息\"\"\"\\n    print(ultraman)\\n    for monster in monsters:\\n        print(monster, end=\\'\\')\\n\\ndef main():\\n    u = Ultraman(\\'a\\', 1000, 120)\\n    m1 = Monster(\\'c1\\', 250)\\n    m2 = Monster(\\'c2\\', 500)\\n    m3 = Monster(\\'c3\\', 750)\\n    ms = [m1, m2, m3]\\n    fight_round = 1\\n    while u.alive and is_any_alive(ms):\\n        print(\\'========第%02d回合========\\' % fight_round)\\n        m = select_alive_one(ms)  # 选中一只小怪兽\\n        skill = randint(1, 10)   # 通过随机数选择使用哪种技能\\n        if skill <= 6:  # 60%的概率使用普通攻击\\n            print(\\'%s使用普通攻击打了%s.\\' % (u.name, m.name))\\n            u.attack(m)\\n            print(\\'%s的魔法值恢复了%d点.\\' % (u.name, u.resume()))\\n        elif skill <= 9:  # 30%的概率使用魔法攻击(可能因魔法值不足而失败)\\n            if u.magic_attack(ms):\\n                print(\\'%s使用了魔法攻击.\\' % u.name)\\n            else:\\n                print(\\'%s使用魔法失败.\\' % u.name)\\n        else:  # 10%的概率使用究极必杀技(如果魔法值不足则使用普通攻击)\\n            if u.huge_attack(m):\\n                print(\\'%s使用究极必杀技虐了%s.\\' % (u.name, m.name))\\n            else:\\n                print(\\'%s使用普通攻击打了%s.\\' % (u.name, m.name))\\n                print(\\'%s的魔法值恢复了%d点.\\' % (u.name, u.resume()))\\n        if m.alive > 0:  # 如果选中的小怪兽没有死就回击奥特曼\\n            print(\\'%s回击了%s.\\' % (m.name, u.name))\\n            m.attack(u)\\n        display_info(u, ms)  # 每个回合结束后显示奥特曼和小怪兽的信息\\n        fight_round += 1\\n    print(\\'\\\\n========战斗结束!========\\\\n\\')\\n    if u.alive > 0:\\n        print(\\'%s奥特曼胜利!\\' % u.name)\\n    else:\\n        print(\\'小怪兽胜利!\\')\\n\\n# # 调用\\n# main()', '# 综合案例2： 扑克游戏。\\n\\nimport random\\n\\n\\nclass Card(object):\\n    \"\"\"一张牌\"\"\"\\n\\n    def __init__(self, suite, face):\\n        self._suite = suite\\n        self._face = face\\n\\n    @property\\n    def face(self):\\n        return self._face\\n\\n    @property\\n    def suite(self):\\n        return self._suite\\n\\n    def __str__(self):\\n        if self._face == 1:\\n            face_str = \\'A\\'\\n        elif self._face == 11:\\n            face_str = \\'J\\'\\n        elif self._face == 12:\\n            face_str = \\'Q\\'\\n        elif self._face == 13:\\n            face_str = \\'K\\'\\n        else:\\n            face_str = str(self._face)\\n        return \\'%s%s\\' % (self._suite, face_str)\\n    \\n    def __repr__(self):\\n        return self.__str__()\\n\\n\\nclass Poker(object):\\n    \"\"\"一副牌\"\"\"\\n\\n    def __init__(self):\\n        self._cards = [Card(suite, face) \\n                       for suite in \\'♠♥♣♦\\'\\n                       for face in range(1, 14)]\\n        self._current = 0\\n\\n    @property\\n    def cards(self):\\n        return self._cards\\n\\n    def shuffle(self):\\n        \"\"\"洗牌(随机乱序)\"\"\"\\n        self._current = 0\\n        random.shuffle(self._cards)\\n\\n    @property\\n    def next(self):\\n        \"\"\"发牌\"\"\"\\n        card = self._cards[self._current]\\n        self._current += 1\\n        return card\\n\\n    @property\\n    def has_next(self):\\n        \"\"\"还有没有牌\"\"\"\\n        return self._current < len(self._cards)\\n\\n\\nclass Player(object):\\n    \"\"\"玩家\"\"\"\\n\\n    def __init__(self, name):\\n        self._name = name\\n        self._cards_on_hand = []\\n\\n    @property\\n    def name(self):\\n        return self._name\\n\\n    @property\\n    def cards_on_hand(self):\\n        return self._cards_on_hand\\n\\n    def get(self, card):\\n        \"\"\"摸牌\"\"\"\\n        self._cards_on_hand.append(card)\\n\\n    def arrange(self, card_key):\\n        \"\"\"玩家整理手上的牌\"\"\"\\n        self._cards_on_hand.sort(key=card_key)\\n\\n\\n# 排序规则-先根据花色再根据点数排序\\ndef get_key(card):\\n    return (card.suite, card.face)\\n\\n\\ndef main():\\n    p = Poker()\\n    p.shuffle()\\n    players = [Player(\\'小东\\'), Player(\\'小西\\'), Player(\\'小南\\'), Player(\\'小北\\')]\\n    for _ in range(13):\\n        for player in players:\\n            player.get(p.next)\\n    for player in players:\\n        print(player.name + \\':\\', end=\\' \\')\\n        player.arrange(get_key)\\n        print(player.cards_on_hand)\\n\\n\\n# main()', '# 综合案例3：工资结算系统。\\n\\n\"\"\"\\n某公司有三种类型的员工 分别是部门经理、程序员和销售员\\n需要设计一个工资结算系统 根据提供的员工信息来计算月薪\\n部门经理的月薪是每月固定15000元\\n程序员的月薪按本月工作时间计算 每小时150元\\n销售员的月薪是1200元的底薪加上销售额5%的提成\\n\"\"\"\\nfrom abc import ABCMeta, abstractmethod\\n\\n\\nclass Employee(object, metaclass=ABCMeta):\\n    \"\"\"员工\"\"\"\\n\\n    def __init__(self, name):\\n        \"\"\"\\n        初始化方法\\n\\n        :param name: 姓名\\n        \"\"\"\\n        self._name = name\\n\\n    @property\\n    def name(self):\\n        return self._name\\n\\n    @abstractmethod\\n    def get_salary(self):\\n        \"\"\"\\n        获得月薪\\n\\n        :return: 月薪\\n        \"\"\"\\n        pass\\n\\n\\nclass Manager(Employee):\\n    \"\"\"部门经理\"\"\"\\n\\n    def get_salary(self):\\n        return 15000.0\\n\\n\\nclass Programmer(Employee):\\n    \"\"\"程序员\"\"\"\\n\\n    def __init__(self, name, working_hour=0):\\n        super().__init__(name)\\n        self._working_hour = working_hour\\n\\n    @property\\n    def working_hour(self):\\n        return self._working_hour\\n\\n    @working_hour.setter\\n    def working_hour(self, working_hour):\\n        self._working_hour = working_hour if working_hour > 0 else 0\\n\\n    def get_salary(self):\\n        return 150.0 * self._working_hour\\n\\n\\nclass Salesman(Employee):\\n    \"\"\"销售员\"\"\"\\n\\n    def __init__(self, name, sales=0):\\n        super().__init__(name)\\n        self._sales = sales\\n\\n    @property\\n    def sales(self):\\n        return self._sales\\n\\n    @sales.setter\\n    def sales(self, sales):\\n        self._sales = sales if sales > 0 else 0\\n\\n    def get_salary(self):\\n        return 1200.0 + self._sales * 0.05\\n\\n\\ndef main():\\n    emps = [\\n        Manager(\\'a\\'), Programmer(\\'b\\'),\\n        Manager(\\'c\\'), Salesman(\\'d\\'),\\n        Salesman(\\'e\\'), Programmer(\\'f\\'),\\n        Programmer(\\'g\\')\\n    ]\\n    for emp in emps:\\n        if isinstance(emp, Programmer):\\n            emp.working_hour = int(input(\\'请输入%s本月工作时间: \\' % emp.name))\\n        elif isinstance(emp, Salesman):\\n            emp.sales = float(input(\\'请输入%s本月销售额: \\' % emp.name))\\n        # 同样是接收get_salary这个消息但是不同的员工表现出了不同的行为(多态)\\n        print(\\'%s本月工资为: ￥%s元\\' %\\n              (emp.name, emp.get_salary()))\\n\\n\\n# main()', \"def foo():\\n    print('hello, world!')\\n\\ndef foo():\\n    print('goodbye, world!')\\n\\n# 下面的代码会输出什么呢？\\nfoo()\\n# goodbye, world!\", \"# NoneType  这个数据类型比较特殊，NoneType仅有唯一实例None\\nprint(type(None))   # <class 'NoneType'>\", \"is_student = True\\nhas_graduated = False\\n\\nprint(type(is_student))   # <class 'bool'>\\nprint(type(has_graduated))   # <class 'bool'>\", \"# int\\na = 10\\nb = -1  \\nprint(type(a))  # <class 'int'>\\nprint(type(b))  # <class 'int'>\\n\\n# float\\nc = 3.4\\nd = -0.002\\nprint(type(c))  # <class 'float'>\\nprint(type(d))  # <class 'float'>\\n\\n# complex\\ne = -2 + 4j\\nprint(type(e))   # <class 'complex'>\", '# 加 + \\nadd_ = 1 + 2\\nadd_b = 1.0 + .1\\nprint(f\"{add_=}\")   # add_=3\\nprint(f\"{add_b=}\")   # add_b=1.1', '# 减 -\\nsubtraction_ = 1-2\\nsubtraction_b = 1-2. \\nprint(f\"{subtraction_=}\")  # subtraction_=-1\\nprint(f\"{subtraction_b=}\")  # subtraction_b=-1.0', '# 乘 *\\nmultiplication_ = 2*3\\nmultiplication_b = 2.*3\\nprint(f\"{multiplication_=}\")   # multiplication_=6\\nprint(f\"{multiplication_b=}\")  # multiplication_b=6.0', '# 除 /\\ndivision_ = 1/2\\ndivision_b = 2/1\\nprint(f\"{division_=}\")  # division_=0.5\\nprint(f\"{division_b=}\")  # division_b=2.0', '# 取商 //\\nrounding_ = 1 //2\\nprint(f\"{rounding_=}\")   # rounding_=0\\n\\n# 取余 % \\nremainder_ = 1%2\\nprint(f\"{remainder_=}\")  # remainder_=1', '# 幂运算 **\\npower_ = 2**3\\nprint(f\"{power_=}\")  # power_=8', '# 科学计数法\\na = 1e3\\nprint(f\"{a=}\")  # a=1000.0\\n\\nb = -2e-4\\nprint(f\"{b=}\")  # b=-0.0002', '# 常用数字运算函数\\nnumber = -7.25\\n\\nprint(f\"取绝对值：{abs(number)=}\")  # 取绝对值：abs(number)=7.25\\nprint(f\"求幂：{pow(2,3)=}\")  # 求幂：pow(2,3)=8\\nprint(f\"小数位数调整(有四舍五入)：{round(3.1415, 3)=}\")  # 小数位数调整(有四舍五入)：round(3.1415, 3)=3.142\\nprint(f\"取商取余：{divmod(10,3)=}\")  # 取商取余：divmod(10,3)=(3, 1)', '# 数字类型转换\\na = 1.2  # <class \\'float\\'>\\nb = 2  # <class \\'int\\'>\\nprint(f\"{int(a)=}\")  # int(a)=1\\nprint(type(int(a)))  # <class \\'int\\'>\\nprint(f\"{float(b)=}\")  # float(b)=2.0\\nprint(type(float(b)))  # <class \\'float\\'>\\n\\n# 空int \\nempty_int = int()\\nprint(f\"{type(empty_int)=}\")   # type(empty_int)=<class \\'int\\'>\\n\\n# 空float\\nempty_float = float()\\nprint(f\"{type(empty_float)=}\")  # type(empty_float)=<class \\'float\\'>', 'name = \"Alili\"\\ngreeting = \"Hello !\"\\nmultiline = \"\"\"This is \\na \\nmultiline.\"\"\"\\n\\n# 空字符串   <class \\'str\\'>\\nempty_str = str()\\n# empty_str = \\'\\'\\n# empty_str = \"\"\\nprint(type(empty_str))    # <class \\'str\\'>', 's = \"Hello\"\\n# 尝试修改第一个字符\\ns[0] = \\'h\\'    # TypeError: \\'str\\' object does not support item assignment', \"# 正确的做法是创建一个新的字符串\\ns_new = 'hello'\\nprint(s_new)  # hello\", 's = \"Hello, Python !\"\\n# 索引\\n# 正向索引  从0开始\\nprint(s[0])   # H\\nprint(s[7])   # P\\n# 反向索引  从-1开始\\nprint(s[-1])  # !\\nprint(s[-7])  # y\\n# 切片\\n# 基本切片\\nprint(s[0:5])  # Hello\\nprint(s[7:])  # Python !\\nprint(s[:5])  # Hello\\n# 使用步长   start:end:step     step默认是1，也就是连续取，step=2就是隔一个取\\nprint(s[::2])  # Hlo yhn!\\nprint(s[::-1])  # ! nohtyP ,olleH  # 字符串反转\\n# 负数索引切片 \\nprint(s[-6:-1])  # thon ', '# 拼接\\n# 使用加号\\ns1 = \"Hello\"\\ns2 = \"World\"\\ns3 = s1 + \",\" + s2 + \"!\"\\nprint(s3) # Hello,World!\\n\\n# 使用join()方法\\nwords= [\"Python\", \"is\", \"awesome\"]\\nsentense = \" \".join(words)\\nprint(sentense)  # Python is awesome\\n\\n# 重复\\ns = \\'Echo! \\'\\nrepeated = s * 3\\nprint(repeated)  # Echo! Echo! Echo! ', '# 分割\\n\\ns = \"Python is fun and powerful.\"\\nwords = s.split()\\nprint(words)   # [\\'Python\\', \\'is\\', \\'fun\\', \\'and\\', \\'powerful.\\']\\n\\n# words = s.split(\\' \\', 1)  # 看python的版本是否支持\\n# print(words)  # [\\'Python\\', \\'is fun and powerful.\\']\\n\\n# 使用指定分隔符\\nwords_dot = s.split(\\'.\\')\\nprint(words_dot)  # [\\'Python is fun and powerful\\', \\'\\']\\n\\ns_ = \"apple,banana,orange\"\\n# rsplit  从右开始分割,最多分割2次\\nfruits = s_.rsplit(\\',\\', 2)\\nprint(fruits)  # [\\'apple\\', \\'banana\\', \\'orange\\']', \"s = 'abracadabra'\\n\\nindex = s.find('cad')\\nprint(index)  # 4\\n\\nind = s.find('xyt')\\nprint(ind)  # -1\\n\\nlast_idx = s.rfind('abra')\\nprint(last_idx)  # 7\", 's = \"a, A\"\\nprint(s.upper())  # A, A\\nprint(s.lower())  # a, a', 's = \"  Hello, Python!  \"\\n\\nprint(s.strip())  # Hello, Python!\\nprint(s.lstrip()) # Hello, Python!\\nprint(s.rstrip()) #   Hello, Python!', 's = \"Pyrhon Programming\"\\n\\nprint(s.startswith(\\'Py\\'))  # True\\nprint(s.endswith(\\'g\\'))  # True\\nprint(s.startswith(\\'Java\\'))  # False', \"s = 'banana'\\n\\ncount = s.count('a')\\nprint(count)  # 3\", \"s = 'banana'\\n\\nindex_ = s.index('a')\\nprint(index_)  # 1\", 'name = \"Alili\"\\nage = 24\\n\\n# %\\ns = \"My name is %s and I am %d years old.\" % (name, age)\\nprint(s)\\n\\n# str.format()\\nfmt_mtd = \"My name is {} and I am {:.2f} years old.\".format(name, age)\\nprint(fmt_mtd)  # My name is Alili and I am 24.00 years old.\\n# 0 1 表示索引\\n# fmt_mtd = \"My name is {0} and I am {1} years old.\".format(name, age)\\n# fmt_mtd = \"My name is {0} and I am {1:.2f} years old.\".format(name, age)\\n\\n# f-str\\nf_method = f\"My name is {name} and I am {age:.2f} years old.\"\\nprint(f_method)  # My name is Alili and I am 24.00 years old.', 's = \"Hello,\\\\nPython!\"\\nprint(s)\\n# Hello,\\n# Python!\\n\\ns = r\"C:\\\\Users\\\\Alili\\\\Documents\"\\nprint(s)  # C:\\\\Users\\\\Alice\\\\Documents', 's = \"Python\"\\nprint(len(s))  # 6', 's = \"Python Programming\"\\nprint(\"Python\" in s)      # True\\nprint(\"Java\" not in s)    # True', 's = \"Hello\"\\nfor char in s:\\n    print(char)\\n# H\\n# e\\n# l\\n# l\\n# o', 's = \"Hello\"\\n\\n# 转换为列表\\nchars = list(s)\\nprint(chars)  # [\\'H\\', \\'e\\', \\'l\\', \\'l\\', \\'o\\']\\n\\n# 列表转换为字符串\\ns_new = \\'\\'.join(chars)\\nprint(s_new)  # Hello', 's = \"The quick brown fox jumps over the lazy dog.\"\\n# 查找子字符串\\nindex = s.find(\"fox\")\\nprint(index)  # 16\\n# 替换子字符串\\ns_new = s.replace(\"fox\", \"cat\")  \\nprint(s_new)  # The quick brown cat jumps over the lazy dog.', \"tup = 1,2,4\\n# tup = 1,2,4,\\n# tup = (1,2,4)\\n# tup = (1,2,4,)\\nprint(tup)   # (1, 2, 4)\\n\\nz_tup = (4,2,1), (3,9)\\nprint(z_tup)   # ((4, 2, 1), (3, 9))\\n\\n# 空元组\\nempty_tup = ()   #  <class 'tuple'>\\n# empty_tup = tuple()   # <class 'tuple'>\\nprint(type(empty_tup))   # <class 'tuple'>\", 'tuple_a = tuple([1,3,2,4,2])  # (1, 3, 2, 4, 2)\\nprint(tuple_a)\\ntuple_b = tuple(\"AbCdef\")  # (\\'A\\', \\'b\\', \\'C\\', \\'d\\', \\'e\\', \\'f\\')\\nprint(tuple_b)', \"tuple_c = tuple(['start', [0,0], 1, False])\\nid_before = id(tuple_c[1])  # 3004552076736\\n\\n# tuple_c[1] = [0,0,1] # 会引发 TypeError\\ntuple_c[1].append(1)  # ('start', [0, 0, 1], 1, False) \\nid_after = id(tuple_c[1])  # 3004552076736\\n\\nprint(id_before == id_after) # True\\n\\n# 在Python中，每个对象都有一个唯一的身份标识，用于区分不同的对象。\\n# id() 函数用于获取对象的唯一标识符。这是一个唯一的整数，且在对象的生命周期内保持不变\\n# id_before == id_after，id_before、id_after引用的是同一个对象 tuple_c[1]\\n# is 运算符,用于判断两个变量是否引用同一个对象,等同于比较两个变量的id是否相同\", 'tuple_ = (1,2,) + \"a\" + (\"1\",) + (2)  \\n# TypeError \"a\"、(\"a\") is str, type((2)) is int', 'tuple_d = (1,2,) + (\"a\",) + (\"1\",) + (2,)  \\ntuple_e = (\\'kk\\', \\'ss\\') * 2   \\nprint(f\"{tuple_d=}\")  # tuple_d=(1, 2, \\'a\\', \\'1\\', 2)\\nprint(f\"{tuple_e=}\")  # tuple_e=(\\'kk\\', \\'ss\\', \\'kk\\', \\'ss\\')', 'tuple_f = (1,21,33,41)\\na_, b_, c_, d_= tuple_f   # 1 21 33 41\\na_, b_, *rest = tuple_f   # 1 21\\nprint(f\"{rest=}\")   # rest=[33, 41]\\n\\ntuple_g = (1,),(21,33,41)\\na_, (b_, c_, d_) = tuple_g   #  (1,) 21 33 41\\na_, b_ = tuple_g   # (1,) (21, 33, 41)\\nprint(a_[0])   # 1', 'x_, y_ = 1, 2\\nx_, y_ = y_, x_ \\nprint(f\"{x_=}\") # x_=2\\nprint(f\"{y_=}\") # y_=1', 'tuple_h = 1,2,3,4,5,6,6,6,6,6,\\ntuple_h.count(6)  # 5', '# 空集合\\nempty_set = set()  # <class \\'set\\'>\\nprint(type(empty_set))  # <class \\'set\\'>\\n# 创建集合\\nunique_numbers = {1, 2, 3, 4, 5}\\n# 添加元素\\nunique_numbers.add(6)\\n# 删除元素\\nunique_numbers.discard(3)\\n\\n# 集合运算\\nevens = {2, 4, 6, 8}\\nodds = {1, 3, 5, 7}\\n# # -\\nsub_result = evens - odds\\nprint(f\"{sub_result=}\")   # sub_result={8, 2, 4, 6}\\n# # 并集\\nunion = evens.union(odds)\\n# union = evens | odds\\n# union = evens.update(odds)\\nprint(f\"{union=}\")  # union={1, 2, 3, 4, 5, 6, 7, 8}\\n# # 交集\\nintersection = evens.intersection({4, 5, 6})\\nprint(f\"{intersection=}\")  # intersection={4, 6}\\n\\n# 不在意内部元素顺序的情况下, 剔除重复值\\ntu = 1,1,1,1,1,1,12,2,3,4,\\ntuple_ = tuple(set(tu))\\nprint(f\"{tuple_=}\")  # list_=[1, 2, 3, 4, 12]\\n# 集合支持for循环遍历\\nfor x in tuple_:\\n    print(x) # 1 2 3 4 12', '# 创建列表\\n# # 空列表\\nempty_list = [] \\n# empty_list = list()\\n# print(empty_list)  # []\\nprint(type(empty_list))  # <class \\'list\\'>\\n\\n# # 嵌套列表\\nnested_list = [1, [2, 3], [4, 5, 6]]\\n# # 列表中可以包含不同类型的元素\\nmixed_list = [1, \"Python\", 3.14, True]\\n\\n\\nfruits = [\\'apple\\', \\'banana\\', \\'cherry\\']\\n# 正向索引\\nfirst_fruit = fruits[0]\\nprint(f\"{first_fruit=}\")  # first_fruit=\\'apple\\'\\n# 反向索引\\nlast_fruit = fruits[-1]\\nprint(f\"{last_fruit=}\")  # last_fruit=\\'cherry\\'\\n\\n# 列表切片 语法为list[start:end:step]\\nnumbers = [0, 1, 2, 3, 4, 5, 6, 7, 8, 9]\\n# # 基本切片\\nprint(numbers[2:5])    # [2, 3, 4]\\nprint(numbers[:4])     # [0, 1, 2, 3]\\nprint(numbers[6:])     # [6, 7, 8, 9]\\n# # 使用步长\\nprint(numbers[::2])    # [0, 2, 4, 6, 8]\\nprint(numbers[::-1])   # [9, 8, 7, 6, 5, 4, 3, 2, 1, 0]', \"fruits = ['apple', 'banana', 'cherry']\\n\\n# append()\\nfruits.append('date')\\nprint(fruits)  #  ['apple', 'banana', 'cherry', 'date']\\n\\n# insert()\\nfruits.insert(1, 'blueberry')\\nprint(fruits)  # ['apple', 'blueberry', 'banana', 'cherry', 'date']\\n\\n# extend()\\nfruits.extend(['elderberry', 'fig'])\\nprint(fruits)  # ['apple', 'blueberry', 'banana', 'cherry', 'date', 'elderberry', 'fig']\", \"fruits = ['apple', 'blueberry', 'banana', 'cherry', 'date', 'elderberry', 'fig']\\n\\n# remove()\\nfruits.remove('banana')\\nprint(fruits)  # ['apple', 'blueberry', 'cherry', 'date', 'elderberry', 'fig']\\n\\n# pop()\\nremoved = fruits.pop(2)\\nprint(removed)  # cherry\\nprint(fruits)    # ['apple', 'blueberry', 'date', 'elderberry', 'fig']\\n\\n# clear()\\nfruits.clear()\\nprint(fruits)  # []\", 'numbers = [4, 2, 9, 1, 5, 6, 2]\\n\\n# index()\\nprint(numbers.index(5))  # 4\\n\\n# count()\\nprint(numbers.count(2))  # 2\\n\\n# sort()\\nnumbers.sort()\\nprint(numbers)  # [1, 2, 2, 4, 5, 6, 9]\\n\\n# sorted()   reverse: True降序 False升序\\nsorted_numbers = sorted(numbers, reverse=True)  \\nprint(sorted_numbers)  # [9, 6, 5, 4, 2, 2, 1]\\n\\n# reverse()\\nnumbers.reverse()\\nprint(numbers)  # [9, 6, 5, 4, 2, 2, 1]', \"fruits = ['apple', 'banana', 'cherry', 'date']\\n\\n# 使用 for 循环遍历列表\\nfor fruit in fruits:\\n    print(fruit)\\n\\n# while循环\\nindex = 0\\nwhile index < len(fruits):\\n    print(fruits[index])\\n    index += 1\\n# apple banana cherry date\", 'fruits = [\\'apple\\', \\'banana\\', \\'cherry\\', \\'date\\']\\n\\n# 使用 enumerate() 遍历列表\\nfor index, fruit in enumerate(fruits):\\n    print(f\"Index {index}: {fruit}\")\\n# Index 0: apple\\n# Index 1: banana\\n# Index 2: cherry\\n# Index 3: date\\n\\n# 从索引 1 开始遍历\\nfor index, fruit in enumerate(fruits, start=1):\\n    print(f\"Index {index}: {fruit}\")\\n# Index 1: apple\\n# Index 2: banana\\n# Index 3: cherry\\n# Index 4: date', 'names = [\\'Alili\\', \\'Bobo\\', \\'Qiuqiu\\']\\nages = [25, 30]\\n\\n# 使用 zip() 遍历长度不同的列表\\nfor name, age in zip(names, ages):\\n    print(f\"{name} is {age} years old.\")\\n# Alili is 25 years old.\\n# Bobo is 30 years old.', '# 字符串转列表\\ns = \"Hello\"\\nlst = list(s)\\nprint(lst)  # [\\'H\\', \\'e\\', \\'l\\', \\'l\\', \\'o\\']\\n\\n# # 列表转字符串\\n# words = [\\'Python\\', \\'is\\', \\'awesome\\']\\n# sentence = \\' \\'.join(words)\\n# print(sentence)  # Python is awesome', 'matrix = [\\n    [1, 2, 3],\\n    [4, 5, 6],\\n    [7, 8, 9]\\n]\\n\\n# 访问元素\\nprint(matrix[0][1])  # 2\\nprint(matrix[2][2])  # 9\\n\\nfor x in matrix:\\n    print(x)\\n# [1, 2, 3]\\n# [4, 5, 6]\\n# [7, 8, 9]\\n\\nfor x in matrix[0]:\\n    print(x)\\n# 1\\n# 2\\n# 3', \"# 创建空字典\\nempty_dict = {}\\n# empty_dict = dict()\\nprint(type(empty_dict))  # <class 'dict'>\\n\\n# 创建包含键值对的字典\\nstudent = {'name': 'Alili',\\n    'age': 25,\\n    'major': 'Computer Science'}\\n\\n# 使用 dict() 构造函数创建字典\\nperson = dict(name='Bomm', age=30, city='New York')\\nprint(person) # {'name': 'Bomm', 'age': 30, 'city': 'New York'}\\n\\n# 使用序列创建字典\\nmapping = dict(zip(range(5), reversed(range(5))))\\nprint(mapping)  # {0: 4, 1: 3, 2: 2, 3: 1, 4: 0}\\n\\n# 设置默认值  setdefault方法\\n# dict.setdefault(key, default=None)\\nmy_dict = {'a': 1, 'b': 2}\\nresult1 = my_dict.setdefault('a', 100)  # 键 'a' 存在，返回其对应的值 1\\nprint(result1)  # 1\\nresult2 = my_dict.setdefault('c', 3)    # 键 'c' 不存在，添加 'c' 键，值为 3\\nprint(result2) # 3\", \"student = {\\n    'name': 'Alili',\\n    'age': 25,\\n    'major': 'Computer Science'}\\n\\n# 使用中括号访问\\nprint(student['name'])  # Alili\\n# 使用 get() 方法访问\\nprint(student.get('age'))  # 25\\n# 如果键不存在，使用 get() 可设置默认值\\nprint(student.get('gpa', 'Not Available'))  # Not Available\", \"student = {\\n    'name': 'Alili',\\n    'age': 25,\\n    'like': 'orange'\\n}\\n\\n# 添加新的键值对\\nstudent['like'] = 'orange'\\nprint(student)\\n# {'name': 'Alili', 'age': 25, 'like': 'orange'}\\n\\n# 修改现有的值\\nstudent['age'] = 25.5\\nprint(student)\\n# {'name': 'Alili', 'age': 25.5, 'like': 'orange'}\", \"student = {\\n    'name': 'Alili',\\n    'age': 25,\\n    'like': 'orange'\\n}\\n\\n# 使用 del 语句删除键值对\\ndel student['like']\\nprint(student)\\n# {'name': 'Alili', 'age': 25}\\n\\n# 使用 pop() 方法删除并返回值\\nage = student.pop('age')\\nprint(age)       # 25\\nprint(student)   # {'name': 'Alili'}\\n\\n# 使用 clear() 方法清空字典\\nstudent.clear()\\nprint(student)  # {}\", \"student = {\\n    'name': 'Alili',\\n}\\n\\nkeys = student.keys()\\nprint(keys)  # dict_keys(['name'])\\n\\nvalues = student.values()\\nprint(values)  # dict_values(['Alili'])\\n\\nitems = student.items()\\nprint(items)  # dict_items([('name', 'Alili')])\\n\\n# gpa = student.get('gpa', 'Not Available')\\n# print(gpa)  # Not Available\\n\\nadditional_info = {'gpa': 3.9, 'graduated': False}\\nstudent.update(additional_info)\\nprint(student)   # {'name': 'Alili', 'gpa': 3.9, 'graduated': False}\\n\\nitem = student.popitem()\\nprint(item)      # ('graduated', False)\\nprint(student)   # {'name': 'Alili', 'gpa': 3.9}\", 'student = {\\n    \\'name\\': \\'Alili\\',\\n    \\'age\\': 25,\\n    \\'like\\': \\'orange\\'}\\n\\n# 遍历键\\nfor key in student:\\n    print(key)\\n# name age like\\n\\n# 遍历值\\nfor value in student.values():\\n    print(value)\\n# Alili 25 orange\\n\\n# 遍历键值对\\nfor key, value in student.items():\\n    print(f\"{key}: {value}\")\\n# name: Alili  age: 25  like: orange', \"# 创建嵌套字典\\nstudents = {\\n    'Alili': {\\n        'age': 25,\\n        'major': 'Computer Science',\\n        'gpa': 3.8},\\n    'Bomm': {\\n        'age': 22,\\n        'major': 'Mathematics',\\n        'gpa': 3.5}}\\n\\n# 访问嵌套字典中的值\\nprint(students['Alili']['major'])  # Computer Science\\n# 添加新的嵌套字典\\nstudents['Charlo'] = {'age': 24, 'major': 'Physics', 'gpa': 3.6}\\nprint(students)\\n# {'Alili': {'age': 25, 'major': 'Computer Science', 'gpa': 3.8}, \\n# 'Bomm': {'age': 22, 'major': 'Mathematics', 'gpa': 3.5}, \\n# 'Charlo': {'age': 24, 'major': 'Physics', 'gpa': 3.6}}\", 'for k,v in students.items():\\n    print(f\"key:{k},value:{v}\")\\n# key:Alili,value:{\\'age\\':25,\\'major\\':\\'Computer Science\\',\\'gpa\\':3.8}\\n# key:Bomm,value:{\\'age\\':22,\\'major\\':\\'Mathematics\\',\\'gpa\\':3.5}\\n# key:Charlo,value:{\\'age\\':24,\\'major\\':\\'Physics\\',\\'gpa\\':3.6}', 'a = 100\\nb = 100   # 小整数在 Python 中会被缓存并共享\\nc = 1000  # 大整数则不会被缓存\\nd = 1000\\nprint(id(a)==id(b),id(c)==id(d)) # True False\\nprint(a is b, c is d)  # True False', 'from typing import List, Tuple, Dict\\n\\n# List: 一个整数类型的列表\\nnumbers: List[int] = [1, 2, 3, 4, 5]\\nprint(numbers)  # [1, 2, 3, 4, 5]\\n# Tuple: 一个包含整数和字符串的元组\\ninfo: Tuple[int, str] = (42, \"example\")\\nprint(info)  # (42, \\'example\\')\\n# Dict: 一个键为字符串类型、值为整数类型的字典\\nscores: Dict[str, int] = {\"Alili\": 95, \"Bobo\": 88}\\nprint(scores)  # {\\'Alili\\': 95, \\'Bobo\\': 88}\\n\\nfrom collections import defaultdict, OrderedDict\\n\\n# defaultdict: 创建一个有默认值的字典\\n# 当键不存在时，自动返回指定的默认值\\ndefault_dict = defaultdict(int)\\nprint(default_dict)  # defaultdict(<class \\'int\\'>, {})\\ndefault_dict[\"a\"] += 1  # 默认值为0，所以输出结果为1\\nprint(default_dict[\"a\"])  # 1\\n# OrderedDict: 保持键值对的插入顺序\\nordered_dict = OrderedDict([(\"one\", 1), (\"two\", 2), (\"three\", 3)])\\nfor key, value in ordered_dict.items():\\n    print(key, value)\\n# one 1\\n# two 2\\n# three 3', 'age = 19   # age = input(\"请输入年龄:\")\\nif age >= 18: print(\"You are an adult.\")\\nelif age >= 13: print(\"You are a teenager.\")\\nelse: print(\"You are a child.\")', '# 打印 0 到 4\\nfor i in range(5):\\n    print(i)', 'count = 0\\n\\nwhile count < 5:\\n    print(count)\\n    count += 1\\n\\n# 0\\n# 1\\n# 2\\n# 3\\n# 4', '# password = \"\"\\n# while password != \"python123\":\\n#     password = input(\"Enter the password: \")\\n#     if password == \"python123\":\\n#         print(\"Access granted.\")\\n#     else:\\n#         print(\"Incorrect password. Try again.\")\\n\\n\\n# # for \\n# for _ in range(5):\\n#     password = input(\"Enter the password: \")\\n#     if password == \"python123\":\\n#         print(\"Access granted.\")\\n#     else:\\n#         print(\"Incorrect password. Try again.\")\\n        ', 'for i in range(10):\\n    if i == 5:\\n        break\\n    print(i)\\n    \\n# 0\\n# 1\\n# 2\\n# 3\\n# 4', 'for i in range(5):\\n    # if i == 2: continue   # 这种写法也支持\\n    if i == 2:\\n        continue\\n    print(i)\\n\\n# 0\\n# 1\\n# 3\\n# 4', 'for i in range(5):\\n    if i == 2:\\n        pass  # 暂不处理\\n    print(i)\\n\\n# 0\\n# 1\\n# 2\\n# 3\\n# 4', \"strings = ['a', 'as', 'bat', 'car', 'haha', 'python']\\n[x.upper() for x in strings if len(x) > 2]\\n# ['BAT', 'CAR', 'HAHA', 'PYTHON']\", \"# 集合推导式\\nstrings = ['a', 'as', 'bat', 'car', 'haha', 'python']\\n\\nunique_lengths = {len(x) for x in strings}\\nprint(unique_lengths)  # {1, 2, 3, 4, 6}\", '# 字典推导式\\nnumbers = [1, 2, 3, 4]\\nsquares_dict = {num: num ** 2 for num in numbers}\\nprint(squares_dict)  # {1: 1, 2: 4, 3: 9, 4: 16}\\n\\n# 原始字典，值为字符串类型\\noriginal = {\\'Alili\\': \\'Female\\', \\'Bomm\\': \\'Male\\', \\'Charlo\\': \\'Male\\', \\n            \\'Daisy\\': \\'Female\\'}\\n# 保留 \"Male\" 性别且键名以 \"B\" 开头的项\\nfiltered = {\\n    name: gender\\n    for name, gender in original.items()\\n    if gender == \\'Male\\' and name.startswith(\\'B\\')}\\nprint(filtered)  # {\\'Bomm\\': \\'Male\\'}\\n# 给定字典是 {字段名: 值}，反转它成 {值: 字段名} 形式\\ninfo = {\\'name\\': \\'Alili\\', \\'age\\': 25, \\'city\\': \\'New York\\'}\\nreversed_dict = {value: key for key, value in info.items()}\\nprint(reversed_dict)\\n# {\\'Alili\\': \\'name\\', 25: \\'age\\', \\'New York\\': \\'city\\'}', \"s = ['1', 'as', 'bat', 'god', 'boom', 'python']\\n\\nunique_lens = {len(x) for x in s}\\nprint(unique_lens)  # {1, 2, 3, 4, 6}\\n\\nunique_lens_b = set(map(len, s))  \\nprint(unique_lens_b)  # {1, 2, 3, 4, 6}\\n\\n# 构建一个字典推导式,创建一个字符串的查找映射表以确定它在列表中的位置\\nidx_mapping = {val : index for index, val in enumerate(s)}\\nprint(idx_mapping)\\n# {'1': 0, 'as': 1, 'bat': 2, 'god': 3, 'boom': 4, 'python': 5}\", \"all_data = [['Johnn', 'Emly', 'Mikhael', 'Marny', 'Steven'], ['Marian', 'Juany', 'Javieru', 'Natalia', 'Pilar']]\", \"names_of_interest = []\\nfor names in all_data:\\n    enough_es = [name for name in names if name.count('e') > 1]\\n    names_of_interest.extend(enough_es)\\nnames_of_interest  # ['Steven']\", \"result = [name for names in all_data for name in names if name.count('e') > 1]\\nprint(result)   # ['Steven']\", '# try-except\\n\\ndef divide(a, b):\\n    try:\\n        result = a / b\\n    except ZeroDivisionError as e:\\n        print(\"错误：除数为0！\")\\n        return None\\n    else:\\n        print(\"除法运算成功。\")\\n        return result\\n\\nres = divide(10, 2)\\nprint(\"结果：\", res)\\n# 除法运算成功。\\n# 结果： 5.0\\nres = divide(5, 0)\\nprint(\"结果：\", res)\\n# 错误：除数为0！\\n# 结果： None', 'def divide_b(a, b):\\n    result = None  # 先在函数开始处定义一个默认值，避免局部变量未定义\\n\\n    try:\\n        result = a / b\\n    except ZeroDivisionError:\\n        print(\"错误：除数不能为 0！\")\\n    except TypeError:\\n        print(\"错误：类型不匹配，无法进行除法运算！\")\\n    finally:\\n        # finally 块中的代码无论是否发生异常都会被执行\\n        if result is not None:\\n            # 如果 result 在 try 中成功被赋值，则返回它\\n            return result\\n        else:\\n            # 如果 result 仍是 None，说明出现了异常或其他问题\\n            print(f\"无法正常计算 {a} 除以 {b}\")\\n            return None\\n\\nprint(divide_b(4,2))\\n# 2.0\\n\\nprint(divide_b(2,\\'a\\'))\\n# 错误：类型不匹配，无法进行除法运算！\\n# 无法正常计算 2 除以 a\\n# None', 'def divide(a, b):\\n    if b == 0:\\n        raise ZeroDivisionError(\"除数不能为零\")\\n    return a / b\\n\\ntry:\\n    result = divide(10, 0)\\nexcept ZeroDivisionError as e:\\n    print(f\"错误: {e}\")\\n# 错误: 除数不能为零', 'nums = [1, 2, 3]\\n\\nassert isinstance(nums, list) and len(nums) > 0, \"数据必须是非空列表\"\\n\\nprint(nums)  # assert 语句通过\\n\\nassert isinstance(nums, list) and len(nums) > 3, \"数据必须是非空列表且包含不少于4个元素\"\\nprint(nums)  # AssertionError: 数据必须是非空列表且包含不少于4个元素', '# 返回一个或多个变量(通常是一个元组)\\ndef min_and_max(numbers):\\n    \"\"\"返回给定列表的最小值和最大值\"\"\"\\n    return min(numbers), max(numbers)\\nnums = [3, 1, 5, 2, 4]\\nprint(type(min_and_max(nums)))    # <class \\'tuple\\'>\\nlowest, highest = min_and_max(nums)\\nprint(lowest, highest)  # 输出: 1 5\\n\\n# 没有return\\ndef do_nothing(): pass\\nresult = do_nothing()\\nprint(result)  # None\\n\\ndef my_function(x, y, z=1.5):  \\n    if z > 1: return z * (x + y)\\n    else: return z / (x + y)\\n# 使用\\nprint(my_function(1,2))  # 按照定义时的参数顺序来传递值\\n# 4.5\\nprint(my_function(z=3,x=2,y=4))  # 显式地通过参数名来传递值，顺序随意\\n# 18', 'def greet(name, message):\\n    print(f\"{message}, {name}!\")\\n\\ngreet(\"Python\", \"Hello\")  # Hello, Python! \\n# 按顺序传递: name=\"Python\", message=\"Hello\"', 'def greet(name, message):\\n    print(f\"{message}, {name}!\")\\n\\n# 使用关键字参数，顺序随意\\ngreet(message=\"Hi\", name=\"Python\") # Hi, Python!', 'def greet(name, message=\"Hello\"):\\n    print(f\"{message}, {name}!\")\\n\\n# 只传name，message使用默认值\"Hello\"\\ngreet(\"Charlo\")  # HHello, Charlo!\\n# 同时传递两个参数\\ngreet(\"Daissy\", \"Hi\")  # Hi, Daissy!', 'def add_numbers(*args):\\n    total = 0\\n    for num in args:\\n        total += num\\n    return total\\n\\nprint(add_numbers(1, 2, 3))       # 6\\nprint(add_numbers(10, 20, 30, 5)) # 65', 'def build_profile(first_name, last_name, **kwargs):\\n    profile = {\"first_name\": first_name, \"last_name\": last_name}\\n    # 将额外的关键字参数更新到profile字典中\\n    for key, value in kwargs.items():\\n        profile[key] = value\\n    return profile\\n\\nuser_profile = build_profile(\"Alili\", \"Smith\", location=\"New York\", age=30, hobby=\"Reading\")\\nprint(user_profile)\\n# {\\'first_name\\': \\'Alili\\', \\'last_name\\': \\'Smith\\', \\'location\\': \\'New York\\', \\'age\\': 30, \\'hobby\\': \\'Reading\\'}\\n\\n# 在这个示例中，除了 first_name 和 last_name 外，\\n# 任何其他的关键字参数（location=\"New York\", age=30, hobby=\"Reading\"）都会被聚合到 kwargs 这个字典里。', 'def show_info(a, b, c):\\n    print(a, b, c)\\n\\ndata = {\"a\": 1, \"b\": 2, \"c\": 3}\\nshow_info(**data)  # 等价于 show_info(a=1, b=2, c=3)', '# 将列表中每个数值平方\\nnumbers = [1, 2, 3, 4]\\nsquared = list(map(lambda x: x**2, numbers))\\nprint(squared)  # 输出: [1, 4, 9, 16]\\n\\n# lambda 语句 等价于  fun_square\\ndef fun_square(x):\\n    return x ** 2\\nsquared_b = list(map(fun_square, numbers))\\nprint(squared_b)  # 输出: [1, 4, 9, 16]\\n    \\n# squared_c = [x ** 2 for x in numbers]', 'def add_nums(a, b):\\n    return a + b', 'add_five = lambda y: add_nums(5, y)', 'from functools import partial\\nadd_five = partial(add_nums, 5)\\nprint(add_five)\\n# functools.partial(<function add_nums at 0x00000222C2976B90>, 5)\\nprint(add_five(1)) \\n# 6', 'a = None\\ndef bind_a_variable():\\n    global a\\n    a = []\\nbind_a_variable()\\nprint(a)  # []', 'def outer():\\n    def inner():\\n        print(\"这是内部函数\")\\n    print(\"调用内部函数之前\")\\n    inner()\\nouter()\\n\\n# 调用内部函数之前\\n# 这是内部函数', 'def make_multiplier(n):\\n    def multiplier(x):\\n        return x * n\\n    return multiplier\\n\\ntimes2 = make_multiplier(2)\\nprint(times2(5))  # 10', '# 打开一个文件\\nf = open(\"example.txt\", \"w\")\\nprint(\"文件名: \", f.name)  # 文件名:  example.txt\\nprint(\"是否已关闭 : \", f.closed)  # 是否已关闭 :  False\\nprint(\"访问模式 : \", f.mode)  # 访问模式 :  w\\nf.close()', '# open()  close\\nf = open(\"example.txt\", mode=\"r\", encoding=\"utf-8\")  # 打开文本文件\\ncontent = f.read()\\nf.close()  # 操作完毕后，务必手动关闭', 'with open(\"example.txt\", \"r\", encoding=\"utf-8\") as f:\\n    content = f.read()\\n    # 在这里可以对 content 做各种处理\\n\\n# with 块结束后，文件会自动关闭，无需手动 f.close()', '# 写入\\nf = open(\"example.txt\", \"w\", encoding=\"utf-8\")\\nf.write(\"这是写入文本文件的第一行\\\\n\")\\nf.write(\"这是第二行\\\\n\")\\nf.close()\\n\\n# 按行读取 \\nwith open(\"example.txt\", \"r\", encoding=\"utf-8\") as f:\\n    for line in f:\\n        line = line.strip()  # 去掉行末尾的换行符或空白\\n        print(line)\\n# 这是写入文本文件的第一行\\n# 这是第二行\\n\\n# line.strip() 去除两端的空白字符，包括 \\\\n、空格等。\\n# 如果只想去除换行符，也可用 line.rstrip(\"\\\\n\")。', 'import json\\ndata = {\\n    \"name\": \"Alili\",\\n    \"age\": 25,\\n    \"skills\": [\"Python\", \"Data Analysis\"]}\\n\\n# 写入JSON文件\\nwith open(\"data.json\", \"w\", encoding=\"utf-8\") as f:\\n    json.dump(data, f, ensure_ascii=False, indent=4)\\n\\n# 读取JSON文件\\nwith open(\"data.json\", \"r\", encoding=\"utf-8\") as f:\\n    loaded_data = json.load(f)\\n\\nprint(loaded_data)\\n# {\\'name\\': \\'Alili\\', \\'age\\': 25, \\'skills\\': [\\'Python\\', \\'Data Analysis\\']}\\n\\n# ensure_ascii=False 可以在写入 JSON 时保留非 ASCII 字符（如中文），避免出现 \\\\uXXXX 形式。\\n# indent=4 表示写入时缩进 4 个空格，方便阅读。', 'def count_up_to(max):\\n    count = 1\\n    while count <= max:\\n        yield count  # 返回当前计数，并暂停函数状态\\n        count += 1\\n\\n# 使用生成器函数\\ncounter = count_up_to(3)\\n\\nprint(next(counter))  # 1\\nprint(next(counter))  # 2\\nprint(next(counter))  # 3\\n# print(next(counter))  # 会引发 StopIteration', '# 创建一个生成器表达式\\nsquares_gen = (x**2 for x in range(1, 4))\\n\\nprint(next(squares_gen))  # 1\\nprint(next(squares_gen))  # 4\\nprint(next(squares_gen))  # 9\\n# print(next(squares_gen))  # 会引发 StopIteration', 'def fibonacci(n):\\n    a, b = 0, 1\\n    for _ in range(n):\\n        yield a\\n        a, b = b, a + b\\n\\n# 创建一个Fibonacci生成器\\nfib_gen = fibonacci(5)\\n\\nfor num in fib_gen:\\n    print(num)\\n\\n# 0\\n# 1\\n# 1\\n# 2\\n# 3', '# 创建一个生成器表达式，生成1到5的立方\\ncubes_gen = (x**3 for x in range(1, 6))\\n\\nfor cube in cubes_gen:\\n    print(cube)\\n# 1\\n# 8\\n# 27\\n# 64\\n# 125', '# 使用生成器函数生成平方数\\n\\ndef generate_squares(n):\\n    for x in range(1, n + 1):\\n        yield x**2\\n\\nsquares = generate_squares(5)\\n\\nfor square in squares:\\n    print(square)\\n\\n# 1\\n# 4\\n# 9\\n# 16\\n# 25', 'def echo():\\n    while True:\\n        value = yield\\n        print(f\"Echo: {value}\")\\n\\n# 创建生成器\\ne = echo()\\nnext(e)  # 启动生成器\\n\\n# 发送数据\\ne.send(\"Hello\")  # Echo: Hello\\ne.send(\"World\")  # Echo: World', 'def generator():\\n    try:\\n        yield 1\\n        yield 2\\n        yield 3\\n    except GeneratorExit:\\n        print(\"Generator closed.\")\\n\\ngen = generator()\\nprint(next(gen))  # 1\\ngen.close()      # Generator closed.', \"import itertools\\nfirst_letter = lambda x: x[0]\\nnames = ['Aln', 'Ada', 'Wes', 'Wi', 'Albe', 'Sten']\\nfor letter, names in itertools.groupby(names, first_letter):\\n    print(letter, list(names)) # names is a generator\\n\\n# A ['Aln', 'Ada']\\n# W ['Wes', 'Wi']\\n# A ['Albe']\\n# S ['Sten']\", \"# 获取迭代器\\n# 可以使用内置函数 iter() 将可迭代对象转换为迭代器。\\n# 创建一个列表\\nfruits = ['apple', 'banana', 'cherry']\\n# 获取列表的迭代器\\nfruits_iterator = iter(fruits)\\n# 使用 next() 获取元素\\nprint(next(fruits_iterator))  # apple\\nprint(next(fruits_iterator))  # banana\\nprint(next(fruits_iterator))  # cherry\\n# 再调用 next() 会引发 StopIteration 异常\\n# print(next(fruits_iterator))  # 会引发 StopIteration\", \"# for 循环内部使用迭代器机制，自动处理 StopIteration 异常。\\nfruits = ['apple', 'banana', 'cherry']\\nfor fruit in fruits:\\n    print(fruit)\\n# apple\\n# banana\\n# cherry\", 'class MyIterator:\\n    def __init__(self, start, end):\\n        self.current = start\\n        self.end = end\\n    def __iter__(self):\\n        return self  # 迭代器返回自身\\n    def __next__(self):\\n        if self.current >= self.end:\\n            raise StopIteration  # 没有更多元素时引发异常\\n        self.current += 1\\n        return self.current - 1\\n# 使用自定义迭代器\\nmy_iter = MyIterator(1, 4)\\nfor num in my_iter:\\n    print(num)  # 1 2 3', '# 创建一个简单的迭代器\\n\\nclass Countdown:\\n    def __init__(self, start):\\n        self.current = start\\n\\n    def __iter__(self):\\n        return self\\n\\n    def __next__(self):\\n        if self.current <= 0:\\n            raise StopIteration\\n        self.current -= 1\\n        return self.current\\n\\n# 使用迭代器\\nfor number in Countdown(3):\\n    print(number)\\n\\n# 2\\n# 1\\n# 0', '# 使用生成器表达式筛选偶数\\n\\nnumbers = range(1, 11)\\nevens_gen = (x for x in numbers if x % 2 == 0)\\n\\nfor even in evens_gen:\\n    print(even)\\n\\n# 2\\n# 4\\n# 6\\n# 8\\n# 10', 'class Person:\\n    \"\"\"代表一个人的类\"\"\"\\n    def __init__(self, name, age):\\n        # __init__ 是构造方法，用于初始化对象属性\\n        self.name = name\\n        self.age = age\\n    def greet(self):\\n        # self 是对实例自身的引用，在定义实例方法时必须作为第一个参数\\n        print(f\"Hello, I am {self.name}, and I\\'m {self.age} years old.\")', 'person1 = Person(\"Alili\", 25)\\nperson2 = Person(\"Bomm\", 30)\\n\\nperson1.greet()  # Hello, I am Alili, and I\\'m 25 years old.\\nperson2.greet()  # Hello, I am Bomm, and I\\'m 30 years old.', 'class Car:\\n    # 类属性\\n    wheels = 4\\n    def __init__(self, brand, model):\\n        # 实例属性\\n        self.brand = brand\\n        self.model = model\\n\\ncar1 = Car(\"车a\", \"x-a\")\\ncar2 = Car(\"车b\", \"x-b\")\\n\\nprint(car1.wheels, car2.wheels)  # 都是 4（共享）\\nprint(car1.brand, car2.brand)    # 车a, 车b（不同）', 'class MyClass:\\n    count = 0\\n\\n    def __init__(self):\\n        MyClass.count += 1\\n\\n    @classmethod\\n    def how_many(cls):\\n        return cls.count\\n\\nx1 = MyClass()\\nx2 = MyClass()\\nprint(MyClass.how_many())  # 2', 'class MathHelper:\\n    @staticmethod\\n    def add(a, b):\\n        return a + b\\n\\nprint(MathHelper.add(3, 4))  # 7', '# 自定义一个简单的类，为其实现 __str__ 和 __len__。\\n\\nclass MyList:\\n    def __init__(self, items):\\n        self.items = items\\n\\n    def __str__(self):\\n        return f\"MyList: {self.items}\"\\n\\n    def __len__(self):\\n        return len(self.items)\\n\\nlst = MyList([4, 2, 3])\\nprint(lst)         # MyList: [4, 2, 3]\\nprint(len(lst))    # 3', '#  练习1：定义一个类描述数字时钟。 \\n\\nfrom time import sleep\\nclass Clock(object):\\n    \"\"\"数字时钟\"\"\"\\n\\n    def __init__(self, hour=0, minute=0, second=0):\\n        \"\"\"初始化方法\\n        :param hour: 时\\n        :param minute: 分\\n        :param second: 秒\\n        \"\"\"\\n        self._hour = hour\\n        self._minute = minute\\n        self._second = second\\n\\n    def run(self):\\n        \"\"\"走字\"\"\"\\n        self._second += 1\\n        if self._second == 60:\\n            self._second = 0\\n            self._minute += 1\\n            if self._minute == 60:\\n                self._minute = 0\\n                self._hour += 1\\n                if self._hour == 24:\\n                    self._hour = 0\\n\\n    def show(self):\\n        \"\"\"显示时间\"\"\"\\n        return \\'%02d:%02d:%02d\\' % \\\\\\n               (self._hour, self._minute, self._second)\\n\\n\\n# clock = Clock(23,54,58)\\n# while True:\\n#     print(clock.show())\\n#     sleep(1)\\n#     clock.run()', '# 练习2：定义一个类描述平面上的点并提供移动点和计算到另一个点距离的方法。\\nfrom math import sqrt\\n\\nclass Point(object):\\n\\n    def __init__(self, x=0, y=0):\\n        \"\"\"初始化方法\\n        \\n        :param x: 横坐标\\n        :param y: 纵坐标\\n        \"\"\"\\n        self.x = x\\n        self.y = y\\n\\n    def move_to(self, x, y):\\n        \"\"\"移动到指定位置\\n        \\n        :param x: 新的横坐标\\n        \"param y: 新的纵坐标\\n        \"\"\"\\n        self.x = x\\n        self.y = y\\n\\n    def move_by(self, dx, dy):\\n        \"\"\"移动指定的增量\\n        \\n        :param dx: 横坐标的增量\\n        \"param dy: 纵坐标的增量\\n        \"\"\"\\n        self.x += dx\\n        self.y += dy\\n\\n    def distance_to(self, other):\\n        \"\"\"计算与另一个点的距离\\n        \\n        :param other: 另一个点\\n        \"\"\"\\n        dx = self.x - other.x\\n        dy = self.y - other.y\\n        return sqrt(dx ** 2 + dy ** 2)\\n\\n    def __str__(self):\\n        return \\'(%s, %s)\\' % (str(self.x), str(self.y))\\n\\n\\np1 = Point(4, 5)\\np2 = Point()\\nprint(p1)\\nprint(p2)\\np2.move_by(-1, 3)\\nprint(p2)\\nprint(p1.distance_to(p2))\\n\\n# (4, 5)\\n# (0, 0)\\n# (-1, 3)\\n# 5.385164807134504', 'def decorator(func):\\n    def wrapper():\\n        print(\"Before function call\")\\n        func()  # 调用原始函数\\n        print(\"After function call\")\\n    return wrapper\\n\\n@decorator  # 等价于 func = decorator(func)\\ndef say_hello():\\n    print(\"Hello!\")\\n\\nsay_hello()  \\n# Before function call\\n# Hello!\\n# After function call', 'class OpTest:\\n    \"\"\"访问可见性简单测试\"\"\"\\n    def __init__(self, insA):\\n        self.__insA = insA\\n    def __qst(self):\\n        print(self.__insA)\\n        print(\"__qst\")\\n\\ndef main():\\n    test = OpTest(\\'Hello\\')\\n    # test.__qst()\\n    # # AttributeError: \\'OpTest\\' object has no attribute \\'__qst\\'\\n    print(test.__qst)\\n    # AttributeError: \\'OpTest\\' object has no attribute \\'__qst\\'\\nmain()', 'class OpTest:\\n    \"\"\"访问可见性简单测试\"\"\"\\n    \\n    def __init__(self, insA):\\n        self.__insA = insA\\n    \\n    def __qst(self):\\n        print(self.__insA)\\n        print(\"__qst\")\\n\\ndef main():\\n    test = OpTest(\\'Hello\\')\\n    \\n    test._OpTest__qst()\\n    print(test._OpTest__insA)\\n    \\nmain()\\n\\n# Hello\\n# __qst\\n# Hello', '# @property包装器来包装getter和setter方法，使得对属性的访问既安全又方便\\nclass Person(object):\\n\\n    def __init__(self, name, age):\\n        self._name = name\\n        self._age = age\\n\\n    # 访问器 - getter方法\\n    @property\\n    def name(self):\\n        return self._name\\n\\n    # 访问器 - getter方法\\n    @property\\n    def age(self):\\n        return self._age\\n\\n    # 修改器 - setter方法\\n    @age.setter\\n    def age(self, age):\\n        self._age = age\\n\\n    def play(self):\\n        if self._age <= 16:\\n            print(f\"{self.name}在玩这\")\\n        else:\\n            print(f\"{self.name}在玩那\")\\n\\nperson = Person(\\'abc\\', 12)\\nperson.play()\\nperson.age = 22\\nperson.play()\\n# abc在玩这\\n# abc在玩那\\n\\n# person.name = \\'另一个人\\'  # AttributeError: can\\'t set attribute\\nperson.age = 10000\\nprint(person.age)  # 10000', 'class Person(object):\\n    # 限定Person对象只能绑定_name, _age和_gender属性\\n    __slots__ = (\\'_name\\', \\'_age\\', \\'_gender\\')\\n    def __init__(self, name, age):\\n        self._name = name\\n        self._age = age\\n    @property\\n    def name(self):\\n        return self._name\\n    @property\\n    def age(self):\\n        return self._age\\n    @age.setter\\n    def age(self, age):\\n        self._age = age\\n    def play(self):\\n        if self._age <= 16:\\n            print(f\"{self.name}在玩\")\\n        else:\\n            print(f\"{self.name}在睡觉\")\\n\\nperson = Person(\\'aaa\\', 22)\\nperson.play()\\nperson._gender = \\'男\\'\\n# aaa在睡觉\\n\\n# # AttributeError: \\'Person\\' object has no attribute \\'_is_bad\\'\\n# person._is_bad = True', \"from math import sqrt\\n\\n\\nclass Triangle(object):\\n\\n    def __init__(self, a, b, c):\\n        self._a = a\\n        self._b = b\\n        self._c = c\\n\\n    @staticmethod\\n    def is_valid(a, b, c):\\n        return a + b > c and b + c > a and a + c > b\\n\\n    def perimeter(self):\\n        return self._a + self._b + self._c\\n\\n    def area(self):\\n        half = self.perimeter() / 2\\n        return sqrt(half * (half - self._a) *\\n                    (half - self._b) * (half - self._c))\\n\\ndef main():\\n    a, b, c = 10, 8, 3\\n    # 静态方法和类方法都是通过给类发消息来调用的\\n    if Triangle.is_valid(a, b, c):\\n        t = Triangle(a, b, c)\\n        print(t.perimeter())\\n        # 也可以通过给类发消息来调用对象方法但是要传入接收消息的对象作为参数\\n        # print(Triangle.perimeter(t))\\n        print(t.area())\\n        # print(Triangle.area(t))\\n    else:\\n        print('无法构成三角形.')\\n\\nmain()\\n# 21\\n# 9.921567416492215\", 'from time import time, localtime, sleep\\n\\n\\nclass Clock(object):\\n    \"\"\"数字时钟\"\"\"\\n\\n    def __init__(self, hour=0, minute=0, second=0):\\n        self._hour = hour\\n        self._minute = minute\\n        self._second = second\\n\\n    @classmethod\\n    def now(cls):\\n        ctime = localtime(time())\\n        return cls(ctime.tm_hour, ctime.tm_min, ctime.tm_sec)\\n\\n    def run(self):\\n        \"\"\"走字\"\"\"\\n        self._second += 1\\n        if self._second == 60:\\n            self._second = 0\\n            self._minute += 1\\n            if self._minute == 60:\\n                self._minute = 0\\n                self._hour += 1\\n                if self._hour == 24:\\n                    self._hour = 0\\n\\n    def show(self):\\n        \"\"\"显示时间\"\"\"\\n        return \\'%02d:%02d:%02d\\' % \\\\\\n               (self._hour, self._minute, self._second)\\n\\n# # 通过类方法创建对象并获取系统时间\\n# clock = Clock.now()\\n# while True:\\n#     print(clock.show())\\n#     sleep(1)\\n#     clock.run()', 'class Person(object):\\n    \"\"\"人\"\"\"\\n    def __init__(self, name, age):\\n        self._name = name\\n        self._age = age\\n        \\n    @property\\n    def name(self):\\n        return self._name\\n\\n    @property\\n    def age(self):\\n        return self._age\\n\\n    @age.setter\\n    def age(self, age):\\n        self._age = age\\n\\n    def play(self): print(f\"{self.name}玩疯了\")\\n    def watch_tv(self):\\n        if self._age >= 18: print(f\"{self.name}看电视睡着了\")\\n        else: print(f\"{self.name}不看电视\")\\n\\nclass Student(Person):\\n    \"\"\"学生\"\"\"\\n    def __init__(self, name, age, grade):\\n        super().__init__(name, age)\\n        self._grade = grade\\n\\n    @property\\n    def grade(self):\\n        return self._grade\\n\\n    @grade.setter\\n    def grade(self, grade):\\n        self._grade = grade\\n\\n    def study(self, course): print(f\"{self._grade}的{self._name}在学{course}\")\\n\\nclass Teacher(Person):\\n    \"\"\"老师\"\"\"\\n    def __init__(self, name, age, title):\\n        super().__init__(name, age)\\n        self._title = title\\n\\n    @property\\n    def title(self):\\n        return self._title\\n\\n    @title.setter\\n    def title(self, title):\\n        self._title = title\\n        \\n    def teach(self, course): print(f\"{self._name}{self._title}在授课{course}\")\\n\\nstu = Student(\\'学生a\\', 15, \\'初三\\')\\nstu.study(\\'数学\\')\\nstu.watch_tv()\\nt = Teacher(\\'无敌\\', 49, \\'程序员\\')\\nt.teach(\\'Python如何打印helloworld\\')\\nt.watch_tv()\\n\\n# 初三的学生a在学数学\\n# 学生a不看电视\\n# 无敌程序员在授课Python如何打印helloworld\\n# 无敌看电视睡着了', 'from abc import ABCMeta, abstractmethod\\n\\nclass Pet(object, metaclass=ABCMeta):\\n    \"\"\"宠物\"\"\"\\n    def __init__(self, nickname):\\n        self._nickname = nickname\\n    @abstractmethod\\n    def make_voice(self):\\n        \"\"\"发出声音\"\"\"\\n        pass\\n\\nclass Dog(Pet):\\n    \"\"\"狗\"\"\"\\n    def make_voice(self):\\n        print(\\'%s: 汪汪汪...\\' % self._nickname)\\n\\nclass Cat(Pet):\\n    \"\"\"猫\"\"\"\\n    def make_voice(self):\\n        print(\\'%s: 喵...喵...\\' % self._nickname)\\n\\npets = [Dog(\\'狗a\\'), Cat(\\'猫a\\'), Dog(\\'另一只狗\\')]\\nfor pet in pets:\\n    pet.make_voice()\\n\\n# 狗a: 汪汪汪...\\n# 猫a: 喵...喵...\\n# 另一只狗: 汪汪汪...', \"from abc import ABCMeta, abstractmethod\\nclass Pet(object, metaclass=ABCMeta):\\n    def __init__(self, nickname):\\n        self._nickname = nickname\\n    @abstractmethod\\n    def make_voice(self): pass\\nclass Dog(Pet):\\n    def make_voice(self): print('%s: 汪汪汪...' % self._nickname)\\nclass Cat(Pet):\\n    def make_voice(self): print('%s: 喵...喵...' % self._nickname)\\n\\npets = [Dog('狗a'), Cat('猫a'), Dog('另一只狗')]\\nfor pet in pets:\\n    pet.make_voice()\\n# 狗a: 汪汪汪...\\n# 猫a: 喵...喵...\\n# 另一只狗: 汪汪汪...\", '# 综合案例1：奥特曼打小怪兽。\\n\\nfrom abc import ABCMeta, abstractmethod\\nfrom random import randint, randrange\\n\\nclass Fighter(object, metaclass=ABCMeta):\\n    \"\"\"战斗者\"\"\"\\n    # 通过__slots__魔法限定对象可以绑定的成员变量\\n    __slots__ = (\\'_name\\', \\'_hp\\')\\n    def __init__(self, name, hp):\\n        \"\"\"初始化方法\\n        :param name: 名字\\n        :param hp: 生命值\\n        \"\"\"\\n        self._name = name\\n        self._hp = hp\\n    @property\\n    def name(self):\\n        return self._name\\n    @property\\n    def hp(self):\\n        return self._hp\\n    @hp.setter\\n    def hp(self, hp):\\n        self._hp = hp if hp >= 0 else 0\\n    @property\\n    def alive(self):\\n        return self._hp > 0\\n    @abstractmethod\\n    def attack(self, other):\\n        \"\"\"攻击\\n        :param other: 被攻击的对象\\n        \"\"\"\\n        pass\\n\\nclass Ultraman(Fighter):\\n    \"\"\"奥特曼\"\"\"\\n    __slots__ = (\\'_name\\', \\'_hp\\', \\'_mp\\')\\n    def __init__(self, name, hp, mp):\\n        \"\"\"初始化方法\\n        :param name: 名字\\n        :param hp: 生命值\\n        :param mp: 魔法值\\n        \"\"\"\\n        super().__init__(name, hp)\\n        self._mp = mp\\n    def attack(self, other):\\n        other.hp -= randint(15, 25)\\n    def huge_attack(self, other):\\n        \"\"\"究极必杀技(打掉对方至少50点或四分之三的血)\\n        :param other: 被攻击的对象\\n        :return: 使用成功返回True否则返回False\\n        \"\"\"\\n        if self._mp >= 50:\\n            self._mp -= 50\\n            injury = other.hp * 3 // 4\\n            injury = injury if injury >= 50 else 50\\n            other.hp -= injury\\n            return True\\n        else:\\n            self.attack(other)\\n            return False\\n    def magic_attack(self, others):\\n        \"\"\"魔法攻击\\n        :param others: 被攻击的群体\\n        :return: 使用魔法成功返回True否则返回False\\n        \"\"\"\\n        if self._mp >= 20:\\n            self._mp -= 20\\n            for temp in others:\\n                if temp.alive:\\n                    temp.hp -= randint(10, 15)\\n            return True\\n        else:\\n            return False\\n    def resume(self):\\n        \"\"\"恢复魔法值\"\"\"\\n        incr_point = randint(1, 10)\\n        self._mp += incr_point\\n        return incr_point\\n    def __str__(self):\\n        return \\'~~~%s奥特曼~~~\\\\n\\' % self._name + \\\\\\n            \\'生命值: %d\\\\n\\' % self._hp + \\\\\\n            \\'魔法值: %d\\\\n\\' % self._mp\\n\\nclass Monster(Fighter):\\n    \"\"\"小怪兽\"\"\"\\n    __slots__ = (\\'_name\\', \\'_hp\\')\\n    def attack(self, other):\\n        other.hp -= randint(10, 20)\\n    def __str__(self):\\n        return \\'~~~%s小怪兽~~~\\\\n\\' % self._name + \\\\\\n            \\'生命值: %d\\\\n\\' % self._hp\\n\\ndef is_any_alive(monsters):\\n    \"\"\"判断有没有小怪兽是活着的\"\"\"\\n    for monster in monsters:\\n        if monster.alive > 0:\\n            return True\\n    return False\\n\\ndef select_alive_one(monsters):\\n    \"\"\"选中一只活着的小怪兽\"\"\"\\n    monsters_len = len(monsters)\\n    while True:\\n        index = randrange(monsters_len)\\n        monster = monsters[index]\\n        if monster.alive > 0:\\n            return monster\\n\\ndef display_info(ultraman, monsters):\\n    \"\"\"显示奥特曼和小怪兽的信息\"\"\"\\n    print(ultraman)\\n    for monster in monsters:\\n        print(monster, end=\\'\\')\\n\\ndef main():\\n    u = Ultraman(\\'a\\', 1000, 120)\\n    m1 = Monster(\\'c1\\', 250)\\n    m2 = Monster(\\'c2\\', 500)\\n    m3 = Monster(\\'c3\\', 750)\\n    ms = [m1, m2, m3]\\n    fight_round = 1\\n    while u.alive and is_any_alive(ms):\\n        print(\\'========第%02d回合========\\' % fight_round)\\n        m = select_alive_one(ms)  # 选中一只小怪兽\\n        skill = randint(1, 10)   # 通过随机数选择使用哪种技能\\n        if skill <= 6:  # 60%的概率使用普通攻击\\n            print(\\'%s使用普通攻击打了%s.\\' % (u.name, m.name))\\n            u.attack(m)\\n            print(\\'%s的魔法值恢复了%d点.\\' % (u.name, u.resume()))\\n        elif skill <= 9:  # 30%的概率使用魔法攻击(可能因魔法值不足而失败)\\n            if u.magic_attack(ms):\\n                print(\\'%s使用了魔法攻击.\\' % u.name)\\n            else:\\n                print(\\'%s使用魔法失败.\\' % u.name)\\n        else:  # 10%的概率使用究极必杀技(如果魔法值不足则使用普通攻击)\\n            if u.huge_attack(m):\\n                print(\\'%s使用究极必杀技虐了%s.\\' % (u.name, m.name))\\n            else:\\n                print(\\'%s使用普通攻击打了%s.\\' % (u.name, m.name))\\n                print(\\'%s的魔法值恢复了%d点.\\' % (u.name, u.resume()))\\n        if m.alive > 0:  # 如果选中的小怪兽没有死就回击奥特曼\\n            print(\\'%s回击了%s.\\' % (m.name, u.name))\\n            m.attack(u)\\n        display_info(u, ms)  # 每个回合结束后显示奥特曼和小怪兽的信息\\n        fight_round += 1\\n    print(\\'\\\\n========战斗结束!========\\\\n\\')\\n    if u.alive > 0:\\n        print(\\'%s奥特曼胜利!\\' % u.name)\\n    else:\\n        print(\\'小怪兽胜利!\\')\\n\\n# # 调用\\n# main()', '# 综合案例2： 扑克游戏。\\n\\nimport random\\n\\n\\nclass Card(object):\\n    \"\"\"一张牌\"\"\"\\n\\n    def __init__(self, suite, face):\\n        self._suite = suite\\n        self._face = face\\n\\n    @property\\n    def face(self):\\n        return self._face\\n\\n    @property\\n    def suite(self):\\n        return self._suite\\n\\n    def __str__(self):\\n        if self._face == 1:\\n            face_str = \\'A\\'\\n        elif self._face == 11:\\n            face_str = \\'J\\'\\n        elif self._face == 12:\\n            face_str = \\'Q\\'\\n        elif self._face == 13:\\n            face_str = \\'K\\'\\n        else:\\n            face_str = str(self._face)\\n        return \\'%s%s\\' % (self._suite, face_str)\\n    \\n    def __repr__(self):\\n        return self.__str__()\\n\\n\\nclass Poker(object):\\n    \"\"\"一副牌\"\"\"\\n\\n    def __init__(self):\\n        self._cards = [Card(suite, face) \\n                       for suite in \\'♠♥♣♦\\'\\n                       for face in range(1, 14)]\\n        self._current = 0\\n\\n    @property\\n    def cards(self):\\n        return self._cards\\n\\n    def shuffle(self):\\n        \"\"\"洗牌(随机乱序)\"\"\"\\n        self._current = 0\\n        random.shuffle(self._cards)\\n\\n    @property\\n    def next(self):\\n        \"\"\"发牌\"\"\"\\n        card = self._cards[self._current]\\n        self._current += 1\\n        return card\\n\\n    @property\\n    def has_next(self):\\n        \"\"\"还有没有牌\"\"\"\\n        return self._current < len(self._cards)\\n\\n\\nclass Player(object):\\n    \"\"\"玩家\"\"\"\\n\\n    def __init__(self, name):\\n        self._name = name\\n        self._cards_on_hand = []\\n\\n    @property\\n    def name(self):\\n        return self._name\\n\\n    @property\\n    def cards_on_hand(self):\\n        return self._cards_on_hand\\n\\n    def get(self, card):\\n        \"\"\"摸牌\"\"\"\\n        self._cards_on_hand.append(card)\\n\\n    def arrange(self, card_key):\\n        \"\"\"玩家整理手上的牌\"\"\"\\n        self._cards_on_hand.sort(key=card_key)\\n\\n\\n# 排序规则-先根据花色再根据点数排序\\ndef get_key(card):\\n    return (card.suite, card.face)\\n\\n\\ndef main():\\n    p = Poker()\\n    p.shuffle()\\n    players = [Player(\\'小东\\'), Player(\\'小西\\'), Player(\\'小南\\'), Player(\\'小北\\')]\\n    for _ in range(13):\\n        for player in players:\\n            player.get(p.next)\\n    for player in players:\\n        print(player.name + \\':\\', end=\\' \\')\\n        player.arrange(get_key)\\n        print(player.cards_on_hand)\\n\\n\\n# main()', '# 综合案例3：工资结算系统。\\n\\n\"\"\"\\n某公司有三种类型的员工 分别是部门经理、程序员和销售员\\n需要设计一个工资结算系统 根据提供的员工信息来计算月薪\\n部门经理的月薪是每月固定15000元\\n程序员的月薪按本月工作时间计算 每小时150元\\n销售员的月薪是1200元的底薪加上销售额5%的提成\\n\"\"\"\\nfrom abc import ABCMeta, abstractmethod\\n\\n\\nclass Employee(object, metaclass=ABCMeta):\\n    \"\"\"员工\"\"\"\\n\\n    def __init__(self, name):\\n        \"\"\"\\n        初始化方法\\n\\n        :param name: 姓名\\n        \"\"\"\\n        self._name = name\\n\\n    @property\\n    def name(self):\\n        return self._name\\n\\n    @abstractmethod\\n    def get_salary(self):\\n        \"\"\"\\n        获得月薪\\n\\n        :return: 月薪\\n        \"\"\"\\n        pass\\n\\n\\nclass Manager(Employee):\\n    \"\"\"部门经理\"\"\"\\n\\n    def get_salary(self):\\n        return 15000.0\\n\\n\\nclass Programmer(Employee):\\n    \"\"\"程序员\"\"\"\\n\\n    def __init__(self, name, working_hour=0):\\n        super().__init__(name)\\n        self._working_hour = working_hour\\n\\n    @property\\n    def working_hour(self):\\n        return self._working_hour\\n\\n    @working_hour.setter\\n    def working_hour(self, working_hour):\\n        self._working_hour = working_hour if working_hour > 0 else 0\\n\\n    def get_salary(self):\\n        return 150.0 * self._working_hour\\n\\n\\nclass Salesman(Employee):\\n    \"\"\"销售员\"\"\"\\n\\n    def __init__(self, name, sales=0):\\n        super().__init__(name)\\n        self._sales = sales\\n\\n    @property\\n    def sales(self):\\n        return self._sales\\n\\n    @sales.setter\\n    def sales(self, sales):\\n        self._sales = sales if sales > 0 else 0\\n\\n    def get_salary(self):\\n        return 1200.0 + self._sales * 0.05\\n\\n\\ndef main():\\n    emps = [\\n        Manager(\\'a\\'), Programmer(\\'b\\'),\\n        Manager(\\'c\\'), Salesman(\\'d\\'),\\n        Salesman(\\'e\\'), Programmer(\\'f\\'),\\n        Programmer(\\'g\\')\\n    ]\\n    for emp in emps:\\n        if isinstance(emp, Programmer):\\n            emp.working_hour = int(input(\\'请输入%s本月工作时间: \\' % emp.name))\\n        elif isinstance(emp, Salesman):\\n            emp.sales = float(input(\\'请输入%s本月销售额: \\' % emp.name))\\n        # 同样是接收get_salary这个消息但是不同的员工表现出了不同的行为(多态)\\n        print(\\'%s本月工资为: ￥%s元\\' %\\n              (emp.name, emp.get_salary()))\\n\\n\\n# main()', \"def foo():\\n    print('hello, world!')\\n\\ndef foo():\\n    print('goodbye, world!')\\n\\n# 下面的代码会输出什么呢？\\nfoo()\\n# goodbye, world!\", 'import os  # 引入内置模块 os  \\nimport sys  # 引入内置模块 sys  \\n  \\n# 使用 os 模块中的方法  \\nprint(os.getcwd())  \\n  \\n# 使用 sys 模块中的方法  \\nprint(sys.version)  ', 'def func():\\n    a = 1  # a 在局部命名空间中\\n    print(locals())  # 打印当前函数的局部命名空间\\n\\nb = 2  # b 在全局命名空间中\\n# print(globals())  # 打印当前模块的全局命名空间', '# 示例：命名空间和作用域\\n\\n# 全局变量\\nx = \"global\"\\n\\ndef outer_function():\\n    # 嵌套函数的外部函数变量\\n    x = \"outer\"\\n\\n    def inner_function():\\n        # 嵌套函数变量\\n        nonlocal x  # 使用外部函数的变量\\n        x = \"inner\"\\n        print(\"Inner:\", x)\\n\\n    inner_function()\\n    print(\"Outer:\", x)\\n\\nouter_function()\\nprint(\"Global:\", x)\\n\\n# Inner: inner\\n# Outer: inner\\n# Global: global', \"def func(a=1):\\n    b = 2\\n    print(locals())  # 打印当前函数的局部命名空间\\n    '''\\n    locs = locals()  # locals() 返回一个只读的字典\\n    locs['c'] = 3  # 试图修改 locals() 会报错\\n    print(c)\\n    '''\\n    return a + b\\n\\nfunc()\\n\\nglos = globals()\\nglos['d'] = 4  # 可以通过 globals() 修改全局命名空间\\nprint(d)  # 输出：4\\n\\nprint(globals())  # 打印当前模块的全局命名空间\\n\\n# {'a': 1, 'b': 2}\\n# 4\\n# {'__name__': '__main__', '__doc__': None, '__package__': None, \\n# '__loader__': <_frozen_importlib_external.SourceFileLoader object at 0x7f8b5c7c4e80>, \\n# '__spec__': None, '__annotations__': {}, \\n# '__builtins__': <module 'builtins' (built-in)>, \\n# '__file__': 'namespace_test.py', '__cached__': None, \\n# 'func': <function func at 0x7f8b5c7c4c10>, \\n# 'glos': {...}, 'd': 4}\"], '_oh': {18: ['BAT', 'CAR', 'HAHA', 'PYTHON'], 21: ['Steven'], 116: 5, 144: ['BAT', 'CAR', 'HAHA', 'PYTHON'], 149: ['Steven'], 252: 5, 280: ['BAT', 'CAR', 'HAHA', 'PYTHON'], 285: ['Steven']}, '_dh': [WindowsPath('d:/chyCodespace/repo/origin/my_python/pybase'), WindowsPath('d:/chyCodespace/repo/origin/my_python/pybase')], 'In': ['', \"# NoneType  这个数据类型比较特殊，NoneType仅有唯一实例None\\nprint(type(None))   # <class 'NoneType'>\", '# 乘 *\\nmultiplication_ = 2*3\\nmultiplication_b = 2.*3\\nprint(f\"{multiplication_=}\")   # multiplication_=6\\nprint(f\"{multiplication_b=}\")  # multiplication_b=6.0', '# 除 /\\ndivision_ = 1/2\\ndivision_b = 2/1\\nprint(f\"{division_=}\")  # division_=0.5\\nprint(f\"{division_b=}\")  # division_b=2.0', '# 取商 //\\nrounding_ = 1 //2\\nprint(f\"{rounding_=}\")   # rounding_=0\\n\\n# 取余 % \\nremainder_ = 1%2\\nprint(f\"{remainder_=}\")  # remainder_=1', '# 幂运算 **\\npower_ = 2**3\\nprint(f\"{power_=}\")  # power_=8', '# 科学计数法\\na = 1e3\\nprint(f\"{a=}\")  # a=1000.0\\n\\nb = -2e-4\\nprint(f\"{b=}\")  # b=-0.0002', '# 常用数字运算函数\\nnumber = -7.25\\n\\nprint(f\"取绝对值：{abs(number)=}\")  # 取绝对值：abs(number)=7.25\\nprint(f\"求幂：{pow(2,3)=}\")  # 求幂：pow(2,3)=8\\nprint(f\"小数位数调整(有四舍五入)：{round(3.1415, 3)=}\")  # 小数位数调整(有四舍五入)：round(3.1415, 3)=3.142\\nprint(f\"取商取余：{divmod(10,3)=}\")  # 取商取余：divmod(10,3)=(3, 1)', '# 数字类型转换\\na = 1.2  # <class \\'float\\'>\\nb = 2  # <class \\'int\\'>\\nprint(f\"{int(a)=}\")  # int(a)=1\\nprint(type(int(a)))  # <class \\'int\\'>\\nprint(f\"{float(b)=}\")  # float(b)=2.0\\nprint(type(float(b)))  # <class \\'float\\'>\\n\\n# 空int \\nempty_int = int()\\nprint(f\"{type(empty_int)=}\")   # type(empty_int)=<class \\'int\\'>\\n\\n# 空float\\nempty_float = float()\\nprint(f\"{type(empty_float)=}\")  # type(empty_float)=<class \\'float\\'>', '# 拼接\\n# 使用加号\\ns1 = \"Hello\"\\ns2 = \"World\"\\ns3 = s1 + \",\" + s2 + \"!\"\\nprint(s3) # Hello,World!\\n\\n# 使用join()方法\\nwords= [\"Python\", \"is\", \"awesome\"]\\nsentense = \" \".join(words)\\nprint(sentense)  # Python is awesome\\n\\n# 重复\\ns = \\'Echo! \\'\\nrepeated = s * 3\\nprint(repeated)  # Echo! Echo! Echo! ', '# 分割\\n\\ns = \"Python is fun and powerful.\"\\nwords = s.split()\\nprint(words)   # [\\'Python\\', \\'is\\', \\'fun\\', \\'and\\', \\'powerful.\\']\\n\\n# words = s.split(\\' \\', 1)  # 看python的版本是否支持\\n# print(words)  # [\\'Python\\', \\'is fun and powerful.\\']\\n\\n# 使用指定分隔符\\nwords_dot = s.split(\\'.\\')\\nprint(words_dot)  # [\\'Python is fun and powerful\\', \\'\\']\\n\\ns_ = \"apple,banana,orange\"\\n# rsplit  从右开始分割,最多分割2次\\nfruits = s_.rsplit(\\',\\', 2)\\nprint(fruits)  # [\\'apple\\', \\'banana\\', \\'orange\\']', \"s = 'abracadabra'\\n\\nindex = s.find('cad')\\nprint(index)  # 4\\n\\nind = s.find('xyt')\\nprint(ind)  # -1\\n\\nlast_idx = s.rfind('abra')\\nprint(last_idx)  # 7\", 's = \"  Hello, Python!  \"\\n\\nprint(s.strip())  # Hello, Python\\nprint(s.lstrip()) # Hello, Python\\nprint(s.rstrip()) #   Hello, Python', 's = \"  Hello, Python!  \"\\n\\nprint(s.strip())  # Hello, Python!\\nprint(s.lstrip()) # Hello, Python!\\nprint(s.rstrip()) #   Hello, Python!', 'age = 19  \\nif age >= 18: print(\"You are an adult.\")\\nelif age >= 13: print(\"You are a teenager.\")\\nelse: print(\"You are a child.\")', 'age = 19   # age = input(\"请输入年龄:\")\\nif age >= 18: print(\"You are an adult.\")\\nelif age >= 13: print(\"You are a teenager.\")\\nelse: print(\"You are a child.\")', 'count = 0\\n\\nwhile count < 5:\\n    print(count)\\n    count += 1\\n\\n# 0\\n# 1\\n# 2\\n# 3\\n# 4', 'password = \"\"\\nwhile password != \"python123\":\\n    password = input(\"Enter the password: \")\\n    if password == \"python123\":\\n        print(\"Access granted.\")\\n    else:\\n        print(\"Incorrect password. Try again.\")\\n\\n\\n# # for \\n# for _ in range(5):\\n#     password = input(\"Enter the password: \")\\n#     if password == \"python123\":\\n#         print(\"Access granted.\")\\n#     else:\\n#         print(\"Incorrect password. Try again.\")\\n        ', \"strings = ['a', 'as', 'bat', 'car', 'haha', 'python']\\n[x.upper() for x in strings if len(x) > 2]\\n# ['BAT', 'CAR', 'HAHA', 'PYTHON']\", \"names_of_interest = []\\nfor names in all_data:\\n    enough_es = [name for name in names if name.count('e') > 1]\\n    names_of_interest.extend(enough_es)\\nnames_of_interest  # ['Steven']\", \"all_data = [['Johnn', 'Emly', 'Mikhael', 'Marny', 'Steven'], ['Marian', 'Juany', 'Javieru', 'Natalia', 'Pilar']]\", \"names_of_interest = []\\nfor names in all_data:\\n    enough_es = [name for name in names if name.count('e') > 1]\\n    names_of_interest.extend(enough_es)\\nnames_of_interest  # ['Steven']\", '# 返回一个或多个变量(通常是一个元组)\\ndef min_and_max(numbers):\\n    \"\"\"返回给定列表的最小值和最大值\"\"\"\\n    return min(numbers), max(numbers)\\nnums = [3, 1, 5, 2, 4]\\nprint(type(min_and_max(nums)))    # <class \\'tuple\\'>\\nlowest, highest = min_and_max(nums)\\nprint(lowest, highest)  # 输出: 1 5\\n\\n# 没有return\\ndef do_nothing(): pass\\nresult = do_nothing()\\nprint(result)  # None\\n\\ndef my_function(x, y, z=1.5):  \\n    if z > 1: return z * (x + y)\\n    else: return z / (x + y)\\n# 使用\\nprint(my_function(1,2))  # 按照定义时的参数顺序来传递值\\n# 4.5\\nprint(my_function(z=3,x=2,y=4))  # 显式地通过参数名来传递值，顺序随意\\n# 18', 'def greet(name, message):\\n    print(f\"{message}, {name}!\")\\n\\ngreet(\"Python\", \"Hello\")  # Hello, Python! \\n# 按顺序传递: name=\"Python\", message=\"Hello\"', 'def greet(name, message):\\n    print(f\"{message}, {name}!\")\\n\\n# 使用关键字参数，顺序随意\\ngreet(message=\"Hi\", name=\"Python\") # Hi, Python!', 'def greet(name, message=\"Hello\"):\\n    print(f\"{message}, {name}!\")\\n\\n# 只传name，message使用默认值\"Hello\"\\ngreet(\"Charlo\")  # HHello, Charlo!\\n# 同时传递两个参数\\ngreet(\"Daissy\", \"Hi\")  # Hi, Daissy!', 'def add_numbers(*args):\\n    total = 0\\n    for num in args:\\n        total += num\\n    return total\\n\\nprint(add_numbers(1, 2, 3))       # 6\\nprint(add_numbers(10, 20, 30, 5)) # 65', 'def build_profile(first_name, last_name, **kwargs):\\n    profile = {\"first_name\": first_name, \"last_name\": last_name}\\n    # 将额外的关键字参数更新到profile字典中\\n    for key, value in kwargs.items():\\n        profile[key] = value\\n    return profile\\n\\nuser_profile = build_profile(\"Alili\", \"Smith\", location=\"New York\", age=30, hobby=\"Reading\")\\nprint(user_profile)\\n# {\\'first_name\\': \\'Alili\\', \\'last_name\\': \\'Smith\\', \\'location\\': \\'New York\\', \\'age\\': 30, \\'hobby\\': \\'Reading\\'}\\n\\n# 在这个示例中，除了 first_name 和 last_name 外，\\n# 任何其他的关键字参数（location=\"New York\", age=30, hobby=\"Reading\"）都会被聚合到 kwargs 这个字典里。', 'def show_info(a, b, c):\\n    print(a, b, c)\\n\\ndata = {\"a\": 1, \"b\": 2, \"c\": 3}\\nshow_info(**data)  # 等价于 show_info(a=1, b=2, c=3)', '# 将列表中每个数值平方\\nnumbers = [1, 2, 3, 4]\\nsquared = list(map(lambda x: x**2, numbers))\\nprint(squared)  # 输出: [1, 4, 9, 16]\\n\\n# lambda 语句 等价于  fun_square\\ndef fun_square(x):\\n    return x ** 2\\nsquared_b = list(map(fun_square, numbers))\\nprint(squared_b)  # 输出: [1, 4, 9, 16]\\n    \\n# squared_c = [x ** 2 for x in numbers]', 'def add_nums(a, b):\\n    return a + b', 'add_five = lambda y: add_nums(5, y)', 'from functools import partial\\nadd_five = partial(add_nums, 5)\\nprint(add_five)\\n# functools.partial(<function add_nums at 0x00000222C2976B90>, 5)\\nprint(add_five(1)) \\n# 6', 'a = None\\ndef bind_a_variable():\\n    global a\\n    a = []\\nbind_a_variable()\\nprint(a)  # []', '# 创建一个简单的迭代器\\n\\nclass Countdown:\\n    def __init__(self, start):\\n        self.current = start\\n\\n    def __iter__(self):\\n        return self\\n\\n    def __next__(self):\\n        if self.current <= 0:\\n            raise StopIteration\\n        self.current -= 1\\n        return self.current\\n\\n# 使用迭代器\\nfor number in Countdown(3):\\n    print(number)\\n\\n# 2\\n# 1\\n# 0', \"import itertools\\nfirst_letter = lambda x: x[0]\\nnames = ['Aln', 'Ada', 'Wes', 'Wi', 'Albe', 'Sten']\\nfor letter, names in itertools.groupby(names, first_letter):\\n    print(letter, list(names)) # names is a generator\\n\\n# A ['Aln', 'Ada']\\n# W ['Wes', 'Wi']\\n# A ['Albe']\\n# S ['Sten']\", 'def echo():\\n    while True:\\n        value = yield\\n        print(f\"Echo: {value}\")\\n\\n# 创建生成器\\ne = echo()\\nnext(e)  # 启动生成器\\n\\n# 发送数据\\ne.send(\"Hello\")  # Echo: Hello\\ne.send(\"World\")  # Echo: World', 'person1 = Person(\"Alili\", 25)\\nperson2 = Person(\"Bomm\", 30)\\n\\nperson1.greet()  # Hello, I am Alili, and I\\'m 25 years old.\\nperson2.greet()  # Hello, I am Bomm, and I\\'m 30 years old.', 'class Person:\\n    \"\"\"代表一个人的类\"\"\"\\n    def __init__(self, name, age):\\n        # __init__ 是构造方法，用于初始化对象属性\\n        self.name = name\\n        self.age = age\\n    def greet(self):\\n        # self 是对实例自身的引用，在定义实例方法时必须作为第一个参数\\n        print(f\"Hello, I am {self.name}, and I\\'m {self.age} years old.\")', 'person1 = Person(\"Alili\", 25)\\nperson2 = Person(\"Bomm\", 30)\\n\\nperson1.greet()  # Hello, I am Alili, and I\\'m 25 years old.\\nperson2.greet()  # Hello, I am Bomm, and I\\'m 30 years old.', 'class Car:\\n    # 类属性\\n    wheels = 4\\n    def __init__(self, brand, model):\\n        # 实例属性\\n        self.brand = brand\\n        self.model = model\\n\\ncar1 = Car(\"车a\", \"x-a\")\\ncar2 = Car(\"车c\", \"x-d\")\\n\\nprint(car1.wheels, car2.wheels)  # 都是 4（共享）\\nprint(car1.brand, car2.brand)    # Toyota, Honda（不同）', 'class Car:\\n    # 类属性\\n    wheels = 4\\n    def __init__(self, brand, model):\\n        # 实例属性\\n        self.brand = brand\\n        self.model = model\\n\\ncar1 = Car(\"车a\", \"x-a\")\\ncar2 = Car(\"车b\", \"x-b\")\\n\\nprint(car1.wheels, car2.wheels)  # 都是 4（共享）\\nprint(car1.brand, car2.brand)    # 车a, Honda（不同）', 'class MyClass:\\n    count = 0\\n\\n    def __init__(self):\\n        MyClass.count += 1\\n\\n    @classmethod\\n    def how_many(cls):\\n        return cls.count\\n\\nx1 = MyClass()\\nx2 = MyClass()\\nprint(MyClass.how_many())  # 2', 'class MathHelper:\\n    @staticmethod\\n    def add(a, b):\\n        return a + b\\n\\nprint(MathHelper.add(3, 4))  # 7', '# 自定义一个简单的类，为其实现 __str__ 和 __len__。\\n\\nclass MyList:\\n    def __init__(self, items):\\n        self.items = items\\n\\n    def __str__(self):\\n        return f\"MyList: {self.items}\"\\n\\n    def __len__(self):\\n        return len(self.items)\\n\\nlst = MyList([4, 2, 3])\\nprint(lst)         # MyList: [1, 2, 3]\\nprint(len(lst))    # 3', '# 练习2：定义一个类描述平面上的点并提供移动点和计算到另一个点距离的方法。\\nfrom math import sqrt\\n\\nclass Point(object):\\n\\n    def __init__(self, x=0, y=0):\\n        \"\"\"初始化方法\\n        \\n        :param x: 横坐标\\n        :param y: 纵坐标\\n        \"\"\"\\n        self.x = x\\n        self.y = y\\n\\n    def move_to(self, x, y):\\n        \"\"\"移动到指定位置\\n        \\n        :param x: 新的横坐标\\n        \"param y: 新的纵坐标\\n        \"\"\"\\n        self.x = x\\n        self.y = y\\n\\n    def move_by(self, dx, dy):\\n        \"\"\"移动指定的增量\\n        \\n        :param dx: 横坐标的增量\\n        \"param dy: 纵坐标的增量\\n        \"\"\"\\n        self.x += dx\\n        self.y += dy\\n\\n    def distance_to(self, other):\\n        \"\"\"计算与另一个点的距离\\n        \\n        :param other: 另一个点\\n        \"\"\"\\n        dx = self.x - other.x\\n        dy = self.y - other.y\\n        return sqrt(dx ** 2 + dy ** 2)\\n\\n    def __str__(self):\\n        return \\'(%s, %s)\\' % (str(self.x), str(self.y))\\n\\n\\np1 = Point(4, 5)\\np2 = Point()\\nprint(p1)\\nprint(p2)\\np2.move_by(-1, 3)\\nprint(p2)\\nprint(p1.distance_to(p2))\\n\\n# (3, 5)\\n# (0, 0)\\n# (-1, 2)\\n# 5.0', 'class OpTest:\\n    \"\"\"访问可见性简单测试\"\"\"\\n    \\n    def __init__(self, insA):\\n        self.__insA = insA\\n    \\n    def __qst(self):\\n        print(self.__insA)\\n        print(\"__qst\")\\n\\ndef main():\\n    test = OpTest(\\'Hello\\')\\n    test.__qst()\\n    \\n    print(test.__qst)\\n        ', 'class OpTest:\\n    \"\"\"访问可见性简单测试\"\"\"\\n    \\n    def __init__(self, insA):\\n        self.__insA = insA\\n    \\n    def __qst(self):\\n        print(self.__insA)\\n        print(\"__qst\")\\n\\ndef main():\\n    test = OpTest(\\'Hello\\')\\n    test.__qst()\\n    \\n    print(test.__qst)\\n\\nmain()', 'class OpTest:\\n    \"\"\"访问可见性简单测试\"\"\"\\n    \\n    def __init__(self, insA):\\n        self.__insA = insA\\n    \\n    def __qst(self):\\n        print(self.__insA)\\n        print(\"__qst\")\\n\\ndef main():\\n    test = OpTest(\\'Hello\\')\\n    \\n    # test.__qst()\\n    # # AttributeError: \\'OpTest\\' object has no attribute \\'__qst\\'\\n    \\n    print(test.__qst)\\n\\nmain()', 'class OpTest:\\n    \"\"\"访问可见性简单测试\"\"\"\\n    \\n    def __init__(self, insA):\\n        self.__insA = insA\\n    \\n    def __qst(self):\\n        print(self.__insA)\\n        print(\"__qst\")\\n\\ndef main():\\n    test = OpTest(\\'Hello\\')\\n    \\n    test._OpTest__insA()\\n    print(test._OpTest__qst)\\nmain()', 'class OpTest:\\n    \"\"\"访问可见性简单测试\"\"\"\\n    \\n    def __init__(self, insA):\\n        self.__insA = insA\\n    \\n    def __qst(self):\\n        print(self.__insA)\\n        print(\"__qst\")\\n\\ndef main():\\n    test = OpTest(\\'Hello\\')\\n    \\n    test._OpTest__qst()\\n    print(test._OpTest__insA)\\n    \\nmain()', '# @property包装器来包装getter和setter方法，使得对属性的访问既安全又方便\\nclass Person(object):\\n\\n    def __init__(self, name, age):\\n        self._name = name\\n        self._age = age\\n\\n    # 访问器 - getter方法\\n    @property\\n    def name(self):\\n        return self._name\\n\\n    # 访问器 - getter方法\\n    @property\\n    def age(self):\\n        return self._age\\n\\n    # 修改器 - setter方法\\n    @age.setter\\n    def age(self, age):\\n        self._age = age\\n\\n    def play(self):\\n        if self._age <= 16:\\n            print(f\"{self.name}在玩这\")\\n        else:\\n            print(f\"{self.name}在玩那\")\\n\\nperson = Person(\\'abc\\', 12)\\nperson.play()\\nperson.age = 22\\nperson.play()\\n\\n\\n# person.name = \\'另一个人\\'  # AttributeError: can\\'t set attribute', '# @property包装器来包装getter和setter方法，使得对属性的访问既安全又方便\\nclass Person(object):\\n\\n    def __init__(self, name, age):\\n        self._name = name\\n        self._age = age\\n\\n    # 访问器 - getter方法\\n    @property\\n    def name(self):\\n        return self._name\\n\\n    # 访问器 - getter方法\\n    @property\\n    def age(self):\\n        return self._age\\n\\n    # 修改器 - setter方法\\n    @age.setter\\n    def age(self, age):\\n        self._age = age\\n\\n    def play(self):\\n        if self._age <= 16:\\n            print(f\"{self.name}在玩这\")\\n        else:\\n            print(f\"{self.name}在玩那\")\\n\\nperson = Person(\\'abc\\', 12)\\nperson.play()\\nperson.age = 22\\nperson.play()\\n# abc在玩这\\n# abc在玩那\\n\\nperson.name = \\'另一个人\\'  # AttributeError: can\\'t set attribute', '# @property包装器来包装getter和setter方法，使得对属性的访问既安全又方便\\nclass Person(object):\\n\\n    def __init__(self, name, age):\\n        self._name = name\\n        self._age = age\\n\\n    # 访问器 - getter方法\\n    @property\\n    def name(self):\\n        return self._name\\n\\n    # 访问器 - getter方法\\n    @property\\n    def age(self):\\n        return self._age\\n\\n    # 修改器 - setter方法\\n    @age.setter\\n    def age(self, age):\\n        self._age = age\\n\\n    def play(self):\\n        if self._age <= 16:\\n            print(f\"{self.name}在玩这\")\\n        else:\\n            print(f\"{self.name}在玩那\")\\n\\nperson = Person(\\'abc\\', 12)\\nperson.play()\\nperson.age = 22\\nperson.play()\\n# abc在玩这\\n# abc在玩那\\n\\n# person.name = \\'另一个人\\'  # AttributeError: can\\'t set attribute\\nperson.age = 100\\nprint(person.age)', '# @property包装器来包装getter和setter方法，使得对属性的访问既安全又方便\\nclass Person(object):\\n\\n    def __init__(self, name, age):\\n        self._name = name\\n        self._age = age\\n\\n    # 访问器 - getter方法\\n    @property\\n    def name(self):\\n        return self._name\\n\\n    # 访问器 - getter方法\\n    @property\\n    def age(self):\\n        return self._age\\n\\n    # 修改器 - setter方法\\n    @age.setter\\n    def age(self, age):\\n        self._age = age\\n\\n    def play(self):\\n        if self._age <= 16:\\n            print(f\"{self.name}在玩这\")\\n        else:\\n            print(f\"{self.name}在玩那\")\\n\\nperson = Person(\\'abc\\', 12)\\nperson.play()\\nperson.age = 22\\nperson.play()\\n# abc在玩这\\n# abc在玩那\\n\\n# person.name = \\'另一个人\\'  # AttributeError: can\\'t set attribute\\nperson.age = 10000\\nprint(person.age)  # 10000', 'class Person(object):\\n    # 限定Person对象只能绑定_name, _age和_gender属性\\n    __slots__ = (\\'_name\\', \\'_age\\', \\'_gender\\')\\n    def __init__(self, name, age):\\n        self._name = name\\n        self._age = age\\n    @property\\n    def name(self):\\n        return self._name\\n    @property\\n    def age(self):\\n        return self._age\\n    @age.setter\\n    def age(self, age):\\n        self._age = age\\n    def play(self):\\n        if self._age <= 16:\\n            print(f\"{self.name}在玩\")\\n        else:\\n            print(f\"{self.name}在睡觉\")\\n\\nperson = Person(\\'aaa\\', 22)\\nperson.play()\\nperson._gender = \\'男\\'\\n# \\n\\n# AttributeError: \\'Person\\' object has no attribute \\'_is_bad\\'\\nperson._is_bad = True', 'class Person(object):\\n    # 限定Person对象只能绑定_name, _age和_gender属性\\n    __slots__ = (\\'_name\\', \\'_age\\', \\'_gender\\')\\n    def __init__(self, name, age):\\n        self._name = name\\n        self._age = age\\n    @property\\n    def name(self):\\n        return self._name\\n    @property\\n    def age(self):\\n        return self._age\\n    @age.setter\\n    def age(self, age):\\n        self._age = age\\n    def play(self):\\n        if self._age <= 16:\\n            print(f\"{self.name}在玩\")\\n        else:\\n            print(f\"{self.name}在睡觉\")\\n\\nperson = Person(\\'aaa\\', 22)\\nperson.play()\\nperson._gender = \\'男\\'\\n# aaa在睡觉\\n\\n# # AttributeError: \\'Person\\' object has no attribute \\'_is_bad\\'\\n# person._is_bad = True', \"from math import sqrt\\n\\n\\nclass Triangle(object):\\n\\n    def __init__(self, a, b, c):\\n        self._a = a\\n        self._b = b\\n        self._c = c\\n\\n    @staticmethod\\n    def is_valid(a, b, c):\\n        return a + b > c and b + c > a and a + c > b\\n\\n    def perimeter(self):\\n        return self._a + self._b + self._c\\n\\n    def area(self):\\n        half = self.perimeter() / 2\\n        return sqrt(half * (half - self._a) *\\n                    (half - self._b) * (half - self._c))\\n\\ndef main():\\n    a, b, c = 10, 8, 3\\n    # 静态方法和类方法都是通过给类发消息来调用的\\n    if Triangle.is_valid(a, b, c):\\n        t = Triangle(a, b, c)\\n        print(t.perimeter())\\n        # 也可以通过给类发消息来调用对象方法但是要传入接收消息的对象作为参数\\n        # print(Triangle.perimeter(t))\\n        print(t.area())\\n        # print(Triangle.area(t))\\n    else:\\n        print('无法构成三角形.')\\n\\nmain()\", 'class Person(object):\\n    \"\"\"人\"\"\"\\n    def __init__(self, name, age):\\n        self._name = name\\n        self._age = age\\n        \\n    @property\\n    def name(self):\\n        return self._name\\n\\n    @property\\n    def age(self):\\n        return self._age\\n\\n    @age.setter\\n    def age(self, age):\\n        self._age = age\\n\\n    def play(self): print(f\"{self.name}玩疯了\")\\n    def watch_tv(self):\\n        if self._age >= 18: print(f\"{self.name}看电视睡着了\")\\n        else: print(f\"{self.name}不看电视\")\\n\\nclass Student(Person):\\n    \"\"\"学生\"\"\"\\n    def __init__(self, name, age, grade):\\n        super().__init__(name, age)\\n        self._grade = grade\\n\\n    @property\\n    def grade(self):\\n        return self._grade\\n\\n    @grade.setter\\n    def grade(self, grade):\\n        self._grade = grade\\n\\n    def study(self, course): print(f\"{self._grade}的{self._name}在学{course}\")\\n\\nclass Teacher(Person):\\n    \"\"\"老师\"\"\"\\n    def __init__(self, name, age, title):\\n        super().__init__(name, age)\\n        self._title = title\\n\\n    @property\\n    def title(self):\\n        return self._title\\n\\n    @title.setter\\n    def title(self, title):\\n        self._title = title\\n        \\n    def teach(self, course): print(f\"{self._name}{self._title}在授课{course}\")\\n\\nstu = Student(\\'学生a\\', 15, \\'初三\\')\\nstu.study(\\'数学\\')\\nstu.watch_tv()\\nt = Teacher(\\'无敌\\', 49, \\'程序员\\')\\nt.teach(\\'Python如何打印helloworld\\')\\nt.watch_tv()\\n\\n# 初三的王大锤正在学习数学.\\n# 王大锤只能观看《熊出没》.\\n# 无敌砖家正在讲Python程序设计.\\n# 无敌正在观看恐怖片.', 'from abc import ABCMeta, abstractmethod\\n\\nclass Pet(object, metaclass=ABCMeta):\\n    \"\"\"宠物\"\"\"\\n    def __init__(self, nickname):\\n        self._nickname = nickname\\n    @abstractmethod\\n    def make_voice(self):\\n        \"\"\"发出声音\"\"\"\\n        pass\\n\\nclass Dog(Pet):\\n    \"\"\"狗\"\"\"\\n    def make_voice(self):\\n        print(\\'%s: 汪汪汪...\\' % self._nickname)\\n\\nclass Cat(Pet):\\n    \"\"\"猫\"\"\"\\n    def make_voice(self):\\n        print(\\'%s: 喵...喵...\\' % self._nickname)\\n\\npets = [Dog(\\'狗a\\'), Cat(\\'猫a\\'), Dog(\\'另一只狗\\')]\\nfor pet in pets:\\n    pet.make_voice()\\n\\n# 旺财: 汪汪汪...\\n# 凯蒂: 喵...喵...\\n# 大黄: 汪汪汪...', \"from abc import ABCMeta, abstractmethod\\nclass Pet(object, metaclass=ABCMeta):\\n    def __init__(self, nickname):\\n        self._nickname = nickname\\n    @abstractmethod\\n    def make_voice(self): pass\\nclass Dog(Pet):\\n    def make_voice(self): print('%s: 汪汪汪...' % self._nickname)\\nclass Cat(Pet):\\n    def make_voice(self): print('%s: 喵...喵...' % self._nickname)\\n\\npets = [Dog('狗a'), Cat('猫a'), Dog('另一只狗')]\\nfor pet in pets:\\n    pet.make_voice()\\n# 旺财: 汪汪汪...\\n# 凯蒂: 喵...喵...\\n# 大黄: 汪汪汪...\", '# 综合案例1：奥特曼打小怪兽。\\n\\nfrom abc import ABCMeta, abstractmethod\\nfrom random import randint, randrange\\n\\nclass Fighter(object, metaclass=ABCMeta):\\n    \"\"\"战斗者\"\"\"\\n    # 通过__slots__魔法限定对象可以绑定的成员变量\\n    __slots__ = (\\'_name\\', \\'_hp\\')\\n    def __init__(self, name, hp):\\n        \"\"\"初始化方法\\n        :param name: 名字\\n        :param hp: 生命值\\n        \"\"\"\\n        self._name = name\\n        self._hp = hp\\n    @property\\n    def name(self):\\n        return self._name\\n    @property\\n    def hp(self):\\n        return self._hp\\n    @hp.setter\\n    def hp(self, hp):\\n        self._hp = hp if hp >= 0 else 0\\n    @property\\n    def alive(self):\\n        return self._hp > 0\\n    @abstractmethod\\n    def attack(self, other):\\n        \"\"\"攻击\\n        :param other: 被攻击的对象\\n        \"\"\"\\n        pass\\n\\nclass Ultraman(Fighter):\\n    \"\"\"奥特曼\"\"\"\\n    __slots__ = (\\'_name\\', \\'_hp\\', \\'_mp\\')\\n    def __init__(self, name, hp, mp):\\n        \"\"\"初始化方法\\n        :param name: 名字\\n        :param hp: 生命值\\n        :param mp: 魔法值\\n        \"\"\"\\n        super().__init__(name, hp)\\n        self._mp = mp\\n    def attack(self, other):\\n        other.hp -= randint(15, 25)\\n    def huge_attack(self, other):\\n        \"\"\"究极必杀技(打掉对方至少50点或四分之三的血)\\n        :param other: 被攻击的对象\\n        :return: 使用成功返回True否则返回False\\n        \"\"\"\\n        if self._mp >= 50:\\n            self._mp -= 50\\n            injury = other.hp * 3 // 4\\n            injury = injury if injury >= 50 else 50\\n            other.hp -= injury\\n            return True\\n        else:\\n            self.attack(other)\\n            return False\\n    def magic_attack(self, others):\\n        \"\"\"魔法攻击\\n        :param others: 被攻击的群体\\n        :return: 使用魔法成功返回True否则返回False\\n        \"\"\"\\n        if self._mp >= 20:\\n            self._mp -= 20\\n            for temp in others:\\n                if temp.alive:\\n                    temp.hp -= randint(10, 15)\\n            return True\\n        else:\\n            return False\\n    def resume(self):\\n        \"\"\"恢复魔法值\"\"\"\\n        incr_point = randint(1, 10)\\n        self._mp += incr_point\\n        return incr_point\\n    def __str__(self):\\n        return \\'~~~%s奥特曼~~~\\\\n\\' % self._name + \\\\\\n            \\'生命值: %d\\\\n\\' % self._hp + \\\\\\n            \\'魔法值: %d\\\\n\\' % self._mp\\n\\nclass Monster(Fighter):\\n    \"\"\"小怪兽\"\"\"\\n    __slots__ = (\\'_name\\', \\'_hp\\')\\n    def attack(self, other):\\n        other.hp -= randint(10, 20)\\n    def __str__(self):\\n        return \\'~~~%s小怪兽~~~\\\\n\\' % self._name + \\\\\\n            \\'生命值: %d\\\\n\\' % self._hp\\n\\ndef is_any_alive(monsters):\\n    \"\"\"判断有没有小怪兽是活着的\"\"\"\\n    for monster in monsters:\\n        if monster.alive > 0:\\n            return True\\n    return False\\n\\ndef select_alive_one(monsters):\\n    \"\"\"选中一只活着的小怪兽\"\"\"\\n    monsters_len = len(monsters)\\n    while True:\\n        index = randrange(monsters_len)\\n        monster = monsters[index]\\n        if monster.alive > 0:\\n            return monster\\n\\ndef display_info(ultraman, monsters):\\n    \"\"\"显示奥特曼和小怪兽的信息\"\"\"\\n    print(ultraman)\\n    for monster in monsters:\\n        print(monster, end=\\'\\')\\n\\ndef main():\\n    u = Ultraman(\\'a\\', 1000, 120)\\n    m1 = Monster(\\'c1\\', 250)\\n    m2 = Monster(\\'c2\\', 500)\\n    m3 = Monster(\\'c3\\', 750)\\n    ms = [m1, m2, m3]\\n    fight_round = 1\\n    while u.alive and is_any_alive(ms):\\n        print(\\'========第%02d回合========\\' % fight_round)\\n        m = select_alive_one(ms)  # 选中一只小怪兽\\n        skill = randint(1, 10)   # 通过随机数选择使用哪种技能\\n        if skill <= 6:  # 60%的概率使用普通攻击\\n            print(\\'%s使用普通攻击打了%s.\\' % (u.name, m.name))\\n            u.attack(m)\\n            print(\\'%s的魔法值恢复了%d点.\\' % (u.name, u.resume()))\\n        elif skill <= 9:  # 30%的概率使用魔法攻击(可能因魔法值不足而失败)\\n            if u.magic_attack(ms):\\n                print(\\'%s使用了魔法攻击.\\' % u.name)\\n            else:\\n                print(\\'%s使用魔法失败.\\' % u.name)\\n        else:  # 10%的概率使用究极必杀技(如果魔法值不足则使用普通攻击)\\n            if u.huge_attack(m):\\n                print(\\'%s使用究极必杀技虐了%s.\\' % (u.name, m.name))\\n            else:\\n                print(\\'%s使用普通攻击打了%s.\\' % (u.name, m.name))\\n                print(\\'%s的魔法值恢复了%d点.\\' % (u.name, u.resume()))\\n        if m.alive > 0:  # 如果选中的小怪兽没有死就回击奥特曼\\n            print(\\'%s回击了%s.\\' % (m.name, u.name))\\n            m.attack(u)\\n        display_info(u, ms)  # 每个回合结束后显示奥特曼和小怪兽的信息\\n        fight_round += 1\\n    print(\\'\\\\n========战斗结束!========\\\\n\\')\\n    if u.alive > 0:\\n        print(\\'%s奥特曼胜利!\\' % u.name)\\n    else:\\n        print(\\'小怪兽胜利!\\')\\n\\n# 调用\\nmain()', '# 综合案例3：工资结算系统。\\n\\n\"\"\"\\n某公司有三种类型的员工 分别是部门经理、程序员和销售员\\n需要设计一个工资结算系统 根据提供的员工信息来计算月薪\\n部门经理的月薪是每月固定15000元\\n程序员的月薪按本月工作时间计算 每小时150元\\n销售员的月薪是1200元的底薪加上销售额5%的提成\\n\"\"\"\\nfrom abc import ABCMeta, abstractmethod\\n\\n\\nclass Employee(object, metaclass=ABCMeta):\\n    \"\"\"员工\"\"\"\\n\\n    def __init__(self, name):\\n        \"\"\"\\n        初始化方法\\n\\n        :param name: 姓名\\n        \"\"\"\\n        self._name = name\\n\\n    @property\\n    def name(self):\\n        return self._name\\n\\n    @abstractmethod\\n    def get_salary(self):\\n        \"\"\"\\n        获得月薪\\n\\n        :return: 月薪\\n        \"\"\"\\n        pass\\n\\n\\nclass Manager(Employee):\\n    \"\"\"部门经理\"\"\"\\n\\n    def get_salary(self):\\n        return 15000.0\\n\\n\\nclass Programmer(Employee):\\n    \"\"\"程序员\"\"\"\\n\\n    def __init__(self, name, working_hour=0):\\n        super().__init__(name)\\n        self._working_hour = working_hour\\n\\n    @property\\n    def working_hour(self):\\n        return self._working_hour\\n\\n    @working_hour.setter\\n    def working_hour(self, working_hour):\\n        self._working_hour = working_hour if working_hour > 0 else 0\\n\\n    def get_salary(self):\\n        return 150.0 * self._working_hour\\n\\n\\nclass Salesman(Employee):\\n    \"\"\"销售员\"\"\"\\n\\n    def __init__(self, name, sales=0):\\n        super().__init__(name)\\n        self._sales = sales\\n\\n    @property\\n    def sales(self):\\n        return self._sales\\n\\n    @sales.setter\\n    def sales(self, sales):\\n        self._sales = sales if sales > 0 else 0\\n\\n    def get_salary(self):\\n        return 1200.0 + self._sales * 0.05\\n\\n\\ndef main():\\n    emps = [\\n        Manager(\\'a\\'), Programmer(\\'b\\'),\\n        Manager(\\'c\\'), Salesman(\\'d\\'),\\n        Salesman(\\'e\\'), Programmer(\\'f\\'),\\n        Programmer(\\'g\\')\\n    ]\\n    for emp in emps:\\n        if isinstance(emp, Programmer):\\n            emp.working_hour = int(input(\\'请输入%s本月工作时间: \\' % emp.name))\\n        elif isinstance(emp, Salesman):\\n            emp.sales = float(input(\\'请输入%s本月销售额: \\' % emp.name))\\n        # 同样是接收get_salary这个消息但是不同的员工表现出了不同的行为(多态)\\n        print(\\'%s本月工资为: ￥%s元\\' %\\n              (emp.name, emp.get_salary()))\\n\\n\\nmain()', 'import os  # 引入内置模块 os  \\nimport sys  # 引入内置模块 sys  \\n  \\n# 使用 os 模块中的方法  \\nprint(os.getcwd())  \\n  \\n# 使用 sys 模块中的方法  \\nprint(sys.version)  ', \"# NoneType  这个数据类型比较特殊，NoneType仅有唯一实例None\\nprint(type(None))   # <class 'NoneType'>\", \"is_student = True\\nhas_graduated = False\\n\\nprint(type(is_student))   # <class 'bool'>\\nprint(type(has_graduated))   # <class 'bool'>\", \"# int\\na = 10\\nb = -1  \\nprint(type(a))  # <class 'int'>\\nprint(type(b))  # <class 'int'>\\n\\n# float\\nc = 3.4\\nd = -0.002\\nprint(type(c))  # <class 'float'>\\nprint(type(d))  # <class 'float'>\\n\\n# complex\\ne = -2 + 4j\\nprint(type(e))   # <class 'complex'>\", '# 加 + \\nadd_ = 1 + 2\\nadd_b = 1.0 + .1\\nprint(f\"{add_=}\")   # add_=3\\nprint(f\"{add_b=}\")   # add_b=1.1', '# 减 -\\nsubtraction_ = 1-2\\nsubtraction_b = 1-2. \\nprint(f\"{subtraction_=}\")  # subtraction_=-1\\nprint(f\"{subtraction_b=}\")  # subtraction_b=-1.0', '# 乘 *\\nmultiplication_ = 2*3\\nmultiplication_b = 2.*3\\nprint(f\"{multiplication_=}\")   # multiplication_=6\\nprint(f\"{multiplication_b=}\")  # multiplication_b=6.0', '# 除 /\\ndivision_ = 1/2\\ndivision_b = 2/1\\nprint(f\"{division_=}\")  # division_=0.5\\nprint(f\"{division_b=}\")  # division_b=2.0', '# 取商 //\\nrounding_ = 1 //2\\nprint(f\"{rounding_=}\")   # rounding_=0\\n\\n# 取余 % \\nremainder_ = 1%2\\nprint(f\"{remainder_=}\")  # remainder_=1', '# 幂运算 **\\npower_ = 2**3\\nprint(f\"{power_=}\")  # power_=8', '# 科学计数法\\na = 1e3\\nprint(f\"{a=}\")  # a=1000.0\\n\\nb = -2e-4\\nprint(f\"{b=}\")  # b=-0.0002', '# 常用数字运算函数\\nnumber = -7.25\\n\\nprint(f\"取绝对值：{abs(number)=}\")  # 取绝对值：abs(number)=7.25\\nprint(f\"求幂：{pow(2,3)=}\")  # 求幂：pow(2,3)=8\\nprint(f\"小数位数调整(有四舍五入)：{round(3.1415, 3)=}\")  # 小数位数调整(有四舍五入)：round(3.1415, 3)=3.142\\nprint(f\"取商取余：{divmod(10,3)=}\")  # 取商取余：divmod(10,3)=(3, 1)', '# 数字类型转换\\na = 1.2  # <class \\'float\\'>\\nb = 2  # <class \\'int\\'>\\nprint(f\"{int(a)=}\")  # int(a)=1\\nprint(type(int(a)))  # <class \\'int\\'>\\nprint(f\"{float(b)=}\")  # float(b)=2.0\\nprint(type(float(b)))  # <class \\'float\\'>\\n\\n# 空int \\nempty_int = int()\\nprint(f\"{type(empty_int)=}\")   # type(empty_int)=<class \\'int\\'>\\n\\n# 空float\\nempty_float = float()\\nprint(f\"{type(empty_float)=}\")  # type(empty_float)=<class \\'float\\'>', 'name = \"Alili\"\\ngreeting = \"Hello !\"\\nmultiline = \"\"\"This is \\na \\nmultiline.\"\"\"\\n\\n# 空字符串   <class \\'str\\'>\\nempty_str = str()\\n# empty_str = \\'\\'\\n# empty_str = \"\"\\nprint(type(empty_str))    # <class \\'str\\'>', 's = \"Hello\"\\n# 尝试修改第一个字符\\ns[0] = \\'h\\'    # TypeError: \\'str\\' object does not support item assignment', \"# NoneType  这个数据类型比较特殊，NoneType仅有唯一实例None\\nprint(type(None))   # <class 'NoneType'>\", \"is_student = True\\nhas_graduated = False\\n\\nprint(type(is_student))   # <class 'bool'>\\nprint(type(has_graduated))   # <class 'bool'>\", \"# int\\na = 10\\nb = -1  \\nprint(type(a))  # <class 'int'>\\nprint(type(b))  # <class 'int'>\\n\\n# float\\nc = 3.4\\nd = -0.002\\nprint(type(c))  # <class 'float'>\\nprint(type(d))  # <class 'float'>\\n\\n# complex\\ne = -2 + 4j\\nprint(type(e))   # <class 'complex'>\", '# 加 + \\nadd_ = 1 + 2\\nadd_b = 1.0 + .1\\nprint(f\"{add_=}\")   # add_=3\\nprint(f\"{add_b=}\")   # add_b=1.1', '# 减 -\\nsubtraction_ = 1-2\\nsubtraction_b = 1-2. \\nprint(f\"{subtraction_=}\")  # subtraction_=-1\\nprint(f\"{subtraction_b=}\")  # subtraction_b=-1.0', '# 乘 *\\nmultiplication_ = 2*3\\nmultiplication_b = 2.*3\\nprint(f\"{multiplication_=}\")   # multiplication_=6\\nprint(f\"{multiplication_b=}\")  # multiplication_b=6.0', '# 除 /\\ndivision_ = 1/2\\ndivision_b = 2/1\\nprint(f\"{division_=}\")  # division_=0.5\\nprint(f\"{division_b=}\")  # division_b=2.0', '# 取商 //\\nrounding_ = 1 //2\\nprint(f\"{rounding_=}\")   # rounding_=0\\n\\n# 取余 % \\nremainder_ = 1%2\\nprint(f\"{remainder_=}\")  # remainder_=1', '# 幂运算 **\\npower_ = 2**3\\nprint(f\"{power_=}\")  # power_=8', '# 科学计数法\\na = 1e3\\nprint(f\"{a=}\")  # a=1000.0\\n\\nb = -2e-4\\nprint(f\"{b=}\")  # b=-0.0002', '# 常用数字运算函数\\nnumber = -7.25\\n\\nprint(f\"取绝对值：{abs(number)=}\")  # 取绝对值：abs(number)=7.25\\nprint(f\"求幂：{pow(2,3)=}\")  # 求幂：pow(2,3)=8\\nprint(f\"小数位数调整(有四舍五入)：{round(3.1415, 3)=}\")  # 小数位数调整(有四舍五入)：round(3.1415, 3)=3.142\\nprint(f\"取商取余：{divmod(10,3)=}\")  # 取商取余：divmod(10,3)=(3, 1)', '# 数字类型转换\\na = 1.2  # <class \\'float\\'>\\nb = 2  # <class \\'int\\'>\\nprint(f\"{int(a)=}\")  # int(a)=1\\nprint(type(int(a)))  # <class \\'int\\'>\\nprint(f\"{float(b)=}\")  # float(b)=2.0\\nprint(type(float(b)))  # <class \\'float\\'>\\n\\n# 空int \\nempty_int = int()\\nprint(f\"{type(empty_int)=}\")   # type(empty_int)=<class \\'int\\'>\\n\\n# 空float\\nempty_float = float()\\nprint(f\"{type(empty_float)=}\")  # type(empty_float)=<class \\'float\\'>', 'name = \"Alili\"\\ngreeting = \"Hello !\"\\nmultiline = \"\"\"This is \\na \\nmultiline.\"\"\"\\n\\n# 空字符串   <class \\'str\\'>\\nempty_str = str()\\n# empty_str = \\'\\'\\n# empty_str = \"\"\\nprint(type(empty_str))    # <class \\'str\\'>', 's = \"Hello\"\\n# 尝试修改第一个字符\\ns[0] = \\'h\\'    # TypeError: \\'str\\' object does not support item assignment', \"# 正确的做法是创建一个新的字符串\\ns_new = 'hello'\\nprint(s_new)  # hello\", 's = \"Hello, Python !\"\\n# 索引\\n# 正向索引  从0开始\\nprint(s[0])   # H\\nprint(s[7])   # P\\n# 反向索引  从-1开始\\nprint(s[-1])  # !\\nprint(s[-7])  # y\\n# 切片\\n# 基本切片\\nprint(s[0:5])  # Hello\\nprint(s[7:])  # Python !\\nprint(s[:5])  # Hello\\n# 使用步长   start:end:step     step默认是1，也就是连续取，step=2就是隔一个取\\nprint(s[::2])  # Hlo yhn!\\nprint(s[::-1])  # ! nohtyP ,olleH  # 字符串反转\\n# 负数索引切片 \\nprint(s[-6:-1])  # thon ', '# 拼接\\n# 使用加号\\ns1 = \"Hello\"\\ns2 = \"World\"\\ns3 = s1 + \",\" + s2 + \"!\"\\nprint(s3) # Hello,World!\\n\\n# 使用join()方法\\nwords= [\"Python\", \"is\", \"awesome\"]\\nsentense = \" \".join(words)\\nprint(sentense)  # Python is awesome\\n\\n# 重复\\ns = \\'Echo! \\'\\nrepeated = s * 3\\nprint(repeated)  # Echo! Echo! Echo! ', '# 分割\\n\\ns = \"Python is fun and powerful.\"\\nwords = s.split()\\nprint(words)   # [\\'Python\\', \\'is\\', \\'fun\\', \\'and\\', \\'powerful.\\']\\n\\n# words = s.split(\\' \\', 1)  # 看python的版本是否支持\\n# print(words)  # [\\'Python\\', \\'is fun and powerful.\\']\\n\\n# 使用指定分隔符\\nwords_dot = s.split(\\'.\\')\\nprint(words_dot)  # [\\'Python is fun and powerful\\', \\'\\']\\n\\ns_ = \"apple,banana,orange\"\\n# rsplit  从右开始分割,最多分割2次\\nfruits = s_.rsplit(\\',\\', 2)\\nprint(fruits)  # [\\'apple\\', \\'banana\\', \\'orange\\']', \"s = 'abracadabra'\\n\\nindex = s.find('cad')\\nprint(index)  # 4\\n\\nind = s.find('xyt')\\nprint(ind)  # -1\\n\\nlast_idx = s.rfind('abra')\\nprint(last_idx)  # 7\", 's = \"a, A\"\\nprint(s.upper())  # A, A\\nprint(s.lower())  # a, a', 's = \"  Hello, Python!  \"\\n\\nprint(s.strip())  # Hello, Python!\\nprint(s.lstrip()) # Hello, Python!\\nprint(s.rstrip()) #   Hello, Python!', 's = \"Pyrhon Programming\"\\n\\nprint(s.startswith(\\'Py\\'))  # True\\nprint(s.endswith(\\'g\\'))  # True\\nprint(s.startswith(\\'Java\\'))  # False', \"s = 'banana'\\n\\ncount = s.count('a')\\nprint(count)  # 3\", \"s = 'banana'\\n\\nindex_ = s.index('a')\\nprint(index_)  # 1\", 'name = \"Alili\"\\nage = 24\\n\\n# %\\ns = \"My name is %s and I am %d years old.\" % (name, age)\\nprint(s)\\n\\n# str.format()\\nfmt_mtd = \"My name is {} and I am {:.2f} years old.\".format(name, age)\\nprint(fmt_mtd)  # My name is Alili and I am 24.00 years old.\\n# 0 1 表示索引\\n# fmt_mtd = \"My name is {0} and I am {1} years old.\".format(name, age)\\n# fmt_mtd = \"My name is {0} and I am {1:.2f} years old.\".format(name, age)\\n\\n# f-str\\nf_method = f\"My name is {name} and I am {age:.2f} years old.\"\\nprint(f_method)  # My name is Alili and I am 24.00 years old.', 's = \"Hello,\\\\nPython!\"\\nprint(s)\\n# Hello,\\n# Python!\\n\\ns = r\"C:\\\\Users\\\\Alili\\\\Documents\"\\nprint(s)  # C:\\\\Users\\\\Alice\\\\Documents', 's = \"Python\"\\nprint(len(s))  # 6', 's = \"Python Programming\"\\nprint(\"Python\" in s)      # True\\nprint(\"Java\" not in s)    # True', 's = \"Hello\"\\nfor char in s:\\n    print(char)\\n# H\\n# e\\n# l\\n# l\\n# o', 's = \"Hello\"\\n\\n# 转换为列表\\nchars = list(s)\\nprint(chars)  # [\\'H\\', \\'e\\', \\'l\\', \\'l\\', \\'o\\']\\n\\n# 列表转换为字符串\\ns_new = \\'\\'.join(chars)\\nprint(s_new)  # Hello', 's = \"The quick brown fox jumps over the lazy dog.\"\\n# 查找子字符串\\nindex = s.find(\"fox\")\\nprint(index)  # 16\\n# 替换子字符串\\ns_new = s.replace(\"fox\", \"cat\")  \\nprint(s_new)  # The quick brown cat jumps over the lazy dog.', \"tup = 1,2,4\\n# tup = 1,2,4,\\n# tup = (1,2,4)\\n# tup = (1,2,4,)\\nprint(tup)   # (1, 2, 4)\\n\\nz_tup = (4,2,1), (3,9)\\nprint(z_tup)   # ((4, 2, 1), (3, 9))\\n\\n# 空元组\\nempty_tup = ()   #  <class 'tuple'>\\n# empty_tup = tuple()   # <class 'tuple'>\\nprint(type(empty_tup))   # <class 'tuple'>\", 'tuple_a = tuple([1,3,2,4,2])  # (1, 3, 2, 4, 2)\\nprint(tuple_a)\\ntuple_b = tuple(\"AbCdef\")  # (\\'A\\', \\'b\\', \\'C\\', \\'d\\', \\'e\\', \\'f\\')\\nprint(tuple_b)', \"tuple_c = tuple(['start', [0,0], 1, False])\\nid_before = id(tuple_c[1])  # 3004552076736\\n\\n# tuple_c[1] = [0,0,1] # 会引发 TypeError\\ntuple_c[1].append(1)  # ('start', [0, 0, 1], 1, False) \\nid_after = id(tuple_c[1])  # 3004552076736\\n\\nprint(id_before == id_after) # True\\n\\n# 在Python中，每个对象都有一个唯一的身份标识，用于区分不同的对象。\\n# id() 函数用于获取对象的唯一标识符。这是一个唯一的整数，且在对象的生命周期内保持不变\\n# id_before == id_after，id_before、id_after引用的是同一个对象 tuple_c[1]\\n# is 运算符,用于判断两个变量是否引用同一个对象,等同于比较两个变量的id是否相同\", 'tuple_ = (1,2,) + \"a\" + (\"1\",) + (2)  \\n# TypeError \"a\"、(\"a\") is str, type((2)) is int', 'tuple_d = (1,2,) + (\"a\",) + (\"1\",) + (2,)  \\ntuple_e = (\\'kk\\', \\'ss\\') * 2   \\nprint(f\"{tuple_d=}\")  # tuple_d=(1, 2, \\'a\\', \\'1\\', 2)\\nprint(f\"{tuple_e=}\")  # tuple_e=(\\'kk\\', \\'ss\\', \\'kk\\', \\'ss\\')', 'tuple_f = (1,21,33,41)\\na_, b_, c_, d_= tuple_f   # 1 21 33 41\\na_, b_, *rest = tuple_f   # 1 21\\nprint(f\"{rest=}\")   # rest=[33, 41]\\n\\ntuple_g = (1,),(21,33,41)\\na_, (b_, c_, d_) = tuple_g   #  (1,) 21 33 41\\na_, b_ = tuple_g   # (1,) (21, 33, 41)\\nprint(a_[0])   # 1', 'x_, y_ = 1, 2\\nx_, y_ = y_, x_ \\nprint(f\"{x_=}\") # x_=2\\nprint(f\"{y_=}\") # y_=1', 'tuple_h = 1,2,3,4,5,6,6,6,6,6,\\ntuple_h.count(6)  # 5', '# 空集合\\nempty_set = set()  # <class \\'set\\'>\\nprint(type(empty_set))  # <class \\'set\\'>\\n# 创建集合\\nunique_numbers = {1, 2, 3, 4, 5}\\n# 添加元素\\nunique_numbers.add(6)\\n# 删除元素\\nunique_numbers.discard(3)\\n\\n# 集合运算\\nevens = {2, 4, 6, 8}\\nodds = {1, 3, 5, 7}\\n# # -\\nsub_result = evens - odds\\nprint(f\"{sub_result=}\")   # sub_result={8, 2, 4, 6}\\n# # 并集\\nunion = evens.union(odds)\\n# union = evens | odds\\n# union = evens.update(odds)\\nprint(f\"{union=}\")  # union={1, 2, 3, 4, 5, 6, 7, 8}\\n# # 交集\\nintersection = evens.intersection({4, 5, 6})\\nprint(f\"{intersection=}\")  # intersection={4, 6}\\n\\n# 不在意内部元素顺序的情况下, 剔除重复值\\ntu = 1,1,1,1,1,1,12,2,3,4,\\ntuple_ = tuple(set(tu))\\nprint(f\"{tuple_=}\")  # list_=[1, 2, 3, 4, 12]\\n# 集合支持for循环遍历\\nfor x in tuple_:\\n    print(x) # 1 2 3 4 12', '# 创建列表\\n# # 空列表\\nempty_list = [] \\n# empty_list = list()\\n# print(empty_list)  # []\\nprint(type(empty_list))  # <class \\'list\\'>\\n\\n# # 嵌套列表\\nnested_list = [1, [2, 3], [4, 5, 6]]\\n# # 列表中可以包含不同类型的元素\\nmixed_list = [1, \"Python\", 3.14, True]\\n\\n\\nfruits = [\\'apple\\', \\'banana\\', \\'cherry\\']\\n# 正向索引\\nfirst_fruit = fruits[0]\\nprint(f\"{first_fruit=}\")  # first_fruit=\\'apple\\'\\n# 反向索引\\nlast_fruit = fruits[-1]\\nprint(f\"{last_fruit=}\")  # last_fruit=\\'cherry\\'\\n\\n# 列表切片 语法为list[start:end:step]\\nnumbers = [0, 1, 2, 3, 4, 5, 6, 7, 8, 9]\\n# # 基本切片\\nprint(numbers[2:5])    # [2, 3, 4]\\nprint(numbers[:4])     # [0, 1, 2, 3]\\nprint(numbers[6:])     # [6, 7, 8, 9]\\n# # 使用步长\\nprint(numbers[::2])    # [0, 2, 4, 6, 8]\\nprint(numbers[::-1])   # [9, 8, 7, 6, 5, 4, 3, 2, 1, 0]', \"fruits = ['apple', 'banana', 'cherry']\\n\\n# append()\\nfruits.append('date')\\nprint(fruits)  #  ['apple', 'banana', 'cherry', 'date']\\n\\n# insert()\\nfruits.insert(1, 'blueberry')\\nprint(fruits)  # ['apple', 'blueberry', 'banana', 'cherry', 'date']\\n\\n# extend()\\nfruits.extend(['elderberry', 'fig'])\\nprint(fruits)  # ['apple', 'blueberry', 'banana', 'cherry', 'date', 'elderberry', 'fig']\", \"fruits = ['apple', 'blueberry', 'banana', 'cherry', 'date', 'elderberry', 'fig']\\n\\n# remove()\\nfruits.remove('banana')\\nprint(fruits)  # ['apple', 'blueberry', 'cherry', 'date', 'elderberry', 'fig']\\n\\n# pop()\\nremoved = fruits.pop(2)\\nprint(removed)  # cherry\\nprint(fruits)    # ['apple', 'blueberry', 'date', 'elderberry', 'fig']\\n\\n# clear()\\nfruits.clear()\\nprint(fruits)  # []\", 'numbers = [4, 2, 9, 1, 5, 6, 2]\\n\\n# index()\\nprint(numbers.index(5))  # 4\\n\\n# count()\\nprint(numbers.count(2))  # 2\\n\\n# sort()\\nnumbers.sort()\\nprint(numbers)  # [1, 2, 2, 4, 5, 6, 9]\\n\\n# sorted()   reverse: True降序 False升序\\nsorted_numbers = sorted(numbers, reverse=True)  \\nprint(sorted_numbers)  # [9, 6, 5, 4, 2, 2, 1]\\n\\n# reverse()\\nnumbers.reverse()\\nprint(numbers)  # [9, 6, 5, 4, 2, 2, 1]', \"fruits = ['apple', 'banana', 'cherry', 'date']\\n\\n# 使用 for 循环遍历列表\\nfor fruit in fruits:\\n    print(fruit)\\n\\n# while循环\\nindex = 0\\nwhile index < len(fruits):\\n    print(fruits[index])\\n    index += 1\\n# apple banana cherry date\", 'fruits = [\\'apple\\', \\'banana\\', \\'cherry\\', \\'date\\']\\n\\n# 使用 enumerate() 遍历列表\\nfor index, fruit in enumerate(fruits):\\n    print(f\"Index {index}: {fruit}\")\\n# Index 0: apple\\n# Index 1: banana\\n# Index 2: cherry\\n# Index 3: date\\n\\n# 从索引 1 开始遍历\\nfor index, fruit in enumerate(fruits, start=1):\\n    print(f\"Index {index}: {fruit}\")\\n# Index 1: apple\\n# Index 2: banana\\n# Index 3: cherry\\n# Index 4: date', 'names = [\\'Alili\\', \\'Bobo\\', \\'Qiuqiu\\']\\nages = [25, 30]\\n\\n# 使用 zip() 遍历长度不同的列表\\nfor name, age in zip(names, ages):\\n    print(f\"{name} is {age} years old.\")\\n# Alili is 25 years old.\\n# Bobo is 30 years old.', '# 字符串转列表\\ns = \"Hello\"\\nlst = list(s)\\nprint(lst)  # [\\'H\\', \\'e\\', \\'l\\', \\'l\\', \\'o\\']\\n\\n# # 列表转字符串\\n# words = [\\'Python\\', \\'is\\', \\'awesome\\']\\n# sentence = \\' \\'.join(words)\\n# print(sentence)  # Python is awesome', 'matrix = [\\n    [1, 2, 3],\\n    [4, 5, 6],\\n    [7, 8, 9]\\n]\\n\\n# 访问元素\\nprint(matrix[0][1])  # 2\\nprint(matrix[2][2])  # 9\\n\\nfor x in matrix:\\n    print(x)\\n# [1, 2, 3]\\n# [4, 5, 6]\\n# [7, 8, 9]\\n\\nfor x in matrix[0]:\\n    print(x)\\n# 1\\n# 2\\n# 3', \"# 创建空字典\\nempty_dict = {}\\n# empty_dict = dict()\\nprint(type(empty_dict))  # <class 'dict'>\\n\\n# 创建包含键值对的字典\\nstudent = {'name': 'Alili',\\n    'age': 25,\\n    'major': 'Computer Science'}\\n\\n# 使用 dict() 构造函数创建字典\\nperson = dict(name='Bomm', age=30, city='New York')\\nprint(person) # {'name': 'Bomm', 'age': 30, 'city': 'New York'}\\n\\n# 使用序列创建字典\\nmapping = dict(zip(range(5), reversed(range(5))))\\nprint(mapping)  # {0: 4, 1: 3, 2: 2, 3: 1, 4: 0}\\n\\n# 设置默认值  setdefault方法\\n# dict.setdefault(key, default=None)\\nmy_dict = {'a': 1, 'b': 2}\\nresult1 = my_dict.setdefault('a', 100)  # 键 'a' 存在，返回其对应的值 1\\nprint(result1)  # 1\\nresult2 = my_dict.setdefault('c', 3)    # 键 'c' 不存在，添加 'c' 键，值为 3\\nprint(result2) # 3\", \"student = {\\n    'name': 'Alili',\\n    'age': 25,\\n    'major': 'Computer Science'}\\n\\n# 使用中括号访问\\nprint(student['name'])  # Alili\\n# 使用 get() 方法访问\\nprint(student.get('age'))  # 25\\n# 如果键不存在，使用 get() 可设置默认值\\nprint(student.get('gpa', 'Not Available'))  # Not Available\", \"student = {\\n    'name': 'Alili',\\n    'age': 25,\\n    'like': 'orange'\\n}\\n\\n# 添加新的键值对\\nstudent['like'] = 'orange'\\nprint(student)\\n# {'name': 'Alili', 'age': 25, 'like': 'orange'}\\n\\n# 修改现有的值\\nstudent['age'] = 25.5\\nprint(student)\\n# {'name': 'Alili', 'age': 25.5, 'like': 'orange'}\", \"student = {\\n    'name': 'Alili',\\n    'age': 25,\\n    'like': 'orange'\\n}\\n\\n# 使用 del 语句删除键值对\\ndel student['like']\\nprint(student)\\n# {'name': 'Alili', 'age': 25}\\n\\n# 使用 pop() 方法删除并返回值\\nage = student.pop('age')\\nprint(age)       # 25\\nprint(student)   # {'name': 'Alili'}\\n\\n# 使用 clear() 方法清空字典\\nstudent.clear()\\nprint(student)  # {}\", \"student = {\\n    'name': 'Alili',\\n}\\n\\nkeys = student.keys()\\nprint(keys)  # dict_keys(['name'])\\n\\nvalues = student.values()\\nprint(values)  # dict_values(['Alili'])\\n\\nitems = student.items()\\nprint(items)  # dict_items([('name', 'Alili')])\\n\\n# gpa = student.get('gpa', 'Not Available')\\n# print(gpa)  # Not Available\\n\\nadditional_info = {'gpa': 3.9, 'graduated': False}\\nstudent.update(additional_info)\\nprint(student)   # {'name': 'Alili', 'gpa': 3.9, 'graduated': False}\\n\\nitem = student.popitem()\\nprint(item)      # ('graduated', False)\\nprint(student)   # {'name': 'Alili', 'gpa': 3.9}\", 'student = {\\n    \\'name\\': \\'Alili\\',\\n    \\'age\\': 25,\\n    \\'like\\': \\'orange\\'}\\n\\n# 遍历键\\nfor key in student:\\n    print(key)\\n# name age like\\n\\n# 遍历值\\nfor value in student.values():\\n    print(value)\\n# Alili 25 orange\\n\\n# 遍历键值对\\nfor key, value in student.items():\\n    print(f\"{key}: {value}\")\\n# name: Alili  age: 25  like: orange', \"# 创建嵌套字典\\nstudents = {\\n    'Alili': {\\n        'age': 25,\\n        'major': 'Computer Science',\\n        'gpa': 3.8},\\n    'Bomm': {\\n        'age': 22,\\n        'major': 'Mathematics',\\n        'gpa': 3.5}}\\n\\n# 访问嵌套字典中的值\\nprint(students['Alili']['major'])  # Computer Science\\n# 添加新的嵌套字典\\nstudents['Charlo'] = {'age': 24, 'major': 'Physics', 'gpa': 3.6}\\nprint(students)\\n# {'Alili': {'age': 25, 'major': 'Computer Science', 'gpa': 3.8}, \\n# 'Bomm': {'age': 22, 'major': 'Mathematics', 'gpa': 3.5}, \\n# 'Charlo': {'age': 24, 'major': 'Physics', 'gpa': 3.6}}\", 'for k,v in students.items():\\n    print(f\"key:{k},value:{v}\")\\n# key:Alili,value:{\\'age\\':25,\\'major\\':\\'Computer Science\\',\\'gpa\\':3.8}\\n# key:Bomm,value:{\\'age\\':22,\\'major\\':\\'Mathematics\\',\\'gpa\\':3.5}\\n# key:Charlo,value:{\\'age\\':24,\\'major\\':\\'Physics\\',\\'gpa\\':3.6}', 'a = 100\\nb = 100   # 小整数在 Python 中会被缓存并共享\\nc = 1000  # 大整数则不会被缓存\\nd = 1000\\nprint(id(a)==id(b),id(c)==id(d)) # True False\\nprint(a is b, c is d)  # True False', 'from typing import List, Tuple, Dict\\n\\n# List: 一个整数类型的列表\\nnumbers: List[int] = [1, 2, 3, 4, 5]\\nprint(numbers)  # [1, 2, 3, 4, 5]\\n# Tuple: 一个包含整数和字符串的元组\\ninfo: Tuple[int, str] = (42, \"example\")\\nprint(info)  # (42, \\'example\\')\\n# Dict: 一个键为字符串类型、值为整数类型的字典\\nscores: Dict[str, int] = {\"Alili\": 95, \"Bobo\": 88}\\nprint(scores)  # {\\'Alili\\': 95, \\'Bobo\\': 88}\\n\\nfrom collections import defaultdict, OrderedDict\\n\\n# defaultdict: 创建一个有默认值的字典\\n# 当键不存在时，自动返回指定的默认值\\ndefault_dict = defaultdict(int)\\nprint(default_dict)  # defaultdict(<class \\'int\\'>, {})\\ndefault_dict[\"a\"] += 1  # 默认值为0，所以输出结果为1\\nprint(default_dict[\"a\"])  # 1\\n# OrderedDict: 保持键值对的插入顺序\\nordered_dict = OrderedDict([(\"one\", 1), (\"two\", 2), (\"three\", 3)])\\nfor key, value in ordered_dict.items():\\n    print(key, value)\\n# one 1\\n# two 2\\n# three 3', 'age = 19   # age = input(\"请输入年龄:\")\\nif age >= 18: print(\"You are an adult.\")\\nelif age >= 13: print(\"You are a teenager.\")\\nelse: print(\"You are a child.\")', '# 打印 0 到 4\\nfor i in range(5):\\n    print(i)', 'count = 0\\n\\nwhile count < 5:\\n    print(count)\\n    count += 1\\n\\n# 0\\n# 1\\n# 2\\n# 3\\n# 4', '# password = \"\"\\n# while password != \"python123\":\\n#     password = input(\"Enter the password: \")\\n#     if password == \"python123\":\\n#         print(\"Access granted.\")\\n#     else:\\n#         print(\"Incorrect password. Try again.\")\\n\\n\\n# # for \\n# for _ in range(5):\\n#     password = input(\"Enter the password: \")\\n#     if password == \"python123\":\\n#         print(\"Access granted.\")\\n#     else:\\n#         print(\"Incorrect password. Try again.\")\\n        ', 'for i in range(10):\\n    if i == 5:\\n        break\\n    print(i)\\n    \\n# 0\\n# 1\\n# 2\\n# 3\\n# 4', 'for i in range(5):\\n    # if i == 2: continue   # 这种写法也支持\\n    if i == 2:\\n        continue\\n    print(i)\\n\\n# 0\\n# 1\\n# 3\\n# 4', 'for i in range(5):\\n    if i == 2:\\n        pass  # 暂不处理\\n    print(i)\\n\\n# 0\\n# 1\\n# 2\\n# 3\\n# 4', \"strings = ['a', 'as', 'bat', 'car', 'haha', 'python']\\n[x.upper() for x in strings if len(x) > 2]\\n# ['BAT', 'CAR', 'HAHA', 'PYTHON']\", \"# 集合推导式\\nstrings = ['a', 'as', 'bat', 'car', 'haha', 'python']\\n\\nunique_lengths = {len(x) for x in strings}\\nprint(unique_lengths)  # {1, 2, 3, 4, 6}\", '# 字典推导式\\nnumbers = [1, 2, 3, 4]\\nsquares_dict = {num: num ** 2 for num in numbers}\\nprint(squares_dict)  # {1: 1, 2: 4, 3: 9, 4: 16}\\n\\n# 原始字典，值为字符串类型\\noriginal = {\\'Alili\\': \\'Female\\', \\'Bomm\\': \\'Male\\', \\'Charlo\\': \\'Male\\', \\n            \\'Daisy\\': \\'Female\\'}\\n# 保留 \"Male\" 性别且键名以 \"B\" 开头的项\\nfiltered = {\\n    name: gender\\n    for name, gender in original.items()\\n    if gender == \\'Male\\' and name.startswith(\\'B\\')}\\nprint(filtered)  # {\\'Bomm\\': \\'Male\\'}\\n# 给定字典是 {字段名: 值}，反转它成 {值: 字段名} 形式\\ninfo = {\\'name\\': \\'Alili\\', \\'age\\': 25, \\'city\\': \\'New York\\'}\\nreversed_dict = {value: key for key, value in info.items()}\\nprint(reversed_dict)\\n# {\\'Alili\\': \\'name\\', 25: \\'age\\', \\'New York\\': \\'city\\'}', \"s = ['1', 'as', 'bat', 'god', 'boom', 'python']\\n\\nunique_lens = {len(x) for x in s}\\nprint(unique_lens)  # {1, 2, 3, 4, 6}\\n\\nunique_lens_b = set(map(len, s))  \\nprint(unique_lens_b)  # {1, 2, 3, 4, 6}\\n\\n# 构建一个字典推导式,创建一个字符串的查找映射表以确定它在列表中的位置\\nidx_mapping = {val : index for index, val in enumerate(s)}\\nprint(idx_mapping)\\n# {'1': 0, 'as': 1, 'bat': 2, 'god': 3, 'boom': 4, 'python': 5}\", \"all_data = [['Johnn', 'Emly', 'Mikhael', 'Marny', 'Steven'], ['Marian', 'Juany', 'Javieru', 'Natalia', 'Pilar']]\", \"names_of_interest = []\\nfor names in all_data:\\n    enough_es = [name for name in names if name.count('e') > 1]\\n    names_of_interest.extend(enough_es)\\nnames_of_interest  # ['Steven']\", \"result = [name for names in all_data for name in names if name.count('e') > 1]\\nprint(result)   # ['Steven']\", '# try-except\\n\\ndef divide(a, b):\\n    try:\\n        result = a / b\\n    except ZeroDivisionError as e:\\n        print(\"错误：除数为0！\")\\n        return None\\n    else:\\n        print(\"除法运算成功。\")\\n        return result\\n\\nres = divide(10, 2)\\nprint(\"结果：\", res)\\n# 除法运算成功。\\n# 结果： 5.0\\nres = divide(5, 0)\\nprint(\"结果：\", res)\\n# 错误：除数为0！\\n# 结果： None', 'def divide_b(a, b):\\n    result = None  # 先在函数开始处定义一个默认值，避免局部变量未定义\\n\\n    try:\\n        result = a / b\\n    except ZeroDivisionError:\\n        print(\"错误：除数不能为 0！\")\\n    except TypeError:\\n        print(\"错误：类型不匹配，无法进行除法运算！\")\\n    finally:\\n        # finally 块中的代码无论是否发生异常都会被执行\\n        if result is not None:\\n            # 如果 result 在 try 中成功被赋值，则返回它\\n            return result\\n        else:\\n            # 如果 result 仍是 None，说明出现了异常或其他问题\\n            print(f\"无法正常计算 {a} 除以 {b}\")\\n            return None\\n\\nprint(divide_b(4,2))\\n# 2.0\\n\\nprint(divide_b(2,\\'a\\'))\\n# 错误：类型不匹配，无法进行除法运算！\\n# 无法正常计算 2 除以 a\\n# None', 'def divide(a, b):\\n    if b == 0:\\n        raise ZeroDivisionError(\"除数不能为零\")\\n    return a / b\\n\\ntry:\\n    result = divide(10, 0)\\nexcept ZeroDivisionError as e:\\n    print(f\"错误: {e}\")\\n# 错误: 除数不能为零', 'nums = [1, 2, 3]\\n\\nassert isinstance(nums, list) and len(nums) > 0, \"数据必须是非空列表\"\\n\\nprint(nums)  # assert 语句通过\\n\\nassert isinstance(nums, list) and len(nums) > 3, \"数据必须是非空列表且包含不少于4个元素\"\\nprint(nums)  # AssertionError: 数据必须是非空列表且包含不少于4个元素', '# 返回一个或多个变量(通常是一个元组)\\ndef min_and_max(numbers):\\n    \"\"\"返回给定列表的最小值和最大值\"\"\"\\n    return min(numbers), max(numbers)\\nnums = [3, 1, 5, 2, 4]\\nprint(type(min_and_max(nums)))    # <class \\'tuple\\'>\\nlowest, highest = min_and_max(nums)\\nprint(lowest, highest)  # 输出: 1 5\\n\\n# 没有return\\ndef do_nothing(): pass\\nresult = do_nothing()\\nprint(result)  # None\\n\\ndef my_function(x, y, z=1.5):  \\n    if z > 1: return z * (x + y)\\n    else: return z / (x + y)\\n# 使用\\nprint(my_function(1,2))  # 按照定义时的参数顺序来传递值\\n# 4.5\\nprint(my_function(z=3,x=2,y=4))  # 显式地通过参数名来传递值，顺序随意\\n# 18', 'def greet(name, message):\\n    print(f\"{message}, {name}!\")\\n\\ngreet(\"Python\", \"Hello\")  # Hello, Python! \\n# 按顺序传递: name=\"Python\", message=\"Hello\"', 'def greet(name, message):\\n    print(f\"{message}, {name}!\")\\n\\n# 使用关键字参数，顺序随意\\ngreet(message=\"Hi\", name=\"Python\") # Hi, Python!', 'def greet(name, message=\"Hello\"):\\n    print(f\"{message}, {name}!\")\\n\\n# 只传name，message使用默认值\"Hello\"\\ngreet(\"Charlo\")  # HHello, Charlo!\\n# 同时传递两个参数\\ngreet(\"Daissy\", \"Hi\")  # Hi, Daissy!', 'def add_numbers(*args):\\n    total = 0\\n    for num in args:\\n        total += num\\n    return total\\n\\nprint(add_numbers(1, 2, 3))       # 6\\nprint(add_numbers(10, 20, 30, 5)) # 65', 'def build_profile(first_name, last_name, **kwargs):\\n    profile = {\"first_name\": first_name, \"last_name\": last_name}\\n    # 将额外的关键字参数更新到profile字典中\\n    for key, value in kwargs.items():\\n        profile[key] = value\\n    return profile\\n\\nuser_profile = build_profile(\"Alili\", \"Smith\", location=\"New York\", age=30, hobby=\"Reading\")\\nprint(user_profile)\\n# {\\'first_name\\': \\'Alili\\', \\'last_name\\': \\'Smith\\', \\'location\\': \\'New York\\', \\'age\\': 30, \\'hobby\\': \\'Reading\\'}\\n\\n# 在这个示例中，除了 first_name 和 last_name 外，\\n# 任何其他的关键字参数（location=\"New York\", age=30, hobby=\"Reading\"）都会被聚合到 kwargs 这个字典里。', 'def show_info(a, b, c):\\n    print(a, b, c)\\n\\ndata = {\"a\": 1, \"b\": 2, \"c\": 3}\\nshow_info(**data)  # 等价于 show_info(a=1, b=2, c=3)', '# 将列表中每个数值平方\\nnumbers = [1, 2, 3, 4]\\nsquared = list(map(lambda x: x**2, numbers))\\nprint(squared)  # 输出: [1, 4, 9, 16]\\n\\n# lambda 语句 等价于  fun_square\\ndef fun_square(x):\\n    return x ** 2\\nsquared_b = list(map(fun_square, numbers))\\nprint(squared_b)  # 输出: [1, 4, 9, 16]\\n    \\n# squared_c = [x ** 2 for x in numbers]', 'def add_nums(a, b):\\n    return a + b', 'add_five = lambda y: add_nums(5, y)', 'from functools import partial\\nadd_five = partial(add_nums, 5)\\nprint(add_five)\\n# functools.partial(<function add_nums at 0x00000222C2976B90>, 5)\\nprint(add_five(1)) \\n# 6', 'a = None\\ndef bind_a_variable():\\n    global a\\n    a = []\\nbind_a_variable()\\nprint(a)  # []', 'def outer():\\n    def inner():\\n        print(\"这是内部函数\")\\n    print(\"调用内部函数之前\")\\n    inner()\\nouter()\\n\\n# 调用内部函数之前\\n# 这是内部函数', 'def make_multiplier(n):\\n    def multiplier(x):\\n        return x * n\\n    return multiplier\\n\\ntimes2 = make_multiplier(2)\\nprint(times2(5))  # 10', '# 打开一个文件\\nf = open(\"example.txt\", \"w\")\\nprint(\"文件名: \", f.name)  # 文件名:  example.txt\\nprint(\"是否已关闭 : \", f.closed)  # 是否已关闭 :  False\\nprint(\"访问模式 : \", f.mode)  # 访问模式 :  w\\nf.close()', '# open()  close\\nf = open(\"example.txt\", mode=\"r\", encoding=\"utf-8\")  # 打开文本文件\\ncontent = f.read()\\nf.close()  # 操作完毕后，务必手动关闭', 'with open(\"example.txt\", \"r\", encoding=\"utf-8\") as f:\\n    content = f.read()\\n    # 在这里可以对 content 做各种处理\\n\\n# with 块结束后，文件会自动关闭，无需手动 f.close()', '# 写入\\nf = open(\"example.txt\", \"w\", encoding=\"utf-8\")\\nf.write(\"这是写入文本文件的第一行\\\\n\")\\nf.write(\"这是第二行\\\\n\")\\nf.close()\\n\\n# 按行读取 \\nwith open(\"example.txt\", \"r\", encoding=\"utf-8\") as f:\\n    for line in f:\\n        line = line.strip()  # 去掉行末尾的换行符或空白\\n        print(line)\\n# 这是写入文本文件的第一行\\n# 这是第二行\\n\\n# line.strip() 去除两端的空白字符，包括 \\\\n、空格等。\\n# 如果只想去除换行符，也可用 line.rstrip(\"\\\\n\")。', 'import json\\ndata = {\\n    \"name\": \"Alili\",\\n    \"age\": 25,\\n    \"skills\": [\"Python\", \"Data Analysis\"]}\\n\\n# 写入JSON文件\\nwith open(\"data.json\", \"w\", encoding=\"utf-8\") as f:\\n    json.dump(data, f, ensure_ascii=False, indent=4)\\n\\n# 读取JSON文件\\nwith open(\"data.json\", \"r\", encoding=\"utf-8\") as f:\\n    loaded_data = json.load(f)\\n\\nprint(loaded_data)\\n# {\\'name\\': \\'Alili\\', \\'age\\': 25, \\'skills\\': [\\'Python\\', \\'Data Analysis\\']}\\n\\n# ensure_ascii=False 可以在写入 JSON 时保留非 ASCII 字符（如中文），避免出现 \\\\uXXXX 形式。\\n# indent=4 表示写入时缩进 4 个空格，方便阅读。', 'def count_up_to(max):\\n    count = 1\\n    while count <= max:\\n        yield count  # 返回当前计数，并暂停函数状态\\n        count += 1\\n\\n# 使用生成器函数\\ncounter = count_up_to(3)\\n\\nprint(next(counter))  # 1\\nprint(next(counter))  # 2\\nprint(next(counter))  # 3\\n# print(next(counter))  # 会引发 StopIteration', '# 创建一个生成器表达式\\nsquares_gen = (x**2 for x in range(1, 4))\\n\\nprint(next(squares_gen))  # 1\\nprint(next(squares_gen))  # 4\\nprint(next(squares_gen))  # 9\\n# print(next(squares_gen))  # 会引发 StopIteration', 'def fibonacci(n):\\n    a, b = 0, 1\\n    for _ in range(n):\\n        yield a\\n        a, b = b, a + b\\n\\n# 创建一个Fibonacci生成器\\nfib_gen = fibonacci(5)\\n\\nfor num in fib_gen:\\n    print(num)\\n\\n# 0\\n# 1\\n# 1\\n# 2\\n# 3', '# 创建一个生成器表达式，生成1到5的立方\\ncubes_gen = (x**3 for x in range(1, 6))\\n\\nfor cube in cubes_gen:\\n    print(cube)\\n# 1\\n# 8\\n# 27\\n# 64\\n# 125', '# 使用生成器函数生成平方数\\n\\ndef generate_squares(n):\\n    for x in range(1, n + 1):\\n        yield x**2\\n\\nsquares = generate_squares(5)\\n\\nfor square in squares:\\n    print(square)\\n\\n# 1\\n# 4\\n# 9\\n# 16\\n# 25', 'def echo():\\n    while True:\\n        value = yield\\n        print(f\"Echo: {value}\")\\n\\n# 创建生成器\\ne = echo()\\nnext(e)  # 启动生成器\\n\\n# 发送数据\\ne.send(\"Hello\")  # Echo: Hello\\ne.send(\"World\")  # Echo: World', 'def generator():\\n    try:\\n        yield 1\\n        yield 2\\n        yield 3\\n    except GeneratorExit:\\n        print(\"Generator closed.\")\\n\\ngen = generator()\\nprint(next(gen))  # 1\\ngen.close()      # Generator closed.', \"import itertools\\nfirst_letter = lambda x: x[0]\\nnames = ['Aln', 'Ada', 'Wes', 'Wi', 'Albe', 'Sten']\\nfor letter, names in itertools.groupby(names, first_letter):\\n    print(letter, list(names)) # names is a generator\\n\\n# A ['Aln', 'Ada']\\n# W ['Wes', 'Wi']\\n# A ['Albe']\\n# S ['Sten']\", \"# 获取迭代器\\n# 可以使用内置函数 iter() 将可迭代对象转换为迭代器。\\n# 创建一个列表\\nfruits = ['apple', 'banana', 'cherry']\\n# 获取列表的迭代器\\nfruits_iterator = iter(fruits)\\n# 使用 next() 获取元素\\nprint(next(fruits_iterator))  # apple\\nprint(next(fruits_iterator))  # banana\\nprint(next(fruits_iterator))  # cherry\\n# 再调用 next() 会引发 StopIteration 异常\\n# print(next(fruits_iterator))  # 会引发 StopIteration\", \"# for 循环内部使用迭代器机制，自动处理 StopIteration 异常。\\nfruits = ['apple', 'banana', 'cherry']\\nfor fruit in fruits:\\n    print(fruit)\\n# apple\\n# banana\\n# cherry\", 'class MyIterator:\\n    def __init__(self, start, end):\\n        self.current = start\\n        self.end = end\\n    def __iter__(self):\\n        return self  # 迭代器返回自身\\n    def __next__(self):\\n        if self.current >= self.end:\\n            raise StopIteration  # 没有更多元素时引发异常\\n        self.current += 1\\n        return self.current - 1\\n# 使用自定义迭代器\\nmy_iter = MyIterator(1, 4)\\nfor num in my_iter:\\n    print(num)  # 1 2 3', '# 创建一个简单的迭代器\\n\\nclass Countdown:\\n    def __init__(self, start):\\n        self.current = start\\n\\n    def __iter__(self):\\n        return self\\n\\n    def __next__(self):\\n        if self.current <= 0:\\n            raise StopIteration\\n        self.current -= 1\\n        return self.current\\n\\n# 使用迭代器\\nfor number in Countdown(3):\\n    print(number)\\n\\n# 2\\n# 1\\n# 0', '# 使用生成器表达式筛选偶数\\n\\nnumbers = range(1, 11)\\nevens_gen = (x for x in numbers if x % 2 == 0)\\n\\nfor even in evens_gen:\\n    print(even)\\n\\n# 2\\n# 4\\n# 6\\n# 8\\n# 10', 'class Person:\\n    \"\"\"代表一个人的类\"\"\"\\n    def __init__(self, name, age):\\n        # __init__ 是构造方法，用于初始化对象属性\\n        self.name = name\\n        self.age = age\\n    def greet(self):\\n        # self 是对实例自身的引用，在定义实例方法时必须作为第一个参数\\n        print(f\"Hello, I am {self.name}, and I\\'m {self.age} years old.\")', 'person1 = Person(\"Alili\", 25)\\nperson2 = Person(\"Bomm\", 30)\\n\\nperson1.greet()  # Hello, I am Alili, and I\\'m 25 years old.\\nperson2.greet()  # Hello, I am Bomm, and I\\'m 30 years old.', 'class Car:\\n    # 类属性\\n    wheels = 4\\n    def __init__(self, brand, model):\\n        # 实例属性\\n        self.brand = brand\\n        self.model = model\\n\\ncar1 = Car(\"车a\", \"x-a\")\\ncar2 = Car(\"车b\", \"x-b\")\\n\\nprint(car1.wheels, car2.wheels)  # 都是 4（共享）\\nprint(car1.brand, car2.brand)    # 车a, 车b（不同）', 'class MyClass:\\n    count = 0\\n\\n    def __init__(self):\\n        MyClass.count += 1\\n\\n    @classmethod\\n    def how_many(cls):\\n        return cls.count\\n\\nx1 = MyClass()\\nx2 = MyClass()\\nprint(MyClass.how_many())  # 2', 'class MathHelper:\\n    @staticmethod\\n    def add(a, b):\\n        return a + b\\n\\nprint(MathHelper.add(3, 4))  # 7', '# 自定义一个简单的类，为其实现 __str__ 和 __len__。\\n\\nclass MyList:\\n    def __init__(self, items):\\n        self.items = items\\n\\n    def __str__(self):\\n        return f\"MyList: {self.items}\"\\n\\n    def __len__(self):\\n        return len(self.items)\\n\\nlst = MyList([4, 2, 3])\\nprint(lst)         # MyList: [4, 2, 3]\\nprint(len(lst))    # 3', '#  练习1：定义一个类描述数字时钟。 \\n\\nfrom time import sleep\\nclass Clock(object):\\n    \"\"\"数字时钟\"\"\"\\n\\n    def __init__(self, hour=0, minute=0, second=0):\\n        \"\"\"初始化方法\\n        :param hour: 时\\n        :param minute: 分\\n        :param second: 秒\\n        \"\"\"\\n        self._hour = hour\\n        self._minute = minute\\n        self._second = second\\n\\n    def run(self):\\n        \"\"\"走字\"\"\"\\n        self._second += 1\\n        if self._second == 60:\\n            self._second = 0\\n            self._minute += 1\\n            if self._minute == 60:\\n                self._minute = 0\\n                self._hour += 1\\n                if self._hour == 24:\\n                    self._hour = 0\\n\\n    def show(self):\\n        \"\"\"显示时间\"\"\"\\n        return \\'%02d:%02d:%02d\\' % \\\\\\n               (self._hour, self._minute, self._second)\\n\\n\\nclock = Clock(23,54,58)\\nwhile True:\\n    print(clock.show())\\n    sleep(1)\\n    clock.run()', '#  练习1：定义一个类描述数字时钟。 \\n\\nfrom time import sleep\\nclass Clock(object):\\n    \"\"\"数字时钟\"\"\"\\n\\n    def __init__(self, hour=0, minute=0, second=0):\\n        \"\"\"初始化方法\\n        :param hour: 时\\n        :param minute: 分\\n        :param second: 秒\\n        \"\"\"\\n        self._hour = hour\\n        self._minute = minute\\n        self._second = second\\n\\n    def run(self):\\n        \"\"\"走字\"\"\"\\n        self._second += 1\\n        if self._second == 60:\\n            self._second = 0\\n            self._minute += 1\\n            if self._minute == 60:\\n                self._minute = 0\\n                self._hour += 1\\n                if self._hour == 24:\\n                    self._hour = 0\\n\\n    def show(self):\\n        \"\"\"显示时间\"\"\"\\n        return \\'%02d:%02d:%02d\\' % \\\\\\n               (self._hour, self._minute, self._second)\\n\\n\\n# clock = Clock(23,54,58)\\n# while True:\\n#     print(clock.show())\\n#     sleep(1)\\n#     clock.run()', '# 练习2：定义一个类描述平面上的点并提供移动点和计算到另一个点距离的方法。\\nfrom math import sqrt\\n\\nclass Point(object):\\n\\n    def __init__(self, x=0, y=0):\\n        \"\"\"初始化方法\\n        \\n        :param x: 横坐标\\n        :param y: 纵坐标\\n        \"\"\"\\n        self.x = x\\n        self.y = y\\n\\n    def move_to(self, x, y):\\n        \"\"\"移动到指定位置\\n        \\n        :param x: 新的横坐标\\n        \"param y: 新的纵坐标\\n        \"\"\"\\n        self.x = x\\n        self.y = y\\n\\n    def move_by(self, dx, dy):\\n        \"\"\"移动指定的增量\\n        \\n        :param dx: 横坐标的增量\\n        \"param dy: 纵坐标的增量\\n        \"\"\"\\n        self.x += dx\\n        self.y += dy\\n\\n    def distance_to(self, other):\\n        \"\"\"计算与另一个点的距离\\n        \\n        :param other: 另一个点\\n        \"\"\"\\n        dx = self.x - other.x\\n        dy = self.y - other.y\\n        return sqrt(dx ** 2 + dy ** 2)\\n\\n    def __str__(self):\\n        return \\'(%s, %s)\\' % (str(self.x), str(self.y))\\n\\n\\np1 = Point(4, 5)\\np2 = Point()\\nprint(p1)\\nprint(p2)\\np2.move_by(-1, 3)\\nprint(p2)\\nprint(p1.distance_to(p2))\\n\\n# (4, 5)\\n# (0, 0)\\n# (-1, 3)\\n# 5.385164807134504', 'def decorator(func):\\n    def wrapper():\\n        print(\"Before function call\")\\n        func()  # 调用原始函数\\n        print(\"After function call\")\\n    return wrapper\\n\\n@decorator  # 等价于 func = decorator(func)\\ndef say_hello():\\n    print(\"Hello!\")\\n\\nsay_hello()  \\n# Before function call\\n# Hello!\\n# After function call', 'class OpTest:\\n    \"\"\"访问可见性简单测试\"\"\"\\n    def __init__(self, insA):\\n        self.__insA = insA\\n    def __qst(self):\\n        print(self.__insA)\\n        print(\"__qst\")\\n\\ndef main():\\n    test = OpTest(\\'Hello\\')\\n    # test.__qst()\\n    # # AttributeError: \\'OpTest\\' object has no attribute \\'__qst\\'\\n    print(test.__qst)\\n    # AttributeError: \\'OpTest\\' object has no attribute \\'__qst\\'\\nmain()', 'class OpTest:\\n    \"\"\"访问可见性简单测试\"\"\"\\n    \\n    def __init__(self, insA):\\n        self.__insA = insA\\n    \\n    def __qst(self):\\n        print(self.__insA)\\n        print(\"__qst\")\\n\\ndef main():\\n    test = OpTest(\\'Hello\\')\\n    \\n    test._OpTest__qst()\\n    print(test._OpTest__insA)\\n    \\nmain()\\n\\n# Hello\\n# __qst\\n# Hello', '# @property包装器来包装getter和setter方法，使得对属性的访问既安全又方便\\nclass Person(object):\\n\\n    def __init__(self, name, age):\\n        self._name = name\\n        self._age = age\\n\\n    # 访问器 - getter方法\\n    @property\\n    def name(self):\\n        return self._name\\n\\n    # 访问器 - getter方法\\n    @property\\n    def age(self):\\n        return self._age\\n\\n    # 修改器 - setter方法\\n    @age.setter\\n    def age(self, age):\\n        self._age = age\\n\\n    def play(self):\\n        if self._age <= 16:\\n            print(f\"{self.name}在玩这\")\\n        else:\\n            print(f\"{self.name}在玩那\")\\n\\nperson = Person(\\'abc\\', 12)\\nperson.play()\\nperson.age = 22\\nperson.play()\\n# abc在玩这\\n# abc在玩那\\n\\n# person.name = \\'另一个人\\'  # AttributeError: can\\'t set attribute\\nperson.age = 10000\\nprint(person.age)  # 10000', 'class Person(object):\\n    # 限定Person对象只能绑定_name, _age和_gender属性\\n    __slots__ = (\\'_name\\', \\'_age\\', \\'_gender\\')\\n    def __init__(self, name, age):\\n        self._name = name\\n        self._age = age\\n    @property\\n    def name(self):\\n        return self._name\\n    @property\\n    def age(self):\\n        return self._age\\n    @age.setter\\n    def age(self, age):\\n        self._age = age\\n    def play(self):\\n        if self._age <= 16:\\n            print(f\"{self.name}在玩\")\\n        else:\\n            print(f\"{self.name}在睡觉\")\\n\\nperson = Person(\\'aaa\\', 22)\\nperson.play()\\nperson._gender = \\'男\\'\\n# aaa在睡觉\\n\\n# # AttributeError: \\'Person\\' object has no attribute \\'_is_bad\\'\\n# person._is_bad = True', \"from math import sqrt\\n\\n\\nclass Triangle(object):\\n\\n    def __init__(self, a, b, c):\\n        self._a = a\\n        self._b = b\\n        self._c = c\\n\\n    @staticmethod\\n    def is_valid(a, b, c):\\n        return a + b > c and b + c > a and a + c > b\\n\\n    def perimeter(self):\\n        return self._a + self._b + self._c\\n\\n    def area(self):\\n        half = self.perimeter() / 2\\n        return sqrt(half * (half - self._a) *\\n                    (half - self._b) * (half - self._c))\\n\\ndef main():\\n    a, b, c = 10, 8, 3\\n    # 静态方法和类方法都是通过给类发消息来调用的\\n    if Triangle.is_valid(a, b, c):\\n        t = Triangle(a, b, c)\\n        print(t.perimeter())\\n        # 也可以通过给类发消息来调用对象方法但是要传入接收消息的对象作为参数\\n        # print(Triangle.perimeter(t))\\n        print(t.area())\\n        # print(Triangle.area(t))\\n    else:\\n        print('无法构成三角形.')\\n\\nmain()\\n# 21\\n# 9.921567416492215\", 'from time import time, localtime, sleep\\n\\n\\nclass Clock(object):\\n    \"\"\"数字时钟\"\"\"\\n\\n    def __init__(self, hour=0, minute=0, second=0):\\n        self._hour = hour\\n        self._minute = minute\\n        self._second = second\\n\\n    @classmethod\\n    def now(cls):\\n        ctime = localtime(time())\\n        return cls(ctime.tm_hour, ctime.tm_min, ctime.tm_sec)\\n\\n    def run(self):\\n        \"\"\"走字\"\"\"\\n        self._second += 1\\n        if self._second == 60:\\n            self._second = 0\\n            self._minute += 1\\n            if self._minute == 60:\\n                self._minute = 0\\n                self._hour += 1\\n                if self._hour == 24:\\n                    self._hour = 0\\n\\n    def show(self):\\n        \"\"\"显示时间\"\"\"\\n        return \\'%02d:%02d:%02d\\' % \\\\\\n               (self._hour, self._minute, self._second)\\n\\n# 通过类方法创建对象并获取系统时间\\nclock = Clock.now()\\nwhile True:\\n    print(clock.show())\\n    sleep(1)\\n    clock.run()', 'from time import time, localtime, sleep\\n\\n\\nclass Clock(object):\\n    \"\"\"数字时钟\"\"\"\\n\\n    def __init__(self, hour=0, minute=0, second=0):\\n        self._hour = hour\\n        self._minute = minute\\n        self._second = second\\n\\n    @classmethod\\n    def now(cls):\\n        ctime = localtime(time())\\n        return cls(ctime.tm_hour, ctime.tm_min, ctime.tm_sec)\\n\\n    def run(self):\\n        \"\"\"走字\"\"\"\\n        self._second += 1\\n        if self._second == 60:\\n            self._second = 0\\n            self._minute += 1\\n            if self._minute == 60:\\n                self._minute = 0\\n                self._hour += 1\\n                if self._hour == 24:\\n                    self._hour = 0\\n\\n    def show(self):\\n        \"\"\"显示时间\"\"\"\\n        return \\'%02d:%02d:%02d\\' % \\\\\\n               (self._hour, self._minute, self._second)\\n\\n# # 通过类方法创建对象并获取系统时间\\n# clock = Clock.now()\\n# while True:\\n#     print(clock.show())\\n#     sleep(1)\\n#     clock.run()', 'class Person(object):\\n    \"\"\"人\"\"\"\\n    def __init__(self, name, age):\\n        self._name = name\\n        self._age = age\\n        \\n    @property\\n    def name(self):\\n        return self._name\\n\\n    @property\\n    def age(self):\\n        return self._age\\n\\n    @age.setter\\n    def age(self, age):\\n        self._age = age\\n\\n    def play(self): print(f\"{self.name}玩疯了\")\\n    def watch_tv(self):\\n        if self._age >= 18: print(f\"{self.name}看电视睡着了\")\\n        else: print(f\"{self.name}不看电视\")\\n\\nclass Student(Person):\\n    \"\"\"学生\"\"\"\\n    def __init__(self, name, age, grade):\\n        super().__init__(name, age)\\n        self._grade = grade\\n\\n    @property\\n    def grade(self):\\n        return self._grade\\n\\n    @grade.setter\\n    def grade(self, grade):\\n        self._grade = grade\\n\\n    def study(self, course): print(f\"{self._grade}的{self._name}在学{course}\")\\n\\nclass Teacher(Person):\\n    \"\"\"老师\"\"\"\\n    def __init__(self, name, age, title):\\n        super().__init__(name, age)\\n        self._title = title\\n\\n    @property\\n    def title(self):\\n        return self._title\\n\\n    @title.setter\\n    def title(self, title):\\n        self._title = title\\n        \\n    def teach(self, course): print(f\"{self._name}{self._title}在授课{course}\")\\n\\nstu = Student(\\'学生a\\', 15, \\'初三\\')\\nstu.study(\\'数学\\')\\nstu.watch_tv()\\nt = Teacher(\\'无敌\\', 49, \\'程序员\\')\\nt.teach(\\'Python如何打印helloworld\\')\\nt.watch_tv()\\n\\n# 初三的学生a在学数学\\n# 学生a不看电视\\n# 无敌程序员在授课Python如何打印helloworld\\n# 无敌看电视睡着了', 'from abc import ABCMeta, abstractmethod\\n\\nclass Pet(object, metaclass=ABCMeta):\\n    \"\"\"宠物\"\"\"\\n    def __init__(self, nickname):\\n        self._nickname = nickname\\n    @abstractmethod\\n    def make_voice(self):\\n        \"\"\"发出声音\"\"\"\\n        pass\\n\\nclass Dog(Pet):\\n    \"\"\"狗\"\"\"\\n    def make_voice(self):\\n        print(\\'%s: 汪汪汪...\\' % self._nickname)\\n\\nclass Cat(Pet):\\n    \"\"\"猫\"\"\"\\n    def make_voice(self):\\n        print(\\'%s: 喵...喵...\\' % self._nickname)\\n\\npets = [Dog(\\'狗a\\'), Cat(\\'猫a\\'), Dog(\\'另一只狗\\')]\\nfor pet in pets:\\n    pet.make_voice()\\n\\n# 狗a: 汪汪汪...\\n# 猫a: 喵...喵...\\n# 另一只狗: 汪汪汪...', \"from abc import ABCMeta, abstractmethod\\nclass Pet(object, metaclass=ABCMeta):\\n    def __init__(self, nickname):\\n        self._nickname = nickname\\n    @abstractmethod\\n    def make_voice(self): pass\\nclass Dog(Pet):\\n    def make_voice(self): print('%s: 汪汪汪...' % self._nickname)\\nclass Cat(Pet):\\n    def make_voice(self): print('%s: 喵...喵...' % self._nickname)\\n\\npets = [Dog('狗a'), Cat('猫a'), Dog('另一只狗')]\\nfor pet in pets:\\n    pet.make_voice()\\n# 狗a: 汪汪汪...\\n# 猫a: 喵...喵...\\n# 另一只狗: 汪汪汪...\", '# 综合案例1：奥特曼打小怪兽。\\n\\nfrom abc import ABCMeta, abstractmethod\\nfrom random import randint, randrange\\n\\nclass Fighter(object, metaclass=ABCMeta):\\n    \"\"\"战斗者\"\"\"\\n    # 通过__slots__魔法限定对象可以绑定的成员变量\\n    __slots__ = (\\'_name\\', \\'_hp\\')\\n    def __init__(self, name, hp):\\n        \"\"\"初始化方法\\n        :param name: 名字\\n        :param hp: 生命值\\n        \"\"\"\\n        self._name = name\\n        self._hp = hp\\n    @property\\n    def name(self):\\n        return self._name\\n    @property\\n    def hp(self):\\n        return self._hp\\n    @hp.setter\\n    def hp(self, hp):\\n        self._hp = hp if hp >= 0 else 0\\n    @property\\n    def alive(self):\\n        return self._hp > 0\\n    @abstractmethod\\n    def attack(self, other):\\n        \"\"\"攻击\\n        :param other: 被攻击的对象\\n        \"\"\"\\n        pass\\n\\nclass Ultraman(Fighter):\\n    \"\"\"奥特曼\"\"\"\\n    __slots__ = (\\'_name\\', \\'_hp\\', \\'_mp\\')\\n    def __init__(self, name, hp, mp):\\n        \"\"\"初始化方法\\n        :param name: 名字\\n        :param hp: 生命值\\n        :param mp: 魔法值\\n        \"\"\"\\n        super().__init__(name, hp)\\n        self._mp = mp\\n    def attack(self, other):\\n        other.hp -= randint(15, 25)\\n    def huge_attack(self, other):\\n        \"\"\"究极必杀技(打掉对方至少50点或四分之三的血)\\n        :param other: 被攻击的对象\\n        :return: 使用成功返回True否则返回False\\n        \"\"\"\\n        if self._mp >= 50:\\n            self._mp -= 50\\n            injury = other.hp * 3 // 4\\n            injury = injury if injury >= 50 else 50\\n            other.hp -= injury\\n            return True\\n        else:\\n            self.attack(other)\\n            return False\\n    def magic_attack(self, others):\\n        \"\"\"魔法攻击\\n        :param others: 被攻击的群体\\n        :return: 使用魔法成功返回True否则返回False\\n        \"\"\"\\n        if self._mp >= 20:\\n            self._mp -= 20\\n            for temp in others:\\n                if temp.alive:\\n                    temp.hp -= randint(10, 15)\\n            return True\\n        else:\\n            return False\\n    def resume(self):\\n        \"\"\"恢复魔法值\"\"\"\\n        incr_point = randint(1, 10)\\n        self._mp += incr_point\\n        return incr_point\\n    def __str__(self):\\n        return \\'~~~%s奥特曼~~~\\\\n\\' % self._name + \\\\\\n            \\'生命值: %d\\\\n\\' % self._hp + \\\\\\n            \\'魔法值: %d\\\\n\\' % self._mp\\n\\nclass Monster(Fighter):\\n    \"\"\"小怪兽\"\"\"\\n    __slots__ = (\\'_name\\', \\'_hp\\')\\n    def attack(self, other):\\n        other.hp -= randint(10, 20)\\n    def __str__(self):\\n        return \\'~~~%s小怪兽~~~\\\\n\\' % self._name + \\\\\\n            \\'生命值: %d\\\\n\\' % self._hp\\n\\ndef is_any_alive(monsters):\\n    \"\"\"判断有没有小怪兽是活着的\"\"\"\\n    for monster in monsters:\\n        if monster.alive > 0:\\n            return True\\n    return False\\n\\ndef select_alive_one(monsters):\\n    \"\"\"选中一只活着的小怪兽\"\"\"\\n    monsters_len = len(monsters)\\n    while True:\\n        index = randrange(monsters_len)\\n        monster = monsters[index]\\n        if monster.alive > 0:\\n            return monster\\n\\ndef display_info(ultraman, monsters):\\n    \"\"\"显示奥特曼和小怪兽的信息\"\"\"\\n    print(ultraman)\\n    for monster in monsters:\\n        print(monster, end=\\'\\')\\n\\ndef main():\\n    u = Ultraman(\\'a\\', 1000, 120)\\n    m1 = Monster(\\'c1\\', 250)\\n    m2 = Monster(\\'c2\\', 500)\\n    m3 = Monster(\\'c3\\', 750)\\n    ms = [m1, m2, m3]\\n    fight_round = 1\\n    while u.alive and is_any_alive(ms):\\n        print(\\'========第%02d回合========\\' % fight_round)\\n        m = select_alive_one(ms)  # 选中一只小怪兽\\n        skill = randint(1, 10)   # 通过随机数选择使用哪种技能\\n        if skill <= 6:  # 60%的概率使用普通攻击\\n            print(\\'%s使用普通攻击打了%s.\\' % (u.name, m.name))\\n            u.attack(m)\\n            print(\\'%s的魔法值恢复了%d点.\\' % (u.name, u.resume()))\\n        elif skill <= 9:  # 30%的概率使用魔法攻击(可能因魔法值不足而失败)\\n            if u.magic_attack(ms):\\n                print(\\'%s使用了魔法攻击.\\' % u.name)\\n            else:\\n                print(\\'%s使用魔法失败.\\' % u.name)\\n        else:  # 10%的概率使用究极必杀技(如果魔法值不足则使用普通攻击)\\n            if u.huge_attack(m):\\n                print(\\'%s使用究极必杀技虐了%s.\\' % (u.name, m.name))\\n            else:\\n                print(\\'%s使用普通攻击打了%s.\\' % (u.name, m.name))\\n                print(\\'%s的魔法值恢复了%d点.\\' % (u.name, u.resume()))\\n        if m.alive > 0:  # 如果选中的小怪兽没有死就回击奥特曼\\n            print(\\'%s回击了%s.\\' % (m.name, u.name))\\n            m.attack(u)\\n        display_info(u, ms)  # 每个回合结束后显示奥特曼和小怪兽的信息\\n        fight_round += 1\\n    print(\\'\\\\n========战斗结束!========\\\\n\\')\\n    if u.alive > 0:\\n        print(\\'%s奥特曼胜利!\\' % u.name)\\n    else:\\n        print(\\'小怪兽胜利!\\')\\n\\n# 调用\\nmain()', '# 综合案例1：奥特曼打小怪兽。\\n\\nfrom abc import ABCMeta, abstractmethod\\nfrom random import randint, randrange\\n\\nclass Fighter(object, metaclass=ABCMeta):\\n    \"\"\"战斗者\"\"\"\\n    # 通过__slots__魔法限定对象可以绑定的成员变量\\n    __slots__ = (\\'_name\\', \\'_hp\\')\\n    def __init__(self, name, hp):\\n        \"\"\"初始化方法\\n        :param name: 名字\\n        :param hp: 生命值\\n        \"\"\"\\n        self._name = name\\n        self._hp = hp\\n    @property\\n    def name(self):\\n        return self._name\\n    @property\\n    def hp(self):\\n        return self._hp\\n    @hp.setter\\n    def hp(self, hp):\\n        self._hp = hp if hp >= 0 else 0\\n    @property\\n    def alive(self):\\n        return self._hp > 0\\n    @abstractmethod\\n    def attack(self, other):\\n        \"\"\"攻击\\n        :param other: 被攻击的对象\\n        \"\"\"\\n        pass\\n\\nclass Ultraman(Fighter):\\n    \"\"\"奥特曼\"\"\"\\n    __slots__ = (\\'_name\\', \\'_hp\\', \\'_mp\\')\\n    def __init__(self, name, hp, mp):\\n        \"\"\"初始化方法\\n        :param name: 名字\\n        :param hp: 生命值\\n        :param mp: 魔法值\\n        \"\"\"\\n        super().__init__(name, hp)\\n        self._mp = mp\\n    def attack(self, other):\\n        other.hp -= randint(15, 25)\\n    def huge_attack(self, other):\\n        \"\"\"究极必杀技(打掉对方至少50点或四分之三的血)\\n        :param other: 被攻击的对象\\n        :return: 使用成功返回True否则返回False\\n        \"\"\"\\n        if self._mp >= 50:\\n            self._mp -= 50\\n            injury = other.hp * 3 // 4\\n            injury = injury if injury >= 50 else 50\\n            other.hp -= injury\\n            return True\\n        else:\\n            self.attack(other)\\n            return False\\n    def magic_attack(self, others):\\n        \"\"\"魔法攻击\\n        :param others: 被攻击的群体\\n        :return: 使用魔法成功返回True否则返回False\\n        \"\"\"\\n        if self._mp >= 20:\\n            self._mp -= 20\\n            for temp in others:\\n                if temp.alive:\\n                    temp.hp -= randint(10, 15)\\n            return True\\n        else:\\n            return False\\n    def resume(self):\\n        \"\"\"恢复魔法值\"\"\"\\n        incr_point = randint(1, 10)\\n        self._mp += incr_point\\n        return incr_point\\n    def __str__(self):\\n        return \\'~~~%s奥特曼~~~\\\\n\\' % self._name + \\\\\\n            \\'生命值: %d\\\\n\\' % self._hp + \\\\\\n            \\'魔法值: %d\\\\n\\' % self._mp\\n\\nclass Monster(Fighter):\\n    \"\"\"小怪兽\"\"\"\\n    __slots__ = (\\'_name\\', \\'_hp\\')\\n    def attack(self, other):\\n        other.hp -= randint(10, 20)\\n    def __str__(self):\\n        return \\'~~~%s小怪兽~~~\\\\n\\' % self._name + \\\\\\n            \\'生命值: %d\\\\n\\' % self._hp\\n\\ndef is_any_alive(monsters):\\n    \"\"\"判断有没有小怪兽是活着的\"\"\"\\n    for monster in monsters:\\n        if monster.alive > 0:\\n            return True\\n    return False\\n\\ndef select_alive_one(monsters):\\n    \"\"\"选中一只活着的小怪兽\"\"\"\\n    monsters_len = len(monsters)\\n    while True:\\n        index = randrange(monsters_len)\\n        monster = monsters[index]\\n        if monster.alive > 0:\\n            return monster\\n\\ndef display_info(ultraman, monsters):\\n    \"\"\"显示奥特曼和小怪兽的信息\"\"\"\\n    print(ultraman)\\n    for monster in monsters:\\n        print(monster, end=\\'\\')\\n\\ndef main():\\n    u = Ultraman(\\'a\\', 1000, 120)\\n    m1 = Monster(\\'c1\\', 250)\\n    m2 = Monster(\\'c2\\', 500)\\n    m3 = Monster(\\'c3\\', 750)\\n    ms = [m1, m2, m3]\\n    fight_round = 1\\n    while u.alive and is_any_alive(ms):\\n        print(\\'========第%02d回合========\\' % fight_round)\\n        m = select_alive_one(ms)  # 选中一只小怪兽\\n        skill = randint(1, 10)   # 通过随机数选择使用哪种技能\\n        if skill <= 6:  # 60%的概率使用普通攻击\\n            print(\\'%s使用普通攻击打了%s.\\' % (u.name, m.name))\\n            u.attack(m)\\n            print(\\'%s的魔法值恢复了%d点.\\' % (u.name, u.resume()))\\n        elif skill <= 9:  # 30%的概率使用魔法攻击(可能因魔法值不足而失败)\\n            if u.magic_attack(ms):\\n                print(\\'%s使用了魔法攻击.\\' % u.name)\\n            else:\\n                print(\\'%s使用魔法失败.\\' % u.name)\\n        else:  # 10%的概率使用究极必杀技(如果魔法值不足则使用普通攻击)\\n            if u.huge_attack(m):\\n                print(\\'%s使用究极必杀技虐了%s.\\' % (u.name, m.name))\\n            else:\\n                print(\\'%s使用普通攻击打了%s.\\' % (u.name, m.name))\\n                print(\\'%s的魔法值恢复了%d点.\\' % (u.name, u.resume()))\\n        if m.alive > 0:  # 如果选中的小怪兽没有死就回击奥特曼\\n            print(\\'%s回击了%s.\\' % (m.name, u.name))\\n            m.attack(u)\\n        display_info(u, ms)  # 每个回合结束后显示奥特曼和小怪兽的信息\\n        fight_round += 1\\n    print(\\'\\\\n========战斗结束!========\\\\n\\')\\n    if u.alive > 0:\\n        print(\\'%s奥特曼胜利!\\' % u.name)\\n    else:\\n        print(\\'小怪兽胜利!\\')\\n\\n# 调用\\nmain()', '# 综合案例1：奥特曼打小怪兽。\\n\\nfrom abc import ABCMeta, abstractmethod\\nfrom random import randint, randrange\\n\\nclass Fighter(object, metaclass=ABCMeta):\\n    \"\"\"战斗者\"\"\"\\n    # 通过__slots__魔法限定对象可以绑定的成员变量\\n    __slots__ = (\\'_name\\', \\'_hp\\')\\n    def __init__(self, name, hp):\\n        \"\"\"初始化方法\\n        :param name: 名字\\n        :param hp: 生命值\\n        \"\"\"\\n        self._name = name\\n        self._hp = hp\\n    @property\\n    def name(self):\\n        return self._name\\n    @property\\n    def hp(self):\\n        return self._hp\\n    @hp.setter\\n    def hp(self, hp):\\n        self._hp = hp if hp >= 0 else 0\\n    @property\\n    def alive(self):\\n        return self._hp > 0\\n    @abstractmethod\\n    def attack(self, other):\\n        \"\"\"攻击\\n        :param other: 被攻击的对象\\n        \"\"\"\\n        pass\\n\\nclass Ultraman(Fighter):\\n    \"\"\"奥特曼\"\"\"\\n    __slots__ = (\\'_name\\', \\'_hp\\', \\'_mp\\')\\n    def __init__(self, name, hp, mp):\\n        \"\"\"初始化方法\\n        :param name: 名字\\n        :param hp: 生命值\\n        :param mp: 魔法值\\n        \"\"\"\\n        super().__init__(name, hp)\\n        self._mp = mp\\n    def attack(self, other):\\n        other.hp -= randint(15, 25)\\n    def huge_attack(self, other):\\n        \"\"\"究极必杀技(打掉对方至少50点或四分之三的血)\\n        :param other: 被攻击的对象\\n        :return: 使用成功返回True否则返回False\\n        \"\"\"\\n        if self._mp >= 50:\\n            self._mp -= 50\\n            injury = other.hp * 3 // 4\\n            injury = injury if injury >= 50 else 50\\n            other.hp -= injury\\n            return True\\n        else:\\n            self.attack(other)\\n            return False\\n    def magic_attack(self, others):\\n        \"\"\"魔法攻击\\n        :param others: 被攻击的群体\\n        :return: 使用魔法成功返回True否则返回False\\n        \"\"\"\\n        if self._mp >= 20:\\n            self._mp -= 20\\n            for temp in others:\\n                if temp.alive:\\n                    temp.hp -= randint(10, 15)\\n            return True\\n        else:\\n            return False\\n    def resume(self):\\n        \"\"\"恢复魔法值\"\"\"\\n        incr_point = randint(1, 10)\\n        self._mp += incr_point\\n        return incr_point\\n    def __str__(self):\\n        return \\'~~~%s奥特曼~~~\\\\n\\' % self._name + \\\\\\n            \\'生命值: %d\\\\n\\' % self._hp + \\\\\\n            \\'魔法值: %d\\\\n\\' % self._mp\\n\\nclass Monster(Fighter):\\n    \"\"\"小怪兽\"\"\"\\n    __slots__ = (\\'_name\\', \\'_hp\\')\\n    def attack(self, other):\\n        other.hp -= randint(10, 20)\\n    def __str__(self):\\n        return \\'~~~%s小怪兽~~~\\\\n\\' % self._name + \\\\\\n            \\'生命值: %d\\\\n\\' % self._hp\\n\\ndef is_any_alive(monsters):\\n    \"\"\"判断有没有小怪兽是活着的\"\"\"\\n    for monster in monsters:\\n        if monster.alive > 0:\\n            return True\\n    return False\\n\\ndef select_alive_one(monsters):\\n    \"\"\"选中一只活着的小怪兽\"\"\"\\n    monsters_len = len(monsters)\\n    while True:\\n        index = randrange(monsters_len)\\n        monster = monsters[index]\\n        if monster.alive > 0:\\n            return monster\\n\\ndef display_info(ultraman, monsters):\\n    \"\"\"显示奥特曼和小怪兽的信息\"\"\"\\n    print(ultraman)\\n    for monster in monsters:\\n        print(monster, end=\\'\\')\\n\\ndef main():\\n    u = Ultraman(\\'a\\', 1000, 120)\\n    m1 = Monster(\\'c1\\', 250)\\n    m2 = Monster(\\'c2\\', 500)\\n    m3 = Monster(\\'c3\\', 750)\\n    ms = [m1, m2, m3]\\n    fight_round = 1\\n    while u.alive and is_any_alive(ms):\\n        print(\\'========第%02d回合========\\' % fight_round)\\n        m = select_alive_one(ms)  # 选中一只小怪兽\\n        skill = randint(1, 10)   # 通过随机数选择使用哪种技能\\n        if skill <= 6:  # 60%的概率使用普通攻击\\n            print(\\'%s使用普通攻击打了%s.\\' % (u.name, m.name))\\n            u.attack(m)\\n            print(\\'%s的魔法值恢复了%d点.\\' % (u.name, u.resume()))\\n        elif skill <= 9:  # 30%的概率使用魔法攻击(可能因魔法值不足而失败)\\n            if u.magic_attack(ms):\\n                print(\\'%s使用了魔法攻击.\\' % u.name)\\n            else:\\n                print(\\'%s使用魔法失败.\\' % u.name)\\n        else:  # 10%的概率使用究极必杀技(如果魔法值不足则使用普通攻击)\\n            if u.huge_attack(m):\\n                print(\\'%s使用究极必杀技虐了%s.\\' % (u.name, m.name))\\n            else:\\n                print(\\'%s使用普通攻击打了%s.\\' % (u.name, m.name))\\n                print(\\'%s的魔法值恢复了%d点.\\' % (u.name, u.resume()))\\n        if m.alive > 0:  # 如果选中的小怪兽没有死就回击奥特曼\\n            print(\\'%s回击了%s.\\' % (m.name, u.name))\\n            m.attack(u)\\n        display_info(u, ms)  # 每个回合结束后显示奥特曼和小怪兽的信息\\n        fight_round += 1\\n    print(\\'\\\\n========战斗结束!========\\\\n\\')\\n    if u.alive > 0:\\n        print(\\'%s奥特曼胜利!\\' % u.name)\\n    else:\\n        print(\\'小怪兽胜利!\\')\\n\\n# 调用\\nmain()', '# 综合案例1：奥特曼打小怪兽。\\n\\nfrom abc import ABCMeta, abstractmethod\\nfrom random import randint, randrange\\n\\nclass Fighter(object, metaclass=ABCMeta):\\n    \"\"\"战斗者\"\"\"\\n    # 通过__slots__魔法限定对象可以绑定的成员变量\\n    __slots__ = (\\'_name\\', \\'_hp\\')\\n    def __init__(self, name, hp):\\n        \"\"\"初始化方法\\n        :param name: 名字\\n        :param hp: 生命值\\n        \"\"\"\\n        self._name = name\\n        self._hp = hp\\n    @property\\n    def name(self):\\n        return self._name\\n    @property\\n    def hp(self):\\n        return self._hp\\n    @hp.setter\\n    def hp(self, hp):\\n        self._hp = hp if hp >= 0 else 0\\n    @property\\n    def alive(self):\\n        return self._hp > 0\\n    @abstractmethod\\n    def attack(self, other):\\n        \"\"\"攻击\\n        :param other: 被攻击的对象\\n        \"\"\"\\n        pass\\n\\nclass Ultraman(Fighter):\\n    \"\"\"奥特曼\"\"\"\\n    __slots__ = (\\'_name\\', \\'_hp\\', \\'_mp\\')\\n    def __init__(self, name, hp, mp):\\n        \"\"\"初始化方法\\n        :param name: 名字\\n        :param hp: 生命值\\n        :param mp: 魔法值\\n        \"\"\"\\n        super().__init__(name, hp)\\n        self._mp = mp\\n    def attack(self, other):\\n        other.hp -= randint(15, 25)\\n    def huge_attack(self, other):\\n        \"\"\"究极必杀技(打掉对方至少50点或四分之三的血)\\n        :param other: 被攻击的对象\\n        :return: 使用成功返回True否则返回False\\n        \"\"\"\\n        if self._mp >= 50:\\n            self._mp -= 50\\n            injury = other.hp * 3 // 4\\n            injury = injury if injury >= 50 else 50\\n            other.hp -= injury\\n            return True\\n        else:\\n            self.attack(other)\\n            return False\\n    def magic_attack(self, others):\\n        \"\"\"魔法攻击\\n        :param others: 被攻击的群体\\n        :return: 使用魔法成功返回True否则返回False\\n        \"\"\"\\n        if self._mp >= 20:\\n            self._mp -= 20\\n            for temp in others:\\n                if temp.alive:\\n                    temp.hp -= randint(10, 15)\\n            return True\\n        else:\\n            return False\\n    def resume(self):\\n        \"\"\"恢复魔法值\"\"\"\\n        incr_point = randint(1, 10)\\n        self._mp += incr_point\\n        return incr_point\\n    def __str__(self):\\n        return \\'~~~%s奥特曼~~~\\\\n\\' % self._name + \\\\\\n            \\'生命值: %d\\\\n\\' % self._hp + \\\\\\n            \\'魔法值: %d\\\\n\\' % self._mp\\n\\nclass Monster(Fighter):\\n    \"\"\"小怪兽\"\"\"\\n    __slots__ = (\\'_name\\', \\'_hp\\')\\n    def attack(self, other):\\n        other.hp -= randint(10, 20)\\n    def __str__(self):\\n        return \\'~~~%s小怪兽~~~\\\\n\\' % self._name + \\\\\\n            \\'生命值: %d\\\\n\\' % self._hp\\n\\ndef is_any_alive(monsters):\\n    \"\"\"判断有没有小怪兽是活着的\"\"\"\\n    for monster in monsters:\\n        if monster.alive > 0:\\n            return True\\n    return False\\n\\ndef select_alive_one(monsters):\\n    \"\"\"选中一只活着的小怪兽\"\"\"\\n    monsters_len = len(monsters)\\n    while True:\\n        index = randrange(monsters_len)\\n        monster = monsters[index]\\n        if monster.alive > 0:\\n            return monster\\n\\ndef display_info(ultraman, monsters):\\n    \"\"\"显示奥特曼和小怪兽的信息\"\"\"\\n    print(ultraman)\\n    for monster in monsters:\\n        print(monster, end=\\'\\')\\n\\ndef main():\\n    u = Ultraman(\\'a\\', 1000, 120)\\n    m1 = Monster(\\'c1\\', 250)\\n    m2 = Monster(\\'c2\\', 500)\\n    m3 = Monster(\\'c3\\', 750)\\n    ms = [m1, m2, m3]\\n    fight_round = 1\\n    while u.alive and is_any_alive(ms):\\n        print(\\'========第%02d回合========\\' % fight_round)\\n        m = select_alive_one(ms)  # 选中一只小怪兽\\n        skill = randint(1, 10)   # 通过随机数选择使用哪种技能\\n        if skill <= 6:  # 60%的概率使用普通攻击\\n            print(\\'%s使用普通攻击打了%s.\\' % (u.name, m.name))\\n            u.attack(m)\\n            print(\\'%s的魔法值恢复了%d点.\\' % (u.name, u.resume()))\\n        elif skill <= 9:  # 30%的概率使用魔法攻击(可能因魔法值不足而失败)\\n            if u.magic_attack(ms):\\n                print(\\'%s使用了魔法攻击.\\' % u.name)\\n            else:\\n                print(\\'%s使用魔法失败.\\' % u.name)\\n        else:  # 10%的概率使用究极必杀技(如果魔法值不足则使用普通攻击)\\n            if u.huge_attack(m):\\n                print(\\'%s使用究极必杀技虐了%s.\\' % (u.name, m.name))\\n            else:\\n                print(\\'%s使用普通攻击打了%s.\\' % (u.name, m.name))\\n                print(\\'%s的魔法值恢复了%d点.\\' % (u.name, u.resume()))\\n        if m.alive > 0:  # 如果选中的小怪兽没有死就回击奥特曼\\n            print(\\'%s回击了%s.\\' % (m.name, u.name))\\n            m.attack(u)\\n        display_info(u, ms)  # 每个回合结束后显示奥特曼和小怪兽的信息\\n        fight_round += 1\\n    print(\\'\\\\n========战斗结束!========\\\\n\\')\\n    if u.alive > 0:\\n        print(\\'%s奥特曼胜利!\\' % u.name)\\n    else:\\n        print(\\'小怪兽胜利!\\')\\n\\n# # 调用\\n# main()', '# 综合案例2： 扑克游戏。\\n\\nimport random\\n\\n\\nclass Card(object):\\n    \"\"\"一张牌\"\"\"\\n\\n    def __init__(self, suite, face):\\n        self._suite = suite\\n        self._face = face\\n\\n    @property\\n    def face(self):\\n        return self._face\\n\\n    @property\\n    def suite(self):\\n        return self._suite\\n\\n    def __str__(self):\\n        if self._face == 1:\\n            face_str = \\'A\\'\\n        elif self._face == 11:\\n            face_str = \\'J\\'\\n        elif self._face == 12:\\n            face_str = \\'Q\\'\\n        elif self._face == 13:\\n            face_str = \\'K\\'\\n        else:\\n            face_str = str(self._face)\\n        return \\'%s%s\\' % (self._suite, face_str)\\n    \\n    def __repr__(self):\\n        return self.__str__()\\n\\n\\nclass Poker(object):\\n    \"\"\"一副牌\"\"\"\\n\\n    def __init__(self):\\n        self._cards = [Card(suite, face) \\n                       for suite in \\'♠♥♣♦\\'\\n                       for face in range(1, 14)]\\n        self._current = 0\\n\\n    @property\\n    def cards(self):\\n        return self._cards\\n\\n    def shuffle(self):\\n        \"\"\"洗牌(随机乱序)\"\"\"\\n        self._current = 0\\n        random.shuffle(self._cards)\\n\\n    @property\\n    def next(self):\\n        \"\"\"发牌\"\"\"\\n        card = self._cards[self._current]\\n        self._current += 1\\n        return card\\n\\n    @property\\n    def has_next(self):\\n        \"\"\"还有没有牌\"\"\"\\n        return self._current < len(self._cards)\\n\\n\\nclass Player(object):\\n    \"\"\"玩家\"\"\"\\n\\n    def __init__(self, name):\\n        self._name = name\\n        self._cards_on_hand = []\\n\\n    @property\\n    def name(self):\\n        return self._name\\n\\n    @property\\n    def cards_on_hand(self):\\n        return self._cards_on_hand\\n\\n    def get(self, card):\\n        \"\"\"摸牌\"\"\"\\n        self._cards_on_hand.append(card)\\n\\n    def arrange(self, card_key):\\n        \"\"\"玩家整理手上的牌\"\"\"\\n        self._cards_on_hand.sort(key=card_key)\\n\\n\\n# 排序规则-先根据花色再根据点数排序\\ndef get_key(card):\\n    return (card.suite, card.face)\\n\\n\\ndef main():\\n    p = Poker()\\n    p.shuffle()\\n    players = [Player(\\'小东\\'), Player(\\'小西\\'), Player(\\'小南\\'), Player(\\'小北\\')]\\n    for _ in range(13):\\n        for player in players:\\n            player.get(p.next)\\n    for player in players:\\n        print(player.name + \\':\\', end=\\' \\')\\n        player.arrange(get_key)\\n        print(player.cards_on_hand)\\n\\n\\n# main()', '# 综合案例3：工资结算系统。\\n\\n\"\"\"\\n某公司有三种类型的员工 分别是部门经理、程序员和销售员\\n需要设计一个工资结算系统 根据提供的员工信息来计算月薪\\n部门经理的月薪是每月固定15000元\\n程序员的月薪按本月工作时间计算 每小时150元\\n销售员的月薪是1200元的底薪加上销售额5%的提成\\n\"\"\"\\nfrom abc import ABCMeta, abstractmethod\\n\\n\\nclass Employee(object, metaclass=ABCMeta):\\n    \"\"\"员工\"\"\"\\n\\n    def __init__(self, name):\\n        \"\"\"\\n        初始化方法\\n\\n        :param name: 姓名\\n        \"\"\"\\n        self._name = name\\n\\n    @property\\n    def name(self):\\n        return self._name\\n\\n    @abstractmethod\\n    def get_salary(self):\\n        \"\"\"\\n        获得月薪\\n\\n        :return: 月薪\\n        \"\"\"\\n        pass\\n\\n\\nclass Manager(Employee):\\n    \"\"\"部门经理\"\"\"\\n\\n    def get_salary(self):\\n        return 15000.0\\n\\n\\nclass Programmer(Employee):\\n    \"\"\"程序员\"\"\"\\n\\n    def __init__(self, name, working_hour=0):\\n        super().__init__(name)\\n        self._working_hour = working_hour\\n\\n    @property\\n    def working_hour(self):\\n        return self._working_hour\\n\\n    @working_hour.setter\\n    def working_hour(self, working_hour):\\n        self._working_hour = working_hour if working_hour > 0 else 0\\n\\n    def get_salary(self):\\n        return 150.0 * self._working_hour\\n\\n\\nclass Salesman(Employee):\\n    \"\"\"销售员\"\"\"\\n\\n    def __init__(self, name, sales=0):\\n        super().__init__(name)\\n        self._sales = sales\\n\\n    @property\\n    def sales(self):\\n        return self._sales\\n\\n    @sales.setter\\n    def sales(self, sales):\\n        self._sales = sales if sales > 0 else 0\\n\\n    def get_salary(self):\\n        return 1200.0 + self._sales * 0.05\\n\\n\\ndef main():\\n    emps = [\\n        Manager(\\'a\\'), Programmer(\\'b\\'),\\n        Manager(\\'c\\'), Salesman(\\'d\\'),\\n        Salesman(\\'e\\'), Programmer(\\'f\\'),\\n        Programmer(\\'g\\')\\n    ]\\n    for emp in emps:\\n        if isinstance(emp, Programmer):\\n            emp.working_hour = int(input(\\'请输入%s本月工作时间: \\' % emp.name))\\n        elif isinstance(emp, Salesman):\\n            emp.sales = float(input(\\'请输入%s本月销售额: \\' % emp.name))\\n        # 同样是接收get_salary这个消息但是不同的员工表现出了不同的行为(多态)\\n        print(\\'%s本月工资为: ￥%s元\\' %\\n              (emp.name, emp.get_salary()))\\n\\n\\n# main()', \"def foo():\\n    print('hello, world!')\\n\\ndef foo():\\n    print('goodbye, world!')\\n\\n# 下面的代码会输出什么呢？\\nfoo()\\n# goodbye, world!\", \"# NoneType  这个数据类型比较特殊，NoneType仅有唯一实例None\\nprint(type(None))   # <class 'NoneType'>\", \"is_student = True\\nhas_graduated = False\\n\\nprint(type(is_student))   # <class 'bool'>\\nprint(type(has_graduated))   # <class 'bool'>\", \"# int\\na = 10\\nb = -1  \\nprint(type(a))  # <class 'int'>\\nprint(type(b))  # <class 'int'>\\n\\n# float\\nc = 3.4\\nd = -0.002\\nprint(type(c))  # <class 'float'>\\nprint(type(d))  # <class 'float'>\\n\\n# complex\\ne = -2 + 4j\\nprint(type(e))   # <class 'complex'>\", '# 加 + \\nadd_ = 1 + 2\\nadd_b = 1.0 + .1\\nprint(f\"{add_=}\")   # add_=3\\nprint(f\"{add_b=}\")   # add_b=1.1', '# 减 -\\nsubtraction_ = 1-2\\nsubtraction_b = 1-2. \\nprint(f\"{subtraction_=}\")  # subtraction_=-1\\nprint(f\"{subtraction_b=}\")  # subtraction_b=-1.0', '# 乘 *\\nmultiplication_ = 2*3\\nmultiplication_b = 2.*3\\nprint(f\"{multiplication_=}\")   # multiplication_=6\\nprint(f\"{multiplication_b=}\")  # multiplication_b=6.0', '# 除 /\\ndivision_ = 1/2\\ndivision_b = 2/1\\nprint(f\"{division_=}\")  # division_=0.5\\nprint(f\"{division_b=}\")  # division_b=2.0', '# 取商 //\\nrounding_ = 1 //2\\nprint(f\"{rounding_=}\")   # rounding_=0\\n\\n# 取余 % \\nremainder_ = 1%2\\nprint(f\"{remainder_=}\")  # remainder_=1', '# 幂运算 **\\npower_ = 2**3\\nprint(f\"{power_=}\")  # power_=8', '# 科学计数法\\na = 1e3\\nprint(f\"{a=}\")  # a=1000.0\\n\\nb = -2e-4\\nprint(f\"{b=}\")  # b=-0.0002', '# 常用数字运算函数\\nnumber = -7.25\\n\\nprint(f\"取绝对值：{abs(number)=}\")  # 取绝对值：abs(number)=7.25\\nprint(f\"求幂：{pow(2,3)=}\")  # 求幂：pow(2,3)=8\\nprint(f\"小数位数调整(有四舍五入)：{round(3.1415, 3)=}\")  # 小数位数调整(有四舍五入)：round(3.1415, 3)=3.142\\nprint(f\"取商取余：{divmod(10,3)=}\")  # 取商取余：divmod(10,3)=(3, 1)', '# 数字类型转换\\na = 1.2  # <class \\'float\\'>\\nb = 2  # <class \\'int\\'>\\nprint(f\"{int(a)=}\")  # int(a)=1\\nprint(type(int(a)))  # <class \\'int\\'>\\nprint(f\"{float(b)=}\")  # float(b)=2.0\\nprint(type(float(b)))  # <class \\'float\\'>\\n\\n# 空int \\nempty_int = int()\\nprint(f\"{type(empty_int)=}\")   # type(empty_int)=<class \\'int\\'>\\n\\n# 空float\\nempty_float = float()\\nprint(f\"{type(empty_float)=}\")  # type(empty_float)=<class \\'float\\'>', 'name = \"Alili\"\\ngreeting = \"Hello !\"\\nmultiline = \"\"\"This is \\na \\nmultiline.\"\"\"\\n\\n# 空字符串   <class \\'str\\'>\\nempty_str = str()\\n# empty_str = \\'\\'\\n# empty_str = \"\"\\nprint(type(empty_str))    # <class \\'str\\'>', 's = \"Hello\"\\n# 尝试修改第一个字符\\ns[0] = \\'h\\'    # TypeError: \\'str\\' object does not support item assignment', \"# 正确的做法是创建一个新的字符串\\ns_new = 'hello'\\nprint(s_new)  # hello\", 's = \"Hello, Python !\"\\n# 索引\\n# 正向索引  从0开始\\nprint(s[0])   # H\\nprint(s[7])   # P\\n# 反向索引  从-1开始\\nprint(s[-1])  # !\\nprint(s[-7])  # y\\n# 切片\\n# 基本切片\\nprint(s[0:5])  # Hello\\nprint(s[7:])  # Python !\\nprint(s[:5])  # Hello\\n# 使用步长   start:end:step     step默认是1，也就是连续取，step=2就是隔一个取\\nprint(s[::2])  # Hlo yhn!\\nprint(s[::-1])  # ! nohtyP ,olleH  # 字符串反转\\n# 负数索引切片 \\nprint(s[-6:-1])  # thon ', '# 拼接\\n# 使用加号\\ns1 = \"Hello\"\\ns2 = \"World\"\\ns3 = s1 + \",\" + s2 + \"!\"\\nprint(s3) # Hello,World!\\n\\n# 使用join()方法\\nwords= [\"Python\", \"is\", \"awesome\"]\\nsentense = \" \".join(words)\\nprint(sentense)  # Python is awesome\\n\\n# 重复\\ns = \\'Echo! \\'\\nrepeated = s * 3\\nprint(repeated)  # Echo! Echo! Echo! ', '# 分割\\n\\ns = \"Python is fun and powerful.\"\\nwords = s.split()\\nprint(words)   # [\\'Python\\', \\'is\\', \\'fun\\', \\'and\\', \\'powerful.\\']\\n\\n# words = s.split(\\' \\', 1)  # 看python的版本是否支持\\n# print(words)  # [\\'Python\\', \\'is fun and powerful.\\']\\n\\n# 使用指定分隔符\\nwords_dot = s.split(\\'.\\')\\nprint(words_dot)  # [\\'Python is fun and powerful\\', \\'\\']\\n\\ns_ = \"apple,banana,orange\"\\n# rsplit  从右开始分割,最多分割2次\\nfruits = s_.rsplit(\\',\\', 2)\\nprint(fruits)  # [\\'apple\\', \\'banana\\', \\'orange\\']', \"s = 'abracadabra'\\n\\nindex = s.find('cad')\\nprint(index)  # 4\\n\\nind = s.find('xyt')\\nprint(ind)  # -1\\n\\nlast_idx = s.rfind('abra')\\nprint(last_idx)  # 7\", 's = \"a, A\"\\nprint(s.upper())  # A, A\\nprint(s.lower())  # a, a', 's = \"  Hello, Python!  \"\\n\\nprint(s.strip())  # Hello, Python!\\nprint(s.lstrip()) # Hello, Python!\\nprint(s.rstrip()) #   Hello, Python!', 's = \"Pyrhon Programming\"\\n\\nprint(s.startswith(\\'Py\\'))  # True\\nprint(s.endswith(\\'g\\'))  # True\\nprint(s.startswith(\\'Java\\'))  # False', \"s = 'banana'\\n\\ncount = s.count('a')\\nprint(count)  # 3\", \"s = 'banana'\\n\\nindex_ = s.index('a')\\nprint(index_)  # 1\", 'name = \"Alili\"\\nage = 24\\n\\n# %\\ns = \"My name is %s and I am %d years old.\" % (name, age)\\nprint(s)\\n\\n# str.format()\\nfmt_mtd = \"My name is {} and I am {:.2f} years old.\".format(name, age)\\nprint(fmt_mtd)  # My name is Alili and I am 24.00 years old.\\n# 0 1 表示索引\\n# fmt_mtd = \"My name is {0} and I am {1} years old.\".format(name, age)\\n# fmt_mtd = \"My name is {0} and I am {1:.2f} years old.\".format(name, age)\\n\\n# f-str\\nf_method = f\"My name is {name} and I am {age:.2f} years old.\"\\nprint(f_method)  # My name is Alili and I am 24.00 years old.', 's = \"Hello,\\\\nPython!\"\\nprint(s)\\n# Hello,\\n# Python!\\n\\ns = r\"C:\\\\Users\\\\Alili\\\\Documents\"\\nprint(s)  # C:\\\\Users\\\\Alice\\\\Documents', 's = \"Python\"\\nprint(len(s))  # 6', 's = \"Python Programming\"\\nprint(\"Python\" in s)      # True\\nprint(\"Java\" not in s)    # True', 's = \"Hello\"\\nfor char in s:\\n    print(char)\\n# H\\n# e\\n# l\\n# l\\n# o', 's = \"Hello\"\\n\\n# 转换为列表\\nchars = list(s)\\nprint(chars)  # [\\'H\\', \\'e\\', \\'l\\', \\'l\\', \\'o\\']\\n\\n# 列表转换为字符串\\ns_new = \\'\\'.join(chars)\\nprint(s_new)  # Hello', 's = \"The quick brown fox jumps over the lazy dog.\"\\n# 查找子字符串\\nindex = s.find(\"fox\")\\nprint(index)  # 16\\n# 替换子字符串\\ns_new = s.replace(\"fox\", \"cat\")  \\nprint(s_new)  # The quick brown cat jumps over the lazy dog.', \"tup = 1,2,4\\n# tup = 1,2,4,\\n# tup = (1,2,4)\\n# tup = (1,2,4,)\\nprint(tup)   # (1, 2, 4)\\n\\nz_tup = (4,2,1), (3,9)\\nprint(z_tup)   # ((4, 2, 1), (3, 9))\\n\\n# 空元组\\nempty_tup = ()   #  <class 'tuple'>\\n# empty_tup = tuple()   # <class 'tuple'>\\nprint(type(empty_tup))   # <class 'tuple'>\", 'tuple_a = tuple([1,3,2,4,2])  # (1, 3, 2, 4, 2)\\nprint(tuple_a)\\ntuple_b = tuple(\"AbCdef\")  # (\\'A\\', \\'b\\', \\'C\\', \\'d\\', \\'e\\', \\'f\\')\\nprint(tuple_b)', \"tuple_c = tuple(['start', [0,0], 1, False])\\nid_before = id(tuple_c[1])  # 3004552076736\\n\\n# tuple_c[1] = [0,0,1] # 会引发 TypeError\\ntuple_c[1].append(1)  # ('start', [0, 0, 1], 1, False) \\nid_after = id(tuple_c[1])  # 3004552076736\\n\\nprint(id_before == id_after) # True\\n\\n# 在Python中，每个对象都有一个唯一的身份标识，用于区分不同的对象。\\n# id() 函数用于获取对象的唯一标识符。这是一个唯一的整数，且在对象的生命周期内保持不变\\n# id_before == id_after，id_before、id_after引用的是同一个对象 tuple_c[1]\\n# is 运算符,用于判断两个变量是否引用同一个对象,等同于比较两个变量的id是否相同\", 'tuple_ = (1,2,) + \"a\" + (\"1\",) + (2)  \\n# TypeError \"a\"、(\"a\") is str, type((2)) is int', 'tuple_d = (1,2,) + (\"a\",) + (\"1\",) + (2,)  \\ntuple_e = (\\'kk\\', \\'ss\\') * 2   \\nprint(f\"{tuple_d=}\")  # tuple_d=(1, 2, \\'a\\', \\'1\\', 2)\\nprint(f\"{tuple_e=}\")  # tuple_e=(\\'kk\\', \\'ss\\', \\'kk\\', \\'ss\\')', 'tuple_f = (1,21,33,41)\\na_, b_, c_, d_= tuple_f   # 1 21 33 41\\na_, b_, *rest = tuple_f   # 1 21\\nprint(f\"{rest=}\")   # rest=[33, 41]\\n\\ntuple_g = (1,),(21,33,41)\\na_, (b_, c_, d_) = tuple_g   #  (1,) 21 33 41\\na_, b_ = tuple_g   # (1,) (21, 33, 41)\\nprint(a_[0])   # 1', 'x_, y_ = 1, 2\\nx_, y_ = y_, x_ \\nprint(f\"{x_=}\") # x_=2\\nprint(f\"{y_=}\") # y_=1', 'tuple_h = 1,2,3,4,5,6,6,6,6,6,\\ntuple_h.count(6)  # 5', '# 空集合\\nempty_set = set()  # <class \\'set\\'>\\nprint(type(empty_set))  # <class \\'set\\'>\\n# 创建集合\\nunique_numbers = {1, 2, 3, 4, 5}\\n# 添加元素\\nunique_numbers.add(6)\\n# 删除元素\\nunique_numbers.discard(3)\\n\\n# 集合运算\\nevens = {2, 4, 6, 8}\\nodds = {1, 3, 5, 7}\\n# # -\\nsub_result = evens - odds\\nprint(f\"{sub_result=}\")   # sub_result={8, 2, 4, 6}\\n# # 并集\\nunion = evens.union(odds)\\n# union = evens | odds\\n# union = evens.update(odds)\\nprint(f\"{union=}\")  # union={1, 2, 3, 4, 5, 6, 7, 8}\\n# # 交集\\nintersection = evens.intersection({4, 5, 6})\\nprint(f\"{intersection=}\")  # intersection={4, 6}\\n\\n# 不在意内部元素顺序的情况下, 剔除重复值\\ntu = 1,1,1,1,1,1,12,2,3,4,\\ntuple_ = tuple(set(tu))\\nprint(f\"{tuple_=}\")  # list_=[1, 2, 3, 4, 12]\\n# 集合支持for循环遍历\\nfor x in tuple_:\\n    print(x) # 1 2 3 4 12', '# 创建列表\\n# # 空列表\\nempty_list = [] \\n# empty_list = list()\\n# print(empty_list)  # []\\nprint(type(empty_list))  # <class \\'list\\'>\\n\\n# # 嵌套列表\\nnested_list = [1, [2, 3], [4, 5, 6]]\\n# # 列表中可以包含不同类型的元素\\nmixed_list = [1, \"Python\", 3.14, True]\\n\\n\\nfruits = [\\'apple\\', \\'banana\\', \\'cherry\\']\\n# 正向索引\\nfirst_fruit = fruits[0]\\nprint(f\"{first_fruit=}\")  # first_fruit=\\'apple\\'\\n# 反向索引\\nlast_fruit = fruits[-1]\\nprint(f\"{last_fruit=}\")  # last_fruit=\\'cherry\\'\\n\\n# 列表切片 语法为list[start:end:step]\\nnumbers = [0, 1, 2, 3, 4, 5, 6, 7, 8, 9]\\n# # 基本切片\\nprint(numbers[2:5])    # [2, 3, 4]\\nprint(numbers[:4])     # [0, 1, 2, 3]\\nprint(numbers[6:])     # [6, 7, 8, 9]\\n# # 使用步长\\nprint(numbers[::2])    # [0, 2, 4, 6, 8]\\nprint(numbers[::-1])   # [9, 8, 7, 6, 5, 4, 3, 2, 1, 0]', \"fruits = ['apple', 'banana', 'cherry']\\n\\n# append()\\nfruits.append('date')\\nprint(fruits)  #  ['apple', 'banana', 'cherry', 'date']\\n\\n# insert()\\nfruits.insert(1, 'blueberry')\\nprint(fruits)  # ['apple', 'blueberry', 'banana', 'cherry', 'date']\\n\\n# extend()\\nfruits.extend(['elderberry', 'fig'])\\nprint(fruits)  # ['apple', 'blueberry', 'banana', 'cherry', 'date', 'elderberry', 'fig']\", \"fruits = ['apple', 'blueberry', 'banana', 'cherry', 'date', 'elderberry', 'fig']\\n\\n# remove()\\nfruits.remove('banana')\\nprint(fruits)  # ['apple', 'blueberry', 'cherry', 'date', 'elderberry', 'fig']\\n\\n# pop()\\nremoved = fruits.pop(2)\\nprint(removed)  # cherry\\nprint(fruits)    # ['apple', 'blueberry', 'date', 'elderberry', 'fig']\\n\\n# clear()\\nfruits.clear()\\nprint(fruits)  # []\", 'numbers = [4, 2, 9, 1, 5, 6, 2]\\n\\n# index()\\nprint(numbers.index(5))  # 4\\n\\n# count()\\nprint(numbers.count(2))  # 2\\n\\n# sort()\\nnumbers.sort()\\nprint(numbers)  # [1, 2, 2, 4, 5, 6, 9]\\n\\n# sorted()   reverse: True降序 False升序\\nsorted_numbers = sorted(numbers, reverse=True)  \\nprint(sorted_numbers)  # [9, 6, 5, 4, 2, 2, 1]\\n\\n# reverse()\\nnumbers.reverse()\\nprint(numbers)  # [9, 6, 5, 4, 2, 2, 1]', \"fruits = ['apple', 'banana', 'cherry', 'date']\\n\\n# 使用 for 循环遍历列表\\nfor fruit in fruits:\\n    print(fruit)\\n\\n# while循环\\nindex = 0\\nwhile index < len(fruits):\\n    print(fruits[index])\\n    index += 1\\n# apple banana cherry date\", 'fruits = [\\'apple\\', \\'banana\\', \\'cherry\\', \\'date\\']\\n\\n# 使用 enumerate() 遍历列表\\nfor index, fruit in enumerate(fruits):\\n    print(f\"Index {index}: {fruit}\")\\n# Index 0: apple\\n# Index 1: banana\\n# Index 2: cherry\\n# Index 3: date\\n\\n# 从索引 1 开始遍历\\nfor index, fruit in enumerate(fruits, start=1):\\n    print(f\"Index {index}: {fruit}\")\\n# Index 1: apple\\n# Index 2: banana\\n# Index 3: cherry\\n# Index 4: date', 'names = [\\'Alili\\', \\'Bobo\\', \\'Qiuqiu\\']\\nages = [25, 30]\\n\\n# 使用 zip() 遍历长度不同的列表\\nfor name, age in zip(names, ages):\\n    print(f\"{name} is {age} years old.\")\\n# Alili is 25 years old.\\n# Bobo is 30 years old.', '# 字符串转列表\\ns = \"Hello\"\\nlst = list(s)\\nprint(lst)  # [\\'H\\', \\'e\\', \\'l\\', \\'l\\', \\'o\\']\\n\\n# # 列表转字符串\\n# words = [\\'Python\\', \\'is\\', \\'awesome\\']\\n# sentence = \\' \\'.join(words)\\n# print(sentence)  # Python is awesome', 'matrix = [\\n    [1, 2, 3],\\n    [4, 5, 6],\\n    [7, 8, 9]\\n]\\n\\n# 访问元素\\nprint(matrix[0][1])  # 2\\nprint(matrix[2][2])  # 9\\n\\nfor x in matrix:\\n    print(x)\\n# [1, 2, 3]\\n# [4, 5, 6]\\n# [7, 8, 9]\\n\\nfor x in matrix[0]:\\n    print(x)\\n# 1\\n# 2\\n# 3', \"# 创建空字典\\nempty_dict = {}\\n# empty_dict = dict()\\nprint(type(empty_dict))  # <class 'dict'>\\n\\n# 创建包含键值对的字典\\nstudent = {'name': 'Alili',\\n    'age': 25,\\n    'major': 'Computer Science'}\\n\\n# 使用 dict() 构造函数创建字典\\nperson = dict(name='Bomm', age=30, city='New York')\\nprint(person) # {'name': 'Bomm', 'age': 30, 'city': 'New York'}\\n\\n# 使用序列创建字典\\nmapping = dict(zip(range(5), reversed(range(5))))\\nprint(mapping)  # {0: 4, 1: 3, 2: 2, 3: 1, 4: 0}\\n\\n# 设置默认值  setdefault方法\\n# dict.setdefault(key, default=None)\\nmy_dict = {'a': 1, 'b': 2}\\nresult1 = my_dict.setdefault('a', 100)  # 键 'a' 存在，返回其对应的值 1\\nprint(result1)  # 1\\nresult2 = my_dict.setdefault('c', 3)    # 键 'c' 不存在，添加 'c' 键，值为 3\\nprint(result2) # 3\", \"student = {\\n    'name': 'Alili',\\n    'age': 25,\\n    'major': 'Computer Science'}\\n\\n# 使用中括号访问\\nprint(student['name'])  # Alili\\n# 使用 get() 方法访问\\nprint(student.get('age'))  # 25\\n# 如果键不存在，使用 get() 可设置默认值\\nprint(student.get('gpa', 'Not Available'))  # Not Available\", \"student = {\\n    'name': 'Alili',\\n    'age': 25,\\n    'like': 'orange'\\n}\\n\\n# 添加新的键值对\\nstudent['like'] = 'orange'\\nprint(student)\\n# {'name': 'Alili', 'age': 25, 'like': 'orange'}\\n\\n# 修改现有的值\\nstudent['age'] = 25.5\\nprint(student)\\n# {'name': 'Alili', 'age': 25.5, 'like': 'orange'}\", \"student = {\\n    'name': 'Alili',\\n    'age': 25,\\n    'like': 'orange'\\n}\\n\\n# 使用 del 语句删除键值对\\ndel student['like']\\nprint(student)\\n# {'name': 'Alili', 'age': 25}\\n\\n# 使用 pop() 方法删除并返回值\\nage = student.pop('age')\\nprint(age)       # 25\\nprint(student)   # {'name': 'Alili'}\\n\\n# 使用 clear() 方法清空字典\\nstudent.clear()\\nprint(student)  # {}\", \"student = {\\n    'name': 'Alili',\\n}\\n\\nkeys = student.keys()\\nprint(keys)  # dict_keys(['name'])\\n\\nvalues = student.values()\\nprint(values)  # dict_values(['Alili'])\\n\\nitems = student.items()\\nprint(items)  # dict_items([('name', 'Alili')])\\n\\n# gpa = student.get('gpa', 'Not Available')\\n# print(gpa)  # Not Available\\n\\nadditional_info = {'gpa': 3.9, 'graduated': False}\\nstudent.update(additional_info)\\nprint(student)   # {'name': 'Alili', 'gpa': 3.9, 'graduated': False}\\n\\nitem = student.popitem()\\nprint(item)      # ('graduated', False)\\nprint(student)   # {'name': 'Alili', 'gpa': 3.9}\", 'student = {\\n    \\'name\\': \\'Alili\\',\\n    \\'age\\': 25,\\n    \\'like\\': \\'orange\\'}\\n\\n# 遍历键\\nfor key in student:\\n    print(key)\\n# name age like\\n\\n# 遍历值\\nfor value in student.values():\\n    print(value)\\n# Alili 25 orange\\n\\n# 遍历键值对\\nfor key, value in student.items():\\n    print(f\"{key}: {value}\")\\n# name: Alili  age: 25  like: orange', \"# 创建嵌套字典\\nstudents = {\\n    'Alili': {\\n        'age': 25,\\n        'major': 'Computer Science',\\n        'gpa': 3.8},\\n    'Bomm': {\\n        'age': 22,\\n        'major': 'Mathematics',\\n        'gpa': 3.5}}\\n\\n# 访问嵌套字典中的值\\nprint(students['Alili']['major'])  # Computer Science\\n# 添加新的嵌套字典\\nstudents['Charlo'] = {'age': 24, 'major': 'Physics', 'gpa': 3.6}\\nprint(students)\\n# {'Alili': {'age': 25, 'major': 'Computer Science', 'gpa': 3.8}, \\n# 'Bomm': {'age': 22, 'major': 'Mathematics', 'gpa': 3.5}, \\n# 'Charlo': {'age': 24, 'major': 'Physics', 'gpa': 3.6}}\", 'for k,v in students.items():\\n    print(f\"key:{k},value:{v}\")\\n# key:Alili,value:{\\'age\\':25,\\'major\\':\\'Computer Science\\',\\'gpa\\':3.8}\\n# key:Bomm,value:{\\'age\\':22,\\'major\\':\\'Mathematics\\',\\'gpa\\':3.5}\\n# key:Charlo,value:{\\'age\\':24,\\'major\\':\\'Physics\\',\\'gpa\\':3.6}', 'a = 100\\nb = 100   # 小整数在 Python 中会被缓存并共享\\nc = 1000  # 大整数则不会被缓存\\nd = 1000\\nprint(id(a)==id(b),id(c)==id(d)) # True False\\nprint(a is b, c is d)  # True False', 'from typing import List, Tuple, Dict\\n\\n# List: 一个整数类型的列表\\nnumbers: List[int] = [1, 2, 3, 4, 5]\\nprint(numbers)  # [1, 2, 3, 4, 5]\\n# Tuple: 一个包含整数和字符串的元组\\ninfo: Tuple[int, str] = (42, \"example\")\\nprint(info)  # (42, \\'example\\')\\n# Dict: 一个键为字符串类型、值为整数类型的字典\\nscores: Dict[str, int] = {\"Alili\": 95, \"Bobo\": 88}\\nprint(scores)  # {\\'Alili\\': 95, \\'Bobo\\': 88}\\n\\nfrom collections import defaultdict, OrderedDict\\n\\n# defaultdict: 创建一个有默认值的字典\\n# 当键不存在时，自动返回指定的默认值\\ndefault_dict = defaultdict(int)\\nprint(default_dict)  # defaultdict(<class \\'int\\'>, {})\\ndefault_dict[\"a\"] += 1  # 默认值为0，所以输出结果为1\\nprint(default_dict[\"a\"])  # 1\\n# OrderedDict: 保持键值对的插入顺序\\nordered_dict = OrderedDict([(\"one\", 1), (\"two\", 2), (\"three\", 3)])\\nfor key, value in ordered_dict.items():\\n    print(key, value)\\n# one 1\\n# two 2\\n# three 3', 'age = 19   # age = input(\"请输入年龄:\")\\nif age >= 18: print(\"You are an adult.\")\\nelif age >= 13: print(\"You are a teenager.\")\\nelse: print(\"You are a child.\")', '# 打印 0 到 4\\nfor i in range(5):\\n    print(i)', 'count = 0\\n\\nwhile count < 5:\\n    print(count)\\n    count += 1\\n\\n# 0\\n# 1\\n# 2\\n# 3\\n# 4', '# password = \"\"\\n# while password != \"python123\":\\n#     password = input(\"Enter the password: \")\\n#     if password == \"python123\":\\n#         print(\"Access granted.\")\\n#     else:\\n#         print(\"Incorrect password. Try again.\")\\n\\n\\n# # for \\n# for _ in range(5):\\n#     password = input(\"Enter the password: \")\\n#     if password == \"python123\":\\n#         print(\"Access granted.\")\\n#     else:\\n#         print(\"Incorrect password. Try again.\")\\n        ', 'for i in range(10):\\n    if i == 5:\\n        break\\n    print(i)\\n    \\n# 0\\n# 1\\n# 2\\n# 3\\n# 4', 'for i in range(5):\\n    # if i == 2: continue   # 这种写法也支持\\n    if i == 2:\\n        continue\\n    print(i)\\n\\n# 0\\n# 1\\n# 3\\n# 4', 'for i in range(5):\\n    if i == 2:\\n        pass  # 暂不处理\\n    print(i)\\n\\n# 0\\n# 1\\n# 2\\n# 3\\n# 4', \"strings = ['a', 'as', 'bat', 'car', 'haha', 'python']\\n[x.upper() for x in strings if len(x) > 2]\\n# ['BAT', 'CAR', 'HAHA', 'PYTHON']\", \"# 集合推导式\\nstrings = ['a', 'as', 'bat', 'car', 'haha', 'python']\\n\\nunique_lengths = {len(x) for x in strings}\\nprint(unique_lengths)  # {1, 2, 3, 4, 6}\", '# 字典推导式\\nnumbers = [1, 2, 3, 4]\\nsquares_dict = {num: num ** 2 for num in numbers}\\nprint(squares_dict)  # {1: 1, 2: 4, 3: 9, 4: 16}\\n\\n# 原始字典，值为字符串类型\\noriginal = {\\'Alili\\': \\'Female\\', \\'Bomm\\': \\'Male\\', \\'Charlo\\': \\'Male\\', \\n            \\'Daisy\\': \\'Female\\'}\\n# 保留 \"Male\" 性别且键名以 \"B\" 开头的项\\nfiltered = {\\n    name: gender\\n    for name, gender in original.items()\\n    if gender == \\'Male\\' and name.startswith(\\'B\\')}\\nprint(filtered)  # {\\'Bomm\\': \\'Male\\'}\\n# 给定字典是 {字段名: 值}，反转它成 {值: 字段名} 形式\\ninfo = {\\'name\\': \\'Alili\\', \\'age\\': 25, \\'city\\': \\'New York\\'}\\nreversed_dict = {value: key for key, value in info.items()}\\nprint(reversed_dict)\\n# {\\'Alili\\': \\'name\\', 25: \\'age\\', \\'New York\\': \\'city\\'}', \"s = ['1', 'as', 'bat', 'god', 'boom', 'python']\\n\\nunique_lens = {len(x) for x in s}\\nprint(unique_lens)  # {1, 2, 3, 4, 6}\\n\\nunique_lens_b = set(map(len, s))  \\nprint(unique_lens_b)  # {1, 2, 3, 4, 6}\\n\\n# 构建一个字典推导式,创建一个字符串的查找映射表以确定它在列表中的位置\\nidx_mapping = {val : index for index, val in enumerate(s)}\\nprint(idx_mapping)\\n# {'1': 0, 'as': 1, 'bat': 2, 'god': 3, 'boom': 4, 'python': 5}\", \"all_data = [['Johnn', 'Emly', 'Mikhael', 'Marny', 'Steven'], ['Marian', 'Juany', 'Javieru', 'Natalia', 'Pilar']]\", \"names_of_interest = []\\nfor names in all_data:\\n    enough_es = [name for name in names if name.count('e') > 1]\\n    names_of_interest.extend(enough_es)\\nnames_of_interest  # ['Steven']\", \"result = [name for names in all_data for name in names if name.count('e') > 1]\\nprint(result)   # ['Steven']\", '# try-except\\n\\ndef divide(a, b):\\n    try:\\n        result = a / b\\n    except ZeroDivisionError as e:\\n        print(\"错误：除数为0！\")\\n        return None\\n    else:\\n        print(\"除法运算成功。\")\\n        return result\\n\\nres = divide(10, 2)\\nprint(\"结果：\", res)\\n# 除法运算成功。\\n# 结果： 5.0\\nres = divide(5, 0)\\nprint(\"结果：\", res)\\n# 错误：除数为0！\\n# 结果： None', 'def divide_b(a, b):\\n    result = None  # 先在函数开始处定义一个默认值，避免局部变量未定义\\n\\n    try:\\n        result = a / b\\n    except ZeroDivisionError:\\n        print(\"错误：除数不能为 0！\")\\n    except TypeError:\\n        print(\"错误：类型不匹配，无法进行除法运算！\")\\n    finally:\\n        # finally 块中的代码无论是否发生异常都会被执行\\n        if result is not None:\\n            # 如果 result 在 try 中成功被赋值，则返回它\\n            return result\\n        else:\\n            # 如果 result 仍是 None，说明出现了异常或其他问题\\n            print(f\"无法正常计算 {a} 除以 {b}\")\\n            return None\\n\\nprint(divide_b(4,2))\\n# 2.0\\n\\nprint(divide_b(2,\\'a\\'))\\n# 错误：类型不匹配，无法进行除法运算！\\n# 无法正常计算 2 除以 a\\n# None', 'def divide(a, b):\\n    if b == 0:\\n        raise ZeroDivisionError(\"除数不能为零\")\\n    return a / b\\n\\ntry:\\n    result = divide(10, 0)\\nexcept ZeroDivisionError as e:\\n    print(f\"错误: {e}\")\\n# 错误: 除数不能为零', 'nums = [1, 2, 3]\\n\\nassert isinstance(nums, list) and len(nums) > 0, \"数据必须是非空列表\"\\n\\nprint(nums)  # assert 语句通过\\n\\nassert isinstance(nums, list) and len(nums) > 3, \"数据必须是非空列表且包含不少于4个元素\"\\nprint(nums)  # AssertionError: 数据必须是非空列表且包含不少于4个元素', '# 返回一个或多个变量(通常是一个元组)\\ndef min_and_max(numbers):\\n    \"\"\"返回给定列表的最小值和最大值\"\"\"\\n    return min(numbers), max(numbers)\\nnums = [3, 1, 5, 2, 4]\\nprint(type(min_and_max(nums)))    # <class \\'tuple\\'>\\nlowest, highest = min_and_max(nums)\\nprint(lowest, highest)  # 输出: 1 5\\n\\n# 没有return\\ndef do_nothing(): pass\\nresult = do_nothing()\\nprint(result)  # None\\n\\ndef my_function(x, y, z=1.5):  \\n    if z > 1: return z * (x + y)\\n    else: return z / (x + y)\\n# 使用\\nprint(my_function(1,2))  # 按照定义时的参数顺序来传递值\\n# 4.5\\nprint(my_function(z=3,x=2,y=4))  # 显式地通过参数名来传递值，顺序随意\\n# 18', 'def greet(name, message):\\n    print(f\"{message}, {name}!\")\\n\\ngreet(\"Python\", \"Hello\")  # Hello, Python! \\n# 按顺序传递: name=\"Python\", message=\"Hello\"', 'def greet(name, message):\\n    print(f\"{message}, {name}!\")\\n\\n# 使用关键字参数，顺序随意\\ngreet(message=\"Hi\", name=\"Python\") # Hi, Python!', 'def greet(name, message=\"Hello\"):\\n    print(f\"{message}, {name}!\")\\n\\n# 只传name，message使用默认值\"Hello\"\\ngreet(\"Charlo\")  # HHello, Charlo!\\n# 同时传递两个参数\\ngreet(\"Daissy\", \"Hi\")  # Hi, Daissy!', 'def add_numbers(*args):\\n    total = 0\\n    for num in args:\\n        total += num\\n    return total\\n\\nprint(add_numbers(1, 2, 3))       # 6\\nprint(add_numbers(10, 20, 30, 5)) # 65', 'def build_profile(first_name, last_name, **kwargs):\\n    profile = {\"first_name\": first_name, \"last_name\": last_name}\\n    # 将额外的关键字参数更新到profile字典中\\n    for key, value in kwargs.items():\\n        profile[key] = value\\n    return profile\\n\\nuser_profile = build_profile(\"Alili\", \"Smith\", location=\"New York\", age=30, hobby=\"Reading\")\\nprint(user_profile)\\n# {\\'first_name\\': \\'Alili\\', \\'last_name\\': \\'Smith\\', \\'location\\': \\'New York\\', \\'age\\': 30, \\'hobby\\': \\'Reading\\'}\\n\\n# 在这个示例中，除了 first_name 和 last_name 外，\\n# 任何其他的关键字参数（location=\"New York\", age=30, hobby=\"Reading\"）都会被聚合到 kwargs 这个字典里。', 'def show_info(a, b, c):\\n    print(a, b, c)\\n\\ndata = {\"a\": 1, \"b\": 2, \"c\": 3}\\nshow_info(**data)  # 等价于 show_info(a=1, b=2, c=3)', '# 将列表中每个数值平方\\nnumbers = [1, 2, 3, 4]\\nsquared = list(map(lambda x: x**2, numbers))\\nprint(squared)  # 输出: [1, 4, 9, 16]\\n\\n# lambda 语句 等价于  fun_square\\ndef fun_square(x):\\n    return x ** 2\\nsquared_b = list(map(fun_square, numbers))\\nprint(squared_b)  # 输出: [1, 4, 9, 16]\\n    \\n# squared_c = [x ** 2 for x in numbers]', 'def add_nums(a, b):\\n    return a + b', 'add_five = lambda y: add_nums(5, y)', 'from functools import partial\\nadd_five = partial(add_nums, 5)\\nprint(add_five)\\n# functools.partial(<function add_nums at 0x00000222C2976B90>, 5)\\nprint(add_five(1)) \\n# 6', 'a = None\\ndef bind_a_variable():\\n    global a\\n    a = []\\nbind_a_variable()\\nprint(a)  # []', 'def outer():\\n    def inner():\\n        print(\"这是内部函数\")\\n    print(\"调用内部函数之前\")\\n    inner()\\nouter()\\n\\n# 调用内部函数之前\\n# 这是内部函数', 'def make_multiplier(n):\\n    def multiplier(x):\\n        return x * n\\n    return multiplier\\n\\ntimes2 = make_multiplier(2)\\nprint(times2(5))  # 10', '# 打开一个文件\\nf = open(\"example.txt\", \"w\")\\nprint(\"文件名: \", f.name)  # 文件名:  example.txt\\nprint(\"是否已关闭 : \", f.closed)  # 是否已关闭 :  False\\nprint(\"访问模式 : \", f.mode)  # 访问模式 :  w\\nf.close()', '# open()  close\\nf = open(\"example.txt\", mode=\"r\", encoding=\"utf-8\")  # 打开文本文件\\ncontent = f.read()\\nf.close()  # 操作完毕后，务必手动关闭', 'with open(\"example.txt\", \"r\", encoding=\"utf-8\") as f:\\n    content = f.read()\\n    # 在这里可以对 content 做各种处理\\n\\n# with 块结束后，文件会自动关闭，无需手动 f.close()', '# 写入\\nf = open(\"example.txt\", \"w\", encoding=\"utf-8\")\\nf.write(\"这是写入文本文件的第一行\\\\n\")\\nf.write(\"这是第二行\\\\n\")\\nf.close()\\n\\n# 按行读取 \\nwith open(\"example.txt\", \"r\", encoding=\"utf-8\") as f:\\n    for line in f:\\n        line = line.strip()  # 去掉行末尾的换行符或空白\\n        print(line)\\n# 这是写入文本文件的第一行\\n# 这是第二行\\n\\n# line.strip() 去除两端的空白字符，包括 \\\\n、空格等。\\n# 如果只想去除换行符，也可用 line.rstrip(\"\\\\n\")。', 'import json\\ndata = {\\n    \"name\": \"Alili\",\\n    \"age\": 25,\\n    \"skills\": [\"Python\", \"Data Analysis\"]}\\n\\n# 写入JSON文件\\nwith open(\"data.json\", \"w\", encoding=\"utf-8\") as f:\\n    json.dump(data, f, ensure_ascii=False, indent=4)\\n\\n# 读取JSON文件\\nwith open(\"data.json\", \"r\", encoding=\"utf-8\") as f:\\n    loaded_data = json.load(f)\\n\\nprint(loaded_data)\\n# {\\'name\\': \\'Alili\\', \\'age\\': 25, \\'skills\\': [\\'Python\\', \\'Data Analysis\\']}\\n\\n# ensure_ascii=False 可以在写入 JSON 时保留非 ASCII 字符（如中文），避免出现 \\\\uXXXX 形式。\\n# indent=4 表示写入时缩进 4 个空格，方便阅读。', 'def count_up_to(max):\\n    count = 1\\n    while count <= max:\\n        yield count  # 返回当前计数，并暂停函数状态\\n        count += 1\\n\\n# 使用生成器函数\\ncounter = count_up_to(3)\\n\\nprint(next(counter))  # 1\\nprint(next(counter))  # 2\\nprint(next(counter))  # 3\\n# print(next(counter))  # 会引发 StopIteration', '# 创建一个生成器表达式\\nsquares_gen = (x**2 for x in range(1, 4))\\n\\nprint(next(squares_gen))  # 1\\nprint(next(squares_gen))  # 4\\nprint(next(squares_gen))  # 9\\n# print(next(squares_gen))  # 会引发 StopIteration', 'def fibonacci(n):\\n    a, b = 0, 1\\n    for _ in range(n):\\n        yield a\\n        a, b = b, a + b\\n\\n# 创建一个Fibonacci生成器\\nfib_gen = fibonacci(5)\\n\\nfor num in fib_gen:\\n    print(num)\\n\\n# 0\\n# 1\\n# 1\\n# 2\\n# 3', '# 创建一个生成器表达式，生成1到5的立方\\ncubes_gen = (x**3 for x in range(1, 6))\\n\\nfor cube in cubes_gen:\\n    print(cube)\\n# 1\\n# 8\\n# 27\\n# 64\\n# 125', '# 使用生成器函数生成平方数\\n\\ndef generate_squares(n):\\n    for x in range(1, n + 1):\\n        yield x**2\\n\\nsquares = generate_squares(5)\\n\\nfor square in squares:\\n    print(square)\\n\\n# 1\\n# 4\\n# 9\\n# 16\\n# 25', 'def echo():\\n    while True:\\n        value = yield\\n        print(f\"Echo: {value}\")\\n\\n# 创建生成器\\ne = echo()\\nnext(e)  # 启动生成器\\n\\n# 发送数据\\ne.send(\"Hello\")  # Echo: Hello\\ne.send(\"World\")  # Echo: World', 'def generator():\\n    try:\\n        yield 1\\n        yield 2\\n        yield 3\\n    except GeneratorExit:\\n        print(\"Generator closed.\")\\n\\ngen = generator()\\nprint(next(gen))  # 1\\ngen.close()      # Generator closed.', \"import itertools\\nfirst_letter = lambda x: x[0]\\nnames = ['Aln', 'Ada', 'Wes', 'Wi', 'Albe', 'Sten']\\nfor letter, names in itertools.groupby(names, first_letter):\\n    print(letter, list(names)) # names is a generator\\n\\n# A ['Aln', 'Ada']\\n# W ['Wes', 'Wi']\\n# A ['Albe']\\n# S ['Sten']\", \"# 获取迭代器\\n# 可以使用内置函数 iter() 将可迭代对象转换为迭代器。\\n# 创建一个列表\\nfruits = ['apple', 'banana', 'cherry']\\n# 获取列表的迭代器\\nfruits_iterator = iter(fruits)\\n# 使用 next() 获取元素\\nprint(next(fruits_iterator))  # apple\\nprint(next(fruits_iterator))  # banana\\nprint(next(fruits_iterator))  # cherry\\n# 再调用 next() 会引发 StopIteration 异常\\n# print(next(fruits_iterator))  # 会引发 StopIteration\", \"# for 循环内部使用迭代器机制，自动处理 StopIteration 异常。\\nfruits = ['apple', 'banana', 'cherry']\\nfor fruit in fruits:\\n    print(fruit)\\n# apple\\n# banana\\n# cherry\", 'class MyIterator:\\n    def __init__(self, start, end):\\n        self.current = start\\n        self.end = end\\n    def __iter__(self):\\n        return self  # 迭代器返回自身\\n    def __next__(self):\\n        if self.current >= self.end:\\n            raise StopIteration  # 没有更多元素时引发异常\\n        self.current += 1\\n        return self.current - 1\\n# 使用自定义迭代器\\nmy_iter = MyIterator(1, 4)\\nfor num in my_iter:\\n    print(num)  # 1 2 3', '# 创建一个简单的迭代器\\n\\nclass Countdown:\\n    def __init__(self, start):\\n        self.current = start\\n\\n    def __iter__(self):\\n        return self\\n\\n    def __next__(self):\\n        if self.current <= 0:\\n            raise StopIteration\\n        self.current -= 1\\n        return self.current\\n\\n# 使用迭代器\\nfor number in Countdown(3):\\n    print(number)\\n\\n# 2\\n# 1\\n# 0', '# 使用生成器表达式筛选偶数\\n\\nnumbers = range(1, 11)\\nevens_gen = (x for x in numbers if x % 2 == 0)\\n\\nfor even in evens_gen:\\n    print(even)\\n\\n# 2\\n# 4\\n# 6\\n# 8\\n# 10', 'class Person:\\n    \"\"\"代表一个人的类\"\"\"\\n    def __init__(self, name, age):\\n        # __init__ 是构造方法，用于初始化对象属性\\n        self.name = name\\n        self.age = age\\n    def greet(self):\\n        # self 是对实例自身的引用，在定义实例方法时必须作为第一个参数\\n        print(f\"Hello, I am {self.name}, and I\\'m {self.age} years old.\")', 'person1 = Person(\"Alili\", 25)\\nperson2 = Person(\"Bomm\", 30)\\n\\nperson1.greet()  # Hello, I am Alili, and I\\'m 25 years old.\\nperson2.greet()  # Hello, I am Bomm, and I\\'m 30 years old.', 'class Car:\\n    # 类属性\\n    wheels = 4\\n    def __init__(self, brand, model):\\n        # 实例属性\\n        self.brand = brand\\n        self.model = model\\n\\ncar1 = Car(\"车a\", \"x-a\")\\ncar2 = Car(\"车b\", \"x-b\")\\n\\nprint(car1.wheels, car2.wheels)  # 都是 4（共享）\\nprint(car1.brand, car2.brand)    # 车a, 车b（不同）', 'class MyClass:\\n    count = 0\\n\\n    def __init__(self):\\n        MyClass.count += 1\\n\\n    @classmethod\\n    def how_many(cls):\\n        return cls.count\\n\\nx1 = MyClass()\\nx2 = MyClass()\\nprint(MyClass.how_many())  # 2', 'class MathHelper:\\n    @staticmethod\\n    def add(a, b):\\n        return a + b\\n\\nprint(MathHelper.add(3, 4))  # 7', '# 自定义一个简单的类，为其实现 __str__ 和 __len__。\\n\\nclass MyList:\\n    def __init__(self, items):\\n        self.items = items\\n\\n    def __str__(self):\\n        return f\"MyList: {self.items}\"\\n\\n    def __len__(self):\\n        return len(self.items)\\n\\nlst = MyList([4, 2, 3])\\nprint(lst)         # MyList: [4, 2, 3]\\nprint(len(lst))    # 3', '#  练习1：定义一个类描述数字时钟。 \\n\\nfrom time import sleep\\nclass Clock(object):\\n    \"\"\"数字时钟\"\"\"\\n\\n    def __init__(self, hour=0, minute=0, second=0):\\n        \"\"\"初始化方法\\n        :param hour: 时\\n        :param minute: 分\\n        :param second: 秒\\n        \"\"\"\\n        self._hour = hour\\n        self._minute = minute\\n        self._second = second\\n\\n    def run(self):\\n        \"\"\"走字\"\"\"\\n        self._second += 1\\n        if self._second == 60:\\n            self._second = 0\\n            self._minute += 1\\n            if self._minute == 60:\\n                self._minute = 0\\n                self._hour += 1\\n                if self._hour == 24:\\n                    self._hour = 0\\n\\n    def show(self):\\n        \"\"\"显示时间\"\"\"\\n        return \\'%02d:%02d:%02d\\' % \\\\\\n               (self._hour, self._minute, self._second)\\n\\n\\n# clock = Clock(23,54,58)\\n# while True:\\n#     print(clock.show())\\n#     sleep(1)\\n#     clock.run()', '# 练习2：定义一个类描述平面上的点并提供移动点和计算到另一个点距离的方法。\\nfrom math import sqrt\\n\\nclass Point(object):\\n\\n    def __init__(self, x=0, y=0):\\n        \"\"\"初始化方法\\n        \\n        :param x: 横坐标\\n        :param y: 纵坐标\\n        \"\"\"\\n        self.x = x\\n        self.y = y\\n\\n    def move_to(self, x, y):\\n        \"\"\"移动到指定位置\\n        \\n        :param x: 新的横坐标\\n        \"param y: 新的纵坐标\\n        \"\"\"\\n        self.x = x\\n        self.y = y\\n\\n    def move_by(self, dx, dy):\\n        \"\"\"移动指定的增量\\n        \\n        :param dx: 横坐标的增量\\n        \"param dy: 纵坐标的增量\\n        \"\"\"\\n        self.x += dx\\n        self.y += dy\\n\\n    def distance_to(self, other):\\n        \"\"\"计算与另一个点的距离\\n        \\n        :param other: 另一个点\\n        \"\"\"\\n        dx = self.x - other.x\\n        dy = self.y - other.y\\n        return sqrt(dx ** 2 + dy ** 2)\\n\\n    def __str__(self):\\n        return \\'(%s, %s)\\' % (str(self.x), str(self.y))\\n\\n\\np1 = Point(4, 5)\\np2 = Point()\\nprint(p1)\\nprint(p2)\\np2.move_by(-1, 3)\\nprint(p2)\\nprint(p1.distance_to(p2))\\n\\n# (4, 5)\\n# (0, 0)\\n# (-1, 3)\\n# 5.385164807134504', 'def decorator(func):\\n    def wrapper():\\n        print(\"Before function call\")\\n        func()  # 调用原始函数\\n        print(\"After function call\")\\n    return wrapper\\n\\n@decorator  # 等价于 func = decorator(func)\\ndef say_hello():\\n    print(\"Hello!\")\\n\\nsay_hello()  \\n# Before function call\\n# Hello!\\n# After function call', 'class OpTest:\\n    \"\"\"访问可见性简单测试\"\"\"\\n    def __init__(self, insA):\\n        self.__insA = insA\\n    def __qst(self):\\n        print(self.__insA)\\n        print(\"__qst\")\\n\\ndef main():\\n    test = OpTest(\\'Hello\\')\\n    # test.__qst()\\n    # # AttributeError: \\'OpTest\\' object has no attribute \\'__qst\\'\\n    print(test.__qst)\\n    # AttributeError: \\'OpTest\\' object has no attribute \\'__qst\\'\\nmain()', 'class OpTest:\\n    \"\"\"访问可见性简单测试\"\"\"\\n    \\n    def __init__(self, insA):\\n        self.__insA = insA\\n    \\n    def __qst(self):\\n        print(self.__insA)\\n        print(\"__qst\")\\n\\ndef main():\\n    test = OpTest(\\'Hello\\')\\n    \\n    test._OpTest__qst()\\n    print(test._OpTest__insA)\\n    \\nmain()\\n\\n# Hello\\n# __qst\\n# Hello', '# @property包装器来包装getter和setter方法，使得对属性的访问既安全又方便\\nclass Person(object):\\n\\n    def __init__(self, name, age):\\n        self._name = name\\n        self._age = age\\n\\n    # 访问器 - getter方法\\n    @property\\n    def name(self):\\n        return self._name\\n\\n    # 访问器 - getter方法\\n    @property\\n    def age(self):\\n        return self._age\\n\\n    # 修改器 - setter方法\\n    @age.setter\\n    def age(self, age):\\n        self._age = age\\n\\n    def play(self):\\n        if self._age <= 16:\\n            print(f\"{self.name}在玩这\")\\n        else:\\n            print(f\"{self.name}在玩那\")\\n\\nperson = Person(\\'abc\\', 12)\\nperson.play()\\nperson.age = 22\\nperson.play()\\n# abc在玩这\\n# abc在玩那\\n\\n# person.name = \\'另一个人\\'  # AttributeError: can\\'t set attribute\\nperson.age = 10000\\nprint(person.age)  # 10000', 'class Person(object):\\n    # 限定Person对象只能绑定_name, _age和_gender属性\\n    __slots__ = (\\'_name\\', \\'_age\\', \\'_gender\\')\\n    def __init__(self, name, age):\\n        self._name = name\\n        self._age = age\\n    @property\\n    def name(self):\\n        return self._name\\n    @property\\n    def age(self):\\n        return self._age\\n    @age.setter\\n    def age(self, age):\\n        self._age = age\\n    def play(self):\\n        if self._age <= 16:\\n            print(f\"{self.name}在玩\")\\n        else:\\n            print(f\"{self.name}在睡觉\")\\n\\nperson = Person(\\'aaa\\', 22)\\nperson.play()\\nperson._gender = \\'男\\'\\n# aaa在睡觉\\n\\n# # AttributeError: \\'Person\\' object has no attribute \\'_is_bad\\'\\n# person._is_bad = True', \"from math import sqrt\\n\\n\\nclass Triangle(object):\\n\\n    def __init__(self, a, b, c):\\n        self._a = a\\n        self._b = b\\n        self._c = c\\n\\n    @staticmethod\\n    def is_valid(a, b, c):\\n        return a + b > c and b + c > a and a + c > b\\n\\n    def perimeter(self):\\n        return self._a + self._b + self._c\\n\\n    def area(self):\\n        half = self.perimeter() / 2\\n        return sqrt(half * (half - self._a) *\\n                    (half - self._b) * (half - self._c))\\n\\ndef main():\\n    a, b, c = 10, 8, 3\\n    # 静态方法和类方法都是通过给类发消息来调用的\\n    if Triangle.is_valid(a, b, c):\\n        t = Triangle(a, b, c)\\n        print(t.perimeter())\\n        # 也可以通过给类发消息来调用对象方法但是要传入接收消息的对象作为参数\\n        # print(Triangle.perimeter(t))\\n        print(t.area())\\n        # print(Triangle.area(t))\\n    else:\\n        print('无法构成三角形.')\\n\\nmain()\\n# 21\\n# 9.921567416492215\", 'from time import time, localtime, sleep\\n\\n\\nclass Clock(object):\\n    \"\"\"数字时钟\"\"\"\\n\\n    def __init__(self, hour=0, minute=0, second=0):\\n        self._hour = hour\\n        self._minute = minute\\n        self._second = second\\n\\n    @classmethod\\n    def now(cls):\\n        ctime = localtime(time())\\n        return cls(ctime.tm_hour, ctime.tm_min, ctime.tm_sec)\\n\\n    def run(self):\\n        \"\"\"走字\"\"\"\\n        self._second += 1\\n        if self._second == 60:\\n            self._second = 0\\n            self._minute += 1\\n            if self._minute == 60:\\n                self._minute = 0\\n                self._hour += 1\\n                if self._hour == 24:\\n                    self._hour = 0\\n\\n    def show(self):\\n        \"\"\"显示时间\"\"\"\\n        return \\'%02d:%02d:%02d\\' % \\\\\\n               (self._hour, self._minute, self._second)\\n\\n# # 通过类方法创建对象并获取系统时间\\n# clock = Clock.now()\\n# while True:\\n#     print(clock.show())\\n#     sleep(1)\\n#     clock.run()', 'class Person(object):\\n    \"\"\"人\"\"\"\\n    def __init__(self, name, age):\\n        self._name = name\\n        self._age = age\\n        \\n    @property\\n    def name(self):\\n        return self._name\\n\\n    @property\\n    def age(self):\\n        return self._age\\n\\n    @age.setter\\n    def age(self, age):\\n        self._age = age\\n\\n    def play(self): print(f\"{self.name}玩疯了\")\\n    def watch_tv(self):\\n        if self._age >= 18: print(f\"{self.name}看电视睡着了\")\\n        else: print(f\"{self.name}不看电视\")\\n\\nclass Student(Person):\\n    \"\"\"学生\"\"\"\\n    def __init__(self, name, age, grade):\\n        super().__init__(name, age)\\n        self._grade = grade\\n\\n    @property\\n    def grade(self):\\n        return self._grade\\n\\n    @grade.setter\\n    def grade(self, grade):\\n        self._grade = grade\\n\\n    def study(self, course): print(f\"{self._grade}的{self._name}在学{course}\")\\n\\nclass Teacher(Person):\\n    \"\"\"老师\"\"\"\\n    def __init__(self, name, age, title):\\n        super().__init__(name, age)\\n        self._title = title\\n\\n    @property\\n    def title(self):\\n        return self._title\\n\\n    @title.setter\\n    def title(self, title):\\n        self._title = title\\n        \\n    def teach(self, course): print(f\"{self._name}{self._title}在授课{course}\")\\n\\nstu = Student(\\'学生a\\', 15, \\'初三\\')\\nstu.study(\\'数学\\')\\nstu.watch_tv()\\nt = Teacher(\\'无敌\\', 49, \\'程序员\\')\\nt.teach(\\'Python如何打印helloworld\\')\\nt.watch_tv()\\n\\n# 初三的学生a在学数学\\n# 学生a不看电视\\n# 无敌程序员在授课Python如何打印helloworld\\n# 无敌看电视睡着了', 'from abc import ABCMeta, abstractmethod\\n\\nclass Pet(object, metaclass=ABCMeta):\\n    \"\"\"宠物\"\"\"\\n    def __init__(self, nickname):\\n        self._nickname = nickname\\n    @abstractmethod\\n    def make_voice(self):\\n        \"\"\"发出声音\"\"\"\\n        pass\\n\\nclass Dog(Pet):\\n    \"\"\"狗\"\"\"\\n    def make_voice(self):\\n        print(\\'%s: 汪汪汪...\\' % self._nickname)\\n\\nclass Cat(Pet):\\n    \"\"\"猫\"\"\"\\n    def make_voice(self):\\n        print(\\'%s: 喵...喵...\\' % self._nickname)\\n\\npets = [Dog(\\'狗a\\'), Cat(\\'猫a\\'), Dog(\\'另一只狗\\')]\\nfor pet in pets:\\n    pet.make_voice()\\n\\n# 狗a: 汪汪汪...\\n# 猫a: 喵...喵...\\n# 另一只狗: 汪汪汪...', \"from abc import ABCMeta, abstractmethod\\nclass Pet(object, metaclass=ABCMeta):\\n    def __init__(self, nickname):\\n        self._nickname = nickname\\n    @abstractmethod\\n    def make_voice(self): pass\\nclass Dog(Pet):\\n    def make_voice(self): print('%s: 汪汪汪...' % self._nickname)\\nclass Cat(Pet):\\n    def make_voice(self): print('%s: 喵...喵...' % self._nickname)\\n\\npets = [Dog('狗a'), Cat('猫a'), Dog('另一只狗')]\\nfor pet in pets:\\n    pet.make_voice()\\n# 狗a: 汪汪汪...\\n# 猫a: 喵...喵...\\n# 另一只狗: 汪汪汪...\", '# 综合案例1：奥特曼打小怪兽。\\n\\nfrom abc import ABCMeta, abstractmethod\\nfrom random import randint, randrange\\n\\nclass Fighter(object, metaclass=ABCMeta):\\n    \"\"\"战斗者\"\"\"\\n    # 通过__slots__魔法限定对象可以绑定的成员变量\\n    __slots__ = (\\'_name\\', \\'_hp\\')\\n    def __init__(self, name, hp):\\n        \"\"\"初始化方法\\n        :param name: 名字\\n        :param hp: 生命值\\n        \"\"\"\\n        self._name = name\\n        self._hp = hp\\n    @property\\n    def name(self):\\n        return self._name\\n    @property\\n    def hp(self):\\n        return self._hp\\n    @hp.setter\\n    def hp(self, hp):\\n        self._hp = hp if hp >= 0 else 0\\n    @property\\n    def alive(self):\\n        return self._hp > 0\\n    @abstractmethod\\n    def attack(self, other):\\n        \"\"\"攻击\\n        :param other: 被攻击的对象\\n        \"\"\"\\n        pass\\n\\nclass Ultraman(Fighter):\\n    \"\"\"奥特曼\"\"\"\\n    __slots__ = (\\'_name\\', \\'_hp\\', \\'_mp\\')\\n    def __init__(self, name, hp, mp):\\n        \"\"\"初始化方法\\n        :param name: 名字\\n        :param hp: 生命值\\n        :param mp: 魔法值\\n        \"\"\"\\n        super().__init__(name, hp)\\n        self._mp = mp\\n    def attack(self, other):\\n        other.hp -= randint(15, 25)\\n    def huge_attack(self, other):\\n        \"\"\"究极必杀技(打掉对方至少50点或四分之三的血)\\n        :param other: 被攻击的对象\\n        :return: 使用成功返回True否则返回False\\n        \"\"\"\\n        if self._mp >= 50:\\n            self._mp -= 50\\n            injury = other.hp * 3 // 4\\n            injury = injury if injury >= 50 else 50\\n            other.hp -= injury\\n            return True\\n        else:\\n            self.attack(other)\\n            return False\\n    def magic_attack(self, others):\\n        \"\"\"魔法攻击\\n        :param others: 被攻击的群体\\n        :return: 使用魔法成功返回True否则返回False\\n        \"\"\"\\n        if self._mp >= 20:\\n            self._mp -= 20\\n            for temp in others:\\n                if temp.alive:\\n                    temp.hp -= randint(10, 15)\\n            return True\\n        else:\\n            return False\\n    def resume(self):\\n        \"\"\"恢复魔法值\"\"\"\\n        incr_point = randint(1, 10)\\n        self._mp += incr_point\\n        return incr_point\\n    def __str__(self):\\n        return \\'~~~%s奥特曼~~~\\\\n\\' % self._name + \\\\\\n            \\'生命值: %d\\\\n\\' % self._hp + \\\\\\n            \\'魔法值: %d\\\\n\\' % self._mp\\n\\nclass Monster(Fighter):\\n    \"\"\"小怪兽\"\"\"\\n    __slots__ = (\\'_name\\', \\'_hp\\')\\n    def attack(self, other):\\n        other.hp -= randint(10, 20)\\n    def __str__(self):\\n        return \\'~~~%s小怪兽~~~\\\\n\\' % self._name + \\\\\\n            \\'生命值: %d\\\\n\\' % self._hp\\n\\ndef is_any_alive(monsters):\\n    \"\"\"判断有没有小怪兽是活着的\"\"\"\\n    for monster in monsters:\\n        if monster.alive > 0:\\n            return True\\n    return False\\n\\ndef select_alive_one(monsters):\\n    \"\"\"选中一只活着的小怪兽\"\"\"\\n    monsters_len = len(monsters)\\n    while True:\\n        index = randrange(monsters_len)\\n        monster = monsters[index]\\n        if monster.alive > 0:\\n            return monster\\n\\ndef display_info(ultraman, monsters):\\n    \"\"\"显示奥特曼和小怪兽的信息\"\"\"\\n    print(ultraman)\\n    for monster in monsters:\\n        print(monster, end=\\'\\')\\n\\ndef main():\\n    u = Ultraman(\\'a\\', 1000, 120)\\n    m1 = Monster(\\'c1\\', 250)\\n    m2 = Monster(\\'c2\\', 500)\\n    m3 = Monster(\\'c3\\', 750)\\n    ms = [m1, m2, m3]\\n    fight_round = 1\\n    while u.alive and is_any_alive(ms):\\n        print(\\'========第%02d回合========\\' % fight_round)\\n        m = select_alive_one(ms)  # 选中一只小怪兽\\n        skill = randint(1, 10)   # 通过随机数选择使用哪种技能\\n        if skill <= 6:  # 60%的概率使用普通攻击\\n            print(\\'%s使用普通攻击打了%s.\\' % (u.name, m.name))\\n            u.attack(m)\\n            print(\\'%s的魔法值恢复了%d点.\\' % (u.name, u.resume()))\\n        elif skill <= 9:  # 30%的概率使用魔法攻击(可能因魔法值不足而失败)\\n            if u.magic_attack(ms):\\n                print(\\'%s使用了魔法攻击.\\' % u.name)\\n            else:\\n                print(\\'%s使用魔法失败.\\' % u.name)\\n        else:  # 10%的概率使用究极必杀技(如果魔法值不足则使用普通攻击)\\n            if u.huge_attack(m):\\n                print(\\'%s使用究极必杀技虐了%s.\\' % (u.name, m.name))\\n            else:\\n                print(\\'%s使用普通攻击打了%s.\\' % (u.name, m.name))\\n                print(\\'%s的魔法值恢复了%d点.\\' % (u.name, u.resume()))\\n        if m.alive > 0:  # 如果选中的小怪兽没有死就回击奥特曼\\n            print(\\'%s回击了%s.\\' % (m.name, u.name))\\n            m.attack(u)\\n        display_info(u, ms)  # 每个回合结束后显示奥特曼和小怪兽的信息\\n        fight_round += 1\\n    print(\\'\\\\n========战斗结束!========\\\\n\\')\\n    if u.alive > 0:\\n        print(\\'%s奥特曼胜利!\\' % u.name)\\n    else:\\n        print(\\'小怪兽胜利!\\')\\n\\n# # 调用\\n# main()', '# 综合案例2： 扑克游戏。\\n\\nimport random\\n\\n\\nclass Card(object):\\n    \"\"\"一张牌\"\"\"\\n\\n    def __init__(self, suite, face):\\n        self._suite = suite\\n        self._face = face\\n\\n    @property\\n    def face(self):\\n        return self._face\\n\\n    @property\\n    def suite(self):\\n        return self._suite\\n\\n    def __str__(self):\\n        if self._face == 1:\\n            face_str = \\'A\\'\\n        elif self._face == 11:\\n            face_str = \\'J\\'\\n        elif self._face == 12:\\n            face_str = \\'Q\\'\\n        elif self._face == 13:\\n            face_str = \\'K\\'\\n        else:\\n            face_str = str(self._face)\\n        return \\'%s%s\\' % (self._suite, face_str)\\n    \\n    def __repr__(self):\\n        return self.__str__()\\n\\n\\nclass Poker(object):\\n    \"\"\"一副牌\"\"\"\\n\\n    def __init__(self):\\n        self._cards = [Card(suite, face) \\n                       for suite in \\'♠♥♣♦\\'\\n                       for face in range(1, 14)]\\n        self._current = 0\\n\\n    @property\\n    def cards(self):\\n        return self._cards\\n\\n    def shuffle(self):\\n        \"\"\"洗牌(随机乱序)\"\"\"\\n        self._current = 0\\n        random.shuffle(self._cards)\\n\\n    @property\\n    def next(self):\\n        \"\"\"发牌\"\"\"\\n        card = self._cards[self._current]\\n        self._current += 1\\n        return card\\n\\n    @property\\n    def has_next(self):\\n        \"\"\"还有没有牌\"\"\"\\n        return self._current < len(self._cards)\\n\\n\\nclass Player(object):\\n    \"\"\"玩家\"\"\"\\n\\n    def __init__(self, name):\\n        self._name = name\\n        self._cards_on_hand = []\\n\\n    @property\\n    def name(self):\\n        return self._name\\n\\n    @property\\n    def cards_on_hand(self):\\n        return self._cards_on_hand\\n\\n    def get(self, card):\\n        \"\"\"摸牌\"\"\"\\n        self._cards_on_hand.append(card)\\n\\n    def arrange(self, card_key):\\n        \"\"\"玩家整理手上的牌\"\"\"\\n        self._cards_on_hand.sort(key=card_key)\\n\\n\\n# 排序规则-先根据花色再根据点数排序\\ndef get_key(card):\\n    return (card.suite, card.face)\\n\\n\\ndef main():\\n    p = Poker()\\n    p.shuffle()\\n    players = [Player(\\'小东\\'), Player(\\'小西\\'), Player(\\'小南\\'), Player(\\'小北\\')]\\n    for _ in range(13):\\n        for player in players:\\n            player.get(p.next)\\n    for player in players:\\n        print(player.name + \\':\\', end=\\' \\')\\n        player.arrange(get_key)\\n        print(player.cards_on_hand)\\n\\n\\n# main()', '# 综合案例3：工资结算系统。\\n\\n\"\"\"\\n某公司有三种类型的员工 分别是部门经理、程序员和销售员\\n需要设计一个工资结算系统 根据提供的员工信息来计算月薪\\n部门经理的月薪是每月固定15000元\\n程序员的月薪按本月工作时间计算 每小时150元\\n销售员的月薪是1200元的底薪加上销售额5%的提成\\n\"\"\"\\nfrom abc import ABCMeta, abstractmethod\\n\\n\\nclass Employee(object, metaclass=ABCMeta):\\n    \"\"\"员工\"\"\"\\n\\n    def __init__(self, name):\\n        \"\"\"\\n        初始化方法\\n\\n        :param name: 姓名\\n        \"\"\"\\n        self._name = name\\n\\n    @property\\n    def name(self):\\n        return self._name\\n\\n    @abstractmethod\\n    def get_salary(self):\\n        \"\"\"\\n        获得月薪\\n\\n        :return: 月薪\\n        \"\"\"\\n        pass\\n\\n\\nclass Manager(Employee):\\n    \"\"\"部门经理\"\"\"\\n\\n    def get_salary(self):\\n        return 15000.0\\n\\n\\nclass Programmer(Employee):\\n    \"\"\"程序员\"\"\"\\n\\n    def __init__(self, name, working_hour=0):\\n        super().__init__(name)\\n        self._working_hour = working_hour\\n\\n    @property\\n    def working_hour(self):\\n        return self._working_hour\\n\\n    @working_hour.setter\\n    def working_hour(self, working_hour):\\n        self._working_hour = working_hour if working_hour > 0 else 0\\n\\n    def get_salary(self):\\n        return 150.0 * self._working_hour\\n\\n\\nclass Salesman(Employee):\\n    \"\"\"销售员\"\"\"\\n\\n    def __init__(self, name, sales=0):\\n        super().__init__(name)\\n        self._sales = sales\\n\\n    @property\\n    def sales(self):\\n        return self._sales\\n\\n    @sales.setter\\n    def sales(self, sales):\\n        self._sales = sales if sales > 0 else 0\\n\\n    def get_salary(self):\\n        return 1200.0 + self._sales * 0.05\\n\\n\\ndef main():\\n    emps = [\\n        Manager(\\'a\\'), Programmer(\\'b\\'),\\n        Manager(\\'c\\'), Salesman(\\'d\\'),\\n        Salesman(\\'e\\'), Programmer(\\'f\\'),\\n        Programmer(\\'g\\')\\n    ]\\n    for emp in emps:\\n        if isinstance(emp, Programmer):\\n            emp.working_hour = int(input(\\'请输入%s本月工作时间: \\' % emp.name))\\n        elif isinstance(emp, Salesman):\\n            emp.sales = float(input(\\'请输入%s本月销售额: \\' % emp.name))\\n        # 同样是接收get_salary这个消息但是不同的员工表现出了不同的行为(多态)\\n        print(\\'%s本月工资为: ￥%s元\\' %\\n              (emp.name, emp.get_salary()))\\n\\n\\n# main()', \"def foo():\\n    print('hello, world!')\\n\\ndef foo():\\n    print('goodbye, world!')\\n\\n# 下面的代码会输出什么呢？\\nfoo()\\n# goodbye, world!\", 'import os  # 引入内置模块 os  \\nimport sys  # 引入内置模块 sys  \\n  \\n# 使用 os 模块中的方法  \\nprint(os.getcwd())  \\n  \\n# 使用 sys 模块中的方法  \\nprint(sys.version)  ', 'def func():\\n    a = 1  # a 在局部命名空间中\\n    print(locals())  # 打印当前函数的局部命名空间\\n\\nb = 2  # b 在全局命名空间中\\n# print(globals())  # 打印当前模块的全局命名空间', '# 示例：命名空间和作用域\\n\\n# 全局变量\\nx = \"global\"\\n\\ndef outer_function():\\n    # 嵌套函数的外部函数变量\\n    x = \"outer\"\\n\\n    def inner_function():\\n        # 嵌套函数变量\\n        nonlocal x  # 使用外部函数的变量\\n        x = \"inner\"\\n        print(\"Inner:\", x)\\n\\n    inner_function()\\n    print(\"Outer:\", x)\\n\\nouter_function()\\nprint(\"Global:\", x)\\n\\n# Inner: inner\\n# Outer: inner\\n# Global: global', \"def func(a=1):\\n    b = 2\\n    print(locals())  # 打印当前函数的局部命名空间\\n    '''\\n    locs = locals()  # locals() 返回一个只读的字典\\n    locs['c'] = 3  # 试图修改 locals() 会报错\\n    print(c)\\n    '''\\n    return a + b\\n\\nfunc()\\n\\nglos = globals()\\nglos['d'] = 4  # 可以通过 globals() 修改全局命名空间\\nprint(d)  # 输出：4\\n\\nprint(globals())  # 打印当前模块的全局命名空间\\n\\n# {'a': 1, 'b': 2}\\n# 4\\n# {'__name__': '__main__', '__doc__': None, '__package__': None, \\n# '__loader__': <_frozen_importlib_external.SourceFileLoader object at 0x7f8b5c7c4e80>, \\n# '__spec__': None, '__annotations__': {}, \\n# '__builtins__': <module 'builtins' (built-in)>, \\n# '__file__': 'namespace_test.py', '__cached__': None, \\n# 'func': <function func at 0x7f8b5c7c4c10>, \\n# 'glos': {...}, 'd': 4}\"], 'Out': {18: ['BAT', 'CAR', 'HAHA', 'PYTHON'], 21: ['Steven'], 116: 5, 144: ['BAT', 'CAR', 'HAHA', 'PYTHON'], 149: ['Steven'], 252: 5, 280: ['BAT', 'CAR', 'HAHA', 'PYTHON'], 285: ['Steven']}, 'get_ipython': <bound method InteractiveShell.get_ipython of <ipykernel.zmqshell.ZMQInteractiveShell object at 0x0000024D5C8FDEE0>>, 'exit': <IPython.core.autocall.ZMQExitAutocall object at 0x0000024D5C90CB20>, 'quit': <IPython.core.autocall.ZMQExitAutocall object at 0x0000024D5C90CB20>, 'open': <function open at 0x0000024D5B1F4E50>, '_': ['Steven'], '__': ['BAT', 'CAR', 'HAHA', 'PYTHON'], '___': 5, '__vsc_ipynb_file__': 'd:\\\\chyCodespace\\\\repo\\\\origin\\\\my_python\\\\pybase\\\\pythone_base.ipynb', '_i': '# 示例：命名空间和作用域\\n\\n# 全局变量\\nx = \"global\"\\n\\ndef outer_function():\\n    # 嵌套函数的外部函数变量\\n    x = \"outer\"\\n\\n    def inner_function():\\n        # 嵌套函数变量\\n        nonlocal x  # 使用外部函数的变量\\n        x = \"inner\"\\n        print(\"Inner:\", x)\\n\\n    inner_function()\\n    print(\"Outer:\", x)\\n\\nouter_function()\\nprint(\"Global:\", x)\\n\\n# Inner: inner\\n# Outer: inner\\n# Global: global', '_ii': 'def func():\\n    a = 1  # a 在局部命名空间中\\n    print(locals())  # 打印当前函数的局部命名空间\\n\\nb = 2  # b 在全局命名空间中\\n# print(globals())  # 打印当前模块的全局命名空间', '_iii': 'import os  # 引入内置模块 os  \\nimport sys  # 引入内置模块 sys  \\n  \\n# 使用 os 模块中的方法  \\nprint(os.getcwd())  \\n  \\n# 使用 sys 模块中的方法  \\nprint(sys.version)  ', '_i1': \"# NoneType  这个数据类型比较特殊，NoneType仅有唯一实例None\\nprint(type(None))   # <class 'NoneType'>\", '_i2': '# 乘 *\\nmultiplication_ = 2*3\\nmultiplication_b = 2.*3\\nprint(f\"{multiplication_=}\")   # multiplication_=6\\nprint(f\"{multiplication_b=}\")  # multiplication_b=6.0', 'multiplication_': 6, 'multiplication_b': 6.0, '_i3': '# 除 /\\ndivision_ = 1/2\\ndivision_b = 2/1\\nprint(f\"{division_=}\")  # division_=0.5\\nprint(f\"{division_b=}\")  # division_b=2.0', 'division_': 0.5, 'division_b': 2.0, '_i4': '# 取商 //\\nrounding_ = 1 //2\\nprint(f\"{rounding_=}\")   # rounding_=0\\n\\n# 取余 % \\nremainder_ = 1%2\\nprint(f\"{remainder_=}\")  # remainder_=1', 'rounding_': 0, 'remainder_': 1, '_i5': '# 幂运算 **\\npower_ = 2**3\\nprint(f\"{power_=}\")  # power_=8', 'power_': 8, '_i6': '# 科学计数法\\na = 1e3\\nprint(f\"{a=}\")  # a=1000.0\\n\\nb = -2e-4\\nprint(f\"{b=}\")  # b=-0.0002', 'a': [], 'b': 2, '_i7': '# 常用数字运算函数\\nnumber = -7.25\\n\\nprint(f\"取绝对值：{abs(number)=}\")  # 取绝对值：abs(number)=7.25\\nprint(f\"求幂：{pow(2,3)=}\")  # 求幂：pow(2,3)=8\\nprint(f\"小数位数调整(有四舍五入)：{round(3.1415, 3)=}\")  # 小数位数调整(有四舍五入)：round(3.1415, 3)=3.142\\nprint(f\"取商取余：{divmod(10,3)=}\")  # 取商取余：divmod(10,3)=(3, 1)', 'number': 0, '_i8': '# 数字类型转换\\na = 1.2  # <class \\'float\\'>\\nb = 2  # <class \\'int\\'>\\nprint(f\"{int(a)=}\")  # int(a)=1\\nprint(type(int(a)))  # <class \\'int\\'>\\nprint(f\"{float(b)=}\")  # float(b)=2.0\\nprint(type(float(b)))  # <class \\'float\\'>\\n\\n# 空int \\nempty_int = int()\\nprint(f\"{type(empty_int)=}\")   # type(empty_int)=<class \\'int\\'>\\n\\n# 空float\\nempty_float = float()\\nprint(f\"{type(empty_float)=}\")  # type(empty_float)=<class \\'float\\'>', 'empty_int': 0, 'empty_float': 0.0, '_i9': '# 拼接\\n# 使用加号\\ns1 = \"Hello\"\\ns2 = \"World\"\\ns3 = s1 + \",\" + s2 + \"!\"\\nprint(s3) # Hello,World!\\n\\n# 使用join()方法\\nwords= [\"Python\", \"is\", \"awesome\"]\\nsentense = \" \".join(words)\\nprint(sentense)  # Python is awesome\\n\\n# 重复\\ns = \\'Echo! \\'\\nrepeated = s * 3\\nprint(repeated)  # Echo! Echo! Echo! ', 's1': 'Hello', 's2': 'World', 's3': 'Hello,World!', 'words': ['Python', 'is', 'fun', 'and', 'powerful.'], 'sentense': 'Python is awesome', 's': ['1', 'as', 'bat', 'god', 'boom', 'python'], 'repeated': 'Echo! Echo! Echo! ', '_i10': '# 分割\\n\\ns = \"Python is fun and powerful.\"\\nwords = s.split()\\nprint(words)   # [\\'Python\\', \\'is\\', \\'fun\\', \\'and\\', \\'powerful.\\']\\n\\n# words = s.split(\\' \\', 1)  # 看python的版本是否支持\\n# print(words)  # [\\'Python\\', \\'is fun and powerful.\\']\\n\\n# 使用指定分隔符\\nwords_dot = s.split(\\'.\\')\\nprint(words_dot)  # [\\'Python is fun and powerful\\', \\'\\']\\n\\ns_ = \"apple,banana,orange\"\\n# rsplit  从右开始分割,最多分割2次\\nfruits = s_.rsplit(\\',\\', 2)\\nprint(fruits)  # [\\'apple\\', \\'banana\\', \\'orange\\']', 'words_dot': ['Python is fun and powerful', ''], 's_': 'apple,banana,orange', 'fruits': ['apple', 'banana', 'cherry'], '_i11': \"s = 'abracadabra'\\n\\nindex = s.find('cad')\\nprint(index)  # 4\\n\\nind = s.find('xyt')\\nprint(ind)  # -1\\n\\nlast_idx = s.rfind('abra')\\nprint(last_idx)  # 7\", 'index': 4, 'ind': -1, 'last_idx': 7, '_i12': 's = \"  Hello, Python!  \"\\n\\nprint(s.strip())  # Hello, Python\\nprint(s.lstrip()) # Hello, Python\\nprint(s.rstrip()) #   Hello, Python', '_i13': 's = \"  Hello, Python!  \"\\n\\nprint(s.strip())  # Hello, Python!\\nprint(s.lstrip()) # Hello, Python!\\nprint(s.rstrip()) #   Hello, Python!', '_i14': 'age = 19  \\nif age >= 18: print(\"You are an adult.\")\\nelif age >= 13: print(\"You are a teenager.\")\\nelse: print(\"You are a child.\")', 'age': 19, '_i15': 'age = 19   # age = input(\"请输入年龄:\")\\nif age >= 18: print(\"You are an adult.\")\\nelif age >= 13: print(\"You are a teenager.\")\\nelse: print(\"You are a child.\")', '_i16': 'count = 0\\n\\nwhile count < 5:\\n    print(count)\\n    count += 1\\n\\n# 0\\n# 1\\n# 2\\n# 3\\n# 4', 'count': 5, '_i17': 'password = \"\"\\nwhile password != \"python123\":\\n    password = input(\"Enter the password: \")\\n    if password == \"python123\":\\n        print(\"Access granted.\")\\n    else:\\n        print(\"Incorrect password. Try again.\")\\n\\n\\n# # for \\n# for _ in range(5):\\n#     password = input(\"Enter the password: \")\\n#     if password == \"python123\":\\n#         print(\"Access granted.\")\\n#     else:\\n#         print(\"Incorrect password. Try again.\")\\n        ', 'password': '', '_i18': \"strings = ['a', 'as', 'bat', 'car', 'haha', 'python']\\n[x.upper() for x in strings if len(x) > 2]\\n# ['BAT', 'CAR', 'HAHA', 'PYTHON']\", 'strings': ['a', 'as', 'bat', 'car', 'haha', 'python'], '_18': ['BAT', 'CAR', 'HAHA', 'PYTHON'], '_i19': \"names_of_interest = []\\nfor names in all_data:\\n    enough_es = [name for name in names if name.count('e') > 1]\\n    names_of_interest.extend(enough_es)\\nnames_of_interest  # ['Steven']\", 'names_of_interest': ['Steven'], '_i20': \"all_data = [['Johnn', 'Emly', 'Mikhael', 'Marny', 'Steven'], ['Marian', 'Juany', 'Javieru', 'Natalia', 'Pilar']]\", 'all_data': [['Johnn', 'Emly', 'Mikhael', 'Marny', 'Steven'], ['Marian', 'Juany', 'Javieru', 'Natalia', 'Pilar']], '_i21': \"names_of_interest = []\\nfor names in all_data:\\n    enough_es = [name for name in names if name.count('e') > 1]\\n    names_of_interest.extend(enough_es)\\nnames_of_interest  # ['Steven']\", 'names': <itertools._grouper object at 0x0000024D5E34A8B0>, 'enough_es': [], '_21': ['Steven'], '_i22': '# 返回一个或多个变量(通常是一个元组)\\ndef min_and_max(numbers):\\n    \"\"\"返回给定列表的最小值和最大值\"\"\"\\n    return min(numbers), max(numbers)\\nnums = [3, 1, 5, 2, 4]\\nprint(type(min_and_max(nums)))    # <class \\'tuple\\'>\\nlowest, highest = min_and_max(nums)\\nprint(lowest, highest)  # 输出: 1 5\\n\\n# 没有return\\ndef do_nothing(): pass\\nresult = do_nothing()\\nprint(result)  # None\\n\\ndef my_function(x, y, z=1.5):  \\n    if z > 1: return z * (x + y)\\n    else: return z / (x + y)\\n# 使用\\nprint(my_function(1,2))  # 按照定义时的参数顺序来传递值\\n# 4.5\\nprint(my_function(z=3,x=2,y=4))  # 显式地通过参数名来传递值，顺序随意\\n# 18', 'min_and_max': <function min_and_max at 0x0000024D5E35CE50>, 'nums': [3, 1, 5, 2, 4], 'lowest': 1, 'highest': 5, 'do_nothing': <function do_nothing at 0x0000024D5E38E0D0>, 'result': None, 'my_function': <function my_function at 0x0000024D5E2B51F0>, '_i23': 'def greet(name, message):\\n    print(f\"{message}, {name}!\")\\n\\ngreet(\"Python\", \"Hello\")  # Hello, Python! \\n# 按顺序传递: name=\"Python\", message=\"Hello\"', 'greet': <function greet at 0x0000024D5E24F790>, '_i24': 'def greet(name, message):\\n    print(f\"{message}, {name}!\")\\n\\n# 使用关键字参数，顺序随意\\ngreet(message=\"Hi\", name=\"Python\") # Hi, Python!', '_i25': 'def greet(name, message=\"Hello\"):\\n    print(f\"{message}, {name}!\")\\n\\n# 只传name，message使用默认值\"Hello\"\\ngreet(\"Charlo\")  # HHello, Charlo!\\n# 同时传递两个参数\\ngreet(\"Daissy\", \"Hi\")  # Hi, Daissy!', '_i26': 'def add_numbers(*args):\\n    total = 0\\n    for num in args:\\n        total += num\\n    return total\\n\\nprint(add_numbers(1, 2, 3))       # 6\\nprint(add_numbers(10, 20, 30, 5)) # 65', 'add_numbers': <function add_numbers at 0x0000024D5E271940>, '_i27': 'def build_profile(first_name, last_name, **kwargs):\\n    profile = {\"first_name\": first_name, \"last_name\": last_name}\\n    # 将额外的关键字参数更新到profile字典中\\n    for key, value in kwargs.items():\\n        profile[key] = value\\n    return profile\\n\\nuser_profile = build_profile(\"Alili\", \"Smith\", location=\"New York\", age=30, hobby=\"Reading\")\\nprint(user_profile)\\n# {\\'first_name\\': \\'Alili\\', \\'last_name\\': \\'Smith\\', \\'location\\': \\'New York\\', \\'age\\': 30, \\'hobby\\': \\'Reading\\'}\\n\\n# 在这个示例中，除了 first_name 和 last_name 外，\\n# 任何其他的关键字参数（location=\"New York\", age=30, hobby=\"Reading\"）都会被聚合到 kwargs 这个字典里。', 'build_profile': <function build_profile at 0x0000024D5E13D280>, 'user_profile': {'first_name': 'Alili', 'last_name': 'Smith', 'location': 'New York', 'age': 30, 'hobby': 'Reading'}, '_i28': 'def show_info(a, b, c):\\n    print(a, b, c)\\n\\ndata = {\"a\": 1, \"b\": 2, \"c\": 3}\\nshow_info(**data)  # 等价于 show_info(a=1, b=2, c=3)', 'show_info': <function show_info at 0x0000024D5E38E160>, 'data': {'name': 'Alili', 'age': 25, 'skills': ['Python', 'Data Analysis']}, '_i29': '# 将列表中每个数值平方\\nnumbers = [1, 2, 3, 4]\\nsquared = list(map(lambda x: x**2, numbers))\\nprint(squared)  # 输出: [1, 4, 9, 16]\\n\\n# lambda 语句 等价于  fun_square\\ndef fun_square(x):\\n    return x ** 2\\nsquared_b = list(map(fun_square, numbers))\\nprint(squared_b)  # 输出: [1, 4, 9, 16]\\n    \\n# squared_c = [x ** 2 for x in numbers]', 'numbers': range(1, 11), 'squared': [1, 4, 9, 16], 'fun_square': <function fun_square at 0x0000024D5E13DD30>, 'squared_b': [1, 4, 9, 16], '_i30': 'def add_nums(a, b):\\n    return a + b', 'add_nums': <function add_nums at 0x0000024D5E271DC0>, '_i31': 'add_five = lambda y: add_nums(5, y)', 'add_five': functools.partial(<function add_nums at 0x0000024D5E271DC0>, 5), '_i32': 'from functools import partial\\nadd_five = partial(add_nums, 5)\\nprint(add_five)\\n# functools.partial(<function add_nums at 0x00000222C2976B90>, 5)\\nprint(add_five(1)) \\n# 6', 'partial': <class 'functools.partial'>, '_i33': 'a = None\\ndef bind_a_variable():\\n    global a\\n    a = []\\nbind_a_variable()\\nprint(a)  # []', 'bind_a_variable': <function bind_a_variable at 0x0000024D5E38E3A0>, '_i34': '# 创建一个简单的迭代器\\n\\nclass Countdown:\\n    def __init__(self, start):\\n        self.current = start\\n\\n    def __iter__(self):\\n        return self\\n\\n    def __next__(self):\\n        if self.current <= 0:\\n            raise StopIteration\\n        self.current -= 1\\n        return self.current\\n\\n# 使用迭代器\\nfor number in Countdown(3):\\n    print(number)\\n\\n# 2\\n# 1\\n# 0', 'Countdown': <class '__main__.Countdown'>, '_i35': \"import itertools\\nfirst_letter = lambda x: x[0]\\nnames = ['Aln', 'Ada', 'Wes', 'Wi', 'Albe', 'Sten']\\nfor letter, names in itertools.groupby(names, first_letter):\\n    print(letter, list(names)) # names is a generator\\n\\n# A ['Aln', 'Ada']\\n# W ['Wes', 'Wi']\\n# A ['Albe']\\n# S ['Sten']\", 'itertools': <module 'itertools' (built-in)>, 'first_letter': <function <lambda> at 0x0000024D5E2B5D30>, 'letter': 'S', '_i36': 'def echo():\\n    while True:\\n        value = yield\\n        print(f\"Echo: {value}\")\\n\\n# 创建生成器\\ne = echo()\\nnext(e)  # 启动生成器\\n\\n# 发送数据\\ne.send(\"Hello\")  # Echo: Hello\\ne.send(\"World\")  # Echo: World', 'echo': <function echo at 0x0000024D5E38E280>, '_i37': 'person1 = Person(\"Alili\", 25)\\nperson2 = Person(\"Bomm\", 30)\\n\\nperson1.greet()  # Hello, I am Alili, and I\\'m 25 years old.\\nperson2.greet()  # Hello, I am Bomm, and I\\'m 30 years old.', '_i38': 'class Person:\\n    \"\"\"代表一个人的类\"\"\"\\n    def __init__(self, name, age):\\n        # __init__ 是构造方法，用于初始化对象属性\\n        self.name = name\\n        self.age = age\\n    def greet(self):\\n        # self 是对实例自身的引用，在定义实例方法时必须作为第一个参数\\n        print(f\"Hello, I am {self.name}, and I\\'m {self.age} years old.\")', 'Person': <class '__main__.Person'>, '_i39': 'person1 = Person(\"Alili\", 25)\\nperson2 = Person(\"Bomm\", 30)\\n\\nperson1.greet()  # Hello, I am Alili, and I\\'m 25 years old.\\nperson2.greet()  # Hello, I am Bomm, and I\\'m 30 years old.', 'person1': <__main__.Person object at 0x0000024D5E34AEB0>, 'person2': <__main__.Person object at 0x0000024D5E34A520>, '_i40': 'class Car:\\n    # 类属性\\n    wheels = 4\\n    def __init__(self, brand, model):\\n        # 实例属性\\n        self.brand = brand\\n        self.model = model\\n\\ncar1 = Car(\"车a\", \"x-a\")\\ncar2 = Car(\"车c\", \"x-d\")\\n\\nprint(car1.wheels, car2.wheels)  # 都是 4（共享）\\nprint(car1.brand, car2.brand)    # Toyota, Honda（不同）', 'Car': <class '__main__.Car'>, 'car1': <__main__.Car object at 0x0000024D5C946820>, 'car2': <__main__.Car object at 0x0000024D5E189BB0>, '_i41': 'class Car:\\n    # 类属性\\n    wheels = 4\\n    def __init__(self, brand, model):\\n        # 实例属性\\n        self.brand = brand\\n        self.model = model\\n\\ncar1 = Car(\"车a\", \"x-a\")\\ncar2 = Car(\"车b\", \"x-b\")\\n\\nprint(car1.wheels, car2.wheels)  # 都是 4（共享）\\nprint(car1.brand, car2.brand)    # 车a, Honda（不同）', '_i42': 'class MyClass:\\n    count = 0\\n\\n    def __init__(self):\\n        MyClass.count += 1\\n\\n    @classmethod\\n    def how_many(cls):\\n        return cls.count\\n\\nx1 = MyClass()\\nx2 = MyClass()\\nprint(MyClass.how_many())  # 2', 'MyClass': <class '__main__.MyClass'>, 'x1': <__main__.MyClass object at 0x0000024D5E2DEDC0>, 'x2': <__main__.MyClass object at 0x0000024D5E2DE6D0>, '_i43': 'class MathHelper:\\n    @staticmethod\\n    def add(a, b):\\n        return a + b\\n\\nprint(MathHelper.add(3, 4))  # 7', 'MathHelper': <class '__main__.MathHelper'>, '_i44': '# 自定义一个简单的类，为其实现 __str__ 和 __len__。\\n\\nclass MyList:\\n    def __init__(self, items):\\n        self.items = items\\n\\n    def __str__(self):\\n        return f\"MyList: {self.items}\"\\n\\n    def __len__(self):\\n        return len(self.items)\\n\\nlst = MyList([4, 2, 3])\\nprint(lst)         # MyList: [1, 2, 3]\\nprint(len(lst))    # 3', 'MyList': <class '__main__.MyList'>, 'lst': <__main__.MyList object at 0x0000024D5E3335B0>, '_i45': '# 练习2：定义一个类描述平面上的点并提供移动点和计算到另一个点距离的方法。\\nfrom math import sqrt\\n\\nclass Point(object):\\n\\n    def __init__(self, x=0, y=0):\\n        \"\"\"初始化方法\\n        \\n        :param x: 横坐标\\n        :param y: 纵坐标\\n        \"\"\"\\n        self.x = x\\n        self.y = y\\n\\n    def move_to(self, x, y):\\n        \"\"\"移动到指定位置\\n        \\n        :param x: 新的横坐标\\n        \"param y: 新的纵坐标\\n        \"\"\"\\n        self.x = x\\n        self.y = y\\n\\n    def move_by(self, dx, dy):\\n        \"\"\"移动指定的增量\\n        \\n        :param dx: 横坐标的增量\\n        \"param dy: 纵坐标的增量\\n        \"\"\"\\n        self.x += dx\\n        self.y += dy\\n\\n    def distance_to(self, other):\\n        \"\"\"计算与另一个点的距离\\n        \\n        :param other: 另一个点\\n        \"\"\"\\n        dx = self.x - other.x\\n        dy = self.y - other.y\\n        return sqrt(dx ** 2 + dy ** 2)\\n\\n    def __str__(self):\\n        return \\'(%s, %s)\\' % (str(self.x), str(self.y))\\n\\n\\np1 = Point(4, 5)\\np2 = Point()\\nprint(p1)\\nprint(p2)\\np2.move_by(-1, 3)\\nprint(p2)\\nprint(p1.distance_to(p2))\\n\\n# (3, 5)\\n# (0, 0)\\n# (-1, 2)\\n# 5.0', 'sqrt': <built-in function sqrt>, 'Point': <class '__main__.Point'>, 'p1': <__main__.Point object at 0x0000024D5E34A280>, 'p2': <__main__.Point object at 0x0000024D5E34A550>, '_i46': 'class OpTest:\\n    \"\"\"访问可见性简单测试\"\"\"\\n    \\n    def __init__(self, insA):\\n        self.__insA = insA\\n    \\n    def __qst(self):\\n        print(self.__insA)\\n        print(\"__qst\")\\n\\ndef main():\\n    test = OpTest(\\'Hello\\')\\n    test.__qst()\\n    \\n    print(test.__qst)\\n        ', 'OpTest': <class '__main__.OpTest'>, 'main': <function main at 0x0000024D5E303940>, '_i47': 'class OpTest:\\n    \"\"\"访问可见性简单测试\"\"\"\\n    \\n    def __init__(self, insA):\\n        self.__insA = insA\\n    \\n    def __qst(self):\\n        print(self.__insA)\\n        print(\"__qst\")\\n\\ndef main():\\n    test = OpTest(\\'Hello\\')\\n    test.__qst()\\n    \\n    print(test.__qst)\\n\\nmain()', '_i48': 'class OpTest:\\n    \"\"\"访问可见性简单测试\"\"\"\\n    \\n    def __init__(self, insA):\\n        self.__insA = insA\\n    \\n    def __qst(self):\\n        print(self.__insA)\\n        print(\"__qst\")\\n\\ndef main():\\n    test = OpTest(\\'Hello\\')\\n    \\n    # test.__qst()\\n    # # AttributeError: \\'OpTest\\' object has no attribute \\'__qst\\'\\n    \\n    print(test.__qst)\\n\\nmain()', '_i49': 'class OpTest:\\n    \"\"\"访问可见性简单测试\"\"\"\\n    \\n    def __init__(self, insA):\\n        self.__insA = insA\\n    \\n    def __qst(self):\\n        print(self.__insA)\\n        print(\"__qst\")\\n\\ndef main():\\n    test = OpTest(\\'Hello\\')\\n    \\n    test._OpTest__insA()\\n    print(test._OpTest__qst)\\nmain()', '_i50': 'class OpTest:\\n    \"\"\"访问可见性简单测试\"\"\"\\n    \\n    def __init__(self, insA):\\n        self.__insA = insA\\n    \\n    def __qst(self):\\n        print(self.__insA)\\n        print(\"__qst\")\\n\\ndef main():\\n    test = OpTest(\\'Hello\\')\\n    \\n    test._OpTest__qst()\\n    print(test._OpTest__insA)\\n    \\nmain()', '_i51': '# @property包装器来包装getter和setter方法，使得对属性的访问既安全又方便\\nclass Person(object):\\n\\n    def __init__(self, name, age):\\n        self._name = name\\n        self._age = age\\n\\n    # 访问器 - getter方法\\n    @property\\n    def name(self):\\n        return self._name\\n\\n    # 访问器 - getter方法\\n    @property\\n    def age(self):\\n        return self._age\\n\\n    # 修改器 - setter方法\\n    @age.setter\\n    def age(self, age):\\n        self._age = age\\n\\n    def play(self):\\n        if self._age <= 16:\\n            print(f\"{self.name}在玩这\")\\n        else:\\n            print(f\"{self.name}在玩那\")\\n\\nperson = Person(\\'abc\\', 12)\\nperson.play()\\nperson.age = 22\\nperson.play()\\n\\n\\n# person.name = \\'另一个人\\'  # AttributeError: can\\'t set attribute', 'person': <__main__.Person object at 0x0000024D5E3B9080>, '_i52': '# @property包装器来包装getter和setter方法，使得对属性的访问既安全又方便\\nclass Person(object):\\n\\n    def __init__(self, name, age):\\n        self._name = name\\n        self._age = age\\n\\n    # 访问器 - getter方法\\n    @property\\n    def name(self):\\n        return self._name\\n\\n    # 访问器 - getter方法\\n    @property\\n    def age(self):\\n        return self._age\\n\\n    # 修改器 - setter方法\\n    @age.setter\\n    def age(self, age):\\n        self._age = age\\n\\n    def play(self):\\n        if self._age <= 16:\\n            print(f\"{self.name}在玩这\")\\n        else:\\n            print(f\"{self.name}在玩那\")\\n\\nperson = Person(\\'abc\\', 12)\\nperson.play()\\nperson.age = 22\\nperson.play()\\n# abc在玩这\\n# abc在玩那\\n\\nperson.name = \\'另一个人\\'  # AttributeError: can\\'t set attribute', '_i53': '# @property包装器来包装getter和setter方法，使得对属性的访问既安全又方便\\nclass Person(object):\\n\\n    def __init__(self, name, age):\\n        self._name = name\\n        self._age = age\\n\\n    # 访问器 - getter方法\\n    @property\\n    def name(self):\\n        return self._name\\n\\n    # 访问器 - getter方法\\n    @property\\n    def age(self):\\n        return self._age\\n\\n    # 修改器 - setter方法\\n    @age.setter\\n    def age(self, age):\\n        self._age = age\\n\\n    def play(self):\\n        if self._age <= 16:\\n            print(f\"{self.name}在玩这\")\\n        else:\\n            print(f\"{self.name}在玩那\")\\n\\nperson = Person(\\'abc\\', 12)\\nperson.play()\\nperson.age = 22\\nperson.play()\\n# abc在玩这\\n# abc在玩那\\n\\n# person.name = \\'另一个人\\'  # AttributeError: can\\'t set attribute\\nperson.age = 100\\nprint(person.age)', '_i54': '# @property包装器来包装getter和setter方法，使得对属性的访问既安全又方便\\nclass Person(object):\\n\\n    def __init__(self, name, age):\\n        self._name = name\\n        self._age = age\\n\\n    # 访问器 - getter方法\\n    @property\\n    def name(self):\\n        return self._name\\n\\n    # 访问器 - getter方法\\n    @property\\n    def age(self):\\n        return self._age\\n\\n    # 修改器 - setter方法\\n    @age.setter\\n    def age(self, age):\\n        self._age = age\\n\\n    def play(self):\\n        if self._age <= 16:\\n            print(f\"{self.name}在玩这\")\\n        else:\\n            print(f\"{self.name}在玩那\")\\n\\nperson = Person(\\'abc\\', 12)\\nperson.play()\\nperson.age = 22\\nperson.play()\\n# abc在玩这\\n# abc在玩那\\n\\n# person.name = \\'另一个人\\'  # AttributeError: can\\'t set attribute\\nperson.age = 10000\\nprint(person.age)  # 10000', '_i55': 'class Person(object):\\n    # 限定Person对象只能绑定_name, _age和_gender属性\\n    __slots__ = (\\'_name\\', \\'_age\\', \\'_gender\\')\\n    def __init__(self, name, age):\\n        self._name = name\\n        self._age = age\\n    @property\\n    def name(self):\\n        return self._name\\n    @property\\n    def age(self):\\n        return self._age\\n    @age.setter\\n    def age(self, age):\\n        self._age = age\\n    def play(self):\\n        if self._age <= 16:\\n            print(f\"{self.name}在玩\")\\n        else:\\n            print(f\"{self.name}在睡觉\")\\n\\nperson = Person(\\'aaa\\', 22)\\nperson.play()\\nperson._gender = \\'男\\'\\n# \\n\\n# AttributeError: \\'Person\\' object has no attribute \\'_is_bad\\'\\nperson._is_bad = True', '_i56': 'class Person(object):\\n    # 限定Person对象只能绑定_name, _age和_gender属性\\n    __slots__ = (\\'_name\\', \\'_age\\', \\'_gender\\')\\n    def __init__(self, name, age):\\n        self._name = name\\n        self._age = age\\n    @property\\n    def name(self):\\n        return self._name\\n    @property\\n    def age(self):\\n        return self._age\\n    @age.setter\\n    def age(self, age):\\n        self._age = age\\n    def play(self):\\n        if self._age <= 16:\\n            print(f\"{self.name}在玩\")\\n        else:\\n            print(f\"{self.name}在睡觉\")\\n\\nperson = Person(\\'aaa\\', 22)\\nperson.play()\\nperson._gender = \\'男\\'\\n# aaa在睡觉\\n\\n# # AttributeError: \\'Person\\' object has no attribute \\'_is_bad\\'\\n# person._is_bad = True', '_i57': \"from math import sqrt\\n\\n\\nclass Triangle(object):\\n\\n    def __init__(self, a, b, c):\\n        self._a = a\\n        self._b = b\\n        self._c = c\\n\\n    @staticmethod\\n    def is_valid(a, b, c):\\n        return a + b > c and b + c > a and a + c > b\\n\\n    def perimeter(self):\\n        return self._a + self._b + self._c\\n\\n    def area(self):\\n        half = self.perimeter() / 2\\n        return sqrt(half * (half - self._a) *\\n                    (half - self._b) * (half - self._c))\\n\\ndef main():\\n    a, b, c = 10, 8, 3\\n    # 静态方法和类方法都是通过给类发消息来调用的\\n    if Triangle.is_valid(a, b, c):\\n        t = Triangle(a, b, c)\\n        print(t.perimeter())\\n        # 也可以通过给类发消息来调用对象方法但是要传入接收消息的对象作为参数\\n        # print(Triangle.perimeter(t))\\n        print(t.area())\\n        # print(Triangle.area(t))\\n    else:\\n        print('无法构成三角形.')\\n\\nmain()\", 'Triangle': <class '__main__.Triangle'>, '_i58': 'class Person(object):\\n    \"\"\"人\"\"\"\\n    def __init__(self, name, age):\\n        self._name = name\\n        self._age = age\\n        \\n    @property\\n    def name(self):\\n        return self._name\\n\\n    @property\\n    def age(self):\\n        return self._age\\n\\n    @age.setter\\n    def age(self, age):\\n        self._age = age\\n\\n    def play(self): print(f\"{self.name}玩疯了\")\\n    def watch_tv(self):\\n        if self._age >= 18: print(f\"{self.name}看电视睡着了\")\\n        else: print(f\"{self.name}不看电视\")\\n\\nclass Student(Person):\\n    \"\"\"学生\"\"\"\\n    def __init__(self, name, age, grade):\\n        super().__init__(name, age)\\n        self._grade = grade\\n\\n    @property\\n    def grade(self):\\n        return self._grade\\n\\n    @grade.setter\\n    def grade(self, grade):\\n        self._grade = grade\\n\\n    def study(self, course): print(f\"{self._grade}的{self._name}在学{course}\")\\n\\nclass Teacher(Person):\\n    \"\"\"老师\"\"\"\\n    def __init__(self, name, age, title):\\n        super().__init__(name, age)\\n        self._title = title\\n\\n    @property\\n    def title(self):\\n        return self._title\\n\\n    @title.setter\\n    def title(self, title):\\n        self._title = title\\n        \\n    def teach(self, course): print(f\"{self._name}{self._title}在授课{course}\")\\n\\nstu = Student(\\'学生a\\', 15, \\'初三\\')\\nstu.study(\\'数学\\')\\nstu.watch_tv()\\nt = Teacher(\\'无敌\\', 49, \\'程序员\\')\\nt.teach(\\'Python如何打印helloworld\\')\\nt.watch_tv()\\n\\n# 初三的王大锤正在学习数学.\\n# 王大锤只能观看《熊出没》.\\n# 无敌砖家正在讲Python程序设计.\\n# 无敌正在观看恐怖片.', 'Student': <class '__main__.Student'>, 'Teacher': <class '__main__.Teacher'>, 'stu': <__main__.Student object at 0x0000024D5E3D2220>, 't': <__main__.Teacher object at 0x0000024D5E2E3460>, '_i59': 'from abc import ABCMeta, abstractmethod\\n\\nclass Pet(object, metaclass=ABCMeta):\\n    \"\"\"宠物\"\"\"\\n    def __init__(self, nickname):\\n        self._nickname = nickname\\n    @abstractmethod\\n    def make_voice(self):\\n        \"\"\"发出声音\"\"\"\\n        pass\\n\\nclass Dog(Pet):\\n    \"\"\"狗\"\"\"\\n    def make_voice(self):\\n        print(\\'%s: 汪汪汪...\\' % self._nickname)\\n\\nclass Cat(Pet):\\n    \"\"\"猫\"\"\"\\n    def make_voice(self):\\n        print(\\'%s: 喵...喵...\\' % self._nickname)\\n\\npets = [Dog(\\'狗a\\'), Cat(\\'猫a\\'), Dog(\\'另一只狗\\')]\\nfor pet in pets:\\n    pet.make_voice()\\n\\n# 旺财: 汪汪汪...\\n# 凯蒂: 喵...喵...\\n# 大黄: 汪汪汪...', 'ABCMeta': <class 'abc.ABCMeta'>, 'abstractmethod': <function abstractmethod at 0x0000024D581F0D30>, 'Pet': <class '__main__.Pet'>, 'Dog': <class '__main__.Dog'>, 'Cat': <class '__main__.Cat'>, 'pets': [<__main__.Dog object at 0x0000024D5E384820>, <__main__.Cat object at 0x0000024D5E384A00>, <__main__.Dog object at 0x0000024D5E384790>], 'pet': <__main__.Dog object at 0x0000024D5E384790>, '_i60': \"from abc import ABCMeta, abstractmethod\\nclass Pet(object, metaclass=ABCMeta):\\n    def __init__(self, nickname):\\n        self._nickname = nickname\\n    @abstractmethod\\n    def make_voice(self): pass\\nclass Dog(Pet):\\n    def make_voice(self): print('%s: 汪汪汪...' % self._nickname)\\nclass Cat(Pet):\\n    def make_voice(self): print('%s: 喵...喵...' % self._nickname)\\n\\npets = [Dog('狗a'), Cat('猫a'), Dog('另一只狗')]\\nfor pet in pets:\\n    pet.make_voice()\\n# 旺财: 汪汪汪...\\n# 凯蒂: 喵...喵...\\n# 大黄: 汪汪汪...\", '_i61': '# 综合案例1：奥特曼打小怪兽。\\n\\nfrom abc import ABCMeta, abstractmethod\\nfrom random import randint, randrange\\n\\nclass Fighter(object, metaclass=ABCMeta):\\n    \"\"\"战斗者\"\"\"\\n    # 通过__slots__魔法限定对象可以绑定的成员变量\\n    __slots__ = (\\'_name\\', \\'_hp\\')\\n    def __init__(self, name, hp):\\n        \"\"\"初始化方法\\n        :param name: 名字\\n        :param hp: 生命值\\n        \"\"\"\\n        self._name = name\\n        self._hp = hp\\n    @property\\n    def name(self):\\n        return self._name\\n    @property\\n    def hp(self):\\n        return self._hp\\n    @hp.setter\\n    def hp(self, hp):\\n        self._hp = hp if hp >= 0 else 0\\n    @property\\n    def alive(self):\\n        return self._hp > 0\\n    @abstractmethod\\n    def attack(self, other):\\n        \"\"\"攻击\\n        :param other: 被攻击的对象\\n        \"\"\"\\n        pass\\n\\nclass Ultraman(Fighter):\\n    \"\"\"奥特曼\"\"\"\\n    __slots__ = (\\'_name\\', \\'_hp\\', \\'_mp\\')\\n    def __init__(self, name, hp, mp):\\n        \"\"\"初始化方法\\n        :param name: 名字\\n        :param hp: 生命值\\n        :param mp: 魔法值\\n        \"\"\"\\n        super().__init__(name, hp)\\n        self._mp = mp\\n    def attack(self, other):\\n        other.hp -= randint(15, 25)\\n    def huge_attack(self, other):\\n        \"\"\"究极必杀技(打掉对方至少50点或四分之三的血)\\n        :param other: 被攻击的对象\\n        :return: 使用成功返回True否则返回False\\n        \"\"\"\\n        if self._mp >= 50:\\n            self._mp -= 50\\n            injury = other.hp * 3 // 4\\n            injury = injury if injury >= 50 else 50\\n            other.hp -= injury\\n            return True\\n        else:\\n            self.attack(other)\\n            return False\\n    def magic_attack(self, others):\\n        \"\"\"魔法攻击\\n        :param others: 被攻击的群体\\n        :return: 使用魔法成功返回True否则返回False\\n        \"\"\"\\n        if self._mp >= 20:\\n            self._mp -= 20\\n            for temp in others:\\n                if temp.alive:\\n                    temp.hp -= randint(10, 15)\\n            return True\\n        else:\\n            return False\\n    def resume(self):\\n        \"\"\"恢复魔法值\"\"\"\\n        incr_point = randint(1, 10)\\n        self._mp += incr_point\\n        return incr_point\\n    def __str__(self):\\n        return \\'~~~%s奥特曼~~~\\\\n\\' % self._name + \\\\\\n            \\'生命值: %d\\\\n\\' % self._hp + \\\\\\n            \\'魔法值: %d\\\\n\\' % self._mp\\n\\nclass Monster(Fighter):\\n    \"\"\"小怪兽\"\"\"\\n    __slots__ = (\\'_name\\', \\'_hp\\')\\n    def attack(self, other):\\n        other.hp -= randint(10, 20)\\n    def __str__(self):\\n        return \\'~~~%s小怪兽~~~\\\\n\\' % self._name + \\\\\\n            \\'生命值: %d\\\\n\\' % self._hp\\n\\ndef is_any_alive(monsters):\\n    \"\"\"判断有没有小怪兽是活着的\"\"\"\\n    for monster in monsters:\\n        if monster.alive > 0:\\n            return True\\n    return False\\n\\ndef select_alive_one(monsters):\\n    \"\"\"选中一只活着的小怪兽\"\"\"\\n    monsters_len = len(monsters)\\n    while True:\\n        index = randrange(monsters_len)\\n        monster = monsters[index]\\n        if monster.alive > 0:\\n            return monster\\n\\ndef display_info(ultraman, monsters):\\n    \"\"\"显示奥特曼和小怪兽的信息\"\"\"\\n    print(ultraman)\\n    for monster in monsters:\\n        print(monster, end=\\'\\')\\n\\ndef main():\\n    u = Ultraman(\\'a\\', 1000, 120)\\n    m1 = Monster(\\'c1\\', 250)\\n    m2 = Monster(\\'c2\\', 500)\\n    m3 = Monster(\\'c3\\', 750)\\n    ms = [m1, m2, m3]\\n    fight_round = 1\\n    while u.alive and is_any_alive(ms):\\n        print(\\'========第%02d回合========\\' % fight_round)\\n        m = select_alive_one(ms)  # 选中一只小怪兽\\n        skill = randint(1, 10)   # 通过随机数选择使用哪种技能\\n        if skill <= 6:  # 60%的概率使用普通攻击\\n            print(\\'%s使用普通攻击打了%s.\\' % (u.name, m.name))\\n            u.attack(m)\\n            print(\\'%s的魔法值恢复了%d点.\\' % (u.name, u.resume()))\\n        elif skill <= 9:  # 30%的概率使用魔法攻击(可能因魔法值不足而失败)\\n            if u.magic_attack(ms):\\n                print(\\'%s使用了魔法攻击.\\' % u.name)\\n            else:\\n                print(\\'%s使用魔法失败.\\' % u.name)\\n        else:  # 10%的概率使用究极必杀技(如果魔法值不足则使用普通攻击)\\n            if u.huge_attack(m):\\n                print(\\'%s使用究极必杀技虐了%s.\\' % (u.name, m.name))\\n            else:\\n                print(\\'%s使用普通攻击打了%s.\\' % (u.name, m.name))\\n                print(\\'%s的魔法值恢复了%d点.\\' % (u.name, u.resume()))\\n        if m.alive > 0:  # 如果选中的小怪兽没有死就回击奥特曼\\n            print(\\'%s回击了%s.\\' % (m.name, u.name))\\n            m.attack(u)\\n        display_info(u, ms)  # 每个回合结束后显示奥特曼和小怪兽的信息\\n        fight_round += 1\\n    print(\\'\\\\n========战斗结束!========\\\\n\\')\\n    if u.alive > 0:\\n        print(\\'%s奥特曼胜利!\\' % u.name)\\n    else:\\n        print(\\'小怪兽胜利!\\')\\n\\n# 调用\\nmain()', 'randint': <bound method Random.randint of <random.Random object at 0x0000024D586D9AE0>>, 'randrange': <bound method Random.randrange of <random.Random object at 0x0000024D586D9AE0>>, 'Fighter': <class '__main__.Fighter'>, 'Ultraman': <class '__main__.Ultraman'>, 'Monster': <class '__main__.Monster'>, 'is_any_alive': <function is_any_alive at 0x0000024D5E3513A0>, 'select_alive_one': <function select_alive_one at 0x0000024D5E3519D0>, 'display_info': <function display_info at 0x0000024D5E2B5670>, '_i62': '# 综合案例3：工资结算系统。\\n\\n\"\"\"\\n某公司有三种类型的员工 分别是部门经理、程序员和销售员\\n需要设计一个工资结算系统 根据提供的员工信息来计算月薪\\n部门经理的月薪是每月固定15000元\\n程序员的月薪按本月工作时间计算 每小时150元\\n销售员的月薪是1200元的底薪加上销售额5%的提成\\n\"\"\"\\nfrom abc import ABCMeta, abstractmethod\\n\\n\\nclass Employee(object, metaclass=ABCMeta):\\n    \"\"\"员工\"\"\"\\n\\n    def __init__(self, name):\\n        \"\"\"\\n        初始化方法\\n\\n        :param name: 姓名\\n        \"\"\"\\n        self._name = name\\n\\n    @property\\n    def name(self):\\n        return self._name\\n\\n    @abstractmethod\\n    def get_salary(self):\\n        \"\"\"\\n        获得月薪\\n\\n        :return: 月薪\\n        \"\"\"\\n        pass\\n\\n\\nclass Manager(Employee):\\n    \"\"\"部门经理\"\"\"\\n\\n    def get_salary(self):\\n        return 15000.0\\n\\n\\nclass Programmer(Employee):\\n    \"\"\"程序员\"\"\"\\n\\n    def __init__(self, name, working_hour=0):\\n        super().__init__(name)\\n        self._working_hour = working_hour\\n\\n    @property\\n    def working_hour(self):\\n        return self._working_hour\\n\\n    @working_hour.setter\\n    def working_hour(self, working_hour):\\n        self._working_hour = working_hour if working_hour > 0 else 0\\n\\n    def get_salary(self):\\n        return 150.0 * self._working_hour\\n\\n\\nclass Salesman(Employee):\\n    \"\"\"销售员\"\"\"\\n\\n    def __init__(self, name, sales=0):\\n        super().__init__(name)\\n        self._sales = sales\\n\\n    @property\\n    def sales(self):\\n        return self._sales\\n\\n    @sales.setter\\n    def sales(self, sales):\\n        self._sales = sales if sales > 0 else 0\\n\\n    def get_salary(self):\\n        return 1200.0 + self._sales * 0.05\\n\\n\\ndef main():\\n    emps = [\\n        Manager(\\'a\\'), Programmer(\\'b\\'),\\n        Manager(\\'c\\'), Salesman(\\'d\\'),\\n        Salesman(\\'e\\'), Programmer(\\'f\\'),\\n        Programmer(\\'g\\')\\n    ]\\n    for emp in emps:\\n        if isinstance(emp, Programmer):\\n            emp.working_hour = int(input(\\'请输入%s本月工作时间: \\' % emp.name))\\n        elif isinstance(emp, Salesman):\\n            emp.sales = float(input(\\'请输入%s本月销售额: \\' % emp.name))\\n        # 同样是接收get_salary这个消息但是不同的员工表现出了不同的行为(多态)\\n        print(\\'%s本月工资为: ￥%s元\\' %\\n              (emp.name, emp.get_salary()))\\n\\n\\nmain()', 'Employee': <class '__main__.Employee'>, 'Manager': <class '__main__.Manager'>, 'Programmer': <class '__main__.Programmer'>, 'Salesman': <class '__main__.Salesman'>, '_i63': 'import os  # 引入内置模块 os  \\nimport sys  # 引入内置模块 sys  \\n  \\n# 使用 os 模块中的方法  \\nprint(os.getcwd())  \\n  \\n# 使用 sys 模块中的方法  \\nprint(sys.version)  ', 'os': <module 'os' from 'd:\\\\anaconda\\\\envs\\\\envq\\\\lib\\\\os.py'>, 'sys': <module 'sys' (built-in)>, '_i64': \"# NoneType  这个数据类型比较特殊，NoneType仅有唯一实例None\\nprint(type(None))   # <class 'NoneType'>\", '_i65': \"is_student = True\\nhas_graduated = False\\n\\nprint(type(is_student))   # <class 'bool'>\\nprint(type(has_graduated))   # <class 'bool'>\", 'is_student': True, 'has_graduated': False, '_i66': \"# int\\na = 10\\nb = -1  \\nprint(type(a))  # <class 'int'>\\nprint(type(b))  # <class 'int'>\\n\\n# float\\nc = 3.4\\nd = -0.002\\nprint(type(c))  # <class 'float'>\\nprint(type(d))  # <class 'float'>\\n\\n# complex\\ne = -2 + 4j\\nprint(type(e))   # <class 'complex'>\", 'c': 1000, 'd': 4, '_i67': '# 加 + \\nadd_ = 1 + 2\\nadd_b = 1.0 + .1\\nprint(f\"{add_=}\")   # add_=3\\nprint(f\"{add_b=}\")   # add_b=1.1', 'add_': 3, 'add_b': 1.1, '_i68': '# 减 -\\nsubtraction_ = 1-2\\nsubtraction_b = 1-2. \\nprint(f\"{subtraction_=}\")  # subtraction_=-1\\nprint(f\"{subtraction_b=}\")  # subtraction_b=-1.0', 'subtraction_': -1, 'subtraction_b': -1.0, '_i69': '# 乘 *\\nmultiplication_ = 2*3\\nmultiplication_b = 2.*3\\nprint(f\"{multiplication_=}\")   # multiplication_=6\\nprint(f\"{multiplication_b=}\")  # multiplication_b=6.0', '_i70': '# 除 /\\ndivision_ = 1/2\\ndivision_b = 2/1\\nprint(f\"{division_=}\")  # division_=0.5\\nprint(f\"{division_b=}\")  # division_b=2.0', '_i71': '# 取商 //\\nrounding_ = 1 //2\\nprint(f\"{rounding_=}\")   # rounding_=0\\n\\n# 取余 % \\nremainder_ = 1%2\\nprint(f\"{remainder_=}\")  # remainder_=1', '_i72': '# 幂运算 **\\npower_ = 2**3\\nprint(f\"{power_=}\")  # power_=8', '_i73': '# 科学计数法\\na = 1e3\\nprint(f\"{a=}\")  # a=1000.0\\n\\nb = -2e-4\\nprint(f\"{b=}\")  # b=-0.0002', '_i74': '# 常用数字运算函数\\nnumber = -7.25\\n\\nprint(f\"取绝对值：{abs(number)=}\")  # 取绝对值：abs(number)=7.25\\nprint(f\"求幂：{pow(2,3)=}\")  # 求幂：pow(2,3)=8\\nprint(f\"小数位数调整(有四舍五入)：{round(3.1415, 3)=}\")  # 小数位数调整(有四舍五入)：round(3.1415, 3)=3.142\\nprint(f\"取商取余：{divmod(10,3)=}\")  # 取商取余：divmod(10,3)=(3, 1)', '_i75': '# 数字类型转换\\na = 1.2  # <class \\'float\\'>\\nb = 2  # <class \\'int\\'>\\nprint(f\"{int(a)=}\")  # int(a)=1\\nprint(type(int(a)))  # <class \\'int\\'>\\nprint(f\"{float(b)=}\")  # float(b)=2.0\\nprint(type(float(b)))  # <class \\'float\\'>\\n\\n# 空int \\nempty_int = int()\\nprint(f\"{type(empty_int)=}\")   # type(empty_int)=<class \\'int\\'>\\n\\n# 空float\\nempty_float = float()\\nprint(f\"{type(empty_float)=}\")  # type(empty_float)=<class \\'float\\'>', '_i76': 'name = \"Alili\"\\ngreeting = \"Hello !\"\\nmultiline = \"\"\"This is \\na \\nmultiline.\"\"\"\\n\\n# 空字符串   <class \\'str\\'>\\nempty_str = str()\\n# empty_str = \\'\\'\\n# empty_str = \"\"\\nprint(type(empty_str))    # <class \\'str\\'>', 'name': 'Bobo', 'greeting': 'Hello !', 'multiline': 'This is \\na \\nmultiline.', 'empty_str': '', '_i77': 's = \"Hello\"\\n# 尝试修改第一个字符\\ns[0] = \\'h\\'    # TypeError: \\'str\\' object does not support item assignment', '_i78': \"# NoneType  这个数据类型比较特殊，NoneType仅有唯一实例None\\nprint(type(None))   # <class 'NoneType'>\", '_i79': \"is_student = True\\nhas_graduated = False\\n\\nprint(type(is_student))   # <class 'bool'>\\nprint(type(has_graduated))   # <class 'bool'>\", '_i80': \"# int\\na = 10\\nb = -1  \\nprint(type(a))  # <class 'int'>\\nprint(type(b))  # <class 'int'>\\n\\n# float\\nc = 3.4\\nd = -0.002\\nprint(type(c))  # <class 'float'>\\nprint(type(d))  # <class 'float'>\\n\\n# complex\\ne = -2 + 4j\\nprint(type(e))   # <class 'complex'>\", '_i81': '# 加 + \\nadd_ = 1 + 2\\nadd_b = 1.0 + .1\\nprint(f\"{add_=}\")   # add_=3\\nprint(f\"{add_b=}\")   # add_b=1.1', '_i82': '# 减 -\\nsubtraction_ = 1-2\\nsubtraction_b = 1-2. \\nprint(f\"{subtraction_=}\")  # subtraction_=-1\\nprint(f\"{subtraction_b=}\")  # subtraction_b=-1.0', '_i83': '# 乘 *\\nmultiplication_ = 2*3\\nmultiplication_b = 2.*3\\nprint(f\"{multiplication_=}\")   # multiplication_=6\\nprint(f\"{multiplication_b=}\")  # multiplication_b=6.0', '_i84': '# 除 /\\ndivision_ = 1/2\\ndivision_b = 2/1\\nprint(f\"{division_=}\")  # division_=0.5\\nprint(f\"{division_b=}\")  # division_b=2.0', '_i85': '# 取商 //\\nrounding_ = 1 //2\\nprint(f\"{rounding_=}\")   # rounding_=0\\n\\n# 取余 % \\nremainder_ = 1%2\\nprint(f\"{remainder_=}\")  # remainder_=1', '_i86': '# 幂运算 **\\npower_ = 2**3\\nprint(f\"{power_=}\")  # power_=8', '_i87': '# 科学计数法\\na = 1e3\\nprint(f\"{a=}\")  # a=1000.0\\n\\nb = -2e-4\\nprint(f\"{b=}\")  # b=-0.0002', '_i88': '# 常用数字运算函数\\nnumber = -7.25\\n\\nprint(f\"取绝对值：{abs(number)=}\")  # 取绝对值：abs(number)=7.25\\nprint(f\"求幂：{pow(2,3)=}\")  # 求幂：pow(2,3)=8\\nprint(f\"小数位数调整(有四舍五入)：{round(3.1415, 3)=}\")  # 小数位数调整(有四舍五入)：round(3.1415, 3)=3.142\\nprint(f\"取商取余：{divmod(10,3)=}\")  # 取商取余：divmod(10,3)=(3, 1)', '_i89': '# 数字类型转换\\na = 1.2  # <class \\'float\\'>\\nb = 2  # <class \\'int\\'>\\nprint(f\"{int(a)=}\")  # int(a)=1\\nprint(type(int(a)))  # <class \\'int\\'>\\nprint(f\"{float(b)=}\")  # float(b)=2.0\\nprint(type(float(b)))  # <class \\'float\\'>\\n\\n# 空int \\nempty_int = int()\\nprint(f\"{type(empty_int)=}\")   # type(empty_int)=<class \\'int\\'>\\n\\n# 空float\\nempty_float = float()\\nprint(f\"{type(empty_float)=}\")  # type(empty_float)=<class \\'float\\'>', '_i90': 'name = \"Alili\"\\ngreeting = \"Hello !\"\\nmultiline = \"\"\"This is \\na \\nmultiline.\"\"\"\\n\\n# 空字符串   <class \\'str\\'>\\nempty_str = str()\\n# empty_str = \\'\\'\\n# empty_str = \"\"\\nprint(type(empty_str))    # <class \\'str\\'>', '_i91': 's = \"Hello\"\\n# 尝试修改第一个字符\\ns[0] = \\'h\\'    # TypeError: \\'str\\' object does not support item assignment', '_i92': \"# 正确的做法是创建一个新的字符串\\ns_new = 'hello'\\nprint(s_new)  # hello\", 's_new': 'The quick brown cat jumps over the lazy dog.', '_i93': 's = \"Hello, Python !\"\\n# 索引\\n# 正向索引  从0开始\\nprint(s[0])   # H\\nprint(s[7])   # P\\n# 反向索引  从-1开始\\nprint(s[-1])  # !\\nprint(s[-7])  # y\\n# 切片\\n# 基本切片\\nprint(s[0:5])  # Hello\\nprint(s[7:])  # Python !\\nprint(s[:5])  # Hello\\n# 使用步长   start:end:step     step默认是1，也就是连续取，step=2就是隔一个取\\nprint(s[::2])  # Hlo yhn!\\nprint(s[::-1])  # ! nohtyP ,olleH  # 字符串反转\\n# 负数索引切片 \\nprint(s[-6:-1])  # thon ', '_i94': '# 拼接\\n# 使用加号\\ns1 = \"Hello\"\\ns2 = \"World\"\\ns3 = s1 + \",\" + s2 + \"!\"\\nprint(s3) # Hello,World!\\n\\n# 使用join()方法\\nwords= [\"Python\", \"is\", \"awesome\"]\\nsentense = \" \".join(words)\\nprint(sentense)  # Python is awesome\\n\\n# 重复\\ns = \\'Echo! \\'\\nrepeated = s * 3\\nprint(repeated)  # Echo! Echo! Echo! ', '_i95': '# 分割\\n\\ns = \"Python is fun and powerful.\"\\nwords = s.split()\\nprint(words)   # [\\'Python\\', \\'is\\', \\'fun\\', \\'and\\', \\'powerful.\\']\\n\\n# words = s.split(\\' \\', 1)  # 看python的版本是否支持\\n# print(words)  # [\\'Python\\', \\'is fun and powerful.\\']\\n\\n# 使用指定分隔符\\nwords_dot = s.split(\\'.\\')\\nprint(words_dot)  # [\\'Python is fun and powerful\\', \\'\\']\\n\\ns_ = \"apple,banana,orange\"\\n# rsplit  从右开始分割,最多分割2次\\nfruits = s_.rsplit(\\',\\', 2)\\nprint(fruits)  # [\\'apple\\', \\'banana\\', \\'orange\\']', '_i96': \"s = 'abracadabra'\\n\\nindex = s.find('cad')\\nprint(index)  # 4\\n\\nind = s.find('xyt')\\nprint(ind)  # -1\\n\\nlast_idx = s.rfind('abra')\\nprint(last_idx)  # 7\", '_i97': 's = \"a, A\"\\nprint(s.upper())  # A, A\\nprint(s.lower())  # a, a', '_i98': 's = \"  Hello, Python!  \"\\n\\nprint(s.strip())  # Hello, Python!\\nprint(s.lstrip()) # Hello, Python!\\nprint(s.rstrip()) #   Hello, Python!', '_i99': 's = \"Pyrhon Programming\"\\n\\nprint(s.startswith(\\'Py\\'))  # True\\nprint(s.endswith(\\'g\\'))  # True\\nprint(s.startswith(\\'Java\\'))  # False', '_i100': \"s = 'banana'\\n\\ncount = s.count('a')\\nprint(count)  # 3\", '_i101': \"s = 'banana'\\n\\nindex_ = s.index('a')\\nprint(index_)  # 1\", 'index_': 1, '_i102': 'name = \"Alili\"\\nage = 24\\n\\n# %\\ns = \"My name is %s and I am %d years old.\" % (name, age)\\nprint(s)\\n\\n# str.format()\\nfmt_mtd = \"My name is {} and I am {:.2f} years old.\".format(name, age)\\nprint(fmt_mtd)  # My name is Alili and I am 24.00 years old.\\n# 0 1 表示索引\\n# fmt_mtd = \"My name is {0} and I am {1} years old.\".format(name, age)\\n# fmt_mtd = \"My name is {0} and I am {1:.2f} years old.\".format(name, age)\\n\\n# f-str\\nf_method = f\"My name is {name} and I am {age:.2f} years old.\"\\nprint(f_method)  # My name is Alili and I am 24.00 years old.', 'fmt_mtd': 'My name is Alili and I am 24.00 years old.', 'f_method': 'My name is Alili and I am 24.00 years old.', '_i103': 's = \"Hello,\\\\nPython!\"\\nprint(s)\\n# Hello,\\n# Python!\\n\\ns = r\"C:\\\\Users\\\\Alili\\\\Documents\"\\nprint(s)  # C:\\\\Users\\\\Alice\\\\Documents', '_i104': 's = \"Python\"\\nprint(len(s))  # 6', '_i105': 's = \"Python Programming\"\\nprint(\"Python\" in s)      # True\\nprint(\"Java\" not in s)    # True', '_i106': 's = \"Hello\"\\nfor char in s:\\n    print(char)\\n# H\\n# e\\n# l\\n# l\\n# o', 'char': 'o', '_i107': 's = \"Hello\"\\n\\n# 转换为列表\\nchars = list(s)\\nprint(chars)  # [\\'H\\', \\'e\\', \\'l\\', \\'l\\', \\'o\\']\\n\\n# 列表转换为字符串\\ns_new = \\'\\'.join(chars)\\nprint(s_new)  # Hello', 'chars': ['H', 'e', 'l', 'l', 'o'], '_i108': 's = \"The quick brown fox jumps over the lazy dog.\"\\n# 查找子字符串\\nindex = s.find(\"fox\")\\nprint(index)  # 16\\n# 替换子字符串\\ns_new = s.replace(\"fox\", \"cat\")  \\nprint(s_new)  # The quick brown cat jumps over the lazy dog.', '_i109': \"tup = 1,2,4\\n# tup = 1,2,4,\\n# tup = (1,2,4)\\n# tup = (1,2,4,)\\nprint(tup)   # (1, 2, 4)\\n\\nz_tup = (4,2,1), (3,9)\\nprint(z_tup)   # ((4, 2, 1), (3, 9))\\n\\n# 空元组\\nempty_tup = ()   #  <class 'tuple'>\\n# empty_tup = tuple()   # <class 'tuple'>\\nprint(type(empty_tup))   # <class 'tuple'>\", 'tup': (1, 2, 4), 'z_tup': ((4, 2, 1), (3, 9)), 'empty_tup': (), '_i110': 'tuple_a = tuple([1,3,2,4,2])  # (1, 3, 2, 4, 2)\\nprint(tuple_a)\\ntuple_b = tuple(\"AbCdef\")  # (\\'A\\', \\'b\\', \\'C\\', \\'d\\', \\'e\\', \\'f\\')\\nprint(tuple_b)', 'tuple_a': (1, 3, 2, 4, 2), 'tuple_b': ('A', 'b', 'C', 'd', 'e', 'f'), '_i111': \"tuple_c = tuple(['start', [0,0], 1, False])\\nid_before = id(tuple_c[1])  # 3004552076736\\n\\n# tuple_c[1] = [0,0,1] # 会引发 TypeError\\ntuple_c[1].append(1)  # ('start', [0, 0, 1], 1, False) \\nid_after = id(tuple_c[1])  # 3004552076736\\n\\nprint(id_before == id_after) # True\\n\\n# 在Python中，每个对象都有一个唯一的身份标识，用于区分不同的对象。\\n# id() 函数用于获取对象的唯一标识符。这是一个唯一的整数，且在对象的生命周期内保持不变\\n# id_before == id_after，id_before、id_after引用的是同一个对象 tuple_c[1]\\n# is 运算符,用于判断两个变量是否引用同一个对象,等同于比较两个变量的id是否相同\", 'tuple_c': ('start', [0, 0, 1], 1, False), 'id_before': 2531315398848, 'id_after': 2531315398848, '_i112': 'tuple_ = (1,2,) + \"a\" + (\"1\",) + (2)  \\n# TypeError \"a\"、(\"a\") is str, type((2)) is int', '_i113': 'tuple_d = (1,2,) + (\"a\",) + (\"1\",) + (2,)  \\ntuple_e = (\\'kk\\', \\'ss\\') * 2   \\nprint(f\"{tuple_d=}\")  # tuple_d=(1, 2, \\'a\\', \\'1\\', 2)\\nprint(f\"{tuple_e=}\")  # tuple_e=(\\'kk\\', \\'ss\\', \\'kk\\', \\'ss\\')', 'tuple_d': (1, 2, 'a', '1', 2), 'tuple_e': ('kk', 'ss', 'kk', 'ss'), '_i114': 'tuple_f = (1,21,33,41)\\na_, b_, c_, d_= tuple_f   # 1 21 33 41\\na_, b_, *rest = tuple_f   # 1 21\\nprint(f\"{rest=}\")   # rest=[33, 41]\\n\\ntuple_g = (1,),(21,33,41)\\na_, (b_, c_, d_) = tuple_g   #  (1,) 21 33 41\\na_, b_ = tuple_g   # (1,) (21, 33, 41)\\nprint(a_[0])   # 1', 'tuple_f': (1, 21, 33, 41), 'a_': (1,), 'b_': (21, 33, 41), 'c_': 33, 'd_': 41, 'rest': [33, 41], 'tuple_g': ((1,), (21, 33, 41)), '_i115': 'x_, y_ = 1, 2\\nx_, y_ = y_, x_ \\nprint(f\"{x_=}\") # x_=2\\nprint(f\"{y_=}\") # y_=1', 'x_': 2, 'y_': 1, '_i116': 'tuple_h = 1,2,3,4,5,6,6,6,6,6,\\ntuple_h.count(6)  # 5', 'tuple_h': (1, 2, 3, 4, 5, 6, 6, 6, 6, 6), '_116': 5, '_i117': '# 空集合\\nempty_set = set()  # <class \\'set\\'>\\nprint(type(empty_set))  # <class \\'set\\'>\\n# 创建集合\\nunique_numbers = {1, 2, 3, 4, 5}\\n# 添加元素\\nunique_numbers.add(6)\\n# 删除元素\\nunique_numbers.discard(3)\\n\\n# 集合运算\\nevens = {2, 4, 6, 8}\\nodds = {1, 3, 5, 7}\\n# # -\\nsub_result = evens - odds\\nprint(f\"{sub_result=}\")   # sub_result={8, 2, 4, 6}\\n# # 并集\\nunion = evens.union(odds)\\n# union = evens | odds\\n# union = evens.update(odds)\\nprint(f\"{union=}\")  # union={1, 2, 3, 4, 5, 6, 7, 8}\\n# # 交集\\nintersection = evens.intersection({4, 5, 6})\\nprint(f\"{intersection=}\")  # intersection={4, 6}\\n\\n# 不在意内部元素顺序的情况下, 剔除重复值\\ntu = 1,1,1,1,1,1,12,2,3,4,\\ntuple_ = tuple(set(tu))\\nprint(f\"{tuple_=}\")  # list_=[1, 2, 3, 4, 12]\\n# 集合支持for循环遍历\\nfor x in tuple_:\\n    print(x) # 1 2 3 4 12', 'empty_set': set(), 'unique_numbers': {1, 2, 4, 5, 6}, 'evens': {8, 2, 4, 6}, 'odds': {1, 3, 5, 7}, 'sub_result': {8, 2, 4, 6}, 'union': {1, 2, 3, 4, 5, 6, 7, 8}, 'intersection': {4, 6}, 'tu': (1, 1, 1, 1, 1, 1, 12, 2, 3, 4), 'tuple_': (1, 2, 3, 4, 12), 'x': 'global', '_i118': '# 创建列表\\n# # 空列表\\nempty_list = [] \\n# empty_list = list()\\n# print(empty_list)  # []\\nprint(type(empty_list))  # <class \\'list\\'>\\n\\n# # 嵌套列表\\nnested_list = [1, [2, 3], [4, 5, 6]]\\n# # 列表中可以包含不同类型的元素\\nmixed_list = [1, \"Python\", 3.14, True]\\n\\n\\nfruits = [\\'apple\\', \\'banana\\', \\'cherry\\']\\n# 正向索引\\nfirst_fruit = fruits[0]\\nprint(f\"{first_fruit=}\")  # first_fruit=\\'apple\\'\\n# 反向索引\\nlast_fruit = fruits[-1]\\nprint(f\"{last_fruit=}\")  # last_fruit=\\'cherry\\'\\n\\n# 列表切片 语法为list[start:end:step]\\nnumbers = [0, 1, 2, 3, 4, 5, 6, 7, 8, 9]\\n# # 基本切片\\nprint(numbers[2:5])    # [2, 3, 4]\\nprint(numbers[:4])     # [0, 1, 2, 3]\\nprint(numbers[6:])     # [6, 7, 8, 9]\\n# # 使用步长\\nprint(numbers[::2])    # [0, 2, 4, 6, 8]\\nprint(numbers[::-1])   # [9, 8, 7, 6, 5, 4, 3, 2, 1, 0]', 'empty_list': [], 'nested_list': [1, [2, 3], [4, 5, 6]], 'mixed_list': [1, 'Python', 3.14, True], 'first_fruit': 'apple', 'last_fruit': 'cherry', '_i119': \"fruits = ['apple', 'banana', 'cherry']\\n\\n# append()\\nfruits.append('date')\\nprint(fruits)  #  ['apple', 'banana', 'cherry', 'date']\\n\\n# insert()\\nfruits.insert(1, 'blueberry')\\nprint(fruits)  # ['apple', 'blueberry', 'banana', 'cherry', 'date']\\n\\n# extend()\\nfruits.extend(['elderberry', 'fig'])\\nprint(fruits)  # ['apple', 'blueberry', 'banana', 'cherry', 'date', 'elderberry', 'fig']\", '_i120': \"fruits = ['apple', 'blueberry', 'banana', 'cherry', 'date', 'elderberry', 'fig']\\n\\n# remove()\\nfruits.remove('banana')\\nprint(fruits)  # ['apple', 'blueberry', 'cherry', 'date', 'elderberry', 'fig']\\n\\n# pop()\\nremoved = fruits.pop(2)\\nprint(removed)  # cherry\\nprint(fruits)    # ['apple', 'blueberry', 'date', 'elderberry', 'fig']\\n\\n# clear()\\nfruits.clear()\\nprint(fruits)  # []\", 'removed': 'cherry', '_i121': 'numbers = [4, 2, 9, 1, 5, 6, 2]\\n\\n# index()\\nprint(numbers.index(5))  # 4\\n\\n# count()\\nprint(numbers.count(2))  # 2\\n\\n# sort()\\nnumbers.sort()\\nprint(numbers)  # [1, 2, 2, 4, 5, 6, 9]\\n\\n# sorted()   reverse: True降序 False升序\\nsorted_numbers = sorted(numbers, reverse=True)  \\nprint(sorted_numbers)  # [9, 6, 5, 4, 2, 2, 1]\\n\\n# reverse()\\nnumbers.reverse()\\nprint(numbers)  # [9, 6, 5, 4, 2, 2, 1]', 'sorted_numbers': [9, 6, 5, 4, 2, 2, 1], '_i122': \"fruits = ['apple', 'banana', 'cherry', 'date']\\n\\n# 使用 for 循环遍历列表\\nfor fruit in fruits:\\n    print(fruit)\\n\\n# while循环\\nindex = 0\\nwhile index < len(fruits):\\n    print(fruits[index])\\n    index += 1\\n# apple banana cherry date\", 'fruit': 'cherry', '_i123': 'fruits = [\\'apple\\', \\'banana\\', \\'cherry\\', \\'date\\']\\n\\n# 使用 enumerate() 遍历列表\\nfor index, fruit in enumerate(fruits):\\n    print(f\"Index {index}: {fruit}\")\\n# Index 0: apple\\n# Index 1: banana\\n# Index 2: cherry\\n# Index 3: date\\n\\n# 从索引 1 开始遍历\\nfor index, fruit in enumerate(fruits, start=1):\\n    print(f\"Index {index}: {fruit}\")\\n# Index 1: apple\\n# Index 2: banana\\n# Index 3: cherry\\n# Index 4: date', '_i124': 'names = [\\'Alili\\', \\'Bobo\\', \\'Qiuqiu\\']\\nages = [25, 30]\\n\\n# 使用 zip() 遍历长度不同的列表\\nfor name, age in zip(names, ages):\\n    print(f\"{name} is {age} years old.\")\\n# Alili is 25 years old.\\n# Bobo is 30 years old.', 'ages': [25, 30], '_i125': '# 字符串转列表\\ns = \"Hello\"\\nlst = list(s)\\nprint(lst)  # [\\'H\\', \\'e\\', \\'l\\', \\'l\\', \\'o\\']\\n\\n# # 列表转字符串\\n# words = [\\'Python\\', \\'is\\', \\'awesome\\']\\n# sentence = \\' \\'.join(words)\\n# print(sentence)  # Python is awesome', '_i126': 'matrix = [\\n    [1, 2, 3],\\n    [4, 5, 6],\\n    [7, 8, 9]\\n]\\n\\n# 访问元素\\nprint(matrix[0][1])  # 2\\nprint(matrix[2][2])  # 9\\n\\nfor x in matrix:\\n    print(x)\\n# [1, 2, 3]\\n# [4, 5, 6]\\n# [7, 8, 9]\\n\\nfor x in matrix[0]:\\n    print(x)\\n# 1\\n# 2\\n# 3', 'matrix': [[1, 2, 3], [4, 5, 6], [7, 8, 9]], '_i127': \"# 创建空字典\\nempty_dict = {}\\n# empty_dict = dict()\\nprint(type(empty_dict))  # <class 'dict'>\\n\\n# 创建包含键值对的字典\\nstudent = {'name': 'Alili',\\n    'age': 25,\\n    'major': 'Computer Science'}\\n\\n# 使用 dict() 构造函数创建字典\\nperson = dict(name='Bomm', age=30, city='New York')\\nprint(person) # {'name': 'Bomm', 'age': 30, 'city': 'New York'}\\n\\n# 使用序列创建字典\\nmapping = dict(zip(range(5), reversed(range(5))))\\nprint(mapping)  # {0: 4, 1: 3, 2: 2, 3: 1, 4: 0}\\n\\n# 设置默认值  setdefault方法\\n# dict.setdefault(key, default=None)\\nmy_dict = {'a': 1, 'b': 2}\\nresult1 = my_dict.setdefault('a', 100)  # 键 'a' 存在，返回其对应的值 1\\nprint(result1)  # 1\\nresult2 = my_dict.setdefault('c', 3)    # 键 'c' 不存在，添加 'c' 键，值为 3\\nprint(result2) # 3\", 'empty_dict': {}, 'student': {'name': 'Alili', 'age': 25, 'like': 'orange'}, 'mapping': {0: 4, 1: 3, 2: 2, 3: 1, 4: 0}, 'my_dict': {'a': 1, 'b': 2, 'c': 3}, 'result1': 1, 'result2': 3, '_i128': \"student = {\\n    'name': 'Alili',\\n    'age': 25,\\n    'major': 'Computer Science'}\\n\\n# 使用中括号访问\\nprint(student['name'])  # Alili\\n# 使用 get() 方法访问\\nprint(student.get('age'))  # 25\\n# 如果键不存在，使用 get() 可设置默认值\\nprint(student.get('gpa', 'Not Available'))  # Not Available\", '_i129': \"student = {\\n    'name': 'Alili',\\n    'age': 25,\\n    'like': 'orange'\\n}\\n\\n# 添加新的键值对\\nstudent['like'] = 'orange'\\nprint(student)\\n# {'name': 'Alili', 'age': 25, 'like': 'orange'}\\n\\n# 修改现有的值\\nstudent['age'] = 25.5\\nprint(student)\\n# {'name': 'Alili', 'age': 25.5, 'like': 'orange'}\", '_i130': \"student = {\\n    'name': 'Alili',\\n    'age': 25,\\n    'like': 'orange'\\n}\\n\\n# 使用 del 语句删除键值对\\ndel student['like']\\nprint(student)\\n# {'name': 'Alili', 'age': 25}\\n\\n# 使用 pop() 方法删除并返回值\\nage = student.pop('age')\\nprint(age)       # 25\\nprint(student)   # {'name': 'Alili'}\\n\\n# 使用 clear() 方法清空字典\\nstudent.clear()\\nprint(student)  # {}\", '_i131': \"student = {\\n    'name': 'Alili',\\n}\\n\\nkeys = student.keys()\\nprint(keys)  # dict_keys(['name'])\\n\\nvalues = student.values()\\nprint(values)  # dict_values(['Alili'])\\n\\nitems = student.items()\\nprint(items)  # dict_items([('name', 'Alili')])\\n\\n# gpa = student.get('gpa', 'Not Available')\\n# print(gpa)  # Not Available\\n\\nadditional_info = {'gpa': 3.9, 'graduated': False}\\nstudent.update(additional_info)\\nprint(student)   # {'name': 'Alili', 'gpa': 3.9, 'graduated': False}\\n\\nitem = student.popitem()\\nprint(item)      # ('graduated', False)\\nprint(student)   # {'name': 'Alili', 'gpa': 3.9}\", 'keys': dict_keys(['name', 'gpa']), 'values': dict_values(['Alili', 3.9]), 'items': dict_items([('name', 'Alili'), ('gpa', 3.9)]), 'additional_info': {'gpa': 3.9, 'graduated': False}, 'item': ('graduated', False), '_i132': 'student = {\\n    \\'name\\': \\'Alili\\',\\n    \\'age\\': 25,\\n    \\'like\\': \\'orange\\'}\\n\\n# 遍历键\\nfor key in student:\\n    print(key)\\n# name age like\\n\\n# 遍历值\\nfor value in student.values():\\n    print(value)\\n# Alili 25 orange\\n\\n# 遍历键值对\\nfor key, value in student.items():\\n    print(f\"{key}: {value}\")\\n# name: Alili  age: 25  like: orange', 'key': 'three', 'value': 3, '_i133': \"# 创建嵌套字典\\nstudents = {\\n    'Alili': {\\n        'age': 25,\\n        'major': 'Computer Science',\\n        'gpa': 3.8},\\n    'Bomm': {\\n        'age': 22,\\n        'major': 'Mathematics',\\n        'gpa': 3.5}}\\n\\n# 访问嵌套字典中的值\\nprint(students['Alili']['major'])  # Computer Science\\n# 添加新的嵌套字典\\nstudents['Charlo'] = {'age': 24, 'major': 'Physics', 'gpa': 3.6}\\nprint(students)\\n# {'Alili': {'age': 25, 'major': 'Computer Science', 'gpa': 3.8}, \\n# 'Bomm': {'age': 22, 'major': 'Mathematics', 'gpa': 3.5}, \\n# 'Charlo': {'age': 24, 'major': 'Physics', 'gpa': 3.6}}\", 'students': {'Alili': {'age': 25, 'major': 'Computer Science', 'gpa': 3.8}, 'Bomm': {'age': 22, 'major': 'Mathematics', 'gpa': 3.5}, 'Charlo': {'age': 24, 'major': 'Physics', 'gpa': 3.6}}, '_i134': 'for k,v in students.items():\\n    print(f\"key:{k},value:{v}\")\\n# key:Alili,value:{\\'age\\':25,\\'major\\':\\'Computer Science\\',\\'gpa\\':3.8}\\n# key:Bomm,value:{\\'age\\':22,\\'major\\':\\'Mathematics\\',\\'gpa\\':3.5}\\n# key:Charlo,value:{\\'age\\':24,\\'major\\':\\'Physics\\',\\'gpa\\':3.6}', 'k': 'Charlo', 'v': {'age': 24, 'major': 'Physics', 'gpa': 3.6}, '_i135': 'a = 100\\nb = 100   # 小整数在 Python 中会被缓存并共享\\nc = 1000  # 大整数则不会被缓存\\nd = 1000\\nprint(id(a)==id(b),id(c)==id(d)) # True False\\nprint(a is b, c is d)  # True False', '_i136': 'from typing import List, Tuple, Dict\\n\\n# List: 一个整数类型的列表\\nnumbers: List[int] = [1, 2, 3, 4, 5]\\nprint(numbers)  # [1, 2, 3, 4, 5]\\n# Tuple: 一个包含整数和字符串的元组\\ninfo: Tuple[int, str] = (42, \"example\")\\nprint(info)  # (42, \\'example\\')\\n# Dict: 一个键为字符串类型、值为整数类型的字典\\nscores: Dict[str, int] = {\"Alili\": 95, \"Bobo\": 88}\\nprint(scores)  # {\\'Alili\\': 95, \\'Bobo\\': 88}\\n\\nfrom collections import defaultdict, OrderedDict\\n\\n# defaultdict: 创建一个有默认值的字典\\n# 当键不存在时，自动返回指定的默认值\\ndefault_dict = defaultdict(int)\\nprint(default_dict)  # defaultdict(<class \\'int\\'>, {})\\ndefault_dict[\"a\"] += 1  # 默认值为0，所以输出结果为1\\nprint(default_dict[\"a\"])  # 1\\n# OrderedDict: 保持键值对的插入顺序\\nordered_dict = OrderedDict([(\"one\", 1), (\"two\", 2), (\"three\", 3)])\\nfor key, value in ordered_dict.items():\\n    print(key, value)\\n# one 1\\n# two 2\\n# three 3', 'List': typing.List, 'Tuple': typing.Tuple, 'Dict': typing.Dict, '__annotations__': {'numbers': typing.List[int], 'info': typing.Tuple[int, str], 'scores': typing.Dict[str, int]}, 'info': {'name': 'Alili', 'age': 25, 'city': 'New York'}, 'scores': {'Alili': 95, 'Bobo': 88}, 'defaultdict': <class 'collections.defaultdict'>, 'OrderedDict': <class 'collections.OrderedDict'>, 'default_dict': defaultdict(<class 'int'>, {'a': 1}), 'ordered_dict': OrderedDict([('one', 1), ('two', 2), ('three', 3)]), '_i137': 'age = 19   # age = input(\"请输入年龄:\")\\nif age >= 18: print(\"You are an adult.\")\\nelif age >= 13: print(\"You are a teenager.\")\\nelse: print(\"You are a child.\")', '_i138': '# 打印 0 到 4\\nfor i in range(5):\\n    print(i)', 'i': 4, '_i139': 'count = 0\\n\\nwhile count < 5:\\n    print(count)\\n    count += 1\\n\\n# 0\\n# 1\\n# 2\\n# 3\\n# 4', '_i140': '# password = \"\"\\n# while password != \"python123\":\\n#     password = input(\"Enter the password: \")\\n#     if password == \"python123\":\\n#         print(\"Access granted.\")\\n#     else:\\n#         print(\"Incorrect password. Try again.\")\\n\\n\\n# # for \\n# for _ in range(5):\\n#     password = input(\"Enter the password: \")\\n#     if password == \"python123\":\\n#         print(\"Access granted.\")\\n#     else:\\n#         print(\"Incorrect password. Try again.\")\\n        ', '_i141': 'for i in range(10):\\n    if i == 5:\\n        break\\n    print(i)\\n    \\n# 0\\n# 1\\n# 2\\n# 3\\n# 4', '_i142': 'for i in range(5):\\n    # if i == 2: continue   # 这种写法也支持\\n    if i == 2:\\n        continue\\n    print(i)\\n\\n# 0\\n# 1\\n# 3\\n# 4', '_i143': 'for i in range(5):\\n    if i == 2:\\n        pass  # 暂不处理\\n    print(i)\\n\\n# 0\\n# 1\\n# 2\\n# 3\\n# 4', '_i144': \"strings = ['a', 'as', 'bat', 'car', 'haha', 'python']\\n[x.upper() for x in strings if len(x) > 2]\\n# ['BAT', 'CAR', 'HAHA', 'PYTHON']\", '_144': ['BAT', 'CAR', 'HAHA', 'PYTHON'], '_i145': \"# 集合推导式\\nstrings = ['a', 'as', 'bat', 'car', 'haha', 'python']\\n\\nunique_lengths = {len(x) for x in strings}\\nprint(unique_lengths)  # {1, 2, 3, 4, 6}\", 'unique_lengths': {1, 2, 3, 4, 6}, '_i146': '# 字典推导式\\nnumbers = [1, 2, 3, 4]\\nsquares_dict = {num: num ** 2 for num in numbers}\\nprint(squares_dict)  # {1: 1, 2: 4, 3: 9, 4: 16}\\n\\n# 原始字典，值为字符串类型\\noriginal = {\\'Alili\\': \\'Female\\', \\'Bomm\\': \\'Male\\', \\'Charlo\\': \\'Male\\', \\n            \\'Daisy\\': \\'Female\\'}\\n# 保留 \"Male\" 性别且键名以 \"B\" 开头的项\\nfiltered = {\\n    name: gender\\n    for name, gender in original.items()\\n    if gender == \\'Male\\' and name.startswith(\\'B\\')}\\nprint(filtered)  # {\\'Bomm\\': \\'Male\\'}\\n# 给定字典是 {字段名: 值}，反转它成 {值: 字段名} 形式\\ninfo = {\\'name\\': \\'Alili\\', \\'age\\': 25, \\'city\\': \\'New York\\'}\\nreversed_dict = {value: key for key, value in info.items()}\\nprint(reversed_dict)\\n# {\\'Alili\\': \\'name\\', 25: \\'age\\', \\'New York\\': \\'city\\'}', 'squares_dict': {1: 1, 2: 4, 3: 9, 4: 16}, 'original': {'Alili': 'Female', 'Bomm': 'Male', 'Charlo': 'Male', 'Daisy': 'Female'}, 'filtered': {'Bomm': 'Male'}, 'reversed_dict': {'Alili': 'name', 25: 'age', 'New York': 'city'}, '_i147': \"s = ['1', 'as', 'bat', 'god', 'boom', 'python']\\n\\nunique_lens = {len(x) for x in s}\\nprint(unique_lens)  # {1, 2, 3, 4, 6}\\n\\nunique_lens_b = set(map(len, s))  \\nprint(unique_lens_b)  # {1, 2, 3, 4, 6}\\n\\n# 构建一个字典推导式,创建一个字符串的查找映射表以确定它在列表中的位置\\nidx_mapping = {val : index for index, val in enumerate(s)}\\nprint(idx_mapping)\\n# {'1': 0, 'as': 1, 'bat': 2, 'god': 3, 'boom': 4, 'python': 5}\", 'unique_lens': {1, 2, 3, 4, 6}, 'unique_lens_b': {1, 2, 3, 4, 6}, 'idx_mapping': {'1': 0, 'as': 1, 'bat': 2, 'god': 3, 'boom': 4, 'python': 5}, '_i148': \"all_data = [['Johnn', 'Emly', 'Mikhael', 'Marny', 'Steven'], ['Marian', 'Juany', 'Javieru', 'Natalia', 'Pilar']]\", '_i149': \"names_of_interest = []\\nfor names in all_data:\\n    enough_es = [name for name in names if name.count('e') > 1]\\n    names_of_interest.extend(enough_es)\\nnames_of_interest  # ['Steven']\", '_149': ['Steven'], '_i150': \"result = [name for names in all_data for name in names if name.count('e') > 1]\\nprint(result)   # ['Steven']\", '_i151': '# try-except\\n\\ndef divide(a, b):\\n    try:\\n        result = a / b\\n    except ZeroDivisionError as e:\\n        print(\"错误：除数为0！\")\\n        return None\\n    else:\\n        print(\"除法运算成功。\")\\n        return result\\n\\nres = divide(10, 2)\\nprint(\"结果：\", res)\\n# 除法运算成功。\\n# 结果： 5.0\\nres = divide(5, 0)\\nprint(\"结果：\", res)\\n# 错误：除数为0！\\n# 结果： None', 'divide': <function divide at 0x0000024D5E271430>, 'res': None, '_i152': 'def divide_b(a, b):\\n    result = None  # 先在函数开始处定义一个默认值，避免局部变量未定义\\n\\n    try:\\n        result = a / b\\n    except ZeroDivisionError:\\n        print(\"错误：除数不能为 0！\")\\n    except TypeError:\\n        print(\"错误：类型不匹配，无法进行除法运算！\")\\n    finally:\\n        # finally 块中的代码无论是否发生异常都会被执行\\n        if result is not None:\\n            # 如果 result 在 try 中成功被赋值，则返回它\\n            return result\\n        else:\\n            # 如果 result 仍是 None，说明出现了异常或其他问题\\n            print(f\"无法正常计算 {a} 除以 {b}\")\\n            return None\\n\\nprint(divide_b(4,2))\\n# 2.0\\n\\nprint(divide_b(2,\\'a\\'))\\n# 错误：类型不匹配，无法进行除法运算！\\n# 无法正常计算 2 除以 a\\n# None', 'divide_b': <function divide_b at 0x0000024D5E2181F0>, '_i153': 'def divide(a, b):\\n    if b == 0:\\n        raise ZeroDivisionError(\"除数不能为零\")\\n    return a / b\\n\\ntry:\\n    result = divide(10, 0)\\nexcept ZeroDivisionError as e:\\n    print(f\"错误: {e}\")\\n# 错误: 除数不能为零', '_i154': 'nums = [1, 2, 3]\\n\\nassert isinstance(nums, list) and len(nums) > 0, \"数据必须是非空列表\"\\n\\nprint(nums)  # assert 语句通过\\n\\nassert isinstance(nums, list) and len(nums) > 3, \"数据必须是非空列表且包含不少于4个元素\"\\nprint(nums)  # AssertionError: 数据必须是非空列表且包含不少于4个元素', '_i155': '# 返回一个或多个变量(通常是一个元组)\\ndef min_and_max(numbers):\\n    \"\"\"返回给定列表的最小值和最大值\"\"\"\\n    return min(numbers), max(numbers)\\nnums = [3, 1, 5, 2, 4]\\nprint(type(min_and_max(nums)))    # <class \\'tuple\\'>\\nlowest, highest = min_and_max(nums)\\nprint(lowest, highest)  # 输出: 1 5\\n\\n# 没有return\\ndef do_nothing(): pass\\nresult = do_nothing()\\nprint(result)  # None\\n\\ndef my_function(x, y, z=1.5):  \\n    if z > 1: return z * (x + y)\\n    else: return z / (x + y)\\n# 使用\\nprint(my_function(1,2))  # 按照定义时的参数顺序来传递值\\n# 4.5\\nprint(my_function(z=3,x=2,y=4))  # 显式地通过参数名来传递值，顺序随意\\n# 18', '_i156': 'def greet(name, message):\\n    print(f\"{message}, {name}!\")\\n\\ngreet(\"Python\", \"Hello\")  # Hello, Python! \\n# 按顺序传递: name=\"Python\", message=\"Hello\"', '_i157': 'def greet(name, message):\\n    print(f\"{message}, {name}!\")\\n\\n# 使用关键字参数，顺序随意\\ngreet(message=\"Hi\", name=\"Python\") # Hi, Python!', '_i158': 'def greet(name, message=\"Hello\"):\\n    print(f\"{message}, {name}!\")\\n\\n# 只传name，message使用默认值\"Hello\"\\ngreet(\"Charlo\")  # HHello, Charlo!\\n# 同时传递两个参数\\ngreet(\"Daissy\", \"Hi\")  # Hi, Daissy!', '_i159': 'def add_numbers(*args):\\n    total = 0\\n    for num in args:\\n        total += num\\n    return total\\n\\nprint(add_numbers(1, 2, 3))       # 6\\nprint(add_numbers(10, 20, 30, 5)) # 65', '_i160': 'def build_profile(first_name, last_name, **kwargs):\\n    profile = {\"first_name\": first_name, \"last_name\": last_name}\\n    # 将额外的关键字参数更新到profile字典中\\n    for key, value in kwargs.items():\\n        profile[key] = value\\n    return profile\\n\\nuser_profile = build_profile(\"Alili\", \"Smith\", location=\"New York\", age=30, hobby=\"Reading\")\\nprint(user_profile)\\n# {\\'first_name\\': \\'Alili\\', \\'last_name\\': \\'Smith\\', \\'location\\': \\'New York\\', \\'age\\': 30, \\'hobby\\': \\'Reading\\'}\\n\\n# 在这个示例中，除了 first_name 和 last_name 外，\\n# 任何其他的关键字参数（location=\"New York\", age=30, hobby=\"Reading\"）都会被聚合到 kwargs 这个字典里。', '_i161': 'def show_info(a, b, c):\\n    print(a, b, c)\\n\\ndata = {\"a\": 1, \"b\": 2, \"c\": 3}\\nshow_info(**data)  # 等价于 show_info(a=1, b=2, c=3)', '_i162': '# 将列表中每个数值平方\\nnumbers = [1, 2, 3, 4]\\nsquared = list(map(lambda x: x**2, numbers))\\nprint(squared)  # 输出: [1, 4, 9, 16]\\n\\n# lambda 语句 等价于  fun_square\\ndef fun_square(x):\\n    return x ** 2\\nsquared_b = list(map(fun_square, numbers))\\nprint(squared_b)  # 输出: [1, 4, 9, 16]\\n    \\n# squared_c = [x ** 2 for x in numbers]', '_i163': 'def add_nums(a, b):\\n    return a + b', '_i164': 'add_five = lambda y: add_nums(5, y)', '_i165': 'from functools import partial\\nadd_five = partial(add_nums, 5)\\nprint(add_five)\\n# functools.partial(<function add_nums at 0x00000222C2976B90>, 5)\\nprint(add_five(1)) \\n# 6', '_i166': 'a = None\\ndef bind_a_variable():\\n    global a\\n    a = []\\nbind_a_variable()\\nprint(a)  # []', '_i167': 'def outer():\\n    def inner():\\n        print(\"这是内部函数\")\\n    print(\"调用内部函数之前\")\\n    inner()\\nouter()\\n\\n# 调用内部函数之前\\n# 这是内部函数', 'outer': <function outer at 0x0000024D5E13D0D0>, '_i168': 'def make_multiplier(n):\\n    def multiplier(x):\\n        return x * n\\n    return multiplier\\n\\ntimes2 = make_multiplier(2)\\nprint(times2(5))  # 10', 'make_multiplier': <function make_multiplier at 0x0000024D5E13D790>, 'times2': <function make_multiplier.<locals>.multiplier at 0x0000024D5E271790>, '_i169': '# 打开一个文件\\nf = open(\"example.txt\", \"w\")\\nprint(\"文件名: \", f.name)  # 文件名:  example.txt\\nprint(\"是否已关闭 : \", f.closed)  # 是否已关闭 :  False\\nprint(\"访问模式 : \", f.mode)  # 访问模式 :  w\\nf.close()', 'f': <_io.TextIOWrapper name='data.json' mode='r' encoding='utf-8'>, '_i170': '# open()  close\\nf = open(\"example.txt\", mode=\"r\", encoding=\"utf-8\")  # 打开文本文件\\ncontent = f.read()\\nf.close()  # 操作完毕后，务必手动关闭', 'content': '', '_i171': 'with open(\"example.txt\", \"r\", encoding=\"utf-8\") as f:\\n    content = f.read()\\n    # 在这里可以对 content 做各种处理\\n\\n# with 块结束后，文件会自动关闭，无需手动 f.close()', '_i172': '# 写入\\nf = open(\"example.txt\", \"w\", encoding=\"utf-8\")\\nf.write(\"这是写入文本文件的第一行\\\\n\")\\nf.write(\"这是第二行\\\\n\")\\nf.close()\\n\\n# 按行读取 \\nwith open(\"example.txt\", \"r\", encoding=\"utf-8\") as f:\\n    for line in f:\\n        line = line.strip()  # 去掉行末尾的换行符或空白\\n        print(line)\\n# 这是写入文本文件的第一行\\n# 这是第二行\\n\\n# line.strip() 去除两端的空白字符，包括 \\\\n、空格等。\\n# 如果只想去除换行符，也可用 line.rstrip(\"\\\\n\")。', 'line': '这是第二行', '_i173': 'import json\\ndata = {\\n    \"name\": \"Alili\",\\n    \"age\": 25,\\n    \"skills\": [\"Python\", \"Data Analysis\"]}\\n\\n# 写入JSON文件\\nwith open(\"data.json\", \"w\", encoding=\"utf-8\") as f:\\n    json.dump(data, f, ensure_ascii=False, indent=4)\\n\\n# 读取JSON文件\\nwith open(\"data.json\", \"r\", encoding=\"utf-8\") as f:\\n    loaded_data = json.load(f)\\n\\nprint(loaded_data)\\n# {\\'name\\': \\'Alili\\', \\'age\\': 25, \\'skills\\': [\\'Python\\', \\'Data Analysis\\']}\\n\\n# ensure_ascii=False 可以在写入 JSON 时保留非 ASCII 字符（如中文），避免出现 \\\\uXXXX 形式。\\n# indent=4 表示写入时缩进 4 个空格，方便阅读。', 'json': <module 'json' from 'd:\\\\anaconda\\\\envs\\\\envq\\\\lib\\\\json\\\\__init__.py'>, 'loaded_data': {'name': 'Alili', 'age': 25, 'skills': ['Python', 'Data Analysis']}, '_i174': 'def count_up_to(max):\\n    count = 1\\n    while count <= max:\\n        yield count  # 返回当前计数，并暂停函数状态\\n        count += 1\\n\\n# 使用生成器函数\\ncounter = count_up_to(3)\\n\\nprint(next(counter))  # 1\\nprint(next(counter))  # 2\\nprint(next(counter))  # 3\\n# print(next(counter))  # 会引发 StopIteration', 'count_up_to': <function count_up_to at 0x0000024D5E38E1F0>, 'counter': <generator object count_up_to at 0x0000024D5E2CF7B0>, '_i175': '# 创建一个生成器表达式\\nsquares_gen = (x**2 for x in range(1, 4))\\n\\nprint(next(squares_gen))  # 1\\nprint(next(squares_gen))  # 4\\nprint(next(squares_gen))  # 9\\n# print(next(squares_gen))  # 会引发 StopIteration', 'squares_gen': <generator object <genexpr> at 0x0000024D5E2CF3C0>, '_i176': 'def fibonacci(n):\\n    a, b = 0, 1\\n    for _ in range(n):\\n        yield a\\n        a, b = b, a + b\\n\\n# 创建一个Fibonacci生成器\\nfib_gen = fibonacci(5)\\n\\nfor num in fib_gen:\\n    print(num)\\n\\n# 0\\n# 1\\n# 1\\n# 2\\n# 3', 'fibonacci': <function fibonacci at 0x0000024D5E356AF0>, 'fib_gen': <generator object fibonacci at 0x0000024D5E2CF9E0>, 'num': 3, '_i177': '# 创建一个生成器表达式，生成1到5的立方\\ncubes_gen = (x**3 for x in range(1, 6))\\n\\nfor cube in cubes_gen:\\n    print(cube)\\n# 1\\n# 8\\n# 27\\n# 64\\n# 125', 'cubes_gen': <generator object <genexpr> at 0x0000024D5E39D740>, 'cube': 125, '_i178': '# 使用生成器函数生成平方数\\n\\ndef generate_squares(n):\\n    for x in range(1, n + 1):\\n        yield x**2\\n\\nsquares = generate_squares(5)\\n\\nfor square in squares:\\n    print(square)\\n\\n# 1\\n# 4\\n# 9\\n# 16\\n# 25', 'generate_squares': <function generate_squares at 0x0000024D5DA7DEE0>, 'squares': <generator object generate_squares at 0x0000024D5E2D70B0>, 'square': 25, '_i179': 'def echo():\\n    while True:\\n        value = yield\\n        print(f\"Echo: {value}\")\\n\\n# 创建生成器\\ne = echo()\\nnext(e)  # 启动生成器\\n\\n# 发送数据\\ne.send(\"Hello\")  # Echo: Hello\\ne.send(\"World\")  # Echo: World', '_i180': 'def generator():\\n    try:\\n        yield 1\\n        yield 2\\n        yield 3\\n    except GeneratorExit:\\n        print(\"Generator closed.\")\\n\\ngen = generator()\\nprint(next(gen))  # 1\\ngen.close()      # Generator closed.', 'generator': <function generator at 0x0000024D5E271700>, 'gen': <generator object generator at 0x0000024D5E39DAC0>, '_i181': \"import itertools\\nfirst_letter = lambda x: x[0]\\nnames = ['Aln', 'Ada', 'Wes', 'Wi', 'Albe', 'Sten']\\nfor letter, names in itertools.groupby(names, first_letter):\\n    print(letter, list(names)) # names is a generator\\n\\n# A ['Aln', 'Ada']\\n# W ['Wes', 'Wi']\\n# A ['Albe']\\n# S ['Sten']\", '_i182': \"# 获取迭代器\\n# 可以使用内置函数 iter() 将可迭代对象转换为迭代器。\\n# 创建一个列表\\nfruits = ['apple', 'banana', 'cherry']\\n# 获取列表的迭代器\\nfruits_iterator = iter(fruits)\\n# 使用 next() 获取元素\\nprint(next(fruits_iterator))  # apple\\nprint(next(fruits_iterator))  # banana\\nprint(next(fruits_iterator))  # cherry\\n# 再调用 next() 会引发 StopIteration 异常\\n# print(next(fruits_iterator))  # 会引发 StopIteration\", 'fruits_iterator': <list_iterator object at 0x0000024D5E238AC0>, '_i183': \"# for 循环内部使用迭代器机制，自动处理 StopIteration 异常。\\nfruits = ['apple', 'banana', 'cherry']\\nfor fruit in fruits:\\n    print(fruit)\\n# apple\\n# banana\\n# cherry\", '_i184': 'class MyIterator:\\n    def __init__(self, start, end):\\n        self.current = start\\n        self.end = end\\n    def __iter__(self):\\n        return self  # 迭代器返回自身\\n    def __next__(self):\\n        if self.current >= self.end:\\n            raise StopIteration  # 没有更多元素时引发异常\\n        self.current += 1\\n        return self.current - 1\\n# 使用自定义迭代器\\nmy_iter = MyIterator(1, 4)\\nfor num in my_iter:\\n    print(num)  # 1 2 3', 'MyIterator': <class '__main__.MyIterator'>, 'my_iter': <__main__.MyIterator object at 0x0000024D5E1891C0>, '_i185': '# 创建一个简单的迭代器\\n\\nclass Countdown:\\n    def __init__(self, start):\\n        self.current = start\\n\\n    def __iter__(self):\\n        return self\\n\\n    def __next__(self):\\n        if self.current <= 0:\\n            raise StopIteration\\n        self.current -= 1\\n        return self.current\\n\\n# 使用迭代器\\nfor number in Countdown(3):\\n    print(number)\\n\\n# 2\\n# 1\\n# 0', '_i186': '# 使用生成器表达式筛选偶数\\n\\nnumbers = range(1, 11)\\nevens_gen = (x for x in numbers if x % 2 == 0)\\n\\nfor even in evens_gen:\\n    print(even)\\n\\n# 2\\n# 4\\n# 6\\n# 8\\n# 10', 'evens_gen': <generator object <genexpr> at 0x0000024D5E2D7430>, 'even': 10, '_i187': 'class Person:\\n    \"\"\"代表一个人的类\"\"\"\\n    def __init__(self, name, age):\\n        # __init__ 是构造方法，用于初始化对象属性\\n        self.name = name\\n        self.age = age\\n    def greet(self):\\n        # self 是对实例自身的引用，在定义实例方法时必须作为第一个参数\\n        print(f\"Hello, I am {self.name}, and I\\'m {self.age} years old.\")', '_i188': 'person1 = Person(\"Alili\", 25)\\nperson2 = Person(\"Bomm\", 30)\\n\\nperson1.greet()  # Hello, I am Alili, and I\\'m 25 years old.\\nperson2.greet()  # Hello, I am Bomm, and I\\'m 30 years old.', '_i189': 'class Car:\\n    # 类属性\\n    wheels = 4\\n    def __init__(self, brand, model):\\n        # 实例属性\\n        self.brand = brand\\n        self.model = model\\n\\ncar1 = Car(\"车a\", \"x-a\")\\ncar2 = Car(\"车b\", \"x-b\")\\n\\nprint(car1.wheels, car2.wheels)  # 都是 4（共享）\\nprint(car1.brand, car2.brand)    # 车a, 车b（不同）', '_i190': 'class MyClass:\\n    count = 0\\n\\n    def __init__(self):\\n        MyClass.count += 1\\n\\n    @classmethod\\n    def how_many(cls):\\n        return cls.count\\n\\nx1 = MyClass()\\nx2 = MyClass()\\nprint(MyClass.how_many())  # 2', '_i191': 'class MathHelper:\\n    @staticmethod\\n    def add(a, b):\\n        return a + b\\n\\nprint(MathHelper.add(3, 4))  # 7', '_i192': '# 自定义一个简单的类，为其实现 __str__ 和 __len__。\\n\\nclass MyList:\\n    def __init__(self, items):\\n        self.items = items\\n\\n    def __str__(self):\\n        return f\"MyList: {self.items}\"\\n\\n    def __len__(self):\\n        return len(self.items)\\n\\nlst = MyList([4, 2, 3])\\nprint(lst)         # MyList: [4, 2, 3]\\nprint(len(lst))    # 3', '_i193': '#  练习1：定义一个类描述数字时钟。 \\n\\nfrom time import sleep\\nclass Clock(object):\\n    \"\"\"数字时钟\"\"\"\\n\\n    def __init__(self, hour=0, minute=0, second=0):\\n        \"\"\"初始化方法\\n        :param hour: 时\\n        :param minute: 分\\n        :param second: 秒\\n        \"\"\"\\n        self._hour = hour\\n        self._minute = minute\\n        self._second = second\\n\\n    def run(self):\\n        \"\"\"走字\"\"\"\\n        self._second += 1\\n        if self._second == 60:\\n            self._second = 0\\n            self._minute += 1\\n            if self._minute == 60:\\n                self._minute = 0\\n                self._hour += 1\\n                if self._hour == 24:\\n                    self._hour = 0\\n\\n    def show(self):\\n        \"\"\"显示时间\"\"\"\\n        return \\'%02d:%02d:%02d\\' % \\\\\\n               (self._hour, self._minute, self._second)\\n\\n\\nclock = Clock(23,54,58)\\nwhile True:\\n    print(clock.show())\\n    sleep(1)\\n    clock.run()', 'sleep': <built-in function sleep>, 'Clock': <class '__main__.Clock'>, 'clock': <__main__.Clock object at 0x0000024D5E2A4C70>, '_i194': '#  练习1：定义一个类描述数字时钟。 \\n\\nfrom time import sleep\\nclass Clock(object):\\n    \"\"\"数字时钟\"\"\"\\n\\n    def __init__(self, hour=0, minute=0, second=0):\\n        \"\"\"初始化方法\\n        :param hour: 时\\n        :param minute: 分\\n        :param second: 秒\\n        \"\"\"\\n        self._hour = hour\\n        self._minute = minute\\n        self._second = second\\n\\n    def run(self):\\n        \"\"\"走字\"\"\"\\n        self._second += 1\\n        if self._second == 60:\\n            self._second = 0\\n            self._minute += 1\\n            if self._minute == 60:\\n                self._minute = 0\\n                self._hour += 1\\n                if self._hour == 24:\\n                    self._hour = 0\\n\\n    def show(self):\\n        \"\"\"显示时间\"\"\"\\n        return \\'%02d:%02d:%02d\\' % \\\\\\n               (self._hour, self._minute, self._second)\\n\\n\\n# clock = Clock(23,54,58)\\n# while True:\\n#     print(clock.show())\\n#     sleep(1)\\n#     clock.run()', '_i195': '# 练习2：定义一个类描述平面上的点并提供移动点和计算到另一个点距离的方法。\\nfrom math import sqrt\\n\\nclass Point(object):\\n\\n    def __init__(self, x=0, y=0):\\n        \"\"\"初始化方法\\n        \\n        :param x: 横坐标\\n        :param y: 纵坐标\\n        \"\"\"\\n        self.x = x\\n        self.y = y\\n\\n    def move_to(self, x, y):\\n        \"\"\"移动到指定位置\\n        \\n        :param x: 新的横坐标\\n        \"param y: 新的纵坐标\\n        \"\"\"\\n        self.x = x\\n        self.y = y\\n\\n    def move_by(self, dx, dy):\\n        \"\"\"移动指定的增量\\n        \\n        :param dx: 横坐标的增量\\n        \"param dy: 纵坐标的增量\\n        \"\"\"\\n        self.x += dx\\n        self.y += dy\\n\\n    def distance_to(self, other):\\n        \"\"\"计算与另一个点的距离\\n        \\n        :param other: 另一个点\\n        \"\"\"\\n        dx = self.x - other.x\\n        dy = self.y - other.y\\n        return sqrt(dx ** 2 + dy ** 2)\\n\\n    def __str__(self):\\n        return \\'(%s, %s)\\' % (str(self.x), str(self.y))\\n\\n\\np1 = Point(4, 5)\\np2 = Point()\\nprint(p1)\\nprint(p2)\\np2.move_by(-1, 3)\\nprint(p2)\\nprint(p1.distance_to(p2))\\n\\n# (4, 5)\\n# (0, 0)\\n# (-1, 3)\\n# 5.385164807134504', '_i196': 'def decorator(func):\\n    def wrapper():\\n        print(\"Before function call\")\\n        func()  # 调用原始函数\\n        print(\"After function call\")\\n    return wrapper\\n\\n@decorator  # 等价于 func = decorator(func)\\ndef say_hello():\\n    print(\"Hello!\")\\n\\nsay_hello()  \\n# Before function call\\n# Hello!\\n# After function call', 'decorator': <function decorator at 0x0000024D5E1AD550>, 'say_hello': <function decorator.<locals>.wrapper at 0x0000024D5E3A5670>, '_i197': 'class OpTest:\\n    \"\"\"访问可见性简单测试\"\"\"\\n    def __init__(self, insA):\\n        self.__insA = insA\\n    def __qst(self):\\n        print(self.__insA)\\n        print(\"__qst\")\\n\\ndef main():\\n    test = OpTest(\\'Hello\\')\\n    # test.__qst()\\n    # # AttributeError: \\'OpTest\\' object has no attribute \\'__qst\\'\\n    print(test.__qst)\\n    # AttributeError: \\'OpTest\\' object has no attribute \\'__qst\\'\\nmain()', '_i198': 'class OpTest:\\n    \"\"\"访问可见性简单测试\"\"\"\\n    \\n    def __init__(self, insA):\\n        self.__insA = insA\\n    \\n    def __qst(self):\\n        print(self.__insA)\\n        print(\"__qst\")\\n\\ndef main():\\n    test = OpTest(\\'Hello\\')\\n    \\n    test._OpTest__qst()\\n    print(test._OpTest__insA)\\n    \\nmain()\\n\\n# Hello\\n# __qst\\n# Hello', '_i199': '# @property包装器来包装getter和setter方法，使得对属性的访问既安全又方便\\nclass Person(object):\\n\\n    def __init__(self, name, age):\\n        self._name = name\\n        self._age = age\\n\\n    # 访问器 - getter方法\\n    @property\\n    def name(self):\\n        return self._name\\n\\n    # 访问器 - getter方法\\n    @property\\n    def age(self):\\n        return self._age\\n\\n    # 修改器 - setter方法\\n    @age.setter\\n    def age(self, age):\\n        self._age = age\\n\\n    def play(self):\\n        if self._age <= 16:\\n            print(f\"{self.name}在玩这\")\\n        else:\\n            print(f\"{self.name}在玩那\")\\n\\nperson = Person(\\'abc\\', 12)\\nperson.play()\\nperson.age = 22\\nperson.play()\\n# abc在玩这\\n# abc在玩那\\n\\n# person.name = \\'另一个人\\'  # AttributeError: can\\'t set attribute\\nperson.age = 10000\\nprint(person.age)  # 10000', '_i200': 'class Person(object):\\n    # 限定Person对象只能绑定_name, _age和_gender属性\\n    __slots__ = (\\'_name\\', \\'_age\\', \\'_gender\\')\\n    def __init__(self, name, age):\\n        self._name = name\\n        self._age = age\\n    @property\\n    def name(self):\\n        return self._name\\n    @property\\n    def age(self):\\n        return self._age\\n    @age.setter\\n    def age(self, age):\\n        self._age = age\\n    def play(self):\\n        if self._age <= 16:\\n            print(f\"{self.name}在玩\")\\n        else:\\n            print(f\"{self.name}在睡觉\")\\n\\nperson = Person(\\'aaa\\', 22)\\nperson.play()\\nperson._gender = \\'男\\'\\n# aaa在睡觉\\n\\n# # AttributeError: \\'Person\\' object has no attribute \\'_is_bad\\'\\n# person._is_bad = True', '_i201': \"from math import sqrt\\n\\n\\nclass Triangle(object):\\n\\n    def __init__(self, a, b, c):\\n        self._a = a\\n        self._b = b\\n        self._c = c\\n\\n    @staticmethod\\n    def is_valid(a, b, c):\\n        return a + b > c and b + c > a and a + c > b\\n\\n    def perimeter(self):\\n        return self._a + self._b + self._c\\n\\n    def area(self):\\n        half = self.perimeter() / 2\\n        return sqrt(half * (half - self._a) *\\n                    (half - self._b) * (half - self._c))\\n\\ndef main():\\n    a, b, c = 10, 8, 3\\n    # 静态方法和类方法都是通过给类发消息来调用的\\n    if Triangle.is_valid(a, b, c):\\n        t = Triangle(a, b, c)\\n        print(t.perimeter())\\n        # 也可以通过给类发消息来调用对象方法但是要传入接收消息的对象作为参数\\n        # print(Triangle.perimeter(t))\\n        print(t.area())\\n        # print(Triangle.area(t))\\n    else:\\n        print('无法构成三角形.')\\n\\nmain()\\n# 21\\n# 9.921567416492215\", '_i202': 'from time import time, localtime, sleep\\n\\n\\nclass Clock(object):\\n    \"\"\"数字时钟\"\"\"\\n\\n    def __init__(self, hour=0, minute=0, second=0):\\n        self._hour = hour\\n        self._minute = minute\\n        self._second = second\\n\\n    @classmethod\\n    def now(cls):\\n        ctime = localtime(time())\\n        return cls(ctime.tm_hour, ctime.tm_min, ctime.tm_sec)\\n\\n    def run(self):\\n        \"\"\"走字\"\"\"\\n        self._second += 1\\n        if self._second == 60:\\n            self._second = 0\\n            self._minute += 1\\n            if self._minute == 60:\\n                self._minute = 0\\n                self._hour += 1\\n                if self._hour == 24:\\n                    self._hour = 0\\n\\n    def show(self):\\n        \"\"\"显示时间\"\"\"\\n        return \\'%02d:%02d:%02d\\' % \\\\\\n               (self._hour, self._minute, self._second)\\n\\n# 通过类方法创建对象并获取系统时间\\nclock = Clock.now()\\nwhile True:\\n    print(clock.show())\\n    sleep(1)\\n    clock.run()', 'time': <built-in function time>, 'localtime': <built-in function localtime>, '_i203': 'from time import time, localtime, sleep\\n\\n\\nclass Clock(object):\\n    \"\"\"数字时钟\"\"\"\\n\\n    def __init__(self, hour=0, minute=0, second=0):\\n        self._hour = hour\\n        self._minute = minute\\n        self._second = second\\n\\n    @classmethod\\n    def now(cls):\\n        ctime = localtime(time())\\n        return cls(ctime.tm_hour, ctime.tm_min, ctime.tm_sec)\\n\\n    def run(self):\\n        \"\"\"走字\"\"\"\\n        self._second += 1\\n        if self._second == 60:\\n            self._second = 0\\n            self._minute += 1\\n            if self._minute == 60:\\n                self._minute = 0\\n                self._hour += 1\\n                if self._hour == 24:\\n                    self._hour = 0\\n\\n    def show(self):\\n        \"\"\"显示时间\"\"\"\\n        return \\'%02d:%02d:%02d\\' % \\\\\\n               (self._hour, self._minute, self._second)\\n\\n# # 通过类方法创建对象并获取系统时间\\n# clock = Clock.now()\\n# while True:\\n#     print(clock.show())\\n#     sleep(1)\\n#     clock.run()', '_i204': 'class Person(object):\\n    \"\"\"人\"\"\"\\n    def __init__(self, name, age):\\n        self._name = name\\n        self._age = age\\n        \\n    @property\\n    def name(self):\\n        return self._name\\n\\n    @property\\n    def age(self):\\n        return self._age\\n\\n    @age.setter\\n    def age(self, age):\\n        self._age = age\\n\\n    def play(self): print(f\"{self.name}玩疯了\")\\n    def watch_tv(self):\\n        if self._age >= 18: print(f\"{self.name}看电视睡着了\")\\n        else: print(f\"{self.name}不看电视\")\\n\\nclass Student(Person):\\n    \"\"\"学生\"\"\"\\n    def __init__(self, name, age, grade):\\n        super().__init__(name, age)\\n        self._grade = grade\\n\\n    @property\\n    def grade(self):\\n        return self._grade\\n\\n    @grade.setter\\n    def grade(self, grade):\\n        self._grade = grade\\n\\n    def study(self, course): print(f\"{self._grade}的{self._name}在学{course}\")\\n\\nclass Teacher(Person):\\n    \"\"\"老师\"\"\"\\n    def __init__(self, name, age, title):\\n        super().__init__(name, age)\\n        self._title = title\\n\\n    @property\\n    def title(self):\\n        return self._title\\n\\n    @title.setter\\n    def title(self, title):\\n        self._title = title\\n        \\n    def teach(self, course): print(f\"{self._name}{self._title}在授课{course}\")\\n\\nstu = Student(\\'学生a\\', 15, \\'初三\\')\\nstu.study(\\'数学\\')\\nstu.watch_tv()\\nt = Teacher(\\'无敌\\', 49, \\'程序员\\')\\nt.teach(\\'Python如何打印helloworld\\')\\nt.watch_tv()\\n\\n# 初三的学生a在学数学\\n# 学生a不看电视\\n# 无敌程序员在授课Python如何打印helloworld\\n# 无敌看电视睡着了', '_i205': 'from abc import ABCMeta, abstractmethod\\n\\nclass Pet(object, metaclass=ABCMeta):\\n    \"\"\"宠物\"\"\"\\n    def __init__(self, nickname):\\n        self._nickname = nickname\\n    @abstractmethod\\n    def make_voice(self):\\n        \"\"\"发出声音\"\"\"\\n        pass\\n\\nclass Dog(Pet):\\n    \"\"\"狗\"\"\"\\n    def make_voice(self):\\n        print(\\'%s: 汪汪汪...\\' % self._nickname)\\n\\nclass Cat(Pet):\\n    \"\"\"猫\"\"\"\\n    def make_voice(self):\\n        print(\\'%s: 喵...喵...\\' % self._nickname)\\n\\npets = [Dog(\\'狗a\\'), Cat(\\'猫a\\'), Dog(\\'另一只狗\\')]\\nfor pet in pets:\\n    pet.make_voice()\\n\\n# 狗a: 汪汪汪...\\n# 猫a: 喵...喵...\\n# 另一只狗: 汪汪汪...', '_i206': \"from abc import ABCMeta, abstractmethod\\nclass Pet(object, metaclass=ABCMeta):\\n    def __init__(self, nickname):\\n        self._nickname = nickname\\n    @abstractmethod\\n    def make_voice(self): pass\\nclass Dog(Pet):\\n    def make_voice(self): print('%s: 汪汪汪...' % self._nickname)\\nclass Cat(Pet):\\n    def make_voice(self): print('%s: 喵...喵...' % self._nickname)\\n\\npets = [Dog('狗a'), Cat('猫a'), Dog('另一只狗')]\\nfor pet in pets:\\n    pet.make_voice()\\n# 狗a: 汪汪汪...\\n# 猫a: 喵...喵...\\n# 另一只狗: 汪汪汪...\", '_i207': '# 综合案例1：奥特曼打小怪兽。\\n\\nfrom abc import ABCMeta, abstractmethod\\nfrom random import randint, randrange\\n\\nclass Fighter(object, metaclass=ABCMeta):\\n    \"\"\"战斗者\"\"\"\\n    # 通过__slots__魔法限定对象可以绑定的成员变量\\n    __slots__ = (\\'_name\\', \\'_hp\\')\\n    def __init__(self, name, hp):\\n        \"\"\"初始化方法\\n        :param name: 名字\\n        :param hp: 生命值\\n        \"\"\"\\n        self._name = name\\n        self._hp = hp\\n    @property\\n    def name(self):\\n        return self._name\\n    @property\\n    def hp(self):\\n        return self._hp\\n    @hp.setter\\n    def hp(self, hp):\\n        self._hp = hp if hp >= 0 else 0\\n    @property\\n    def alive(self):\\n        return self._hp > 0\\n    @abstractmethod\\n    def attack(self, other):\\n        \"\"\"攻击\\n        :param other: 被攻击的对象\\n        \"\"\"\\n        pass\\n\\nclass Ultraman(Fighter):\\n    \"\"\"奥特曼\"\"\"\\n    __slots__ = (\\'_name\\', \\'_hp\\', \\'_mp\\')\\n    def __init__(self, name, hp, mp):\\n        \"\"\"初始化方法\\n        :param name: 名字\\n        :param hp: 生命值\\n        :param mp: 魔法值\\n        \"\"\"\\n        super().__init__(name, hp)\\n        self._mp = mp\\n    def attack(self, other):\\n        other.hp -= randint(15, 25)\\n    def huge_attack(self, other):\\n        \"\"\"究极必杀技(打掉对方至少50点或四分之三的血)\\n        :param other: 被攻击的对象\\n        :return: 使用成功返回True否则返回False\\n        \"\"\"\\n        if self._mp >= 50:\\n            self._mp -= 50\\n            injury = other.hp * 3 // 4\\n            injury = injury if injury >= 50 else 50\\n            other.hp -= injury\\n            return True\\n        else:\\n            self.attack(other)\\n            return False\\n    def magic_attack(self, others):\\n        \"\"\"魔法攻击\\n        :param others: 被攻击的群体\\n        :return: 使用魔法成功返回True否则返回False\\n        \"\"\"\\n        if self._mp >= 20:\\n            self._mp -= 20\\n            for temp in others:\\n                if temp.alive:\\n                    temp.hp -= randint(10, 15)\\n            return True\\n        else:\\n            return False\\n    def resume(self):\\n        \"\"\"恢复魔法值\"\"\"\\n        incr_point = randint(1, 10)\\n        self._mp += incr_point\\n        return incr_point\\n    def __str__(self):\\n        return \\'~~~%s奥特曼~~~\\\\n\\' % self._name + \\\\\\n            \\'生命值: %d\\\\n\\' % self._hp + \\\\\\n            \\'魔法值: %d\\\\n\\' % self._mp\\n\\nclass Monster(Fighter):\\n    \"\"\"小怪兽\"\"\"\\n    __slots__ = (\\'_name\\', \\'_hp\\')\\n    def attack(self, other):\\n        other.hp -= randint(10, 20)\\n    def __str__(self):\\n        return \\'~~~%s小怪兽~~~\\\\n\\' % self._name + \\\\\\n            \\'生命值: %d\\\\n\\' % self._hp\\n\\ndef is_any_alive(monsters):\\n    \"\"\"判断有没有小怪兽是活着的\"\"\"\\n    for monster in monsters:\\n        if monster.alive > 0:\\n            return True\\n    return False\\n\\ndef select_alive_one(monsters):\\n    \"\"\"选中一只活着的小怪兽\"\"\"\\n    monsters_len = len(monsters)\\n    while True:\\n        index = randrange(monsters_len)\\n        monster = monsters[index]\\n        if monster.alive > 0:\\n            return monster\\n\\ndef display_info(ultraman, monsters):\\n    \"\"\"显示奥特曼和小怪兽的信息\"\"\"\\n    print(ultraman)\\n    for monster in monsters:\\n        print(monster, end=\\'\\')\\n\\ndef main():\\n    u = Ultraman(\\'a\\', 1000, 120)\\n    m1 = Monster(\\'c1\\', 250)\\n    m2 = Monster(\\'c2\\', 500)\\n    m3 = Monster(\\'c3\\', 750)\\n    ms = [m1, m2, m3]\\n    fight_round = 1\\n    while u.alive and is_any_alive(ms):\\n        print(\\'========第%02d回合========\\' % fight_round)\\n        m = select_alive_one(ms)  # 选中一只小怪兽\\n        skill = randint(1, 10)   # 通过随机数选择使用哪种技能\\n        if skill <= 6:  # 60%的概率使用普通攻击\\n            print(\\'%s使用普通攻击打了%s.\\' % (u.name, m.name))\\n            u.attack(m)\\n            print(\\'%s的魔法值恢复了%d点.\\' % (u.name, u.resume()))\\n        elif skill <= 9:  # 30%的概率使用魔法攻击(可能因魔法值不足而失败)\\n            if u.magic_attack(ms):\\n                print(\\'%s使用了魔法攻击.\\' % u.name)\\n            else:\\n                print(\\'%s使用魔法失败.\\' % u.name)\\n        else:  # 10%的概率使用究极必杀技(如果魔法值不足则使用普通攻击)\\n            if u.huge_attack(m):\\n                print(\\'%s使用究极必杀技虐了%s.\\' % (u.name, m.name))\\n            else:\\n                print(\\'%s使用普通攻击打了%s.\\' % (u.name, m.name))\\n                print(\\'%s的魔法值恢复了%d点.\\' % (u.name, u.resume()))\\n        if m.alive > 0:  # 如果选中的小怪兽没有死就回击奥特曼\\n            print(\\'%s回击了%s.\\' % (m.name, u.name))\\n            m.attack(u)\\n        display_info(u, ms)  # 每个回合结束后显示奥特曼和小怪兽的信息\\n        fight_round += 1\\n    print(\\'\\\\n========战斗结束!========\\\\n\\')\\n    if u.alive > 0:\\n        print(\\'%s奥特曼胜利!\\' % u.name)\\n    else:\\n        print(\\'小怪兽胜利!\\')\\n\\n# 调用\\nmain()', '_i208': '# 综合案例1：奥特曼打小怪兽。\\n\\nfrom abc import ABCMeta, abstractmethod\\nfrom random import randint, randrange\\n\\nclass Fighter(object, metaclass=ABCMeta):\\n    \"\"\"战斗者\"\"\"\\n    # 通过__slots__魔法限定对象可以绑定的成员变量\\n    __slots__ = (\\'_name\\', \\'_hp\\')\\n    def __init__(self, name, hp):\\n        \"\"\"初始化方法\\n        :param name: 名字\\n        :param hp: 生命值\\n        \"\"\"\\n        self._name = name\\n        self._hp = hp\\n    @property\\n    def name(self):\\n        return self._name\\n    @property\\n    def hp(self):\\n        return self._hp\\n    @hp.setter\\n    def hp(self, hp):\\n        self._hp = hp if hp >= 0 else 0\\n    @property\\n    def alive(self):\\n        return self._hp > 0\\n    @abstractmethod\\n    def attack(self, other):\\n        \"\"\"攻击\\n        :param other: 被攻击的对象\\n        \"\"\"\\n        pass\\n\\nclass Ultraman(Fighter):\\n    \"\"\"奥特曼\"\"\"\\n    __slots__ = (\\'_name\\', \\'_hp\\', \\'_mp\\')\\n    def __init__(self, name, hp, mp):\\n        \"\"\"初始化方法\\n        :param name: 名字\\n        :param hp: 生命值\\n        :param mp: 魔法值\\n        \"\"\"\\n        super().__init__(name, hp)\\n        self._mp = mp\\n    def attack(self, other):\\n        other.hp -= randint(15, 25)\\n    def huge_attack(self, other):\\n        \"\"\"究极必杀技(打掉对方至少50点或四分之三的血)\\n        :param other: 被攻击的对象\\n        :return: 使用成功返回True否则返回False\\n        \"\"\"\\n        if self._mp >= 50:\\n            self._mp -= 50\\n            injury = other.hp * 3 // 4\\n            injury = injury if injury >= 50 else 50\\n            other.hp -= injury\\n            return True\\n        else:\\n            self.attack(other)\\n            return False\\n    def magic_attack(self, others):\\n        \"\"\"魔法攻击\\n        :param others: 被攻击的群体\\n        :return: 使用魔法成功返回True否则返回False\\n        \"\"\"\\n        if self._mp >= 20:\\n            self._mp -= 20\\n            for temp in others:\\n                if temp.alive:\\n                    temp.hp -= randint(10, 15)\\n            return True\\n        else:\\n            return False\\n    def resume(self):\\n        \"\"\"恢复魔法值\"\"\"\\n        incr_point = randint(1, 10)\\n        self._mp += incr_point\\n        return incr_point\\n    def __str__(self):\\n        return \\'~~~%s奥特曼~~~\\\\n\\' % self._name + \\\\\\n            \\'生命值: %d\\\\n\\' % self._hp + \\\\\\n            \\'魔法值: %d\\\\n\\' % self._mp\\n\\nclass Monster(Fighter):\\n    \"\"\"小怪兽\"\"\"\\n    __slots__ = (\\'_name\\', \\'_hp\\')\\n    def attack(self, other):\\n        other.hp -= randint(10, 20)\\n    def __str__(self):\\n        return \\'~~~%s小怪兽~~~\\\\n\\' % self._name + \\\\\\n            \\'生命值: %d\\\\n\\' % self._hp\\n\\ndef is_any_alive(monsters):\\n    \"\"\"判断有没有小怪兽是活着的\"\"\"\\n    for monster in monsters:\\n        if monster.alive > 0:\\n            return True\\n    return False\\n\\ndef select_alive_one(monsters):\\n    \"\"\"选中一只活着的小怪兽\"\"\"\\n    monsters_len = len(monsters)\\n    while True:\\n        index = randrange(monsters_len)\\n        monster = monsters[index]\\n        if monster.alive > 0:\\n            return monster\\n\\ndef display_info(ultraman, monsters):\\n    \"\"\"显示奥特曼和小怪兽的信息\"\"\"\\n    print(ultraman)\\n    for monster in monsters:\\n        print(monster, end=\\'\\')\\n\\ndef main():\\n    u = Ultraman(\\'a\\', 1000, 120)\\n    m1 = Monster(\\'c1\\', 250)\\n    m2 = Monster(\\'c2\\', 500)\\n    m3 = Monster(\\'c3\\', 750)\\n    ms = [m1, m2, m3]\\n    fight_round = 1\\n    while u.alive and is_any_alive(ms):\\n        print(\\'========第%02d回合========\\' % fight_round)\\n        m = select_alive_one(ms)  # 选中一只小怪兽\\n        skill = randint(1, 10)   # 通过随机数选择使用哪种技能\\n        if skill <= 6:  # 60%的概率使用普通攻击\\n            print(\\'%s使用普通攻击打了%s.\\' % (u.name, m.name))\\n            u.attack(m)\\n            print(\\'%s的魔法值恢复了%d点.\\' % (u.name, u.resume()))\\n        elif skill <= 9:  # 30%的概率使用魔法攻击(可能因魔法值不足而失败)\\n            if u.magic_attack(ms):\\n                print(\\'%s使用了魔法攻击.\\' % u.name)\\n            else:\\n                print(\\'%s使用魔法失败.\\' % u.name)\\n        else:  # 10%的概率使用究极必杀技(如果魔法值不足则使用普通攻击)\\n            if u.huge_attack(m):\\n                print(\\'%s使用究极必杀技虐了%s.\\' % (u.name, m.name))\\n            else:\\n                print(\\'%s使用普通攻击打了%s.\\' % (u.name, m.name))\\n                print(\\'%s的魔法值恢复了%d点.\\' % (u.name, u.resume()))\\n        if m.alive > 0:  # 如果选中的小怪兽没有死就回击奥特曼\\n            print(\\'%s回击了%s.\\' % (m.name, u.name))\\n            m.attack(u)\\n        display_info(u, ms)  # 每个回合结束后显示奥特曼和小怪兽的信息\\n        fight_round += 1\\n    print(\\'\\\\n========战斗结束!========\\\\n\\')\\n    if u.alive > 0:\\n        print(\\'%s奥特曼胜利!\\' % u.name)\\n    else:\\n        print(\\'小怪兽胜利!\\')\\n\\n# 调用\\nmain()', '_i209': '# 综合案例1：奥特曼打小怪兽。\\n\\nfrom abc import ABCMeta, abstractmethod\\nfrom random import randint, randrange\\n\\nclass Fighter(object, metaclass=ABCMeta):\\n    \"\"\"战斗者\"\"\"\\n    # 通过__slots__魔法限定对象可以绑定的成员变量\\n    __slots__ = (\\'_name\\', \\'_hp\\')\\n    def __init__(self, name, hp):\\n        \"\"\"初始化方法\\n        :param name: 名字\\n        :param hp: 生命值\\n        \"\"\"\\n        self._name = name\\n        self._hp = hp\\n    @property\\n    def name(self):\\n        return self._name\\n    @property\\n    def hp(self):\\n        return self._hp\\n    @hp.setter\\n    def hp(self, hp):\\n        self._hp = hp if hp >= 0 else 0\\n    @property\\n    def alive(self):\\n        return self._hp > 0\\n    @abstractmethod\\n    def attack(self, other):\\n        \"\"\"攻击\\n        :param other: 被攻击的对象\\n        \"\"\"\\n        pass\\n\\nclass Ultraman(Fighter):\\n    \"\"\"奥特曼\"\"\"\\n    __slots__ = (\\'_name\\', \\'_hp\\', \\'_mp\\')\\n    def __init__(self, name, hp, mp):\\n        \"\"\"初始化方法\\n        :param name: 名字\\n        :param hp: 生命值\\n        :param mp: 魔法值\\n        \"\"\"\\n        super().__init__(name, hp)\\n        self._mp = mp\\n    def attack(self, other):\\n        other.hp -= randint(15, 25)\\n    def huge_attack(self, other):\\n        \"\"\"究极必杀技(打掉对方至少50点或四分之三的血)\\n        :param other: 被攻击的对象\\n        :return: 使用成功返回True否则返回False\\n        \"\"\"\\n        if self._mp >= 50:\\n            self._mp -= 50\\n            injury = other.hp * 3 // 4\\n            injury = injury if injury >= 50 else 50\\n            other.hp -= injury\\n            return True\\n        else:\\n            self.attack(other)\\n            return False\\n    def magic_attack(self, others):\\n        \"\"\"魔法攻击\\n        :param others: 被攻击的群体\\n        :return: 使用魔法成功返回True否则返回False\\n        \"\"\"\\n        if self._mp >= 20:\\n            self._mp -= 20\\n            for temp in others:\\n                if temp.alive:\\n                    temp.hp -= randint(10, 15)\\n            return True\\n        else:\\n            return False\\n    def resume(self):\\n        \"\"\"恢复魔法值\"\"\"\\n        incr_point = randint(1, 10)\\n        self._mp += incr_point\\n        return incr_point\\n    def __str__(self):\\n        return \\'~~~%s奥特曼~~~\\\\n\\' % self._name + \\\\\\n            \\'生命值: %d\\\\n\\' % self._hp + \\\\\\n            \\'魔法值: %d\\\\n\\' % self._mp\\n\\nclass Monster(Fighter):\\n    \"\"\"小怪兽\"\"\"\\n    __slots__ = (\\'_name\\', \\'_hp\\')\\n    def attack(self, other):\\n        other.hp -= randint(10, 20)\\n    def __str__(self):\\n        return \\'~~~%s小怪兽~~~\\\\n\\' % self._name + \\\\\\n            \\'生命值: %d\\\\n\\' % self._hp\\n\\ndef is_any_alive(monsters):\\n    \"\"\"判断有没有小怪兽是活着的\"\"\"\\n    for monster in monsters:\\n        if monster.alive > 0:\\n            return True\\n    return False\\n\\ndef select_alive_one(monsters):\\n    \"\"\"选中一只活着的小怪兽\"\"\"\\n    monsters_len = len(monsters)\\n    while True:\\n        index = randrange(monsters_len)\\n        monster = monsters[index]\\n        if monster.alive > 0:\\n            return monster\\n\\ndef display_info(ultraman, monsters):\\n    \"\"\"显示奥特曼和小怪兽的信息\"\"\"\\n    print(ultraman)\\n    for monster in monsters:\\n        print(monster, end=\\'\\')\\n\\ndef main():\\n    u = Ultraman(\\'a\\', 1000, 120)\\n    m1 = Monster(\\'c1\\', 250)\\n    m2 = Monster(\\'c2\\', 500)\\n    m3 = Monster(\\'c3\\', 750)\\n    ms = [m1, m2, m3]\\n    fight_round = 1\\n    while u.alive and is_any_alive(ms):\\n        print(\\'========第%02d回合========\\' % fight_round)\\n        m = select_alive_one(ms)  # 选中一只小怪兽\\n        skill = randint(1, 10)   # 通过随机数选择使用哪种技能\\n        if skill <= 6:  # 60%的概率使用普通攻击\\n            print(\\'%s使用普通攻击打了%s.\\' % (u.name, m.name))\\n            u.attack(m)\\n            print(\\'%s的魔法值恢复了%d点.\\' % (u.name, u.resume()))\\n        elif skill <= 9:  # 30%的概率使用魔法攻击(可能因魔法值不足而失败)\\n            if u.magic_attack(ms):\\n                print(\\'%s使用了魔法攻击.\\' % u.name)\\n            else:\\n                print(\\'%s使用魔法失败.\\' % u.name)\\n        else:  # 10%的概率使用究极必杀技(如果魔法值不足则使用普通攻击)\\n            if u.huge_attack(m):\\n                print(\\'%s使用究极必杀技虐了%s.\\' % (u.name, m.name))\\n            else:\\n                print(\\'%s使用普通攻击打了%s.\\' % (u.name, m.name))\\n                print(\\'%s的魔法值恢复了%d点.\\' % (u.name, u.resume()))\\n        if m.alive > 0:  # 如果选中的小怪兽没有死就回击奥特曼\\n            print(\\'%s回击了%s.\\' % (m.name, u.name))\\n            m.attack(u)\\n        display_info(u, ms)  # 每个回合结束后显示奥特曼和小怪兽的信息\\n        fight_round += 1\\n    print(\\'\\\\n========战斗结束!========\\\\n\\')\\n    if u.alive > 0:\\n        print(\\'%s奥特曼胜利!\\' % u.name)\\n    else:\\n        print(\\'小怪兽胜利!\\')\\n\\n# 调用\\nmain()', '_i210': '# 综合案例1：奥特曼打小怪兽。\\n\\nfrom abc import ABCMeta, abstractmethod\\nfrom random import randint, randrange\\n\\nclass Fighter(object, metaclass=ABCMeta):\\n    \"\"\"战斗者\"\"\"\\n    # 通过__slots__魔法限定对象可以绑定的成员变量\\n    __slots__ = (\\'_name\\', \\'_hp\\')\\n    def __init__(self, name, hp):\\n        \"\"\"初始化方法\\n        :param name: 名字\\n        :param hp: 生命值\\n        \"\"\"\\n        self._name = name\\n        self._hp = hp\\n    @property\\n    def name(self):\\n        return self._name\\n    @property\\n    def hp(self):\\n        return self._hp\\n    @hp.setter\\n    def hp(self, hp):\\n        self._hp = hp if hp >= 0 else 0\\n    @property\\n    def alive(self):\\n        return self._hp > 0\\n    @abstractmethod\\n    def attack(self, other):\\n        \"\"\"攻击\\n        :param other: 被攻击的对象\\n        \"\"\"\\n        pass\\n\\nclass Ultraman(Fighter):\\n    \"\"\"奥特曼\"\"\"\\n    __slots__ = (\\'_name\\', \\'_hp\\', \\'_mp\\')\\n    def __init__(self, name, hp, mp):\\n        \"\"\"初始化方法\\n        :param name: 名字\\n        :param hp: 生命值\\n        :param mp: 魔法值\\n        \"\"\"\\n        super().__init__(name, hp)\\n        self._mp = mp\\n    def attack(self, other):\\n        other.hp -= randint(15, 25)\\n    def huge_attack(self, other):\\n        \"\"\"究极必杀技(打掉对方至少50点或四分之三的血)\\n        :param other: 被攻击的对象\\n        :return: 使用成功返回True否则返回False\\n        \"\"\"\\n        if self._mp >= 50:\\n            self._mp -= 50\\n            injury = other.hp * 3 // 4\\n            injury = injury if injury >= 50 else 50\\n            other.hp -= injury\\n            return True\\n        else:\\n            self.attack(other)\\n            return False\\n    def magic_attack(self, others):\\n        \"\"\"魔法攻击\\n        :param others: 被攻击的群体\\n        :return: 使用魔法成功返回True否则返回False\\n        \"\"\"\\n        if self._mp >= 20:\\n            self._mp -= 20\\n            for temp in others:\\n                if temp.alive:\\n                    temp.hp -= randint(10, 15)\\n            return True\\n        else:\\n            return False\\n    def resume(self):\\n        \"\"\"恢复魔法值\"\"\"\\n        incr_point = randint(1, 10)\\n        self._mp += incr_point\\n        return incr_point\\n    def __str__(self):\\n        return \\'~~~%s奥特曼~~~\\\\n\\' % self._name + \\\\\\n            \\'生命值: %d\\\\n\\' % self._hp + \\\\\\n            \\'魔法值: %d\\\\n\\' % self._mp\\n\\nclass Monster(Fighter):\\n    \"\"\"小怪兽\"\"\"\\n    __slots__ = (\\'_name\\', \\'_hp\\')\\n    def attack(self, other):\\n        other.hp -= randint(10, 20)\\n    def __str__(self):\\n        return \\'~~~%s小怪兽~~~\\\\n\\' % self._name + \\\\\\n            \\'生命值: %d\\\\n\\' % self._hp\\n\\ndef is_any_alive(monsters):\\n    \"\"\"判断有没有小怪兽是活着的\"\"\"\\n    for monster in monsters:\\n        if monster.alive > 0:\\n            return True\\n    return False\\n\\ndef select_alive_one(monsters):\\n    \"\"\"选中一只活着的小怪兽\"\"\"\\n    monsters_len = len(monsters)\\n    while True:\\n        index = randrange(monsters_len)\\n        monster = monsters[index]\\n        if monster.alive > 0:\\n            return monster\\n\\ndef display_info(ultraman, monsters):\\n    \"\"\"显示奥特曼和小怪兽的信息\"\"\"\\n    print(ultraman)\\n    for monster in monsters:\\n        print(monster, end=\\'\\')\\n\\ndef main():\\n    u = Ultraman(\\'a\\', 1000, 120)\\n    m1 = Monster(\\'c1\\', 250)\\n    m2 = Monster(\\'c2\\', 500)\\n    m3 = Monster(\\'c3\\', 750)\\n    ms = [m1, m2, m3]\\n    fight_round = 1\\n    while u.alive and is_any_alive(ms):\\n        print(\\'========第%02d回合========\\' % fight_round)\\n        m = select_alive_one(ms)  # 选中一只小怪兽\\n        skill = randint(1, 10)   # 通过随机数选择使用哪种技能\\n        if skill <= 6:  # 60%的概率使用普通攻击\\n            print(\\'%s使用普通攻击打了%s.\\' % (u.name, m.name))\\n            u.attack(m)\\n            print(\\'%s的魔法值恢复了%d点.\\' % (u.name, u.resume()))\\n        elif skill <= 9:  # 30%的概率使用魔法攻击(可能因魔法值不足而失败)\\n            if u.magic_attack(ms):\\n                print(\\'%s使用了魔法攻击.\\' % u.name)\\n            else:\\n                print(\\'%s使用魔法失败.\\' % u.name)\\n        else:  # 10%的概率使用究极必杀技(如果魔法值不足则使用普通攻击)\\n            if u.huge_attack(m):\\n                print(\\'%s使用究极必杀技虐了%s.\\' % (u.name, m.name))\\n            else:\\n                print(\\'%s使用普通攻击打了%s.\\' % (u.name, m.name))\\n                print(\\'%s的魔法值恢复了%d点.\\' % (u.name, u.resume()))\\n        if m.alive > 0:  # 如果选中的小怪兽没有死就回击奥特曼\\n            print(\\'%s回击了%s.\\' % (m.name, u.name))\\n            m.attack(u)\\n        display_info(u, ms)  # 每个回合结束后显示奥特曼和小怪兽的信息\\n        fight_round += 1\\n    print(\\'\\\\n========战斗结束!========\\\\n\\')\\n    if u.alive > 0:\\n        print(\\'%s奥特曼胜利!\\' % u.name)\\n    else:\\n        print(\\'小怪兽胜利!\\')\\n\\n# # 调用\\n# main()', '_i211': '# 综合案例2： 扑克游戏。\\n\\nimport random\\n\\n\\nclass Card(object):\\n    \"\"\"一张牌\"\"\"\\n\\n    def __init__(self, suite, face):\\n        self._suite = suite\\n        self._face = face\\n\\n    @property\\n    def face(self):\\n        return self._face\\n\\n    @property\\n    def suite(self):\\n        return self._suite\\n\\n    def __str__(self):\\n        if self._face == 1:\\n            face_str = \\'A\\'\\n        elif self._face == 11:\\n            face_str = \\'J\\'\\n        elif self._face == 12:\\n            face_str = \\'Q\\'\\n        elif self._face == 13:\\n            face_str = \\'K\\'\\n        else:\\n            face_str = str(self._face)\\n        return \\'%s%s\\' % (self._suite, face_str)\\n    \\n    def __repr__(self):\\n        return self.__str__()\\n\\n\\nclass Poker(object):\\n    \"\"\"一副牌\"\"\"\\n\\n    def __init__(self):\\n        self._cards = [Card(suite, face) \\n                       for suite in \\'♠♥♣♦\\'\\n                       for face in range(1, 14)]\\n        self._current = 0\\n\\n    @property\\n    def cards(self):\\n        return self._cards\\n\\n    def shuffle(self):\\n        \"\"\"洗牌(随机乱序)\"\"\"\\n        self._current = 0\\n        random.shuffle(self._cards)\\n\\n    @property\\n    def next(self):\\n        \"\"\"发牌\"\"\"\\n        card = self._cards[self._current]\\n        self._current += 1\\n        return card\\n\\n    @property\\n    def has_next(self):\\n        \"\"\"还有没有牌\"\"\"\\n        return self._current < len(self._cards)\\n\\n\\nclass Player(object):\\n    \"\"\"玩家\"\"\"\\n\\n    def __init__(self, name):\\n        self._name = name\\n        self._cards_on_hand = []\\n\\n    @property\\n    def name(self):\\n        return self._name\\n\\n    @property\\n    def cards_on_hand(self):\\n        return self._cards_on_hand\\n\\n    def get(self, card):\\n        \"\"\"摸牌\"\"\"\\n        self._cards_on_hand.append(card)\\n\\n    def arrange(self, card_key):\\n        \"\"\"玩家整理手上的牌\"\"\"\\n        self._cards_on_hand.sort(key=card_key)\\n\\n\\n# 排序规则-先根据花色再根据点数排序\\ndef get_key(card):\\n    return (card.suite, card.face)\\n\\n\\ndef main():\\n    p = Poker()\\n    p.shuffle()\\n    players = [Player(\\'小东\\'), Player(\\'小西\\'), Player(\\'小南\\'), Player(\\'小北\\')]\\n    for _ in range(13):\\n        for player in players:\\n            player.get(p.next)\\n    for player in players:\\n        print(player.name + \\':\\', end=\\' \\')\\n        player.arrange(get_key)\\n        print(player.cards_on_hand)\\n\\n\\n# main()', 'random': <module 'random' from 'd:\\\\anaconda\\\\envs\\\\envq\\\\lib\\\\random.py'>, 'Card': <class '__main__.Card'>, 'Poker': <class '__main__.Poker'>, 'Player': <class '__main__.Player'>, 'get_key': <function get_key at 0x0000024D5E3514C0>, '_i212': '# 综合案例3：工资结算系统。\\n\\n\"\"\"\\n某公司有三种类型的员工 分别是部门经理、程序员和销售员\\n需要设计一个工资结算系统 根据提供的员工信息来计算月薪\\n部门经理的月薪是每月固定15000元\\n程序员的月薪按本月工作时间计算 每小时150元\\n销售员的月薪是1200元的底薪加上销售额5%的提成\\n\"\"\"\\nfrom abc import ABCMeta, abstractmethod\\n\\n\\nclass Employee(object, metaclass=ABCMeta):\\n    \"\"\"员工\"\"\"\\n\\n    def __init__(self, name):\\n        \"\"\"\\n        初始化方法\\n\\n        :param name: 姓名\\n        \"\"\"\\n        self._name = name\\n\\n    @property\\n    def name(self):\\n        return self._name\\n\\n    @abstractmethod\\n    def get_salary(self):\\n        \"\"\"\\n        获得月薪\\n\\n        :return: 月薪\\n        \"\"\"\\n        pass\\n\\n\\nclass Manager(Employee):\\n    \"\"\"部门经理\"\"\"\\n\\n    def get_salary(self):\\n        return 15000.0\\n\\n\\nclass Programmer(Employee):\\n    \"\"\"程序员\"\"\"\\n\\n    def __init__(self, name, working_hour=0):\\n        super().__init__(name)\\n        self._working_hour = working_hour\\n\\n    @property\\n    def working_hour(self):\\n        return self._working_hour\\n\\n    @working_hour.setter\\n    def working_hour(self, working_hour):\\n        self._working_hour = working_hour if working_hour > 0 else 0\\n\\n    def get_salary(self):\\n        return 150.0 * self._working_hour\\n\\n\\nclass Salesman(Employee):\\n    \"\"\"销售员\"\"\"\\n\\n    def __init__(self, name, sales=0):\\n        super().__init__(name)\\n        self._sales = sales\\n\\n    @property\\n    def sales(self):\\n        return self._sales\\n\\n    @sales.setter\\n    def sales(self, sales):\\n        self._sales = sales if sales > 0 else 0\\n\\n    def get_salary(self):\\n        return 1200.0 + self._sales * 0.05\\n\\n\\ndef main():\\n    emps = [\\n        Manager(\\'a\\'), Programmer(\\'b\\'),\\n        Manager(\\'c\\'), Salesman(\\'d\\'),\\n        Salesman(\\'e\\'), Programmer(\\'f\\'),\\n        Programmer(\\'g\\')\\n    ]\\n    for emp in emps:\\n        if isinstance(emp, Programmer):\\n            emp.working_hour = int(input(\\'请输入%s本月工作时间: \\' % emp.name))\\n        elif isinstance(emp, Salesman):\\n            emp.sales = float(input(\\'请输入%s本月销售额: \\' % emp.name))\\n        # 同样是接收get_salary这个消息但是不同的员工表现出了不同的行为(多态)\\n        print(\\'%s本月工资为: ￥%s元\\' %\\n              (emp.name, emp.get_salary()))\\n\\n\\n# main()', '_i213': \"def foo():\\n    print('hello, world!')\\n\\ndef foo():\\n    print('goodbye, world!')\\n\\n# 下面的代码会输出什么呢？\\nfoo()\\n# goodbye, world!\", 'foo': <function foo at 0x0000024D5E35C040>, '_i214': \"# NoneType  这个数据类型比较特殊，NoneType仅有唯一实例None\\nprint(type(None))   # <class 'NoneType'>\", '_i215': \"is_student = True\\nhas_graduated = False\\n\\nprint(type(is_student))   # <class 'bool'>\\nprint(type(has_graduated))   # <class 'bool'>\", '_i216': \"# int\\na = 10\\nb = -1  \\nprint(type(a))  # <class 'int'>\\nprint(type(b))  # <class 'int'>\\n\\n# float\\nc = 3.4\\nd = -0.002\\nprint(type(c))  # <class 'float'>\\nprint(type(d))  # <class 'float'>\\n\\n# complex\\ne = -2 + 4j\\nprint(type(e))   # <class 'complex'>\", '_i217': '# 加 + \\nadd_ = 1 + 2\\nadd_b = 1.0 + .1\\nprint(f\"{add_=}\")   # add_=3\\nprint(f\"{add_b=}\")   # add_b=1.1', '_i218': '# 减 -\\nsubtraction_ = 1-2\\nsubtraction_b = 1-2. \\nprint(f\"{subtraction_=}\")  # subtraction_=-1\\nprint(f\"{subtraction_b=}\")  # subtraction_b=-1.0', '_i219': '# 乘 *\\nmultiplication_ = 2*3\\nmultiplication_b = 2.*3\\nprint(f\"{multiplication_=}\")   # multiplication_=6\\nprint(f\"{multiplication_b=}\")  # multiplication_b=6.0', '_i220': '# 除 /\\ndivision_ = 1/2\\ndivision_b = 2/1\\nprint(f\"{division_=}\")  # division_=0.5\\nprint(f\"{division_b=}\")  # division_b=2.0', '_i221': '# 取商 //\\nrounding_ = 1 //2\\nprint(f\"{rounding_=}\")   # rounding_=0\\n\\n# 取余 % \\nremainder_ = 1%2\\nprint(f\"{remainder_=}\")  # remainder_=1', '_i222': '# 幂运算 **\\npower_ = 2**3\\nprint(f\"{power_=}\")  # power_=8', '_i223': '# 科学计数法\\na = 1e3\\nprint(f\"{a=}\")  # a=1000.0\\n\\nb = -2e-4\\nprint(f\"{b=}\")  # b=-0.0002', '_i224': '# 常用数字运算函数\\nnumber = -7.25\\n\\nprint(f\"取绝对值：{abs(number)=}\")  # 取绝对值：abs(number)=7.25\\nprint(f\"求幂：{pow(2,3)=}\")  # 求幂：pow(2,3)=8\\nprint(f\"小数位数调整(有四舍五入)：{round(3.1415, 3)=}\")  # 小数位数调整(有四舍五入)：round(3.1415, 3)=3.142\\nprint(f\"取商取余：{divmod(10,3)=}\")  # 取商取余：divmod(10,3)=(3, 1)', '_i225': '# 数字类型转换\\na = 1.2  # <class \\'float\\'>\\nb = 2  # <class \\'int\\'>\\nprint(f\"{int(a)=}\")  # int(a)=1\\nprint(type(int(a)))  # <class \\'int\\'>\\nprint(f\"{float(b)=}\")  # float(b)=2.0\\nprint(type(float(b)))  # <class \\'float\\'>\\n\\n# 空int \\nempty_int = int()\\nprint(f\"{type(empty_int)=}\")   # type(empty_int)=<class \\'int\\'>\\n\\n# 空float\\nempty_float = float()\\nprint(f\"{type(empty_float)=}\")  # type(empty_float)=<class \\'float\\'>', '_i226': 'name = \"Alili\"\\ngreeting = \"Hello !\"\\nmultiline = \"\"\"This is \\na \\nmultiline.\"\"\"\\n\\n# 空字符串   <class \\'str\\'>\\nempty_str = str()\\n# empty_str = \\'\\'\\n# empty_str = \"\"\\nprint(type(empty_str))    # <class \\'str\\'>', '_i227': 's = \"Hello\"\\n# 尝试修改第一个字符\\ns[0] = \\'h\\'    # TypeError: \\'str\\' object does not support item assignment', '_i228': \"# 正确的做法是创建一个新的字符串\\ns_new = 'hello'\\nprint(s_new)  # hello\", '_i229': 's = \"Hello, Python !\"\\n# 索引\\n# 正向索引  从0开始\\nprint(s[0])   # H\\nprint(s[7])   # P\\n# 反向索引  从-1开始\\nprint(s[-1])  # !\\nprint(s[-7])  # y\\n# 切片\\n# 基本切片\\nprint(s[0:5])  # Hello\\nprint(s[7:])  # Python !\\nprint(s[:5])  # Hello\\n# 使用步长   start:end:step     step默认是1，也就是连续取，step=2就是隔一个取\\nprint(s[::2])  # Hlo yhn!\\nprint(s[::-1])  # ! nohtyP ,olleH  # 字符串反转\\n# 负数索引切片 \\nprint(s[-6:-1])  # thon ', '_i230': '# 拼接\\n# 使用加号\\ns1 = \"Hello\"\\ns2 = \"World\"\\ns3 = s1 + \",\" + s2 + \"!\"\\nprint(s3) # Hello,World!\\n\\n# 使用join()方法\\nwords= [\"Python\", \"is\", \"awesome\"]\\nsentense = \" \".join(words)\\nprint(sentense)  # Python is awesome\\n\\n# 重复\\ns = \\'Echo! \\'\\nrepeated = s * 3\\nprint(repeated)  # Echo! Echo! Echo! ', '_i231': '# 分割\\n\\ns = \"Python is fun and powerful.\"\\nwords = s.split()\\nprint(words)   # [\\'Python\\', \\'is\\', \\'fun\\', \\'and\\', \\'powerful.\\']\\n\\n# words = s.split(\\' \\', 1)  # 看python的版本是否支持\\n# print(words)  # [\\'Python\\', \\'is fun and powerful.\\']\\n\\n# 使用指定分隔符\\nwords_dot = s.split(\\'.\\')\\nprint(words_dot)  # [\\'Python is fun and powerful\\', \\'\\']\\n\\ns_ = \"apple,banana,orange\"\\n# rsplit  从右开始分割,最多分割2次\\nfruits = s_.rsplit(\\',\\', 2)\\nprint(fruits)  # [\\'apple\\', \\'banana\\', \\'orange\\']', '_i232': \"s = 'abracadabra'\\n\\nindex = s.find('cad')\\nprint(index)  # 4\\n\\nind = s.find('xyt')\\nprint(ind)  # -1\\n\\nlast_idx = s.rfind('abra')\\nprint(last_idx)  # 7\", '_i233': 's = \"a, A\"\\nprint(s.upper())  # A, A\\nprint(s.lower())  # a, a', '_i234': 's = \"  Hello, Python!  \"\\n\\nprint(s.strip())  # Hello, Python!\\nprint(s.lstrip()) # Hello, Python!\\nprint(s.rstrip()) #   Hello, Python!', '_i235': 's = \"Pyrhon Programming\"\\n\\nprint(s.startswith(\\'Py\\'))  # True\\nprint(s.endswith(\\'g\\'))  # True\\nprint(s.startswith(\\'Java\\'))  # False', '_i236': \"s = 'banana'\\n\\ncount = s.count('a')\\nprint(count)  # 3\", '_i237': \"s = 'banana'\\n\\nindex_ = s.index('a')\\nprint(index_)  # 1\", '_i238': 'name = \"Alili\"\\nage = 24\\n\\n# %\\ns = \"My name is %s and I am %d years old.\" % (name, age)\\nprint(s)\\n\\n# str.format()\\nfmt_mtd = \"My name is {} and I am {:.2f} years old.\".format(name, age)\\nprint(fmt_mtd)  # My name is Alili and I am 24.00 years old.\\n# 0 1 表示索引\\n# fmt_mtd = \"My name is {0} and I am {1} years old.\".format(name, age)\\n# fmt_mtd = \"My name is {0} and I am {1:.2f} years old.\".format(name, age)\\n\\n# f-str\\nf_method = f\"My name is {name} and I am {age:.2f} years old.\"\\nprint(f_method)  # My name is Alili and I am 24.00 years old.', '_i239': 's = \"Hello,\\\\nPython!\"\\nprint(s)\\n# Hello,\\n# Python!\\n\\ns = r\"C:\\\\Users\\\\Alili\\\\Documents\"\\nprint(s)  # C:\\\\Users\\\\Alice\\\\Documents', '_i240': 's = \"Python\"\\nprint(len(s))  # 6', '_i241': 's = \"Python Programming\"\\nprint(\"Python\" in s)      # True\\nprint(\"Java\" not in s)    # True', '_i242': 's = \"Hello\"\\nfor char in s:\\n    print(char)\\n# H\\n# e\\n# l\\n# l\\n# o', '_i243': 's = \"Hello\"\\n\\n# 转换为列表\\nchars = list(s)\\nprint(chars)  # [\\'H\\', \\'e\\', \\'l\\', \\'l\\', \\'o\\']\\n\\n# 列表转换为字符串\\ns_new = \\'\\'.join(chars)\\nprint(s_new)  # Hello', '_i244': 's = \"The quick brown fox jumps over the lazy dog.\"\\n# 查找子字符串\\nindex = s.find(\"fox\")\\nprint(index)  # 16\\n# 替换子字符串\\ns_new = s.replace(\"fox\", \"cat\")  \\nprint(s_new)  # The quick brown cat jumps over the lazy dog.', '_i245': \"tup = 1,2,4\\n# tup = 1,2,4,\\n# tup = (1,2,4)\\n# tup = (1,2,4,)\\nprint(tup)   # (1, 2, 4)\\n\\nz_tup = (4,2,1), (3,9)\\nprint(z_tup)   # ((4, 2, 1), (3, 9))\\n\\n# 空元组\\nempty_tup = ()   #  <class 'tuple'>\\n# empty_tup = tuple()   # <class 'tuple'>\\nprint(type(empty_tup))   # <class 'tuple'>\", '_i246': 'tuple_a = tuple([1,3,2,4,2])  # (1, 3, 2, 4, 2)\\nprint(tuple_a)\\ntuple_b = tuple(\"AbCdef\")  # (\\'A\\', \\'b\\', \\'C\\', \\'d\\', \\'e\\', \\'f\\')\\nprint(tuple_b)', '_i247': \"tuple_c = tuple(['start', [0,0], 1, False])\\nid_before = id(tuple_c[1])  # 3004552076736\\n\\n# tuple_c[1] = [0,0,1] # 会引发 TypeError\\ntuple_c[1].append(1)  # ('start', [0, 0, 1], 1, False) \\nid_after = id(tuple_c[1])  # 3004552076736\\n\\nprint(id_before == id_after) # True\\n\\n# 在Python中，每个对象都有一个唯一的身份标识，用于区分不同的对象。\\n# id() 函数用于获取对象的唯一标识符。这是一个唯一的整数，且在对象的生命周期内保持不变\\n# id_before == id_after，id_before、id_after引用的是同一个对象 tuple_c[1]\\n# is 运算符,用于判断两个变量是否引用同一个对象,等同于比较两个变量的id是否相同\", '_i248': 'tuple_ = (1,2,) + \"a\" + (\"1\",) + (2)  \\n# TypeError \"a\"、(\"a\") is str, type((2)) is int', '_i249': 'tuple_d = (1,2,) + (\"a\",) + (\"1\",) + (2,)  \\ntuple_e = (\\'kk\\', \\'ss\\') * 2   \\nprint(f\"{tuple_d=}\")  # tuple_d=(1, 2, \\'a\\', \\'1\\', 2)\\nprint(f\"{tuple_e=}\")  # tuple_e=(\\'kk\\', \\'ss\\', \\'kk\\', \\'ss\\')', '_i250': 'tuple_f = (1,21,33,41)\\na_, b_, c_, d_= tuple_f   # 1 21 33 41\\na_, b_, *rest = tuple_f   # 1 21\\nprint(f\"{rest=}\")   # rest=[33, 41]\\n\\ntuple_g = (1,),(21,33,41)\\na_, (b_, c_, d_) = tuple_g   #  (1,) 21 33 41\\na_, b_ = tuple_g   # (1,) (21, 33, 41)\\nprint(a_[0])   # 1', '_i251': 'x_, y_ = 1, 2\\nx_, y_ = y_, x_ \\nprint(f\"{x_=}\") # x_=2\\nprint(f\"{y_=}\") # y_=1', '_i252': 'tuple_h = 1,2,3,4,5,6,6,6,6,6,\\ntuple_h.count(6)  # 5', '_252': 5, '_i253': '# 空集合\\nempty_set = set()  # <class \\'set\\'>\\nprint(type(empty_set))  # <class \\'set\\'>\\n# 创建集合\\nunique_numbers = {1, 2, 3, 4, 5}\\n# 添加元素\\nunique_numbers.add(6)\\n# 删除元素\\nunique_numbers.discard(3)\\n\\n# 集合运算\\nevens = {2, 4, 6, 8}\\nodds = {1, 3, 5, 7}\\n# # -\\nsub_result = evens - odds\\nprint(f\"{sub_result=}\")   # sub_result={8, 2, 4, 6}\\n# # 并集\\nunion = evens.union(odds)\\n# union = evens | odds\\n# union = evens.update(odds)\\nprint(f\"{union=}\")  # union={1, 2, 3, 4, 5, 6, 7, 8}\\n# # 交集\\nintersection = evens.intersection({4, 5, 6})\\nprint(f\"{intersection=}\")  # intersection={4, 6}\\n\\n# 不在意内部元素顺序的情况下, 剔除重复值\\ntu = 1,1,1,1,1,1,12,2,3,4,\\ntuple_ = tuple(set(tu))\\nprint(f\"{tuple_=}\")  # list_=[1, 2, 3, 4, 12]\\n# 集合支持for循环遍历\\nfor x in tuple_:\\n    print(x) # 1 2 3 4 12', '_i254': '# 创建列表\\n# # 空列表\\nempty_list = [] \\n# empty_list = list()\\n# print(empty_list)  # []\\nprint(type(empty_list))  # <class \\'list\\'>\\n\\n# # 嵌套列表\\nnested_list = [1, [2, 3], [4, 5, 6]]\\n# # 列表中可以包含不同类型的元素\\nmixed_list = [1, \"Python\", 3.14, True]\\n\\n\\nfruits = [\\'apple\\', \\'banana\\', \\'cherry\\']\\n# 正向索引\\nfirst_fruit = fruits[0]\\nprint(f\"{first_fruit=}\")  # first_fruit=\\'apple\\'\\n# 反向索引\\nlast_fruit = fruits[-1]\\nprint(f\"{last_fruit=}\")  # last_fruit=\\'cherry\\'\\n\\n# 列表切片 语法为list[start:end:step]\\nnumbers = [0, 1, 2, 3, 4, 5, 6, 7, 8, 9]\\n# # 基本切片\\nprint(numbers[2:5])    # [2, 3, 4]\\nprint(numbers[:4])     # [0, 1, 2, 3]\\nprint(numbers[6:])     # [6, 7, 8, 9]\\n# # 使用步长\\nprint(numbers[::2])    # [0, 2, 4, 6, 8]\\nprint(numbers[::-1])   # [9, 8, 7, 6, 5, 4, 3, 2, 1, 0]', '_i255': \"fruits = ['apple', 'banana', 'cherry']\\n\\n# append()\\nfruits.append('date')\\nprint(fruits)  #  ['apple', 'banana', 'cherry', 'date']\\n\\n# insert()\\nfruits.insert(1, 'blueberry')\\nprint(fruits)  # ['apple', 'blueberry', 'banana', 'cherry', 'date']\\n\\n# extend()\\nfruits.extend(['elderberry', 'fig'])\\nprint(fruits)  # ['apple', 'blueberry', 'banana', 'cherry', 'date', 'elderberry', 'fig']\", '_i256': \"fruits = ['apple', 'blueberry', 'banana', 'cherry', 'date', 'elderberry', 'fig']\\n\\n# remove()\\nfruits.remove('banana')\\nprint(fruits)  # ['apple', 'blueberry', 'cherry', 'date', 'elderberry', 'fig']\\n\\n# pop()\\nremoved = fruits.pop(2)\\nprint(removed)  # cherry\\nprint(fruits)    # ['apple', 'blueberry', 'date', 'elderberry', 'fig']\\n\\n# clear()\\nfruits.clear()\\nprint(fruits)  # []\", '_i257': 'numbers = [4, 2, 9, 1, 5, 6, 2]\\n\\n# index()\\nprint(numbers.index(5))  # 4\\n\\n# count()\\nprint(numbers.count(2))  # 2\\n\\n# sort()\\nnumbers.sort()\\nprint(numbers)  # [1, 2, 2, 4, 5, 6, 9]\\n\\n# sorted()   reverse: True降序 False升序\\nsorted_numbers = sorted(numbers, reverse=True)  \\nprint(sorted_numbers)  # [9, 6, 5, 4, 2, 2, 1]\\n\\n# reverse()\\nnumbers.reverse()\\nprint(numbers)  # [9, 6, 5, 4, 2, 2, 1]', '_i258': \"fruits = ['apple', 'banana', 'cherry', 'date']\\n\\n# 使用 for 循环遍历列表\\nfor fruit in fruits:\\n    print(fruit)\\n\\n# while循环\\nindex = 0\\nwhile index < len(fruits):\\n    print(fruits[index])\\n    index += 1\\n# apple banana cherry date\", '_i259': 'fruits = [\\'apple\\', \\'banana\\', \\'cherry\\', \\'date\\']\\n\\n# 使用 enumerate() 遍历列表\\nfor index, fruit in enumerate(fruits):\\n    print(f\"Index {index}: {fruit}\")\\n# Index 0: apple\\n# Index 1: banana\\n# Index 2: cherry\\n# Index 3: date\\n\\n# 从索引 1 开始遍历\\nfor index, fruit in enumerate(fruits, start=1):\\n    print(f\"Index {index}: {fruit}\")\\n# Index 1: apple\\n# Index 2: banana\\n# Index 3: cherry\\n# Index 4: date', '_i260': 'names = [\\'Alili\\', \\'Bobo\\', \\'Qiuqiu\\']\\nages = [25, 30]\\n\\n# 使用 zip() 遍历长度不同的列表\\nfor name, age in zip(names, ages):\\n    print(f\"{name} is {age} years old.\")\\n# Alili is 25 years old.\\n# Bobo is 30 years old.', '_i261': '# 字符串转列表\\ns = \"Hello\"\\nlst = list(s)\\nprint(lst)  # [\\'H\\', \\'e\\', \\'l\\', \\'l\\', \\'o\\']\\n\\n# # 列表转字符串\\n# words = [\\'Python\\', \\'is\\', \\'awesome\\']\\n# sentence = \\' \\'.join(words)\\n# print(sentence)  # Python is awesome', '_i262': 'matrix = [\\n    [1, 2, 3],\\n    [4, 5, 6],\\n    [7, 8, 9]\\n]\\n\\n# 访问元素\\nprint(matrix[0][1])  # 2\\nprint(matrix[2][2])  # 9\\n\\nfor x in matrix:\\n    print(x)\\n# [1, 2, 3]\\n# [4, 5, 6]\\n# [7, 8, 9]\\n\\nfor x in matrix[0]:\\n    print(x)\\n# 1\\n# 2\\n# 3', '_i263': \"# 创建空字典\\nempty_dict = {}\\n# empty_dict = dict()\\nprint(type(empty_dict))  # <class 'dict'>\\n\\n# 创建包含键值对的字典\\nstudent = {'name': 'Alili',\\n    'age': 25,\\n    'major': 'Computer Science'}\\n\\n# 使用 dict() 构造函数创建字典\\nperson = dict(name='Bomm', age=30, city='New York')\\nprint(person) # {'name': 'Bomm', 'age': 30, 'city': 'New York'}\\n\\n# 使用序列创建字典\\nmapping = dict(zip(range(5), reversed(range(5))))\\nprint(mapping)  # {0: 4, 1: 3, 2: 2, 3: 1, 4: 0}\\n\\n# 设置默认值  setdefault方法\\n# dict.setdefault(key, default=None)\\nmy_dict = {'a': 1, 'b': 2}\\nresult1 = my_dict.setdefault('a', 100)  # 键 'a' 存在，返回其对应的值 1\\nprint(result1)  # 1\\nresult2 = my_dict.setdefault('c', 3)    # 键 'c' 不存在，添加 'c' 键，值为 3\\nprint(result2) # 3\", '_i264': \"student = {\\n    'name': 'Alili',\\n    'age': 25,\\n    'major': 'Computer Science'}\\n\\n# 使用中括号访问\\nprint(student['name'])  # Alili\\n# 使用 get() 方法访问\\nprint(student.get('age'))  # 25\\n# 如果键不存在，使用 get() 可设置默认值\\nprint(student.get('gpa', 'Not Available'))  # Not Available\", '_i265': \"student = {\\n    'name': 'Alili',\\n    'age': 25,\\n    'like': 'orange'\\n}\\n\\n# 添加新的键值对\\nstudent['like'] = 'orange'\\nprint(student)\\n# {'name': 'Alili', 'age': 25, 'like': 'orange'}\\n\\n# 修改现有的值\\nstudent['age'] = 25.5\\nprint(student)\\n# {'name': 'Alili', 'age': 25.5, 'like': 'orange'}\", '_i266': \"student = {\\n    'name': 'Alili',\\n    'age': 25,\\n    'like': 'orange'\\n}\\n\\n# 使用 del 语句删除键值对\\ndel student['like']\\nprint(student)\\n# {'name': 'Alili', 'age': 25}\\n\\n# 使用 pop() 方法删除并返回值\\nage = student.pop('age')\\nprint(age)       # 25\\nprint(student)   # {'name': 'Alili'}\\n\\n# 使用 clear() 方法清空字典\\nstudent.clear()\\nprint(student)  # {}\", '_i267': \"student = {\\n    'name': 'Alili',\\n}\\n\\nkeys = student.keys()\\nprint(keys)  # dict_keys(['name'])\\n\\nvalues = student.values()\\nprint(values)  # dict_values(['Alili'])\\n\\nitems = student.items()\\nprint(items)  # dict_items([('name', 'Alili')])\\n\\n# gpa = student.get('gpa', 'Not Available')\\n# print(gpa)  # Not Available\\n\\nadditional_info = {'gpa': 3.9, 'graduated': False}\\nstudent.update(additional_info)\\nprint(student)   # {'name': 'Alili', 'gpa': 3.9, 'graduated': False}\\n\\nitem = student.popitem()\\nprint(item)      # ('graduated', False)\\nprint(student)   # {'name': 'Alili', 'gpa': 3.9}\", '_i268': 'student = {\\n    \\'name\\': \\'Alili\\',\\n    \\'age\\': 25,\\n    \\'like\\': \\'orange\\'}\\n\\n# 遍历键\\nfor key in student:\\n    print(key)\\n# name age like\\n\\n# 遍历值\\nfor value in student.values():\\n    print(value)\\n# Alili 25 orange\\n\\n# 遍历键值对\\nfor key, value in student.items():\\n    print(f\"{key}: {value}\")\\n# name: Alili  age: 25  like: orange', '_i269': \"# 创建嵌套字典\\nstudents = {\\n    'Alili': {\\n        'age': 25,\\n        'major': 'Computer Science',\\n        'gpa': 3.8},\\n    'Bomm': {\\n        'age': 22,\\n        'major': 'Mathematics',\\n        'gpa': 3.5}}\\n\\n# 访问嵌套字典中的值\\nprint(students['Alili']['major'])  # Computer Science\\n# 添加新的嵌套字典\\nstudents['Charlo'] = {'age': 24, 'major': 'Physics', 'gpa': 3.6}\\nprint(students)\\n# {'Alili': {'age': 25, 'major': 'Computer Science', 'gpa': 3.8}, \\n# 'Bomm': {'age': 22, 'major': 'Mathematics', 'gpa': 3.5}, \\n# 'Charlo': {'age': 24, 'major': 'Physics', 'gpa': 3.6}}\", '_i270': 'for k,v in students.items():\\n    print(f\"key:{k},value:{v}\")\\n# key:Alili,value:{\\'age\\':25,\\'major\\':\\'Computer Science\\',\\'gpa\\':3.8}\\n# key:Bomm,value:{\\'age\\':22,\\'major\\':\\'Mathematics\\',\\'gpa\\':3.5}\\n# key:Charlo,value:{\\'age\\':24,\\'major\\':\\'Physics\\',\\'gpa\\':3.6}', '_i271': 'a = 100\\nb = 100   # 小整数在 Python 中会被缓存并共享\\nc = 1000  # 大整数则不会被缓存\\nd = 1000\\nprint(id(a)==id(b),id(c)==id(d)) # True False\\nprint(a is b, c is d)  # True False', '_i272': 'from typing import List, Tuple, Dict\\n\\n# List: 一个整数类型的列表\\nnumbers: List[int] = [1, 2, 3, 4, 5]\\nprint(numbers)  # [1, 2, 3, 4, 5]\\n# Tuple: 一个包含整数和字符串的元组\\ninfo: Tuple[int, str] = (42, \"example\")\\nprint(info)  # (42, \\'example\\')\\n# Dict: 一个键为字符串类型、值为整数类型的字典\\nscores: Dict[str, int] = {\"Alili\": 95, \"Bobo\": 88}\\nprint(scores)  # {\\'Alili\\': 95, \\'Bobo\\': 88}\\n\\nfrom collections import defaultdict, OrderedDict\\n\\n# defaultdict: 创建一个有默认值的字典\\n# 当键不存在时，自动返回指定的默认值\\ndefault_dict = defaultdict(int)\\nprint(default_dict)  # defaultdict(<class \\'int\\'>, {})\\ndefault_dict[\"a\"] += 1  # 默认值为0，所以输出结果为1\\nprint(default_dict[\"a\"])  # 1\\n# OrderedDict: 保持键值对的插入顺序\\nordered_dict = OrderedDict([(\"one\", 1), (\"two\", 2), (\"three\", 3)])\\nfor key, value in ordered_dict.items():\\n    print(key, value)\\n# one 1\\n# two 2\\n# three 3', '_i273': 'age = 19   # age = input(\"请输入年龄:\")\\nif age >= 18: print(\"You are an adult.\")\\nelif age >= 13: print(\"You are a teenager.\")\\nelse: print(\"You are a child.\")', '_i274': '# 打印 0 到 4\\nfor i in range(5):\\n    print(i)', '_i275': 'count = 0\\n\\nwhile count < 5:\\n    print(count)\\n    count += 1\\n\\n# 0\\n# 1\\n# 2\\n# 3\\n# 4', '_i276': '# password = \"\"\\n# while password != \"python123\":\\n#     password = input(\"Enter the password: \")\\n#     if password == \"python123\":\\n#         print(\"Access granted.\")\\n#     else:\\n#         print(\"Incorrect password. Try again.\")\\n\\n\\n# # for \\n# for _ in range(5):\\n#     password = input(\"Enter the password: \")\\n#     if password == \"python123\":\\n#         print(\"Access granted.\")\\n#     else:\\n#         print(\"Incorrect password. Try again.\")\\n        ', '_i277': 'for i in range(10):\\n    if i == 5:\\n        break\\n    print(i)\\n    \\n# 0\\n# 1\\n# 2\\n# 3\\n# 4', '_i278': 'for i in range(5):\\n    # if i == 2: continue   # 这种写法也支持\\n    if i == 2:\\n        continue\\n    print(i)\\n\\n# 0\\n# 1\\n# 3\\n# 4', '_i279': 'for i in range(5):\\n    if i == 2:\\n        pass  # 暂不处理\\n    print(i)\\n\\n# 0\\n# 1\\n# 2\\n# 3\\n# 4', '_i280': \"strings = ['a', 'as', 'bat', 'car', 'haha', 'python']\\n[x.upper() for x in strings if len(x) > 2]\\n# ['BAT', 'CAR', 'HAHA', 'PYTHON']\", '_280': ['BAT', 'CAR', 'HAHA', 'PYTHON'], '_i281': \"# 集合推导式\\nstrings = ['a', 'as', 'bat', 'car', 'haha', 'python']\\n\\nunique_lengths = {len(x) for x in strings}\\nprint(unique_lengths)  # {1, 2, 3, 4, 6}\", '_i282': '# 字典推导式\\nnumbers = [1, 2, 3, 4]\\nsquares_dict = {num: num ** 2 for num in numbers}\\nprint(squares_dict)  # {1: 1, 2: 4, 3: 9, 4: 16}\\n\\n# 原始字典，值为字符串类型\\noriginal = {\\'Alili\\': \\'Female\\', \\'Bomm\\': \\'Male\\', \\'Charlo\\': \\'Male\\', \\n            \\'Daisy\\': \\'Female\\'}\\n# 保留 \"Male\" 性别且键名以 \"B\" 开头的项\\nfiltered = {\\n    name: gender\\n    for name, gender in original.items()\\n    if gender == \\'Male\\' and name.startswith(\\'B\\')}\\nprint(filtered)  # {\\'Bomm\\': \\'Male\\'}\\n# 给定字典是 {字段名: 值}，反转它成 {值: 字段名} 形式\\ninfo = {\\'name\\': \\'Alili\\', \\'age\\': 25, \\'city\\': \\'New York\\'}\\nreversed_dict = {value: key for key, value in info.items()}\\nprint(reversed_dict)\\n# {\\'Alili\\': \\'name\\', 25: \\'age\\', \\'New York\\': \\'city\\'}', '_i283': \"s = ['1', 'as', 'bat', 'god', 'boom', 'python']\\n\\nunique_lens = {len(x) for x in s}\\nprint(unique_lens)  # {1, 2, 3, 4, 6}\\n\\nunique_lens_b = set(map(len, s))  \\nprint(unique_lens_b)  # {1, 2, 3, 4, 6}\\n\\n# 构建一个字典推导式,创建一个字符串的查找映射表以确定它在列表中的位置\\nidx_mapping = {val : index for index, val in enumerate(s)}\\nprint(idx_mapping)\\n# {'1': 0, 'as': 1, 'bat': 2, 'god': 3, 'boom': 4, 'python': 5}\", '_i284': \"all_data = [['Johnn', 'Emly', 'Mikhael', 'Marny', 'Steven'], ['Marian', 'Juany', 'Javieru', 'Natalia', 'Pilar']]\", '_i285': \"names_of_interest = []\\nfor names in all_data:\\n    enough_es = [name for name in names if name.count('e') > 1]\\n    names_of_interest.extend(enough_es)\\nnames_of_interest  # ['Steven']\", '_285': ['Steven'], '_i286': \"result = [name for names in all_data for name in names if name.count('e') > 1]\\nprint(result)   # ['Steven']\", '_i287': '# try-except\\n\\ndef divide(a, b):\\n    try:\\n        result = a / b\\n    except ZeroDivisionError as e:\\n        print(\"错误：除数为0！\")\\n        return None\\n    else:\\n        print(\"除法运算成功。\")\\n        return result\\n\\nres = divide(10, 2)\\nprint(\"结果：\", res)\\n# 除法运算成功。\\n# 结果： 5.0\\nres = divide(5, 0)\\nprint(\"结果：\", res)\\n# 错误：除数为0！\\n# 结果： None', '_i288': 'def divide_b(a, b):\\n    result = None  # 先在函数开始处定义一个默认值，避免局部变量未定义\\n\\n    try:\\n        result = a / b\\n    except ZeroDivisionError:\\n        print(\"错误：除数不能为 0！\")\\n    except TypeError:\\n        print(\"错误：类型不匹配，无法进行除法运算！\")\\n    finally:\\n        # finally 块中的代码无论是否发生异常都会被执行\\n        if result is not None:\\n            # 如果 result 在 try 中成功被赋值，则返回它\\n            return result\\n        else:\\n            # 如果 result 仍是 None，说明出现了异常或其他问题\\n            print(f\"无法正常计算 {a} 除以 {b}\")\\n            return None\\n\\nprint(divide_b(4,2))\\n# 2.0\\n\\nprint(divide_b(2,\\'a\\'))\\n# 错误：类型不匹配，无法进行除法运算！\\n# 无法正常计算 2 除以 a\\n# None', '_i289': 'def divide(a, b):\\n    if b == 0:\\n        raise ZeroDivisionError(\"除数不能为零\")\\n    return a / b\\n\\ntry:\\n    result = divide(10, 0)\\nexcept ZeroDivisionError as e:\\n    print(f\"错误: {e}\")\\n# 错误: 除数不能为零', '_i290': 'nums = [1, 2, 3]\\n\\nassert isinstance(nums, list) and len(nums) > 0, \"数据必须是非空列表\"\\n\\nprint(nums)  # assert 语句通过\\n\\nassert isinstance(nums, list) and len(nums) > 3, \"数据必须是非空列表且包含不少于4个元素\"\\nprint(nums)  # AssertionError: 数据必须是非空列表且包含不少于4个元素', '_i291': '# 返回一个或多个变量(通常是一个元组)\\ndef min_and_max(numbers):\\n    \"\"\"返回给定列表的最小值和最大值\"\"\"\\n    return min(numbers), max(numbers)\\nnums = [3, 1, 5, 2, 4]\\nprint(type(min_and_max(nums)))    # <class \\'tuple\\'>\\nlowest, highest = min_and_max(nums)\\nprint(lowest, highest)  # 输出: 1 5\\n\\n# 没有return\\ndef do_nothing(): pass\\nresult = do_nothing()\\nprint(result)  # None\\n\\ndef my_function(x, y, z=1.5):  \\n    if z > 1: return z * (x + y)\\n    else: return z / (x + y)\\n# 使用\\nprint(my_function(1,2))  # 按照定义时的参数顺序来传递值\\n# 4.5\\nprint(my_function(z=3,x=2,y=4))  # 显式地通过参数名来传递值，顺序随意\\n# 18', '_i292': 'def greet(name, message):\\n    print(f\"{message}, {name}!\")\\n\\ngreet(\"Python\", \"Hello\")  # Hello, Python! \\n# 按顺序传递: name=\"Python\", message=\"Hello\"', '_i293': 'def greet(name, message):\\n    print(f\"{message}, {name}!\")\\n\\n# 使用关键字参数，顺序随意\\ngreet(message=\"Hi\", name=\"Python\") # Hi, Python!', '_i294': 'def greet(name, message=\"Hello\"):\\n    print(f\"{message}, {name}!\")\\n\\n# 只传name，message使用默认值\"Hello\"\\ngreet(\"Charlo\")  # HHello, Charlo!\\n# 同时传递两个参数\\ngreet(\"Daissy\", \"Hi\")  # Hi, Daissy!', '_i295': 'def add_numbers(*args):\\n    total = 0\\n    for num in args:\\n        total += num\\n    return total\\n\\nprint(add_numbers(1, 2, 3))       # 6\\nprint(add_numbers(10, 20, 30, 5)) # 65', '_i296': 'def build_profile(first_name, last_name, **kwargs):\\n    profile = {\"first_name\": first_name, \"last_name\": last_name}\\n    # 将额外的关键字参数更新到profile字典中\\n    for key, value in kwargs.items():\\n        profile[key] = value\\n    return profile\\n\\nuser_profile = build_profile(\"Alili\", \"Smith\", location=\"New York\", age=30, hobby=\"Reading\")\\nprint(user_profile)\\n# {\\'first_name\\': \\'Alili\\', \\'last_name\\': \\'Smith\\', \\'location\\': \\'New York\\', \\'age\\': 30, \\'hobby\\': \\'Reading\\'}\\n\\n# 在这个示例中，除了 first_name 和 last_name 外，\\n# 任何其他的关键字参数（location=\"New York\", age=30, hobby=\"Reading\"）都会被聚合到 kwargs 这个字典里。', '_i297': 'def show_info(a, b, c):\\n    print(a, b, c)\\n\\ndata = {\"a\": 1, \"b\": 2, \"c\": 3}\\nshow_info(**data)  # 等价于 show_info(a=1, b=2, c=3)', '_i298': '# 将列表中每个数值平方\\nnumbers = [1, 2, 3, 4]\\nsquared = list(map(lambda x: x**2, numbers))\\nprint(squared)  # 输出: [1, 4, 9, 16]\\n\\n# lambda 语句 等价于  fun_square\\ndef fun_square(x):\\n    return x ** 2\\nsquared_b = list(map(fun_square, numbers))\\nprint(squared_b)  # 输出: [1, 4, 9, 16]\\n    \\n# squared_c = [x ** 2 for x in numbers]', '_i299': 'def add_nums(a, b):\\n    return a + b', '_i300': 'add_five = lambda y: add_nums(5, y)', '_i301': 'from functools import partial\\nadd_five = partial(add_nums, 5)\\nprint(add_five)\\n# functools.partial(<function add_nums at 0x00000222C2976B90>, 5)\\nprint(add_five(1)) \\n# 6', '_i302': 'a = None\\ndef bind_a_variable():\\n    global a\\n    a = []\\nbind_a_variable()\\nprint(a)  # []', '_i303': 'def outer():\\n    def inner():\\n        print(\"这是内部函数\")\\n    print(\"调用内部函数之前\")\\n    inner()\\nouter()\\n\\n# 调用内部函数之前\\n# 这是内部函数', '_i304': 'def make_multiplier(n):\\n    def multiplier(x):\\n        return x * n\\n    return multiplier\\n\\ntimes2 = make_multiplier(2)\\nprint(times2(5))  # 10', '_i305': '# 打开一个文件\\nf = open(\"example.txt\", \"w\")\\nprint(\"文件名: \", f.name)  # 文件名:  example.txt\\nprint(\"是否已关闭 : \", f.closed)  # 是否已关闭 :  False\\nprint(\"访问模式 : \", f.mode)  # 访问模式 :  w\\nf.close()', '_i306': '# open()  close\\nf = open(\"example.txt\", mode=\"r\", encoding=\"utf-8\")  # 打开文本文件\\ncontent = f.read()\\nf.close()  # 操作完毕后，务必手动关闭', '_i307': 'with open(\"example.txt\", \"r\", encoding=\"utf-8\") as f:\\n    content = f.read()\\n    # 在这里可以对 content 做各种处理\\n\\n# with 块结束后，文件会自动关闭，无需手动 f.close()', '_i308': '# 写入\\nf = open(\"example.txt\", \"w\", encoding=\"utf-8\")\\nf.write(\"这是写入文本文件的第一行\\\\n\")\\nf.write(\"这是第二行\\\\n\")\\nf.close()\\n\\n# 按行读取 \\nwith open(\"example.txt\", \"r\", encoding=\"utf-8\") as f:\\n    for line in f:\\n        line = line.strip()  # 去掉行末尾的换行符或空白\\n        print(line)\\n# 这是写入文本文件的第一行\\n# 这是第二行\\n\\n# line.strip() 去除两端的空白字符，包括 \\\\n、空格等。\\n# 如果只想去除换行符，也可用 line.rstrip(\"\\\\n\")。', '_i309': 'import json\\ndata = {\\n    \"name\": \"Alili\",\\n    \"age\": 25,\\n    \"skills\": [\"Python\", \"Data Analysis\"]}\\n\\n# 写入JSON文件\\nwith open(\"data.json\", \"w\", encoding=\"utf-8\") as f:\\n    json.dump(data, f, ensure_ascii=False, indent=4)\\n\\n# 读取JSON文件\\nwith open(\"data.json\", \"r\", encoding=\"utf-8\") as f:\\n    loaded_data = json.load(f)\\n\\nprint(loaded_data)\\n# {\\'name\\': \\'Alili\\', \\'age\\': 25, \\'skills\\': [\\'Python\\', \\'Data Analysis\\']}\\n\\n# ensure_ascii=False 可以在写入 JSON 时保留非 ASCII 字符（如中文），避免出现 \\\\uXXXX 形式。\\n# indent=4 表示写入时缩进 4 个空格，方便阅读。', '_i310': 'def count_up_to(max):\\n    count = 1\\n    while count <= max:\\n        yield count  # 返回当前计数，并暂停函数状态\\n        count += 1\\n\\n# 使用生成器函数\\ncounter = count_up_to(3)\\n\\nprint(next(counter))  # 1\\nprint(next(counter))  # 2\\nprint(next(counter))  # 3\\n# print(next(counter))  # 会引发 StopIteration', '_i311': '# 创建一个生成器表达式\\nsquares_gen = (x**2 for x in range(1, 4))\\n\\nprint(next(squares_gen))  # 1\\nprint(next(squares_gen))  # 4\\nprint(next(squares_gen))  # 9\\n# print(next(squares_gen))  # 会引发 StopIteration', '_i312': 'def fibonacci(n):\\n    a, b = 0, 1\\n    for _ in range(n):\\n        yield a\\n        a, b = b, a + b\\n\\n# 创建一个Fibonacci生成器\\nfib_gen = fibonacci(5)\\n\\nfor num in fib_gen:\\n    print(num)\\n\\n# 0\\n# 1\\n# 1\\n# 2\\n# 3', '_i313': '# 创建一个生成器表达式，生成1到5的立方\\ncubes_gen = (x**3 for x in range(1, 6))\\n\\nfor cube in cubes_gen:\\n    print(cube)\\n# 1\\n# 8\\n# 27\\n# 64\\n# 125', '_i314': '# 使用生成器函数生成平方数\\n\\ndef generate_squares(n):\\n    for x in range(1, n + 1):\\n        yield x**2\\n\\nsquares = generate_squares(5)\\n\\nfor square in squares:\\n    print(square)\\n\\n# 1\\n# 4\\n# 9\\n# 16\\n# 25', '_i315': 'def echo():\\n    while True:\\n        value = yield\\n        print(f\"Echo: {value}\")\\n\\n# 创建生成器\\ne = echo()\\nnext(e)  # 启动生成器\\n\\n# 发送数据\\ne.send(\"Hello\")  # Echo: Hello\\ne.send(\"World\")  # Echo: World', 'e': <generator object echo at 0x0000024D5E2CF350>, '_i316': 'def generator():\\n    try:\\n        yield 1\\n        yield 2\\n        yield 3\\n    except GeneratorExit:\\n        print(\"Generator closed.\")\\n\\ngen = generator()\\nprint(next(gen))  # 1\\ngen.close()      # Generator closed.', '_i317': \"import itertools\\nfirst_letter = lambda x: x[0]\\nnames = ['Aln', 'Ada', 'Wes', 'Wi', 'Albe', 'Sten']\\nfor letter, names in itertools.groupby(names, first_letter):\\n    print(letter, list(names)) # names is a generator\\n\\n# A ['Aln', 'Ada']\\n# W ['Wes', 'Wi']\\n# A ['Albe']\\n# S ['Sten']\", '_i318': \"# 获取迭代器\\n# 可以使用内置函数 iter() 将可迭代对象转换为迭代器。\\n# 创建一个列表\\nfruits = ['apple', 'banana', 'cherry']\\n# 获取列表的迭代器\\nfruits_iterator = iter(fruits)\\n# 使用 next() 获取元素\\nprint(next(fruits_iterator))  # apple\\nprint(next(fruits_iterator))  # banana\\nprint(next(fruits_iterator))  # cherry\\n# 再调用 next() 会引发 StopIteration 异常\\n# print(next(fruits_iterator))  # 会引发 StopIteration\", '_i319': \"# for 循环内部使用迭代器机制，自动处理 StopIteration 异常。\\nfruits = ['apple', 'banana', 'cherry']\\nfor fruit in fruits:\\n    print(fruit)\\n# apple\\n# banana\\n# cherry\", '_i320': 'class MyIterator:\\n    def __init__(self, start, end):\\n        self.current = start\\n        self.end = end\\n    def __iter__(self):\\n        return self  # 迭代器返回自身\\n    def __next__(self):\\n        if self.current >= self.end:\\n            raise StopIteration  # 没有更多元素时引发异常\\n        self.current += 1\\n        return self.current - 1\\n# 使用自定义迭代器\\nmy_iter = MyIterator(1, 4)\\nfor num in my_iter:\\n    print(num)  # 1 2 3', '_i321': '# 创建一个简单的迭代器\\n\\nclass Countdown:\\n    def __init__(self, start):\\n        self.current = start\\n\\n    def __iter__(self):\\n        return self\\n\\n    def __next__(self):\\n        if self.current <= 0:\\n            raise StopIteration\\n        self.current -= 1\\n        return self.current\\n\\n# 使用迭代器\\nfor number in Countdown(3):\\n    print(number)\\n\\n# 2\\n# 1\\n# 0', '_i322': '# 使用生成器表达式筛选偶数\\n\\nnumbers = range(1, 11)\\nevens_gen = (x for x in numbers if x % 2 == 0)\\n\\nfor even in evens_gen:\\n    print(even)\\n\\n# 2\\n# 4\\n# 6\\n# 8\\n# 10', '_i323': 'class Person:\\n    \"\"\"代表一个人的类\"\"\"\\n    def __init__(self, name, age):\\n        # __init__ 是构造方法，用于初始化对象属性\\n        self.name = name\\n        self.age = age\\n    def greet(self):\\n        # self 是对实例自身的引用，在定义实例方法时必须作为第一个参数\\n        print(f\"Hello, I am {self.name}, and I\\'m {self.age} years old.\")', '_i324': 'person1 = Person(\"Alili\", 25)\\nperson2 = Person(\"Bomm\", 30)\\n\\nperson1.greet()  # Hello, I am Alili, and I\\'m 25 years old.\\nperson2.greet()  # Hello, I am Bomm, and I\\'m 30 years old.', '_i325': 'class Car:\\n    # 类属性\\n    wheels = 4\\n    def __init__(self, brand, model):\\n        # 实例属性\\n        self.brand = brand\\n        self.model = model\\n\\ncar1 = Car(\"车a\", \"x-a\")\\ncar2 = Car(\"车b\", \"x-b\")\\n\\nprint(car1.wheels, car2.wheels)  # 都是 4（共享）\\nprint(car1.brand, car2.brand)    # 车a, 车b（不同）', '_i326': 'class MyClass:\\n    count = 0\\n\\n    def __init__(self):\\n        MyClass.count += 1\\n\\n    @classmethod\\n    def how_many(cls):\\n        return cls.count\\n\\nx1 = MyClass()\\nx2 = MyClass()\\nprint(MyClass.how_many())  # 2', '_i327': 'class MathHelper:\\n    @staticmethod\\n    def add(a, b):\\n        return a + b\\n\\nprint(MathHelper.add(3, 4))  # 7', '_i328': '# 自定义一个简单的类，为其实现 __str__ 和 __len__。\\n\\nclass MyList:\\n    def __init__(self, items):\\n        self.items = items\\n\\n    def __str__(self):\\n        return f\"MyList: {self.items}\"\\n\\n    def __len__(self):\\n        return len(self.items)\\n\\nlst = MyList([4, 2, 3])\\nprint(lst)         # MyList: [4, 2, 3]\\nprint(len(lst))    # 3', '_i329': '#  练习1：定义一个类描述数字时钟。 \\n\\nfrom time import sleep\\nclass Clock(object):\\n    \"\"\"数字时钟\"\"\"\\n\\n    def __init__(self, hour=0, minute=0, second=0):\\n        \"\"\"初始化方法\\n        :param hour: 时\\n        :param minute: 分\\n        :param second: 秒\\n        \"\"\"\\n        self._hour = hour\\n        self._minute = minute\\n        self._second = second\\n\\n    def run(self):\\n        \"\"\"走字\"\"\"\\n        self._second += 1\\n        if self._second == 60:\\n            self._second = 0\\n            self._minute += 1\\n            if self._minute == 60:\\n                self._minute = 0\\n                self._hour += 1\\n                if self._hour == 24:\\n                    self._hour = 0\\n\\n    def show(self):\\n        \"\"\"显示时间\"\"\"\\n        return \\'%02d:%02d:%02d\\' % \\\\\\n               (self._hour, self._minute, self._second)\\n\\n\\n# clock = Clock(23,54,58)\\n# while True:\\n#     print(clock.show())\\n#     sleep(1)\\n#     clock.run()', '_i330': '# 练习2：定义一个类描述平面上的点并提供移动点和计算到另一个点距离的方法。\\nfrom math import sqrt\\n\\nclass Point(object):\\n\\n    def __init__(self, x=0, y=0):\\n        \"\"\"初始化方法\\n        \\n        :param x: 横坐标\\n        :param y: 纵坐标\\n        \"\"\"\\n        self.x = x\\n        self.y = y\\n\\n    def move_to(self, x, y):\\n        \"\"\"移动到指定位置\\n        \\n        :param x: 新的横坐标\\n        \"param y: 新的纵坐标\\n        \"\"\"\\n        self.x = x\\n        self.y = y\\n\\n    def move_by(self, dx, dy):\\n        \"\"\"移动指定的增量\\n        \\n        :param dx: 横坐标的增量\\n        \"param dy: 纵坐标的增量\\n        \"\"\"\\n        self.x += dx\\n        self.y += dy\\n\\n    def distance_to(self, other):\\n        \"\"\"计算与另一个点的距离\\n        \\n        :param other: 另一个点\\n        \"\"\"\\n        dx = self.x - other.x\\n        dy = self.y - other.y\\n        return sqrt(dx ** 2 + dy ** 2)\\n\\n    def __str__(self):\\n        return \\'(%s, %s)\\' % (str(self.x), str(self.y))\\n\\n\\np1 = Point(4, 5)\\np2 = Point()\\nprint(p1)\\nprint(p2)\\np2.move_by(-1, 3)\\nprint(p2)\\nprint(p1.distance_to(p2))\\n\\n# (4, 5)\\n# (0, 0)\\n# (-1, 3)\\n# 5.385164807134504', '_i331': 'def decorator(func):\\n    def wrapper():\\n        print(\"Before function call\")\\n        func()  # 调用原始函数\\n        print(\"After function call\")\\n    return wrapper\\n\\n@decorator  # 等价于 func = decorator(func)\\ndef say_hello():\\n    print(\"Hello!\")\\n\\nsay_hello()  \\n# Before function call\\n# Hello!\\n# After function call', '_i332': 'class OpTest:\\n    \"\"\"访问可见性简单测试\"\"\"\\n    def __init__(self, insA):\\n        self.__insA = insA\\n    def __qst(self):\\n        print(self.__insA)\\n        print(\"__qst\")\\n\\ndef main():\\n    test = OpTest(\\'Hello\\')\\n    # test.__qst()\\n    # # AttributeError: \\'OpTest\\' object has no attribute \\'__qst\\'\\n    print(test.__qst)\\n    # AttributeError: \\'OpTest\\' object has no attribute \\'__qst\\'\\nmain()', '_i333': 'class OpTest:\\n    \"\"\"访问可见性简单测试\"\"\"\\n    \\n    def __init__(self, insA):\\n        self.__insA = insA\\n    \\n    def __qst(self):\\n        print(self.__insA)\\n        print(\"__qst\")\\n\\ndef main():\\n    test = OpTest(\\'Hello\\')\\n    \\n    test._OpTest__qst()\\n    print(test._OpTest__insA)\\n    \\nmain()\\n\\n# Hello\\n# __qst\\n# Hello', '_i334': '# @property包装器来包装getter和setter方法，使得对属性的访问既安全又方便\\nclass Person(object):\\n\\n    def __init__(self, name, age):\\n        self._name = name\\n        self._age = age\\n\\n    # 访问器 - getter方法\\n    @property\\n    def name(self):\\n        return self._name\\n\\n    # 访问器 - getter方法\\n    @property\\n    def age(self):\\n        return self._age\\n\\n    # 修改器 - setter方法\\n    @age.setter\\n    def age(self, age):\\n        self._age = age\\n\\n    def play(self):\\n        if self._age <= 16:\\n            print(f\"{self.name}在玩这\")\\n        else:\\n            print(f\"{self.name}在玩那\")\\n\\nperson = Person(\\'abc\\', 12)\\nperson.play()\\nperson.age = 22\\nperson.play()\\n# abc在玩这\\n# abc在玩那\\n\\n# person.name = \\'另一个人\\'  # AttributeError: can\\'t set attribute\\nperson.age = 10000\\nprint(person.age)  # 10000', '_i335': 'class Person(object):\\n    # 限定Person对象只能绑定_name, _age和_gender属性\\n    __slots__ = (\\'_name\\', \\'_age\\', \\'_gender\\')\\n    def __init__(self, name, age):\\n        self._name = name\\n        self._age = age\\n    @property\\n    def name(self):\\n        return self._name\\n    @property\\n    def age(self):\\n        return self._age\\n    @age.setter\\n    def age(self, age):\\n        self._age = age\\n    def play(self):\\n        if self._age <= 16:\\n            print(f\"{self.name}在玩\")\\n        else:\\n            print(f\"{self.name}在睡觉\")\\n\\nperson = Person(\\'aaa\\', 22)\\nperson.play()\\nperson._gender = \\'男\\'\\n# aaa在睡觉\\n\\n# # AttributeError: \\'Person\\' object has no attribute \\'_is_bad\\'\\n# person._is_bad = True', '_i336': \"from math import sqrt\\n\\n\\nclass Triangle(object):\\n\\n    def __init__(self, a, b, c):\\n        self._a = a\\n        self._b = b\\n        self._c = c\\n\\n    @staticmethod\\n    def is_valid(a, b, c):\\n        return a + b > c and b + c > a and a + c > b\\n\\n    def perimeter(self):\\n        return self._a + self._b + self._c\\n\\n    def area(self):\\n        half = self.perimeter() / 2\\n        return sqrt(half * (half - self._a) *\\n                    (half - self._b) * (half - self._c))\\n\\ndef main():\\n    a, b, c = 10, 8, 3\\n    # 静态方法和类方法都是通过给类发消息来调用的\\n    if Triangle.is_valid(a, b, c):\\n        t = Triangle(a, b, c)\\n        print(t.perimeter())\\n        # 也可以通过给类发消息来调用对象方法但是要传入接收消息的对象作为参数\\n        # print(Triangle.perimeter(t))\\n        print(t.area())\\n        # print(Triangle.area(t))\\n    else:\\n        print('无法构成三角形.')\\n\\nmain()\\n# 21\\n# 9.921567416492215\", '_i337': 'from time import time, localtime, sleep\\n\\n\\nclass Clock(object):\\n    \"\"\"数字时钟\"\"\"\\n\\n    def __init__(self, hour=0, minute=0, second=0):\\n        self._hour = hour\\n        self._minute = minute\\n        self._second = second\\n\\n    @classmethod\\n    def now(cls):\\n        ctime = localtime(time())\\n        return cls(ctime.tm_hour, ctime.tm_min, ctime.tm_sec)\\n\\n    def run(self):\\n        \"\"\"走字\"\"\"\\n        self._second += 1\\n        if self._second == 60:\\n            self._second = 0\\n            self._minute += 1\\n            if self._minute == 60:\\n                self._minute = 0\\n                self._hour += 1\\n                if self._hour == 24:\\n                    self._hour = 0\\n\\n    def show(self):\\n        \"\"\"显示时间\"\"\"\\n        return \\'%02d:%02d:%02d\\' % \\\\\\n               (self._hour, self._minute, self._second)\\n\\n# # 通过类方法创建对象并获取系统时间\\n# clock = Clock.now()\\n# while True:\\n#     print(clock.show())\\n#     sleep(1)\\n#     clock.run()', '_i338': 'class Person(object):\\n    \"\"\"人\"\"\"\\n    def __init__(self, name, age):\\n        self._name = name\\n        self._age = age\\n        \\n    @property\\n    def name(self):\\n        return self._name\\n\\n    @property\\n    def age(self):\\n        return self._age\\n\\n    @age.setter\\n    def age(self, age):\\n        self._age = age\\n\\n    def play(self): print(f\"{self.name}玩疯了\")\\n    def watch_tv(self):\\n        if self._age >= 18: print(f\"{self.name}看电视睡着了\")\\n        else: print(f\"{self.name}不看电视\")\\n\\nclass Student(Person):\\n    \"\"\"学生\"\"\"\\n    def __init__(self, name, age, grade):\\n        super().__init__(name, age)\\n        self._grade = grade\\n\\n    @property\\n    def grade(self):\\n        return self._grade\\n\\n    @grade.setter\\n    def grade(self, grade):\\n        self._grade = grade\\n\\n    def study(self, course): print(f\"{self._grade}的{self._name}在学{course}\")\\n\\nclass Teacher(Person):\\n    \"\"\"老师\"\"\"\\n    def __init__(self, name, age, title):\\n        super().__init__(name, age)\\n        self._title = title\\n\\n    @property\\n    def title(self):\\n        return self._title\\n\\n    @title.setter\\n    def title(self, title):\\n        self._title = title\\n        \\n    def teach(self, course): print(f\"{self._name}{self._title}在授课{course}\")\\n\\nstu = Student(\\'学生a\\', 15, \\'初三\\')\\nstu.study(\\'数学\\')\\nstu.watch_tv()\\nt = Teacher(\\'无敌\\', 49, \\'程序员\\')\\nt.teach(\\'Python如何打印helloworld\\')\\nt.watch_tv()\\n\\n# 初三的学生a在学数学\\n# 学生a不看电视\\n# 无敌程序员在授课Python如何打印helloworld\\n# 无敌看电视睡着了', '_i339': 'from abc import ABCMeta, abstractmethod\\n\\nclass Pet(object, metaclass=ABCMeta):\\n    \"\"\"宠物\"\"\"\\n    def __init__(self, nickname):\\n        self._nickname = nickname\\n    @abstractmethod\\n    def make_voice(self):\\n        \"\"\"发出声音\"\"\"\\n        pass\\n\\nclass Dog(Pet):\\n    \"\"\"狗\"\"\"\\n    def make_voice(self):\\n        print(\\'%s: 汪汪汪...\\' % self._nickname)\\n\\nclass Cat(Pet):\\n    \"\"\"猫\"\"\"\\n    def make_voice(self):\\n        print(\\'%s: 喵...喵...\\' % self._nickname)\\n\\npets = [Dog(\\'狗a\\'), Cat(\\'猫a\\'), Dog(\\'另一只狗\\')]\\nfor pet in pets:\\n    pet.make_voice()\\n\\n# 狗a: 汪汪汪...\\n# 猫a: 喵...喵...\\n# 另一只狗: 汪汪汪...', '_i340': \"from abc import ABCMeta, abstractmethod\\nclass Pet(object, metaclass=ABCMeta):\\n    def __init__(self, nickname):\\n        self._nickname = nickname\\n    @abstractmethod\\n    def make_voice(self): pass\\nclass Dog(Pet):\\n    def make_voice(self): print('%s: 汪汪汪...' % self._nickname)\\nclass Cat(Pet):\\n    def make_voice(self): print('%s: 喵...喵...' % self._nickname)\\n\\npets = [Dog('狗a'), Cat('猫a'), Dog('另一只狗')]\\nfor pet in pets:\\n    pet.make_voice()\\n# 狗a: 汪汪汪...\\n# 猫a: 喵...喵...\\n# 另一只狗: 汪汪汪...\", '_i341': '# 综合案例1：奥特曼打小怪兽。\\n\\nfrom abc import ABCMeta, abstractmethod\\nfrom random import randint, randrange\\n\\nclass Fighter(object, metaclass=ABCMeta):\\n    \"\"\"战斗者\"\"\"\\n    # 通过__slots__魔法限定对象可以绑定的成员变量\\n    __slots__ = (\\'_name\\', \\'_hp\\')\\n    def __init__(self, name, hp):\\n        \"\"\"初始化方法\\n        :param name: 名字\\n        :param hp: 生命值\\n        \"\"\"\\n        self._name = name\\n        self._hp = hp\\n    @property\\n    def name(self):\\n        return self._name\\n    @property\\n    def hp(self):\\n        return self._hp\\n    @hp.setter\\n    def hp(self, hp):\\n        self._hp = hp if hp >= 0 else 0\\n    @property\\n    def alive(self):\\n        return self._hp > 0\\n    @abstractmethod\\n    def attack(self, other):\\n        \"\"\"攻击\\n        :param other: 被攻击的对象\\n        \"\"\"\\n        pass\\n\\nclass Ultraman(Fighter):\\n    \"\"\"奥特曼\"\"\"\\n    __slots__ = (\\'_name\\', \\'_hp\\', \\'_mp\\')\\n    def __init__(self, name, hp, mp):\\n        \"\"\"初始化方法\\n        :param name: 名字\\n        :param hp: 生命值\\n        :param mp: 魔法值\\n        \"\"\"\\n        super().__init__(name, hp)\\n        self._mp = mp\\n    def attack(self, other):\\n        other.hp -= randint(15, 25)\\n    def huge_attack(self, other):\\n        \"\"\"究极必杀技(打掉对方至少50点或四分之三的血)\\n        :param other: 被攻击的对象\\n        :return: 使用成功返回True否则返回False\\n        \"\"\"\\n        if self._mp >= 50:\\n            self._mp -= 50\\n            injury = other.hp * 3 // 4\\n            injury = injury if injury >= 50 else 50\\n            other.hp -= injury\\n            return True\\n        else:\\n            self.attack(other)\\n            return False\\n    def magic_attack(self, others):\\n        \"\"\"魔法攻击\\n        :param others: 被攻击的群体\\n        :return: 使用魔法成功返回True否则返回False\\n        \"\"\"\\n        if self._mp >= 20:\\n            self._mp -= 20\\n            for temp in others:\\n                if temp.alive:\\n                    temp.hp -= randint(10, 15)\\n            return True\\n        else:\\n            return False\\n    def resume(self):\\n        \"\"\"恢复魔法值\"\"\"\\n        incr_point = randint(1, 10)\\n        self._mp += incr_point\\n        return incr_point\\n    def __str__(self):\\n        return \\'~~~%s奥特曼~~~\\\\n\\' % self._name + \\\\\\n            \\'生命值: %d\\\\n\\' % self._hp + \\\\\\n            \\'魔法值: %d\\\\n\\' % self._mp\\n\\nclass Monster(Fighter):\\n    \"\"\"小怪兽\"\"\"\\n    __slots__ = (\\'_name\\', \\'_hp\\')\\n    def attack(self, other):\\n        other.hp -= randint(10, 20)\\n    def __str__(self):\\n        return \\'~~~%s小怪兽~~~\\\\n\\' % self._name + \\\\\\n            \\'生命值: %d\\\\n\\' % self._hp\\n\\ndef is_any_alive(monsters):\\n    \"\"\"判断有没有小怪兽是活着的\"\"\"\\n    for monster in monsters:\\n        if monster.alive > 0:\\n            return True\\n    return False\\n\\ndef select_alive_one(monsters):\\n    \"\"\"选中一只活着的小怪兽\"\"\"\\n    monsters_len = len(monsters)\\n    while True:\\n        index = randrange(monsters_len)\\n        monster = monsters[index]\\n        if monster.alive > 0:\\n            return monster\\n\\ndef display_info(ultraman, monsters):\\n    \"\"\"显示奥特曼和小怪兽的信息\"\"\"\\n    print(ultraman)\\n    for monster in monsters:\\n        print(monster, end=\\'\\')\\n\\ndef main():\\n    u = Ultraman(\\'a\\', 1000, 120)\\n    m1 = Monster(\\'c1\\', 250)\\n    m2 = Monster(\\'c2\\', 500)\\n    m3 = Monster(\\'c3\\', 750)\\n    ms = [m1, m2, m3]\\n    fight_round = 1\\n    while u.alive and is_any_alive(ms):\\n        print(\\'========第%02d回合========\\' % fight_round)\\n        m = select_alive_one(ms)  # 选中一只小怪兽\\n        skill = randint(1, 10)   # 通过随机数选择使用哪种技能\\n        if skill <= 6:  # 60%的概率使用普通攻击\\n            print(\\'%s使用普通攻击打了%s.\\' % (u.name, m.name))\\n            u.attack(m)\\n            print(\\'%s的魔法值恢复了%d点.\\' % (u.name, u.resume()))\\n        elif skill <= 9:  # 30%的概率使用魔法攻击(可能因魔法值不足而失败)\\n            if u.magic_attack(ms):\\n                print(\\'%s使用了魔法攻击.\\' % u.name)\\n            else:\\n                print(\\'%s使用魔法失败.\\' % u.name)\\n        else:  # 10%的概率使用究极必杀技(如果魔法值不足则使用普通攻击)\\n            if u.huge_attack(m):\\n                print(\\'%s使用究极必杀技虐了%s.\\' % (u.name, m.name))\\n            else:\\n                print(\\'%s使用普通攻击打了%s.\\' % (u.name, m.name))\\n                print(\\'%s的魔法值恢复了%d点.\\' % (u.name, u.resume()))\\n        if m.alive > 0:  # 如果选中的小怪兽没有死就回击奥特曼\\n            print(\\'%s回击了%s.\\' % (m.name, u.name))\\n            m.attack(u)\\n        display_info(u, ms)  # 每个回合结束后显示奥特曼和小怪兽的信息\\n        fight_round += 1\\n    print(\\'\\\\n========战斗结束!========\\\\n\\')\\n    if u.alive > 0:\\n        print(\\'%s奥特曼胜利!\\' % u.name)\\n    else:\\n        print(\\'小怪兽胜利!\\')\\n\\n# # 调用\\n# main()', '_i342': '# 综合案例2： 扑克游戏。\\n\\nimport random\\n\\n\\nclass Card(object):\\n    \"\"\"一张牌\"\"\"\\n\\n    def __init__(self, suite, face):\\n        self._suite = suite\\n        self._face = face\\n\\n    @property\\n    def face(self):\\n        return self._face\\n\\n    @property\\n    def suite(self):\\n        return self._suite\\n\\n    def __str__(self):\\n        if self._face == 1:\\n            face_str = \\'A\\'\\n        elif self._face == 11:\\n            face_str = \\'J\\'\\n        elif self._face == 12:\\n            face_str = \\'Q\\'\\n        elif self._face == 13:\\n            face_str = \\'K\\'\\n        else:\\n            face_str = str(self._face)\\n        return \\'%s%s\\' % (self._suite, face_str)\\n    \\n    def __repr__(self):\\n        return self.__str__()\\n\\n\\nclass Poker(object):\\n    \"\"\"一副牌\"\"\"\\n\\n    def __init__(self):\\n        self._cards = [Card(suite, face) \\n                       for suite in \\'♠♥♣♦\\'\\n                       for face in range(1, 14)]\\n        self._current = 0\\n\\n    @property\\n    def cards(self):\\n        return self._cards\\n\\n    def shuffle(self):\\n        \"\"\"洗牌(随机乱序)\"\"\"\\n        self._current = 0\\n        random.shuffle(self._cards)\\n\\n    @property\\n    def next(self):\\n        \"\"\"发牌\"\"\"\\n        card = self._cards[self._current]\\n        self._current += 1\\n        return card\\n\\n    @property\\n    def has_next(self):\\n        \"\"\"还有没有牌\"\"\"\\n        return self._current < len(self._cards)\\n\\n\\nclass Player(object):\\n    \"\"\"玩家\"\"\"\\n\\n    def __init__(self, name):\\n        self._name = name\\n        self._cards_on_hand = []\\n\\n    @property\\n    def name(self):\\n        return self._name\\n\\n    @property\\n    def cards_on_hand(self):\\n        return self._cards_on_hand\\n\\n    def get(self, card):\\n        \"\"\"摸牌\"\"\"\\n        self._cards_on_hand.append(card)\\n\\n    def arrange(self, card_key):\\n        \"\"\"玩家整理手上的牌\"\"\"\\n        self._cards_on_hand.sort(key=card_key)\\n\\n\\n# 排序规则-先根据花色再根据点数排序\\ndef get_key(card):\\n    return (card.suite, card.face)\\n\\n\\ndef main():\\n    p = Poker()\\n    p.shuffle()\\n    players = [Player(\\'小东\\'), Player(\\'小西\\'), Player(\\'小南\\'), Player(\\'小北\\')]\\n    for _ in range(13):\\n        for player in players:\\n            player.get(p.next)\\n    for player in players:\\n        print(player.name + \\':\\', end=\\' \\')\\n        player.arrange(get_key)\\n        print(player.cards_on_hand)\\n\\n\\n# main()', '_i343': '# 综合案例3：工资结算系统。\\n\\n\"\"\"\\n某公司有三种类型的员工 分别是部门经理、程序员和销售员\\n需要设计一个工资结算系统 根据提供的员工信息来计算月薪\\n部门经理的月薪是每月固定15000元\\n程序员的月薪按本月工作时间计算 每小时150元\\n销售员的月薪是1200元的底薪加上销售额5%的提成\\n\"\"\"\\nfrom abc import ABCMeta, abstractmethod\\n\\n\\nclass Employee(object, metaclass=ABCMeta):\\n    \"\"\"员工\"\"\"\\n\\n    def __init__(self, name):\\n        \"\"\"\\n        初始化方法\\n\\n        :param name: 姓名\\n        \"\"\"\\n        self._name = name\\n\\n    @property\\n    def name(self):\\n        return self._name\\n\\n    @abstractmethod\\n    def get_salary(self):\\n        \"\"\"\\n        获得月薪\\n\\n        :return: 月薪\\n        \"\"\"\\n        pass\\n\\n\\nclass Manager(Employee):\\n    \"\"\"部门经理\"\"\"\\n\\n    def get_salary(self):\\n        return 15000.0\\n\\n\\nclass Programmer(Employee):\\n    \"\"\"程序员\"\"\"\\n\\n    def __init__(self, name, working_hour=0):\\n        super().__init__(name)\\n        self._working_hour = working_hour\\n\\n    @property\\n    def working_hour(self):\\n        return self._working_hour\\n\\n    @working_hour.setter\\n    def working_hour(self, working_hour):\\n        self._working_hour = working_hour if working_hour > 0 else 0\\n\\n    def get_salary(self):\\n        return 150.0 * self._working_hour\\n\\n\\nclass Salesman(Employee):\\n    \"\"\"销售员\"\"\"\\n\\n    def __init__(self, name, sales=0):\\n        super().__init__(name)\\n        self._sales = sales\\n\\n    @property\\n    def sales(self):\\n        return self._sales\\n\\n    @sales.setter\\n    def sales(self, sales):\\n        self._sales = sales if sales > 0 else 0\\n\\n    def get_salary(self):\\n        return 1200.0 + self._sales * 0.05\\n\\n\\ndef main():\\n    emps = [\\n        Manager(\\'a\\'), Programmer(\\'b\\'),\\n        Manager(\\'c\\'), Salesman(\\'d\\'),\\n        Salesman(\\'e\\'), Programmer(\\'f\\'),\\n        Programmer(\\'g\\')\\n    ]\\n    for emp in emps:\\n        if isinstance(emp, Programmer):\\n            emp.working_hour = int(input(\\'请输入%s本月工作时间: \\' % emp.name))\\n        elif isinstance(emp, Salesman):\\n            emp.sales = float(input(\\'请输入%s本月销售额: \\' % emp.name))\\n        # 同样是接收get_salary这个消息但是不同的员工表现出了不同的行为(多态)\\n        print(\\'%s本月工资为: ￥%s元\\' %\\n              (emp.name, emp.get_salary()))\\n\\n\\n# main()', '_i344': \"def foo():\\n    print('hello, world!')\\n\\ndef foo():\\n    print('goodbye, world!')\\n\\n# 下面的代码会输出什么呢？\\nfoo()\\n# goodbye, world!\", '_i345': 'import os  # 引入内置模块 os  \\nimport sys  # 引入内置模块 sys  \\n  \\n# 使用 os 模块中的方法  \\nprint(os.getcwd())  \\n  \\n# 使用 sys 模块中的方法  \\nprint(sys.version)  ', '_i346': 'def func():\\n    a = 1  # a 在局部命名空间中\\n    print(locals())  # 打印当前函数的局部命名空间\\n\\nb = 2  # b 在全局命名空间中\\n# print(globals())  # 打印当前模块的全局命名空间', 'func': <function func at 0x0000024D5E3E43A0>, '_i347': '# 示例：命名空间和作用域\\n\\n# 全局变量\\nx = \"global\"\\n\\ndef outer_function():\\n    # 嵌套函数的外部函数变量\\n    x = \"outer\"\\n\\n    def inner_function():\\n        # 嵌套函数变量\\n        nonlocal x  # 使用外部函数的变量\\n        x = \"inner\"\\n        print(\"Inner:\", x)\\n\\n    inner_function()\\n    print(\"Outer:\", x)\\n\\nouter_function()\\nprint(\"Global:\", x)\\n\\n# Inner: inner\\n# Outer: inner\\n# Global: global', 'outer_function': <function outer_function at 0x0000024D5E24F940>, '_i348': \"def func(a=1):\\n    b = 2\\n    print(locals())  # 打印当前函数的局部命名空间\\n    '''\\n    locs = locals()  # locals() 返回一个只读的字典\\n    locs['c'] = 3  # 试图修改 locals() 会报错\\n    print(c)\\n    '''\\n    return a + b\\n\\nfunc()\\n\\nglos = globals()\\nglos['d'] = 4  # 可以通过 globals() 修改全局命名空间\\nprint(d)  # 输出：4\\n\\nprint(globals())  # 打印当前模块的全局命名空间\\n\\n# {'a': 1, 'b': 2}\\n# 4\\n# {'__name__': '__main__', '__doc__': None, '__package__': None, \\n# '__loader__': <_frozen_importlib_external.SourceFileLoader object at 0x7f8b5c7c4e80>, \\n# '__spec__': None, '__annotations__': {}, \\n# '__builtins__': <module 'builtins' (built-in)>, \\n# '__file__': 'namespace_test.py', '__cached__': None, \\n# 'func': <function func at 0x7f8b5c7c4c10>, \\n# 'glos': {...}, 'd': 4}\", 'glos': {...}}\n"
     ]
    }
   ],
   "source": [
    "def func(a=1):\n",
    "    b = 2\n",
    "    print(locals())  # 打印当前函数的局部命名空间\n",
    "    '''\n",
    "    locs = locals()  # locals() 返回一个只读的字典\n",
    "    locs['c'] = 3  # 试图修改 locals() 会报错\n",
    "    print(c)\n",
    "    '''\n",
    "    return a + b\n",
    "\n",
    "func()\n",
    "\n",
    "glos = globals()\n",
    "glos['d'] = 4  # 可以通过 globals() 修改全局命名空间\n",
    "print(d)  # 输出：4\n",
    "\n",
    "print(globals())  # 打印当前模块的全局命名空间\n",
    "\n",
    "# {'a': 1, 'b': 2}\n",
    "# 4\n",
    "# {'__name__': '__main__', '__doc__': None, '__package__': None, \n",
    "# '__loader__': <_frozen_importlib_external.SourceFileLoader object at 0x7f8b5c7c4e80>, \n",
    "# '__spec__': None, '__annotations__': {}, \n",
    "# '__builtins__': <module 'builtins' (built-in)>, \n",
    "# '__file__': 'namespace_test.py', '__cached__': None, \n",
    "# 'func': <function func at 0x7f8b5c7c4c10>, \n",
    "# 'glos': {...}, 'd': 4}\n",
    "\n"
   ]
  },
  {
   "cell_type": "markdown",
   "metadata": {},
   "source": [
    "* **命名空间与导入**（import）\n",
    "在 Python 中，import 语句用于导入模块，将模块的名字和模块对象绑定到当前命名空间。\n",
    "    * 导入整个模块\n",
    "    * 从模块中导入特定的函数或变量\n",
    "    * 导入模块并指定别名\n",
    "    * 从模块中导入所有内容（不推荐）"
   ]
  },
  {
   "cell_type": "markdown",
   "metadata": {},
   "source": [
    "使用 import 语句时，Python 会在以下位置按顺序查找模块：\n",
    "1. 当前目录\n",
    "2. PYTHONPATH 环境变量中的目录\n",
    "3. 标准库目录\n",
    "4. 已安装包的目录"
   ]
  },
  {
   "cell_type": "markdown",
   "metadata": {},
   "source": [
    "**导入命名空间包**（Namespace Package）<br>\n",
    "命名空间包允许将多个物理目录合并为一个逻辑包，而不需要 __init__.py 文件。它通常用于大型项目或插件系统。\n",
    "```\n",
    "project/\n",
    "    part1/\n",
    "        mynamespace/\n",
    "            module1.py\n",
    "    part2/\n",
    "        mynamespace/\n",
    "            module2.py\n",
    "    main.py\n",
    "\n",
    "# main.py\n",
    "import sys\n",
    "sys.path.extend(['/path/to/project/part1', '/path/to/project/part2'])\n",
    "\n",
    "import mynamespace.module1\n",
    "import mynamespace.module2\n",
    "\n",
    "mynamespace.module1.func1()\n",
    "mynamespace.module2.func2()\n",
    "\n",
    "# part1/mynamespace/module1.py：\n",
    "def func1():\n",
    "    print(\"This is func1 from module1 in part1\")\n",
    "\n",
    "# part2/mynamespace/module2.py：\n",
    "def func2():\n",
    "    print(\"This is func2 from module2 in part2\")\n",
    "\n",
    "# 在项目的顶层目录 project/ 中运行 main.py：\n",
    "python main.py\n",
    "\n",
    "# output\n",
    "This is func1 from module1 in part1\n",
    "This is func2 from module2 in part2    \n",
    "\n"
   ]
  },
  {
   "cell_type": "code",
   "execution_count": null,
   "metadata": {},
   "outputs": [],
   "source": [
    "# project/\n",
    "#     part1/\n",
    "#         mynamespace/\n",
    "#             module1.py\n",
    "#     part2/\n",
    "#         mynamespace/\n",
    "#             module2.py\n",
    "#     main.py\n",
    "\n",
    "# # main.py\n",
    "# import sys\n",
    "# sys.path.extend(['/path/to/project/part1', '/path/to/project/part2'])\n",
    "\n",
    "# import mynamespace.module1\n",
    "# import mynamespace.module2\n",
    "\n",
    "# mynamespace.module1.func1()\n",
    "# mynamespace.module2.func2()\n",
    "\n",
    "# # part1/mynamespace/module1.py：\n",
    "# def func1():\n",
    "#     print(\"This is func1 from module1 in part1\")\n",
    "\n",
    "# # part2/mynamespace/module2.py：\n",
    "# def func2():\n",
    "#     print(\"This is func2 from module2 in part2\")\n",
    "\n",
    "# # 在项目的顶层目录 project/ 中运行 main.py：\n",
    "# python main.py\n",
    "\n",
    "# # output\n",
    "# This is func1 from module1 in part1\n",
    "# This is func2 from module2 in part2    "
   ]
  }
 ],
 "metadata": {
  "kernelspec": {
   "display_name": "kiana",
   "language": "python",
   "name": "python3"
  },
  "language_info": {
   "codemirror_mode": {
    "name": "ipython",
    "version": 3
   },
   "file_extension": ".py",
   "mimetype": "text/x-python",
   "name": "python",
   "nbconvert_exporter": "python",
   "pygments_lexer": "ipython3",
   "version": "3.9.21"
  }
 },
 "nbformat": 4,
 "nbformat_minor": 2
}
