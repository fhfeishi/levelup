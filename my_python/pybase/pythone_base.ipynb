{
 "cells": [
  {
   "cell_type": "markdown",
   "metadata": {},
   "source": [
    "## 一、Python数据类型\n",
    "\n",
    "### 0、NoneType  \n",
    "### 1、布尔类型（Boolean）\n",
    "### 2、数字类型（Numeric Typies）\n",
    "### 3、字符串（String）\n",
    "### 4、元组（Tuple）\n",
    "### 5、集合（Set）\n",
    "### 6、列表（List）\n",
    "### 7、字典（Dictionary）"
   ]
  },
  {
   "cell_type": "code",
   "execution_count": 6,
   "metadata": {},
   "outputs": [
    {
     "name": "stdout",
     "output_type": "stream",
     "text": [
      "<class 'NoneType'>\n"
     ]
    }
   ],
   "source": [
    "# NoneType  这个数据类型比较特殊，也就只有None是NoneType。\n",
    "print(type(None))   # <class 'NoneType'>"
   ]
  },
  {
   "cell_type": "markdown",
   "metadata": {},
   "source": [
    "### 1、布尔类型（Boolean）\n",
    "* 用来表示真（True）和假（False）的值，常用于条件判断"
   ]
  },
  {
   "cell_type": "code",
   "execution_count": 8,
   "metadata": {},
   "outputs": [
    {
     "name": "stdout",
     "output_type": "stream",
     "text": [
      "<class 'bool'>\n",
      "<class 'bool'>\n"
     ]
    }
   ],
   "source": [
    "is_student = True\n",
    "has_graduated = False\n",
    "\n",
    "print(type(is_student))   # <class 'bool'>\n",
    "print(type(has_graduated))   # <class 'bool'>"
   ]
  },
  {
   "cell_type": "markdown",
   "metadata": {},
   "source": [
    "### 2、数字类型（Numeric Typies）\n",
    "* int（整数）： 用于表示整数值，没有小数部分\n",
    "* 浮点数（float）： 用于表示带有小数部分的数值\n",
    "* 复数（complex）：用于表示复数，包含实部和虚部"
   ]
  },
  {
   "cell_type": "code",
   "execution_count": 9,
   "metadata": {},
   "outputs": [
    {
     "name": "stdout",
     "output_type": "stream",
     "text": [
      "<class 'int'>\n",
      "<class 'int'>\n",
      "<class 'float'>\n",
      "<class 'float'>\n",
      "<class 'complex'>\n"
     ]
    }
   ],
   "source": [
    "# int\n",
    "a = 10\n",
    "b = -1  \n",
    "print(type(a))  # <class 'int'>\n",
    "print(type(b))  # <class 'int'>\n",
    "\n",
    "# float\n",
    "c = 3.4\n",
    "d = -0.002\n",
    "print(type(c))  # <class 'float'>\n",
    "print(type(d))  # <class 'float'>\n",
    "\n",
    "# complex\n",
    "e = -2 + 4j\n",
    "print(type(e))   # <class 'complex'>"
   ]
  },
  {
   "cell_type": "markdown",
   "metadata": {},
   "source": [
    "* 四则混合运算、科学计数法、常用数字运算函数"
   ]
  },
  {
   "cell_type": "code",
   "execution_count": 12,
   "metadata": {},
   "outputs": [
    {
     "name": "stdout",
     "output_type": "stream",
     "text": [
      "add_=3\n",
      "add_b=1.1\n"
     ]
    }
   ],
   "source": [
    "# 加 + \n",
    "add_ = 1 + 2\n",
    "add_b = 1.0 + .1\n",
    "print(f\"{add_=}\")   # add_=3\n",
    "print(f\"{add_b=}\")   # add_b=1.1"
   ]
  },
  {
   "cell_type": "code",
   "execution_count": 13,
   "metadata": {},
   "outputs": [
    {
     "name": "stdout",
     "output_type": "stream",
     "text": [
      "subtraction_=-1\n",
      "subtraction_b=-1.0\n"
     ]
    }
   ],
   "source": [
    "# 减 -\n",
    "subtraction_ = 1-2\n",
    "subtraction_b = 1-2. \n",
    "print(f\"{subtraction_=}\")  # subtraction_=-1\n",
    "print(f\"{subtraction_b=}\")  # subtraction_b=-1.0"
   ]
  },
  {
   "cell_type": "code",
   "execution_count": 14,
   "metadata": {},
   "outputs": [
    {
     "name": "stdout",
     "output_type": "stream",
     "text": [
      "multiplication_=6\n",
      "multiplication_b=6.0\n"
     ]
    }
   ],
   "source": [
    "# 乘 *\n",
    "multiplication_ = 2*3\n",
    "multiplication_b = 2.*3\n",
    "print(f\"{multiplication_=}\")   # multiplication_=6\n",
    "print(f\"{multiplication_b=}\")  # multiplication_b=6.0"
   ]
  },
  {
   "cell_type": "code",
   "execution_count": 15,
   "metadata": {},
   "outputs": [
    {
     "name": "stdout",
     "output_type": "stream",
     "text": [
      "division_=0.5\n",
      "division_b=2.0\n"
     ]
    }
   ],
   "source": [
    "# 除 /\n",
    "division_ = 1/2\n",
    "division_b = 2/1\n",
    "print(f\"{division_=}\")  # division_=0.5\n",
    "print(f\"{division_b=}\")  # division_b=2.0"
   ]
  },
  {
   "cell_type": "code",
   "execution_count": 16,
   "metadata": {},
   "outputs": [
    {
     "name": "stdout",
     "output_type": "stream",
     "text": [
      "rounding_=0\n",
      "remainder_=1\n"
     ]
    }
   ],
   "source": [
    "# 取商 //\n",
    "rounding_ = 1 //2\n",
    "print(f\"{rounding_=}\")   # rounding_=0\n",
    "\n",
    "# 取余 % \n",
    "remainder_ = 1%2\n",
    "print(f\"{remainder_=}\")  # remainder_=1"
   ]
  },
  {
   "cell_type": "code",
   "execution_count": 17,
   "metadata": {},
   "outputs": [
    {
     "name": "stdout",
     "output_type": "stream",
     "text": [
      "power_=8\n"
     ]
    }
   ],
   "source": [
    "# 幂运算 **\n",
    "power_ = 2**3\n",
    "print(f\"{power_=}\")  # power_=8"
   ]
  },
  {
   "cell_type": "code",
   "execution_count": 21,
   "metadata": {},
   "outputs": [
    {
     "name": "stdout",
     "output_type": "stream",
     "text": [
      "a=1000.0\n",
      "b=-0.0002\n"
     ]
    }
   ],
   "source": [
    "# 科学计数法\n",
    "a = 1e3\n",
    "print(f\"{a=}\")  # a=1000.0\n",
    "\n",
    "b = -2e-4\n",
    "print(f\"{b=}\")  # b=-0.0002"
   ]
  },
  {
   "cell_type": "code",
   "execution_count": 28,
   "metadata": {},
   "outputs": [
    {
     "name": "stdout",
     "output_type": "stream",
     "text": [
      "取绝对值：abs(number)=7.25\n",
      "求幂：pow(2,3)=8\n",
      "小数位数调整(有四舍五入)：round(3.1415, 3)=3.142\n",
      "取商取余：divmod(10,3)=(3, 1)\n"
     ]
    }
   ],
   "source": [
    "# 常用数字运算函数\n",
    "number = -7.25\n",
    "\n",
    "print(f\"取绝对值：{abs(number)=}\")  # 取绝对值：abs(number)=7.25\n",
    "print(f\"求幂：{pow(2,3)=}\")  # 求幂：pow(2,3)=8\n",
    "print(f\"小数位数调整(有四舍五入)：{round(3.1415, 3)=}\")  # 小数位数调整(有四舍五入)：round(3.1415, 3)=3.142\n",
    "print(f\"取商取余：{divmod(10,3)=}\")  # 取商取余：divmod(10,3)=(3, 1)"
   ]
  },
  {
   "cell_type": "code",
   "execution_count": 24,
   "metadata": {},
   "outputs": [
    {
     "name": "stdout",
     "output_type": "stream",
     "text": [
      "int(a)=1\n",
      "<class 'int'>\n",
      "float(b)=2.0\n",
      "<class 'float'>\n",
      "type(empty_int)=<class 'int'>\n",
      "type(empty_float)=<class 'float'>\n"
     ]
    }
   ],
   "source": [
    "# 数字类型转换\n",
    "a = 1.2  # <class 'float'>\n",
    "b = 2  # <class 'int'>\n",
    "print(f\"{int(a)=}\")  # int(a)=1\n",
    "print(type(int(a)))  # <class 'int'>\n",
    "print(f\"{float(b)=}\")  # float(b)=2.0\n",
    "print(type(float(b)))  # <class 'float'>\n",
    "\n",
    "# 空int \n",
    "empty_int = int()\n",
    "print(f\"{type(empty_int)=}\")   # type(empty_int)=<class 'int'>\n",
    "\n",
    "# 空float\n",
    "empty_float = float()\n",
    "print(f\"{type(empty_float)=}\")  # type(empty_float)=<class 'float'>"
   ]
  },
  {
   "cell_type": "markdown",
   "metadata": {},
   "source": [
    "### 3、字符串（String）\n",
    "* 用于存储文本数据，可以使用单引号、双引号或者三引号（三引号可以用于多行字符串）"
   ]
  },
  {
   "cell_type": "code",
   "execution_count": 18,
   "metadata": {},
   "outputs": [
    {
     "name": "stdout",
     "output_type": "stream",
     "text": [
      "<class 'str'>\n"
     ]
    }
   ],
   "source": [
    "name = \"Alili\"\n",
    "greeting = \"Hello !\"\n",
    "multiline = \"\"\"This is \n",
    "a \n",
    "multiline.\"\"\"\n",
    "\n",
    "# 空字符串   <class 'str'>\n",
    "empty_str = str()\n",
    "# empty_str = ''\n",
    "# empty_str = \"\"\n",
    "print(type(empty_str))    # <class 'str'>"
   ]
  },
  {
   "cell_type": "markdown",
   "metadata": {},
   "source": [
    "* 字符串是不可变类型，字符串在Python中是不可变的。这意味着一旦创建，字符串的内容不能被修改。所有对字符串的“修改”操作实际上都是创建了新的字符串对象。"
   ]
  },
  {
   "cell_type": "code",
   "execution_count": 2,
   "metadata": {},
   "outputs": [
    {
     "ename": "TypeError",
     "evalue": "'str' object does not support item assignment",
     "output_type": "error",
     "traceback": [
      "\u001b[1;31m---------------------------------------------------------------------------\u001b[0m",
      "\u001b[1;31mTypeError\u001b[0m                                 Traceback (most recent call last)",
      "Cell \u001b[1;32mIn[2], line 3\u001b[0m\n\u001b[0;32m      1\u001b[0m s \u001b[38;5;241m=\u001b[39m \u001b[38;5;124m\"\u001b[39m\u001b[38;5;124mHello\u001b[39m\u001b[38;5;124m\"\u001b[39m\n\u001b[0;32m      2\u001b[0m \u001b[38;5;66;03m# 尝试修改第一个字符\u001b[39;00m\n\u001b[1;32m----> 3\u001b[0m \u001b[43ms\u001b[49m\u001b[43m[\u001b[49m\u001b[38;5;241;43m0\u001b[39;49m\u001b[43m]\u001b[49m \u001b[38;5;241m=\u001b[39m \u001b[38;5;124m'\u001b[39m\u001b[38;5;124mh\u001b[39m\u001b[38;5;124m'\u001b[39m\n",
      "\u001b[1;31mTypeError\u001b[0m: 'str' object does not support item assignment"
     ]
    }
   ],
   "source": [
    "s = \"Hello\"\n",
    "# 尝试修改第一个字符\n",
    "s[0] = 'h'    # TypeError: 'str' object does not support item assignment"
   ]
  },
  {
   "cell_type": "code",
   "execution_count": 3,
   "metadata": {},
   "outputs": [
    {
     "name": "stdout",
     "output_type": "stream",
     "text": [
      "hello\n"
     ]
    }
   ],
   "source": [
    "# 正确的做法是创建一个新的字符串\n",
    "s_new = 'hello'\n",
    "print(s_new)  # hello"
   ]
  },
  {
   "cell_type": "markdown",
   "metadata": {},
   "source": [
    "* 字符串是有序的字符序列，每个字符都有一个索引，Python支持通过索引访问字符串中的单个字符，并支持切片操作获取子字符串。这对于列表、元组同样适用。"
   ]
  },
  {
   "cell_type": "code",
   "execution_count": 7,
   "metadata": {},
   "outputs": [
    {
     "name": "stdout",
     "output_type": "stream",
     "text": [
      "H\n",
      "P\n",
      "!\n",
      "y\n",
      "Hello\n",
      "Python !\n",
      "Hello\n",
      "Hlo yhn!\n",
      "! nohtyP ,olleH\n",
      "thon \n"
     ]
    }
   ],
   "source": [
    "s = \"Hello, Python !\"\n",
    "\n",
    "# 索引\n",
    "# 正向索引  从0开始\n",
    "print(s[0])   # H\n",
    "print(s[7])   # P\n",
    "# 反向索引  从-1开始\n",
    "print(s[-1])  # !\n",
    "print(s[-7])  # y\n",
    "\n",
    "\n",
    "# 切片\n",
    "# 基本切片\n",
    "print(s[0:5])  # Hello\n",
    "print(s[7:])  # Python !\n",
    "print(s[:5])  # Hello\n",
    "# 使用步长   start:end:step     step默认是1，也就是连续取，step=2就是隔一个取\n",
    "print(s[::2])  # Hlo yhn!\n",
    "print(s[::-1])  # ! nohtyP ,olleH\n",
    "# 负数索引切片 \n",
    "print(s[-6:-1])  # thon "
   ]
  },
  {
   "cell_type": "markdown",
   "metadata": {},
   "source": [
    "* 字符串能够索引，自然也支持切片。此外，字符串也支持拼接或重复等操作"
   ]
  },
  {
   "cell_type": "code",
   "execution_count": 11,
   "metadata": {},
   "outputs": [
    {
     "name": "stdout",
     "output_type": "stream",
     "text": [
      "Hello,World!\n",
      "Python is awesome\n",
      "Echo! Echo! Echo! \n"
     ]
    }
   ],
   "source": [
    "# 拼接\n",
    "# 使用加号\n",
    "s1 = \"Hello\"\n",
    "s2 = \"World\"\n",
    "s3 = s1 + \",\" + s2 + \"!\"\n",
    "print(s3) # Hello,World!\n",
    "\n",
    "# 使用join()方法\n",
    "words= [\"Python\", \"is\", \"awesome\"]\n",
    "sentense = \" \".join(words)\n",
    "print(sentense)  # Python is awesome\n",
    "\n",
    "# 重复\n",
    "s = 'Echo! '\n",
    "repeated = s * 3\n",
    "print(repeated)  # Echo! Echo! Echo! "
   ]
  },
  {
   "cell_type": "markdown",
   "metadata": {},
   "source": [
    "Python字符串方法丰富，以下是一些常用的方法及示例。\n",
    "* 分割。split()方法根据指定的分隔符将字符串分割成列表，默认分隔符位空格； rsplit()方法从右侧开始分割字符串，功能与split()类似，但是可以指定最大分割次数"
   ]
  },
  {
   "cell_type": "code",
   "execution_count": 17,
   "metadata": {},
   "outputs": [
    {
     "name": "stdout",
     "output_type": "stream",
     "text": [
      "['Python', 'is', 'fun', 'and', 'powerful.']\n",
      "['Python is fun and powerful', '']\n",
      "['apple', 'banana', 'cherry']\n"
     ]
    }
   ],
   "source": [
    "# 分割\n",
    "\n",
    "s = \"Python is fun and powerful.\"\n",
    "words = s.split()\n",
    "print(words)   # ['Python', 'is', 'fun', 'and', 'powerful.']\n",
    "\n",
    "# words = s.split(' ', 1)  # 看python的版本是否支持\n",
    "# print(words)  # ['Python', 'is fun and powerful.']\n",
    "\n",
    "# 使用指定分隔符\n",
    "words_dot = s.split('.')\n",
    "print(words_dot)  # ['Python is fun and powerful', '']\n",
    "\n",
    "s_ = \"apple,banana,cherry\"\n",
    "# rsplit  从右开始分割\n",
    "fruits = s_.rsplit(',', 2)\n",
    "print(fruits)  # ['apple', 'banana', 'cherry']\n"
   ]
  },
  {
   "cell_type": "markdown",
   "metadata": {},
   "source": [
    "* 查找。<br>find()返回子字符串首次出现的位置，如果未找到则返回-1；rfind()返回子字符串最后一次出现的位置，如果未找到则返回-1"
   ]
  },
  {
   "cell_type": "code",
   "execution_count": 19,
   "metadata": {},
   "outputs": [
    {
     "name": "stdout",
     "output_type": "stream",
     "text": [
      "4\n",
      "7\n"
     ]
    }
   ],
   "source": [
    "s = 'abracadabra'\n",
    "\n",
    "index = s.find('cad')\n",
    "print(index)  # 4\n",
    "\n",
    "last_idx = s.rfind('abra')\n",
    "print(last_idx)  # 7"
   ]
  },
  {
   "cell_type": "markdown",
   "metadata": {},
   "source": [
    "* 大小写转换<br>\n",
    "upper()将字符串转换成大写；lower()系那个字符串转换成小写"
   ]
  },
  {
   "cell_type": "code",
   "execution_count": 20,
   "metadata": {},
   "outputs": [
    {
     "name": "stdout",
     "output_type": "stream",
     "text": [
      "A, A\n",
      "a, a\n"
     ]
    }
   ],
   "source": [
    "s = \"a, A\"\n",
    "print(s.upper())  # A, A\n",
    "print(s.lower())  # a, a"
   ]
  },
  {
   "cell_type": "markdown",
   "metadata": {},
   "source": [
    "* **移除指定字符串**<br>\n",
    "strip()移除字符串两端的指定字符(默认空格)，lstrip()移除字符串左侧的指定字符(默认空格)， rstrip()移除字符串右侧的指定字符(默认空格)"
   ]
  },
  {
   "cell_type": "code",
   "execution_count": 21,
   "metadata": {},
   "outputs": [
    {
     "name": "stdout",
     "output_type": "stream",
     "text": [
      "Hello, Python\n",
      "Hello, Python  \n",
      "  Hello, Python\n"
     ]
    }
   ],
   "source": [
    "s = \"  Hello, Python  \"\n",
    "\n",
    "print(s.strip())  # Hello, Python\n",
    "print(s.lstrip()) # Hello, Python\n",
    "print(s.rstrip()) #   Hello, Python"
   ]
  },
  {
   "cell_type": "markdown",
   "metadata": {},
   "source": [
    "* **判断字符串的开头、结尾** <br>\n",
    "startswith()检查字符串是否以指定子字符串开头； endswith()检查字符串是否以子字符串结尾"
   ]
  },
  {
   "cell_type": "code",
   "execution_count": 22,
   "metadata": {},
   "outputs": [
    {
     "name": "stdout",
     "output_type": "stream",
     "text": [
      "True\n",
      "True\n",
      "False\n"
     ]
    }
   ],
   "source": [
    "s = \"Pyrhon Programming\"\n",
    "\n",
    "print(s.startswith('Py'))  # True\n",
    "print(s.endswith('g'))  # True\n",
    "print(s.startswith('Java'))  # False"
   ]
  },
  {
   "cell_type": "markdown",
   "metadata": {},
   "source": [
    "* count()方法用于统计子字符串在字符串中出现的次数"
   ]
  },
  {
   "cell_type": "code",
   "execution_count": 24,
   "metadata": {},
   "outputs": [
    {
     "name": "stdout",
     "output_type": "stream",
     "text": [
      "3\n"
     ]
    }
   ],
   "source": [
    "s = 'banana'\n",
    "\n",
    "count = s.count('a')\n",
    "print(count)  # 3"
   ]
  },
  {
   "cell_type": "markdown",
   "metadata": {},
   "source": [
    "* index()方法用于查看子字符串在字符串中的索引位置"
   ]
  },
  {
   "cell_type": "code",
   "execution_count": 25,
   "metadata": {},
   "outputs": [
    {
     "name": "stdout",
     "output_type": "stream",
     "text": [
      "1\n"
     ]
    }
   ],
   "source": [
    "s = 'banana'\n",
    "\n",
    "index_ = s.index('a')\n",
    "print(index_)  # 1"
   ]
  },
  {
   "cell_type": "markdown",
   "metadata": {},
   "source": [
    "* **字符串格式化**<br>\n",
    "字符串格式化用于动态插入变量到字符串中。Python提供了多种格式化方法，包括%格式化、str.format()和f-str(Python 3.6+)。f-str提供了一种简洁的格式化方法，直接在字符串前加f并在花括号{}中引入变量，推荐使用"
   ]
  },
  {
   "cell_type": "code",
   "execution_count": 27,
   "metadata": {},
   "outputs": [
    {
     "name": "stdout",
     "output_type": "stream",
     "text": [
      "My name is Alili and I am 24 years old.\n",
      "My name is Alili and I am 24.00 years old.\n",
      "My name is Alili and I am 24.00 years old.\n"
     ]
    }
   ],
   "source": [
    "name = \"Alili\"\n",
    "age = 24\n",
    "\n",
    "# %\n",
    "s = \"My name is %s and I am %d years old.\" % (name, age)\n",
    "print(s)\n",
    "\n",
    "# str.format()\n",
    "format_mtd = \"My name is {} and I am {:.2f} years old.\".format(name, age)\n",
    "print(format_mtd)  # My name is Alili and I am 24.00 years old.\n",
    "# format_mtd = \"My name is {0} and I am {1} years old.\".format(name, age)\n",
    "# format_mtd = \"My name is {0} and I am {1:.2f} years old.\".format(name, age)\n",
    "\n",
    "# f-str\n",
    "f_method = f\"My name is {name} and I am {age:.2f} years old.\"\n",
    "print(f_method)  # My name is Alili and I am 24.00 years old."
   ]
  },
  {
   "cell_type": "markdown",
   "metadata": {},
   "source": [
    "* **转义字符与原始字符串** <br>字符串中可以包含特殊字符，如换行符 (\\n)、制表符 (\\t) 等。使用反斜杠 (\\) 作为转义字符；使用 r 或 R 前缀可以创建原始字符串，忽略转义字符，原始字符串多用于文件路径。"
   ]
  },
  {
   "cell_type": "code",
   "execution_count": 28,
   "metadata": {},
   "outputs": [
    {
     "name": "stdout",
     "output_type": "stream",
     "text": [
      "Hello,\n",
      "Python!\n",
      "C:\\Users\\Alili\\Documents\n"
     ]
    }
   ],
   "source": [
    "s = \"Hello,\\nPython!\"\n",
    "print(s)\n",
    "# Hello,\n",
    "# Python!\n",
    "\n",
    "s = r\"C:\\Users\\Alili\\Documents\"\n",
    "print(s)  # C:\\Users\\Alice\\Documents"
   ]
  },
  {
   "cell_type": "markdown",
   "metadata": {},
   "source": [
    "* **字符串长度** <br>使用 len() 函数获取字符串的长度。"
   ]
  },
  {
   "cell_type": "code",
   "execution_count": 29,
   "metadata": {},
   "outputs": [
    {
     "name": "stdout",
     "output_type": "stream",
     "text": [
      "6\n"
     ]
    }
   ],
   "source": [
    "s = \"Python\"\n",
    "print(len(s))  # 6"
   ]
  },
  {
   "cell_type": "markdown",
   "metadata": {},
   "source": [
    "* **检查子字符串**<br>使用 in 和 not in 关键字检查字符串中是否包含某个子字符串。"
   ]
  },
  {
   "cell_type": "code",
   "execution_count": 30,
   "metadata": {},
   "outputs": [
    {
     "name": "stdout",
     "output_type": "stream",
     "text": [
      "True\n",
      "True\n"
     ]
    }
   ],
   "source": [
    "s = \"Python Programming\"\n",
    "print(\"Python\" in s)      # True\n",
    "print(\"Java\" not in s)    # True"
   ]
  },
  {
   "cell_type": "markdown",
   "metadata": {},
   "source": [
    "* **遍历字符串** <br> 可以使用for循环遍历字符串中的每个字符"
   ]
  },
  {
   "cell_type": "code",
   "execution_count": 31,
   "metadata": {},
   "outputs": [
    {
     "name": "stdout",
     "output_type": "stream",
     "text": [
      "H\n",
      "e\n",
      "l\n",
      "l\n",
      "o\n"
     ]
    }
   ],
   "source": [
    "s = \"Hello\"\n",
    "for char in s:\n",
    "    print(char)\n",
    "# H\n",
    "# e\n",
    "# l\n",
    "# l\n",
    "# o"
   ]
  },
  {
   "cell_type": "markdown",
   "metadata": {},
   "source": [
    "* **列表转换**<br>将字符串转换为列表，或者将列表转换位为字符串"
   ]
  },
  {
   "cell_type": "code",
   "execution_count": 33,
   "metadata": {},
   "outputs": [
    {
     "name": "stdout",
     "output_type": "stream",
     "text": [
      "['H', 'e', 'l', 'l', 'o']\n",
      "Hello\n"
     ]
    }
   ],
   "source": [
    "s = \"Hello\"\n",
    "\n",
    "# 转换为列表\n",
    "chars = list(s)\n",
    "print(chars)  # ['H', 'e', 'l', 'l', 'o']\n",
    "\n",
    "# 列表转换为字符串\n",
    "s_new = ''.join(chars)\n",
    "print(s_new)  # Hello"
   ]
  },
  {
   "cell_type": "markdown",
   "metadata": {},
   "source": [
    "* **字符串查找替换**<br>结合find()和replace()方法，可以进行复杂的查找与替换操作"
   ]
  },
  {
   "cell_type": "code",
   "execution_count": 34,
   "metadata": {},
   "outputs": [
    {
     "name": "stdout",
     "output_type": "stream",
     "text": [
      "16\n",
      "The quick brown cat jumps over the lazy dog.\n"
     ]
    }
   ],
   "source": [
    "s = \"The quick brown fox jumps over the lazy dog.\"\n",
    "# 查找子字符串\n",
    "index = s.find(\"fox\")\n",
    "print(index)  # 16\n",
    "# 替换子字符串\n",
    "s_new = s.replace(\"fox\", \"cat\")  \n",
    "print(s_new)  # The quick brown cat jumps over the lazy dog."
   ]
  },
  {
   "cell_type": "markdown",
   "metadata": {},
   "source": [
    "### 4、元组（Tuple）\n"
   ]
  },
  {
   "cell_type": "markdown",
   "metadata": {},
   "source": [
    "* 有序但不可变的序列对象，适用于存储不需要修改的数据。创建元组最简单的方式是用逗号分隔开一列值，当用复杂的表达式定义元组时最好将值放到圆括号`()`内"
   ]
  },
  {
   "cell_type": "code",
   "execution_count": 38,
   "metadata": {},
   "outputs": [
    {
     "name": "stdout",
     "output_type": "stream",
     "text": [
      "(1, 2, 4)\n",
      "((4, 2, 1), (3, 9))\n",
      "<class 'tuple'>\n"
     ]
    }
   ],
   "source": [
    "tup = 1,2,4\n",
    "# tup = 1,2,4,\n",
    "# tup = (1,2,4)\n",
    "# tup = (1,2,4,)\n",
    "print(tup)   # (1, 2, 4)\n",
    "\n",
    "z_tup = (4,2,1), (3,9)\n",
    "print(z_tup)   # ((4, 2, 1), (3, 9))\n",
    "\n",
    "# 空元组\n",
    "empty_tup = ()   #  <class 'tuple'>\n",
    "# empty_tup = tuple()   # <class 'tuple'>\n",
    "print(type(empty_tup))   # <class 'tuple'>"
   ]
  },
  {
   "cell_type": "markdown",
   "metadata": {},
   "source": [
    "* 用`tuple()`可以将任意序列或者迭代器转换成元组"
   ]
  },
  {
   "cell_type": "code",
   "execution_count": 39,
   "metadata": {},
   "outputs": [
    {
     "name": "stdout",
     "output_type": "stream",
     "text": [
      "(1, 3, 2, 4, 2)\n",
      "('A', 'b', 'C', 'd', 'e', 'f')\n"
     ]
    }
   ],
   "source": [
    "tuple_a = tuple([1,3,2,4,2])  # (1, 3, 2, 4, 2)\n",
    "print(tuple_a)\n",
    "tuple_b = tuple(\"AbCdef\")  # ('A', 'b', 'C', 'd', 'e', 'f')\n",
    "print(tuple_b)"
   ]
  },
  {
   "cell_type": "markdown",
   "metadata": {},
   "source": [
    "* 元组具有有序、不可变、支持重复元素的特点，元组支持索引。元组中存储的对象可能是可变对象，一旦创建了元组，元组中的对象就不能修改了"
   ]
  },
  {
   "cell_type": "code",
   "execution_count": 43,
   "metadata": {},
   "outputs": [
    {
     "name": "stdout",
     "output_type": "stream",
     "text": [
      "True\n"
     ]
    }
   ],
   "source": [
    "tuple_c = tuple(['start', [0,0], 1, False])\n",
    "id_before = id(tuple_c[1])  # 3004552076736\n",
    "\n",
    "# tuple_c[1] = [0,0,1] # 会引发 TypeError\n",
    "tuple_c[1].append(1)  # ('start', [0, 0, 1], 1, False) \n",
    "id_after = id(tuple_c[1])  # 3004552076736\n",
    "\n",
    "print(id_before == id_after) # True\n",
    "\n",
    "# 在Python中，每个对象都有一个唯一的身份标识，用于区分不同的对象。\n",
    "# id() 函数用于获取对象的唯一标识符。这是一个唯一的整数，且在对象的生命周期内保持不变\n",
    "# id_before == id_after，id_before、id_after引用的是同一个对象 tuple_c[1]\n",
    "# is 运算符,用于判断两个变量是否引用同一个对象,等同于比较两个变量的id是否相同"
   ]
  },
  {
   "cell_type": "markdown",
   "metadata": {},
   "source": [
    "在Python中，变量实际上是对象的引用。不同变量可以引用同一个对象，也可以引用不同的对象。\n",
    "* id(object) 函数返回对象的“身份”，这是一个唯一的整数，且在对象的生命周期内保持不变。\n",
    "* is 运算符,用于判断两个变量是否引用同一个对象,等同于比较两个变量的id是否相同"
   ]
  },
  {
   "cell_type": "markdown",
   "metadata": {},
   "source": [
    "* 用加号运算符可以将元组串联起来，也可以乘以一个整数，将几个元组的复制串联起来（对象本身并没有复制，只是引用了它）。"
   ]
  },
  {
   "cell_type": "code",
   "execution_count": 44,
   "metadata": {},
   "outputs": [
    {
     "ename": "TypeError",
     "evalue": "can only concatenate tuple (not \"str\") to tuple",
     "output_type": "error",
     "traceback": [
      "\u001b[1;31m---------------------------------------------------------------------------\u001b[0m",
      "\u001b[1;31mTypeError\u001b[0m                                 Traceback (most recent call last)",
      "Cell \u001b[1;32mIn[44], line 1\u001b[0m\n\u001b[1;32m----> 1\u001b[0m tuple_ \u001b[38;5;241m=\u001b[39m \u001b[43m(\u001b[49m\u001b[38;5;241;43m1\u001b[39;49m\u001b[43m,\u001b[49m\u001b[38;5;241;43m2\u001b[39;49m\u001b[43m,\u001b[49m\u001b[43m)\u001b[49m\u001b[43m \u001b[49m\u001b[38;5;241;43m+\u001b[39;49m\u001b[43m \u001b[49m\u001b[38;5;124;43m\"\u001b[39;49m\u001b[38;5;124;43ma\u001b[39;49m\u001b[38;5;124;43m\"\u001b[39;49m \u001b[38;5;241m+\u001b[39m (\u001b[38;5;124m\"\u001b[39m\u001b[38;5;124m1\u001b[39m\u001b[38;5;124m\"\u001b[39m,) \u001b[38;5;241m+\u001b[39m (\u001b[38;5;241m2\u001b[39m)  \n\u001b[0;32m      2\u001b[0m \u001b[38;5;66;03m# 报错 \"a\"、(\"a\") is string, type((2)) is int\u001b[39;00m\n",
      "\u001b[1;31mTypeError\u001b[0m: can only concatenate tuple (not \"str\") to tuple"
     ]
    }
   ],
   "source": [
    "tuple_ = (1,2,) + \"a\" + (\"1\",) + (2)  \n",
    "# TypeError \"a\"、(\"a\") is string, type((2)) is int\n"
   ]
  },
  {
   "cell_type": "code",
   "execution_count": 45,
   "metadata": {},
   "outputs": [
    {
     "name": "stdout",
     "output_type": "stream",
     "text": [
      "tuple_d=(1, 2, 'a', '1', 2)\n",
      "tuple_e=('kk', 'ss', 'kk', 'ss')\n"
     ]
    }
   ],
   "source": [
    "tuple_d = (1,2,) + (\"a\",) + (\"1\",) + (2,)  \n",
    "tuple_e = ('kk', 'ss') * 2   \n",
    "print(f\"{tuple_d=}\")  # tuple_d=(1, 2, 'a', '1', 2)\n",
    "print(f\"{tuple_e=}\")  # tuple_e=('kk', 'ss', 'kk', 'ss')"
   ]
  },
  {
   "cell_type": "markdown",
   "metadata": {},
   "source": [
    "* 元组支持拆分，如果你想将元组赋值给类似元组的变量，Pyhton会试图拆分等号右边的值，<br>其中`*rest`这个特殊语法可用于抓取任意长度列表的位置参数，如果这个rest是不需要的参数，其名字也就不重要了，这个时候通常会使用`_`这个字符来表示"
   ]
  },
  {
   "cell_type": "code",
   "execution_count": 46,
   "metadata": {},
   "outputs": [
    {
     "name": "stdout",
     "output_type": "stream",
     "text": [
      "rest=[33, 41]\n",
      "1\n"
     ]
    }
   ],
   "source": [
    "tuple_f = (1,21,33,41)\n",
    "a_, b_, c_, d_= tuple_f   # 1 21 33 41\n",
    "a_, b_, *rest = tuple_f   # 1 21\n",
    "print(f\"{rest=}\")   # rest=[33, 41]\n",
    "\n",
    "tuple_g = (1,),(21,33,41)\n",
    "a_, (b_, c_, d_) = tuple_g   #  (1,) 21 33 41\n",
    "a_, b_ = tuple_g   # (1,) (21, 33, 41)\n",
    "print(a_[0])   # 1"
   ]
  },
  {
   "cell_type": "markdown",
   "metadata": {},
   "source": [
    "因此，在Pyhton中可以简单地替换变量的名字"
   ]
  },
  {
   "cell_type": "code",
   "execution_count": 47,
   "metadata": {},
   "outputs": [
    {
     "name": "stdout",
     "output_type": "stream",
     "text": [
      "x_=2\n",
      "y_=1\n"
     ]
    }
   ],
   "source": [
    "x_, y_ = 1, 2\n",
    "x_, y_ = y_, x_ \n",
    "print(f\"{x_=}\") # x_=2\n",
    "print(f\"{y_=}\") # y_=1"
   ]
  },
  {
   "cell_type": "markdown",
   "metadata": {},
   "source": [
    "因为元组的大小和内容不能修改，他的实例方法都很轻量。其中一个很有用的就是count（）方法，它可以统计某个值的出现频率："
   ]
  },
  {
   "cell_type": "code",
   "execution_count": 48,
   "metadata": {},
   "outputs": [
    {
     "data": {
      "text/plain": [
       "5"
      ]
     },
     "execution_count": 48,
     "metadata": {},
     "output_type": "execute_result"
    }
   ],
   "source": [
    "tuple_h = 1,2,3,4,5,6,6,6,6,6,\n",
    "tuple_h.count(6)  # 5"
   ]
  },
  {
   "cell_type": "markdown",
   "metadata": {},
   "source": [
    "### 5、集合（Set）"
   ]
  },
  {
   "cell_type": "markdown",
   "metadata": {},
   "source": [
    "* 无序且不重复的元素集合，常用于去重和集合操作。<br>特性：无序、不可重复元素"
   ]
  },
  {
   "cell_type": "code",
   "execution_count": 50,
   "metadata": {},
   "outputs": [
    {
     "name": "stdout",
     "output_type": "stream",
     "text": [
      "<class 'set'>\n",
      "sub_result={8, 2, 4, 6}\n",
      "union={1, 2, 3, 4, 5, 6, 7, 8}\n",
      "intersection={4, 6}\n",
      "tuple_=(1, 2, 3, 4, 12)\n",
      "1\n",
      "2\n",
      "3\n",
      "4\n",
      "12\n"
     ]
    }
   ],
   "source": [
    "# 空集合\n",
    "empty_set = set()  # <class 'set'>\n",
    "print(type(empty_set))  # <class 'set'>\n",
    "\n",
    "# 创建集合\n",
    "unique_numbers = {1, 2, 3, 4, 5}\n",
    "\n",
    "# 添加元素\n",
    "unique_numbers.add(6)\n",
    "\n",
    "# 删除元素\n",
    "unique_numbers.discard(3)\n",
    "\n",
    "# 集合运算\n",
    "evens = {2, 4, 6, 8}\n",
    "odds = {1, 3, 5, 7}\n",
    "# # -\n",
    "sub_result = evens - odds\n",
    "print(f\"{sub_result=}\")   # sub_result={8, 2, 4, 6}\n",
    "# # 并集\n",
    "union = evens.union(odds)\n",
    "# union = evens | odds\n",
    "# union = evens.update(odds)\n",
    "print(f\"{union=}\")  # union={1, 2, 3, 4, 5, 6, 7, 8}\n",
    "# # 交集\n",
    "intersection = evens.intersection({4, 5, 6})\n",
    "print(f\"{intersection=}\")  # intersection={4, 6}\n",
    "\n",
    "# 不在意顺序的情况下, 剔除重复值\n",
    "tu = 1,1,1,1,1,1,12,2,3,4,\n",
    "tuple_ = tuple(set(tu))\n",
    "print(f\"{tuple_=}\")  # list_=[1, 2, 3, 4, 12]\n",
    "# 集合支持for循环遍历\n",
    "for x in tuple_:\n",
    "    print(x)\n",
    "# 1\n",
    "# 2\n",
    "# 3\n",
    "# 4\n",
    "# 12"
   ]
  },
  {
   "cell_type": "markdown",
   "metadata": {},
   "source": [
    "### 6、列表（List）\n"
   ]
  },
  {
   "cell_type": "markdown",
   "metadata": {},
   "source": [
    "* 有序且可变的集合，允许存储不同类型的元素。<br>特性：有序、可变、支持重复元素。列表与元组的语义接近，在许多函数中可以交叉使用。"
   ]
  },
  {
   "cell_type": "code",
   "execution_count": 54,
   "metadata": {},
   "outputs": [
    {
     "name": "stdout",
     "output_type": "stream",
     "text": [
      "<class 'list'>\n",
      "first_fruit='apple'\n",
      "last_fruit='cherry'\n",
      "[2, 3, 4]\n",
      "[0, 1, 2, 3]\n",
      "[6, 7, 8, 9]\n",
      "[0, 2, 4, 6, 8]\n",
      "[9, 8, 7, 6, 5, 4, 3, 2, 1, 0]\n"
     ]
    }
   ],
   "source": [
    "# 创建列表\n",
    "# # 空列表\n",
    "empty_list = [] \n",
    "# empty_list = list()\n",
    "# print(empty_list)  # []\n",
    "print(type(empty_list))  # <class 'list'>\n",
    "\n",
    "# # 嵌套列表\n",
    "nested_list = [1, [2, 3], [4, 5, 6]]\n",
    "# # 列表中可以包含不同类型的元素\n",
    "mixed_list = [1, \"Python\", 3.14, True]\n",
    "\n",
    "\n",
    "fruits = ['apple', 'banana', 'cherry']\n",
    "\n",
    "# 正向索引\n",
    "first_fruit = fruits[0]\n",
    "print(f\"{first_fruit=}\")  # first_fruit='apple'\n",
    "# 反向索引\n",
    "last_fruit = fruits[-1]\n",
    "print(f\"{last_fruit=}\")  # last_fruit='cherry'\n",
    "\n",
    "\n",
    "# 列表切片 语法为list[start:end:step]\n",
    "numbers = [0, 1, 2, 3, 4, 5, 6, 7, 8, 9]\n",
    "# # 基本切片\n",
    "print(numbers[2:5])    # [2, 3, 4]\n",
    "print(numbers[:4])     # [0, 1, 2, 3]\n",
    "print(numbers[6:])     # [6, 7, 8, 9]\n",
    "# # 使用步长\n",
    "print(numbers[::2])    # [0, 2, 4, 6, 8]\n",
    "print(numbers[::-1])   # [9, 8, 7, 6, 5, 4, 3, 2, 1, 0]"
   ]
  },
  {
   "cell_type": "markdown",
   "metadata": {},
   "source": [
    "列表是可变的，可以添加、删除或修改元素"
   ]
  },
  {
   "cell_type": "markdown",
   "metadata": {},
   "source": [
    "* 添加元素： `append()`，在列表末尾添加一个元素。`insert()`，在指定位置插入一个元素。`extend()`，使用另一个可迭代对象扩展列表。"
   ]
  },
  {
   "cell_type": "code",
   "execution_count": 55,
   "metadata": {},
   "outputs": [
    {
     "name": "stdout",
     "output_type": "stream",
     "text": [
      "['apple', 'banana', 'cherry', 'date']\n",
      "['apple', 'blueberry', 'banana', 'cherry', 'date']\n",
      "['apple', 'blueberry', 'banana', 'cherry', 'date', 'elderberry', 'fig']\n"
     ]
    }
   ],
   "source": [
    "fruits = ['apple', 'banana', 'cherry']\n",
    "\n",
    "# append()\n",
    "fruits.append('date')\n",
    "print(fruits)  #  ['apple', 'banana', 'cherry', 'date']\n",
    "\n",
    "# insert()\n",
    "fruits.insert(1, 'blueberry')\n",
    "print(fruits)  # ['apple', 'blueberry', 'banana', 'cherry', 'date']\n",
    "\n",
    "# extend()\n",
    "fruits.extend(['elderberry', 'fig'])\n",
    "print(fruits)  # ['apple', 'blueberry', 'banana', 'cherry', 'date', 'elderberry', 'fig']"
   ]
  },
  {
   "cell_type": "markdown",
   "metadata": {},
   "source": [
    "删除元素\n",
    "* remove(): 删除第一个匹配的元素。\n",
    "* pop(): 删除并返回指定位置的元素，默认删除最后一个元素。\n",
    "* clear(): 删除列表中的所有元素。"
   ]
  },
  {
   "cell_type": "code",
   "execution_count": null,
   "metadata": {},
   "outputs": [],
   "source": [
    "fruits = ['apple', 'blueberry', 'banana', 'cherry', 'date', 'elderberry', 'fig']\n",
    "\n",
    "# remove()\n",
    "fruits.remove('banana')\n",
    "print(fruits)  # ['apple', 'blueberry', 'cherry', 'date', 'elderberry', 'fig']\n",
    "\n",
    "# pop()\n",
    "removed = fruits.pop(2)\n",
    "print(removed)  # cherry\n",
    "print(fruits)    # ['apple', 'blueberry', 'date', 'elderberry', 'fig']\n",
    "\n",
    "# clear()\n",
    "fruits.clear()\n",
    "print(fruits)  # []\n"
   ]
  },
  {
   "cell_type": "markdown",
   "metadata": {},
   "source": [
    "常用的列表方法：\n",
    "* index()，返回第一个匹配元素的索引。\n",
    "* count()，统计元素在列表中出现的次数。\n",
    "* sort()，对列表进行就地排序。\n",
    "* sorted(): 返回排序后的新列表。\n",
    "* reverse()，将列表元素反转。"
   ]
  },
  {
   "cell_type": "code",
   "execution_count": 56,
   "metadata": {},
   "outputs": [
    {
     "name": "stdout",
     "output_type": "stream",
     "text": [
      "4\n",
      "2\n",
      "[1, 2, 2, 4, 5, 6, 9]\n",
      "[9, 6, 5, 4, 2, 2, 1]\n",
      "[9, 6, 5, 4, 2, 2, 1]\n"
     ]
    }
   ],
   "source": [
    "numbers = [4, 2, 9, 1, 5, 6, 2]\n",
    "\n",
    "# index()\n",
    "print(numbers.index(5))  # 4\n",
    "\n",
    "# count()\n",
    "print(numbers.count(2))  # 2\n",
    "\n",
    "# sort()\n",
    "numbers.sort()\n",
    "print(numbers)  # [1, 2, 2, 4, 5, 6, 9]\n",
    "\n",
    "# sorted()   reverse: True降序 False升序\n",
    "sorted_numbers = sorted(numbers, reverse=True)  \n",
    "print(sorted_numbers)  # [9, 6, 5, 4, 2, 2, 1]\n",
    "\n",
    "# reverse()\n",
    "numbers.reverse()\n",
    "print(numbers)  # [9, 6, 5, 4, 2, 2, 1]\n"
   ]
  },
  {
   "cell_type": "markdown",
   "metadata": {},
   "source": [
    "列表的遍历\n",
    "1. 最常见的遍历方法是使用 for 循环逐个访问列表中的元素。虽然不如 for 循环常用，但 while 循环也可以用于遍历列表，特别是在需要基于索引进行操作时。"
   ]
  },
  {
   "cell_type": "code",
   "execution_count": 58,
   "metadata": {},
   "outputs": [
    {
     "name": "stdout",
     "output_type": "stream",
     "text": [
      "apple\n",
      "banana\n",
      "cherry\n",
      "date\n",
      "apple\n",
      "banana\n",
      "cherry\n",
      "date\n"
     ]
    }
   ],
   "source": [
    "fruits = ['apple', 'banana', 'cherry', 'date']\n",
    "\n",
    "# 使用 for 循环遍历列表\n",
    "for fruit in fruits:\n",
    "    print(fruit)\n",
    "\n",
    "# while循环\n",
    "index = 0\n",
    "while index < len(fruits):\n",
    "    print(fruits[index])\n",
    "    index += 1\n",
    "\n",
    "# apple\n",
    "# banana\n",
    "# cherry\n",
    "# date"
   ]
  },
  {
   "cell_type": "markdown",
   "metadata": {},
   "source": [
    "2. 使用enumerate() 函数遍历列表。enumerate() 函数为遍历提供了一个索引和值的组合，使得在遍历过程中同时获取元素的索引和内容变得更加简洁。"
   ]
  },
  {
   "cell_type": "code",
   "execution_count": 59,
   "metadata": {},
   "outputs": [
    {
     "name": "stdout",
     "output_type": "stream",
     "text": [
      "Index 0: apple\n",
      "Index 1: banana\n",
      "Index 2: cherry\n",
      "Index 3: date\n",
      "Index 1: apple\n",
      "Index 2: banana\n",
      "Index 3: cherry\n",
      "Index 4: date\n"
     ]
    }
   ],
   "source": [
    "fruits = ['apple', 'banana', 'cherry', 'date']\n",
    "\n",
    "# 使用 enumerate() 遍历列表\n",
    "for index, fruit in enumerate(fruits):\n",
    "    print(f\"Index {index}: {fruit}\")\n",
    "\n",
    "\n",
    "# Index 0: apple\n",
    "# Index 1: banana\n",
    "# Index 2: cherry\n",
    "# Index 3: date\n",
    "\n",
    "# 从索引 1 开始遍历\n",
    "for index, fruit in enumerate(fruits, start=1):\n",
    "    print(f\"Index {index}: {fruit}\")\n",
    "\n",
    "\n",
    "# Index 1: apple\n",
    "# Index 2: banana\n",
    "# Index 3: cherry\n",
    "# Index 4: date\n"
   ]
  },
  {
   "cell_type": "markdown",
   "metadata": {},
   "source": [
    "3. 使用 zip() 函数遍历多个列表。zip() 函数用于将多个可迭代对象（如列表、元组等）打包成一个个元组，常用于同时遍历多个列表。当 zip() 遍历的多个列表长度不同时，zip() 会以最短的列表为准，忽略多余的元素。"
   ]
  },
  {
   "cell_type": "code",
   "execution_count": 60,
   "metadata": {},
   "outputs": [
    {
     "name": "stdout",
     "output_type": "stream",
     "text": [
      "Alili is 25 years old.\n",
      "Bobo is 30 years old.\n"
     ]
    }
   ],
   "source": [
    "names = ['Alili', 'Bobo', 'Qiuqiu']\n",
    "ages = [25, 30]\n",
    "\n",
    "# 使用 zip() 遍历长度不同的列表\n",
    "for name, age in zip(names, ages):\n",
    "    print(f\"{name} is {age} years old.\")\n",
    "\n",
    "# Alili is 25 years old.\n",
    "# Bobo is 30 years old."
   ]
  },
  {
   "cell_type": "markdown",
   "metadata": {},
   "source": [
    "列表与其他数据类型的转换。将字符串转换为列表：使用 `list()` 函数。将列表转换为字符串：使用 `join()` 方法。"
   ]
  },
  {
   "cell_type": "code",
   "execution_count": 62,
   "metadata": {},
   "outputs": [
    {
     "name": "stdout",
     "output_type": "stream",
     "text": [
      "['H', 'e', 'l', 'l', 'o']\n",
      "Python is awesome\n"
     ]
    }
   ],
   "source": [
    "# 字符串转列表\n",
    "s = \"Hello\"\n",
    "lst = list(s)\n",
    "print(lst)  # ['H', 'e', 'l', 'l', 'o']\n",
    "\n",
    "# 列表转字符串\n",
    "words = ['Python', 'is', 'awesome']\n",
    "sentence = ' '.join(words)\n",
    "print(sentence)  # Python is awesome"
   ]
  },
  {
   "cell_type": "markdown",
   "metadata": {},
   "source": [
    "列表的嵌套。列表可以包含其他列表，实现多维列表。"
   ]
  },
  {
   "cell_type": "code",
   "execution_count": 61,
   "metadata": {},
   "outputs": [
    {
     "name": "stdout",
     "output_type": "stream",
     "text": [
      "2\n",
      "9\n"
     ]
    }
   ],
   "source": [
    "matrix = [\n",
    "    [1, 2, 3],\n",
    "    [4, 5, 6],\n",
    "    [7, 8, 9]\n",
    "]\n",
    "\n",
    "# 访问元素\n",
    "print(matrix[0][1])  # 2\n",
    "print(matrix[2][2])  # 9"
   ]
  },
  {
   "cell_type": "markdown",
   "metadata": {},
   "source": [
    "### 7、字典（Dictionary）"
   ]
  },
  {
   "cell_type": "markdown",
   "metadata": {},
   "source": [
    "字典是Python中一种非常灵活且高效的数据结构，用于存储键值对（key-value pairs）。每个键必须是唯一的，并且是不可变类型（如字符串、整数、元组等）。字典允许快速查找、添加、删除和修改数据，是处理关联性数据的理想选择。"
   ]
  },
  {
   "cell_type": "markdown",
   "metadata": {},
   "source": [
    "* 创建字典。字典使用花括号 `{}` 创建，键值对之间用逗号分隔，键和值之间用冒号 `: `分隔。"
   ]
  },
  {
   "cell_type": "code",
   "execution_count": 64,
   "metadata": {},
   "outputs": [
    {
     "name": "stdout",
     "output_type": "stream",
     "text": [
      "<class 'dict'>\n",
      "{'name': 'Bomm', 'age': 30, 'city': 'New York'}\n"
     ]
    }
   ],
   "source": [
    "# 创建空字典\n",
    "empty_dict = {}\n",
    "# empty_dict = dict()\n",
    "print(type(empty_dict))  # <class 'dict'>\n",
    "\n",
    "# 创建包含键值对的字典\n",
    "student = {\n",
    "    'name': 'Alili',\n",
    "    'age': 25,\n",
    "    'major': 'Computer Science'\n",
    "}\n",
    "\n",
    "# 使用 dict() 构造函数创建字典\n",
    "person = dict(name='Bomm', age=30, city='New York')\n",
    "print(person)   # {'name': 'Bomm', 'age': 30, 'city': 'New York'}"
   ]
  },
  {
   "cell_type": "markdown",
   "metadata": {},
   "source": [
    "* 访问字典元素。通过键来访问对应的值。使用中括号` [] `（如果键不存在，会引发`KeyError`。）或 `get() `方法。"
   ]
  },
  {
   "cell_type": "code",
   "execution_count": 65,
   "metadata": {},
   "outputs": [
    {
     "name": "stdout",
     "output_type": "stream",
     "text": [
      "Alili\n",
      "25\n",
      "Not Available\n"
     ]
    }
   ],
   "source": [
    "student = {\n",
    "    'name': 'Alili',\n",
    "    'age': 25,\n",
    "    'major': 'Computer Science'\n",
    "}\n",
    "\n",
    "# 使用中括号访问\n",
    "print(student['name'])  # Alili\n",
    "\n",
    "# 使用 get() 方法访问\n",
    "print(student.get('age'))  # 25\n",
    "\n",
    "# 如果键不存在，使用 get() 可设置默认值\n",
    "print(student.get('gpa', 'Not Available'))  # Not Available"
   ]
  },
  {
   "cell_type": "markdown",
   "metadata": {},
   "source": [
    "* 添加和修改字典元素。可以通过赋值语句添加新的键值对或修改现有的值。"
   ]
  },
  {
   "cell_type": "code",
   "execution_count": 66,
   "metadata": {},
   "outputs": [
    {
     "name": "stdout",
     "output_type": "stream",
     "text": [
      "{'name': 'Alili', 'age': 25, 'like': 'orange'}\n",
      "{'name': 'Alili', 'age': 25.5, 'like': 'orange'}\n"
     ]
    }
   ],
   "source": [
    "student = {\n",
    "    'name': 'Alili',\n",
    "    'age': 25,\n",
    "    'like': 'orange'\n",
    "}\n",
    "\n",
    "# 添加新的键值对\n",
    "student['like'] = 'orange'\n",
    "print(student)\n",
    "# {'name': 'Alili', 'age': 25, 'like': 'orange'}\n",
    "\n",
    "# 修改现有的值\n",
    "student['age'] = 25.5\n",
    "print(student)\n",
    "# {'name': 'Alili', 'age': 25.5, 'like': 'orange'}"
   ]
  },
  {
   "cell_type": "markdown",
   "metadata": {},
   "source": [
    "* 删除字典元素。使用 del 语句、pop() 方法或 clear() 方法删除元素"
   ]
  },
  {
   "cell_type": "code",
   "execution_count": 67,
   "metadata": {},
   "outputs": [
    {
     "name": "stdout",
     "output_type": "stream",
     "text": [
      "{'name': 'Alili', 'age': 25}\n",
      "25\n",
      "{'name': 'Alili'}\n",
      "{}\n"
     ]
    }
   ],
   "source": [
    "student = {\n",
    "    'name': 'Alili',\n",
    "    'age': 25,\n",
    "    'like': 'orange'\n",
    "}\n",
    "\n",
    "# 使用 del 语句删除键值对\n",
    "del student['like']\n",
    "print(student)\n",
    "# {'name': 'Alili', 'age': 25}\n",
    "\n",
    "# 使用 pop() 方法删除并返回值\n",
    "age = student.pop('age')\n",
    "print(age)       # 25\n",
    "print(student)   # {'name': 'Alili'}\n",
    "\n",
    "# 使用 clear() 方法清空字典\n",
    "student.clear()\n",
    "print(student)  # {}"
   ]
  },
  {
   "cell_type": "markdown",
   "metadata": {},
   "source": [
    "常用字典方法。\n",
    "* keys()返回字典中所有键的视图。\n",
    "* values()，返回字典中所有值的视图。\n",
    "* items()，返回字典中所有键值对的视图，以元组形式呈现。\n",
    "* get()，获取指定键的值，如果键不存在则返回默认值。\n",
    "* update()，使用另一个字典或键值对更新当前字典。\n",
    "* popitem()，随机删除并返回一个键值对（在Python 3.7+中，默认删除最后一个键值对）。"
   ]
  },
  {
   "cell_type": "code",
   "execution_count": 68,
   "metadata": {},
   "outputs": [
    {
     "name": "stdout",
     "output_type": "stream",
     "text": [
      "dict_keys(['name'])\n",
      "dict_values(['Alili'])\n",
      "dict_items([('name', 'Alili')])\n",
      "{'name': 'Alili', 'gpa': 3.9, 'graduated': False}\n",
      "('graduated', False)\n",
      "{'name': 'Alili', 'gpa': 3.9}\n"
     ]
    }
   ],
   "source": [
    "student = {\n",
    "    'name': 'Alili',\n",
    "}\n",
    "\n",
    "keys = student.keys()\n",
    "print(keys)  # dict_keys(['name'])\n",
    "\n",
    "values = student.values()\n",
    "print(values)  # dict_values(['Alili'])\n",
    "\n",
    "items = student.items()\n",
    "print(items)  # dict_items([('name', 'Alili')])\n",
    "\n",
    "# gpa = student.get('gpa', 'Not Available')\n",
    "# print(gpa)  # Not Available\n",
    "\n",
    "additional_info = {'gpa': 3.9, 'graduated': False}\n",
    "student.update(additional_info)\n",
    "print(student)   # {'name': 'Alili', 'gpa': 3.9, 'graduated': False}\n",
    "\n",
    "item = student.popitem()\n",
    "print(item)      # ('graduated', False)\n",
    "print(student)   # {'name': 'Alili', 'gpa': 3.9}"
   ]
  },
  {
   "cell_type": "markdown",
   "metadata": {},
   "source": [
    "遍历字典"
   ]
  },
  {
   "cell_type": "code",
   "execution_count": 69,
   "metadata": {},
   "outputs": [
    {
     "name": "stdout",
     "output_type": "stream",
     "text": [
      "name\n",
      "age\n",
      "like\n",
      "Alili\n",
      "25\n",
      "orange\n",
      "name: Alili\n",
      "age: 25\n",
      "like: orange\n"
     ]
    }
   ],
   "source": [
    "student = {\n",
    "    'name': 'Alili',\n",
    "    'age': 25,\n",
    "    'like': 'orange'\n",
    "}\n",
    "\n",
    "# 遍历键\n",
    "for key in student:\n",
    "    print(key)\n",
    "\n",
    "# name\n",
    "# age\n",
    "# like\n",
    "\n",
    "\n",
    "# 遍历值\n",
    "for value in student.values():\n",
    "    print(value)\n",
    "\n",
    "# Alili\n",
    "# 25\n",
    "# orange\n",
    "\n",
    "\n",
    "# 遍历键值对\n",
    "for key, value in student.items():\n",
    "    print(f\"{key}: {value}\")\n",
    "\n",
    "# name: Alili\n",
    "# age: 25\n",
    "# like: orange"
   ]
  },
  {
   "cell_type": "markdown",
   "metadata": {},
   "source": [
    "嵌套字典。字典可以包含其他字典，实现多层嵌套，适用于表示复杂的数据结构。"
   ]
  },
  {
   "cell_type": "code",
   "execution_count": 71,
   "metadata": {},
   "outputs": [
    {
     "name": "stdout",
     "output_type": "stream",
     "text": [
      "Computer Science\n",
      "{'Alili': {'age': 25, 'major': 'Computer Science', 'gpa': 3.8}, 'Bomm': {'age': 22, 'major': 'Mathematics', 'gpa': 3.5}, 'Charlo': {'age': 24, 'major': 'Physics', 'gpa': 3.6}}\n"
     ]
    }
   ],
   "source": [
    "# 创建嵌套字典\n",
    "students = {\n",
    "    'Alili': {\n",
    "        'age': 25,\n",
    "        'major': 'Computer Science',\n",
    "        'gpa': 3.8\n",
    "    },\n",
    "    'Bomm': {\n",
    "        'age': 22,\n",
    "        'major': 'Mathematics',\n",
    "        'gpa': 3.5\n",
    "    }\n",
    "}\n",
    "\n",
    "# 访问嵌套字典中的值\n",
    "print(students['Alili']['major'])  # Computer Science\n",
    "\n",
    "# 添加新的嵌套字典\n",
    "students['Charlo'] = {'age': 24, 'major': 'Physics', 'gpa': 3.6}\n",
    "print(students)\n",
    "\n",
    "# {'Alili': {'age': 25, 'major': 'Computer Science', 'gpa': 3.8}, \n",
    "# 'Bomm': {'age': 22, 'major': 'Mathematics', 'gpa': 3.5}, \n",
    "# 'Charlo': {'age': 24, 'major': 'Physics', 'gpa': 3.6}}\n",
    "\n"
   ]
  },
  {
   "cell_type": "markdown",
   "metadata": {},
   "source": [
    "### Python数据类型小结"
   ]
  },
  {
   "cell_type": "markdown",
   "metadata": {},
   "source": []
  },
  {
   "cell_type": "markdown",
   "metadata": {},
   "source": [
    "## 二、Pyhton控制流\n",
    "* 2.1 if \n",
    "* 2.2 for \n",
    "* 2.3 while\n",
    "* 2.4 try - execept"
   ]
  },
  {
   "cell_type": "markdown",
   "metadata": {},
   "source": [
    "首先简单介绍一下常见的Python内置字和常量\n",
    "\n",
    "* `True`: 代表逻辑上的真，在算数运算中相当于`1`；`False`代表逻辑上的假，在算数运算中相当于`0`\n",
    "* `None`: 表示“无值”或“空”，类似其他语言中的`null`。`NoneType`唯一实例\n",
    "* `and`：只有当左右两个条件为`True`时，结果才为`True`\n",
    "* `or`：左右两个条件中有一个为`True`时，结果为`True`\n",
    "* `not`： 对条件求反。如果条件为`True`，则not之后为False，反之亦然\n",
    "* `in`、`not in`：检查某个元素是否在可迭代对象中(如列表、字符串、元组、字典的键等)\n",
    "* `is` 、`is not`：判断两个变量是否引用了同一个对象\n",
    "* `==`、`!=`: 比较两个对象的值相等、不等<br>(对比：== 是比较两个对象的“值”是否相等；is 则是比较两个变量在内存中的身份是否相同。)\n",
    "* `>=`, `<=`, `>`, `<`: 用于数值比较，分别表示大于等于、小于等于、大于、小于\n",
    "* `pass`：占位符。在语法上需要一个语句但实际不执行任何操作时，可以使用 `pass` 占位\n",
    "* `continue`： 结束当前一次循环迭代，直接进入下一次循环\n",
    "* `break`：终止循环"
   ]
  },
  {
   "cell_type": "markdown",
   "metadata": {},
   "source": [
    "### **2.1 条件语句(`if`语句)**\n",
    "* 条件语句用于根据特定条件决定程序的执行路径。Python中的条件语句主要包括`if`、`elif` 和 `else`。"
   ]
  },
  {
   "cell_type": "markdown",
   "metadata": {},
   "source": [
    "* 基本语法\n",
    "```\n",
    "if condition1:\n",
    "    # 当 condition1 为 True 时执行\n",
    "    statement1\n",
    "elif condition2:\n",
    "    # 当 condition1 为 False 且 condition2 为 True 时执行\n",
    "    statement2\n",
    "else:\n",
    "    # 当 condition1 和 condition2 都为 False 时执行\n",
    "    statement3\n",
    "```\n"
   ]
  },
  {
   "cell_type": "code",
   "execution_count": null,
   "metadata": {},
   "outputs": [],
   "source": [
    "age = 19  \n",
    "\n",
    "if age >= 18:\n",
    "    print(\"You are an adult.\")\n",
    "elif age >= 13:\n",
    "    print(\"You are a teenager.\")\n",
    "else:\n",
    "    print(\"You are a child.\")"
   ]
  },
  {
   "cell_type": "markdown",
   "metadata": {},
   "source": [
    "### **2.2 循环结构**\n",
    "用于重复执行一段代码，直到满足特定的条件。Python主要有两种循环结构：for 循环和 while 循环。\n",
    "#### **2.2.1 for 循环**<br>\n",
    "for 循环用于遍历可迭代对象（如列表、元组、字符串、字典等），逐一访问其中的元素。"
   ]
  },
  {
   "cell_type": "markdown",
   "metadata": {},
   "source": [
    "```\n",
    "for item in iterable:\n",
    "    # 执行语句\n",
    "    statement\n",
    "```"
   ]
  },
  {
   "cell_type": "code",
   "execution_count": 8,
   "metadata": {},
   "outputs": [
    {
     "name": "stdout",
     "output_type": "stream",
     "text": [
      "0\n",
      "1\n",
      "2\n",
      "3\n",
      "4\n"
     ]
    }
   ],
   "source": [
    "# 打印 0 到 4\n",
    "for i in range(5):\n",
    "    print(i)\n"
   ]
  },
  {
   "cell_type": "markdown",
   "metadata": {},
   "source": [
    "#### 2.2.2 **while循环**<br>\n",
    "while 循环在给定条件为True时，重复执行代码块。"
   ]
  },
  {
   "cell_type": "markdown",
   "metadata": {},
   "source": [
    "```\n",
    "while condition:\n",
    "    # 执行语句\n",
    "    statement\n",
    "```"
   ]
  },
  {
   "cell_type": "code",
   "execution_count": 6,
   "metadata": {},
   "outputs": [
    {
     "name": "stdout",
     "output_type": "stream",
     "text": [
      "0\n",
      "1\n",
      "2\n",
      "3\n",
      "4\n"
     ]
    }
   ],
   "source": [
    "count = 0\n",
    "\n",
    "while count < 5:\n",
    "    print(count)\n",
    "    count += 1\n",
    "\n",
    "# 0\n",
    "# 1\n",
    "# 2\n",
    "# 3\n",
    "# 4"
   ]
  },
  {
   "cell_type": "code",
   "execution_count": null,
   "metadata": {},
   "outputs": [
    {
     "name": "stdout",
     "output_type": "stream",
     "text": [
      "Incorrect password. Try again.\n",
      "Incorrect password. Try again.\n",
      "Incorrect password. Try again.\n",
      "Incorrect password. Try again.\n",
      "Incorrect password. Try again.\n"
     ]
    }
   ],
   "source": [
    "password = \"\"\n",
    "while password != \"python123\":\n",
    "    password = input(\"Enter the password: \")\n",
    "    if password == \"python123\":\n",
    "        print(\"Access granted.\")\n",
    "    else:\n",
    "        print(\"Incorrect password. Try again.\")\n",
    "\n",
    "\n",
    "# # for \n",
    "# for _ in range(5):\n",
    "#     password = input(\"Enter the password: \")\n",
    "#     if password == \"python123\":\n",
    "#         print(\"Access granted.\")\n",
    "#     else:\n",
    "#         print(\"Incorrect password. Try again.\")\n",
    "        "
   ]
  },
  {
   "cell_type": "markdown",
   "metadata": {},
   "source": [
    "#### 2.2.3 **循环控制语句**<br>\n",
    "Python提供了break、continue 和 pass 等控制语句，用于在循环中控制执行流程。\n",
    "* break"
   ]
  },
  {
   "cell_type": "code",
   "execution_count": 1,
   "metadata": {},
   "outputs": [
    {
     "name": "stdout",
     "output_type": "stream",
     "text": [
      "0\n",
      "1\n",
      "2\n",
      "3\n",
      "4\n"
     ]
    }
   ],
   "source": [
    "for i in range(10):\n",
    "    if i == 5:\n",
    "        break\n",
    "    print(i)\n",
    "    \n",
    "# 0\n",
    "# 1\n",
    "# 2\n",
    "# 3\n",
    "# 4"
   ]
  },
  {
   "cell_type": "markdown",
   "metadata": {},
   "source": [
    "* continue"
   ]
  },
  {
   "cell_type": "code",
   "execution_count": 3,
   "metadata": {},
   "outputs": [
    {
     "name": "stdout",
     "output_type": "stream",
     "text": [
      "range(0, 5)\n",
      "0\n",
      "1\n",
      "3\n",
      "4\n"
     ]
    }
   ],
   "source": [
    "for i in range(5):\n",
    "    # if i == 2: continue   # 这种写法也支持\n",
    "    if i == 2:\n",
    "        continue\n",
    "    print(i)\n",
    "\n",
    "# 0\n",
    "# 1\n",
    "# 3\n",
    "# 4"
   ]
  },
  {
   "cell_type": "markdown",
   "metadata": {},
   "source": [
    "* pass"
   ]
  },
  {
   "cell_type": "code",
   "execution_count": 5,
   "metadata": {},
   "outputs": [
    {
     "name": "stdout",
     "output_type": "stream",
     "text": [
      "0\n",
      "1\n",
      "2\n",
      "3\n",
      "4\n"
     ]
    }
   ],
   "source": [
    "for i in range(5):\n",
    "    if i == 2:\n",
    "        pass  # 暂不处理\n",
    "    print(i)\n",
    "\n",
    "# 0\n",
    "# 1\n",
    "# 2\n",
    "# 3\n",
    "# 4"
   ]
  },
  {
   "cell_type": "markdown",
   "metadata": {},
   "source": [
    "####  2.2.4 **列表、集合和字典推导式**"
   ]
  },
  {
   "cell_type": "markdown",
   "metadata": {},
   "source": [
    "* 列表推导式\n",
    "\n",
    "Python最受喜爱的特性之一。它允许客户方便的从一个集合过滤元素，形成列表，在传递参数的过程中还可以修改元素。形式如下：\n",
    "```\n",
    "list_ = [expression for item in collection if condition]\n",
    "\n",
    "```\n",
    "它等同于下面的`for`循环\n",
    "```\n",
    "list_ = []\n",
    "for val in collextion:\n",
    "    if condition:\n",
    "        list_.append(val)\n",
    "```\n",
    "filter条件可以被忽略(`if`语句)只留下表达式就行。"
   ]
  },
  {
   "cell_type": "markdown",
   "metadata": {},
   "source": [
    "例如，给定一个字符串，我们可以过滤出长度在2记一下的字符串，并将其转换成大写"
   ]
  },
  {
   "cell_type": "code",
   "execution_count": 10,
   "metadata": {},
   "outputs": [
    {
     "data": {
      "text/plain": [
       "['BAT', 'CAR', 'HAHA', 'PYTHON']"
      ]
     },
     "execution_count": 10,
     "metadata": {},
     "output_type": "execute_result"
    }
   ],
   "source": [
    "strings = ['a', 'as', 'bat', 'car', 'haha', 'python']\n",
    "[x.upper() for x in strings if len(x) > 2]"
   ]
  },
  {
   "cell_type": "markdown",
   "metadata": {},
   "source": [
    "相似的，我们可以得到集合推导式：\n",
    "```\n",
    "set_ = {expression for item in collection if condition}\n",
    "\n",
    "```\n",
    "\n",
    "以及字典推导式：\n",
    "```\n",
    "dict_ = {key_expression: value_expression for item in collection if condition}\n",
    "\n",
    "```"
   ]
  },
  {
   "cell_type": "code",
   "execution_count": 12,
   "metadata": {},
   "outputs": [
    {
     "name": "stdout",
     "output_type": "stream",
     "text": [
      "{1, 2, 3, 4, 6}\n"
     ]
    }
   ],
   "source": [
    "# 集合推导式\n",
    "strings = ['a', 'as', 'bat', 'car', 'haha', 'python']\n",
    "\n",
    "unique_lengths = {len(x) for x in strings}\n",
    "print(unique_lengths)  # {1, 2, 3, 4, 6}"
   ]
  },
  {
   "cell_type": "code",
   "execution_count": 11,
   "metadata": {},
   "outputs": [
    {
     "name": "stdout",
     "output_type": "stream",
     "text": [
      "{1: 1, 2: 4, 3: 9, 4: 16}\n",
      "{'Bomm': 'Male'}\n",
      "{'Alili': 'name', 25: 'age', 'New York': 'city'}\n"
     ]
    }
   ],
   "source": [
    "# 字典推导式\n",
    "\n",
    "numbers = [1, 2, 3, 4]\n",
    "squares_dict = {num: num ** 2 for num in numbers}\n",
    "print(squares_dict)\n",
    "# {1: 1, 2: 4, 3: 9, 4: 16}\n",
    "\n",
    "# 原始字典，值为字符串类型\n",
    "original = {'Alili': 'Female', 'Bomm': 'Male', 'Charlo': 'Male', 'Daisy': 'Female'}\n",
    "# 保留 \"Male\" 性别且键名以 \"B\" 开头的项\n",
    "filtered = {\n",
    "    name: gender\n",
    "    for name, gender in original.items()\n",
    "    if gender == 'Male' and name.startswith('B')\n",
    "}\n",
    "print(filtered)\n",
    "# {'Bomm': 'Male'}\n",
    "\n",
    "\n",
    "# 给定字典是 {字段名: 值}，反转它成 {值: 字段名} 形式\n",
    "info = {'name': 'Alili', 'age': 25, 'city': 'New York'}\n",
    "reversed_dict = {value: key for key, value in info.items()}\n",
    "print(reversed_dict)\n",
    "# {'Alili': 'name', 25: 'age', 'New York': 'city'}\n"
   ]
  },
  {
   "cell_type": "markdown",
   "metadata": {},
   "source": [
    "* map() 是一个内置函数，主要用于将指定的函数应用到一个或多个可迭代对象（如列表、元组、字符串等）的每个元素上，并返回一个迭代器。可以通过对 map() 的结果进行循环遍历或使用 list()、tuple() 等转换来获取映射后的数据。"
   ]
  },
  {
   "cell_type": "markdown",
   "metadata": {},
   "source": [
    "* 迭代器：是一种对象，用于逐一访问集合（如列表、元组、字典等）中的元素，而无需一次性将所有元素加载到内存中。\n",
    "* 生成器：是一种特殊类型的迭代器，使用简单的语法创建，能够在需要时生成值（yield var），而不是一次性生成所有值。yield是python内置关键字。"
   ]
  },
  {
   "cell_type": "code",
   "execution_count": 25,
   "metadata": {},
   "outputs": [
    {
     "data": {
      "text/plain": [
       "{1, 2, 3, 4, 6}"
      ]
     },
     "execution_count": 25,
     "metadata": {},
     "output_type": "execute_result"
    }
   ],
   "source": [
    "strings = ['a', 'as', 'bat', 'car', 'haha', 'python']\n",
    "set(map(len, strings))  # {1, 2, 3, 4, 6}"
   ]
  },
  {
   "cell_type": "code",
   "execution_count": 26,
   "metadata": {},
   "outputs": [
    {
     "data": {
      "text/plain": [
       "{'a': 0, 'as': 1, 'bat': 2, 'car': 3, 'haha': 4, 'python': 5}"
      ]
     },
     "execution_count": 26,
     "metadata": {},
     "output_type": "execute_result"
    }
   ],
   "source": [
    "loc_mapping = {val : index for index, val in enumerate(strings)}\n",
    "loc_mapping"
   ]
  },
  {
   "cell_type": "markdown",
   "metadata": {},
   "source": [
    "* 嵌套列表推导式"
   ]
  },
  {
   "cell_type": "markdown",
   "metadata": {},
   "source": [
    "现在有一个包含英文名、西班牙名的列表"
   ]
  },
  {
   "cell_type": "code",
   "execution_count": 27,
   "metadata": {},
   "outputs": [],
   "source": [
    "all_data = [['John', 'Emily', 'Michael', 'Mary', 'Steven'], ['Maria', 'Juan', 'Javier', 'Natalia', 'Pilar']]"
   ]
  },
  {
   "cell_type": "markdown",
   "metadata": {},
   "source": [
    "现在对这个列表进行分类，比如这些名字中包含两个或者更多的e"
   ]
  },
  {
   "cell_type": "code",
   "execution_count": 28,
   "metadata": {},
   "outputs": [
    {
     "data": {
      "text/plain": [
       "['Steven']"
      ]
     },
     "execution_count": 28,
     "metadata": {},
     "output_type": "execute_result"
    }
   ],
   "source": [
    "names_of_interest = []\n",
    "for names in all_data:\n",
    "    enough_es = [name for name in names if name.count('e') >= 2]\n",
    "    names_of_interest.extend(enough_es)\n",
    "names_of_interest  # ['Steven']"
   ]
  },
  {
   "cell_type": "markdown",
   "metadata": {},
   "source": [
    "现在可以将上述代码块写成一行 嵌套列表推导式"
   ]
  },
  {
   "cell_type": "code",
   "execution_count": 29,
   "metadata": {},
   "outputs": [
    {
     "data": {
      "text/plain": [
       "['Steven']"
      ]
     },
     "execution_count": 29,
     "metadata": {},
     "output_type": "execute_result"
    }
   ],
   "source": [
    "result = [name for names in all_data for name in names if name.count('e') >= 2]\n",
    "print(result)   # ['Steven']"
   ]
  },
  {
   "cell_type": "markdown",
   "metadata": {},
   "source": [
    "#### 2.2.5 **Python 异常处理**"
   ]
  },
  {
   "cell_type": "markdown",
   "metadata": {},
   "source": [
    "Python 提供了两个非常重要的功能来处理 Python 程序在运行中出现的异常和错误。你可以使用该功能来调试 Python 程序。\n",
    "\n",
    "* 异常处理\n",
    "* 断言(Assertions)"
   ]
  },
  {
   "cell_type": "markdown",
   "metadata": {},
   "source": [
    "什么是异常？<br>\n",
    "\n",
    "异常即是一个事件，该事件会在程序执行过程中发生，影响了程序的正常执行。<br>\n",
    "一般情况下，在Python无法正常处理程序时就会发生一个异常。<br>\n",
    "异常是Python对象，表示一个错误。<br>\n",
    "当Python脚本发生异常时我们需要捕获处理它，否则程序会终止执行。"
   ]
  },
  {
   "cell_type": "markdown",
   "metadata": {},
   "source": [
    "Python标准异常有哪些？"
   ]
  },
  {
   "cell_type": "markdown",
   "metadata": {},
   "source": [
    "|**异常名称**|**描述**|\n",
    "|---|---|\n",
    "|BaseException|所有异常的基类|\n",
    "|SystemExit|解释器请求退出|\n",
    "|KeyboardInterrupt|用户中断执行(通常是输入^C)|\n",
    "|Exception|常规错误的基类|\n",
    "|StopIteration|迭代器没有更多的值|\n",
    "|GeneratorExit|生成器(generator)发生异常来通知退出|\n",
    "|StandardError|所有的内建标准异常的基类|\n",
    "|ArithmeticError|所有数值计算错误的基类|\n",
    "|FloatingPointError|浮点计算错误|\n",
    "|OverflowError|数值运算超出最大限制\n",
    "|ZeroDivisionError|除(或取模)零 (所有数据类型)|\n",
    "|AssertionError|断言语句失败|\n",
    "|AttributeError|对象没有这个属性|\n",
    "|EOFError|没有内建输入,到达EOF 标记|\n",
    "|EnvironmentError|操作系统错误的基类|\n",
    "|IOError|输入/输出操作失败|\n",
    "|OSError|操作系统错误|\n",
    "|WindowsError|系统调用失败|\n",
    "|ImportError|导入模块/对象失败|\n",
    "|LookupError|无效数据查询的基类|\n",
    "|IndexError|序列中没有此索引(index)|\n",
    "|KeyError|映射中没有这个键|\n",
    "|MemoryError|内存溢出错误(对于Python 解释器不是致命的)|\n",
    "|NameError|未声明/初始化对象 (没有属性)|\n",
    "|UnboundLocalError|访问未初始化的本地变量|\n",
    "|ReferenceError|弱引用(Weak reference)试图访问已经垃圾回收了的对象|\n",
    "|RuntimeError|一般的运行时错误|\n",
    "|NotImplementedError|尚未实现的方法|\n",
    "|SyntaxError|Python语法错误|\n",
    "|IndentationError|缩进错误|\n",
    "|TabError|Tab和空格混用|\n",
    "|SystemError|一般的解释器系统错误|\n",
    "|TypeError|对类型无效的操作|\n",
    "|ValueError|传入无效的参数|\n",
    "|UnicodeError|Unicode相关的错误|\n",
    "|UnicodeDecodeError|Unicode 解码时的错误|\n",
    "|UnicodeEncodeError|Unicode 编码时错误|\n",
    "|UnicodeTranslateError|Unicode 转换时错误|\n",
    "|Warning|警告的基类|\n",
    "|DeprecationWarning|关于被弃用的特征的警告|\n",
    "|FutureWarning|关于构造将来语义会有改变的警告|\n",
    "|OverflowWarning|旧的关于自动提升为长整型(long)的警告|\n",
    "|PendingDeprecationWarning|关于特性将会被废弃的警告|\n",
    "|RuntimeWarning|可疑的运行时行为(runtime behavior)的警告|\n",
    "|SyntaxWarning|可疑的语法的警告|\n",
    "|UserWarning|用户代码生成的警告|"
   ]
  },
  {
   "cell_type": "markdown",
   "metadata": {},
   "source": [
    "* **异常处理**\n",
    "\n",
    "捉异常可以使用try/except语句。<br>\n",
    "try/except语句用来检测try语句块中的错误，从而让except语句捕获异常信息并处理。<br>\n",
    "如果你不想在异常发生时结束你的程序，只需在try里捕获它。\n",
    "\n",
    "以下为简单的`try....except...else`的语法：\n",
    "```\n",
    "try:\n",
    "    # 可能会发生异常的代码块\n",
    "    risky_operation()\n",
    "except SomeException as e:\n",
    "    # 针对特定类型异常进行处理\n",
    "    handle_exception(e)\n",
    "except AnotherException:\n",
    "    # 针对另一类型的异常进行处理\n",
    "    ...\n",
    "else:\n",
    "    # 当 try 块内代码没有发生异常时才会执行的代码\n",
    "    post_success_operation()\n"
   ]
  },
  {
   "cell_type": "markdown",
   "metadata": {},
   "source": [
    "try的工作原理是，当开始一个try语句后，python就在当前程序的上下文中作标记，这样当异常出现时就可以回到这里，try子句先执行，接下来会发生什么依赖于执行时是否出现异常。\n",
    "\n",
    "* 如果当try后的语句执行时发生异常，python就跳回到try并执行第一个匹配该异常的except子句，异常处理完毕，控制流就通过整个try语句（除非在处理异常时又引发新的异常）。\n",
    "* 如果在try后的语句里发生了异常，却没有匹配的except子句，异常将被递交到上层的try，或者到程序的最上层（这样将结束程序，并打印默认的出错信息）。\n",
    "* 如果在try子句执行时没有发生异常，python将执行else语句后的语句（如果有else的话），然后控制流通过整个try语句。"
   ]
  },
  {
   "cell_type": "code",
   "execution_count": 30,
   "metadata": {},
   "outputs": [
    {
     "name": "stdout",
     "output_type": "stream",
     "text": [
      "除法运算成功。\n",
      "结果： 5.0\n",
      "错误：除数为0！\n",
      "结果： None\n"
     ]
    }
   ],
   "source": [
    "# try-except\n",
    "\n",
    "def divide(a, b):\n",
    "    try:\n",
    "        result = a / b\n",
    "    except ZeroDivisionError as e:\n",
    "        print(\"错误：除数为0！\")\n",
    "        return None\n",
    "    else:\n",
    "        print(\"除法运算成功。\")\n",
    "        return result\n",
    "\n",
    "res = divide(10, 2)\n",
    "print(\"结果：\", res)\n",
    "res = divide(5, 0)\n",
    "print(\"结果：\", res)\n"
   ]
  },
  {
   "cell_type": "markdown",
   "metadata": {},
   "source": [
    "`try-finally`语句\n",
    "\n",
    "无论 try 块中的代码是否抛出异常，finally 块中的代码都会被执行，常用于资源清理或后续收尾操作，如关闭文件、关闭数据库连接等。\n",
    "\n",
    "* 基本语法\n",
    "\n",
    "```\n",
    "try:\n",
    "    # 可能会发生异常的代码块\n",
    "    do_something()\n",
    "finally:\n",
    "    # 无论有没有发生异常，都会执行\n",
    "    cleanup()\n",
    "```\n",
    "\n",
    "* 可以搭配 except 或不搭配都行。语法形式常见为：\n",
    "```\n",
    "try:\n",
    "    ...\n",
    "except SomeException:\n",
    "    ...\n",
    "finally:\n",
    "    ...\n",
    "```"
   ]
  },
  {
   "cell_type": "code",
   "execution_count": 35,
   "metadata": {},
   "outputs": [
    {
     "name": "stdout",
     "output_type": "stream",
     "text": [
      "2.0\n",
      "错误：类型不匹配，无法进行除法运算！\n",
      "无法正常计算 2 除以 a\n",
      "None\n"
     ]
    }
   ],
   "source": [
    "def divide_b(a, b):\n",
    "    result = None  # 先在函数开始处定义一个默认值，避免局部变量未定义\n",
    "\n",
    "    try:\n",
    "        result = a / b\n",
    "    except ZeroDivisionError:\n",
    "        print(\"错误：除数不能为 0！\")\n",
    "    except TypeError:\n",
    "        print(\"错误：类型不匹配，无法进行除法运算！\")\n",
    "    finally:\n",
    "        # finally 块中的代码无论是否发生异常都会被执行\n",
    "        if result is not None:\n",
    "            # 如果 result 在 try 中成功被赋值，则返回它\n",
    "            return result\n",
    "        else:\n",
    "            # 如果 result 仍是 None，说明出现了异常或其他问题\n",
    "            print(f\"无法正常计算 {a} 除以 {b}\")\n",
    "            return None\n",
    "\n",
    "print(divide_b(4,2))\n",
    "\n",
    "print(divide_b(2,'a'))"
   ]
  },
  {
   "cell_type": "markdown",
   "metadata": {},
   "source": [
    "`assert` (断言)语句\n",
    "\n",
    "assert 语句可用于在开发和调试过程中，对特定条件进行断言（验证），如果条件不满足就抛出 AssertionError 异常。它在生产环境中可以选择关闭，也可以用来做简单的条件检查。"
   ]
  },
  {
   "cell_type": "code",
   "execution_count": null,
   "metadata": {},
   "outputs": [
    {
     "name": "stdout",
     "output_type": "stream",
     "text": [
      "[1, 2, 3]\n"
     ]
    },
    {
     "ename": "AssertionError",
     "evalue": "数据必须是非空列表且包含不少于4个元素",
     "output_type": "error",
     "traceback": [
      "\u001b[1;31m---------------------------------------------------------------------------\u001b[0m",
      "\u001b[1;31mAssertionError\u001b[0m                            Traceback (most recent call last)",
      "Cell \u001b[1;32mIn[32], line 8\u001b[0m\n\u001b[0;32m      3\u001b[0m \u001b[38;5;28;01massert\u001b[39;00m \u001b[38;5;28misinstance\u001b[39m(nums, \u001b[38;5;28mlist\u001b[39m) \u001b[38;5;129;01mand\u001b[39;00m \u001b[38;5;28mlen\u001b[39m(nums) \u001b[38;5;241m>\u001b[39m \u001b[38;5;241m0\u001b[39m, \u001b[38;5;124m\"\u001b[39m\u001b[38;5;124m数据必须是非空列表\u001b[39m\u001b[38;5;124m\"\u001b[39m\n\u001b[0;32m      5\u001b[0m \u001b[38;5;28mprint\u001b[39m(nums)  \u001b[38;5;66;03m# assert 语句通过\u001b[39;00m\n\u001b[1;32m----> 8\u001b[0m \u001b[38;5;28;01massert\u001b[39;00m \u001b[38;5;28misinstance\u001b[39m(nums, \u001b[38;5;28mlist\u001b[39m) \u001b[38;5;129;01mand\u001b[39;00m \u001b[38;5;28mlen\u001b[39m(nums) \u001b[38;5;241m>\u001b[39m \u001b[38;5;241m3\u001b[39m, \u001b[38;5;124m\"\u001b[39m\u001b[38;5;124m数据必须是非空列表且包含不少于4个元素\u001b[39m\u001b[38;5;124m\"\u001b[39m\n\u001b[0;32m      9\u001b[0m \u001b[38;5;28mprint\u001b[39m(nums)  \u001b[38;5;66;03m# \u001b[39;00m\n",
      "\u001b[1;31mAssertionError\u001b[0m: 数据必须是非空列表且包含不少于4个元素"
     ]
    }
   ],
   "source": [
    "nums = [1, 2, 3]\n",
    "\n",
    "assert isinstance(nums, list) and len(nums) > 0, \"数据必须是非空列表\"\n",
    "\n",
    "print(nums)  # assert 语句通过\n",
    "\n",
    "\n",
    "assert isinstance(nums, list) and len(nums) > 3, \"数据必须是非空列表且包含不少于4个元素\"\n",
    "print(nums)  # AssertionError: 数据必须是非空列表且包含不少于4个元素\n"
   ]
  },
  {
   "cell_type": "markdown",
   "metadata": {},
   "source": [
    "### python控制流小结\n",
    "\n",
    "1. 条件语句（`if` 语句）：用于根据不同的条件执行不同的代码块。\n",
    "* 比较对象本身（是否为 `True`、`False`、`None`）时，常用 `is` 进行 身份（`identity`） 判断\n",
    "* 判断变量数值是否相等，用 `==` / `!=` 进行 值（`equality`） 比较\n",
    "* `if var_a`: 当 `var_a` 不为 `0`、`False`、`None` 时，判断通过； `if not var_a`与之相反\n",
    "\n",
    "2. 循环结构：\n",
    "* `for` 循环：用于遍历可迭代对象的每个元素。\n",
    "* `while` 循环：在给定条件为True时重复执行代码块。\n",
    "循环控制语句：\n",
    "* `break`：提前终止循环。\n",
    "* `continue`：跳过当前迭代，继续下一个循环。\n",
    "* `pass`：占位符，不执行任何操作。\n",
    "\n",
    "3. (嵌套)列表/字典/集合推导式能够简化代码。\n",
    "\n",
    "4. 异常处理：\n",
    "* `try-except`：用于捕获并处理运行时可能发生的异常，避免程序崩溃并提供更友好的错误信息。\n",
    "* `try-finally`：无论 `try` 块是否抛出异常，`finally` 中的代码都会执行，常用于释放资源或清理操作。\n",
    "* `assert`：开发和测试时的“断言”工具，确保程序中的关键假设成立；若断言失败，会抛出 `AssertionError`。"
   ]
  },
  {
   "cell_type": "markdown",
   "metadata": {},
   "source": [
    "## 三、Python的函数和类\n",
    "\n",
    "### **3.1 函数**\n",
    "\n",
    "函数是Python中最主要也是最重要的代码组织和复用手段。作为最重要的原则，如果你要重复使用相同或非常类似的代码，就需要写一个函数。通过给函数起一个名字，还可以提高代码的可读性。\n",
    "\n",
    "函数使用``def``关键字声明，用``return``关键字返回值：\n",
    "\n",
    "基本语法：\n",
    "```\n",
    "def function_name(parameters):\n",
    "    \"\"\"\n",
    "    （可选）文档字符串，用于说明函数的功能\n",
    "    \"\"\"\n",
    "    # 函数体（若干条语句）\n",
    "    ...\n",
    "    # 通常有一个 return 语句，若不写则默认返回 None\n"
   ]
  },
  {
   "cell_type": "code",
   "execution_count": 46,
   "metadata": {},
   "outputs": [
    {
     "name": "stdout",
     "output_type": "stream",
     "text": [
      "<class 'tuple'>\n",
      "1 5\n",
      "None\n",
      "4.5\n",
      "18\n"
     ]
    }
   ],
   "source": [
    "# 返回一个或多个变量(通常是一个元组)\n",
    "def min_and_max(numbers):\n",
    "    \"\"\"返回给定列表的最小值和最大值\"\"\"\n",
    "    return min(numbers), max(numbers)\n",
    "nums = [3, 1, 5, 2, 4]\n",
    "print(type(min_and_max(nums)))    # <class 'tuple'>\n",
    "lowest, highest = min_and_max(nums)\n",
    "print(lowest, highest)  # 输出: 1 5\n",
    "\n",
    "# 没有return\n",
    "def do_nothing():\n",
    "    pass\n",
    "result = do_nothing()\n",
    "print(result)  # None\n",
    "\n",
    "\n",
    "def my_function(x, y, z=1.5):  \n",
    "    if z > 1:\n",
    "        return z * (x + y)\n",
    "    else:\n",
    "        return z / (x + y)\n",
    "# 使用\n",
    "print(my_function(1,2))  # 按照定义时的参数顺序来传递值\n",
    "# 4.5\n",
    "print(my_function(z=3,x=2,y=4))  # 显式地通过参数名来传递值，顺序随意\n",
    "# 18"
   ]
  },
  {
   "cell_type": "markdown",
   "metadata": {},
   "source": [
    "* 位置参数（Positional Arguments）\n",
    "\n",
    "这是最常见、最基础的函数参数形式，调用函数时，按照定义时的参数顺序来传递值。"
   ]
  },
  {
   "cell_type": "code",
   "execution_count": 43,
   "metadata": {},
   "outputs": [
    {
     "name": "stdout",
     "output_type": "stream",
     "text": [
      "Hello, Python!\n"
     ]
    }
   ],
   "source": [
    "def greet(name, message):\n",
    "    print(f\"{message}, {name}!\")\n",
    "\n",
    "greet(\"Python\", \"Hello\")  \n",
    "# 按顺序传递: name=\"Python\", message=\"Hello\""
   ]
  },
  {
   "cell_type": "markdown",
   "metadata": {},
   "source": [
    "* 关键字参数（Keyword Arguments）\n",
    "\n",
    "在调用函数时，可以显式地通过参数名来传递值，不再依赖定义时的顺序。"
   ]
  },
  {
   "cell_type": "code",
   "execution_count": 44,
   "metadata": {},
   "outputs": [
    {
     "name": "stdout",
     "output_type": "stream",
     "text": [
      "Hi, Python!\n"
     ]
    }
   ],
   "source": [
    "def greet(name, message):\n",
    "    print(f\"{message}, {name}!\")\n",
    "\n",
    "# 使用关键字参数，顺序随意\n",
    "greet(message=\"Hi\", name=\"Python\")"
   ]
  },
  {
   "cell_type": "markdown",
   "metadata": {},
   "source": [
    "* 默认参数（Default Arguments）\n",
    "\n",
    "当函数某些参数有默认值时，调用者可选择是否给该参数传值。如果不传，则使用默认值。"
   ]
  },
  {
   "cell_type": "code",
   "execution_count": 45,
   "metadata": {},
   "outputs": [
    {
     "name": "stdout",
     "output_type": "stream",
     "text": [
      "Hello, Charlo!\n",
      "Hi, Daissy!\n"
     ]
    }
   ],
   "source": [
    "def greet(name, message=\"Hello\"):\n",
    "    print(f\"{message}, {name}!\")\n",
    "\n",
    "# 只传name，message使用默认值\"Hello\"\n",
    "greet(\"Charlo\")  # HHello, Charlo!\n",
    "# 同时传递两个参数\n",
    "greet(\"Daissy\", \"Hi\")  # Hi, Daissy!\n"
   ]
  },
  {
   "cell_type": "markdown",
   "metadata": {},
   "source": [
    "> 这里，我们简单介绍一下命名空间、作用域和局部函数。<br>\n",
    "\n",
    "函数可以访问两种不同作用域中的变量：全局（global）和局部（local）。Python有一种更科学的用于描述变量作用域的名称，即命名空间（namespace）。任何在函数中赋值的变量默认都是被分配到局部命名空间（local namespace）中的。局部命名空间是在函数被调用时创建的，函数参数会立即填入该命名空间。在函数执行完毕之后，局部命名空间就会被销毁。\n",
    "\n",
    "```python\n",
    "def func():\n",
    "    a = []\n",
    "    for i in range(5):\n",
    "        a.append(i)\n",
    "```\n",
    "\n",
    "调用func()之后，首先会创建出空列表a，然后添加5个元素，最后a会在该函数退出的时候被销毁。假如我们像下面这样定义a：\n",
    "\n",
    "```python\n",
    "a = []\n",
    "def func():\n",
    "    for i in range(5):\n",
    "        a.append(i)\n",
    "```\n",
    "\n",
    "虽然可以在函数中对全局变量进行赋值操作，但是那些变量必须用global关键字声明成全局的才行(不建议频繁使用global)："
   ]
  },
  {
   "cell_type": "code",
   "execution_count": 4,
   "metadata": {},
   "outputs": [
    {
     "name": "stdout",
     "output_type": "stream",
     "text": [
      "[]\n"
     ]
    }
   ],
   "source": [
    "a = None\n",
    "def bind_a_variable():\n",
    "    global a\n",
    "    a = []\n",
    "bind_a_variable()\n",
    "print(a)"
   ]
  },
  {
   "cell_type": "markdown",
   "metadata": {},
   "source": [
    "在 Python 中，函数在定义和调用时有多种方式来传递参数，特别是遇到可变数量的参数或需要灵活地通过参数名传递值时，就会用到 `*args` 和 `**kwargs`\n"
   ]
  },
  {
   "cell_type": "markdown",
   "metadata": {},
   "source": [
    "* *args：可变长度的位置参数\n",
    "\n",
    "    *args（名字随意，但约定俗成常用 args）表示可接受任意数量的位置参数，并在函数内部将它们打包成一个元组。<br>\n",
    "    当函数需要处理未知数量的位置参数时，可使用此机制。"
   ]
  },
  {
   "cell_type": "code",
   "execution_count": 47,
   "metadata": {},
   "outputs": [
    {
     "name": "stdout",
     "output_type": "stream",
     "text": [
      "6\n",
      "65\n"
     ]
    }
   ],
   "source": [
    "def add_numbers(*args):\n",
    "    total = 0\n",
    "    for num in args:\n",
    "        total += num\n",
    "    return total\n",
    "\n",
    "print(add_numbers(1, 2, 3))       # 6\n",
    "print(add_numbers(10, 20, 30, 5)) # 65\n"
   ]
  },
  {
   "cell_type": "markdown",
   "metadata": {},
   "source": [
    "在函数调用时，传递的额外位置参数会被收集到 args 这个元组里，函数内部可以用迭代的方式进行处理。"
   ]
  },
  {
   "cell_type": "markdown",
   "metadata": {},
   "source": [
    "*args 与其他参数的顺序\n",
    "\n",
    "如果函数的定义中还包含其他普通参数或关键字参数，*args 一般放在普通参数之后、**kwargs 之前。函数的参数顺序通常是：\n",
    "```\n",
    "def func(positional_args, default_args=..., *args, keyword_only_args=..., **kwargs):\n",
    "    ...\n"
   ]
  },
  {
   "cell_type": "markdown",
   "metadata": {},
   "source": [
    "* **kwargs：可变长度的关键字参数\n",
    "\n",
    "    **kwargs（常用此名称）表示可接受任意数量的关键字参数，并在函数内部将它们打包成一个字典（dict）。<br>\n",
    "    当函数需要处理未知数量的关键字参数时，可使用此机制。"
   ]
  },
  {
   "cell_type": "code",
   "execution_count": 49,
   "metadata": {},
   "outputs": [
    {
     "name": "stdout",
     "output_type": "stream",
     "text": [
      "{'first_name': 'Alili', 'last_name': 'Smith', 'location': 'New York', 'age': 30, 'hobby': 'Reading'}\n"
     ]
    }
   ],
   "source": [
    "def build_profile(first_name, last_name, **kwargs):\n",
    "    profile = {\"first_name\": first_name, \"last_name\": last_name}\n",
    "    # 将额外的关键字参数更新到profile字典中\n",
    "    for key, value in kwargs.items():\n",
    "        profile[key] = value\n",
    "    return profile\n",
    "\n",
    "user_profile = build_profile(\"Alili\", \"Smith\", location=\"New York\", age=30, hobby=\"Reading\")\n",
    "print(user_profile)\n",
    "# {'first_name': 'Alili', 'last_name': 'Smith', 'location': 'New York', 'age': 30, 'hobby': 'Reading'}\n",
    "\n",
    "\n",
    "# 在这个示例中，除了 first_name 和 last_name 外，\n",
    "# 任何其他的关键字参数（location=\"New York\", age=30, hobby=\"Reading\"）都会被聚合到 kwargs 这个字典里。"
   ]
  },
  {
   "cell_type": "markdown",
   "metadata": {},
   "source": [
    "使用 `**` 解包字典\n",
    "\n",
    "\n",
    "在函数调用时，如果有一个字典，可以使用 ** 将其解包成多个关键字参数传入函数。"
   ]
  },
  {
   "cell_type": "code",
   "execution_count": 50,
   "metadata": {},
   "outputs": [
    {
     "name": "stdout",
     "output_type": "stream",
     "text": [
      "1 2 3\n"
     ]
    }
   ],
   "source": [
    "def show_info(a, b, c):\n",
    "    print(a, b, c)\n",
    "\n",
    "data = {\"a\": 1, \"b\": 2, \"c\": 3}\n",
    "show_info(**data)  # 等价于 show_info(a=1, b=2, c=3)"
   ]
  },
  {
   "cell_type": "markdown",
   "metadata": {},
   "source": [
    "* **匿名函数**\n",
    "\n",
    "Python 提供了 匿名函数（lambda），用来定义简单的内联函数。其语法是：\n",
    "```\n",
    "lambda 参数列表: 表达式\n"
   ]
  },
  {
   "cell_type": "code",
   "execution_count": 42,
   "metadata": {},
   "outputs": [
    {
     "name": "stdout",
     "output_type": "stream",
     "text": [
      "[1, 4, 9, 16]\n",
      "[1, 4, 9, 16]\n"
     ]
    }
   ],
   "source": [
    "# 将列表中每个数值平方\n",
    "numbers = [1, 2, 3, 4]\n",
    "squared = list(map(lambda x: x**2, numbers))\n",
    "print(squared)  # 输出: [1, 4, 9, 16]\n",
    "\n",
    "# lambda 语句 等价于  fun_square\n",
    "def fun_square(x):\n",
    "    return x ** 2\n",
    "squared_b = list(map(fun_square, numbers))\n",
    "print(squared_b)  # 输出: [1, 4, 9, 16]\n",
    "    \n",
    "# squared_c = [x ** 2 for x in numbers]"
   ]
  },
  {
   "cell_type": "markdown",
   "metadata": {},
   "source": [
    "* **柯里化：部分参数应用**\n",
    "\n",
    "柯里化（currying）是一个有趣的计算机科学术语，它指的是通过“部分参数应用”（partial argument application）从现有函数派生出新函数的技术。例如，假设我们有一个执行两数相加的简单函数："
   ]
  },
  {
   "cell_type": "code",
   "execution_count": 15,
   "metadata": {},
   "outputs": [],
   "source": [
    "def add_nums(a, b):\n",
    "    return a + b"
   ]
  },
  {
   "cell_type": "markdown",
   "metadata": {},
   "source": [
    "通过这个函数，我们可以派生出一个新的只有一个参数的函数——add_five，它用于对其参数加5："
   ]
  },
  {
   "cell_type": "code",
   "execution_count": 16,
   "metadata": {},
   "outputs": [],
   "source": [
    "add_five = lambda y: add_nums(5, y)"
   ]
  },
  {
   "cell_type": "markdown",
   "metadata": {},
   "source": [
    "add_numbers的第二个参数称为“柯里化的”（curried）。这里没什么特别花哨的东西，因为我们其实就只是定义了一个可以调用现有函数的新函数而已。内置的functools模块可以用partial函数将此过程简化："
   ]
  },
  {
   "cell_type": "code",
   "execution_count": 20,
   "metadata": {},
   "outputs": [
    {
     "name": "stdout",
     "output_type": "stream",
     "text": [
      "functools.partial(<function add_nums at 0x00000222C2976B90>, 5)\n",
      "6\n"
     ]
    }
   ],
   "source": [
    "from functools import partial\n",
    "add_five = partial(add_nums, 5)\n",
    "print(add_five)\n",
    "# functools.partial(<function add_nums at 0x00000222C2976B90>, 5)\n",
    "print(add_five(1)) \n",
    "# 6"
   ]
  },
  {
   "cell_type": "markdown",
   "metadata": {},
   "source": [
    "在 Python 中，函数也是对象，意味着我们可以将函数赋值给变量、当作参数传递、或者储存在数据结构中等。正因为函数的“第一类对象（First-Class Citizen）”特性，Python 提供了多种灵活的用法。"
   ]
  },
  {
   "cell_type": "markdown",
   "metadata": {},
   "source": [
    "**1.在函数内部定义函数**\n",
    "* 允许在一个函数的作用域内，定义另一个（或多个）内部函数。这样做往往是为了封装逻辑并保持外部命名空间的整洁。\n",
    "* 只有在外部函数被调用时，内部函数才会被创建，不会污染全局或其他作用域。"
   ]
  },
  {
   "cell_type": "code",
   "execution_count": 22,
   "metadata": {},
   "outputs": [
    {
     "name": "stdout",
     "output_type": "stream",
     "text": [
      "调用内部函数之前\n",
      "这是内部函数\n"
     ]
    }
   ],
   "source": [
    "def outer():\n",
    "    def inner():\n",
    "        print(\"这是内部函数\")\n",
    "    print(\"调用内部函数之前\")\n",
    "    inner()\n",
    "outer()\n",
    "\n",
    "# 调用内部函数之前\n",
    "# 这是内部函数"
   ]
  },
  {
   "cell_type": "markdown",
   "metadata": {},
   "source": [
    "**2.闭包（Closure）**\n",
    "\n",
    "* 当内部函数引用了外部函数作用域中的变量，并且外部函数执行完毕后，这些变量依然能被内部函数访问，这种机制就称为闭包。\n",
    "* 能实现“记住”某些状态或数据，让函数具备持久化的变量环境。"
   ]
  },
  {
   "cell_type": "code",
   "execution_count": 21,
   "metadata": {},
   "outputs": [
    {
     "name": "stdout",
     "output_type": "stream",
     "text": [
      "10\n"
     ]
    }
   ],
   "source": [
    "def make_multiplier(n):\n",
    "    def multiplier(x):\n",
    "        return x * n\n",
    "    return multiplier\n",
    "\n",
    "times2 = make_multiplier(2)\n",
    "print(times2(5))  # 10\n"
   ]
  },
  {
   "cell_type": "markdown",
   "metadata": {},
   "source": [
    "* **内置函数**"
   ]
  },
  {
   "cell_type": "markdown",
   "metadata": {},
   "source": [
    "Python 内置了许多常用的函数，例如：\n",
    "\n",
    "* len()：返回序列或容器的长度\n",
    "* range()：产生一系列整数\n",
    "* max() / min()：返回最大 / 最小值\n",
    "* sum()：求和\n",
    "* map(), filter(), zip()：函数式编程相关工具\n",
    "* print()：打印输出\n",
    "* input()：从标准输入读取字符串\n",
    "* enumerate(): 循环遍历\n",
    "* zip()：用于循环遍历、数据打包 \n",
    "* open(): 打开文件"
   ]
  },
  {
   "cell_type": "markdown",
   "metadata": {},
   "source": [
    "    python 文件读写  open()方法"
   ]
  },
  {
   "cell_type": "markdown",
   "metadata": {},
   "source": [
    "Python open() 方法用于打开一个文件，并返回文件对象，在对文件进行处理过程都需要使用到这个函数，如果该文件无法被打开，会抛出 OSError。\n",
    "\n",
    "注意：使用 open() 方法一定要保证关闭文件对象，即调用 close() 方法。\n",
    "\n",
    "open() 函数常用形式是接收两个参数：文件名(file)和模式(mode)。"
   ]
  },
  {
   "cell_type": "markdown",
   "metadata": {},
   "source": [
    "```open(file, mode='r')```\n",
    "\n",
    "完整的语法格式为：\n",
    "```\n",
    "open(file, mode='r', buffering=-1, encoding=None, errors=None, newline=None, closefd=True, opener=None)\n",
    "```\n",
    "参数说明:\n",
    "* file: 必需，文件路径（相对或者绝对路径）。\n",
    "* mode: 可选，文件打开模式\n",
    "* buffering: 设置缓冲\n",
    "* encoding: 一般使用utf8\n",
    "* errors: 报错级别\n",
    "* newline: 区分换行符\n",
    "* closefd: 传入的file参数类型\n",
    "* opener: 设置自定义开启器，开启器的返回值必须是一个打开的文件描述符\n"
   ]
  },
  {
   "cell_type": "markdown",
   "metadata": {},
   "source": [
    "|**操作模式**mode|具体含义|\n",
    "|---|---|\n",
    "|`'r'`|读取(默认)|\n",
    "|`'w'`|\t写入（会先截断之前的内容）|\n",
    "|`'x'`|\t写入，如果文件已经存在会产生异常|\n",
    "|`'a'`|\t追加，将内容写入到已有文件的末尾|\n",
    "|`'b'`|\t二进制模式|\n",
    "|`'t'`|\t文本模式（默认）|\n",
    "|`'+'`|\t更新（既可以读又可以写）|"
   ]
  },
  {
   "cell_type": "markdown",
   "metadata": {},
   "source": [
    "**File对象的属性**\n",
    "\n",
    "一个文件被打开后，会有一个file对象，你可以得到有关该文件的各种信息\n",
    "\n",
    "|属性|描述|\n",
    "|---|---|\n",
    "|`file.closed`|返回`true`如果文件已被关闭，否则返回`false`。|\n",
    "|`file.mode`|返回被打开文件的访问模式。\n",
    "|`file.name`|返回文件的名称。\n"
   ]
  },
  {
   "cell_type": "code",
   "execution_count": 8,
   "metadata": {},
   "outputs": [
    {
     "name": "stdout",
     "output_type": "stream",
     "text": [
      "文件名:  example.txt\n",
      "是否已关闭 :  False\n",
      "访问模式 :  w\n"
     ]
    }
   ],
   "source": [
    "# 打开一个文件\n",
    "f = open(\"example.txt\", \"w\")\n",
    "print(\"文件名: \", f.name)\n",
    "print(\"是否已关闭 : \", f.closed)\n",
    "print(\"访问模式 : \", f.mode)\n",
    "f.close()"
   ]
  },
  {
   "cell_type": "markdown",
   "metadata": {},
   "source": [
    "* **文本文件的读写**\n",
    "    1. 使用 `open()` 与 `close()`\n",
    "    2. 使用  `with open(...) as ...` 语句\n"
   ]
  },
  {
   "cell_type": "code",
   "execution_count": 9,
   "metadata": {},
   "outputs": [],
   "source": [
    "# open()  close\n",
    "f = open(\"example.txt\", mode=\"r\", encoding=\"utf-8\")  # 打开文本文件\n",
    "content = f.read()\n",
    "f.close()  # 操作完毕后，务必手动关闭"
   ]
  },
  {
   "cell_type": "code",
   "execution_count": 10,
   "metadata": {},
   "outputs": [],
   "source": [
    "with open(\"example.txt\", \"r\", encoding=\"utf-8\") as f:\n",
    "    content = f.read()\n",
    "    # 在这里可以对 content 做各种处理\n",
    "\n",
    "# with 块结束后，文件会自动关闭，无需手动 f.close()\n"
   ]
  },
  {
   "cell_type": "markdown",
   "metadata": {},
   "source": [
    "* 一次性读取整个文件：使用 `read()`。\n",
    "* 按行读取：\n",
    "    * `readline()`: 一次只读取文件中的一行文本（包括行末的换行符，如果有的话）。<br>**返回值**：返回所读取的一行字符串，如果到达文件末尾，则返回空字符串 ''\n",
    "    * `readlines()`: 一次性读取文件中所有行并返回一个列表，每个元素是文件中的一行字符串。<br>**返回值**：列表类型，每个元素对应一行文本（包含换行符），如果文件为空，则返回空列表 []。"
   ]
  },
  {
   "cell_type": "markdown",
   "metadata": {},
   "source": [
    "**写入文本文件**\n",
    "* 使用 \"w\" 模式：会覆盖文件原有内容，如果文件不存在则创建。\n",
    "* 使用 \"a\" 模式：会在文件末尾追加内容。"
   ]
  },
  {
   "cell_type": "code",
   "execution_count": 11,
   "metadata": {},
   "outputs": [
    {
     "name": "stdout",
     "output_type": "stream",
     "text": [
      "这是写入文本文件的第一行\n",
      "这是第二行\n"
     ]
    }
   ],
   "source": [
    "# 写入\n",
    "f = open(\"example.txt\", \"w\", encoding=\"utf-8\")\n",
    "f.write(\"这是写入文本文件的第一行\\n\")\n",
    "f.write(\"这是第二行\\n\")\n",
    "f.close()\n",
    "\n",
    "# 按行读取 \n",
    "with open(\"example.txt\", \"r\", encoding=\"utf-8\") as f:\n",
    "    for line in f:\n",
    "        line = line.strip()  # 去掉行末尾的换行符或空白\n",
    "        print(line)\n",
    "\n",
    "# line.strip() 去除两端的空白字符，包括 \\n、空格等。\n",
    "# 如果只想去除换行符，也可用 line.rstrip(\"\\n\")。"
   ]
  },
  {
   "cell_type": "markdown",
   "metadata": {},
   "source": [
    "* **json文件的读写**\n",
    "\n",
    "JSON（JavaScript Object Notation）常用于配置文件、数据交换等场景。在 Python 中，可以使用 json 标准库进行读写。常见函数：\n",
    "* json.dump(obj, file, ...)：将 Python 对象编码为 JSON 并写入文件\n",
    "* json.load(file)：从文件读取 JSON 并解码为 Python 对象\n",
    "* json.dumps(obj, ...)：将 Python 对象编码为 JSON 字符串\n",
    "* json.loads(string)：将 JSON 字符串解码为 Python 对象"
   ]
  },
  {
   "cell_type": "code",
   "execution_count": 12,
   "metadata": {},
   "outputs": [
    {
     "name": "stdout",
     "output_type": "stream",
     "text": [
      "{'name': 'Alili', 'age': 25, 'skills': ['Python', 'Data Analysis']}\n"
     ]
    }
   ],
   "source": [
    "import json\n",
    "\n",
    "data = {\n",
    "    \"name\": \"Alili\",\n",
    "    \"age\": 25,\n",
    "    \"skills\": [\"Python\", \"Data Analysis\"]\n",
    "}\n",
    "\n",
    "# 写入JSON文件\n",
    "with open(\"data.json\", \"w\", encoding=\"utf-8\") as f:\n",
    "    json.dump(data, f, ensure_ascii=False, indent=4)\n",
    "\n",
    "# 读取JSON文件\n",
    "with open(\"data.json\", \"r\", encoding=\"utf-8\") as f:\n",
    "    loaded_data = json.load(f)\n",
    "\n",
    "print(loaded_data)\n",
    "# {'name': 'Alili', 'age': 25, 'skills': ['Python', 'Data Analysis']}\n",
    "\n",
    "\n",
    "# ensure_ascii=False 可以在写入 JSON 时保留非 ASCII 字符（如中文），避免出现 \\uXXXX 形式。\n",
    "# indent=4 表示写入时缩进 4 个空格，方便阅读。\n"
   ]
  },
  {
   "cell_type": "markdown",
   "metadata": {},
   "source": [
    "* **二进制文件的读写**<br>\n",
    "当需要处理图片、音视频或其他非文本数据时，通常会使用二进制模式（在 mode 中添加 b）\n",
    "    * 读取：`\"rb\"`\n",
    "    * 写入：`\"wb\"`\n",
    "    * 读写：`\"rb+\"` 或 `\"wb+\"` 等\n",
    "```\n",
    "try:\n",
    "        with open('path/to/image.jpg', 'rb') as fs1:\n",
    "            data = fs1.read()\n",
    "            print(type(data))  # <class 'bytes'>\n",
    "        with open('path/to/image_save.jpg', 'wb') as fs2:\n",
    "            fs2.write(data)\n",
    "except FileNotFoundError as e:\n",
    "    print('指定的文件无法打开.')\n",
    "except IOError as e:\n",
    "    print('读写文件时出现错误.')\n",
    "print('程序执行结束.')"
   ]
  },
  {
   "cell_type": "markdown",
   "metadata": {},
   "source": [
    "JSON是“JavaScript Object Notation”的缩写，它本来是JavaScript语言中创建对象的一种字面量语法，现在已经被广泛的应用于跨平台跨语言的数据交换，原因很简单，因为JSON也是纯文本，任何系统任何编程语言处理纯文本都是没有问题的。目前JSON基本上已经取代了XML作为异构系统间交换数据的事实标准。"
   ]
  },
  {
   "cell_type": "markdown",
   "metadata": {},
   "source": [
    "**迭代器(Iterator)**与**生成器(generator)**\n",
    "1. **迭代器(Iterator)**<br>\n",
    "**迭代器**是一种对象，用于逐一访问集合（如列表、元组、字典等）中的元素，而无需一次性将所有元素加载到内存中。迭代器提供了一种高效且灵活的方式来遍历数据结构。<br>\n",
    "\n",
    "**迭代器及基本概念**\n",
    "* **可迭代对象(Iterable)**: 任何可以返回一个迭代器的对象。常见的可迭代对象包括列表、元组、字符串、字典和集合。\n",
    "* **迭代器(Iterator)**: 实现了 `__iter__()` 和 `__next__()` 方法的对象。`__iter__()` 返回迭代器对象本身，`__next__()` 返回下一个元素，当没有元素时引发 `StopIteration` 异常。"
   ]
  },
  {
   "cell_type": "markdown",
   "metadata": {},
   "source": [
    "**使用迭代器**"
   ]
  },
  {
   "cell_type": "code",
   "execution_count": null,
   "metadata": {},
   "outputs": [
    {
     "name": "stdout",
     "output_type": "stream",
     "text": [
      "apple\n",
      "banana\n",
      "cherry\n"
     ]
    }
   ],
   "source": [
    "# 获取迭代器\n",
    "\n",
    "# 可以使用内置函数 iter() 将可迭代对象转换为迭代器。\n",
    "# 创建一个列表\n",
    "fruits = ['apple', 'banana', 'cherry']\n",
    "\n",
    "# 获取列表的迭代器\n",
    "fruits_iterator = iter(fruits)\n",
    "\n",
    "# 使用 next() 获取元素\n",
    "print(next(fruits_iterator))  # apple\n",
    "print(next(fruits_iterator))  # banana\n",
    "print(next(fruits_iterator))  # cherry\n",
    "\n",
    "# 再调用 next() 会引发 StopIteration 异常\n",
    "# print(next(fruits_iterator))  # 会引发 StopIteration\n"
   ]
  },
  {
   "cell_type": "code",
   "execution_count": null,
   "metadata": {},
   "outputs": [
    {
     "data": {
      "text/plain": [
       "{'1': 2}"
      ]
     },
     "metadata": {},
     "output_type": "display_data"
    }
   ],
   "source": [
    "dict_x = {\"1\": 2,}\n",
    "dict_x"
   ]
  },
  {
   "cell_type": "markdown",
   "metadata": {},
   "source": [
    "**使用`for`循环遍历迭代器**"
   ]
  },
  {
   "cell_type": "code",
   "execution_count": null,
   "metadata": {},
   "outputs": [
    {
     "name": "stdout",
     "output_type": "stream",
     "text": [
      "apple\n",
      "banana\n",
      "cherry\n"
     ]
    }
   ],
   "source": [
    "# for 循环内部使用迭代器机制，自动处理 StopIteration 异常。\n",
    "\n",
    "fruits = ['apple', 'banana', 'cherry']\n",
    "\n",
    "for fruit in fruits:\n",
    "    print(fruit)\n",
    "\n",
    "# apple\n",
    "# banana\n",
    "# cherry\n"
   ]
  },
  {
   "cell_type": "markdown",
   "metadata": {},
   "source": [
    "**创建自定义迭代器** <br>\n",
    "\n",
    "通过实现 `__iter__()` 和 `__next__()` 方法，可以创建自定义的迭代器。"
   ]
  },
  {
   "cell_type": "code",
   "execution_count": null,
   "metadata": {},
   "outputs": [
    {
     "name": "stdout",
     "output_type": "stream",
     "text": [
      "1\n",
      "2\n",
      "3\n"
     ]
    }
   ],
   "source": [
    "class MyIterator:\n",
    "    def __init__(self, start, end):\n",
    "        self.current = start\n",
    "        self.end = end\n",
    "\n",
    "    def __iter__(self):\n",
    "        return self  # 迭代器返回自身\n",
    "\n",
    "    def __next__(self):\n",
    "        if self.current >= self.end:\n",
    "            raise StopIteration  # 没有更多元素时引发异常\n",
    "        self.current += 1\n",
    "        return self.current - 1\n",
    "\n",
    "# 使用自定义迭代器\n",
    "my_iter = MyIterator(1, 4)\n",
    "\n",
    "for num in my_iter:\n",
    "    print(num)\n",
    "\n",
    "# 1\n",
    "# 2\n",
    "# 3"
   ]
  },
  {
   "cell_type": "markdown",
   "metadata": {},
   "source": [
    "2. **生成器(generator)** <br>\n",
    "\n",
    "什么是生成器？<br>\n",
    "生成器是一种特殊类型的迭代器，使用简单的语法创建，能够在需要时生成（yield）值，而不是一次性生成所有值。生成器通过 懒惰求值（Lazy Evaluation） 实现内存效率高的迭代。"
   ]
  },
  {
   "cell_type": "markdown",
   "metadata": {},
   "source": [
    "**生成器的创建方式**\n",
    "\n",
    "使用生成器函数<br>\n",
    "    生成器函数类似于普通函数，但使用 yield 关键字返回值。"
   ]
  },
  {
   "cell_type": "code",
   "execution_count": null,
   "metadata": {},
   "outputs": [
    {
     "name": "stdout",
     "output_type": "stream",
     "text": [
      "1\n",
      "2\n",
      "3\n"
     ]
    }
   ],
   "source": [
    "def count_up_to(max):\n",
    "    count = 1\n",
    "    while count <= max:\n",
    "        yield count  # 返回当前计数，并暂停函数状态\n",
    "        count += 1\n",
    "\n",
    "# 使用生成器函数\n",
    "counter = count_up_to(3)\n",
    "\n",
    "print(next(counter))  # 1\n",
    "print(next(counter))  # 2\n",
    "print(next(counter))  # 3\n",
    "# print(next(counter))  # 会引发 StopIteration"
   ]
  },
  {
   "cell_type": "markdown",
   "metadata": {},
   "source": [
    "使用生成器表达式<br>\n",
    "类似于列表推导式，但使用圆括号`()`，返回生成器对象"
   ]
  },
  {
   "cell_type": "code",
   "execution_count": null,
   "metadata": {},
   "outputs": [
    {
     "name": "stdout",
     "output_type": "stream",
     "text": [
      "1\n",
      "4\n",
      "9\n"
     ]
    }
   ],
   "source": [
    "# 创建一个生成器表达式\n",
    "squares_gen = (x**2 for x in range(1, 4))\n",
    "\n",
    "print(next(squares_gen))  # 1\n",
    "print(next(squares_gen))  # 4\n",
    "print(next(squares_gen))  # 9\n",
    "# print(next(squares_gen))  # 会引发 StopIteration\n"
   ]
  },
  {
   "cell_type": "markdown",
   "metadata": {},
   "source": [
    "**生成器的优势**：\n",
    "* 节省内存：生成器一次生成一个值，而不是将所有值存储在内存中，适用于处理大数据集。\n",
    "* 惰性求值：生成器只有在需要时才生成下一个值，提升效率\n",
    "* 简洁的语法：相比于自定义迭代器，生成器函数和表达式语法更简洁。"
   ]
  },
  {
   "cell_type": "markdown",
   "metadata": {},
   "source": [
    "**生成器的使用示例**\n",
    "\n",
    "使用生成器函数遍历"
   ]
  },
  {
   "cell_type": "code",
   "execution_count": null,
   "metadata": {},
   "outputs": [
    {
     "name": "stdout",
     "output_type": "stream",
     "text": [
      "0\n",
      "1\n",
      "1\n",
      "2\n",
      "3\n"
     ]
    }
   ],
   "source": [
    "def fibonacci(n):\n",
    "    a, b = 0, 1\n",
    "    for _ in range(n):\n",
    "        yield a\n",
    "        a, b = b, a + b\n",
    "\n",
    "# 创建一个Fibonacci生成器\n",
    "fib_gen = fibonacci(5)\n",
    "\n",
    "for num in fib_gen:\n",
    "    print(num)\n",
    "\n",
    "# 0\n",
    "# 1\n",
    "# 1\n",
    "# 2\n",
    "# 3"
   ]
  },
  {
   "cell_type": "markdown",
   "metadata": {},
   "source": [
    "使用生成器表达式"
   ]
  },
  {
   "cell_type": "code",
   "execution_count": null,
   "metadata": {},
   "outputs": [
    {
     "name": "stdout",
     "output_type": "stream",
     "text": [
      "1\n",
      "8\n",
      "27\n",
      "64\n",
      "125\n"
     ]
    }
   ],
   "source": [
    "# 创建一个生成器表达式，生成1到5的立方\n",
    "cubes_gen = (x**3 for x in range(1, 6))\n",
    "\n",
    "for cube in cubes_gen:\n",
    "    print(cube)\n",
    "\n",
    "# 1\n",
    "# 8\n",
    "# 27\n",
    "# 64\n",
    "# 125"
   ]
  },
  {
   "cell_type": "markdown",
   "metadata": {},
   "source": [
    "**生成器的生命周期**\n",
    "\n",
    "* 创建：定义生成器函数或表达式，创建生成器对象。\n",
    "* 迭代：使用 next() 函数或 for 循环逐步获取生成器中的值。\n",
    "* 终止：当生成器耗尽所有值时，引发 StopIteration 异常，迭代结束。"
   ]
  },
  {
   "cell_type": "markdown",
   "metadata": {},
   "source": [
    "**生成器的高级用法**"
   ]
  },
  {
   "cell_type": "markdown",
   "metadata": {},
   "source": [
    "生成器的send()方法<br>\n",
    "除了next()方法，生成器还可以接收外部发送的数据。"
   ]
  },
  {
   "cell_type": "code",
   "execution_count": null,
   "metadata": {},
   "outputs": [
    {
     "name": "stdout",
     "output_type": "stream",
     "text": [
      "Echo: Hello\n",
      "Echo: World\n"
     ]
    }
   ],
   "source": [
    "def echo():\n",
    "    while True:\n",
    "        value = yield\n",
    "        print(f\"Echo: {value}\")\n",
    "\n",
    "# 创建生成器\n",
    "e = echo()\n",
    "next(e)  # 启动生成器\n",
    "\n",
    "# 发送数据\n",
    "e.send(\"Hello\")  # Echo: Hello\n",
    "e.send(\"World\")  # Echo: World\n"
   ]
  },
  {
   "cell_type": "markdown",
   "metadata": {},
   "source": [
    "生成器的close()方法<br>\n",
    "可以使用`close()`方法提前终止生成器。"
   ]
  },
  {
   "cell_type": "code",
   "execution_count": null,
   "metadata": {},
   "outputs": [
    {
     "name": "stdout",
     "output_type": "stream",
     "text": [
      "1\n",
      "Generator closed.\n"
     ]
    }
   ],
   "source": [
    "def generator():\n",
    "    try:\n",
    "        yield 1\n",
    "        yield 2\n",
    "        yield 3\n",
    "    except GeneratorExit:\n",
    "        print(\"Generator closed.\")\n",
    "\n",
    "gen = generator()\n",
    "print(next(gen))  # 1\n",
    "gen.close()      # Generator closed.\n"
   ]
  },
  {
   "cell_type": "markdown",
   "metadata": {},
   "source": [
    "**迭代器与生成器对比**\n",
    "\n",
    "|特性|迭代器(Iterator)|生成器(Generator)|\n",
    "|---|---|---|\n",
    "|创建方式|通过实现`__iter__()`和`__next__()`方法|通过生成器函数(使用`yield`)或生成器表达式|\n",
    "|内存效率|根据实现，可能需要更多内存|高效，按需生成值|\n",
    "|简洁性|需要定义类和方法|语法更简洁，易于编写|\n",
    "|状态管理|手动管理状态|自动管理状态|"
   ]
  },
  {
   "cell_type": "code",
   "execution_count": null,
   "metadata": {},
   "outputs": [
    {
     "name": "stdout",
     "output_type": "stream",
     "text": [
      "2\n",
      "1\n",
      "0\n"
     ]
    }
   ],
   "source": [
    "# 创建一个简单的迭代器\n",
    "\n",
    "class Countdown:\n",
    "    def __init__(self, start):\n",
    "        self.current = start\n",
    "\n",
    "    def __iter__(self):\n",
    "        return self\n",
    "\n",
    "    def __next__(self):\n",
    "        if self.current <= 0:\n",
    "            raise StopIteration\n",
    "        self.current -= 1\n",
    "        return self.current\n",
    "\n",
    "# 使用迭代器\n",
    "for number in Countdown(3):\n",
    "    print(number)\n",
    "\n",
    "# 2\n",
    "# 1\n",
    "# 0\n"
   ]
  },
  {
   "cell_type": "code",
   "execution_count": null,
   "metadata": {},
   "outputs": [
    {
     "name": "stdout",
     "output_type": "stream",
     "text": [
      "1\n",
      "4\n",
      "9\n",
      "16\n",
      "25\n"
     ]
    }
   ],
   "source": [
    "# 使用生成器函数生成平方数\n",
    "\n",
    "def generate_squares(n):\n",
    "    for x in range(1, n + 1):\n",
    "        yield x**2\n",
    "\n",
    "squares = generate_squares(5)\n",
    "\n",
    "for square in squares:\n",
    "    print(square)\n",
    "\n",
    "# 1\n",
    "# 4\n",
    "# 9\n",
    "# 16\n",
    "# 25\n"
   ]
  },
  {
   "cell_type": "code",
   "execution_count": null,
   "metadata": {},
   "outputs": [
    {
     "name": "stdout",
     "output_type": "stream",
     "text": [
      "2\n",
      "4\n",
      "6\n",
      "8\n",
      "10\n"
     ]
    }
   ],
   "source": [
    "# 使用生成器表达式筛选偶数\n",
    "\n",
    "numbers = range(1, 11)\n",
    "evens_gen = (x for x in numbers if x % 2 == 0)\n",
    "\n",
    "for even in evens_gen:\n",
    "    print(even)\n",
    "\n",
    "# 2\n",
    "# 4\n",
    "# 6\n",
    "# 8\n",
    "# 10"
   ]
  },
  {
   "cell_type": "markdown",
   "metadata": {},
   "source": [
    "**itertools模块**\n",
    "\n",
    "\n",
    "标准库itertools模块中有一组用于许多常见数据算法的生成器。例如，groupby可以接受任何序列和一个函数。它根据函数的返回值对序列中的连续元素进行分组。下面是一个例子："
   ]
  },
  {
   "cell_type": "code",
   "execution_count": null,
   "metadata": {},
   "outputs": [
    {
     "name": "stdout",
     "output_type": "stream",
     "text": [
      "A ['Aln', 'Ada']\n",
      "W ['Wes', 'Wi']\n",
      "A ['Albe']\n",
      "S ['Sten']\n"
     ]
    }
   ],
   "source": [
    "import itertools\n",
    "first_letter = lambda x: x[0]\n",
    "names = ['Aln', 'Ada', 'Wes', 'Wi', 'Albe', 'Sten']\n",
    "for letter, names in itertools.groupby(names, first_letter):\n",
    "    print(letter, list(names)) # names is a generator\n",
    "\n",
    "\n",
    "# A ['Aln', 'Ada']\n",
    "# W ['Wes', 'Wi']\n",
    "# A ['Albe']\n",
    "# S ['Sten']"
   ]
  },
  {
   "cell_type": "markdown",
   "metadata": {},
   "source": [
    "### **3.2 类**"
   ]
  },
  {
   "cell_type": "markdown",
   "metadata": {},
   "source": [
    "#### **3.2.1 类与对象**\n",
    "* 类（Class）：一种蓝图或模板，用来描述具有相同属性和方法的一组对象。\n",
    "* 对象（Object / Instance）：类的具体实例，每个对象拥有独立的属性值，但共享类定义的方法。\n",
    "\n",
    "在Python中，一切皆对象，类本身也是对象（元类的实例），但初学阶段可先把握“类是蓝图，对象是依据蓝图创建的实体”这一概念。"
   ]
  },
  {
   "cell_type": "markdown",
   "metadata": {},
   "source": [
    "1） **定义类** <br>\n",
    "使用关键字 class 定义类；常见规范是将类名首字母大写且采用驼峰式命名（如 MyClass）："
   ]
  },
  {
   "cell_type": "code",
   "execution_count": 24,
   "metadata": {},
   "outputs": [],
   "source": [
    "class Person:\n",
    "    \"\"\"代表一个人的类\"\"\"\n",
    "    \n",
    "    def __init__(self, name, age):\n",
    "        # __init__ 是构造方法，用于初始化对象属性\n",
    "        self.name = name\n",
    "        self.age = age\n",
    "\n",
    "    def greet(self):\n",
    "        # self 是对实例自身的引用，在定义实例方法时必须作为第一个参数\n",
    "        print(f\"Hello, I am {self.name}, and I'm {self.age} years old.\")\n"
   ]
  },
  {
   "cell_type": "markdown",
   "metadata": {},
   "source": [
    "* `__init__` 方法：构造方法，每当创建类实例时自动调用，用来初始化对象属性。\n",
    "* `self`：指代当前实例对象本身，类似其他语言中的 `this`，但在Python中要手动显式写在方法定义里。\n",
    " "
   ]
  },
  {
   "cell_type": "markdown",
   "metadata": {},
   "source": [
    "2） **创建对象（实例化）**"
   ]
  },
  {
   "cell_type": "code",
   "execution_count": 26,
   "metadata": {},
   "outputs": [
    {
     "name": "stdout",
     "output_type": "stream",
     "text": [
      "Hello, I am Alili, and I'm 25 years old.\n",
      "Hello, I am Bomm, and I'm 30 years old.\n"
     ]
    }
   ],
   "source": [
    "person1 = Person(\"Alili\", 25)\n",
    "person2 = Person(\"Bomm\", 30)\n",
    "\n",
    "person1.greet()  # Hello, I am Alili, and I'm 25 years old.\n",
    "person2.greet()  # Hello, I am Bomm, and I'm 30 years old.\n"
   ]
  },
  {
   "cell_type": "markdown",
   "metadata": {},
   "source": [
    "3） 类属性与实例属性\n",
    "* 实例属性：通过 `self.xxx` 在 `__init__` 或其他实例方法中定义，每个实例独立拥有。\n",
    "* 类属性：在类体中直接赋值给一个变量，全体实例共享。"
   ]
  },
  {
   "cell_type": "code",
   "execution_count": 27,
   "metadata": {},
   "outputs": [
    {
     "name": "stdout",
     "output_type": "stream",
     "text": [
      "4 4\n",
      "Toyota Honda\n"
     ]
    }
   ],
   "source": [
    "class Car:\n",
    "    # 类属性\n",
    "    wheels = 4\n",
    "\n",
    "    def __init__(self, brand, model):\n",
    "        # 实例属性\n",
    "        self.brand = brand\n",
    "        self.model = model\n",
    "\n",
    "car1 = Car(\"Toyota\", \"Corolla\")\n",
    "car2 = Car(\"Honda\", \"Civic\")\n",
    "\n",
    "print(car1.wheels, car2.wheels)  # 都是 4（共享）\n",
    "print(car1.brand, car2.brand)    # Toyota, Honda（不同）\n"
   ]
  },
  {
   "cell_type": "markdown",
   "metadata": {},
   "source": [
    "4) 方法类型\n",
    "* 实例方法\n",
    "    * 第一个参数必须是 `self`，用于访问实例属性和其他实例方法。\n",
    "    * 在类外调用时，必须通过实例来调用\n",
    "* 类方法（`@classmethod`）\n",
    "    * 第一个参数是 `cls`，代表当前类对象，而不是实例。\n",
    "    * 可通过类或实例调用，常用于操作“类属性”，或根据不同需求创建实例。"
   ]
  },
  {
   "cell_type": "code",
   "execution_count": 28,
   "metadata": {},
   "outputs": [
    {
     "name": "stdout",
     "output_type": "stream",
     "text": [
      "2\n"
     ]
    }
   ],
   "source": [
    "class MyClass:\n",
    "    count = 0\n",
    "\n",
    "    def __init__(self):\n",
    "        MyClass.count += 1\n",
    "\n",
    "    @classmethod\n",
    "    def how_many(cls):\n",
    "        return cls.count\n",
    "\n",
    "x1 = MyClass()\n",
    "x2 = MyClass()\n",
    "print(MyClass.how_many())  # 2\n"
   ]
  },
  {
   "cell_type": "markdown",
   "metadata": {},
   "source": [
    "* 静态方法（@staticmethod）\n",
    "    * 既不需要 self 也不需要 cls，相当于放在类中的普通函数，和类本身关联度不大。\n",
    "    * 常用于逻辑上和类相关，但不需要访问实例或类的属性、方法的情况。"
   ]
  },
  {
   "cell_type": "code",
   "execution_count": 29,
   "metadata": {},
   "outputs": [
    {
     "name": "stdout",
     "output_type": "stream",
     "text": [
      "7\n"
     ]
    }
   ],
   "source": [
    "class MathHelper:\n",
    "    @staticmethod\n",
    "    def add(a, b):\n",
    "        return a + b\n",
    "\n",
    "print(MathHelper.add(3, 4))  # 7"
   ]
  },
  {
   "cell_type": "markdown",
   "metadata": {},
   "source": [
    "* Magic Method 魔术方法、魔法、魔法函数\n",
    "\n",
    "    Python 中有一些特殊命名的“魔术方法”，形如 `__init__`、`__str__`、`__add__` 等。当类或对象需要实现某些特定行为时，可以定义这些方法。常见的魔术方法包括：\n",
    "\n",
    "    * `__init__`：类的构造函数，用于对象初始化\n",
    "    * `__str__`：定义对象通过 `print()` 或 `str()` 函数显示时的字符串形式\n",
    "    * `__repr__`：定义对象在交互式解释器中显示时的字符串形式\n",
    "    * `__len__`：定义对象被 `len()` 调用时返回的长度\n",
    "    * `__add__`：定义对象与另一个对象相加时的行为（如数值相加、列表拼接等）\n"
   ]
  },
  {
   "cell_type": "code",
   "execution_count": null,
   "metadata": {},
   "outputs": [
    {
     "name": "stdout",
     "output_type": "stream",
     "text": [
      "MyList: [1, 2, 3]\n",
      "3\n"
     ]
    }
   ],
   "source": [
    "# 自定义一个简单的类，为其实现 __str__ 和 __len__。\n",
    "\n",
    "class MyList:\n",
    "    def __init__(self, items):\n",
    "        self.items = items\n",
    "\n",
    "    def __str__(self):\n",
    "        return f\"MyList: {self.items}\"\n",
    "\n",
    "    def __len__(self):\n",
    "        return len(self.items)\n",
    "\n",
    "lst = MyList([1, 2, 3])\n",
    "print(lst)         # MyList: [1, 2, 3]\n",
    "print(len(lst))    # 3\n"
   ]
  },
  {
   "cell_type": "markdown",
   "metadata": {},
   "source": []
  },
  {
   "cell_type": "markdown",
   "metadata": {},
   "source": [
    "**面向对象编程**\n",
    "\n",
    "把一组数据结构和处理它们的方法组成对象（object），把相同行为的对象归纳为类（class），通过类的封装（encapsulation）隐藏内部细节，通过继承（inheritance）实现类的特化（specialization）和泛化（generalization），通过多态（polymorphism）实现基于对象类型的动态分派。\n",
    "\n",
    "**面向对象的支柱**\n",
    "\n",
    "面向对象有三大支柱：封装、继承和多态。"
   ]
  },
  {
   "cell_type": "markdown",
   "metadata": {},
   "source": [
    "* **封装**\n",
    "\n",
    "封装即是\"隐藏一切可以隐藏的实现细节，只向外界暴露（提供）简单的编程接口\"。我们在类中定义的方法其实就是把数据和对数据的操作封装起来了，在我们创建了对象之后，只需要给对象发送一个消息（调用方法）就可以执行方法中的代码，也就是说我们只需要知道方法的名字和传入的参数（方法的外部视图），而不需要知道方法内部的实现细节（方法的内部视图）。"
   ]
  },
  {
   "cell_type": "code",
   "execution_count": 1,
   "metadata": {},
   "outputs": [
    {
     "name": "stdout",
     "output_type": "stream",
     "text": [
      "23:54:58\n",
      "23:54:59\n",
      "23:55:00\n",
      "23:55:01\n",
      "23:55:02\n",
      "23:55:03\n",
      "23:55:04\n",
      "23:55:05\n",
      "23:55:06\n",
      "23:55:07\n",
      "23:55:08\n"
     ]
    },
    {
     "ename": "KeyboardInterrupt",
     "evalue": "",
     "output_type": "error",
     "traceback": [
      "\u001b[1;31m---------------------------------------------------------------------------\u001b[0m",
      "\u001b[1;31mKeyboardInterrupt\u001b[0m                         Traceback (most recent call last)",
      "Cell \u001b[1;32mIn[1], line 39\u001b[0m\n\u001b[0;32m     37\u001b[0m \u001b[38;5;28;01mwhile\u001b[39;00m \u001b[38;5;28;01mTrue\u001b[39;00m:\n\u001b[0;32m     38\u001b[0m     \u001b[38;5;28mprint\u001b[39m(clock\u001b[38;5;241m.\u001b[39mshow())\n\u001b[1;32m---> 39\u001b[0m     \u001b[43msleep\u001b[49m\u001b[43m(\u001b[49m\u001b[38;5;241;43m1\u001b[39;49m\u001b[43m)\u001b[49m\n\u001b[0;32m     40\u001b[0m     clock\u001b[38;5;241m.\u001b[39mrun()\n",
      "\u001b[1;31mKeyboardInterrupt\u001b[0m: "
     ]
    }
   ],
   "source": [
    "#  练习1：定义一个类描述数字时钟。 \n",
    "\n",
    "from time import sleep\n",
    "class Clock(object):\n",
    "    \"\"\"数字时钟\"\"\"\n",
    "\n",
    "    def __init__(self, hour=0, minute=0, second=0):\n",
    "        \"\"\"初始化方法\n",
    "\n",
    "        :param hour: 时\n",
    "        :param minute: 分\n",
    "        :param second: 秒\n",
    "        \"\"\"\n",
    "        self._hour = hour\n",
    "        self._minute = minute\n",
    "        self._second = second\n",
    "\n",
    "    def run(self):\n",
    "        \"\"\"走字\"\"\"\n",
    "        self._second += 1\n",
    "        if self._second == 60:\n",
    "            self._second = 0\n",
    "            self._minute += 1\n",
    "            if self._minute == 60:\n",
    "                self._minute = 0\n",
    "                self._hour += 1\n",
    "                if self._hour == 24:\n",
    "                    self._hour = 0\n",
    "\n",
    "    def show(self):\n",
    "        \"\"\"显示时间\"\"\"\n",
    "        return '%02d:%02d:%02d' % \\\n",
    "               (self._hour, self._minute, self._second)\n",
    "\n",
    "\n",
    "clock = Clock(23,54,58)\n",
    "while True:\n",
    "    print(clock.show())\n",
    "    sleep(1)\n",
    "    clock.run()"
   ]
  },
  {
   "cell_type": "code",
   "execution_count": 2,
   "metadata": {},
   "outputs": [
    {
     "name": "stdout",
     "output_type": "stream",
     "text": [
      "(3, 5)\n",
      "(0, 0)\n",
      "(-1, 2)\n",
      "5.0\n"
     ]
    }
   ],
   "source": [
    "# 练习2：定义一个类描述平面上的点并提供移动点和计算到另一个点距离的方法。\n",
    "\n",
    "from math import sqrt\n",
    "\n",
    "\n",
    "class Point(object):\n",
    "\n",
    "    def __init__(self, x=0, y=0):\n",
    "        \"\"\"初始化方法\n",
    "        \n",
    "        :param x: 横坐标\n",
    "        :param y: 纵坐标\n",
    "        \"\"\"\n",
    "        self.x = x\n",
    "        self.y = y\n",
    "\n",
    "    def move_to(self, x, y):\n",
    "        \"\"\"移动到指定位置\n",
    "        \n",
    "        :param x: 新的横坐标\n",
    "        \"param y: 新的纵坐标\n",
    "        \"\"\"\n",
    "        self.x = x\n",
    "        self.y = y\n",
    "\n",
    "    def move_by(self, dx, dy):\n",
    "        \"\"\"移动指定的增量\n",
    "        \n",
    "        :param dx: 横坐标的增量\n",
    "        \"param dy: 纵坐标的增量\n",
    "        \"\"\"\n",
    "        self.x += dx\n",
    "        self.y += dy\n",
    "\n",
    "    def distance_to(self, other):\n",
    "        \"\"\"计算与另一个点的距离\n",
    "        \n",
    "        :param other: 另一个点\n",
    "        \"\"\"\n",
    "        dx = self.x - other.x\n",
    "        dy = self.y - other.y\n",
    "        return sqrt(dx ** 2 + dy ** 2)\n",
    "\n",
    "    def __str__(self):\n",
    "        return '(%s, %s)' % (str(self.x), str(self.y))\n",
    "\n",
    "\n",
    "p1 = Point(3, 5)\n",
    "p2 = Point()\n",
    "print(p1)\n",
    "print(p2)\n",
    "p2.move_by(-1, 2)\n",
    "print(p2)\n",
    "print(p1.distance_to(p2))\n",
    "\n",
    "# 练习2：定义一个类描述平面上的点并提供移动点和计算到另一个点距离的方法。\n",
    "\n",
    "from math import sqrt\n",
    "\n",
    "\n",
    "class Point(object):\n",
    "\n",
    "    def __init__(self, x=0, y=0):\n",
    "        \"\"\"初始化方法\n",
    "        \n",
    "        :param x: 横坐标\n",
    "        :param y: 纵坐标\n",
    "        \"\"\"\n",
    "        self.x = x\n",
    "        self.y = y\n",
    "\n",
    "    def move_to(self, x, y):\n",
    "        \"\"\"移动到指定位置\n",
    "        \n",
    "        :param x: 新的横坐标\n",
    "        \"param y: 新的纵坐标\n",
    "        \"\"\"\n",
    "        self.x = x\n",
    "        self.y = y\n",
    "\n",
    "    def move_by(self, dx, dy):\n",
    "        \"\"\"移动指定的增量\n",
    "        \n",
    "        :param dx: 横坐标的增量\n",
    "        \"param dy: 纵坐标的增量\n",
    "        \"\"\"\n",
    "        self.x += dx\n",
    "        self.y += dy\n",
    "\n",
    "    def distance_to(self, other):\n",
    "        \"\"\"计算与另一个点的距离\n",
    "        \n",
    "        :param other: 另一个点\n",
    "        \"\"\"\n",
    "        dx = self.x - other.x\n",
    "        dy = self.y - other.y\n",
    "        return sqrt(dx ** 2 + dy ** 2)\n",
    "\n",
    "    def __str__(self):\n",
    "        return '(%s, %s)' % (str(self.x), str(self.y))\n",
    "\n",
    "\n",
    "p1 = Point(3, 5)\n",
    "p2 = Point()\n",
    "print(p1)\n",
    "print(p2)\n",
    "p2.move_by(-1, 2)\n",
    "print(p2)\n",
    "print(p1.distance_to(p2))\n",
    "\n",
    "# 练习2：定义一个类描述平面上的点并提供移动点和计算到另一个点距离的方法。\n",
    "\n",
    "from math import sqrt\n",
    "\n",
    "\n",
    "class Point(object):\n",
    "\n",
    "    def __init__(self, x=0, y=0):\n",
    "        \"\"\"初始化方法\n",
    "        \n",
    "        :param x: 横坐标\n",
    "        :param y: 纵坐标\n",
    "        \"\"\"\n",
    "        self.x = x\n",
    "        self.y = y\n",
    "\n",
    "    def move_to(self, x, y):\n",
    "        \"\"\"移动到指定位置\n",
    "        \n",
    "        :param x: 新的横坐标\n",
    "        \"param y: 新的纵坐标\n",
    "        \"\"\"\n",
    "        self.x = x\n",
    "        self.y = y\n",
    "\n",
    "    def move_by(self, dx, dy):\n",
    "        \"\"\"移动指定的增量\n",
    "        \n",
    "        :param dx: 横坐标的增量\n",
    "        \"param dy: 纵坐标的增量\n",
    "        \"\"\"\n",
    "        self.x += dx\n",
    "        self.y += dy\n",
    "\n",
    "    def distance_to(self, other):\n",
    "        \"\"\"计算与另一个点的距离\n",
    "        \n",
    "        :param other: 另一个点\n",
    "        \"\"\"\n",
    "        dx = self.x - other.x\n",
    "        dy = self.y - other.y\n",
    "        return sqrt(dx ** 2 + dy ** 2)\n",
    "\n",
    "    def __str__(self):\n",
    "        return '(%s, %s)' % (str(self.x), str(self.y))\n",
    "\n",
    "\n",
    "p1 = Point(3, 5)\n",
    "p2 = Point()\n",
    "print(p1)\n",
    "print(p2)\n",
    "p2.move_by(-1, 2)\n",
    "print(p2)\n",
    "print(p1.distance_to(p2))\n",
    "\n",
    "# (3, 5)\n",
    "# (0, 0)\n",
    "# (-1, 2)\n",
    "# 5.0"
   ]
  },
  {
   "cell_type": "markdown",
   "metadata": {},
   "source": [
    "**@property装饰器**\n",
    "\n",
    "Python中属性和方法有访问权限的问题，虽然不建议将属性设置为私有的，但是如果直接将属性暴露给外界也是有问题的，比如我们没有办法检查赋给属性的值是否有效。我们之前的建议是将属性命名以单下划线开头，通过这种方式来暗示属性是受保护的，不建议外界直接访问，那么如果想访问属性可以通过属性的getter（访问器）和setter（修改器）方法进行对应的操作。如果要做到这点，就可以考虑使用@property包装器来包装getter和setter方法，使得对属性的访问既安全又方便，代码如下所示。\n",
    "以单下划线  双下划线命名 的属性默认为私有"
   ]
  },
  {
   "cell_type": "code",
   "execution_count": 3,
   "metadata": {},
   "outputs": [
    {
     "name": "stdout",
     "output_type": "stream",
     "text": [
      "王大锤正在玩飞行棋.\n",
      "王大锤正在玩斗地主.\n"
     ]
    }
   ],
   "source": [
    "class Person(object):\n",
    "\n",
    "    def __init__(self, name, age):\n",
    "        self._name = name\n",
    "        self._age = age\n",
    "\n",
    "    # 访问器 - getter方法\n",
    "    @property\n",
    "    def name(self):\n",
    "        return self._name\n",
    "\n",
    "    # 访问器 - getter方法\n",
    "    @property\n",
    "    def age(self):\n",
    "        return self._age\n",
    "\n",
    "    # 修改器 - setter方法\n",
    "    @age.setter\n",
    "    def age(self, age):\n",
    "        self._age = age\n",
    "\n",
    "    def play(self):\n",
    "        if self._age <= 16:\n",
    "            print('%s正在玩飞行棋.' % self._name)\n",
    "        else:\n",
    "            print('%s正在玩斗地主.' % self._name)\n",
    "\n",
    "\n",
    "\n",
    "person = Person('王大锤', 12)\n",
    "person.play()\n",
    "person.age = 22\n",
    "person.play()\n",
    "# person.name = '白元芳'  # AttributeError: can't set attribute\n",
    "\n"
   ]
  },
  {
   "cell_type": "markdown",
   "metadata": {},
   "source": [
    "**`__slots__`魔法**\n",
    "\n",
    "Python是一门动态语言。通常，动态语言允许我们在程序运行时给对象绑定新的属性或方法，当然也可以对已经绑定的属性和方法进行解绑定。但是如果我们需要限定自定义类型的对象只能绑定某些属性，可以通过在类中定义`__slots__`变量来进行限定。需要注意的是`__slots__`的限定只对当前类的对象生效，对子类并不起任何作用。"
   ]
  },
  {
   "cell_type": "code",
   "execution_count": 4,
   "metadata": {},
   "outputs": [
    {
     "name": "stdout",
     "output_type": "stream",
     "text": [
      "王大锤正在玩斗地主.\n"
     ]
    }
   ],
   "source": [
    "class Person(object):\n",
    "\n",
    "    # 限定Person对象只能绑定_name, _age和_gender属性\n",
    "    __slots__ = ('_name', '_age', '_gender')\n",
    "\n",
    "    def __init__(self, name, age):\n",
    "        self._name = name\n",
    "        self._age = age\n",
    "\n",
    "    @property\n",
    "    def name(self):\n",
    "        return self._name\n",
    "\n",
    "    @property\n",
    "    def age(self):\n",
    "        return self._age\n",
    "\n",
    "    @age.setter\n",
    "    def age(self, age):\n",
    "        self._age = age\n",
    "\n",
    "    def play(self):\n",
    "        if self._age <= 16:\n",
    "            print('%s正在玩飞行棋.' % self._name)\n",
    "        else:\n",
    "            print('%s正在玩斗地主.' % self._name)\n",
    "\n",
    "\n",
    "person = Person('王大锤', 22)\n",
    "person.play()\n",
    "person._gender = '男'\n",
    "# AttributeError: 'Person' object has no attribute '_is_gay'\n",
    "# person._is_gay = True"
   ]
  },
  {
   "cell_type": "markdown",
   "metadata": {},
   "source": [
    "**静态方法和类方法**\n",
    "\n",
    "之前，我们在类中定义的方法都是对象方法，也就是说这些方法都是发送给对象的消息。实际上，我们写在类中的方法并不需要都是对象方法。\n",
    "\n",
    "例如我们定义一个“三角形”类，通过传入三条边长来构造三角形，并提供计算周长和面积的方法，但是传入的三条边长未必能构造出三角形对象，因此我们可以先写一个方法来验证三条边长是否可以构成三角形，这个方法很显然就不是对象方法，因为在调用这个方法时三角形对象尚未创建出来（因为都不知道三条边能不能构成三角形），所以这个方法是属于三角形类而并不属于三角形对象的。我们可以使用静态方法来解决这类问题"
   ]
  },
  {
   "cell_type": "code",
   "execution_count": 6,
   "metadata": {},
   "outputs": [
    {
     "name": "stdout",
     "output_type": "stream",
     "text": [
      "12\n",
      "6.0\n"
     ]
    }
   ],
   "source": [
    "from math import sqrt\n",
    "\n",
    "\n",
    "class Triangle(object):\n",
    "\n",
    "    def __init__(self, a, b, c):\n",
    "        self._a = a\n",
    "        self._b = b\n",
    "        self._c = c\n",
    "\n",
    "    @staticmethod\n",
    "    def is_valid(a, b, c):\n",
    "        return a + b > c and b + c > a and a + c > b\n",
    "\n",
    "    def perimeter(self):\n",
    "        return self._a + self._b + self._c\n",
    "\n",
    "    def area(self):\n",
    "        half = self.perimeter() / 2\n",
    "        return sqrt(half * (half - self._a) *\n",
    "                    (half - self._b) * (half - self._c))\n",
    "\n",
    "\n",
    "\n",
    "a, b, c = 3, 4, 5\n",
    "# 静态方法和类方法都是通过给类发消息来调用的\n",
    "if Triangle.is_valid(a, b, c):\n",
    "    t = Triangle(a, b, c)\n",
    "    print(t.perimeter())\n",
    "    # 也可以通过给类发消息来调用对象方法但是要传入接收消息的对象作为参数\n",
    "    # print(Triangle.perimeter(t))\n",
    "    print(t.area())\n",
    "    # print(Triangle.area(t))\n",
    "else:\n",
    "    print('无法构成三角形.')\n",
    "\n",
    "\n"
   ]
  },
  {
   "cell_type": "markdown",
   "metadata": {},
   "source": [
    "和静态方法比较类似，Python还可以在类中定义类方法，类方法的第一个参数约定名为cls，它代表的是当前类相关的信息的对象（类本身也是一个对象，有的地方也称之为类的元数据对象），通过这个参数我们可以获取和类相关的信息并且可以创建出类的对象"
   ]
  },
  {
   "cell_type": "code",
   "execution_count": 7,
   "metadata": {},
   "outputs": [
    {
     "name": "stdout",
     "output_type": "stream",
     "text": [
      "23:17:04\n",
      "23:17:05\n",
      "23:17:06\n",
      "23:17:07\n",
      "23:17:08\n",
      "23:17:09\n"
     ]
    },
    {
     "ename": "KeyboardInterrupt",
     "evalue": "",
     "output_type": "error",
     "traceback": [
      "\u001b[1;31m---------------------------------------------------------------------------\u001b[0m",
      "\u001b[1;31mKeyboardInterrupt\u001b[0m                         Traceback (most recent call last)",
      "Cell \u001b[1;32mIn[7], line 38\u001b[0m\n\u001b[0;32m     36\u001b[0m \u001b[38;5;28;01mwhile\u001b[39;00m \u001b[38;5;28;01mTrue\u001b[39;00m:\n\u001b[0;32m     37\u001b[0m     \u001b[38;5;28mprint\u001b[39m(clock\u001b[38;5;241m.\u001b[39mshow())\n\u001b[1;32m---> 38\u001b[0m     \u001b[43msleep\u001b[49m\u001b[43m(\u001b[49m\u001b[38;5;241;43m1\u001b[39;49m\u001b[43m)\u001b[49m\n\u001b[0;32m     39\u001b[0m     clock\u001b[38;5;241m.\u001b[39mrun()\n",
      "\u001b[1;31mKeyboardInterrupt\u001b[0m: "
     ]
    }
   ],
   "source": [
    "from time import time, localtime, sleep\n",
    "\n",
    "\n",
    "class Clock(object):\n",
    "    \"\"\"数字时钟\"\"\"\n",
    "\n",
    "    def __init__(self, hour=0, minute=0, second=0):\n",
    "        self._hour = hour\n",
    "        self._minute = minute\n",
    "        self._second = second\n",
    "\n",
    "    @classmethod\n",
    "    def now(cls):\n",
    "        ctime = localtime(time())\n",
    "        return cls(ctime.tm_hour, ctime.tm_min, ctime.tm_sec)\n",
    "\n",
    "    def run(self):\n",
    "        \"\"\"走字\"\"\"\n",
    "        self._second += 1\n",
    "        if self._second == 60:\n",
    "            self._second = 0\n",
    "            self._minute += 1\n",
    "            if self._minute == 60:\n",
    "                self._minute = 0\n",
    "                self._hour += 1\n",
    "                if self._hour == 24:\n",
    "                    self._hour = 0\n",
    "\n",
    "    def show(self):\n",
    "        \"\"\"显示时间\"\"\"\n",
    "        return '%02d:%02d:%02d' % \\\n",
    "               (self._hour, self._minute, self._second)\n",
    "\n",
    "# 通过类方法创建对象并获取系统时间\n",
    "clock = Clock.now()\n",
    "while True:\n",
    "    print(clock.show())\n",
    "    sleep(1)\n",
    "    clock.run()"
   ]
  },
  {
   "cell_type": "markdown",
   "metadata": {},
   "source": [
    "**类之间的关系**<br>\n",
    "简单的说，类和类之间的关系有三种：is-a、has-a和use-a关系。\n",
    "\n",
    "1. is-a关系也叫继承或泛化，比如学生和人的关系、手机和电子产品的关系都属于继承关系。\n",
    "2. has-a关系通常称之为关联，比如部门和员工的关系，汽车和引擎的关系都属于关联关系；关联关系如果是整体和部分的关联，那么我们称之为聚合关系；如果整体进一步负责了部分的生命周期（整体和部分是不可分割的，同时同在也同时消亡），那么这种就是最强的关联关系，我们称之为合成关系。\n",
    "3. use-a关系通常称之为依赖，比如司机有一个驾驶的行为（方法），其中（的参数）使用到了汽车，那么司机和汽车的关系就是依赖关系。"
   ]
  },
  {
   "cell_type": "markdown",
   "metadata": {},
   "source": [
    "利用类之间的这些关系，我们可以在已有类的基础上来完成某些操作，也可以在已有类的基础上创建新的类，这些都是实现代码复用的重要手段。复用现有的代码不仅可以减少开发的工作量，也有利于代码的管理和维护，这是我们在日常工作中都会使用到的技术手段。"
   ]
  },
  {
   "cell_type": "markdown",
   "metadata": {},
   "source": [
    "* **继承**"
   ]
  },
  {
   "cell_type": "markdown",
   "metadata": {},
   "source": [
    "刚才我们提到了，可以在已有类的基础上创建新类，这其中的一种做法就是让一个类从另一个类那里将属性和方法直接继承下来，从而减少重复代码的编写。提供继承信息的我们称之为父类，也叫超类或基类；得到继承信息的我们称之为子类，也叫派生类或衍生类。子类除了继承父类提供的属性和方法，还可以定义自己特有的属性和方法，所以子类比父类拥有的更多的能力，在实际开发中，我们经常会用子类对象去替换掉一个父类对象，这是面向对象编程中一个常见的行为，对应的原则称之为里氏替换原则。"
   ]
  },
  {
   "cell_type": "code",
   "execution_count": 9,
   "metadata": {},
   "outputs": [
    {
     "name": "stdout",
     "output_type": "stream",
     "text": [
      "初三的王大锤正在学习数学.\n",
      "王大锤只能观看《熊出没》.\n",
      "无敌砖家正在讲Python程序设计.\n",
      "无敌正在观看恐怖片.\n"
     ]
    }
   ],
   "source": [
    "class Person(object):\n",
    "    \"\"\"人\"\"\"\n",
    "\n",
    "    def __init__(self, name, age):\n",
    "        self._name = name\n",
    "        self._age = age\n",
    "\n",
    "    @property\n",
    "    def name(self):\n",
    "        return self._name\n",
    "\n",
    "    @property\n",
    "    def age(self):\n",
    "        return self._age\n",
    "\n",
    "    @age.setter\n",
    "    def age(self, age):\n",
    "        self._age = age\n",
    "\n",
    "    def play(self):\n",
    "        print('%s正在愉快的玩耍.' % self._name)\n",
    "\n",
    "    def watch_tv(self):\n",
    "        if self._age >= 18:\n",
    "            print('%s正在观看恐怖片.' % self._name)\n",
    "        else:\n",
    "            print('%s只能观看《熊出没》.' % self._name)\n",
    "\n",
    "\n",
    "class Student(Person):\n",
    "    \"\"\"学生\"\"\"\n",
    "\n",
    "    def __init__(self, name, age, grade):\n",
    "        super().__init__(name, age)\n",
    "        self._grade = grade\n",
    "\n",
    "    @property\n",
    "    def grade(self):\n",
    "        return self._grade\n",
    "\n",
    "    @grade.setter\n",
    "    def grade(self, grade):\n",
    "        self._grade = grade\n",
    "\n",
    "    def study(self, course):\n",
    "        print('%s的%s正在学习%s.' % (self._grade, self._name, course))\n",
    "\n",
    "\n",
    "class Teacher(Person):\n",
    "    \"\"\"老师\"\"\"\n",
    "\n",
    "    def __init__(self, name, age, title):\n",
    "        super().__init__(name, age)\n",
    "        self._title = title\n",
    "\n",
    "    @property\n",
    "    def title(self):\n",
    "        return self._title\n",
    "\n",
    "    @title.setter\n",
    "    def title(self, title):\n",
    "        self._title = title\n",
    "\n",
    "    def teach(self, course):\n",
    "        print('%s%s正在讲%s.' % (self._name, self._title, course))\n",
    "\n",
    "\n",
    "\n",
    "stu = Student('王大锤', 15, '初三')\n",
    "stu.study('数学')\n",
    "stu.watch_tv()\n",
    "t = Teacher('无敌', 49, '砖家')\n",
    "t.teach('Python程序设计')\n",
    "t.watch_tv()"
   ]
  },
  {
   "cell_type": "markdown",
   "metadata": {},
   "source": []
  },
  {
   "cell_type": "markdown",
   "metadata": {},
   "source": [
    "* **多态**"
   ]
  },
  {
   "cell_type": "markdown",
   "metadata": {},
   "source": [
    "子类在继承了父类的方法后，可以对父类已有的方法给出新的实现版本，这个动作称之为方法重写（override）。通过方法重写我们可以让父类的同一个行为在子类中拥有不同的实现版本，当我们调用这个经过子类重写的方法时，不同的子类对象会表现出不同的行为，这个就是多态（poly-morphism）。"
   ]
  },
  {
   "cell_type": "code",
   "execution_count": 5,
   "metadata": {},
   "outputs": [
    {
     "name": "stdout",
     "output_type": "stream",
     "text": [
      "初三的王大锤正在学习数学.\n",
      "王大锤只能观看《熊出没》.\n",
      "骆昊砖家正在讲Python程序设计.\n",
      "骆昊正在观看爱情动作片.\n"
     ]
    }
   ],
   "source": [
    "class Person(object):\n",
    "    \"\"\"人\"\"\"\n",
    "\n",
    "    def __init__(self, name, age):\n",
    "        self._name = name\n",
    "        self._age = age\n",
    "\n",
    "    @property\n",
    "    def name(self):\n",
    "        return self._name\n",
    "\n",
    "    @property\n",
    "    def age(self):\n",
    "        return self._age\n",
    "\n",
    "    @age.setter\n",
    "    def age(self, age):\n",
    "        self._age = age\n",
    "\n",
    "    def play(self):\n",
    "        print('%s正在愉快的玩耍.' % self._name)\n",
    "\n",
    "    def watch_av(self):\n",
    "        if self._age >= 18:\n",
    "            print('%s正在观看爱情动作片.' % self._name)\n",
    "        else:\n",
    "            print('%s只能观看《熊出没》.' % self._name)\n",
    "\n",
    "\n",
    "class Student(Person):\n",
    "    \"\"\"学生\"\"\"\n",
    "\n",
    "    def __init__(self, name, age, grade):\n",
    "        super().__init__(name, age)\n",
    "        self._grade = grade\n",
    "\n",
    "    @property\n",
    "    def grade(self):\n",
    "        return self._grade\n",
    "\n",
    "    @grade.setter\n",
    "    def grade(self, grade):\n",
    "        self._grade = grade\n",
    "\n",
    "    def study(self, course):\n",
    "        print('%s的%s正在学习%s.' % (self._grade, self._name, course))\n",
    "\n",
    "\n",
    "class Teacher(Person):\n",
    "    \"\"\"老师\"\"\"\n",
    "\n",
    "    def __init__(self, name, age, title):\n",
    "        super().__init__(name, age)\n",
    "        self._title = title\n",
    "\n",
    "    @property\n",
    "    def title(self):\n",
    "        return self._title\n",
    "\n",
    "    @title.setter\n",
    "    def title(self, title):\n",
    "        self._title = title\n",
    "\n",
    "    def teach(self, course):\n",
    "        print('%s%s正在讲%s.' % (self._name, self._title, course))\n",
    "\n",
    "\n",
    "stu = Student('王大锤', 15, '初三')\n",
    "stu.study('数学')\n",
    "stu.watch_av()\n",
    "t = Teacher('骆昊', 38, '砖家')\n",
    "t.teach('Python程序设计')\n",
    "t.watch_av()"
   ]
  },
  {
   "cell_type": "markdown",
   "metadata": {},
   "source": [
    "子类在继承了父类的方法后，可以对父类已有的方法给出新的实现版本，这个动作称之为方法重写（override）。通过方法重写我们可以让父类的同一个行为在子类中拥有不同的实现版本，当我们调用这个经过子类重写的方法时，不同的子类对象会表现出不同的行为，这个就是多态（poly-morphism）。"
   ]
  },
  {
   "cell_type": "code",
   "execution_count": 10,
   "metadata": {},
   "outputs": [
    {
     "name": "stdout",
     "output_type": "stream",
     "text": [
      "旺财: 汪汪汪...\n",
      "凯蒂: 喵...喵...\n",
      "大黄: 汪汪汪...\n"
     ]
    }
   ],
   "source": [
    "from abc import ABCMeta, abstractmethod\n",
    "\n",
    "\n",
    "class Pet(object, metaclass=ABCMeta):\n",
    "    \"\"\"宠物\"\"\"\n",
    "\n",
    "    def __init__(self, nickname):\n",
    "        self._nickname = nickname\n",
    "\n",
    "    @abstractmethod\n",
    "    def make_voice(self):\n",
    "        \"\"\"发出声音\"\"\"\n",
    "        pass\n",
    "\n",
    "\n",
    "class Dog(Pet):\n",
    "    \"\"\"狗\"\"\"\n",
    "\n",
    "    def make_voice(self):\n",
    "        print('%s: 汪汪汪...' % self._nickname)\n",
    "\n",
    "\n",
    "class Cat(Pet):\n",
    "    \"\"\"猫\"\"\"\n",
    "\n",
    "    def make_voice(self):\n",
    "        print('%s: 喵...喵...' % self._nickname)\n",
    "\n",
    "\n",
    "\n",
    "pets = [Dog('旺财'), Cat('凯蒂'), Dog('大黄')]\n",
    "for pet in pets:\n",
    "    pet.make_voice()\n",
    "\n",
    "\n"
   ]
  },
  {
   "cell_type": "markdown",
   "metadata": {},
   "source": [
    "在上面的代码中，我们将Pet类处理成了一个抽象类，所谓抽象类就是不能够创建对象的类，这种类的存在就是专门为了让其他类去继承它。Python从语法层面并没有像Java或C#那样提供对抽象类的支持，但是我们可以通过abc模块的ABCMeta元类和abstractmethod包装器来达到抽象类的效果，如果一个类中存在抽象方法那么这个类就不能够实例化（创建对象）。上面的代码中，Dog和Cat两个子类分别对Pet类中的make_voice抽象方法进行了重写并给出了不同的实现版本，当我们调用该方法时，这个方法就表现出了多态行为（同样的方法做了不同的事情）。"
   ]
  },
  {
   "cell_type": "code",
   "execution_count": 11,
   "metadata": {},
   "outputs": [
    {
     "name": "stdout",
     "output_type": "stream",
     "text": [
      "========第01回合========\n",
      "骆昊使用普通攻击打了狄仁杰.\n",
      "骆昊的魔法值恢复了8点.\n",
      "狄仁杰回击了骆昊.\n",
      "~~~骆昊奥特曼~~~\n",
      "生命值: 988\n",
      "魔法值: 128\n",
      "\n",
      "~~~狄仁杰小怪兽~~~\n",
      "生命值: 235\n",
      "~~~白元芳小怪兽~~~\n",
      "生命值: 500\n",
      "~~~王大锤小怪兽~~~\n",
      "生命值: 750\n",
      "========第02回合========\n",
      "骆昊使用究极必杀技虐了王大锤.\n",
      "王大锤回击了骆昊.\n",
      "~~~骆昊奥特曼~~~\n",
      "生命值: 978\n",
      "魔法值: 78\n",
      "\n",
      "~~~狄仁杰小怪兽~~~\n",
      "生命值: 235\n",
      "~~~白元芳小怪兽~~~\n",
      "生命值: 500\n",
      "~~~王大锤小怪兽~~~\n",
      "生命值: 188\n",
      "========第03回合========\n",
      "骆昊使用了魔法攻击.\n",
      "王大锤回击了骆昊.\n",
      "~~~骆昊奥特曼~~~\n",
      "生命值: 967\n",
      "魔法值: 58\n",
      "\n",
      "~~~狄仁杰小怪兽~~~\n",
      "生命值: 223\n",
      "~~~白元芳小怪兽~~~\n",
      "生命值: 489\n",
      "~~~王大锤小怪兽~~~\n",
      "生命值: 173\n",
      "========第04回合========\n",
      "骆昊使用普通攻击打了王大锤.\n",
      "骆昊的魔法值恢复了10点.\n",
      "王大锤回击了骆昊.\n",
      "~~~骆昊奥特曼~~~\n",
      "生命值: 954\n",
      "魔法值: 68\n",
      "\n",
      "~~~狄仁杰小怪兽~~~\n",
      "生命值: 223\n",
      "~~~白元芳小怪兽~~~\n",
      "生命值: 489\n",
      "~~~王大锤小怪兽~~~\n",
      "生命值: 154\n",
      "========第05回合========\n",
      "骆昊使用究极必杀技虐了白元芳.\n",
      "白元芳回击了骆昊.\n",
      "~~~骆昊奥特曼~~~\n",
      "生命值: 937\n",
      "魔法值: 18\n",
      "\n",
      "~~~狄仁杰小怪兽~~~\n",
      "生命值: 223\n",
      "~~~白元芳小怪兽~~~\n",
      "生命值: 123\n",
      "~~~王大锤小怪兽~~~\n",
      "生命值: 154\n",
      "========第06回合========\n",
      "骆昊使用普通攻击打了白元芳.\n",
      "骆昊的魔法值恢复了8点.\n",
      "白元芳回击了骆昊.\n",
      "~~~骆昊奥特曼~~~\n",
      "生命值: 924\n",
      "魔法值: 26\n",
      "\n",
      "~~~狄仁杰小怪兽~~~\n",
      "生命值: 223\n",
      "~~~白元芳小怪兽~~~\n",
      "生命值: 98\n",
      "~~~王大锤小怪兽~~~\n",
      "生命值: 154\n",
      "========第07回合========\n",
      "骆昊使用普通攻击打了狄仁杰.\n",
      "骆昊的魔法值恢复了7点.\n",
      "狄仁杰回击了骆昊.\n",
      "~~~骆昊奥特曼~~~\n",
      "生命值: 905\n",
      "魔法值: 33\n",
      "\n",
      "~~~狄仁杰小怪兽~~~\n",
      "生命值: 202\n",
      "~~~白元芳小怪兽~~~\n",
      "生命值: 98\n",
      "~~~王大锤小怪兽~~~\n",
      "生命值: 154\n",
      "========第08回合========\n",
      "骆昊使用普通攻击打了白元芳.\n",
      "骆昊的魔法值恢复了2点.\n",
      "白元芳回击了骆昊.\n",
      "~~~骆昊奥特曼~~~\n",
      "生命值: 894\n",
      "魔法值: 35\n",
      "\n",
      "~~~狄仁杰小怪兽~~~\n",
      "生命值: 202\n",
      "~~~白元芳小怪兽~~~\n",
      "生命值: 73\n",
      "~~~王大锤小怪兽~~~\n",
      "生命值: 154\n",
      "========第09回合========\n",
      "骆昊使用普通攻击打了白元芳.\n",
      "骆昊的魔法值恢复了1点.\n",
      "白元芳回击了骆昊.\n",
      "~~~骆昊奥特曼~~~\n",
      "生命值: 874\n",
      "魔法值: 36\n",
      "\n",
      "~~~狄仁杰小怪兽~~~\n",
      "生命值: 202\n",
      "~~~白元芳小怪兽~~~\n",
      "生命值: 48\n",
      "~~~王大锤小怪兽~~~\n",
      "生命值: 154\n",
      "========第10回合========\n",
      "骆昊使用普通攻击打了白元芳.\n",
      "骆昊的魔法值恢复了2点.\n",
      "白元芳回击了骆昊.\n",
      "~~~骆昊奥特曼~~~\n",
      "生命值: 858\n",
      "魔法值: 38\n",
      "\n",
      "~~~狄仁杰小怪兽~~~\n",
      "生命值: 202\n",
      "~~~白元芳小怪兽~~~\n",
      "生命值: 33\n",
      "~~~王大锤小怪兽~~~\n",
      "生命值: 154\n",
      "========第11回合========\n",
      "骆昊使用了魔法攻击.\n",
      "王大锤回击了骆昊.\n",
      "~~~骆昊奥特曼~~~\n",
      "生命值: 844\n",
      "魔法值: 18\n",
      "\n",
      "~~~狄仁杰小怪兽~~~\n",
      "生命值: 188\n",
      "~~~白元芳小怪兽~~~\n",
      "生命值: 23\n",
      "~~~王大锤小怪兽~~~\n",
      "生命值: 141\n",
      "========第12回合========\n",
      "骆昊使用普通攻击打了狄仁杰.\n",
      "骆昊的魔法值恢复了6点.\n",
      "狄仁杰回击了骆昊.\n",
      "~~~骆昊奥特曼~~~\n",
      "生命值: 825\n",
      "魔法值: 24\n",
      "\n",
      "~~~狄仁杰小怪兽~~~\n",
      "生命值: 171\n",
      "~~~白元芳小怪兽~~~\n",
      "生命值: 23\n",
      "~~~王大锤小怪兽~~~\n",
      "生命值: 141\n",
      "========第13回合========\n",
      "骆昊使用了魔法攻击.\n",
      "狄仁杰回击了骆昊.\n",
      "~~~骆昊奥特曼~~~\n",
      "生命值: 811\n",
      "魔法值: 4\n",
      "\n",
      "~~~狄仁杰小怪兽~~~\n",
      "生命值: 159\n",
      "~~~白元芳小怪兽~~~\n",
      "生命值: 9\n",
      "~~~王大锤小怪兽~~~\n",
      "生命值: 127\n",
      "========第14回合========\n",
      "骆昊使用普通攻击打了白元芳.\n",
      "骆昊的魔法值恢复了7点.\n",
      "~~~骆昊奥特曼~~~\n",
      "生命值: 811\n",
      "魔法值: 11\n",
      "\n",
      "~~~狄仁杰小怪兽~~~\n",
      "生命值: 159\n",
      "~~~白元芳小怪兽~~~\n",
      "生命值: 0\n",
      "~~~王大锤小怪兽~~~\n",
      "生命值: 127\n",
      "========第15回合========\n",
      "骆昊使用普通攻击打了王大锤.\n",
      "骆昊的魔法值恢复了6点.\n",
      "王大锤回击了骆昊.\n",
      "~~~骆昊奥特曼~~~\n",
      "生命值: 799\n",
      "魔法值: 17\n",
      "\n",
      "~~~狄仁杰小怪兽~~~\n",
      "生命值: 159\n",
      "~~~白元芳小怪兽~~~\n",
      "生命值: 0\n",
      "~~~王大锤小怪兽~~~\n",
      "生命值: 111\n",
      "========第16回合========\n",
      "骆昊使用普通攻击打了狄仁杰.\n",
      "骆昊的魔法值恢复了8点.\n",
      "狄仁杰回击了骆昊.\n",
      "~~~骆昊奥特曼~~~\n",
      "生命值: 788\n",
      "魔法值: 25\n",
      "\n",
      "~~~狄仁杰小怪兽~~~\n",
      "生命值: 144\n",
      "~~~白元芳小怪兽~~~\n",
      "生命值: 0\n",
      "~~~王大锤小怪兽~~~\n",
      "生命值: 111\n",
      "========第17回合========\n",
      "骆昊使用普通攻击打了狄仁杰.\n",
      "骆昊的魔法值恢复了3点.\n",
      "狄仁杰回击了骆昊.\n",
      "~~~骆昊奥特曼~~~\n",
      "生命值: 778\n",
      "魔法值: 28\n",
      "\n",
      "~~~狄仁杰小怪兽~~~\n",
      "生命值: 124\n",
      "~~~白元芳小怪兽~~~\n",
      "生命值: 0\n",
      "~~~王大锤小怪兽~~~\n",
      "生命值: 111\n",
      "========第18回合========\n",
      "骆昊使用普通攻击打了狄仁杰.\n",
      "骆昊的魔法值恢复了1点.\n",
      "狄仁杰回击了骆昊.\n",
      "~~~骆昊奥特曼~~~\n",
      "生命值: 763\n",
      "魔法值: 29\n",
      "\n",
      "~~~狄仁杰小怪兽~~~\n",
      "生命值: 107\n",
      "~~~白元芳小怪兽~~~\n",
      "生命值: 0\n",
      "~~~王大锤小怪兽~~~\n",
      "生命值: 111\n",
      "========第19回合========\n",
      "骆昊使用普通攻击打了王大锤.\n",
      "骆昊的魔法值恢复了9点.\n",
      "王大锤回击了骆昊.\n",
      "~~~骆昊奥特曼~~~\n",
      "生命值: 749\n",
      "魔法值: 38\n",
      "\n",
      "~~~狄仁杰小怪兽~~~\n",
      "生命值: 107\n",
      "~~~白元芳小怪兽~~~\n",
      "生命值: 0\n",
      "~~~王大锤小怪兽~~~\n",
      "生命值: 89\n",
      "========第20回合========\n",
      "骆昊使用了魔法攻击.\n",
      "狄仁杰回击了骆昊.\n",
      "~~~骆昊奥特曼~~~\n",
      "生命值: 736\n",
      "魔法值: 18\n",
      "\n",
      "~~~狄仁杰小怪兽~~~\n",
      "生命值: 93\n",
      "~~~白元芳小怪兽~~~\n",
      "生命值: 0\n",
      "~~~王大锤小怪兽~~~\n",
      "生命值: 78\n",
      "========第21回合========\n",
      "骆昊使用魔法失败.\n",
      "王大锤回击了骆昊.\n",
      "~~~骆昊奥特曼~~~\n",
      "生命值: 719\n",
      "魔法值: 18\n",
      "\n",
      "~~~狄仁杰小怪兽~~~\n",
      "生命值: 93\n",
      "~~~白元芳小怪兽~~~\n",
      "生命值: 0\n",
      "~~~王大锤小怪兽~~~\n",
      "生命值: 78\n",
      "========第22回合========\n",
      "骆昊使用普通攻击打了狄仁杰.\n",
      "骆昊的魔法值恢复了2点.\n",
      "狄仁杰回击了骆昊.\n",
      "~~~骆昊奥特曼~~~\n",
      "生命值: 703\n",
      "魔法值: 20\n",
      "\n",
      "~~~狄仁杰小怪兽~~~\n",
      "生命值: 68\n",
      "~~~白元芳小怪兽~~~\n",
      "生命值: 0\n",
      "~~~王大锤小怪兽~~~\n",
      "生命值: 78\n",
      "========第23回合========\n",
      "骆昊使用普通攻击打了狄仁杰.\n",
      "骆昊的魔法值恢复了3点.\n",
      "狄仁杰回击了骆昊.\n",
      "~~~骆昊奥特曼~~~\n",
      "生命值: 690\n",
      "魔法值: 23\n",
      "\n",
      "~~~狄仁杰小怪兽~~~\n",
      "生命值: 53\n",
      "~~~白元芳小怪兽~~~\n",
      "生命值: 0\n",
      "~~~王大锤小怪兽~~~\n",
      "生命值: 78\n",
      "========第24回合========\n",
      "骆昊使用普通攻击打了狄仁杰.\n",
      "骆昊的魔法值恢复了1点.\n",
      "狄仁杰回击了骆昊.\n",
      "~~~骆昊奥特曼~~~\n",
      "生命值: 670\n",
      "魔法值: 24\n",
      "\n",
      "~~~狄仁杰小怪兽~~~\n",
      "生命值: 32\n",
      "~~~白元芳小怪兽~~~\n",
      "生命值: 0\n",
      "~~~王大锤小怪兽~~~\n",
      "生命值: 78\n",
      "========第25回合========\n",
      "骆昊使用普通攻击打了王大锤.\n",
      "骆昊的魔法值恢复了3点.\n",
      "王大锤回击了骆昊.\n",
      "~~~骆昊奥特曼~~~\n",
      "生命值: 650\n",
      "魔法值: 27\n",
      "\n",
      "~~~狄仁杰小怪兽~~~\n",
      "生命值: 32\n",
      "~~~白元芳小怪兽~~~\n",
      "生命值: 0\n",
      "~~~王大锤小怪兽~~~\n",
      "生命值: 61\n",
      "========第26回合========\n",
      "骆昊使用普通攻击打了狄仁杰.\n",
      "骆昊的魔法值恢复了7点.\n",
      "狄仁杰回击了骆昊.\n",
      "~~~骆昊奥特曼~~~\n",
      "生命值: 639\n",
      "魔法值: 34\n",
      "\n",
      "~~~狄仁杰小怪兽~~~\n",
      "生命值: 12\n",
      "~~~白元芳小怪兽~~~\n",
      "生命值: 0\n",
      "~~~王大锤小怪兽~~~\n",
      "生命值: 61\n",
      "========第27回合========\n",
      "骆昊使用了魔法攻击.\n",
      "狄仁杰回击了骆昊.\n",
      "~~~骆昊奥特曼~~~\n",
      "生命值: 628\n",
      "魔法值: 14\n",
      "\n",
      "~~~狄仁杰小怪兽~~~\n",
      "生命值: 1\n",
      "~~~白元芳小怪兽~~~\n",
      "生命值: 0\n",
      "~~~王大锤小怪兽~~~\n",
      "生命值: 48\n",
      "========第28回合========\n",
      "骆昊使用普通攻击打了狄仁杰.\n",
      "骆昊的魔法值恢复了7点.\n",
      "~~~骆昊奥特曼~~~\n",
      "生命值: 628\n",
      "魔法值: 21\n",
      "\n",
      "~~~狄仁杰小怪兽~~~\n",
      "生命值: 0\n",
      "~~~白元芳小怪兽~~~\n",
      "生命值: 0\n",
      "~~~王大锤小怪兽~~~\n",
      "生命值: 48\n",
      "========第29回合========\n",
      "骆昊使用普通攻击打了王大锤.\n",
      "骆昊的魔法值恢复了6点.\n",
      "王大锤回击了骆昊.\n",
      "~~~骆昊奥特曼~~~\n",
      "生命值: 614\n",
      "魔法值: 27\n",
      "\n",
      "~~~狄仁杰小怪兽~~~\n",
      "生命值: 0\n",
      "~~~白元芳小怪兽~~~\n",
      "生命值: 0\n",
      "~~~王大锤小怪兽~~~\n",
      "生命值: 32\n",
      "========第30回合========\n",
      "骆昊使用普通攻击打了王大锤.\n",
      "骆昊的魔法值恢复了1点.\n",
      "王大锤回击了骆昊.\n",
      "~~~骆昊奥特曼~~~\n",
      "生命值: 600\n",
      "魔法值: 28\n",
      "\n",
      "~~~狄仁杰小怪兽~~~\n",
      "生命值: 0\n",
      "~~~白元芳小怪兽~~~\n",
      "生命值: 0\n",
      "~~~王大锤小怪兽~~~\n",
      "生命值: 17\n",
      "========第31回合========\n",
      "骆昊使用普通攻击打了王大锤.\n",
      "骆昊的魔法值恢复了1点.\n",
      "~~~骆昊奥特曼~~~\n",
      "生命值: 600\n",
      "魔法值: 29\n",
      "\n",
      "~~~狄仁杰小怪兽~~~\n",
      "生命值: 0\n",
      "~~~白元芳小怪兽~~~\n",
      "生命值: 0\n",
      "~~~王大锤小怪兽~~~\n",
      "生命值: 0\n",
      "\n",
      "========战斗结束!========\n",
      "\n",
      "骆昊奥特曼胜利!\n"
     ]
    }
   ],
   "source": [
    "# 综合案例1：奥特曼打小怪兽。\n",
    "\n",
    "from abc import ABCMeta, abstractmethod\n",
    "from random import randint, randrange\n",
    "\n",
    "\n",
    "class Fighter(object, metaclass=ABCMeta):\n",
    "    \"\"\"战斗者\"\"\"\n",
    "\n",
    "    # 通过__slots__魔法限定对象可以绑定的成员变量\n",
    "    __slots__ = ('_name', '_hp')\n",
    "\n",
    "    def __init__(self, name, hp):\n",
    "        \"\"\"初始化方法\n",
    "\n",
    "        :param name: 名字\n",
    "        :param hp: 生命值\n",
    "        \"\"\"\n",
    "        self._name = name\n",
    "        self._hp = hp\n",
    "\n",
    "    @property\n",
    "    def name(self):\n",
    "        return self._name\n",
    "\n",
    "    @property\n",
    "    def hp(self):\n",
    "        return self._hp\n",
    "\n",
    "    @hp.setter\n",
    "    def hp(self, hp):\n",
    "        self._hp = hp if hp >= 0 else 0\n",
    "\n",
    "    @property\n",
    "    def alive(self):\n",
    "        return self._hp > 0\n",
    "\n",
    "    @abstractmethod\n",
    "    def attack(self, other):\n",
    "        \"\"\"攻击\n",
    "\n",
    "        :param other: 被攻击的对象\n",
    "        \"\"\"\n",
    "        pass\n",
    "\n",
    "\n",
    "class Ultraman(Fighter):\n",
    "    \"\"\"奥特曼\"\"\"\n",
    "\n",
    "    __slots__ = ('_name', '_hp', '_mp')\n",
    "\n",
    "    def __init__(self, name, hp, mp):\n",
    "        \"\"\"初始化方法\n",
    "\n",
    "        :param name: 名字\n",
    "        :param hp: 生命值\n",
    "        :param mp: 魔法值\n",
    "        \"\"\"\n",
    "        super().__init__(name, hp)\n",
    "        self._mp = mp\n",
    "\n",
    "    def attack(self, other):\n",
    "        other.hp -= randint(15, 25)\n",
    "\n",
    "    def huge_attack(self, other):\n",
    "        \"\"\"究极必杀技(打掉对方至少50点或四分之三的血)\n",
    "\n",
    "        :param other: 被攻击的对象\n",
    "\n",
    "        :return: 使用成功返回True否则返回False\n",
    "        \"\"\"\n",
    "        if self._mp >= 50:\n",
    "            self._mp -= 50\n",
    "            injury = other.hp * 3 // 4\n",
    "            injury = injury if injury >= 50 else 50\n",
    "            other.hp -= injury\n",
    "            return True\n",
    "        else:\n",
    "            self.attack(other)\n",
    "            return False\n",
    "\n",
    "    def magic_attack(self, others):\n",
    "        \"\"\"魔法攻击\n",
    "\n",
    "        :param others: 被攻击的群体\n",
    "\n",
    "        :return: 使用魔法成功返回True否则返回False\n",
    "        \"\"\"\n",
    "        if self._mp >= 20:\n",
    "            self._mp -= 20\n",
    "            for temp in others:\n",
    "                if temp.alive:\n",
    "                    temp.hp -= randint(10, 15)\n",
    "            return True\n",
    "        else:\n",
    "            return False\n",
    "\n",
    "    def resume(self):\n",
    "        \"\"\"恢复魔法值\"\"\"\n",
    "        incr_point = randint(1, 10)\n",
    "        self._mp += incr_point\n",
    "        return incr_point\n",
    "\n",
    "    def __str__(self):\n",
    "        return '~~~%s奥特曼~~~\\n' % self._name + \\\n",
    "            '生命值: %d\\n' % self._hp + \\\n",
    "            '魔法值: %d\\n' % self._mp\n",
    "\n",
    "\n",
    "class Monster(Fighter):\n",
    "    \"\"\"小怪兽\"\"\"\n",
    "\n",
    "    __slots__ = ('_name', '_hp')\n",
    "\n",
    "    def attack(self, other):\n",
    "        other.hp -= randint(10, 20)\n",
    "\n",
    "    def __str__(self):\n",
    "        return '~~~%s小怪兽~~~\\n' % self._name + \\\n",
    "            '生命值: %d\\n' % self._hp\n",
    "\n",
    "\n",
    "def is_any_alive(monsters):\n",
    "    \"\"\"判断有没有小怪兽是活着的\"\"\"\n",
    "    for monster in monsters:\n",
    "        if monster.alive > 0:\n",
    "            return True\n",
    "    return False\n",
    "\n",
    "\n",
    "def select_alive_one(monsters):\n",
    "    \"\"\"选中一只活着的小怪兽\"\"\"\n",
    "    monsters_len = len(monsters)\n",
    "    while True:\n",
    "        index = randrange(monsters_len)\n",
    "        monster = monsters[index]\n",
    "        if monster.alive > 0:\n",
    "            return monster\n",
    "\n",
    "\n",
    "def display_info(ultraman, monsters):\n",
    "    \"\"\"显示奥特曼和小怪兽的信息\"\"\"\n",
    "    print(ultraman)\n",
    "    for monster in monsters:\n",
    "        print(monster, end='')\n",
    "\n",
    "\n",
    "def main():\n",
    "    u = Ultraman('骆昊', 1000, 120)\n",
    "    m1 = Monster('狄仁杰', 250)\n",
    "    m2 = Monster('白元芳', 500)\n",
    "    m3 = Monster('王大锤', 750)\n",
    "    ms = [m1, m2, m3]\n",
    "    fight_round = 1\n",
    "    while u.alive and is_any_alive(ms):\n",
    "        print('========第%02d回合========' % fight_round)\n",
    "        m = select_alive_one(ms)  # 选中一只小怪兽\n",
    "        skill = randint(1, 10)   # 通过随机数选择使用哪种技能\n",
    "        if skill <= 6:  # 60%的概率使用普通攻击\n",
    "            print('%s使用普通攻击打了%s.' % (u.name, m.name))\n",
    "            u.attack(m)\n",
    "            print('%s的魔法值恢复了%d点.' % (u.name, u.resume()))\n",
    "        elif skill <= 9:  # 30%的概率使用魔法攻击(可能因魔法值不足而失败)\n",
    "            if u.magic_attack(ms):\n",
    "                print('%s使用了魔法攻击.' % u.name)\n",
    "            else:\n",
    "                print('%s使用魔法失败.' % u.name)\n",
    "        else:  # 10%的概率使用究极必杀技(如果魔法值不足则使用普通攻击)\n",
    "            if u.huge_attack(m):\n",
    "                print('%s使用究极必杀技虐了%s.' % (u.name, m.name))\n",
    "            else:\n",
    "                print('%s使用普通攻击打了%s.' % (u.name, m.name))\n",
    "                print('%s的魔法值恢复了%d点.' % (u.name, u.resume()))\n",
    "        if m.alive > 0:  # 如果选中的小怪兽没有死就回击奥特曼\n",
    "            print('%s回击了%s.' % (m.name, u.name))\n",
    "            m.attack(u)\n",
    "        display_info(u, ms)  # 每个回合结束后显示奥特曼和小怪兽的信息\n",
    "        fight_round += 1\n",
    "    print('\\n========战斗结束!========\\n')\n",
    "    if u.alive > 0:\n",
    "        print('%s奥特曼胜利!' % u.name)\n",
    "    else:\n",
    "        print('小怪兽胜利!')\n",
    "\n",
    "\n",
    "# 调用\n",
    "main()"
   ]
  },
  {
   "cell_type": "code",
   "execution_count": 13,
   "metadata": {},
   "outputs": [
    {
     "name": "stdout",
     "output_type": "stream",
     "text": [
      "小东: [♠2, ♠3, ♠7, ♣5, ♣8, ♣9, ♣Q, ♥A, ♥7, ♥10, ♥Q, ♦8, ♦10]\n",
      "小西: [♠5, ♠10, ♠J, ♠K, ♣A, ♣2, ♣10, ♣J, ♣K, ♥8, ♦5, ♦6, ♦9]\n",
      "小南: [♠4, ♠6, ♠8, ♠9, ♠Q, ♣4, ♣7, ♥4, ♥5, ♥J, ♥K, ♦3, ♦K]\n",
      "小北: [♠A, ♣3, ♣6, ♥2, ♥3, ♥6, ♥9, ♦A, ♦2, ♦4, ♦7, ♦J, ♦Q]\n"
     ]
    }
   ],
   "source": [
    "# 综合案例2： 扑克游戏。\n",
    "\n",
    "import random\n",
    "\n",
    "\n",
    "class Card(object):\n",
    "    \"\"\"一张牌\"\"\"\n",
    "\n",
    "    def __init__(self, suite, face):\n",
    "        self._suite = suite\n",
    "        self._face = face\n",
    "\n",
    "    @property\n",
    "    def face(self):\n",
    "        return self._face\n",
    "\n",
    "    @property\n",
    "    def suite(self):\n",
    "        return self._suite\n",
    "\n",
    "    def __str__(self):\n",
    "        if self._face == 1:\n",
    "            face_str = 'A'\n",
    "        elif self._face == 11:\n",
    "            face_str = 'J'\n",
    "        elif self._face == 12:\n",
    "            face_str = 'Q'\n",
    "        elif self._face == 13:\n",
    "            face_str = 'K'\n",
    "        else:\n",
    "            face_str = str(self._face)\n",
    "        return '%s%s' % (self._suite, face_str)\n",
    "    \n",
    "    def __repr__(self):\n",
    "        return self.__str__()\n",
    "\n",
    "\n",
    "class Poker(object):\n",
    "    \"\"\"一副牌\"\"\"\n",
    "\n",
    "    def __init__(self):\n",
    "        self._cards = [Card(suite, face) \n",
    "                       for suite in '♠♥♣♦'\n",
    "                       for face in range(1, 14)]\n",
    "        self._current = 0\n",
    "\n",
    "    @property\n",
    "    def cards(self):\n",
    "        return self._cards\n",
    "\n",
    "    def shuffle(self):\n",
    "        \"\"\"洗牌(随机乱序)\"\"\"\n",
    "        self._current = 0\n",
    "        random.shuffle(self._cards)\n",
    "\n",
    "    @property\n",
    "    def next(self):\n",
    "        \"\"\"发牌\"\"\"\n",
    "        card = self._cards[self._current]\n",
    "        self._current += 1\n",
    "        return card\n",
    "\n",
    "    @property\n",
    "    def has_next(self):\n",
    "        \"\"\"还有没有牌\"\"\"\n",
    "        return self._current < len(self._cards)\n",
    "\n",
    "\n",
    "class Player(object):\n",
    "    \"\"\"玩家\"\"\"\n",
    "\n",
    "    def __init__(self, name):\n",
    "        self._name = name\n",
    "        self._cards_on_hand = []\n",
    "\n",
    "    @property\n",
    "    def name(self):\n",
    "        return self._name\n",
    "\n",
    "    @property\n",
    "    def cards_on_hand(self):\n",
    "        return self._cards_on_hand\n",
    "\n",
    "    def get(self, card):\n",
    "        \"\"\"摸牌\"\"\"\n",
    "        self._cards_on_hand.append(card)\n",
    "\n",
    "    def arrange(self, card_key):\n",
    "        \"\"\"玩家整理手上的牌\"\"\"\n",
    "        self._cards_on_hand.sort(key=card_key)\n",
    "\n",
    "\n",
    "# 排序规则-先根据花色再根据点数排序\n",
    "def get_key(card):\n",
    "    return (card.suite, card.face)\n",
    "\n",
    "\n",
    "def main():\n",
    "    p = Poker()\n",
    "    p.shuffle()\n",
    "    players = [Player('小东'), Player('小西'), Player('小南'), Player('小北')]\n",
    "    for _ in range(13):\n",
    "        for player in players:\n",
    "            player.get(p.next)\n",
    "    for player in players:\n",
    "        print(player.name + ':', end=' ')\n",
    "        player.arrange(get_key)\n",
    "        print(player.cards_on_hand)\n",
    "\n",
    "\n",
    "main()"
   ]
  },
  {
   "cell_type": "code",
   "execution_count": 14,
   "metadata": {},
   "outputs": [
    {
     "name": "stdout",
     "output_type": "stream",
     "text": [
      "刘备本月工资为: ￥15000.0元\n"
     ]
    },
    {
     "ename": "KeyboardInterrupt",
     "evalue": "Interrupted by user",
     "output_type": "error",
     "traceback": [
      "\u001b[1;31m---------------------------------------------------------------------------\u001b[0m",
      "\u001b[1;31mKeyboardInterrupt\u001b[0m                         Traceback (most recent call last)",
      "Cell \u001b[1;32mIn[14], line 100\u001b[0m\n\u001b[0;32m     95\u001b[0m         \u001b[38;5;66;03m# 同样是接收get_salary这个消息但是不同的员工表现出了不同的行为(多态)\u001b[39;00m\n\u001b[0;32m     96\u001b[0m         \u001b[38;5;28mprint\u001b[39m(\u001b[38;5;124m'\u001b[39m\u001b[38;5;132;01m%s\u001b[39;00m\u001b[38;5;124m本月工资为: ￥\u001b[39m\u001b[38;5;132;01m%s\u001b[39;00m\u001b[38;5;124m元\u001b[39m\u001b[38;5;124m'\u001b[39m \u001b[38;5;241m%\u001b[39m\n\u001b[0;32m     97\u001b[0m               (emp\u001b[38;5;241m.\u001b[39mname, emp\u001b[38;5;241m.\u001b[39mget_salary()))\n\u001b[1;32m--> 100\u001b[0m \u001b[43mmain\u001b[49m\u001b[43m(\u001b[49m\u001b[43m)\u001b[49m\n",
      "Cell \u001b[1;32mIn[14], line 92\u001b[0m, in \u001b[0;36mmain\u001b[1;34m()\u001b[0m\n\u001b[0;32m     90\u001b[0m \u001b[38;5;28;01mfor\u001b[39;00m emp \u001b[38;5;129;01min\u001b[39;00m emps:\n\u001b[0;32m     91\u001b[0m     \u001b[38;5;28;01mif\u001b[39;00m \u001b[38;5;28misinstance\u001b[39m(emp, Programmer):\n\u001b[1;32m---> 92\u001b[0m         emp\u001b[38;5;241m.\u001b[39mworking_hour \u001b[38;5;241m=\u001b[39m \u001b[38;5;28mint\u001b[39m(\u001b[38;5;28;43minput\u001b[39;49m\u001b[43m(\u001b[49m\u001b[38;5;124;43m'\u001b[39;49m\u001b[38;5;124;43m请输入\u001b[39;49m\u001b[38;5;132;43;01m%s\u001b[39;49;00m\u001b[38;5;124;43m本月工作时间: \u001b[39;49m\u001b[38;5;124;43m'\u001b[39;49m\u001b[43m \u001b[49m\u001b[38;5;241;43m%\u001b[39;49m\u001b[43m \u001b[49m\u001b[43memp\u001b[49m\u001b[38;5;241;43m.\u001b[39;49m\u001b[43mname\u001b[49m\u001b[43m)\u001b[49m)\n\u001b[0;32m     93\u001b[0m     \u001b[38;5;28;01melif\u001b[39;00m \u001b[38;5;28misinstance\u001b[39m(emp, Salesman):\n\u001b[0;32m     94\u001b[0m         emp\u001b[38;5;241m.\u001b[39msales \u001b[38;5;241m=\u001b[39m \u001b[38;5;28mfloat\u001b[39m(\u001b[38;5;28minput\u001b[39m(\u001b[38;5;124m'\u001b[39m\u001b[38;5;124m请输入\u001b[39m\u001b[38;5;132;01m%s\u001b[39;00m\u001b[38;5;124m本月销售额: \u001b[39m\u001b[38;5;124m'\u001b[39m \u001b[38;5;241m%\u001b[39m emp\u001b[38;5;241m.\u001b[39mname))\n",
      "File \u001b[1;32md:\\developer\\miniconda\\envs\\kiana\\lib\\site-packages\\ipykernel\\kernelbase.py:1282\u001b[0m, in \u001b[0;36mKernel.raw_input\u001b[1;34m(self, prompt)\u001b[0m\n\u001b[0;32m   1280\u001b[0m     msg \u001b[38;5;241m=\u001b[39m \u001b[38;5;124m\"\u001b[39m\u001b[38;5;124mraw_input was called, but this frontend does not support input requests.\u001b[39m\u001b[38;5;124m\"\u001b[39m\n\u001b[0;32m   1281\u001b[0m     \u001b[38;5;28;01mraise\u001b[39;00m StdinNotImplementedError(msg)\n\u001b[1;32m-> 1282\u001b[0m \u001b[38;5;28;01mreturn\u001b[39;00m \u001b[38;5;28;43mself\u001b[39;49m\u001b[38;5;241;43m.\u001b[39;49m\u001b[43m_input_request\u001b[49m\u001b[43m(\u001b[49m\n\u001b[0;32m   1283\u001b[0m \u001b[43m    \u001b[49m\u001b[38;5;28;43mstr\u001b[39;49m\u001b[43m(\u001b[49m\u001b[43mprompt\u001b[49m\u001b[43m)\u001b[49m\u001b[43m,\u001b[49m\n\u001b[0;32m   1284\u001b[0m \u001b[43m    \u001b[49m\u001b[38;5;28;43mself\u001b[39;49m\u001b[38;5;241;43m.\u001b[39;49m\u001b[43m_parent_ident\u001b[49m\u001b[43m[\u001b[49m\u001b[38;5;124;43m\"\u001b[39;49m\u001b[38;5;124;43mshell\u001b[39;49m\u001b[38;5;124;43m\"\u001b[39;49m\u001b[43m]\u001b[49m\u001b[43m,\u001b[49m\n\u001b[0;32m   1285\u001b[0m \u001b[43m    \u001b[49m\u001b[38;5;28;43mself\u001b[39;49m\u001b[38;5;241;43m.\u001b[39;49m\u001b[43mget_parent\u001b[49m\u001b[43m(\u001b[49m\u001b[38;5;124;43m\"\u001b[39;49m\u001b[38;5;124;43mshell\u001b[39;49m\u001b[38;5;124;43m\"\u001b[39;49m\u001b[43m)\u001b[49m\u001b[43m,\u001b[49m\n\u001b[0;32m   1286\u001b[0m \u001b[43m    \u001b[49m\u001b[43mpassword\u001b[49m\u001b[38;5;241;43m=\u001b[39;49m\u001b[38;5;28;43;01mFalse\u001b[39;49;00m\u001b[43m,\u001b[49m\n\u001b[0;32m   1287\u001b[0m \u001b[43m\u001b[49m\u001b[43m)\u001b[49m\n",
      "File \u001b[1;32md:\\developer\\miniconda\\envs\\kiana\\lib\\site-packages\\ipykernel\\kernelbase.py:1325\u001b[0m, in \u001b[0;36mKernel._input_request\u001b[1;34m(self, prompt, ident, parent, password)\u001b[0m\n\u001b[0;32m   1322\u001b[0m \u001b[38;5;28;01mexcept\u001b[39;00m \u001b[38;5;167;01mKeyboardInterrupt\u001b[39;00m:\n\u001b[0;32m   1323\u001b[0m     \u001b[38;5;66;03m# re-raise KeyboardInterrupt, to truncate traceback\u001b[39;00m\n\u001b[0;32m   1324\u001b[0m     msg \u001b[38;5;241m=\u001b[39m \u001b[38;5;124m\"\u001b[39m\u001b[38;5;124mInterrupted by user\u001b[39m\u001b[38;5;124m\"\u001b[39m\n\u001b[1;32m-> 1325\u001b[0m     \u001b[38;5;28;01mraise\u001b[39;00m \u001b[38;5;167;01mKeyboardInterrupt\u001b[39;00m(msg) \u001b[38;5;28;01mfrom\u001b[39;00m \u001b[38;5;28;01mNone\u001b[39;00m\n\u001b[0;32m   1326\u001b[0m \u001b[38;5;28;01mexcept\u001b[39;00m \u001b[38;5;167;01mException\u001b[39;00m:\n\u001b[0;32m   1327\u001b[0m     \u001b[38;5;28mself\u001b[39m\u001b[38;5;241m.\u001b[39mlog\u001b[38;5;241m.\u001b[39mwarning(\u001b[38;5;124m\"\u001b[39m\u001b[38;5;124mInvalid Message:\u001b[39m\u001b[38;5;124m\"\u001b[39m, exc_info\u001b[38;5;241m=\u001b[39m\u001b[38;5;28;01mTrue\u001b[39;00m)\n",
      "\u001b[1;31mKeyboardInterrupt\u001b[0m: Interrupted by user"
     ]
    }
   ],
   "source": [
    "# 综合案例3：工资结算系统。\n",
    "\n",
    "\"\"\"\n",
    "某公司有三种类型的员工 分别是部门经理、程序员和销售员\n",
    "需要设计一个工资结算系统 根据提供的员工信息来计算月薪\n",
    "部门经理的月薪是每月固定15000元\n",
    "程序员的月薪按本月工作时间计算 每小时150元\n",
    "销售员的月薪是1200元的底薪加上销售额5%的提成\n",
    "\"\"\"\n",
    "from abc import ABCMeta, abstractmethod\n",
    "\n",
    "\n",
    "class Employee(object, metaclass=ABCMeta):\n",
    "    \"\"\"员工\"\"\"\n",
    "\n",
    "    def __init__(self, name):\n",
    "        \"\"\"\n",
    "        初始化方法\n",
    "\n",
    "        :param name: 姓名\n",
    "        \"\"\"\n",
    "        self._name = name\n",
    "\n",
    "    @property\n",
    "    def name(self):\n",
    "        return self._name\n",
    "\n",
    "    @abstractmethod\n",
    "    def get_salary(self):\n",
    "        \"\"\"\n",
    "        获得月薪\n",
    "\n",
    "        :return: 月薪\n",
    "        \"\"\"\n",
    "        pass\n",
    "\n",
    "\n",
    "class Manager(Employee):\n",
    "    \"\"\"部门经理\"\"\"\n",
    "\n",
    "    def get_salary(self):\n",
    "        return 15000.0\n",
    "\n",
    "\n",
    "class Programmer(Employee):\n",
    "    \"\"\"程序员\"\"\"\n",
    "\n",
    "    def __init__(self, name, working_hour=0):\n",
    "        super().__init__(name)\n",
    "        self._working_hour = working_hour\n",
    "\n",
    "    @property\n",
    "    def working_hour(self):\n",
    "        return self._working_hour\n",
    "\n",
    "    @working_hour.setter\n",
    "    def working_hour(self, working_hour):\n",
    "        self._working_hour = working_hour if working_hour > 0 else 0\n",
    "\n",
    "    def get_salary(self):\n",
    "        return 150.0 * self._working_hour\n",
    "\n",
    "\n",
    "class Salesman(Employee):\n",
    "    \"\"\"销售员\"\"\"\n",
    "\n",
    "    def __init__(self, name, sales=0):\n",
    "        super().__init__(name)\n",
    "        self._sales = sales\n",
    "\n",
    "    @property\n",
    "    def sales(self):\n",
    "        return self._sales\n",
    "\n",
    "    @sales.setter\n",
    "    def sales(self, sales):\n",
    "        self._sales = sales if sales > 0 else 0\n",
    "\n",
    "    def get_salary(self):\n",
    "        return 1200.0 + self._sales * 0.05\n",
    "\n",
    "\n",
    "def main():\n",
    "    emps = [\n",
    "        Manager('刘备'), Programmer('诸葛亮'),\n",
    "        Manager('曹操'), Salesman('荀彧'),\n",
    "        Salesman('吕布'), Programmer('张辽'),\n",
    "        Programmer('赵云')\n",
    "    ]\n",
    "    for emp in emps:\n",
    "        if isinstance(emp, Programmer):\n",
    "            emp.working_hour = int(input('请输入%s本月工作时间: ' % emp.name))\n",
    "        elif isinstance(emp, Salesman):\n",
    "            emp.sales = float(input('请输入%s本月销售额: ' % emp.name))\n",
    "        # 同样是接收get_salary这个消息但是不同的员工表现出了不同的行为(多态)\n",
    "        print('%s本月工资为: ￥%s元' %\n",
    "              (emp.name, emp.get_salary()))\n",
    "\n",
    "\n",
    "main()"
   ]
  },
  {
   "cell_type": "code",
   "execution_count": null,
   "metadata": {},
   "outputs": [],
   "source": []
  },
  {
   "cell_type": "markdown",
   "metadata": {},
   "source": [
    "### python的函数和类小结\n",
    "1. Python的函数\n",
    "* *args：接收任意数量的“位置参数”，在函数内部表现为元组；\n",
    "* **kwargs：接收任意数量的“关键字参数”，在函数内部表现为字典。\n",
    "2. Python的类"
   ]
  },
  {
   "cell_type": "markdown",
   "metadata": {},
   "source": [
    "## 四、Python的模块和包"
   ]
  },
  {
   "cell_type": "markdown",
   "metadata": {},
   "source": [
    "`模块(module)`: 一般情况下是一个以.py为后缀的文件，可作为module的文件类型还有.pyc .pyx .pyd .so .dll\n",
    "* **`.py`：Python 源代码文件。最常见的模块形式，包含可执行的 Python 代码。**\n",
    "* .pyc:    已编译的 Python 字节码文件。Python 在导入模块时会自动生成这种文件，以加速模块的加载。\n",
    "* .pyx:   Cython 源文件。Cython 是一种增强 Python 性能的工具，允许在 Python 中直接编写 C 扩展。\n",
    "* .pyd (Windows) / .so (Linux):已编译的 Python 扩展模块。这些文件是用 C/C++ 编写并编译的动态链接库，允许 Python 调用本机代码以提高性能。\n",
    "* .dll: Windows 动态链接库文件。可以用于创建 Python 扩展模块，但通常需要使用 .pyd 扩展名。"
   ]
  },
  {
   "cell_type": "markdown",
   "metadata": {},
   "source": [
    "`包package`：为避免模块名冲突，python引入了按目录组织模块的方法，称之为package包。包是含有python模块的文件夹。当一个文件夹下有   init   .py时，意为该文件夹是一个包（package），其下的多个模块（module）构成一个整体，而这些模块（module）都可通过同一个包（package）导入其他代码中。\n",
    "\n",
    "'`__init__.py`' 也可以是空,有 `__init__.py` 文件存在的称为普通包，没有 `__init__.py` 存在的称为命名空间包。 \n",
    "\n",
    "若想使用  from package import *, 得在`__init__.py`中指定 all= [''], all指定了包被import *时，哪些模块会被import到当前作用域中。`__init__`是会被优先执行的。"
   ]
  },
  {
   "cell_type": "markdown",
   "metadata": {},
   "source": [
    "import \n",
    "\n",
    "_ 开头的  from xx import *  不包含\n",
    "\n",
    "__ 开头 模块私有"
   ]
  },
  {
   "cell_type": "markdown",
   "metadata": {},
   "source": []
  },
  {
   "cell_type": "markdown",
   "metadata": {},
   "source": [
    "模块有什么作用？\n",
    "\n",
    "模块可以用来管理函数。<br>\n",
    "对于任何一种编程语言来说，给变量、函数这样的标识符起名字都是一个让人头疼的问题，因为我们会遇到命名冲突这种尴尬的情况。最简单的场景就是在同一个.py文件中定义了两个同名函数，由于Python没有函数重载的概念，那么后面的定义会覆盖之前的定义，也就意味着两个函数同名函数实际上只有一个是存在的。\n"
   ]
  },
  {
   "cell_type": "code",
   "execution_count": 23,
   "metadata": {},
   "outputs": [
    {
     "name": "stdout",
     "output_type": "stream",
     "text": [
      "goodbye, world!\n"
     ]
    }
   ],
   "source": [
    "def foo():\n",
    "    print('hello, world!')\n",
    "\n",
    "\n",
    "def foo():\n",
    "    print('goodbye, world!')\n",
    "\n",
    "\n",
    "# 下面的代码会输出什么呢？\n",
    "foo()"
   ]
  },
  {
   "cell_type": "markdown",
   "metadata": {},
   "source": [
    "当然上面的这种情况我们很容易就能避免，但是如果项目是由多人协作进行团队开发的时候，团队中可能有多个程序员都定义了名为foo的函数，那么怎么解决这种命名冲突呢？答案其实很简单，Python中每个文件就代表了一个模块（module），我们在不同的模块中可以有同名的函数，在使用函数的时候我们通过import关键字导入指定的模块就可以区分到底要使用的是哪个模块中的foo函数，代码如下所示。"
   ]
  },
  {
   "cell_type": "markdown",
   "metadata": {},
   "source": [
    "```\n",
    "文件系统结构：\n",
    "module1.py\n",
    "module2.py\n",
    "test.py\n",
    "\n",
    "# module1.py\n",
    "def foo():\n",
    "    print('hello, world!')\n",
    "\n",
    "# module2.py\n",
    "def foo():\n",
    "    print('goodbye, world!')\n",
    "\n",
    "\n",
    "# test.py\n",
    "from module1 import foo\n",
    "foo()\n",
    "# hello, world!\n",
    "\n",
    "from module2 import foo\n",
    "foo()\n",
    "# goodbye, world!"
   ]
  },
  {
   "cell_type": "markdown",
   "metadata": {},
   "source": [
    "* **Python 的 import 机制概述**<br>\n",
    "当我们在代码中执行 import some_module 或其他形式的 import 语句时，Python 会按照以下顺序进行模块加载：\n",
    "\n",
    "    1. 检查是否已在 sys.modules 中\n",
    "\n",
    "    sys.modules 是一个字典，存储了已经加载过的模块及其对应的模块对象；如果已在其中，则直接使用缓存的模块对象而不再重新加载。\n",
    "\n",
    "    2. 在 sys.path 中搜索模块\n",
    "\n",
    "    sys.path 是一个列表，包含了多个搜索路径（如当前脚本所在目录、环境变量 PYTHONPATH 指定的目录、标准库目录等）。\n",
    "    Python 会依次在这些路径中查找模块文件（.py、.pyc、包目录等），找到后进行加载。\n",
    "\n",
    "    3. 加载并执行模块\n",
    "\n",
    "    一旦找到对应文件，Python 解释器会将模块文件的代码执行一次，并在执行完成后将生成的模块对象添加进 sys.modules。\n",
    "    如果在搜索路径中没有找到对应模块，就会抛出 ModuleNotFoundError（Python 3.x）或 ImportError（部分场合）。"
   ]
  },
  {
   "cell_type": "markdown",
   "metadata": {},
   "source": [
    "**绝对导入（Absolute Import）**\n",
    "\n",
    "绝对导入是指使用完整的包路径来导入目标模块。在绝对导入中，你的导入语句完全指定了包层次结构的顶层目录，一直到所需的模块。\n",
    "\n",
    "```\n",
    "# 工程结构：\n",
    "# my_project/\n",
    "#   ├─ main.py\n",
    "#   └─ my_package/\n",
    "#       ├─ __init__.py\n",
    "#       ├─ module_a.py\n",
    "#       └─ sub_package/\n",
    "#           └─ module_b.py\n",
    "\n",
    "# 在 main.py 中\n",
    "import my_package.module_a\n",
    "\n",
    "# 或者导入某个函数或类\n",
    "from my_package.module_a import some_function\n"
   ]
  },
  {
   "cell_type": "markdown",
   "metadata": {},
   "source": [
    "**相对导入（Relative Import）**\n",
    "\n",
    "相对导入指的是在同一个包内，使用点号来表示“当前目录（.）”或“父目录（..）”来导入模块。\n",
    "\n",
    "```\n",
    "# 在 my_package/sub_package/module_b.py 中\n",
    "from . import module_b_helper      # 从当前目录导入 module_b_helper\n",
    "from .. import module_a            # 从上层包导入 module_a\n",
    "from ..module_a import SomeClass   # 进一步导入module_a中的类\n"
   ]
  },
  {
   "cell_type": "markdown",
   "metadata": {},
   "source": [
    "使用场景\n",
    "\n",
    "* 多数情况下，编写包内部模块之间的导入时使用相对导入可以减少重复的包名，并且在包结构发生变动时（如移动整个包）依然能保持导入正确。\n",
    "* 然而，与绝对导入相比，相对导入可能使代码对包结构的“上下文”更敏感，不利于包独立运行测试。如果包需要被独立安装或分发，绝对导入通常会更直观。"
   ]
  },
  {
   "cell_type": "markdown",
   "metadata": {},
   "source": [
    "* **sys.modules 的作用**\n",
    "sys.modules 是一个字典，键是模块名（字符串），值是已加载的模块对象。\n",
    "Python 在导入一个模块时，会先检查 sys.modules 看是否已经加载过：\n",
    "    1. 如果已存在，则直接返回模块对象（不会再读文件）。\n",
    "    2. 如果不存在，Python 会找到并加载该模块文件，将其执行后的模块对象保存到 sys.modules，再返回给调用者。\n",
    "\n",
    "* 典型使用\n",
    "查看已加载模块\n",
    "\n",
    "```\n",
    "import sys\n",
    "print(sys.modules.keys())  # 列出已经加载的模块名\n",
    "```\n",
    "\n",
    "\n",
    "动态替换模块（高级用法，不太常见）\n",
    "\n",
    "可以直接向 sys.modules 中插入或修改一条记录，从而改变某个模块名对应的模块对象，实现某些动态插件或测试替换等技巧，但这种操作必须谨慎，会影响全局行为。\n",
    "调试或查看加载顺序\n",
    "\n",
    "在排查循环导入（circular import）或模块重复加载的问题时，可以检查 sys.modules 了解当前已加载情况。"
   ]
  },
  {
   "cell_type": "markdown",
   "metadata": {},
   "source": []
  },
  {
   "cell_type": "markdown",
   "metadata": {},
   "source": [
    "Python内置属性"
   ]
  },
  {
   "cell_type": "markdown",
   "metadata": {},
   "source": []
  },
  {
   "cell_type": "markdown",
   "metadata": {},
   "source": []
  },
  {
   "cell_type": "markdown",
   "metadata": {},
   "source": []
  },
  {
   "cell_type": "markdown",
   "metadata": {},
   "source": [
    "模块  包  内置属性   \n"
   ]
  },
  {
   "cell_type": "markdown",
   "metadata": {},
   "source": []
  },
  {
   "cell_type": "markdown",
   "metadata": {},
   "source": []
  },
  {
   "cell_type": "markdown",
   "metadata": {},
   "source": [
    "**命名空间**\n",
    "\n",
    "在 Python 中，命名空间（namespace）是一种将名字（标识符）映射到对象的机制。这种机制用于避免名字冲突，并组织代码。每个命名空间都是独立的，不同的命名空间可以包含相同的名字，但它们之间不会互相干扰。\n",
    "\n",
    "* **命名空间的类型**\n",
    "    1. **内置命名空间**（Built-in Namespace）：由 Python 解释器在启动时创建，包含内置的函数和异常，例如 len()、int() 等。\n",
    "    2. **全局命名空间**（Global Namespace）：每个模块都有一个全局命名空间，包含模块中定义的所有变量、函数和类。\n",
    "    3. **局部命名空间**（Local Namespace）：每个函数调用时创建一个局部命名空间，包含函数内部定义的变量和参数。\n",
    "    4. **嵌套命名空间**（Enclosing Namespace）：包含嵌套函数的外部函数的命名空间。在嵌套函数内部，使用 nonlocal 关键字可以声明变量在外部函数中。\n"
   ]
  },
  {
   "cell_type": "code",
   "execution_count": 1,
   "metadata": {},
   "outputs": [
    {
     "name": "stdout",
     "output_type": "stream",
     "text": [
      "{'__name__': '__main__', '__doc__': 'Automatically created module for IPython interactive environment', '__package__': None, '__loader__': None, '__spec__': None, '__builtin__': <module 'builtins' (built-in)>, '__builtins__': <module 'builtins' (built-in)>, '_ih': ['', 'def func():\\n    a = 1  # a 在局部命名空间中\\n    print(locals())  # 打印当前函数的局部命名空间\\n\\nb = 2  # b 在全局命名空间中\\nprint(globals())  # 打印当前模块的全局命名空间'], '_oh': {}, '_dh': [WindowsPath('d:/codespace/fhfeishi/levelup/my_python/pybase')], 'In': ['', 'def func():\\n    a = 1  # a 在局部命名空间中\\n    print(locals())  # 打印当前函数的局部命名空间\\n\\nb = 2  # b 在全局命名空间中\\nprint(globals())  # 打印当前模块的全局命名空间'], 'Out': {}, 'get_ipython': <bound method InteractiveShell.get_ipython of <ipykernel.zmqshell.ZMQInteractiveShell object at 0x00000222C2959EA0>>, 'exit': <IPython.core.autocall.ZMQExitAutocall object at 0x00000222C295AA70>, 'quit': <IPython.core.autocall.ZMQExitAutocall object at 0x00000222C295AA70>, 'open': <function open at 0x00000222C137ACB0>, '_': '', '__': '', '___': '', '__vsc_ipynb_file__': 'd:\\\\codespace\\\\fhfeishi\\\\levelup\\\\my_python\\\\pybase\\\\pythone_base.ipynb', '_i': '', '_ii': '', '_iii': '', '_i1': 'def func():\\n    a = 1  # a 在局部命名空间中\\n    print(locals())  # 打印当前函数的局部命名空间\\n\\nb = 2  # b 在全局命名空间中\\nprint(globals())  # 打印当前模块的全局命名空间', 'func': <function func at 0x00000222C2976B90>, 'b': 2}\n"
     ]
    }
   ],
   "source": [
    "def func():\n",
    "    a = 1  # a 在局部命名空间中\n",
    "    print(locals())  # 打印当前函数的局部命名空间\n",
    "\n",
    "b = 2  # b 在全局命名空间中\n",
    "print(globals())  # 打印当前模块的全局命名空间"
   ]
  },
  {
   "cell_type": "markdown",
   "metadata": {},
   "source": [
    "* **命名空间的生命周期**\n",
    "\n",
    "命名空间的生命周期与其范围（scope）密切相关：\n",
    "1. 内置命名空间：在 Python 解释器的整个生命周期内存在。\n",
    "2. 全局命名空间：在模块的整个生命周期内存在。\n",
    "3. 局部命名空间：在函数调用期间存在，当函数返回时，局部命名空间被销毁。\n",
    "4. 嵌套命名空间：在外部函数的整个生命周期内存在。\n"
   ]
  },
  {
   "cell_type": "markdown",
   "metadata": {},
   "source": [
    "某段Python代码访问 变量x 时，Python会所有的命名空间中查找该变量，顺序是：<br>\n",
    "1. local namespace: 即当前函数或类方法。若找到，则停止搜索；\n",
    "2. global namespace: 即当前模块。若找到，则停止搜索；\n",
    "3. build-in namespace:   Python会假设变量x是build-in的函数函数或变量。若变量x不是build-in的内置函数或变量，Python将报错NameError。\n",
    "4. 对于闭包，若在local namespace找不到该变量，则下一个查找目标是父函数的local namespace。"
   ]
  },
  {
   "cell_type": "markdown",
   "metadata": {},
   "source": [
    "* **命名空间的作用域规则（LEGB）**\n",
    "\n",
    "Python 使用 LEGB 规则（Local, Enclosing, Global, Built-in）来查找变量，即从局部作用域开始，逐级向外查找：\n",
    "1. 局部作用域（Local）：当前函数内的命名空间。当前函数或类方法的命名空间。如果找到变量，则停止搜索。\n",
    "2. 嵌套作用域（Enclosing）：包含当前函数的外部函数的命名空间。包含当前函数的外部函数的命名空间（适用于嵌套函数）。如果找到变量，则停止搜索。\n",
    "3. 全局作用域（Global）：当前模块的命名空间。当前模块的命名空间。如果找到变量，则停止搜索。\n",
    "4. 内置作用域（Built-in）：Python 内置模块的命名空间。Python 内置命名空间。如果找到变量，则停止搜索。如果变量不在以上任何命名空间中，Python 将报错 NameError。"
   ]
  },
  {
   "cell_type": "code",
   "execution_count": 2,
   "metadata": {},
   "outputs": [
    {
     "name": "stdout",
     "output_type": "stream",
     "text": [
      "Inner: inner\n",
      "Outer: inner\n",
      "Global: global\n"
     ]
    }
   ],
   "source": [
    "# 示例：命名空间和作用域\n",
    "\n",
    "# 全局变量\n",
    "x = \"global\"\n",
    "\n",
    "def outer_function():\n",
    "    # 嵌套函数的外部函数变量\n",
    "    x = \"outer\"\n",
    "\n",
    "    def inner_function():\n",
    "        # 嵌套函数变量\n",
    "        nonlocal x  # 使用外部函数的变量\n",
    "        x = \"inner\"\n",
    "        print(\"Inner:\", x)\n",
    "\n",
    "    inner_function()\n",
    "    print(\"Outer:\", x)\n",
    "\n",
    "outer_function()\n",
    "print(\"Global:\", x)\n",
    "\n",
    "# Inner: inner\n",
    "# Outer: inner\n",
    "# Global: global"
   ]
  },
  {
   "cell_type": "markdown",
   "metadata": {},
   "source": [
    "在这个示例中：\n",
    "* x 在全局命名空间中是 \"global\"。\n",
    "* outer_function 中的 x 在外部函数的命名空间中是 \"outer\"。\n",
    "* inner_function 中的 x 使用 nonlocal 声明，使其作用于外部函数的命名空间，所以它的值变为 \"inner\"。"
   ]
  },
  {
   "cell_type": "code",
   "execution_count": 3,
   "metadata": {},
   "outputs": [
    {
     "name": "stdout",
     "output_type": "stream",
     "text": [
      "{'a': 1, 'b': 2}\n",
      "4\n",
      "{'__name__': '__main__', '__doc__': 'Automatically created module for IPython interactive environment', '__package__': None, '__loader__': None, '__spec__': None, '__builtin__': <module 'builtins' (built-in)>, '__builtins__': <module 'builtins' (built-in)>, '_ih': ['', 'def func():\\n    a = 1  # a 在局部命名空间中\\n    print(locals())  # 打印当前函数的局部命名空间\\n\\nb = 2  # b 在全局命名空间中\\nprint(globals())  # 打印当前模块的全局命名空间', '# 示例：命名空间和作用域\\n\\n# 全局变量\\nx = \"global\"\\n\\ndef outer_function():\\n    # 嵌套函数的外部函数变量\\n    x = \"outer\"\\n\\n    def inner_function():\\n        # 嵌套函数变量\\n        nonlocal x  # 使用外部函数的变量\\n        x = \"inner\"\\n        print(\"Inner:\", x)\\n\\n    inner_function()\\n    print(\"Outer:\", x)\\n\\nouter_function()\\nprint(\"Global:\", x)\\n\\n# Inner: inner\\n# Outer: inner\\n# Global: global', \"def func(a=1):\\n    b = 2\\n    print(locals())  # 打印当前函数的局部命名空间\\n    '''\\n    locs = locals()  # locals() 返回一个只读的字典\\n    locs['c'] = 3  # 试图修改 locals() 会报错\\n    print(c)\\n    '''\\n    return a + b\\n\\nfunc()\\n\\nglos = globals()\\nglos['d'] = 4  # 可以通过 globals() 修改全局命名空间\\nprint(d)  # 输出：4\\n\\nprint(globals())  # 打印当前模块的全局命名空间\\n\\n# {'a': 1, 'b': 2}\\n# 4\\n# {'__name__': '__main__', '__doc__': None, '__package__': None, \\n# '__loader__': <_frozen_importlib_external.SourceFileLoader object at 0x7f8b5c7c4e80>, \\n# '__spec__': None, '__annotations__': {}, \\n# '__builtins__': <module 'builtins' (built-in)>, \\n# '__file__': 'namespace_test.py', '__cached__': None, \\n# 'func': <function func at 0x7f8b5c7c4c10>, \\n# 'glos': {...}, 'd': 4}\"], '_oh': {}, '_dh': [WindowsPath('d:/codespace/fhfeishi/levelup/my_python/pybase')], 'In': ['', 'def func():\\n    a = 1  # a 在局部命名空间中\\n    print(locals())  # 打印当前函数的局部命名空间\\n\\nb = 2  # b 在全局命名空间中\\nprint(globals())  # 打印当前模块的全局命名空间', '# 示例：命名空间和作用域\\n\\n# 全局变量\\nx = \"global\"\\n\\ndef outer_function():\\n    # 嵌套函数的外部函数变量\\n    x = \"outer\"\\n\\n    def inner_function():\\n        # 嵌套函数变量\\n        nonlocal x  # 使用外部函数的变量\\n        x = \"inner\"\\n        print(\"Inner:\", x)\\n\\n    inner_function()\\n    print(\"Outer:\", x)\\n\\nouter_function()\\nprint(\"Global:\", x)\\n\\n# Inner: inner\\n# Outer: inner\\n# Global: global', \"def func(a=1):\\n    b = 2\\n    print(locals())  # 打印当前函数的局部命名空间\\n    '''\\n    locs = locals()  # locals() 返回一个只读的字典\\n    locs['c'] = 3  # 试图修改 locals() 会报错\\n    print(c)\\n    '''\\n    return a + b\\n\\nfunc()\\n\\nglos = globals()\\nglos['d'] = 4  # 可以通过 globals() 修改全局命名空间\\nprint(d)  # 输出：4\\n\\nprint(globals())  # 打印当前模块的全局命名空间\\n\\n# {'a': 1, 'b': 2}\\n# 4\\n# {'__name__': '__main__', '__doc__': None, '__package__': None, \\n# '__loader__': <_frozen_importlib_external.SourceFileLoader object at 0x7f8b5c7c4e80>, \\n# '__spec__': None, '__annotations__': {}, \\n# '__builtins__': <module 'builtins' (built-in)>, \\n# '__file__': 'namespace_test.py', '__cached__': None, \\n# 'func': <function func at 0x7f8b5c7c4c10>, \\n# 'glos': {...}, 'd': 4}\"], 'Out': {}, 'get_ipython': <bound method InteractiveShell.get_ipython of <ipykernel.zmqshell.ZMQInteractiveShell object at 0x00000222C2959EA0>>, 'exit': <IPython.core.autocall.ZMQExitAutocall object at 0x00000222C295AA70>, 'quit': <IPython.core.autocall.ZMQExitAutocall object at 0x00000222C295AA70>, 'open': <function open at 0x00000222C137ACB0>, '_': '', '__': '', '___': '', '__vsc_ipynb_file__': 'd:\\\\codespace\\\\fhfeishi\\\\levelup\\\\my_python\\\\pybase\\\\pythone_base.ipynb', '_i': '# 示例：命名空间和作用域\\n\\n# 全局变量\\nx = \"global\"\\n\\ndef outer_function():\\n    # 嵌套函数的外部函数变量\\n    x = \"outer\"\\n\\n    def inner_function():\\n        # 嵌套函数变量\\n        nonlocal x  # 使用外部函数的变量\\n        x = \"inner\"\\n        print(\"Inner:\", x)\\n\\n    inner_function()\\n    print(\"Outer:\", x)\\n\\nouter_function()\\nprint(\"Global:\", x)\\n\\n# Inner: inner\\n# Outer: inner\\n# Global: global', '_ii': 'def func():\\n    a = 1  # a 在局部命名空间中\\n    print(locals())  # 打印当前函数的局部命名空间\\n\\nb = 2  # b 在全局命名空间中\\nprint(globals())  # 打印当前模块的全局命名空间', '_iii': '', '_i1': 'def func():\\n    a = 1  # a 在局部命名空间中\\n    print(locals())  # 打印当前函数的局部命名空间\\n\\nb = 2  # b 在全局命名空间中\\nprint(globals())  # 打印当前模块的全局命名空间', 'func': <function func at 0x00000222C2B24790>, 'b': 2, '_i2': '# 示例：命名空间和作用域\\n\\n# 全局变量\\nx = \"global\"\\n\\ndef outer_function():\\n    # 嵌套函数的外部函数变量\\n    x = \"outer\"\\n\\n    def inner_function():\\n        # 嵌套函数变量\\n        nonlocal x  # 使用外部函数的变量\\n        x = \"inner\"\\n        print(\"Inner:\", x)\\n\\n    inner_function()\\n    print(\"Outer:\", x)\\n\\nouter_function()\\nprint(\"Global:\", x)\\n\\n# Inner: inner\\n# Outer: inner\\n# Global: global', 'x': 'global', 'outer_function': <function outer_function at 0x00000222C2B245E0>, '_i3': \"def func(a=1):\\n    b = 2\\n    print(locals())  # 打印当前函数的局部命名空间\\n    '''\\n    locs = locals()  # locals() 返回一个只读的字典\\n    locs['c'] = 3  # 试图修改 locals() 会报错\\n    print(c)\\n    '''\\n    return a + b\\n\\nfunc()\\n\\nglos = globals()\\nglos['d'] = 4  # 可以通过 globals() 修改全局命名空间\\nprint(d)  # 输出：4\\n\\nprint(globals())  # 打印当前模块的全局命名空间\\n\\n# {'a': 1, 'b': 2}\\n# 4\\n# {'__name__': '__main__', '__doc__': None, '__package__': None, \\n# '__loader__': <_frozen_importlib_external.SourceFileLoader object at 0x7f8b5c7c4e80>, \\n# '__spec__': None, '__annotations__': {}, \\n# '__builtins__': <module 'builtins' (built-in)>, \\n# '__file__': 'namespace_test.py', '__cached__': None, \\n# 'func': <function func at 0x7f8b5c7c4c10>, \\n# 'glos': {...}, 'd': 4}\", 'glos': {...}, 'd': 4}\n"
     ]
    }
   ],
   "source": [
    "def func(a=1):\n",
    "    b = 2\n",
    "    print(locals())  # 打印当前函数的局部命名空间\n",
    "    '''\n",
    "    locs = locals()  # locals() 返回一个只读的字典\n",
    "    locs['c'] = 3  # 试图修改 locals() 会报错\n",
    "    print(c)\n",
    "    '''\n",
    "    return a + b\n",
    "\n",
    "func()\n",
    "\n",
    "glos = globals()\n",
    "glos['d'] = 4  # 可以通过 globals() 修改全局命名空间\n",
    "print(d)  # 输出：4\n",
    "\n",
    "print(globals())  # 打印当前模块的全局命名空间\n",
    "\n",
    "# {'a': 1, 'b': 2}\n",
    "# 4\n",
    "# {'__name__': '__main__', '__doc__': None, '__package__': None, \n",
    "# '__loader__': <_frozen_importlib_external.SourceFileLoader object at 0x7f8b5c7c4e80>, \n",
    "# '__spec__': None, '__annotations__': {}, \n",
    "# '__builtins__': <module 'builtins' (built-in)>, \n",
    "# '__file__': 'namespace_test.py', '__cached__': None, \n",
    "# 'func': <function func at 0x7f8b5c7c4c10>, \n",
    "# 'glos': {...}, 'd': 4}\n",
    "\n"
   ]
  },
  {
   "cell_type": "markdown",
   "metadata": {},
   "source": [
    "* **命名空间与导入**（import）\n",
    "在 Python 中，import 语句用于导入模块，将模块的名字和模块对象绑定到当前命名空间。\n",
    "    * 导入整个模块\n",
    "    * 从模块中导入特定的函数或变量\n",
    "    * 导入模块并指定别名\n",
    "    * 从模块中导入所有内容（不推荐）"
   ]
  },
  {
   "cell_type": "markdown",
   "metadata": {},
   "source": [
    "使用 import 语句时，Python 会在以下位置按顺序查找模块：\n",
    "1. 当前目录\n",
    "2. PYTHONPATH 环境变量中的目录\n",
    "3. 标准库目录\n",
    "4. 已安装包的目录"
   ]
  },
  {
   "cell_type": "markdown",
   "metadata": {},
   "source": [
    "**导入命名空间包**（Namespace Package）<br>\n",
    "命名空间包允许将多个物理目录合并为一个逻辑包，而不需要 __init__.py 文件。它通常用于大型项目或插件系统。\n",
    "```\n",
    "project/\n",
    "    part1/\n",
    "        mynamespace/\n",
    "            module1.py\n",
    "    part2/\n",
    "        mynamespace/\n",
    "            module2.py\n",
    "    main.py\n",
    "\n",
    "# main.py\n",
    "import sys\n",
    "sys.path.extend(['/path/to/project/part1', '/path/to/project/part2'])\n",
    "\n",
    "import mynamespace.module1\n",
    "import mynamespace.module2\n",
    "\n",
    "mynamespace.module1.func1()\n",
    "mynamespace.module2.func2()\n",
    "\n",
    "# part1/mynamespace/module1.py：\n",
    "def func1():\n",
    "    print(\"This is func1 from module1 in part1\")\n",
    "\n",
    "# part2/mynamespace/module2.py：\n",
    "def func2():\n",
    "    print(\"This is func2 from module2 in part2\")\n",
    "\n",
    "# 在项目的顶层目录 project/ 中运行 main.py：\n",
    "python main.py\n",
    "\n",
    "# output\n",
    "This is func1 from module1 in part1\n",
    "This is func2 from module2 in part2    \n",
    "\n"
   ]
  },
  {
   "cell_type": "code",
   "execution_count": null,
   "metadata": {},
   "outputs": [],
   "source": [
    "# project/\n",
    "#     part1/\n",
    "#         mynamespace/\n",
    "#             module1.py\n",
    "#     part2/\n",
    "#         mynamespace/\n",
    "#             module2.py\n",
    "#     main.py\n",
    "\n",
    "# # main.py\n",
    "# import sys\n",
    "# sys.path.extend(['/path/to/project/part1', '/path/to/project/part2'])\n",
    "\n",
    "# import mynamespace.module1\n",
    "# import mynamespace.module2\n",
    "\n",
    "# mynamespace.module1.func1()\n",
    "# mynamespace.module2.func2()\n",
    "\n",
    "# # part1/mynamespace/module1.py：\n",
    "# def func1():\n",
    "#     print(\"This is func1 from module1 in part1\")\n",
    "\n",
    "# # part2/mynamespace/module2.py：\n",
    "# def func2():\n",
    "#     print(\"This is func2 from module2 in part2\")\n",
    "\n",
    "# # 在项目的顶层目录 project/ 中运行 main.py：\n",
    "# python main.py\n",
    "\n",
    "# # output\n",
    "# This is func1 from module1 in part1\n",
    "# This is func2 from module2 in part2    "
   ]
  },
  {
   "cell_type": "markdown",
   "metadata": {},
   "source": [
    "## 五、Python技巧（进阶）\n",
    "\n",
    "匿名函数\n",
    "装饰器"
   ]
  },
  {
   "cell_type": "markdown",
   "metadata": {},
   "source": []
  },
  {
   "cell_type": "markdown",
   "metadata": {},
   "source": []
  },
  {
   "cell_type": "markdown",
   "metadata": {},
   "source": []
  },
  {
   "cell_type": "markdown",
   "metadata": {},
   "source": []
  },
  {
   "cell_type": "markdown",
   "metadata": {},
   "source": []
  },
  {
   "cell_type": "markdown",
   "metadata": {},
   "source": []
  },
  {
   "cell_type": "markdown",
   "metadata": {},
   "source": []
  },
  {
   "cell_type": "markdown",
   "metadata": {},
   "source": []
  }
 ],
 "metadata": {
  "kernelspec": {
   "display_name": "kiana",
   "language": "python",
   "name": "python3"
  },
  "language_info": {
   "codemirror_mode": {
    "name": "ipython",
    "version": 3
   },
   "file_extension": ".py",
   "mimetype": "text/x-python",
   "name": "python",
   "nbconvert_exporter": "python",
   "pygments_lexer": "ipython3",
   "version": "3.10.13"
  }
 },
 "nbformat": 4,
 "nbformat_minor": 2
}
