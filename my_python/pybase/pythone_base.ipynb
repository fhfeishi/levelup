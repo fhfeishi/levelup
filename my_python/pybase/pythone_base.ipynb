{
 "cells": [
  {
   "cell_type": "markdown",
   "metadata": {},
   "source": [
    "## 一、Python数据类型\n",
    "\n",
    "### 0、NoneType  \n",
    "### 1、布尔类型（Boolean）\n",
    "### 2、数字类型（Numeric Typies）\n",
    "### 3、字符串（String）\n",
    "### 4、元组（Tuple）\n",
    "### 5、集合（Set）\n",
    "### 6、列表（List）\n",
    "### 7、字典（Dictionary）"
   ]
  },
  {
   "cell_type": "code",
   "execution_count": 6,
   "metadata": {},
   "outputs": [
    {
     "name": "stdout",
     "output_type": "stream",
     "text": [
      "<class 'NoneType'>\n"
     ]
    }
   ],
   "source": [
    "# NoneType  这个数据类型比较特殊，也就只有None是NoneType。\n",
    "print(type(None))   # <class 'NoneType'>"
   ]
  },
  {
   "cell_type": "markdown",
   "metadata": {},
   "source": [
    "### 1、布尔类型（Boolean）\n",
    "* 用来表示真（True）和假（False）的值，常用于条件判断"
   ]
  },
  {
   "cell_type": "code",
   "execution_count": 8,
   "metadata": {},
   "outputs": [
    {
     "name": "stdout",
     "output_type": "stream",
     "text": [
      "<class 'bool'>\n",
      "<class 'bool'>\n"
     ]
    }
   ],
   "source": [
    "is_student = True\n",
    "has_graduated = False\n",
    "\n",
    "print(type(is_student))   # <class 'bool'>\n",
    "print(type(has_graduated))   # <class 'bool'>"
   ]
  },
  {
   "cell_type": "markdown",
   "metadata": {},
   "source": [
    "### 2、数字类型（Numeric Typies）\n",
    "* int（整数）： 用于表示整数值，没有小数部分\n",
    "* 浮点数（float）： 用于表示带有小数部分的数值\n",
    "* 复数（complex）：用于表示复数，包含实部和虚部"
   ]
  },
  {
   "cell_type": "code",
   "execution_count": 9,
   "metadata": {},
   "outputs": [
    {
     "name": "stdout",
     "output_type": "stream",
     "text": [
      "<class 'int'>\n",
      "<class 'int'>\n",
      "<class 'float'>\n",
      "<class 'float'>\n",
      "<class 'complex'>\n"
     ]
    }
   ],
   "source": [
    "# int\n",
    "a = 10\n",
    "b = -1  \n",
    "print(type(a))  # <class 'int'>\n",
    "print(type(b))  # <class 'int'>\n",
    "\n",
    "# float\n",
    "c = 3.4\n",
    "d = -0.002\n",
    "print(type(c))  # <class 'float'>\n",
    "print(type(d))  # <class 'float'>\n",
    "\n",
    "# complex\n",
    "e = -2 + 4j\n",
    "print(type(e))   # <class 'complex'>"
   ]
  },
  {
   "cell_type": "markdown",
   "metadata": {},
   "source": [
    "* 四则混合运算、科学计数法、常用数字运算函数"
   ]
  },
  {
   "cell_type": "code",
   "execution_count": 12,
   "metadata": {},
   "outputs": [
    {
     "name": "stdout",
     "output_type": "stream",
     "text": [
      "add_=3\n",
      "add_b=1.1\n"
     ]
    }
   ],
   "source": [
    "# 加 + \n",
    "add_ = 1 + 2\n",
    "add_b = 1.0 + .1\n",
    "print(f\"{add_=}\")   # add_=3\n",
    "print(f\"{add_b=}\")   # add_b=1.1"
   ]
  },
  {
   "cell_type": "code",
   "execution_count": 13,
   "metadata": {},
   "outputs": [
    {
     "name": "stdout",
     "output_type": "stream",
     "text": [
      "subtraction_=-1\n",
      "subtraction_b=-1.0\n"
     ]
    }
   ],
   "source": [
    "# 减 -\n",
    "subtraction_ = 1-2\n",
    "subtraction_b = 1-2. \n",
    "print(f\"{subtraction_=}\")  # subtraction_=-1\n",
    "print(f\"{subtraction_b=}\")  # subtraction_b=-1.0"
   ]
  },
  {
   "cell_type": "code",
   "execution_count": 14,
   "metadata": {},
   "outputs": [
    {
     "name": "stdout",
     "output_type": "stream",
     "text": [
      "multiplication_=6\n",
      "multiplication_b=6.0\n"
     ]
    }
   ],
   "source": [
    "# 乘 *\n",
    "multiplication_ = 2*3\n",
    "multiplication_b = 2.*3\n",
    "print(f\"{multiplication_=}\")   # multiplication_=6\n",
    "print(f\"{multiplication_b=}\")  # multiplication_b=6.0"
   ]
  },
  {
   "cell_type": "code",
   "execution_count": 15,
   "metadata": {},
   "outputs": [
    {
     "name": "stdout",
     "output_type": "stream",
     "text": [
      "division_=0.5\n",
      "division_b=2.0\n"
     ]
    }
   ],
   "source": [
    "# 除 /\n",
    "division_ = 1/2\n",
    "division_b = 2/1\n",
    "print(f\"{division_=}\")  # division_=0.5\n",
    "print(f\"{division_b=}\")  # division_b=2.0"
   ]
  },
  {
   "cell_type": "code",
   "execution_count": 16,
   "metadata": {},
   "outputs": [
    {
     "name": "stdout",
     "output_type": "stream",
     "text": [
      "rounding_=0\n",
      "remainder_=1\n"
     ]
    }
   ],
   "source": [
    "# 取商 //\n",
    "rounding_ = 1 //2\n",
    "print(f\"{rounding_=}\")   # rounding_=0\n",
    "\n",
    "# 取余 % \n",
    "remainder_ = 1%2\n",
    "print(f\"{remainder_=}\")  # remainder_=1"
   ]
  },
  {
   "cell_type": "code",
   "execution_count": 17,
   "metadata": {},
   "outputs": [
    {
     "name": "stdout",
     "output_type": "stream",
     "text": [
      "power_=8\n"
     ]
    }
   ],
   "source": [
    "# 幂运算 **\n",
    "power_ = 2**3\n",
    "print(f\"{power_=}\")  # power_=8"
   ]
  },
  {
   "cell_type": "code",
   "execution_count": 21,
   "metadata": {},
   "outputs": [
    {
     "name": "stdout",
     "output_type": "stream",
     "text": [
      "a=1000.0\n",
      "b=-0.0002\n"
     ]
    }
   ],
   "source": [
    "# 科学计数法\n",
    "a = 1e3\n",
    "print(f\"{a=}\")  # a=1000.0\n",
    "\n",
    "b = -2e-4\n",
    "print(f\"{b=}\")  # b=-0.0002"
   ]
  },
  {
   "cell_type": "code",
   "execution_count": 28,
   "metadata": {},
   "outputs": [
    {
     "name": "stdout",
     "output_type": "stream",
     "text": [
      "取绝对值：abs(number)=7.25\n",
      "求幂：pow(2,3)=8\n",
      "小数位数调整(有四舍五入)：round(3.1415, 3)=3.142\n",
      "取商取余：divmod(10,3)=(3, 1)\n"
     ]
    }
   ],
   "source": [
    "# 常用数字运算函数\n",
    "number = -7.25\n",
    "\n",
    "print(f\"取绝对值：{abs(number)=}\")  # 取绝对值：abs(number)=7.25\n",
    "print(f\"求幂：{pow(2,3)=}\")  # 求幂：pow(2,3)=8\n",
    "print(f\"小数位数调整(有四舍五入)：{round(3.1415, 3)=}\")  # 小数位数调整(有四舍五入)：round(3.1415, 3)=3.142\n",
    "print(f\"取商取余：{divmod(10,3)=}\")  # 取商取余：divmod(10,3)=(3, 1)"
   ]
  },
  {
   "cell_type": "code",
   "execution_count": 24,
   "metadata": {},
   "outputs": [
    {
     "name": "stdout",
     "output_type": "stream",
     "text": [
      "int(a)=1\n",
      "<class 'int'>\n",
      "float(b)=2.0\n",
      "<class 'float'>\n",
      "type(empty_int)=<class 'int'>\n",
      "type(empty_float)=<class 'float'>\n"
     ]
    }
   ],
   "source": [
    "# 数字类型转换\n",
    "a = 1.2  # <class 'float'>\n",
    "b = 2  # <class 'int'>\n",
    "print(f\"{int(a)=}\")  # int(a)=1\n",
    "print(type(int(a)))  # <class 'int'>\n",
    "print(f\"{float(b)=}\")  # float(b)=2.0\n",
    "print(type(float(b)))  # <class 'float'>\n",
    "\n",
    "# 空int \n",
    "empty_int = int()\n",
    "print(f\"{type(empty_int)=}\")   # type(empty_int)=<class 'int'>\n",
    "\n",
    "# 空float\n",
    "empty_float = float()\n",
    "print(f\"{type(empty_float)=}\")  # type(empty_float)=<class 'float'>"
   ]
  },
  {
   "cell_type": "markdown",
   "metadata": {},
   "source": [
    "### 3、字符串（String）\n",
    "* 用于存储文本数据，可以使用单引号、双引号或者三引号（三引号可以用于多行字符串）"
   ]
  },
  {
   "cell_type": "code",
   "execution_count": 18,
   "metadata": {},
   "outputs": [
    {
     "name": "stdout",
     "output_type": "stream",
     "text": [
      "<class 'str'>\n"
     ]
    }
   ],
   "source": [
    "name = \"Alili\"\n",
    "greeting = \"Hello !\"\n",
    "multiline = \"\"\"This is \n",
    "a \n",
    "multiline.\"\"\"\n",
    "\n",
    "# 空字符串   <class 'str'>\n",
    "empty_str = str()\n",
    "# empty_str = ''\n",
    "# empty_str = \"\"\n",
    "print(type(empty_str))    # <class 'str'>"
   ]
  },
  {
   "cell_type": "markdown",
   "metadata": {},
   "source": [
    "* 字符串是不可变类型，字符串在Python中是不可变的。这意味着一旦创建，字符串的内容不能被修改。所有对字符串的“修改”操作实际上都是创建了新的字符串对象。"
   ]
  },
  {
   "cell_type": "code",
   "execution_count": 2,
   "metadata": {},
   "outputs": [
    {
     "ename": "TypeError",
     "evalue": "'str' object does not support item assignment",
     "output_type": "error",
     "traceback": [
      "\u001b[1;31m---------------------------------------------------------------------------\u001b[0m",
      "\u001b[1;31mTypeError\u001b[0m                                 Traceback (most recent call last)",
      "Cell \u001b[1;32mIn[2], line 3\u001b[0m\n\u001b[0;32m      1\u001b[0m s \u001b[38;5;241m=\u001b[39m \u001b[38;5;124m\"\u001b[39m\u001b[38;5;124mHello\u001b[39m\u001b[38;5;124m\"\u001b[39m\n\u001b[0;32m      2\u001b[0m \u001b[38;5;66;03m# 尝试修改第一个字符\u001b[39;00m\n\u001b[1;32m----> 3\u001b[0m \u001b[43ms\u001b[49m\u001b[43m[\u001b[49m\u001b[38;5;241;43m0\u001b[39;49m\u001b[43m]\u001b[49m \u001b[38;5;241m=\u001b[39m \u001b[38;5;124m'\u001b[39m\u001b[38;5;124mh\u001b[39m\u001b[38;5;124m'\u001b[39m\n",
      "\u001b[1;31mTypeError\u001b[0m: 'str' object does not support item assignment"
     ]
    }
   ],
   "source": [
    "s = \"Hello\"\n",
    "# 尝试修改第一个字符\n",
    "s[0] = 'h'    # TypeError: 'str' object does not support item assignment"
   ]
  },
  {
   "cell_type": "code",
   "execution_count": 3,
   "metadata": {},
   "outputs": [
    {
     "name": "stdout",
     "output_type": "stream",
     "text": [
      "hello\n"
     ]
    }
   ],
   "source": [
    "# 正确的做法是创建一个新的字符串\n",
    "s_new = 'hello'\n",
    "print(s_new)  # hello"
   ]
  },
  {
   "cell_type": "markdown",
   "metadata": {},
   "source": [
    "* 字符串是有序的字符序列，每个字符都有一个索引，Python支持通过索引访问字符串中的单个字符，并支持切片操作获取子字符串。这对于列表、元组同样适用。"
   ]
  },
  {
   "cell_type": "code",
   "execution_count": 7,
   "metadata": {},
   "outputs": [
    {
     "name": "stdout",
     "output_type": "stream",
     "text": [
      "H\n",
      "P\n",
      "!\n",
      "y\n",
      "Hello\n",
      "Python !\n",
      "Hello\n",
      "Hlo yhn!\n",
      "! nohtyP ,olleH\n",
      "thon \n"
     ]
    }
   ],
   "source": [
    "s = \"Hello, Python !\"\n",
    "\n",
    "# 索引\n",
    "# 正向索引  从0开始\n",
    "print(s[0])   # H\n",
    "print(s[7])   # P\n",
    "# 反向索引  从-1开始\n",
    "print(s[-1])  # !\n",
    "print(s[-7])  # y\n",
    "\n",
    "\n",
    "# 切片\n",
    "# 基本切片\n",
    "print(s[0:5])  # Hello\n",
    "print(s[7:])  # Python !\n",
    "print(s[:5])  # Hello\n",
    "# 使用步长   start:end:step     step默认是1，也就是连续取，step=2就是隔一个取\n",
    "print(s[::2])  # Hlo yhn!\n",
    "print(s[::-1])  # ! nohtyP ,olleH\n",
    "# 负数索引切片 \n",
    "print(s[-6:-1])  # thon "
   ]
  },
  {
   "cell_type": "markdown",
   "metadata": {},
   "source": [
    "* 字符串能够索引，自然也支持切片。此外，字符串也支持拼接或重复等操作"
   ]
  },
  {
   "cell_type": "code",
   "execution_count": 11,
   "metadata": {},
   "outputs": [
    {
     "name": "stdout",
     "output_type": "stream",
     "text": [
      "Hello,World!\n",
      "Python is awesome\n",
      "Echo! Echo! Echo! \n"
     ]
    }
   ],
   "source": [
    "# 拼接\n",
    "# 使用加号\n",
    "s1 = \"Hello\"\n",
    "s2 = \"World\"\n",
    "s3 = s1 + \",\" + s2 + \"!\"\n",
    "print(s3) # Hello,World!\n",
    "\n",
    "# 使用join()方法\n",
    "words= [\"Python\", \"is\", \"awesome\"]\n",
    "sentense = \" \".join(words)\n",
    "print(sentense)  # Python is awesome\n",
    "\n",
    "# 重复\n",
    "s = 'Echo! '\n",
    "repeated = s * 3\n",
    "print(repeated)  # Echo! Echo! Echo! "
   ]
  },
  {
   "cell_type": "markdown",
   "metadata": {},
   "source": [
    "Python字符串方法丰富，以下是一些常用的方法及示例。\n",
    "* 分割。split()方法根据指定的分隔符将字符串分割成列表，默认分隔符位空格； rsplit()方法从右侧开始分割字符串，功能与split()类似，但是可以指定最大分割次数"
   ]
  },
  {
   "cell_type": "code",
   "execution_count": 17,
   "metadata": {},
   "outputs": [
    {
     "name": "stdout",
     "output_type": "stream",
     "text": [
      "['Python', 'is', 'fun', 'and', 'powerful.']\n",
      "['Python is fun and powerful', '']\n",
      "['apple', 'banana', 'cherry']\n"
     ]
    }
   ],
   "source": [
    "# 分割\n",
    "\n",
    "s = \"Python is fun and powerful.\"\n",
    "words = s.split()\n",
    "print(words)   # ['Python', 'is', 'fun', 'and', 'powerful.']\n",
    "\n",
    "# words = s.split(' ', 1)  # 看python的版本是否支持\n",
    "# print(words)  # ['Python', 'is fun and powerful.']\n",
    "\n",
    "# 使用指定分隔符\n",
    "words_dot = s.split('.')\n",
    "print(words_dot)  # ['Python is fun and powerful', '']\n",
    "\n",
    "s_ = \"apple,banana,cherry\"\n",
    "# rsplit  从右开始分割\n",
    "fruits = s_.rsplit(',', 2)\n",
    "print(fruits)  # ['apple', 'banana', 'cherry']\n"
   ]
  },
  {
   "cell_type": "markdown",
   "metadata": {},
   "source": [
    "* 查找。<br>find()返回子字符串首次出现的位置，如果未找到则返回-1；rfind()返回子字符串最后一次出现的位置，如果未找到则返回-1"
   ]
  },
  {
   "cell_type": "code",
   "execution_count": 19,
   "metadata": {},
   "outputs": [
    {
     "name": "stdout",
     "output_type": "stream",
     "text": [
      "4\n",
      "7\n"
     ]
    }
   ],
   "source": [
    "s = 'abracadabra'\n",
    "\n",
    "index = s.find('cad')\n",
    "print(index)  # 4\n",
    "\n",
    "last_idx = s.rfind('abra')\n",
    "print(last_idx)  # 7"
   ]
  },
  {
   "cell_type": "markdown",
   "metadata": {},
   "source": [
    "* 大小写转换<br>\n",
    "upper()将字符串转换成大写；lower()系那个字符串转换成小写"
   ]
  },
  {
   "cell_type": "code",
   "execution_count": 20,
   "metadata": {},
   "outputs": [
    {
     "name": "stdout",
     "output_type": "stream",
     "text": [
      "A, A\n",
      "a, a\n"
     ]
    }
   ],
   "source": [
    "s = \"a, A\"\n",
    "print(s.upper())  # A, A\n",
    "print(s.lower())  # a, a"
   ]
  },
  {
   "cell_type": "markdown",
   "metadata": {},
   "source": [
    "* **移除指定字符串**<br>\n",
    "strip()移除字符串两端的指定字符(默认空格)，lstrip()移除字符串左侧的指定字符(默认空格)， rstrip()移除字符串右侧的指定字符(默认空格)"
   ]
  },
  {
   "cell_type": "code",
   "execution_count": 21,
   "metadata": {},
   "outputs": [
    {
     "name": "stdout",
     "output_type": "stream",
     "text": [
      "Hello, Python\n",
      "Hello, Python  \n",
      "  Hello, Python\n"
     ]
    }
   ],
   "source": [
    "s = \"  Hello, Python  \"\n",
    "\n",
    "print(s.strip())  # Hello, Python\n",
    "print(s.lstrip()) # Hello, Python\n",
    "print(s.rstrip()) #   Hello, Python"
   ]
  },
  {
   "cell_type": "markdown",
   "metadata": {},
   "source": [
    "* **判断字符串的开头、结尾** <br>\n",
    "startswith()检查字符串是否以指定子字符串开头； endswith()检查字符串是否以子字符串结尾"
   ]
  },
  {
   "cell_type": "code",
   "execution_count": 22,
   "metadata": {},
   "outputs": [
    {
     "name": "stdout",
     "output_type": "stream",
     "text": [
      "True\n",
      "True\n",
      "False\n"
     ]
    }
   ],
   "source": [
    "s = \"Pyrhon Programming\"\n",
    "\n",
    "print(s.startswith('Py'))  # True\n",
    "print(s.endswith('g'))  # True\n",
    "print(s.startswith('Java'))  # False"
   ]
  },
  {
   "cell_type": "markdown",
   "metadata": {},
   "source": [
    "* count()方法用于统计子字符串在字符串中出现的次数"
   ]
  },
  {
   "cell_type": "code",
   "execution_count": 24,
   "metadata": {},
   "outputs": [
    {
     "name": "stdout",
     "output_type": "stream",
     "text": [
      "3\n"
     ]
    }
   ],
   "source": [
    "s = 'banana'\n",
    "\n",
    "count = s.count('a')\n",
    "print(count)  # 3"
   ]
  },
  {
   "cell_type": "markdown",
   "metadata": {},
   "source": [
    "* index()方法用于查看子字符串在字符串中的索引位置"
   ]
  },
  {
   "cell_type": "code",
   "execution_count": 25,
   "metadata": {},
   "outputs": [
    {
     "name": "stdout",
     "output_type": "stream",
     "text": [
      "1\n"
     ]
    }
   ],
   "source": [
    "s = 'banana'\n",
    "\n",
    "index_ = s.index('a')\n",
    "print(index_)  # 1"
   ]
  },
  {
   "cell_type": "markdown",
   "metadata": {},
   "source": [
    "* **字符串格式化**<br>\n",
    "字符串格式化用于动态插入变量到字符串中。Python提供了多种格式化方法，包括%格式化、str.format()和f-str(Python 3.6+)。f-str提供了一种简洁的格式化方法，直接在字符串前加f并在花括号{}中引入变量，推荐使用"
   ]
  },
  {
   "cell_type": "code",
   "execution_count": 27,
   "metadata": {},
   "outputs": [
    {
     "name": "stdout",
     "output_type": "stream",
     "text": [
      "My name is Alili and I am 24 years old.\n",
      "My name is Alili and I am 24.00 years old.\n",
      "My name is Alili and I am 24.00 years old.\n"
     ]
    }
   ],
   "source": [
    "name = \"Alili\"\n",
    "age = 24\n",
    "\n",
    "# %\n",
    "s = \"My name is %s and I am %d years old.\" % (name, age)\n",
    "print(s)\n",
    "\n",
    "# str.format()\n",
    "format_mtd = \"My name is {} and I am {:.2f} years old.\".format(name, age)\n",
    "print(format_mtd)  # My name is Alili and I am 24.00 years old.\n",
    "# format_mtd = \"My name is {0} and I am {1} years old.\".format(name, age)\n",
    "# format_mtd = \"My name is {0} and I am {1:.2f} years old.\".format(name, age)\n",
    "\n",
    "# f-str\n",
    "f_method = f\"My name is {name} and I am {age:.2f} years old.\"\n",
    "print(f_method)  # My name is Alili and I am 24.00 years old."
   ]
  },
  {
   "cell_type": "markdown",
   "metadata": {},
   "source": [
    "* **转义字符与原始字符串** <br>字符串中可以包含特殊字符，如换行符 (\\n)、制表符 (\\t) 等。使用反斜杠 (\\) 作为转义字符；使用 r 或 R 前缀可以创建原始字符串，忽略转义字符，原始字符串多用于文件路径。"
   ]
  },
  {
   "cell_type": "code",
   "execution_count": 28,
   "metadata": {},
   "outputs": [
    {
     "name": "stdout",
     "output_type": "stream",
     "text": [
      "Hello,\n",
      "Python!\n",
      "C:\\Users\\Alili\\Documents\n"
     ]
    }
   ],
   "source": [
    "s = \"Hello,\\nPython!\"\n",
    "print(s)\n",
    "# Hello,\n",
    "# Python!\n",
    "\n",
    "s = r\"C:\\Users\\Alili\\Documents\"\n",
    "print(s)  # C:\\Users\\Alice\\Documents"
   ]
  },
  {
   "cell_type": "markdown",
   "metadata": {},
   "source": [
    "* **字符串长度** <br>使用 len() 函数获取字符串的长度。"
   ]
  },
  {
   "cell_type": "code",
   "execution_count": 29,
   "metadata": {},
   "outputs": [
    {
     "name": "stdout",
     "output_type": "stream",
     "text": [
      "6\n"
     ]
    }
   ],
   "source": [
    "s = \"Python\"\n",
    "print(len(s))  # 6"
   ]
  },
  {
   "cell_type": "markdown",
   "metadata": {},
   "source": [
    "* **检查子字符串**<br>使用 in 和 not in 关键字检查字符串中是否包含某个子字符串。"
   ]
  },
  {
   "cell_type": "code",
   "execution_count": 30,
   "metadata": {},
   "outputs": [
    {
     "name": "stdout",
     "output_type": "stream",
     "text": [
      "True\n",
      "True\n"
     ]
    }
   ],
   "source": [
    "s = \"Python Programming\"\n",
    "print(\"Python\" in s)      # True\n",
    "print(\"Java\" not in s)    # True"
   ]
  },
  {
   "cell_type": "markdown",
   "metadata": {},
   "source": [
    "* **遍历字符串** <br> 可以使用for循环遍历字符串中的每个字符"
   ]
  },
  {
   "cell_type": "code",
   "execution_count": 31,
   "metadata": {},
   "outputs": [
    {
     "name": "stdout",
     "output_type": "stream",
     "text": [
      "H\n",
      "e\n",
      "l\n",
      "l\n",
      "o\n"
     ]
    }
   ],
   "source": [
    "s = \"Hello\"\n",
    "for char in s:\n",
    "    print(char)\n",
    "# H\n",
    "# e\n",
    "# l\n",
    "# l\n",
    "# o"
   ]
  },
  {
   "cell_type": "markdown",
   "metadata": {},
   "source": [
    "* **列表转换**<br>将字符串转换为列表，或者将列表转换位为字符串"
   ]
  },
  {
   "cell_type": "code",
   "execution_count": 33,
   "metadata": {},
   "outputs": [
    {
     "name": "stdout",
     "output_type": "stream",
     "text": [
      "['H', 'e', 'l', 'l', 'o']\n",
      "Hello\n"
     ]
    }
   ],
   "source": [
    "s = \"Hello\"\n",
    "\n",
    "# 转换为列表\n",
    "chars = list(s)\n",
    "print(chars)  # ['H', 'e', 'l', 'l', 'o']\n",
    "\n",
    "# 列表转换为字符串\n",
    "s_new = ''.join(chars)\n",
    "print(s_new)  # Hello"
   ]
  },
  {
   "cell_type": "markdown",
   "metadata": {},
   "source": [
    "* **字符串查找替换**<br>结合find()和replace()方法，可以进行复杂的查找与替换操作"
   ]
  },
  {
   "cell_type": "code",
   "execution_count": 34,
   "metadata": {},
   "outputs": [
    {
     "name": "stdout",
     "output_type": "stream",
     "text": [
      "16\n",
      "The quick brown cat jumps over the lazy dog.\n"
     ]
    }
   ],
   "source": [
    "s = \"The quick brown fox jumps over the lazy dog.\"\n",
    "# 查找子字符串\n",
    "index = s.find(\"fox\")\n",
    "print(index)  # 16\n",
    "# 替换子字符串\n",
    "s_new = s.replace(\"fox\", \"cat\")  \n",
    "print(s_new)  # The quick brown cat jumps over the lazy dog."
   ]
  },
  {
   "cell_type": "markdown",
   "metadata": {},
   "source": [
    "### 4、元组（Tuple）\n"
   ]
  },
  {
   "cell_type": "markdown",
   "metadata": {},
   "source": [
    "* 有序但不可变的序列对象，适用于存储不需要修改的数据。创建元组最简单的方式是用逗号分隔开一列值，当用复杂的表达式定义元组时最好将值放到圆括号`()`内"
   ]
  },
  {
   "cell_type": "code",
   "execution_count": 38,
   "metadata": {},
   "outputs": [
    {
     "name": "stdout",
     "output_type": "stream",
     "text": [
      "(1, 2, 4)\n",
      "((4, 2, 1), (3, 9))\n",
      "<class 'tuple'>\n"
     ]
    }
   ],
   "source": [
    "tup = 1,2,4\n",
    "# tup = 1,2,4,\n",
    "# tup = (1,2,4)\n",
    "# tup = (1,2,4,)\n",
    "print(tup)   # (1, 2, 4)\n",
    "\n",
    "z_tup = (4,2,1), (3,9)\n",
    "print(z_tup)   # ((4, 2, 1), (3, 9))\n",
    "\n",
    "# 空元组\n",
    "empty_tup = ()   #  <class 'tuple'>\n",
    "# empty_tup = tuple()   # <class 'tuple'>\n",
    "print(type(empty_tup))   # <class 'tuple'>"
   ]
  },
  {
   "cell_type": "markdown",
   "metadata": {},
   "source": [
    "* 用`tuple()`可以将任意序列或者迭代器转换成元组"
   ]
  },
  {
   "cell_type": "code",
   "execution_count": 39,
   "metadata": {},
   "outputs": [
    {
     "name": "stdout",
     "output_type": "stream",
     "text": [
      "(1, 3, 2, 4, 2)\n",
      "('A', 'b', 'C', 'd', 'e', 'f')\n"
     ]
    }
   ],
   "source": [
    "tuple_a = tuple([1,3,2,4,2])  # (1, 3, 2, 4, 2)\n",
    "print(tuple_a)\n",
    "tuple_b = tuple(\"AbCdef\")  # ('A', 'b', 'C', 'd', 'e', 'f')\n",
    "print(tuple_b)"
   ]
  },
  {
   "cell_type": "markdown",
   "metadata": {},
   "source": [
    "* 元组具有有序、不可变、支持重复元素的特点，元组支持索引。元组中存储的对象可能是可变对象，一旦创建了元组，元组中的对象就不能修改了"
   ]
  },
  {
   "cell_type": "code",
   "execution_count": 43,
   "metadata": {},
   "outputs": [
    {
     "name": "stdout",
     "output_type": "stream",
     "text": [
      "True\n"
     ]
    }
   ],
   "source": [
    "tuple_c = tuple(['start', [0,0], 1, False])\n",
    "id_before = id(tuple_c[1])  # 3004552076736\n",
    "\n",
    "# tuple_c[1] = [0,0,1] # 会引发 TypeError\n",
    "tuple_c[1].append(1)  # ('start', [0, 0, 1], 1, False) \n",
    "id_after = id(tuple_c[1])  # 3004552076736\n",
    "\n",
    "print(id_before == id_after) # True\n",
    "\n",
    "# 在Python中，每个对象都有一个唯一的身份标识，用于区分不同的对象。\n",
    "# id() 函数用于获取对象的唯一标识符。这是一个唯一的整数，且在对象的生命周期内保持不变\n",
    "# id_before == id_after，id_before、id_after引用的是同一个对象 tuple_c[1]\n",
    "# is 运算符,用于判断两个变量是否引用同一个对象,等同于比较两个变量的id是否相同"
   ]
  },
  {
   "cell_type": "markdown",
   "metadata": {},
   "source": [
    "在Python中，变量实际上是对象的引用。不同变量可以引用同一个对象，也可以引用不同的对象。\n",
    "* id(object) 函数返回对象的“身份”，这是一个唯一的整数，且在对象的生命周期内保持不变。\n",
    "* is 运算符,用于判断两个变量是否引用同一个对象,等同于比较两个变量的id是否相同"
   ]
  },
  {
   "cell_type": "markdown",
   "metadata": {},
   "source": [
    "* 用加号运算符可以将元组串联起来，也可以乘以一个整数，将几个元组的复制串联起来（对象本身并没有复制，只是引用了它）。"
   ]
  },
  {
   "cell_type": "code",
   "execution_count": 44,
   "metadata": {},
   "outputs": [
    {
     "ename": "TypeError",
     "evalue": "can only concatenate tuple (not \"str\") to tuple",
     "output_type": "error",
     "traceback": [
      "\u001b[1;31m---------------------------------------------------------------------------\u001b[0m",
      "\u001b[1;31mTypeError\u001b[0m                                 Traceback (most recent call last)",
      "Cell \u001b[1;32mIn[44], line 1\u001b[0m\n\u001b[1;32m----> 1\u001b[0m tuple_ \u001b[38;5;241m=\u001b[39m \u001b[43m(\u001b[49m\u001b[38;5;241;43m1\u001b[39;49m\u001b[43m,\u001b[49m\u001b[38;5;241;43m2\u001b[39;49m\u001b[43m,\u001b[49m\u001b[43m)\u001b[49m\u001b[43m \u001b[49m\u001b[38;5;241;43m+\u001b[39;49m\u001b[43m \u001b[49m\u001b[38;5;124;43m\"\u001b[39;49m\u001b[38;5;124;43ma\u001b[39;49m\u001b[38;5;124;43m\"\u001b[39;49m \u001b[38;5;241m+\u001b[39m (\u001b[38;5;124m\"\u001b[39m\u001b[38;5;124m1\u001b[39m\u001b[38;5;124m\"\u001b[39m,) \u001b[38;5;241m+\u001b[39m (\u001b[38;5;241m2\u001b[39m)  \n\u001b[0;32m      2\u001b[0m \u001b[38;5;66;03m# 报错 \"a\"、(\"a\") is string, type((2)) is int\u001b[39;00m\n",
      "\u001b[1;31mTypeError\u001b[0m: can only concatenate tuple (not \"str\") to tuple"
     ]
    }
   ],
   "source": [
    "tuple_ = (1,2,) + \"a\" + (\"1\",) + (2)  \n",
    "# TypeError \"a\"、(\"a\") is string, type((2)) is int\n"
   ]
  },
  {
   "cell_type": "code",
   "execution_count": 45,
   "metadata": {},
   "outputs": [
    {
     "name": "stdout",
     "output_type": "stream",
     "text": [
      "tuple_d=(1, 2, 'a', '1', 2)\n",
      "tuple_e=('kk', 'ss', 'kk', 'ss')\n"
     ]
    }
   ],
   "source": [
    "tuple_d = (1,2,) + (\"a\",) + (\"1\",) + (2,)  \n",
    "tuple_e = ('kk', 'ss') * 2   \n",
    "print(f\"{tuple_d=}\")  # tuple_d=(1, 2, 'a', '1', 2)\n",
    "print(f\"{tuple_e=}\")  # tuple_e=('kk', 'ss', 'kk', 'ss')"
   ]
  },
  {
   "cell_type": "markdown",
   "metadata": {},
   "source": [
    "* 元组支持拆分，如果你想将元组赋值给类似元组的变量，Pyhton会试图拆分等号右边的值，<br>其中`*rest`这个特殊语法可用于抓取任意长度列表的位置参数，如果这个rest是不需要的参数，其名字也就不重要了，这个时候通常会使用`_`这个字符来表示"
   ]
  },
  {
   "cell_type": "code",
   "execution_count": 46,
   "metadata": {},
   "outputs": [
    {
     "name": "stdout",
     "output_type": "stream",
     "text": [
      "rest=[33, 41]\n",
      "1\n"
     ]
    }
   ],
   "source": [
    "tuple_f = (1,21,33,41)\n",
    "a_, b_, c_, d_= tuple_f   # 1 21 33 41\n",
    "a_, b_, *rest = tuple_f   # 1 21\n",
    "print(f\"{rest=}\")   # rest=[33, 41]\n",
    "\n",
    "tuple_g = (1,),(21,33,41)\n",
    "a_, (b_, c_, d_) = tuple_g   #  (1,) 21 33 41\n",
    "a_, b_ = tuple_g   # (1,) (21, 33, 41)\n",
    "print(a_[0])   # 1"
   ]
  },
  {
   "cell_type": "markdown",
   "metadata": {},
   "source": [
    "因此，在Pyhton中可以简单地替换变量的名字"
   ]
  },
  {
   "cell_type": "code",
   "execution_count": 47,
   "metadata": {},
   "outputs": [
    {
     "name": "stdout",
     "output_type": "stream",
     "text": [
      "x_=2\n",
      "y_=1\n"
     ]
    }
   ],
   "source": [
    "x_, y_ = 1, 2\n",
    "x_, y_ = y_, x_ \n",
    "print(f\"{x_=}\") # x_=2\n",
    "print(f\"{y_=}\") # y_=1"
   ]
  },
  {
   "cell_type": "markdown",
   "metadata": {},
   "source": [
    "因为元组的大小和内容不能修改，他的实例方法都很轻量。其中一个很有用的就是count（）方法，它可以统计某个值的出现频率："
   ]
  },
  {
   "cell_type": "code",
   "execution_count": 48,
   "metadata": {},
   "outputs": [
    {
     "data": {
      "text/plain": [
       "5"
      ]
     },
     "execution_count": 48,
     "metadata": {},
     "output_type": "execute_result"
    }
   ],
   "source": [
    "tuple_h = 1,2,3,4,5,6,6,6,6,6,\n",
    "tuple_h.count(6)  # 5"
   ]
  },
  {
   "cell_type": "markdown",
   "metadata": {},
   "source": [
    "### 5、集合（Set）"
   ]
  },
  {
   "cell_type": "markdown",
   "metadata": {},
   "source": [
    "* 无序且不重复的元素集合，常用于去重和集合操作。<br>特性：无序、不可重复元素"
   ]
  },
  {
   "cell_type": "code",
   "execution_count": 50,
   "metadata": {},
   "outputs": [
    {
     "name": "stdout",
     "output_type": "stream",
     "text": [
      "<class 'set'>\n",
      "sub_result={8, 2, 4, 6}\n",
      "union={1, 2, 3, 4, 5, 6, 7, 8}\n",
      "intersection={4, 6}\n",
      "tuple_=(1, 2, 3, 4, 12)\n",
      "1\n",
      "2\n",
      "3\n",
      "4\n",
      "12\n"
     ]
    }
   ],
   "source": [
    "# 空集合\n",
    "empty_set = set()  # <class 'set'>\n",
    "print(type(empty_set))  # <class 'set'>\n",
    "\n",
    "# 创建集合\n",
    "unique_numbers = {1, 2, 3, 4, 5}\n",
    "\n",
    "# 添加元素\n",
    "unique_numbers.add(6)\n",
    "\n",
    "# 删除元素\n",
    "unique_numbers.discard(3)\n",
    "\n",
    "# 集合运算\n",
    "evens = {2, 4, 6, 8}\n",
    "odds = {1, 3, 5, 7}\n",
    "# # -\n",
    "sub_result = evens - odds\n",
    "print(f\"{sub_result=}\")   # sub_result={8, 2, 4, 6}\n",
    "# # 并集\n",
    "union = evens.union(odds)\n",
    "# union = evens | odds\n",
    "# union = evens.update(odds)\n",
    "print(f\"{union=}\")  # union={1, 2, 3, 4, 5, 6, 7, 8}\n",
    "# # 交集\n",
    "intersection = evens.intersection({4, 5, 6})\n",
    "print(f\"{intersection=}\")  # intersection={4, 6}\n",
    "\n",
    "# 不在意顺序的情况下, 剔除重复值\n",
    "tu = 1,1,1,1,1,1,12,2,3,4,\n",
    "tuple_ = tuple(set(tu))\n",
    "print(f\"{tuple_=}\")  # list_=[1, 2, 3, 4, 12]\n",
    "# 集合支持for循环遍历\n",
    "for x in tuple_:\n",
    "    print(x)\n",
    "# 1\n",
    "# 2\n",
    "# 3\n",
    "# 4\n",
    "# 12"
   ]
  },
  {
   "cell_type": "markdown",
   "metadata": {},
   "source": [
    "### 6、列表（List）\n"
   ]
  },
  {
   "cell_type": "markdown",
   "metadata": {},
   "source": [
    "* 有序且可变的集合，允许存储不同类型的元素。<br>特性：有序、可变、支持重复元素。列表与元组的语义接近，在许多函数中可以交叉使用。"
   ]
  },
  {
   "cell_type": "code",
   "execution_count": 54,
   "metadata": {},
   "outputs": [
    {
     "name": "stdout",
     "output_type": "stream",
     "text": [
      "<class 'list'>\n",
      "first_fruit='apple'\n",
      "last_fruit='cherry'\n",
      "[2, 3, 4]\n",
      "[0, 1, 2, 3]\n",
      "[6, 7, 8, 9]\n",
      "[0, 2, 4, 6, 8]\n",
      "[9, 8, 7, 6, 5, 4, 3, 2, 1, 0]\n"
     ]
    }
   ],
   "source": [
    "# 创建列表\n",
    "# # 空列表\n",
    "empty_list = [] \n",
    "# empty_list = list()\n",
    "# print(empty_list)  # []\n",
    "print(type(empty_list))  # <class 'list'>\n",
    "\n",
    "# # 嵌套列表\n",
    "nested_list = [1, [2, 3], [4, 5, 6]]\n",
    "# # 列表中可以包含不同类型的元素\n",
    "mixed_list = [1, \"Python\", 3.14, True]\n",
    "\n",
    "\n",
    "fruits = ['apple', 'banana', 'cherry']\n",
    "\n",
    "# 正向索引\n",
    "first_fruit = fruits[0]\n",
    "print(f\"{first_fruit=}\")  # first_fruit='apple'\n",
    "# 反向索引\n",
    "last_fruit = fruits[-1]\n",
    "print(f\"{last_fruit=}\")  # last_fruit='cherry'\n",
    "\n",
    "\n",
    "# 列表切片 语法为list[start:end:step]\n",
    "numbers = [0, 1, 2, 3, 4, 5, 6, 7, 8, 9]\n",
    "# # 基本切片\n",
    "print(numbers[2:5])    # [2, 3, 4]\n",
    "print(numbers[:4])     # [0, 1, 2, 3]\n",
    "print(numbers[6:])     # [6, 7, 8, 9]\n",
    "# # 使用步长\n",
    "print(numbers[::2])    # [0, 2, 4, 6, 8]\n",
    "print(numbers[::-1])   # [9, 8, 7, 6, 5, 4, 3, 2, 1, 0]"
   ]
  },
  {
   "cell_type": "markdown",
   "metadata": {},
   "source": [
    "列表是可变的，可以添加、删除或修改元素"
   ]
  },
  {
   "cell_type": "markdown",
   "metadata": {},
   "source": [
    "* 添加元素： `append()`，在列表末尾添加一个元素。`insert()`，在指定位置插入一个元素。`extend()`，使用另一个可迭代对象扩展列表。"
   ]
  },
  {
   "cell_type": "code",
   "execution_count": 55,
   "metadata": {},
   "outputs": [
    {
     "name": "stdout",
     "output_type": "stream",
     "text": [
      "['apple', 'banana', 'cherry', 'date']\n",
      "['apple', 'blueberry', 'banana', 'cherry', 'date']\n",
      "['apple', 'blueberry', 'banana', 'cherry', 'date', 'elderberry', 'fig']\n"
     ]
    }
   ],
   "source": [
    "fruits = ['apple', 'banana', 'cherry']\n",
    "\n",
    "# append()\n",
    "fruits.append('date')\n",
    "print(fruits)  #  ['apple', 'banana', 'cherry', 'date']\n",
    "\n",
    "# insert()\n",
    "fruits.insert(1, 'blueberry')\n",
    "print(fruits)  # ['apple', 'blueberry', 'banana', 'cherry', 'date']\n",
    "\n",
    "# extend()\n",
    "fruits.extend(['elderberry', 'fig'])\n",
    "print(fruits)  # ['apple', 'blueberry', 'banana', 'cherry', 'date', 'elderberry', 'fig']"
   ]
  },
  {
   "cell_type": "markdown",
   "metadata": {},
   "source": [
    "删除元素\n",
    "* remove(): 删除第一个匹配的元素。\n",
    "* pop(): 删除并返回指定位置的元素，默认删除最后一个元素。\n",
    "* clear(): 删除列表中的所有元素。"
   ]
  },
  {
   "cell_type": "code",
   "execution_count": null,
   "metadata": {},
   "outputs": [],
   "source": [
    "fruits = ['apple', 'blueberry', 'banana', 'cherry', 'date', 'elderberry', 'fig']\n",
    "\n",
    "# remove()\n",
    "fruits.remove('banana')\n",
    "print(fruits)  # ['apple', 'blueberry', 'cherry', 'date', 'elderberry', 'fig']\n",
    "\n",
    "# pop()\n",
    "removed = fruits.pop(2)\n",
    "print(removed)  # cherry\n",
    "print(fruits)    # ['apple', 'blueberry', 'date', 'elderberry', 'fig']\n",
    "\n",
    "# clear()\n",
    "fruits.clear()\n",
    "print(fruits)  # []\n"
   ]
  },
  {
   "cell_type": "markdown",
   "metadata": {},
   "source": [
    "常用的列表方法：\n",
    "* index()，返回第一个匹配元素的索引。\n",
    "* count()，统计元素在列表中出现的次数。\n",
    "* sort()，对列表进行就地排序。\n",
    "* sorted(): 返回排序后的新列表。\n",
    "* reverse()，将列表元素反转。"
   ]
  },
  {
   "cell_type": "code",
   "execution_count": 56,
   "metadata": {},
   "outputs": [
    {
     "name": "stdout",
     "output_type": "stream",
     "text": [
      "4\n",
      "2\n",
      "[1, 2, 2, 4, 5, 6, 9]\n",
      "[9, 6, 5, 4, 2, 2, 1]\n",
      "[9, 6, 5, 4, 2, 2, 1]\n"
     ]
    }
   ],
   "source": [
    "numbers = [4, 2, 9, 1, 5, 6, 2]\n",
    "\n",
    "# index()\n",
    "print(numbers.index(5))  # 4\n",
    "\n",
    "# count()\n",
    "print(numbers.count(2))  # 2\n",
    "\n",
    "# sort()\n",
    "numbers.sort()\n",
    "print(numbers)  # [1, 2, 2, 4, 5, 6, 9]\n",
    "\n",
    "# sorted()   reverse: True降序 False升序\n",
    "sorted_numbers = sorted(numbers, reverse=True)  \n",
    "print(sorted_numbers)  # [9, 6, 5, 4, 2, 2, 1]\n",
    "\n",
    "# reverse()\n",
    "numbers.reverse()\n",
    "print(numbers)  # [9, 6, 5, 4, 2, 2, 1]\n"
   ]
  },
  {
   "cell_type": "markdown",
   "metadata": {},
   "source": [
    "列表的遍历\n",
    "1. 最常见的遍历方法是使用 for 循环逐个访问列表中的元素。虽然不如 for 循环常用，但 while 循环也可以用于遍历列表，特别是在需要基于索引进行操作时。"
   ]
  },
  {
   "cell_type": "code",
   "execution_count": 58,
   "metadata": {},
   "outputs": [
    {
     "name": "stdout",
     "output_type": "stream",
     "text": [
      "apple\n",
      "banana\n",
      "cherry\n",
      "date\n",
      "apple\n",
      "banana\n",
      "cherry\n",
      "date\n"
     ]
    }
   ],
   "source": [
    "fruits = ['apple', 'banana', 'cherry', 'date']\n",
    "\n",
    "# 使用 for 循环遍历列表\n",
    "for fruit in fruits:\n",
    "    print(fruit)\n",
    "\n",
    "# while循环\n",
    "index = 0\n",
    "while index < len(fruits):\n",
    "    print(fruits[index])\n",
    "    index += 1\n",
    "\n",
    "# apple\n",
    "# banana\n",
    "# cherry\n",
    "# date"
   ]
  },
  {
   "cell_type": "markdown",
   "metadata": {},
   "source": [
    "2. 使用enumerate() 函数遍历列表。enumerate() 函数为遍历提供了一个索引和值的组合，使得在遍历过程中同时获取元素的索引和内容变得更加简洁。"
   ]
  },
  {
   "cell_type": "code",
   "execution_count": 59,
   "metadata": {},
   "outputs": [
    {
     "name": "stdout",
     "output_type": "stream",
     "text": [
      "Index 0: apple\n",
      "Index 1: banana\n",
      "Index 2: cherry\n",
      "Index 3: date\n",
      "Index 1: apple\n",
      "Index 2: banana\n",
      "Index 3: cherry\n",
      "Index 4: date\n"
     ]
    }
   ],
   "source": [
    "fruits = ['apple', 'banana', 'cherry', 'date']\n",
    "\n",
    "# 使用 enumerate() 遍历列表\n",
    "for index, fruit in enumerate(fruits):\n",
    "    print(f\"Index {index}: {fruit}\")\n",
    "\n",
    "\n",
    "# Index 0: apple\n",
    "# Index 1: banana\n",
    "# Index 2: cherry\n",
    "# Index 3: date\n",
    "\n",
    "# 从索引 1 开始遍历\n",
    "for index, fruit in enumerate(fruits, start=1):\n",
    "    print(f\"Index {index}: {fruit}\")\n",
    "\n",
    "\n",
    "# Index 1: apple\n",
    "# Index 2: banana\n",
    "# Index 3: cherry\n",
    "# Index 4: date\n"
   ]
  },
  {
   "cell_type": "markdown",
   "metadata": {},
   "source": [
    "3. 使用 zip() 函数遍历多个列表。zip() 函数用于将多个可迭代对象（如列表、元组等）打包成一个个元组，常用于同时遍历多个列表。当 zip() 遍历的多个列表长度不同时，zip() 会以最短的列表为准，忽略多余的元素。"
   ]
  },
  {
   "cell_type": "code",
   "execution_count": 60,
   "metadata": {},
   "outputs": [
    {
     "name": "stdout",
     "output_type": "stream",
     "text": [
      "Alili is 25 years old.\n",
      "Bobo is 30 years old.\n"
     ]
    }
   ],
   "source": [
    "names = ['Alili', 'Bobo', 'Qiuqiu']\n",
    "ages = [25, 30]\n",
    "\n",
    "# 使用 zip() 遍历长度不同的列表\n",
    "for name, age in zip(names, ages):\n",
    "    print(f\"{name} is {age} years old.\")\n",
    "\n",
    "# Alili is 25 years old.\n",
    "# Bobo is 30 years old."
   ]
  },
  {
   "cell_type": "markdown",
   "metadata": {},
   "source": [
    "列表与其他数据类型的转换。将字符串转换为列表：使用 `list()` 函数。将列表转换为字符串：使用 `join()` 方法。"
   ]
  },
  {
   "cell_type": "code",
   "execution_count": 62,
   "metadata": {},
   "outputs": [
    {
     "name": "stdout",
     "output_type": "stream",
     "text": [
      "['H', 'e', 'l', 'l', 'o']\n",
      "Python is awesome\n"
     ]
    }
   ],
   "source": [
    "# 字符串转列表\n",
    "s = \"Hello\"\n",
    "lst = list(s)\n",
    "print(lst)  # ['H', 'e', 'l', 'l', 'o']\n",
    "\n",
    "# 列表转字符串\n",
    "words = ['Python', 'is', 'awesome']\n",
    "sentence = ' '.join(words)\n",
    "print(sentence)  # Python is awesome"
   ]
  },
  {
   "cell_type": "markdown",
   "metadata": {},
   "source": [
    "列表的嵌套。列表可以包含其他列表，实现多维列表。"
   ]
  },
  {
   "cell_type": "code",
   "execution_count": 61,
   "metadata": {},
   "outputs": [
    {
     "name": "stdout",
     "output_type": "stream",
     "text": [
      "2\n",
      "9\n"
     ]
    }
   ],
   "source": [
    "matrix = [\n",
    "    [1, 2, 3],\n",
    "    [4, 5, 6],\n",
    "    [7, 8, 9]\n",
    "]\n",
    "\n",
    "# 访问元素\n",
    "print(matrix[0][1])  # 2\n",
    "print(matrix[2][2])  # 9"
   ]
  },
  {
   "cell_type": "markdown",
   "metadata": {},
   "source": [
    "### 7、字典（Dictionary）"
   ]
  },
  {
   "cell_type": "markdown",
   "metadata": {},
   "source": [
    "字典是Python中一种非常灵活且高效的数据结构，用于存储键值对（key-value pairs）。每个键必须是唯一的，并且是不可变类型（如字符串、整数、元组等）。字典允许快速查找、添加、删除和修改数据，是处理关联性数据的理想选择。"
   ]
  },
  {
   "cell_type": "markdown",
   "metadata": {},
   "source": [
    "* 创建字典。字典使用花括号 `{}` 创建，键值对之间用逗号分隔，键和值之间用冒号 `: `分隔。"
   ]
  },
  {
   "cell_type": "code",
   "execution_count": 64,
   "metadata": {},
   "outputs": [
    {
     "name": "stdout",
     "output_type": "stream",
     "text": [
      "<class 'dict'>\n",
      "{'name': 'Bomm', 'age': 30, 'city': 'New York'}\n"
     ]
    }
   ],
   "source": [
    "# 创建空字典\n",
    "empty_dict = {}\n",
    "# empty_dict = dict()\n",
    "print(type(empty_dict))  # <class 'dict'>\n",
    "\n",
    "# 创建包含键值对的字典\n",
    "student = {\n",
    "    'name': 'Alili',\n",
    "    'age': 25,\n",
    "    'major': 'Computer Science'\n",
    "}\n",
    "\n",
    "# 使用 dict() 构造函数创建字典\n",
    "person = dict(name='Bomm', age=30, city='New York')\n",
    "print(person)   # {'name': 'Bomm', 'age': 30, 'city': 'New York'}"
   ]
  },
  {
   "cell_type": "markdown",
   "metadata": {},
   "source": [
    "* 访问字典元素。通过键来访问对应的值。使用中括号` [] `（如果键不存在，会引发`KeyError`。）或 `get() `方法。"
   ]
  },
  {
   "cell_type": "code",
   "execution_count": 65,
   "metadata": {},
   "outputs": [
    {
     "name": "stdout",
     "output_type": "stream",
     "text": [
      "Alili\n",
      "25\n",
      "Not Available\n"
     ]
    }
   ],
   "source": [
    "student = {\n",
    "    'name': 'Alili',\n",
    "    'age': 25,\n",
    "    'major': 'Computer Science'\n",
    "}\n",
    "\n",
    "# 使用中括号访问\n",
    "print(student['name'])  # Alili\n",
    "\n",
    "# 使用 get() 方法访问\n",
    "print(student.get('age'))  # 25\n",
    "\n",
    "# 如果键不存在，使用 get() 可设置默认值\n",
    "print(student.get('gpa', 'Not Available'))  # Not Available"
   ]
  },
  {
   "cell_type": "markdown",
   "metadata": {},
   "source": [
    "* 添加和修改字典元素。可以通过赋值语句添加新的键值对或修改现有的值。"
   ]
  },
  {
   "cell_type": "code",
   "execution_count": 66,
   "metadata": {},
   "outputs": [
    {
     "name": "stdout",
     "output_type": "stream",
     "text": [
      "{'name': 'Alili', 'age': 25, 'like': 'orange'}\n",
      "{'name': 'Alili', 'age': 25.5, 'like': 'orange'}\n"
     ]
    }
   ],
   "source": [
    "student = {\n",
    "    'name': 'Alili',\n",
    "    'age': 25,\n",
    "    'like': 'orange'\n",
    "}\n",
    "\n",
    "# 添加新的键值对\n",
    "student['like'] = 'orange'\n",
    "print(student)\n",
    "# {'name': 'Alili', 'age': 25, 'like': 'orange'}\n",
    "\n",
    "# 修改现有的值\n",
    "student['age'] = 25.5\n",
    "print(student)\n",
    "# {'name': 'Alili', 'age': 25.5, 'like': 'orange'}"
   ]
  },
  {
   "cell_type": "markdown",
   "metadata": {},
   "source": [
    "* 删除字典元素。使用 del 语句、pop() 方法或 clear() 方法删除元素"
   ]
  },
  {
   "cell_type": "code",
   "execution_count": 67,
   "metadata": {},
   "outputs": [
    {
     "name": "stdout",
     "output_type": "stream",
     "text": [
      "{'name': 'Alili', 'age': 25}\n",
      "25\n",
      "{'name': 'Alili'}\n",
      "{}\n"
     ]
    }
   ],
   "source": [
    "student = {\n",
    "    'name': 'Alili',\n",
    "    'age': 25,\n",
    "    'like': 'orange'\n",
    "}\n",
    "\n",
    "# 使用 del 语句删除键值对\n",
    "del student['like']\n",
    "print(student)\n",
    "# {'name': 'Alili', 'age': 25}\n",
    "\n",
    "# 使用 pop() 方法删除并返回值\n",
    "age = student.pop('age')\n",
    "print(age)       # 25\n",
    "print(student)   # {'name': 'Alili'}\n",
    "\n",
    "# 使用 clear() 方法清空字典\n",
    "student.clear()\n",
    "print(student)  # {}"
   ]
  },
  {
   "cell_type": "markdown",
   "metadata": {},
   "source": [
    "常用字典方法。\n",
    "* keys()返回字典中所有键的视图。\n",
    "* values()，返回字典中所有值的视图。\n",
    "* items()，返回字典中所有键值对的视图，以元组形式呈现。\n",
    "* get()，获取指定键的值，如果键不存在则返回默认值。\n",
    "* update()，使用另一个字典或键值对更新当前字典。\n",
    "* popitem()，随机删除并返回一个键值对（在Python 3.7+中，默认删除最后一个键值对）。"
   ]
  },
  {
   "cell_type": "code",
   "execution_count": 68,
   "metadata": {},
   "outputs": [
    {
     "name": "stdout",
     "output_type": "stream",
     "text": [
      "dict_keys(['name'])\n",
      "dict_values(['Alili'])\n",
      "dict_items([('name', 'Alili')])\n",
      "{'name': 'Alili', 'gpa': 3.9, 'graduated': False}\n",
      "('graduated', False)\n",
      "{'name': 'Alili', 'gpa': 3.9}\n"
     ]
    }
   ],
   "source": [
    "student = {\n",
    "    'name': 'Alili',\n",
    "}\n",
    "\n",
    "keys = student.keys()\n",
    "print(keys)  # dict_keys(['name'])\n",
    "\n",
    "values = student.values()\n",
    "print(values)  # dict_values(['Alili'])\n",
    "\n",
    "items = student.items()\n",
    "print(items)  # dict_items([('name', 'Alili')])\n",
    "\n",
    "# gpa = student.get('gpa', 'Not Available')\n",
    "# print(gpa)  # Not Available\n",
    "\n",
    "additional_info = {'gpa': 3.9, 'graduated': False}\n",
    "student.update(additional_info)\n",
    "print(student)   # {'name': 'Alili', 'gpa': 3.9, 'graduated': False}\n",
    "\n",
    "item = student.popitem()\n",
    "print(item)      # ('graduated', False)\n",
    "print(student)   # {'name': 'Alili', 'gpa': 3.9}"
   ]
  },
  {
   "cell_type": "markdown",
   "metadata": {},
   "source": [
    "遍历字典"
   ]
  },
  {
   "cell_type": "code",
   "execution_count": 69,
   "metadata": {},
   "outputs": [
    {
     "name": "stdout",
     "output_type": "stream",
     "text": [
      "name\n",
      "age\n",
      "like\n",
      "Alili\n",
      "25\n",
      "orange\n",
      "name: Alili\n",
      "age: 25\n",
      "like: orange\n"
     ]
    }
   ],
   "source": [
    "student = {\n",
    "    'name': 'Alili',\n",
    "    'age': 25,\n",
    "    'like': 'orange'\n",
    "}\n",
    "\n",
    "# 遍历键\n",
    "for key in student:\n",
    "    print(key)\n",
    "\n",
    "# name\n",
    "# age\n",
    "# like\n",
    "\n",
    "\n",
    "# 遍历值\n",
    "for value in student.values():\n",
    "    print(value)\n",
    "\n",
    "# Alili\n",
    "# 25\n",
    "# orange\n",
    "\n",
    "\n",
    "# 遍历键值对\n",
    "for key, value in student.items():\n",
    "    print(f\"{key}: {value}\")\n",
    "\n",
    "# name: Alili\n",
    "# age: 25\n",
    "# like: orange"
   ]
  },
  {
   "cell_type": "markdown",
   "metadata": {},
   "source": [
    "嵌套字典。字典可以包含其他字典，实现多层嵌套，适用于表示复杂的数据结构。"
   ]
  },
  {
   "cell_type": "code",
   "execution_count": 71,
   "metadata": {},
   "outputs": [
    {
     "name": "stdout",
     "output_type": "stream",
     "text": [
      "Computer Science\n",
      "{'Alili': {'age': 25, 'major': 'Computer Science', 'gpa': 3.8}, 'Bomm': {'age': 22, 'major': 'Mathematics', 'gpa': 3.5}, 'Charlo': {'age': 24, 'major': 'Physics', 'gpa': 3.6}}\n"
     ]
    }
   ],
   "source": [
    "# 创建嵌套字典\n",
    "students = {\n",
    "    'Alili': {\n",
    "        'age': 25,\n",
    "        'major': 'Computer Science',\n",
    "        'gpa': 3.8\n",
    "    },\n",
    "    'Bomm': {\n",
    "        'age': 22,\n",
    "        'major': 'Mathematics',\n",
    "        'gpa': 3.5\n",
    "    }\n",
    "}\n",
    "\n",
    "# 访问嵌套字典中的值\n",
    "print(students['Alili']['major'])  # Computer Science\n",
    "\n",
    "# 添加新的嵌套字典\n",
    "students['Charlo'] = {'age': 24, 'major': 'Physics', 'gpa': 3.6}\n",
    "print(students)\n",
    "\n",
    "# {'Alili': {'age': 25, 'major': 'Computer Science', 'gpa': 3.8}, \n",
    "# 'Bomm': {'age': 22, 'major': 'Mathematics', 'gpa': 3.5}, \n",
    "# 'Charlo': {'age': 24, 'major': 'Physics', 'gpa': 3.6}}\n",
    "\n"
   ]
  },
  {
   "cell_type": "markdown",
   "metadata": {},
   "source": [
    "### Python数据类型小结"
   ]
  },
  {
   "cell_type": "markdown",
   "metadata": {},
   "source": []
  },
  {
   "cell_type": "markdown",
   "metadata": {},
   "source": [
    "## 二、Pyhton控制流\n",
    "* if \n",
    "* for \n",
    "* while\n",
    "* try - execept"
   ]
  },
  {
   "cell_type": "markdown",
   "metadata": {},
   "source": [
    "首先简单介绍一下常见的Python内置字和常量\n",
    "\n",
    "* `True`: 代表逻辑上的真，在算数运算中相当于`1`；`False`代表逻辑上的假，在算数运算中相当于`0`\n",
    "* `None`: 表示“无值”或“空”，类似其他语言中的`null`。`NoneType`唯一实例\n",
    "* `and`：只有当左右两个条件为`True`时，结果才为`True`\n",
    "* `or`：左右两个条件中有一个为`True`时，结果为`True`\n",
    "* `not`： 对条件求反。如果条件为`True`，则not之后为False，反之亦然\n",
    "* `in`、`not in`：检查某个元素是否在可迭代对象中(如列表、字符串、元组、字典的键等)\n",
    "* `is` 、`is not`：判断两个变量是否引用了同一个对象\n",
    "* `==`、`!=`: 比较两个对象的值相等、不等<br>(对比：== 是比较两个对象的“值”是否相等；is 则是比较两个变量在内存中的身份是否相同。)\n",
    "* `>=`, `<=`, `>`, `<`: 用于数值比较，分别表示大于等于、小于等于、大于、小于\n",
    "* `pass`：占位符。在语法上需要一个语句但实际不执行任何操作时，可以使用 `pass` 占位\n",
    "* `continue`： 结束当前一次循环迭代，直接进入下一次循环\n",
    "* `break`：终止循环"
   ]
  },
  {
   "cell_type": "markdown",
   "metadata": {},
   "source": [
    "条件语句(`if`语句)\n",
    "* 条件语句用于根据特定条件决定程序的执行路径。Python中的条件语句主要包括`if`、`elif` 和 `else`。"
   ]
  },
  {
   "cell_type": "markdown",
   "metadata": {},
   "source": [
    "* 基本语法\n",
    "```\n",
    "if condition1:\n",
    "    # 当 condition1 为 True 时执行\n",
    "    statement1\n",
    "elif condition2:\n",
    "    # 当 condition1 为 False 且 condition2 为 True 时执行\n",
    "    statement2\n",
    "else:\n",
    "    # 当 condition1 和 condition2 都为 False 时执行\n",
    "    statement3\n",
    "```\n"
   ]
  },
  {
   "cell_type": "code",
   "execution_count": null,
   "metadata": {},
   "outputs": [],
   "source": [
    "age = 19  \n",
    "\n",
    "if age >= 18:\n",
    "    print(\"You are an adult.\")\n",
    "elif age >= 13:\n",
    "    print(\"You are a teenager.\")\n",
    "else:\n",
    "    print(\"You are a child.\")"
   ]
  },
  {
   "cell_type": "markdown",
   "metadata": {},
   "source": [
    "循环结构用于重复执行一段代码，直到满足特定的条件。Python主要有两种循环结构：for 循环和 while 循环。\n",
    "* for 循环<br>\n",
    "for 循环用于遍历可迭代对象（如列表、元组、字符串、字典等），逐一访问其中的元素。"
   ]
  },
  {
   "cell_type": "markdown",
   "metadata": {},
   "source": [
    "```\n",
    "for item in iterable:\n",
    "    # 执行语句\n",
    "    statement\n",
    "```"
   ]
  },
  {
   "cell_type": "code",
   "execution_count": 8,
   "metadata": {},
   "outputs": [
    {
     "name": "stdout",
     "output_type": "stream",
     "text": [
      "0\n",
      "1\n",
      "2\n",
      "3\n",
      "4\n"
     ]
    }
   ],
   "source": [
    "# 打印 0 到 4\n",
    "for i in range(5):\n",
    "    print(i)\n"
   ]
  },
  {
   "cell_type": "markdown",
   "metadata": {},
   "source": [
    "* while循环<br>while 循环在给定条件为True时，重复执行代码块。"
   ]
  },
  {
   "cell_type": "markdown",
   "metadata": {},
   "source": [
    "```\n",
    "while condition:\n",
    "    # 执行语句\n",
    "    statement\n",
    "```"
   ]
  },
  {
   "cell_type": "code",
   "execution_count": 6,
   "metadata": {},
   "outputs": [
    {
     "name": "stdout",
     "output_type": "stream",
     "text": [
      "0\n",
      "1\n",
      "2\n",
      "3\n",
      "4\n"
     ]
    }
   ],
   "source": [
    "count = 0\n",
    "\n",
    "while count < 5:\n",
    "    print(count)\n",
    "    count += 1\n",
    "\n",
    "# 0\n",
    "# 1\n",
    "# 2\n",
    "# 3\n",
    "# 4"
   ]
  },
  {
   "cell_type": "code",
   "execution_count": null,
   "metadata": {},
   "outputs": [
    {
     "name": "stdout",
     "output_type": "stream",
     "text": [
      "Incorrect password. Try again.\n",
      "Incorrect password. Try again.\n",
      "Incorrect password. Try again.\n",
      "Incorrect password. Try again.\n",
      "Incorrect password. Try again.\n"
     ]
    }
   ],
   "source": [
    "password = \"\"\n",
    "while password != \"python123\":\n",
    "    password = input(\"Enter the password: \")\n",
    "    if password == \"python123\":\n",
    "        print(\"Access granted.\")\n",
    "    else:\n",
    "        print(\"Incorrect password. Try again.\")\n",
    "\n",
    "\n",
    "# # for \n",
    "# for _ in range(5):\n",
    "#     password = input(\"Enter the password: \")\n",
    "#     if password == \"python123\":\n",
    "#         print(\"Access granted.\")\n",
    "#     else:\n",
    "#         print(\"Incorrect password. Try again.\")\n",
    "        "
   ]
  },
  {
   "cell_type": "markdown",
   "metadata": {},
   "source": [
    "循环控制语句<br>Python提供了break、continue 和 pass 等控制语句，用于在循环中控制执行流程。\n",
    "* break"
   ]
  },
  {
   "cell_type": "code",
   "execution_count": 1,
   "metadata": {},
   "outputs": [
    {
     "name": "stdout",
     "output_type": "stream",
     "text": [
      "0\n",
      "1\n",
      "2\n",
      "3\n",
      "4\n"
     ]
    }
   ],
   "source": [
    "for i in range(10):\n",
    "    if i == 5:\n",
    "        break\n",
    "    print(i)\n",
    "    \n",
    "# 0\n",
    "# 1\n",
    "# 2\n",
    "# 3\n",
    "# 4"
   ]
  },
  {
   "cell_type": "markdown",
   "metadata": {},
   "source": [
    "* continue"
   ]
  },
  {
   "cell_type": "code",
   "execution_count": 3,
   "metadata": {},
   "outputs": [
    {
     "name": "stdout",
     "output_type": "stream",
     "text": [
      "range(0, 5)\n",
      "0\n",
      "1\n",
      "3\n",
      "4\n"
     ]
    }
   ],
   "source": [
    "for i in range(5):\n",
    "    # if i == 2: continue   # 这种写法也支持\n",
    "    if i == 2:\n",
    "        continue\n",
    "    print(i)\n",
    "\n",
    "# 0\n",
    "# 1\n",
    "# 3\n",
    "# 4"
   ]
  },
  {
   "cell_type": "markdown",
   "metadata": {},
   "source": [
    "* pass"
   ]
  },
  {
   "cell_type": "code",
   "execution_count": 5,
   "metadata": {},
   "outputs": [
    {
     "name": "stdout",
     "output_type": "stream",
     "text": [
      "0\n",
      "1\n",
      "2\n",
      "3\n",
      "4\n"
     ]
    }
   ],
   "source": [
    "for i in range(5):\n",
    "    if i == 2:\n",
    "        pass  # 暂不处理\n",
    "    print(i)\n",
    "\n",
    "# 0\n",
    "# 1\n",
    "# 2\n",
    "# 3\n",
    "# 4"
   ]
  },
  {
   "cell_type": "markdown",
   "metadata": {},
   "source": [
    "* 列表、集合和字典推导式"
   ]
  },
  {
   "cell_type": "markdown",
   "metadata": {},
   "source": [
    "列表推导式是Python最受喜爱的特性之一。它允许客户方便的从一个集合过滤元素，形成列表，在传递参数的过程中还可以修改元素。形式如下：\n",
    "```\n",
    "list_ = [expression for item in collection if condition]\n",
    "\n",
    "```\n",
    "它等同于下面的`for`循环\n",
    "```\n",
    "list_ = []\n",
    "for val in collextion:\n",
    "    if condition:\n",
    "        list_.append(val)\n",
    "```\n",
    "filter条件可以被忽略(`if`语句)只留下表达式就行。"
   ]
  },
  {
   "cell_type": "markdown",
   "metadata": {},
   "source": [
    "例如，给定一个字符串，我们可以过滤出长度在2记一下的字符串，并将其转换成大写"
   ]
  },
  {
   "cell_type": "code",
   "execution_count": 10,
   "metadata": {},
   "outputs": [
    {
     "data": {
      "text/plain": [
       "['BAT', 'CAR', 'HAHA', 'PYTHON']"
      ]
     },
     "execution_count": 10,
     "metadata": {},
     "output_type": "execute_result"
    }
   ],
   "source": [
    "strings = ['a', 'as', 'bat', 'car', 'haha', 'python']\n",
    "[x.upper() for x in strings if len(x) > 2]"
   ]
  },
  {
   "cell_type": "markdown",
   "metadata": {},
   "source": [
    "相似的，我们可以得到集合推导式：\n",
    "```\n",
    "set_ = {expression for item in collection if condition}\n",
    "\n",
    "```\n",
    "\n",
    "以及字典推导式：\n",
    "```\n",
    "dict_ = {key_expression: value_expression for item in collection if condition}\n",
    "\n",
    "```"
   ]
  },
  {
   "cell_type": "code",
   "execution_count": 12,
   "metadata": {},
   "outputs": [
    {
     "name": "stdout",
     "output_type": "stream",
     "text": [
      "{1, 2, 3, 4, 6}\n"
     ]
    }
   ],
   "source": [
    "# 集合推导式\n",
    "strings = ['a', 'as', 'bat', 'car', 'haha', 'python']\n",
    "\n",
    "unique_lengths = {len(x) for x in strings}\n",
    "print(unique_lengths)  # {1, 2, 3, 4, 6}"
   ]
  },
  {
   "cell_type": "code",
   "execution_count": 11,
   "metadata": {},
   "outputs": [
    {
     "name": "stdout",
     "output_type": "stream",
     "text": [
      "{1: 1, 2: 4, 3: 9, 4: 16}\n",
      "{'Bomm': 'Male'}\n",
      "{'Alili': 'name', 25: 'age', 'New York': 'city'}\n"
     ]
    }
   ],
   "source": [
    "# 字典推导式\n",
    "\n",
    "numbers = [1, 2, 3, 4]\n",
    "squares_dict = {num: num ** 2 for num in numbers}\n",
    "print(squares_dict)\n",
    "# {1: 1, 2: 4, 3: 9, 4: 16}\n",
    "\n",
    "# 原始字典，值为字符串类型\n",
    "original = {'Alili': 'Female', 'Bomm': 'Male', 'Charlo': 'Male', 'Daisy': 'Female'}\n",
    "# 保留 \"Male\" 性别且键名以 \"B\" 开头的项\n",
    "filtered = {\n",
    "    name: gender\n",
    "    for name, gender in original.items()\n",
    "    if gender == 'Male' and name.startswith('B')\n",
    "}\n",
    "print(filtered)\n",
    "# {'Bomm': 'Male'}\n",
    "\n",
    "\n",
    "# 给定字典是 {字段名: 值}，反转它成 {值: 字段名} 形式\n",
    "info = {'name': 'Alili', 'age': 25, 'city': 'New York'}\n",
    "reversed_dict = {value: key for key, value in info.items()}\n",
    "print(reversed_dict)\n",
    "# {'Alili': 'name', 25: 'age', 'New York': 'city'}\n"
   ]
  },
  {
   "cell_type": "markdown",
   "metadata": {},
   "source": [
    "* map() 是一个内置函数，主要用于将指定的函数应用到一个或多个可迭代对象（如列表、元组、字符串等）的每个元素上，并返回一个迭代器。可以通过对 map() 的结果进行循环遍历或使用 list()、tuple() 等转换来获取映射后的数据。"
   ]
  },
  {
   "cell_type": "markdown",
   "metadata": {},
   "source": [
    "* 迭代器：是一种对象，用于逐一访问集合（如列表、元组、字典等）中的元素，而无需一次性将所有元素加载到内存中。\n",
    "* 生成器：是一种特殊类型的迭代器，使用简单的语法创建，能够在需要时生成值（yield var），而不是一次性生成所有值。yield是python内置关键字。"
   ]
  },
  {
   "cell_type": "code",
   "execution_count": 25,
   "metadata": {},
   "outputs": [
    {
     "data": {
      "text/plain": [
       "{1, 2, 3, 4, 6}"
      ]
     },
     "execution_count": 25,
     "metadata": {},
     "output_type": "execute_result"
    }
   ],
   "source": [
    "strings = ['a', 'as', 'bat', 'car', 'haha', 'python']\n",
    "set(map(len, strings))  # {1, 2, 3, 4, 6}"
   ]
  },
  {
   "cell_type": "code",
   "execution_count": 26,
   "metadata": {},
   "outputs": [
    {
     "data": {
      "text/plain": [
       "{'a': 0, 'as': 1, 'bat': 2, 'car': 3, 'haha': 4, 'python': 5}"
      ]
     },
     "execution_count": 26,
     "metadata": {},
     "output_type": "execute_result"
    }
   ],
   "source": [
    "loc_mapping = {val : index for index, val in enumerate(strings)}\n",
    "loc_mapping"
   ]
  },
  {
   "cell_type": "markdown",
   "metadata": {},
   "source": [
    "嵌套列表推导式"
   ]
  },
  {
   "cell_type": "markdown",
   "metadata": {},
   "source": [
    "现在有一个包含英文名、西班牙名的列表"
   ]
  },
  {
   "cell_type": "code",
   "execution_count": 27,
   "metadata": {},
   "outputs": [],
   "source": [
    "all_data = [['John', 'Emily', 'Michael', 'Mary', 'Steven'], ['Maria', 'Juan', 'Javier', 'Natalia', 'Pilar']]"
   ]
  },
  {
   "cell_type": "markdown",
   "metadata": {},
   "source": [
    "现在对这个列表进行分类，比如这些名字中包含两个或者更多的e"
   ]
  },
  {
   "cell_type": "code",
   "execution_count": 28,
   "metadata": {},
   "outputs": [
    {
     "data": {
      "text/plain": [
       "['Steven']"
      ]
     },
     "execution_count": 28,
     "metadata": {},
     "output_type": "execute_result"
    }
   ],
   "source": [
    "names_of_interest = []\n",
    "for names in all_data:\n",
    "    enough_es = [name for name in names if name.count('e') >= 2]\n",
    "    names_of_interest.extend(enough_es)\n",
    "names_of_interest  # ['Steven']"
   ]
  },
  {
   "cell_type": "markdown",
   "metadata": {},
   "source": [
    "现在可以将上述代码块写成一行 嵌套列表推导式"
   ]
  },
  {
   "cell_type": "code",
   "execution_count": 29,
   "metadata": {},
   "outputs": [
    {
     "data": {
      "text/plain": [
       "['Steven']"
      ]
     },
     "execution_count": 29,
     "metadata": {},
     "output_type": "execute_result"
    }
   ],
   "source": [
    "result = [name for names in all_data for name in names if name.count('e') >= 2]\n",
    "print(result)   # ['Steven']"
   ]
  },
  {
   "cell_type": "markdown",
   "metadata": {},
   "source": [
    "**Python 异常处理**"
   ]
  },
  {
   "cell_type": "markdown",
   "metadata": {},
   "source": [
    "Python 提供了两个非常重要的功能来处理 Python 程序在运行中出现的异常和错误。你可以使用该功能来调试 Python 程序。\n",
    "\n",
    "* 异常处理\n",
    "* 断言(Assertions)"
   ]
  },
  {
   "cell_type": "markdown",
   "metadata": {},
   "source": [
    "什么是异常？<br>\n",
    "\n",
    "异常即是一个事件，该事件会在程序执行过程中发生，影响了程序的正常执行。<br>\n",
    "一般情况下，在Python无法正常处理程序时就会发生一个异常。<br>\n",
    "异常是Python对象，表示一个错误。<br>\n",
    "当Python脚本发生异常时我们需要捕获处理它，否则程序会终止执行。"
   ]
  },
  {
   "cell_type": "markdown",
   "metadata": {},
   "source": [
    "Python标准异常有哪些？"
   ]
  },
  {
   "cell_type": "markdown",
   "metadata": {},
   "source": [
    "|**异常名称**|**描述**|\n",
    "|---|---|\n",
    "|BaseException|所有异常的基类|\n",
    "|SystemExit|解释器请求退出|\n",
    "|KeyboardInterrupt|用户中断执行(通常是输入^C)|\n",
    "|Exception|常规错误的基类|\n",
    "|StopIteration|迭代器没有更多的值|\n",
    "|GeneratorExit|生成器(generator)发生异常来通知退出|\n",
    "|StandardError|所有的内建标准异常的基类|\n",
    "|ArithmeticError|所有数值计算错误的基类|\n",
    "|FloatingPointError|浮点计算错误|\n",
    "|OverflowError|数值运算超出最大限制\n",
    "|ZeroDivisionError|除(或取模)零 (所有数据类型)|\n",
    "|AssertionError|断言语句失败|\n",
    "|AttributeError|对象没有这个属性|\n",
    "|EOFError|没有内建输入,到达EOF 标记|\n",
    "|EnvironmentError|操作系统错误的基类|\n",
    "|IOError|输入/输出操作失败|\n",
    "|OSError|操作系统错误|\n",
    "|WindowsError|系统调用失败|\n",
    "|ImportError|导入模块/对象失败|\n",
    "|LookupError|无效数据查询的基类|\n",
    "|IndexError|序列中没有此索引(index)|\n",
    "|KeyError|映射中没有这个键|\n",
    "|MemoryError|内存溢出错误(对于Python 解释器不是致命的)|\n",
    "|NameError|未声明/初始化对象 (没有属性)|\n",
    "|UnboundLocalError|访问未初始化的本地变量|\n",
    "|ReferenceError|弱引用(Weak reference)试图访问已经垃圾回收了的对象|\n",
    "|RuntimeError|一般的运行时错误|\n",
    "|NotImplementedError|尚未实现的方法|\n",
    "|SyntaxError|Python语法错误|\n",
    "|IndentationError|缩进错误|\n",
    "|TabError|Tab和空格混用|\n",
    "|SystemError|一般的解释器系统错误|\n",
    "|TypeError|对类型无效的操作|\n",
    "|ValueError|传入无效的参数|\n",
    "|UnicodeError|Unicode相关的错误|\n",
    "|UnicodeDecodeError|Unicode 解码时的错误|\n",
    "|UnicodeEncodeError|Unicode 编码时错误|\n",
    "|UnicodeTranslateError|Unicode 转换时错误|\n",
    "|Warning|警告的基类|\n",
    "|DeprecationWarning|关于被弃用的特征的警告|\n",
    "|FutureWarning|关于构造将来语义会有改变的警告|\n",
    "|OverflowWarning|旧的关于自动提升为长整型(long)的警告|\n",
    "|PendingDeprecationWarning|关于特性将会被废弃的警告|\n",
    "|RuntimeWarning|可疑的运行时行为(runtime behavior)的警告|\n",
    "|SyntaxWarning|可疑的语法的警告|\n",
    "|UserWarning|用户代码生成的警告|"
   ]
  },
  {
   "cell_type": "markdown",
   "metadata": {},
   "source": [
    "**异常处理**\n",
    "\n",
    "捉异常可以使用try/except语句。<br>\n",
    "try/except语句用来检测try语句块中的错误，从而让except语句捕获异常信息并处理。<br>\n",
    "如果你不想在异常发生时结束你的程序，只需在try里捕获它。\n",
    "\n",
    "以下为简单的`try....except...else`的语法：\n",
    "```\n",
    "try:\n",
    "    # 可能会发生异常的代码块\n",
    "    risky_operation()\n",
    "except SomeException as e:\n",
    "    # 针对特定类型异常进行处理\n",
    "    handle_exception(e)\n",
    "except AnotherException:\n",
    "    # 针对另一类型的异常进行处理\n",
    "    ...\n",
    "else:\n",
    "    # 当 try 块内代码没有发生异常时才会执行的代码\n",
    "    post_success_operation()\n"
   ]
  },
  {
   "cell_type": "markdown",
   "metadata": {},
   "source": [
    "try的工作原理是，当开始一个try语句后，python就在当前程序的上下文中作标记，这样当异常出现时就可以回到这里，try子句先执行，接下来会发生什么依赖于执行时是否出现异常。\n",
    "\n",
    "* 如果当try后的语句执行时发生异常，python就跳回到try并执行第一个匹配该异常的except子句，异常处理完毕，控制流就通过整个try语句（除非在处理异常时又引发新的异常）。\n",
    "* 如果在try后的语句里发生了异常，却没有匹配的except子句，异常将被递交到上层的try，或者到程序的最上层（这样将结束程序，并打印默认的出错信息）。\n",
    "* 如果在try子句执行时没有发生异常，python将执行else语句后的语句（如果有else的话），然后控制流通过整个try语句。"
   ]
  },
  {
   "cell_type": "code",
   "execution_count": 30,
   "metadata": {},
   "outputs": [
    {
     "name": "stdout",
     "output_type": "stream",
     "text": [
      "除法运算成功。\n",
      "结果： 5.0\n",
      "错误：除数为0！\n",
      "结果： None\n"
     ]
    }
   ],
   "source": [
    "# try-except\n",
    "\n",
    "def divide(a, b):\n",
    "    try:\n",
    "        result = a / b\n",
    "    except ZeroDivisionError as e:\n",
    "        print(\"错误：除数为0！\")\n",
    "        return None\n",
    "    else:\n",
    "        print(\"除法运算成功。\")\n",
    "        return result\n",
    "\n",
    "res = divide(10, 2)\n",
    "print(\"结果：\", res)\n",
    "res = divide(5, 0)\n",
    "print(\"结果：\", res)\n"
   ]
  },
  {
   "cell_type": "markdown",
   "metadata": {},
   "source": [
    "`try-finally`语句\n",
    "\n",
    "无论 try 块中的代码是否抛出异常，finally 块中的代码都会被执行，常用于资源清理或后续收尾操作，如关闭文件、关闭数据库连接等。\n",
    "\n",
    "* 基本语法\n",
    "\n",
    "```\n",
    "try:\n",
    "    # 可能会发生异常的代码块\n",
    "    do_something()\n",
    "finally:\n",
    "    # 无论有没有发生异常，都会执行\n",
    "    cleanup()\n",
    "```\n",
    "\n",
    "* 可以搭配 except 或不搭配都行。语法形式常见为：\n",
    "```\n",
    "try:\n",
    "    ...\n",
    "except SomeException:\n",
    "    ...\n",
    "finally:\n",
    "    ...\n",
    "```"
   ]
  },
  {
   "cell_type": "code",
   "execution_count": 35,
   "metadata": {},
   "outputs": [
    {
     "name": "stdout",
     "output_type": "stream",
     "text": [
      "2.0\n",
      "错误：类型不匹配，无法进行除法运算！\n",
      "无法正常计算 2 除以 a\n",
      "None\n"
     ]
    }
   ],
   "source": [
    "def divide_b(a, b):\n",
    "    result = None  # 先在函数开始处定义一个默认值，避免局部变量未定义\n",
    "\n",
    "    try:\n",
    "        result = a / b\n",
    "    except ZeroDivisionError:\n",
    "        print(\"错误：除数不能为 0！\")\n",
    "    except TypeError:\n",
    "        print(\"错误：类型不匹配，无法进行除法运算！\")\n",
    "    finally:\n",
    "        # finally 块中的代码无论是否发生异常都会被执行\n",
    "        if result is not None:\n",
    "            # 如果 result 在 try 中成功被赋值，则返回它\n",
    "            return result\n",
    "        else:\n",
    "            # 如果 result 仍是 None，说明出现了异常或其他问题\n",
    "            print(f\"无法正常计算 {a} 除以 {b}\")\n",
    "            return None\n",
    "\n",
    "print(divide_b(4,2))\n",
    "\n",
    "print(divide_b(2,'a'))"
   ]
  },
  {
   "cell_type": "markdown",
   "metadata": {},
   "source": [
    "`assert` (断言)语句\n",
    "\n",
    "assert 语句可用于在开发和调试过程中，对特定条件进行断言（验证），如果条件不满足就抛出 AssertionError 异常。它在生产环境中可以选择关闭，也可以用来做简单的条件检查。"
   ]
  },
  {
   "cell_type": "code",
   "execution_count": null,
   "metadata": {},
   "outputs": [
    {
     "name": "stdout",
     "output_type": "stream",
     "text": [
      "[1, 2, 3]\n"
     ]
    },
    {
     "ename": "AssertionError",
     "evalue": "数据必须是非空列表且包含不少于4个元素",
     "output_type": "error",
     "traceback": [
      "\u001b[1;31m---------------------------------------------------------------------------\u001b[0m",
      "\u001b[1;31mAssertionError\u001b[0m                            Traceback (most recent call last)",
      "Cell \u001b[1;32mIn[32], line 8\u001b[0m\n\u001b[0;32m      3\u001b[0m \u001b[38;5;28;01massert\u001b[39;00m \u001b[38;5;28misinstance\u001b[39m(nums, \u001b[38;5;28mlist\u001b[39m) \u001b[38;5;129;01mand\u001b[39;00m \u001b[38;5;28mlen\u001b[39m(nums) \u001b[38;5;241m>\u001b[39m \u001b[38;5;241m0\u001b[39m, \u001b[38;5;124m\"\u001b[39m\u001b[38;5;124m数据必须是非空列表\u001b[39m\u001b[38;5;124m\"\u001b[39m\n\u001b[0;32m      5\u001b[0m \u001b[38;5;28mprint\u001b[39m(nums)  \u001b[38;5;66;03m# assert 语句通过\u001b[39;00m\n\u001b[1;32m----> 8\u001b[0m \u001b[38;5;28;01massert\u001b[39;00m \u001b[38;5;28misinstance\u001b[39m(nums, \u001b[38;5;28mlist\u001b[39m) \u001b[38;5;129;01mand\u001b[39;00m \u001b[38;5;28mlen\u001b[39m(nums) \u001b[38;5;241m>\u001b[39m \u001b[38;5;241m3\u001b[39m, \u001b[38;5;124m\"\u001b[39m\u001b[38;5;124m数据必须是非空列表且包含不少于4个元素\u001b[39m\u001b[38;5;124m\"\u001b[39m\n\u001b[0;32m      9\u001b[0m \u001b[38;5;28mprint\u001b[39m(nums)  \u001b[38;5;66;03m# \u001b[39;00m\n",
      "\u001b[1;31mAssertionError\u001b[0m: 数据必须是非空列表且包含不少于4个元素"
     ]
    }
   ],
   "source": [
    "nums = [1, 2, 3]\n",
    "\n",
    "assert isinstance(nums, list) and len(nums) > 0, \"数据必须是非空列表\"\n",
    "\n",
    "print(nums)  # assert 语句通过\n",
    "\n",
    "\n",
    "assert isinstance(nums, list) and len(nums) > 3, \"数据必须是非空列表且包含不少于4个元素\"\n",
    "print(nums)  # AssertionError: 数据必须是非空列表且包含不少于4个元素\n"
   ]
  },
  {
   "cell_type": "markdown",
   "metadata": {},
   "source": [
    "### python控制流小结\n",
    "\n",
    "1. 条件语句（`if` 语句）：用于根据不同的条件执行不同的代码块。\n",
    "* 比较对象本身（是否为 `True`、`False`、`None`）时，常用 `is` 进行 身份（`identity`） 判断\n",
    "* 判断变量数值是否相等，用 `==` / `!=` 进行 值（`equality`） 比较\n",
    "* `if var_a`: 当 `var_a` 不为 `0`、`False`、`None` 时，判断通过； `if not var_a`与之相反\n",
    "\n",
    "2. 循环结构：\n",
    "* `for` 循环：用于遍历可迭代对象的每个元素。\n",
    "* `while` 循环：在给定条件为True时重复执行代码块。\n",
    "循环控制语句：\n",
    "* `break`：提前终止循环。\n",
    "* `continue`：跳过当前迭代，继续下一个循环。\n",
    "* `pass`：占位符，不执行任何操作。\n",
    "\n",
    "3. (嵌套)列表/字典/集合推导式能够简化代码。\n",
    "\n",
    "4. 异常处理：\n",
    "* `try-except`：用于捕获并处理运行时可能发生的异常，避免程序崩溃并提供更友好的错误信息。\n",
    "* `try-finally`：无论 `try` 块是否抛出异常，`finally` 中的代码都会执行，常用于释放资源或清理操作。\n",
    "* `assert`：开发和测试时的“断言”工具，确保程序中的关键假设成立；若断言失败，会抛出 `AssertionError`。"
   ]
  },
  {
   "cell_type": "markdown",
   "metadata": {},
   "source": [
    "## 三、Python的函数和类\n",
    "\n",
    "### **1. 函数**\n",
    "\n",
    "函数是Python中最主要也是最重要的代码组织和复用手段。作为最重要的原则，如果你要重复使用相同或非常类似的代码，就需要写一个函数。通过给函数起一个名字，还可以提高代码的可读性。\n",
    "\n",
    "函数使用``def``关键字声明，用``return``关键字返回值：\n",
    "\n",
    "基本语法：\n",
    "```\n",
    "def function_name(parameters):\n",
    "    \"\"\"\n",
    "    （可选）文档字符串，用于说明函数的功能\n",
    "    \"\"\"\n",
    "    # 函数体（若干条语句）\n",
    "    ...\n",
    "    # 通常有一个 return 语句，若不写则默认返回 None\n"
   ]
  },
  {
   "cell_type": "code",
   "execution_count": 46,
   "metadata": {},
   "outputs": [
    {
     "name": "stdout",
     "output_type": "stream",
     "text": [
      "<class 'tuple'>\n",
      "1 5\n",
      "None\n",
      "4.5\n",
      "18\n"
     ]
    }
   ],
   "source": [
    "# 返回一个或多个变量(通常是一个元组)\n",
    "def min_and_max(numbers):\n",
    "    \"\"\"返回给定列表的最小值和最大值\"\"\"\n",
    "    return min(numbers), max(numbers)\n",
    "nums = [3, 1, 5, 2, 4]\n",
    "print(type(min_and_max(nums)))    # <class 'tuple'>\n",
    "lowest, highest = min_and_max(nums)\n",
    "print(lowest, highest)  # 输出: 1 5\n",
    "\n",
    "# 没有return\n",
    "def do_nothing():\n",
    "    pass\n",
    "result = do_nothing()\n",
    "print(result)  # None\n",
    "\n",
    "\n",
    "def my_function(x, y, z=1.5):  \n",
    "    if z > 1:\n",
    "        return z * (x + y)\n",
    "    else:\n",
    "        return z / (x + y)\n",
    "# 使用\n",
    "print(my_function(1,2))  # 按照定义时的参数顺序来传递值\n",
    "# 4.5\n",
    "print(my_function(z=3,x=2,y=4))  # 显式地通过参数名来传递值，顺序随意\n",
    "# 18"
   ]
  },
  {
   "cell_type": "markdown",
   "metadata": {},
   "source": [
    "* 位置参数（Positional Arguments）\n",
    "\n",
    "这是最常见、最基础的函数参数形式，调用函数时，按照定义时的参数顺序来传递值。"
   ]
  },
  {
   "cell_type": "code",
   "execution_count": 43,
   "metadata": {},
   "outputs": [
    {
     "name": "stdout",
     "output_type": "stream",
     "text": [
      "Hello, Python!\n"
     ]
    }
   ],
   "source": [
    "def greet(name, message):\n",
    "    print(f\"{message}, {name}!\")\n",
    "\n",
    "greet(\"Python\", \"Hello\")  \n",
    "# 按顺序传递: name=\"Python\", message=\"Hello\""
   ]
  },
  {
   "cell_type": "markdown",
   "metadata": {},
   "source": [
    "* 关键字参数（Keyword Arguments）\n",
    "\n",
    "在调用函数时，可以显式地通过参数名来传递值，不再依赖定义时的顺序。"
   ]
  },
  {
   "cell_type": "code",
   "execution_count": 44,
   "metadata": {},
   "outputs": [
    {
     "name": "stdout",
     "output_type": "stream",
     "text": [
      "Hi, Python!\n"
     ]
    }
   ],
   "source": [
    "def greet(name, message):\n",
    "    print(f\"{message}, {name}!\")\n",
    "\n",
    "# 使用关键字参数，顺序随意\n",
    "greet(message=\"Hi\", name=\"Python\")"
   ]
  },
  {
   "cell_type": "markdown",
   "metadata": {},
   "source": [
    "* 默认参数（Default Arguments）\n",
    "\n",
    "当函数某些参数有默认值时，调用者可选择是否给该参数传值。如果不传，则使用默认值。"
   ]
  },
  {
   "cell_type": "code",
   "execution_count": 45,
   "metadata": {},
   "outputs": [
    {
     "name": "stdout",
     "output_type": "stream",
     "text": [
      "Hello, Charlo!\n",
      "Hi, Daissy!\n"
     ]
    }
   ],
   "source": [
    "def greet(name, message=\"Hello\"):\n",
    "    print(f\"{message}, {name}!\")\n",
    "\n",
    "# 只传name，message使用默认值\"Hello\"\n",
    "greet(\"Charlo\")  # HHello, Charlo!\n",
    "# 同时传递两个参数\n",
    "greet(\"Daissy\", \"Hi\")  # Hi, Daissy!\n"
   ]
  },
  {
   "cell_type": "markdown",
   "metadata": {},
   "source": [
    "在 Python 中，函数在定义和调用时有多种方式来传递参数，特别是遇到可变数量的参数或需要灵活地通过参数名传递值时，就会用到 `*args` 和 `**kwargs`\n"
   ]
  },
  {
   "cell_type": "markdown",
   "metadata": {},
   "source": [
    "* *args：可变长度的位置参数\n",
    "\n",
    "    *args（名字随意，但约定俗成常用 args）表示可接受任意数量的位置参数，并在函数内部将它们打包成一个元组。<br>\n",
    "    当函数需要处理未知数量的位置参数时，可使用此机制。"
   ]
  },
  {
   "cell_type": "code",
   "execution_count": 47,
   "metadata": {},
   "outputs": [
    {
     "name": "stdout",
     "output_type": "stream",
     "text": [
      "6\n",
      "65\n"
     ]
    }
   ],
   "source": [
    "def add_numbers(*args):\n",
    "    total = 0\n",
    "    for num in args:\n",
    "        total += num\n",
    "    return total\n",
    "\n",
    "print(add_numbers(1, 2, 3))       # 6\n",
    "print(add_numbers(10, 20, 30, 5)) # 65\n"
   ]
  },
  {
   "cell_type": "markdown",
   "metadata": {},
   "source": [
    "在函数调用时，传递的额外位置参数会被收集到 args 这个元组里，函数内部可以用迭代的方式进行处理。"
   ]
  },
  {
   "cell_type": "markdown",
   "metadata": {},
   "source": [
    "*args 与其他参数的顺序\n",
    "\n",
    "如果函数的定义中还包含其他普通参数或关键字参数，*args 一般放在普通参数之后、**kwargs 之前。函数的参数顺序通常是：\n",
    "```\n",
    "def func(positional_args, default_args=..., *args, keyword_only_args=..., **kwargs):\n",
    "    ...\n"
   ]
  },
  {
   "cell_type": "markdown",
   "metadata": {},
   "source": [
    "* **kwargs：可变长度的关键字参数\n",
    "\n",
    "    **kwargs（常用此名称）表示可接受任意数量的关键字参数，并在函数内部将它们打包成一个字典（dict）。<br>\n",
    "    当函数需要处理未知数量的关键字参数时，可使用此机制。"
   ]
  },
  {
   "cell_type": "code",
   "execution_count": 49,
   "metadata": {},
   "outputs": [
    {
     "name": "stdout",
     "output_type": "stream",
     "text": [
      "{'first_name': 'Alili', 'last_name': 'Smith', 'location': 'New York', 'age': 30, 'hobby': 'Reading'}\n"
     ]
    }
   ],
   "source": [
    "def build_profile(first_name, last_name, **kwargs):\n",
    "    profile = {\"first_name\": first_name, \"last_name\": last_name}\n",
    "    # 将额外的关键字参数更新到profile字典中\n",
    "    for key, value in kwargs.items():\n",
    "        profile[key] = value\n",
    "    return profile\n",
    "\n",
    "user_profile = build_profile(\"Alili\", \"Smith\", location=\"New York\", age=30, hobby=\"Reading\")\n",
    "print(user_profile)\n",
    "# {'first_name': 'Alili', 'last_name': 'Smith', 'location': 'New York', 'age': 30, 'hobby': 'Reading'}\n",
    "\n",
    "\n",
    "# 在这个示例中，除了 first_name 和 last_name 外，\n",
    "# 任何其他的关键字参数（location=\"New York\", age=30, hobby=\"Reading\"）都会被聚合到 kwargs 这个字典里。"
   ]
  },
  {
   "cell_type": "markdown",
   "metadata": {},
   "source": [
    "使用 ** 解包字典\n",
    "\n",
    "\n",
    "在函数调用时，如果有一个字典，可以使用 ** 将其解包成多个关键字参数传入函数。"
   ]
  },
  {
   "cell_type": "code",
   "execution_count": 50,
   "metadata": {},
   "outputs": [
    {
     "name": "stdout",
     "output_type": "stream",
     "text": [
      "1 2 3\n"
     ]
    }
   ],
   "source": [
    "def show_info(a, b, c):\n",
    "    print(a, b, c)\n",
    "\n",
    "data = {\"a\": 1, \"b\": 2, \"c\": 3}\n",
    "show_info(**data)  # 等价于 show_info(a=1, b=2, c=3)"
   ]
  },
  {
   "cell_type": "markdown",
   "metadata": {},
   "source": [
    "* **匿名函数**\n",
    "\n",
    "Python 提供了 匿名函数（lambda），用来定义简单的内联函数。其语法是：\n",
    "```\n",
    "lambda 参数列表: 表达式\n"
   ]
  },
  {
   "cell_type": "code",
   "execution_count": 42,
   "metadata": {},
   "outputs": [
    {
     "name": "stdout",
     "output_type": "stream",
     "text": [
      "[1, 4, 9, 16]\n",
      "[1, 4, 9, 16]\n"
     ]
    }
   ],
   "source": [
    "# 将列表中每个数值平方\n",
    "numbers = [1, 2, 3, 4]\n",
    "squared = list(map(lambda x: x**2, numbers))\n",
    "print(squared)  # 输出: [1, 4, 9, 16]\n",
    "\n",
    "\n",
    "# lambda 语句 等价于  fun_square\n",
    "def fun_square(x):\n",
    "    return x ** 2\n",
    "squared_b = list(map(fun_square, numbers))\n",
    "print(squared_b)  # 输出: [1, 4, 9, 16]\n",
    "    \n",
    "# squared_c = [x ** 2 for x in numbers]"
   ]
  },
  {
   "cell_type": "markdown",
   "metadata": {},
   "source": [
    "* **内置函数**"
   ]
  },
  {
   "cell_type": "markdown",
   "metadata": {},
   "source": []
  },
  {
   "cell_type": "markdown",
   "metadata": {},
   "source": [
    "python内置函数 map()  zip() , Magic Method、  open文件读写"
   ]
  },
  {
   "cell_type": "markdown",
   "metadata": {},
   "source": []
  },
  {
   "cell_type": "markdown",
   "metadata": {},
   "source": []
  },
  {
   "cell_type": "markdown",
   "metadata": {},
   "source": [
    "### **2. 类**"
   ]
  },
  {
   "cell_type": "markdown",
   "metadata": {},
   "source": [
    "**迭代器(Iterator)**与**生成器(generator)**\n",
    "1. **迭代器(Iterator)**<br>\n",
    "**迭代器**是一种对象，用于逐一访问集合（如列表、元组、字典等）中的元素，而无需一次性将所有元素加载到内存中。迭代器提供了一种高效且灵活的方式来遍历数据结构。<br>\n",
    "\n",
    "**迭代器及基本概念**\n",
    "* **可迭代对象(Iterable)**: 任何可以返回一个迭代器的对象。常见的可迭代对象包括列表、元组、字符串、字典和集合。\n",
    "* **迭代器(Iterator)**: 实现了 `__iter__()` 和 `__next__()` 方法的对象。`__iter__()` 返回迭代器对象本身，`__next__()` 返回下一个元素，当没有元素时引发 `StopIteration` 异常。"
   ]
  },
  {
   "cell_type": "markdown",
   "metadata": {},
   "source": [
    "**使用迭代器**"
   ]
  },
  {
   "cell_type": "code",
   "execution_count": 13,
   "metadata": {},
   "outputs": [
    {
     "name": "stdout",
     "output_type": "stream",
     "text": [
      "apple\n",
      "banana\n",
      "cherry\n"
     ]
    }
   ],
   "source": [
    "# 获取迭代器\n",
    "\n",
    "# 可以使用内置函数 iter() 将可迭代对象转换为迭代器。\n",
    "# 创建一个列表\n",
    "fruits = ['apple', 'banana', 'cherry']\n",
    "\n",
    "# 获取列表的迭代器\n",
    "fruits_iterator = iter(fruits)\n",
    "\n",
    "# 使用 next() 获取元素\n",
    "print(next(fruits_iterator))  # apple\n",
    "print(next(fruits_iterator))  # banana\n",
    "print(next(fruits_iterator))  # cherry\n",
    "\n",
    "# 再调用 next() 会引发 StopIteration 异常\n",
    "# print(next(fruits_iterator))  # 会引发 StopIteration\n"
   ]
  },
  {
   "cell_type": "markdown",
   "metadata": {},
   "source": [
    "**使用`for`循环遍历迭代器**"
   ]
  },
  {
   "cell_type": "code",
   "execution_count": 14,
   "metadata": {},
   "outputs": [
    {
     "name": "stdout",
     "output_type": "stream",
     "text": [
      "apple\n",
      "banana\n",
      "cherry\n"
     ]
    }
   ],
   "source": [
    "# for 循环内部使用迭代器机制，自动处理 StopIteration 异常。\n",
    "\n",
    "fruits = ['apple', 'banana', 'cherry']\n",
    "\n",
    "for fruit in fruits:\n",
    "    print(fruit)\n",
    "\n",
    "# apple\n",
    "# banana\n",
    "# cherry\n"
   ]
  },
  {
   "cell_type": "markdown",
   "metadata": {},
   "source": [
    "**创建自定义迭代器** <br>\n",
    "\n",
    "通过实现 `__iter__()` 和 `__next__()` 方法，可以创建自定义的迭代器。"
   ]
  },
  {
   "cell_type": "code",
   "execution_count": 15,
   "metadata": {},
   "outputs": [
    {
     "name": "stdout",
     "output_type": "stream",
     "text": [
      "1\n",
      "2\n",
      "3\n"
     ]
    }
   ],
   "source": [
    "class MyIterator:\n",
    "    def __init__(self, start, end):\n",
    "        self.current = start\n",
    "        self.end = end\n",
    "\n",
    "    def __iter__(self):\n",
    "        return self  # 迭代器返回自身\n",
    "\n",
    "    def __next__(self):\n",
    "        if self.current >= self.end:\n",
    "            raise StopIteration  # 没有更多元素时引发异常\n",
    "        self.current += 1\n",
    "        return self.current - 1\n",
    "\n",
    "# 使用自定义迭代器\n",
    "my_iter = MyIterator(1, 4)\n",
    "\n",
    "for num in my_iter:\n",
    "    print(num)\n",
    "\n",
    "# 1\n",
    "# 2\n",
    "# 3"
   ]
  },
  {
   "cell_type": "markdown",
   "metadata": {},
   "source": [
    "2. **生成器(generator)** <br>\n",
    "\n",
    "什么是生成器？<br>\n",
    "生成器是一种特殊类型的迭代器，使用简单的语法创建，能够在需要时生成（yield）值，而不是一次性生成所有值。生成器通过 懒惰求值（Lazy Evaluation） 实现内存效率高的迭代。"
   ]
  },
  {
   "cell_type": "markdown",
   "metadata": {},
   "source": [
    "**生成器的创建方式**\n",
    "\n",
    "使用生成器函数<br>\n",
    "    生成器函数类似于普通函数，但使用 yield 关键字返回值。"
   ]
  },
  {
   "cell_type": "code",
   "execution_count": 16,
   "metadata": {},
   "outputs": [
    {
     "name": "stdout",
     "output_type": "stream",
     "text": [
      "1\n",
      "2\n",
      "3\n"
     ]
    }
   ],
   "source": [
    "def count_up_to(max):\n",
    "    count = 1\n",
    "    while count <= max:\n",
    "        yield count  # 返回当前计数，并暂停函数状态\n",
    "        count += 1\n",
    "\n",
    "# 使用生成器函数\n",
    "counter = count_up_to(3)\n",
    "\n",
    "print(next(counter))  # 1\n",
    "print(next(counter))  # 2\n",
    "print(next(counter))  # 3\n",
    "# print(next(counter))  # 会引发 StopIteration"
   ]
  },
  {
   "cell_type": "markdown",
   "metadata": {},
   "source": [
    "使用生成器表达式<br>\n",
    "类似于列表推导式，但使用圆括号`()`，返回生成器对象"
   ]
  },
  {
   "cell_type": "code",
   "execution_count": 17,
   "metadata": {},
   "outputs": [
    {
     "name": "stdout",
     "output_type": "stream",
     "text": [
      "1\n",
      "4\n",
      "9\n"
     ]
    }
   ],
   "source": [
    "# 创建一个生成器表达式\n",
    "squares_gen = (x**2 for x in range(1, 4))\n",
    "\n",
    "print(next(squares_gen))  # 1\n",
    "print(next(squares_gen))  # 4\n",
    "print(next(squares_gen))  # 9\n",
    "# print(next(squares_gen))  # 会引发 StopIteration\n"
   ]
  },
  {
   "cell_type": "markdown",
   "metadata": {},
   "source": [
    "**生成器的优势**：\n",
    "* 节省内存：生成器一次生成一个值，而不是将所有值存储在内存中，适用于处理大数据集。\n",
    "* 惰性求值：生成器只有在需要时才生成下一个值，提升效率\n",
    "* 简洁的语法：相比于自定义迭代器，生成器函数和表达式语法更简洁。"
   ]
  },
  {
   "cell_type": "markdown",
   "metadata": {},
   "source": [
    "**生成器的使用示例**\n",
    "\n",
    "使用生成器函数遍历"
   ]
  },
  {
   "cell_type": "code",
   "execution_count": 18,
   "metadata": {},
   "outputs": [
    {
     "name": "stdout",
     "output_type": "stream",
     "text": [
      "0\n",
      "1\n",
      "1\n",
      "2\n",
      "3\n"
     ]
    }
   ],
   "source": [
    "def fibonacci(n):\n",
    "    a, b = 0, 1\n",
    "    for _ in range(n):\n",
    "        yield a\n",
    "        a, b = b, a + b\n",
    "\n",
    "# 创建一个Fibonacci生成器\n",
    "fib_gen = fibonacci(5)\n",
    "\n",
    "for num in fib_gen:\n",
    "    print(num)\n",
    "\n",
    "# 0\n",
    "# 1\n",
    "# 1\n",
    "# 2\n",
    "# 3"
   ]
  },
  {
   "cell_type": "markdown",
   "metadata": {},
   "source": [
    "使用生成器表达式"
   ]
  },
  {
   "cell_type": "code",
   "execution_count": 19,
   "metadata": {},
   "outputs": [
    {
     "name": "stdout",
     "output_type": "stream",
     "text": [
      "1\n",
      "8\n",
      "27\n",
      "64\n",
      "125\n"
     ]
    }
   ],
   "source": [
    "# 创建一个生成器表达式，生成1到5的立方\n",
    "cubes_gen = (x**3 for x in range(1, 6))\n",
    "\n",
    "for cube in cubes_gen:\n",
    "    print(cube)\n",
    "\n",
    "# 1\n",
    "# 8\n",
    "# 27\n",
    "# 64\n",
    "# 125"
   ]
  },
  {
   "cell_type": "markdown",
   "metadata": {},
   "source": [
    "**生成器的生命周期**\n",
    "\n",
    "* 创建：定义生成器函数或表达式，创建生成器对象。\n",
    "* 迭代：使用 next() 函数或 for 循环逐步获取生成器中的值。\n",
    "* 终止：当生成器耗尽所有值时，引发 StopIteration 异常，迭代结束。"
   ]
  },
  {
   "cell_type": "markdown",
   "metadata": {},
   "source": [
    "**生成器的高级用法**"
   ]
  },
  {
   "cell_type": "markdown",
   "metadata": {},
   "source": [
    "生成器的send()方法<br>\n",
    "除了next()方法，生成器还可以接收外部发送的数据。"
   ]
  },
  {
   "cell_type": "code",
   "execution_count": 20,
   "metadata": {},
   "outputs": [
    {
     "name": "stdout",
     "output_type": "stream",
     "text": [
      "Echo: Hello\n",
      "Echo: World\n"
     ]
    }
   ],
   "source": [
    "def echo():\n",
    "    while True:\n",
    "        value = yield\n",
    "        print(f\"Echo: {value}\")\n",
    "\n",
    "# 创建生成器\n",
    "e = echo()\n",
    "next(e)  # 启动生成器\n",
    "\n",
    "# 发送数据\n",
    "e.send(\"Hello\")  # Echo: Hello\n",
    "e.send(\"World\")  # Echo: World\n"
   ]
  },
  {
   "cell_type": "markdown",
   "metadata": {},
   "source": [
    "生成器的close()方法<br>\n",
    "可以使用`close()`方法提前终止生成器。"
   ]
  },
  {
   "cell_type": "code",
   "execution_count": 21,
   "metadata": {},
   "outputs": [
    {
     "name": "stdout",
     "output_type": "stream",
     "text": [
      "1\n",
      "Generator closed.\n"
     ]
    }
   ],
   "source": [
    "def generator():\n",
    "    try:\n",
    "        yield 1\n",
    "        yield 2\n",
    "        yield 3\n",
    "    except GeneratorExit:\n",
    "        print(\"Generator closed.\")\n",
    "\n",
    "gen = generator()\n",
    "print(next(gen))  # 1\n",
    "gen.close()      # Generator closed.\n"
   ]
  },
  {
   "cell_type": "markdown",
   "metadata": {},
   "source": [
    "**迭代器与生成器对比**\n",
    "\n",
    "|特性|迭代器(Iterator)|生成器(Generator)|\n",
    "|---|---|---|\n",
    "|创建方式|通过实现`__iter__()`和`__next__()`方法|通过生成器函数(使用`yield`)或生成器表达式|\n",
    "|内存效率|根据实现，可能需要更多内存|高效，按需生成值|\n",
    "|简洁性|需要定义类和方法|语法更简洁，易于编写|\n",
    "|状态管理|手动管理状态|自动管理状态|"
   ]
  },
  {
   "cell_type": "code",
   "execution_count": 22,
   "metadata": {},
   "outputs": [
    {
     "name": "stdout",
     "output_type": "stream",
     "text": [
      "2\n",
      "1\n",
      "0\n"
     ]
    }
   ],
   "source": [
    "# 创建一个简单的迭代器\n",
    "\n",
    "class Countdown:\n",
    "    def __init__(self, start):\n",
    "        self.current = start\n",
    "\n",
    "    def __iter__(self):\n",
    "        return self\n",
    "\n",
    "    def __next__(self):\n",
    "        if self.current <= 0:\n",
    "            raise StopIteration\n",
    "        self.current -= 1\n",
    "        return self.current\n",
    "\n",
    "# 使用迭代器\n",
    "for number in Countdown(3):\n",
    "    print(number)\n",
    "\n",
    "# 2\n",
    "# 1\n",
    "# 0\n"
   ]
  },
  {
   "cell_type": "code",
   "execution_count": 23,
   "metadata": {},
   "outputs": [
    {
     "name": "stdout",
     "output_type": "stream",
     "text": [
      "1\n",
      "4\n",
      "9\n",
      "16\n",
      "25\n"
     ]
    }
   ],
   "source": [
    "# 使用生成器函数生成平方数\n",
    "\n",
    "def generate_squares(n):\n",
    "    for x in range(1, n + 1):\n",
    "        yield x**2\n",
    "\n",
    "squares = generate_squares(5)\n",
    "\n",
    "for square in squares:\n",
    "    print(square)\n",
    "\n",
    "# 1\n",
    "# 4\n",
    "# 9\n",
    "# 16\n",
    "# 25\n"
   ]
  },
  {
   "cell_type": "code",
   "execution_count": 24,
   "metadata": {},
   "outputs": [
    {
     "name": "stdout",
     "output_type": "stream",
     "text": [
      "2\n",
      "4\n",
      "6\n",
      "8\n",
      "10\n"
     ]
    }
   ],
   "source": [
    "# 使用生成器表达式筛选偶数\n",
    "\n",
    "numbers = range(1, 11)\n",
    "evens_gen = (x for x in numbers if x % 2 == 0)\n",
    "\n",
    "for even in evens_gen:\n",
    "    print(even)\n",
    "\n",
    "# 2\n",
    "# 4\n",
    "# 6\n",
    "# 8\n",
    "# 10"
   ]
  },
  {
   "cell_type": "markdown",
   "metadata": {},
   "source": [
    "装饰器"
   ]
  },
  {
   "cell_type": "markdown",
   "metadata": {},
   "source": []
  },
  {
   "cell_type": "markdown",
   "metadata": {},
   "source": []
  },
  {
   "cell_type": "markdown",
   "metadata": {},
   "source": []
  },
  {
   "cell_type": "markdown",
   "metadata": {},
   "source": []
  },
  {
   "cell_type": "markdown",
   "metadata": {},
   "source": [
    "### python的函数和类小结\n",
    "1. Python的函数\n",
    "* *args：接收任意数量的“位置参数”，在函数内部表现为元组；\n",
    "* **kwargs：接收任意数量的“关键字参数”，在函数内部表现为字典。\n",
    "2. Python的类"
   ]
  },
  {
   "cell_type": "markdown",
   "metadata": {},
   "source": [
    "## 四、Python的模块和包\n",
    "\n",
    "Python内置属性"
   ]
  },
  {
   "cell_type": "markdown",
   "metadata": {},
   "source": []
  },
  {
   "cell_type": "markdown",
   "metadata": {},
   "source": []
  },
  {
   "cell_type": "markdown",
   "metadata": {},
   "source": []
  },
  {
   "cell_type": "markdown",
   "metadata": {},
   "source": []
  },
  {
   "cell_type": "markdown",
   "metadata": {},
   "source": []
  },
  {
   "cell_type": "markdown",
   "metadata": {},
   "source": []
  },
  {
   "cell_type": "markdown",
   "metadata": {},
   "source": [
    "## 五、Python技巧（进阶）\n",
    "\n",
    "匿名函数\n",
    "装饰器"
   ]
  },
  {
   "cell_type": "markdown",
   "metadata": {},
   "source": []
  },
  {
   "cell_type": "markdown",
   "metadata": {},
   "source": []
  },
  {
   "cell_type": "markdown",
   "metadata": {},
   "source": []
  },
  {
   "cell_type": "markdown",
   "metadata": {},
   "source": []
  },
  {
   "cell_type": "markdown",
   "metadata": {},
   "source": []
  },
  {
   "cell_type": "markdown",
   "metadata": {},
   "source": []
  },
  {
   "cell_type": "markdown",
   "metadata": {},
   "source": []
  },
  {
   "cell_type": "markdown",
   "metadata": {},
   "source": []
  }
 ],
 "metadata": {
  "kernelspec": {
   "display_name": "kiana",
   "language": "python",
   "name": "python3"
  },
  "language_info": {
   "codemirror_mode": {
    "name": "ipython",
    "version": 3
   },
   "file_extension": ".py",
   "mimetype": "text/x-python",
   "name": "python",
   "nbconvert_exporter": "python",
   "pygments_lexer": "ipython3",
   "version": "3.10.13"
  }
 },
 "nbformat": 4,
 "nbformat_minor": 2
}
