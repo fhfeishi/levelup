{
 "cells": [
  {
   "cell_type": "markdown",
   "metadata": {},
   "source": [
    "# Python 内置属性\n",
    "\t* Python提供了丰富的内置属性，这些属性分布在不同的对象类型上，如模块、函数、类、实例等。\n",
    "\n",
    "## 模块Module内置属性\n",
    "* `__name__`: 模块的名称。当模块被直接运行时，__name__的值是\"__main__\"。当模块被导入时，__name__的值是模块的实际名称。\n",
    "* `__file__`: 模块的文件路径。内置模块如sys，`__file__`可能不存在或为`None`\n",
    "* `__doc__`:模块的文档字符串。 或者使用help(example_module)\n",
    "* `__package__`:模块所属的包的名称。提示模块在包中的层级结构，用于相对导入。顶级模块的话`__package__`与`__name__`相同\n",
    "* `__loader__`:模块的加载器对象，负责从源代码加载模块。是`importlib`的一部分，遵循PEP 302加载器协议。\n",
    "* `__spec__`: 模块规范（Module Specification），一个`ModuleSpec`对象，包含了模块的加载相关信息，它是PEP 451的一部分，用于替代旧的加载机制。\n",
    "* `__dict__`:是一个字典，包含了模块命名空间中所有名称和对象的映射关系。\n",
    "* `__cached__`:执行模块的字节码缓存文件，如vscode中的`__pycache__`文件夹下的`.pyc`文件。\n",
    "* `__builtins__`:\n",
    "* `__annotations__`:是一个字典，包含了模块中所有带有类型注解的变量、函数参数和返回值的类型信息。\n",
    "* `__all__`:是一个列表，定义了使用from module import *时，哪些名称会被导入到当前的命名空间中。如果模块没有定义`__all__`，from module import *会导入所有不以下划线开头的名称。\n",
    "* `__path__`:是一个列表，制定了包的搜索路径，仅存在于包模块中，用于支持包的子模块和子包的查找。\n",
    "* `__version__`:指定模块的版本信息。\n",
    "\n",
    "\n",
    "## 函数Function内置属性\n",
    "\n",
    "* `__doc__`: 函数的文档字符串\n",
    "* `__annotations__`: 存储函数参数和返回值的类型注释\n",
    "* `__defaults__`: 函数参数的默认值\n",
    "* `__kwdefaults__`: 关键字参数的默认值\n",
    "* `__code__`: 函数的代码对象，包含编译后的字节码等信息\n",
    "* `__globals__`: 函数的全局命名空间，返回一个字典\n",
    "* `__closure__`: 闭包函数引用的外部变量\n",
    "\n",
    "\n",
    "## 类Class内置属性\n",
    "\n",
    "* `__name__`: 类的名称\n",
    "* `__doc__`: 类的文档字符串\n",
    "* `__module__`: 定义类的模块名称\n",
    "* `__dict__`: 类的命名空间字典，包含类属性和方法\n",
    "* `__bases__`: 类的基类（父类）元组\n",
    "* `__subclasses__()`: 返回当前类的所有子类列表\n",
    "* `__annotations__`:存储类属性和方法的类型注解\n",
    "* `__slots__`: 限制类实例的属性，节省内存\n",
    "\n",
    "\n",
    "## 实例Instance内置属性\n",
    "\n",
    "* `__dict__`: 实例的属性字典，包含实例的所有可写属性\n",
    "* `__class__`: 只想实例所属的类\n",
    "* `__slots__`: 限制实例可拥有的属性，节省内存（与类的`__slots__`结合使用）\n",
    "* `__weakref__`: 支持创建对实例的弱引用\n",
    "\n",
    "## 其他内置属性\n",
    "\n",
    "* 特殊方法（Magic Methods）\n",
    "\tPython中以双下划线开头和结尾的方法，如`__init__` `__str__` `__getitem__` `__len__`\n",
    "\n",
    "## 总结\n",
    "\n"
   ]
  },
  {
   "cell_type": "markdown",
   "metadata": {},
   "source": []
  }
 ],
 "metadata": {
  "language_info": {
   "name": "python"
  },
  "orig_nbformat": 4
 },
 "nbformat": 4,
 "nbformat_minor": 2
}
