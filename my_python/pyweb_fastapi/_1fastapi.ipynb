{
 "cells": [
  {
   "cell_type": "raw",
   "metadata": {
    "vscode": {
     "languageId": "raw"
    }
   },
   "source": [
    "# FASTAPI\n",
    "\n",
    "  FastAPI是一个可快速构建API服务的web框架，它要求python版本是3.6+， 同时基于python的类型提示，这将有助于代码的维护和阅读，官方对它关键特性介绍如下：\n",
    "\n",
    "* 快速：可与 NodeJS 和 Go 比肩的极高性能（归功于 Starlette 和 Pydantic）。最快的 Python web 框架之一。\n",
    "\n",
    "* 高效编码：提高功能开发速度约 200％ 至 300％。*\n",
    "\n",
    "* 更少 bug：减少约 40％ 的人为（开发者）导致错误。*\n",
    "\n",
    "* 智能：极佳的编辑器支持。处处皆可自动补全，减少调试时间。\n",
    "\n",
    "* 简单：设计的易于使用和学习，阅读文档的时间更短。\n",
    "\n",
    "* 简短：使代码重复最小化。通过不同的参数声明实现丰富功能。bug 更少。\n",
    "\n",
    "* 健壮：生产可用级别的代码。还有自动生成的交互式文档。\n",
    "\n",
    "* 标准化：基于（并完全兼容）API 的相关开放标准：OpenAPI (以前被称为 Swagger) 和 JSON Schema。\n"
   ]
  },
  {
   "cell_type": "raw",
   "metadata": {
    "vscode": {
     "languageId": "raw"
    }
   },
   "source": [
    "# uvicorn\n",
    "\n",
    "FastAPI 在生产环境部署时需要使用uvicorn， uvicorn是基于 uvloop 和 httptools 构建的非常快速的 ASGI 服务器。\n",
    "\n",
    "uvloop 用于替换标准库 asyncio 中的事件循环，使用 Cython 实现，它非常快，可以使 asyncio 的速度提高 2-4 倍，httptools 是 nodejs HTTP 解析器的 Python 实现。\n",
    "\n",
    "Flask，django 在部署时可以使用gunicorn 或者uwsgi ，这两个都是wsgi服务器，而uvicorn 是ASGI服务器，提供异步网关协议接口， 一个介于网络协议服务和 Python 应用之间的标准接口，能够处理多种通用的协议类型，包括 HTTP，HTTP2 和 WebSocket。\n",
    "\n",
    "uvicorn 目前支持 HTTP1.1 和 WebSocket，计划支持 HTTP2。\n"
   ]
  }
 ],
 "metadata": {
  "kernelspec": {
   "display_name": "kiana",
   "language": "python",
   "name": "python3"
  },
  "language_info": {
   "codemirror_mode": {
    "name": "ipython",
    "version": 3
   },
   "file_extension": ".py",
   "mimetype": "text/x-python",
   "name": "python",
   "nbconvert_exporter": "python",
   "pygments_lexer": "ipython3",
   "version": "3.10.13"
  }
 },
 "nbformat": 4,
 "nbformat_minor": 2
}
