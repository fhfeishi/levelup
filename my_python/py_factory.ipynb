{
 "cells": [
  {
   "cell_type": "markdown",
   "metadata": {},
   "source": [
    "# python 的多种对象工厂模式\n",
    "\n",
    "python中的对象工厂模式是一种设计模式，用于创建对象，而不是在代码中直接通过调用构造函数来创建对象。这种模式在需要根据不同情况创建不同对象时非常有用。"
   ]
  },
  {
   "cell_type": "markdown",
   "metadata": {},
   "source": [
    "### 简单工厂模式\n",
    "\n",
    "这是一种创建对象的方法，不直接暴露创建逻辑给客户端，而是通过使用一个共同的接口来指向新创建的对象。简单工厂模式实际上不是一种设计模式，更多是一种编程习惯。"
   ]
  },
  {
   "cell_type": "code",
   "execution_count": 1,
   "metadata": {},
   "outputs": [],
   "source": [
    "class Dog:\n",
    "    def speak(self):\n",
    "        return \"Woof\"\n",
    "\n",
    "class Cat:\n",
    "    def speak(self):\n",
    "        return \"Meow\"\n",
    "\n",
    "class AnimalFactory:\n",
    "    def get_animal(self, animal_type):\n",
    "        if animal_type == \"dog\":\n",
    "            return Dog()\n",
    "        elif animal_type == \"cat\":\n",
    "            return Cat()\n",
    "        else:\n",
    "            return None"
   ]
  },
  {
   "cell_type": "markdown",
   "metadata": {},
   "source": [
    "### 工厂方法模式\n",
    "* 工厂方法模式基于继承，使用抽象类定义创建对象的接口，由其子类决定实际创建的对象\n",
    "* 它提供了一种创建对象的方式，但在父类中不指定具体的类，而是将创建对象的任务交给子类去实现。这样的话，创建逻辑被封装在子类中，扩展性较好。"
   ]
  },
  {
   "cell_type": "code",
   "execution_count": 2,
   "metadata": {},
   "outputs": [],
   "source": [
    "class Animal:\n",
    "    def speak(self):\n",
    "        pass\n",
    "\n",
    "class Dog(Animal):\n",
    "    def speak(self):\n",
    "        return \"Woof\"\n",
    "\n",
    "class Cat(Animal):\n",
    "    def speak(self):\n",
    "        return \"Meow\"\n",
    "\n",
    "class AnimalFactory:\n",
    "    def create_animal(self):\n",
    "        return Animal()\n",
    "\n",
    "class DogFactory(AnimalFactory):\n",
    "    def create_animal(self):\n",
    "        return Dog()\n",
    "\n",
    "class CatFactory(AnimalFactory):\n",
    "    def create_animal(self):\n",
    "        return Cat()"
   ]
  },
  {
   "cell_type": "markdown",
   "metadata": {},
   "source": [
    "### 抽象工厂模式\n",
    "\n",
    "提供一个创建一系列相关或相互依赖对象的接口，而无需指定它们具体的类。抽象工厂允许客户端使用抽象的接口来创建一组相关的产品，而不需要知道（或关心）实际生产的具体产品是什么。"
   ]
  },
  {
   "cell_type": "code",
   "execution_count": 3,
   "metadata": {},
   "outputs": [],
   "source": [
    "class Dog:\n",
    "    def speak(self):\n",
    "        return \"Woof\"\n",
    "\n",
    "class Cat:\n",
    "    def speak(self):\n",
    "        return \"Meow\"\n",
    "\n",
    "class DogFactory:\n",
    "    def get_pet(self):\n",
    "        return Dog()\n",
    "\n",
    "class CatFactory:\n",
    "    def get_pet(self):\n",
    "        return Cat()\n",
    "\n",
    "class PetStore:\n",
    "    def __init__(self, pet_factory=None):\n",
    "        self._pet_factory = pet_factory\n",
    "\n",
    "    def show_pet(self):\n",
    "        pet = self._pet_factory.get_pet()\n",
    "        print(f\"Our pet says: {pet.speak()}\")"
   ]
  },
  {
   "cell_type": "code",
   "execution_count": null,
   "metadata": {},
   "outputs": [],
   "source": []
  }
 ],
 "metadata": {
  "kernelspec": {
   "display_name": "mmdata",
   "language": "python",
   "name": "python3"
  },
  "language_info": {
   "codemirror_mode": {
    "name": "ipython",
    "version": 3
   },
   "file_extension": ".py",
   "mimetype": "text/x-python",
   "name": "python",
   "nbconvert_exporter": "python",
   "pygments_lexer": "ipython3",
   "version": "3.10.13"
  },
  "orig_nbformat": 4
 },
 "nbformat": 4,
 "nbformat_minor": 2
}
