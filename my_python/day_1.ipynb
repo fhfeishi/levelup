{
 "cells": [
  {
   "cell_type": "markdown",
   "metadata": {},
   "source": [
    "### day one "
   ]
  },
  {
   "cell_type": "markdown",
   "metadata": {},
   "source": [
    "#### + - * / ** % //   加减乘除 乘方  取余 取商"
   ]
  },
  {
   "cell_type": "code",
   "execution_count": 3,
   "metadata": {},
   "outputs": [
    {
     "name": "stdout",
     "output_type": "stream",
     "text": [
      "2\n"
     ]
    }
   ],
   "source": [
    "print(5 // 2)"
   ]
  },
  {
   "cell_type": "code",
   "execution_count": 1,
   "outputs": [
    {
     "name": "stdout",
     "output_type": "stream",
     "text": [
      "1\n"
     ]
    }
   ],
   "source": [
    "print(5 % 2)"
   ],
   "metadata": {
    "collapsed": false,
    "ExecuteTime": {
     "end_time": "2024-04-01T16:23:51.367701100Z",
     "start_time": "2024-04-01T16:23:51.349693900Z"
    }
   }
  },
  {
   "cell_type": "markdown",
   "source": [
    "##### print(type())  打印变量的类型  int  dict str float"
   ],
   "metadata": {
    "collapsed": false
   }
  },
  {
   "cell_type": "markdown",
   "source": [
    "### python 内置函数"
   ],
   "metadata": {
    "collapsed": false
   }
  },
  {
   "cell_type": "markdown",
   "metadata": {},
   "source": [
    "\n",
    "##### iterable\n",
    "\n",
    "在Python中, iterable 是指任何可以被迭代的对象，即可以一个接一个地返回其成员项的对象。更具体地说，如果一个对象定义了能返回迭代器的 __iter__() 方法，或者定义了可以支持下标索引的 __getitem__() 方法，那么它就是一个可迭代对象。常见的可迭代对象包括所有的序列类型（如list、str、tuple）和非序列类型（如dict、file等）。\n",
    "\n",
    "当你使用循环（如for循环）来遍历这些对象时，Python内部会自动使用这些方法来获取元素。\n",
    "\n",
    "举个例子，当你对一个列表使用for循环时，Python会调用列表的__iter__()方法，获取一个迭代器，然后通过这个迭代器依次获取列表中的每个元素。\n",
    "\n",
    "这是Python中非常核心的概念之一，因为它允许在不知道对象大小或如何表示对象的内部结构的情况下，对对象进行迭代操作。\n",
    "\n"
   ]
  },
  {
   "cell_type": "code",
   "execution_count": 1,
   "metadata": {},
   "outputs": [
    {
     "name": "stdout",
     "output_type": "stream",
     "text": [
      "abs(-2) 2\n",
      "abs(2) 2\n"
     ]
    }
   ],
   "source": [
    "# abs  # 返回一个数的绝对值\n",
    "print(\"abs(-2):\",abs(-2))\n",
    "print(\"abs(2):\",abs(2))"
   ]
  },
  {
   "cell_type": "code",
   "execution_count": 6,
   "metadata": {},
   "outputs": [],
   "source": [
    "# dict(), int(), str(), float()\n",
    "# max(), min(), sum(), range()\n",
    "# zip(), enumerate()\n",
    "# "
   ]
  },
  {
   "cell_type": "code",
   "execution_count": 9,
   "metadata": {},
   "outputs": [
    {
     "name": "stdout",
     "output_type": "stream",
     "text": [
      "<coroutine object async_example at 0x0000022F5DC37D80>\n"
     ]
    }
   ],
   "source": [
    "# aiter()\n",
    "'''\n",
    "iter() 是 Python 3.10 中引入的，用于获取异步迭代器。\n",
    "你需要在异步上下文中使用它，通常是在协程中。它返回一个异步迭代器对象。\n",
    "'''\n",
    "async def async_example():\n",
    "    async for i in aiter([1, 2, 3]):\n",
    "        print(i)\n",
    "async_example = async_example()\n",
    "print(async_example)"
   ]
  },
  {
   "cell_type": "code",
   "execution_count": 12,
   "metadata": {},
   "outputs": [
    {
     "name": "stdout",
     "output_type": "stream",
     "text": [
      "True\n",
      "False\n",
      "True\n"
     ]
    }
   ],
   "source": [
    "# all\n",
    "''' \n",
    "all(iterable) 函数用于判断给定的可迭代对象 iterable 中的所有元素是否都为 True。\n",
    "如果是，返回 True；否则，返回 False。空的可迭代对象被视为在此上下文中的 True。\n",
    "'''\n",
    "print(all([True, 1, {3}])) # True\n",
    "print(all([True, 0, {3}])) # False\n",
    "print(all([])) # True"
   ]
  },
  {
   "cell_type": "code",
   "execution_count": 13,
   "metadata": {},
   "outputs": [
    {
     "name": "stdout",
     "output_type": "stream",
     "text": [
      "False\n",
      "True\n"
     ]
    }
   ],
   "source": [
    "# any\n",
    "''' \n",
    "any(iterable) 函数用于判断给定的可迭代对象 iterable 中是否至少有一个元素为 True。\n",
    "如果是，返回 True；否则，返回 False。空的可迭代对象被视为在此上下文中的 False。\n",
    "'''\n",
    "print(any([False, 0, {}]))  # 输出: False\n",
    "print(any([False, 1, {}]))  # 输出: True\n"
   ]
  },
  {
   "cell_type": "code",
   "execution_count": 15,
   "metadata": {},
   "outputs": [],
   "source": [
    "# anext()\n",
    "'''  \n",
    "anext() 也是在 Python 3.10 中引入的，用于获取异步迭代器的下一个元素。\n",
    "它返回一个等待迭代器的下一个元素的协程。\n",
    "'''\n",
    "async def anext_example():\n",
    "    aiterator = aiter([1, 2, 3])\n",
    "    first_element = await anext(aiterator)\n",
    "    print(first_element)\n",
    "\n"
   ]
  },
  {
   "cell_type": "code",
   "execution_count": 20,
   "metadata": {},
   "outputs": [
    {
     "name": "stdout",
     "output_type": "stream",
     "text": [
      "'hello world'\n",
      "'\\u3053\\u3093\\u306b\\u3061\\u306f'\n"
     ]
    }
   ],
   "source": [
    "# ascii\n",
    "# \\x \\u \\U 会报错  --这里不会  ---放到大段的注释''' \\x \\u \\U  '''里面就会error，注意一下\n",
    "''' \n",
    "ascii(object) 函数会返回一个对象的可打印表示形式，\n",
    "其中非ASCII字符通过 \\\\x、\\\\u 或 \\\\U 转义。这对于显示对象的可打印表示形式，\n",
    "尤其是包含非ASCII文本的对象，非常有用。\n",
    "\n",
    "在Python字符串中，当你使用 \\\\ 后不跟有效的转义字符时，\n",
    "它会导致 SyntaxError 或 UnicodeError。尽管这部分位于注释内，\n",
    "如果注释中的内容与字符串的转义序列类似，有时也可能会引起混淆或错误。\n",
    "\n",
    "具体来说，注释中的 \\\\x、\\\\u 和 \\\\U 需要特别注意。\n",
    "尽管它们位于注释中，但Python解释器在处理这些注释时可能尝试解析这些序列，\n",
    "从而引发错误。\n",
    "\n",
    "'''\n",
    "print(ascii(\"hello world\"))\n",
    "print(ascii('こんにちは'))"
   ]
  },
  {
   "cell_type": "code",
   "execution_count": 21,
   "metadata": {},
   "outputs": [
    {
     "name": "stdout",
     "output_type": "stream",
     "text": [
      "0 a\n",
      "1 b\n",
      "2 c\n"
     ]
    }
   ],
   "source": [
    "# enumerate\n",
    "# enumerate(iterable, start=0) 函数用于将一个可迭代对象组合为一个索引序列，\n",
    "# 同时列出数据和数据下标。start 参数用于指定索引起始值，默认为0。\n",
    "# 这个函数在循环遍历可迭代对象时特别有用，因为它允许你同时获取每个元素的索引和值。\n",
    "for index, value in enumerate(['a', 'b', 'c']):\n",
    "    print(index, value)\n",
    "# 输出：\n",
    "# 0 a\n",
    "# 1 b\n",
    "# 2 c\n"
   ]
  },
  {
   "cell_type": "code",
   "execution_count": 25,
   "metadata": {},
   "outputs": [
    {
     "name": "stdout",
     "output_type": "stream",
     "text": [
      "2\n"
     ]
    },
    {
     "data": {
      "text/plain": [
       "23"
      ]
     },
     "execution_count": 25,
     "metadata": {},
     "output_type": "execute_result"
    }
   ],
   "source": [
    "# eval()   ---model.eval()  --->  这是深度学习框架干的事情，跟python内置函数没什么关系\n",
    "# eval(expression, globals=None, locals=None) 函数用于执行一个字符串表达式，并返回表达式的值。\n",
    "# 这个函数有潜在的安全风险，因为它可以执行任意代码，因此在使用时需要特别小心。\n",
    "# globals 和 locals 参数用于指定全局和局部命名空间。\n",
    "x = 1\n",
    "print(eval('x + 1'))  # 输出: 2\n",
    "eval('11+12') # 输出： 23"
   ]
  },
  {
   "cell_type": "code",
   "execution_count": 23,
   "metadata": {},
   "outputs": [
    {
     "name": "stdout",
     "output_type": "stream",
     "text": [
      "0\n",
      "1\n",
      "2\n"
     ]
    }
   ],
   "source": [
    "# exec()\n",
    "# exec(object[, globals[, locals]]) 函数支持执行动态的Python代码。\n",
    "# 可以是一个字符串或一个代码对象。\n",
    "#  eval 不同，exec 可以执行更复杂的Python代码，不仅限于表达式，\n",
    "# 并且不返回任何值。\n",
    "# globals 和 locals 参数同样用于指定代码执行时的全局和局部命名空间。\n",
    "exec(\"for i in range(3): print(i)\")\n",
    "# 输出：\n",
    "# 0\n",
    "# 1\n",
    "# 2"
   ]
  },
  {
   "cell_type": "code",
   "execution_count": null,
   "metadata": {},
   "outputs": [],
   "source": [
    "# len()\n",
    "# int()\n",
    "# \n",
    "# \n",
    "# "
   ]
  },
  {
   "cell_type": "code",
   "execution_count": 31,
   "metadata": {},
   "outputs": [
    {
     "name": "stdout",
     "output_type": "stream",
     "text": [
      "['H', 'e', 'l', 'l', 'o']\n",
      "[1, 2, 3]\n",
      "['H', 'e', 'l', 'l', 'o']\n"
     ]
    }
   ],
   "source": [
    "# list()\n",
    "# list() 函数用于创建一个列表。 只接受一个参数\n",
    "# 如果没有提供参数，\n",
    "# 它会创建一个空列表。如果提供了一个可迭代对象（如字符串、元组、字典等），\n",
    "# 它会将可迭代对象的元素转换成列表。\n",
    "print(list(\"Hello\"))  # 输出: ['H', 'e', 'l', 'l', 'o']\n",
    "print(list((1, 2, 3)))  # 输出: [1, 2, 3]\n",
    "print(list((\"Hello\")))  # 输出: ['H', 'e', 'l', 'l', 'o']\n",
    "# print(list(1,2,3))  error， 只接收一个参数\n"
   ]
  },
  {
   "cell_type": "code",
   "execution_count": 32,
   "metadata": {},
   "outputs": [
    {
     "name": "stdout",
     "output_type": "stream",
     "text": [
      "{'a': 1, 'b': 2}\n"
     ]
    }
   ],
   "source": [
    "# locals()\n",
    "# locals() 函数返回当前局部符号表的字典。局部符号表包含了当前作用域中的变量和值。这个函数通常用于调试目的，让你可以查看当前作用域中有哪些变量和它们的值。\n",
    "# locals() 在函数内部调用时返回的是函数的局部变量，而在全局作用域中调用时返回的是全局变量。\n",
    "# 注意，不应该修改 locals() 返回的字典内容，因为这样做的效果是未定义的且可能不一致。\n",
    "\n",
    "def test():\n",
    "    a = 1\n",
    "    b = 2\n",
    "    return locals()\n",
    "print(test())\n"
   ]
  },
  {
   "cell_type": "code",
   "execution_count": 33,
   "metadata": {},
   "outputs": [
    {
     "name": "stdout",
     "output_type": "stream",
     "text": [
      "0\n",
      "1\n",
      "2\n"
     ]
    }
   ],
   "source": [
    "# range()\n",
    "# range(start, stop, step) 函数返回一个序列的数字，\n",
    "# 从 start 开始，到 stop 结束，步长为 step。如果只提供一个参数，\n",
    "# 它将被视为 stop，而 start 默认为0。如果没有提供 step，默认步长为1。\n",
    "# range() 返回的是一个可迭代对象，而不是列表，这有助于节省内存。\n",
    "for i in range(3):\n",
    "    print(i)"
   ]
  },
  {
   "cell_type": "code",
   "execution_count": 38,
   "metadata": {},
   "outputs": [
    {
     "name": "stdout",
     "output_type": "stream",
     "text": [
      "hello world\n",
      "hello world\n",
      "'hello world'\n",
      "'hello world'\n",
      "type(s): <class 'str'>\n",
      "type(repr(s)): <class 'str'>\n"
     ]
    }
   ],
   "source": [
    "# repr()\n",
    "# repr(object) 函数返回一个对象的字符串表示，\n",
    "# 该表示通常可以用来重新创建该对象。这与 str() 不同，\n",
    "# str() 的目的是返回一个对象的可读性好的字符串表示，\n",
    "# 而 repr() 旨在生成解释器读取的字符串表示。\n",
    "s = \"hello world\"\n",
    "s1 = 'hello world'\n",
    "print(s)\n",
    "print(s1)\n",
    "print(repr(s1))\n",
    "print(repr(s))\n",
    "print(\"type(s):\",type(s))\n",
    "print(\"type(repr(s)):\",type(repr(s)))\n"
   ]
  },
  {
   "cell_type": "code",
   "execution_count": 40,
   "metadata": {},
   "outputs": [
    {
     "name": "stdout",
     "output_type": "stream",
     "text": [
      "o\n",
      "l\n",
      "l\n",
      "e\n",
      "h\n"
     ]
    }
   ],
   "source": [
    "# reversed()\n",
    "# reversed(seq) 函数返回一个反转的迭代器。seq 必须是一个具有固定大小的序列，\n",
    "# 或者是任何实现了 __reversed__() 方法的对象。\n",
    "for char in reversed(\"hello\"):\n",
    "    print(char)"
   ]
  },
  {
   "cell_type": "code",
   "execution_count": 41,
   "metadata": {},
   "outputs": [
    {
     "name": "stdout",
     "output_type": "stream",
     "text": [
      "11\n",
      "1.123\n"
     ]
    }
   ],
   "source": [
    "# round()\n",
    "# round(number[, ndigits]) 函数返回 number 舍入到小数点后 ndigits 位精度的值。\n",
    "# 如果省略 ndigits，则返回最接近的整数。\n",
    "print(round(10.7))  # 向上取整\n",
    "print(round(1.123456, 3)) "
   ]
  },
  {
   "cell_type": "code",
   "execution_count": 42,
   "metadata": {},
   "outputs": [
    {
     "name": "stdout",
     "output_type": "stream",
     "text": [
      "0b11\n",
      "-0b1010\n"
     ]
    }
   ],
   "source": [
    "# bin()\n",
    "# bin(x) 函数返回一个整数 x 的二进制字符串表示，前缀为“0b”。\n",
    "print(bin(3))  # 输出: '0b11'\n",
    "print(bin(-10))  # 输出: '-0b1010'\n"
   ]
  },
  {
   "cell_type": "code",
   "execution_count": 43,
   "metadata": {},
   "outputs": [
    {
     "name": "stdout",
     "output_type": "stream",
     "text": [
      "False\n",
      "True\n",
      "False\n",
      "True\n"
     ]
    }
   ],
   "source": [
    "# bool()\n",
    "# bool(x) 函数将一个值转换为布尔值。\n",
    "# 如果没有提供参数，bool() 返回 False。\n",
    "# 对于数值类型，0、0.0 等都被认为是 False，其他值被认为是 True。\n",
    "# 对于非数值类型，如字符串或列表，空的容器被认为是 False，\n",
    "# 非空容器被认为是 True。\n",
    "\n",
    "print(bool(0))  # 输出: False\n",
    "print(bool(42))  # 输出: True\n",
    "print(bool(''))  # 输出: False\n",
    "print(bool('Python'))  # 输出: True\n"
   ]
  },
  {
   "cell_type": "code",
   "execution_count": 44,
   "metadata": {},
   "outputs": [
    {
     "name": "stdout",
     "output_type": "stream",
     "text": [
      "0\n",
      "1\n",
      "2\n",
      "3\n",
      "4\n",
      "5\n",
      "6\n",
      "7\n",
      "8\n",
      "9\n"
     ]
    }
   ],
   "source": [
    "# breakpoint()\n",
    "# 在Python 3.7及更高版本中，breakpoint() 函数用于在代码中插入一个断点。\n",
    "# 当解释器执行到这个函数时，它会暂停，并且可以通过调试器进行交互。\n",
    "# 这是调试Python程序的一种方式。\n",
    "# 当执行到breakpoint()时，程序会暂停，进入调试模式\n",
    "for i in range(10):\n",
    "    if i == 5:\n",
    "        breakpoint()  # 在 i 等于 5 时暂停\n",
    "    print(i)\n"
   ]
  },
  {
   "cell_type": "code",
   "execution_count": 45,
   "metadata": {},
   "outputs": [
    {
     "name": "stdout",
     "output_type": "stream",
     "text": [
      "bytearray(b'\\x00\\x00\\x00\\x00\\x00')\n",
      "bytearray(b'hello')\n"
     ]
    }
   ],
   "source": [
    "# bytearray()\n",
    "# bytearray([source[, encoding[, errors]]]) 函数返回一个新的字节数组。\n",
    "# 这个数组是可变的（即可以改变其内容），并且每个元素的值范围是 0 <= x < 256。\n",
    "# 如果提供了 source，它可以是整数、字符串（需要encoding参数）或可迭代对象。\n",
    "print(bytearray(5))  # 输出: bytearray(b'\\x00\\x00\\x00\\x00\\x00')\n",
    "print(bytearray('hello', 'utf-8'))  # 输出: bytearray(b'hello')\n",
    "\n"
   ]
  },
  {
   "cell_type": "code",
   "execution_count": 46,
   "metadata": {},
   "outputs": [
    {
     "name": "stdout",
     "output_type": "stream",
     "text": [
      "b'\\x00\\x00\\x00\\x00\\x00'\n",
      "b'hello'\n"
     ]
    }
   ],
   "source": [
    "# bytes():\n",
    "# bytes([source[, encoding[, errors]]]) 函数返回一个新的“bytes”对象，\n",
    "# 这是一个不可变的序列，包含范围在 0 <= x < 256 的整数。\n",
    "# 与 bytearray() 类似，如果提供了 source，\n",
    "# 它可以是整数、字符串（需要 encoding 参数）或可迭代对象。\n",
    "print(bytes(5))  # 输出: b'\\x00\\x00\\x00\\x00\\x00'\n",
    "print(bytes('hello', 'utf-8'))  # 输出: b'hello'\n"
   ]
  },
  {
   "cell_type": "code",
   "execution_count": 47,
   "metadata": {},
   "outputs": [
    {
     "name": "stdout",
     "output_type": "stream",
     "text": [
      "True\n",
      "False\n"
     ]
    }
   ],
   "source": [
    "# callable()\n",
    "# callable(object) 函数检查对象是否可调用。一个对象如果有 __call__() 方法，\n",
    "# 则被视为可调用。这对于确定对象是否可以像函数一样被调用很有用。\n",
    "def func():\n",
    "    pass\n",
    "\n",
    "print(callable(func))  # 输出: True\n",
    "print(callable(5))  # 输出: False\n"
   ]
  },
  {
   "cell_type": "code",
   "execution_count": 48,
   "metadata": {},
   "outputs": [
    {
     "name": "stdout",
     "output_type": "stream",
     "text": [
      "a\n",
      "€\n"
     ]
    }
   ],
   "source": [
    "# chr\n",
    "# chr(i) 函数返回对应于整数 i 的ASCII字符或Unicode字符。\n",
    "# i 是一个范围在0到1,114,111之间的整数（0x10FFFF以内）。\n",
    "print(chr(97))  # 输出: 'a'\n",
    "print(chr(8364))  # 输出: '€'\n",
    "\n"
   ]
  },
  {
   "cell_type": "code",
   "execution_count": 49,
   "metadata": {},
   "outputs": [],
   "source": [
    "# classmethod()\n",
    "# classmethod(function) 函数将一个方法转换为类方法。\n",
    "# 类方法接收类作为隐式的第一个参数，而不是实例。\n",
    "# 这意味着类方法可以被类调用，而不是类的实例。\n",
    "# 它经常用在需要操作类级别数据的场景。\n",
    "class C:\n",
    "    @classmethod\n",
    "    def f(cls, arg1, arg2):\n",
    "        pass"
   ]
  },
  {
   "cell_type": "code",
   "execution_count": 50,
   "metadata": {},
   "outputs": [
    {
     "name": "stdout",
     "output_type": "stream",
     "text": [
      "3\n"
     ]
    }
   ],
   "source": [
    "# compile()\n",
    "# compile(source, filename, mode, flags=0, dont_inherit=False, optimize=-1) \n",
    "# 函数将源字符串编译成代码或AST对象。\n",
    "# 代码可以随后使用 exec() 或 eval() 执行。\n",
    "# 这个函数常用于动态执行生成的Python代码。\n",
    "# source 是要编译的代码字符串，filename 是用来显示错误消息的文件名，\n",
    "# mode 可以是 'exec' 如果源代码由多条语句组成，\n",
    "# 'eval' 如果它是一个表达式，或者 'single' 如果它是单个交互式语句。\n",
    "code = compile('a + b', '', 'eval')\n",
    "print(eval(code, {'a': 1, 'b': 2}))  # 输出: 3\n"
   ]
  },
  {
   "cell_type": "code",
   "execution_count": 51,
   "metadata": {},
   "outputs": [
    {
     "name": "stdout",
     "output_type": "stream",
     "text": [
      "(2+3j)\n",
      "(10+2j)\n"
     ]
    }
   ],
   "source": [
    "# complex\n",
    "# complex(real=0, imag=0) 函数用于创建一个复数，其中 real 是实部，imag 是虚部。\n",
    "# 也可以将字符串或数字作为参数传递给 complex() 来创建复数。\n",
    "print(complex(2, 3))  # 输出: (2+3j)\n",
    "print(complex('10+2j'))  # 输出: (10+2j)\n"
   ]
  },
  {
   "cell_type": "code",
   "execution_count": 3,
   "metadata": {},
   "outputs": [
    {
     "name": "stdout",
     "output_type": "stream",
     "text": [
      "20\n"
     ]
    }
   ],
   "source": [
    "# delattr\n",
    "# delattr(object, name) 函数用于删除对象的属性。如果属性存在，函数会将其移除。\n",
    "# 如果属性不存在，则会抛出一个 AttributeError。\n",
    "class Point:\n",
    "    x = 10\n",
    "    y = 20\n",
    "p = Point()\n",
    "delattr(Point, 'x')\n",
    "print(p.y)  \n",
    "# print(p.x)  --error"
   ]
  },
  {
   "cell_type": "code",
   "execution_count": 5,
   "metadata": {},
   "outputs": [
    {
     "name": "stdout",
     "output_type": "stream",
     "text": [
      "{'a': 1, 'v': 2}\n",
      "{'a': 2, 'b': 3}\n"
     ]
    }
   ],
   "source": [
    "# dict\n",
    "# dict() 函数用于创建一个字典。它是Python中的内置映射类型，可以用多种方式来构造字典，\n",
    "# 包括通过键值对、序列对，或使用关键字参数。\n",
    "d = dict([('a', 1), ('v', 2)])\n",
    "print(d) # {'a': 1, 'v': 2}\n",
    "z = dict(a=2, b=3)\n",
    "print(z) # {'a': 2, 'b': 3}"
   ]
  },
  {
   "cell_type": "code",
   "execution_count": 6,
   "metadata": {},
   "outputs": [
    {
     "name": "stdout",
     "output_type": "stream",
     "text": [
      "['In', 'Out', 'Point', '_', '__', '___', '__builtin__', '__builtins__', '__doc__', '__loader__', '__name__', '__package__', '__spec__', '__vsc_ipynb_file__', '_dh', '_i', '_i1', '_i2', '_i3', '_i4', '_i5', '_i6', '_ih', '_ii', '_iii', '_oh', 'd', 'exit', 'get_ipython', 'open', 'p', 'quit', 'z']\n",
      "['__add__', '__class__', '__class_getitem__', '__contains__', '__delattr__', '__delitem__', '__dir__', '__doc__', '__eq__', '__format__', '__ge__', '__getattribute__', '__getitem__', '__gt__', '__hash__', '__iadd__', '__imul__', '__init__', '__init_subclass__', '__iter__', '__le__', '__len__', '__lt__', '__mul__', '__ne__', '__new__', '__reduce__', '__reduce_ex__', '__repr__', '__reversed__', '__rmul__', '__setattr__', '__setitem__', '__sizeof__', '__str__', '__subclasshook__', 'append', 'clear', 'copy', 'count', 'extend', 'index', 'insert', 'pop', 'remove', 'reverse', 'sort']\n"
     ]
    }
   ],
   "source": [
    "# dir\n",
    "# dir([object]) 函数不带参数时，返回当前范围内的变量、方法和定义的类型列表；带参数时，返回参数的属性、方法列表。\n",
    "# 对于模块、类型或对象实例，dir() 试图返回一个包含其属性的名称列表。\n",
    "print(dir())  # 显示当前模块的属性名\n",
    "print(dir(list))  # 显示列表的所有属性和方法\n",
    "\n"
   ]
  },
  {
   "cell_type": "code",
   "execution_count": 8,
   "metadata": {},
   "outputs": [
    {
     "data": {
      "text/plain": [
       "['__class__',\n",
       " '__class_getitem__',\n",
       " '__contains__',\n",
       " '__delattr__',\n",
       " '__delitem__',\n",
       " '__dir__',\n",
       " '__doc__',\n",
       " '__eq__',\n",
       " '__format__',\n",
       " '__ge__',\n",
       " '__getattribute__',\n",
       " '__getitem__',\n",
       " '__gt__',\n",
       " '__hash__',\n",
       " '__init__',\n",
       " '__init_subclass__',\n",
       " '__ior__',\n",
       " '__iter__',\n",
       " '__le__',\n",
       " '__len__',\n",
       " '__lt__',\n",
       " '__ne__',\n",
       " '__new__',\n",
       " '__or__',\n",
       " '__reduce__',\n",
       " '__reduce_ex__',\n",
       " '__repr__',\n",
       " '__reversed__',\n",
       " '__ror__',\n",
       " '__setattr__',\n",
       " '__setitem__',\n",
       " '__sizeof__',\n",
       " '__str__',\n",
       " '__subclasshook__',\n",
       " 'clear',\n",
       " 'copy',\n",
       " 'fromkeys',\n",
       " 'get',\n",
       " 'items',\n",
       " 'keys',\n",
       " 'pop',\n",
       " 'popitem',\n",
       " 'setdefault',\n",
       " 'update',\n",
       " 'values']"
      ]
     },
     "execution_count": 8,
     "metadata": {},
     "output_type": "execute_result"
    }
   ],
   "source": [
    "dir(d)\n",
    "dir(z)"
   ]
  },
  {
   "cell_type": "code",
   "execution_count": 9,
   "metadata": {},
   "outputs": [
    {
     "name": "stdout",
     "output_type": "stream",
     "text": [
      "(3, 1)\n",
      "(4, 0)\n"
     ]
    }
   ],
   "source": [
    "# divmod()\n",
    "# divmod(a, b) 函数接受两个数作为参数，返回一个包含商和余数的元组。\n",
    "# 如果两个参数 a 和 b 都是整数，返回的是 (a // b, a % b)。\n",
    "\n",
    "print(divmod(7, 2))  # 输出: (3, 1)，因为 7 除以 2 等于 3 余 1\n",
    "print(divmod(8, 2))  # 输出: (4, 0)，因为 8 除以 2 等于 4 余 0\n",
    "\n"
   ]
  },
  {
   "cell_type": "code",
   "execution_count": 10,
   "metadata": {},
   "outputs": [
    {
     "name": "stdout",
     "output_type": "stream",
     "text": [
      "[4, 5]\n"
     ]
    }
   ],
   "source": [
    "# filter()\n",
    "# filter(function, iterable) 函数用于过滤序列，过滤掉不符合条件的元素，返回由符合条件元素组成的迭代器。function 定义了过滤条件，\n",
    "# 对于 iterable 中的每个元素，function 返回 True 的元素会被保留。\n",
    "nums = [1, 2, 3, 4, 5]\n",
    "result = filter(lambda x: x > 3, nums)  # 过滤出大于3的数\n",
    "print(list(result))  # 输出: [4, 5]\n"
   ]
  },
  {
   "cell_type": "code",
   "execution_count": 11,
   "metadata": {},
   "outputs": [
    {
     "name": "stdout",
     "output_type": "stream",
     "text": [
      "3.0\n",
      "11.22\n"
     ]
    }
   ],
   "source": [
    "# float()\n",
    "#  float([x]) 函数用于将一个字符串或数字转换为浮点数。如果无参数调用，返回 0.0。\n",
    "# 如果参数是字符串，字符串内容必须形式上合乎浮点数或整数。\n",
    "print(float(3))  # 输出: 3.0\n",
    "print(float(\"11.22\"))  # 输出: 11.22"
   ]
  },
  {
   "cell_type": "code",
   "execution_count": 12,
   "metadata": {},
   "outputs": [
    {
     "name": "stdout",
     "output_type": "stream",
     "text": [
      "1111011\n",
      "123.46\n"
     ]
    }
   ],
   "source": [
    "# float()\n",
    "# format(value[, format_spec]) 函数用于格式化一个值。format_spec 控制着最终的格式化结果。\n",
    "# 这个函数提供了非常灵活的数据呈现方式，相比传统的 % 格式化方法，它更加强大。\n",
    "print(format(123, \"b\"))  # 输出: '1111011'，二进制格式\n",
    "print(format(123.456789, \".2f\"))  # 输出: '123.46'，保留两位小数\n"
   ]
  },
  {
   "cell_type": "code",
   "execution_count": 13,
   "metadata": {},
   "outputs": [
    {
     "name": "stdout",
     "output_type": "stream",
     "text": [
      "frozenset({2, 3, 4, 5})\n"
     ]
    },
    {
     "ename": "AttributeError",
     "evalue": "'frozenset' object has no attribute 'add'",
     "output_type": "error",
     "traceback": [
      "\u001B[1;31m---------------------------------------------------------------------------\u001B[0m",
      "\u001B[1;31mAttributeError\u001B[0m                            Traceback (most recent call last)",
      "Cell \u001B[1;32mIn[13], line 9\u001B[0m\n\u001B[0;32m      6\u001B[0m s \u001B[38;5;241m=\u001B[39m \u001B[38;5;28mfrozenset\u001B[39m([\u001B[38;5;241m2\u001B[39m, \u001B[38;5;241m3\u001B[39m, \u001B[38;5;241m4\u001B[39m, \u001B[38;5;241m5\u001B[39m])\n\u001B[0;32m      7\u001B[0m \u001B[38;5;28mprint\u001B[39m(s)\n\u001B[1;32m----> 9\u001B[0m \u001B[43ms\u001B[49m\u001B[38;5;241;43m.\u001B[39;49m\u001B[43madd\u001B[49m(\u001B[38;5;241m4\u001B[39m) \u001B[38;5;66;03m# AttributeError\u001B[39;00m\n",
      "\u001B[1;31mAttributeError\u001B[0m: 'frozenset' object has no attribute 'add'"
     ]
    }
   ],
   "source": [
    "# frozenset()\n",
    "# frozenset([iterable]) 函数返回一个冻结的集合，它是不可变的，\n",
    "# 存在的元素不能被修改，不能添加或删除元素。\n",
    "# 这对于作为字典的键或集合的成员非常有用，因为这些场景要求元素是不可变的。\n",
    "\n",
    "s = frozenset([2, 3, 4, 5])\n",
    "print(s)\n",
    "\n",
    "# s.add(4) # AttributeError"
   ]
  },
  {
   "cell_type": "code",
   "execution_count": 14,
   "metadata": {},
   "outputs": [
    {
     "name": "stdout",
     "output_type": "stream",
     "text": [
      "ass\n"
     ]
    }
   ],
   "source": [
    "# getattr()\n",
    "# getattr(object, name[, default]) 用于返回对象名为 name 的属性。\n",
    "# 如果该属性不存在，且提供了 default 值，则返回 default；\n",
    "# 如果没有提供 default 且属性不存在，则抛出 AttributeError。\n",
    "class Person:\n",
    "    age = 23\n",
    "    name = \"ass\"\n",
    "\n",
    "person = Person()\n",
    "print(getattr(person, 'name'))"
   ]
  },
  {
   "cell_type": "code",
   "execution_count": 15,
   "metadata": {},
   "outputs": [
    {
     "name": "stdout",
     "output_type": "stream",
     "text": [
      "42\n"
     ]
    }
   ],
   "source": [
    "# globals()\n",
    "# globals() 函数返回一个字典，表示当前全局符号表。\n",
    "# 这个符号表始终针对当前模块（在函数或方法内部，是所在模块，而不是定义函数或方法的模块）。\n",
    "x = 42\n",
    "print(globals()['x'])\n"
   ]
  },
  {
   "cell_type": "code",
   "execution_count": 16,
   "metadata": {},
   "outputs": [
    {
     "name": "stdout",
     "output_type": "stream",
     "text": [
      "True\n"
     ]
    }
   ],
   "source": [
    "# hasattr()\n",
    "# hasattr(object, name) 用于判断对象是否包含名为 name 的属性。\n",
    "person = Person()\n",
    "print(hasattr(person, 'age'))"
   ]
  },
  {
   "cell_type": "code",
   "execution_count": 18,
   "metadata": {},
   "outputs": [
    {
     "name": "stdout",
     "output_type": "stream",
     "text": [
      "1506485828460139751\n"
     ]
    },
    {
     "ename": "TypeError",
     "evalue": "unhashable type: 'list'",
     "output_type": "error",
     "traceback": [
      "\u001B[1;31m---------------------------------------------------------------------------\u001B[0m",
      "\u001B[1;31mTypeError\u001B[0m                                 Traceback (most recent call last)",
      "Cell \u001B[1;32mIn[18], line 6\u001B[0m\n\u001B[0;32m      4\u001B[0m \u001B[38;5;28mprint\u001B[39m(\u001B[38;5;28mhash\u001B[39m(\u001B[38;5;124m\"\u001B[39m\u001B[38;5;124mpython\u001B[39m\u001B[38;5;124m\"\u001B[39m))\n\u001B[0;32m      5\u001B[0m \u001B[38;5;28mlist\u001B[39m \u001B[38;5;241m=\u001B[39m [\u001B[38;5;241m1\u001B[39m, \u001B[38;5;241m2\u001B[39m, \u001B[38;5;241m3\u001B[39m, \u001B[38;5;241m4\u001B[39m]\n\u001B[1;32m----> 6\u001B[0m \u001B[38;5;28mprint\u001B[39m(\u001B[38;5;28;43mhash\u001B[39;49m\u001B[43m(\u001B[49m\u001B[38;5;28;43mlist\u001B[39;49m\u001B[43m)\u001B[49m)\n",
      "\u001B[1;31mTypeError\u001B[0m: unhashable type: 'list'"
     ]
    }
   ],
   "source": [
    "# hash()\n",
    "# hash(object) 函数返回对象的哈希值，用于字典键值对的快速比较和数组查找。\n",
    "# 不是所有对象都可以哈希（例如，列表就不可以，因为它是可变的）\n",
    "print(hash(\"python\"))\n",
    "list = [1, 2, 3, 4]\n",
    "# print(hash(list)) # TypeError: unhashable type: 'list'"
   ]
  },
  {
   "cell_type": "code",
   "execution_count": 19,
   "metadata": {},
   "outputs": [
    {
     "name": "stdout",
     "output_type": "stream",
     "text": [
      "Help on class str in module builtins:\n",
      "\n",
      "class str(object)\n",
      " |  str(object='') -> str\n",
      " |  str(bytes_or_buffer[, encoding[, errors]]) -> str\n",
      " |  \n",
      " |  Create a new string object from the given object. If encoding or\n",
      " |  errors is specified, then the object must expose a data buffer\n",
      " |  that will be decoded using the given encoding and error handler.\n",
      " |  Otherwise, returns the result of object.__str__() (if defined)\n",
      " |  or repr(object).\n",
      " |  encoding defaults to sys.getdefaultencoding().\n",
      " |  errors defaults to 'strict'.\n",
      " |  \n",
      " |  Methods defined here:\n",
      " |  \n",
      " |  __add__(self, value, /)\n",
      " |      Return self+value.\n",
      " |  \n",
      " |  __contains__(self, key, /)\n",
      " |      Return key in self.\n",
      " |  \n",
      " |  __eq__(self, value, /)\n",
      " |      Return self==value.\n",
      " |  \n",
      " |  __format__(self, format_spec, /)\n",
      " |      Return a formatted version of the string as described by format_spec.\n",
      " |  \n",
      " |  __ge__(self, value, /)\n",
      " |      Return self>=value.\n",
      " |  \n",
      " |  __getattribute__(self, name, /)\n",
      " |      Return getattr(self, name).\n",
      " |  \n",
      " |  __getitem__(self, key, /)\n",
      " |      Return self[key].\n",
      " |  \n",
      " |  __getnewargs__(...)\n",
      " |  \n",
      " |  __gt__(self, value, /)\n",
      " |      Return self>value.\n",
      " |  \n",
      " |  __hash__(self, /)\n",
      " |      Return hash(self).\n",
      " |  \n",
      " |  __iter__(self, /)\n",
      " |      Implement iter(self).\n",
      " |  \n",
      " |  __le__(self, value, /)\n",
      " |      Return self<=value.\n",
      " |  \n",
      " |  __len__(self, /)\n",
      " |      Return len(self).\n",
      " |  \n",
      " |  __lt__(self, value, /)\n",
      " |      Return self<value.\n",
      " |  \n",
      " |  __mod__(self, value, /)\n",
      " |      Return self%value.\n",
      " |  \n",
      " |  __mul__(self, value, /)\n",
      " |      Return self*value.\n",
      " |  \n",
      " |  __ne__(self, value, /)\n",
      " |      Return self!=value.\n",
      " |  \n",
      " |  __repr__(self, /)\n",
      " |      Return repr(self).\n",
      " |  \n",
      " |  __rmod__(self, value, /)\n",
      " |      Return value%self.\n",
      " |  \n",
      " |  __rmul__(self, value, /)\n",
      " |      Return value*self.\n",
      " |  \n",
      " |  __sizeof__(self, /)\n",
      " |      Return the size of the string in memory, in bytes.\n",
      " |  \n",
      " |  __str__(self, /)\n",
      " |      Return str(self).\n",
      " |  \n",
      " |  capitalize(self, /)\n",
      " |      Return a capitalized version of the string.\n",
      " |      \n",
      " |      More specifically, make the first character have upper case and the rest lower\n",
      " |      case.\n",
      " |  \n",
      " |  casefold(self, /)\n",
      " |      Return a version of the string suitable for caseless comparisons.\n",
      " |  \n",
      " |  center(self, width, fillchar=' ', /)\n",
      " |      Return a centered string of length width.\n",
      " |      \n",
      " |      Padding is done using the specified fill character (default is a space).\n",
      " |  \n",
      " |  count(...)\n",
      " |      S.count(sub[, start[, end]]) -> int\n",
      " |      \n",
      " |      Return the number of non-overlapping occurrences of substring sub in\n",
      " |      string S[start:end].  Optional arguments start and end are\n",
      " |      interpreted as in slice notation.\n",
      " |  \n",
      " |  encode(self, /, encoding='utf-8', errors='strict')\n",
      " |      Encode the string using the codec registered for encoding.\n",
      " |      \n",
      " |      encoding\n",
      " |        The encoding in which to encode the string.\n",
      " |      errors\n",
      " |        The error handling scheme to use for encoding errors.\n",
      " |        The default is 'strict' meaning that encoding errors raise a\n",
      " |        UnicodeEncodeError.  Other possible values are 'ignore', 'replace' and\n",
      " |        'xmlcharrefreplace' as well as any other name registered with\n",
      " |        codecs.register_error that can handle UnicodeEncodeErrors.\n",
      " |  \n",
      " |  endswith(...)\n",
      " |      S.endswith(suffix[, start[, end]]) -> bool\n",
      " |      \n",
      " |      Return True if S ends with the specified suffix, False otherwise.\n",
      " |      With optional start, test S beginning at that position.\n",
      " |      With optional end, stop comparing S at that position.\n",
      " |      suffix can also be a tuple of strings to try.\n",
      " |  \n",
      " |  expandtabs(self, /, tabsize=8)\n",
      " |      Return a copy where all tab characters are expanded using spaces.\n",
      " |      \n",
      " |      If tabsize is not given, a tab size of 8 characters is assumed.\n",
      " |  \n",
      " |  find(...)\n",
      " |      S.find(sub[, start[, end]]) -> int\n",
      " |      \n",
      " |      Return the lowest index in S where substring sub is found,\n",
      " |      such that sub is contained within S[start:end].  Optional\n",
      " |      arguments start and end are interpreted as in slice notation.\n",
      " |      \n",
      " |      Return -1 on failure.\n",
      " |  \n",
      " |  format(...)\n",
      " |      S.format(*args, **kwargs) -> str\n",
      " |      \n",
      " |      Return a formatted version of S, using substitutions from args and kwargs.\n",
      " |      The substitutions are identified by braces ('{' and '}').\n",
      " |  \n",
      " |  format_map(...)\n",
      " |      S.format_map(mapping) -> str\n",
      " |      \n",
      " |      Return a formatted version of S, using substitutions from mapping.\n",
      " |      The substitutions are identified by braces ('{' and '}').\n",
      " |  \n",
      " |  index(...)\n",
      " |      S.index(sub[, start[, end]]) -> int\n",
      " |      \n",
      " |      Return the lowest index in S where substring sub is found,\n",
      " |      such that sub is contained within S[start:end].  Optional\n",
      " |      arguments start and end are interpreted as in slice notation.\n",
      " |      \n",
      " |      Raises ValueError when the substring is not found.\n",
      " |  \n",
      " |  isalnum(self, /)\n",
      " |      Return True if the string is an alpha-numeric string, False otherwise.\n",
      " |      \n",
      " |      A string is alpha-numeric if all characters in the string are alpha-numeric and\n",
      " |      there is at least one character in the string.\n",
      " |  \n",
      " |  isalpha(self, /)\n",
      " |      Return True if the string is an alphabetic string, False otherwise.\n",
      " |      \n",
      " |      A string is alphabetic if all characters in the string are alphabetic and there\n",
      " |      is at least one character in the string.\n",
      " |  \n",
      " |  isascii(self, /)\n",
      " |      Return True if all characters in the string are ASCII, False otherwise.\n",
      " |      \n",
      " |      ASCII characters have code points in the range U+0000-U+007F.\n",
      " |      Empty string is ASCII too.\n",
      " |  \n",
      " |  isdecimal(self, /)\n",
      " |      Return True if the string is a decimal string, False otherwise.\n",
      " |      \n",
      " |      A string is a decimal string if all characters in the string are decimal and\n",
      " |      there is at least one character in the string.\n",
      " |  \n",
      " |  isdigit(self, /)\n",
      " |      Return True if the string is a digit string, False otherwise.\n",
      " |      \n",
      " |      A string is a digit string if all characters in the string are digits and there\n",
      " |      is at least one character in the string.\n",
      " |  \n",
      " |  isidentifier(self, /)\n",
      " |      Return True if the string is a valid Python identifier, False otherwise.\n",
      " |      \n",
      " |      Call keyword.iskeyword(s) to test whether string s is a reserved identifier,\n",
      " |      such as \"def\" or \"class\".\n",
      " |  \n",
      " |  islower(self, /)\n",
      " |      Return True if the string is a lowercase string, False otherwise.\n",
      " |      \n",
      " |      A string is lowercase if all cased characters in the string are lowercase and\n",
      " |      there is at least one cased character in the string.\n",
      " |  \n",
      " |  isnumeric(self, /)\n",
      " |      Return True if the string is a numeric string, False otherwise.\n",
      " |      \n",
      " |      A string is numeric if all characters in the string are numeric and there is at\n",
      " |      least one character in the string.\n",
      " |  \n",
      " |  isprintable(self, /)\n",
      " |      Return True if the string is printable, False otherwise.\n",
      " |      \n",
      " |      A string is printable if all of its characters are considered printable in\n",
      " |      repr() or if it is empty.\n",
      " |  \n",
      " |  isspace(self, /)\n",
      " |      Return True if the string is a whitespace string, False otherwise.\n",
      " |      \n",
      " |      A string is whitespace if all characters in the string are whitespace and there\n",
      " |      is at least one character in the string.\n",
      " |  \n",
      " |  istitle(self, /)\n",
      " |      Return True if the string is a title-cased string, False otherwise.\n",
      " |      \n",
      " |      In a title-cased string, upper- and title-case characters may only\n",
      " |      follow uncased characters and lowercase characters only cased ones.\n",
      " |  \n",
      " |  isupper(self, /)\n",
      " |      Return True if the string is an uppercase string, False otherwise.\n",
      " |      \n",
      " |      A string is uppercase if all cased characters in the string are uppercase and\n",
      " |      there is at least one cased character in the string.\n",
      " |  \n",
      " |  join(self, iterable, /)\n",
      " |      Concatenate any number of strings.\n",
      " |      \n",
      " |      The string whose method is called is inserted in between each given string.\n",
      " |      The result is returned as a new string.\n",
      " |      \n",
      " |      Example: '.'.join(['ab', 'pq', 'rs']) -> 'ab.pq.rs'\n",
      " |  \n",
      " |  ljust(self, width, fillchar=' ', /)\n",
      " |      Return a left-justified string of length width.\n",
      " |      \n",
      " |      Padding is done using the specified fill character (default is a space).\n",
      " |  \n",
      " |  lower(self, /)\n",
      " |      Return a copy of the string converted to lowercase.\n",
      " |  \n",
      " |  lstrip(self, chars=None, /)\n",
      " |      Return a copy of the string with leading whitespace removed.\n",
      " |      \n",
      " |      If chars is given and not None, remove characters in chars instead.\n",
      " |  \n",
      " |  partition(self, sep, /)\n",
      " |      Partition the string into three parts using the given separator.\n",
      " |      \n",
      " |      This will search for the separator in the string.  If the separator is found,\n",
      " |      returns a 3-tuple containing the part before the separator, the separator\n",
      " |      itself, and the part after it.\n",
      " |      \n",
      " |      If the separator is not found, returns a 3-tuple containing the original string\n",
      " |      and two empty strings.\n",
      " |  \n",
      " |  removeprefix(self, prefix, /)\n",
      " |      Return a str with the given prefix string removed if present.\n",
      " |      \n",
      " |      If the string starts with the prefix string, return string[len(prefix):].\n",
      " |      Otherwise, return a copy of the original string.\n",
      " |  \n",
      " |  removesuffix(self, suffix, /)\n",
      " |      Return a str with the given suffix string removed if present.\n",
      " |      \n",
      " |      If the string ends with the suffix string and that suffix is not empty,\n",
      " |      return string[:-len(suffix)]. Otherwise, return a copy of the original\n",
      " |      string.\n",
      " |  \n",
      " |  replace(self, old, new, count=-1, /)\n",
      " |      Return a copy with all occurrences of substring old replaced by new.\n",
      " |      \n",
      " |        count\n",
      " |          Maximum number of occurrences to replace.\n",
      " |          -1 (the default value) means replace all occurrences.\n",
      " |      \n",
      " |      If the optional argument count is given, only the first count occurrences are\n",
      " |      replaced.\n",
      " |  \n",
      " |  rfind(...)\n",
      " |      S.rfind(sub[, start[, end]]) -> int\n",
      " |      \n",
      " |      Return the highest index in S where substring sub is found,\n",
      " |      such that sub is contained within S[start:end].  Optional\n",
      " |      arguments start and end are interpreted as in slice notation.\n",
      " |      \n",
      " |      Return -1 on failure.\n",
      " |  \n",
      " |  rindex(...)\n",
      " |      S.rindex(sub[, start[, end]]) -> int\n",
      " |      \n",
      " |      Return the highest index in S where substring sub is found,\n",
      " |      such that sub is contained within S[start:end].  Optional\n",
      " |      arguments start and end are interpreted as in slice notation.\n",
      " |      \n",
      " |      Raises ValueError when the substring is not found.\n",
      " |  \n",
      " |  rjust(self, width, fillchar=' ', /)\n",
      " |      Return a right-justified string of length width.\n",
      " |      \n",
      " |      Padding is done using the specified fill character (default is a space).\n",
      " |  \n",
      " |  rpartition(self, sep, /)\n",
      " |      Partition the string into three parts using the given separator.\n",
      " |      \n",
      " |      This will search for the separator in the string, starting at the end. If\n",
      " |      the separator is found, returns a 3-tuple containing the part before the\n",
      " |      separator, the separator itself, and the part after it.\n",
      " |      \n",
      " |      If the separator is not found, returns a 3-tuple containing two empty strings\n",
      " |      and the original string.\n",
      " |  \n",
      " |  rsplit(self, /, sep=None, maxsplit=-1)\n",
      " |      Return a list of the substrings in the string, using sep as the separator string.\n",
      " |      \n",
      " |        sep\n",
      " |          The separator used to split the string.\n",
      " |      \n",
      " |          When set to None (the default value), will split on any whitespace\n",
      " |          character (including \\\\n \\\\r \\\\t \\\\f and spaces) and will discard\n",
      " |          empty strings from the result.\n",
      " |        maxsplit\n",
      " |          Maximum number of splits (starting from the left).\n",
      " |          -1 (the default value) means no limit.\n",
      " |      \n",
      " |      Splitting starts at the end of the string and works to the front.\n",
      " |  \n",
      " |  rstrip(self, chars=None, /)\n",
      " |      Return a copy of the string with trailing whitespace removed.\n",
      " |      \n",
      " |      If chars is given and not None, remove characters in chars instead.\n",
      " |  \n",
      " |  split(self, /, sep=None, maxsplit=-1)\n",
      " |      Return a list of the substrings in the string, using sep as the separator string.\n",
      " |      \n",
      " |        sep\n",
      " |          The separator used to split the string.\n",
      " |      \n",
      " |          When set to None (the default value), will split on any whitespace\n",
      " |          character (including \\\\n \\\\r \\\\t \\\\f and spaces) and will discard\n",
      " |          empty strings from the result.\n",
      " |        maxsplit\n",
      " |          Maximum number of splits (starting from the left).\n",
      " |          -1 (the default value) means no limit.\n",
      " |      \n",
      " |      Note, str.split() is mainly useful for data that has been intentionally\n",
      " |      delimited.  With natural text that includes punctuation, consider using\n",
      " |      the regular expression module.\n",
      " |  \n",
      " |  splitlines(self, /, keepends=False)\n",
      " |      Return a list of the lines in the string, breaking at line boundaries.\n",
      " |      \n",
      " |      Line breaks are not included in the resulting list unless keepends is given and\n",
      " |      true.\n",
      " |  \n",
      " |  startswith(...)\n",
      " |      S.startswith(prefix[, start[, end]]) -> bool\n",
      " |      \n",
      " |      Return True if S starts with the specified prefix, False otherwise.\n",
      " |      With optional start, test S beginning at that position.\n",
      " |      With optional end, stop comparing S at that position.\n",
      " |      prefix can also be a tuple of strings to try.\n",
      " |  \n",
      " |  strip(self, chars=None, /)\n",
      " |      Return a copy of the string with leading and trailing whitespace removed.\n",
      " |      \n",
      " |      If chars is given and not None, remove characters in chars instead.\n",
      " |  \n",
      " |  swapcase(self, /)\n",
      " |      Convert uppercase characters to lowercase and lowercase characters to uppercase.\n",
      " |  \n",
      " |  title(self, /)\n",
      " |      Return a version of the string where each word is titlecased.\n",
      " |      \n",
      " |      More specifically, words start with uppercased characters and all remaining\n",
      " |      cased characters have lower case.\n",
      " |  \n",
      " |  translate(self, table, /)\n",
      " |      Replace each character in the string using the given translation table.\n",
      " |      \n",
      " |        table\n",
      " |          Translation table, which must be a mapping of Unicode ordinals to\n",
      " |          Unicode ordinals, strings, or None.\n",
      " |      \n",
      " |      The table must implement lookup/indexing via __getitem__, for instance a\n",
      " |      dictionary or list.  If this operation raises LookupError, the character is\n",
      " |      left untouched.  Characters mapped to None are deleted.\n",
      " |  \n",
      " |  upper(self, /)\n",
      " |      Return a copy of the string converted to uppercase.\n",
      " |  \n",
      " |  zfill(self, width, /)\n",
      " |      Pad a numeric string with zeros on the left, to fill a field of the given width.\n",
      " |      \n",
      " |      The string is never truncated.\n",
      " |  \n",
      " |  ----------------------------------------------------------------------\n",
      " |  Static methods defined here:\n",
      " |  \n",
      " |  __new__(*args, **kwargs) from builtins.type\n",
      " |      Create and return a new object.  See help(type) for accurate signature.\n",
      " |  \n",
      " |  maketrans(...)\n",
      " |      Return a translation table usable for str.translate().\n",
      " |      \n",
      " |      If there is only one argument, it must be a dictionary mapping Unicode\n",
      " |      ordinals (integers) or characters to Unicode ordinals, strings or None.\n",
      " |      Character keys will be then converted to ordinals.\n",
      " |      If there are two arguments, they must be strings of equal length, and\n",
      " |      in the resulting dictionary, each character in x will be mapped to the\n",
      " |      character at the same position in y. If there is a third argument, it\n",
      " |      must be a string, whose characters will be mapped to None in the result.\n",
      "\n"
     ]
    }
   ],
   "source": [
    "# help()\n",
    "# help([object]) 函数启动内置的帮助系统，可以打印出对象的帮助信息，\n",
    "# 如果没有提供参数，会进入交互式帮助系统。\n",
    "help(str)"
   ]
  },
  {
   "cell_type": "code",
   "execution_count": 20,
   "metadata": {},
   "outputs": [
    {
     "name": "stdout",
     "output_type": "stream",
     "text": [
      "0xea\n"
     ]
    }
   ],
   "source": [
    "# hex()\n",
    "# hex(x) 函数将一个整数转换成其对应的十六进制字符串。\n",
    "print(hex(234))"
   ]
  },
  {
   "cell_type": "code",
   "execution_count": 21,
   "metadata": {},
   "outputs": [
    {
     "name": "stdout",
     "output_type": "stream",
     "text": [
      "2642512053808\n"
     ]
    }
   ],
   "source": [
    "# id()\n",
    "# id(object) 函数返回对象的“身份”，\n",
    "# 即对象在内存中的地址。对于不变对象，生命周期内的id是唯一的。\n",
    "r = 43\n",
    "print(id(r))\n"
   ]
  },
  {
   "cell_type": "code",
   "execution_count": 22,
   "metadata": {},
   "outputs": [],
   "source": [
    "# input()\n",
    "# input([prompt]) 函数读取用户的输入。\n",
    "# 可选的 prompt 参数用于在用户输入前显示提示信息。\n",
    "# name = input(\"what is your name\")"
   ]
  },
  {
   "cell_type": "code",
   "execution_count": 1,
   "metadata": {},
   "outputs": [
    {
     "name": "stdout",
     "output_type": "stream",
     "text": [
      "10\n",
      "2\n"
     ]
    }
   ],
   "source": [
    "# int()\n",
    "# int(x=0) 或 int(x, base=10) \n",
    "# 函数将一个字符串或数字转换为整型。如果不提供参数，返回0。\n",
    "print(int('10'))  # 输出: 10\n",
    "print(int('10', base=2))  # 输出: 2（二进制转换）\n"
   ]
  },
  {
   "cell_type": "code",
   "execution_count": 2,
   "metadata": {},
   "outputs": [
    {
     "name": "stdout",
     "output_type": "stream",
     "text": [
      "True\n"
     ]
    }
   ],
   "source": [
    "# isinstance()\n",
    "# isinstance(object, classinfo) 检查对象是否是类或类元组 classinfo 的实例。\n",
    "print(isinstance(5, int))  # 输出: True\n"
   ]
  },
  {
   "cell_type": "code",
   "execution_count": 3,
   "metadata": {},
   "outputs": [
    {
     "name": "stdout",
     "output_type": "stream",
     "text": [
      "True\n"
     ]
    }
   ],
   "source": [
    "# issubclass()\n",
    "# issubclass(class, classinfo) 检查 class 是否为 classinfo 的子类。\n",
    "class Base: pass\n",
    "class Derived(Base): pass\n",
    "print(issubclass(Derived, Base))\n"
   ]
  },
  {
   "cell_type": "code",
   "execution_count": 4,
   "metadata": {},
   "outputs": [
    {
     "name": "stdout",
     "output_type": "stream",
     "text": [
      "1\n",
      "2\n"
     ]
    }
   ],
   "source": [
    "# iter\n",
    "# iter(object[, sentinel]) 从一个可迭代对象返回一个迭代器。\n",
    "# 如果提供了第二个参数 sentinel，object 必须是一个可调用对象，\n",
    "# 此时迭代会在 object\n",
    "\n",
    "my_list = [1, 2, 3]\n",
    "my_iter = iter(my_list)\n",
    "\n",
    "print(next(my_iter))  # Outputs: 1\n",
    "print(next(my_iter))  # Outputs: 2\n"
   ]
  },
  {
   "cell_type": "code",
   "execution_count": 5,
   "metadata": {},
   "outputs": [
    {
     "name": "stdout",
     "output_type": "stream",
     "text": [
      "1\n",
      "1\n",
      "3\n",
      "8\n",
      "3\n",
      "6\n"
     ]
    }
   ],
   "source": [
    "import random\n",
    "# This example calls `random.randint` until it returns 5.\n",
    "iter_obj = iter(lambda: random.randint(0, 10), 5)\n",
    "\n",
    "for num in iter_obj:\n",
    "    print(num)  # Prints random numbers until 5 is generated.\n"
   ]
  },
  {
   "cell_type": "code",
   "execution_count": 6,
   "metadata": {},
   "outputs": [
    {
     "name": "stdout",
     "output_type": "stream",
     "text": [
      "2\n",
      "3\n"
     ]
    }
   ],
   "source": [
    "# next()\n",
    "# next(iterator[, default]) 用于从迭代器获取下一个项目。\n",
    "# 如果迭代器耗尽，则返回 default 值；\n",
    "# 如果没有提供 default 值，并且迭代器耗尽，会抛出 StopIteration 异常。\n",
    "it = iter([2, 3, 4, 5])\n",
    "print(next(it))\n",
    "print(next(it))"
   ]
  },
  {
   "cell_type": "code",
   "execution_count": 7,
   "metadata": {},
   "outputs": [
    {
     "name": "stdout",
     "output_type": "stream",
     "text": [
      "<object object at 0x0000012285FBFBC0>\n"
     ]
    }
   ],
   "source": [
    "# object()\n",
    "# object() 函数返回一个新的无特征对象。\n",
    "# object 是所有类的基类。它不接受任何参数。\n",
    "obj = object()\n",
    "print(obj)\n"
   ]
  },
  {
   "cell_type": "code",
   "execution_count": 8,
   "metadata": {},
   "outputs": [
    {
     "name": "stdout",
     "output_type": "stream",
     "text": [
      "0o10\n"
     ]
    }
   ],
   "source": [
    "# oct()\n",
    "# oct(x) 函数将一个整数转换成它的八进制字符串表示。\n",
    "print(oct(8))  # 输出: '0o10'\n"
   ]
  },
  {
   "cell_type": "code",
   "execution_count": 9,
   "metadata": {},
   "outputs": [
    {
     "ename": "FileNotFoundError",
     "evalue": "[Errno 2] No such file or directory: 'file.txt'",
     "output_type": "error",
     "traceback": [
      "\u001B[1;31m---------------------------------------------------------------------------\u001B[0m",
      "\u001B[1;31mFileNotFoundError\u001B[0m                         Traceback (most recent call last)",
      "Cell \u001B[1;32mIn[9], line 7\u001B[0m\n\u001B[0;32m      1\u001B[0m \u001B[38;5;66;03m# open()\u001B[39;00m\n\u001B[0;32m      2\u001B[0m \u001B[38;5;66;03m# open(file, mode='r', buffering=-1, encoding=None, \u001B[39;00m\n\u001B[0;32m      3\u001B[0m     \u001B[38;5;66;03m#  errors=None, newline=None, closefd=True, opener=None) \u001B[39;00m\n\u001B[0;32m      4\u001B[0m \u001B[38;5;66;03m# 用于打开一个文件，并返回对应的文件对象。常用模式包括 'r'（读取，默认）、'w'（写入，会先清空文件）、'a'（追加）等。\u001B[39;00m\n\u001B[1;32m----> 7\u001B[0m f \u001B[38;5;241m=\u001B[39m \u001B[38;5;28;43mopen\u001B[39;49m\u001B[43m(\u001B[49m\u001B[38;5;124;43m\"\u001B[39;49m\u001B[38;5;124;43mfile.txt\u001B[39;49m\u001B[38;5;124;43m\"\u001B[39;49m\u001B[43m,\u001B[49m\u001B[43m \u001B[49m\u001B[38;5;124;43m'\u001B[39;49m\u001B[38;5;124;43mr\u001B[39;49m\u001B[38;5;124;43m'\u001B[39;49m\u001B[43m)\u001B[49m\n\u001B[0;32m      8\u001B[0m \u001B[38;5;28mprint\u001B[39m(f\u001B[38;5;241m.\u001B[39mread())\n\u001B[0;32m      9\u001B[0m f\u001B[38;5;241m.\u001B[39mclose()\n",
      "File \u001B[1;32md:\\developer\\miniconda\\envs\\kiana\\lib\\site-packages\\IPython\\core\\interactiveshell.py:324\u001B[0m, in \u001B[0;36m_modified_open\u001B[1;34m(file, *args, **kwargs)\u001B[0m\n\u001B[0;32m    317\u001B[0m \u001B[38;5;28;01mif\u001B[39;00m file \u001B[38;5;129;01min\u001B[39;00m {\u001B[38;5;241m0\u001B[39m, \u001B[38;5;241m1\u001B[39m, \u001B[38;5;241m2\u001B[39m}:\n\u001B[0;32m    318\u001B[0m     \u001B[38;5;28;01mraise\u001B[39;00m \u001B[38;5;167;01mValueError\u001B[39;00m(\n\u001B[0;32m    319\u001B[0m         \u001B[38;5;124mf\u001B[39m\u001B[38;5;124m\"\u001B[39m\u001B[38;5;124mIPython won\u001B[39m\u001B[38;5;124m'\u001B[39m\u001B[38;5;124mt let you open fd=\u001B[39m\u001B[38;5;132;01m{\u001B[39;00mfile\u001B[38;5;132;01m}\u001B[39;00m\u001B[38;5;124m by default \u001B[39m\u001B[38;5;124m\"\u001B[39m\n\u001B[0;32m    320\u001B[0m         \u001B[38;5;124m\"\u001B[39m\u001B[38;5;124mas it is likely to crash IPython. If you know what you are doing, \u001B[39m\u001B[38;5;124m\"\u001B[39m\n\u001B[0;32m    321\u001B[0m         \u001B[38;5;124m\"\u001B[39m\u001B[38;5;124myou can use builtins\u001B[39m\u001B[38;5;124m'\u001B[39m\u001B[38;5;124m open.\u001B[39m\u001B[38;5;124m\"\u001B[39m\n\u001B[0;32m    322\u001B[0m     )\n\u001B[1;32m--> 324\u001B[0m \u001B[38;5;28;01mreturn\u001B[39;00m io_open(file, \u001B[38;5;241m*\u001B[39margs, \u001B[38;5;241m*\u001B[39m\u001B[38;5;241m*\u001B[39mkwargs)\n",
      "\u001B[1;31mFileNotFoundError\u001B[0m: [Errno 2] No such file or directory: 'file.txt'"
     ]
    }
   ],
   "source": [
    "# open()\n",
    "# open(file, mode='r', buffering=-1, encoding=None, \n",
    "    #  errors=None, newline=None, closefd=True, opener=None) \n",
    "# 用于打开一个文件，并返回对应的文件对象。常用模式包括 'r'（读取，默认）、'w'（写入，会先清空文件）、'a'（追加）等。\n",
    "\n",
    "\n",
    "f = open(\"file.txt\", 'r')\n",
    "print(f.read())\n",
    "f.close()"
   ]
  },
  {
   "cell_type": "code",
   "execution_count": 10,
   "metadata": {},
   "outputs": [
    {
     "name": "stdout",
     "output_type": "stream",
     "text": [
      "97\n"
     ]
    }
   ],
   "source": [
    "# ord()\n",
    "# ord(c) 函数返回字符 c 的Unicode编码值。这是 chr() 的逆函数。\n",
    "print(ord('a'))  # 输出: 97\n"
   ]
  },
  {
   "cell_type": "code",
   "execution_count": 11,
   "metadata": {},
   "outputs": [
    {
     "name": "stdout",
     "output_type": "stream",
     "text": [
      "8\n",
      "2\n"
     ]
    }
   ],
   "source": [
    "# pow()\n",
    "# pow(x, y[, z]) 函数返回 x 的 y 次幂。\n",
    "# 如果提供了 z，则返回 x 的 y 次幂后对 z 取模的结果。\n",
    "print(pow(2, 3))  # 输出: 8\n",
    "print(pow(2, 3, 3))  # 输出: 2\n"
   ]
  },
  {
   "cell_type": "code",
   "execution_count": 12,
   "metadata": {},
   "outputs": [],
   "source": [
    "# property()\n",
    "# property(fget=None, fset=None, fdel=None, doc=None) 返回一个属性值。\n",
    "# property 函数通常用在类定义中，可以将类方法转换为只读或可写的属性\n",
    "class C:\n",
    "    def __init__(self):\n",
    "        self._x = None\n",
    "\n",
    "    def getx(self):\n",
    "        return self._x\n",
    "\n",
    "    def setx(self, value):\n",
    "        self._x = value\n",
    "\n",
    "    def delx(self):\n",
    "        del self._x\n",
    "\n",
    "    x = property(getx, setx, delx, \"I'm the 'x' property.\")\n"
   ]
  },
  {
   "cell_type": "code",
   "execution_count": 13,
   "metadata": {},
   "outputs": [
    {
     "name": "stdout",
     "output_type": "stream",
     "text": [
      "{1, 2, 3, 4}\n"
     ]
    }
   ],
   "source": [
    "# set()\n",
    "# set([iterable]) 创建一个无序不重复元素集，可进行关系测试，\n",
    "# 删除重复数据，还可以计算交集、差集、并集等。\n",
    "\n",
    "print(set([2, 3, 1, 4, 3,2]))\n"
   ]
  },
  {
   "cell_type": "code",
   "execution_count": 14,
   "metadata": {},
   "outputs": [
    {
     "name": "stdout",
     "output_type": "stream",
     "text": [
      "lll\n"
     ]
    }
   ],
   "source": [
    "# setattr()\n",
    "# setattr(object, name, value) 函数用于设置属性值，该属性不一定是存在的。\n",
    "class PersonL:\n",
    "    name = \"zz\"\n",
    "p = PersonL()\n",
    "setattr(p, 'name', \"lll\")\n",
    "print(p.name)"
   ]
  },
  {
   "cell_type": "code",
   "execution_count": 15,
   "metadata": {},
   "outputs": [
    {
     "name": "stdout",
     "output_type": "stream",
     "text": [
      "[2, 4]\n"
     ]
    }
   ],
   "source": [
    "# slice()\n",
    "# slice(start, stop[, step]) 返回一个切片对象，\n",
    "# 表示由 range(start, stop, step) 指定的索引集。\n",
    "my_slice = slice(1, 5, 2)\n",
    "print([1, 2, 3, 4, 5][my_slice])  # 输出: [2, 4]\n"
   ]
  },
  {
   "cell_type": "code",
   "execution_count": 16,
   "metadata": {},
   "outputs": [
    {
     "name": "stdout",
     "output_type": "stream",
     "text": [
      "[1, 2, 3, 4, 5]\n"
     ]
    }
   ],
   "source": [
    "# sorted()\n",
    "# sorted(iterable, key=None, reverse=False) \n",
    "# 函数对所有可迭代的对象进行排序操作。\n",
    "print(sorted([2, 3, 4, 5 , 1]))"
   ]
  },
  {
   "cell_type": "code",
   "execution_count": 18,
   "metadata": {},
   "outputs": [
    {
     "data": {
      "text/plain": [
       "3"
      ]
     },
     "execution_count": 18,
     "metadata": {},
     "output_type": "execute_result"
    }
   ],
   "source": [
    "# staticmethod()\n",
    "# staticmethod(function) 转化一个方法为静态方法，\n",
    "# 静态方法不接收额外的第一个参数（如 self 或 cls）。\n",
    "class D:\n",
    "    @staticmethod\n",
    "    def f(arg1, arg2):\n",
    "        return arg1 + arg2\n",
    "D.f(1, 2)   # 这里其实并没有定义D这个class实例"
   ]
  },
  {
   "cell_type": "code",
   "execution_count": 19,
   "metadata": {},
   "outputs": [
    {
     "name": "stdout",
     "output_type": "stream",
     "text": [
      "100\n"
     ]
    }
   ],
   "source": [
    "# str()\n",
    "# str(object='') 用于创建字符串对象。如果不提供参数，创建空字符串。\n",
    "print(str(100))  # 输出: '100'\n"
   ]
  },
  {
   "cell_type": "code",
   "execution_count": 20,
   "metadata": {},
   "outputs": [
    {
     "name": "stdout",
     "output_type": "stream",
     "text": [
      "16\n"
     ]
    }
   ],
   "source": [
    "# sum()\n",
    "# sum(iterable, start) 函数对集合求和。\n",
    "print(sum([1, 2, 3], 10))  # 输出: 16\n"
   ]
  },
  {
   "cell_type": "code",
   "execution_count": 21,
   "metadata": {},
   "outputs": [
    {
     "name": "stdout",
     "output_type": "stream",
     "text": [
      "Base method, Child method\n"
     ]
    }
   ],
   "source": [
    "# super()\n",
    "# super([type[, object-or-type]]) 用于调用父类的方法。\n",
    "class Base:\n",
    "    def my_method(self):\n",
    "        return 'Base method'\n",
    "\n",
    "class Child(Base):\n",
    "    def my_method(self):\n",
    "        return super().my_method() + ', Child method'\n",
    "\n",
    "print(Child().my_method())  # 输出: Base method, Child method\n"
   ]
  },
  {
   "cell_type": "code",
   "execution_count": 22,
   "metadata": {},
   "outputs": [
    {
     "name": "stdout",
     "output_type": "stream",
     "text": [
      "(1, 2, 3)\n"
     ]
    }
   ],
   "source": [
    "# tuple()\n",
    "# tuple([iterable]) 用于创建一个不可变的序列类型。\n",
    "print(tuple([1, 2, 3]))  # 输出: (1, 2, 3)\n"
   ]
  },
  {
   "cell_type": "code",
   "execution_count": 23,
   "metadata": {},
   "outputs": [
    {
     "name": "stdout",
     "output_type": "stream",
     "text": [
      "{'a': 1, 'b': 2}\n"
     ]
    }
   ],
   "source": [
    "# vars()\n",
    "# vars([object]) 返回对象的 __dict__ 属性，\n",
    "# 包含了模块、类、实例或其他对象的所有属性。\n",
    "class MyClass:\n",
    "   def __init__(self):\n",
    "       self.a = 1\n",
    "       self.b = 2\n",
    "print(vars(MyClass()))  # 输出: {'a': 1, 'b': 2}\n"
   ]
  },
  {
   "cell_type": "code",
   "execution_count": null,
   "metadata": {},
   "outputs": [],
   "source": []
  },
  {
   "cell_type": "code",
   "execution_count": null,
   "metadata": {},
   "outputs": [],
   "source": []
  },
  {
   "cell_type": "code",
   "execution_count": null,
   "metadata": {},
   "outputs": [],
   "source": []
  },
  {
   "cell_type": "code",
   "execution_count": null,
   "metadata": {},
   "outputs": [],
   "source": []
  },
  {
   "cell_type": "code",
   "execution_count": null,
   "metadata": {},
   "outputs": [],
   "source": []
  },
  {
   "cell_type": "code",
   "execution_count": null,
   "metadata": {},
   "outputs": [],
   "source": []
  },
  {
   "cell_type": "code",
   "execution_count": null,
   "metadata": {},
   "outputs": [],
   "source": []
  },
  {
   "cell_type": "code",
   "execution_count": null,
   "metadata": {},
   "outputs": [],
   "source": []
  },
  {
   "cell_type": "code",
   "execution_count": null,
   "metadata": {},
   "outputs": [],
   "source": []
  },
  {
   "cell_type": "code",
   "execution_count": null,
   "metadata": {},
   "outputs": [],
   "source": []
  },
  {
   "cell_type": "code",
   "execution_count": null,
   "metadata": {},
   "outputs": [],
   "source": []
  },
  {
   "cell_type": "code",
   "execution_count": null,
   "metadata": {},
   "outputs": [],
   "source": []
  },
  {
   "cell_type": "code",
   "execution_count": null,
   "metadata": {},
   "outputs": [],
   "source": []
  },
  {
   "cell_type": "code",
   "execution_count": null,
   "metadata": {},
   "outputs": [],
   "source": []
  },
  {
   "cell_type": "code",
   "execution_count": null,
   "metadata": {},
   "outputs": [],
   "source": []
  },
  {
   "cell_type": "code",
   "execution_count": null,
   "metadata": {},
   "outputs": [],
   "source": []
  },
  {
   "cell_type": "code",
   "execution_count": null,
   "metadata": {},
   "outputs": [],
   "source": []
  },
  {
   "cell_type": "code",
   "execution_count": null,
   "metadata": {},
   "outputs": [],
   "source": []
  },
  {
   "cell_type": "code",
   "execution_count": null,
   "metadata": {},
   "outputs": [],
   "source": []
  },
  {
   "cell_type": "code",
   "execution_count": null,
   "metadata": {},
   "outputs": [],
   "source": []
  },
  {
   "cell_type": "code",
   "execution_count": null,
   "metadata": {},
   "outputs": [],
   "source": []
  },
  {
   "cell_type": "code",
   "execution_count": null,
   "metadata": {},
   "outputs": [],
   "source": []
  },
  {
   "cell_type": "code",
   "execution_count": null,
   "metadata": {},
   "outputs": [],
   "source": []
  },
  {
   "cell_type": "code",
   "execution_count": null,
   "metadata": {},
   "outputs": [],
   "source": []
  },
  {
   "cell_type": "code",
   "execution_count": null,
   "metadata": {},
   "outputs": [],
   "source": []
  },
  {
   "cell_type": "code",
   "execution_count": null,
   "metadata": {},
   "outputs": [],
   "source": []
  },
  {
   "cell_type": "code",
   "execution_count": null,
   "metadata": {},
   "outputs": [],
   "source": []
  },
  {
   "cell_type": "code",
   "execution_count": null,
   "metadata": {},
   "outputs": [],
   "source": []
  },
  {
   "cell_type": "code",
   "execution_count": null,
   "metadata": {},
   "outputs": [],
   "source": []
  }
 ],
 "metadata": {
  "kernelspec": {
   "display_name": "bianka",
   "language": "python",
   "name": "python3"
  },
  "language_info": {
   "codemirror_mode": {
    "name": "ipython",
    "version": 3
   },
   "file_extension": ".py",
   "mimetype": "text/x-python",
   "name": "python",
   "nbconvert_exporter": "python",
   "pygments_lexer": "ipython3",
   "version": "3.10.13"
  }
 },
 "nbformat": 4,
 "nbformat_minor": 2
}
