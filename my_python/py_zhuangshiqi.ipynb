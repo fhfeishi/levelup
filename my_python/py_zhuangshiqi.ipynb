{
 "cells": [
  {
   "cell_type": "markdown",
   "metadata": {},
   "source": [
    "# 装饰器   --python"
   ]
  },
  {
   "cell_type": "markdown",
   "source": [
    "### decorators是python中的一种高级功能，它允许你动态的修改函数或类的行为\n",
    "### 装饰器是一种函数，它接受一个函数作为参数，并返回一个新的函数或修改原来的函数\n",
    "### 装饰器的语法使用@decorator_name来应用在函数或方法上\n",
    "### python还提供了一些内置的装饰器decorator，比如@staticmethod @classmethod,用于静态方法和类方法"
   ],
   "metadata": {
    "collapsed": false
   }
  },
  {
   "cell_type": "markdown",
   "source": [
    "### 装饰器的使用场景\n",
    "#### 日志记录：装饰器可用于记录函数的调用信息、参数和返回值\n",
    "#### 性能分析：可以使用装饰器来测量函数的执行时间\n",
    "#### 权限控制：装饰器可用于限制对某些函数的访问权限\n",
    "#### 缓存：装饰器可用于实现函数结果的缓存，以提高性能"
   ],
   "metadata": {
    "collapsed": false
   }
  },
  {
   "cell_type": "markdown",
   "source": [
    "### 基本语法\n",
    "#### python装饰器允许在不修改原有函数代码的基础上，动态的增加或修改函数的功能，\n",
    "#### 装饰器本质上是一个接收函数作为输入并返回一个新的包装后的函数的对象"
   ],
   "metadata": {
    "collapsed": false
   }
  },
  {
   "cell_type": "code",
   "execution_count": 4,
   "metadata": {
    "ExecuteTime": {
     "end_time": "2024-04-10T14:20:51.239362800Z",
     "start_time": "2024-04-10T14:20:51.219999500Z"
    }
   },
   "outputs": [],
   "source": [
    "def decorator_function(original_function):\n",
    "    def wrapper(*args, **kwargs):\n",
    "        before_call_code()\n",
    "        \n",
    "        result = original_function(*args, **kwargs)\n",
    "\n",
    "        after_call_code()\n",
    "\n",
    "        return result\n",
    "    return wrapper\n",
    "\n",
    "# use decorator\n",
    "@decorator_function\n",
    "def target_function(arg1, arg2):\n",
    "    pass"
   ]
  },
  {
   "cell_type": "markdown",
   "metadata": {},
   "source": [
    "解析：decorator 是一个装饰器函数，它接受一个函数 func 作为参数，并返回一个内部函数 wrapper，在 wrapper 函数内部，\n",
    "你可以执行一些额外的操作，然后调用原始函数 func，并返回其结果。\n",
    "\n",
    "decorator_function 是装饰器，它接收一个函数 original_function 作为参数。\n",
    "wrapper 是内部函数，它是实际会被调用的新函数，它包裹了原始函数的调用，并在其前后增加了额外的行为。\n",
    "当我们使用 @decorator_function 前缀在 target_function 定义前，Python会自动将 target_function 作为参数传递给 decorator_function，然后将返回的 wrapper 函数替换掉原来的 target_function。"
   ]
  },
  {
   "cell_type": "markdown",
   "source": [],
   "metadata": {
    "collapsed": false
   }
  },
  {
   "cell_type": "code",
   "execution_count": null,
   "metadata": {},
   "outputs": [],
   "source": []
  },
  {
   "cell_type": "code",
   "execution_count": null,
   "metadata": {},
   "outputs": [],
   "source": []
  },
  {
   "cell_type": "code",
   "execution_count": null,
   "metadata": {},
   "outputs": [],
   "source": []
  },
  {
   "cell_type": "code",
   "execution_count": null,
   "metadata": {},
   "outputs": [],
   "source": []
  },
  {
   "cell_type": "code",
   "execution_count": null,
   "metadata": {},
   "outputs": [],
   "source": []
  },
  {
   "cell_type": "code",
   "execution_count": null,
   "metadata": {},
   "outputs": [],
   "source": []
  },
  {
   "cell_type": "code",
   "execution_count": null,
   "metadata": {},
   "outputs": [],
   "source": []
  },
  {
   "cell_type": "markdown",
   "metadata": {},
   "source": []
  }
 ],
 "metadata": {
  "kernelspec": {
   "display_name": "kiana",
   "language": "python",
   "name": "python3"
  },
  "language_info": {
   "codemirror_mode": {
    "name": "ipython",
    "version": 3
   },
   "file_extension": ".py",
   "mimetype": "text/x-python",
   "name": "python",
   "nbconvert_exporter": "python",
   "pygments_lexer": "ipython3",
   "version": "3.10.13"
  }
 },
 "nbformat": 4,
 "nbformat_minor": 2
}
