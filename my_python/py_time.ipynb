{
 "cells": [
  {
   "cell_type": "markdown",
   "metadata": {},
   "source": [
    "## python  time"
   ]
  },
  {
   "cell_type": "code",
   "execution_count": 1,
   "metadata": {},
   "outputs": [
    {
     "name": "stdout",
     "output_type": "stream",
     "text": [
      "['MAXYEAR', 'MINYEAR', '__all__', '__builtins__', '__cached__', '__doc__', '__file__', '__loader__', '__name__', '__package__', '__spec__', 'date', 'datetime', 'datetime_CAPI', 'sys', 'time', 'timedelta', 'timezone', 'tzinfo']\n"
     ]
    }
   ],
   "source": [
    "import datetime\n",
    "print(dir(datetime))"
   ]
  },
  {
   "cell_type": "code",
   "execution_count": 3,
   "metadata": {},
   "outputs": [
    {
     "name": "stdout",
     "output_type": "stream",
     "text": [
      "Help on class datetime in module datetime:\n",
      "\n",
      "class datetime(date)\n",
      " |  datetime(year, month, day[, hour[, minute[, second[, microsecond[,tzinfo]]]]])\n",
      " |  \n",
      " |  The year, month and day arguments are required. tzinfo may be None, or an\n",
      " |  instance of a tzinfo subclass. The remaining arguments may be ints.\n",
      " |  \n",
      " |  Method resolution order:\n",
      " |      datetime\n",
      " |      date\n",
      " |      builtins.object\n",
      " |  \n",
      " |  Methods defined here:\n",
      " |  \n",
      " |  __add__(self, value, /)\n",
      " |      Return self+value.\n",
      " |  \n",
      " |  __eq__(self, value, /)\n",
      " |      Return self==value.\n",
      " |  \n",
      " |  __ge__(self, value, /)\n",
      " |      Return self>=value.\n",
      " |  \n",
      " |  __getattribute__(self, name, /)\n",
      " |      Return getattr(self, name).\n",
      " |  \n",
      " |  __gt__(self, value, /)\n",
      " |      Return self>value.\n",
      " |  \n",
      " |  __hash__(self, /)\n",
      " |      Return hash(self).\n",
      " |  \n",
      " |  __le__(self, value, /)\n",
      " |      Return self<=value.\n",
      " |  \n",
      " |  __lt__(self, value, /)\n",
      " |      Return self<value.\n",
      " |  \n",
      " |  __ne__(self, value, /)\n",
      " |      Return self!=value.\n",
      " |  \n",
      " |  __radd__(self, value, /)\n",
      " |      Return value+self.\n",
      " |  \n",
      " |  __reduce__(...)\n",
      " |      __reduce__() -> (cls, state)\n",
      " |  \n",
      " |  __reduce_ex__(...)\n",
      " |      __reduce_ex__(proto) -> (cls, state)\n",
      " |  \n",
      " |  __repr__(self, /)\n",
      " |      Return repr(self).\n",
      " |  \n",
      " |  __rsub__(self, value, /)\n",
      " |      Return value-self.\n",
      " |  \n",
      " |  __str__(self, /)\n",
      " |      Return str(self).\n",
      " |  \n",
      " |  __sub__(self, value, /)\n",
      " |      Return self-value.\n",
      " |  \n",
      " |  astimezone(...)\n",
      " |      tz -> convert to local time in new timezone tz\n",
      " |  \n",
      " |  ctime(...)\n",
      " |      Return ctime() style string.\n",
      " |  \n",
      " |  date(...)\n",
      " |      Return date object with same year, month and day.\n",
      " |  \n",
      " |  dst(...)\n",
      " |      Return self.tzinfo.dst(self).\n",
      " |  \n",
      " |  isoformat(...)\n",
      " |      [sep] -> string in ISO 8601 format, YYYY-MM-DDT[HH[:MM[:SS[.mmm[uuu]]]]][+HH:MM].\n",
      " |      sep is used to separate the year from the time, and defaults to 'T'.\n",
      " |      The optional argument timespec specifies the number of additional terms\n",
      " |      of the time to include. Valid options are 'auto', 'hours', 'minutes',\n",
      " |      'seconds', 'milliseconds' and 'microseconds'.\n",
      " |  \n",
      " |  replace(...)\n",
      " |      Return datetime with new specified fields.\n",
      " |  \n",
      " |  time(...)\n",
      " |      Return time object with same time but with tzinfo=None.\n",
      " |  \n",
      " |  timestamp(...)\n",
      " |      Return POSIX timestamp as float.\n",
      " |  \n",
      " |  timetuple(...)\n",
      " |      Return time tuple, compatible with time.localtime().\n",
      " |  \n",
      " |  timetz(...)\n",
      " |      Return time object with same time and tzinfo.\n",
      " |  \n",
      " |  tzname(...)\n",
      " |      Return self.tzinfo.tzname(self).\n",
      " |  \n",
      " |  utcoffset(...)\n",
      " |      Return self.tzinfo.utcoffset(self).\n",
      " |  \n",
      " |  utctimetuple(...)\n",
      " |      Return UTC time tuple, compatible with time.localtime().\n",
      " |  \n",
      " |  ----------------------------------------------------------------------\n",
      " |  Class methods defined here:\n",
      " |  \n",
      " |  combine(...) from builtins.type\n",
      " |      date, time -> datetime with same date and time fields\n",
      " |  \n",
      " |  fromisoformat(...) from builtins.type\n",
      " |      string -> datetime from datetime.isoformat() output\n",
      " |  \n",
      " |  fromtimestamp(...) from builtins.type\n",
      " |      timestamp[, tz] -> tz's local time from POSIX timestamp.\n",
      " |  \n",
      " |  now(tz=None) from builtins.type\n",
      " |      Returns new datetime object representing current time local to tz.\n",
      " |      \n",
      " |        tz\n",
      " |          Timezone object.\n",
      " |      \n",
      " |      If no tz is specified, uses local timezone.\n",
      " |  \n",
      " |  strptime(...) from builtins.type\n",
      " |      string, format -> new datetime parsed from a string (like time.strptime()).\n",
      " |  \n",
      " |  utcfromtimestamp(...) from builtins.type\n",
      " |      Construct a naive UTC datetime from a POSIX timestamp.\n",
      " |  \n",
      " |  utcnow(...) from builtins.type\n",
      " |      Return a new datetime representing UTC day and time.\n",
      " |  \n",
      " |  ----------------------------------------------------------------------\n",
      " |  Static methods defined here:\n",
      " |  \n",
      " |  __new__(*args, **kwargs) from builtins.type\n",
      " |      Create and return a new object.  See help(type) for accurate signature.\n",
      " |  \n",
      " |  ----------------------------------------------------------------------\n",
      " |  Data descriptors defined here:\n",
      " |  \n",
      " |  fold\n",
      " |  \n",
      " |  hour\n",
      " |  \n",
      " |  microsecond\n",
      " |  \n",
      " |  minute\n",
      " |  \n",
      " |  second\n",
      " |  \n",
      " |  tzinfo\n",
      " |  \n",
      " |  ----------------------------------------------------------------------\n",
      " |  Data and other attributes defined here:\n",
      " |  \n",
      " |  max = datetime.datetime(9999, 12, 31, 23, 59, 59, 999999)\n",
      " |  \n",
      " |  min = datetime.datetime(1, 1, 1, 0, 0)\n",
      " |  \n",
      " |  resolution = datetime.timedelta(microseconds=1)\n",
      " |  \n",
      " |  ----------------------------------------------------------------------\n",
      " |  Methods inherited from date:\n",
      " |  \n",
      " |  __format__(...)\n",
      " |      Formats self with strftime.\n",
      " |  \n",
      " |  isocalendar(...)\n",
      " |      Return a named tuple containing ISO year, week number, and weekday.\n",
      " |  \n",
      " |  isoweekday(...)\n",
      " |      Return the day of the week represented by the date.\n",
      " |      Monday == 1 ... Sunday == 7\n",
      " |  \n",
      " |  strftime(...)\n",
      " |      format -> strftime() style string.\n",
      " |  \n",
      " |  toordinal(...)\n",
      " |      Return proleptic Gregorian ordinal.  January 1 of year 1 is day 1.\n",
      " |  \n",
      " |  weekday(...)\n",
      " |      Return the day of the week represented by the date.\n",
      " |      Monday == 0 ... Sunday == 6\n",
      " |  \n",
      " |  ----------------------------------------------------------------------\n",
      " |  Class methods inherited from date:\n",
      " |  \n",
      " |  fromisocalendar(...) from builtins.type\n",
      " |      int, int, int -> Construct a date from the ISO year, week number and weekday.\n",
      " |      \n",
      " |      This is the inverse of the date.isocalendar() function\n",
      " |  \n",
      " |  fromordinal(...) from builtins.type\n",
      " |      int -> date corresponding to a proleptic Gregorian ordinal.\n",
      " |  \n",
      " |  today(...) from builtins.type\n",
      " |      Current date or datetime:  same as self.__class__.fromtimestamp(time.time()).\n",
      " |  \n",
      " |  ----------------------------------------------------------------------\n",
      " |  Data descriptors inherited from date:\n",
      " |  \n",
      " |  day\n",
      " |  \n",
      " |  month\n",
      " |  \n",
      " |  year\n",
      "\n"
     ]
    }
   ],
   "source": [
    "help(datetime)"
   ]
  },
  {
   "cell_type": "code",
   "execution_count": 4,
   "metadata": {},
   "outputs": [
    {
     "name": "stdout",
     "output_type": "stream",
     "text": [
      "2024-04-08 23:12:49.092155\n",
      "8 4 2024 23 12\n",
      "timestamp 1712589169.092155\n",
      "8/4/2024, 23:12\n"
     ]
    }
   ],
   "source": [
    "from datetime import datetime\n",
    "now = datetime.now()\n",
    "print(now)                      # 2024-04-08 23:12:49.092155\n",
    "day = now.day                   # 8\n",
    "month = now.month               # 4\n",
    "year = now.year                 # 2024\n",
    "hour = now.hour                 # 23\n",
    "minute = now.minute             # 12\n",
    "second = now.second\n",
    "timestamp = now.timestamp()\n",
    "print(day, month, year, hour, minute)\n",
    "print('timestamp', timestamp)  \n",
    "print(f'{day}/{month}/{year}, {hour}:{minute}')  # 8/4/2024, 23:12"
   ]
  },
  {
   "cell_type": "code",
   "execution_count": 6,
   "metadata": {},
   "outputs": [
    {
     "name": "stdout",
     "output_type": "stream",
     "text": [
      "2024-01-01 00:00:00\n",
      "1 1 2024 0 0\n",
      "1/1/2024, 0:0\n"
     ]
    }
   ],
   "source": [
    "# formatting date output using strftime\n",
    "from datetime import datetime\n",
    "new_year = datetime(2024, 1, 1)\n",
    "print(new_year)\n",
    "day = new_year.day\n",
    "month = new_year.month\n",
    "year = new_year.year\n",
    "hour = new_year.hour\n",
    "minute = new_year.minute\n",
    "second = new_year.second\n",
    "print(day, month, year, hour, minute)\n",
    "print(f\"{day}/{month}/{year}, {hour}:{minute}\")"
   ]
  },
  {
   "cell_type": "code",
   "execution_count": 12,
   "metadata": {},
   "outputs": [
    {
     "name": "stdout",
     "output_type": "stream",
     "text": [
      "type-now: <class 'datetime.datetime'>\n",
      "time: 23:33:42\n",
      "type-t: <class 'str'>\n",
      "time one: 04/08/2024, 23:/33:/42\n",
      "time two: 08/04/2024, 23:/33:/42\n",
      "time three: 08/04/24, 23:/33:/42\n"
     ]
    }
   ],
   "source": [
    "# formatting date time using strftime method \n",
    "from datetime import datetime\n",
    "now = datetime.now()\n",
    "print(\"type-now:\",type(now))                      # type-now: <class 'datetime.datetime'>\n",
    "t = now.strftime(\"%H:%M:%S\")\n",
    "print(\"time:\", t)                                 # time: 23:27:00\n",
    "print(\"type-t:\",type(t))                          # type-t: <class 'str'>\n",
    "time_one = now.strftime(\"%m/%d/%Y, %H:/%M:/%S\")\n",
    "# m/d/Y H:M:S\n",
    "print(\"time one:\", time_one)                      # time one: 04/08/2024, 23:/27:/00\n",
    "time_two = now.strftime(\"%d/%m/%Y, %H:/%M:/%S\")\n",
    "# d/m/y H:M:S\n",
    "print(\"time two:\", time_two)                      # time two: 08/04/2024, 23:/27:/00\n",
    "time_three = now.strftime(\"%d/%m/%y, %H:/%M:/%S\")\n",
    "# d/m/y H:M:S\n",
    "print(\"time three:\", time_three)                  # time three: 08/04/24, 23:/28:/24\n"
   ]
  },
  {
   "cell_type": "code",
   "execution_count": 14,
   "metadata": {},
   "outputs": [
    {
     "name": "stdout",
     "output_type": "stream",
     "text": [
      "date_string = 5 December, 2023\n",
      "date_object = 2023-12-05 00:00:00\n"
     ]
    }
   ],
   "source": [
    "# string to time using strptime\n",
    "from datetime import datetime\n",
    "date_string = \"5 December, 2023\"\n",
    "print(\"date_string =\", date_string)     # date_string = 5 December, 2023\n",
    "date_object = datetime.strptime(date_string, \"%d %B, %Y\")\n",
    "print(\"date_object =\", date_object)     # date_object = 2023-12-05 00:00:00\n",
    "\n"
   ]
  },
  {
   "cell_type": "code",
   "execution_count": 15,
   "metadata": {},
   "outputs": [
    {
     "name": "stdout",
     "output_type": "stream",
     "text": [
      "type-d: <class 'datetime.date'>\n",
      "2024-04-04\n",
      "current date: 2024-04-08\n",
      "current year: 2024\n",
      "current month: 4\n",
      "current day: 8\n"
     ]
    }
   ],
   "source": [
    "# using date from datetime\n",
    "from datetime import date\n",
    "d = date(2024, 4, 4)                      \n",
    "print(\"type-d:\", type(d))                # type-d: <class 'datetime.date'>\n",
    "print(d)                                 # 2024-04-04\n",
    "print(\"current date:\", d.today())        # current date: 2024-04-08\n",
    "\n",
    "today = date.today()\n",
    "print(\"current year:\", today.year)       # current year: 2024\n",
    "print(\"current month:\", today.month)     # current month: 4\n",
    "print(\"current day:\", today.day)         # current day: 8\n",
    "\n"
   ]
  },
  {
   "cell_type": "code",
   "execution_count": 22,
   "metadata": {},
   "outputs": [
    {
     "name": "stdout",
     "output_type": "stream",
     "text": [
      "00:00:00\n",
      "type a: <class 'datetime.time'>\n",
      "b = 10:20:30\n",
      "c = 10:20:30\n",
      "d = 10:20:30.004000\n"
     ]
    }
   ],
   "source": [
    "# time objects to represent time\n",
    "from datetime import time\n",
    "\n",
    "# time(hour=0, minute=0, second=0)\n",
    "a = time()\n",
    "print(a)                           # 00:00:00\n",
    "print(\"type a:\", type(a))          # type z: <class 'datetime.time'>\n",
    "\n",
    "# time(hour, minute and second)\n",
    "b = time(10, 20, 30)\n",
    "print(\"b =\", b)                                  # b = 10:20:30\n",
    "c = time(hour=10, minute=20, second=30)\n",
    "print(\"c =\", c)                                  # c = 10:20:30\n",
    "\n",
    "# time(hour, minute, second, microsecond)\n",
    "d = time(10, 20, 30, 4000) \n",
    "print(\"d =\", d)                                  # d = 10:20:30.004000"
   ]
  },
  {
   "cell_type": "code",
   "execution_count": 29,
   "metadata": {},
   "outputs": [
    {
     "name": "stdout",
     "output_type": "stream",
     "text": [
      "time left for new year: 29 days, 0:00:00\n",
      "type t1: <class 'datetime.datetime'>\n",
      "30 days, 23:59:59\n"
     ]
    }
   ],
   "source": [
    "# difference between two point in time using\n",
    "\n",
    "today = date(year=2019, month=12, day=3)\n",
    "new_year = date(year=2020, month=1, day=1)\n",
    "time_left_for_new_year = new_year - today\n",
    "print(\"time left for new year:\", time_left_for_new_year)        # time left for new year: 29 days, 0:00:00\n",
    "\n",
    "t1 = datetime(year=2024, month=1, day=2, minute=3, second=0)\n",
    "print(\"type t1:\", type(t1))                                     # type t1: <class 'datetime.datetime'>\n",
    "t2 = datetime(year=2023, month=12, day=2, minute=3, second=1)\n",
    "diff = t1 - t2\n",
    "print(diff)                                                    # 30 days, 23:59:59\n"
   ]
  },
  {
   "cell_type": "code",
   "execution_count": 28,
   "metadata": {},
   "outputs": [
    {
     "name": "stdout",
     "output_type": "stream",
     "text": [
      "type t1: <class 'datetime.timedelta'>\n",
      "87 days, 21:56:16\n"
     ]
    }
   ],
   "source": [
    "# difference between two points in time using timedelta\n",
    "from datetime import timedelta\n",
    "t1 = timedelta(weeks=12, days=10, hours=2, seconds=12)\n",
    "print(\"type t1:\", type(t1))                                # type t1: <class 'datetime.timedelta'>\n",
    "t2 = timedelta(days=6, hours=4, minutes=3, seconds=56)\n",
    "t3 = t1 - t2\n",
    "print(t3)                                                   # 87 days, 21:56:16\n"
   ]
  },
  {
   "cell_type": "code",
   "execution_count": null,
   "metadata": {},
   "outputs": [],
   "source": []
  }
 ],
 "metadata": {
  "kernelspec": {
   "display_name": "kiana",
   "language": "python",
   "name": "python3"
  },
  "language_info": {
   "codemirror_mode": {
    "name": "ipython",
    "version": 3
   },
   "file_extension": ".py",
   "mimetype": "text/x-python",
   "name": "python",
   "nbconvert_exporter": "python",
   "pygments_lexer": "ipython3",
   "version": "3.10.13"
  }
 },
 "nbformat": 4,
 "nbformat_minor": 2
}
