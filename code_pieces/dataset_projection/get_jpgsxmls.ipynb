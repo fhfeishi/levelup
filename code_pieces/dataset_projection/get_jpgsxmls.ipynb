{
 "cells": [
  {
   "cell_type": "markdown",
   "metadata": {},
   "source": [
    "# get object-detection dataset: *.jpg, *.xml"
   ]
  },
  {
   "cell_type": "code",
   "execution_count": 1,
   "metadata": {},
   "outputs": [
    {
     "name": "stderr",
     "output_type": "stream",
     "text": [
      "  1%|          | 5/654 [00:00<00:26, 24.43it/s]"
     ]
    },
    {
     "name": "stdout",
     "output_type": "stream",
     "text": [
      "others101-开关 C相 SF6密度继电器 done\n",
      "others104-开关 C相 SF6密度继电器 done\n",
      "others108-开关 B相 SF6密度继电器 done\n",
      "others66-开关 C相 SF6密度继电器 done\n",
      "others67-5063开关 done\n",
      "others68-端子箱 done\n"
     ]
    },
    {
     "name": "stderr",
     "output_type": "stream",
     "text": [
      "  2%|▏         | 11/654 [00:00<00:23, 26.81it/s]"
     ]
    },
    {
     "name": "stdout",
     "output_type": "stream",
     "text": [
      "others68-通道设备 done\n",
      "others69-开关 B相 SF6密度继电器 done\n",
      "others69-端子箱 done\n",
      "others70-5063开关 done\n",
      "others70-端子箱 done\n",
      "others72-20231104154815813526456649483296 done\n"
     ]
    },
    {
     "name": "stderr",
     "output_type": "stream",
     "text": [
      "  3%|▎         | 17/654 [00:00<00:23, 26.85it/s]"
     ]
    },
    {
     "name": "stdout",
     "output_type": "stream",
     "text": [
      "others72-端子箱 done\n",
      "others72-通道设备 done\n",
      "others73-20231104154821208963942445860668 done\n",
      "others73-开关 A相 SF6密度继电器 done\n",
      "others75-20231104154831314762715502786817 done\n",
      "others80-20231104154858338886701631336464 done\n"
     ]
    },
    {
     "name": "stderr",
     "output_type": "stream",
     "text": [
      "  4%|▎         | 23/654 [00:00<00:22, 27.65it/s]"
     ]
    },
    {
     "name": "stdout",
     "output_type": "stream",
     "text": [
      "others81-20231104154903413822079128095832 done\n",
      "others82-C相 SF6密度继电器 done\n",
      "others83-20231104154912269515052379513486 done\n",
      "others83-B相 SF6密度继电器 done\n",
      "others85-20231104154922233997474490600665 done\n",
      "others86-20231104154925631032071342785879 done\n"
     ]
    },
    {
     "name": "stderr",
     "output_type": "stream",
     "text": [
      "  4%|▍         | 26/654 [00:00<00:22, 27.73it/s]"
     ]
    },
    {
     "name": "stdout",
     "output_type": "stream",
     "text": [
      "others86-5062开关 done\n",
      "others87-20231104154931057405677476412807 done\n",
      "others90-20231104154951588116113939931985 done\n",
      "others90-5062开关 done\n"
     ]
    },
    {
     "name": "stderr",
     "output_type": "stream",
     "text": [
      "  5%|▍         | 32/654 [00:01<00:25, 24.80it/s]"
     ]
    },
    {
     "name": "stdout",
     "output_type": "stream",
     "text": [
      "others90-A相 SF6密度继电器 done\n",
      "others93-20231104155004577968324534103859 done\n",
      "others94-20231104155509885921911794387041 done\n",
      "others95-20231104155009571325609289420149 done\n",
      "shantou_1 done\n",
      "shantou_10 done\n",
      "shantou_100 done\n",
      "shantou_12 done\n",
      "shantou_13 done\n",
      "shantou_15 done\n",
      "shantou_16 done\n",
      "shantou_18 done\n",
      "shantou_20 done\n",
      "shantou_21 done\n"
     ]
    },
    {
     "name": "stderr",
     "output_type": "stream",
     "text": [
      "  7%|▋         | 49/654 [00:01<00:13, 46.26it/s]"
     ]
    },
    {
     "name": "stdout",
     "output_type": "stream",
     "text": [
      "shantou_22 done\n",
      "shantou_23 done\n",
      "shantou_24 done\n",
      "shantou_25 done\n",
      "shantou_27 done\n",
      "shantou_28 done\n",
      "shantou_29 done\n",
      "shantou_3 done\n",
      "shantou_31 done\n",
      "shantou_32 done\n"
     ]
    },
    {
     "name": "stderr",
     "output_type": "stream",
     "text": [
      " 10%|▉         | 63/654 [00:01<00:10, 55.17it/s]"
     ]
    },
    {
     "name": "stdout",
     "output_type": "stream",
     "text": [
      "shantou_33 done\n",
      "shantou_34 done\n",
      "shantou_35 done\n",
      "shantou_36 done\n",
      "shantou_37 done\n",
      "shantou_39 done\n",
      "shantou_40 done\n",
      "shantou_41 done\n",
      "shantou_42 done\n",
      "shantou_43 done\n",
      "shantou_44 done\n",
      "shantou_45 done\n",
      "shantou_46 done\n",
      "shantou_47 done\n"
     ]
    },
    {
     "name": "stderr",
     "output_type": "stream",
     "text": [
      " 16%|█▋        | 107/654 [00:01<00:03, 142.43it/s]"
     ]
    },
    {
     "name": "stdout",
     "output_type": "stream",
     "text": [
      "shantou_48 done\n",
      "shantou_49 done\n",
      "shantou_5 done\n",
      "shantou_50 done\n",
      "shantou_51 done\n",
      "shantou_52 done\n",
      "shantou_53 done\n",
      "shantou_54 done\n",
      "shantou_55 done\n",
      "shantou_56 done\n",
      "shantou_58 done\n",
      "shantou_6 done\n",
      "shantou_62 done\n",
      "shantou_63 done\n",
      "shantou_64 done\n",
      "shantou_65 done\n",
      "shantou_66 done\n",
      "shantou_67 done\n",
      "shantou_68 done\n",
      "shantou_69 done\n",
      "shantou_7 done\n",
      "shantou_71 done\n",
      "shantou_73 done\n",
      "shantou_75 done\n",
      "shantou_77 done\n",
      "shantou_78 done\n",
      "shantou_79 done\n",
      "shantou_8 done\n",
      "shantou_81 done\n",
      "shantou_82 done\n",
      "shantou_83 done\n",
      "shantou_84 done\n",
      "shantou_85 done\n",
      "shantou_86 done\n",
      "shantou_87 done\n",
      "shantou_89 done\n",
      "shantou_9 done\n",
      "shantou_90 done\n",
      "shantou_94 done\n",
      "shantou_95 done\n",
      "shantou_97 done\n",
      "shantou_99 done\n",
      "shaoguan_shaoguan_巡检图片 (1) done\n",
      "shaoguan_shaoguan_巡检图片 (10) done\n",
      "shaoguan_shaoguan_巡检图片 (100) done\n",
      "shaoguan_shaoguan_巡检图片 (101) done\n",
      "shaoguan_shaoguan_巡检图片 (103) done\n",
      "shaoguan_shaoguan_巡检图片 (104) done\n",
      "shaoguan_shaoguan_巡检图片 (105) done\n"
     ]
    },
    {
     "name": "stderr",
     "output_type": "stream",
     "text": [
      " 19%|█▊        | 122/654 [00:02<00:04, 112.38it/s]"
     ]
    },
    {
     "name": "stdout",
     "output_type": "stream",
     "text": [
      "shaoguan_shaoguan_巡检图片 (106) done\n",
      "shaoguan_shaoguan_巡检图片 (107) done\n",
      "shaoguan_shaoguan_巡检图片 (108) done\n",
      "shaoguan_shaoguan_巡检图片 (109) done\n",
      "shaoguan_shaoguan_巡检图片 (11) done\n",
      "shaoguan_shaoguan_巡检图片 (110) done\n",
      "shaoguan_shaoguan_巡检图片 (113) done\n",
      "shaoguan_shaoguan_巡检图片 (115) done\n",
      "shaoguan_shaoguan_巡检图片 (117) done\n",
      "shaoguan_shaoguan_巡检图片 (119) done\n",
      "shaoguan_shaoguan_巡检图片 (12) done\n",
      "shaoguan_shaoguan_巡检图片 (120) done\n",
      "shaoguan_shaoguan_巡检图片 (121) done\n",
      "shaoguan_shaoguan_巡检图片 (122) done\n",
      "shaoguan_shaoguan_巡检图片 (124) done\n",
      "shaoguan_shaoguan_巡检图片 (125) done\n",
      "shaoguan_shaoguan_巡检图片 (126) done\n",
      "shaoguan_shaoguan_巡检图片 (127) done\n",
      "shaoguan_shaoguan_巡检图片 (131) done\n",
      "shaoguan_shaoguan_巡检图片 (132) done\n",
      "shaoguan_shaoguan_巡检图片 (14) done\n",
      "shaoguan_shaoguan_巡检图片 (15) done\n",
      "shaoguan_shaoguan_巡检图片 (16) done\n"
     ]
    },
    {
     "name": "stderr",
     "output_type": "stream",
     "text": [
      " 21%|██▏       | 139/654 [00:02<00:04, 124.49it/s]"
     ]
    },
    {
     "name": "stdout",
     "output_type": "stream",
     "text": [
      "shaoguan_shaoguan_巡检图片 (18) done\n",
      "shaoguan_shaoguan_巡检图片 (19) done\n",
      "shaoguan_shaoguan_巡检图片 (2) done\n",
      "shaoguan_shaoguan_巡检图片 (24) done\n",
      "shaoguan_shaoguan_巡检图片 (33) done\n",
      "shaoguan_shaoguan_巡检图片 (34) done\n",
      "shaoguan_shaoguan_巡检图片 (35) done\n",
      "shaoguan_shaoguan_巡检图片 (36) done\n",
      "shaoguan_shaoguan_巡检图片 (39) done\n",
      "shaoguan_shaoguan_巡检图片 (4) done\n",
      "shaoguan_shaoguan_巡检图片 (40) done\n",
      "shaoguan_shaoguan_巡检图片 (41) done\n",
      "shaoguan_shaoguan_巡检图片 (43) done\n",
      "shaoguan_shaoguan_巡检图片 (45) done\n"
     ]
    },
    {
     "name": "stderr",
     "output_type": "stream",
     "text": [
      " 25%|██▌       | 165/654 [00:02<00:05, 95.30it/s] "
     ]
    },
    {
     "name": "stdout",
     "output_type": "stream",
     "text": [
      "shaoguan_shaoguan_巡检图片 (46) done\n",
      "shaoguan_shaoguan_巡检图片 (48) done\n",
      "shaoguan_shaoguan_巡检图片 (49) done\n",
      "shaoguan_shaoguan_巡检图片 (5) done\n",
      "shaoguan_shaoguan_巡检图片 (50) done\n",
      "shaoguan_shaoguan_巡检图片 (52) done\n",
      "shaoguan_shaoguan_巡检图片 (60) done\n",
      "shaoguan_shaoguan_巡检图片 (61) done\n",
      "shaoguan_shaoguan_巡检图片 (62) done\n",
      "shaoguan_shaoguan_巡检图片 (63) done\n",
      "shaoguan_shaoguan_巡检图片 (64) done\n",
      "shaoguan_shaoguan_巡检图片 (65) done\n",
      "shaoguan_shaoguan_巡检图片 (66) done\n",
      "shaoguan_shaoguan_巡检图片 (68) done\n",
      "shaoguan_shaoguan_巡检图片 (69) done\n"
     ]
    },
    {
     "name": "stderr",
     "output_type": "stream",
     "text": [
      " 27%|██▋       | 176/654 [00:02<00:05, 83.19it/s]"
     ]
    },
    {
     "name": "stdout",
     "output_type": "stream",
     "text": [
      "shaoguan_shaoguan_巡检图片 (7) done\n",
      "shaoguan_shaoguan_巡检图片 (71) done\n",
      "shaoguan_shaoguan_巡检图片 (72) done\n",
      "shaoguan_shaoguan_巡检图片 (73) done\n",
      "shaoguan_shaoguan_巡检图片 (74) done\n",
      "shaoguan_shaoguan_巡检图片 (75) done\n",
      "shaoguan_shaoguan_巡检图片 (76) done\n",
      "shaoguan_shaoguan_巡检图片 (77) done\n",
      "shaoguan_shaoguan_巡检图片 (78) done\n",
      "shaoguan_shaoguan_巡检图片 (8) done\n",
      "shaoguan_shaoguan_巡检图片 (83) done\n",
      "shaoguan_shaoguan_巡检图片 (84) done\n",
      "shaoguan_shaoguan_巡检图片 (89) done\n",
      "shaoguan_shaoguan_巡检图片 (9) done\n"
     ]
    },
    {
     "name": "stderr",
     "output_type": "stream",
     "text": [
      " 28%|██▊       | 186/654 [00:03<00:06, 66.96it/s]"
     ]
    },
    {
     "name": "stdout",
     "output_type": "stream",
     "text": [
      "shaoguan_shaoguan_巡检图片 (94) done\n",
      "shaoguan_shaoguan_巡检图片 (95) done\n",
      "shaoguan_shaoguan_巡检图片 (97) done\n",
      "shaoguan_shaoguan_巡检图片 (98) done\n",
      "shaoguan_shaoguan_巡检图片 (99) done\n",
      "shaoguan_巡检图片 (10) done\n",
      "shaoguan_巡检图片 (11) done\n",
      "shaoguan_巡检图片 (14) done\n",
      "shaoguan_巡检图片 (15) done\n",
      "shaoguan_巡检图片 (16) done\n",
      "shaoguan_巡检图片 (17) done\n"
     ]
    },
    {
     "name": "stderr",
     "output_type": "stream",
     "text": [
      " 31%|███       | 202/654 [00:03<00:09, 49.40it/s]"
     ]
    },
    {
     "name": "stdout",
     "output_type": "stream",
     "text": [
      "shaoguan_巡检图片 (18) done\n",
      "shaoguan_巡检图片 (19) done\n",
      "shaoguan_巡检图片 (2) done\n",
      "shaoguan_巡检图片 (21) done\n",
      "shaoguan_巡检图片 (22) done\n",
      "shaoguan_巡检图片 (23) done\n",
      "shaoguan_巡检图片 (24) done\n",
      "shaoguan_巡检图片 (25) done\n",
      "shaoguan_巡检图片 (27) done\n",
      "shaoguan_巡检图片 (28) done\n",
      "shaoguan_巡检图片 (29) done\n",
      "shaoguan_巡检图片 (3) done\n",
      "shaoguan_巡检图片 (30) done\n",
      "shaoguan_巡检图片 (33) done\n",
      "shaoguan_巡检图片 (34) done\n",
      "shaoguan_巡检图片 (38) done\n",
      "shaoguan_巡检图片 (40) done\n",
      "shaoguan_巡检图片 (42) done\n",
      "shaoguan_巡检图片 (43) done\n"
     ]
    },
    {
     "name": "stderr",
     "output_type": "stream",
     "text": [
      " 34%|███▎      | 220/654 [00:03<00:07, 56.16it/s]"
     ]
    },
    {
     "name": "stdout",
     "output_type": "stream",
     "text": [
      "shaoguan_巡检图片 (5) done\n",
      "shaoguan_巡检图片 (53) done\n",
      "shaoguan_巡检图片 (54) done\n",
      "shaoguan_巡检图片 (55) done\n",
      "shaoguan_巡检图片 (56) done\n",
      "shaoguan_巡检图片 (57) done\n",
      "shaoguan_巡检图片 (6) done\n",
      "shaoguan_巡检图片 (60) done\n",
      "shaoguan_巡检图片 (61) done\n"
     ]
    },
    {
     "name": "stderr",
     "output_type": "stream",
     "text": [
      " 35%|███▍      | 227/654 [00:03<00:08, 52.44it/s]"
     ]
    },
    {
     "name": "stdout",
     "output_type": "stream",
     "text": [
      "shaoguan_巡检图片 (7) done\n",
      "shaoguan_巡检图片 (8) done\n",
      "shaoguan_巡检图片 (80) done\n",
      "shaoguan_巡检图片 (82) done\n",
      "shaoguan_巡检图片 (85) done\n",
      "shaoguan_巡检图片 (87) done\n",
      "shaoguan_巡检图片 (88) done\n",
      "shaoguan_巡检图片 (90) done\n"
     ]
    },
    {
     "name": "stderr",
     "output_type": "stream",
     "text": [
      " 36%|███▌      | 233/654 [00:04<00:09, 44.58it/s]"
     ]
    },
    {
     "name": "stdout",
     "output_type": "stream",
     "text": [
      "shaoguan_巡检图片 (91) done\n",
      "shaoguan_巡检图片 (92) done\n",
      "shaoguan_巡检图片 done\n",
      "yangjiang_1-1030开关 done\n",
      "yangjiang_1-1103开关 done\n",
      "yangjiang_1-1223开关_1 done\n",
      "yangjiang_1-1225开关 done\n"
     ]
    },
    {
     "name": "stderr",
     "output_type": "stream",
     "text": [
      " 36%|███▋      | 238/654 [00:04<00:10, 40.17it/s]"
     ]
    },
    {
     "name": "stdout",
     "output_type": "stream",
     "text": [
      "yangjiang_1-1242开关 done\n",
      "yangjiang_1-1279开关 done\n",
      "yangjiang_1-1279开关_2 done\n"
     ]
    },
    {
     "name": "stderr",
     "output_type": "stream",
     "text": [
      " 37%|███▋      | 243/654 [00:04<00:16, 25.34it/s]"
     ]
    },
    {
     "name": "stdout",
     "output_type": "stream",
     "text": [
      "yangjiang_1-20240707122839157853643485129867 done\n",
      "yangjiang_1-4313开关 done\n",
      "yangjiang_10-1274开关 done\n",
      "yangjiang_11-1101开关 done\n",
      "yangjiang_12-1101开关 done\n",
      "yangjiang_13-1030开关 done\n"
     ]
    },
    {
     "name": "stderr",
     "output_type": "stream",
     "text": [
      " 38%|███▊      | 247/654 [00:04<00:15, 25.45it/s]"
     ]
    },
    {
     "name": "stdout",
     "output_type": "stream",
     "text": [
      "yangjiang_14-1030开关 done\n",
      "yangjiang_16-1252开关 done\n",
      "yangjiang_17-1012开关 done\n",
      "yangjiang_18-1012开关 done\n",
      "yangjiang_19-1325开关 done\n",
      "yangjiang_2-#2主变变高1102开关,SF6压力表 done\n"
     ]
    },
    {
     "name": "stderr",
     "output_type": "stream",
     "text": [
      " 39%|███▉      | 255/654 [00:05<00:15, 26.47it/s]"
     ]
    },
    {
     "name": "stdout",
     "output_type": "stream",
     "text": [
      "yangjiang_2-1012开关 done\n",
      "yangjiang_2-1012开关_1 done\n",
      "yangjiang_2-1101开关 done\n",
      "yangjiang_2-1101开关_1 done\n",
      "yangjiang_2-1103开关 done\n",
      "yangjiang_2-1239开关 done\n"
     ]
    },
    {
     "name": "stderr",
     "output_type": "stream",
     "text": [
      " 40%|███▉      | 261/654 [00:05<00:15, 25.40it/s]"
     ]
    },
    {
     "name": "stdout",
     "output_type": "stream",
     "text": [
      "yangjiang_2-1241开关 done\n",
      "yangjiang_2-1242开关 done\n",
      "yangjiang_2-1300开关 done\n",
      "yangjiang_2-220kV春城站-220kV设备区域开关SF6压力表计拍摄-机库-初审彭景-验证陈达恒-20231010 done\n",
      "yangjiang_2-4313开关 done\n"
     ]
    },
    {
     "name": "stderr",
     "output_type": "stream",
     "text": [
      " 40%|████      | 264/654 [00:05<00:15, 25.76it/s]"
     ]
    },
    {
     "name": "stdout",
     "output_type": "stream",
     "text": [
      "yangjiang_20-1301开关 done\n",
      "yangjiang_21-1301开关 done\n",
      "yangjiang_3-1030开关 done\n",
      "yangjiang_3-1030开关_1 done\n",
      "yangjiang_3-1102开关 done\n",
      "yangjiang_3-1102开关_2 done\n"
     ]
    },
    {
     "name": "stderr",
     "output_type": "stream",
     "text": [
      " 41%|████      | 268/654 [00:05<00:19, 20.16it/s]"
     ]
    },
    {
     "name": "stdout",
     "output_type": "stream",
     "text": [
      "yangjiang_3-220kV春城站-220kV设备区域开关SF6压力表计拍摄-机库-初审彭景-验证陈达恒-20231010 done\n"
     ]
    },
    {
     "name": "stderr",
     "output_type": "stream",
     "text": [
      " 42%|████▏     | 274/654 [00:06<00:25, 15.00it/s]"
     ]
    },
    {
     "name": "stdout",
     "output_type": "stream",
     "text": [
      "yangjiang_3-4313开关 done\n",
      "yangjiang_4-1030开关 done\n",
      "yangjiang_4-1102开关 done\n",
      "yangjiang_4-1102开关_1 done\n",
      "yangjiang_4-1224开关_1 done\n",
      "yangjiang_4-1232开关 done\n"
     ]
    },
    {
     "name": "stderr",
     "output_type": "stream",
     "text": [
      " 43%|████▎     | 280/654 [00:06<00:19, 18.74it/s]"
     ]
    },
    {
     "name": "stdout",
     "output_type": "stream",
     "text": [
      "yangjiang_4-1237开关 done\n",
      "yangjiang_4-1239开关 done\n",
      "yangjiang_4-1243开关_1 done\n",
      "yangjiang_4-220kV春城站-220kV设备区域开关SF6压力表计拍摄-机库-初审彭景-验证陈达恒-20231010 done\n",
      "yangjiang_4-6152开关 done\n",
      "yangjiang_5-1030开关 done\n"
     ]
    },
    {
     "name": "stderr",
     "output_type": "stream",
     "text": [
      " 43%|████▎     | 283/654 [00:06<00:18, 20.59it/s]"
     ]
    },
    {
     "name": "stdout",
     "output_type": "stream",
     "text": [
      "yangjiang_5-1101开关_1 done\n",
      "yangjiang_5-1101开关_2 done\n",
      "yangjiang_5-1101开关_3 done\n",
      "yangjiang_5-1102开关 done\n",
      "yangjiang_5-1102开关_1 done\n"
     ]
    },
    {
     "name": "stderr",
     "output_type": "stream",
     "text": [
      " 44%|████▍     | 289/654 [00:07<00:16, 21.56it/s]"
     ]
    },
    {
     "name": "stdout",
     "output_type": "stream",
     "text": [
      "yangjiang_5-1227开关 done\n",
      "yangjiang_5-1240开关 done\n",
      "yangjiang_5-1278开关 done\n",
      "yangjiang_5-220kV春城站-220kV设备区域开关SF6压力表计拍摄-机库-初审彭景-验证陈达恒-20231010 done\n"
     ]
    },
    {
     "name": "stderr",
     "output_type": "stream",
     "text": [
      " 45%|████▍     | 292/654 [00:07<00:28, 12.71it/s]"
     ]
    },
    {
     "name": "stdout",
     "output_type": "stream",
     "text": [
      "yangjiang_5-6152开关 done\n",
      "yangjiang_5-SF6压力表,1247开关 done\n",
      "yangjiang_6-1102开关 done\n",
      "yangjiang_6-1102开关_2 done\n"
     ]
    },
    {
     "name": "stderr",
     "output_type": "stream",
     "text": [
      " 45%|████▍     | 294/654 [00:08<00:42,  8.43it/s]"
     ]
    },
    {
     "name": "stdout",
     "output_type": "stream",
     "text": [
      "yangjiang_6-1102开关_3 done\n"
     ]
    },
    {
     "name": "stderr",
     "output_type": "stream",
     "text": [
      " 45%|████▌     | 296/654 [00:08<00:57,  6.20it/s]"
     ]
    },
    {
     "name": "stdout",
     "output_type": "stream",
     "text": [
      "yangjiang_6-1224开关 done\n",
      "yangjiang_6-1278开关_1 done\n"
     ]
    },
    {
     "name": "stderr",
     "output_type": "stream",
     "text": [
      " 46%|████▌     | 301/654 [00:09<00:42,  8.21it/s]"
     ]
    },
    {
     "name": "stdout",
     "output_type": "stream",
     "text": [
      "yangjiang_6-220kV春城站-220kV设备区域开关SF6压力表计拍摄-机库-初审彭景-验证陈达恒-20231010 done\n",
      "yangjiang_6-6152开关 done\n",
      "yangjiang_7-1012开关 done\n",
      "yangjiang_7-1101开关 done\n",
      "yangjiang_7-1102开关 done\n"
     ]
    },
    {
     "name": "stderr",
     "output_type": "stream",
     "text": [
      " 46%|████▋     | 304/654 [00:09<00:34, 10.27it/s]"
     ]
    },
    {
     "name": "stdout",
     "output_type": "stream",
     "text": [
      "yangjiang_7-1236开关 done\n",
      "yangjiang_7-1240开关 done\n",
      "yangjiang_8-1101开关 done\n"
     ]
    },
    {
     "name": "stderr",
     "output_type": "stream",
     "text": [
      " 47%|████▋     | 306/654 [00:09<00:34, 10.13it/s]"
     ]
    },
    {
     "name": "stdout",
     "output_type": "stream",
     "text": [
      "yangjiang_8-1240开关 done\n",
      "yangjiang_8-1253开关 done\n"
     ]
    },
    {
     "name": "stderr",
     "output_type": "stream",
     "text": [
      " 47%|████▋     | 310/654 [00:10<00:51,  6.70it/s]"
     ]
    },
    {
     "name": "stdout",
     "output_type": "stream",
     "text": [
      "yangjiang_8-断路器 done\n",
      "yangjiang_9-1274开关 done\n",
      "yangjiang_9-1283开关 done\n",
      "yunfu1_yunfu_1-1101开关 (2) done\n",
      "yunfu1_yunfu_1-1101开关 done\n"
     ]
    },
    {
     "name": "stderr",
     "output_type": "stream",
     "text": [
      " 48%|████▊     | 316/654 [00:10<00:29, 11.36it/s]"
     ]
    },
    {
     "name": "stdout",
     "output_type": "stream",
     "text": [
      "yunfu1_yunfu_1-1325开关 done\n",
      "yunfu1_yunfu_1-SF6压力表 (2) done\n",
      "yunfu1_yunfu_1-SF6压力表 done\n",
      "yunfu1_yunfu_1-密度继电器 done\n",
      "yunfu1_yunfu_10-SF6压力表 (2) done\n"
     ]
    },
    {
     "name": "stderr",
     "output_type": "stream",
     "text": [
      " 49%|████▊     | 318/654 [00:10<00:28, 11.61it/s]"
     ]
    },
    {
     "name": "stdout",
     "output_type": "stream",
     "text": [
      "yunfu1_yunfu_10-SF6压力表 done\n",
      "yunfu1_yunfu_10-密度继电器 done\n",
      "yunfu1_yunfu_11-SF6压力表 done\n",
      "yunfu1_yunfu_11-密度继电器 done\n",
      "yunfu1_yunfu_12-SF6压力表 done\n"
     ]
    },
    {
     "name": "stderr",
     "output_type": "stream",
     "text": [
      " 50%|████▉     | 326/654 [00:11<00:17, 18.73it/s]"
     ]
    },
    {
     "name": "stdout",
     "output_type": "stream",
     "text": [
      "yunfu1_yunfu_12-密度继电器 done\n",
      "yunfu1_yunfu_14-密度继电器 done\n",
      "yunfu1_yunfu_2-1102开关 done\n",
      "yunfu1_yunfu_2-1217开关 done\n",
      "yunfu1_yunfu_2-1325开关 done\n"
     ]
    },
    {
     "name": "stderr",
     "output_type": "stream",
     "text": [
      " 50%|█████     | 329/654 [00:11<00:34,  9.52it/s]"
     ]
    },
    {
     "name": "stdout",
     "output_type": "stream",
     "text": [
      "yunfu1_yunfu_2-312开关 done\n",
      "yunfu1_yunfu_2-SF6压力表 (2) done\n",
      "yunfu1_yunfu_2-密度继电器 done\n",
      "yunfu1_yunfu_20240408110639869609 done\n",
      "yunfu1_yunfu_20240408110820972663 done\n",
      "yunfu1_yunfu_20240408111459917866 done\n"
     ]
    },
    {
     "name": "stderr",
     "output_type": "stream",
     "text": [
      " 51%|█████     | 335/654 [00:11<00:21, 15.00it/s]"
     ]
    },
    {
     "name": "stdout",
     "output_type": "stream",
     "text": [
      "yunfu1_yunfu_20240408113746499566 done\n",
      "yunfu1_yunfu_20240418120454586665 done\n",
      "yunfu1_yunfu_20240816112705767106 done\n",
      "yunfu1_yunfu_20240828085753871406 done\n",
      "yunfu1_yunfu_20240828095113191632 done\n",
      "yunfu1_yunfu_20240828100447688945 done\n",
      "yunfu1_yunfu_20240828101509959576 done\n"
     ]
    },
    {
     "name": "stderr",
     "output_type": "stream",
     "text": [
      " 52%|█████▏    | 340/654 [00:12<00:17, 18.01it/s]"
     ]
    },
    {
     "name": "stdout",
     "output_type": "stream",
     "text": [
      "yunfu1_yunfu_3-1012开关 (3) done\n",
      "yunfu1_yunfu_3-3016刀闸 done\n",
      "yunfu1_yunfu_3-电流互感器 done\n"
     ]
    },
    {
     "name": "stderr",
     "output_type": "stream",
     "text": [
      " 53%|█████▎    | 346/654 [00:13<00:28, 10.62it/s]"
     ]
    },
    {
     "name": "stdout",
     "output_type": "stream",
     "text": [
      "yunfu1_yunfu_4-1102开关 (2) done\n",
      "yunfu1_yunfu_4-1303开关 done\n",
      "yunfu1_yunfu_4-1327开关 done\n",
      "yunfu1_yunfu_4-2202开关 done\n",
      "yunfu1_yunfu_4-SF6压力表 (2) done\n"
     ]
    },
    {
     "name": "stderr",
     "output_type": "stream",
     "text": [
      " 54%|█████▎    | 350/654 [00:13<00:26, 11.32it/s]"
     ]
    },
    {
     "name": "stdout",
     "output_type": "stream",
     "text": [
      "yunfu1_yunfu_4-测量仪表 done\n",
      "yunfu1_yunfu_4-电流互感器 done\n",
      "yunfu1_yunfu_5-SF6压力表 done\n"
     ]
    },
    {
     "name": "stderr",
     "output_type": "stream",
     "text": [
      " 54%|█████▍    | 352/654 [00:14<00:51,  5.88it/s]"
     ]
    },
    {
     "name": "stdout",
     "output_type": "stream",
     "text": [
      "yunfu1_yunfu_5-密度继电器 done\n",
      "yunfu1_yunfu_6-1103开关 done\n",
      "yunfu1_yunfu_6-SF6压力表 done\n",
      "yunfu1_yunfu_6-密度继电器 done\n",
      "yunfu1_yunfu_7-1318开关 done\n"
     ]
    },
    {
     "name": "stderr",
     "output_type": "stream",
     "text": [
      " 54%|█████▍    | 355/654 [00:14<00:38,  7.78it/s]"
     ]
    },
    {
     "name": "stdout",
     "output_type": "stream",
     "text": [
      "yunfu1_yunfu_7-1508开关 done\n"
     ]
    },
    {
     "name": "stderr",
     "output_type": "stream",
     "text": [
      " 55%|█████▌    | 360/654 [00:14<00:32,  9.17it/s]"
     ]
    },
    {
     "name": "stdout",
     "output_type": "stream",
     "text": [
      "yunfu1_yunfu_7-SF6压力表 done\n",
      "yunfu1_yunfu_7-密度继电器 done\n",
      "yunfu1_yunfu_8-1102开关 done\n",
      "yunfu1_yunfu_8-SF6压力表 done\n",
      "yunfu1_yunfu_8-开关密度继电器 done\n",
      "yunfu1_yunfu_9-1507开关 done\n"
     ]
    },
    {
     "name": "stderr",
     "output_type": "stream",
     "text": [
      " 56%|█████▌    | 365/654 [00:15<00:26, 10.82it/s]"
     ]
    },
    {
     "name": "stdout",
     "output_type": "stream",
     "text": [
      "yunfu1_yunfu_9-密度继电器 done\n",
      "yunfu_1-1302开关 done\n",
      "yunfu_1-1335开关 (2) done\n"
     ]
    },
    {
     "name": "stderr",
     "output_type": "stream",
     "text": [
      " 56%|█████▌    | 367/654 [00:15<00:27, 10.60it/s]"
     ]
    },
    {
     "name": "stdout",
     "output_type": "stream",
     "text": [
      "yunfu_1-电流互感器 (2) done\n",
      "yunfu_1-电流互感器 done\n",
      "yunfu_10-1630开关 done\n"
     ]
    },
    {
     "name": "stderr",
     "output_type": "stream",
     "text": [
      " 56%|█████▋    | 369/654 [00:15<00:35,  8.00it/s]"
     ]
    },
    {
     "name": "stdout",
     "output_type": "stream",
     "text": [
      "yunfu_15-密度继电器 done\n",
      "yunfu_16-断路器SF6压力表 done\n"
     ]
    },
    {
     "name": "stderr",
     "output_type": "stream",
     "text": [
      " 57%|█████▋    | 371/654 [00:16<00:39,  7.10it/s]"
     ]
    },
    {
     "name": "stdout",
     "output_type": "stream",
     "text": [
      "yunfu_17-断路器SF6压力表 done\n"
     ]
    },
    {
     "name": "stderr",
     "output_type": "stream",
     "text": [
      " 57%|█████▋    | 372/654 [00:16<00:45,  6.13it/s]"
     ]
    },
    {
     "name": "stdout",
     "output_type": "stream",
     "text": [
      "yunfu_2-1638开关 done\n"
     ]
    },
    {
     "name": "stderr",
     "output_type": "stream",
     "text": [
      " 57%|█████▋    | 374/654 [00:17<00:53,  5.25it/s]"
     ]
    },
    {
     "name": "stdout",
     "output_type": "stream",
     "text": [
      "yunfu_2-4254开关 done\n",
      "yunfu_2-SF6压力表 (3) done\n"
     ]
    },
    {
     "name": "stderr",
     "output_type": "stream",
     "text": [
      " 57%|█████▋    | 376/654 [00:17<00:44,  6.22it/s]"
     ]
    },
    {
     "name": "stdout",
     "output_type": "stream",
     "text": [
      "yunfu_20240418115818356689 done\n",
      "yunfu_20240418122500960172 done\n",
      "yunfu_20240418122556685464 done\n"
     ]
    },
    {
     "name": "stderr",
     "output_type": "stream",
     "text": [
      " 58%|█████▊    | 378/654 [00:17<00:33,  8.23it/s]"
     ]
    },
    {
     "name": "stdout",
     "output_type": "stream",
     "text": [
      "yunfu_20240816112656717966 done\n"
     ]
    },
    {
     "name": "stderr",
     "output_type": "stream",
     "text": [
      " 58%|█████▊    | 379/654 [00:18<01:38,  2.79it/s]"
     ]
    },
    {
     "name": "stdout",
     "output_type": "stream",
     "text": [
      "yunfu_20240828101017871251 done\n"
     ]
    },
    {
     "name": "stderr",
     "output_type": "stream",
     "text": [
      " 58%|█████▊    | 380/654 [00:18<01:39,  2.77it/s]"
     ]
    },
    {
     "name": "stdout",
     "output_type": "stream",
     "text": [
      "yunfu_3-1012开关 (4) done\n"
     ]
    },
    {
     "name": "stderr",
     "output_type": "stream",
     "text": [
      " 59%|█████▊    | 383/654 [00:19<01:19,  3.43it/s]"
     ]
    },
    {
     "name": "stdout",
     "output_type": "stream",
     "text": [
      "yunfu_3-4254开关 done\n",
      "yunfu_3-SF6压力表 (3) done\n",
      "yunfu_3-密度继电器 done\n"
     ]
    },
    {
     "name": "stderr",
     "output_type": "stream",
     "text": [
      " 59%|█████▊    | 384/654 [00:20<01:13,  3.65it/s]"
     ]
    },
    {
     "name": "stdout",
     "output_type": "stream",
     "text": [
      "yunfu_4-1101开关 done\n"
     ]
    },
    {
     "name": "stderr",
     "output_type": "stream",
     "text": [
      " 59%|█████▉    | 385/654 [00:20<01:14,  3.60it/s]"
     ]
    },
    {
     "name": "stdout",
     "output_type": "stream",
     "text": [
      "yunfu_4-4254开关 done\n"
     ]
    },
    {
     "name": "stderr",
     "output_type": "stream",
     "text": [
      " 59%|█████▉    | 386/654 [00:20<01:14,  3.58it/s]"
     ]
    },
    {
     "name": "stdout",
     "output_type": "stream",
     "text": [
      "yunfu_4-密度继电器 done\n"
     ]
    },
    {
     "name": "stderr",
     "output_type": "stream",
     "text": [
      " 59%|█████▉    | 388/654 [00:21<01:06,  4.02it/s]"
     ]
    },
    {
     "name": "stdout",
     "output_type": "stream",
     "text": [
      "yunfu_5-2202开关 done\n",
      "yunfu_5-密度继电器 done\n"
     ]
    },
    {
     "name": "stderr",
     "output_type": "stream",
     "text": [
      " 59%|█████▉    | 389/654 [00:21<01:16,  3.47it/s]"
     ]
    },
    {
     "name": "stdout",
     "output_type": "stream",
     "text": [
      "yunfu_6-1617开关 done\n"
     ]
    },
    {
     "name": "stderr",
     "output_type": "stream",
     "text": [
      " 60%|█████▉    | 390/654 [00:21<01:28,  2.99it/s]"
     ]
    },
    {
     "name": "stdout",
     "output_type": "stream",
     "text": [
      "yunfu_8-1632开关 done\n",
      "zhaoqing_#1变高 (1) done\n"
     ]
    },
    {
     "name": "stderr",
     "output_type": "stream",
     "text": [
      " 60%|█████▉    | 392/654 [00:22<01:03,  4.15it/s]"
     ]
    },
    {
     "name": "stdout",
     "output_type": "stream",
     "text": [
      "zhaoqing_#1变高 (2) done\n"
     ]
    },
    {
     "name": "stderr",
     "output_type": "stream",
     "text": [
      " 60%|██████    | 393/654 [00:22<01:04,  4.02it/s]"
     ]
    },
    {
     "name": "stdout",
     "output_type": "stream",
     "text": [
      "zhaoqing_#1变高 1(1) done\n"
     ]
    },
    {
     "name": "stderr",
     "output_type": "stream",
     "text": [
      " 60%|██████    | 395/654 [00:22<00:55,  4.67it/s]"
     ]
    },
    {
     "name": "stdout",
     "output_type": "stream",
     "text": [
      "zhaoqing_#2变高 (1) done\n",
      "zhaoqing_1-1312开关 done\n"
     ]
    },
    {
     "name": "stderr",
     "output_type": "stream",
     "text": [
      " 61%|██████    | 397/654 [00:23<00:57,  4.43it/s]"
     ]
    },
    {
     "name": "stdout",
     "output_type": "stream",
     "text": [
      "zhaoqing_1-1434开关 done\n",
      "zhaoqing_1-4344开关 done\n"
     ]
    },
    {
     "name": "stderr",
     "output_type": "stream",
     "text": [
      " 61%|██████▏   | 402/654 [00:23<00:24, 10.12it/s]"
     ]
    },
    {
     "name": "stdout",
     "output_type": "stream",
     "text": [
      "zhaoqing_10-2660开关 done\n",
      "zhaoqing_10-2667开关 done\n",
      "zhaoqing_101 done\n",
      "zhaoqing_102 done\n",
      "zhaoqing_11-2667开关 done\n"
     ]
    },
    {
     "name": "stderr",
     "output_type": "stream",
     "text": [
      " 62%|██████▏   | 408/654 [00:23<00:12, 19.52it/s]"
     ]
    },
    {
     "name": "stdout",
     "output_type": "stream",
     "text": [
      "zhaoqing_1101开关位置 done\n",
      "zhaoqing_1101开关储能 done\n",
      "zhaoqing_1102开关位置 done\n",
      "zhaoqing_1102开关储能 done\n",
      "zhaoqing_110kV 怀龙线开关位置 done\n",
      "zhaoqing_110kV 怀龙线开关储能 done\n",
      "zhaoqing_110kV备用线1461开关储能 done\n",
      "zhaoqing_110kV怀威乙线1346开关储能 done\n"
     ]
    },
    {
     "name": "stderr",
     "output_type": "stream",
     "text": [
      " 63%|██████▎   | 414/654 [00:23<00:11, 21.47it/s]"
     ]
    },
    {
     "name": "stdout",
     "output_type": "stream",
     "text": [
      "zhaoqing_110kV怀飞乙线1380开关储能 done\n",
      "zhaoqing_110kV母联1012开关位置 done\n",
      "zhaoqing_110kV母联1012开关储能 done\n",
      "zhaoqing_110分段 (1) done\n",
      "zhaoqing_110分段 (2) done\n"
     ]
    },
    {
     "name": "stderr",
     "output_type": "stream",
     "text": [
      " 64%|██████▍   | 417/654 [00:24<00:12, 19.58it/s]"
     ]
    },
    {
     "name": "stdout",
     "output_type": "stream",
     "text": [
      "zhaoqing_12-2667开关 done\n",
      "zhaoqing_13-2201开关 done\n"
     ]
    },
    {
     "name": "stderr",
     "output_type": "stream",
     "text": [
      " 64%|██████▍   | 420/654 [00:24<00:17, 13.09it/s]"
     ]
    },
    {
     "name": "stdout",
     "output_type": "stream",
     "text": [
      "zhaoqing_132-1012开关 done\n",
      "zhaoqing_134-1102开关 done\n",
      "zhaoqing_135-1102开关 done\n"
     ]
    },
    {
     "name": "stderr",
     "output_type": "stream",
     "text": [
      " 65%|██████▍   | 422/654 [00:24<00:16, 13.68it/s]"
     ]
    },
    {
     "name": "stdout",
     "output_type": "stream",
     "text": [
      "zhaoqing_136-#1变高1101开关 done\n",
      "zhaoqing_14-2659开关 done\n",
      "zhaoqing_15-2659开关 done\n"
     ]
    },
    {
     "name": "stderr",
     "output_type": "stream",
     "text": [
      " 65%|██████▌   | 426/654 [00:25<00:22, 10.07it/s]"
     ]
    },
    {
     "name": "stdout",
     "output_type": "stream",
     "text": [
      "zhaoqing_16-2659开关 done\n",
      "zhaoqing_162-1101开关 done\n",
      "zhaoqing_18-6133开关 done\n",
      "zhaoqing_19-6133开关 done\n"
     ]
    },
    {
     "name": "stderr",
     "output_type": "stream",
     "text": [
      " 66%|██████▌   | 431/654 [00:25<00:15, 14.26it/s]"
     ]
    },
    {
     "name": "stdout",
     "output_type": "stream",
     "text": [
      "zhaoqing_2-1101开关 done\n",
      "zhaoqing_2-4344开关 done\n",
      "zhaoqing_20-6133开关 done\n",
      "zhaoqing_20240702114619201299911346184795-B done\n",
      "zhaoqing_20240911110128406102733559375470 done\n"
     ]
    },
    {
     "name": "stderr",
     "output_type": "stream",
     "text": [
      " 67%|██████▋   | 436/654 [00:26<00:19, 10.92it/s]"
     ]
    },
    {
     "name": "stdout",
     "output_type": "stream",
     "text": [
      "zhaoqing_20240913113742805080696830303781 done\n",
      "zhaoqing_203 done\n",
      "zhaoqing_204 done\n",
      "zhaoqing_21-6134开关 done\n",
      "zhaoqing_3-1012开关 done\n"
     ]
    },
    {
     "name": "stderr",
     "output_type": "stream",
     "text": [
      " 67%|██████▋   | 441/654 [00:26<00:15, 13.83it/s]"
     ]
    },
    {
     "name": "stdout",
     "output_type": "stream",
     "text": [
      "zhaoqing_3-1315开关 done\n",
      "zhaoqing_3-4344开关 done\n",
      "zhaoqing_3-断路器 done\n",
      "zhaoqing_4-1030开关 done\n"
     ]
    },
    {
     "name": "stderr",
     "output_type": "stream",
     "text": [
      " 68%|██████▊   | 445/654 [00:26<00:13, 15.27it/s]"
     ]
    },
    {
     "name": "stdout",
     "output_type": "stream",
     "text": [
      "zhaoqing_4-1436开关 done\n",
      "zhaoqing_4-2201开关 done\n",
      "zhaoqing_5-1439开关 done\n",
      "zhaoqing_5-B相SF6压力表 done\n"
     ]
    },
    {
     "name": "stderr",
     "output_type": "stream",
     "text": [
      " 68%|██████▊   | 447/654 [00:26<00:13, 15.69it/s]"
     ]
    },
    {
     "name": "stdout",
     "output_type": "stream",
     "text": [
      "zhaoqing_6-1318开关 done\n",
      "zhaoqing_6-1437开关 done\n",
      "zhaoqing_6-2201开关 done\n"
     ]
    },
    {
     "name": "stderr",
     "output_type": "stream",
     "text": [
      " 69%|██████▉   | 451/654 [00:27<00:15, 12.93it/s]"
     ]
    },
    {
     "name": "stdout",
     "output_type": "stream",
     "text": [
      "zhaoqing_7-1438开关 done\n",
      "zhaoqing_7-2030开关 done\n",
      "zhaoqing_8-2030开关 done\n"
     ]
    },
    {
     "name": "stderr",
     "output_type": "stream",
     "text": [
      " 70%|██████▉   | 456/654 [00:27<00:12, 16.00it/s]"
     ]
    },
    {
     "name": "stdout",
     "output_type": "stream",
     "text": [
      "zhaoqing_9-2030开关 done\n",
      "zhaoqing_9-2202开关 done\n",
      "zhaoqing_IMG_20240925_121421 done\n",
      "zhaoqing_IMG_20240925_121443 done\n",
      "zhaoqing_IMG_20240925_121516 done\n"
     ]
    },
    {
     "name": "stderr",
     "output_type": "stream",
     "text": [
      " 71%|███████   | 462/654 [00:27<00:08, 21.53it/s]"
     ]
    },
    {
     "name": "stdout",
     "output_type": "stream",
     "text": [
      "zhaoqing_IMG_20240925_121616 done\n",
      "zhaoqing_IMG_20240925_121630 done\n",
      "zhaoqing_IMG_20240925_121700 done\n",
      "zhaoqing_IMG_20240925_121709 done\n",
      "zhaoqing_IMG_20240925_121733 done\n",
      "zhaoqing_中木线 (1) done\n",
      "zhaoqing_中木线 (2) done\n"
     ]
    },
    {
     "name": "stderr",
     "output_type": "stream",
     "text": [
      " 72%|███████▏  | 468/654 [00:27<00:08, 22.36it/s]"
     ]
    },
    {
     "name": "stdout",
     "output_type": "stream",
     "text": [
      "zhaoqing_中洲站怀中甲线开关位置 done\n",
      "zhaoqing_中洲站怀中甲线开关储能 done\n",
      "zhaoqing_云官 (2) done\n",
      "zhaoqing_凤岗线开关储能 done\n",
      "zhaoqing_园东线 (1) done\n",
      "zhaoqing_园东线 (2) done\n"
     ]
    },
    {
     "name": "stderr",
     "output_type": "stream",
     "text": [
      " 73%|███████▎  | 477/654 [00:28<00:05, 29.81it/s]"
     ]
    },
    {
     "name": "stdout",
     "output_type": "stream",
     "text": [
      "zhaoqing_地方 (1) done\n",
      "zhaoqing_地方 (2) done\n",
      "zhaoqing_地方、 (1) done\n",
      "zhaoqing_地方、 (2) done\n",
      "zhaoqing_地方、 (3) done\n",
      "zhaoqing_地方、 (5) done\n",
      "zhaoqing_地方、 (6) done\n",
      "zhaoqing_地方、 (8) done\n"
     ]
    },
    {
     "name": "stderr",
     "output_type": "stream",
     "text": [
      " 74%|███████▎  | 481/654 [00:28<00:05, 30.18it/s]"
     ]
    },
    {
     "name": "stdout",
     "output_type": "stream",
     "text": [
      "zhaoqing_备用1484 (1) done\n",
      "zhaoqing_备用1484 (2) done\n",
      "zhaoqing_备用1485 (2) done\n",
      "zhaoqing_大官 (1) done\n",
      "zhaoqing_大官 (2) done\n",
      "zhaoqing_官荔 (2) done\n",
      "zhaoqing_官香 (1) done\n"
     ]
    },
    {
     "name": "stderr",
     "output_type": "stream",
     "text": [
      " 75%|███████▍  | 488/654 [00:28<00:10, 16.55it/s]"
     ]
    },
    {
     "name": "stdout",
     "output_type": "stream",
     "text": [
      "zhaoqing_官香 (2) done\n",
      "zhaoqing_封中线 (2) done\n",
      "zhaoqing_水泥厂线开关储能 done\n",
      "zhaoqing_沙冷线开关位置 done\n",
      "zhaoqing_沙桥线开关储能 done\n",
      "zhaoqing_泽联线开关储能 done\n"
     ]
    },
    {
     "name": "stderr",
     "output_type": "stream",
     "text": [
      " 76%|███████▌  | 495/654 [00:29<00:07, 22.01it/s]"
     ]
    },
    {
     "name": "stdout",
     "output_type": "stream",
     "text": [
      "zhaoqing_洽水线开关储能 done\n",
      "zhaoqing_清华线开关储能 done\n",
      "zhaoqing_蓝宁线开关储能 done\n",
      "zhaoqing_长官 (1) done\n",
      "zhaoqing_长官 (2) done\n",
      "zhaoqing_飞坳线开关储能 done\n"
     ]
    },
    {
     "name": "stderr",
     "output_type": "stream",
     "text": [
      " 77%|███████▋  | 504/654 [00:29<00:04, 31.48it/s]"
     ]
    },
    {
     "name": "stdout",
     "output_type": "stream",
     "text": [
      "zhaoqing_香中线 (2) done\n",
      "zhongshan_20240801115957243631315861220627-B done\n",
      "zhongshan_20240801120014037179172599168359-B done\n",
      "zhongshan_20240801141740785703196891237858-B done\n",
      "zhongshan_20240801141753798505406734689774-B done\n",
      "zhongshan_20240801141755920330369054791834-B done\n",
      "zhongshan_20240801141805596262414530768367-B done\n",
      "zhongshan_20240801171043473954563410530049-B done\n",
      "zhongshan_20240805123551841179900315447027-B done\n",
      "zhongshan_20240806165929508504016296826069-B done\n",
      "zhongshan_20240806165934022437290187077513-B done\n",
      "zhongshan_20240806165934552005804751246028-B done\n",
      "zhongshan_20240806170020817988447958461376-B done\n"
     ]
    },
    {
     "name": "stderr",
     "output_type": "stream",
     "text": [
      " 79%|███████▉  | 518/654 [00:29<00:02, 47.67it/s]"
     ]
    },
    {
     "name": "stdout",
     "output_type": "stream",
     "text": [
      "zhongshan_20240806170036349103347458355982-B done\n",
      "zhongshan_20240807095554122980391601831801-B done\n",
      "zhongshan_20240807095612696873747132277531-S done\n",
      "zhongshan_20240807095736974364178068325783-B done\n",
      "zhongshan_20240807095816008982036473501636-B done\n",
      "zhongshan_20240807100115810265367201885592-B done\n",
      "zhongshan_20240807100818435713330489787325-B done\n",
      "zhongshan_20240807135513838766420680018035-B done\n",
      "zhongshan_20240807135533101753570130491828-B done\n",
      "zhongshan_20240807135759497957434695470887-B done\n",
      "zhongshan_20240807140004632455687386939649-B done\n",
      "zhongshan_20240807140328249251265744766958-B done\n",
      "zhongshan_20240807140605861723765049622382-B done\n",
      "zhongshan_20240807141512067947360141148378-B done\n",
      "zhongshan_20240809145940535830492278850357-B done\n",
      "zhongshan_20240809145947305326431073281061-B done\n",
      "zhongshan_20240809145948282844275612480632-B done\n",
      "zhongshan_20240814114005146547015088639211-B done\n",
      "zhongshan_20240816081659163804551936972749-B done\n",
      "zhongshan_20240816103618863609066716487717-B done\n"
     ]
    },
    {
     "name": "stderr",
     "output_type": "stream",
     "text": [
      " 81%|████████  | 530/654 [00:29<00:01, 63.61it/s]"
     ]
    },
    {
     "name": "stdout",
     "output_type": "stream",
     "text": [
      "zhongshan_20240816103624497985221100510781-B done\n",
      "zhongshan_20240819094750654986860329817109-B done\n",
      "zhongshan_20240819094812580930092919027796-B done\n",
      "zhongshan_20240819094834289983204343826985-B done\n",
      "zhongshan_20240820092925933016755405652275-B done\n",
      "zhongshan_20240820093014863596183973843991-B done\n"
     ]
    },
    {
     "name": "stderr",
     "output_type": "stream",
     "text": [
      " 83%|████████▎ | 543/654 [00:29<00:02, 47.07it/s]"
     ]
    },
    {
     "name": "stdout",
     "output_type": "stream",
     "text": [
      "zhongshan_20240820093025636312026663897878-B done\n",
      "zhongshan_20240820093026458045959003730921-B done\n",
      "zhongshan_20240820093030310200444043236173-B done\n",
      "zhongshan_20240820093037212106536884102316-B done\n",
      "zhongshan_20240820093040256780938261047369-B done\n",
      "zhongshan_20240820093042057555446085223130-B done\n",
      "zhongshan_20240820093046793279574751383121-B done\n",
      "zhongshan_20240820144011877640183294101966-B done\n"
     ]
    },
    {
     "name": "stderr",
     "output_type": "stream",
     "text": [
      " 84%|████████▍ | 549/654 [00:30<00:02, 44.16it/s]"
     ]
    },
    {
     "name": "stdout",
     "output_type": "stream",
     "text": [
      "zhongshan_20240820144353808384118128321391-B done\n",
      "zhongshan_20240821155702378459772991472202-B done\n",
      "zhongshan_20240821160119089818987834223835-B done\n",
      "zhongshan_20240821172359019802579149075555-B done\n",
      "zhongshan_20240822131403988366637330686393-B done\n",
      "zhongshan_20240822131439809606734003286979-B done\n",
      "zhongshan_20240912111027137414253817548913-B done\n",
      "zhongshan_20240912151533766583838818630238-B done\n",
      "zhongshan_20240912151612031975915870710121-B done\n",
      "zhongshan_20240912151919366630883590889688-B done\n",
      "zhongshan_20240912163948051741872113780718-B done\n"
     ]
    },
    {
     "name": "stderr",
     "output_type": "stream",
     "text": [
      " 85%|████████▍ | 555/654 [00:30<00:02, 47.17it/s]"
     ]
    },
    {
     "name": "stdout",
     "output_type": "stream",
     "text": [
      "zhongshan_20240912164845632686730594171118-B done\n",
      "zhongshan_20240912164848407635693606392531-B done\n",
      "zhongshan_20240912164854910213625490141975-B done\n",
      "zhongshan_20240912164915044844255852718795-B done\n",
      "zhongshan_20240912164924544705496787029698-B done\n",
      "zhongshan_20240912171917296538457603283226-S done\n"
     ]
    },
    {
     "name": "stderr",
     "output_type": "stream",
     "text": [
      " 86%|████████▋ | 565/654 [00:31<00:04, 22.18it/s]"
     ]
    },
    {
     "name": "stdout",
     "output_type": "stream",
     "text": [
      "zhongshan_20240912172035271276086572967984-B done\n",
      "zhongshan_20240913102820417397194508377826-B done\n",
      "zhongshan_20240913103009639214185499608291-B done\n",
      "zhongshan_20240913130618874947208850982679-S done\n",
      "zhongshan_20240913130859503862352235991510-B done\n",
      "zhongshan_20240913130924502739876690771783-B done\n",
      "zhongshan_20240913131117793560493410760904-B done\n",
      "zhongshan_20240913131547457160142001873974-B done\n",
      "zhongshan_20240913151713157993277544625711-B done\n",
      "zhongshan_20240913151846699768421106318344-B done\n",
      "zhongshan_20240913152147232150974688622692-B done\n"
     ]
    },
    {
     "name": "stderr",
     "output_type": "stream",
     "text": [
      " 88%|████████▊ | 577/654 [00:31<00:02, 30.28it/s]"
     ]
    },
    {
     "name": "stdout",
     "output_type": "stream",
     "text": [
      "zhongshan_20240914143136764679798998723321-B done\n",
      "zhongshan_20240914143156532469319075047639-B done\n",
      "zhongshan_20240918150052685504496905667525-S done\n",
      "zhongshan_20240918150150959036853828692334-B done\n",
      "zhongshan_20240919103046383679621595586194-B done\n",
      "zhongshan_20240919103051331243989877439596-B done\n",
      "zhongshan_20240919103122264044546588425151-B done\n",
      "zhongshan_20240919133714534002241733517244-B done\n",
      "zhongshan_20240919133741535958026648848112-B done\n",
      "zhongshan_20240919133804439101784309120476-B done\n",
      "zhongshan_20240919134137980859902063320777-B done\n",
      "zhongshan_20240919134254013637903743422468-B done\n"
     ]
    },
    {
     "name": "stderr",
     "output_type": "stream",
     "text": [
      " 91%|█████████ | 595/654 [00:31<00:01, 50.13it/s]"
     ]
    },
    {
     "name": "stdout",
     "output_type": "stream",
     "text": [
      "zhongshan_20240919134321868824288285354691-B done\n",
      "zhongshan_20240919134638426705084779864822-S done\n",
      "zhongshan_20240919134656822028303163411559-B done\n",
      "zhongshan_20240919135111371654009100621073-S done\n",
      "zhongshan_20240919135127962282115887613297-S done\n",
      "zhongshan_20240919140507200042725065766220-B done\n",
      "zhongshan_20240919140530689560808777675322-B (1) done\n",
      "zhongshan_20240919140604685657148462498761-B (1) done\n",
      "zhongshan_20240919140637745804358311559901-B done\n",
      "zhongshan_20240919140703452049007120066877-B done\n",
      "zhongshan_20240920094224859100558301454173-B done\n",
      "zhongshan_20240920095057986053096135202337-B done\n",
      "zhongshan_20240920155546648499676479347733-B done\n",
      "zhongshan_20240920155628027471721079664494-B done\n",
      "zhongshan_20240920160003214464651417237263-B done\n",
      "zhongshan_20240920160020991361998597486828-B done\n",
      "zhongshan_20240920160058226089418543616460-S done\n",
      "zhongshan_20240923103104366951403551032463-B done\n"
     ]
    },
    {
     "name": "stderr",
     "output_type": "stream",
     "text": [
      " 94%|█████████▍| 615/654 [00:31<00:00, 69.69it/s]"
     ]
    },
    {
     "name": "stdout",
     "output_type": "stream",
     "text": [
      "zhongshan_20240923103130033353504477987193-B done\n",
      "zhongshan_20240923103354650542181769412342-B done\n",
      "zhongshan_20240923103421586501411464798641-B done\n",
      "zhongshan_20240923103620766182221035097548-B done\n",
      "zhongshan_20240925082208592124151531540184-B done\n",
      "zhongshan_20240925082224011000600912141769-B done\n",
      "zhongshan_20240925082244344114491789000603-B done\n",
      "zhongshan_20240925083052524545281074243805-B done\n",
      "zhongshan_20240925084440232106901607893534-B done\n",
      "zhongshan_20240925084757281399581485497116-B done\n",
      "zhongshan_20240925085253869084861935004035-B done\n",
      "zhongshan_20240925101320339050238848431177-B done\n",
      "zhongshan_20240925101347375494044914739356-B done\n",
      "zhongshan_20240925101416756167815831315722-B done\n",
      "zhongshan_20240925101644251816086779228677-B done\n",
      "zhuhai_zhuhai__巡检图片-罗幸2 done\n",
      "zhuhai_zhuhai__巡检图片10 done\n",
      "zhuhai_zhuhai__巡检图片11 done\n",
      "zhuhai_zhuhai__巡检图片6 done\n",
      "zhuhai_zhuhai__巡检图片9 done\n",
      "zhuhai_zhuhai__新涌-1 done\n",
      "zhuhai_zhuhai__新涌-2 done\n"
     ]
    },
    {
     "name": "stderr",
     "output_type": "stream",
     "text": [
      " 95%|█████████▌| 624/654 [00:32<00:00, 48.13it/s]"
     ]
    },
    {
     "name": "stdout",
     "output_type": "stream",
     "text": [
      "zhuhai_zhuhai__新涌-3 done\n",
      "zhuhai__20240720113225291642288242398653 done\n",
      "zhuhai__20240804084615688694015982723134 done\n",
      "zhuhai__20240805140651658070923863691408 done\n",
      "zhuhai__20240807084303743076830115552467 done\n",
      "zhuhai__20240924091351281025448090084686 done\n"
     ]
    },
    {
     "name": "stderr",
     "output_type": "stream",
     "text": [
      " 97%|█████████▋| 636/654 [00:32<00:00, 25.73it/s]"
     ]
    },
    {
     "name": "stdout",
     "output_type": "stream",
     "text": [
      "zhuhai__20240924091431920747397972984653 done\n",
      "zhuhai__20240924112854428848944339496686 done\n",
      "zhuhai__20240924112909659785980826958943 done\n",
      "zhuhai__巡检图片-兰埔2 done\n",
      "zhuhai__巡检图片-兰埔3 done\n",
      "zhuhai__巡检图片-唐家2 done\n",
      "zhuhai__巡检图片-唐家3 done\n"
     ]
    },
    {
     "name": "stderr",
     "output_type": "stream",
     "text": [
      " 99%|█████████▉| 648/654 [00:33<00:00, 36.73it/s]"
     ]
    },
    {
     "name": "stdout",
     "output_type": "stream",
     "text": [
      "zhuhai__巡检图片-柠溪4 done\n",
      "zhuhai__巡检图片-柠溪5 done\n",
      "zhuhai__巡检图片-柠溪6 done\n",
      "zhuhai__巡检图片-罗幸1 done\n",
      "zhuhai__巡检图片-罗幸3 done\n",
      "zhuhai__巡检图片12 done\n",
      "zhuhai__巡检图片2 done\n",
      "zhuhai__巡检图片3 done\n",
      "zhuhai__巡检图片4 done\n",
      "zhuhai__巡检图片5 done\n",
      "zhuhai__巡检图片7 done\n",
      "zhuhai__巡检图片8 done\n",
      "zhuhai__斗门1 done\n",
      "zhuhai__斗门2 done\n",
      "zhuhai__斗门3 done\n",
      "zhuhai__斗门5 done\n",
      "zhuhai__斗门6 done\n"
     ]
    },
    {
     "name": "stderr",
     "output_type": "stream",
     "text": [
      "100%|██████████| 654/654 [00:34<00:00, 19.21it/s]\n"
     ]
    },
    {
     "name": "stdout",
     "output_type": "stream",
     "text": [
      "zhuhai__柠溪2 done\n"
     ]
    },
    {
     "name": "stderr",
     "output_type": "stream",
     "text": [
      "  0%|          | 1/200 [00:00<00:30,  6.63it/s]"
     ]
    },
    {
     "name": "stdout",
     "output_type": "stream",
     "text": [
      "others112-开关 C相 SF6密度继电器 done\n"
     ]
    },
    {
     "name": "stderr",
     "output_type": "stream",
     "text": [
      "  2%|▏         | 4/200 [00:00<00:27,  7.15it/s]"
     ]
    },
    {
     "name": "stdout",
     "output_type": "stream",
     "text": [
      "others71-20231104154810727438786350866011 done\n",
      "others73-端子箱 done\n",
      "others74-20231104154826217497445172744334 done\n"
     ]
    },
    {
     "name": "stderr",
     "output_type": "stream",
     "text": [
      "  4%|▎         | 7/200 [00:00<00:19,  9.88it/s]"
     ]
    },
    {
     "name": "stdout",
     "output_type": "stream",
     "text": [
      "others78-端子箱 done\n",
      "others82-20231104154907008059156857512418 done\n",
      "others89-20231104154942183090325113952052 done\n",
      "others93-开关 A相 SF6密度继电器 done\n"
     ]
    },
    {
     "name": "stderr",
     "output_type": "stream",
     "text": [
      " 12%|█▏        | 24/200 [00:01<00:04, 41.71it/s]"
     ]
    },
    {
     "name": "stdout",
     "output_type": "stream",
     "text": [
      "others98-开关 B相 SF6密度继电器 done\n",
      "shantou_11 done\n",
      "shantou_14 done\n",
      "shantou_17 done\n",
      "shantou_2 done\n",
      "shantou_26 done\n",
      "shantou_30 done\n",
      "shantou_38 done\n",
      "shantou_4 done\n",
      "shantou_57 done\n",
      "shantou_59 done\n",
      "shantou_60 done\n",
      "shantou_61 done\n",
      "shantou_70 done\n",
      "shantou_72 done\n",
      "shantou_74 done\n",
      "shantou_76 done\n",
      "shantou_80 done\n",
      "shantou_88 done\n"
     ]
    },
    {
     "name": "stderr",
     "output_type": "stream",
     "text": [
      " 14%|█▍        | 29/200 [00:01<00:05, 28.66it/s]"
     ]
    },
    {
     "name": "stdout",
     "output_type": "stream",
     "text": [
      "shantou_91 done\n",
      "shantou_92 done\n",
      "shantou_93 done\n"
     ]
    },
    {
     "name": "stderr",
     "output_type": "stream",
     "text": [
      " 16%|█▋        | 33/200 [00:01<00:07, 22.04it/s]"
     ]
    },
    {
     "name": "stdout",
     "output_type": "stream",
     "text": [
      "shantou_96 done\n",
      "shantou_98 done\n",
      "shaoguan_shaoguan_巡检图片 (102) done\n"
     ]
    },
    {
     "name": "stderr",
     "output_type": "stream",
     "text": [
      " 18%|█▊        | 36/200 [00:01<00:07, 20.92it/s]"
     ]
    },
    {
     "name": "stdout",
     "output_type": "stream",
     "text": [
      "shaoguan_shaoguan_巡检图片 (112) done\n",
      "shaoguan_shaoguan_巡检图片 (114) done\n",
      "shaoguan_shaoguan_巡检图片 (123) done\n",
      "shaoguan_shaoguan_巡检图片 (128) done\n",
      "shaoguan_shaoguan_巡检图片 (129) done\n"
     ]
    },
    {
     "name": "stderr",
     "output_type": "stream",
     "text": [
      " 22%|██▏       | 43/200 [00:02<00:10, 15.18it/s]"
     ]
    },
    {
     "name": "stdout",
     "output_type": "stream",
     "text": [
      "shaoguan_shaoguan_巡检图片 (13) done\n",
      "shaoguan_shaoguan_巡检图片 (37) done\n",
      "shaoguan_shaoguan_巡检图片 (38) done\n",
      "shaoguan_shaoguan_巡检图片 (42) done\n",
      "shaoguan_shaoguan_巡检图片 (44) done\n",
      "shaoguan_shaoguan_巡检图片 (96) done\n",
      "shaoguan_巡检图片 () done\n",
      "shaoguan_巡检图片 (1) done\n"
     ]
    },
    {
     "name": "stderr",
     "output_type": "stream",
     "text": [
      " 26%|██▌       | 52/200 [00:02<00:07, 20.76it/s]"
     ]
    },
    {
     "name": "stdout",
     "output_type": "stream",
     "text": [
      "shaoguan_巡检图片 (111) done\n",
      "shaoguan_巡检图片 (12) done\n",
      "shaoguan_巡检图片 (13) done\n",
      "shaoguan_巡检图片 (20) done\n",
      "shaoguan_巡检图片 (31) done\n",
      "shaoguan_巡检图片 (32) done\n",
      "shaoguan_巡检图片 (35) done\n",
      "shaoguan_巡检图片 (36) done\n"
     ]
    },
    {
     "name": "stderr",
     "output_type": "stream",
     "text": [
      " 30%|██▉       | 59/200 [00:03<00:06, 20.97it/s]"
     ]
    },
    {
     "name": "stdout",
     "output_type": "stream",
     "text": [
      "shaoguan_巡检图片 (37) done\n",
      "shaoguan_巡检图片 (39) done\n",
      "shaoguan_巡检图片 (4) done\n",
      "shaoguan_巡检图片 (58) done\n",
      "shaoguan_巡检图片 (59) done\n",
      "shaoguan_巡检图片 (62) done\n"
     ]
    },
    {
     "name": "stderr",
     "output_type": "stream",
     "text": [
      " 31%|███       | 62/200 [00:04<00:16,  8.46it/s]"
     ]
    },
    {
     "name": "stdout",
     "output_type": "stream",
     "text": [
      "shaoguan_巡检图片 (81) done\n",
      "shaoguan_巡检图片 (86) done\n",
      "shaoguan_巡检图片 (9) done\n",
      "shaoguan_巡检图片 (93) done\n"
     ]
    },
    {
     "name": "stderr",
     "output_type": "stream",
     "text": [
      " 34%|███▎      | 67/200 [00:04<00:12, 10.77it/s]"
     ]
    },
    {
     "name": "stdout",
     "output_type": "stream",
     "text": [
      "yangjiang_1-1001开关 done\n",
      "yangjiang_1-1223开关 done\n",
      "yangjiang_1-1239开关 done\n"
     ]
    },
    {
     "name": "stderr",
     "output_type": "stream",
     "text": [
      " 34%|███▍      | 69/200 [00:04<00:12, 10.17it/s]"
     ]
    },
    {
     "name": "stdout",
     "output_type": "stream",
     "text": [
      "yangjiang_1-1279开关_1 done\n",
      "yangjiang_1-1279开关_3 done\n",
      "yangjiang_1-1300开关 done\n"
     ]
    },
    {
     "name": "stderr",
     "output_type": "stream",
     "text": [
      " 37%|███▋      | 74/200 [00:05<00:09, 13.53it/s]"
     ]
    },
    {
     "name": "stdout",
     "output_type": "stream",
     "text": [
      "yangjiang_15-1252开关 done\n",
      "yangjiang_2-1101开关_2 done\n",
      "yangjiang_2-1101开关_3 done\n",
      "yangjiang_2-1322开关 done\n",
      "yangjiang_3-1001开关 done\n"
     ]
    },
    {
     "name": "stderr",
     "output_type": "stream",
     "text": [
      " 38%|███▊      | 76/200 [00:05<00:19,  6.26it/s]"
     ]
    },
    {
     "name": "stdout",
     "output_type": "stream",
     "text": [
      "yangjiang_3-1012开关 done\n",
      "yangjiang_3-1101开关 done\n"
     ]
    },
    {
     "name": "stderr",
     "output_type": "stream",
     "text": [
      " 39%|███▉      | 78/200 [00:06<00:20,  5.82it/s]"
     ]
    },
    {
     "name": "stdout",
     "output_type": "stream",
     "text": [
      "yangjiang_3-1101开关_1 done\n"
     ]
    },
    {
     "name": "stderr",
     "output_type": "stream",
     "text": [
      " 40%|████      | 80/200 [00:06<00:22,  5.42it/s]"
     ]
    },
    {
     "name": "stdout",
     "output_type": "stream",
     "text": [
      "yangjiang_3-1102开关_1 done\n",
      "yangjiang_3-1232开关 done\n",
      "yangjiang_3-1233开关 done\n"
     ]
    },
    {
     "name": "stderr",
     "output_type": "stream",
     "text": [
      " 42%|████▏     | 84/200 [00:07<00:14,  7.94it/s]"
     ]
    },
    {
     "name": "stdout",
     "output_type": "stream",
     "text": [
      "yangjiang_3-1233开关_1 done\n",
      "yangjiang_3-1237开关 done\n",
      "yangjiang_4-1101开关,SF6压力表 done\n",
      "yangjiang_4-1102开关_2 done\n"
     ]
    },
    {
     "name": "stderr",
     "output_type": "stream",
     "text": [
      " 44%|████▍     | 89/200 [00:07<00:09, 11.30it/s]"
     ]
    },
    {
     "name": "stdout",
     "output_type": "stream",
     "text": [
      "yangjiang_4-1224开关 done\n",
      "yangjiang_4-1227开关 done\n",
      "yangjiang_4-1243开关 done\n",
      "yangjiang_6-1012开关 done\n",
      "yangjiang_6-1101开关 done\n"
     ]
    },
    {
     "name": "stderr",
     "output_type": "stream",
     "text": [
      " 46%|████▋     | 93/200 [00:08<00:15,  6.82it/s]"
     ]
    },
    {
     "name": "stdout",
     "output_type": "stream",
     "text": [
      "yangjiang_6-1102开关_1 done\n",
      "yangjiang_6-1278开关 done\n",
      "yangjiang_7-1278开关 done\n"
     ]
    },
    {
     "name": "stderr",
     "output_type": "stream",
     "text": [
      " 49%|████▉     | 98/200 [00:08<00:10,  9.48it/s]"
     ]
    },
    {
     "name": "stdout",
     "output_type": "stream",
     "text": [
      "yangjiang_7-20240707123358573894661013675133 done\n",
      "yunfu1_yunfu_1-3016刀闸 done\n",
      "yunfu1_yunfu_1-301开关 done\n",
      "yunfu1_yunfu_11-SF6压力表 (2) done\n",
      "yunfu1_yunfu_12-1504开关 done\n"
     ]
    },
    {
     "name": "stderr",
     "output_type": "stream",
     "text": [
      " 50%|█████     | 100/200 [00:09<00:15,  6.33it/s]"
     ]
    },
    {
     "name": "stdout",
     "output_type": "stream",
     "text": [
      "yunfu1_yunfu_13-1503开关 done\n",
      "yunfu1_yunfu_13-密度继电器 done\n"
     ]
    },
    {
     "name": "stderr",
     "output_type": "stream",
     "text": [
      " 51%|█████     | 102/200 [00:09<00:16,  5.89it/s]"
     ]
    },
    {
     "name": "stdout",
     "output_type": "stream",
     "text": [
      "yunfu1_yunfu_19-密度继电器 done\n",
      "yunfu1_yunfu_2-SF6压力表 done\n"
     ]
    },
    {
     "name": "stderr",
     "output_type": "stream",
     "text": [
      " 52%|█████▏    | 103/200 [00:09<00:15,  6.31it/s]"
     ]
    },
    {
     "name": "stdout",
     "output_type": "stream",
     "text": [
      "yunfu1_yunfu_20-密度继电器 done\n",
      "yunfu1_yunfu_20240418114329094911 done\n",
      "yunfu1_yunfu_20240828090118951023 done\n",
      "yunfu1_yunfu_20240828090532328173 done\n"
     ]
    },
    {
     "name": "stderr",
     "output_type": "stream",
     "text": [
      " 54%|█████▎    | 107/200 [00:10<00:10,  8.79it/s]"
     ]
    },
    {
     "name": "stdout",
     "output_type": "stream",
     "text": [
      "yunfu1_yunfu_3-1238开关 done\n",
      "yunfu1_yunfu_3-1327开关 done\n"
     ]
    },
    {
     "name": "stderr",
     "output_type": "stream",
     "text": [
      " 56%|█████▋    | 113/200 [00:10<00:06, 12.80it/s]"
     ]
    },
    {
     "name": "stdout",
     "output_type": "stream",
     "text": [
      "yunfu1_yunfu_3-SF6压力表 (2) done\n",
      "yunfu1_yunfu_3-SF6压力表 done\n",
      "yunfu1_yunfu_3-密度继电器 done\n",
      "yunfu1_yunfu_4-密度继电器 done\n",
      "yunfu1_yunfu_5-1319开关 done\n",
      "yunfu1_yunfu_5-2203开关 done\n",
      "yunfu1_yunfu_5-SF6压力表 (2) done\n"
     ]
    },
    {
     "name": "stderr",
     "output_type": "stream",
     "text": [
      " 59%|█████▉    | 118/200 [00:10<00:05, 15.01it/s]"
     ]
    },
    {
     "name": "stdout",
     "output_type": "stream",
     "text": [
      "yunfu_1-1102开关 done\n",
      "yunfu_1-SF6压力表 (3) done\n",
      "yunfu_1-SF6压力表 done\n",
      "yunfu_1-密度继电器 done\n"
     ]
    },
    {
     "name": "stderr",
     "output_type": "stream",
     "text": [
      " 60%|██████    | 121/200 [00:10<00:04, 16.32it/s]"
     ]
    },
    {
     "name": "stdout",
     "output_type": "stream",
     "text": [
      "yunfu_2-1326开关 (2) done\n",
      "yunfu_2-2202开关 done\n",
      "yunfu_2-断路器SF6压力表 done\n"
     ]
    },
    {
     "name": "stderr",
     "output_type": "stream",
     "text": [
      " 62%|██████▏   | 123/200 [00:11<00:07, 10.81it/s]"
     ]
    },
    {
     "name": "stdout",
     "output_type": "stream",
     "text": [
      "yunfu_3-1012开关 (2) done\n",
      "yunfu_4-未知部件 done\n"
     ]
    },
    {
     "name": "stderr",
     "output_type": "stream",
     "text": [
      " 64%|██████▍   | 128/200 [00:12<00:10,  6.84it/s]"
     ]
    },
    {
     "name": "stdout",
     "output_type": "stream",
     "text": [
      "yunfu_5-1637开关 done\n",
      "yunfu_7-1631开关 done\n",
      "zhaoqing_#1变高 (3) done\n",
      "zhaoqing_#2变高 (2) done\n"
     ]
    },
    {
     "name": "stderr",
     "output_type": "stream",
     "text": [
      " 65%|██████▌   | 130/200 [00:12<00:09,  7.26it/s]"
     ]
    },
    {
     "name": "stdout",
     "output_type": "stream",
     "text": [
      "zhaoqing_103 done\n",
      "zhaoqing_11-2660开关 done\n"
     ]
    },
    {
     "name": "stderr",
     "output_type": "stream",
     "text": [
      " 68%|██████▊   | 137/200 [00:12<00:04, 13.57it/s]"
     ]
    },
    {
     "name": "stdout",
     "output_type": "stream",
     "text": [
      "zhaoqing_110kV备用线1461开关位置 done\n",
      "zhaoqing_110kV怀威乙线1346开关位置 done\n",
      "zhaoqing_110kV怀沙甲线1216开关位置 done\n",
      "zhaoqing_110kV怀飞乙线1380开关位置 done\n",
      "zhaoqing_12-2660开关 done\n",
      "zhaoqing_131-1012开关 done\n",
      "zhaoqing_17-2012开关 done\n",
      "zhaoqing_201 done\n"
     ]
    },
    {
     "name": "stderr",
     "output_type": "stream",
     "text": [
      " 70%|███████   | 141/200 [00:12<00:03, 15.95it/s]"
     ]
    },
    {
     "name": "stdout",
     "output_type": "stream",
     "text": [
      "zhaoqing_202 done\n",
      "zhaoqing_20240801150407809012780561510335-B done\n",
      "zhaoqing_22-6134开关 done\n",
      "zhaoqing_23-6134开关 done\n",
      "zhaoqing_7-断路器 done\n"
     ]
    },
    {
     "name": "stderr",
     "output_type": "stream",
     "text": [
      " 75%|███████▌  | 150/200 [00:13<00:02, 22.39it/s]"
     ]
    },
    {
     "name": "stdout",
     "output_type": "stream",
     "text": [
      "zhaoqing_8-1435开关 done\n",
      "zhaoqing_IMG_20240925_121546 done\n",
      "zhaoqing_IMG_20240925_121743 done\n",
      "zhaoqing_云官 (1) done\n",
      "zhaoqing_地方 (3) done\n",
      "zhaoqing_地方、 (4) done\n",
      "zhaoqing_地方、 (7) done\n",
      "zhaoqing_备用1485 (1) done\n",
      "zhaoqing_官荔 (1) done\n",
      "zhaoqing_封中线 (1) done\n"
     ]
    },
    {
     "name": "stderr",
     "output_type": "stream",
     "text": [
      " 78%|███████▊  | 155/200 [00:13<00:01, 24.73it/s]"
     ]
    },
    {
     "name": "stdout",
     "output_type": "stream",
     "text": [
      "zhaoqing_州云 (1) done\n",
      "zhaoqing_沙冷线开关储能  done\n",
      "zhaoqing_莫湖线开关储能 done\n",
      "zhaoqing_飞云站飞新线开关储能 done\n",
      "zhaoqing_香中线 (1) done\n"
     ]
    },
    {
     "name": "stderr",
     "output_type": "stream",
     "text": [
      " 82%|████████▎ | 165/200 [00:13<00:01, 22.52it/s]"
     ]
    },
    {
     "name": "stdout",
     "output_type": "stream",
     "text": [
      "zhongshan_20240801172930447608506501063896-B done\n",
      "zhongshan_20240805123527212299932121225312-B done\n",
      "zhongshan_20240806170005620119256088137929-B done\n",
      "zhongshan_20240807100703585237952372507218-B done\n",
      "zhongshan_20240807135820877783764213467539-B done\n",
      "zhongshan_20240807140350851124596162218997-B done\n",
      "zhongshan_20240807141436794469610240686959-B done\n",
      "zhongshan_20240809145943746329123255770036-B done\n",
      "zhongshan_20240816081310103056798472902459-B done\n",
      "zhongshan_20240816081524592585801244737407-B done\n",
      "zhongshan_20240819094759045394347148969344-B done\n",
      "zhongshan_20240822131155632490678693149991-B done\n",
      "zhongshan_20240912164921459030995966910502-B done\n",
      "zhongshan_20240912171727315509135584098672-B done\n",
      "zhongshan_20240913102904709400165078712799-B done\n",
      "zhongshan_20240919103025977186060912285527-S done\n",
      "zhongshan_20240919103138361962831031031756-B done\n"
     ]
    },
    {
     "name": "stderr",
     "output_type": "stream",
     "text": [
      " 90%|█████████ | 180/200 [00:14<00:00, 27.69it/s]"
     ]
    },
    {
     "name": "stdout",
     "output_type": "stream",
     "text": [
      "zhongshan_20240919103149740718862572654807-B done\n",
      "zhongshan_20240919133727977856281698964690-B done\n",
      "zhongshan_20240919134050090389242685011915-B done\n",
      "zhongshan_20240919140744382602849611269967-B done\n",
      "zhongshan_20240920155917248057150615736727-B done\n"
     ]
    },
    {
     "name": "stderr",
     "output_type": "stream",
     "text": [
      " 92%|█████████▏| 184/200 [00:14<00:00, 28.08it/s]"
     ]
    },
    {
     "name": "stdout",
     "output_type": "stream",
     "text": [
      "zhongshan_20240923103537405938254051435154-B done\n",
      "zhongshan_20240924172916118663467199329009-S done\n",
      "zhongshan_20240924172937826010728187610885-B done\n",
      "zhongshan_20240925082125866267582873933148-B done\n",
      "zhongshan_20240925084828781298165919234573-B done\n",
      "zhuhai_zhuhai__20241008144738580747862935706221 done\n",
      "zhuhai__20240924091407425375526647560280 done\n"
     ]
    },
    {
     "name": "stderr",
     "output_type": "stream",
     "text": [
      " 94%|█████████▍| 188/200 [00:14<00:00, 17.34it/s]"
     ]
    },
    {
     "name": "stdout",
     "output_type": "stream",
     "text": [
      "zhuhai__20240925180344172400712759985234 done\n"
     ]
    },
    {
     "name": "stderr",
     "output_type": "stream",
     "text": [
      " 96%|█████████▌| 191/200 [00:15<00:00, 13.40it/s]"
     ]
    },
    {
     "name": "stdout",
     "output_type": "stream",
     "text": [
      "zhuhai__20241008100208307504154982973753 done\n",
      "zhuhai__巡检图片 (2) done\n",
      "zhuhai__巡检图片-兰埔1 done\n",
      "zhuhai__巡检图片-唐家1 done\n"
     ]
    },
    {
     "name": "stderr",
     "output_type": "stream",
     "text": [
      " 98%|█████████▊| 195/200 [00:15<00:00, 11.08it/s]"
     ]
    },
    {
     "name": "stdout",
     "output_type": "stream",
     "text": [
      "zhuhai__巡检图片-官塘2 done\n",
      "zhuhai__巡检图片-柠溪1 done\n",
      "zhuhai__巡检图片-柠溪7 done\n"
     ]
    },
    {
     "name": "stderr",
     "output_type": "stream",
     "text": [
      " 98%|█████████▊| 197/200 [00:15<00:00, 12.06it/s]"
     ]
    },
    {
     "name": "stdout",
     "output_type": "stream",
     "text": [
      "zhuhai__巡检图片-柠溪8 done\n",
      "zhuhai__巡检图片-罗幸4 done\n",
      "zhuhai__巡检图片 done\n"
     ]
    },
    {
     "name": "stderr",
     "output_type": "stream",
     "text": [
      "100%|██████████| 200/200 [00:16<00:00, 12.14it/s]"
     ]
    },
    {
     "name": "stdout",
     "output_type": "stream",
     "text": [
      "zhuhai__斗门4 done\n",
      "zhuhai__柠溪3 done\n"
     ]
    },
    {
     "name": "stderr",
     "output_type": "stream",
     "text": [
      "\n"
     ]
    }
   ],
   "source": [
    "# raw_data dir:  x中文_x空格.jpg/.JPG/.xml\n",
    "import os\n",
    "from tqdm import tqdm\n",
    "import uuid\n",
    "import shutil\n",
    "\n",
    "def norm_filename_patch(data_root, save_root, subdata_folders={\"images\": \"images\", \"xml\": \"xml\"}, submissions=[\"train\", \"test\"]):\n",
    "    for submission in submissions:\n",
    "        # 定义图片和XML的源目录和目标目录\n",
    "        image_dir = os.path.join(data_root, subdata_folders[\"images\"], submission)\n",
    "        xml_dir = os.path.join(data_root, subdata_folders[\"xml\"], submission)\n",
    "        save_image_dir = os.path.join(save_root, subdata_folders[\"images\"], submission)\n",
    "        save_xml_dir = os.path.join(save_root, subdata_folders[\"xml\"], submission)\n",
    "\n",
    "        # 确保保存目录存在\n",
    "        os.makedirs(save_image_dir, exist_ok=True)\n",
    "        os.makedirs(save_xml_dir, exist_ok=True)\n",
    "\n",
    "        # 获取所有图片文件，假定只处理.jpg和.jpeg文件\n",
    "        for image_file in tqdm([f for f in os.listdir(image_dir) if f.lower().endswith(('.jpg', '.jpeg'))]):\n",
    "            # 去除文件扩展名，获取基础文件名\n",
    "            name, _ = os.path.splitext(image_file)\n",
    "            \n",
    "            # 构建对应的XML文件名\n",
    "            xml_file = name + \".xml\"\n",
    "            image_path = os.path.join(image_dir, image_file)\n",
    "            xml_path = os.path.join(xml_dir, xml_file)\n",
    "\n",
    "            # 如果对应的XML文件存在，则进行处理\n",
    "            if os.path.isfile(xml_path):\n",
    "                # 生成新的唯一文件名\n",
    "                new_name = str(uuid.uuid4())\n",
    "                new_image_file = new_name + '.jpg'\n",
    "                new_xml_file = new_name + '.xml'\n",
    "\n",
    "                # 指定新文件的保存路径\n",
    "                new_image_path = os.path.join(save_image_dir, new_image_file)\n",
    "                new_xml_path = os.path.join(save_xml_dir, new_xml_file)\n",
    "\n",
    "                # 复制文件到新位置\n",
    "                shutil.copyfile(image_path, new_image_path)\n",
    "                shutil.copyfile(xml_path, new_xml_path)\n",
    "                \n",
    "                print(f\"{name} done\")\n",
    "\n",
    "data_r = r\"F:\\switch\\switch_data\\1021newdata\\rawdata\"\n",
    "save_r = r\"F:\\switch\\switch_data\\1021newdata\\normdata\"\n",
    "norm_filename_patch(data_r, save_r)\n"
   ]
  },
  {
   "cell_type": "code",
   "execution_count": 4,
   "metadata": {},
   "outputs": [
    {
     "name": "stdout",
     "output_type": "stream",
     "text": [
      "len(train_image_nameset) = 654\n",
      "len(train_xml_nameset) = 654\n",
      "train_ = set()\n",
      "len(test_image_nameset) = 200\n",
      "len(test_xml_nameset) = 200\n",
      "test_ = set()\n"
     ]
    }
   ],
   "source": [
    "# check data match\n",
    "#  # train data\n",
    "train_image_dir = r\"F:\\switch\\switch_data\\1021newdata\\normdata\\images\\train\"\n",
    "train_xml_dir = r\"F:\\switch\\switch_data\\1021newdata\\normdata\\xml\\train\"\n",
    "train_image_nameset = {f.split('.')[0] for f in os.listdir(train_image_dir) if f.endswith('.jpg')}\n",
    "train_xml_nameset = {f.split('.')[0] for f in os.listdir(train_xml_dir) if f.endswith('.xml')}\n",
    "train_ = train_image_nameset - train_xml_nameset\n",
    "print(f\"{len(train_image_nameset) = }\")\n",
    "print(f\"{len(train_xml_nameset) = }\")  \n",
    "print(f\"{train_ = }\")\n",
    "\n",
    "\n",
    "# # test data\n",
    "test_image_dir = r\"F:\\switch\\switch_data\\1021newdata\\normdata\\images\\test\"\n",
    "test_xml_dir = r\"F:\\switch\\switch_data\\1021newdata\\normdata\\xml\\test\"\n",
    "test_image_nameset = {f.split('.')[0] for f in os.listdir(test_image_dir) if f.endswith('.jpg')}\n",
    "test_xml_nameset = {f.split('.')[0] for f in os.listdir(test_xml_dir) if f.endswith('.xml')}\n",
    "test_ = test_image_nameset - test_xml_nameset\n",
    "print(f\"{len(test_image_nameset) = }\")\n",
    "print(f\"{len(test_xml_nameset) = }\")       \n",
    "print(f\"{test_ = }\")"
   ]
  },
  {
   "cell_type": "code",
   "execution_count": 5,
   "metadata": {},
   "outputs": [
    {
     "name": "stderr",
     "output_type": "stream",
     "text": [
      " 22%|██▏       | 44/200 [00:00<00:01, 114.78it/s]"
     ]
    },
    {
     "name": "stdout",
     "output_type": "stream",
     "text": [
      "已更新 000b5db5-efc2-4a26-8548-ee91be68b2e9.xml 中的标签\n",
      "已更新 01bcae43-6efb-4422-866d-a3ab6d1943b1.xml 中的标签\n",
      "已更新 02d65aff-a66b-4ede-91a8-6abb4a801637.xml 中的标签\n",
      "已更新 0377fca8-5d77-4116-b9be-c05acda8ef5b.xml 中的标签\n",
      "已更新 0436292a-6ec3-4a03-9953-cc89c8f6d367.xml 中的标签\n",
      "已更新 04799dde-017e-42d0-81a8-b8b6fa5853b1.xml 中的标签\n",
      "已更新 06137b7e-de8a-411a-94bc-07736c7fc3c6.xml 中的标签\n",
      "已更新 06e82bba-6076-433f-887d-57405f6c31b1.xml 中的标签\n",
      "已更新 081a67d8-48d7-4758-b4f7-72919a5d4825.xml 中的标签\n",
      "已更新 08bbc341-2fd8-4b44-be21-9784d6857a43.xml 中的标签\n",
      "已更新 08fd4816-6761-467a-9ce3-efc149c7400c.xml 中的标签\n",
      "已更新 0bb027e9-fe0f-4ce8-90f0-9335261f7479.xml 中的标签\n",
      "已更新 0c26d7d1-086d-4d0b-b614-bae87b878d65.xml 中的标签\n",
      "已更新 0d361f89-0774-4187-8c74-e02f05d8b92d.xml 中的标签\n",
      "已更新 0f2d3d83-92b2-4d8e-ac36-e016ebec6de1.xml 中的标签\n",
      "已更新 0fc7cd9c-787c-49cb-8526-0ca4c29b9ba9.xml 中的标签\n",
      "已更新 13eaf497-ccae-4ef3-aad0-104fc75b019b.xml 中的标签\n",
      "已更新 16ffb40a-de26-4bb0-b8a1-366e84a2c64b.xml 中的标签\n",
      "已更新 1729e3cd-48a2-41ab-9c3c-c594ce987393.xml 中的标签\n",
      "已更新 17641217-5e5a-4062-b87f-0beb6e68ed00.xml 中的标签\n",
      "已更新 1794a0a3-16b3-4b61-8221-061592b86ff9.xml 中的标签\n",
      "已更新 180264a9-374c-427a-8d36-d21146a6d2b7.xml 中的标签\n",
      "已更新 18200e92-25b0-4065-a4b7-143a4525fe5e.xml 中的标签\n",
      "已更新 1842683a-f89c-4b96-a7b5-a2cd23eb3777.xml 中的标签\n",
      "已更新 19e7810a-d00e-4f04-8062-b8a104f0999f.xml 中的标签\n",
      "已更新 1b0e3154-4e12-429b-9732-4e47b4cacb28.xml 中的标签\n",
      "已更新 1b82135b-8fd8-4b51-922b-5b19507ec1b0.xml 中的标签\n",
      "已更新 1c82005b-f5cf-483c-9cef-8691de908709.xml 中的标签\n",
      "已更新 1cb4cacd-bf4c-47fa-80a2-da83b6d62710.xml 中的标签\n",
      "已更新 1d38d60f-cda1-45a0-8c0a-84ebbc426b21.xml 中的标签\n",
      "已更新 1d734a20-bfdb-4492-a038-c5c50695f0b7.xml 中的标签\n",
      "已更新 1da3f1c0-a2df-411a-b228-3d8c61ba037e.xml 中的标签\n",
      "已更新 1e8ec0bd-29db-4095-a6ea-2efb2f7077f0.xml 中的标签\n",
      "已更新 1f9203e4-2706-486e-bb36-cacfa1b0981e.xml 中的标签\n",
      "已更新 228dd62f-1aea-4b12-b011-d659e6e9243d.xml 中的标签\n",
      "已更新 239a3ff9-315a-4531-9776-f0b3fa2c1f11.xml 中的标签\n",
      "已更新 24a1134b-28b6-456e-b63c-f139b3f1102e.xml 中的标签\n",
      "已更新 25a854eb-442c-487a-9553-4c534edad7af.xml 中的标签\n",
      "已更新 25e6540d-7711-45c2-8dff-849814d95570.xml 中的标签\n",
      "已更新 273fbff4-c209-4c4b-9ba3-5dfa2b135028.xml 中的标签\n",
      "已更新 2763482c-63aa-4be4-be7f-1c996c444197.xml 中的标签\n",
      "已更新 27d5cb23-e6b8-4cff-bed5-ed71543883ba.xml 中的标签\n",
      "已更新 282f63db-6a87-4958-97af-c5e33406d2d0.xml 中的标签\n",
      "已更新 28665fe7-ad92-4309-8340-564b2df32362.xml 中的标签\n"
     ]
    },
    {
     "name": "stderr",
     "output_type": "stream",
     "text": [
      " 38%|███▊      | 77/200 [00:00<00:00, 178.43it/s]"
     ]
    },
    {
     "name": "stdout",
     "output_type": "stream",
     "text": [
      "已更新 29450cee-99b6-4838-b7dd-4069584c47d5.xml 中的标签\n",
      "已更新 297d67ff-0c55-4ec3-a38f-6526708d8bf5.xml 中的标签\n",
      "已更新 29bc349e-8d77-4b0c-82fe-f46d8ae22da8.xml 中的标签\n",
      "已更新 2b85f36e-43df-4660-b9d8-cc6f53c397e6.xml 中的标签\n",
      "已更新 2bfced60-55c0-4438-b4da-96d207d9bccc.xml 中的标签\n",
      "已更新 2c30f8b5-df3a-4d31-ac66-67a906a0657a.xml 中的标签\n",
      "已更新 2e6f6fd5-2593-4a57-81df-e7807853e2fb.xml 中的标签\n",
      "已更新 31c8c83c-804f-466f-83c1-0e42c2435ba8.xml 中的标签\n",
      "已更新 3300e25b-796a-4e88-b9e0-55124e570968.xml 中的标签\n",
      "已更新 35909533-0771-4421-9d4d-12631264e8b2.xml 中的标签\n",
      "已更新 38087539-2f95-49e3-97eb-c9560ef2fdd2.xml 中的标签\n",
      "已更新 38a2f1a9-e46b-4b5d-af64-bf2a4664cee7.xml 中的标签\n",
      "已更新 3980614a-0101-43e2-9743-652fa0c9cfc0.xml 中的标签\n",
      "已更新 3e63cbfa-78eb-4bb1-b03c-e2e17fe60b8c.xml 中的标签\n",
      "已更新 3fa6bdaf-a3e3-4599-b53b-aba4c95b93d2.xml 中的标签\n",
      "已更新 416b9c01-6be7-47ac-80cd-46799a2080e7.xml 中的标签\n",
      "已更新 42742744-4a90-4c7a-b9fa-36e325714438.xml 中的标签\n",
      "已更新 42d0577e-7fc9-4b19-b786-cd8f6cb67605.xml 中的标签\n",
      "已更新 4380d96a-c13a-43c6-a794-d40f7ee6793f.xml 中的标签\n",
      "已更新 43f81054-66c5-4bb2-a3b1-2fddab4fab03.xml 中的标签\n",
      "已更新 441b9c3a-c3ad-4a29-a4fe-8536c465587f.xml 中的标签\n",
      "已更新 4432701e-f82a-4469-8ecd-b3588d22e400.xml 中的标签\n",
      "已更新 4442659c-29f1-42bb-b9d2-b51fe9f4f81b.xml 中的标签\n",
      "已更新 459e417b-aca6-49fa-b9da-f9a6bf0c1828.xml 中的标签\n",
      "已更新 462fdb1a-82e6-445c-9900-8f576c7a6ea5.xml 中的标签\n",
      "已更新 46be1d77-7573-4254-9f58-58d5a340fc8a.xml 中的标签\n",
      "已更新 46c7f02d-aa68-4c9e-8e45-a7f766588aad.xml 中的标签\n",
      "已更新 46eebcb9-4a2a-4793-b559-fefc642a9812.xml 中的标签\n",
      "已更新 4878aceb-8723-4ea8-b6ab-225012553064.xml 中的标签\n",
      "已更新 488d8f9f-8df4-4a4b-8969-df69b3b8dece.xml 中的标签\n",
      "已更新 4c3c371f-92d5-4a4f-a1c8-83dc0bbb25be.xml 中的标签\n",
      "已更新 4d8ab758-4b05-4bb9-98fc-fd388079d700.xml 中的标签\n",
      "已更新 4f3e16d1-77bc-4836-8bc3-5e0338476cb6.xml 中的标签\n",
      "已更新 5035dd07-a68c-49dc-b227-f4b30fc57a4d.xml 中的标签\n",
      "已更新 55e2442d-f671-4ae6-b783-8ca602319118.xml 中的标签\n",
      "已更新 560b9288-8b01-4b7c-86df-5c3db5a2151d.xml 中的标签\n",
      "已更新 56e2e9fe-4c21-4a72-9c32-613e8fec52e8.xml 中的标签\n",
      "已更新 56ebc4e8-65c0-4806-bfd8-52902701ff33.xml 中的标签\n",
      "已更新 5749943e-3ce5-45c4-b73e-df9c9bc6c945.xml 中的标签\n",
      "已更新 5827eb7c-f2b9-43e5-996f-99d1b11cafc0.xml 中的标签\n",
      "已更新 588a36a1-721a-477e-8f6c-08e77af5a164.xml 中的标签\n",
      "已更新 58d73e2e-d044-4123-bdd5-f546c2ccc7d7.xml 中的标签\n",
      "已更新 59c52716-65c5-48b2-aff3-a6a37a0266e6.xml 中的标签\n",
      "已更新 5a30c65a-e030-4a99-b32e-5757256d3c40.xml 中的标签\n",
      "已更新 5a4ec8fb-f6ba-4c2a-af38-32b666644f56.xml 中的标签\n",
      "已更新 5cb917f5-7eb0-4673-a334-5877362bfd8d.xml 中的标签\n",
      "已更新 5d5455b3-de89-4406-81b7-14001af0f1c8.xml 中的标签\n",
      "已更新 5dc90e33-42a9-4932-a4bf-cfdfd8146dff.xml 中的标签\n",
      "已更新 5e7df478-3948-40de-b25a-dc76b7ac1d4a.xml 中的标签\n",
      "已更新 5f5915a2-a3f3-4fb6-ab82-39a1200945fb.xml 中的标签\n",
      "已更新 6240665d-2a6c-46ca-acb4-f5dbc9a999e0.xml 中的标签\n",
      "已更新 6262a323-d602-4cdb-8e0e-77bacec7b33a.xml 中的标签\n",
      "已更新 6309d709-a1d9-4468-af3f-248fddbc5798.xml 中的标签\n",
      "已更新 63db5128-3a6f-49aa-b372-f45bf9288f01.xml 中的标签\n"
     ]
    },
    {
     "name": "stderr",
     "output_type": "stream",
     "text": [
      " 63%|██████▎   | 126/200 [00:00<00:00, 206.82it/s]"
     ]
    },
    {
     "name": "stdout",
     "output_type": "stream",
     "text": [
      "已更新 64142119-20db-4f31-a78f-dafd82ef29a5.xml 中的标签\n",
      "已更新 65e6b152-7cdf-48cc-b264-dd028aef589c.xml 中的标签\n",
      "已更新 66dcc5b9-9698-4afd-ab0b-b27223c5881f.xml 中的标签\n",
      "已更新 67fe99db-b72a-49f0-8e1b-a9280d3e4750.xml 中的标签\n",
      "已更新 69254c28-3d8b-4f18-a84f-bfc5e7805541.xml 中的标签\n",
      "已更新 69693862-3553-41ce-ad5f-2d63cf8e67ad.xml 中的标签\n",
      "已更新 6f275581-bcfc-48cd-8889-03d41d3b73df.xml 中的标签\n",
      "已更新 70c0a41d-a960-4911-863a-6673fa5cb46d.xml 中的标签\n",
      "已更新 71013911-e87d-4f7d-bc41-d261a8505db5.xml 中的标签\n",
      "已更新 71d8d6a5-c47d-4e9d-b3ef-760551e05b46.xml 中的标签\n",
      "已更新 72ff7969-c670-4a57-9555-79d482343cac.xml 中的标签\n",
      "已更新 734d8897-9b22-4067-a359-4a3059902e0b.xml 中的标签\n",
      "已更新 735e3b1a-c69e-4bb3-b009-aedc9a399f70.xml 中的标签\n",
      "已更新 775dce2d-a284-4491-b859-b2ab110a8b4b.xml 中的标签\n",
      "已更新 781b9bc3-4446-4009-a02a-bbbf25cac53a.xml 中的标签\n",
      "已更新 7a7a3ae1-f6e2-414f-8122-f4a3da8e8363.xml 中的标签\n",
      "已更新 7b67107b-dd9a-44d8-b769-58b09b36a0d4.xml 中的标签\n",
      "已更新 7d7be501-a0d5-46f6-b3cf-3709655fee78.xml 中的标签\n",
      "已更新 7e1c5e5c-bd02-4f51-a54f-121a2d2acd35.xml 中的标签\n",
      "已更新 7ee18080-7a7b-409f-9bbd-45bf7e8bb26e.xml 中的标签\n",
      "已更新 814491f2-e396-4e31-9668-49e048987ee4.xml 中的标签\n",
      "已更新 815e8874-0a1b-404b-88b0-03c83aa595a6.xml 中的标签\n",
      "已更新 81a8b9d4-8bdd-49ee-9c8b-18279c9a0e2f.xml 中的标签\n",
      "已更新 82065894-91e2-4b6a-8b87-52d0672caa6a.xml 中的标签\n",
      "已更新 84277097-328a-4d2c-838d-1da104a101ce.xml 中的标签\n",
      "已更新 866974b7-1633-49dc-96bf-53dcf2d25da3.xml 中的标签\n",
      "已更新 86925c61-68be-43bd-bdfd-71a460d7a637.xml 中的标签\n",
      "已更新 8a462813-c1b6-447e-8ad7-fdb733191881.xml 中的标签\n",
      "已更新 8d37663e-ae4c-499c-b352-49bdad25eca0.xml 中的标签\n",
      "已更新 8de92699-5510-4886-893c-bad23b133b11.xml 中的标签\n",
      "已更新 8ea451a9-e12f-45f9-8bbb-54821a4c0a6d.xml 中的标签\n",
      "已更新 8f3e4103-1e30-4c94-9292-846e263d249b.xml 中的标签\n",
      "已更新 905600d0-24ae-4b7f-a915-64b22beb0b72.xml 中的标签\n",
      "已更新 90bd43b8-1642-4825-99d2-26770016c802.xml 中的标签\n",
      "已更新 9244e730-5865-49be-b268-495ba24525c1.xml 中的标签\n",
      "已更新 92c0c923-b4ca-42f1-89b5-1ef832bc3a6b.xml 中的标签\n",
      "已更新 92c402c1-33a2-4a36-9ef0-e8d748328801.xml 中的标签\n",
      "已更新 930c209d-b730-4de7-a0c4-693a72ef381d.xml 中的标签\n",
      "已更新 941f061e-528c-4596-b58c-f62b457a57c3.xml 中的标签\n",
      "已更新 95d4176f-f333-422a-9d21-f1f2cc8460b9.xml 中的标签\n",
      "已更新 98ec4365-61bf-469f-8e09-f1502a391469.xml 中的标签\n",
      "已更新 9e337996-13c6-4c51-94e9-62f08a7db4e6.xml 中的标签\n",
      "已更新 9e5b500b-d2a0-411e-96ca-633f6824fe35.xml 中的标签\n",
      "已更新 9f26b378-3276-47cc-9e9b-e5561543f382.xml 中的标签\n",
      "已更新 a03e4362-c52d-4b55-b065-f04c539eb611.xml 中的标签\n",
      "已更新 a0a37905-0806-4067-b404-c1c465f3ef33.xml 中的标签\n",
      "已更新 a2d42b2b-7cd9-456f-bb7d-54937787bd73.xml 中的标签\n",
      "已更新 a4d7b60e-0460-4776-adce-28bb54d49ca9.xml 中的标签\n",
      "已更新 a56a3078-5285-421f-b617-a7866c03977b.xml 中的标签\n",
      "已更新 a9b42bfa-751a-4f46-861b-64ea039affb1.xml 中的标签\n",
      "已更新 aae7d060-403d-442d-82bc-b0613dcd8a3e.xml 中的标签\n",
      "已更新 ab009252-6905-4b3f-89d3-87a073c5d4bb.xml 中的标签\n",
      "已更新 ad39b66e-f7cf-42f9-b785-347e44b2156f.xml 中的标签\n",
      "已更新 aed22aa6-7344-492f-8bca-e0d5d376afb6.xml 中的标签\n"
     ]
    },
    {
     "name": "stderr",
     "output_type": "stream",
     "text": [
      " 93%|█████████▎| 186/200 [00:01<00:00, 243.72it/s]"
     ]
    },
    {
     "name": "stdout",
     "output_type": "stream",
     "text": [
      "已更新 b14be1e7-fe00-49fa-9639-b145e70e5ed3.xml 中的标签\n",
      "已更新 b36fa68a-6c3d-46a8-a3fe-b0cd5ed543b5.xml 中的标签\n",
      "已更新 b39c93d4-9742-4b21-9ddd-b6d5a1f2a60a.xml 中的标签\n",
      "已更新 b52aee56-b1f5-4902-9d17-a4e03458d623.xml 中的标签\n",
      "已更新 b59fa5b8-cd10-4628-9701-225f6df8b453.xml 中的标签\n",
      "已更新 b6473794-2541-4323-8387-41688c5fa08f.xml 中的标签\n",
      "已更新 b958dbd9-0de8-429f-96a4-c5b0520860e1.xml 中的标签\n",
      "已更新 ba02491c-a3c0-4887-bfa5-be4bcc6a64da.xml 中的标签\n",
      "已更新 bc379705-b2dc-4441-b7b6-bfa745b973fa.xml 中的标签\n",
      "已更新 bd7b5cb0-5160-47d5-bc56-92b32275b814.xml 中的标签\n",
      "已更新 be7429bf-ae6f-41e6-b81f-2c9d171db558.xml 中的标签\n",
      "已更新 be926982-79ff-4af0-a5de-4a037f873f8e.xml 中的标签\n",
      "已更新 bf347c93-a187-4374-9393-df6a25719227.xml 中的标签\n",
      "已更新 c30f5ed5-7faf-4cc2-b3f1-af7ea6fcb77c.xml 中的标签\n",
      "已更新 c42b86fd-7abd-44ca-94e1-136bb6694cac.xml 中的标签\n",
      "已更新 c7326bb1-d58f-4284-83e1-7b7c5bc4fce9.xml 中的标签\n",
      "已更新 c739e750-e036-44ad-865c-3d0c4ad7a0ce.xml 中的标签\n",
      "已更新 ca283204-c53d-44bb-b52b-62f44c74211b.xml 中的标签\n",
      "已更新 ca63cb96-74ab-44a0-8d9b-9ff1a717fedb.xml 中的标签\n",
      "已更新 cdb738d7-577f-40dc-a61d-e25185cb0dd0.xml 中的标签\n",
      "已更新 cde341f9-8797-499d-98f6-ab58e6d0d128.xml 中的标签\n",
      "已更新 cf69d001-0fda-4093-ae61-3b01644a389a.xml 中的标签\n",
      "已更新 d41762fc-609d-4e6f-b35b-0522745bfde1.xml 中的标签\n",
      "已更新 d6923d3c-a2fd-402b-bd30-eeb27574c655.xml 中的标签\n",
      "已更新 d6e6ce9a-a51b-47e3-ad9d-2e2d4c35d6ab.xml 中的标签\n",
      "已更新 dafa756e-3801-4f7a-a332-65f61883c868.xml 中的标签\n",
      "已更新 dc8f6314-1b66-4d26-a9a7-5c6c88760c1d.xml 中的标签\n",
      "已更新 dd5c2624-3af7-40c2-94bc-40dda365385d.xml 中的标签\n",
      "已更新 dea38919-f4bb-44ae-911e-7e433735e246.xml 中的标签\n",
      "已更新 df231595-9fa7-4643-bf07-c18f96b462ce.xml 中的标签\n",
      "已更新 e123c80a-9120-4695-967b-510bc7621a0a.xml 中的标签\n",
      "已更新 e32b76ca-37b3-4f8c-84e5-8ada601984cd.xml 中的标签\n",
      "已更新 e6a3fc8f-86e5-47d9-bce2-8a3f95670a0e.xml 中的标签\n",
      "已更新 e6f29a7b-1c54-4ccc-aa14-27f9fcd49a92.xml 中的标签\n",
      "已更新 e96efaac-4e7b-4316-a6d9-36d8841e466b.xml 中的标签\n",
      "已更新 e9ea9058-289c-4299-a85f-5ef0a9fb46c7.xml 中的标签\n",
      "已更新 ec2f1c46-127e-4d88-8538-1649b7565e81.xml 中的标签\n",
      "已更新 ef289e16-dca1-444f-a9cf-9b5ce820e168.xml 中的标签\n",
      "已更新 f0ab33b9-ffda-4462-b962-8a655f15bea9.xml 中的标签\n",
      "已更新 f1e9f6e3-2ad9-407b-a885-13e2ddaf15fd.xml 中的标签\n",
      "已更新 f654b5ea-58c7-4165-b5c3-18f8804eb626.xml 中的标签\n",
      "已更新 f8fee4c5-f9ed-409f-986e-1454e19b3882.xml 中的标签\n",
      "已更新 f938577d-b600-45c6-af2d-e7b6c9ddd62f.xml 中的标签\n",
      "已更新 fc4ffe44-5c4c-46a8-9487-c072037abec3.xml 中的标签\n",
      "已更新 fc6b09fa-57fb-4593-b5a5-b394ac7492ff.xml 中的标签\n"
     ]
    },
    {
     "name": "stderr",
     "output_type": "stream",
     "text": [
      "100%|██████████| 200/200 [00:01<00:00, 174.06it/s]\n"
     ]
    },
    {
     "name": "stdout",
     "output_type": "stream",
     "text": [
      "已更新 fc7415c0-e2ed-4033-a103-0c3393c21522.xml 中的标签\n",
      "已更新 fdafcd85-d84c-40fd-b743-877a70facd19.xml 中的标签\n",
      "已更新 fe929353-743f-48ac-8a73-d5a7dbf99924.xml 中的标签\n"
     ]
    },
    {
     "name": "stderr",
     "output_type": "stream",
     "text": [
      "  3%|▎         | 19/654 [00:00<00:03, 183.02it/s]"
     ]
    },
    {
     "name": "stdout",
     "output_type": "stream",
     "text": [
      "已更新 00904017-d74b-48af-b76c-0836f958e5e6.xml 中的标签\n",
      "已更新 00ec8c10-a57c-431a-9694-d29a0d1bbe8f.xml 中的标签\n",
      "已更新 015a768b-3c35-495e-983b-6ec1aa6ce36b.xml 中的标签\n",
      "已更新 01c8cc34-5394-4d40-a02e-cb09b99f4e93.xml 中的标签\n",
      "已更新 01fad98d-44d8-46ba-b841-d89827ea5859.xml 中的标签\n",
      "已更新 021a3b2f-1fb7-4388-9ee8-84346b37afd8.xml 中的标签\n",
      "已更新 02684903-6d61-4b71-8b42-af653bee52cc.xml 中的标签\n",
      "已更新 02c66157-56da-499e-8743-e30da6d04832.xml 中的标签\n",
      "已更新 034671db-0caf-4b9d-8bc0-6d5757780a28.xml 中的标签\n",
      "已更新 03b67486-2805-4faa-817d-e3378ae868f1.xml 中的标签\n",
      "已更新 049f162c-e115-4910-a668-9c71d78c55b9.xml 中的标签\n",
      "已更新 0538ce84-4ca8-479f-bb3c-e2366758ce35.xml 中的标签\n",
      "已更新 053e6e8c-d45a-463a-b85d-61fc6ca5d518.xml 中的标签\n",
      "已更新 05da145e-6bec-4710-82cd-e35b7b60a875.xml 中的标签\n",
      "已更新 0605ddca-fe42-4a16-b1be-334218e68056.xml 中的标签\n",
      "已更新 06623556-3e6f-4b27-8f5e-bad1337ef0fd.xml 中的标签\n",
      "已更新 06f487cc-53a4-407f-99c2-37d0c05027e4.xml 中的标签\n",
      "已更新 0725528d-a949-471b-9490-4a9e3faf2581.xml 中的标签\n",
      "已更新 07850aa8-59c0-493b-b67d-54500434da01.xml 中的标签\n",
      "已更新 082a04e4-9bad-4fc3-afa5-12423c8c2003.xml 中的标签\n",
      "已更新 086d26f9-c32a-4df3-b495-07480cf91a64.xml 中的标签\n",
      "已更新 08e89c98-d29d-4311-b7f2-97fd6edc5b50.xml 中的标签\n",
      "已更新 08f80831-7fe4-4217-a410-54016ae4dc3f.xml 中的标签\n",
      "已更新 0934ffa8-c6d8-4242-af5f-d1624fdd2c8d.xml 中的标签\n",
      "已更新 0938a262-4b92-4d47-95bc-d3ad96408d0b.xml 中的标签\n",
      "已更新 09617b39-6dc6-4ab2-b7c9-d0281f5b8c13.xml 中的标签\n",
      "已更新 0994432d-0301-4e7a-9df4-672072f8adc5.xml 中的标签\n",
      "已更新 0a2e0880-d6be-43d5-ab9f-cdeffa099894.xml 中的标签\n",
      "已更新 0a49c121-a82c-4fed-84d7-3c61a6e0a34e.xml 中的标签\n",
      "已更新 0a504ba5-0df8-49c0-a68a-faa8db389ed0.xml 中的标签\n",
      "已更新 0a7ba389-3ce9-4438-a6eb-1c044627389d.xml 中的标签\n",
      "已更新 0a868a92-c60b-439f-90bc-60af227f6f93.xml 中的标签\n",
      "已更新 0aa343bd-2416-40e7-a018-9d80996ed99b.xml 中的标签\n",
      "已更新 0aa6d578-1164-45e3-bc78-e0e5999ae8ee.xml 中的标签\n",
      "已更新 0acc5043-dd23-4e70-875c-7c67b7745b63.xml 中的标签\n",
      "已更新 0b6d5c3a-ef06-46bd-a130-87f2476a0d8d.xml 中的标签\n",
      "已更新 0bd348f9-5017-4abf-8053-f80214643f3b.xml 中的标签\n",
      "已更新 0c0e552b-f051-49e3-96c4-38b01857a488.xml 中的标签\n"
     ]
    },
    {
     "name": "stderr",
     "output_type": "stream",
     "text": [
      " 12%|█▏        | 80/654 [00:00<00:02, 281.94it/s]"
     ]
    },
    {
     "name": "stdout",
     "output_type": "stream",
     "text": [
      "已更新 0c3e4972-b1d8-4204-b0aa-fd8635a12a24.xml 中的标签\n",
      "已更新 0c5426a3-5cab-4cc7-b861-40131ed134d6.xml 中的标签\n",
      "已更新 0cd7e3dd-b472-4cca-b1c4-7a2f88ade258.xml 中的标签\n",
      "已更新 0d2f6484-5855-41cd-ae2e-40709a23c35a.xml 中的标签\n",
      "已更新 0d42b379-c83b-46a7-997a-7ed2b6b03ceb.xml 中的标签\n",
      "已更新 0dac4826-37cf-4df5-92a4-6af1775e5360.xml 中的标签\n",
      "已更新 0ddf319a-cd4a-4404-bd5f-17d40bc543e3.xml 中的标签\n",
      "已更新 0e47cd56-37b0-4278-ac30-8135062f4aff.xml 中的标签\n",
      "已更新 0e658802-119f-4475-b6da-f39a983b1e32.xml 中的标签\n",
      "已更新 0f3dd3dc-25db-465d-ae28-2429f98ed58d.xml 中的标签\n",
      "已更新 108307d6-8b68-4eed-a252-b88bd3f9ed7d.xml 中的标签\n",
      "已更新 10b3fe37-95fc-471b-9e9a-ef27b2320ae5.xml 中的标签\n",
      "已更新 1114c140-7010-452c-8493-172f56aa16e9.xml 中的标签\n",
      "已更新 11af1d82-9d1a-4d17-a272-d03dea372bb4.xml 中的标签\n",
      "已更新 12b8d85b-c1e0-445a-a973-6b7d93b7aa2e.xml 中的标签\n",
      "已更新 133b91ee-d081-43cb-ad14-db6861481b3b.xml 中的标签\n",
      "已更新 143e81c0-53fe-4e30-a4fb-eedefe4049ea.xml 中的标签\n",
      "已更新 14b69587-75b4-4321-b183-564cf2afc035.xml 中的标签\n",
      "已更新 14ef3736-d279-4201-94ea-869079cf2dd3.xml 中的标签\n",
      "已更新 15538968-f2f3-453f-8f82-385e7c64108e.xml 中的标签\n",
      "已更新 155b206d-30bd-4274-9568-cdc4137f485d.xml 中的标签\n",
      "已更新 15d03f38-e99f-4a00-9245-d6655314d144.xml 中的标签\n",
      "已更新 16677fb8-72e9-4b72-8980-eeca5638d11a.xml 中的标签\n",
      "已更新 169ab657-26bd-4a6c-9f28-af6cfbf0668e.xml 中的标签\n",
      "已更新 169eaf66-08fb-4032-a493-665033cf6d88.xml 中的标签\n",
      "已更新 16ae2bef-b826-4139-9900-efc1d428bc44.xml 中的标签\n",
      "已更新 16afc1be-bc8c-4cb2-ae60-297acaf7d89a.xml 中的标签\n",
      "已更新 170c042f-004e-4ab5-89ef-23b664591f92.xml 中的标签\n",
      "已更新 170d59a2-eb92-41b5-8ec9-bc93c055476c.xml 中的标签\n",
      "已更新 17d976bb-c51c-412f-91f3-720e40a751b8.xml 中的标签\n",
      "已更新 17dc7858-cc98-40ca-8614-83a94e72efe2.xml 中的标签\n",
      "已更新 18150a4e-8bd0-4c9d-a721-a56146b746d8.xml 中的标签\n",
      "已更新 188f9a1c-868a-4622-be5b-6012151a718c.xml 中的标签\n",
      "已更新 18920db2-ba18-4f89-84f3-9cc8308f2daa.xml 中的标签\n",
      "已更新 196c6c2a-1641-447d-a0d3-9df58e1dd868.xml 中的标签\n",
      "已更新 1ababfe6-0a91-4c59-85df-c4792bb52e62.xml 中的标签\n",
      "已更新 1ae9f6b0-c509-4094-bb9d-034cfc56fb7f.xml 中的标签\n",
      "已更新 1b076400-7343-4c05-862b-126136a897cb.xml 中的标签\n",
      "已更新 1bc154a8-8019-4505-af6c-a9560347bca5.xml 中的标签\n",
      "已更新 1c6c9fb4-8c6f-4330-9e19-283ee87aa4a3.xml 中的标签\n",
      "已更新 1d493f5b-5da5-42ab-95a6-b55be42fbe2f.xml 中的标签\n",
      "已更新 1d4ebe52-2f8e-4689-8039-a22c808c1070.xml 中的标签\n",
      "已更新 1e40bbbe-209b-46f7-8dbc-2bfc07502a9a.xml 中的标签\n",
      "已更新 1e4aed79-c1a1-4d06-8952-2295717269b9.xml 中的标签\n",
      "已更新 1e715b35-d2cc-400d-8d1a-e096c7144a53.xml 中的标签\n",
      "已更新 1eac2463-6ac3-4461-8dad-5ccdc6326bd2.xml 中的标签\n",
      "已更新 1ed744ee-bea3-452b-93a4-a7e872103f9a.xml 中的标签\n",
      "已更新 1ee16bd4-fb26-4259-b046-800313feb1e8.xml 中的标签\n",
      "已更新 1eee08fa-4cd0-40f8-aabb-70a458898627.xml 中的标签\n",
      "已更新 1f6f6e81-ffa7-4be5-a3e0-8c483fac8bfc.xml 中的标签\n",
      "已更新 217680da-484c-4a78-8983-70eee43fe6e1.xml 中的标签\n",
      "已更新 2237b6b4-31bd-4d71-bec8-1a018a4cc2b5.xml 中的标签\n",
      "已更新 22646ba5-e31b-4527-a08f-0529836141b3.xml 中的标签\n",
      "已更新 22c6fde0-3418-4983-b645-cc9cc6230f60.xml 中的标签\n",
      "已更新 22e7627e-8410-4add-87a3-964276fe056c.xml 中的标签\n",
      "已更新 230d260d-0de8-42fb-8589-3ff01b0d17ba.xml 中的标签\n",
      "已更新 23596ad1-a2bd-485f-b855-f9bcc49418a4.xml 中的标签\n",
      "已更新 23b0cf53-b3ba-4c79-bf57-cab733b11303.xml 中的标签\n",
      "已更新 2483f021-e5ac-4941-83cc-5336436ab91f.xml 中的标签\n",
      "已更新 252e794d-cbb2-4ff1-95cc-fca20d3f1fa9.xml 中的标签\n",
      "已更新 2571935c-716b-427a-a94b-724d7e9e7273.xml 中的标签\n",
      "已更新 25ab76b7-8859-4bd5-ae21-3509822597f6.xml 中的标签\n",
      "已更新 2609b4a4-6712-434e-b078-063e691193df.xml 中的标签\n",
      "已更新 262d1195-ac1f-4f09-b1be-74425bf9916d.xml 中的标签\n",
      "已更新 26345d64-e586-4022-a3b0-4ed70e093c2c.xml 中的标签\n"
     ]
    },
    {
     "name": "stderr",
     "output_type": "stream",
     "text": [
      " 21%|██        | 136/654 [00:00<00:02, 252.78it/s]"
     ]
    },
    {
     "name": "stdout",
     "output_type": "stream",
     "text": [
      "已更新 26f982a8-0311-4b8c-bcb0-2738eef46db4.xml 中的标签\n",
      "已更新 2751a6b1-369d-40a9-92a4-b40d99567084.xml 中的标签\n",
      "已更新 293c9757-4d8c-4c83-a50b-0411e968fb0b.xml 中的标签\n",
      "已更新 29956473-4c70-40fa-b5be-f4d7c1cde1bf.xml 中的标签\n",
      "已更新 29a47d03-2b78-498a-a857-a5c9fdfce64b.xml 中的标签\n",
      "已更新 2a19bc3b-45a0-4fe3-b1ba-cd44ff8ca3b0.xml 中的标签\n",
      "已更新 2a2172ab-af05-41e7-95a0-f4ee9bd03233.xml 中的标签\n",
      "已更新 2a84672e-2e38-486c-9eaf-f40d7fcfbfdb.xml 中的标签\n",
      "已更新 2ab126ea-19da-4bad-b602-7fc696c5767b.xml 中的标签\n",
      "已更新 2bbeed7e-3d10-40b5-9c61-18c78f472e7c.xml 中的标签\n",
      "已更新 2bf21828-7c9c-4e77-b153-f09263f19a8d.xml 中的标签\n",
      "已更新 2d02b054-6b75-42ac-a2d8-ac931232103d.xml 中的标签\n",
      "已更新 2d239203-45ff-4eb5-bbec-a2f05262d300.xml 中的标签\n",
      "已更新 2dc3db5c-0847-457e-b468-46abffa2bb70.xml 中的标签\n",
      "已更新 2dcff5c1-4d8a-4d3c-b9d5-e03f848af8dc.xml 中的标签\n",
      "已更新 2dd743e5-da50-4b2b-9b04-519439a651ce.xml 中的标签\n",
      "已更新 2e7a6609-ff41-443e-bdf6-ac3b317d845c.xml 中的标签\n",
      "已更新 2f2423a3-e93e-4f1a-b942-686390abf7cf.xml 中的标签\n",
      "已更新 2f2eb9a4-4a5b-48a3-8100-78225db00186.xml 中的标签\n",
      "已更新 2f7d22e1-6932-45a0-a845-871129d2753b.xml 中的标签\n",
      "已更新 30b89ae3-72fd-4d50-83de-05f133e7d721.xml 中的标签\n",
      "已更新 30da4f7c-4fb5-464d-beee-8145e19ec79f.xml 中的标签\n",
      "已更新 30dcf4b4-6cdb-45a9-9da3-13ed0f6ccd31.xml 中的标签\n",
      "已更新 31119d5e-9f51-4496-a0b2-14260f735986.xml 中的标签\n",
      "已更新 31443246-3289-4915-8899-4d129284813e.xml 中的标签\n",
      "已更新 31514b65-4659-43be-ba83-05920dd84764.xml 中的标签\n",
      "已更新 327fa1c5-c125-4f70-bc3a-4c185e311b2c.xml 中的标签\n",
      "已更新 333ab2bc-0a9e-4b26-a828-5856d52d8fda.xml 中的标签\n",
      "已更新 334e7bb8-9212-41ca-af2b-b2351ae6e923.xml 中的标签\n",
      "已更新 33926c2e-6fe0-44e7-94cd-4f2d6a742e09.xml 中的标签\n",
      "已更新 33c02bc2-4b39-4d89-83e9-60b8c4904ef8.xml 中的标签\n",
      "已更新 33e88b02-f6b7-4a32-a95c-5ec8c0a69f78.xml 中的标签\n",
      "已更新 33f46b5d-7d4d-481a-81e3-41f44800ccc6.xml 中的标签\n",
      "已更新 3465d980-b63d-41ad-9da4-b989acd13291.xml 中的标签\n",
      "已更新 347fc6bb-d05d-4baa-b157-401d73bbdcd4.xml 中的标签\n",
      "已更新 35c6e61a-fded-4c54-9179-340ed7520ba2.xml 中的标签\n",
      "已更新 369fea2a-b8d5-4b6f-a141-b30ef822fa20.xml 中的标签\n",
      "已更新 36a25160-edfd-437f-b151-cb480b5a497a.xml 中的标签\n",
      "已更新 3713416e-8ca4-473b-8bde-bf667eabbc29.xml 中的标签\n",
      "已更新 3745b4bd-1a6d-4d50-88ee-bc4f687dec88.xml 中的标签\n",
      "已更新 3773cc58-1536-4b39-ad9a-3ddf80976a43.xml 中的标签\n",
      "已更新 378b3a21-d1a3-411f-a310-d185c56043ec.xml 中的标签\n",
      "已更新 37ae9e9a-4f02-4d11-ba99-183d9751bc78.xml 中的标签\n",
      "已更新 37b6d0b5-ecdd-42f6-b4ad-9dd7b604afeb.xml 中的标签\n",
      "已更新 38548a51-3230-4eb8-a680-04a45eb63094.xml 中的标签\n",
      "已更新 38c23fbb-33a3-46ca-a0a5-9d22d31c29cf.xml 中的标签\n",
      "已更新 39ceeb04-f0a6-4802-bfd6-c00f690c0570.xml 中的标签\n"
     ]
    },
    {
     "name": "stderr",
     "output_type": "stream",
     "text": [
      " 30%|██▉       | 195/654 [00:00<00:01, 266.82it/s]"
     ]
    },
    {
     "name": "stdout",
     "output_type": "stream",
     "text": [
      "已更新 3a479e83-daaa-4ac9-9ecf-4a8d5ebafb3d.xml 中的标签\n",
      "已更新 3b4f8984-4c9d-484c-a256-08493e4a5047.xml 中的标签\n",
      "已更新 3c33364f-a1f8-4365-86dd-b8c8be5d5d50.xml 中的标签\n",
      "已更新 3c6887ba-24a6-454b-a946-8191f0e02108.xml 中的标签\n",
      "已更新 3c6b4fa0-ce8e-4f3e-b77e-239c40458107.xml 中的标签\n",
      "已更新 3cd6f1c8-d739-48ab-88ab-4c48c8ab854c.xml 中的标签\n",
      "已更新 3d1b53e5-f279-4ed0-a703-595cadcd7eca.xml 中的标签\n",
      "已更新 3da83394-df2a-4f21-90b4-e0a91e4e6ba3.xml 中的标签\n",
      "已更新 3e38dd14-8ccb-4122-8156-bad936cc13d8.xml 中的标签\n",
      "已更新 3e9d8d86-ad55-44c5-8f36-9aecccd58bda.xml 中的标签\n",
      "已更新 3ee4f2a6-fe51-4c3e-b790-55d790f34c8a.xml 中的标签\n",
      "已更新 3f5290c5-4a2a-420b-a85a-6b64dde978b5.xml 中的标签\n",
      "已更新 3f57d427-c781-4519-9ed5-d03b4f351a2e.xml 中的标签\n",
      "已更新 3fd29f07-42b9-409e-886a-0410852467f9.xml 中的标签\n",
      "已更新 40288835-77f0-4c0c-9246-d37cb9e14291.xml 中的标签\n",
      "已更新 402d194d-a708-49cb-8b21-2c2066efa171.xml 中的标签\n",
      "已更新 40e052a7-5e42-4ae3-8d1a-149fe76f957c.xml 中的标签\n",
      "已更新 417e992d-dd0b-4359-b8b1-f9c4283e7a7e.xml 中的标签\n",
      "已更新 42119984-5fc4-44ac-968c-240a657b230d.xml 中的标签\n",
      "已更新 428843c1-5853-4f33-b423-90a9daded9db.xml 中的标签\n",
      "已更新 428c1a5d-a090-4c7b-9ef6-7def743aa1b4.xml 中的标签\n",
      "已更新 42a47d04-00c2-4ee4-ad32-d5f83d7da7be.xml 中的标签\n",
      "已更新 433fd72f-b776-4f8d-9077-8c4c9173a8c9.xml 中的标签\n",
      "已更新 43b30468-7e9a-4f2b-8499-2e70369e5b08.xml 中的标签\n",
      "已更新 4433c1e0-a244-4edd-bf68-fa037ec4a46f.xml 中的标签\n",
      "已更新 44b01b25-1285-4fc9-b3fa-e7aeadd3956e.xml 中的标签\n",
      "已更新 44cc4dfa-9df9-4ecb-aa3c-935245b73b8c.xml 中的标签\n",
      "已更新 44d7b0f5-f503-4945-aa6e-0ff81c904463.xml 中的标签\n",
      "已更新 4542b641-d6a7-4745-8c90-e317cbc3f674.xml 中的标签\n",
      "已更新 45983c7e-a7d4-4140-8258-0364a0c2e787.xml 中的标签\n",
      "已更新 459eaeee-720b-4f01-ba71-5ba41da195c6.xml 中的标签\n",
      "已更新 45d2611e-fec1-449c-aefe-51b78910026b.xml 中的标签\n",
      "已更新 464dbc1f-0888-4d21-95a5-66f98cad4d7b.xml 中的标签\n",
      "已更新 467e4a32-7a13-4093-b196-b121e1c24c22.xml 中的标签\n",
      "已更新 46ba4233-616a-426e-b1cc-f63c2ec318bf.xml 中的标签\n",
      "已更新 4760f1c8-ebc9-493c-a9bf-8b7177bca2a3.xml 中的标签\n",
      "已更新 47ba9073-9c4a-475c-bf3a-1d9a4824f88b.xml 中的标签\n",
      "已更新 484a679f-fc24-412f-a1ca-38392e5efac1.xml 中的标签\n",
      "已更新 48988dea-c39f-4150-b8d6-c99345386182.xml 中的标签\n",
      "已更新 48bdba20-eb69-47cb-b577-c6ae095feff0.xml 中的标签\n",
      "已更新 490c3a82-3ffb-406d-844f-72c3592bb2bf.xml 中的标签\n",
      "已更新 4a101102-5f02-4c39-aa0c-d3ce1f97f48e.xml 中的标签\n",
      "已更新 4aa256ad-9e4b-47a2-99f4-84b717d3c013.xml 中的标签\n",
      "已更新 4b30bce5-d666-450b-963b-9b0d71923190.xml 中的标签\n",
      "已更新 4b599ad4-1e3b-4ca2-b320-5d416cc8da31.xml 中的标签\n",
      "已更新 4b8e666c-45e1-43d8-9dbc-aea74666dc56.xml 中的标签\n",
      "已更新 4b935829-de5d-4712-a3f7-c966468a323c.xml 中的标签\n",
      "已更新 4b9ea799-01b4-4df5-ae2d-114e49cc2a86.xml 中的标签\n",
      "已更新 4be8e266-b818-4197-be8e-60c54bbd1807.xml 中的标签\n",
      "已更新 4c29c9bd-0518-448a-8fe1-9127b2230c3d.xml 中的标签\n",
      "已更新 4c711ca7-284f-4bcf-8558-338907c14241.xml 中的标签\n",
      "已更新 4c7f50a3-bed0-47cb-abe6-8b9f95822740.xml 中的标签\n",
      "已更新 4c92e102-4507-43d0-87ba-1c9510564221.xml 中的标签\n",
      "已更新 4d1a937f-26a2-44dd-8b62-9cd8735432fd.xml 中的标签\n",
      "已更新 4d2e5bfa-77c2-476e-a13b-73526b96fe3a.xml 中的标签\n",
      "已更新 4d56d03b-19f1-4f32-bdf9-fb56fcd9d70a.xml 中的标签\n",
      "已更新 4e38ca4d-5514-494d-8fa9-e0a1f723f813.xml 中的标签\n",
      "已更新 4e4e54f2-eb00-4a08-92ce-71c1e0c405db.xml 中的标签\n",
      "已更新 4ea0b0b9-e77f-49ee-962a-05f8872d4fa9.xml 中的标签\n",
      "已更新 4efdd589-d9f1-483e-bbd7-c93bb53f7e1f.xml 中的标签\n",
      "已更新 4fa6e546-c74a-44a9-9ce4-60a49e6a739f.xml 中的标签\n",
      "已更新 4fc19bee-a4cf-4e11-b96a-b32cdb212a7f.xml 中的标签\n",
      "已更新 5046e382-977b-4d10-b0fd-34e1884014ba.xml 中的标签\n",
      "已更新 512bdfd8-572d-41f5-9480-05340cbbb053.xml 中的标签\n",
      "已更新 51bf40a1-99a7-4047-a465-4200ed94f336.xml 中的标签\n",
      "已更新 53b96ec7-16ff-4ec4-ab54-bf90ed54081e.xml 中的标签\n",
      "已更新 546064e3-86aa-414d-b149-87188c3710f9.xml 中的标签\n",
      "已更新 5546363d-065e-4ebf-b913-537c073056c3.xml 中的标签\n",
      "已更新 55885055-2a50-48bb-8b23-a2290e07cc8d.xml 中的标签\n"
     ]
    },
    {
     "name": "stderr",
     "output_type": "stream",
     "text": [
      " 39%|███▉      | 255/654 [00:00<00:01, 260.50it/s]"
     ]
    },
    {
     "name": "stdout",
     "output_type": "stream",
     "text": [
      "已更新 55b7ffd6-e5de-4b31-81bd-848048b62130.xml 中的标签\n",
      "已更新 56315c28-edaf-4e76-ad50-116302d7ef41.xml 中的标签\n",
      "已更新 563bd204-a72d-4a8b-bfb2-67b3cbf2a5af.xml 中的标签\n",
      "已更新 583b7339-af24-4e70-98e2-e9e66fbe9b24.xml 中的标签\n",
      "已更新 584b8663-a4a8-4a6c-ada9-a06bacf12c56.xml 中的标签\n",
      "已更新 58cf8847-ec4d-4f76-a78b-ea5f950506dc.xml 中的标签\n",
      "已更新 58e3f739-496a-4a52-9bcd-7efd32f0c26a.xml 中的标签\n",
      "已更新 5968adff-5ab6-4781-b516-763812851b4c.xml 中的标签\n",
      "已更新 5a9cce82-d8cf-454e-a386-5af7fe6fb0e3.xml 中的标签\n",
      "已更新 5b93a30e-7c4e-4f6a-8944-183b8f5df5c2.xml 中的标签\n",
      "已更新 5c0e76bf-32af-48e5-9a44-d9593a31ac60.xml 中的标签\n",
      "已更新 5c53b1f7-f9ad-46cb-9ff9-2bd303607f4e.xml 中的标签\n",
      "已更新 5cb2b60e-5d13-4a70-8b59-0e9f36ed26e1.xml 中的标签\n",
      "已更新 5cbe6118-9f5b-422b-9b8b-ccd0843b3952.xml 中的标签\n",
      "已更新 5ceb089d-9f7b-488a-8be7-c27b88a8794d.xml 中的标签\n",
      "已更新 5d0cc554-8230-4bcd-8c43-aae040d15b25.xml 中的标签\n",
      "已更新 5d11afdb-1a6b-4a3d-99e7-ae6d2c40cdb0.xml 中的标签\n",
      "已更新 5d27b489-5c5d-47fa-b86f-b6a290d4e304.xml 中的标签\n",
      "已更新 5d91f56b-97ad-4471-b319-b57bcb75670a.xml 中的标签\n",
      "已更新 5d94263f-5720-4f5d-ada8-c58d75df017e.xml 中的标签\n",
      "已更新 5ec37ef2-8b42-49e9-aa78-d204ee80b7a6.xml 中的标签\n",
      "已更新 5ed66f67-fd1c-4a17-8a1f-8a0f473f3298.xml 中的标签\n",
      "已更新 5ede8a01-b9b6-459f-83dc-96fa7065de06.xml 中的标签\n",
      "已更新 5f73c105-fd58-4ebe-84ae-b13eafdef3ce.xml 中的标签\n",
      "已更新 609ad41a-8dc8-4f02-bc48-3b1f1493af05.xml 中的标签\n",
      "已更新 60b3aea7-a00a-4a7d-9b88-3fc6c653461e.xml 中的标签\n",
      "已更新 611893b8-f60c-4f81-aec5-5dabcf0b7051.xml 中的标签\n",
      "已更新 611b0c82-a991-428f-9222-ba61b5046e24.xml 中的标签\n",
      "已更新 61eddeea-0fee-401a-967d-e371b7e85054.xml 中的标签\n",
      "已更新 620fa52a-40d4-4561-b28a-01f492e90d5a.xml 中的标签\n",
      "已更新 632e75e7-d0e7-4232-b6ec-41b96b4f2934.xml 中的标签\n",
      "已更新 6374a300-731b-4834-87d3-062b702f0317.xml 中的标签\n",
      "已更新 6382261a-e95a-449c-8c1a-4b901077fc7d.xml 中的标签\n",
      "已更新 6394bbfb-0f10-4858-a147-f8e877f5fe9d.xml 中的标签\n",
      "已更新 64098319-b59c-44bd-bb08-76aa63954fd1.xml 中的标签\n",
      "已更新 64241a52-d0a3-4c06-9706-1414f1141a84.xml 中的标签\n",
      "已更新 653e9ce0-8718-4974-905d-4c77d386ae93.xml 中的标签\n",
      "已更新 656501af-979c-4db4-a3f7-781829998018.xml 中的标签\n",
      "已更新 65d914f2-debb-48a8-9022-6a04e4b54e27.xml 中的标签\n",
      "已更新 665b0219-ce20-4c7f-9c41-9b8a5182c225.xml 中的标签\n",
      "已更新 6746de5d-6024-41bc-aa9f-1732c5ff0119.xml 中的标签\n",
      "已更新 676bc504-0aa7-4987-903b-d563ac0330b2.xml 中的标签\n",
      "已更新 6823fb84-44c3-4638-82f2-252f7a75dea6.xml 中的标签\n",
      "已更新 68c7a7b4-058a-4d20-bc4d-066538be6f7f.xml 中的标签\n",
      "已更新 692a4241-667b-42d3-bd7d-7d362be51402.xml 中的标签\n",
      "已更新 69655e15-ae04-4dbf-b59b-100f540266d8.xml 中的标签\n",
      "已更新 6974fa73-9254-484e-b3c3-d4616a177098.xml 中的标签\n",
      "已更新 69adf20f-85b4-42e2-b3d0-0f2ee0bc27b8.xml 中的标签\n",
      "已更新 6a88e78b-2c77-4896-b82d-33fdfe46bad0.xml 中的标签\n",
      "已更新 6b7d11f2-c1bf-4da4-83c3-90513da92633.xml 中的标签\n",
      "已更新 6bac3699-21d7-44a5-95b7-088b7ef957d2.xml 中的标签\n",
      "已更新 6c10ac0d-1638-4cf7-a989-cfb8f74ffc0d.xml 中的标签\n",
      "已更新 6c4d8754-c365-4c7d-a361-80e584254eed.xml 中的标签\n",
      "已更新 6c620c32-bb45-4023-b670-f1b169a2e9c9.xml 中的标签\n",
      "已更新 6c68e5b7-9990-4284-b550-f3c45c78af8d.xml 中的标签\n",
      "已更新 6c799c5a-afc0-4327-8ea7-a75ae1da5e58.xml 中的标签\n"
     ]
    },
    {
     "name": "stderr",
     "output_type": "stream",
     "text": [
      " 49%|████▊     | 318/654 [00:01<00:01, 286.01it/s]"
     ]
    },
    {
     "name": "stdout",
     "output_type": "stream",
     "text": [
      "已更新 6ecd31c8-90c9-4b83-b61a-28edb8d66fb4.xml 中的标签\n",
      "已更新 6f16324e-ab22-46ed-a5b8-e84428320e38.xml 中的标签\n",
      "已更新 6f2dc3b4-0f4b-478e-8fd4-82638cf5fddd.xml 中的标签\n",
      "已更新 6f44d5aa-3445-4442-9f09-29082e068fc5.xml 中的标签\n",
      "已更新 6fdeff34-eee9-4890-86eb-cf10c35fef2b.xml 中的标签\n",
      "已更新 6feb1c30-745f-49d9-b86f-c604eeb9781f.xml 中的标签\n",
      "已更新 717818ce-ebfc-4def-ac6f-435c151b1fd5.xml 中的标签\n",
      "已更新 71fa7d24-fe12-44dd-a39a-7a608f438db9.xml 中的标签\n",
      "已更新 72861025-ebc3-4a81-a718-174cc7d138a9.xml 中的标签\n",
      "已更新 72931ff4-91c4-4345-9353-6ddb81ad5db4.xml 中的标签\n",
      "已更新 72a1f06d-e20b-4097-a9e2-3b0505d68eb5.xml 中的标签\n",
      "已更新 72c571a3-14c8-442c-9e73-d30793903ce6.xml 中的标签\n",
      "已更新 72d99225-9408-4eb8-ae61-86fd35f88d9f.xml 中的标签\n",
      "已更新 73938e25-e729-43ad-82a7-55b80f85998a.xml 中的标签\n",
      "已更新 73ab7a5a-11ed-4712-8251-c0378d318aea.xml 中的标签\n",
      "已更新 73d0d528-87be-4804-92fe-580490292077.xml 中的标签\n",
      "已更新 744bea1f-f1c5-4b83-804d-8825c25e2605.xml 中的标签\n",
      "已更新 750e928f-93b8-400a-ab5b-da34a055aa82.xml 中的标签\n",
      "已更新 76553067-a7cc-4ce2-9bd8-633a9fe35296.xml 中的标签\n",
      "已更新 7836dfdd-5c28-4945-8628-f9e3b988e963.xml 中的标签\n",
      "已更新 78713398-7022-4edc-aa4c-fa3132c474c7.xml 中的标签\n",
      "已更新 78a9a1a8-2c9f-4b1d-a5a1-5fb3222336cd.xml 中的标签\n",
      "已更新 790d7048-3638-4c3f-b9c5-3f7b1f5ed263.xml 中的标签\n",
      "已更新 7966b4dc-b893-482f-8030-e65e6a28eccb.xml 中的标签\n",
      "已更新 7a00185f-9593-4143-942a-e6ae5970432c.xml 中的标签\n",
      "已更新 7a0f0295-96e5-41e7-84ee-7af40acc7f3d.xml 中的标签\n",
      "已更新 7aa4ec9b-4a65-4476-b4cf-198b0f007345.xml 中的标签\n",
      "已更新 7b15c9b1-1c64-4768-b53f-9754228136e8.xml 中的标签\n",
      "已更新 7c1bf393-c9b1-4eef-bad6-e81323b8deff.xml 中的标签\n",
      "已更新 7c9d89a6-43fe-41d7-b773-b381b1477ec3.xml 中的标签\n",
      "已更新 7d3ee42a-707f-42d1-b022-f97656527fb0.xml 中的标签\n",
      "已更新 7d441e66-65d4-4970-b5e2-0faed97dc379.xml 中的标签\n",
      "已更新 7d8bfe02-256c-46e3-87e0-38ebf44598df.xml 中的标签\n",
      "已更新 7e7c4d7e-7d76-40cd-b7e2-95de5b31e211.xml 中的标签\n",
      "已更新 7f60da09-8898-4442-b427-4fc9cc039716.xml 中的标签\n",
      "已更新 7f716bad-e321-4027-9216-c7f588f10e0a.xml 中的标签\n",
      "已更新 7f8a87bb-3346-4505-ad07-e3c0492a776c.xml 中的标签\n",
      "已更新 7fdcd57d-7479-483b-9eab-1e2825c9aa1a.xml 中的标签\n",
      "已更新 803b0284-98b5-4b50-977b-31dadce258f6.xml 中的标签\n",
      "已更新 80f31c81-499d-4103-b284-da4c6bf110e0.xml 中的标签\n",
      "已更新 8126170b-5d7a-4e21-82b3-c1fd652a1ea7.xml 中的标签\n",
      "已更新 81429acb-3698-4a4d-ae3d-57d98af69600.xml 中的标签\n",
      "已更新 815f76bd-843e-47c7-b5a7-40e68ec0c712.xml 中的标签\n",
      "已更新 817c3f80-8fa7-4f9c-af45-2753c4505542.xml 中的标签\n",
      "已更新 81c49d0a-3fa5-4f70-bcc0-dc20cfac184d.xml 中的标签\n",
      "已更新 8242067d-7d7c-4d93-9936-436667ecb9f4.xml 中的标签\n",
      "已更新 8255396c-7421-489e-b3ab-107b806be6d6.xml 中的标签\n",
      "已更新 825568c1-1008-4ab4-b9e1-3eb4e64dbd34.xml 中的标签\n",
      "已更新 8263a8eb-41bc-4808-ba9d-d65b4c8c4f54.xml 中的标签\n",
      "已更新 834a73e4-8fbf-4b0c-9313-1d7173c5cdcf.xml 中的标签\n",
      "已更新 8390a5be-36dc-48b5-8341-986af6802892.xml 中的标签\n",
      "已更新 83d74813-6a34-4a94-be36-996244a213f0.xml 中的标签\n",
      "已更新 83f0ee34-6a1d-4ba1-b5fb-9a56c05b47ff.xml 中的标签\n",
      "已更新 8402bc4d-695a-4778-8424-184e14cf7127.xml 中的标签\n",
      "已更新 84cef76c-8f80-4834-9efa-a431ac69c0b0.xml 中的标签\n",
      "已更新 84d492b4-9f9b-429e-bce3-1c2bfc282014.xml 中的标签\n",
      "已更新 86264cc5-3462-46f9-99c5-261e58739d05.xml 中的标签\n",
      "已更新 8653b96a-565c-4629-8f17-7e915fb185b6.xml 中的标签\n",
      "已更新 8666a500-140e-4a3d-b8fe-109d50c03f09.xml 中的标签\n",
      "已更新 867eb4f1-abad-4b11-b10a-c51b247ba25f.xml 中的标签\n",
      "已更新 86c983f9-b947-45aa-bf37-da43a04737a7.xml 中的标签\n",
      "已更新 86f3866c-38ac-4080-8f6d-5412e004857b.xml 中的标签\n",
      "已更新 879ac8d4-33f5-403d-8041-a22db60671e4.xml 中的标签\n",
      "已更新 87e69b4d-0575-468d-b448-216d26af8d05.xml 中的标签\n",
      "已更新 88a5b7dd-a8e3-4974-9edc-062134cba784.xml 中的标签\n",
      "已更新 88b1f628-5545-456c-92a6-b08df8ed5c00.xml 中的标签\n"
     ]
    },
    {
     "name": "stderr",
     "output_type": "stream",
     "text": [
      " 58%|█████▊    | 380/654 [00:01<00:00, 279.75it/s]"
     ]
    },
    {
     "name": "stdout",
     "output_type": "stream",
     "text": [
      "已更新 892f0d54-1259-428c-a787-354c572f0f45.xml 中的标签\n",
      "已更新 8933af45-6a52-4ff8-b8fc-056fb703e4cd.xml 中的标签\n",
      "已更新 89bffe1d-bbe8-47eb-ad14-a84c460bf5da.xml 中的标签\n",
      "已更新 89d412ac-3832-4dce-ba62-4e91ac91c8bc.xml 中的标签\n",
      "已更新 8a43746a-c00b-4e21-96a1-558d57ca0492.xml 中的标签\n",
      "已更新 8aa9f816-0554-4b40-8d81-5cc9ed030ec7.xml 中的标签\n",
      "已更新 8aeb92d9-9b49-4327-9c86-75d5daac3b51.xml 中的标签\n",
      "已更新 8b2cca22-3707-4a08-929c-19419de3558a.xml 中的标签\n",
      "已更新 8b2d5afc-8efc-4797-b9c0-d4c9bc22e969.xml 中的标签\n",
      "已更新 8b40ede5-c243-4e46-afa6-7d623a361d7f.xml 中的标签\n",
      "已更新 8b4516bf-7d6c-4eba-9f10-9cb39054a283.xml 中的标签\n",
      "已更新 8b6c9a02-75bf-4861-b637-01c326f8fe58.xml 中的标签\n",
      "已更新 8c1988bc-afad-46c3-a185-3370d8a72356.xml 中的标签\n",
      "已更新 8c625bd9-c008-42f8-bf42-e7be7a111979.xml 中的标签\n",
      "已更新 8ce4ef2e-4f9c-4428-8070-24c8a1483834.xml 中的标签\n",
      "已更新 8de6d0b9-5dc6-4986-a05c-c09bc7d5cb34.xml 中的标签\n",
      "已更新 8e64b79f-70e1-41ff-9370-4d0c693ac7df.xml 中的标签\n",
      "已更新 8e9c2060-7086-452b-bd87-34a81b711753.xml 中的标签\n",
      "已更新 8ed06199-3b11-44d6-961d-a7d9589211ff.xml 中的标签\n",
      "已更新 8f30f121-51a5-4a66-9761-a587fc888e4e.xml 中的标签\n",
      "已更新 8f6d52b6-0669-4907-a914-2d6b069a17d2.xml 中的标签\n",
      "已更新 8f9c8814-68d6-4f0e-ad94-b939f6ffb618.xml 中的标签\n",
      "已更新 8fcf7310-b32d-48a3-b6ab-f31248247a5e.xml 中的标签\n",
      "已更新 90289b6e-5d69-46e1-8916-7ae107910b52.xml 中的标签\n",
      "已更新 90823196-71bf-4c74-a9b5-1ddc4b0cec9b.xml 中的标签\n",
      "已更新 909b5a39-ddeb-4de5-a5db-4876380aadd9.xml 中的标签\n",
      "已更新 91abf66d-0efe-4379-8168-d6d916cbc131.xml 中的标签\n",
      "已更新 91cc8430-433d-4944-bb9d-78f60265da2f.xml 中的标签\n",
      "已更新 91eb5937-2e7d-40b2-9308-ffa8f79ad4de.xml 中的标签\n",
      "已更新 91f0a4d0-03b3-4626-a2c6-52db31a66d25.xml 中的标签\n",
      "已更新 9270ebdd-5f0c-4bc0-83c4-df0db2ad8135.xml 中的标签\n",
      "已更新 928c5908-63af-4ce7-8f1b-f927d5d551e2.xml 中的标签\n",
      "已更新 92cf56d6-aaf4-4ccc-a97e-62b2f42de170.xml 中的标签\n",
      "已更新 92d63233-37f9-4866-b6c5-21cfd04603fa.xml 中的标签\n",
      "已更新 93b41cbb-2d26-42cf-8e2c-4dafcabf4372.xml 中的标签\n",
      "已更新 94180690-d7ca-4278-b151-d53bd984ffa9.xml 中的标签\n",
      "已更新 94222448-d963-44b8-a7b4-241cbfe2a6b3.xml 中的标签\n",
      "已更新 9422bc44-7111-4d6a-9b78-44508cd8e45f.xml 中的标签\n",
      "已更新 9443b471-f088-4e78-be3c-5980d627ed1c.xml 中的标签\n",
      "已更新 94fe3410-79f2-4550-8100-66587cd6ec77.xml 中的标签\n",
      "已更新 950bc26f-36d7-445a-8919-15fbe941af37.xml 中的标签\n",
      "已更新 956ba7c1-41bd-42e7-b3fe-7c6431a34f3d.xml 中的标签\n",
      "已更新 95bec6f1-a503-4119-b2f4-f575c0b11f14.xml 中的标签\n",
      "已更新 95c85910-6590-436c-949c-fce81fe60278.xml 中的标签\n",
      "已更新 95e68c6a-ef6e-4423-8084-d8f40df1d614.xml 中的标签\n",
      "已更新 96a1ba49-a3fe-4bd4-8e65-37aa51d87a35.xml 中的标签\n",
      "已更新 96ccc1f9-a214-49e7-adb6-d91dd695a539.xml 中的标签\n",
      "已更新 97a800c4-6df2-4e5c-bd4f-1c7b4991bfaf.xml 中的标签\n",
      "已更新 97ff1300-9a25-4051-b40a-54e9e1a49705.xml 中的标签\n",
      "已更新 98483ff2-0e4e-424a-b373-6b7d712aaec1.xml 中的标签\n",
      "已更新 9921c576-84c8-45bd-8154-ef76a1ec9b4d.xml 中的标签\n"
     ]
    },
    {
     "name": "stderr",
     "output_type": "stream",
     "text": [
      " 67%|██████▋   | 438/654 [00:01<00:00, 274.29it/s]"
     ]
    },
    {
     "name": "stdout",
     "output_type": "stream",
     "text": [
      "已更新 9964790d-93b9-40e7-be3a-47edbddbe8d1.xml 中的标签\n",
      "已更新 99a9d179-cc05-4b96-ac57-a17bcbbc08b6.xml 中的标签\n",
      "已更新 99caed28-cea9-4f20-9e28-24b5c251c36f.xml 中的标签\n",
      "已更新 9a79101e-1ca8-44f9-8a8e-2aa8154e77c1.xml 中的标签\n",
      "已更新 9ab67f0a-c627-4c68-9866-8f0abedfdf6c.xml 中的标签\n",
      "已更新 9aeede2d-51ae-4432-94fa-2eb9c6201b1b.xml 中的标签\n",
      "已更新 9bda91b3-827c-4841-8724-08783f0396ca.xml 中的标签\n",
      "已更新 9c88ef3c-228d-418b-80ea-a3ec786ba10f.xml 中的标签\n",
      "已更新 9d3768cf-0c0a-46cb-ac6c-12c384932981.xml 中的标签\n",
      "已更新 9df109f3-b333-4d28-b459-f307b2b91bbf.xml 中的标签\n",
      "已更新 9e1ab9bc-1d9a-4fad-a568-ebae346d02d7.xml 中的标签\n",
      "已更新 a0638ec8-3105-44cd-afaa-7a6a61a086e1.xml 中的标签\n",
      "已更新 a11fe2fe-41b6-4fde-8c93-dd82763b77b0.xml 中的标签\n",
      "已更新 a13f7dd0-e133-4c24-b99c-76dceaf2d569.xml 中的标签\n",
      "已更新 a16b04d6-0cb6-45f7-b067-1d66ba1d842a.xml 中的标签\n",
      "已更新 a16f7d14-1787-4004-8a34-75cff85b016e.xml 中的标签\n",
      "已更新 a1826bbb-2b1c-44e2-ab48-43c21c4bf182.xml 中的标签\n",
      "已更新 a19bb669-3b04-4296-ad52-4516ebb04c41.xml 中的标签\n",
      "已更新 a21cd8e2-812b-4fe2-a65c-1f0093933e8c.xml 中的标签\n",
      "已更新 a26d91e3-d6ec-41d8-9141-f651512b3d8d.xml 中的标签\n",
      "已更新 a3ce3654-9d9c-4fc1-ab48-a69e1606ae34.xml 中的标签\n",
      "已更新 a4df137f-da19-4b01-b462-0b83c293ea42.xml 中的标签\n",
      "已更新 a527b964-72fd-41fb-8f7c-6bb416c1f50d.xml 中的标签\n",
      "已更新 a532baa5-a0e1-448d-83fa-124c11a448ff.xml 中的标签\n",
      "已更新 a6148c06-3025-418c-a00f-9459fda103e7.xml 中的标签\n",
      "已更新 a630bc01-0730-4209-b1ea-78aaa0a0f08d.xml 中的标签\n",
      "已更新 a63e7e28-668a-45b9-8466-c5f98a218d55.xml 中的标签\n",
      "已更新 a6f172b8-b32e-43bd-a4c7-168453db5834.xml 中的标签\n",
      "已更新 a7cfbe3b-3c9b-41b4-a90d-b08d23e2e441.xml 中的标签\n",
      "已更新 a81e86e7-772b-4736-a04b-748be2e118c6.xml 中的标签\n",
      "已更新 a86daad7-31f2-4e11-93ee-25ff0444725e.xml 中的标签\n",
      "已更新 a8aff17f-0c9e-49a5-be51-08c656a7c42f.xml 中的标签\n",
      "已更新 a9708be0-f5e3-4e83-a8c3-bbe1994215da.xml 中的标签\n",
      "已更新 a9931a13-15fd-4b7a-bfbb-9810edc9139d.xml 中的标签\n",
      "已更新 a9d91d31-7b38-4f38-96e4-b346b9aed5ae.xml 中的标签\n",
      "已更新 aa1ad96a-3bfc-4e8b-9744-6f76fbe7f82b.xml 中的标签\n",
      "已更新 aa427f4f-143b-44f5-834a-0c5ab579bc9b.xml 中的标签\n",
      "已更新 aa5460da-8d5b-450b-acb6-b82870ba7265.xml 中的标签\n",
      "已更新 ab6d388f-24db-40d7-8f9a-9eb3697f9004.xml 中的标签\n",
      "已更新 ab94ed76-c2fe-464d-8d3f-93476d13d410.xml 中的标签\n",
      "已更新 ac876999-a943-43e8-9318-fa33e788a07b.xml 中的标签\n",
      "已更新 ac88f589-7928-4a45-b949-4036bc898c72.xml 中的标签\n",
      "已更新 aca39ee5-bfcb-44f5-a7a7-5ea1003cddfe.xml 中的标签\n",
      "已更新 adee2909-474a-45e5-9884-7f512e79ba8b.xml 中的标签\n",
      "已更新 adf569c4-0738-40ba-846a-2c37c20394f4.xml 中的标签\n",
      "已更新 af100ed9-7723-4eba-ac76-5a82da9e6735.xml 中的标签\n",
      "已更新 af5bb1b0-055f-4d6e-be3d-25700216cad2.xml 中的标签\n",
      "已更新 af983b08-812e-4b30-afe4-ca171d909167.xml 中的标签\n",
      "已更新 afacce12-5c5e-49df-966f-6751a600f872.xml 中的标签\n",
      "已更新 afea0d20-1f90-4e0a-8d80-92a9c7b5e66f.xml 中的标签\n",
      "已更新 b07c67bc-bfb7-4ada-af07-0031584dadf7.xml 中的标签\n",
      "已更新 b08bfe47-66de-4585-92df-ee45d6ba545b.xml 中的标签\n",
      "已更新 b0a7127c-55a1-4f91-9783-ecd640e476c8.xml 中的标签\n",
      "已更新 b1cbeed6-3be9-460a-9bc8-70067fe3d700.xml 中的标签\n",
      "已更新 b283dcef-42f4-4df8-9ab3-a756ce2cb5f7.xml 中的标签\n",
      "已更新 b2a91934-4179-43fd-a9a1-b1837d23df05.xml 中的标签\n",
      "已更新 b2dbbad2-b434-44eb-8b0b-b1afc143a946.xml 中的标签\n",
      "已更新 b34dcb34-8294-40a6-8708-9c5bec51511e.xml 中的标签\n",
      "已更新 b3682e83-028c-4819-b9c3-b7557400d477.xml 中的标签\n",
      "已更新 b36d84f8-ac57-4180-a2e0-e7e36c56a09f.xml 中的标签\n",
      "已更新 b41a0449-d05f-4d0a-b17f-cd5e5bcdc211.xml 中的标签\n",
      "已更新 b461b1bd-e3e4-454a-913f-d2a3763c4bef.xml 中的标签\n",
      "已更新 b46d4086-f0da-42a9-b185-3d7b4961a7e7.xml 中的标签\n"
     ]
    },
    {
     "name": "stderr",
     "output_type": "stream",
     "text": [
      " 71%|███████▏  | 466/654 [00:01<00:00, 259.13it/s]"
     ]
    },
    {
     "name": "stdout",
     "output_type": "stream",
     "text": [
      "已更新 b4e24ded-91a0-4d01-aa23-6ff030a63703.xml 中的标签\n",
      "已更新 b4fe1491-4917-4c23-b1be-36431fda97b6.xml 中的标签\n",
      "已更新 b50859bb-7ec5-4456-9843-06386444b28d.xml 中的标签\n",
      "已更新 b520d06b-9684-4a5b-b6ce-964cf9d63115.xml 中的标签\n",
      "已更新 b54cdff9-0e7e-4abe-aede-fb9560ce3cc3.xml 中的标签\n",
      "已更新 b5847f6e-12db-45b0-b6a3-d8236bbe025e.xml 中的标签\n",
      "已更新 b598b4f2-b699-4040-80ef-311efe29b7e4.xml 中的标签\n",
      "已更新 b5a5dff3-d675-4443-8407-6c684a8a48f5.xml 中的标签\n",
      "已更新 b6868632-6cb1-4ccd-b58d-79e11aef4bfc.xml 中的标签\n",
      "已更新 b75efc65-6996-4111-90ca-88bdc12afdce.xml 中的标签\n",
      "已更新 b76abbb9-e0fd-469e-ac15-6080685feacf.xml 中的标签\n",
      "已更新 b918a4d1-9f6c-4a3c-96ad-7c72b41e637f.xml 中的标签\n",
      "已更新 b9515fed-dc36-4e9c-9227-25f744024b9a.xml 中的标签\n",
      "已更新 b99975da-dc3c-4b49-a492-13082abc4762.xml 中的标签\n",
      "已更新 b9dab785-8db7-4f68-af77-d07d6475a9b8.xml 中的标签\n",
      "已更新 ba06e9d9-9a0d-4b88-bc18-ccd30d443d07.xml 中的标签\n",
      "已更新 baef7052-3ade-4c30-a911-cce77840272e.xml 中的标签\n",
      "已更新 bb22803a-8092-4a99-9928-dbdac82001b1.xml 中的标签\n",
      "已更新 bb22e6ef-2179-4bf8-8d42-3b03ebbea85e.xml 中的标签\n",
      "已更新 bb9d00dc-b945-45f2-aa14-102af9d87035.xml 中的标签\n",
      "已更新 bba2ae72-747a-4b5d-93dc-56ece9d28896.xml 中的标签\n",
      "已更新 bc30bc22-b008-4fef-8312-2f14339e0f33.xml 中的标签\n",
      "已更新 bc39ad0d-feff-4563-8565-f0b7d8dadf4c.xml 中的标签\n",
      "已更新 bc64084a-bc57-4506-a54a-06e48cf092c9.xml 中的标签\n",
      "已更新 bd0f7f51-80ad-4f4c-bf9a-a26c53365db7.xml 中的标签\n",
      "已更新 bd3aaa04-cf55-4793-abc9-9cc981d70fe0.xml 中的标签\n",
      "已更新 bd7f15c5-930d-4dbd-b40a-9fb84b0463cb.xml 中的标签\n",
      "已更新 bd95edcb-f4d0-4000-b966-726d93f0b044.xml 中的标签\n",
      "已更新 bdefbe1b-1deb-4ea3-8701-22a9397698c8.xml 中的标签\n",
      "已更新 be41bc03-5edc-4ed8-b431-4adc112386d7.xml 中的标签\n",
      "已更新 be9031bc-4b6a-464a-b526-3884c79a74b2.xml 中的标签\n",
      "已更新 be9253b7-292e-445b-85d7-3d6cf0bb2da4.xml 中的标签\n",
      "已更新 bef6d391-2e20-43ed-ad60-6b6e17b1f284.xml 中的标签\n",
      "已更新 bf79733d-4bff-48a3-b76b-41b15882737f.xml 中的标签\n"
     ]
    },
    {
     "name": "stderr",
     "output_type": "stream",
     "text": [
      " 79%|███████▉  | 518/654 [00:02<00:00, 235.82it/s]"
     ]
    },
    {
     "name": "stdout",
     "output_type": "stream",
     "text": [
      "已更新 bfaa9097-81a5-438e-8570-d5908b48ce3e.xml 中的标签\n",
      "已更新 c00454d9-9f9b-4554-a6cb-585598603697.xml 中的标签\n",
      "已更新 c0146e21-ce26-494f-be60-bc8ca4a2926d.xml 中的标签\n",
      "已更新 c039980c-3d78-4249-93b5-15f668425775.xml 中的标签\n",
      "已更新 c08676b0-3ca5-4044-8ea1-fcedef343937.xml 中的标签\n",
      "已更新 c14a744f-f846-40ff-af50-69011bfd000b.xml 中的标签\n",
      "已更新 c1592863-e19e-4dc8-a8c0-e25a68daf3c8.xml 中的标签\n",
      "已更新 c1bd3686-a6e6-465f-97ca-13332a85c8a1.xml 中的标签\n",
      "已更新 c2381451-a4ea-4637-911c-90bf0d1d23f0.xml 中的标签\n",
      "已更新 c238598a-2d46-4918-9d93-d3755cb3ed62.xml 中的标签\n",
      "已更新 c350496c-2196-458e-93da-b50f99b6c336.xml 中的标签\n",
      "已更新 c3ac0526-936d-4096-95d4-bbb0153adaae.xml 中的标签\n",
      "已更新 c47ecd77-91df-4d17-b2f1-8fc92cd3a99f.xml 中的标签\n",
      "已更新 c5129b08-9ed8-4956-a45b-6c702374728c.xml 中的标签\n",
      "已更新 c5ce362c-ec35-43fb-ae43-714507044baf.xml 中的标签\n",
      "已更新 c5e0621e-0a18-4ef1-a007-ac55ed64e347.xml 中的标签\n",
      "已更新 c70c13d3-b497-4402-962d-a77574a1603b.xml 中的标签\n",
      "已更新 c768256d-efc9-4a35-84b7-becbb2f5d86c.xml 中的标签\n",
      "已更新 c790bbca-157d-49f4-9f6a-b061c52fca77.xml 中的标签\n",
      "已更新 c791b6e3-2e9d-44b1-a86b-68d953c92cfd.xml 中的标签\n",
      "已更新 c7930b82-fbad-41a4-a6d0-9fcacd0eea9a.xml 中的标签\n",
      "已更新 c7fde6cc-6937-4889-843d-3f5ce1162978.xml 中的标签\n",
      "已更新 c812eb13-52de-4c18-95e5-dc55f6dc9bc6.xml 中的标签\n",
      "已更新 c81aea6e-2ed5-431f-83ac-cd90e8a11191.xml 中的标签\n",
      "已更新 c855891e-2a6c-41f6-9807-22a3c189e1a2.xml 中的标签\n",
      "已更新 c9e6f046-b7c4-4a56-a383-51c579324a91.xml 中的标签\n",
      "已更新 ca97a1e9-fe10-4e4a-bd44-38b161c4b70e.xml 中的标签\n",
      "已更新 cac87495-e3d0-42be-9c69-e6af581b8e76.xml 中的标签\n",
      "已更新 cb2bad48-aef5-4de6-a93c-9e762df62429.xml 中的标签\n",
      "已更新 cb64f9e2-ae17-4f68-89cf-4d2cd008b4e5.xml 中的标签\n",
      "已更新 cb9f5180-fdbd-4090-a154-3d3aa61d6746.xml 中的标签\n",
      "已更新 cc97f846-9990-4baa-b85a-8c41b9370a22.xml 中的标签\n",
      "已更新 cda915d6-02d5-4e40-a1e0-f606801c56ef.xml 中的标签\n",
      "已更新 ce2b59bd-efe9-4ea6-bc93-ced7acbff3df.xml 中的标签\n",
      "已更新 ce53bd69-2077-4de7-8f1f-784078aa0a72.xml 中的标签\n",
      "已更新 cf0cafad-83f7-41f4-917c-190279ea7c2d.xml 中的标签\n",
      "已更新 d02e91af-d423-4303-94d5-c9951170bd9c.xml 中的标签\n",
      "已更新 d0a37d95-e0e4-458b-b2d3-d3a9bd4b2a57.xml 中的标签\n",
      "已更新 d0dc7b16-13b4-439b-8a13-6cbe90395f8b.xml 中的标签\n",
      "已更新 d1021791-e97c-4e03-8c13-b001595b7302.xml 中的标签\n",
      "已更新 d10c4d14-1f15-4506-a1ae-d7444b4e8536.xml 中的标签\n",
      "已更新 d11b1174-814b-45cf-98cf-9f6284ed7d7c.xml 中的标签\n",
      "已更新 d2095940-99be-473d-947d-2352b6f299d5.xml 中的标签\n",
      "已更新 d23d6fff-128f-47ad-bead-2dcf1d07e421.xml 中的标签\n",
      "已更新 d26aefb6-e07f-426f-87df-749ebe6e2ca9.xml 中的标签\n",
      "已更新 d2743492-c318-4cbd-a6f7-c349b1375a9a.xml 中的标签\n"
     ]
    },
    {
     "name": "stderr",
     "output_type": "stream",
     "text": [
      " 83%|████████▎ | 542/654 [00:02<00:00, 115.59it/s]"
     ]
    },
    {
     "name": "stdout",
     "output_type": "stream",
     "text": [
      "已更新 d2a2191e-c018-4150-9789-976b2161c0df.xml 中的标签\n",
      "已更新 d2b8ed97-fbf7-4876-9c3c-ac9583841080.xml 中的标签\n",
      "已更新 d313c632-e6a4-41fd-9750-dd810a326212.xml 中的标签\n",
      "已更新 d396e47c-ecb1-406f-8c99-a4bf24504c51.xml 中的标签\n",
      "已更新 d57a9ca2-ac4b-4fd1-a094-8801685e5d80.xml 中的标签\n",
      "已更新 d58dab11-66c9-4780-9738-9ff3200296d3.xml 中的标签\n",
      "已更新 d6169717-536a-4291-83ff-2632ca03043b.xml 中的标签\n",
      "已更新 d6cc16b3-da9a-4176-952d-1992e558eb39.xml 中的标签\n",
      "已更新 d7e3c6d5-c545-400c-8701-e82425172d5b.xml 中的标签\n",
      "已更新 d7ecbd7d-a29f-4b4e-95b1-c8ae7039b520.xml 中的标签\n",
      "已更新 d87a123a-a356-4fb6-939b-76ddbdd4bc4c.xml 中的标签\n",
      "已更新 d8ecff54-41c0-4275-8595-fde41e82bf82.xml 中的标签\n",
      "已更新 d8f7aff5-2c11-4208-91d0-1fc30bb2b1a9.xml 中的标签\n",
      "已更新 d92a8dbf-4ef2-4518-bb0f-f1bade42bd38.xml 中的标签\n",
      "已更新 d95b59d4-074d-4d01-8189-aa0ccf4c9901.xml 中的标签\n",
      "已更新 d9655f8a-d88e-4dbf-b6ed-2b359e0cba6c.xml 中的标签\n",
      "已更新 d9bee43e-0884-47e4-b037-0f8385fe92b6.xml 中的标签\n",
      "已更新 da50e46a-e1d9-4704-8d71-81b5a819ebbe.xml 中的标签\n",
      "已更新 dacad3d3-cd9c-49c9-a91d-b6cc4c6a1d56.xml 中的标签\n",
      "已更新 db390f2a-8e7f-41f0-bb73-f75316f6772f.xml 中的标签\n",
      "已更新 db735a3c-d9b6-4ca4-b08f-f8728e6af95d.xml 中的标签\n",
      "已更新 db7de73a-b06f-4281-bb0a-8b56619aa749.xml 中的标签\n",
      "已更新 dbeeedf7-fe5e-4431-88b3-0479f562f849.xml 中的标签\n",
      "已更新 dc4bd6de-f215-451f-bfb8-d4694d5b7a78.xml 中的标签\n"
     ]
    },
    {
     "name": "stderr",
     "output_type": "stream",
     "text": [
      " 88%|████████▊ | 578/654 [00:02<00:00, 116.22it/s]"
     ]
    },
    {
     "name": "stdout",
     "output_type": "stream",
     "text": [
      "已更新 ddb3b986-4cba-4bcd-8999-c9e9c662a8e6.xml 中的标签\n",
      "已更新 de5cb060-fc18-4cba-8a15-1b41053cd4db.xml 中的标签\n",
      "已更新 de843c6f-0931-4aed-8040-aa840454dda7.xml 中的标签\n",
      "已更新 de8c3cae-271f-44d1-9ae5-44ebd4e7d8bb.xml 中的标签\n",
      "已更新 deaa5e5b-2ddf-4c5e-bddc-20c07f4bdde8.xml 中的标签\n",
      "已更新 ded5dd79-98e2-4b3f-90d6-038689583e45.xml 中的标签\n",
      "已更新 df4ccdc4-7413-4dcf-afdf-181dd66a2a60.xml 中的标签\n",
      "已更新 df8a701b-3ac3-4474-a6e8-cf5af0a10c44.xml 中的标签\n",
      "已更新 e040ef5a-b10d-4a4c-8736-1031844e2ea8.xml 中的标签\n",
      "已更新 e0ad10d8-cb70-4ccb-a1ac-393bec90ad09.xml 中的标签\n",
      "已更新 e0b5f88f-a271-4dd0-a2ab-e172ee0131d5.xml 中的标签\n",
      "已更新 e19b5a9b-d08d-4749-9e2f-6a0319294cfe.xml 中的标签\n",
      "已更新 e1bca7cd-69a3-486c-81cf-5f25b636e489.xml 中的标签\n",
      "已更新 e1ec6845-f6d5-40e7-8569-b02325cfca68.xml 中的标签\n",
      "已更新 e2035de4-9975-4524-9001-e15c264fc75a.xml 中的标签\n",
      "已更新 e2b16017-8864-4bc1-87e6-2fcaa14ce705.xml 中的标签\n",
      "已更新 e30a8708-8ded-452b-a8e7-5a65a6c35f12.xml 中的标签\n",
      "已更新 e321720d-e3e3-4884-83e2-12dc3a2371fb.xml 中的标签\n",
      "已更新 e4a39333-f9fe-46e3-ae4f-56d63cdd928b.xml 中的标签\n",
      "已更新 e56d96b1-feff-4700-aa2a-f5a8f23188e9.xml 中的标签\n",
      "已更新 e5734fea-6fc9-485b-8791-c97ddad96fbf.xml 中的标签\n"
     ]
    },
    {
     "name": "stderr",
     "output_type": "stream",
     "text": [
      " 95%|█████████▌| 624/654 [00:03<00:00, 153.47it/s]"
     ]
    },
    {
     "name": "stdout",
     "output_type": "stream",
     "text": [
      "已更新 e5d60145-c48d-48c5-a21f-7b605ea3c99e.xml 中的标签\n",
      "已更新 e635a00a-e1e7-48dd-8a4a-e0c1503cbee1.xml 中的标签\n",
      "已更新 e6a076b2-c119-4413-8af2-ad73820d41ed.xml 中的标签\n",
      "已更新 e7ca190a-3fbc-480f-bf19-554c23cc0aab.xml 中的标签\n",
      "已更新 e8192f9e-c65a-426c-917e-3a014aabd3f1.xml 中的标签\n",
      "已更新 e83229fd-7024-41de-ae32-75fe48b02fb2.xml 中的标签\n",
      "已更新 e9ac7a3d-cbe0-4881-ab03-a2662b74c997.xml 中的标签\n",
      "已更新 e9b77abe-5b71-474b-a351-e7c4441e4a4e.xml 中的标签\n",
      "已更新 e9c50fdb-b164-4cea-b307-cbc3da352210.xml 中的标签\n",
      "已更新 ea645b73-4216-4897-b8dd-bafe30928587.xml 中的标签\n",
      "已更新 ea87be04-5326-45b6-9be0-26e135cad785.xml 中的标签\n",
      "已更新 eac66cf0-8978-42c8-8b55-552daf9ad2d7.xml 中的标签\n",
      "已更新 ebe384d6-c3f9-4b93-9d8a-ac8b65df86f6.xml 中的标签\n",
      "已更新 ec067a2e-cecc-4a27-ba77-6e2a94abc6fb.xml 中的标签\n",
      "已更新 ec28b077-616a-4c4e-ad0f-f84d3760067e.xml 中的标签\n",
      "已更新 ec703384-c803-42f9-a33e-a46deff42963.xml 中的标签\n",
      "已更新 ec9580ea-d7df-42c2-97f7-2202aa70f9f0.xml 中的标签\n",
      "已更新 eceeff4f-0179-464f-9fc7-1479ab3a86fc.xml 中的标签\n",
      "已更新 ed94fe2c-b7c6-4d87-9097-6135a9998573.xml 中的标签\n",
      "已更新 edcb575d-2ebe-41db-9fff-351c7aa8ea5b.xml 中的标签\n",
      "已更新 ee0cdaac-2594-4d61-8ccd-72334cfc3da8.xml 中的标签\n",
      "已更新 ef2cfc98-79ec-471a-b9f9-4b24197c2970.xml 中的标签\n",
      "已更新 f0ee03ea-0a63-41ae-baf7-732c9c52c858.xml 中的标签\n",
      "已更新 f1073a7c-6bd5-4e96-b929-aab6f8035919.xml 中的标签\n",
      "已更新 f1410545-9c91-49b8-b5fb-6e9408444d42.xml 中的标签\n",
      "已更新 f14501c8-68c6-4c3b-8cb1-ada7ef0d4345.xml 中的标签\n",
      "已更新 f16ba1d1-796c-4440-b5c0-b66fd1ca9e86.xml 中的标签\n",
      "已更新 f196098f-e521-4870-b98e-e13d97bbce61.xml 中的标签\n",
      "已更新 f1ef0494-e7ec-45af-81a5-3c535d84a0d9.xml 中的标签\n",
      "已更新 f1ef4237-2642-45bd-8f94-f984ec906daf.xml 中的标签\n",
      "已更新 f215262a-97a1-40b7-9f77-ca5ba08878e9.xml 中的标签\n",
      "已更新 f21d1cfc-1b13-4408-bd57-b7851ce7c778.xml 中的标签\n",
      "已更新 f283ab81-5c68-43ac-a269-eb6f922130e7.xml 中的标签\n",
      "已更新 f2a62fb5-d312-455f-aaab-30c9e2a254f2.xml 中的标签\n",
      "已更新 f313ea53-e63f-4342-bd01-5b3d6937aab5.xml 中的标签\n",
      "已更新 f34c5011-de8e-4e33-ac03-aa103547238b.xml 中的标签\n",
      "已更新 f3c21371-5fcc-462e-b810-24496cbe76f6.xml 中的标签\n",
      "已更新 f3d72fb2-f09f-4b46-813d-280af568dfb2.xml 中的标签\n",
      "已更新 f52306f0-58cb-4302-901d-2e57e2f43c47.xml 中的标签\n",
      "已更新 f5a3f92a-7f20-430a-b0ab-e10774f2c16f.xml 中的标签\n",
      "已更新 f5dbeeb4-a0c5-46a1-bdc2-0f18cf90de28.xml 中的标签\n",
      "已更新 f5f50f72-5970-4d63-8099-491cfa0e6cef.xml 中的标签\n",
      "已更新 f60518fb-81e6-4106-ac89-21c5850fea04.xml 中的标签\n",
      "已更新 f60931e2-3926-4ff7-8663-1e47e016387e.xml 中的标签\n"
     ]
    },
    {
     "name": "stderr",
     "output_type": "stream",
     "text": [
      "100%|██████████| 654/654 [00:03<00:00, 204.67it/s]"
     ]
    },
    {
     "name": "stdout",
     "output_type": "stream",
     "text": [
      "已更新 f66141c7-f275-4a1b-ba42-59b6bbacc24f.xml 中的标签\n",
      "已更新 f66e9f8e-7de6-4dbd-9f59-9b5975940339.xml 中的标签\n",
      "已更新 f6cb9e66-5921-4161-9fa4-2a60c6f16bb9.xml 中的标签\n",
      "已更新 f70ad9c2-8c90-4b92-a42e-643f534483a8.xml 中的标签\n",
      "已更新 f74c5bb8-ce4c-4182-9fd7-e342759e8731.xml 中的标签\n",
      "已更新 f792bfc5-d624-41e9-aaea-67be340d955c.xml 中的标签\n",
      "已更新 f794124f-ff10-4484-80b1-0e90ae2702c0.xml 中的标签\n",
      "已更新 f7d20b01-3775-441b-9591-60e74f818b7b.xml 中的标签\n",
      "已更新 f80a752a-819b-472d-90bc-7a2534ec1bd7.xml 中的标签\n",
      "已更新 f8f9a19c-acfc-4fac-bd66-e41f44463f31.xml 中的标签\n",
      "已更新 f9396323-a20f-4328-a412-814254835d3e.xml 中的标签\n",
      "已更新 f94c4d03-7f8e-44f4-97e5-ae014a23e649.xml 中的标签\n",
      "已更新 f98cdbe7-a16f-4e42-a083-bca315aad390.xml 中的标签\n",
      "已更新 f9ebd24d-9323-4893-87d5-1c104e997a82.xml 中的标签\n",
      "已更新 fab174a9-ea95-45c5-899b-5c4653d736a0.xml 中的标签\n",
      "已更新 fb0b8486-42db-4a20-925f-07e4b7a24ed6.xml 中的标签\n",
      "已更新 fb12fde9-1160-44d1-b362-e02aa71272e8.xml 中的标签\n",
      "已更新 fba04bb8-bb7d-4f7a-ae40-a13b86c0198f.xml 中的标签\n",
      "已更新 fba76c3c-3d9a-4311-b272-c8263251d6d3.xml 中的标签\n",
      "已更新 fc1a2fc3-b740-44b0-a890-708e01e78f68.xml 中的标签\n",
      "已更新 fc730edf-49ed-4e2b-a5c0-123b3611a03e.xml 中的标签\n",
      "已更新 fcd0dbc7-731c-4c6e-9fcc-42aca49a4665.xml 中的标签\n",
      "已更新 fd6ce5df-7bd5-4b61-8455-8d514e2d80f2.xml 中的标签\n",
      "已更新 fdb97e95-0a7b-4cc7-9bbe-2b75ef4610a0.xml 中的标签\n",
      "已更新 fea5d68b-319f-472d-af57-d255c93cd17c.xml 中的标签\n",
      "已更新 fef48c77-8f84-4b4e-b508-01e3ea8ce5e1.xml 中的标签\n",
      "已更新 ff26a05d-62c3-4d7c-833b-6125038942e0.xml 中的标签\n",
      "已更新 ff8dd737-1ca6-447a-9d77-5ba4f3c79bc7.xml 中的标签\n",
      "已更新 ff9b279c-6fec-4f68-87ae-719e0b3ea07a.xml 中的标签\n",
      "已更新 ffb908b6-5324-4ff1-a119-94d8d3cad6aa.xml 中的标签\n"
     ]
    },
    {
     "name": "stderr",
     "output_type": "stream",
     "text": [
      "\n"
     ]
    }
   ],
   "source": [
    "import xml.etree.ElementTree as ET\n",
    "def rename_bbox(xml_dir):\n",
    "    \"\"\"\n",
    "    分闸: 84\n",
    "    已储能: 468\n",
    "    合闸: 793\n",
    "    未储能: 2\n",
    "    分: 23\n",
    "    合: 2\n",
    "    \"\"\"\n",
    "    # 遍历文件夹中的所有 XML 文件\n",
    "    for xml_file in tqdm(os.listdir(xml_dir)):\n",
    "        if xml_file.endswith('.xml'):\n",
    "            xml_path = os.path.join(xml_dir, xml_file)\n",
    "\n",
    "            # 解析 XML 文件\n",
    "            tree = ET.parse(xml_path)\n",
    "            root = tree.getroot()\n",
    "\n",
    "            # 遍历 XML 中的所有 object 标签\n",
    "            for obj in root.findall('object'):\n",
    "                # 找到 name 标签 (标签名)\n",
    "                name = obj.find('name').text\n",
    "\n",
    "                # 根据要求更新标签\n",
    "                if name == \"已储能\":\n",
    "                    obj.find('name').text = \"stored\"\n",
    "                elif name == \"未储能\":\n",
    "                    obj.find('name').text = \"unstored\"\n",
    "                elif name in [\"分\", \"分闸\"]:\n",
    "                    obj.find('name').text = \"off\"\n",
    "                elif name in [\"合\", \"合闸\"]:\n",
    "                    obj.find('name').text = \"on\"\n",
    "\n",
    "            # 将更新后的 XML 保存回原文件\n",
    "            tree.write(xml_path, encoding='utf-8', xml_declaration=True)\n",
    "            print(f\"已更新 {xml_file} 中的标签\")\n",
    "\n",
    "    pass\n",
    "\n",
    "xmldir = r\"F:\\switch\\switch_data\\1021newdata\\dataset_test\\xmls\"\n",
    "xmldir2 = r\"F:\\switch\\switch_data\\1021newdata\\dataset_train\\xmls\"\n",
    "rename_bbox(xmldir)\n",
    "rename_bbox(xmldir2)"
   ]
  },
  {
   "cell_type": "code",
   "execution_count": null,
   "metadata": {},
   "outputs": [],
   "source": [
    "# crop jpg-xml  object-detection dataset\n",
    "def crop_xml_od_dataset():\n",
    "    pass\n",
    "\n"
   ]
  },
  {
   "cell_type": "code",
   "execution_count": 1,
   "metadata": {},
   "outputs": [
    {
     "name": "stdout",
     "output_type": "stream",
     "text": [
      "已复制：25a854eb-442c-487a-9553-4c534edad7af.xml 和 25a854eb-442c-487a-9553-4c534edad7af.jpg\n",
      "已复制：64142119-20db-4f31-a78f-dafd82ef29a5.xml 和 64142119-20db-4f31-a78f-dafd82ef29a5.jpg\n",
      "已复制：8f3e4103-1e30-4c94-9292-846e263d249b.xml 和 8f3e4103-1e30-4c94-9292-846e263d249b.jpg\n",
      "已复制：95d4176f-f333-422a-9d21-f1f2cc8460b9.xml 和 95d4176f-f333-422a-9d21-f1f2cc8460b9.jpg\n",
      "总共复制了 4 个文件。\n"
     ]
    }
   ],
   "source": [
    "# find bbox-label=\"unstored\"  and move .xml + .jpg -> target_dir\n",
    "import os\n",
    "import shutil\n",
    "import xml.etree.ElementTree as ET\n",
    "\n",
    "def copy_unstored_files(xml_dir, jpg_dir, target_dir, label_to_find=\"unstored\"):\n",
    "    \"\"\"\n",
    "    查找包含特定标签的XML文件，并将它们与对应的JPG文件一起复制到目标目录。\n",
    "\n",
    "    参数：\n",
    "    - xml_dir: XML文件所在的目录。\n",
    "    - jpg_dir: JPG文件所在的目录。\n",
    "    - target_dir: 目标目录，用于存放复制的XML和JPG文件。\n",
    "    - label_to_find: 要查找的标签名称，默认值为 \"unstored\"。\n",
    "    \"\"\"\n",
    "    if not os.path.exists(target_dir):\n",
    "        os.makedirs(target_dir)\n",
    "\n",
    "    xml_files = [f for f in os.listdir(xml_dir) if f.lower().endswith('.xml')]\n",
    "    copied_files = 0\n",
    "\n",
    "    for xml_file in xml_files:\n",
    "        xml_path = os.path.join(xml_dir, xml_file)\n",
    "        try:\n",
    "            tree = ET.parse(xml_path)\n",
    "            root = tree.getroot()\n",
    "        except ET.ParseError:\n",
    "            print(f\"警告：无法解析XML文件 {xml_file}，已跳过。\")\n",
    "            continue\n",
    "\n",
    "        # 检查XML文件中是否包含指定的标签\n",
    "        found_label = False\n",
    "        for obj in root.findall('object'):\n",
    "            label = obj.find('name').text\n",
    "            if label == label_to_find:\n",
    "                found_label = True\n",
    "                break\n",
    "\n",
    "        if found_label:\n",
    "            # 复制XML文件到目标目录\n",
    "            target_xml_path = os.path.join(target_dir, xml_file)\n",
    "            shutil.copy2(xml_path, target_xml_path)\n",
    "\n",
    "            # 复制对应的JPG文件到目标目录\n",
    "            base_name = os.path.splitext(xml_file)[0]\n",
    "            possible_extensions = ['.jpg', '.jpeg', '.png']\n",
    "            jpg_found = False\n",
    "            for ext in possible_extensions:\n",
    "                jpg_file = base_name + ext\n",
    "                jpg_path = os.path.join(jpg_dir, jpg_file)\n",
    "                if os.path.exists(jpg_path):\n",
    "                    target_jpg_path = os.path.join(target_dir, jpg_file)\n",
    "                    shutil.copy2(jpg_path, target_jpg_path)\n",
    "                    jpg_found = True\n",
    "                    break\n",
    "            if jpg_found:\n",
    "                print(f\"已复制：{xml_file} 和 {jpg_file}\")\n",
    "                copied_files += 1\n",
    "            else:\n",
    "                print(f\"警告：未找到对应的图像文件 {base_name}，已跳过复制图像。\")\n",
    "        else:\n",
    "            continue\n",
    "\n",
    "    print(f\"总共复制了 {copied_files} 个文件。\")\n",
    "\n",
    "if __name__ == \"__main__\":\n",
    "    xml_dir = r\"F:\\switch\\switch_data\\1021newdata\\dataset_test\\xmls\"\n",
    "    jpg_dir = r\"F:\\switch\\switch_data\\1021newdata\\dataset_test\\jpgs\"\n",
    "    target_dir = r\"F:\\switch\\switch_data\\1021newdata\\dataset_test\\unstored\"\n",
    "\n",
    "    copy_unstored_files(xml_dir, jpg_dir, target_dir)\n",
    "\n"
   ]
  },
  {
   "cell_type": "code",
   "execution_count": null,
   "metadata": {},
   "outputs": [],
   "source": []
  }
 ],
 "metadata": {
  "kernelspec": {
   "display_name": "yoloenv",
   "language": "python",
   "name": "python3"
  },
  "language_info": {
   "codemirror_mode": {
    "name": "ipython",
    "version": 3
   },
   "file_extension": ".py",
   "mimetype": "text/x-python",
   "name": "python",
   "nbconvert_exporter": "python",
   "pygments_lexer": "ipython3",
   "version": "3.8.19"
  },
  "orig_nbformat": 4
 },
 "nbformat": 4,
 "nbformat_minor": 2
}
