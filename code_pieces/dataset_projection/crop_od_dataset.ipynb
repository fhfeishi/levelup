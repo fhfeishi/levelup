{
 "cells": [
  {
   "cell_type": "code",
   "execution_count": 4,
   "metadata": {},
   "outputs": [],
   "source": [
    "import numpy as np\n",
    "import os\n",
    "from PIL import Image\n",
    "from tqdm import tqdm\n",
    "import random \n",
    "import xml.etree.ElementTree as ET"
   ]
  },
  {
   "cell_type": "code",
   "execution_count": 5,
   "metadata": {},
   "outputs": [
    {
     "name": "stdout",
     "output_type": "stream",
     "text": [
      "img_no_label_list=[]\n",
      "label_no_img_list=[]\n"
     ]
    }
   ],
   "source": [
    "# check od dataset \n",
    "def del_notmatch_data(od_dataset_root, data_struct={\"image\": \"images\", \"label\": \"labels\"}, delete_=False):\n",
    "    img_dir = os.path.join(od_dataset_root, data_struct[\"image\"])\n",
    "    lbl_dir = os.path.join(od_dataset_root, data_struct[\"label\"])\n",
    "    img_name_list = [f.split('.')[0] for f in os.listdir(img_dir) if f.endswith('.jpg')]\n",
    "    lbl_name_list = [f.split('.')[0] for f in os.listdir(lbl_dir) if f.endswith('.xml')]\n",
    "    \n",
    "    img_no_label_list = [f for f in img_name_list if f not in lbl_name_list]\n",
    "    print(f\"{img_no_label_list=}\")\n",
    "    label_no_img_list = [f for f in lbl_name_list if f not in img_name_list]\n",
    "    print(f\"{label_no_img_list=}\")\n",
    "    \n",
    "    if delete_:\n",
    "        # delet\n",
    "        for t in img_no_label_list:\n",
    "            im_path = os.path.join(img_dir, t+'.jpg')\n",
    "            if os.path.isfile(im_path):\n",
    "                # print('can delete jpg file')\n",
    "                print(f\"delete {os.path.basename(im_path)}\")\n",
    "                os.remove(im_path)\n",
    "        \n",
    "        for t in label_no_img_list:\n",
    "            xml_path = os.path.join(lbl_dir, t+'.xml')\n",
    "            if os.path.isfile(xml_path):\n",
    "                # print('can delete xml file')\n",
    "                print(f\"delete {os.path.basename(xml_path)}\")\n",
    "                os.remove(xml_path)\n",
    "    \n",
    "dataset_ = r\"D:\\ddesktop\\monitoring\\datadata\\belthelmet\\1104\"\n",
    "del_notmatch_data(dataset_)"
   ]
  },
  {
   "cell_type": "code",
   "execution_count": 9,
   "metadata": {},
   "outputs": [
    {
     "name": "stdout",
     "output_type": "stream",
     "text": [
      "img_no_label_list=[]\n",
      "label_no_img_list=[]\n"
     ]
    }
   ],
   "source": [
    "# d_root = r\"D:\\ddesktop\\monitoring\\codespace\\yolov8_BeltHelmet\\VOCdevkit\\VOC2007\"\n",
    "# del_notmatch_data(d_root, data_struct={\"image\": \"JPEGImages\", \"label\": \"Annotations\"}, delete_=False)\n",
    "# # ok match"
   ]
  },
  {
   "cell_type": "code",
   "execution_count": 6,
   "metadata": {},
   "outputs": [
    {
     "name": "stdout",
     "output_type": "stream",
     "text": [
      "总共扫描了 285 个 XML 文件，删除了 0 个空的 XML 文件。\n",
      "删除了 0 个对应的图像文件。\n"
     ]
    }
   ],
   "source": [
    "# del empty data\n",
    "def del_empty_xml_file_and_image(image_dir, xml_dir):\n",
    "    \"\"\"\n",
    "    删除 xml_dir 中没有任何 bbox 的 XML 文件，以及对应的图像文件。\n",
    "\n",
    "    参数：\n",
    "        image_dir (str): 存放图像文件（JPG）的目录路径。\n",
    "        xml_dir (str): 存放 XML 标注文件的目录路径。\n",
    "    \"\"\"\n",
    "    deleted_xml_files = []\n",
    "    deleted_image_files = []\n",
    "    total_xml_files = 0\n",
    "\n",
    "    for xml_file in os.listdir(xml_dir):\n",
    "        if xml_file.endswith('.xml'):\n",
    "            total_xml_files += 1\n",
    "            xml_path = os.path.join(xml_dir, xml_file)\n",
    "            try:\n",
    "                tree = ET.parse(xml_path)\n",
    "                root = tree.getroot()\n",
    "                # 查找所有的 object 元素\n",
    "                objects = root.findall('object')\n",
    "                if not objects:\n",
    "                    # 如果没有找到 object 元素，删除该 XML 文件和对应的图像文件\n",
    "                    os.remove(xml_path)\n",
    "                    deleted_xml_files.append(xml_file)\n",
    "                    print(f\"已删除空的 XML 文件：{xml_file}\")\n",
    "\n",
    "                    # 对应的图像文件名\n",
    "                    base_name = os.path.splitext(xml_file)[0]\n",
    "                    # 尝试匹配不同扩展名的图像文件\n",
    "                    image_extensions = ['.jpg', '.jpeg', '.png']\n",
    "                    image_deleted = False\n",
    "                    for ext in image_extensions:\n",
    "                        image_file = base_name + ext\n",
    "                        image_path = os.path.join(image_dir, image_file)\n",
    "                        if os.path.exists(image_path):\n",
    "                            os.remove(image_path)\n",
    "                            deleted_image_files.append(image_file)\n",
    "                            print(f\"已删除对应的图像文件：{image_file}\")\n",
    "                            image_deleted = True\n",
    "                            break\n",
    "                    if not image_deleted:\n",
    "                        print(f\"未找到对应的图像文件：{base_name}.[jpg|jpeg|png]\")\n",
    "            except ET.ParseError:\n",
    "                # 如果 XML 文件解析错误，也删除文件和对应的图像文件\n",
    "                os.remove(xml_path)\n",
    "                deleted_xml_files.append(xml_file)\n",
    "                print(f\"已删除无法解析的 XML 文件：{xml_file}\")\n",
    "\n",
    "                # 同样删除对应的图像文件\n",
    "                base_name = os.path.splitext(xml_file)[0]\n",
    "                image_extensions = ['.jpg', '.jpeg', '.png']\n",
    "                image_deleted = False\n",
    "                for ext in image_extensions:\n",
    "                    image_file = base_name + ext\n",
    "                    image_path = os.path.join(image_dir, image_file)\n",
    "                    if os.path.exists(image_path):\n",
    "                        os.remove(image_path)\n",
    "                        deleted_image_files.append(image_file)\n",
    "                        print(f\"已删除对应的图像文件：{image_file}\")\n",
    "                        image_deleted = True\n",
    "                        break\n",
    "                if not image_deleted:\n",
    "                    print(f\"未找到对应的图像文件：{base_name}.[jpg|jpeg|png]\")\n",
    "\n",
    "    print(f\"总共扫描了 {total_xml_files} 个 XML 文件，删除了 {len(deleted_xml_files)} 个空的 XML 文件。\")\n",
    "    print(f\"删除了 {len(deleted_image_files)} 个对应的图像文件。\")\n",
    "\n",
    "img_d = r\"D:\\ddesktop\\monitoring\\datadata\\belthelmet\\1104\\images\"\n",
    "xml_d = r\"D:\\ddesktop\\monitoring\\datadata\\belthelmet\\1104\\labels\"\n",
    "del_empty_xml_file_and_image(img_d, xml_d)\n"
   ]
  },
  {
   "cell_type": "code",
   "execution_count": 7,
   "metadata": {},
   "outputs": [
    {
     "name": "stderr",
     "output_type": "stream",
     "text": [
      "  0%|          | 1/285 [00:00<01:13,  3.85it/s]"
     ]
    },
    {
     "name": "stdout",
     "output_type": "stream",
     "text": [
      "Cropped and saved 008c165c-df73-4dea-bb97-07d0bfece642_a_0.jpg and corresponding XML.\n",
      "Cropped and saved 008c165c-df73-4dea-bb97-07d0bfece642_a_1.jpg and corresponding XML.\n",
      "Cropped and saved 04d33559-a425-4ee0-8373-3d019eb82726_a_0.jpg and corresponding XML.\n",
      "Cropped and saved 04d33559-a425-4ee0-8373-3d019eb82726_a_1.jpg and corresponding XML.\n",
      "Cropped and saved 04d33559-a425-4ee0-8373-3d019eb82726_a_2.jpg and corresponding XML.\n"
     ]
    },
    {
     "name": "stderr",
     "output_type": "stream",
     "text": [
      "  1%|          | 2/285 [00:00<01:11,  3.96it/s]"
     ]
    },
    {
     "name": "stdout",
     "output_type": "stream",
     "text": [
      "Cropped and saved 04d33559-a425-4ee0-8373-3d019eb82726_a_3.jpg and corresponding XML.\n",
      "Cropped and saved 04d33559-a425-4ee0-8373-3d019eb82726_a_4.jpg and corresponding XML.\n",
      "Cropped and saved 04d33559-a425-4ee0-8373-3d019eb82726_a_5.jpg and corresponding XML.\n",
      "Cropped and saved 0530c49f-668a-45aa-a3f2-dc6aed428498_a_0.jpg and corresponding XML.\n",
      "Cropped and saved 0530c49f-668a-45aa-a3f2-dc6aed428498_a_1.jpg and corresponding XML.\n",
      "Cropped and saved 0530c49f-668a-45aa-a3f2-dc6aed428498_a_2.jpg and corresponding XML.\n"
     ]
    },
    {
     "name": "stderr",
     "output_type": "stream",
     "text": [
      "  1%|          | 3/285 [00:00<01:26,  3.27it/s]"
     ]
    },
    {
     "name": "stdout",
     "output_type": "stream",
     "text": [
      "Cropped and saved 0530c49f-668a-45aa-a3f2-dc6aed428498_a_3.jpg and corresponding XML.\n",
      "Cropped and saved 0530c49f-668a-45aa-a3f2-dc6aed428498_a_4.jpg and corresponding XML.\n",
      "Cropped and saved 0530c49f-668a-45aa-a3f2-dc6aed428498_a_5.jpg and corresponding XML.\n",
      "Cropped and saved 0530c49f-668a-45aa-a3f2-dc6aed428498_a_6.jpg and corresponding XML.\n",
      "Cropped and saved 0530c49f-668a-45aa-a3f2-dc6aed428498_a_7.jpg and corresponding XML.\n",
      "Cropped and saved 0530c49f-668a-45aa-a3f2-dc6aed428498_a_8.jpg and corresponding XML.\n",
      "Cropped and saved 0530c49f-668a-45aa-a3f2-dc6aed428498_a_9.jpg and corresponding XML.\n",
      "Cropped and saved 0530c49f-668a-45aa-a3f2-dc6aed428498_a_10.jpg and corresponding XML.\n"
     ]
    },
    {
     "name": "stderr",
     "output_type": "stream",
     "text": [
      "  1%|▏         | 4/285 [00:01<01:15,  3.70it/s]"
     ]
    },
    {
     "name": "stdout",
     "output_type": "stream",
     "text": [
      "Cropped and saved 06a06152-221a-4ff1-96b2-726bc982f8e0_a_0.jpg and corresponding XML.\n",
      "Cropped and saved 06a06152-221a-4ff1-96b2-726bc982f8e0_a_1.jpg and corresponding XML.\n",
      "Cropped and saved 06a06152-221a-4ff1-96b2-726bc982f8e0_a_2.jpg and corresponding XML.\n",
      "Cropped and saved 06a06152-221a-4ff1-96b2-726bc982f8e0_a_3.jpg and corresponding XML.\n"
     ]
    },
    {
     "name": "stderr",
     "output_type": "stream",
     "text": [
      "  2%|▏         | 5/285 [00:01<01:09,  4.02it/s]"
     ]
    },
    {
     "name": "stdout",
     "output_type": "stream",
     "text": [
      "Cropped and saved 079d1c59-adc0-447a-90d2-ebce6cc7acb9_a_0.jpg and corresponding XML.\n",
      "Cropped and saved 079d1c59-adc0-447a-90d2-ebce6cc7acb9_a_1.jpg and corresponding XML.\n",
      "Cropped and saved 079d1c59-adc0-447a-90d2-ebce6cc7acb9_a_2.jpg and corresponding XML.\n",
      "Cropped and saved 079d1c59-adc0-447a-90d2-ebce6cc7acb9_a_3.jpg and corresponding XML.\n",
      "Cropped and saved 07aa9dd8-7dc0-4319-a96b-36c20346d3f5_a_0.jpg and corresponding XML.\n",
      "Cropped and saved 07aa9dd8-7dc0-4319-a96b-36c20346d3f5_a_1.jpg and corresponding XML.\n"
     ]
    },
    {
     "name": "stderr",
     "output_type": "stream",
     "text": [
      "  2%|▏         | 7/285 [00:01<00:46,  6.03it/s]"
     ]
    },
    {
     "name": "stdout",
     "output_type": "stream",
     "text": [
      "Cropped and saved 07d6b8c4-c334-460b-b379-d082a8248a55_a_0.jpg and corresponding XML.\n",
      "Cropped and saved 07d6b8c4-c334-460b-b379-d082a8248a55_a_1.jpg and corresponding XML.\n",
      "Cropped and saved 08d7893d-d16e-4b12-a426-c333565a3b0c_a_0.jpg and corresponding XML.\n",
      "Cropped and saved 08d7893d-d16e-4b12-a426-c333565a3b0c_a_1.jpg and corresponding XML.\n",
      "Cropped and saved 08d7893d-d16e-4b12-a426-c333565a3b0c_a_2.jpg and corresponding XML.\n",
      "Cropped and saved 08d7893d-d16e-4b12-a426-c333565a3b0c_a_3.jpg and corresponding XML.\n",
      "Cropped and saved 08d7893d-d16e-4b12-a426-c333565a3b0c_a_4.jpg and corresponding XML.\n",
      "Cropped and saved 08d7893d-d16e-4b12-a426-c333565a3b0c_a_5.jpg and corresponding XML.\n"
     ]
    },
    {
     "name": "stderr",
     "output_type": "stream",
     "text": [
      "  3%|▎         | 8/285 [00:02<01:29,  3.08it/s]"
     ]
    },
    {
     "name": "stdout",
     "output_type": "stream",
     "text": [
      "Cropped and saved 08d7893d-d16e-4b12-a426-c333565a3b0c_a_6.jpg and corresponding XML.\n",
      "Cropped and saved 08d7893d-d16e-4b12-a426-c333565a3b0c_a_7.jpg and corresponding XML.\n",
      "Cropped and saved 09d753fa-8201-43e4-b9bd-ede404835c07_a_0.jpg and corresponding XML.\n",
      "Cropped and saved 09d753fa-8201-43e4-b9bd-ede404835c07_a_1.jpg and corresponding XML.\n"
     ]
    },
    {
     "name": "stderr",
     "output_type": "stream",
     "text": [
      "  3%|▎         | 9/285 [00:02<01:29,  3.08it/s]"
     ]
    },
    {
     "name": "stdout",
     "output_type": "stream",
     "text": [
      "Cropped and saved 09d753fa-8201-43e4-b9bd-ede404835c07_a_2.jpg and corresponding XML.\n",
      "Cropped and saved 09d753fa-8201-43e4-b9bd-ede404835c07_a_3.jpg and corresponding XML.\n",
      "Cropped and saved 09d753fa-8201-43e4-b9bd-ede404835c07_a_4.jpg and corresponding XML.\n",
      "Cropped and saved 09d753fa-8201-43e4-b9bd-ede404835c07_a_5.jpg and corresponding XML.\n",
      "Cropped and saved 09d753fa-8201-43e4-b9bd-ede404835c07_a_6.jpg and corresponding XML.\n",
      "Cropped and saved 09d753fa-8201-43e4-b9bd-ede404835c07_a_7.jpg and corresponding XML.\n"
     ]
    },
    {
     "name": "stderr",
     "output_type": "stream",
     "text": [
      "  4%|▎         | 10/285 [00:02<01:15,  3.64it/s]"
     ]
    },
    {
     "name": "stdout",
     "output_type": "stream",
     "text": [
      "Cropped and saved 0c91d695-a84c-4a9c-a018-2f8322957a94_a_0.jpg and corresponding XML.\n",
      "Cropped and saved 0c91d695-a84c-4a9c-a018-2f8322957a94_a_1.jpg and corresponding XML.\n",
      "Cropped and saved 0c91d695-a84c-4a9c-a018-2f8322957a94_a_2.jpg and corresponding XML.\n",
      "Cropped and saved 0cabd109-e426-4ec9-845a-71ecf6431ab4_a_0.jpg and corresponding XML.\n"
     ]
    },
    {
     "name": "stderr",
     "output_type": "stream",
     "text": [
      "  4%|▍         | 11/285 [00:02<01:13,  3.73it/s]"
     ]
    },
    {
     "name": "stdout",
     "output_type": "stream",
     "text": [
      "Cropped and saved 0cabd109-e426-4ec9-845a-71ecf6431ab4_a_1.jpg and corresponding XML.\n",
      "Cropped and saved 0cabd109-e426-4ec9-845a-71ecf6431ab4_a_2.jpg and corresponding XML.\n",
      "Cropped and saved 0cabd109-e426-4ec9-845a-71ecf6431ab4_a_3.jpg and corresponding XML.\n",
      "Cropped and saved 0cabd109-e426-4ec9-845a-71ecf6431ab4_a_4.jpg and corresponding XML.\n",
      "Cropped and saved 0cabd109-e426-4ec9-845a-71ecf6431ab4_a_5.jpg and corresponding XML.\n"
     ]
    },
    {
     "name": "stderr",
     "output_type": "stream",
     "text": [
      "  4%|▍         | 12/285 [00:03<01:09,  3.94it/s]"
     ]
    },
    {
     "name": "stdout",
     "output_type": "stream",
     "text": [
      "Cropped and saved 0d2f0607-e229-4cc1-a126-c7c3897ba531_a_0.jpg and corresponding XML.\n",
      "Cropped and saved 0d2f0607-e229-4cc1-a126-c7c3897ba531_a_1.jpg and corresponding XML.\n",
      "Cropped and saved 0d2f0607-e229-4cc1-a126-c7c3897ba531_a_2.jpg and corresponding XML.\n",
      "Cropped and saved 0d2f0607-e229-4cc1-a126-c7c3897ba531_a_3.jpg and corresponding XML.\n",
      "Cropped and saved 0f6d8c1e-f945-40a4-99b4-f7a1853f0234_a_0.jpg and corresponding XML.\n"
     ]
    },
    {
     "name": "stderr",
     "output_type": "stream",
     "text": [
      "  5%|▍         | 13/285 [00:03<01:11,  3.82it/s]"
     ]
    },
    {
     "name": "stdout",
     "output_type": "stream",
     "text": [
      "Cropped and saved 0f6d8c1e-f945-40a4-99b4-f7a1853f0234_a_1.jpg and corresponding XML.\n",
      "Cropped and saved 0f6d8c1e-f945-40a4-99b4-f7a1853f0234_a_2.jpg and corresponding XML.\n",
      "Cropped and saved 0f6d8c1e-f945-40a4-99b4-f7a1853f0234_a_3.jpg and corresponding XML.\n",
      "Cropped and saved 0f6d8c1e-f945-40a4-99b4-f7a1853f0234_a_4.jpg and corresponding XML.\n",
      "Cropped and saved 0f6d8c1e-f945-40a4-99b4-f7a1853f0234_a_5.jpg and corresponding XML.\n",
      "Cropped and saved 0fbcda12-737a-4042-9283-2e2e6a662d32_a_0.jpg and corresponding XML.\n",
      "Cropped and saved 0fbcda12-737a-4042-9283-2e2e6a662d32_a_1.jpg and corresponding XML.\n",
      "Cropped and saved 0fbcda12-737a-4042-9283-2e2e6a662d32_a_2.jpg and corresponding XML.\n",
      "Cropped and saved 0fbcda12-737a-4042-9283-2e2e6a662d32_a_3.jpg and corresponding XML.\n"
     ]
    },
    {
     "name": "stderr",
     "output_type": "stream",
     "text": [
      "  5%|▌         | 15/285 [00:03<01:03,  4.27it/s]"
     ]
    },
    {
     "name": "stdout",
     "output_type": "stream",
     "text": [
      "Cropped and saved 0fbcda12-737a-4042-9283-2e2e6a662d32_a_4.jpg and corresponding XML.\n",
      "Cropped and saved 0fbcda12-737a-4042-9283-2e2e6a662d32_a_5.jpg and corresponding XML.\n",
      "Cropped and saved 10664ca4-f6be-4be1-b5e6-c197ce78d5dd_a_0.jpg and corresponding XML.\n",
      "Cropped and saved 10664ca4-f6be-4be1-b5e6-c197ce78d5dd_a_1.jpg and corresponding XML.\n",
      "Cropped and saved 10664ca4-f6be-4be1-b5e6-c197ce78d5dd_a_2.jpg and corresponding XML.\n",
      "Cropped and saved 10c585d7-696a-436f-8744-90a6eddb8239_a_0.jpg and corresponding XML.\n",
      "Cropped and saved 10c585d7-696a-436f-8744-90a6eddb8239_a_1.jpg and corresponding XML.\n",
      "Cropped and saved 10c585d7-696a-436f-8744-90a6eddb8239_a_2.jpg and corresponding XML.\n",
      "Cropped and saved 10c585d7-696a-436f-8744-90a6eddb8239_a_3.jpg and corresponding XML.\n",
      "Cropped and saved 10c585d7-696a-436f-8744-90a6eddb8239_a_4.jpg and corresponding XML.\n",
      "Cropped and saved 10c585d7-696a-436f-8744-90a6eddb8239_a_5.jpg and corresponding XML.\n"
     ]
    },
    {
     "name": "stderr",
     "output_type": "stream",
     "text": [
      "  6%|▌         | 16/285 [00:04<01:20,  3.35it/s]"
     ]
    },
    {
     "name": "stdout",
     "output_type": "stream",
     "text": [
      "Cropped and saved 10c585d7-696a-436f-8744-90a6eddb8239_a_6.jpg and corresponding XML.\n",
      "Cropped and saved 10c585d7-696a-436f-8744-90a6eddb8239_a_7.jpg and corresponding XML.\n",
      "Cropped and saved 10c585d7-696a-436f-8744-90a6eddb8239_a_8.jpg and corresponding XML.\n",
      "Cropped and saved 10c585d7-696a-436f-8744-90a6eddb8239_a_9.jpg and corresponding XML.\n",
      "Cropped and saved 10cfaaf0-3e87-444e-a141-dcda1503ef30_a_0.jpg and corresponding XML.\n",
      "Cropped and saved 10cfaaf0-3e87-444e-a141-dcda1503ef30_a_1.jpg and corresponding XML.\n",
      "Cropped and saved 10cfaaf0-3e87-444e-a141-dcda1503ef30_a_2.jpg and corresponding XML.\n",
      "Cropped and saved 10cfaaf0-3e87-444e-a141-dcda1503ef30_a_3.jpg and corresponding XML.\n",
      "Cropped and saved 10cfaaf0-3e87-444e-a141-dcda1503ef30_a_4.jpg and corresponding XML.\n",
      "Cropped and saved 10cfaaf0-3e87-444e-a141-dcda1503ef30_a_5.jpg and corresponding XML.\n",
      "Cropped and saved 10cfaaf0-3e87-444e-a141-dcda1503ef30_a_6.jpg and corresponding XML.\n"
     ]
    },
    {
     "name": "stderr",
     "output_type": "stream",
     "text": [
      "  6%|▌         | 17/285 [00:04<01:23,  3.22it/s]"
     ]
    },
    {
     "name": "stdout",
     "output_type": "stream",
     "text": [
      "Cropped and saved 10cfaaf0-3e87-444e-a141-dcda1503ef30_a_7.jpg and corresponding XML.\n",
      "Cropped and saved 1177fcfb-6cac-4a28-8d03-cdd64cf16932_a_0.jpg and corresponding XML.\n",
      "Cropped and saved 1177fcfb-6cac-4a28-8d03-cdd64cf16932_a_1.jpg and corresponding XML.\n",
      "Cropped and saved 1177fcfb-6cac-4a28-8d03-cdd64cf16932_a_2.jpg and corresponding XML.\n",
      "Cropped and saved 1177fcfb-6cac-4a28-8d03-cdd64cf16932_a_3.jpg and corresponding XML.\n"
     ]
    },
    {
     "name": "stderr",
     "output_type": "stream",
     "text": [
      "  6%|▋         | 18/285 [00:05<01:22,  3.23it/s]"
     ]
    },
    {
     "name": "stdout",
     "output_type": "stream",
     "text": [
      "Cropped and saved 1177fcfb-6cac-4a28-8d03-cdd64cf16932_a_4.jpg and corresponding XML.\n",
      "Cropped and saved 1177fcfb-6cac-4a28-8d03-cdd64cf16932_a_5.jpg and corresponding XML.\n",
      "Cropped and saved 12a176fc-42c6-4904-934e-b76a1ed5138e_a_0.jpg and corresponding XML.\n"
     ]
    },
    {
     "name": "stderr",
     "output_type": "stream",
     "text": [
      "  7%|▋         | 19/285 [00:05<01:21,  3.27it/s]"
     ]
    },
    {
     "name": "stdout",
     "output_type": "stream",
     "text": [
      "Cropped and saved 12a176fc-42c6-4904-934e-b76a1ed5138e_a_1.jpg and corresponding XML.\n",
      "Cropped and saved 12a176fc-42c6-4904-934e-b76a1ed5138e_a_2.jpg and corresponding XML.\n",
      "Cropped and saved 12a176fc-42c6-4904-934e-b76a1ed5138e_a_3.jpg and corresponding XML.\n",
      "Cropped and saved 12a176fc-42c6-4904-934e-b76a1ed5138e_a_4.jpg and corresponding XML.\n",
      "Cropped and saved 12a176fc-42c6-4904-934e-b76a1ed5138e_a_5.jpg and corresponding XML.\n",
      "Cropped and saved 12a176fc-42c6-4904-934e-b76a1ed5138e_a_6.jpg and corresponding XML.\n",
      "Cropped and saved 12a176fc-42c6-4904-934e-b76a1ed5138e_a_7.jpg and corresponding XML.\n"
     ]
    },
    {
     "name": "stderr",
     "output_type": "stream",
     "text": [
      "  7%|▋         | 21/285 [00:05<00:58,  4.51it/s]"
     ]
    },
    {
     "name": "stdout",
     "output_type": "stream",
     "text": [
      "Cropped and saved 12e5b5f4-de6f-4069-bde0-8d7a78c67137_a_0.jpg and corresponding XML.\n",
      "Cropped and saved 12e5b5f4-de6f-4069-bde0-8d7a78c67137_a_1.jpg and corresponding XML.\n",
      "Cropped and saved 143f9881-eded-49d7-be31-00299dee1012_a_0.jpg and corresponding XML.\n",
      "Cropped and saved 143f9881-eded-49d7-be31-00299dee1012_a_1.jpg and corresponding XML.\n",
      "Cropped and saved 143f9881-eded-49d7-be31-00299dee1012_a_2.jpg and corresponding XML.\n",
      "Cropped and saved 143f9881-eded-49d7-be31-00299dee1012_a_3.jpg and corresponding XML.\n",
      "Cropped and saved 143f9881-eded-49d7-be31-00299dee1012_a_4.jpg and corresponding XML.\n",
      "Cropped and saved 149dbc6a-8222-45a4-98d3-18072928bec8_a_0.jpg and corresponding XML.\n",
      "Cropped and saved 149dbc6a-8222-45a4-98d3-18072928bec8_a_1.jpg and corresponding XML.\n",
      "Cropped and saved 149dbc6a-8222-45a4-98d3-18072928bec8_a_2.jpg and corresponding XML.\n",
      "Cropped and saved 149dbc6a-8222-45a4-98d3-18072928bec8_a_3.jpg and corresponding XML.\n",
      "Cropped and saved 149dbc6a-8222-45a4-98d3-18072928bec8_a_4.jpg and corresponding XML.\n"
     ]
    },
    {
     "name": "stderr",
     "output_type": "stream",
     "text": [
      "  8%|▊         | 22/285 [00:05<01:05,  4.00it/s]"
     ]
    },
    {
     "name": "stdout",
     "output_type": "stream",
     "text": [
      "Cropped and saved 149dbc6a-8222-45a4-98d3-18072928bec8_a_5.jpg and corresponding XML.\n",
      "Cropped and saved 153cd110-751a-4996-9f69-ed56292b053c_a_0.jpg and corresponding XML.\n",
      "Cropped and saved 153cd110-751a-4996-9f69-ed56292b053c_a_1.jpg and corresponding XML.\n",
      "Cropped and saved 153cd110-751a-4996-9f69-ed56292b053c_a_2.jpg and corresponding XML.\n"
     ]
    },
    {
     "name": "stderr",
     "output_type": "stream",
     "text": [
      "  8%|▊         | 23/285 [00:06<01:13,  3.55it/s]"
     ]
    },
    {
     "name": "stdout",
     "output_type": "stream",
     "text": [
      "Cropped and saved 153cd110-751a-4996-9f69-ed56292b053c_a_3.jpg and corresponding XML.\n",
      "Cropped and saved 153cd110-751a-4996-9f69-ed56292b053c_a_4.jpg and corresponding XML.\n",
      "Cropped and saved 153cd110-751a-4996-9f69-ed56292b053c_a_5.jpg and corresponding XML.\n",
      "Cropped and saved 16d4225c-514d-4bc3-86a9-f2fe23cc02f0_a_0.jpg and corresponding XML.\n",
      "Cropped and saved 16d4225c-514d-4bc3-86a9-f2fe23cc02f0_a_1.jpg and corresponding XML.\n",
      "Cropped and saved 16d4225c-514d-4bc3-86a9-f2fe23cc02f0_a_2.jpg and corresponding XML.\n",
      "Cropped and saved 16d4225c-514d-4bc3-86a9-f2fe23cc02f0_a_3.jpg and corresponding XML.\n",
      "Cropped and saved 16d4225c-514d-4bc3-86a9-f2fe23cc02f0_a_4.jpg and corresponding XML.\n"
     ]
    },
    {
     "name": "stderr",
     "output_type": "stream",
     "text": [
      "  8%|▊         | 24/285 [00:06<01:26,  3.03it/s]"
     ]
    },
    {
     "name": "stdout",
     "output_type": "stream",
     "text": [
      "Cropped and saved 16d4225c-514d-4bc3-86a9-f2fe23cc02f0_a_5.jpg and corresponding XML.\n",
      "Cropped and saved 16d4225c-514d-4bc3-86a9-f2fe23cc02f0_a_6.jpg and corresponding XML.\n",
      "Cropped and saved 16d4225c-514d-4bc3-86a9-f2fe23cc02f0_a_7.jpg and corresponding XML.\n",
      "Cropped and saved 1707b9be-bfbb-4b4b-ba97-a9d8d6fba476_a_0.jpg and corresponding XML.\n"
     ]
    },
    {
     "name": "stderr",
     "output_type": "stream",
     "text": [
      "  9%|▉         | 25/285 [00:06<01:18,  3.32it/s]"
     ]
    },
    {
     "name": "stdout",
     "output_type": "stream",
     "text": [
      "Cropped and saved 1707b9be-bfbb-4b4b-ba97-a9d8d6fba476_a_1.jpg and corresponding XML.\n",
      "Cropped and saved 1707b9be-bfbb-4b4b-ba97-a9d8d6fba476_a_2.jpg and corresponding XML.\n",
      "Cropped and saved 1707b9be-bfbb-4b4b-ba97-a9d8d6fba476_a_3.jpg and corresponding XML.\n",
      "Cropped and saved 1707b9be-bfbb-4b4b-ba97-a9d8d6fba476_a_4.jpg and corresponding XML.\n",
      "Cropped and saved 1707b9be-bfbb-4b4b-ba97-a9d8d6fba476_a_5.jpg and corresponding XML.\n",
      "Cropped and saved 1707b9be-bfbb-4b4b-ba97-a9d8d6fba476_a_6.jpg and corresponding XML.\n",
      "Cropped and saved 172bbc09-1c94-47cc-bf58-b96952f491fd_a_0.jpg and corresponding XML.\n",
      "Cropped and saved 172bbc09-1c94-47cc-bf58-b96952f491fd_a_1.jpg and corresponding XML.\n",
      "Cropped and saved 172bbc09-1c94-47cc-bf58-b96952f491fd_a_2.jpg and corresponding XML.\n"
     ]
    },
    {
     "name": "stderr",
     "output_type": "stream",
     "text": [
      "  9%|▉         | 26/285 [00:07<01:50,  2.35it/s]"
     ]
    },
    {
     "name": "stdout",
     "output_type": "stream",
     "text": [
      "Cropped and saved 172bbc09-1c94-47cc-bf58-b96952f491fd_a_3.jpg and corresponding XML.\n",
      "Cropped and saved 172bbc09-1c94-47cc-bf58-b96952f491fd_a_4.jpg and corresponding XML.\n",
      "Cropped and saved 17555c8a-a69c-455f-86f2-7e5bee75a9b7_a_0.jpg and corresponding XML.\n",
      "Cropped and saved 17555c8a-a69c-455f-86f2-7e5bee75a9b7_a_1.jpg and corresponding XML.\n",
      "Cropped and saved 17d53799-756e-4b74-b015-d2406e4f8d35_a_0.jpg and corresponding XML.\n",
      "Cropped and saved 17d53799-756e-4b74-b015-d2406e4f8d35_a_1.jpg and corresponding XML.\n",
      "Cropped and saved 17d53799-756e-4b74-b015-d2406e4f8d35_a_2.jpg and corresponding XML.\n",
      "Cropped and saved 17d53799-756e-4b74-b015-d2406e4f8d35_a_3.jpg and corresponding XML.\n",
      "Cropped and saved 17d53799-756e-4b74-b015-d2406e4f8d35_a_4.jpg and corresponding XML.\n"
     ]
    },
    {
     "name": "stderr",
     "output_type": "stream",
     "text": [
      " 10%|█         | 29/285 [00:08<01:09,  3.68it/s]"
     ]
    },
    {
     "name": "stdout",
     "output_type": "stream",
     "text": [
      "Cropped and saved 17d53799-756e-4b74-b015-d2406e4f8d35_a_5.jpg and corresponding XML.\n",
      "Cropped and saved 18b2d96c-7806-41ac-b9f2-be239c6d708f_a_0.jpg and corresponding XML.\n",
      "Cropped and saved 18b2d96c-7806-41ac-b9f2-be239c6d708f_a_1.jpg and corresponding XML.\n",
      "Cropped and saved 18fff629-8c18-4e4e-9c40-9d68f2f0e9ae_a_0.jpg and corresponding XML.\n",
      "Cropped and saved 18fff629-8c18-4e4e-9c40-9d68f2f0e9ae_a_1.jpg and corresponding XML.\n"
     ]
    },
    {
     "name": "stderr",
     "output_type": "stream",
     "text": [
      " 11%|█         | 31/285 [00:08<00:56,  4.52it/s]"
     ]
    },
    {
     "name": "stdout",
     "output_type": "stream",
     "text": [
      "Cropped and saved 19371fb5-d369-4520-9e7b-b7ed95f4f774_a_0.jpg and corresponding XML.\n",
      "Cropped and saved 19371fb5-d369-4520-9e7b-b7ed95f4f774_a_1.jpg and corresponding XML.\n",
      "Cropped and saved 19371fb5-d369-4520-9e7b-b7ed95f4f774_a_2.jpg and corresponding XML.\n",
      "Cropped and saved 19371fb5-d369-4520-9e7b-b7ed95f4f774_a_3.jpg and corresponding XML.\n",
      "Cropped and saved 19371fb5-d369-4520-9e7b-b7ed95f4f774_a_4.jpg and corresponding XML.\n",
      "Cropped and saved 19371fb5-d369-4520-9e7b-b7ed95f4f774_a_5.jpg and corresponding XML.\n",
      "Cropped and saved 19fbe75a-dedf-475c-930e-2cae1d87ec45_a_0.jpg and corresponding XML.\n",
      "Cropped and saved 19fbe75a-dedf-475c-930e-2cae1d87ec45_a_1.jpg and corresponding XML.\n",
      "Cropped and saved 19fbe75a-dedf-475c-930e-2cae1d87ec45_a_2.jpg and corresponding XML.\n",
      "Cropped and saved 19fbe75a-dedf-475c-930e-2cae1d87ec45_a_3.jpg and corresponding XML.\n",
      "Cropped and saved 19fbe75a-dedf-475c-930e-2cae1d87ec45_a_4.jpg and corresponding XML.\n",
      "Cropped and saved 19fbe75a-dedf-475c-930e-2cae1d87ec45_a_5.jpg and corresponding XML.\n"
     ]
    },
    {
     "name": "stderr",
     "output_type": "stream",
     "text": [
      " 11%|█         | 32/285 [00:08<01:06,  3.80it/s]"
     ]
    },
    {
     "name": "stdout",
     "output_type": "stream",
     "text": [
      "Cropped and saved 19fbe75a-dedf-475c-930e-2cae1d87ec45_a_6.jpg and corresponding XML.\n",
      "Cropped and saved 19fbe75a-dedf-475c-930e-2cae1d87ec45_a_7.jpg and corresponding XML.\n",
      "Cropped and saved 19fbe75a-dedf-475c-930e-2cae1d87ec45_a_8.jpg and corresponding XML.\n",
      "Cropped and saved 1a0cad91-fade-4a4f-b221-b31e4a216928_a_0.jpg and corresponding XML.\n",
      "Cropped and saved 1a0cad91-fade-4a4f-b221-b31e4a216928_a_1.jpg and corresponding XML.\n",
      "Cropped and saved 1a0cad91-fade-4a4f-b221-b31e4a216928_a_2.jpg and corresponding XML.\n",
      "Cropped and saved 1a0cad91-fade-4a4f-b221-b31e4a216928_a_3.jpg and corresponding XML.\n",
      "Cropped and saved 1a0cad91-fade-4a4f-b221-b31e4a216928_a_4.jpg and corresponding XML.\n",
      "Cropped and saved 1a0cad91-fade-4a4f-b221-b31e4a216928_a_5.jpg and corresponding XML.\n",
      "Cropped and saved 1a0cad91-fade-4a4f-b221-b31e4a216928_a_6.jpg and corresponding XML.\n"
     ]
    },
    {
     "name": "stderr",
     "output_type": "stream",
     "text": [
      " 12%|█▏        | 33/285 [00:09<01:18,  3.20it/s]"
     ]
    },
    {
     "name": "stdout",
     "output_type": "stream",
     "text": [
      "Cropped and saved 1a0cad91-fade-4a4f-b221-b31e4a216928_a_7.jpg and corresponding XML.\n",
      "Cropped and saved 1a0cad91-fade-4a4f-b221-b31e4a216928_a_8.jpg and corresponding XML.\n",
      "Cropped and saved 1a0cad91-fade-4a4f-b221-b31e4a216928_a_9.jpg and corresponding XML.\n",
      "Cropped and saved 1a831599-301b-418f-aa6c-fdb5545f488e_a_0.jpg and corresponding XML.\n",
      "Cropped and saved 1a831599-301b-418f-aa6c-fdb5545f488e_a_1.jpg and corresponding XML.\n"
     ]
    },
    {
     "name": "stderr",
     "output_type": "stream",
     "text": [
      " 12%|█▏        | 35/285 [00:09<01:01,  4.06it/s]"
     ]
    },
    {
     "name": "stdout",
     "output_type": "stream",
     "text": [
      "Cropped and saved 1a831599-301b-418f-aa6c-fdb5545f488e_a_2.jpg and corresponding XML.\n",
      "Cropped and saved 1a831599-301b-418f-aa6c-fdb5545f488e_a_3.jpg and corresponding XML.\n",
      "Cropped and saved 1a831599-301b-418f-aa6c-fdb5545f488e_a_4.jpg and corresponding XML.\n",
      "Cropped and saved 1afd7bb8-5e56-41e1-84b1-e11ccfa440ff_a_0.jpg and corresponding XML.\n",
      "Cropped and saved 1afd7bb8-5e56-41e1-84b1-e11ccfa440ff_a_1.jpg and corresponding XML.\n",
      "Cropped and saved 1afd7bb8-5e56-41e1-84b1-e11ccfa440ff_a_2.jpg and corresponding XML.\n"
     ]
    },
    {
     "name": "stderr",
     "output_type": "stream",
     "text": [
      " 13%|█▎        | 36/285 [00:10<01:08,  3.63it/s]"
     ]
    },
    {
     "name": "stdout",
     "output_type": "stream",
     "text": [
      "Cropped and saved 1c0e3f72-d372-4905-b9c7-805f502ced6d_a_0.jpg and corresponding XML.\n",
      "Cropped and saved 1c0e3f72-d372-4905-b9c7-805f502ced6d_a_1.jpg and corresponding XML.\n",
      "Cropped and saved 1c0e3f72-d372-4905-b9c7-805f502ced6d_a_2.jpg and corresponding XML.\n",
      "Cropped and saved 1c0e3f72-d372-4905-b9c7-805f502ced6d_a_3.jpg and corresponding XML.\n",
      "Cropped and saved 1c0e3f72-d372-4905-b9c7-805f502ced6d_a_4.jpg and corresponding XML.\n",
      "Cropped and saved 1c0e3f72-d372-4905-b9c7-805f502ced6d_a_5.jpg and corresponding XML.\n",
      "Cropped and saved 1c2b3c25-2711-48a8-be16-84fd3883e358_a_0.jpg and corresponding XML.\n",
      "Cropped and saved 1c2b3c25-2711-48a8-be16-84fd3883e358_a_1.jpg and corresponding XML.\n",
      "Cropped and saved 1c2b3c25-2711-48a8-be16-84fd3883e358_a_2.jpg and corresponding XML.\n",
      "Cropped and saved 1c2b3c25-2711-48a8-be16-84fd3883e358_a_3.jpg and corresponding XML.\n",
      "Cropped and saved 1c2b3c25-2711-48a8-be16-84fd3883e358_a_4.jpg and corresponding XML.\n"
     ]
    },
    {
     "name": "stderr",
     "output_type": "stream",
     "text": [
      " 13%|█▎        | 37/285 [00:10<01:07,  3.65it/s]"
     ]
    },
    {
     "name": "stdout",
     "output_type": "stream",
     "text": [
      "Cropped and saved 1c2b3c25-2711-48a8-be16-84fd3883e358_a_5.jpg and corresponding XML.\n",
      "Cropped and saved 1cb9f5d0-440a-4acd-b842-910f6999b45b_a_0.jpg and corresponding XML.\n",
      "Cropped and saved 1cb9f5d0-440a-4acd-b842-910f6999b45b_a_1.jpg and corresponding XML.\n",
      "Cropped and saved 1cb9f5d0-440a-4acd-b842-910f6999b45b_a_2.jpg and corresponding XML.\n",
      "Cropped and saved 1cb9f5d0-440a-4acd-b842-910f6999b45b_a_3.jpg and corresponding XML.\n",
      "Cropped and saved 1cb9f5d0-440a-4acd-b842-910f6999b45b_a_4.jpg and corresponding XML.\n"
     ]
    },
    {
     "name": "stderr",
     "output_type": "stream",
     "text": [
      " 13%|█▎        | 38/285 [00:10<01:16,  3.23it/s]"
     ]
    },
    {
     "name": "stdout",
     "output_type": "stream",
     "text": [
      "Cropped and saved 1cb9f5d0-440a-4acd-b842-910f6999b45b_a_5.jpg and corresponding XML.\n",
      "Cropped and saved 1cb9f5d0-440a-4acd-b842-910f6999b45b_a_6.jpg and corresponding XML.\n",
      "Cropped and saved 1cb9f5d0-440a-4acd-b842-910f6999b45b_a_7.jpg and corresponding XML.\n",
      "Cropped and saved 1cb9f5d0-440a-4acd-b842-910f6999b45b_a_8.jpg and corresponding XML.\n",
      "Cropped and saved 1cb9f5d0-440a-4acd-b842-910f6999b45b_a_9.jpg and corresponding XML.\n",
      "Cropped and saved 1cb9f5d0-440a-4acd-b842-910f6999b45b_a_10.jpg and corresponding XML.\n"
     ]
    },
    {
     "name": "stderr",
     "output_type": "stream",
     "text": [
      " 14%|█▎        | 39/285 [00:10<01:09,  3.52it/s]"
     ]
    },
    {
     "name": "stdout",
     "output_type": "stream",
     "text": [
      "Cropped and saved 1ec55667-5f84-45c8-8bbc-b184d148c0ee_a_0.jpg and corresponding XML.\n",
      "Cropped and saved 1ec55667-5f84-45c8-8bbc-b184d148c0ee_a_1.jpg and corresponding XML.\n",
      "Cropped and saved 1ec55667-5f84-45c8-8bbc-b184d148c0ee_a_2.jpg and corresponding XML.\n",
      "Cropped and saved 1ec55667-5f84-45c8-8bbc-b184d148c0ee_a_3.jpg and corresponding XML.\n",
      "Cropped and saved 1ec55667-5f84-45c8-8bbc-b184d148c0ee_a_4.jpg and corresponding XML.\n",
      "Cropped and saved 1ec55667-5f84-45c8-8bbc-b184d148c0ee_a_5.jpg and corresponding XML.\n",
      "Cropped and saved 1ed3ed12-0d85-43c9-8c40-6b0acc2d2146_a_0.jpg and corresponding XML.\n"
     ]
    },
    {
     "name": "stderr",
     "output_type": "stream",
     "text": [
      " 14%|█▍        | 40/285 [00:11<01:09,  3.53it/s]"
     ]
    },
    {
     "name": "stdout",
     "output_type": "stream",
     "text": [
      "Cropped and saved 1ed3ed12-0d85-43c9-8c40-6b0acc2d2146_a_1.jpg and corresponding XML.\n",
      "Cropped and saved 1ed3ed12-0d85-43c9-8c40-6b0acc2d2146_a_2.jpg and corresponding XML.\n",
      "Cropped and saved 1ed3ed12-0d85-43c9-8c40-6b0acc2d2146_a_3.jpg and corresponding XML.\n",
      "Cropped and saved 1ed3ed12-0d85-43c9-8c40-6b0acc2d2146_a_4.jpg and corresponding XML.\n",
      "Cropped and saved 1ed3ed12-0d85-43c9-8c40-6b0acc2d2146_a_5.jpg and corresponding XML.\n"
     ]
    },
    {
     "name": "stderr",
     "output_type": "stream",
     "text": [
      " 14%|█▍        | 41/285 [00:11<01:01,  3.97it/s]"
     ]
    },
    {
     "name": "stdout",
     "output_type": "stream",
     "text": [
      "Cropped and saved 1f55f6f0-a616-438a-bfad-18a8c67be1d0_a_0.jpg and corresponding XML.\n",
      "Cropped and saved 1f55f6f0-a616-438a-bfad-18a8c67be1d0_a_1.jpg and corresponding XML.\n",
      "Cropped and saved 1f55f6f0-a616-438a-bfad-18a8c67be1d0_a_2.jpg and corresponding XML.\n",
      "Cropped and saved 1f55f6f0-a616-438a-bfad-18a8c67be1d0_a_3.jpg and corresponding XML.\n",
      "Cropped and saved 202914de-e884-4847-b65d-d2bf5a5585f6_a_0.jpg and corresponding XML.\n",
      "Cropped and saved 202914de-e884-4847-b65d-d2bf5a5585f6_a_1.jpg and corresponding XML.\n",
      "Cropped and saved 202914de-e884-4847-b65d-d2bf5a5585f6_a_2.jpg and corresponding XML.\n",
      "Cropped and saved 202914de-e884-4847-b65d-d2bf5a5585f6_a_3.jpg and corresponding XML.\n",
      "Cropped and saved 202914de-e884-4847-b65d-d2bf5a5585f6_a_4.jpg and corresponding XML.\n",
      "Cropped and saved 202914de-e884-4847-b65d-d2bf5a5585f6_a_5.jpg and corresponding XML.\n",
      "Cropped and saved 202914de-e884-4847-b65d-d2bf5a5585f6_a_6.jpg and corresponding XML.\n"
     ]
    },
    {
     "name": "stderr",
     "output_type": "stream",
     "text": [
      " 15%|█▍        | 42/285 [00:11<01:10,  3.47it/s]"
     ]
    },
    {
     "name": "stdout",
     "output_type": "stream",
     "text": [
      "Cropped and saved 202914de-e884-4847-b65d-d2bf5a5585f6_a_7.jpg and corresponding XML.\n",
      "Cropped and saved 202914de-e884-4847-b65d-d2bf5a5585f6_a_8.jpg and corresponding XML.\n",
      "Cropped and saved 207a682f-9c96-4f31-94c9-91831da44c53_a_0.jpg and corresponding XML.\n",
      "Cropped and saved 207a682f-9c96-4f31-94c9-91831da44c53_a_1.jpg and corresponding XML.\n"
     ]
    },
    {
     "name": "stderr",
     "output_type": "stream",
     "text": [
      " 15%|█▌        | 43/285 [00:12<01:07,  3.57it/s]"
     ]
    },
    {
     "name": "stdout",
     "output_type": "stream",
     "text": [
      "Cropped and saved 207a682f-9c96-4f31-94c9-91831da44c53_a_2.jpg and corresponding XML.\n",
      "Cropped and saved 207a682f-9c96-4f31-94c9-91831da44c53_a_3.jpg and corresponding XML.\n",
      "Cropped and saved 207a682f-9c96-4f31-94c9-91831da44c53_a_4.jpg and corresponding XML.\n",
      "Cropped and saved 20c6c0d4-6f87-4709-bad3-928a13d43295_a_0.jpg and corresponding XML.\n",
      "Cropped and saved 20c6c0d4-6f87-4709-bad3-928a13d43295_a_1.jpg and corresponding XML.\n"
     ]
    },
    {
     "name": "stderr",
     "output_type": "stream",
     "text": [
      " 15%|█▌        | 44/285 [00:12<01:03,  3.79it/s]"
     ]
    },
    {
     "name": "stdout",
     "output_type": "stream",
     "text": [
      "Cropped and saved 20c6c0d4-6f87-4709-bad3-928a13d43295_a_2.jpg and corresponding XML.\n",
      "Cropped and saved 20c6c0d4-6f87-4709-bad3-928a13d43295_a_3.jpg and corresponding XML.\n",
      "Cropped and saved 20c6c0d4-6f87-4709-bad3-928a13d43295_a_4.jpg and corresponding XML.\n",
      "Cropped and saved 210eb5b3-4c80-4fa6-b719-d161c3bd39b0_a_0.jpg and corresponding XML.\n",
      "Cropped and saved 210eb5b3-4c80-4fa6-b719-d161c3bd39b0_a_1.jpg and corresponding XML.\n"
     ]
    },
    {
     "name": "stderr",
     "output_type": "stream",
     "text": [
      " 16%|█▌        | 45/285 [00:12<01:06,  3.61it/s]"
     ]
    },
    {
     "name": "stdout",
     "output_type": "stream",
     "text": [
      "Cropped and saved 210eb5b3-4c80-4fa6-b719-d161c3bd39b0_a_2.jpg and corresponding XML.\n",
      "Cropped and saved 210eb5b3-4c80-4fa6-b719-d161c3bd39b0_a_3.jpg and corresponding XML.\n",
      "Cropped and saved 210eb5b3-4c80-4fa6-b719-d161c3bd39b0_a_4.jpg and corresponding XML.\n",
      "Cropped and saved 2138e090-97d2-4932-9fcd-0df327c79bfd_a_0.jpg and corresponding XML.\n"
     ]
    },
    {
     "name": "stderr",
     "output_type": "stream",
     "text": [
      " 16%|█▌        | 46/285 [00:12<01:02,  3.84it/s]"
     ]
    },
    {
     "name": "stdout",
     "output_type": "stream",
     "text": [
      "Cropped and saved 2138e090-97d2-4932-9fcd-0df327c79bfd_a_1.jpg and corresponding XML.\n",
      "Cropped and saved 2138e090-97d2-4932-9fcd-0df327c79bfd_a_2.jpg and corresponding XML.\n",
      "Cropped and saved 2138e090-97d2-4932-9fcd-0df327c79bfd_a_3.jpg and corresponding XML.\n",
      "Cropped and saved 2138e090-97d2-4932-9fcd-0df327c79bfd_a_4.jpg and corresponding XML.\n",
      "Cropped and saved 2138e090-97d2-4932-9fcd-0df327c79bfd_a_5.jpg and corresponding XML.\n",
      "Cropped and saved 2138e090-97d2-4932-9fcd-0df327c79bfd_a_6.jpg and corresponding XML.\n"
     ]
    },
    {
     "name": "stderr",
     "output_type": "stream",
     "text": [
      " 16%|█▋        | 47/285 [00:12<00:58,  4.05it/s]"
     ]
    },
    {
     "name": "stdout",
     "output_type": "stream",
     "text": [
      "Cropped and saved 216abe3b-1081-444c-9fed-f3c016f09cce_a_0.jpg and corresponding XML.\n",
      "Cropped and saved 216abe3b-1081-444c-9fed-f3c016f09cce_a_1.jpg and corresponding XML.\n",
      "Cropped and saved 216abe3b-1081-444c-9fed-f3c016f09cce_a_2.jpg and corresponding XML.\n",
      "Cropped and saved 216abe3b-1081-444c-9fed-f3c016f09cce_a_3.jpg and corresponding XML.\n"
     ]
    },
    {
     "name": "stderr",
     "output_type": "stream",
     "text": [
      " 17%|█▋        | 48/285 [00:13<01:01,  3.83it/s]"
     ]
    },
    {
     "name": "stdout",
     "output_type": "stream",
     "text": [
      "Cropped and saved 235b6de9-1b30-4e71-a439-de2897a9ebcd_a_0.jpg and corresponding XML.\n",
      "Cropped and saved 235b6de9-1b30-4e71-a439-de2897a9ebcd_a_1.jpg and corresponding XML.\n",
      "Cropped and saved 235b6de9-1b30-4e71-a439-de2897a9ebcd_a_2.jpg and corresponding XML.\n",
      "Cropped and saved 235b6de9-1b30-4e71-a439-de2897a9ebcd_a_3.jpg and corresponding XML.\n",
      "Cropped and saved 235b6de9-1b30-4e71-a439-de2897a9ebcd_a_4.jpg and corresponding XML.\n",
      "Cropped and saved 235b6de9-1b30-4e71-a439-de2897a9ebcd_a_5.jpg and corresponding XML.\n",
      "Cropped and saved 235b6de9-1b30-4e71-a439-de2897a9ebcd_a_6.jpg and corresponding XML.\n",
      "Cropped and saved 235b6de9-1b30-4e71-a439-de2897a9ebcd_a_7.jpg and corresponding XML.\n"
     ]
    },
    {
     "name": "stderr",
     "output_type": "stream",
     "text": [
      " 17%|█▋        | 49/285 [00:13<01:01,  3.86it/s]"
     ]
    },
    {
     "name": "stdout",
     "output_type": "stream",
     "text": [
      "Cropped and saved 24baea2c-0eff-4756-ad5b-cf448737cad0_a_0.jpg and corresponding XML.\n",
      "Cropped and saved 24baea2c-0eff-4756-ad5b-cf448737cad0_a_1.jpg and corresponding XML.\n",
      "Cropped and saved 24baea2c-0eff-4756-ad5b-cf448737cad0_a_2.jpg and corresponding XML.\n",
      "Cropped and saved 24baea2c-0eff-4756-ad5b-cf448737cad0_a_3.jpg and corresponding XML.\n"
     ]
    },
    {
     "name": "stderr",
     "output_type": "stream",
     "text": [
      " 18%|█▊        | 50/285 [00:13<00:58,  4.00it/s]"
     ]
    },
    {
     "name": "stdout",
     "output_type": "stream",
     "text": [
      "Cropped and saved 24ea60b9-f1ea-4302-89f2-7010c75aa707_a_0.jpg and corresponding XML.\n",
      "Cropped and saved 24ea60b9-f1ea-4302-89f2-7010c75aa707_a_1.jpg and corresponding XML.\n",
      "Cropped and saved 24ea60b9-f1ea-4302-89f2-7010c75aa707_a_2.jpg and corresponding XML.\n",
      "Cropped and saved 24ea60b9-f1ea-4302-89f2-7010c75aa707_a_3.jpg and corresponding XML.\n",
      "Cropped and saved 24ea60b9-f1ea-4302-89f2-7010c75aa707_a_4.jpg and corresponding XML.\n",
      "Cropped and saved 2511863c-0a44-463f-98b8-930336a6bb0c_a_0.jpg and corresponding XML.\n",
      "Cropped and saved 2511863c-0a44-463f-98b8-930336a6bb0c_a_1.jpg and corresponding XML.\n",
      "Cropped and saved 2511863c-0a44-463f-98b8-930336a6bb0c_a_2.jpg and corresponding XML.\n",
      "Cropped and saved 2511863c-0a44-463f-98b8-930336a6bb0c_a_3.jpg and corresponding XML.\n",
      "Cropped and saved 2511863c-0a44-463f-98b8-930336a6bb0c_a_4.jpg and corresponding XML.\n"
     ]
    },
    {
     "name": "stderr",
     "output_type": "stream",
     "text": [
      " 18%|█▊        | 51/285 [00:14<01:03,  3.68it/s]"
     ]
    },
    {
     "name": "stdout",
     "output_type": "stream",
     "text": [
      "Cropped and saved 2511863c-0a44-463f-98b8-930336a6bb0c_a_5.jpg and corresponding XML.\n",
      "Cropped and saved 25f98440-6e62-4e21-bc5f-9d52480c2da7_a_0.jpg and corresponding XML.\n",
      "Cropped and saved 25f98440-6e62-4e21-bc5f-9d52480c2da7_a_1.jpg and corresponding XML.\n",
      "Cropped and saved 25f98440-6e62-4e21-bc5f-9d52480c2da7_a_2.jpg and corresponding XML.\n",
      "Cropped and saved 25f98440-6e62-4e21-bc5f-9d52480c2da7_a_3.jpg and corresponding XML.\n"
     ]
    },
    {
     "name": "stderr",
     "output_type": "stream",
     "text": [
      " 18%|█▊        | 52/285 [00:14<01:05,  3.58it/s]"
     ]
    },
    {
     "name": "stdout",
     "output_type": "stream",
     "text": [
      "Cropped and saved 25f98440-6e62-4e21-bc5f-9d52480c2da7_a_4.jpg and corresponding XML.\n",
      "Cropped and saved 25f98440-6e62-4e21-bc5f-9d52480c2da7_a_5.jpg and corresponding XML.\n",
      "Cropped and saved 25f98440-6e62-4e21-bc5f-9d52480c2da7_a_6.jpg and corresponding XML.\n",
      "Cropped and saved 26278498-a5be-4dd4-9f75-bea42d0f5167_a_0.jpg and corresponding XML.\n",
      "Cropped and saved 26278498-a5be-4dd4-9f75-bea42d0f5167_a_1.jpg and corresponding XML.\n"
     ]
    },
    {
     "name": "stderr",
     "output_type": "stream",
     "text": [
      " 19%|█▊        | 53/285 [00:14<01:00,  3.81it/s]"
     ]
    },
    {
     "name": "stdout",
     "output_type": "stream",
     "text": [
      "Cropped and saved 26278498-a5be-4dd4-9f75-bea42d0f5167_a_2.jpg and corresponding XML.\n",
      "Cropped and saved 26278498-a5be-4dd4-9f75-bea42d0f5167_a_3.jpg and corresponding XML.\n",
      "Cropped and saved 26278498-a5be-4dd4-9f75-bea42d0f5167_a_4.jpg and corresponding XML.\n",
      "Cropped and saved 26278498-a5be-4dd4-9f75-bea42d0f5167_a_5.jpg and corresponding XML.\n",
      "Cropped and saved 28de98c2-4693-493d-9919-4089d70b0fc6_a_0.jpg and corresponding XML.\n",
      "Cropped and saved 28de98c2-4693-493d-9919-4089d70b0fc6_a_1.jpg and corresponding XML.\n"
     ]
    },
    {
     "name": "stderr",
     "output_type": "stream",
     "text": [
      " 19%|█▉        | 54/285 [00:14<01:06,  3.48it/s]"
     ]
    },
    {
     "name": "stdout",
     "output_type": "stream",
     "text": [
      "Cropped and saved 28de98c2-4693-493d-9919-4089d70b0fc6_a_2.jpg and corresponding XML.\n",
      "Cropped and saved 28de98c2-4693-493d-9919-4089d70b0fc6_a_3.jpg and corresponding XML.\n",
      "Cropped and saved 28de98c2-4693-493d-9919-4089d70b0fc6_a_4.jpg and corresponding XML.\n",
      "Cropped and saved 28de98c2-4693-493d-9919-4089d70b0fc6_a_5.jpg and corresponding XML.\n",
      "Cropped and saved 28de98c2-4693-493d-9919-4089d70b0fc6_a_6.jpg and corresponding XML.\n",
      "Cropped and saved 29cf740c-b0d1-45e5-8892-f5954ea49af6_a_0.jpg and corresponding XML.\n",
      "Cropped and saved 29cf740c-b0d1-45e5-8892-f5954ea49af6_a_1.jpg and corresponding XML.\n",
      "Cropped and saved 29f0aa7e-6f25-43ef-ab06-6e059cca0a28_a_0.jpg and corresponding XML.\n",
      "Cropped and saved 29f0aa7e-6f25-43ef-ab06-6e059cca0a28_a_1.jpg and corresponding XML.\n",
      "Cropped and saved 29f0aa7e-6f25-43ef-ab06-6e059cca0a28_a_2.jpg and corresponding XML.\n",
      "Cropped and saved 29f0aa7e-6f25-43ef-ab06-6e059cca0a28_a_3.jpg and corresponding XML.\n"
     ]
    },
    {
     "name": "stderr",
     "output_type": "stream",
     "text": [
      " 20%|█▉        | 56/285 [00:15<00:59,  3.86it/s]"
     ]
    },
    {
     "name": "stdout",
     "output_type": "stream",
     "text": [
      "Cropped and saved 29f0aa7e-6f25-43ef-ab06-6e059cca0a28_a_4.jpg and corresponding XML.\n",
      "Cropped and saved 29f0aa7e-6f25-43ef-ab06-6e059cca0a28_a_5.jpg and corresponding XML.\n",
      "Cropped and saved 29f0aa7e-6f25-43ef-ab06-6e059cca0a28_a_6.jpg and corresponding XML.\n",
      "Cropped and saved 29f0aa7e-6f25-43ef-ab06-6e059cca0a28_a_7.jpg and corresponding XML.\n",
      "Cropped and saved 29f0aa7e-6f25-43ef-ab06-6e059cca0a28_a_8.jpg and corresponding XML.\n",
      "Cropped and saved 29f0aa7e-6f25-43ef-ab06-6e059cca0a28_a_9.jpg and corresponding XML.\n"
     ]
    },
    {
     "name": "stderr",
     "output_type": "stream",
     "text": [
      " 20%|██        | 57/285 [00:15<00:55,  4.11it/s]"
     ]
    },
    {
     "name": "stdout",
     "output_type": "stream",
     "text": [
      "Cropped and saved 2a61ee81-b420-48c9-b485-2c6db2d9cc3d_a_0.jpg and corresponding XML.\n",
      "Cropped and saved 2a61ee81-b420-48c9-b485-2c6db2d9cc3d_a_1.jpg and corresponding XML.\n",
      "Cropped and saved 2a61ee81-b420-48c9-b485-2c6db2d9cc3d_a_2.jpg and corresponding XML.\n",
      "Cropped and saved 2a61ee81-b420-48c9-b485-2c6db2d9cc3d_a_3.jpg and corresponding XML.\n",
      "Cropped and saved 2a9bcd3b-796b-4033-9e64-d08f79e41dff_a_0.jpg and corresponding XML.\n",
      "Cropped and saved 2a9bcd3b-796b-4033-9e64-d08f79e41dff_a_1.jpg and corresponding XML.\n"
     ]
    },
    {
     "name": "stderr",
     "output_type": "stream",
     "text": [
      " 21%|██        | 59/285 [00:15<00:42,  5.34it/s]"
     ]
    },
    {
     "name": "stdout",
     "output_type": "stream",
     "text": [
      "Cropped and saved 2c8aed72-4b74-461e-ae9a-0d006756a42b_a_0.jpg and corresponding XML.\n",
      "Cropped and saved 2c8aed72-4b74-461e-ae9a-0d006756a42b_a_1.jpg and corresponding XML.\n",
      "Cropped and saved 2c8aed72-4b74-461e-ae9a-0d006756a42b_a_2.jpg and corresponding XML.\n",
      "Cropped and saved 2cbc4618-fe52-4573-b215-7569a9aa35ab_a_0.jpg and corresponding XML.\n",
      "Cropped and saved 2cbc4618-fe52-4573-b215-7569a9aa35ab_a_1.jpg and corresponding XML.\n"
     ]
    },
    {
     "name": "stderr",
     "output_type": "stream",
     "text": [
      " 21%|██        | 60/285 [00:16<00:43,  5.22it/s]"
     ]
    },
    {
     "name": "stdout",
     "output_type": "stream",
     "text": [
      "Cropped and saved 2cbc4618-fe52-4573-b215-7569a9aa35ab_a_2.jpg and corresponding XML.\n",
      "Cropped and saved 2cbc4618-fe52-4573-b215-7569a9aa35ab_a_3.jpg and corresponding XML.\n",
      "Cropped and saved 2cbc4618-fe52-4573-b215-7569a9aa35ab_a_4.jpg and corresponding XML.\n",
      "Cropped and saved 2cc4ec82-12c3-4ad9-8349-a15ad3020c53_a_0.jpg and corresponding XML.\n",
      "Cropped and saved 2cc4ec82-12c3-4ad9-8349-a15ad3020c53_a_1.jpg and corresponding XML.\n",
      "Cropped and saved 2cc4ec82-12c3-4ad9-8349-a15ad3020c53_a_2.jpg and corresponding XML.\n"
     ]
    },
    {
     "name": "stderr",
     "output_type": "stream",
     "text": [
      " 21%|██▏       | 61/285 [00:16<00:40,  5.51it/s]"
     ]
    },
    {
     "name": "stdout",
     "output_type": "stream",
     "text": [
      "Cropped and saved 2cc4ec82-12c3-4ad9-8349-a15ad3020c53_a_3.jpg and corresponding XML.\n",
      "Cropped and saved 2dd1b329-d02f-43fc-9796-4f696fd6a330_a_0.jpg and corresponding XML.\n",
      "Cropped and saved 2dd1b329-d02f-43fc-9796-4f696fd6a330_a_1.jpg and corresponding XML.\n",
      "Cropped and saved 2dd1b329-d02f-43fc-9796-4f696fd6a330_a_2.jpg and corresponding XML.\n",
      "Cropped and saved 2dd1b329-d02f-43fc-9796-4f696fd6a330_a_3.jpg and corresponding XML.\n"
     ]
    },
    {
     "name": "stderr",
     "output_type": "stream",
     "text": [
      " 22%|██▏       | 62/285 [00:16<00:44,  4.98it/s]"
     ]
    },
    {
     "name": "stdout",
     "output_type": "stream",
     "text": [
      "Cropped and saved 2dd1b329-d02f-43fc-9796-4f696fd6a330_a_4.jpg and corresponding XML.\n",
      "Cropped and saved 2dd1b329-d02f-43fc-9796-4f696fd6a330_a_5.jpg and corresponding XML.\n",
      "Cropped and saved 2edd9ad1-d181-42e6-bff9-e29419c970dc_a_0.jpg and corresponding XML.\n",
      "Cropped and saved 2edd9ad1-d181-42e6-bff9-e29419c970dc_a_1.jpg and corresponding XML.\n",
      "Cropped and saved 2edd9ad1-d181-42e6-bff9-e29419c970dc_a_2.jpg and corresponding XML.\n"
     ]
    },
    {
     "name": "stderr",
     "output_type": "stream",
     "text": [
      " 22%|██▏       | 63/285 [00:16<00:53,  4.14it/s]"
     ]
    },
    {
     "name": "stdout",
     "output_type": "stream",
     "text": [
      "Cropped and saved 2edd9ad1-d181-42e6-bff9-e29419c970dc_a_3.jpg and corresponding XML.\n",
      "Cropped and saved 2edd9ad1-d181-42e6-bff9-e29419c970dc_a_4.jpg and corresponding XML.\n",
      "Cropped and saved 2edd9ad1-d181-42e6-bff9-e29419c970dc_a_5.jpg and corresponding XML.\n",
      "Cropped and saved 2edd9ad1-d181-42e6-bff9-e29419c970dc_a_6.jpg and corresponding XML.\n",
      "Cropped and saved 2edd9ad1-d181-42e6-bff9-e29419c970dc_a_7.jpg and corresponding XML.\n",
      "Cropped and saved 2f20a960-ede8-44a3-82f6-c5da80068898_a_0.jpg and corresponding XML.\n",
      "Cropped and saved 2f20a960-ede8-44a3-82f6-c5da80068898_a_1.jpg and corresponding XML.\n",
      "Cropped and saved 2f20a960-ede8-44a3-82f6-c5da80068898_a_2.jpg and corresponding XML.\n",
      "Cropped and saved 2f20a960-ede8-44a3-82f6-c5da80068898_a_3.jpg and corresponding XML.\n",
      "Cropped and saved 2f20a960-ede8-44a3-82f6-c5da80068898_a_4.jpg and corresponding XML.\n",
      "Cropped and saved 2f20a960-ede8-44a3-82f6-c5da80068898_a_5.jpg and corresponding XML.\n",
      "Cropped and saved 2f20a960-ede8-44a3-82f6-c5da80068898_a_6.jpg and corresponding XML.\n",
      "Cropped and saved 2f20a960-ede8-44a3-82f6-c5da80068898_a_7.jpg and corresponding XML.\n"
     ]
    },
    {
     "name": "stderr",
     "output_type": "stream",
     "text": [
      " 22%|██▏       | 64/285 [00:17<00:57,  3.88it/s]"
     ]
    },
    {
     "name": "stdout",
     "output_type": "stream",
     "text": [
      "Cropped and saved 2f20a960-ede8-44a3-82f6-c5da80068898_a_8.jpg and corresponding XML.\n",
      "Cropped and saved 2fec0001-e233-4470-8471-3650610c95bb_a_0.jpg and corresponding XML.\n",
      "Cropped and saved 2fec0001-e233-4470-8471-3650610c95bb_a_1.jpg and corresponding XML.\n",
      "Cropped and saved 2fec0001-e233-4470-8471-3650610c95bb_a_2.jpg and corresponding XML.\n",
      "Cropped and saved 2fec0001-e233-4470-8471-3650610c95bb_a_3.jpg and corresponding XML.\n"
     ]
    },
    {
     "name": "stderr",
     "output_type": "stream",
     "text": [
      " 23%|██▎       | 65/285 [00:17<01:01,  3.61it/s]"
     ]
    },
    {
     "name": "stdout",
     "output_type": "stream",
     "text": [
      "Cropped and saved 2fec0001-e233-4470-8471-3650610c95bb_a_4.jpg and corresponding XML.\n",
      "Cropped and saved 2fec0001-e233-4470-8471-3650610c95bb_a_5.jpg and corresponding XML.\n",
      "Cropped and saved 2fec0001-e233-4470-8471-3650610c95bb_a_6.jpg and corresponding XML.\n",
      "Cropped and saved 31e03b7d-fb48-44a0-af87-a10280adf29a_a_0.jpg and corresponding XML.\n",
      "Cropped and saved 31e03b7d-fb48-44a0-af87-a10280adf29a_a_1.jpg and corresponding XML.\n",
      "Cropped and saved 31e03b7d-fb48-44a0-af87-a10280adf29a_a_2.jpg and corresponding XML.\n"
     ]
    },
    {
     "name": "stderr",
     "output_type": "stream",
     "text": [
      " 23%|██▎       | 66/285 [00:17<00:53,  4.10it/s]"
     ]
    },
    {
     "name": "stdout",
     "output_type": "stream",
     "text": [
      "Cropped and saved 31e03b7d-fb48-44a0-af87-a10280adf29a_a_3.jpg and corresponding XML.\n",
      "Cropped and saved 31e03b7d-fb48-44a0-af87-a10280adf29a_a_4.jpg and corresponding XML.\n",
      "Cropped and saved 335c2159-3239-4360-8354-924072049ebf_a_0.jpg and corresponding XML.\n",
      "Cropped and saved 335c2159-3239-4360-8354-924072049ebf_a_1.jpg and corresponding XML.\n",
      "Cropped and saved 335c2159-3239-4360-8354-924072049ebf_a_2.jpg and corresponding XML.\n",
      "Cropped and saved 335c2159-3239-4360-8354-924072049ebf_a_3.jpg and corresponding XML.\n",
      "Cropped and saved 335c2159-3239-4360-8354-924072049ebf_a_4.jpg and corresponding XML.\n",
      "Cropped and saved 335c2159-3239-4360-8354-924072049ebf_a_5.jpg and corresponding XML.\n"
     ]
    },
    {
     "name": "stderr",
     "output_type": "stream",
     "text": [
      " 24%|██▎       | 67/285 [00:18<01:10,  3.08it/s]"
     ]
    },
    {
     "name": "stdout",
     "output_type": "stream",
     "text": [
      "Cropped and saved 335c2159-3239-4360-8354-924072049ebf_a_6.jpg and corresponding XML.\n",
      "Cropped and saved 335c2159-3239-4360-8354-924072049ebf_a_7.jpg and corresponding XML.\n",
      "Cropped and saved 335c2159-3239-4360-8354-924072049ebf_a_8.jpg and corresponding XML.\n",
      "Cropped and saved 335c2159-3239-4360-8354-924072049ebf_a_9.jpg and corresponding XML.\n",
      "Cropped and saved 36539b2d-fdd8-4342-a2e3-4592070eff06_a_0.jpg and corresponding XML.\n"
     ]
    },
    {
     "name": "stderr",
     "output_type": "stream",
     "text": [
      " 24%|██▍       | 68/285 [00:18<01:05,  3.32it/s]"
     ]
    },
    {
     "name": "stdout",
     "output_type": "stream",
     "text": [
      "Cropped and saved 36539b2d-fdd8-4342-a2e3-4592070eff06_a_1.jpg and corresponding XML.\n",
      "Cropped and saved 36539b2d-fdd8-4342-a2e3-4592070eff06_a_2.jpg and corresponding XML.\n",
      "Cropped and saved 36539b2d-fdd8-4342-a2e3-4592070eff06_a_3.jpg and corresponding XML.\n",
      "Cropped and saved 36539b2d-fdd8-4342-a2e3-4592070eff06_a_4.jpg and corresponding XML.\n",
      "Cropped and saved 36539b2d-fdd8-4342-a2e3-4592070eff06_a_5.jpg and corresponding XML.\n",
      "Cropped and saved 368fd995-63bb-4a13-a4eb-cb30ac034b31_a_0.jpg and corresponding XML.\n",
      "Cropped and saved 368fd995-63bb-4a13-a4eb-cb30ac034b31_a_1.jpg and corresponding XML.\n",
      "Cropped and saved 368fd995-63bb-4a13-a4eb-cb30ac034b31_a_2.jpg and corresponding XML.\n",
      "Cropped and saved 368fd995-63bb-4a13-a4eb-cb30ac034b31_a_3.jpg and corresponding XML.\n"
     ]
    },
    {
     "name": "stderr",
     "output_type": "stream",
     "text": [
      " 25%|██▍       | 70/285 [00:18<00:56,  3.78it/s]"
     ]
    },
    {
     "name": "stdout",
     "output_type": "stream",
     "text": [
      "Cropped and saved 368fd995-63bb-4a13-a4eb-cb30ac034b31_a_4.jpg and corresponding XML.\n",
      "Cropped and saved 368fd995-63bb-4a13-a4eb-cb30ac034b31_a_5.jpg and corresponding XML.\n",
      "Cropped and saved 3849bbc6-d82d-4062-972d-90f7d4d984e2_a_0.jpg and corresponding XML.\n",
      "Cropped and saved 3849bbc6-d82d-4062-972d-90f7d4d984e2_a_1.jpg and corresponding XML.\n",
      "Cropped and saved 3849bbc6-d82d-4062-972d-90f7d4d984e2_a_2.jpg and corresponding XML.\n"
     ]
    },
    {
     "name": "stderr",
     "output_type": "stream",
     "text": [
      " 25%|██▍       | 71/285 [00:18<00:47,  4.49it/s]"
     ]
    },
    {
     "name": "stdout",
     "output_type": "stream",
     "text": [
      "Cropped and saved 3909cbe6-cbdb-4d19-94f2-cda3a1252eb0_a_0.jpg and corresponding XML.\n",
      "Cropped and saved 3909cbe6-cbdb-4d19-94f2-cda3a1252eb0_a_1.jpg and corresponding XML.\n",
      "Cropped and saved 3909cbe6-cbdb-4d19-94f2-cda3a1252eb0_a_2.jpg and corresponding XML.\n",
      "Cropped and saved 39a84964-b49c-40b8-8966-45a1682ce5dc_a_0.jpg and corresponding XML.\n",
      "Cropped and saved 39a84964-b49c-40b8-8966-45a1682ce5dc_a_1.jpg and corresponding XML.\n"
     ]
    },
    {
     "name": "stderr",
     "output_type": "stream",
     "text": [
      " 25%|██▌       | 72/285 [00:19<00:56,  3.79it/s]"
     ]
    },
    {
     "name": "stdout",
     "output_type": "stream",
     "text": [
      "Cropped and saved 39a84964-b49c-40b8-8966-45a1682ce5dc_a_2.jpg and corresponding XML.\n",
      "Cropped and saved 39a84964-b49c-40b8-8966-45a1682ce5dc_a_3.jpg and corresponding XML.\n",
      "Cropped and saved 39a84964-b49c-40b8-8966-45a1682ce5dc_a_4.jpg and corresponding XML.\n",
      "Cropped and saved 39a84964-b49c-40b8-8966-45a1682ce5dc_a_5.jpg and corresponding XML.\n",
      "Cropped and saved 39a84964-b49c-40b8-8966-45a1682ce5dc_a_6.jpg and corresponding XML.\n",
      "Cropped and saved 39a84964-b49c-40b8-8966-45a1682ce5dc_a_7.jpg and corresponding XML.\n"
     ]
    },
    {
     "name": "stderr",
     "output_type": "stream",
     "text": [
      " 26%|██▌       | 73/285 [00:19<00:56,  3.78it/s]"
     ]
    },
    {
     "name": "stdout",
     "output_type": "stream",
     "text": [
      "Cropped and saved 3b824337-5138-425d-8934-bb958ecd8e30_a_0.jpg and corresponding XML.\n",
      "Cropped and saved 3b824337-5138-425d-8934-bb958ecd8e30_a_1.jpg and corresponding XML.\n",
      "Cropped and saved 3b824337-5138-425d-8934-bb958ecd8e30_a_2.jpg and corresponding XML.\n",
      "Cropped and saved 3b824337-5138-425d-8934-bb958ecd8e30_a_3.jpg and corresponding XML.\n",
      "Cropped and saved 3b824337-5138-425d-8934-bb958ecd8e30_a_4.jpg and corresponding XML.\n"
     ]
    },
    {
     "name": "stderr",
     "output_type": "stream",
     "text": [
      " 26%|██▌       | 74/285 [00:19<00:53,  3.97it/s]"
     ]
    },
    {
     "name": "stdout",
     "output_type": "stream",
     "text": [
      "Cropped and saved 3bca1a95-4d31-4afc-bbe1-57dadb1616c6_a_0.jpg and corresponding XML.\n",
      "Cropped and saved 3bca1a95-4d31-4afc-bbe1-57dadb1616c6_a_1.jpg and corresponding XML.\n",
      "Cropped and saved 3bca1a95-4d31-4afc-bbe1-57dadb1616c6_a_2.jpg and corresponding XML.\n",
      "Cropped and saved 3bca1a95-4d31-4afc-bbe1-57dadb1616c6_a_3.jpg and corresponding XML.\n",
      "Cropped and saved 3bca1a95-4d31-4afc-bbe1-57dadb1616c6_a_4.jpg and corresponding XML.\n"
     ]
    },
    {
     "name": "stderr",
     "output_type": "stream",
     "text": [
      " 26%|██▋       | 75/285 [00:19<00:48,  4.36it/s]"
     ]
    },
    {
     "name": "stdout",
     "output_type": "stream",
     "text": [
      "Cropped and saved 3c1abe96-a950-447a-aeff-a59721ad3d29_a_0.jpg and corresponding XML.\n",
      "Cropped and saved 3c1abe96-a950-447a-aeff-a59721ad3d29_a_1.jpg and corresponding XML.\n",
      "Cropped and saved 3c1abe96-a950-447a-aeff-a59721ad3d29_a_2.jpg and corresponding XML.\n",
      "Cropped and saved 3c1abe96-a950-447a-aeff-a59721ad3d29_a_3.jpg and corresponding XML.\n",
      "Cropped and saved 3c94dbee-d09e-40ff-b663-aa86928e1b8c_a_0.jpg and corresponding XML.\n",
      "Cropped and saved 3c94dbee-d09e-40ff-b663-aa86928e1b8c_a_1.jpg and corresponding XML.\n",
      "Cropped and saved 3c94dbee-d09e-40ff-b663-aa86928e1b8c_a_2.jpg and corresponding XML.\n",
      "Cropped and saved 3c94dbee-d09e-40ff-b663-aa86928e1b8c_a_3.jpg and corresponding XML.\n",
      "Cropped and saved 3c94dbee-d09e-40ff-b663-aa86928e1b8c_a_4.jpg and corresponding XML.\n"
     ]
    },
    {
     "name": "stderr",
     "output_type": "stream",
     "text": [
      " 27%|██▋       | 76/285 [00:20<00:54,  3.83it/s]"
     ]
    },
    {
     "name": "stdout",
     "output_type": "stream",
     "text": [
      "Cropped and saved 3c94dbee-d09e-40ff-b663-aa86928e1b8c_a_5.jpg and corresponding XML.\n",
      "Cropped and saved 3c94dbee-d09e-40ff-b663-aa86928e1b8c_a_6.jpg and corresponding XML.\n",
      "Cropped and saved 3de8abc4-7524-4a46-97dc-6ffa212e8dc3_a_0.jpg and corresponding XML.\n",
      "Cropped and saved 3de8abc4-7524-4a46-97dc-6ffa212e8dc3_a_1.jpg and corresponding XML.\n",
      "Cropped and saved 3e2a171c-f294-48af-8a82-9df0ff9bd15d_a_0.jpg and corresponding XML.\n"
     ]
    },
    {
     "name": "stderr",
     "output_type": "stream",
     "text": [
      " 27%|██▋       | 78/285 [00:20<00:44,  4.68it/s]"
     ]
    },
    {
     "name": "stdout",
     "output_type": "stream",
     "text": [
      "Cropped and saved 3e2a171c-f294-48af-8a82-9df0ff9bd15d_a_1.jpg and corresponding XML.\n",
      "Cropped and saved 3e2a171c-f294-48af-8a82-9df0ff9bd15d_a_2.jpg and corresponding XML.\n",
      "Cropped and saved 3e2a171c-f294-48af-8a82-9df0ff9bd15d_a_3.jpg and corresponding XML.\n",
      "Cropped and saved 3f376d4e-9cba-4b01-863c-3698677b845b_a_0.jpg and corresponding XML.\n",
      "Cropped and saved 3f376d4e-9cba-4b01-863c-3698677b845b_a_1.jpg and corresponding XML.\n"
     ]
    },
    {
     "name": "stderr",
     "output_type": "stream",
     "text": [
      " 28%|██▊       | 79/285 [00:20<00:45,  4.49it/s]"
     ]
    },
    {
     "name": "stdout",
     "output_type": "stream",
     "text": [
      "Cropped and saved 3f376d4e-9cba-4b01-863c-3698677b845b_a_2.jpg and corresponding XML.\n",
      "Cropped and saved 3f376d4e-9cba-4b01-863c-3698677b845b_a_3.jpg and corresponding XML.\n",
      "Cropped and saved 3f376d4e-9cba-4b01-863c-3698677b845b_a_4.jpg and corresponding XML.\n",
      "Cropped and saved 3f376d4e-9cba-4b01-863c-3698677b845b_a_5.jpg and corresponding XML.\n"
     ]
    },
    {
     "name": "stderr",
     "output_type": "stream",
     "text": [
      " 28%|██▊       | 80/285 [00:21<00:42,  4.87it/s]"
     ]
    },
    {
     "name": "stdout",
     "output_type": "stream",
     "text": [
      "Cropped and saved 4076983f-849a-4d3f-817d-9c752c19597f_a_0.jpg and corresponding XML.\n",
      "Cropped and saved 4076983f-849a-4d3f-817d-9c752c19597f_a_1.jpg and corresponding XML.\n",
      "Cropped and saved 4076983f-849a-4d3f-817d-9c752c19597f_a_2.jpg and corresponding XML.\n",
      "Cropped and saved 42891210-a05d-4ca8-b32c-35e29bfe686a_a_0.jpg and corresponding XML.\n",
      "Cropped and saved 42891210-a05d-4ca8-b32c-35e29bfe686a_a_1.jpg and corresponding XML.\n",
      "Cropped and saved 42891210-a05d-4ca8-b32c-35e29bfe686a_a_2.jpg and corresponding XML.\n"
     ]
    },
    {
     "name": "stderr",
     "output_type": "stream",
     "text": [
      " 28%|██▊       | 81/285 [00:21<00:45,  4.49it/s]"
     ]
    },
    {
     "name": "stdout",
     "output_type": "stream",
     "text": [
      "Cropped and saved 42891210-a05d-4ca8-b32c-35e29bfe686a_a_3.jpg and corresponding XML.\n",
      "Cropped and saved 42891210-a05d-4ca8-b32c-35e29bfe686a_a_4.jpg and corresponding XML.\n",
      "Cropped and saved 42891210-a05d-4ca8-b32c-35e29bfe686a_a_5.jpg and corresponding XML.\n",
      "Cropped and saved 42891210-a05d-4ca8-b32c-35e29bfe686a_a_6.jpg and corresponding XML.\n",
      "Cropped and saved 4408ff98-aefb-4ef8-a087-b6db572ed33c_a_0.jpg and corresponding XML.\n",
      "Cropped and saved 4408ff98-aefb-4ef8-a087-b6db572ed33c_a_1.jpg and corresponding XML.\n",
      "Cropped and saved 4408ff98-aefb-4ef8-a087-b6db572ed33c_a_2.jpg and corresponding XML.\n",
      "Cropped and saved 4408ff98-aefb-4ef8-a087-b6db572ed33c_a_3.jpg and corresponding XML.\n",
      "Cropped and saved 4408ff98-aefb-4ef8-a087-b6db572ed33c_a_4.jpg and corresponding XML.\n",
      "Cropped and saved 4408ff98-aefb-4ef8-a087-b6db572ed33c_a_5.jpg and corresponding XML.\n"
     ]
    },
    {
     "name": "stderr",
     "output_type": "stream",
     "text": [
      " 29%|██▉       | 82/285 [00:21<00:54,  3.73it/s]"
     ]
    },
    {
     "name": "stdout",
     "output_type": "stream",
     "text": [
      "Cropped and saved 4408ff98-aefb-4ef8-a087-b6db572ed33c_a_6.jpg and corresponding XML.\n",
      "Cropped and saved 4408ff98-aefb-4ef8-a087-b6db572ed33c_a_7.jpg and corresponding XML.\n",
      "Cropped and saved 4408ff98-aefb-4ef8-a087-b6db572ed33c_a_8.jpg and corresponding XML.\n",
      "Cropped and saved 440aec47-a222-423e-8e47-c4ff4aba77ee_a_0.jpg and corresponding XML.\n",
      "Cropped and saved 440aec47-a222-423e-8e47-c4ff4aba77ee_a_1.jpg and corresponding XML.\n"
     ]
    },
    {
     "name": "stderr",
     "output_type": "stream",
     "text": [
      " 29%|██▉       | 83/285 [00:21<00:50,  4.03it/s]"
     ]
    },
    {
     "name": "stdout",
     "output_type": "stream",
     "text": [
      "Cropped and saved 440aec47-a222-423e-8e47-c4ff4aba77ee_a_2.jpg and corresponding XML.\n",
      "Cropped and saved 440aec47-a222-423e-8e47-c4ff4aba77ee_a_3.jpg and corresponding XML.\n",
      "Cropped and saved 440aec47-a222-423e-8e47-c4ff4aba77ee_a_4.jpg and corresponding XML.\n",
      "Cropped and saved 44786e3c-8346-45b1-910b-a5032f081d03_a_0.jpg and corresponding XML.\n"
     ]
    },
    {
     "name": "stderr",
     "output_type": "stream",
     "text": [
      " 29%|██▉       | 84/285 [00:22<00:56,  3.59it/s]"
     ]
    },
    {
     "name": "stdout",
     "output_type": "stream",
     "text": [
      "Cropped and saved 44786e3c-8346-45b1-910b-a5032f081d03_a_1.jpg and corresponding XML.\n",
      "Cropped and saved 44786e3c-8346-45b1-910b-a5032f081d03_a_2.jpg and corresponding XML.\n",
      "Cropped and saved 44786e3c-8346-45b1-910b-a5032f081d03_a_3.jpg and corresponding XML.\n",
      "Cropped and saved 44786e3c-8346-45b1-910b-a5032f081d03_a_4.jpg and corresponding XML.\n",
      "Cropped and saved 44786e3c-8346-45b1-910b-a5032f081d03_a_5.jpg and corresponding XML.\n"
     ]
    },
    {
     "name": "stderr",
     "output_type": "stream",
     "text": [
      " 30%|██▉       | 85/285 [00:22<00:50,  3.96it/s]"
     ]
    },
    {
     "name": "stdout",
     "output_type": "stream",
     "text": [
      "Cropped and saved 44990981-b385-4896-807b-1ef52fc18ae0_a_0.jpg and corresponding XML.\n",
      "Cropped and saved 44990981-b385-4896-807b-1ef52fc18ae0_a_1.jpg and corresponding XML.\n",
      "Cropped and saved 44990981-b385-4896-807b-1ef52fc18ae0_a_2.jpg and corresponding XML.\n",
      "Cropped and saved 44990981-b385-4896-807b-1ef52fc18ae0_a_3.jpg and corresponding XML.\n",
      "Cropped and saved 45ef2820-36a2-403d-bd67-1c7812ef788f_a_0.jpg and corresponding XML.\n",
      "Cropped and saved 45ef2820-36a2-403d-bd67-1c7812ef788f_a_1.jpg and corresponding XML.\n",
      "Cropped and saved 45ef2820-36a2-403d-bd67-1c7812ef788f_a_2.jpg and corresponding XML.\n",
      "Cropped and saved 45ef2820-36a2-403d-bd67-1c7812ef788f_a_3.jpg and corresponding XML.\n",
      "Cropped and saved 45ef2820-36a2-403d-bd67-1c7812ef788f_a_4.jpg and corresponding XML.\n",
      "Cropped and saved 45ef2820-36a2-403d-bd67-1c7812ef788f_a_5.jpg and corresponding XML.\n"
     ]
    },
    {
     "name": "stderr",
     "output_type": "stream",
     "text": [
      " 30%|███       | 86/285 [00:22<00:57,  3.48it/s]"
     ]
    },
    {
     "name": "stdout",
     "output_type": "stream",
     "text": [
      "Cropped and saved 45ef2820-36a2-403d-bd67-1c7812ef788f_a_6.jpg and corresponding XML.\n",
      "Cropped and saved 460f19b0-d197-4506-bb71-9e810061bbb5_a_0.jpg and corresponding XML.\n",
      "Cropped and saved 460f19b0-d197-4506-bb71-9e810061bbb5_a_1.jpg and corresponding XML.\n",
      "Cropped and saved 460f19b0-d197-4506-bb71-9e810061bbb5_a_2.jpg and corresponding XML.\n"
     ]
    },
    {
     "name": "stderr",
     "output_type": "stream",
     "text": [
      " 31%|███       | 87/285 [00:23<00:52,  3.74it/s]"
     ]
    },
    {
     "name": "stdout",
     "output_type": "stream",
     "text": [
      "Cropped and saved 460f19b0-d197-4506-bb71-9e810061bbb5_a_3.jpg and corresponding XML.\n",
      "Cropped and saved 4696315f-6863-4493-b51c-6cdc65e7908a_a_0.jpg and corresponding XML.\n",
      "Cropped and saved 4696315f-6863-4493-b51c-6cdc65e7908a_a_1.jpg and corresponding XML.\n",
      "Cropped and saved 4696315f-6863-4493-b51c-6cdc65e7908a_a_2.jpg and corresponding XML.\n",
      "Cropped and saved 4696315f-6863-4493-b51c-6cdc65e7908a_a_3.jpg and corresponding XML.\n"
     ]
    },
    {
     "name": "stderr",
     "output_type": "stream",
     "text": [
      " 31%|███       | 88/285 [00:23<00:49,  3.98it/s]"
     ]
    },
    {
     "name": "stdout",
     "output_type": "stream",
     "text": [
      "Cropped and saved 4696315f-6863-4493-b51c-6cdc65e7908a_a_4.jpg and corresponding XML.\n",
      "Cropped and saved 48391188-f031-4c37-b1bf-38e0b7325ef8_a_0.jpg and corresponding XML.\n",
      "Cropped and saved 48391188-f031-4c37-b1bf-38e0b7325ef8_a_1.jpg and corresponding XML.\n",
      "Cropped and saved 48391188-f031-4c37-b1bf-38e0b7325ef8_a_2.jpg and corresponding XML.\n",
      "Cropped and saved 48391188-f031-4c37-b1bf-38e0b7325ef8_a_3.jpg and corresponding XML.\n"
     ]
    },
    {
     "name": "stderr",
     "output_type": "stream",
     "text": [
      " 31%|███       | 89/285 [00:23<00:46,  4.19it/s]"
     ]
    },
    {
     "name": "stdout",
     "output_type": "stream",
     "text": [
      "Cropped and saved 48391188-f031-4c37-b1bf-38e0b7325ef8_a_4.jpg and corresponding XML.\n",
      "Cropped and saved 49018d12-a135-4ba5-a058-750d6c323229_a_0.jpg and corresponding XML.\n",
      "Cropped and saved 49018d12-a135-4ba5-a058-750d6c323229_a_1.jpg and corresponding XML.\n",
      "Cropped and saved 49018d12-a135-4ba5-a058-750d6c323229_a_2.jpg and corresponding XML.\n",
      "Cropped and saved 49018d12-a135-4ba5-a058-750d6c323229_a_3.jpg and corresponding XML.\n"
     ]
    },
    {
     "name": "stderr",
     "output_type": "stream",
     "text": [
      " 32%|███▏      | 91/285 [00:23<00:43,  4.43it/s]"
     ]
    },
    {
     "name": "stdout",
     "output_type": "stream",
     "text": [
      "Cropped and saved 49018d12-a135-4ba5-a058-750d6c323229_a_4.jpg and corresponding XML.\n",
      "Cropped and saved 4a0590de-38ed-42c3-b13e-ce0d575b36dc_a_0.jpg and corresponding XML.\n",
      "Cropped and saved 4a0590de-38ed-42c3-b13e-ce0d575b36dc_a_1.jpg and corresponding XML.\n",
      "Cropped and saved 4a0590de-38ed-42c3-b13e-ce0d575b36dc_a_2.jpg and corresponding XML.\n",
      "Cropped and saved 4a0590de-38ed-42c3-b13e-ce0d575b36dc_a_3.jpg and corresponding XML.\n"
     ]
    },
    {
     "name": "stderr",
     "output_type": "stream",
     "text": [
      " 32%|███▏      | 92/285 [00:24<00:42,  4.51it/s]"
     ]
    },
    {
     "name": "stdout",
     "output_type": "stream",
     "text": [
      "Cropped and saved 4a24e6ee-1b44-44aa-bdea-61a81e93601f_a_0.jpg and corresponding XML.\n",
      "Cropped and saved 4a24e6ee-1b44-44aa-bdea-61a81e93601f_a_1.jpg and corresponding XML.\n",
      "Cropped and saved 4a24e6ee-1b44-44aa-bdea-61a81e93601f_a_2.jpg and corresponding XML.\n",
      "Cropped and saved 4a24e6ee-1b44-44aa-bdea-61a81e93601f_a_3.jpg and corresponding XML.\n",
      "Cropped and saved 4b39d4a9-901f-4cf2-9886-989f9859ce98_a_0.jpg and corresponding XML.\n",
      "Cropped and saved 4b39d4a9-901f-4cf2-9886-989f9859ce98_a_1.jpg and corresponding XML.\n",
      "Cropped and saved 4b39d4a9-901f-4cf2-9886-989f9859ce98_a_2.jpg and corresponding XML.\n",
      "Cropped and saved 4b39d4a9-901f-4cf2-9886-989f9859ce98_a_3.jpg and corresponding XML.\n",
      "Cropped and saved 4b39d4a9-901f-4cf2-9886-989f9859ce98_a_4.jpg and corresponding XML.\n",
      "Cropped and saved 4b39d4a9-901f-4cf2-9886-989f9859ce98_a_5.jpg and corresponding XML.\n"
     ]
    },
    {
     "name": "stderr",
     "output_type": "stream",
     "text": [
      " 33%|███▎      | 93/285 [00:24<00:51,  3.75it/s]"
     ]
    },
    {
     "name": "stdout",
     "output_type": "stream",
     "text": [
      "Cropped and saved 4b39d4a9-901f-4cf2-9886-989f9859ce98_a_6.jpg and corresponding XML.\n",
      "Cropped and saved 4b39d4a9-901f-4cf2-9886-989f9859ce98_a_7.jpg and corresponding XML.\n",
      "Cropped and saved 4b6b071c-a9ec-44dd-a730-77491a6ec1b2_a_0.jpg and corresponding XML.\n",
      "Cropped and saved 4b6b071c-a9ec-44dd-a730-77491a6ec1b2_a_1.jpg and corresponding XML.\n",
      "Cropped and saved 4b6b071c-a9ec-44dd-a730-77491a6ec1b2_a_2.jpg and corresponding XML.\n"
     ]
    },
    {
     "name": "stderr",
     "output_type": "stream",
     "text": [
      " 33%|███▎      | 94/285 [00:24<00:48,  3.94it/s]"
     ]
    },
    {
     "name": "stdout",
     "output_type": "stream",
     "text": [
      "Cropped and saved 4b6b071c-a9ec-44dd-a730-77491a6ec1b2_a_3.jpg and corresponding XML.\n",
      "Cropped and saved 4b6b071c-a9ec-44dd-a730-77491a6ec1b2_a_4.jpg and corresponding XML.\n",
      "Cropped and saved 4bafe37c-f0ad-487a-aead-c3a884c21a71_a_0.jpg and corresponding XML.\n",
      "Cropped and saved 4bafe37c-f0ad-487a-aead-c3a884c21a71_a_1.jpg and corresponding XML.\n"
     ]
    },
    {
     "name": "stderr",
     "output_type": "stream",
     "text": [
      " 33%|███▎      | 95/285 [00:24<00:43,  4.34it/s]"
     ]
    },
    {
     "name": "stdout",
     "output_type": "stream",
     "text": [
      "Cropped and saved 4bafe37c-f0ad-487a-aead-c3a884c21a71_a_2.jpg and corresponding XML.\n",
      "Cropped and saved 4c14274e-48f9-46e9-a7e0-74d786e76f80_a_0.jpg and corresponding XML.\n",
      "Cropped and saved 4c14274e-48f9-46e9-a7e0-74d786e76f80_a_1.jpg and corresponding XML.\n",
      "Cropped and saved 4c14274e-48f9-46e9-a7e0-74d786e76f80_a_2.jpg and corresponding XML.\n",
      "Cropped and saved 4c14274e-48f9-46e9-a7e0-74d786e76f80_a_3.jpg and corresponding XML.\n",
      "Cropped and saved 4c14274e-48f9-46e9-a7e0-74d786e76f80_a_4.jpg and corresponding XML.\n"
     ]
    },
    {
     "name": "stderr",
     "output_type": "stream",
     "text": [
      " 34%|███▎      | 96/285 [00:25<00:53,  3.53it/s]"
     ]
    },
    {
     "name": "stdout",
     "output_type": "stream",
     "text": [
      "Cropped and saved 4c14274e-48f9-46e9-a7e0-74d786e76f80_a_5.jpg and corresponding XML.\n",
      "Cropped and saved 4c14274e-48f9-46e9-a7e0-74d786e76f80_a_6.jpg and corresponding XML.\n",
      "Cropped and saved 4c14274e-48f9-46e9-a7e0-74d786e76f80_a_7.jpg and corresponding XML.\n",
      "Cropped and saved 4c14274e-48f9-46e9-a7e0-74d786e76f80_a_8.jpg and corresponding XML.\n",
      "Cropped and saved 4dd67abb-8837-4056-81b5-9fd320941405_a_0.jpg and corresponding XML.\n",
      "Cropped and saved 4dd67abb-8837-4056-81b5-9fd320941405_a_1.jpg and corresponding XML.\n",
      "Cropped and saved 4dd67abb-8837-4056-81b5-9fd320941405_a_2.jpg and corresponding XML.\n",
      "Cropped and saved 4dd67abb-8837-4056-81b5-9fd320941405_a_3.jpg and corresponding XML.\n",
      "Cropped and saved 4dd67abb-8837-4056-81b5-9fd320941405_a_4.jpg and corresponding XML.\n",
      "Cropped and saved 4dd67abb-8837-4056-81b5-9fd320941405_a_5.jpg and corresponding XML.\n"
     ]
    },
    {
     "name": "stderr",
     "output_type": "stream",
     "text": [
      " 34%|███▍      | 97/285 [00:25<00:56,  3.31it/s]"
     ]
    },
    {
     "name": "stdout",
     "output_type": "stream",
     "text": [
      "Cropped and saved 4dd67abb-8837-4056-81b5-9fd320941405_a_6.jpg and corresponding XML.\n",
      "Cropped and saved 4dd67abb-8837-4056-81b5-9fd320941405_a_7.jpg and corresponding XML.\n",
      "Cropped and saved 4dd67abb-8837-4056-81b5-9fd320941405_a_8.jpg and corresponding XML.\n",
      "Cropped and saved 4dd67abb-8837-4056-81b5-9fd320941405_a_9.jpg and corresponding XML.\n",
      "Cropped and saved 4dfed696-a32c-48bc-bf20-0836ac0d9c0f_a_0.jpg and corresponding XML.\n",
      "Cropped and saved 4dfed696-a32c-48bc-bf20-0836ac0d9c0f_a_1.jpg and corresponding XML.\n",
      "Cropped and saved 4dfed696-a32c-48bc-bf20-0836ac0d9c0f_a_2.jpg and corresponding XML.\n",
      "Cropped and saved 4dfed696-a32c-48bc-bf20-0836ac0d9c0f_a_3.jpg and corresponding XML.\n",
      "Cropped and saved 4dfed696-a32c-48bc-bf20-0836ac0d9c0f_a_4.jpg and corresponding XML.\n",
      "Cropped and saved 4dfed696-a32c-48bc-bf20-0836ac0d9c0f_a_5.jpg and corresponding XML.\n"
     ]
    },
    {
     "name": "stderr",
     "output_type": "stream",
     "text": [
      " 34%|███▍      | 98/285 [00:26<01:02,  3.01it/s]"
     ]
    },
    {
     "name": "stdout",
     "output_type": "stream",
     "text": [
      "Cropped and saved 4dfed696-a32c-48bc-bf20-0836ac0d9c0f_a_6.jpg and corresponding XML.\n",
      "Cropped and saved 4dfed696-a32c-48bc-bf20-0836ac0d9c0f_a_7.jpg and corresponding XML.\n",
      "Cropped and saved 4e16e89e-5767-422a-9f4a-81f23b7f53d1_a_0.jpg and corresponding XML.\n",
      "Cropped and saved 4e16e89e-5767-422a-9f4a-81f23b7f53d1_a_1.jpg and corresponding XML.\n"
     ]
    },
    {
     "name": "stderr",
     "output_type": "stream",
     "text": [
      " 35%|███▍      | 99/285 [00:26<00:56,  3.28it/s]"
     ]
    },
    {
     "name": "stdout",
     "output_type": "stream",
     "text": [
      "Cropped and saved 4e16e89e-5767-422a-9f4a-81f23b7f53d1_a_2.jpg and corresponding XML.\n",
      "Cropped and saved 4e16e89e-5767-422a-9f4a-81f23b7f53d1_a_3.jpg and corresponding XML.\n",
      "Cropped and saved 4e16e89e-5767-422a-9f4a-81f23b7f53d1_a_4.jpg and corresponding XML.\n",
      "Cropped and saved 4e16e89e-5767-422a-9f4a-81f23b7f53d1_a_5.jpg and corresponding XML.\n",
      "Cropped and saved 4e1a517d-6245-43aa-8087-51e8613ad98a_a_0.jpg and corresponding XML.\n",
      "Cropped and saved 4e1a517d-6245-43aa-8087-51e8613ad98a_a_1.jpg and corresponding XML.\n",
      "Cropped and saved 4e1a517d-6245-43aa-8087-51e8613ad98a_a_2.jpg and corresponding XML.\n"
     ]
    },
    {
     "name": "stderr",
     "output_type": "stream",
     "text": [
      " 35%|███▌      | 100/285 [00:26<00:48,  3.78it/s]"
     ]
    },
    {
     "name": "stdout",
     "output_type": "stream",
     "text": [
      "Cropped and saved 4e1a517d-6245-43aa-8087-51e8613ad98a_a_3.jpg and corresponding XML.\n",
      "Cropped and saved 4e1a517d-6245-43aa-8087-51e8613ad98a_a_4.jpg and corresponding XML.\n",
      "Cropped and saved 4e1a517d-6245-43aa-8087-51e8613ad98a_a_5.jpg and corresponding XML.\n",
      "Cropped and saved 4eb00af3-1695-4f4d-9759-85e37ceb6421_a_0.jpg and corresponding XML.\n",
      "Cropped and saved 4eb00af3-1695-4f4d-9759-85e37ceb6421_a_1.jpg and corresponding XML.\n"
     ]
    },
    {
     "name": "stderr",
     "output_type": "stream",
     "text": [
      " 35%|███▌      | 101/285 [00:26<00:52,  3.52it/s]"
     ]
    },
    {
     "name": "stdout",
     "output_type": "stream",
     "text": [
      "Cropped and saved 4eb00af3-1695-4f4d-9759-85e37ceb6421_a_2.jpg and corresponding XML.\n",
      "Cropped and saved 4eb00af3-1695-4f4d-9759-85e37ceb6421_a_3.jpg and corresponding XML.\n",
      "Cropped and saved 4eb00af3-1695-4f4d-9759-85e37ceb6421_a_4.jpg and corresponding XML.\n",
      "Cropped and saved 4eb00af3-1695-4f4d-9759-85e37ceb6421_a_5.jpg and corresponding XML.\n"
     ]
    },
    {
     "name": "stderr",
     "output_type": "stream",
     "text": [
      " 36%|███▌      | 102/285 [00:27<00:51,  3.56it/s]"
     ]
    },
    {
     "name": "stdout",
     "output_type": "stream",
     "text": [
      "Cropped and saved 4f114f71-b8d7-4379-8204-9554cb114a0c_a_0.jpg and corresponding XML.\n",
      "Cropped and saved 4f114f71-b8d7-4379-8204-9554cb114a0c_a_1.jpg and corresponding XML.\n",
      "Cropped and saved 4f114f71-b8d7-4379-8204-9554cb114a0c_a_2.jpg and corresponding XML.\n",
      "Cropped and saved 4f114f71-b8d7-4379-8204-9554cb114a0c_a_3.jpg and corresponding XML.\n",
      "Cropped and saved 4f114f71-b8d7-4379-8204-9554cb114a0c_a_4.jpg and corresponding XML.\n"
     ]
    },
    {
     "name": "stderr",
     "output_type": "stream",
     "text": [
      " 36%|███▌      | 103/285 [00:27<00:50,  3.58it/s]"
     ]
    },
    {
     "name": "stdout",
     "output_type": "stream",
     "text": [
      "Cropped and saved 4fdee133-b2c6-47cd-aa8b-a03388a911e6_a_0.jpg and corresponding XML.\n",
      "Cropped and saved 4fdee133-b2c6-47cd-aa8b-a03388a911e6_a_1.jpg and corresponding XML.\n",
      "Cropped and saved 4fdee133-b2c6-47cd-aa8b-a03388a911e6_a_2.jpg and corresponding XML.\n",
      "Cropped and saved 4fdee133-b2c6-47cd-aa8b-a03388a911e6_a_3.jpg and corresponding XML.\n",
      "Cropped and saved 4fdee133-b2c6-47cd-aa8b-a03388a911e6_a_4.jpg and corresponding XML.\n"
     ]
    },
    {
     "name": "stderr",
     "output_type": "stream",
     "text": [
      " 36%|███▋      | 104/285 [00:27<00:45,  3.97it/s]"
     ]
    },
    {
     "name": "stdout",
     "output_type": "stream",
     "text": [
      "Cropped and saved 509c0f26-6d1e-4949-ac95-cfb67f93ffa8_a_0.jpg and corresponding XML.\n",
      "Cropped and saved 509c0f26-6d1e-4949-ac95-cfb67f93ffa8_a_1.jpg and corresponding XML.\n",
      "Cropped and saved 509c0f26-6d1e-4949-ac95-cfb67f93ffa8_a_2.jpg and corresponding XML.\n",
      "Cropped and saved 50c26b8a-a8ba-49f3-b1ee-1978c9c3063a_a_0.jpg and corresponding XML.\n",
      "Cropped and saved 50c26b8a-a8ba-49f3-b1ee-1978c9c3063a_a_1.jpg and corresponding XML.\n"
     ]
    },
    {
     "name": "stderr",
     "output_type": "stream",
     "text": [
      " 37%|███▋      | 105/285 [00:27<00:49,  3.66it/s]"
     ]
    },
    {
     "name": "stdout",
     "output_type": "stream",
     "text": [
      "Cropped and saved 50c26b8a-a8ba-49f3-b1ee-1978c9c3063a_a_2.jpg and corresponding XML.\n",
      "Cropped and saved 50c26b8a-a8ba-49f3-b1ee-1978c9c3063a_a_3.jpg and corresponding XML.\n",
      "Cropped and saved 50c26b8a-a8ba-49f3-b1ee-1978c9c3063a_a_4.jpg and corresponding XML.\n",
      "Cropped and saved 50c26b8a-a8ba-49f3-b1ee-1978c9c3063a_a_5.jpg and corresponding XML.\n",
      "Cropped and saved 50c26b8a-a8ba-49f3-b1ee-1978c9c3063a_a_6.jpg and corresponding XML.\n",
      "Cropped and saved 51510821-cfd7-43c7-a4f0-b53558dfeae6_a_0.jpg and corresponding XML.\n",
      "Cropped and saved 51510821-cfd7-43c7-a4f0-b53558dfeae6_a_1.jpg and corresponding XML.\n",
      "Cropped and saved 51510821-cfd7-43c7-a4f0-b53558dfeae6_a_2.jpg and corresponding XML.\n",
      "Cropped and saved 51510821-cfd7-43c7-a4f0-b53558dfeae6_a_3.jpg and corresponding XML.\n"
     ]
    },
    {
     "name": "stderr",
     "output_type": "stream",
     "text": [
      " 37%|███▋      | 106/285 [00:28<00:50,  3.53it/s]"
     ]
    },
    {
     "name": "stdout",
     "output_type": "stream",
     "text": [
      "Cropped and saved 51510821-cfd7-43c7-a4f0-b53558dfeae6_a_4.jpg and corresponding XML.\n",
      "Cropped and saved 51510821-cfd7-43c7-a4f0-b53558dfeae6_a_5.jpg and corresponding XML.\n",
      "Cropped and saved 53f9b765-0cda-4bb5-acc6-f0161e8ad306_a_0.jpg and corresponding XML.\n",
      "Cropped and saved 53f9b765-0cda-4bb5-acc6-f0161e8ad306_a_1.jpg and corresponding XML.\n",
      "Cropped and saved 54736a5d-947e-4028-a419-ea10ba4045b6_a_0.jpg and corresponding XML.\n",
      "Cropped and saved 54736a5d-947e-4028-a419-ea10ba4045b6_a_1.jpg and corresponding XML.\n"
     ]
    },
    {
     "name": "stderr",
     "output_type": "stream",
     "text": [
      " 38%|███▊      | 108/285 [00:28<00:38,  4.57it/s]"
     ]
    },
    {
     "name": "stdout",
     "output_type": "stream",
     "text": [
      "Cropped and saved 54736a5d-947e-4028-a419-ea10ba4045b6_a_2.jpg and corresponding XML.\n",
      "Cropped and saved 54736a5d-947e-4028-a419-ea10ba4045b6_a_3.jpg and corresponding XML.\n",
      "Cropped and saved 54736a5d-947e-4028-a419-ea10ba4045b6_a_4.jpg and corresponding XML.\n",
      "Cropped and saved 54e6c507-1715-4baa-9eec-29feb1c7247b_a_0.jpg and corresponding XML.\n",
      "Cropped and saved 54e6c507-1715-4baa-9eec-29feb1c7247b_a_1.jpg and corresponding XML.\n"
     ]
    },
    {
     "name": "stderr",
     "output_type": "stream",
     "text": [
      " 38%|███▊      | 109/285 [00:28<00:41,  4.23it/s]"
     ]
    },
    {
     "name": "stdout",
     "output_type": "stream",
     "text": [
      "Cropped and saved 54e6c507-1715-4baa-9eec-29feb1c7247b_a_2.jpg and corresponding XML.\n",
      "Cropped and saved 54e6c507-1715-4baa-9eec-29feb1c7247b_a_3.jpg and corresponding XML.\n",
      "Cropped and saved 54e6c507-1715-4baa-9eec-29feb1c7247b_a_4.jpg and corresponding XML.\n",
      "Cropped and saved 54e6c507-1715-4baa-9eec-29feb1c7247b_a_5.jpg and corresponding XML.\n",
      "Cropped and saved 55b2f59b-3621-4e9f-a717-7915cb2d0e5d_a_0.jpg and corresponding XML.\n",
      "Cropped and saved 55b2f59b-3621-4e9f-a717-7915cb2d0e5d_a_1.jpg and corresponding XML.\n",
      "Cropped and saved 55b2f59b-3621-4e9f-a717-7915cb2d0e5d_a_2.jpg and corresponding XML.\n",
      "Cropped and saved 55b2f59b-3621-4e9f-a717-7915cb2d0e5d_a_3.jpg and corresponding XML.\n",
      "Cropped and saved 55b2f59b-3621-4e9f-a717-7915cb2d0e5d_a_4.jpg and corresponding XML.\n",
      "Cropped and saved 55b2f59b-3621-4e9f-a717-7915cb2d0e5d_a_5.jpg and corresponding XML.\n"
     ]
    },
    {
     "name": "stderr",
     "output_type": "stream",
     "text": [
      " 39%|███▊      | 110/285 [00:29<00:49,  3.52it/s]"
     ]
    },
    {
     "name": "stdout",
     "output_type": "stream",
     "text": [
      "Cropped and saved 55b2f59b-3621-4e9f-a717-7915cb2d0e5d_a_6.jpg and corresponding XML.\n",
      "Cropped and saved 55b2f59b-3621-4e9f-a717-7915cb2d0e5d_a_7.jpg and corresponding XML.\n",
      "Cropped and saved 58f1ebb3-a609-4233-96aa-4f60f8afd4a6_a_0.jpg and corresponding XML.\n",
      "Cropped and saved 58f1ebb3-a609-4233-96aa-4f60f8afd4a6_a_1.jpg and corresponding XML.\n",
      "Cropped and saved 58f1ebb3-a609-4233-96aa-4f60f8afd4a6_a_2.jpg and corresponding XML.\n"
     ]
    },
    {
     "name": "stderr",
     "output_type": "stream",
     "text": [
      " 39%|███▉      | 111/285 [00:29<00:44,  3.94it/s]"
     ]
    },
    {
     "name": "stdout",
     "output_type": "stream",
     "text": [
      "Cropped and saved 58f1ebb3-a609-4233-96aa-4f60f8afd4a6_a_3.jpg and corresponding XML.\n",
      "Cropped and saved 59292d14-bdf0-422a-b787-2d6940a6db29_a_0.jpg and corresponding XML.\n",
      "Cropped and saved 59292d14-bdf0-422a-b787-2d6940a6db29_a_1.jpg and corresponding XML.\n",
      "Cropped and saved 59292d14-bdf0-422a-b787-2d6940a6db29_a_2.jpg and corresponding XML.\n"
     ]
    },
    {
     "name": "stderr",
     "output_type": "stream",
     "text": [
      " 39%|███▉      | 112/285 [00:29<00:47,  3.65it/s]"
     ]
    },
    {
     "name": "stdout",
     "output_type": "stream",
     "text": [
      "Cropped and saved 59292d14-bdf0-422a-b787-2d6940a6db29_a_3.jpg and corresponding XML.\n",
      "Cropped and saved 59292d14-bdf0-422a-b787-2d6940a6db29_a_4.jpg and corresponding XML.\n",
      "Cropped and saved 59292d14-bdf0-422a-b787-2d6940a6db29_a_5.jpg and corresponding XML.\n",
      "Cropped and saved 59292d14-bdf0-422a-b787-2d6940a6db29_a_6.jpg and corresponding XML.\n",
      "Cropped and saved 592b9dc4-2444-4bfe-b84f-80f737e499ab_a_0.jpg and corresponding XML.\n",
      "Cropped and saved 592b9dc4-2444-4bfe-b84f-80f737e499ab_a_1.jpg and corresponding XML.\n",
      "Cropped and saved 596d6fd6-e8d6-4f14-8bc0-992dde3c8c10_a_0.jpg and corresponding XML.\n",
      "Cropped and saved 596d6fd6-e8d6-4f14-8bc0-992dde3c8c10_a_1.jpg and corresponding XML.\n",
      "Cropped and saved 596d6fd6-e8d6-4f14-8bc0-992dde3c8c10_a_2.jpg and corresponding XML.\n",
      "Cropped and saved 596d6fd6-e8d6-4f14-8bc0-992dde3c8c10_a_3.jpg and corresponding XML.\n"
     ]
    },
    {
     "name": "stderr",
     "output_type": "stream",
     "text": [
      " 40%|████      | 114/285 [00:30<00:40,  4.18it/s]"
     ]
    },
    {
     "name": "stdout",
     "output_type": "stream",
     "text": [
      "Cropped and saved 596d6fd6-e8d6-4f14-8bc0-992dde3c8c10_a_4.jpg and corresponding XML.\n",
      "Cropped and saved 596d6fd6-e8d6-4f14-8bc0-992dde3c8c10_a_5.jpg and corresponding XML.\n",
      "Cropped and saved 5ae9bca0-c0f0-4ce9-8d70-ece238a41fd0_a_0.jpg and corresponding XML.\n",
      "Cropped and saved 5ae9bca0-c0f0-4ce9-8d70-ece238a41fd0_a_1.jpg and corresponding XML.\n",
      "Cropped and saved 5ae9bca0-c0f0-4ce9-8d70-ece238a41fd0_a_2.jpg and corresponding XML.\n",
      "Cropped and saved 5ae9bca0-c0f0-4ce9-8d70-ece238a41fd0_a_3.jpg and corresponding XML.\n",
      "Cropped and saved 5ae9bca0-c0f0-4ce9-8d70-ece238a41fd0_a_4.jpg and corresponding XML.\n",
      "Cropped and saved 5ae9bca0-c0f0-4ce9-8d70-ece238a41fd0_a_5.jpg and corresponding XML.\n",
      "Cropped and saved 5ae9bca0-c0f0-4ce9-8d70-ece238a41fd0_a_6.jpg and corresponding XML.\n",
      "Cropped and saved 5ae9bca0-c0f0-4ce9-8d70-ece238a41fd0_a_7.jpg and corresponding XML.\n"
     ]
    },
    {
     "name": "stderr",
     "output_type": "stream",
     "text": [
      " 40%|████      | 115/285 [00:30<00:49,  3.41it/s]"
     ]
    },
    {
     "name": "stdout",
     "output_type": "stream",
     "text": [
      "Cropped and saved 5ae9bca0-c0f0-4ce9-8d70-ece238a41fd0_a_8.jpg and corresponding XML.\n",
      "Cropped and saved 5ae9bca0-c0f0-4ce9-8d70-ece238a41fd0_a_9.jpg and corresponding XML.\n",
      "Cropped and saved 5b3ab29e-bdae-4fd2-a3fa-08141a9f45b3_a_0.jpg and corresponding XML.\n",
      "Cropped and saved 5b3ab29e-bdae-4fd2-a3fa-08141a9f45b3_a_1.jpg and corresponding XML.\n"
     ]
    },
    {
     "name": "stderr",
     "output_type": "stream",
     "text": [
      " 41%|████      | 116/285 [00:30<00:44,  3.82it/s]"
     ]
    },
    {
     "name": "stdout",
     "output_type": "stream",
     "text": [
      "Cropped and saved 5b3ab29e-bdae-4fd2-a3fa-08141a9f45b3_a_2.jpg and corresponding XML.\n",
      "Cropped and saved 5b3ab29e-bdae-4fd2-a3fa-08141a9f45b3_a_3.jpg and corresponding XML.\n",
      "Cropped and saved 5b3ab29e-bdae-4fd2-a3fa-08141a9f45b3_a_4.jpg and corresponding XML.\n",
      "Cropped and saved 5bb67781-1446-407e-bff4-42aab685c737_a_0.jpg and corresponding XML.\n",
      "Cropped and saved 5bb67781-1446-407e-bff4-42aab685c737_a_1.jpg and corresponding XML.\n",
      "Cropped and saved 5bb67781-1446-407e-bff4-42aab685c737_a_2.jpg and corresponding XML.\n",
      "Cropped and saved 5bb67781-1446-407e-bff4-42aab685c737_a_3.jpg and corresponding XML.\n"
     ]
    },
    {
     "name": "stderr",
     "output_type": "stream",
     "text": [
      " 41%|████      | 117/285 [00:30<00:45,  3.71it/s]"
     ]
    },
    {
     "name": "stdout",
     "output_type": "stream",
     "text": [
      "Cropped and saved 5bb67781-1446-407e-bff4-42aab685c737_a_4.jpg and corresponding XML.\n",
      "Cropped and saved 5bb67781-1446-407e-bff4-42aab685c737_a_5.jpg and corresponding XML.\n",
      "Cropped and saved 5bb67781-1446-407e-bff4-42aab685c737_a_6.jpg and corresponding XML.\n",
      "Cropped and saved 5bc07b48-b203-4951-8320-d8406b836629_a_0.jpg and corresponding XML.\n",
      "Cropped and saved 5bc07b48-b203-4951-8320-d8406b836629_a_1.jpg and corresponding XML.\n",
      "Cropped and saved 5bc07b48-b203-4951-8320-d8406b836629_a_2.jpg and corresponding XML.\n",
      "Cropped and saved 5bc07b48-b203-4951-8320-d8406b836629_a_3.jpg and corresponding XML.\n"
     ]
    },
    {
     "name": "stderr",
     "output_type": "stream",
     "text": [
      " 42%|████▏     | 119/285 [00:31<00:36,  4.55it/s]"
     ]
    },
    {
     "name": "stdout",
     "output_type": "stream",
     "text": [
      "Cropped and saved 5bc07b48-b203-4951-8320-d8406b836629_a_4.jpg and corresponding XML.\n",
      "Cropped and saved 5bc07b48-b203-4951-8320-d8406b836629_a_5.jpg and corresponding XML.\n",
      "Cropped and saved 5bc07b48-b203-4951-8320-d8406b836629_a_6.jpg and corresponding XML.\n",
      "Cropped and saved 5c9a207a-be01-483f-85bf-f4a1073bf846_a_0.jpg and corresponding XML.\n",
      "Cropped and saved 5c9a207a-be01-483f-85bf-f4a1073bf846_a_1.jpg and corresponding XML.\n",
      "Cropped and saved 5c9a207a-be01-483f-85bf-f4a1073bf846_a_2.jpg and corresponding XML.\n"
     ]
    },
    {
     "name": "stderr",
     "output_type": "stream",
     "text": [
      " 42%|████▏     | 120/285 [00:31<00:37,  4.38it/s]"
     ]
    },
    {
     "name": "stdout",
     "output_type": "stream",
     "text": [
      "Cropped and saved 5d05775c-ec46-4736-9330-720d4ac88c58_a_0.jpg and corresponding XML.\n",
      "Cropped and saved 5d05775c-ec46-4736-9330-720d4ac88c58_a_1.jpg and corresponding XML.\n",
      "Cropped and saved 5d05775c-ec46-4736-9330-720d4ac88c58_a_2.jpg and corresponding XML.\n",
      "Cropped and saved 5d05775c-ec46-4736-9330-720d4ac88c58_a_3.jpg and corresponding XML.\n",
      "Cropped and saved 5d05775c-ec46-4736-9330-720d4ac88c58_a_4.jpg and corresponding XML.\n",
      "Cropped and saved 5d05775c-ec46-4736-9330-720d4ac88c58_a_5.jpg and corresponding XML.\n"
     ]
    },
    {
     "name": "stderr",
     "output_type": "stream",
     "text": [
      " 42%|████▏     | 121/285 [00:31<00:32,  5.11it/s]"
     ]
    },
    {
     "name": "stdout",
     "output_type": "stream",
     "text": [
      "Cropped and saved 5d5f43ba-4ddd-4944-ae69-ebc8d37e35a6_a_0.jpg and corresponding XML.\n",
      "Cropped and saved 5d5f43ba-4ddd-4944-ae69-ebc8d37e35a6_a_1.jpg and corresponding XML.\n",
      "Cropped and saved 5e691e4b-2b85-4e85-9834-81bf0ab2f49e_a_0.jpg and corresponding XML.\n",
      "Cropped and saved 5e691e4b-2b85-4e85-9834-81bf0ab2f49e_a_1.jpg and corresponding XML.\n"
     ]
    },
    {
     "name": "stderr",
     "output_type": "stream",
     "text": [
      " 43%|████▎     | 122/285 [00:32<01:08,  2.38it/s]"
     ]
    },
    {
     "name": "stdout",
     "output_type": "stream",
     "text": [
      "Cropped and saved 5e691e4b-2b85-4e85-9834-81bf0ab2f49e_a_2.jpg and corresponding XML.\n",
      "Cropped and saved 5e691e4b-2b85-4e85-9834-81bf0ab2f49e_a_3.jpg and corresponding XML.\n",
      "Cropped and saved 5e9ad720-bcbf-4959-818a-ae8146b04d85_a_0.jpg and corresponding XML.\n",
      "Cropped and saved 5e9ad720-bcbf-4959-818a-ae8146b04d85_a_1.jpg and corresponding XML.\n",
      "Cropped and saved 5e9ad720-bcbf-4959-818a-ae8146b04d85_a_2.jpg and corresponding XML.\n",
      "Cropped and saved 5e9ad720-bcbf-4959-818a-ae8146b04d85_a_3.jpg and corresponding XML.\n",
      "Cropped and saved 5e9ad720-bcbf-4959-818a-ae8146b04d85_a_4.jpg and corresponding XML.\n",
      "Cropped and saved 5e9ad720-bcbf-4959-818a-ae8146b04d85_a_5.jpg and corresponding XML.\n",
      "Cropped and saved 5e9ad720-bcbf-4959-818a-ae8146b04d85_a_6.jpg and corresponding XML.\n"
     ]
    },
    {
     "name": "stderr",
     "output_type": "stream",
     "text": [
      " 44%|████▎     | 124/285 [00:33<00:53,  3.03it/s]"
     ]
    },
    {
     "name": "stdout",
     "output_type": "stream",
     "text": [
      "Cropped and saved 5e9ad720-bcbf-4959-818a-ae8146b04d85_a_7.jpg and corresponding XML.\n",
      "Cropped and saved 5eea4926-52f5-4759-b926-d0c500cc8640_a_0.jpg and corresponding XML.\n",
      "Cropped and saved 5eea4926-52f5-4759-b926-d0c500cc8640_a_1.jpg and corresponding XML.\n",
      "Cropped and saved 5f04b0df-d7e5-42cf-93f3-a6d59230a76e_a_0.jpg and corresponding XML.\n",
      "Cropped and saved 5f04b0df-d7e5-42cf-93f3-a6d59230a76e_a_1.jpg and corresponding XML.\n",
      "Cropped and saved 5f04b0df-d7e5-42cf-93f3-a6d59230a76e_a_2.jpg and corresponding XML.\n",
      "Cropped and saved 5f04b0df-d7e5-42cf-93f3-a6d59230a76e_a_3.jpg and corresponding XML.\n",
      "Cropped and saved 5f04b0df-d7e5-42cf-93f3-a6d59230a76e_a_4.jpg and corresponding XML.\n"
     ]
    },
    {
     "name": "stderr",
     "output_type": "stream",
     "text": [
      " 44%|████▍     | 125/285 [00:33<00:54,  2.95it/s]"
     ]
    },
    {
     "name": "stdout",
     "output_type": "stream",
     "text": [
      "Cropped and saved 5f04b0df-d7e5-42cf-93f3-a6d59230a76e_a_5.jpg and corresponding XML.\n",
      "Cropped and saved 5f04b0df-d7e5-42cf-93f3-a6d59230a76e_a_6.jpg and corresponding XML.\n",
      "Cropped and saved 5f516eab-a8fa-4645-871e-bef07e1a0052_a_0.jpg and corresponding XML.\n",
      "Cropped and saved 5f516eab-a8fa-4645-871e-bef07e1a0052_a_1.jpg and corresponding XML.\n",
      "Cropped and saved 5f516eab-a8fa-4645-871e-bef07e1a0052_a_2.jpg and corresponding XML.\n"
     ]
    },
    {
     "name": "stderr",
     "output_type": "stream",
     "text": [
      " 44%|████▍     | 126/285 [00:33<00:49,  3.20it/s]"
     ]
    },
    {
     "name": "stdout",
     "output_type": "stream",
     "text": [
      "Cropped and saved 5f516eab-a8fa-4645-871e-bef07e1a0052_a_3.jpg and corresponding XML.\n",
      "Cropped and saved 5f516eab-a8fa-4645-871e-bef07e1a0052_a_4.jpg and corresponding XML.\n",
      "Cropped and saved 5f516eab-a8fa-4645-871e-bef07e1a0052_a_5.jpg and corresponding XML.\n",
      "Cropped and saved 605e51e6-8947-46cc-9665-be10f8d07beb_a_0.jpg and corresponding XML.\n",
      "Cropped and saved 605e51e6-8947-46cc-9665-be10f8d07beb_a_1.jpg and corresponding XML.\n",
      "Cropped and saved 605e51e6-8947-46cc-9665-be10f8d07beb_a_2.jpg and corresponding XML.\n",
      "Cropped and saved 605e51e6-8947-46cc-9665-be10f8d07beb_a_3.jpg and corresponding XML.\n"
     ]
    },
    {
     "name": "stderr",
     "output_type": "stream",
     "text": [
      " 45%|████▍     | 127/285 [00:33<00:45,  3.44it/s]"
     ]
    },
    {
     "name": "stdout",
     "output_type": "stream",
     "text": [
      "Cropped and saved 605e51e6-8947-46cc-9665-be10f8d07beb_a_4.jpg and corresponding XML.\n",
      "Cropped and saved 605e51e6-8947-46cc-9665-be10f8d07beb_a_5.jpg and corresponding XML.\n",
      "Cropped and saved 606fc38c-9bbd-4bcf-b69d-b2042778dd50_a_0.jpg and corresponding XML.\n",
      "Cropped and saved 606fc38c-9bbd-4bcf-b69d-b2042778dd50_a_1.jpg and corresponding XML.\n",
      "Cropped and saved 606fc38c-9bbd-4bcf-b69d-b2042778dd50_a_2.jpg and corresponding XML.\n",
      "Cropped and saved 606fc38c-9bbd-4bcf-b69d-b2042778dd50_a_3.jpg and corresponding XML.\n",
      "Cropped and saved 606fc38c-9bbd-4bcf-b69d-b2042778dd50_a_4.jpg and corresponding XML.\n",
      "Cropped and saved 606fc38c-9bbd-4bcf-b69d-b2042778dd50_a_5.jpg and corresponding XML.\n",
      "Cropped and saved 606fc38c-9bbd-4bcf-b69d-b2042778dd50_a_6.jpg and corresponding XML.\n"
     ]
    },
    {
     "name": "stderr",
     "output_type": "stream",
     "text": [
      " 45%|████▍     | 128/285 [00:34<00:51,  3.03it/s]"
     ]
    },
    {
     "name": "stdout",
     "output_type": "stream",
     "text": [
      "Cropped and saved 606fc38c-9bbd-4bcf-b69d-b2042778dd50_a_7.jpg and corresponding XML.\n",
      "Cropped and saved 608192c8-3e18-451d-9461-d6dec6a12d1d_a_0.jpg and corresponding XML.\n",
      "Cropped and saved 608192c8-3e18-451d-9461-d6dec6a12d1d_a_1.jpg and corresponding XML.\n",
      "Cropped and saved 6114edb7-6176-4d19-97aa-389b819a3c08_a_0.jpg and corresponding XML.\n",
      "Cropped and saved 6114edb7-6176-4d19-97aa-389b819a3c08_a_1.jpg and corresponding XML.\n"
     ]
    },
    {
     "name": "stderr",
     "output_type": "stream",
     "text": [
      " 46%|████▌     | 130/285 [00:34<00:38,  4.03it/s]"
     ]
    },
    {
     "name": "stdout",
     "output_type": "stream",
     "text": [
      "Cropped and saved 6114edb7-6176-4d19-97aa-389b819a3c08_a_2.jpg and corresponding XML.\n",
      "Cropped and saved 6114edb7-6176-4d19-97aa-389b819a3c08_a_3.jpg and corresponding XML.\n",
      "Cropped and saved 6114edb7-6176-4d19-97aa-389b819a3c08_a_4.jpg and corresponding XML.\n",
      "Cropped and saved 61231029-ff5e-49dd-bca7-4e2f044b8aa9_a_0.jpg and corresponding XML.\n",
      "Cropped and saved 61231029-ff5e-49dd-bca7-4e2f044b8aa9_a_1.jpg and corresponding XML.\n",
      "Cropped and saved 61231029-ff5e-49dd-bca7-4e2f044b8aa9_a_2.jpg and corresponding XML.\n",
      "Cropped and saved 61231029-ff5e-49dd-bca7-4e2f044b8aa9_a_3.jpg and corresponding XML.\n",
      "Cropped and saved 61231029-ff5e-49dd-bca7-4e2f044b8aa9_a_4.jpg and corresponding XML.\n",
      "Cropped and saved 61231029-ff5e-49dd-bca7-4e2f044b8aa9_a_5.jpg and corresponding XML.\n",
      "Cropped and saved 61231029-ff5e-49dd-bca7-4e2f044b8aa9_a_6.jpg and corresponding XML.\n",
      "Cropped and saved 61231029-ff5e-49dd-bca7-4e2f044b8aa9_a_7.jpg and corresponding XML.\n"
     ]
    },
    {
     "name": "stderr",
     "output_type": "stream",
     "text": [
      " 46%|████▌     | 131/285 [00:35<00:45,  3.39it/s]"
     ]
    },
    {
     "name": "stdout",
     "output_type": "stream",
     "text": [
      "Cropped and saved 61231029-ff5e-49dd-bca7-4e2f044b8aa9_a_8.jpg and corresponding XML.\n",
      "Cropped and saved 61231029-ff5e-49dd-bca7-4e2f044b8aa9_a_9.jpg and corresponding XML.\n",
      "Cropped and saved 61345bc9-8f07-4b3d-afb7-ff9dde34b47d_a_0.jpg and corresponding XML.\n",
      "Cropped and saved 61345bc9-8f07-4b3d-afb7-ff9dde34b47d_a_1.jpg and corresponding XML.\n",
      "Cropped and saved 6918a7e1-4800-494b-b8f0-34a9a2430ebd_a_0.jpg and corresponding XML.\n"
     ]
    },
    {
     "name": "stderr",
     "output_type": "stream",
     "text": [
      " 47%|████▋     | 133/285 [00:35<00:36,  4.20it/s]"
     ]
    },
    {
     "name": "stdout",
     "output_type": "stream",
     "text": [
      "Cropped and saved 6918a7e1-4800-494b-b8f0-34a9a2430ebd_a_1.jpg and corresponding XML.\n",
      "Cropped and saved 6918a7e1-4800-494b-b8f0-34a9a2430ebd_a_2.jpg and corresponding XML.\n",
      "Cropped and saved 6918a7e1-4800-494b-b8f0-34a9a2430ebd_a_3.jpg and corresponding XML.\n",
      "Cropped and saved 6918a7e1-4800-494b-b8f0-34a9a2430ebd_a_4.jpg and corresponding XML.\n"
     ]
    },
    {
     "name": "stderr",
     "output_type": "stream",
     "text": [
      " 47%|████▋     | 134/285 [00:35<00:35,  4.30it/s]"
     ]
    },
    {
     "name": "stdout",
     "output_type": "stream",
     "text": [
      "Cropped and saved 69d69a37-7ed4-4d6f-b6e2-afe9d742cbab_a_0.jpg and corresponding XML.\n",
      "Cropped and saved 69d69a37-7ed4-4d6f-b6e2-afe9d742cbab_a_1.jpg and corresponding XML.\n",
      "Cropped and saved 69d69a37-7ed4-4d6f-b6e2-afe9d742cbab_a_2.jpg and corresponding XML.\n",
      "Cropped and saved 69d69a37-7ed4-4d6f-b6e2-afe9d742cbab_a_3.jpg and corresponding XML.\n",
      "Cropped and saved 69d69a37-7ed4-4d6f-b6e2-afe9d742cbab_a_4.jpg and corresponding XML.\n",
      "Cropped and saved 6a0574a8-54a3-48ac-8eb5-47e80d6d52c0_a_0.jpg and corresponding XML.\n",
      "Cropped and saved 6a0574a8-54a3-48ac-8eb5-47e80d6d52c0_a_1.jpg and corresponding XML.\n",
      "Cropped and saved 6a0574a8-54a3-48ac-8eb5-47e80d6d52c0_a_2.jpg and corresponding XML.\n",
      "Cropped and saved 6a0574a8-54a3-48ac-8eb5-47e80d6d52c0_a_3.jpg and corresponding XML.\n",
      "Cropped and saved 6a0574a8-54a3-48ac-8eb5-47e80d6d52c0_a_4.jpg and corresponding XML.\n",
      "Cropped and saved 6a0574a8-54a3-48ac-8eb5-47e80d6d52c0_a_5.jpg and corresponding XML.\n",
      "Cropped and saved 6a0574a8-54a3-48ac-8eb5-47e80d6d52c0_a_6.jpg and corresponding XML.\n"
     ]
    },
    {
     "name": "stderr",
     "output_type": "stream",
     "text": [
      " 47%|████▋     | 135/285 [00:36<00:39,  3.80it/s]"
     ]
    },
    {
     "name": "stdout",
     "output_type": "stream",
     "text": [
      "Cropped and saved 6a0574a8-54a3-48ac-8eb5-47e80d6d52c0_a_7.jpg and corresponding XML.\n",
      "Cropped and saved 6a0574a8-54a3-48ac-8eb5-47e80d6d52c0_a_8.jpg and corresponding XML.\n",
      "Cropped and saved 6ac54811-2b24-4e56-aa07-cade0e795197_a_0.jpg and corresponding XML.\n",
      "Cropped and saved 6ac54811-2b24-4e56-aa07-cade0e795197_a_1.jpg and corresponding XML.\n",
      "Cropped and saved 6ac54811-2b24-4e56-aa07-cade0e795197_a_2.jpg and corresponding XML.\n"
     ]
    },
    {
     "name": "stderr",
     "output_type": "stream",
     "text": [
      " 48%|████▊     | 136/285 [00:36<00:40,  3.71it/s]"
     ]
    },
    {
     "name": "stdout",
     "output_type": "stream",
     "text": [
      "Cropped and saved 6ac54811-2b24-4e56-aa07-cade0e795197_a_3.jpg and corresponding XML.\n",
      "Cropped and saved 6ac54811-2b24-4e56-aa07-cade0e795197_a_4.jpg and corresponding XML.\n",
      "Cropped and saved 6ac54811-2b24-4e56-aa07-cade0e795197_a_5.jpg and corresponding XML.\n",
      "Cropped and saved 6ac54811-2b24-4e56-aa07-cade0e795197_a_6.jpg and corresponding XML.\n",
      "Cropped and saved 6b1da6ff-105a-453f-8499-50b36f3a628d_a_0.jpg and corresponding XML.\n",
      "Cropped and saved 6b1da6ff-105a-453f-8499-50b36f3a628d_a_1.jpg and corresponding XML.\n"
     ]
    },
    {
     "name": "stderr",
     "output_type": "stream",
     "text": [
      " 48%|████▊     | 137/285 [00:36<00:41,  3.60it/s]"
     ]
    },
    {
     "name": "stdout",
     "output_type": "stream",
     "text": [
      "Cropped and saved 6b1da6ff-105a-453f-8499-50b36f3a628d_a_2.jpg and corresponding XML.\n",
      "Cropped and saved 6b1da6ff-105a-453f-8499-50b36f3a628d_a_3.jpg and corresponding XML.\n",
      "Cropped and saved 6b1da6ff-105a-453f-8499-50b36f3a628d_a_4.jpg and corresponding XML.\n",
      "Cropped and saved 6b1da6ff-105a-453f-8499-50b36f3a628d_a_5.jpg and corresponding XML.\n",
      "Cropped and saved 6b1da6ff-105a-453f-8499-50b36f3a628d_a_6.jpg and corresponding XML.\n",
      "Cropped and saved 6bc9b9d5-77e4-4ac5-afb5-aefec8316f54_a_0.jpg and corresponding XML.\n",
      "Cropped and saved 6bc9b9d5-77e4-4ac5-afb5-aefec8316f54_a_1.jpg and corresponding XML.\n",
      "Cropped and saved 6bc9b9d5-77e4-4ac5-afb5-aefec8316f54_a_2.jpg and corresponding XML.\n",
      "Cropped and saved 6bc9b9d5-77e4-4ac5-afb5-aefec8316f54_a_3.jpg and corresponding XML.\n",
      "Cropped and saved 6bc9b9d5-77e4-4ac5-afb5-aefec8316f54_a_4.jpg and corresponding XML.\n",
      "Cropped and saved 6bc9b9d5-77e4-4ac5-afb5-aefec8316f54_a_5.jpg and corresponding XML.\n"
     ]
    },
    {
     "name": "stderr",
     "output_type": "stream",
     "text": [
      " 48%|████▊     | 138/285 [00:36<00:44,  3.34it/s]"
     ]
    },
    {
     "name": "stdout",
     "output_type": "stream",
     "text": [
      "Cropped and saved 6bc9b9d5-77e4-4ac5-afb5-aefec8316f54_a_6.jpg and corresponding XML.\n",
      "Cropped and saved 6ca40799-92d2-4cf0-aa4d-a17a2584d5ea_a_0.jpg and corresponding XML.\n",
      "Cropped and saved 6ca40799-92d2-4cf0-aa4d-a17a2584d5ea_a_1.jpg and corresponding XML.\n"
     ]
    },
    {
     "name": "stderr",
     "output_type": "stream",
     "text": [
      " 49%|████▉     | 139/285 [00:37<00:49,  2.98it/s]"
     ]
    },
    {
     "name": "stdout",
     "output_type": "stream",
     "text": [
      "Cropped and saved 6ca40799-92d2-4cf0-aa4d-a17a2584d5ea_a_2.jpg and corresponding XML.\n",
      "Cropped and saved 6ca40799-92d2-4cf0-aa4d-a17a2584d5ea_a_3.jpg and corresponding XML.\n",
      "Cropped and saved 6dd63ea7-021f-4a74-aa49-86119eac80c2_a_0.jpg and corresponding XML.\n",
      "Cropped and saved 6dd63ea7-021f-4a74-aa49-86119eac80c2_a_1.jpg and corresponding XML.\n"
     ]
    },
    {
     "name": "stderr",
     "output_type": "stream",
     "text": [
      " 49%|████▉     | 140/285 [00:38<01:03,  2.30it/s]"
     ]
    },
    {
     "name": "stdout",
     "output_type": "stream",
     "text": [
      "Cropped and saved 6dd63ea7-021f-4a74-aa49-86119eac80c2_a_2.jpg and corresponding XML.\n",
      "Cropped and saved 6dd63ea7-021f-4a74-aa49-86119eac80c2_a_3.jpg and corresponding XML.\n",
      "Cropped and saved 6dd63ea7-021f-4a74-aa49-86119eac80c2_a_4.jpg and corresponding XML.\n",
      "Cropped and saved 6dd63ea7-021f-4a74-aa49-86119eac80c2_a_5.jpg and corresponding XML.\n",
      "Cropped and saved 6dd63ea7-021f-4a74-aa49-86119eac80c2_a_6.jpg and corresponding XML.\n"
     ]
    },
    {
     "name": "stderr",
     "output_type": "stream",
     "text": [
      " 49%|████▉     | 141/285 [00:38<00:51,  2.78it/s]"
     ]
    },
    {
     "name": "stdout",
     "output_type": "stream",
     "text": [
      "Cropped and saved 6e5c7ccb-4398-4260-95d6-4bee05ab6016_a_0.jpg and corresponding XML.\n",
      "Cropped and saved 6e5c7ccb-4398-4260-95d6-4bee05ab6016_a_1.jpg and corresponding XML.\n",
      "Cropped and saved 6e5c7ccb-4398-4260-95d6-4bee05ab6016_a_2.jpg and corresponding XML.\n",
      "Cropped and saved 6e5c7ccb-4398-4260-95d6-4bee05ab6016_a_3.jpg and corresponding XML.\n",
      "Cropped and saved 6f45c992-37b9-4939-b06a-2c7dc46ca2d9_a_0.jpg and corresponding XML.\n"
     ]
    },
    {
     "name": "stderr",
     "output_type": "stream",
     "text": [
      " 50%|████▉     | 142/285 [00:38<00:49,  2.87it/s]"
     ]
    },
    {
     "name": "stdout",
     "output_type": "stream",
     "text": [
      "Cropped and saved 6f45c992-37b9-4939-b06a-2c7dc46ca2d9_a_1.jpg and corresponding XML.\n",
      "Cropped and saved 6f45c992-37b9-4939-b06a-2c7dc46ca2d9_a_2.jpg and corresponding XML.\n",
      "Cropped and saved 6f45c992-37b9-4939-b06a-2c7dc46ca2d9_a_3.jpg and corresponding XML.\n",
      "Cropped and saved 6f45c992-37b9-4939-b06a-2c7dc46ca2d9_a_4.jpg and corresponding XML.\n"
     ]
    },
    {
     "name": "stderr",
     "output_type": "stream",
     "text": [
      " 50%|█████     | 143/285 [00:38<00:45,  3.11it/s]"
     ]
    },
    {
     "name": "stdout",
     "output_type": "stream",
     "text": [
      "Cropped and saved 6f981601-d669-4943-88e6-ccaf493774b1_a_0.jpg and corresponding XML.\n",
      "Cropped and saved 6f981601-d669-4943-88e6-ccaf493774b1_a_1.jpg and corresponding XML.\n",
      "Cropped and saved 6f981601-d669-4943-88e6-ccaf493774b1_a_2.jpg and corresponding XML.\n",
      "Cropped and saved 6f981601-d669-4943-88e6-ccaf493774b1_a_3.jpg and corresponding XML.\n",
      "Cropped and saved 6f981601-d669-4943-88e6-ccaf493774b1_a_4.jpg and corresponding XML.\n",
      "Cropped and saved 6f981601-d669-4943-88e6-ccaf493774b1_a_5.jpg and corresponding XML.\n",
      "Cropped and saved 70d87e37-7615-4f8a-a7ad-6be2b2dbff50_a_0.jpg and corresponding XML.\n",
      "Cropped and saved 70d87e37-7615-4f8a-a7ad-6be2b2dbff50_a_1.jpg and corresponding XML.\n",
      "Cropped and saved 70d87e37-7615-4f8a-a7ad-6be2b2dbff50_a_2.jpg and corresponding XML.\n",
      "Cropped and saved 70d87e37-7615-4f8a-a7ad-6be2b2dbff50_a_3.jpg and corresponding XML.\n",
      "Cropped and saved 70d87e37-7615-4f8a-a7ad-6be2b2dbff50_a_4.jpg and corresponding XML.\n"
     ]
    },
    {
     "name": "stderr",
     "output_type": "stream",
     "text": [
      " 51%|█████     | 144/285 [00:39<00:46,  3.06it/s]"
     ]
    },
    {
     "name": "stdout",
     "output_type": "stream",
     "text": [
      "Cropped and saved 70d87e37-7615-4f8a-a7ad-6be2b2dbff50_a_5.jpg and corresponding XML.\n",
      "Cropped and saved 70d87e37-7615-4f8a-a7ad-6be2b2dbff50_a_6.jpg and corresponding XML.\n",
      "Cropped and saved 70f0cc7b-8411-4660-805c-fff49119961d_a_0.jpg and corresponding XML.\n",
      "Cropped and saved 70f0cc7b-8411-4660-805c-fff49119961d_a_1.jpg and corresponding XML.\n",
      "Cropped and saved 70f0cc7b-8411-4660-805c-fff49119961d_a_2.jpg and corresponding XML.\n"
     ]
    },
    {
     "name": "stderr",
     "output_type": "stream",
     "text": [
      " 51%|█████     | 146/285 [00:39<00:32,  4.25it/s]"
     ]
    },
    {
     "name": "stdout",
     "output_type": "stream",
     "text": [
      "Cropped and saved 70f0cc7b-8411-4660-805c-fff49119961d_a_3.jpg and corresponding XML.\n",
      "Cropped and saved 731ab6ea-3efd-4a3b-9128-4e322afcaf53_a_0.jpg and corresponding XML.\n",
      "Cropped and saved 731ab6ea-3efd-4a3b-9128-4e322afcaf53_a_1.jpg and corresponding XML.\n",
      "Cropped and saved 73b70c36-3bb9-4d93-befa-33cf68937c29_a_0.jpg and corresponding XML.\n",
      "Cropped and saved 73b70c36-3bb9-4d93-befa-33cf68937c29_a_1.jpg and corresponding XML.\n"
     ]
    },
    {
     "name": "stderr",
     "output_type": "stream",
     "text": [
      " 52%|█████▏    | 148/285 [00:39<00:25,  5.44it/s]"
     ]
    },
    {
     "name": "stdout",
     "output_type": "stream",
     "text": [
      "Cropped and saved 73b70c36-3bb9-4d93-befa-33cf68937c29_a_2.jpg and corresponding XML.\n",
      "Cropped and saved 73b70c36-3bb9-4d93-befa-33cf68937c29_a_3.jpg and corresponding XML.\n",
      "Cropped and saved 74173b0a-39ab-4a94-9047-4000ed9b4515_a_0.jpg and corresponding XML.\n",
      "Cropped and saved 74173b0a-39ab-4a94-9047-4000ed9b4515_a_1.jpg and corresponding XML.\n",
      "Cropped and saved 74d64d33-3494-4f73-a5ac-f95a3ede11c6_a_0.jpg and corresponding XML.\n",
      "Cropped and saved 74d64d33-3494-4f73-a5ac-f95a3ede11c6_a_1.jpg and corresponding XML.\n",
      "Cropped and saved 74d64d33-3494-4f73-a5ac-f95a3ede11c6_a_2.jpg and corresponding XML.\n",
      "Cropped and saved 74d64d33-3494-4f73-a5ac-f95a3ede11c6_a_3.jpg and corresponding XML.\n",
      "Cropped and saved 74d64d33-3494-4f73-a5ac-f95a3ede11c6_a_4.jpg and corresponding XML.\n",
      "Cropped and saved 74d64d33-3494-4f73-a5ac-f95a3ede11c6_a_5.jpg and corresponding XML.\n"
     ]
    },
    {
     "name": "stderr",
     "output_type": "stream",
     "text": [
      " 52%|█████▏    | 149/285 [00:40<01:01,  2.21it/s]"
     ]
    },
    {
     "name": "stdout",
     "output_type": "stream",
     "text": [
      "Cropped and saved 74d64d33-3494-4f73-a5ac-f95a3ede11c6_a_6.jpg and corresponding XML.\n",
      "Cropped and saved 75822d76-eff6-4921-8e3f-0f802e257cc5_a_0.jpg and corresponding XML.\n",
      "Cropped and saved 75822d76-eff6-4921-8e3f-0f802e257cc5_a_1.jpg and corresponding XML.\n",
      "Cropped and saved 75822d76-eff6-4921-8e3f-0f802e257cc5_a_2.jpg and corresponding XML.\n",
      "Cropped and saved 75822d76-eff6-4921-8e3f-0f802e257cc5_a_3.jpg and corresponding XML.\n",
      "Cropped and saved 75822d76-eff6-4921-8e3f-0f802e257cc5_a_4.jpg and corresponding XML.\n",
      "Cropped and saved 75822d76-eff6-4921-8e3f-0f802e257cc5_a_5.jpg and corresponding XML.\n",
      "Cropped and saved 75822d76-eff6-4921-8e3f-0f802e257cc5_a_6.jpg and corresponding XML.\n",
      "Cropped and saved 75822d76-eff6-4921-8e3f-0f802e257cc5_a_7.jpg and corresponding XML.\n",
      "Cropped and saved 75822d76-eff6-4921-8e3f-0f802e257cc5_a_8.jpg and corresponding XML.\n",
      "Cropped and saved 75822d76-eff6-4921-8e3f-0f802e257cc5_a_9.jpg and corresponding XML.\n"
     ]
    },
    {
     "name": "stderr",
     "output_type": "stream",
     "text": [
      " 53%|█████▎    | 150/285 [00:41<01:06,  2.05it/s]"
     ]
    },
    {
     "name": "stdout",
     "output_type": "stream",
     "text": [
      "Cropped and saved 75822d76-eff6-4921-8e3f-0f802e257cc5_a_10.jpg and corresponding XML.\n",
      "Cropped and saved 75822d76-eff6-4921-8e3f-0f802e257cc5_a_11.jpg and corresponding XML.\n",
      "Cropped and saved 75d86276-d5fe-453e-874d-d13a54f3ddb4_a_0.jpg and corresponding XML.\n",
      "Cropped and saved 75d86276-d5fe-453e-874d-d13a54f3ddb4_a_1.jpg and corresponding XML.\n",
      "Cropped and saved 77bd9af2-a104-4b06-bd86-9c47d9585cb7_a_0.jpg and corresponding XML.\n",
      "Cropped and saved 77bd9af2-a104-4b06-bd86-9c47d9585cb7_a_1.jpg and corresponding XML.\n",
      "Cropped and saved 77bd9af2-a104-4b06-bd86-9c47d9585cb7_a_2.jpg and corresponding XML.\n",
      "Cropped and saved 77bd9af2-a104-4b06-bd86-9c47d9585cb7_a_3.jpg and corresponding XML.\n",
      "Cropped and saved 77bd9af2-a104-4b06-bd86-9c47d9585cb7_a_4.jpg and corresponding XML.\n",
      "Cropped and saved 77bd9af2-a104-4b06-bd86-9c47d9585cb7_a_5.jpg and corresponding XML.\n",
      "Cropped and saved 77bd9af2-a104-4b06-bd86-9c47d9585cb7_a_6.jpg and corresponding XML.\n",
      "Cropped and saved 77bd9af2-a104-4b06-bd86-9c47d9585cb7_a_7.jpg and corresponding XML.\n",
      "Cropped and saved 77bd9af2-a104-4b06-bd86-9c47d9585cb7_a_8.jpg and corresponding XML.\n"
     ]
    },
    {
     "name": "stderr",
     "output_type": "stream",
     "text": [
      " 54%|█████▎    | 153/285 [00:41<00:40,  3.29it/s]"
     ]
    },
    {
     "name": "stdout",
     "output_type": "stream",
     "text": [
      "Cropped and saved 77bd9af2-a104-4b06-bd86-9c47d9585cb7_a_9.jpg and corresponding XML.\n",
      "Cropped and saved 7ad8c9e0-40a1-42b8-b510-d28ddee5cf6c_a_0.jpg and corresponding XML.\n",
      "Cropped and saved 7ad8c9e0-40a1-42b8-b510-d28ddee5cf6c_a_1.jpg and corresponding XML.\n",
      "Cropped and saved 7d0759a1-7908-4383-bfbc-1c292aecd947_a_0.jpg and corresponding XML.\n",
      "Cropped and saved 7d0759a1-7908-4383-bfbc-1c292aecd947_a_1.jpg and corresponding XML.\n",
      "Cropped and saved 7d0759a1-7908-4383-bfbc-1c292aecd947_a_2.jpg and corresponding XML.\n",
      "Cropped and saved 7d0759a1-7908-4383-bfbc-1c292aecd947_a_3.jpg and corresponding XML.\n",
      "Cropped and saved 7d0759a1-7908-4383-bfbc-1c292aecd947_a_4.jpg and corresponding XML.\n",
      "Cropped and saved 7d0759a1-7908-4383-bfbc-1c292aecd947_a_5.jpg and corresponding XML.\n",
      "Cropped and saved 7d0759a1-7908-4383-bfbc-1c292aecd947_a_6.jpg and corresponding XML.\n"
     ]
    },
    {
     "name": "stderr",
     "output_type": "stream",
     "text": [
      " 54%|█████▍    | 155/285 [00:42<00:35,  3.66it/s]"
     ]
    },
    {
     "name": "stdout",
     "output_type": "stream",
     "text": [
      "Cropped and saved 7d0759a1-7908-4383-bfbc-1c292aecd947_a_7.jpg and corresponding XML.\n",
      "Cropped and saved 7d0759a1-7908-4383-bfbc-1c292aecd947_a_8.jpg and corresponding XML.\n",
      "Cropped and saved 7e96bdc3-17ac-44df-9fd5-313576d1cc72_a_0.jpg and corresponding XML.\n",
      "Cropped and saved 7e96bdc3-17ac-44df-9fd5-313576d1cc72_a_1.jpg and corresponding XML.\n"
     ]
    },
    {
     "name": "stderr",
     "output_type": "stream",
     "text": [
      " 55%|█████▍    | 156/285 [00:42<00:34,  3.74it/s]"
     ]
    },
    {
     "name": "stdout",
     "output_type": "stream",
     "text": [
      "Cropped and saved 7ecd7523-2017-4532-8a93-8437a03febb9_a_0.jpg and corresponding XML.\n",
      "Cropped and saved 7ecd7523-2017-4532-8a93-8437a03febb9_a_1.jpg and corresponding XML.\n",
      "Cropped and saved 7ecd7523-2017-4532-8a93-8437a03febb9_a_2.jpg and corresponding XML.\n",
      "Cropped and saved 7ecd7523-2017-4532-8a93-8437a03febb9_a_3.jpg and corresponding XML.\n",
      "Cropped and saved 7ecd7523-2017-4532-8a93-8437a03febb9_a_4.jpg and corresponding XML.\n",
      "Cropped and saved 7ecd7523-2017-4532-8a93-8437a03febb9_a_5.jpg and corresponding XML.\n"
     ]
    },
    {
     "name": "stderr",
     "output_type": "stream",
     "text": [
      " 55%|█████▌    | 158/285 [00:42<00:23,  5.49it/s]"
     ]
    },
    {
     "name": "stdout",
     "output_type": "stream",
     "text": [
      "Cropped and saved 83a488e4-16d0-4acb-a91e-32a77c873b4d_a_0.jpg and corresponding XML.\n",
      "Cropped and saved 83a488e4-16d0-4acb-a91e-32a77c873b4d_a_1.jpg and corresponding XML.\n",
      "Cropped and saved 8612824b-70c7-4e88-b6c2-322bb8c904c1_a_0.jpg and corresponding XML.\n",
      "Cropped and saved 8612824b-70c7-4e88-b6c2-322bb8c904c1_a_1.jpg and corresponding XML.\n",
      "Cropped and saved 8652497b-a0f1-4322-a6a3-e356fb50b863_a_0.jpg and corresponding XML.\n",
      "Cropped and saved 8652497b-a0f1-4322-a6a3-e356fb50b863_a_1.jpg and corresponding XML.\n"
     ]
    },
    {
     "name": "stderr",
     "output_type": "stream",
     "text": [
      " 56%|█████▌    | 159/285 [00:43<00:24,  5.08it/s]"
     ]
    },
    {
     "name": "stdout",
     "output_type": "stream",
     "text": [
      "Cropped and saved 8652497b-a0f1-4322-a6a3-e356fb50b863_a_2.jpg and corresponding XML.\n",
      "Cropped and saved 8652497b-a0f1-4322-a6a3-e356fb50b863_a_3.jpg and corresponding XML.\n",
      "Cropped and saved 8652497b-a0f1-4322-a6a3-e356fb50b863_a_4.jpg and corresponding XML.\n",
      "Cropped and saved 8652497b-a0f1-4322-a6a3-e356fb50b863_a_5.jpg and corresponding XML.\n",
      "Cropped and saved 8652497b-a0f1-4322-a6a3-e356fb50b863_a_6.jpg and corresponding XML.\n",
      "Cropped and saved 8754e3c7-1f48-419c-9439-02c8c794cf7f_a_0.jpg and corresponding XML.\n"
     ]
    },
    {
     "name": "stderr",
     "output_type": "stream",
     "text": [
      " 56%|█████▌    | 160/285 [00:43<00:25,  4.92it/s]"
     ]
    },
    {
     "name": "stdout",
     "output_type": "stream",
     "text": [
      "Cropped and saved 8754e3c7-1f48-419c-9439-02c8c794cf7f_a_1.jpg and corresponding XML.\n",
      "Cropped and saved 8754e3c7-1f48-419c-9439-02c8c794cf7f_a_2.jpg and corresponding XML.\n",
      "Cropped and saved 8754e3c7-1f48-419c-9439-02c8c794cf7f_a_3.jpg and corresponding XML.\n",
      "Cropped and saved 8754e3c7-1f48-419c-9439-02c8c794cf7f_a_4.jpg and corresponding XML.\n",
      "Cropped and saved 87fc98f4-202c-4e70-9a61-7be556a8e1de_a_0.jpg and corresponding XML.\n"
     ]
    },
    {
     "name": "stderr",
     "output_type": "stream",
     "text": [
      " 56%|█████▋    | 161/285 [00:43<00:29,  4.20it/s]"
     ]
    },
    {
     "name": "stdout",
     "output_type": "stream",
     "text": [
      "Cropped and saved 87fc98f4-202c-4e70-9a61-7be556a8e1de_a_1.jpg and corresponding XML.\n",
      "Cropped and saved 87fc98f4-202c-4e70-9a61-7be556a8e1de_a_2.jpg and corresponding XML.\n",
      "Cropped and saved 87fc98f4-202c-4e70-9a61-7be556a8e1de_a_3.jpg and corresponding XML.\n",
      "Cropped and saved 87fc98f4-202c-4e70-9a61-7be556a8e1de_a_4.jpg and corresponding XML.\n",
      "Cropped and saved 87fc98f4-202c-4e70-9a61-7be556a8e1de_a_5.jpg and corresponding XML.\n",
      "Cropped and saved 87fc98f4-202c-4e70-9a61-7be556a8e1de_a_6.jpg and corresponding XML.\n",
      "Cropped and saved 88923263-3dc1-4281-b968-1be471b97ec3_a_0.jpg and corresponding XML.\n",
      "Cropped and saved 88923263-3dc1-4281-b968-1be471b97ec3_a_1.jpg and corresponding XML.\n",
      "Cropped and saved 88923263-3dc1-4281-b968-1be471b97ec3_a_2.jpg and corresponding XML.\n",
      "Cropped and saved 88923263-3dc1-4281-b968-1be471b97ec3_a_3.jpg and corresponding XML.\n",
      "Cropped and saved 88923263-3dc1-4281-b968-1be471b97ec3_a_4.jpg and corresponding XML.\n",
      "Cropped and saved 88923263-3dc1-4281-b968-1be471b97ec3_a_5.jpg and corresponding XML.\n"
     ]
    },
    {
     "name": "stderr",
     "output_type": "stream",
     "text": [
      " 57%|█████▋    | 162/285 [00:44<00:32,  3.84it/s]"
     ]
    },
    {
     "name": "stdout",
     "output_type": "stream",
     "text": [
      "Cropped and saved 88923263-3dc1-4281-b968-1be471b97ec3_a_6.jpg and corresponding XML.\n",
      "Cropped and saved 89358e99-75a9-46e3-b7a3-dafd025fe1ac_a_0.jpg and corresponding XML.\n",
      "Cropped and saved 89358e99-75a9-46e3-b7a3-dafd025fe1ac_a_1.jpg and corresponding XML.\n",
      "Cropped and saved 89358e99-75a9-46e3-b7a3-dafd025fe1ac_a_2.jpg and corresponding XML.\n",
      "Cropped and saved 89358e99-75a9-46e3-b7a3-dafd025fe1ac_a_3.jpg and corresponding XML.\n"
     ]
    },
    {
     "name": "stderr",
     "output_type": "stream",
     "text": [
      " 57%|█████▋    | 163/285 [00:44<00:31,  3.90it/s]"
     ]
    },
    {
     "name": "stdout",
     "output_type": "stream",
     "text": [
      "Cropped and saved 89358e99-75a9-46e3-b7a3-dafd025fe1ac_a_4.jpg and corresponding XML.\n",
      "Cropped and saved 89b63193-7a94-41f4-bdee-995ed3077f23_a_0.jpg and corresponding XML.\n",
      "Cropped and saved 89b63193-7a94-41f4-bdee-995ed3077f23_a_1.jpg and corresponding XML.\n",
      "Cropped and saved 89b63193-7a94-41f4-bdee-995ed3077f23_a_2.jpg and corresponding XML.\n"
     ]
    },
    {
     "name": "stderr",
     "output_type": "stream",
     "text": [
      " 58%|█████▊    | 164/285 [00:44<00:30,  3.90it/s]"
     ]
    },
    {
     "name": "stdout",
     "output_type": "stream",
     "text": [
      "Cropped and saved 89b63193-7a94-41f4-bdee-995ed3077f23_a_3.jpg and corresponding XML.\n",
      "Cropped and saved 89b63193-7a94-41f4-bdee-995ed3077f23_a_4.jpg and corresponding XML.\n",
      "Cropped and saved 8b4b8952-5378-4e4b-ab12-9d3ca211f2c8_a_0.jpg and corresponding XML.\n",
      "Cropped and saved 8b4b8952-5378-4e4b-ab12-9d3ca211f2c8_a_1.jpg and corresponding XML.\n",
      "Cropped and saved 8b4b8952-5378-4e4b-ab12-9d3ca211f2c8_a_2.jpg and corresponding XML.\n"
     ]
    },
    {
     "name": "stderr",
     "output_type": "stream",
     "text": [
      " 58%|█████▊    | 165/285 [00:44<00:29,  4.09it/s]"
     ]
    },
    {
     "name": "stdout",
     "output_type": "stream",
     "text": [
      "Cropped and saved 8b4b8952-5378-4e4b-ab12-9d3ca211f2c8_a_3.jpg and corresponding XML.\n",
      "Cropped and saved 8ca78031-536f-4225-a4fa-73e4fb2e6c97_a_0.jpg and corresponding XML.\n",
      "Cropped and saved 8ca78031-536f-4225-a4fa-73e4fb2e6c97_a_1.jpg and corresponding XML.\n",
      "Cropped and saved 8ca78031-536f-4225-a4fa-73e4fb2e6c97_a_2.jpg and corresponding XML.\n",
      "Cropped and saved 8ca78031-536f-4225-a4fa-73e4fb2e6c97_a_3.jpg and corresponding XML.\n"
     ]
    },
    {
     "name": "stderr",
     "output_type": "stream",
     "text": [
      " 58%|█████▊    | 166/285 [00:45<00:29,  3.99it/s]"
     ]
    },
    {
     "name": "stdout",
     "output_type": "stream",
     "text": [
      "Cropped and saved 8ca78031-536f-4225-a4fa-73e4fb2e6c97_a_4.jpg and corresponding XML.\n",
      "Cropped and saved 8ca78031-536f-4225-a4fa-73e4fb2e6c97_a_5.jpg and corresponding XML.\n",
      "Cropped and saved 8ca78031-536f-4225-a4fa-73e4fb2e6c97_a_6.jpg and corresponding XML.\n",
      "Cropped and saved 8ce4b7fe-fecb-4a8f-8109-3e4efa98fb49_a_0.jpg and corresponding XML.\n",
      "Cropped and saved 8ce4b7fe-fecb-4a8f-8109-3e4efa98fb49_a_1.jpg and corresponding XML.\n",
      "Cropped and saved 8ce4b7fe-fecb-4a8f-8109-3e4efa98fb49_a_2.jpg and corresponding XML.\n",
      "Cropped and saved 8ce4b7fe-fecb-4a8f-8109-3e4efa98fb49_a_3.jpg and corresponding XML.\n"
     ]
    },
    {
     "name": "stderr",
     "output_type": "stream",
     "text": [
      " 59%|█████▊    | 167/285 [00:45<00:32,  3.59it/s]"
     ]
    },
    {
     "name": "stdout",
     "output_type": "stream",
     "text": [
      "Cropped and saved 8ce4b7fe-fecb-4a8f-8109-3e4efa98fb49_a_4.jpg and corresponding XML.\n",
      "Cropped and saved 8ce4b7fe-fecb-4a8f-8109-3e4efa98fb49_a_5.jpg and corresponding XML.\n",
      "Cropped and saved 8ce4b7fe-fecb-4a8f-8109-3e4efa98fb49_a_6.jpg and corresponding XML.\n",
      "Cropped and saved 8cf1755c-3cc7-4c6c-a322-b740bd26edfe_a_0.jpg and corresponding XML.\n",
      "Cropped and saved 8cf1755c-3cc7-4c6c-a322-b740bd26edfe_a_1.jpg and corresponding XML.\n"
     ]
    },
    {
     "name": "stderr",
     "output_type": "stream",
     "text": [
      " 59%|█████▉    | 168/285 [00:46<00:55,  2.11it/s]"
     ]
    },
    {
     "name": "stdout",
     "output_type": "stream",
     "text": [
      "Cropped and saved 8cf1755c-3cc7-4c6c-a322-b740bd26edfe_a_2.jpg and corresponding XML.\n",
      "Cropped and saved 8cf1755c-3cc7-4c6c-a322-b740bd26edfe_a_3.jpg and corresponding XML.\n",
      "Cropped and saved 8cf1755c-3cc7-4c6c-a322-b740bd26edfe_a_4.jpg and corresponding XML.\n",
      "Cropped and saved 8cf1755c-3cc7-4c6c-a322-b740bd26edfe_a_5.jpg and corresponding XML.\n",
      "Cropped and saved 8cf1755c-3cc7-4c6c-a322-b740bd26edfe_a_6.jpg and corresponding XML.\n",
      "Cropped and saved 8d702374-3035-4c7f-928f-9feaea57dc03_a_0.jpg and corresponding XML.\n",
      "Cropped and saved 8d702374-3035-4c7f-928f-9feaea57dc03_a_1.jpg and corresponding XML.\n",
      "Cropped and saved 8d702374-3035-4c7f-928f-9feaea57dc03_a_2.jpg and corresponding XML.\n",
      "Cropped and saved 8d702374-3035-4c7f-928f-9feaea57dc03_a_3.jpg and corresponding XML.\n",
      "Cropped and saved 8d702374-3035-4c7f-928f-9feaea57dc03_a_4.jpg and corresponding XML.\n",
      "Cropped and saved 8d702374-3035-4c7f-928f-9feaea57dc03_a_5.jpg and corresponding XML.\n",
      "Cropped and saved 8d702374-3035-4c7f-928f-9feaea57dc03_a_6.jpg and corresponding XML.\n",
      "Cropped and saved 8d702374-3035-4c7f-928f-9feaea57dc03_a_7.jpg and corresponding XML.\n",
      "Cropped and saved 8d702374-3035-4c7f-928f-9feaea57dc03_a_8.jpg and corresponding XML.\n"
     ]
    },
    {
     "name": "stderr",
     "output_type": "stream",
     "text": [
      " 59%|█████▉    | 169/285 [00:46<00:57,  2.03it/s]"
     ]
    },
    {
     "name": "stdout",
     "output_type": "stream",
     "text": [
      "Cropped and saved 8d702374-3035-4c7f-928f-9feaea57dc03_a_9.jpg and corresponding XML.\n",
      "Cropped and saved 8d849142-9b55-4330-9a2f-785db993b24a_a_0.jpg and corresponding XML.\n",
      "Cropped and saved 8d849142-9b55-4330-9a2f-785db993b24a_a_1.jpg and corresponding XML.\n",
      "Cropped and saved 8d849142-9b55-4330-9a2f-785db993b24a_a_2.jpg and corresponding XML.\n",
      "Cropped and saved 8d849142-9b55-4330-9a2f-785db993b24a_a_3.jpg and corresponding XML.\n",
      "Cropped and saved 8d849142-9b55-4330-9a2f-785db993b24a_a_4.jpg and corresponding XML.\n"
     ]
    },
    {
     "name": "stderr",
     "output_type": "stream",
     "text": [
      " 60%|█████▉    | 170/285 [00:47<00:51,  2.23it/s]"
     ]
    },
    {
     "name": "stdout",
     "output_type": "stream",
     "text": [
      "Cropped and saved 8d849142-9b55-4330-9a2f-785db993b24a_a_5.jpg and corresponding XML.\n",
      "Cropped and saved 8d849142-9b55-4330-9a2f-785db993b24a_a_6.jpg and corresponding XML.\n",
      "Cropped and saved 8e2ab881-3074-4178-a87d-ab6b30fa2a1e_a_0.jpg and corresponding XML.\n"
     ]
    },
    {
     "name": "stderr",
     "output_type": "stream",
     "text": [
      " 60%|██████    | 171/285 [00:47<00:40,  2.79it/s]"
     ]
    },
    {
     "name": "stdout",
     "output_type": "stream",
     "text": [
      "Cropped and saved 8e2ab881-3074-4178-a87d-ab6b30fa2a1e_a_1.jpg and corresponding XML.\n",
      "Cropped and saved 8e6eaa41-445a-449e-9058-7131a5cc1135_a_0.jpg and corresponding XML.\n",
      "Cropped and saved 8e6eaa41-445a-449e-9058-7131a5cc1135_a_1.jpg and corresponding XML.\n",
      "Cropped and saved 8e6eaa41-445a-449e-9058-7131a5cc1135_a_2.jpg and corresponding XML.\n",
      "Cropped and saved 8e6eaa41-445a-449e-9058-7131a5cc1135_a_3.jpg and corresponding XML.\n"
     ]
    },
    {
     "name": "stderr",
     "output_type": "stream",
     "text": [
      " 60%|██████    | 172/285 [00:47<00:38,  2.97it/s]"
     ]
    },
    {
     "name": "stdout",
     "output_type": "stream",
     "text": [
      "Cropped and saved 8e6eaa41-445a-449e-9058-7131a5cc1135_a_4.jpg and corresponding XML.\n",
      "Cropped and saved 8e6eaa41-445a-449e-9058-7131a5cc1135_a_5.jpg and corresponding XML.\n",
      "Cropped and saved 8e6eaa41-445a-449e-9058-7131a5cc1135_a_6.jpg and corresponding XML.\n",
      "Cropped and saved 8ef1fe26-3e6a-46d5-8f06-610fe005ba78_a_0.jpg and corresponding XML.\n",
      "Cropped and saved 8ef1fe26-3e6a-46d5-8f06-610fe005ba78_a_1.jpg and corresponding XML.\n",
      "Cropped and saved 8ef1fe26-3e6a-46d5-8f06-610fe005ba78_a_2.jpg and corresponding XML.\n",
      "Cropped and saved 8ef1fe26-3e6a-46d5-8f06-610fe005ba78_a_3.jpg and corresponding XML.\n",
      "Cropped and saved 8ef1fe26-3e6a-46d5-8f06-610fe005ba78_a_4.jpg and corresponding XML.\n",
      "Cropped and saved 8ef1fe26-3e6a-46d5-8f06-610fe005ba78_a_5.jpg and corresponding XML.\n"
     ]
    },
    {
     "name": "stderr",
     "output_type": "stream",
     "text": [
      " 61%|██████    | 173/285 [00:48<00:39,  2.80it/s]"
     ]
    },
    {
     "name": "stdout",
     "output_type": "stream",
     "text": [
      "Cropped and saved 8ef1fe26-3e6a-46d5-8f06-610fe005ba78_a_6.jpg and corresponding XML.\n",
      "Cropped and saved 8f4e0760-4c0c-4b05-ba31-489fc627f791_a_0.jpg and corresponding XML.\n",
      "Cropped and saved 8f4e0760-4c0c-4b05-ba31-489fc627f791_a_1.jpg and corresponding XML.\n",
      "Cropped and saved 8f4e0760-4c0c-4b05-ba31-489fc627f791_a_2.jpg and corresponding XML.\n",
      "Cropped and saved 8f4e0760-4c0c-4b05-ba31-489fc627f791_a_3.jpg and corresponding XML.\n",
      "Cropped and saved 8f4e0760-4c0c-4b05-ba31-489fc627f791_a_4.jpg and corresponding XML.\n"
     ]
    },
    {
     "name": "stderr",
     "output_type": "stream",
     "text": [
      " 61%|██████▏   | 175/285 [00:48<00:29,  3.72it/s]"
     ]
    },
    {
     "name": "stdout",
     "output_type": "stream",
     "text": [
      "Cropped and saved 8f4e0760-4c0c-4b05-ba31-489fc627f791_a_5.jpg and corresponding XML.\n",
      "Cropped and saved 914b225a-d8e5-42cc-adc1-7016943328d7_a_0.jpg and corresponding XML.\n",
      "Cropped and saved 914b225a-d8e5-42cc-adc1-7016943328d7_a_1.jpg and corresponding XML.\n",
      "Cropped and saved 914b225a-d8e5-42cc-adc1-7016943328d7_a_2.jpg and corresponding XML.\n",
      "Cropped and saved 914b225a-d8e5-42cc-adc1-7016943328d7_a_3.jpg and corresponding XML.\n",
      "Cropped and saved 9287a218-dcf2-4b1a-86aa-0d395eed099a_a_0.jpg and corresponding XML.\n",
      "Cropped and saved 9287a218-dcf2-4b1a-86aa-0d395eed099a_a_1.jpg and corresponding XML.\n"
     ]
    },
    {
     "name": "stderr",
     "output_type": "stream",
     "text": [
      " 62%|██████▏   | 177/285 [00:48<00:22,  4.83it/s]"
     ]
    },
    {
     "name": "stdout",
     "output_type": "stream",
     "text": [
      "Cropped and saved 92c302da-4936-4e25-863e-b67392aee7db_a_0.jpg and corresponding XML.\n",
      "Cropped and saved 92c302da-4936-4e25-863e-b67392aee7db_a_1.jpg and corresponding XML.\n",
      "Cropped and saved 92c302da-4936-4e25-863e-b67392aee7db_a_2.jpg and corresponding XML.\n",
      "Cropped and saved 92c302da-4936-4e25-863e-b67392aee7db_a_3.jpg and corresponding XML.\n",
      "Cropped and saved 92c302da-4936-4e25-863e-b67392aee7db_a_4.jpg and corresponding XML.\n",
      "Cropped and saved 92c302da-4936-4e25-863e-b67392aee7db_a_5.jpg and corresponding XML.\n",
      "Cropped and saved 930363c1-a3b4-4570-8007-e56567d34687_a_0.jpg and corresponding XML.\n",
      "Cropped and saved 930363c1-a3b4-4570-8007-e56567d34687_a_1.jpg and corresponding XML.\n",
      "Cropped and saved 930363c1-a3b4-4570-8007-e56567d34687_a_2.jpg and corresponding XML.\n",
      "Cropped and saved 930363c1-a3b4-4570-8007-e56567d34687_a_3.jpg and corresponding XML.\n",
      "Cropped and saved 930363c1-a3b4-4570-8007-e56567d34687_a_4.jpg and corresponding XML.\n",
      "Cropped and saved 930363c1-a3b4-4570-8007-e56567d34687_a_5.jpg and corresponding XML.\n"
     ]
    },
    {
     "name": "stderr",
     "output_type": "stream",
     "text": [
      " 62%|██████▏   | 178/285 [00:49<00:30,  3.54it/s]"
     ]
    },
    {
     "name": "stdout",
     "output_type": "stream",
     "text": [
      "Cropped and saved 930363c1-a3b4-4570-8007-e56567d34687_a_6.jpg and corresponding XML.\n",
      "Cropped and saved 930363c1-a3b4-4570-8007-e56567d34687_a_7.jpg and corresponding XML.\n",
      "Cropped and saved 930363c1-a3b4-4570-8007-e56567d34687_a_8.jpg and corresponding XML.\n",
      "Cropped and saved 930363c1-a3b4-4570-8007-e56567d34687_a_9.jpg and corresponding XML.\n",
      "Cropped and saved 930363c1-a3b4-4570-8007-e56567d34687_a_10.jpg and corresponding XML.\n"
     ]
    },
    {
     "name": "stderr",
     "output_type": "stream",
     "text": [
      " 63%|██████▎   | 180/285 [00:49<00:23,  4.54it/s]"
     ]
    },
    {
     "name": "stdout",
     "output_type": "stream",
     "text": [
      "Cropped and saved 9334fc24-2190-45bf-bb05-82669f3cb8e1_a_0.jpg and corresponding XML.\n",
      "Cropped and saved 9334fc24-2190-45bf-bb05-82669f3cb8e1_a_1.jpg and corresponding XML.\n",
      "Cropped and saved 93cb60fd-65d6-41bb-91b7-ad37d18b8a18_a_0.jpg and corresponding XML.\n",
      "Cropped and saved 93cb60fd-65d6-41bb-91b7-ad37d18b8a18_a_1.jpg and corresponding XML.\n",
      "Cropped and saved 93cb60fd-65d6-41bb-91b7-ad37d18b8a18_a_2.jpg and corresponding XML.\n",
      "Cropped and saved 93cb60fd-65d6-41bb-91b7-ad37d18b8a18_a_3.jpg and corresponding XML.\n",
      "Cropped and saved 93cb60fd-65d6-41bb-91b7-ad37d18b8a18_a_4.jpg and corresponding XML.\n"
     ]
    },
    {
     "name": "stderr",
     "output_type": "stream",
     "text": [
      " 64%|██████▎   | 181/285 [00:49<00:23,  4.49it/s]"
     ]
    },
    {
     "name": "stdout",
     "output_type": "stream",
     "text": [
      "Cropped and saved 959865dc-1453-442a-b139-0ded5a87f780_a_0.jpg and corresponding XML.\n",
      "Cropped and saved 959865dc-1453-442a-b139-0ded5a87f780_a_1.jpg and corresponding XML.\n",
      "Cropped and saved 959865dc-1453-442a-b139-0ded5a87f780_a_2.jpg and corresponding XML.\n",
      "Cropped and saved 959865dc-1453-442a-b139-0ded5a87f780_a_3.jpg and corresponding XML.\n",
      "Cropped and saved 959865dc-1453-442a-b139-0ded5a87f780_a_4.jpg and corresponding XML.\n",
      "Cropped and saved 959865dc-1453-442a-b139-0ded5a87f780_a_5.jpg and corresponding XML.\n",
      "Cropped and saved 959f7d06-d766-4b01-bcb9-f58921023630_a_0.jpg and corresponding XML.\n",
      "Cropped and saved 959f7d06-d766-4b01-bcb9-f58921023630_a_1.jpg and corresponding XML.\n",
      "Cropped and saved 959f7d06-d766-4b01-bcb9-f58921023630_a_2.jpg and corresponding XML.\n",
      "Cropped and saved 959f7d06-d766-4b01-bcb9-f58921023630_a_3.jpg and corresponding XML.\n",
      "Cropped and saved 959f7d06-d766-4b01-bcb9-f58921023630_a_4.jpg and corresponding XML.\n"
     ]
    },
    {
     "name": "stderr",
     "output_type": "stream",
     "text": [
      " 64%|██████▍   | 182/285 [00:49<00:25,  4.09it/s]"
     ]
    },
    {
     "name": "stdout",
     "output_type": "stream",
     "text": [
      "Cropped and saved 959f7d06-d766-4b01-bcb9-f58921023630_a_5.jpg and corresponding XML.\n",
      "Cropped and saved 96961b5a-3aab-4512-ae41-8ef3b0eb907b_a_0.jpg and corresponding XML.\n",
      "Cropped and saved 96961b5a-3aab-4512-ae41-8ef3b0eb907b_a_1.jpg and corresponding XML.\n",
      "Cropped and saved 9772a915-d5c4-416e-bacb-49f098ec18eb_a_0.jpg and corresponding XML.\n",
      "Cropped and saved 9772a915-d5c4-416e-bacb-49f098ec18eb_a_1.jpg and corresponding XML.\n",
      "Cropped and saved 9772a915-d5c4-416e-bacb-49f098ec18eb_a_2.jpg and corresponding XML.\n"
     ]
    },
    {
     "name": "stderr",
     "output_type": "stream",
     "text": [
      " 65%|██████▌   | 186/285 [00:50<00:15,  6.26it/s]"
     ]
    },
    {
     "name": "stdout",
     "output_type": "stream",
     "text": [
      "Cropped and saved 9772a915-d5c4-416e-bacb-49f098ec18eb_a_3.jpg and corresponding XML.\n",
      "Cropped and saved 9b0218e1-1857-46b6-83e6-7da8dbc19363_a_0.jpg and corresponding XML.\n",
      "Cropped and saved 9b0218e1-1857-46b6-83e6-7da8dbc19363_a_1.jpg and corresponding XML.\n",
      "Cropped and saved 9c05e821-79a2-4ca7-aec3-772597d81e2d_a_0.jpg and corresponding XML.\n",
      "Cropped and saved 9c05e821-79a2-4ca7-aec3-772597d81e2d_a_1.jpg and corresponding XML.\n",
      "Cropped and saved 9c05e821-79a2-4ca7-aec3-772597d81e2d_a_2.jpg and corresponding XML.\n",
      "Cropped and saved 9c05e821-79a2-4ca7-aec3-772597d81e2d_a_3.jpg and corresponding XML.\n",
      "Cropped and saved 9c0a9762-1f31-4b3c-9c43-b8b0b6e32176_a_0.jpg and corresponding XML.\n",
      "Cropped and saved 9c0a9762-1f31-4b3c-9c43-b8b0b6e32176_a_1.jpg and corresponding XML.\n",
      "Cropped and saved 9c0a9762-1f31-4b3c-9c43-b8b0b6e32176_a_2.jpg and corresponding XML.\n",
      "Cropped and saved 9c0a9762-1f31-4b3c-9c43-b8b0b6e32176_a_3.jpg and corresponding XML.\n",
      "Cropped and saved 9c0a9762-1f31-4b3c-9c43-b8b0b6e32176_a_4.jpg and corresponding XML.\n"
     ]
    },
    {
     "name": "stderr",
     "output_type": "stream",
     "text": [
      " 66%|██████▌   | 188/285 [00:50<00:18,  5.14it/s]"
     ]
    },
    {
     "name": "stdout",
     "output_type": "stream",
     "text": [
      "Cropped and saved 9c0a9762-1f31-4b3c-9c43-b8b0b6e32176_a_5.jpg and corresponding XML.\n",
      "Cropped and saved 9cc9266d-56b1-4627-b73c-dbf9718e9bf3_a_0.jpg and corresponding XML.\n",
      "Cropped and saved 9cc9266d-56b1-4627-b73c-dbf9718e9bf3_a_1.jpg and corresponding XML.\n",
      "Cropped and saved 9cc9266d-56b1-4627-b73c-dbf9718e9bf3_a_2.jpg and corresponding XML.\n",
      "Cropped and saved 9cc9266d-56b1-4627-b73c-dbf9718e9bf3_a_3.jpg and corresponding XML.\n",
      "Cropped and saved 9cc9266d-56b1-4627-b73c-dbf9718e9bf3_a_4.jpg and corresponding XML.\n",
      "Cropped and saved 9f82272a-4f87-49d3-98dd-29bda7e42d86_a_0.jpg and corresponding XML.\n",
      "Cropped and saved 9f82272a-4f87-49d3-98dd-29bda7e42d86_a_1.jpg and corresponding XML.\n"
     ]
    },
    {
     "name": "stderr",
     "output_type": "stream",
     "text": [
      " 66%|██████▋   | 189/285 [00:51<00:26,  3.56it/s]"
     ]
    },
    {
     "name": "stdout",
     "output_type": "stream",
     "text": [
      "Cropped and saved 9f82272a-4f87-49d3-98dd-29bda7e42d86_a_2.jpg and corresponding XML.\n",
      "Cropped and saved 9f82272a-4f87-49d3-98dd-29bda7e42d86_a_3.jpg and corresponding XML.\n",
      "Cropped and saved 9f82272a-4f87-49d3-98dd-29bda7e42d86_a_4.jpg and corresponding XML.\n",
      "Cropped and saved a048c0b7-df9c-426a-a891-c07d027f5da6_a_0.jpg and corresponding XML.\n",
      "Cropped and saved a048c0b7-df9c-426a-a891-c07d027f5da6_a_1.jpg and corresponding XML.\n"
     ]
    },
    {
     "name": "stderr",
     "output_type": "stream",
     "text": [
      " 67%|██████▋   | 191/285 [00:51<00:18,  4.95it/s]"
     ]
    },
    {
     "name": "stdout",
     "output_type": "stream",
     "text": [
      "Cropped and saved a054cb6a-00ca-4adb-8c23-59a085cfd274_a_0.jpg and corresponding XML.\n",
      "Cropped and saved a054cb6a-00ca-4adb-8c23-59a085cfd274_a_1.jpg and corresponding XML.\n",
      "Cropped and saved a15d742a-3e43-499b-ba6c-25e7f22ababa_a_0.jpg and corresponding XML.\n",
      "Cropped and saved a15d742a-3e43-499b-ba6c-25e7f22ababa_a_1.jpg and corresponding XML.\n",
      "Cropped and saved a15d742a-3e43-499b-ba6c-25e7f22ababa_a_2.jpg and corresponding XML.\n"
     ]
    },
    {
     "name": "stderr",
     "output_type": "stream",
     "text": [
      " 67%|██████▋   | 192/285 [00:51<00:18,  4.89it/s]"
     ]
    },
    {
     "name": "stdout",
     "output_type": "stream",
     "text": [
      "Cropped and saved a15d742a-3e43-499b-ba6c-25e7f22ababa_a_3.jpg and corresponding XML.\n",
      "Cropped and saved a15d742a-3e43-499b-ba6c-25e7f22ababa_a_4.jpg and corresponding XML.\n",
      "Cropped and saved a202b22a-500b-48c5-91a0-81e2ad3e675a_a_0.jpg and corresponding XML.\n",
      "Cropped and saved a202b22a-500b-48c5-91a0-81e2ad3e675a_a_1.jpg and corresponding XML.\n",
      "Cropped and saved a202b22a-500b-48c5-91a0-81e2ad3e675a_a_2.jpg and corresponding XML.\n",
      "Cropped and saved a202b22a-500b-48c5-91a0-81e2ad3e675a_a_3.jpg and corresponding XML.\n",
      "Cropped and saved a202b22a-500b-48c5-91a0-81e2ad3e675a_a_4.jpg and corresponding XML.\n",
      "Cropped and saved a202b22a-500b-48c5-91a0-81e2ad3e675a_a_5.jpg and corresponding XML.\n",
      "Cropped and saved a202b22a-500b-48c5-91a0-81e2ad3e675a_a_6.jpg and corresponding XML.\n",
      "Cropped and saved a202b22a-500b-48c5-91a0-81e2ad3e675a_a_7.jpg and corresponding XML.\n"
     ]
    },
    {
     "name": "stderr",
     "output_type": "stream",
     "text": [
      " 68%|██████▊   | 193/285 [00:52<00:26,  3.53it/s]"
     ]
    },
    {
     "name": "stdout",
     "output_type": "stream",
     "text": [
      "Cropped and saved a202b22a-500b-48c5-91a0-81e2ad3e675a_a_8.jpg and corresponding XML.\n",
      "Cropped and saved a202b22a-500b-48c5-91a0-81e2ad3e675a_a_9.jpg and corresponding XML.\n",
      "Cropped and saved a22d9139-ae8f-49e1-ba1a-2c955dd582cc_a_0.jpg and corresponding XML.\n",
      "Cropped and saved a22d9139-ae8f-49e1-ba1a-2c955dd582cc_a_1.jpg and corresponding XML.\n",
      "Cropped and saved a22d9139-ae8f-49e1-ba1a-2c955dd582cc_a_2.jpg and corresponding XML.\n",
      "Cropped and saved a22d9139-ae8f-49e1-ba1a-2c955dd582cc_a_3.jpg and corresponding XML.\n"
     ]
    },
    {
     "name": "stderr",
     "output_type": "stream",
     "text": [
      " 68%|██████▊   | 194/285 [00:52<00:23,  3.88it/s]"
     ]
    },
    {
     "name": "stdout",
     "output_type": "stream",
     "text": [
      "Cropped and saved a22d9139-ae8f-49e1-ba1a-2c955dd582cc_a_4.jpg and corresponding XML.\n",
      "Cropped and saved a2c5f6d1-69bd-46c5-90b1-b535425b6eef_a_0.jpg and corresponding XML.\n",
      "Cropped and saved a2c5f6d1-69bd-46c5-90b1-b535425b6eef_a_1.jpg and corresponding XML.\n",
      "Cropped and saved a2c5f6d1-69bd-46c5-90b1-b535425b6eef_a_2.jpg and corresponding XML.\n",
      "Cropped and saved a2c5f6d1-69bd-46c5-90b1-b535425b6eef_a_3.jpg and corresponding XML.\n"
     ]
    },
    {
     "name": "stderr",
     "output_type": "stream",
     "text": [
      " 68%|██████▊   | 195/285 [00:52<00:22,  4.09it/s]"
     ]
    },
    {
     "name": "stdout",
     "output_type": "stream",
     "text": [
      "Cropped and saved a2c5f6d1-69bd-46c5-90b1-b535425b6eef_a_4.jpg and corresponding XML.\n",
      "Cropped and saved a332cb76-5746-4a7c-b172-3ad763970365_a_0.jpg and corresponding XML.\n",
      "Cropped and saved a332cb76-5746-4a7c-b172-3ad763970365_a_1.jpg and corresponding XML.\n",
      "Cropped and saved a332cb76-5746-4a7c-b172-3ad763970365_a_2.jpg and corresponding XML.\n",
      "Cropped and saved a332cb76-5746-4a7c-b172-3ad763970365_a_3.jpg and corresponding XML.\n"
     ]
    },
    {
     "name": "stderr",
     "output_type": "stream",
     "text": [
      " 69%|██████▉   | 197/285 [00:53<00:18,  4.72it/s]"
     ]
    },
    {
     "name": "stdout",
     "output_type": "stream",
     "text": [
      "Cropped and saved a332cb76-5746-4a7c-b172-3ad763970365_a_4.jpg and corresponding XML.\n",
      "Cropped and saved a467ffb5-e9e8-4a11-8ee8-9985700fd24a_a_0.jpg and corresponding XML.\n",
      "Cropped and saved a467ffb5-e9e8-4a11-8ee8-9985700fd24a_a_1.jpg and corresponding XML.\n",
      "Cropped and saved a467ffb5-e9e8-4a11-8ee8-9985700fd24a_a_2.jpg and corresponding XML.\n",
      "Cropped and saved a467ffb5-e9e8-4a11-8ee8-9985700fd24a_a_3.jpg and corresponding XML.\n"
     ]
    },
    {
     "name": "stderr",
     "output_type": "stream",
     "text": [
      " 69%|██████▉   | 198/285 [00:53<00:15,  5.55it/s]"
     ]
    },
    {
     "name": "stdout",
     "output_type": "stream",
     "text": [
      "Cropped and saved a5f2513d-8233-4286-9271-a2bda155aa0d_a_0.jpg and corresponding XML.\n",
      "Cropped and saved a5f2513d-8233-4286-9271-a2bda155aa0d_a_1.jpg and corresponding XML.\n",
      "Cropped and saved a77af12a-a73e-4ae8-8d86-7210ec99034a_a_0.jpg and corresponding XML.\n",
      "Cropped and saved a77af12a-a73e-4ae8-8d86-7210ec99034a_a_1.jpg and corresponding XML.\n"
     ]
    },
    {
     "name": "stderr",
     "output_type": "stream",
     "text": [
      " 70%|██████▉   | 199/285 [00:53<00:17,  4.95it/s]"
     ]
    },
    {
     "name": "stdout",
     "output_type": "stream",
     "text": [
      "Cropped and saved a77af12a-a73e-4ae8-8d86-7210ec99034a_a_2.jpg and corresponding XML.\n",
      "Cropped and saved a77af12a-a73e-4ae8-8d86-7210ec99034a_a_3.jpg and corresponding XML.\n",
      "Cropped and saved a77af12a-a73e-4ae8-8d86-7210ec99034a_a_4.jpg and corresponding XML.\n",
      "Cropped and saved a77af12a-a73e-4ae8-8d86-7210ec99034a_a_5.jpg and corresponding XML.\n",
      "Cropped and saved a77af12a-a73e-4ae8-8d86-7210ec99034a_a_6.jpg and corresponding XML.\n",
      "Cropped and saved a78f1029-1a65-47e9-b84b-34ac4d11f04b_a_0.jpg and corresponding XML.\n",
      "Cropped and saved a78f1029-1a65-47e9-b84b-34ac4d11f04b_a_1.jpg and corresponding XML.\n"
     ]
    },
    {
     "name": "stderr",
     "output_type": "stream",
     "text": [
      " 70%|███████   | 200/285 [00:53<00:20,  4.18it/s]"
     ]
    },
    {
     "name": "stdout",
     "output_type": "stream",
     "text": [
      "Cropped and saved a78f1029-1a65-47e9-b84b-34ac4d11f04b_a_2.jpg and corresponding XML.\n",
      "Cropped and saved a78f1029-1a65-47e9-b84b-34ac4d11f04b_a_3.jpg and corresponding XML.\n",
      "Cropped and saved a78f1029-1a65-47e9-b84b-34ac4d11f04b_a_4.jpg and corresponding XML.\n",
      "Cropped and saved a78f1029-1a65-47e9-b84b-34ac4d11f04b_a_5.jpg and corresponding XML.\n",
      "Cropped and saved a78f1029-1a65-47e9-b84b-34ac4d11f04b_a_6.jpg and corresponding XML.\n",
      "Cropped and saved a9b6bdd7-0c1a-4f79-a35a-e99ba902dfaf_a_0.jpg and corresponding XML.\n",
      "Cropped and saved a9b6bdd7-0c1a-4f79-a35a-e99ba902dfaf_a_1.jpg and corresponding XML.\n",
      "Cropped and saved a9b6bdd7-0c1a-4f79-a35a-e99ba902dfaf_a_2.jpg and corresponding XML.\n",
      "Cropped and saved a9b6bdd7-0c1a-4f79-a35a-e99ba902dfaf_a_3.jpg and corresponding XML.\n",
      "Cropped and saved a9b6bdd7-0c1a-4f79-a35a-e99ba902dfaf_a_4.jpg and corresponding XML.\n",
      "Cropped and saved a9b6bdd7-0c1a-4f79-a35a-e99ba902dfaf_a_5.jpg and corresponding XML.\n"
     ]
    },
    {
     "name": "stderr",
     "output_type": "stream",
     "text": [
      " 71%|███████   | 201/285 [00:54<00:25,  3.27it/s]"
     ]
    },
    {
     "name": "stdout",
     "output_type": "stream",
     "text": [
      "Cropped and saved a9b6bdd7-0c1a-4f79-a35a-e99ba902dfaf_a_6.jpg and corresponding XML.\n",
      "Cropped and saved a9b6bdd7-0c1a-4f79-a35a-e99ba902dfaf_a_7.jpg and corresponding XML.\n",
      "Cropped and saved a9b6bdd7-0c1a-4f79-a35a-e99ba902dfaf_a_8.jpg and corresponding XML.\n",
      "Cropped and saved a9b6bdd7-0c1a-4f79-a35a-e99ba902dfaf_a_9.jpg and corresponding XML.\n",
      "Cropped and saved a9b6bdd7-0c1a-4f79-a35a-e99ba902dfaf_a_10.jpg and corresponding XML.\n",
      "Cropped and saved a9e1b815-f6a5-47f4-b6a7-29c9603b9525_a_0.jpg and corresponding XML.\n",
      "Cropped and saved a9e1b815-f6a5-47f4-b6a7-29c9603b9525_a_1.jpg and corresponding XML.\n",
      "Cropped and saved a9e1b815-f6a5-47f4-b6a7-29c9603b9525_a_2.jpg and corresponding XML.\n",
      "Cropped and saved a9e1b815-f6a5-47f4-b6a7-29c9603b9525_a_3.jpg and corresponding XML.\n"
     ]
    },
    {
     "name": "stderr",
     "output_type": "stream",
     "text": [
      " 71%|███████   | 202/285 [00:54<00:27,  3.06it/s]"
     ]
    },
    {
     "name": "stdout",
     "output_type": "stream",
     "text": [
      "Cropped and saved a9e1b815-f6a5-47f4-b6a7-29c9603b9525_a_4.jpg and corresponding XML.\n",
      "Cropped and saved a9e1b815-f6a5-47f4-b6a7-29c9603b9525_a_5.jpg and corresponding XML.\n",
      "Cropped and saved a9e1b815-f6a5-47f4-b6a7-29c9603b9525_a_6.jpg and corresponding XML.\n",
      "Cropped and saved aa0d20f9-e22f-4569-964e-b5e4d4955dce_a_0.jpg and corresponding XML.\n",
      "Cropped and saved aa0d20f9-e22f-4569-964e-b5e4d4955dce_a_1.jpg and corresponding XML.\n"
     ]
    },
    {
     "name": "stderr",
     "output_type": "stream",
     "text": [
      " 71%|███████   | 203/285 [00:54<00:24,  3.30it/s]"
     ]
    },
    {
     "name": "stdout",
     "output_type": "stream",
     "text": [
      "Cropped and saved aa0d20f9-e22f-4569-964e-b5e4d4955dce_a_2.jpg and corresponding XML.\n",
      "Cropped and saved aa0d20f9-e22f-4569-964e-b5e4d4955dce_a_3.jpg and corresponding XML.\n",
      "Cropped and saved aa0d20f9-e22f-4569-964e-b5e4d4955dce_a_4.jpg and corresponding XML.\n",
      "Cropped and saved aa0d20f9-e22f-4569-964e-b5e4d4955dce_a_5.jpg and corresponding XML.\n",
      "Cropped and saved acc09493-5e62-4ee9-b1db-4930bd9c9e77_a_0.jpg and corresponding XML.\n"
     ]
    },
    {
     "name": "stderr",
     "output_type": "stream",
     "text": [
      " 72%|███████▏  | 204/285 [00:55<00:22,  3.56it/s]"
     ]
    },
    {
     "name": "stdout",
     "output_type": "stream",
     "text": [
      "Cropped and saved acc09493-5e62-4ee9-b1db-4930bd9c9e77_a_1.jpg and corresponding XML.\n",
      "Cropped and saved acc09493-5e62-4ee9-b1db-4930bd9c9e77_a_2.jpg and corresponding XML.\n",
      "Cropped and saved acc09493-5e62-4ee9-b1db-4930bd9c9e77_a_3.jpg and corresponding XML.\n",
      "Cropped and saved ad307fd0-5801-4749-b262-b78da690992c_a_0.jpg and corresponding XML.\n",
      "Cropped and saved ad307fd0-5801-4749-b262-b78da690992c_a_1.jpg and corresponding XML.\n"
     ]
    },
    {
     "name": "stderr",
     "output_type": "stream",
     "text": [
      " 72%|███████▏  | 205/285 [00:55<00:20,  3.84it/s]"
     ]
    },
    {
     "name": "stdout",
     "output_type": "stream",
     "text": [
      "Cropped and saved ad307fd0-5801-4749-b262-b78da690992c_a_2.jpg and corresponding XML.\n",
      "Cropped and saved ad307fd0-5801-4749-b262-b78da690992c_a_3.jpg and corresponding XML.\n",
      "Cropped and saved ad307fd0-5801-4749-b262-b78da690992c_a_4.jpg and corresponding XML.\n",
      "Cropped and saved ad61a327-3e72-4e91-a45d-86535c07c2b3_a_0.jpg and corresponding XML.\n",
      "Cropped and saved ad61a327-3e72-4e91-a45d-86535c07c2b3_a_1.jpg and corresponding XML.\n",
      "Cropped and saved ad61a327-3e72-4e91-a45d-86535c07c2b3_a_2.jpg and corresponding XML.\n",
      "Cropped and saved ad61a327-3e72-4e91-a45d-86535c07c2b3_a_3.jpg and corresponding XML.\n"
     ]
    },
    {
     "name": "stderr",
     "output_type": "stream",
     "text": [
      " 72%|███████▏  | 206/285 [00:55<00:20,  3.82it/s]"
     ]
    },
    {
     "name": "stdout",
     "output_type": "stream",
     "text": [
      "Cropped and saved ad61a327-3e72-4e91-a45d-86535c07c2b3_a_4.jpg and corresponding XML.\n",
      "Cropped and saved ad61a327-3e72-4e91-a45d-86535c07c2b3_a_5.jpg and corresponding XML.\n",
      "Cropped and saved ad61a327-3e72-4e91-a45d-86535c07c2b3_a_6.jpg and corresponding XML.\n",
      "Cropped and saved ad61a327-3e72-4e91-a45d-86535c07c2b3_a_7.jpg and corresponding XML.\n",
      "Cropped and saved afd4e489-b89a-472e-9a9a-569a99028027_a_0.jpg and corresponding XML.\n",
      "Cropped and saved afd4e489-b89a-472e-9a9a-569a99028027_a_1.jpg and corresponding XML.\n",
      "Cropped and saved afd4e489-b89a-472e-9a9a-569a99028027_a_2.jpg and corresponding XML.\n"
     ]
    },
    {
     "name": "stderr",
     "output_type": "stream",
     "text": [
      " 73%|███████▎  | 207/285 [00:55<00:20,  3.86it/s]"
     ]
    },
    {
     "name": "stdout",
     "output_type": "stream",
     "text": [
      "Cropped and saved afd4e489-b89a-472e-9a9a-569a99028027_a_3.jpg and corresponding XML.\n",
      "Cropped and saved afd4e489-b89a-472e-9a9a-569a99028027_a_4.jpg and corresponding XML.\n",
      "Cropped and saved afd4e489-b89a-472e-9a9a-569a99028027_a_5.jpg and corresponding XML.\n",
      "Cropped and saved afd4e489-b89a-472e-9a9a-569a99028027_a_6.jpg and corresponding XML.\n",
      "Cropped and saved b1166122-f4ce-44bf-b75b-d3786f73923b_a_0.jpg and corresponding XML.\n"
     ]
    },
    {
     "name": "stderr",
     "output_type": "stream",
     "text": [
      " 73%|███████▎  | 208/285 [00:56<00:20,  3.73it/s]"
     ]
    },
    {
     "name": "stdout",
     "output_type": "stream",
     "text": [
      "Cropped and saved b1166122-f4ce-44bf-b75b-d3786f73923b_a_1.jpg and corresponding XML.\n",
      "Cropped and saved b1166122-f4ce-44bf-b75b-d3786f73923b_a_2.jpg and corresponding XML.\n",
      "Cropped and saved b1166122-f4ce-44bf-b75b-d3786f73923b_a_3.jpg and corresponding XML.\n",
      "Cropped and saved b1166122-f4ce-44bf-b75b-d3786f73923b_a_4.jpg and corresponding XML.\n",
      "Cropped and saved b1166122-f4ce-44bf-b75b-d3786f73923b_a_5.jpg and corresponding XML.\n"
     ]
    },
    {
     "name": "stderr",
     "output_type": "stream",
     "text": [
      " 73%|███████▎  | 209/285 [00:56<00:20,  3.74it/s]"
     ]
    },
    {
     "name": "stdout",
     "output_type": "stream",
     "text": [
      "Cropped and saved b125782f-f5f5-4d5f-a6bb-cc4becbe35b7_a_0.jpg and corresponding XML.\n",
      "Cropped and saved b125782f-f5f5-4d5f-a6bb-cc4becbe35b7_a_1.jpg and corresponding XML.\n",
      "Cropped and saved b125782f-f5f5-4d5f-a6bb-cc4becbe35b7_a_2.jpg and corresponding XML.\n",
      "Cropped and saved b125782f-f5f5-4d5f-a6bb-cc4becbe35b7_a_3.jpg and corresponding XML.\n",
      "Cropped and saved b125782f-f5f5-4d5f-a6bb-cc4becbe35b7_a_4.jpg and corresponding XML.\n"
     ]
    },
    {
     "name": "stderr",
     "output_type": "stream",
     "text": [
      " 74%|███████▎  | 210/285 [00:56<00:17,  4.34it/s]"
     ]
    },
    {
     "name": "stdout",
     "output_type": "stream",
     "text": [
      "Cropped and saved b1ec5bc7-9110-461a-9af5-447b1c2f7a8c_a_0.jpg and corresponding XML.\n",
      "Cropped and saved b1ec5bc7-9110-461a-9af5-447b1c2f7a8c_a_1.jpg and corresponding XML.\n",
      "Cropped and saved b1ec5bc7-9110-461a-9af5-447b1c2f7a8c_a_2.jpg and corresponding XML.\n",
      "Cropped and saved b1ec5bc7-9110-461a-9af5-447b1c2f7a8c_a_3.jpg and corresponding XML.\n",
      "Cropped and saved b4f94b2a-8c7d-4fd7-a2af-2b2562cea936_a_0.jpg and corresponding XML.\n",
      "Cropped and saved b4f94b2a-8c7d-4fd7-a2af-2b2562cea936_a_1.jpg and corresponding XML.\n",
      "Cropped and saved b4f94b2a-8c7d-4fd7-a2af-2b2562cea936_a_2.jpg and corresponding XML.\n",
      "Cropped and saved b4f94b2a-8c7d-4fd7-a2af-2b2562cea936_a_3.jpg and corresponding XML.\n",
      "Cropped and saved b4f94b2a-8c7d-4fd7-a2af-2b2562cea936_a_4.jpg and corresponding XML.\n",
      "Cropped and saved b4f94b2a-8c7d-4fd7-a2af-2b2562cea936_a_5.jpg and corresponding XML.\n"
     ]
    },
    {
     "name": "stderr",
     "output_type": "stream",
     "text": [
      " 74%|███████▍  | 211/285 [00:57<00:26,  2.76it/s]"
     ]
    },
    {
     "name": "stdout",
     "output_type": "stream",
     "text": [
      "Cropped and saved b4f94b2a-8c7d-4fd7-a2af-2b2562cea936_a_6.jpg and corresponding XML.\n",
      "Cropped and saved b6200fed-b784-48c2-9d24-86e15153b880_a_0.jpg and corresponding XML.\n",
      "Cropped and saved b6200fed-b784-48c2-9d24-86e15153b880_a_1.jpg and corresponding XML.\n",
      "Cropped and saved b6200fed-b784-48c2-9d24-86e15153b880_a_2.jpg and corresponding XML.\n"
     ]
    },
    {
     "name": "stderr",
     "output_type": "stream",
     "text": [
      " 74%|███████▍  | 212/285 [00:57<00:25,  2.83it/s]"
     ]
    },
    {
     "name": "stdout",
     "output_type": "stream",
     "text": [
      "Cropped and saved b6200fed-b784-48c2-9d24-86e15153b880_a_3.jpg and corresponding XML.\n",
      "Cropped and saved b6200fed-b784-48c2-9d24-86e15153b880_a_4.jpg and corresponding XML.\n",
      "Cropped and saved b6200fed-b784-48c2-9d24-86e15153b880_a_5.jpg and corresponding XML.\n",
      "Cropped and saved b7b66996-c9dc-40e8-b23f-9f7572c28279_a_0.jpg and corresponding XML.\n",
      "Cropped and saved b7b66996-c9dc-40e8-b23f-9f7572c28279_a_1.jpg and corresponding XML.\n",
      "Cropped and saved b7b66996-c9dc-40e8-b23f-9f7572c28279_a_2.jpg and corresponding XML.\n",
      "Cropped and saved b7b66996-c9dc-40e8-b23f-9f7572c28279_a_3.jpg and corresponding XML.\n"
     ]
    },
    {
     "name": "stderr",
     "output_type": "stream",
     "text": [
      " 75%|███████▌  | 215/285 [00:57<00:14,  4.94it/s]"
     ]
    },
    {
     "name": "stdout",
     "output_type": "stream",
     "text": [
      "Cropped and saved b7b66996-c9dc-40e8-b23f-9f7572c28279_a_4.jpg and corresponding XML.\n",
      "Cropped and saved b7b66996-c9dc-40e8-b23f-9f7572c28279_a_5.jpg and corresponding XML.\n",
      "Cropped and saved b80d5692-2705-41ea-8dfd-32f3344845ca_a_0.jpg and corresponding XML.\n",
      "Cropped and saved b80d5692-2705-41ea-8dfd-32f3344845ca_a_1.jpg and corresponding XML.\n",
      "Cropped and saved b84427fb-a52d-47b9-9fd1-3673a6295ec8_a_0.jpg and corresponding XML.\n",
      "Cropped and saved b84427fb-a52d-47b9-9fd1-3673a6295ec8_a_1.jpg and corresponding XML.\n",
      "Cropped and saved b91d59c0-e63b-40e8-9f8a-df4f200c73dd_a_0.jpg and corresponding XML.\n",
      "Cropped and saved b91d59c0-e63b-40e8-9f8a-df4f200c73dd_a_1.jpg and corresponding XML.\n",
      "Cropped and saved b91d59c0-e63b-40e8-9f8a-df4f200c73dd_a_2.jpg and corresponding XML.\n",
      "Cropped and saved b91d59c0-e63b-40e8-9f8a-df4f200c73dd_a_3.jpg and corresponding XML.\n"
     ]
    },
    {
     "name": "stderr",
     "output_type": "stream",
     "text": [
      " 76%|███████▌  | 216/285 [00:58<00:17,  3.85it/s]"
     ]
    },
    {
     "name": "stdout",
     "output_type": "stream",
     "text": [
      "Cropped and saved b91d59c0-e63b-40e8-9f8a-df4f200c73dd_a_4.jpg and corresponding XML.\n",
      "Cropped and saved b91d59c0-e63b-40e8-9f8a-df4f200c73dd_a_5.jpg and corresponding XML.\n",
      "Cropped and saved b91d59c0-e63b-40e8-9f8a-df4f200c73dd_a_6.jpg and corresponding XML.\n"
     ]
    },
    {
     "name": "stderr",
     "output_type": "stream",
     "text": [
      " 76%|███████▌  | 217/285 [00:58<00:15,  4.37it/s]"
     ]
    },
    {
     "name": "stdout",
     "output_type": "stream",
     "text": [
      "Cropped and saved b961762b-f596-48ee-8fb5-0e54adbcaa7e_a_0.jpg and corresponding XML.\n",
      "Cropped and saved b961762b-f596-48ee-8fb5-0e54adbcaa7e_a_1.jpg and corresponding XML.\n",
      "Cropped and saved b961762b-f596-48ee-8fb5-0e54adbcaa7e_a_2.jpg and corresponding XML.\n",
      "Cropped and saved bb6c1944-1829-471d-8afb-c14b8cffe408_a_0.jpg and corresponding XML.\n",
      "Cropped and saved bb6c1944-1829-471d-8afb-c14b8cffe408_a_1.jpg and corresponding XML.\n"
     ]
    },
    {
     "name": "stderr",
     "output_type": "stream",
     "text": [
      " 76%|███████▋  | 218/285 [00:58<00:15,  4.24it/s]"
     ]
    },
    {
     "name": "stdout",
     "output_type": "stream",
     "text": [
      "Cropped and saved bb6c1944-1829-471d-8afb-c14b8cffe408_a_2.jpg and corresponding XML.\n",
      "Cropped and saved bb6c1944-1829-471d-8afb-c14b8cffe408_a_3.jpg and corresponding XML.\n",
      "Cropped and saved bb6c1944-1829-471d-8afb-c14b8cffe408_a_4.jpg and corresponding XML.\n",
      "Cropped and saved bb6c1944-1829-471d-8afb-c14b8cffe408_a_5.jpg and corresponding XML.\n",
      "Cropped and saved bb6c1944-1829-471d-8afb-c14b8cffe408_a_6.jpg and corresponding XML.\n",
      "Cropped and saved bc11d837-2455-40fb-97b9-2d45e9ff2fda_a_0.jpg and corresponding XML.\n"
     ]
    },
    {
     "name": "stderr",
     "output_type": "stream",
     "text": [
      " 77%|███████▋  | 219/285 [00:59<00:15,  4.13it/s]"
     ]
    },
    {
     "name": "stdout",
     "output_type": "stream",
     "text": [
      "Cropped and saved bc11d837-2455-40fb-97b9-2d45e9ff2fda_a_1.jpg and corresponding XML.\n",
      "Cropped and saved bc11d837-2455-40fb-97b9-2d45e9ff2fda_a_2.jpg and corresponding XML.\n",
      "Cropped and saved bc11d837-2455-40fb-97b9-2d45e9ff2fda_a_3.jpg and corresponding XML.\n",
      "Cropped and saved bc11d837-2455-40fb-97b9-2d45e9ff2fda_a_4.jpg and corresponding XML.\n",
      "Cropped and saved bc11d837-2455-40fb-97b9-2d45e9ff2fda_a_5.jpg and corresponding XML.\n",
      "Cropped and saved bc34b338-d55e-4859-9ef8-e7fe02646946_a_0.jpg and corresponding XML.\n",
      "Cropped and saved bc34b338-d55e-4859-9ef8-e7fe02646946_a_1.jpg and corresponding XML.\n",
      "Cropped and saved bc34b338-d55e-4859-9ef8-e7fe02646946_a_2.jpg and corresponding XML.\n",
      "Cropped and saved bc34b338-d55e-4859-9ef8-e7fe02646946_a_3.jpg and corresponding XML.\n",
      "Cropped and saved bc34b338-d55e-4859-9ef8-e7fe02646946_a_4.jpg and corresponding XML.\n",
      "Cropped and saved bc34b338-d55e-4859-9ef8-e7fe02646946_a_5.jpg and corresponding XML.\n",
      "Cropped and saved bc34b338-d55e-4859-9ef8-e7fe02646946_a_6.jpg and corresponding XML.\n"
     ]
    },
    {
     "name": "stderr",
     "output_type": "stream",
     "text": [
      " 77%|███████▋  | 220/285 [00:59<00:17,  3.68it/s]"
     ]
    },
    {
     "name": "stdout",
     "output_type": "stream",
     "text": [
      "Cropped and saved bc34b338-d55e-4859-9ef8-e7fe02646946_a_7.jpg and corresponding XML.\n",
      "Cropped and saved bc799897-0be0-4577-9528-8c52c78c3e16_a_0.jpg and corresponding XML.\n",
      "Cropped and saved bc799897-0be0-4577-9528-8c52c78c3e16_a_1.jpg and corresponding XML.\n",
      "Cropped and saved bc799897-0be0-4577-9528-8c52c78c3e16_a_2.jpg and corresponding XML.\n",
      "Cropped and saved bc799897-0be0-4577-9528-8c52c78c3e16_a_3.jpg and corresponding XML.\n",
      "Cropped and saved bc799897-0be0-4577-9528-8c52c78c3e16_a_4.jpg and corresponding XML.\n"
     ]
    },
    {
     "name": "stderr",
     "output_type": "stream",
     "text": [
      " 78%|███████▊  | 221/285 [00:59<00:18,  3.53it/s]"
     ]
    },
    {
     "name": "stdout",
     "output_type": "stream",
     "text": [
      "Cropped and saved bc799897-0be0-4577-9528-8c52c78c3e16_a_5.jpg and corresponding XML.\n",
      "Cropped and saved bc799897-0be0-4577-9528-8c52c78c3e16_a_6.jpg and corresponding XML.\n",
      "Cropped and saved bca97514-df84-42fe-881d-66cb58304ac0_a_0.jpg and corresponding XML.\n",
      "Cropped and saved bca97514-df84-42fe-881d-66cb58304ac0_a_1.jpg and corresponding XML.\n",
      "Cropped and saved bca97514-df84-42fe-881d-66cb58304ac0_a_2.jpg and corresponding XML.\n",
      "Cropped and saved bca97514-df84-42fe-881d-66cb58304ac0_a_3.jpg and corresponding XML.\n"
     ]
    },
    {
     "name": "stderr",
     "output_type": "stream",
     "text": [
      " 78%|███████▊  | 223/285 [01:00<00:14,  4.18it/s]"
     ]
    },
    {
     "name": "stdout",
     "output_type": "stream",
     "text": [
      "Cropped and saved bd1009da-6b4f-4396-b7bf-6ba634c3aced_a_0.jpg and corresponding XML.\n",
      "Cropped and saved bd1009da-6b4f-4396-b7bf-6ba634c3aced_a_1.jpg and corresponding XML.\n",
      "Cropped and saved bd1009da-6b4f-4396-b7bf-6ba634c3aced_a_2.jpg and corresponding XML.\n",
      "Cropped and saved bd1009da-6b4f-4396-b7bf-6ba634c3aced_a_3.jpg and corresponding XML.\n",
      "Cropped and saved bd1009da-6b4f-4396-b7bf-6ba634c3aced_a_4.jpg and corresponding XML.\n",
      "Cropped and saved bda72d72-6ff1-4ebf-84eb-214e20b420c8_a_0.jpg and corresponding XML.\n"
     ]
    },
    {
     "name": "stderr",
     "output_type": "stream",
     "text": [
      " 79%|███████▊  | 224/285 [01:00<00:15,  4.01it/s]"
     ]
    },
    {
     "name": "stdout",
     "output_type": "stream",
     "text": [
      "Cropped and saved bda72d72-6ff1-4ebf-84eb-214e20b420c8_a_1.jpg and corresponding XML.\n",
      "Cropped and saved bda72d72-6ff1-4ebf-84eb-214e20b420c8_a_2.jpg and corresponding XML.\n",
      "Cropped and saved bda72d72-6ff1-4ebf-84eb-214e20b420c8_a_3.jpg and corresponding XML.\n",
      "Cropped and saved bda72d72-6ff1-4ebf-84eb-214e20b420c8_a_4.jpg and corresponding XML.\n"
     ]
    },
    {
     "name": "stderr",
     "output_type": "stream",
     "text": [
      " 79%|███████▉  | 225/285 [01:00<00:15,  3.97it/s]"
     ]
    },
    {
     "name": "stdout",
     "output_type": "stream",
     "text": [
      "Cropped and saved becbcd9d-30a2-4ff5-b3ec-47159db37690_a_0.jpg and corresponding XML.\n",
      "Cropped and saved becbcd9d-30a2-4ff5-b3ec-47159db37690_a_1.jpg and corresponding XML.\n",
      "Cropped and saved becbcd9d-30a2-4ff5-b3ec-47159db37690_a_2.jpg and corresponding XML.\n",
      "Cropped and saved becbcd9d-30a2-4ff5-b3ec-47159db37690_a_3.jpg and corresponding XML.\n",
      "Cropped and saved becbcd9d-30a2-4ff5-b3ec-47159db37690_a_4.jpg and corresponding XML.\n",
      "Cropped and saved becbcd9d-30a2-4ff5-b3ec-47159db37690_a_5.jpg and corresponding XML.\n"
     ]
    },
    {
     "name": "stderr",
     "output_type": "stream",
     "text": [
      " 79%|███████▉  | 226/285 [01:00<00:13,  4.33it/s]"
     ]
    },
    {
     "name": "stdout",
     "output_type": "stream",
     "text": [
      "Cropped and saved c19c84dc-181f-4f04-87ba-e925c475b1bc_a_0.jpg and corresponding XML.\n",
      "Cropped and saved c19c84dc-181f-4f04-87ba-e925c475b1bc_a_1.jpg and corresponding XML.\n",
      "Cropped and saved c19c84dc-181f-4f04-87ba-e925c475b1bc_a_2.jpg and corresponding XML.\n",
      "Cropped and saved c1f0a9ea-085a-4dd8-ada3-df0cfc316499_a_0.jpg and corresponding XML.\n",
      "Cropped and saved c1f0a9ea-085a-4dd8-ada3-df0cfc316499_a_1.jpg and corresponding XML.\n"
     ]
    },
    {
     "name": "stderr",
     "output_type": "stream",
     "text": [
      " 80%|███████▉  | 227/285 [01:01<00:12,  4.55it/s]"
     ]
    },
    {
     "name": "stdout",
     "output_type": "stream",
     "text": [
      "Cropped and saved c1f0a9ea-085a-4dd8-ada3-df0cfc316499_a_2.jpg and corresponding XML.\n",
      "Cropped and saved c1f0a9ea-085a-4dd8-ada3-df0cfc316499_a_3.jpg and corresponding XML.\n",
      "Cropped and saved c1f0a9ea-085a-4dd8-ada3-df0cfc316499_a_4.jpg and corresponding XML.\n",
      "Cropped and saved c226197e-fd5f-4391-86bc-4a3c96359313_a_0.jpg and corresponding XML.\n",
      "Cropped and saved c226197e-fd5f-4391-86bc-4a3c96359313_a_1.jpg and corresponding XML.\n"
     ]
    },
    {
     "name": "stderr",
     "output_type": "stream",
     "text": [
      " 80%|████████  | 228/285 [01:01<00:13,  4.27it/s]"
     ]
    },
    {
     "name": "stdout",
     "output_type": "stream",
     "text": [
      "Cropped and saved c226197e-fd5f-4391-86bc-4a3c96359313_a_2.jpg and corresponding XML.\n",
      "Cropped and saved c226197e-fd5f-4391-86bc-4a3c96359313_a_3.jpg and corresponding XML.\n",
      "Cropped and saved c226197e-fd5f-4391-86bc-4a3c96359313_a_4.jpg and corresponding XML.\n",
      "Cropped and saved c226197e-fd5f-4391-86bc-4a3c96359313_a_5.jpg and corresponding XML.\n",
      "Cropped and saved c2318462-7ca2-4632-9cbd-f807a1a16023_a_0.jpg and corresponding XML.\n"
     ]
    },
    {
     "name": "stderr",
     "output_type": "stream",
     "text": [
      " 80%|████████  | 229/285 [01:01<00:13,  4.30it/s]"
     ]
    },
    {
     "name": "stdout",
     "output_type": "stream",
     "text": [
      "Cropped and saved c2318462-7ca2-4632-9cbd-f807a1a16023_a_1.jpg and corresponding XML.\n",
      "Cropped and saved c2318462-7ca2-4632-9cbd-f807a1a16023_a_2.jpg and corresponding XML.\n",
      "Cropped and saved c2318462-7ca2-4632-9cbd-f807a1a16023_a_3.jpg and corresponding XML.\n",
      "Cropped and saved c2318462-7ca2-4632-9cbd-f807a1a16023_a_4.jpg and corresponding XML.\n",
      "Cropped and saved c2c1f798-60e6-4824-bea8-591d06208bb2_a_0.jpg and corresponding XML.\n",
      "Cropped and saved c2c1f798-60e6-4824-bea8-591d06208bb2_a_1.jpg and corresponding XML.\n",
      "Cropped and saved c2c1f798-60e6-4824-bea8-591d06208bb2_a_2.jpg and corresponding XML.\n",
      "Cropped and saved c2c1f798-60e6-4824-bea8-591d06208bb2_a_3.jpg and corresponding XML.\n"
     ]
    },
    {
     "name": "stderr",
     "output_type": "stream",
     "text": [
      " 81%|████████  | 230/285 [01:02<00:24,  2.29it/s]"
     ]
    },
    {
     "name": "stdout",
     "output_type": "stream",
     "text": [
      "Cropped and saved c2c1f798-60e6-4824-bea8-591d06208bb2_a_4.jpg and corresponding XML.\n",
      "Cropped and saved c2c1f798-60e6-4824-bea8-591d06208bb2_a_5.jpg and corresponding XML.\n",
      "Cropped and saved c422dc57-f150-4997-80e1-5b7bdfcb761d_a_0.jpg and corresponding XML.\n",
      "Cropped and saved c422dc57-f150-4997-80e1-5b7bdfcb761d_a_1.jpg and corresponding XML.\n"
     ]
    },
    {
     "name": "stderr",
     "output_type": "stream",
     "text": [
      " 81%|████████  | 231/285 [01:02<00:20,  2.66it/s]"
     ]
    },
    {
     "name": "stdout",
     "output_type": "stream",
     "text": [
      "Cropped and saved c422dc57-f150-4997-80e1-5b7bdfcb761d_a_2.jpg and corresponding XML.\n",
      "Cropped and saved c422dc57-f150-4997-80e1-5b7bdfcb761d_a_3.jpg and corresponding XML.\n",
      "Cropped and saved c422dc57-f150-4997-80e1-5b7bdfcb761d_a_4.jpg and corresponding XML.\n",
      "Cropped and saved c422dc57-f150-4997-80e1-5b7bdfcb761d_a_5.jpg and corresponding XML.\n",
      "Cropped and saved c4afb594-eb69-4025-894d-45dd4e1656b9_a_0.jpg and corresponding XML.\n",
      "Cropped and saved c4afb594-eb69-4025-894d-45dd4e1656b9_a_1.jpg and corresponding XML.\n",
      "Cropped and saved c4b84e9e-cf69-46f9-a6c6-889d12ffc9a6_a_0.jpg and corresponding XML.\n"
     ]
    },
    {
     "name": "stderr",
     "output_type": "stream",
     "text": [
      " 82%|████████▏ | 234/285 [01:02<00:11,  4.46it/s]"
     ]
    },
    {
     "name": "stdout",
     "output_type": "stream",
     "text": [
      "Cropped and saved c4b84e9e-cf69-46f9-a6c6-889d12ffc9a6_a_1.jpg and corresponding XML.\n",
      "Cropped and saved c4ea3ddc-db75-4e25-a487-a7dc3b6c482b_a_0.jpg and corresponding XML.\n",
      "Cropped and saved c4ea3ddc-db75-4e25-a487-a7dc3b6c482b_a_1.jpg and corresponding XML.\n",
      "Cropped and saved c4ea3ddc-db75-4e25-a487-a7dc3b6c482b_a_2.jpg and corresponding XML.\n",
      "Cropped and saved c4ea3ddc-db75-4e25-a487-a7dc3b6c482b_a_3.jpg and corresponding XML.\n",
      "Cropped and saved c689ce3a-fc02-4570-ae07-95780b69702b_a_0.jpg and corresponding XML.\n",
      "Cropped and saved c689ce3a-fc02-4570-ae07-95780b69702b_a_1.jpg and corresponding XML.\n",
      "Cropped and saved c689ce3a-fc02-4570-ae07-95780b69702b_a_2.jpg and corresponding XML.\n",
      "Cropped and saved c689ce3a-fc02-4570-ae07-95780b69702b_a_3.jpg and corresponding XML.\n",
      "Cropped and saved c689ce3a-fc02-4570-ae07-95780b69702b_a_4.jpg and corresponding XML.\n"
     ]
    },
    {
     "name": "stderr",
     "output_type": "stream",
     "text": [
      " 82%|████████▏ | 235/285 [01:03<00:14,  3.47it/s]"
     ]
    },
    {
     "name": "stdout",
     "output_type": "stream",
     "text": [
      "Cropped and saved c689ce3a-fc02-4570-ae07-95780b69702b_a_5.jpg and corresponding XML.\n",
      "Cropped and saved c689ce3a-fc02-4570-ae07-95780b69702b_a_6.jpg and corresponding XML.\n",
      "Cropped and saved c689ce3a-fc02-4570-ae07-95780b69702b_a_7.jpg and corresponding XML.\n",
      "Cropped and saved c689ce3a-fc02-4570-ae07-95780b69702b_a_8.jpg and corresponding XML.\n",
      "Cropped and saved c689ce3a-fc02-4570-ae07-95780b69702b_a_9.jpg and corresponding XML.\n",
      "Cropped and saved c706840a-e33d-4993-93ea-2111b951508e_a_0.jpg and corresponding XML.\n",
      "Cropped and saved c706840a-e33d-4993-93ea-2111b951508e_a_1.jpg and corresponding XML.\n",
      "Cropped and saved c85f6ffe-d832-4f30-9882-02fca3dfe98f_a_0.jpg and corresponding XML.\n",
      "Cropped and saved c85f6ffe-d832-4f30-9882-02fca3dfe98f_a_1.jpg and corresponding XML.\n"
     ]
    },
    {
     "name": "stderr",
     "output_type": "stream",
     "text": [
      " 83%|████████▎ | 237/285 [01:03<00:10,  4.42it/s]"
     ]
    },
    {
     "name": "stdout",
     "output_type": "stream",
     "text": [
      "Cropped and saved c85f6ffe-d832-4f30-9882-02fca3dfe98f_a_2.jpg and corresponding XML.\n",
      "Cropped and saved c85f6ffe-d832-4f30-9882-02fca3dfe98f_a_3.jpg and corresponding XML.\n",
      "Cropped and saved cb072998-d494-4675-8644-b2f9a4c942fb_a_0.jpg and corresponding XML.\n",
      "Cropped and saved cb072998-d494-4675-8644-b2f9a4c942fb_a_1.jpg and corresponding XML.\n",
      "Cropped and saved cb072998-d494-4675-8644-b2f9a4c942fb_a_2.jpg and corresponding XML.\n",
      "Cropped and saved cb072998-d494-4675-8644-b2f9a4c942fb_a_3.jpg and corresponding XML.\n",
      "Cropped and saved cb072998-d494-4675-8644-b2f9a4c942fb_a_4.jpg and corresponding XML.\n"
     ]
    },
    {
     "name": "stderr",
     "output_type": "stream",
     "text": [
      " 84%|████████▎ | 238/285 [01:04<00:12,  3.63it/s]"
     ]
    },
    {
     "name": "stdout",
     "output_type": "stream",
     "text": [
      "Cropped and saved cb072998-d494-4675-8644-b2f9a4c942fb_a_5.jpg and corresponding XML.\n",
      "Cropped and saved cb072998-d494-4675-8644-b2f9a4c942fb_a_6.jpg and corresponding XML.\n",
      "Cropped and saved cb072998-d494-4675-8644-b2f9a4c942fb_a_7.jpg and corresponding XML.\n",
      "Cropped and saved cb072998-d494-4675-8644-b2f9a4c942fb_a_8.jpg and corresponding XML.\n",
      "Cropped and saved cb072998-d494-4675-8644-b2f9a4c942fb_a_9.jpg and corresponding XML.\n",
      "Cropped and saved cb072998-d494-4675-8644-b2f9a4c942fb_a_10.jpg and corresponding XML.\n"
     ]
    },
    {
     "name": "stderr",
     "output_type": "stream",
     "text": [
      " 84%|████████▍ | 239/285 [01:04<00:12,  3.82it/s]"
     ]
    },
    {
     "name": "stdout",
     "output_type": "stream",
     "text": [
      "Cropped and saved cb7fb9fd-6607-48b6-8f40-f1c8035c567f_a_0.jpg and corresponding XML.\n",
      "Cropped and saved cb7fb9fd-6607-48b6-8f40-f1c8035c567f_a_1.jpg and corresponding XML.\n",
      "Cropped and saved cb7fb9fd-6607-48b6-8f40-f1c8035c567f_a_2.jpg and corresponding XML.\n",
      "Cropped and saved cb7fb9fd-6607-48b6-8f40-f1c8035c567f_a_3.jpg and corresponding XML.\n",
      "Cropped and saved cb7fb9fd-6607-48b6-8f40-f1c8035c567f_a_4.jpg and corresponding XML.\n"
     ]
    },
    {
     "name": "stderr",
     "output_type": "stream",
     "text": [
      " 84%|████████▍ | 240/285 [01:04<00:11,  4.03it/s]"
     ]
    },
    {
     "name": "stdout",
     "output_type": "stream",
     "text": [
      "Cropped and saved cd0f4ed2-8b8d-4531-81e8-4dd54a768a17_a_0.jpg and corresponding XML.\n",
      "Cropped and saved cd0f4ed2-8b8d-4531-81e8-4dd54a768a17_a_1.jpg and corresponding XML.\n",
      "Cropped and saved cd0f4ed2-8b8d-4531-81e8-4dd54a768a17_a_2.jpg and corresponding XML.\n",
      "Cropped and saved cd0f4ed2-8b8d-4531-81e8-4dd54a768a17_a_3.jpg and corresponding XML.\n"
     ]
    },
    {
     "name": "stderr",
     "output_type": "stream",
     "text": [
      " 85%|████████▍ | 241/285 [01:04<00:11,  3.93it/s]"
     ]
    },
    {
     "name": "stdout",
     "output_type": "stream",
     "text": [
      "Cropped and saved cd78a4fe-e264-45a7-86a1-66216eb29019_a_0.jpg and corresponding XML.\n",
      "Cropped and saved cd78a4fe-e264-45a7-86a1-66216eb29019_a_1.jpg and corresponding XML.\n",
      "Cropped and saved cd78a4fe-e264-45a7-86a1-66216eb29019_a_2.jpg and corresponding XML.\n",
      "Cropped and saved cd78a4fe-e264-45a7-86a1-66216eb29019_a_3.jpg and corresponding XML.\n"
     ]
    },
    {
     "name": "stderr",
     "output_type": "stream",
     "text": [
      " 85%|████████▍ | 242/285 [01:05<00:10,  4.12it/s]"
     ]
    },
    {
     "name": "stdout",
     "output_type": "stream",
     "text": [
      "Cropped and saved ce73c03a-43c4-466a-b603-e34d5659637c_a_0.jpg and corresponding XML.\n",
      "Cropped and saved ce73c03a-43c4-466a-b603-e34d5659637c_a_1.jpg and corresponding XML.\n",
      "Cropped and saved ce73c03a-43c4-466a-b603-e34d5659637c_a_2.jpg and corresponding XML.\n",
      "Cropped and saved ce73c03a-43c4-466a-b603-e34d5659637c_a_3.jpg and corresponding XML.\n",
      "Cropped and saved cf6dabc2-237a-4d64-be4f-ae243cebbf4f_a_0.jpg and corresponding XML.\n",
      "Cropped and saved cf6dabc2-237a-4d64-be4f-ae243cebbf4f_a_1.jpg and corresponding XML.\n",
      "Cropped and saved cf6dabc2-237a-4d64-be4f-ae243cebbf4f_a_2.jpg and corresponding XML.\n",
      "Cropped and saved cf6dabc2-237a-4d64-be4f-ae243cebbf4f_a_3.jpg and corresponding XML.\n",
      "Cropped and saved cf6dabc2-237a-4d64-be4f-ae243cebbf4f_a_4.jpg and corresponding XML.\n",
      "Cropped and saved cf6dabc2-237a-4d64-be4f-ae243cebbf4f_a_5.jpg and corresponding XML.\n",
      "Cropped and saved cf6dabc2-237a-4d64-be4f-ae243cebbf4f_a_6.jpg and corresponding XML.\n",
      "Cropped and saved cf6dabc2-237a-4d64-be4f-ae243cebbf4f_a_7.jpg and corresponding XML.\n"
     ]
    },
    {
     "name": "stderr",
     "output_type": "stream",
     "text": [
      " 86%|████████▌ | 244/285 [01:05<00:09,  4.38it/s]"
     ]
    },
    {
     "name": "stdout",
     "output_type": "stream",
     "text": [
      "Cropped and saved cf6dabc2-237a-4d64-be4f-ae243cebbf4f_a_8.jpg and corresponding XML.\n",
      "Cropped and saved cf6dabc2-237a-4d64-be4f-ae243cebbf4f_a_9.jpg and corresponding XML.\n",
      "Cropped and saved cfe0cb8f-d611-4275-acdd-5dbfcfee07ad_a_0.jpg and corresponding XML.\n",
      "Cropped and saved cfe0cb8f-d611-4275-acdd-5dbfcfee07ad_a_1.jpg and corresponding XML.\n"
     ]
    },
    {
     "name": "stderr",
     "output_type": "stream",
     "text": [
      " 86%|████████▌ | 245/285 [01:05<00:09,  4.15it/s]"
     ]
    },
    {
     "name": "stdout",
     "output_type": "stream",
     "text": [
      "Cropped and saved d05bda8e-7763-480d-8880-40261fedeb06_a_0.jpg and corresponding XML.\n",
      "Cropped and saved d05bda8e-7763-480d-8880-40261fedeb06_a_1.jpg and corresponding XML.\n",
      "Cropped and saved d05bda8e-7763-480d-8880-40261fedeb06_a_2.jpg and corresponding XML.\n",
      "Cropped and saved d05bda8e-7763-480d-8880-40261fedeb06_a_3.jpg and corresponding XML.\n",
      "Cropped and saved d05bda8e-7763-480d-8880-40261fedeb06_a_4.jpg and corresponding XML.\n",
      "Cropped and saved d05bda8e-7763-480d-8880-40261fedeb06_a_5.jpg and corresponding XML.\n"
     ]
    },
    {
     "name": "stderr",
     "output_type": "stream",
     "text": [
      " 86%|████████▋ | 246/285 [01:06<00:09,  4.09it/s]"
     ]
    },
    {
     "name": "stdout",
     "output_type": "stream",
     "text": [
      "Cropped and saved d09f1790-4dbf-4b42-9305-9020776d5cdc_a_0.jpg and corresponding XML.\n",
      "Cropped and saved d09f1790-4dbf-4b42-9305-9020776d5cdc_a_1.jpg and corresponding XML.\n",
      "Cropped and saved d09f1790-4dbf-4b42-9305-9020776d5cdc_a_2.jpg and corresponding XML.\n",
      "Cropped and saved d09f1790-4dbf-4b42-9305-9020776d5cdc_a_3.jpg and corresponding XML.\n",
      "Cropped and saved d09f1790-4dbf-4b42-9305-9020776d5cdc_a_4.jpg and corresponding XML.\n",
      "Cropped and saved d3f7eea8-fa67-430c-a6f3-42d6ce68ff93_a_0.jpg and corresponding XML.\n",
      "Cropped and saved d3f7eea8-fa67-430c-a6f3-42d6ce68ff93_a_1.jpg and corresponding XML.\n",
      "Cropped and saved d3f7eea8-fa67-430c-a6f3-42d6ce68ff93_a_2.jpg and corresponding XML.\n",
      "Cropped and saved d3f7eea8-fa67-430c-a6f3-42d6ce68ff93_a_3.jpg and corresponding XML.\n"
     ]
    },
    {
     "name": "stderr",
     "output_type": "stream",
     "text": [
      " 87%|████████▋ | 247/285 [01:06<00:10,  3.67it/s]"
     ]
    },
    {
     "name": "stdout",
     "output_type": "stream",
     "text": [
      "Cropped and saved d3f7eea8-fa67-430c-a6f3-42d6ce68ff93_a_4.jpg and corresponding XML.\n",
      "Cropped and saved d3f7eea8-fa67-430c-a6f3-42d6ce68ff93_a_5.jpg and corresponding XML.\n",
      "Cropped and saved d5176b04-9fda-4ed9-a5bb-26350d63e287_a_0.jpg and corresponding XML.\n",
      "Cropped and saved d5176b04-9fda-4ed9-a5bb-26350d63e287_a_1.jpg and corresponding XML.\n"
     ]
    },
    {
     "name": "stderr",
     "output_type": "stream",
     "text": [
      " 87%|████████▋ | 248/285 [01:06<00:09,  3.77it/s]"
     ]
    },
    {
     "name": "stdout",
     "output_type": "stream",
     "text": [
      "Cropped and saved d5176b04-9fda-4ed9-a5bb-26350d63e287_a_2.jpg and corresponding XML.\n",
      "Cropped and saved d5176b04-9fda-4ed9-a5bb-26350d63e287_a_3.jpg and corresponding XML.\n",
      "Cropped and saved d9df6c13-fb66-4892-b01b-b529b9c90d04_a_0.jpg and corresponding XML.\n",
      "Cropped and saved d9df6c13-fb66-4892-b01b-b529b9c90d04_a_1.jpg and corresponding XML.\n",
      "Cropped and saved d9df6c13-fb66-4892-b01b-b529b9c90d04_a_2.jpg and corresponding XML.\n",
      "Cropped and saved d9df6c13-fb66-4892-b01b-b529b9c90d04_a_3.jpg and corresponding XML.\n",
      "Cropped and saved d9df6c13-fb66-4892-b01b-b529b9c90d04_a_4.jpg and corresponding XML.\n",
      "Cropped and saved d9df6c13-fb66-4892-b01b-b529b9c90d04_a_5.jpg and corresponding XML.\n",
      "Cropped and saved d9df6c13-fb66-4892-b01b-b529b9c90d04_a_6.jpg and corresponding XML.\n"
     ]
    },
    {
     "name": "stderr",
     "output_type": "stream",
     "text": [
      " 87%|████████▋ | 249/285 [01:07<00:20,  1.73it/s]"
     ]
    },
    {
     "name": "stdout",
     "output_type": "stream",
     "text": [
      "Cropped and saved d9df6c13-fb66-4892-b01b-b529b9c90d04_a_7.jpg and corresponding XML.\n",
      "Cropped and saved d9df6c13-fb66-4892-b01b-b529b9c90d04_a_8.jpg and corresponding XML.\n",
      "Cropped and saved d9df6c13-fb66-4892-b01b-b529b9c90d04_a_9.jpg and corresponding XML.\n",
      "Cropped and saved d9f97dd2-23d0-4397-ab45-40beb2cfb373_a_0.jpg and corresponding XML.\n",
      "Cropped and saved d9f97dd2-23d0-4397-ab45-40beb2cfb373_a_1.jpg and corresponding XML.\n"
     ]
    },
    {
     "name": "stderr",
     "output_type": "stream",
     "text": [
      " 88%|████████▊ | 250/285 [01:08<00:16,  2.11it/s]"
     ]
    },
    {
     "name": "stdout",
     "output_type": "stream",
     "text": [
      "Cropped and saved d9f97dd2-23d0-4397-ab45-40beb2cfb373_a_2.jpg and corresponding XML.\n",
      "Cropped and saved d9f97dd2-23d0-4397-ab45-40beb2cfb373_a_3.jpg and corresponding XML.\n",
      "Cropped and saved d9f97dd2-23d0-4397-ab45-40beb2cfb373_a_4.jpg and corresponding XML.\n",
      "Cropped and saved d9f97dd2-23d0-4397-ab45-40beb2cfb373_a_5.jpg and corresponding XML.\n",
      "Cropped and saved da2f4590-cbef-43d5-89d9-4bed8270ce9c_a_0.jpg and corresponding XML.\n"
     ]
    },
    {
     "name": "stderr",
     "output_type": "stream",
     "text": [
      " 88%|████████▊ | 251/285 [01:08<00:14,  2.28it/s]"
     ]
    },
    {
     "name": "stdout",
     "output_type": "stream",
     "text": [
      "Cropped and saved da2f4590-cbef-43d5-89d9-4bed8270ce9c_a_1.jpg and corresponding XML.\n",
      "Cropped and saved da2f4590-cbef-43d5-89d9-4bed8270ce9c_a_2.jpg and corresponding XML.\n",
      "Cropped and saved da2f4590-cbef-43d5-89d9-4bed8270ce9c_a_3.jpg and corresponding XML.\n",
      "Cropped and saved da2f4590-cbef-43d5-89d9-4bed8270ce9c_a_4.jpg and corresponding XML.\n",
      "Cropped and saved da2f4590-cbef-43d5-89d9-4bed8270ce9c_a_5.jpg and corresponding XML.\n",
      "Cropped and saved da6e3373-d421-4c76-a04b-a9a94b74021b_a_0.jpg and corresponding XML.\n"
     ]
    },
    {
     "name": "stderr",
     "output_type": "stream",
     "text": [
      " 88%|████████▊ | 252/285 [01:08<00:12,  2.65it/s]"
     ]
    },
    {
     "name": "stdout",
     "output_type": "stream",
     "text": [
      "Cropped and saved da6e3373-d421-4c76-a04b-a9a94b74021b_a_1.jpg and corresponding XML.\n",
      "Cropped and saved da6e3373-d421-4c76-a04b-a9a94b74021b_a_2.jpg and corresponding XML.\n",
      "Cropped and saved da6e3373-d421-4c76-a04b-a9a94b74021b_a_3.jpg and corresponding XML.\n",
      "Cropped and saved da6e3373-d421-4c76-a04b-a9a94b74021b_a_4.jpg and corresponding XML.\n",
      "Cropped and saved db4650a8-2035-4d4f-ab16-34bbd945e356_a_0.jpg and corresponding XML.\n"
     ]
    },
    {
     "name": "stderr",
     "output_type": "stream",
     "text": [
      " 89%|████████▉ | 253/285 [01:09<00:10,  3.04it/s]"
     ]
    },
    {
     "name": "stdout",
     "output_type": "stream",
     "text": [
      "Cropped and saved db4650a8-2035-4d4f-ab16-34bbd945e356_a_1.jpg and corresponding XML.\n",
      "Cropped and saved db4650a8-2035-4d4f-ab16-34bbd945e356_a_2.jpg and corresponding XML.\n",
      "Cropped and saved db4650a8-2035-4d4f-ab16-34bbd945e356_a_3.jpg and corresponding XML.\n",
      "Cropped and saved db4650a8-2035-4d4f-ab16-34bbd945e356_a_4.jpg and corresponding XML.\n",
      "Cropped and saved db7ae20b-a85c-400d-ad8b-7dbe220e724f_a_0.jpg and corresponding XML.\n",
      "Cropped and saved db7ae20b-a85c-400d-ad8b-7dbe220e724f_a_1.jpg and corresponding XML.\n"
     ]
    },
    {
     "name": "stderr",
     "output_type": "stream",
     "text": [
      " 89%|████████▉ | 254/285 [01:09<00:09,  3.22it/s]"
     ]
    },
    {
     "name": "stdout",
     "output_type": "stream",
     "text": [
      "Cropped and saved db7ae20b-a85c-400d-ad8b-7dbe220e724f_a_2.jpg and corresponding XML.\n",
      "Cropped and saved db7ae20b-a85c-400d-ad8b-7dbe220e724f_a_3.jpg and corresponding XML.\n",
      "Cropped and saved db7ae20b-a85c-400d-ad8b-7dbe220e724f_a_4.jpg and corresponding XML.\n",
      "Cropped and saved db7ae20b-a85c-400d-ad8b-7dbe220e724f_a_5.jpg and corresponding XML.\n",
      "Cropped and saved db7ae20b-a85c-400d-ad8b-7dbe220e724f_a_6.jpg and corresponding XML.\n",
      "Cropped and saved dc942a9e-0744-4d84-8a33-42ac8c4f10fe_a_0.jpg and corresponding XML.\n"
     ]
    },
    {
     "name": "stderr",
     "output_type": "stream",
     "text": [
      " 89%|████████▉ | 255/285 [01:09<00:08,  3.68it/s]"
     ]
    },
    {
     "name": "stdout",
     "output_type": "stream",
     "text": [
      "Cropped and saved dc942a9e-0744-4d84-8a33-42ac8c4f10fe_a_1.jpg and corresponding XML.\n",
      "Cropped and saved dc942a9e-0744-4d84-8a33-42ac8c4f10fe_a_2.jpg and corresponding XML.\n",
      "Cropped and saved dc942a9e-0744-4d84-8a33-42ac8c4f10fe_a_3.jpg and corresponding XML.\n",
      "Cropped and saved dd569cab-b25f-4b0a-9798-29e4f16908dd_a_0.jpg and corresponding XML.\n"
     ]
    },
    {
     "name": "stderr",
     "output_type": "stream",
     "text": [
      " 90%|████████▉ | 256/285 [01:09<00:07,  3.87it/s]"
     ]
    },
    {
     "name": "stdout",
     "output_type": "stream",
     "text": [
      "Cropped and saved dd569cab-b25f-4b0a-9798-29e4f16908dd_a_1.jpg and corresponding XML.\n",
      "Cropped and saved dd569cab-b25f-4b0a-9798-29e4f16908dd_a_2.jpg and corresponding XML.\n",
      "Cropped and saved dd569cab-b25f-4b0a-9798-29e4f16908dd_a_3.jpg and corresponding XML.\n",
      "Cropped and saved dd569cab-b25f-4b0a-9798-29e4f16908dd_a_4.jpg and corresponding XML.\n",
      "Cropped and saved df00a036-b39b-4b3c-9a56-82062a5b5c7f_a_0.jpg and corresponding XML.\n"
     ]
    },
    {
     "name": "stderr",
     "output_type": "stream",
     "text": [
      " 90%|█████████ | 257/285 [01:09<00:06,  4.38it/s]"
     ]
    },
    {
     "name": "stdout",
     "output_type": "stream",
     "text": [
      "Cropped and saved df00a036-b39b-4b3c-9a56-82062a5b5c7f_a_1.jpg and corresponding XML.\n",
      "Cropped and saved df00a036-b39b-4b3c-9a56-82062a5b5c7f_a_2.jpg and corresponding XML.\n",
      "Cropped and saved e145c2d7-b2cb-40c6-8b8d-cea12c8f563a_a_0.jpg and corresponding XML.\n",
      "Cropped and saved e145c2d7-b2cb-40c6-8b8d-cea12c8f563a_a_1.jpg and corresponding XML.\n",
      "Cropped and saved e145c2d7-b2cb-40c6-8b8d-cea12c8f563a_a_2.jpg and corresponding XML.\n",
      "Cropped and saved e145c2d7-b2cb-40c6-8b8d-cea12c8f563a_a_3.jpg and corresponding XML.\n"
     ]
    },
    {
     "name": "stderr",
     "output_type": "stream",
     "text": [
      " 91%|█████████ | 259/285 [01:10<00:05,  4.73it/s]"
     ]
    },
    {
     "name": "stdout",
     "output_type": "stream",
     "text": [
      "Cropped and saved e145c2d7-b2cb-40c6-8b8d-cea12c8f563a_a_4.jpg and corresponding XML.\n",
      "Cropped and saved e145c2d7-b2cb-40c6-8b8d-cea12c8f563a_a_5.jpg and corresponding XML.\n",
      "Cropped and saved e24c4cd9-e1d9-4577-93d9-952872802894_a_0.jpg and corresponding XML.\n",
      "Cropped and saved e24c4cd9-e1d9-4577-93d9-952872802894_a_1.jpg and corresponding XML.\n",
      "Cropped and saved e24c4cd9-e1d9-4577-93d9-952872802894_a_2.jpg and corresponding XML.\n"
     ]
    },
    {
     "name": "stderr",
     "output_type": "stream",
     "text": [
      " 91%|█████████ | 260/285 [01:10<00:05,  4.63it/s]"
     ]
    },
    {
     "name": "stdout",
     "output_type": "stream",
     "text": [
      "Cropped and saved e3cd5485-de94-43d9-864b-7b40e398db03_a_0.jpg and corresponding XML.\n",
      "Cropped and saved e3cd5485-de94-43d9-864b-7b40e398db03_a_1.jpg and corresponding XML.\n",
      "Cropped and saved e3cd5485-de94-43d9-864b-7b40e398db03_a_2.jpg and corresponding XML.\n",
      "Cropped and saved e3cd5485-de94-43d9-864b-7b40e398db03_a_3.jpg and corresponding XML.\n",
      "Cropped and saved e47a36ca-5ac2-4b2c-ab6c-6765e8129f09_a_0.jpg and corresponding XML.\n"
     ]
    },
    {
     "name": "stderr",
     "output_type": "stream",
     "text": [
      " 92%|█████████▏| 261/285 [01:10<00:05,  4.37it/s]"
     ]
    },
    {
     "name": "stdout",
     "output_type": "stream",
     "text": [
      "Cropped and saved e47a36ca-5ac2-4b2c-ab6c-6765e8129f09_a_1.jpg and corresponding XML.\n",
      "Cropped and saved e47a36ca-5ac2-4b2c-ab6c-6765e8129f09_a_2.jpg and corresponding XML.\n",
      "Cropped and saved e47a36ca-5ac2-4b2c-ab6c-6765e8129f09_a_3.jpg and corresponding XML.\n",
      "Cropped and saved e47a36ca-5ac2-4b2c-ab6c-6765e8129f09_a_4.jpg and corresponding XML.\n",
      "Cropped and saved e47a36ca-5ac2-4b2c-ab6c-6765e8129f09_a_5.jpg and corresponding XML.\n",
      "Cropped and saved e49d675d-e7c9-426d-8506-4e6fa0b6c183_a_0.jpg and corresponding XML.\n"
     ]
    },
    {
     "name": "stderr",
     "output_type": "stream",
     "text": [
      " 92%|█████████▏| 262/285 [01:10<00:04,  5.16it/s]"
     ]
    },
    {
     "name": "stdout",
     "output_type": "stream",
     "text": [
      "Cropped and saved e49d675d-e7c9-426d-8506-4e6fa0b6c183_a_1.jpg and corresponding XML.\n",
      "Cropped and saved e708e9ca-f5cc-463b-8924-365b93fb9fcd_a_0.jpg and corresponding XML.\n",
      "Cropped and saved e708e9ca-f5cc-463b-8924-365b93fb9fcd_a_1.jpg and corresponding XML.\n",
      "Cropped and saved e708e9ca-f5cc-463b-8924-365b93fb9fcd_a_2.jpg and corresponding XML.\n",
      "Cropped and saved e708e9ca-f5cc-463b-8924-365b93fb9fcd_a_3.jpg and corresponding XML.\n",
      "Cropped and saved e708e9ca-f5cc-463b-8924-365b93fb9fcd_a_4.jpg and corresponding XML.\n",
      "Cropped and saved e708e9ca-f5cc-463b-8924-365b93fb9fcd_a_5.jpg and corresponding XML.\n",
      "Cropped and saved e708e9ca-f5cc-463b-8924-365b93fb9fcd_a_6.jpg and corresponding XML.\n",
      "Cropped and saved e708e9ca-f5cc-463b-8924-365b93fb9fcd_a_7.jpg and corresponding XML.\n",
      "Cropped and saved e708e9ca-f5cc-463b-8924-365b93fb9fcd_a_8.jpg and corresponding XML.\n"
     ]
    },
    {
     "name": "stderr",
     "output_type": "stream",
     "text": [
      " 93%|█████████▎| 264/285 [01:11<00:05,  4.05it/s]"
     ]
    },
    {
     "name": "stdout",
     "output_type": "stream",
     "text": [
      "Cropped and saved e708e9ca-f5cc-463b-8924-365b93fb9fcd_a_9.jpg and corresponding XML.\n",
      "Cropped and saved e8de8caf-30b5-4ac1-9f1b-1e609f0e6784_a_0.jpg and corresponding XML.\n",
      "Cropped and saved e8de8caf-30b5-4ac1-9f1b-1e609f0e6784_a_1.jpg and corresponding XML.\n",
      "Cropped and saved e9968cb7-4edf-45ae-9465-fd5b379e4099_a_0.jpg and corresponding XML.\n"
     ]
    },
    {
     "name": "stderr",
     "output_type": "stream",
     "text": [
      " 93%|█████████▎| 265/285 [01:11<00:05,  3.91it/s]"
     ]
    },
    {
     "name": "stdout",
     "output_type": "stream",
     "text": [
      "Cropped and saved e9968cb7-4edf-45ae-9465-fd5b379e4099_a_1.jpg and corresponding XML.\n",
      "Cropped and saved e9968cb7-4edf-45ae-9465-fd5b379e4099_a_2.jpg and corresponding XML.\n",
      "Cropped and saved e9968cb7-4edf-45ae-9465-fd5b379e4099_a_3.jpg and corresponding XML.\n",
      "Cropped and saved e9968cb7-4edf-45ae-9465-fd5b379e4099_a_4.jpg and corresponding XML.\n",
      "Cropped and saved e9968cb7-4edf-45ae-9465-fd5b379e4099_a_5.jpg and corresponding XML.\n",
      "Cropped and saved e9968cb7-4edf-45ae-9465-fd5b379e4099_a_6.jpg and corresponding XML.\n"
     ]
    },
    {
     "name": "stderr",
     "output_type": "stream",
     "text": [
      " 93%|█████████▎| 266/285 [01:12<00:05,  3.72it/s]"
     ]
    },
    {
     "name": "stdout",
     "output_type": "stream",
     "text": [
      "Cropped and saved e9d40eb5-e0fb-498a-9f8d-9df955139113_a_0.jpg and corresponding XML.\n",
      "Cropped and saved e9d40eb5-e0fb-498a-9f8d-9df955139113_a_1.jpg and corresponding XML.\n",
      "Cropped and saved e9d40eb5-e0fb-498a-9f8d-9df955139113_a_2.jpg and corresponding XML.\n",
      "Cropped and saved e9d40eb5-e0fb-498a-9f8d-9df955139113_a_3.jpg and corresponding XML.\n",
      "Cropped and saved e9d40eb5-e0fb-498a-9f8d-9df955139113_a_4.jpg and corresponding XML.\n",
      "Cropped and saved e9d40eb5-e0fb-498a-9f8d-9df955139113_a_5.jpg and corresponding XML.\n"
     ]
    },
    {
     "name": "stderr",
     "output_type": "stream",
     "text": [
      " 94%|█████████▎| 267/285 [01:12<00:04,  3.83it/s]"
     ]
    },
    {
     "name": "stdout",
     "output_type": "stream",
     "text": [
      "Cropped and saved ea75128b-ed99-4ed0-873d-8d4f99057eba_a_0.jpg and corresponding XML.\n",
      "Cropped and saved ea75128b-ed99-4ed0-873d-8d4f99057eba_a_1.jpg and corresponding XML.\n",
      "Cropped and saved ea75128b-ed99-4ed0-873d-8d4f99057eba_a_2.jpg and corresponding XML.\n",
      "Cropped and saved ea75128b-ed99-4ed0-873d-8d4f99057eba_a_3.jpg and corresponding XML.\n",
      "Cropped and saved ea75128b-ed99-4ed0-873d-8d4f99057eba_a_4.jpg and corresponding XML.\n",
      "Cropped and saved ea75128b-ed99-4ed0-873d-8d4f99057eba_a_5.jpg and corresponding XML.\n",
      "Cropped and saved eb37c91f-bd2e-405b-85a8-8bce9c11bbf5_a_0.jpg and corresponding XML.\n"
     ]
    },
    {
     "name": "stderr",
     "output_type": "stream",
     "text": [
      " 94%|█████████▍| 268/285 [01:12<00:04,  3.82it/s]"
     ]
    },
    {
     "name": "stdout",
     "output_type": "stream",
     "text": [
      "Cropped and saved eb37c91f-bd2e-405b-85a8-8bce9c11bbf5_a_1.jpg and corresponding XML.\n",
      "Cropped and saved eb37c91f-bd2e-405b-85a8-8bce9c11bbf5_a_2.jpg and corresponding XML.\n",
      "Cropped and saved eb37c91f-bd2e-405b-85a8-8bce9c11bbf5_a_3.jpg and corresponding XML.\n",
      "Cropped and saved ed021d03-3074-4353-8f91-f82e292ce639_a_0.jpg and corresponding XML.\n",
      "Cropped and saved ed021d03-3074-4353-8f91-f82e292ce639_a_1.jpg and corresponding XML.\n",
      "Cropped and saved ed021d03-3074-4353-8f91-f82e292ce639_a_2.jpg and corresponding XML.\n",
      "Cropped and saved ed021d03-3074-4353-8f91-f82e292ce639_a_3.jpg and corresponding XML.\n",
      "Cropped and saved ed021d03-3074-4353-8f91-f82e292ce639_a_4.jpg and corresponding XML.\n",
      "Cropped and saved ed021d03-3074-4353-8f91-f82e292ce639_a_5.jpg and corresponding XML.\n"
     ]
    },
    {
     "name": "stderr",
     "output_type": "stream",
     "text": [
      " 94%|█████████▍| 269/285 [01:13<00:05,  3.17it/s]"
     ]
    },
    {
     "name": "stdout",
     "output_type": "stream",
     "text": [
      "Cropped and saved ed021d03-3074-4353-8f91-f82e292ce639_a_6.jpg and corresponding XML.\n",
      "Cropped and saved ed021d03-3074-4353-8f91-f82e292ce639_a_7.jpg and corresponding XML.\n",
      "Cropped and saved ed021d03-3074-4353-8f91-f82e292ce639_a_8.jpg and corresponding XML.\n",
      "Cropped and saved ed021d03-3074-4353-8f91-f82e292ce639_a_9.jpg and corresponding XML.\n",
      "Cropped and saved ed021d03-3074-4353-8f91-f82e292ce639_a_10.jpg and corresponding XML.\n",
      "Cropped and saved ed021d03-3074-4353-8f91-f82e292ce639_a_11.jpg and corresponding XML.\n",
      "Cropped and saved ee29ee5b-eb42-46da-b428-50dad469c65c_a_0.jpg and corresponding XML.\n",
      "Cropped and saved ee29ee5b-eb42-46da-b428-50dad469c65c_a_1.jpg and corresponding XML.\n"
     ]
    },
    {
     "name": "stderr",
     "output_type": "stream",
     "text": [
      " 95%|█████████▌| 271/285 [01:13<00:03,  4.48it/s]"
     ]
    },
    {
     "name": "stdout",
     "output_type": "stream",
     "text": [
      "Cropped and saved f016e4cd-303c-4cd5-9f2e-30f9d05a269d_a_0.jpg and corresponding XML.\n",
      "Cropped and saved f016e4cd-303c-4cd5-9f2e-30f9d05a269d_a_1.jpg and corresponding XML.\n",
      "Cropped and saved f0519336-9310-4864-8261-dd4edd3936fe_a_0.jpg and corresponding XML.\n",
      "Cropped and saved f0519336-9310-4864-8261-dd4edd3936fe_a_1.jpg and corresponding XML.\n"
     ]
    },
    {
     "name": "stderr",
     "output_type": "stream",
     "text": [
      " 95%|█████████▌| 272/285 [01:13<00:02,  4.42it/s]"
     ]
    },
    {
     "name": "stdout",
     "output_type": "stream",
     "text": [
      "Cropped and saved f0519336-9310-4864-8261-dd4edd3936fe_a_2.jpg and corresponding XML.\n",
      "Cropped and saved f0519336-9310-4864-8261-dd4edd3936fe_a_3.jpg and corresponding XML.\n",
      "Cropped and saved f1d02f9a-0762-464c-909a-af338361cf84_a_0.jpg and corresponding XML.\n",
      "Cropped and saved f1d02f9a-0762-464c-909a-af338361cf84_a_1.jpg and corresponding XML.\n",
      "Cropped and saved f1d02f9a-0762-464c-909a-af338361cf84_a_2.jpg and corresponding XML.\n"
     ]
    },
    {
     "name": "stderr",
     "output_type": "stream",
     "text": [
      " 96%|█████████▌| 273/285 [01:13<00:02,  4.35it/s]"
     ]
    },
    {
     "name": "stdout",
     "output_type": "stream",
     "text": [
      "Cropped and saved f1d02f9a-0762-464c-909a-af338361cf84_a_3.jpg and corresponding XML.\n",
      "Cropped and saved f1d02f9a-0762-464c-909a-af338361cf84_a_4.jpg and corresponding XML.\n",
      "Cropped and saved f1d02f9a-0762-464c-909a-af338361cf84_a_5.jpg and corresponding XML.\n",
      "Cropped and saved f5489718-97f0-4ce8-9595-74373f6be105_a_0.jpg and corresponding XML.\n",
      "Cropped and saved f5489718-97f0-4ce8-9595-74373f6be105_a_1.jpg and corresponding XML.\n"
     ]
    },
    {
     "name": "stderr",
     "output_type": "stream",
     "text": [
      " 96%|█████████▌| 274/285 [01:13<00:02,  4.37it/s]"
     ]
    },
    {
     "name": "stdout",
     "output_type": "stream",
     "text": [
      "Cropped and saved f5489718-97f0-4ce8-9595-74373f6be105_a_2.jpg and corresponding XML.\n",
      "Cropped and saved f5489718-97f0-4ce8-9595-74373f6be105_a_3.jpg and corresponding XML.\n",
      "Cropped and saved f56ab844-3c82-4b15-8d26-2db23436f7ee_a_0.jpg and corresponding XML.\n"
     ]
    },
    {
     "name": "stderr",
     "output_type": "stream",
     "text": [
      " 96%|█████████▋| 275/285 [01:14<00:02,  4.23it/s]"
     ]
    },
    {
     "name": "stdout",
     "output_type": "stream",
     "text": [
      "Cropped and saved f56ab844-3c82-4b15-8d26-2db23436f7ee_a_1.jpg and corresponding XML.\n",
      "Cropped and saved f56ab844-3c82-4b15-8d26-2db23436f7ee_a_2.jpg and corresponding XML.\n",
      "Cropped and saved f56ab844-3c82-4b15-8d26-2db23436f7ee_a_3.jpg and corresponding XML.\n",
      "Cropped and saved f64c5bbf-0a26-4e02-aecc-61b9cf1a127a_a_0.jpg and corresponding XML.\n"
     ]
    },
    {
     "name": "stderr",
     "output_type": "stream",
     "text": [
      " 97%|█████████▋| 276/285 [01:14<00:01,  4.55it/s]"
     ]
    },
    {
     "name": "stdout",
     "output_type": "stream",
     "text": [
      "Cropped and saved f64c5bbf-0a26-4e02-aecc-61b9cf1a127a_a_1.jpg and corresponding XML.\n",
      "Cropped and saved f64c5bbf-0a26-4e02-aecc-61b9cf1a127a_a_2.jpg and corresponding XML.\n",
      "Cropped and saved f7571caa-a915-41d4-9043-8e7f92b79417_a_0.jpg and corresponding XML.\n",
      "Cropped and saved f7571caa-a915-41d4-9043-8e7f92b79417_a_1.jpg and corresponding XML.\n"
     ]
    },
    {
     "name": "stderr",
     "output_type": "stream",
     "text": [
      " 97%|█████████▋| 277/285 [01:14<00:01,  4.25it/s]"
     ]
    },
    {
     "name": "stdout",
     "output_type": "stream",
     "text": [
      "Cropped and saved f7571caa-a915-41d4-9043-8e7f92b79417_a_2.jpg and corresponding XML.\n",
      "Cropped and saved f7571caa-a915-41d4-9043-8e7f92b79417_a_3.jpg and corresponding XML.\n",
      "Cropped and saved f7571caa-a915-41d4-9043-8e7f92b79417_a_4.jpg and corresponding XML.\n",
      "Cropped and saved f8b3737c-f5c7-4454-be4f-3ca0f374ba4d_a_0.jpg and corresponding XML.\n",
      "Cropped and saved f8b3737c-f5c7-4454-be4f-3ca0f374ba4d_a_1.jpg and corresponding XML.\n",
      "Cropped and saved f8b3737c-f5c7-4454-be4f-3ca0f374ba4d_a_2.jpg and corresponding XML.\n",
      "Cropped and saved f8b3737c-f5c7-4454-be4f-3ca0f374ba4d_a_3.jpg and corresponding XML.\n",
      "Cropped and saved f8b3737c-f5c7-4454-be4f-3ca0f374ba4d_a_4.jpg and corresponding XML.\n",
      "Cropped and saved f8b3737c-f5c7-4454-be4f-3ca0f374ba4d_a_5.jpg and corresponding XML.\n",
      "Cropped and saved f8b3737c-f5c7-4454-be4f-3ca0f374ba4d_a_6.jpg and corresponding XML.\n",
      "Cropped and saved f8b3737c-f5c7-4454-be4f-3ca0f374ba4d_a_7.jpg and corresponding XML.\n"
     ]
    },
    {
     "name": "stderr",
     "output_type": "stream",
     "text": [
      " 98%|█████████▊| 278/285 [01:15<00:02,  2.88it/s]"
     ]
    },
    {
     "name": "stdout",
     "output_type": "stream",
     "text": [
      "Cropped and saved f8b3737c-f5c7-4454-be4f-3ca0f374ba4d_a_8.jpg and corresponding XML.\n",
      "Cropped and saved f8b3737c-f5c7-4454-be4f-3ca0f374ba4d_a_9.jpg and corresponding XML.\n",
      "Cropped and saved f8ccc982-89a9-42df-b0db-ecce8540b4a6_a_0.jpg and corresponding XML.\n",
      "Cropped and saved f8ccc982-89a9-42df-b0db-ecce8540b4a6_a_1.jpg and corresponding XML.\n"
     ]
    },
    {
     "name": "stderr",
     "output_type": "stream",
     "text": [
      " 98%|█████████▊| 279/285 [01:15<00:01,  3.21it/s]"
     ]
    },
    {
     "name": "stdout",
     "output_type": "stream",
     "text": [
      "Cropped and saved f8ccc982-89a9-42df-b0db-ecce8540b4a6_a_2.jpg and corresponding XML.\n",
      "Cropped and saved f8ccc982-89a9-42df-b0db-ecce8540b4a6_a_3.jpg and corresponding XML.\n",
      "Cropped and saved f8ccc982-89a9-42df-b0db-ecce8540b4a6_a_4.jpg and corresponding XML.\n",
      "Cropped and saved f8ccc982-89a9-42df-b0db-ecce8540b4a6_a_5.jpg and corresponding XML.\n",
      "Cropped and saved fa0a85ce-6a81-457d-a43b-f708442b8883_a_0.jpg and corresponding XML.\n",
      "Cropped and saved fa0a85ce-6a81-457d-a43b-f708442b8883_a_1.jpg and corresponding XML.\n"
     ]
    },
    {
     "name": "stderr",
     "output_type": "stream",
     "text": [
      " 98%|█████████▊| 280/285 [01:15<00:01,  3.43it/s]"
     ]
    },
    {
     "name": "stdout",
     "output_type": "stream",
     "text": [
      "Cropped and saved fa0a85ce-6a81-457d-a43b-f708442b8883_a_2.jpg and corresponding XML.\n",
      "Cropped and saved fa0a85ce-6a81-457d-a43b-f708442b8883_a_3.jpg and corresponding XML.\n",
      "Cropped and saved fa0a85ce-6a81-457d-a43b-f708442b8883_a_4.jpg and corresponding XML.\n",
      "Cropped and saved fafdac69-4ab5-4424-8390-1bd3e4a57d06_a_0.jpg and corresponding XML.\n",
      "Cropped and saved fafdac69-4ab5-4424-8390-1bd3e4a57d06_a_1.jpg and corresponding XML.\n"
     ]
    },
    {
     "name": "stderr",
     "output_type": "stream",
     "text": [
      " 99%|█████████▊| 281/285 [01:16<00:01,  3.41it/s]"
     ]
    },
    {
     "name": "stdout",
     "output_type": "stream",
     "text": [
      "Cropped and saved fafdac69-4ab5-4424-8390-1bd3e4a57d06_a_2.jpg and corresponding XML.\n",
      "Cropped and saved fafdac69-4ab5-4424-8390-1bd3e4a57d06_a_3.jpg and corresponding XML.\n",
      "Cropped and saved fafdac69-4ab5-4424-8390-1bd3e4a57d06_a_4.jpg and corresponding XML.\n",
      "Cropped and saved fafdac69-4ab5-4424-8390-1bd3e4a57d06_a_5.jpg and corresponding XML.\n",
      "Cropped and saved fafdac69-4ab5-4424-8390-1bd3e4a57d06_a_6.jpg and corresponding XML.\n"
     ]
    },
    {
     "name": "stderr",
     "output_type": "stream",
     "text": [
      " 99%|█████████▉| 282/285 [01:16<00:00,  3.51it/s]"
     ]
    },
    {
     "name": "stdout",
     "output_type": "stream",
     "text": [
      "Cropped and saved fc0904aa-902d-4fd2-9c63-be088837a4b0_a_0.jpg and corresponding XML.\n",
      "Cropped and saved fc0904aa-902d-4fd2-9c63-be088837a4b0_a_1.jpg and corresponding XML.\n",
      "Cropped and saved fc0904aa-902d-4fd2-9c63-be088837a4b0_a_2.jpg and corresponding XML.\n",
      "Cropped and saved fc0904aa-902d-4fd2-9c63-be088837a4b0_a_3.jpg and corresponding XML.\n",
      "Cropped and saved fc0904aa-902d-4fd2-9c63-be088837a4b0_a_4.jpg and corresponding XML.\n",
      "Cropped and saved fc23b5b8-4076-4208-973b-79c942b77fbf_a_0.jpg and corresponding XML.\n",
      "Cropped and saved fc23b5b8-4076-4208-973b-79c942b77fbf_a_1.jpg and corresponding XML.\n",
      "Cropped and saved fc23b5b8-4076-4208-973b-79c942b77fbf_a_2.jpg and corresponding XML.\n"
     ]
    },
    {
     "name": "stderr",
     "output_type": "stream",
     "text": [
      " 99%|█████████▉| 283/285 [01:16<00:00,  3.13it/s]"
     ]
    },
    {
     "name": "stdout",
     "output_type": "stream",
     "text": [
      "Cropped and saved fc23b5b8-4076-4208-973b-79c942b77fbf_a_3.jpg and corresponding XML.\n",
      "Cropped and saved fc23b5b8-4076-4208-973b-79c942b77fbf_a_4.jpg and corresponding XML.\n",
      "Cropped and saved fc23b5b8-4076-4208-973b-79c942b77fbf_a_5.jpg and corresponding XML.\n",
      "Cropped and saved fd59a74b-11d5-4804-93ec-009df9642b3b_a_0.jpg and corresponding XML.\n"
     ]
    },
    {
     "name": "stderr",
     "output_type": "stream",
     "text": [
      "100%|█████████▉| 284/285 [01:17<00:00,  3.01it/s]"
     ]
    },
    {
     "name": "stdout",
     "output_type": "stream",
     "text": [
      "Cropped and saved fd59a74b-11d5-4804-93ec-009df9642b3b_a_1.jpg and corresponding XML.\n",
      "Cropped and saved fd59a74b-11d5-4804-93ec-009df9642b3b_a_2.jpg and corresponding XML.\n",
      "Cropped and saved fd59a74b-11d5-4804-93ec-009df9642b3b_a_3.jpg and corresponding XML.\n",
      "Cropped and saved fd59a74b-11d5-4804-93ec-009df9642b3b_a_4.jpg and corresponding XML.\n",
      "Cropped and saved fd59a74b-11d5-4804-93ec-009df9642b3b_a_5.jpg and corresponding XML.\n",
      "Cropped and saved fd59a74b-11d5-4804-93ec-009df9642b3b_a_6.jpg and corresponding XML.\n"
     ]
    },
    {
     "name": "stderr",
     "output_type": "stream",
     "text": [
      "100%|██████████| 285/285 [01:17<00:00,  3.69it/s]"
     ]
    },
    {
     "name": "stdout",
     "output_type": "stream",
     "text": [
      "Cropped and saved ff433104-34d8-4c99-9d2d-5fec925005e2_a_0.jpg and corresponding XML.\n",
      "Cropped and saved ff433104-34d8-4c99-9d2d-5fec925005e2_a_1.jpg and corresponding XML.\n",
      "Cropped and saved ff433104-34d8-4c99-9d2d-5fec925005e2_a_2.jpg and corresponding XML.\n",
      "Cropped and saved ff433104-34d8-4c99-9d2d-5fec925005e2_a_3.jpg and corresponding XML.\n",
      "Cropped and saved ff433104-34d8-4c99-9d2d-5fec925005e2_a_4.jpg and corresponding XML.\n"
     ]
    },
    {
     "name": "stderr",
     "output_type": "stream",
     "text": [
      "\n"
     ]
    }
   ],
   "source": [
    "# od dataset crop\n",
    "\n",
    "# -> list: x1,y1,x2,y2\n",
    "def read_bbox(xml_path):\n",
    "    tree = ET.parse(xml_path)\n",
    "    root = tree.getroot()\n",
    "    bboxes = []\n",
    "    for obj in root.findall('object'):\n",
    "        \n",
    "        # # 获取目标类别名称，如果需要，可以根据类别名称进行过滤\n",
    "        # name = obj.find('name').text\n",
    "        # if name == \"drone\":\n",
    "        \n",
    "        bbox = obj.find('bndbox')\n",
    "        xmin = int(float(bbox.find('xmin').text))\n",
    "        ymin = int(float(bbox.find('ymin').text))\n",
    "        xmax = int(float(bbox.find('xmax').text))\n",
    "        ymax = int(float(bbox.find('ymax').text))\n",
    "        bboxes.append((xmin, ymin, xmax, ymax))\n",
    "    return bboxes\n",
    "        \n",
    "def get_squared_crop_box_random(xmin, xmax, ymin, ymax, img_w, img_h, min_wsize=960):\n",
    "    center_x = (xmin + xmax) // 2\n",
    "    center_y = (ymin + ymax) // 2\n",
    "    bbox_w = xmax - xmin\n",
    "    bbox_h = ymax - ymin\n",
    "    bbox_size = max(bbox_w, bbox_h)\n",
    "    \n",
    "    # get crop size  (crop_size, crop_size)\n",
    "    min_crop_size = max(bbox_size, min_wsize)\n",
    "    max_crop_size = min(img_w, img_h)\n",
    "    crop_size = random.randint(min_crop_size, max_crop_size)\n",
    "    \n",
    "    x1 = center_x - crop_size // 2\n",
    "    y1 = center_y - crop_size // 2\n",
    "    x1 = max(0, min(x1, img_w - crop_size))\n",
    "    y1 = max(0, min(y1, img_h - crop_size))\n",
    "    x2 = x1 + crop_size\n",
    "    y2 = y1 + crop_size\n",
    "    return x1, x2, y1, y2\n",
    "\n",
    "\n",
    "def get_16w9h_crop_box_random(xmin, xmax, ymin, ymax, img_w, img_h, min_wsize=1080, wdh=16/9, iou_th=0.6):\n",
    "    \"\"\"\n",
    "    生成一个随机裁剪框，宽高比为16:9，包含目标对象，\n",
    "    且裁剪区域与目标对象的交叉面积至少为 iou_th * bbox_area。\n",
    "\n",
    "    参数：\n",
    "        xmin, xmax, ymin, ymax: 目标对象的边界框坐标。\n",
    "        img_w, img_h: 图像的宽度和高度。\n",
    "        min_wsize: 裁剪框的最小宽度（默认值为1080）。\n",
    "        wdh: 宽高比（默认值为16/9）。\n",
    "        iou_th: 裁剪区域与目标对象的最小交叉面积比例。\n",
    "\n",
    "    返回：\n",
    "        x1, x2, y1, y2: 裁剪框的左上角和右下角坐标。\n",
    "    \"\"\"\n",
    "\n",
    "    bbox_w = xmax - xmin\n",
    "    bbox_h = ymax - ymin\n",
    "    bbox_area = bbox_w * bbox_h\n",
    "\n",
    "    # 计算裁剪框的最小宽度和高度，确保包含目标对象并满足最小尺寸\n",
    "    crop_w_min = max(bbox_w, min_wsize)\n",
    "    crop_h_min = crop_w_min / wdh\n",
    "\n",
    "    # 确保裁剪框尺寸不超过图像尺寸\n",
    "    crop_w_max = min(img_w, img_h * wdh)\n",
    "    crop_h_max = crop_w_max / wdh\n",
    "\n",
    "    max_attempts = 100  # 最大尝试次数\n",
    "    for _ in range(max_attempts):\n",
    "        # 在最小和最大尺寸之间随机选择裁剪宽度\n",
    "        crop_w = random.uniform(crop_w_min, crop_w_max)\n",
    "        crop_h = crop_w / wdh\n",
    "\n",
    "        # 计算裁剪框的左上角坐标范围，确保包含目标对象且在图像范围内\n",
    "        x1_min = max(0, xmin - (crop_w - bbox_w))\n",
    "        x1_max = min(xmin, img_w - crop_w)\n",
    "        y1_min = max(0, ymin - (crop_h - bbox_h))\n",
    "        y1_max = min(ymin, img_h - crop_h)\n",
    "\n",
    "        if x1_min > x1_max or y1_min > y1_max:\n",
    "            continue  # 无法找到合适的裁剪框，继续下一次尝试\n",
    "\n",
    "        # 在计算得到的范围内随机选择左上角坐标\n",
    "        x1 = random.uniform(x1_min, x1_max)\n",
    "        y1 = random.uniform(y1_min, y1_max)\n",
    "        x2 = x1 + crop_w\n",
    "        y2 = y1 + crop_h\n",
    "\n",
    "        # 计算裁剪框与目标对象的交叉面积\n",
    "        inter_x1 = max(x1, xmin)\n",
    "        inter_y1 = max(y1, ymin)\n",
    "        inter_x2 = min(x2, xmax)\n",
    "        inter_y2 = min(y2, ymax)\n",
    "\n",
    "        if inter_x1 < inter_x2 and inter_y1 < inter_y2:\n",
    "            inter_area = (inter_x2 - inter_x1) * (inter_y2 - inter_y1)\n",
    "            if inter_area >= iou_th * bbox_area:\n",
    "                # 返回整数坐标\n",
    "                return int(x1), int(x2), int(y1), int(y2)\n",
    "\n",
    "    # 如果未找到合适的裁剪框，返回原始边界框\n",
    "    return int(xmin), int(xmax), int(ymin), int(ymax)\n",
    "\n",
    "def cal_iou(x1, y1, x2, y2, ax1, ay1, ax2, ay2):\n",
    "    \"\"\"\n",
    "    计算裁剪框与目标边界框的交叉面积比例。\n",
    "\n",
    "    参数：\n",
    "        x1, y1, x2, y2: 裁剪框的坐标。\n",
    "        ax1, ay1, ax2, ay2: 目标边界框的坐标。\n",
    "\n",
    "    返回：\n",
    "        iou: 交叉面积与目标边界框面积的比例。\n",
    "    \"\"\"\n",
    "    bbox_area = (ax2 - ax1) * (ay2 - ay1)\n",
    "    inter_x1 = max(x1, ax1)\n",
    "    inter_y1 = max(y1, ay1)\n",
    "    inter_x2 = min(x2, ax2)\n",
    "    inter_y2 = min(y2, ay2)\n",
    "\n",
    "    if inter_x1 < inter_x2 and inter_y1 < inter_y2:\n",
    "        inter_area = (inter_x2 - inter_x1) * (inter_y2 - inter_y1)\n",
    "        iou_ = inter_area / bbox_area\n",
    "        return iou_\n",
    "    else:\n",
    "        return 0.0\n",
    "\n",
    "def save_cropped_xml(original_xml_path, save_path, crop_box, new_image_size, new_image_name):\n",
    "    tree = ET.parse(original_xml_path)\n",
    "    root = tree.getroot()\n",
    "    root.find('filename').text = new_image_name\n",
    "    size = root.find('size')\n",
    "    size.find('width').text = str(new_image_size[0])\n",
    "    size.find('height').text = str(new_image_size[1])\n",
    "    x1_crop, x2_crop, y1_crop, y2_crop = crop_box\n",
    "    objects = root.findall('object')\n",
    "    for obj in objects:\n",
    "        bbox = obj.find('bndbox')\n",
    "        xmin = int(float(bbox.find('xmin').text))\n",
    "        ymin = int(float(bbox.find('ymin').text))\n",
    "        xmax = int(float(bbox.find('xmax').text))\n",
    "        ymax = int(float(bbox.find('ymax').text))\n",
    "        xmin_new = xmin - x1_crop\n",
    "        ymin_new = ymin - y1_crop\n",
    "        xmax_new = xmax - x1_crop\n",
    "        ymax_new = ymax - y1_crop\n",
    "        if xmin_new < 0 or ymin_new < 0 or xmax_new > new_image_size[0] or ymax_new > new_image_size[1]:\n",
    "            root.remove(obj)\n",
    "            continue\n",
    "        bbox.find('xmin').text = str(max(0, xmin_new))\n",
    "        bbox.find('ymin').text = str(max(0, ymin_new))\n",
    "        bbox.find('xmax').text = str(min(new_image_size[0], xmax_new))\n",
    "        bbox.find('ymax').text = str(min(new_image_size[1], ymax_new))\n",
    "    new_xml_name = os.path.join(save_path, f\"{os.path.splitext(new_image_name)[0]}.xml\")\n",
    "    tree.write(new_xml_name)\n",
    "\n",
    "def crop_images_with_xml(image_dir, xml_dir, save_dir, add_='a'):\n",
    "    if not os.path.exists(save_dir):\n",
    "        os.makedirs(save_dir)\n",
    "    cropped_xml_save_dir = os.path.join(save_dir, \"Annotations\")\n",
    "    if not os.path.exists(cropped_xml_save_dir):\n",
    "        os.makedirs(cropped_xml_save_dir)\n",
    "    cropped_image_save_dir = os.path.join(save_dir, \"JPEGImages\")\n",
    "    if not os.path.exists(cropped_image_save_dir):\n",
    "        os.makedirs(cropped_image_save_dir)\n",
    "    for xml_file in tqdm(os.listdir(xml_dir)):\n",
    "        if xml_file.endswith('.xml'):\n",
    "            xml_path = os.path.join(xml_dir, xml_file)\n",
    "            image_file = xml_file.replace('.xml', '.jpg')\n",
    "            image_path = os.path.join(image_dir, image_file)\n",
    "            if not os.path.exists(image_path):\n",
    "                print(f\"Image file {image_path} not found.\")\n",
    "                continue\n",
    "            image = Image.open(image_path)\n",
    "            w, h = image.size\n",
    "            bounding_boxes = read_bbox(xml_path)\n",
    "            if not bounding_boxes:\n",
    "                print(f\"No bounding boxes found in {xml_path}.\")\n",
    "                continue\n",
    "            for idx, (xmin, ymin, xmax, ymax) in enumerate(bounding_boxes):\n",
    "                # x1, x2, y1, y2 = get_squared_crop_box_random(xmin, xmax, ymin, ymax, w, h)\n",
    "                x1, x2, y1, y2 = get_16w9h_crop_box_random(xmin, xmax, ymin, ymax, w, h)\n",
    "                cropped_image = image.crop((x1, y1, x2, y2))\n",
    "                cropped_image_name = f\"{os.path.splitext(image_file)[0]}_{add_}_{idx}.jpg\"\n",
    "                cropped_image.save(os.path.join(cropped_image_save_dir, cropped_image_name))\n",
    "                save_cropped_xml(xml_path, cropped_xml_save_dir, (x1, x1, y1, y1), (x2 - x1, y2 - y1), cropped_image_name)\n",
    "                print(f\"Cropped and saved {cropped_image_name} and corresponding XML.\")\n",
    "\n",
    "def crop_xml_od_dataset(image_dir, xml_dir, save_dir):\n",
    "    crop_images_with_xml(image_dir, xml_dir, save_dir)\n",
    "\n",
    "image_dir = r\"D:\\ddesktop\\monitoring\\datadata\\belthelmet\\1104\\images\"\n",
    "xml_dir = r\"D:\\ddesktop\\monitoring\\datadata\\belthelmet\\1104\\labels\"\n",
    "save_dir = r\"D:\\ddesktop\\monitoring\\datadata\\belthelmet\\1104_expand\"\n",
    "crop_images_with_xml(image_dir, xml_dir, save_dir)\n"
   ]
  },
  {
   "cell_type": "code",
   "execution_count": 8,
   "metadata": {},
   "outputs": [
    {
     "name": "stdout",
     "output_type": "stream",
     "text": [
      "总共扫描了 1560 个 XML 文件，删除了 0 个空的 XML 文件。\n",
      "删除了 0 个对应的图像文件。\n"
     ]
    }
   ],
   "source": [
    "# del empty data\n",
    "def del_empty_xml_file_and_image(image_dir, xml_dir):\n",
    "    \"\"\"\n",
    "    删除 xml_dir 中没有任何 bbox 的 XML 文件，以及对应的图像文件。\n",
    "\n",
    "    参数：\n",
    "        image_dir (str): 存放图像文件（JPG）的目录路径。\n",
    "        xml_dir (str): 存放 XML 标注文件的目录路径。\n",
    "    \"\"\"\n",
    "    deleted_xml_files = []\n",
    "    deleted_image_files = []\n",
    "    total_xml_files = 0\n",
    "\n",
    "    for xml_file in os.listdir(xml_dir):\n",
    "        if xml_file.endswith('.xml'):\n",
    "            total_xml_files += 1\n",
    "            xml_path = os.path.join(xml_dir, xml_file)\n",
    "            try:\n",
    "                tree = ET.parse(xml_path)\n",
    "                root = tree.getroot()\n",
    "                # 查找所有的 object 元素\n",
    "                objects = root.findall('object')\n",
    "                if not objects:\n",
    "                    # 如果没有找到 object 元素，删除该 XML 文件和对应的图像文件\n",
    "                    os.remove(xml_path)\n",
    "                    deleted_xml_files.append(xml_file)\n",
    "                    print(f\"已删除空的 XML 文件：{xml_file}\")\n",
    "\n",
    "                    # 对应的图像文件名\n",
    "                    base_name = os.path.splitext(xml_file)[0]\n",
    "                    # 尝试匹配不同扩展名的图像文件\n",
    "                    image_extensions = ['.jpg', '.jpeg', '.png']\n",
    "                    image_deleted = False\n",
    "                    for ext in image_extensions:\n",
    "                        image_file = base_name + ext\n",
    "                        image_path = os.path.join(image_dir, image_file)\n",
    "                        if os.path.exists(image_path):\n",
    "                            os.remove(image_path)\n",
    "                            deleted_image_files.append(image_file)\n",
    "                            print(f\"已删除对应的图像文件：{image_file}\")\n",
    "                            image_deleted = True\n",
    "                            break\n",
    "                    if not image_deleted:\n",
    "                        print(f\"未找到对应的图像文件：{base_name}.[jpg|jpeg|png]\")\n",
    "            except ET.ParseError:\n",
    "                # 如果 XML 文件解析错误，也删除文件和对应的图像文件\n",
    "                os.remove(xml_path)\n",
    "                deleted_xml_files.append(xml_file)\n",
    "                print(f\"已删除无法解析的 XML 文件：{xml_file}\")\n",
    "\n",
    "                # 同样删除对应的图像文件\n",
    "                base_name = os.path.splitext(xml_file)[0]\n",
    "                image_extensions = ['.jpg', '.jpeg', '.png']\n",
    "                image_deleted = False\n",
    "                for ext in image_extensions:\n",
    "                    image_file = base_name + ext\n",
    "                    image_path = os.path.join(image_dir, image_file)\n",
    "                    if os.path.exists(image_path):\n",
    "                        os.remove(image_path)\n",
    "                        deleted_image_files.append(image_file)\n",
    "                        print(f\"已删除对应的图像文件：{image_file}\")\n",
    "                        image_deleted = True\n",
    "                        break\n",
    "                if not image_deleted:\n",
    "                    print(f\"未找到对应的图像文件：{base_name}.[jpg|jpeg|png]\")\n",
    "\n",
    "    print(f\"总共扫描了 {total_xml_files} 个 XML 文件，删除了 {len(deleted_xml_files)} 个空的 XML 文件。\")\n",
    "    print(f\"删除了 {len(deleted_image_files)} 个对应的图像文件。\")\n",
    "\n",
    "img_d = r\"D:\\ddesktop\\monitoring\\datadata\\belthelmet\\1104_expand\\JPEGImages\"\n",
    "xml_d = r\"D:\\ddesktop\\monitoring\\datadata\\belthelmet\\1104_expand\\Annotations\"\n",
    "del_empty_xml_file_and_image(img_d, xml_d)\n"
   ]
  },
  {
   "cell_type": "code",
   "execution_count": 12,
   "metadata": {},
   "outputs": [
    {
     "name": "stdout",
     "output_type": "stream",
     "text": [
      "已成功复制 40 个文件到 D:\\ddesktop\\monitoring\\datadata\\belthelmet\\1106_1309\\images。\n"
     ]
    }
   ],
   "source": [
    "import os\n",
    "import shutil\n",
    "import random\n",
    "\n",
    "def sample_files(data_dir, target_dir, samples_=40):\n",
    "    \"\"\"\n",
    "    从 data_dir 中随机抽取 samples_ 个文件，复制到 target_dir。\n",
    "\n",
    "    参数：\n",
    "        data_dir (str): 源文件夹路径。\n",
    "        target_dir (str): 目标文件夹路径。\n",
    "        samples_ (int): 要抽取的文件数量，默认为60。\n",
    "    \"\"\"\n",
    "    # 如果目标目录不存在，则创建\n",
    "    if not os.path.exists(target_dir):\n",
    "        os.makedirs(target_dir)\n",
    "\n",
    "    # 获取 data_dir 中的所有文件列表\n",
    "    files = [f for f in os.listdir(data_dir) if os.path.isfile(os.path.join(data_dir, f))]\n",
    "    \n",
    "    # 检查是否有足够的文件进行抽样\n",
    "    if len(files) < samples_:\n",
    "        print(f\"文件数量不足，共有 {len(files)} 个文件，无法抽取 {samples_} 个样本。\")\n",
    "        return\n",
    "\n",
    "    # 随机抽取 samples_ 个文件\n",
    "    sampled_files = random.sample(files, samples_)\n",
    "\n",
    "    # 复制文件到 target_dir\n",
    "    for filename in sampled_files:\n",
    "        src_path = os.path.join(data_dir, filename)\n",
    "        dst_path = os.path.join(target_dir, filename)\n",
    "        shutil.copy2(src_path, dst_path)  # 使用 copy2 保留文件元数据\n",
    "\n",
    "    print(f\"已成功复制 {samples_} 个文件到 {target_dir}。\")\n",
    "\n",
    "\n",
    "dir_ = r\"D:\\ddesktop\\monitoring\\datadata\\for_anno\\D04\"\n",
    "save_dir = r\"D:\\ddesktop\\monitoring\\datadata\\belthelmet\\1106_1309\\images\"\n",
    "\n",
    "sample_files(dir_, save_dir)"
   ]
  },
  {
   "cell_type": "code",
   "execution_count": 14,
   "metadata": {},
   "outputs": [],
   "source": [
    "def move_jpg_by_xml(xml_dir, jpg_dir, jpg_save_dir):\n",
    "    name_list = [f.split('.xml')[0] for f in os.listdir(xml_dir) if f.endswith('.xml')]\n",
    "    for fs in name_list:\n",
    "        im_name = fs + '.jpg'\n",
    "        im_path = os.path.join(jpg_dir, im_name)\n",
    "        if os.path.isfile(im_path):\n",
    "            im_path_save = os.path.join(jpg_save_dir, im_name)\n",
    "            shutil.copy2(im_path, im_path_save) \n",
    "\n",
    "x_dir = r\"D:\\ddesktop\\monitoring\\datadata\\belthelmet\\1106_1309\\labels\"\n",
    "im_dir = r\"D:\\ddesktop\\monitoring\\datadata\\for_anno\\nobelt\"\n",
    "im_save_dir = r\"D:\\ddesktop\\monitoring\\datadata\\belthelmet\\1106_1309\\images\"\n",
    "move_jpg_by_xml(x_dir, im_dir, im_save_dir)\n",
    "        "
   ]
  },
  {
   "cell_type": "code",
   "execution_count": null,
   "metadata": {},
   "outputs": [],
   "source": [
    "def sample_od_dataset(dataset_root, target_root, _struct={\"image\": \"images\", \"label\": \"labels\"}, samples_=100):\n",
    "    image_dir = os.path.join(dataset_root, _struct[\"image\"])\n",
    "    label_dir = os.path.join(dataset_root, _struct[\"label\"])\n",
    "\n",
    "    # 获取图像和标注的文件名（不含扩展名）\n",
    "    im_namelist = [os.path.splitext(f)[0] for f in os.listdir(image_dir) if f.endswith('.jpg')]\n",
    "    la_namelist = [os.path.splitext(f)[0] for f in os.listdir(label_dir) if f.endswith('.xml')]\n",
    "\n",
    "    # 确保目标目录存在\n",
    "    image_dir_save = os.path.join(target_root, _struct[\"image\"])\n",
    "    label_dir_save = os.path.join(target_root, _struct[\"label\"])\n",
    "    os.makedirs(image_dir_save, exist_ok=True)\n",
    "    os.makedirs(label_dir_save, exist_ok=True)\n",
    "\n",
    "    # 获取图像和标注文件的交集，确保图像和标注匹配\n",
    "    namelist = [f for f in im_namelist if f in la_namelist]\n",
    "\n",
    "    # 检查可用样本数是否足够\n",
    "    if len(namelist) < samples_:\n",
    "        print(f\"可用的样本数只有 {len(namelist)}，少于请求的 {samples_} 个样本。将使用全部可用样本。\")\n",
    "        samples_ = len(namelist)\n",
    "\n",
    "    # 随机打乱并抽取所需数量的样本\n",
    "    random.shuffle(namelist)\n",
    "    target_namelist = namelist[:samples_]\n",
    "\n",
    "    for t in target_namelist:\n",
    "        im_path = os.path.join(image_dir, t + '.jpg')\n",
    "        im_path_save = os.path.join(image_dir_save, t + '.jpg')\n",
    "        shutil.copy2(im_path, im_path_save)\n",
    "\n",
    "        xml_path = os.path.join(label_dir, t + '.xml')\n",
    "        xml_path_save = os.path.join(label_dir_save, t + '.xml')\n",
    "        shutil.copy2(xml_path, xml_path_save)\n",
    "\n",
    "    print(f\"已成功复制 {samples_} 个样本到 {target_root}。\")\n",
    "    \n"
   ]
  },
  {
   "cell_type": "code",
   "execution_count": null,
   "metadata": {},
   "outputs": [],
   "source": []
  },
  {
   "cell_type": "code",
   "execution_count": null,
   "metadata": {},
   "outputs": [],
   "source": []
  }
 ],
 "metadata": {
  "kernelspec": {
   "display_name": "yoloenv",
   "language": "python",
   "name": "python3"
  },
  "language_info": {
   "codemirror_mode": {
    "name": "ipython",
    "version": 3
   },
   "file_extension": ".py",
   "mimetype": "text/x-python",
   "name": "python",
   "nbconvert_exporter": "python",
   "pygments_lexer": "ipython3",
   "version": "3.8.19"
  },
  "orig_nbformat": 4
 },
 "nbformat": 4,
 "nbformat_minor": 2
}
