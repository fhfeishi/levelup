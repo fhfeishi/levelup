{
 "cells": [
  {
   "cell_type": "code",
   "execution_count": null,
   "metadata": {},
   "outputs": [],
   "source": [
    "# del empty xml  \n",
    "\n",
    "import os \n",
    "import xml.etree.ElementTree as ET\n",
    "\n",
    "def delete_empty_xmls(xml_dir):\n",
    "    if not os.path.exists(xml_dir):\n",
    "        print(f\"{xml_dir} not exists!!\")\n",
    "        return \n",
    "    \n",
    "    for filename in os.listdir(xml_dir):\n",
    "        if filename.endswith('.xml'):\n",
    "            xml_path = os.path.join(xml_dir, filename)\n",
    "            tree = ET.parse(xml_path)\n",
    "            root = tree.getroot()\n",
    "            objects = root.findall('object')\n",
    "            if not objects:\n",
    "                os.remove(xml_path)\n",
    "                print(f\"remove {filename}\")    \n",
    "                \n",
    "\n",
    "def datas2dataset(data_dir, target_dir, struct_=None):\n",
    "    \n",
    "    if target_dir is None:\n",
    "        target_dir = data_dir\n",
    "    else:\n",
    "        os.makedirs(target_dir, exist_ok=True)\n",
    "    \n",
    "    if struct_ is None:\n",
    "        struct_ = {\"images\": 'JPEGImages',\n",
    "                   \"labels\": 'Annotations'}\n",
    "    \n",
    "    img_save = os.path.join(target_dir, struct_['images'])\n",
    "    lbl_save = os.path.join(target_dir, struct_['labels'])\n",
    "\n",
    "    for filename in os.listdir(data_dir):\n",
    "        if filename.endswith('.xml'):\n",
    "            namebase = os.path.splitext(filename)[0]\n",
    "            img_path = os.path.join(data_dir, namebase+'.jpg')\n",
    "            if os.path.exists(img_path):\n",
    "                os.move\n"
   ]
  },
  {
   "cell_type": "code",
   "execution_count": null,
   "metadata": {},
   "outputs": [],
   "source": []
  },
  {
   "cell_type": "code",
   "execution_count": null,
   "metadata": {},
   "outputs": [],
   "source": []
  },
  {
   "cell_type": "code",
   "execution_count": null,
   "metadata": {},
   "outputs": [],
   "source": []
  },
  {
   "cell_type": "code",
   "execution_count": null,
   "metadata": {},
   "outputs": [],
   "source": []
  },
  {
   "cell_type": "code",
   "execution_count": null,
   "metadata": {},
   "outputs": [],
   "source": []
  },
  {
   "cell_type": "code",
   "execution_count": null,
   "metadata": {},
   "outputs": [],
   "source": []
  },
  {
   "cell_type": "code",
   "execution_count": null,
   "metadata": {},
   "outputs": [],
   "source": []
  },
  {
   "cell_type": "code",
   "execution_count": null,
   "metadata": {},
   "outputs": [],
   "source": []
  },
  {
   "cell_type": "code",
   "execution_count": null,
   "metadata": {},
   "outputs": [],
   "source": []
  }
 ],
 "metadata": {
  "language_info": {
   "name": "python"
  },
  "orig_nbformat": 4
 },
 "nbformat": 4,
 "nbformat_minor": 2
}
