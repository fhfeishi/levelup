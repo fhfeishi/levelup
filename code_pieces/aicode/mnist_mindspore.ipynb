{
 "cells": [
  {
   "cell_type": "markdown",
   "id": "7bbe4dcf-04ca-4460-8b93-f60c063a7e88",
   "metadata": {},
   "source": []
  },
  {
   "cell_type": "code",
   "execution_count": 79,
   "id": "d141e76e",
   "metadata": {},
   "outputs": [],
   "source": [
    "import mindspore\n",
    "import os\n",
    "from PIL import Image\n",
    "import matplotlib.pyplot as plt\n",
    "import numpy as np\n",
    "from mindspore import nn, Tensor\n",
    "from mindspore.dataset import vision, transforms\n",
    "from mindspore.dataset import MnistDataset\n",
    "from mindspore import dtype as mstype"
   ]
  },
  {
   "cell_type": "code",
   "execution_count": 4,
   "id": "a293dc7a",
   "metadata": {},
   "outputs": [],
   "source": [
    "# mnist_dir = r\"./datasets_/mnist_dataset/MNIST/raw\"\n",
    "# mnist_path = os.path.normpath(os.path.join(os.getcwd(), mnist_dir))  \n",
    "# # D:\\ddesktop\\人工智能程序设计\\IPython_\\datasets_\\mnist_dataset\\MNIST\\raw\n",
    "# # print(mnist_path)\n",
    "# print(os.listdir(mnist_path))"
   ]
  },
  {
   "cell_type": "code",
   "execution_count": 80,
   "id": "0ffed757",
   "metadata": {},
   "outputs": [],
   "source": [
    "mnist_train = r\"./datasets_/mindspore_mnist/train\"\n",
    "mnist_test = r\"./datasets_/mindspore_mnist/test\"\n",
    "train_dataset = MnistDataset(mnist_train)  \n",
    "test_dataset =  MnistDataset(mnist_test)  "
   ]
  },
  {
   "cell_type": "code",
   "execution_count": 86,
   "id": "1a97b01d",
   "metadata": {},
   "outputs": [
    {
     "data": {
      "text/plain": [
       "[[28, 28, 1], []]"
      ]
     },
     "execution_count": 86,
     "metadata": {},
     "output_type": "execute_result"
    }
   ],
   "source": [
    "train_dataset.output_shapes() \n",
    "# [[28, 28, 1], []]"
   ]
  },
  {
   "cell_type": "code",
   "execution_count": 84,
   "id": "f851fe58-ecab-4afe-aabf-26c724614e46",
   "metadata": {},
   "outputs": [
    {
     "data": {
      "text/plain": [
       "[[28, 28, 1], []]"
      ]
     },
     "execution_count": 84,
     "metadata": {},
     "output_type": "execute_result"
    }
   ],
   "source": [
    "# # 看路径中的中文字符是否会引发异常，runtimeError\n",
    "# data_dir_ = os.path.normpath(os.path.join(os.getcwd(), mnist_train))\n",
    "# # print(data_dir_)\n",
    "# # # D:\\ddesktop\\人工智能程序设计\\IPython_\\datasets_\\mindspore_mnist\\train\n",
    "# ds_ = MnistDataset(mnist_train)\n",
    "# ds_.output_shapes() "
   ]
  },
  {
   "cell_type": "code",
   "execution_count": 88,
   "id": "8c605d6f",
   "metadata": {},
   "outputs": [
    {
     "data": {
      "image/png": "[encoded data removed]",
      "text/plain": [
       "<Figure size 400x400 with 9 Axes>"
      ]
     },
     "metadata": {},
     "output_type": "display_data"
    }
   ],
   "source": [
    "def visualize(dataset):\n",
    "    figure = plt.figure(figsize=(4, 4))\n",
    "    cols, rows = 3, 3\n",
    "\n",
    "    plt.subplots_adjust(wspace=0.5, hspace=0.5)\n",
    "\n",
    "    for idx, (image, label) in enumerate(dataset.create_tuple_iterator()):\n",
    "        figure.add_subplot(rows, cols, idx + 1)\n",
    "        plt.title(int(label))\n",
    "        plt.axis(\"off\")\n",
    "        plt.imshow(image.asnumpy().squeeze(), cmap=\"gray\")\n",
    "        if idx == cols * rows - 1:\n",
    "            break\n",
    "    plt.show()\n",
    "\n",
    "visualize(train_dataset)"
   ]
  },
  {
   "cell_type": "markdown",
   "id": "413950ef-8b3f-4a1f-a854-6eeae627c9a7",
   "metadata": {},
   "source": [
    "数据变换\n",
    "通常情况下，直接加载的原始数据并不能直接送入神经网络进行训练，此时我们需要对其进行数据预处理。MindSpore提供不同种类的数据变换（Transforms），配合数据处理Pipeline来实现数据预处理，所有的Transforms均可通过.map(...)方法传入。\n",
    "\n",
    ".map(...)操作可以针对数据集指定列（column）添加数据变换（Transforms），将数据变换应用于该列数据的每个元素，并返回包含变换后元素的新数据集。\n",
    "\n",
    ".map(...)操作可以执行Dataset模块提供的内置数据变换操作，也可以执行用户自定义的变换操作。\n",
    "\n",
    "mindspore.dataset提供了面向图像、文本、音频等不同数据类型的内置数据变换操作，同时也支持使用自定义数据变换操作。\n",
    "\n",
    "下面举例对Mnist数据集中data使用 Rescale、Normalize和HWC2CHW操作，对label使用TypeCast操作。\n",
    "\n",
    "Rescale：用于调整图像像素值的大小，包括两个参数：rescale（缩放因子）和shift（平移因子），图像的每个像素将根据这两个参数进行调整，输出的像素值为\n",
    "。\n",
    "\n",
    "Normalize：用于对输入图像的归一化，包括三个参数：mean（图像每个通道的均值）、std（图像每个通道的标准差）和is_hwc（bool值，输入图像的格式。True为(height, width, channel)，False为(channel, height, width)）。\n",
    "\n",
    "HWC2CHW：用于转换图像格式，将图像从HWC转换成CHW。\n"
   ]
  },
  {
   "cell_type": "code",
   "execution_count": 10,
   "id": "322564e3-ed43-4587-a064-c52840deadcd",
   "metadata": {},
   "outputs": [],
   "source": []
  },
  {
   "cell_type": "code",
   "execution_count": 89,
   "id": "41b54188-57a6-4c37-b528-2e06363520ec",
   "metadata": {},
   "outputs": [
    {
     "name": "stdout",
     "output_type": "stream",
     "text": [
      "(1, 28, 28) Float32\n",
      "() Int32\n"
     ]
    }
   ],
   "source": [
    "train_dataset = train_dataset.map(operations=[vision.Rescale(1.0 / 255.0, 0),\n",
    "                                              vision.Normalize(mean=(0.1307,), std=(0.3081,)),\n",
    "                                              vision.HWC2CHW()],\n",
    "                                  input_columns=['image'])\n",
    "train_dataset = train_dataset.map(operations=[transforms.TypeCast(mstype.int32)],\n",
    "                                  input_columns=['label'])\n",
    "for data in train_dataset:\n",
    "    print(data[0].shape, data[0].dtype)\n",
    "    print(data[1].shape, data[1].dtype)\n",
    "    break"
   ]
  },
  {
   "cell_type": "code",
   "execution_count": 90,
   "id": "8e71d7dc-83d4-47e8-9d84-25e53945165b",
   "metadata": {
    "jupyter": {
     "source_hidden": true
    }
   },
   "outputs": [],
   "source": [
    "class LeNet(nn.Cell):\n",
    "    def __init__(self, num_classes=10):\n",
    "        super(LeNet, self).__init__()\n",
    "        # 卷积层\n",
    "        self.conv1 = nn.Conv2d(1, 6, kernel_size=5, stride=1, pad_mode='same')\n",
    "        # 激活函数\n",
    "        self.act1 = nn.ReLU()\n",
    "        # 最大池化\n",
    "        self.pool1 = nn.MaxPool2d(kernel_size=2, stride=2)\n",
    "        \n",
    "        self.conv2 = nn.Conv2d(6, 16, kernel_size=5, stride=1, pad_mode='valid')\n",
    "        self.act2 = nn.ReLU()\n",
    "        self.pool2 = nn.MaxPool2d(kernel_size=2, stride=2)\n",
    "        # 展平\n",
    "        self.flat = nn.Flatten()\n",
    "        # 全连接层\n",
    "        self.fc1 = nn.Dense(16*5*5, 120)\n",
    "        self.act3 = nn.ReLU()\n",
    "        \n",
    "        self.fc2 = nn.Dense(120, 84)\n",
    "        self.act4 = nn.ReLU()\n",
    "        \n",
    "        self.fc3 = nn.Dense(84, num_classes)\n",
    "        \n",
    "    def construct(self, x):\n",
    "        x = self.conv1(x)\n",
    "        x = self.act1(x)\n",
    "        x = self.pool1(x)\n",
    "        \n",
    "        x = self.pool2(self.act2(self.conv2(x)))\n",
    "        \n",
    "        x = self.flat(x)\n",
    "        \n",
    "        x = self.act3(self.fc1(x))\n",
    "        \n",
    "        x = self.act4(self.fc2(x))\n",
    "        \n",
    "        x = self.fc3(x)\n",
    "        return x\n",
    " "
   ]
  },
  {
   "cell_type": "code",
   "execution_count": 91,
   "id": "046cb1b0-699c-41cc-bee4-a1d0770112f1",
   "metadata": {},
   "outputs": [
    {
     "name": "stdout",
     "output_type": "stream",
     "text": [
      "LeNet<\n",
      "  (conv1): Conv2d<input_channels=1, output_channels=6, kernel_size=(5, 5), stride=(1, 1), pad_mode=same, padding=0, dilation=(1, 1), group=1, has_bias=False, weight_init=<mindspore.common.initializer.HeUniform object at 0x000002512CFFE670>, bias_init=None, format=NCHW>\n",
      "  (act1): ReLU<>\n",
      "  (pool1): MaxPool2d<kernel_size=2, stride=2, pad_mode=VALID>\n",
      "  (conv2): Conv2d<input_channels=6, output_channels=16, kernel_size=(5, 5), stride=(1, 1), pad_mode=valid, padding=0, dilation=(1, 1), group=1, has_bias=False, weight_init=<mindspore.common.initializer.HeUniform object at 0x000002512CFFEA30>, bias_init=None, format=NCHW>\n",
      "  (act2): ReLU<>\n",
      "  (pool2): MaxPool2d<kernel_size=2, stride=2, pad_mode=VALID>\n",
      "  (flat): Flatten<>\n",
      "  (fc1): Dense<input_channels=400, output_channels=120, has_bias=True>\n",
      "  (act3): ReLU<>\n",
      "  (fc2): Dense<input_channels=120, output_channels=84, has_bias=True>\n",
      "  (act4): ReLU<>\n",
      "  (fc3): Dense<input_channels=84, output_channels=10, has_bias=True>\n",
      "  >\n"
     ]
    }
   ],
   "source": [
    "ms_model = LeNet()\n",
    "print(ms_model)"
   ]
  },
  {
   "cell_type": "code",
   "execution_count": 92,
   "id": "6e598512-19dd-4cb7-aa21-14ebde64818e",
   "metadata": {
    "collapsed": true,
    "jupyter": {
     "outputs_hidden": true
    }
   },
   "outputs": [
    {
     "name": "stdout",
     "output_type": "stream",
     "text": [
      "Model structure: LeNet<\n",
      "  (conv1): Conv2d<input_channels=1, output_channels=6, kernel_size=(5, 5), stride=(1, 1), pad_mode=same, padding=0, dilation=(1, 1), group=1, has_bias=False, weight_init=<mindspore.common.initializer.HeUniform object at 0x000002512CFFE670>, bias_init=None, format=NCHW>\n",
      "  (act1): ReLU<>\n",
      "  (pool1): MaxPool2d<kernel_size=2, stride=2, pad_mode=VALID>\n",
      "  (conv2): Conv2d<input_channels=6, output_channels=16, kernel_size=(5, 5), stride=(1, 1), pad_mode=valid, padding=0, dilation=(1, 1), group=1, has_bias=False, weight_init=<mindspore.common.initializer.HeUniform object at 0x000002512CFFEA30>, bias_init=None, format=NCHW>\n",
      "  (act2): ReLU<>\n",
      "  (pool2): MaxPool2d<kernel_size=2, stride=2, pad_mode=VALID>\n",
      "  (flat): Flatten<>\n",
      "  (fc1): Dense<input_channels=400, output_channels=120, has_bias=True>\n",
      "  (act3): ReLU<>\n",
      "  (fc2): Dense<input_channels=120, output_channels=84, has_bias=True>\n",
      "  (act4): ReLU<>\n",
      "  (fc3): Dense<input_channels=84, output_channels=10, has_bias=True>\n",
      "  >\n",
      "\n",
      "\n",
      "Layer: conv1.weight\n",
      "Size: (6, 1, 5, 5)\n",
      "\n",
      "Layer: conv2.weight\n",
      "Size: (16, 6, 5, 5)\n",
      "\n",
      "Layer: fc1.weight\n",
      "Size: (120, 400)\n",
      "\n",
      "Layer: fc1.bias\n",
      "Size: (120,)\n",
      "\n",
      "Layer: fc2.weight\n",
      "Size: (84, 120)\n",
      "\n",
      "Layer: fc2.bias\n",
      "Size: (84,)\n",
      "\n",
      "Layer: fc3.weight\n",
      "Size: (10, 84)\n",
      "\n",
      "Layer: fc3.bias\n",
      "Size: (10,)\n",
      "\n"
     ]
    }
   ],
   "source": [
    "print(f\"Model structure: {ms_model}\\n\\n\")\n",
    "\n",
    "for name, param in ms_model.parameters_and_names():\n",
    "    # print(f\"Layer: {name}\\nSize: {param.shape}\\nValues : {param[:2]} \\n\")\n",
    "    print(f\"Layer: {name}\\nSize: {param.shape}\\n\")\n"
   ]
  },
  {
   "cell_type": "code",
   "execution_count": 94,
   "id": "285b4682-705d-466c-950e-165fda855748",
   "metadata": {},
   "outputs": [],
   "source": [
    "def datapipe(path, batch_size):\n",
    "    image_transforms = [\n",
    "        vision.Rescale(1.0 / 255.0, 0),\n",
    "        vision.Normalize(mean=(0.1307,), std=(0.3081,)),\n",
    "        vision.HWC2CHW()\n",
    "    ]\n",
    "    label_transform = transforms.TypeCast(mindspore.int32)\n",
    "\n",
    "    dataset = MnistDataset(path)\n",
    "    dataset = dataset.map(image_transforms, 'image')\n",
    "    dataset = dataset.map(label_transform, 'label')\n",
    "    dataset = dataset.batch(batch_size)\n",
    "    return dataset\n",
    "\n",
    "\n",
    "# mnist_train = r\"./datasets_/mindspore_mnist/train\"\n",
    "# mnist_test = r\"./datasets_/mindspore_mnist/test\"\n",
    "train_loader = datapipe(mnist_train, batch_size=32)\n",
    "test_loader = datapipe(mnist_test, batch_size=32)"
   ]
  },
  {
   "cell_type": "code",
   "execution_count": 95,
   "id": "04afa605-f356-4db7-8796-4354a74f6629",
   "metadata": {
    "jupyter": {
     "source_hidden": true
    }
   },
   "outputs": [],
   "source": [
    "epochs = 3\n",
    "batch_size = 32\n",
    "learning_rate = 1e-3\n",
    " \n",
    "loss_fn = nn.CrossEntropyLoss()\n",
    "\n",
    "optimizer = nn.SGD(ms_model.trainable_params(), learning_rate=learning_rate)\n",
    "\n",
    "\n",
    "# 保存模型权重\n",
    "model_save = r\"./logs_dir/lenet_mindspore\"\n",
    "os.makedirs(model_save, exist_ok=True)\n",
    "model_save_path = os.path.normpath(os.path.join(model_save, \"best_mindspore_lenet.ckpt\"))\n",
    "\n",
    "# 定义前向传播函数\n",
    "def forward_fn(data, label):\n",
    "    outs = ms_model(data)\n",
    "    loss = loss_fn(outs, label)\n",
    "    return loss, outs\n",
    "\n",
    "# 获取梯度的函数，传入optimizer\n",
    "grad_fn = mindspore.value_and_grad(forward_fn, None, optimizer.parameters, has_aux=True)\n",
    "\n",
    "def train_step(data, label):\n",
    "    (loss, _), grads = grad_fn(data, label)\n",
    "    optimizer(grads)\n",
    "    return loss\n",
    "\n",
    "def train_loop(model, data_loader):\n",
    "    size = data_loader.get_dataset_size()\n",
    "    model.set_train()\n",
    "    for batch, (data, label) in enumerate(data_loader.create_tuple_iterator()):\n",
    "        loss = train_step(data, label)\n",
    "        \n",
    "        if batch%100 == 0:\n",
    "            loss, current = loss.asnumpy(), batch\n",
    "            print(f\"loss: {loss:>7f}  [{current:>3d}/{size:>3d}]\")\n",
    "\n",
    "def test_loop(model, data_loader, loss_fn, best_test_acc=0.0):\n",
    "    num_batches = data_loader.get_dataset_size()\n",
    "    model.set_train(False)\n",
    "    total, test_loss, correct = 0, 0, 0\n",
    "    for data, label in data_loader.create_tuple_iterator():\n",
    "        pred = model(data)\n",
    "        total += len(data)\n",
    "        test_loss += loss_fn(pred, label).asnumpy()\n",
    "        correct += (pred.argmax(1) == label).asnumpy().sum()\n",
    "    test_loss /= num_batches\n",
    "    correct /= total\n",
    "    # save best model\n",
    "    if correct > best_test_acc:\n",
    "        best_test_acc = correct\n",
    "        mindspore.save_checkpoint(ms_model, model_save_path)\n",
    "    print(f\"Test: \\n Accuracy: {(100*correct):>0.1f}%, Avg loss: {test_loss:>8f} \\n\")\n"
   ]
  },
  {
   "cell_type": "code",
   "execution_count": 96,
   "id": "0e20e26c-a57e-4cb9-89f4-9527df8be34d",
   "metadata": {
    "scrolled": true
   },
   "outputs": [
    {
     "name": "stdout",
     "output_type": "stream",
     "text": [
      "Epoch 1\n",
      "-------------------------------\n",
      "loss: 2.315099  [  0/1875]\n",
      "loss: 2.311205  [100/1875]\n",
      "loss: 2.315240  [200/1875]\n",
      "loss: 2.292525  [300/1875]\n",
      "loss: 2.286823  [400/1875]\n",
      "loss: 2.297560  [500/1875]\n",
      "loss: 2.310534  [600/1875]\n",
      "loss: 2.285043  [700/1875]\n",
      "loss: 2.290683  [800/1875]\n",
      "loss: 2.284361  [900/1875]\n",
      "loss: 2.276896  [1000/1875]\n",
      "loss: 2.281837  [1100/1875]\n",
      "loss: 2.274083  [1200/1875]\n",
      "loss: 2.258741  [1300/1875]\n",
      "loss: 2.257386  [1400/1875]\n",
      "loss: 2.246572  [1500/1875]\n",
      "loss: 2.254220  [1600/1875]\n",
      "loss: 2.245849  [1700/1875]\n",
      "loss: 2.216790  [1800/1875]\n",
      "Test: \n",
      " Accuracy: 40.1%, Avg loss: 2.210162 \n",
      "\n",
      "Epoch 2\n",
      "-------------------------------\n",
      "loss: 2.194929  [  0/1875]\n",
      "loss: 2.178500  [100/1875]\n",
      "loss: 2.144861  [200/1875]\n",
      "loss: 2.105261  [300/1875]\n",
      "loss: 2.092807  [400/1875]\n",
      "loss: 2.068809  [500/1875]\n",
      "loss: 2.021101  [600/1875]\n",
      "loss: 1.892331  [700/1875]\n",
      "loss: 1.749285  [800/1875]\n",
      "loss: 1.669093  [900/1875]\n",
      "loss: 1.511461  [1000/1875]\n",
      "loss: 1.371332  [1100/1875]\n",
      "loss: 1.120261  [1200/1875]\n",
      "loss: 0.952776  [1300/1875]\n",
      "loss: 0.799772  [1400/1875]\n",
      "loss: 0.660997  [1500/1875]\n",
      "loss: 0.769093  [1600/1875]\n",
      "loss: 0.783104  [1700/1875]\n",
      "loss: 0.643616  [1800/1875]\n",
      "Test: \n",
      " Accuracy: 85.6%, Avg loss: 0.558257 \n",
      "\n",
      "Epoch 3\n",
      "-------------------------------\n",
      "loss: 0.643590  [  0/1875]\n",
      "loss: 0.621735  [100/1875]\n",
      "loss: 0.418928  [200/1875]\n",
      "loss: 0.408113  [300/1875]\n",
      "loss: 0.530785  [400/1875]\n",
      "loss: 0.387218  [500/1875]\n",
      "loss: 0.786097  [600/1875]\n",
      "loss: 0.563782  [700/1875]\n",
      "loss: 0.494491  [800/1875]\n",
      "loss: 0.416482  [900/1875]\n",
      "loss: 0.248779  [1000/1875]\n",
      "loss: 0.390959  [1100/1875]\n",
      "loss: 0.619959  [1200/1875]\n",
      "loss: 0.197416  [1300/1875]\n",
      "loss: 0.245263  [1400/1875]\n",
      "loss: 0.339041  [1500/1875]\n",
      "loss: 0.305195  [1600/1875]\n",
      "loss: 0.305705  [1700/1875]\n",
      "loss: 0.338004  [1800/1875]\n",
      "Test: \n",
      " Accuracy: 90.1%, Avg loss: 0.349648 \n",
      "\n",
      "Done!\n"
     ]
    }
   ],
   "source": [
    "for t in range(epochs):\n",
    "    print(f\"Epoch {t+1}\\n-------------------------------\")\n",
    "    train_loop(ms_model, train_loader)\n",
    "    test_loop(ms_model, test_loader, loss_fn)\n",
    "print(\"Done!\")"
   ]
  },
  {
   "cell_type": "markdown",
   "id": "7ffd0a22-5f7b-4365-be97-f69094086e26",
   "metadata": {},
   "source": [
    "加载权重，推理测试"
   ]
  },
  {
   "cell_type": "code",
   "execution_count": 97,
   "id": "0167af34-e775-48bb-ab71-a2c18a9d78f6",
   "metadata": {},
   "outputs": [
    {
     "data": {
      "text/plain": [
       "([], [])"
      ]
     },
     "execution_count": 97,
     "metadata": {},
     "output_type": "execute_result"
    }
   ],
   "source": [
    "infer_model = LeNet()\n",
    "param_dict = mindspore.load_checkpoint(model_save_path)\n",
    "mindspore.load_param_into_net(infer_model, param_dict)"
   ]
  },
  {
   "cell_type": "code",
   "execution_count": 98,
   "id": "c7caa968",
   "metadata": {},
   "outputs": [
    {
     "name": "stdout",
     "output_type": "stream",
     "text": [
      "0\n"
     ]
    }
   ],
   "source": [
    "from PIL import Image\n",
    "import numpy as np\n",
    "from mindspore import Tensor\n",
    "img_path = r\"./datasets_/write_mnist/9.png\"\n",
    "image = Image.open(img_path).convert('L').resize((28,28))\n",
    "image_np = np.array(image).reshape([1,1,28,28]) \n",
    "image_tensor = Tensor.from_numpy(image_np).astype(mindspore.float32)\n",
    "\n",
    "infer_model.set_train(False)  # 设置模型为推理模式\n",
    "outs = infer_model(image_tensor)[0].argmax().asnumpy()\n",
    "print(outs)"
   ]
  },
  {
   "cell_type": "markdown",
   "id": "2aceded4-a279-4d3d-8c14-814a5e8b4aca",
   "metadata": {},
   "source": [
    "### 解析MNIST，然后构建标准模式的mindspore数据集"
   ]
  },
  {
   "cell_type": "code",
   "execution_count": 99,
   "id": "20883c6d",
   "metadata": {},
   "outputs": [],
   "source": [
    "import mindspore\n",
    "import os\n",
    "from PIL import Image\n",
    "import matplotlib.pyplot as plt\n",
    "import numpy as np\n",
    "from mindspore import nn, Tensor\n",
    "from mindspore.dataset import vision, transforms\n",
    "from mindspore.dataset import MnistDataset\n",
    "from mindspore import dtype as mstype"
   ]
  },
  {
   "cell_type": "code",
   "execution_count": 100,
   "id": "481a9748-82ca-4fa2-b993-0d2f1e15d3fc",
   "metadata": {},
   "outputs": [],
   "source": [
    "# 自定义的mindspore标准格式数据集\n",
    "from mindspore.mindrecord import FileWriter\n",
    "import struct\n",
    "# 解析ubyte文件，读取图片和标签  ./datasets_/\n",
    "def parse_ubyte(ubyte, gen=False):\n",
    "    if ubyte == \"train\":\n",
    "        img_file = r\"./datasets_/mindspore_mnist/train/train-images-idx3-ubyte\"\n",
    "        lbl_file = r\"./datasets_/mindspore_mnist/train/train-labels-idx1-ubyte\"\n",
    "        label_file = open(\"parse_mnist/train_labels.txt\", 'w')\n",
    "        img_dir = \"parse_mnist/train_images\"\n",
    "        if gen:\n",
    "            os.makedirs(img_dir, exist_ok=True)\n",
    "    elif ubyte == \"test\":\n",
    "        img_file = r\"./datasets_/mindspore_mnist/test/t10k-images-idx3-ubyte\"\n",
    "        lbl_file = r\"./datasets_/mindspore_mnist/test/t10k-labels-idx1-ubyte\"\n",
    "        label_file = open(\"parse_mnist/test_labels.txt\", 'w') \n",
    "        img_dir = \"parse_mnist/test_images\"\n",
    "        if gen:\n",
    "            os.makedirs(img_dir, exist_ok=True)\n",
    "    else:\n",
    "        print(\"输入ubyte不对\")\n",
    "        return None\n",
    "    \n",
    "\n",
    "    # 读取图片文件\n",
    "    with open(img_file, 'rb') as f:\n",
    "        # 读取文件头\n",
    "        magic_number = struct.unpack('>I', f.read(4))[0]  # Magic number\n",
    "        assert magic_number == 2051, f\"{magic_number} Image file magic number incorrect!\"\n",
    "        \n",
    "        num_images = struct.unpack('>I', f.read(4))[0]  # 读取图片数量\n",
    "        rows = struct.unpack('>I', f.read(4))[0]  # 读取图片的行数\n",
    "        cols = struct.unpack('>I', f.read(4))[0]  # 读取图片的列数\n",
    "        print(f\"num_images={num_images}, rows={rows}, cols={cols}\")\n",
    "        \n",
    "        # 确保读取的字节数量与图片数据匹配\n",
    "        image_data = np.fromfile(f, dtype=np.uint8)\n",
    "        expected_size = num_images * rows * cols\n",
    "        assert image_data.size == expected_size, f\"Expected {expected_size} bytes, but got {image_data.size} bytes.\"\n",
    "        \n",
    "        # 将数据reshape为(num_images, rows, cols)\n",
    "        images = image_data.reshape(num_images, rows, cols)\n",
    "\n",
    "    # 读取标签文件\n",
    "    with open(lbl_file, 'rb') as f:\n",
    "        # 读取文件头\n",
    "        magic_number = struct.unpack('>I', f.read(4))[0]  # Magic number\n",
    "        assert magic_number == 2049, f\"{magic_number} Label file magic number incorrect!\"\n",
    "        \n",
    "        num_labels = struct.unpack('>I', f.read(4))[0]  # 读取标签数量\n",
    "        labels_data = np.fromfile(f, dtype=np.uint8)  # 读取标签数据\n",
    "        assert len(labels_data) == num_labels, f\"Expected {num_labels} labels, but got {len(labels_data)} labels.\"\n",
    "        \n",
    "        labels = labels_data  # 保存标签数据\n",
    "\n",
    "    # 如果gen=True，生成图片和标签文件\n",
    "    if gen:\n",
    "        for i in range(num_images):\n",
    "            img = Image.fromarray(images[i])  # 将图片数据转换为PIL图片对象\n",
    "            img.save(os.path.join(img_dir, f\"{i+1}.jpg\"))  # 保存图片为jpg文件\n",
    "            label_file.write(f\"{i+1}.jpg {labels[i]}\\n\")  # 写入标签文件\n",
    "\n",
    "    label_file.close()\n",
    "    # print(images.size, labels.size)\n",
    "    return images, labels\n",
    "\n",
    "# ## use\n",
    "# parse_ubyte('train', gen=False)\n",
    "# parse_ubyte('test', gen=True)\n",
    "\n",
    "\n",
    "# def check_magic_number(file_path):\n",
    "#     with open(file_path, 'rb') as f:\n",
    "#         # 读取文件前4个字节（魔术数字应该在这4个字节中）\n",
    "#         # magic_number = np.fromfile(f, dtype=np.uint32, count=1)[0]\n",
    "#         magic_number = np.fromfile(f, dtype=np.dtype('>u4'), count=1)\n",
    "#         print(f\"Magic number: {magic_number}\")\n",
    "# train_img = r\"./datasets_/mindspore_mnist/train/train-images-idx3-ubyte\"\n",
    "# # check_magic_number(train_img)\n"
   ]
  },
  {
   "cell_type": "code",
   "execution_count": null,
   "id": "79ed0c26-c759-4d3a-b57e-d8923245cab1",
   "metadata": {},
   "outputs": [],
   "source": [
    "# !python -m pip install tqdm"
   ]
  },
  {
   "cell_type": "code",
   "execution_count": 101,
   "id": "adeba8b5-1f05-4c23-8308-754248c70b70",
   "metadata": {},
   "outputs": [],
   "source": [
    "import tqdm\n",
    "from mindspore.mindrecord import FileWriter\n",
    "# 获取mindrecord格式数据集\n",
    "def get_my_msrecord(mode, target_root= \"parse_mnist/msrecord\"):\n",
    "    os.makedirs(target_root, exist_ok=True)\n",
    "    \n",
    "    if mode == \"train\":\n",
    "        # 创建 MindRecord 文件路径\n",
    "        mindrecord_path = os.path.join(target_root, 'train.mindrecord')\n",
    "    elif mode == \"test\":\n",
    "        # 创建 MindRecord 文件路径\n",
    "        mindrecord_path = os.path.join(target_root, 'test.mindrecord')\n",
    "    else:\n",
    "        print(\"error input\")\n",
    "        return \n",
    "    \n",
    "    writers = FileWriter(mindrecord_path, 32)  # 32 is the batch size\n",
    "    \n",
    "    # 构建字段\n",
    "    schema = {\n",
    "        \"file_name\": {\"type\": \"string\"},\n",
    "        \"label\": {\"type\": \"int32\"},\n",
    "        \"data\": {\"type\": \"bytes\"}}\n",
    "    \n",
    "    # 设置文件格式\n",
    "    if mode == \"train\":\n",
    "        writers.add_schema(schema, \"train_schema\")\n",
    "        train_imgs, train_lbls = parse_ubyte(mode, False)\n",
    "        print(train_imgs.size, train_lbls.size)\n",
    "        # 写入训练集数据\n",
    "        for i in tqdm.tqdm(range(len(train_imgs))):\n",
    "            sample = {\n",
    "                \"file_name\": f\"train_{i}.jpg\",\n",
    "                \"label\": int(train_lbls[i]),\n",
    "                \"data\": train_imgs[i].tobytes()  # 将图片数据转换为字节格式\n",
    "            }\n",
    "            writers.write_raw_data([sample])\n",
    "    else:\n",
    "        writers.add_schema(schema, \"test_schema\")\n",
    "        test_imgs, test_lbls = parse_ubyte(mode, False)\n",
    "        # 写入测试集数据\n",
    "        for i in tqdm.tqdm(range(len(test_imgs))):\n",
    "            sample = {\n",
    "                \"file_name\": f\"test_{i}.jpg\",\n",
    "                \"label\": int(test_lbls[i]),\n",
    "                \"data\": test_imgs[i].tobytes()\n",
    "            }\n",
    "            writers.write_raw_data([sample])\n",
    "    \n",
    "    # 关闭文件\n",
    "    writers.commit()\n",
    "\n",
    "    print(f\"MindRecord files created at {target_root}\")\n",
    "\n",
    "# get_my_msrecord(\"train\")\n",
    "# get_my_msrecord(\"test\")"
   ]
  },
  {
   "cell_type": "code",
   "execution_count": 103,
   "id": "741ed0f0-b9bc-4254-9cd2-02a918046ffb",
   "metadata": {},
   "outputs": [
    {
     "name": "stdout",
     "output_type": "stream",
     "text": [
      "Data sample:\n",
      "  data shape: (32, 1)\n",
      "  file_name shape: (32,)\n",
      "  label shape: (32,)\n"
     ]
    },
    {
     "data": {
      "text/plain": [
       "<mindspore.dataset.engine.datasets.BatchDataset at 0x2513377feb0>"
      ]
     },
     "execution_count": 103,
     "metadata": {},
     "output_type": "execute_result"
    }
   ],
   "source": [
    "from mindspore.dataset import MindDataset\n",
    "import io\n",
    "\n",
    "def file_test(file_list):\n",
    "    for f in file_list:\n",
    "        if not os.path.isfile(f):\n",
    "            print(f)\n",
    "            break\n",
    "\n",
    "\n",
    "# 读取并打印数据集中的样本信息\n",
    "def load_mindrecord_dataset(target_root, mode, batch_size=32):\n",
    "    # 构造文件路径：train 或 test 数据集\n",
    "    if mode == \"train\":\n",
    "        mindrecord_files = [os.path.join(target_root,file) for file in os.listdir(target_root) if file.startswith('train.') and not file.endswith('.db')]  \n",
    "        # print(mindrecord_files)\n",
    "    elif mode == \"test\":\n",
    "        mindrecord_files = [os.path.join(target_root,file) for file in os.listdir(target_root) if file.startswith('test.') and not file.endswith('.db')]\n",
    "    else:\n",
    "        print(\"Error: Invalid mode!\")\n",
    "        return\n",
    "\n",
    "    file_test(mindrecord_files)  # pass \n",
    "    \n",
    "    # 加载 MindRecord 数据集，自动处理多个分片文件\n",
    "    dataset = MindDataset(mindrecord_files)\n",
    "\n",
    "    # 设置批次大小\n",
    "    dataset = dataset.batch(batch_size)\n",
    "    \n",
    "    # 打印数据集的一些基本信息（如字段名和数据形状）\n",
    "    for data in dataset.create_dict_iterator():\n",
    "        print(f\"Data sample:\")\n",
    "        for key, value in data.items():\n",
    "            print(f\"  {key} shape: {value.shape if hasattr(value, 'shape') else 'No shape'}\")\n",
    "            # data: (32, 1)  file_name: (32,)  label: (32,)\n",
    "            if key == \"data\":\n",
    "                # print(f\"  {key} sample: {value.size}\")\n",
    "                image_StubTensor = data['data']  # mindspore将字节码解析成StubTensor\n",
    "                numpy_imgs = image_StubTensor.asnumpy()  \n",
    "                # numpy_imgs.shape=(32, 1)  dtype='|S784'\n",
    "                decoded_images = np.array(\n",
    "                    [np.frombuffer(img, dtype=np.uint8).reshape(28, 28) \n",
    "                    for img in numpy_imgs])\n",
    "                # decoded_images.shape=(32, 28, 28)  # b h w\n",
    "                for i in range(decoded_images.shape[0]):\n",
    "                    np_image = decoded_images[i]   \n",
    "                    # print(f\"{np_image.shape=}\")  # np_image.shape=(28, 28)\n",
    "                    label = data['label'][i].asnumpy()   # 获取标签（数字形式）\n",
    "                    file_name = data['file_name'][i]\n",
    "                    image = Image.fromarray(np_image) \n",
    "                    # print(f\"{image.size=}\")  # image.size=(28, 28)\n",
    "                    image.convert(\"L\").show()\n",
    "                    break\n",
    "\n",
    "        break  # 只打印第一个样本的结构，避免输出过多内容\n",
    "\n",
    "    return dataset\n",
    "\n",
    "\n",
    "# 示例：读取数据集并打印样本信息\n",
    "mindrecord_path = r\".\\parse_mnist\\msrecord\" \n",
    "load_mindrecord_dataset(mindrecord_path, mode='train')\n"
   ]
  },
  {
   "cell_type": "code",
   "execution_count": null,
   "id": "3958bfe2-2e89-4df6-88fe-122da563f900",
   "metadata": {},
   "outputs": [],
   "source": []
  }
 ],
 "metadata": {
  "kernelspec": {
   "display_name": "Python 3 (ipykernel)",
   "language": "python",
   "name": "python3"
  },
  "language_info": {
   "codemirror_mode": {
    "name": "ipython",
    "version": 3
   },
   "file_extension": ".py",
   "mimetype": "text/x-python",
   "name": "python",
   "nbconvert_exporter": "python",
   "pygments_lexer": "ipython3",
   "version": "3.9.21"
  }
 },
 "nbformat": 4,
 "nbformat_minor": 5
}
