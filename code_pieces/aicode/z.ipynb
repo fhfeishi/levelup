{
 "cells": [
  {
   "cell_type": "code",
   "execution_count": 1,
   "metadata": {},
   "outputs": [
    {
     "name": "stderr",
     "output_type": "stream",
     "text": [
      "Connecting to paddle-imagenet-models-name.bj.bcebos.com (119.249.103.5:443)\n",
      "saving to 'mnist.tar'\n",
      "mnist.tar              0% |                                | 20480  1:24:49 ETA\n",
      "mnist.tar              1% |                                | 1780k  0:01:52 ETA\n",
      "mnist.tar              2% |                                | 2532k  0:01:57 ETA\n",
      "mnist.tar              3% |*                               | 3268k  0:02:00 ETA\n",
      "mnist.tar              3% |*                               | 4004k  0:02:02 ETA\n",
      "mnist.tar              4% |*                               | 4756k  0:02:02 ETA\n",
      "mnist.tar              5% |*                               | 5492k  0:02:02 ETA\n",
      "mnist.tar              6% |*                               | 6228k  0:02:02 ETA\n",
      "mnist.tar              6% |**                              | 6964k  0:02:02 ETA\n",
      "mnist.tar              7% |**                              | 7700k  0:02:02 ETA\n",
      "mnist.tar              8% |**                              | 8340k  0:02:03 ETA\n",
      "mnist.tar             21% |******                          | 21.1M  0:00:44 ETA\n",
      "mnist.tar             78% |*************************       | 78.3M  0:00:03 ETA\n",
      "mnist.tar            100% |********************************| 99.4M  0:00:00 ETA\n",
      "'mnist.tar' saved\n"
     ]
    }
   ],
   "source": [
    "# 下载原始的 MNIST 数据集并解压\n",
    "! wget https://paddle-imagenet-models-name.bj.bcebos.com/data/mnist.tar\n",
    "! tar -xf mnist.tar"
   ]
  }
 ],
 "metadata": {
  "kernelspec": {
   "display_name": "envq",
   "language": "python",
   "name": "python3"
  },
  "language_info": {
   "codemirror_mode": {
    "name": "ipython",
    "version": 3
   },
   "file_extension": ".py",
   "mimetype": "text/x-python",
   "name": "python",
   "nbconvert_exporter": "python",
   "pygments_lexer": "ipython3",
   "version": "3.9.21"
  },
  "orig_nbformat": 4
 },
 "nbformat": 4,
 "nbformat_minor": 2
}
