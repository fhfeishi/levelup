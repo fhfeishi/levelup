{
 "cells": [
  {
   "cell_type": "code",
   "execution_count": 1,
   "metadata": {},
   "outputs": [
    {
     "name": "stdout",
     "output_type": "stream",
     "text": [
      "PIL.__version__ = '10.3.0'\n"
     ]
    }
   ],
   "source": [
    "import PIL \n",
    "print(f\"{PIL.__version__ = }\")"
   ]
  },
  {
   "cell_type": "code",
   "execution_count": null,
   "metadata": {},
   "outputs": [
    {
     "name": "stdout",
     "output_type": "stream",
     "text": [
      "Name: Pillow\n",
      "Version: 9.4.0\n",
      "Summary: Python Imaging Library (Fork)\n",
      "Home-page: https://python-pillow.org\n",
      "Author: Alex Clark (PIL Fork Author)\n",
      "Author-email: aclark@python-pillow.org\n",
      "License: HPND\n",
      "Location: d:\\developer\\miniconda\\envs\\kiana\\lib\\site-packages\n",
      "Requires: \n",
      "Required-by: Augmentor, gradio, imageio, imgaug, labelme, matplotlib, paddlepaddle-gpu, scikit-image, segmentation-models-pytorch, torchvision, visualdl\n"
     ]
    }
   ],
   "source": [
    "!pip show pillow"
   ]
  },
  {
   "cell_type": "code",
   "execution_count": 10,
   "metadata": {},
   "outputs": [
    {
     "name": "stdout",
     "output_type": "stream",
     "text": [
      "Version('10.4.0') = <Version('10.4.0')>\n",
      "parse('10.3.0') = <Version('10.3.0')>\n"
     ]
    }
   ],
   "source": [
    "from packaging.version import parse, Version\n",
    "\n",
    "print(f\"{Version('10.4.0') = }\")\n",
    "print(f\"{parse('10.3.0') = }\")"
   ]
  },
  {
   "cell_type": "code",
   "execution_count": 6,
   "metadata": {},
   "outputs": [
    {
     "name": "stdout",
     "output_type": "stream",
     "text": [
      "(a > b) = False\n"
     ]
    }
   ],
   "source": [
    "a = Version('10.4.0')\n",
    "b = Version('10.14.0')\n",
    "print(f\"{(a > b) = }\")"
   ]
  },
  {
   "cell_type": "code",
   "execution_count": 7,
   "metadata": {},
   "outputs": [
    {
     "name": "stdout",
     "output_type": "stream",
     "text": [
      "(c > d) = False\n"
     ]
    }
   ],
   "source": [
    "c = parse('8.9.0')\n",
    "d = parse('8.11.0')\n",
    "print(f\"{(c > d) = }\")"
   ]
  },
  {
   "cell_type": "code",
   "execution_count": 9,
   "metadata": {},
   "outputs": [
    {
     "name": "stdout",
     "output_type": "stream",
     "text": [
      "version('pillow') = '10.3.0'\n"
     ]
    }
   ],
   "source": [
    "from importlib.metadata import version, PackageNotFoundError\n",
    "print(f\"{version('pillow') = }\")\n",
    "# print(f\"{version('PIL') = }\")"
   ]
  },
  {
   "cell_type": "code",
   "execution_count": null,
   "metadata": {},
   "outputs": [],
   "source": []
  },
  {
   "cell_type": "code",
   "execution_count": null,
   "metadata": {},
   "outputs": [],
   "source": []
  },
  {
   "cell_type": "code",
   "execution_count": null,
   "metadata": {},
   "outputs": [],
   "source": []
  }
 ],
 "metadata": {
  "kernelspec": {
   "display_name": "kiana",
   "language": "python",
   "name": "python3"
  },
  "language_info": {
   "codemirror_mode": {
    "name": "ipython",
    "version": 3
   },
   "file_extension": ".py",
   "mimetype": "text/x-python",
   "name": "python",
   "nbconvert_exporter": "python",
   "pygments_lexer": "ipython3",
   "version": "3.10.13"
  }
 },
 "nbformat": 4,
 "nbformat_minor": 2
}
