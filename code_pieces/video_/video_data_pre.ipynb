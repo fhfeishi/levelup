{
 "cells": [
  {
   "cell_type": "code",
   "execution_count": 1,
   "metadata": {},
   "outputs": [],
   "source": [
    "import os\n",
    "import glob\n",
    "import uuid\n",
    "import cv2\n",
    "import numpy as np\n",
    "import av\n",
    "from tqdm import tqdm\n",
    "\n",
    "def get_frames_with_pyav(\n",
    "    video_root,\n",
    "    output_dir,\n",
    "    frame_interval=2,\n",
    "    difference_threshold=0.005,\n",
    "    std_threshold=5,\n",
    "    range_threshold=10,\n",
    "    filename_mode=\"file\"\n",
    "):\n",
    "    if not os.path.exists(output_dir):\n",
    "        os.makedirs(output_dir)\n",
    "\n",
    "    video_path_list = glob.glob(os.path.join(video_root, \"**\", '*.mp4'), recursive=True)\n",
    "    \n",
    "    \n",
    "\n",
    "    for idx, video_path in enumerate(tqdm(video_path_list, desc=\"Processing videos\", unit=\"video\")):\n",
    "        try:\n",
    "            tqdm.write(f\"\\n正在处理视频文件 ({idx + 1}/{len(video_path_list)}): {video_path}\")\n",
    "            container = av.open(video_path)\n",
    "\n",
    "            stream = container.streams.video[0]\n",
    "            fps = float(stream.average_rate)\n",
    "            if fps == 0:\n",
    "                tqdm.write(f\"无法获取视频 {video_path} 的帧率，已跳过。\")\n",
    "                continue\n",
    "\n",
    "            frame_interval_frames = int(frame_interval * fps)\n",
    "            frame_count = 0\n",
    "            prev_frame = None\n",
    "\n",
    "            # Extract video filename without extension\n",
    "            video_filename = os.path.basename(video_path)\n",
    "            video_name_no_ext = os.path.splitext(video_filename)[0]\n",
    "            frame_save_count = 0\n",
    "\n",
    "            for packet in container.demux(stream):\n",
    "                for frame in packet.decode():\n",
    "                    if frame_count % frame_interval_frames == 0:\n",
    "                        frame_bgr = frame.to_ndarray(format='bgr24')\n",
    "\n",
    "                        # 检查帧是否为乱码帧\n",
    "                        frame_gray_full = cv2.cvtColor(frame_bgr, cv2.COLOR_BGR2GRAY)\n",
    "                        std_dev = np.std(frame_gray_full)\n",
    "                        min_val, max_val = frame_gray_full.min(), frame_gray_full.max()\n",
    "                        pixel_range = max_val - min_val\n",
    "\n",
    "                        if (std_dev < std_threshold and pixel_range < range_threshold):\n",
    "                            continue  # 跳过乱码帧\n",
    "\n",
    "                        if prev_frame is not None:\n",
    "                            prev_frame_gray = cv2.cvtColor(prev_frame, cv2.COLOR_BGR2GRAY)\n",
    "                            frame_gray = frame_gray_full\n",
    "                            difference = np.mean(np.abs(prev_frame_gray.astype(\"float\") - frame_gray.astype(\"float\")))\n",
    "\n",
    "                            if difference > difference_threshold:\n",
    "                                if filename_mode == \"uuid\":\n",
    "                                    # 保存帧\n",
    "                                    _name = f\"{uuid.uuid4()}.jpg\"\n",
    "                                else:\n",
    "                                    # filename_mode = \"file\"\n",
    "                                    _name = f\"{video_name_no_ext}_{frame_save_count}.jpg\"\n",
    "\n",
    "                                output_path = os.path.join(output_dir, _name)\n",
    "                                cv2.imwrite(output_path, frame_bgr)\n",
    "                                frame_save_count += 1\n",
    "                                prev_frame = frame_bgr\n",
    "                        else:\n",
    "                            # 保存第一帧\n",
    "                            if filename_mode == \"uuid\":\n",
    "                                _name = f\"{uuid.uuid4()}.jpg\"\n",
    "                            else:\n",
    "                                # filename_mode = \"file\"\n",
    "                                _name = f\"{video_name_no_ext}_{frame_save_count}.jpg\"\n",
    "\n",
    "                            output_path = os.path.join(output_dir, _name)\n",
    "                            cv2.imwrite(output_path, frame_bgr)\n",
    "                            frame_save_count += 1\n",
    "                            prev_frame = frame_bgr\n",
    "\n",
    "                    frame_count += 1\n",
    "\n",
    "            container.close()\n",
    "\n",
    "        except Exception as e:\n",
    "            tqdm.write(f\"无法处理视频 {video_path}：{e}\")\n",
    "            continue\n"
   ]
  },
  {
   "cell_type": "code",
   "execution_count": 2,
   "metadata": {},
   "outputs": [
    {
     "name": "stderr",
     "output_type": "stream",
     "text": [
      "Processing videos:   0%|          | 0/8 [00:00<?, ?video/s]"
     ]
    },
    {
     "name": "stdout",
     "output_type": "stream",
     "text": [
      "\n",
      "正在处理视频文件 (1/8): E:\\monitoring_video\\D02_20241024160802.mp4\n"
     ]
    },
    {
     "name": "stderr",
     "output_type": "stream",
     "text": [
      "Processing videos:  12%|█▎        | 1/8 [03:53<27:14, 233.49s/video]"
     ]
    },
    {
     "name": "stdout",
     "output_type": "stream",
     "text": [
      "\n",
      "正在处理视频文件 (2/8): E:\\monitoring_video\\D02_20241024161255.mp4\n"
     ]
    },
    {
     "name": "stderr",
     "output_type": "stream",
     "text": [
      "Processing videos:  25%|██▌       | 2/8 [35:32<2:01:18, 1213.16s/video]"
     ]
    },
    {
     "name": "stdout",
     "output_type": "stream",
     "text": [
      "\n",
      "正在处理视频文件 (3/8): E:\\monitoring_video\\D02_20241024172241.mp4\n"
     ]
    },
    {
     "name": "stderr",
     "output_type": "stream",
     "text": [
      "Processing videos:  38%|███▊      | 3/8 [42:46<1:11:27, 857.54s/video] "
     ]
    },
    {
     "name": "stdout",
     "output_type": "stream",
     "text": [
      "\n",
      "正在处理视频文件 (4/8): E:\\monitoring_video\\D03_20241024161409.mp4\n"
     ]
    },
    {
     "name": "stderr",
     "output_type": "stream",
     "text": [
      "Processing videos:  50%|█████     | 4/8 [52:57<50:40, 760.01s/video]  "
     ]
    },
    {
     "name": "stdout",
     "output_type": "stream",
     "text": [
      "\n",
      "正在处理视频文件 (5/8): E:\\monitoring_video\\D03_20241024164349.mp4\n"
     ]
    },
    {
     "name": "stderr",
     "output_type": "stream",
     "text": [
      "Processing videos:  62%|██████▎   | 5/8 [1:04:38<36:56, 738.79s/video]"
     ]
    },
    {
     "name": "stdout",
     "output_type": "stream",
     "text": [
      "\n",
      "正在处理视频文件 (6/8): E:\\monitoring_video\\D03_20241024171906.mp4\n"
     ]
    },
    {
     "name": "stderr",
     "output_type": "stream",
     "text": [
      "Processing videos:  75%|███████▌  | 6/8 [1:13:20<22:10, 665.02s/video]"
     ]
    },
    {
     "name": "stdout",
     "output_type": "stream",
     "text": [
      "\n",
      "正在处理视频文件 (7/8): E:\\monitoring_video\\D04_20241024160752.mp4\n"
     ]
    },
    {
     "name": "stderr",
     "output_type": "stream",
     "text": [
      "Processing videos:  88%|████████▊ | 7/8 [1:27:27<12:04, 724.53s/video]"
     ]
    },
    {
     "name": "stdout",
     "output_type": "stream",
     "text": [
      "\n",
      "正在处理视频文件 (8/8): E:\\monitoring_video\\D04_20241024165733.mp4\n"
     ]
    },
    {
     "name": "stderr",
     "output_type": "stream",
     "text": [
      "Processing videos: 100%|██████████| 8/8 [1:39:55<00:00, 749.46s/video]\n"
     ]
    }
   ],
   "source": [
    "\n",
    "# # 243  视频有点问题\n",
    "# video_dir = r\"D:\\ddesktop\\monitoring\\正泰电气\\98铁芯仓库10_20241009111753\"\n",
    "# output_dir = r\"D:\\ddesktop\\monitoring\\frame_new\"\n",
    "# get_frames_with_pyav(video_dir, output_dir)\n",
    "\n",
    "video_root = r\"E:\\monitoring_video\"\n",
    "output_dir = r\"D:\\ddesktop\\monitoring\\datadata\\frames_2\"\n",
    "get_frames_with_pyav(video_root, output_dir)"
   ]
  },
  {
   "cell_type": "code",
   "execution_count": null,
   "metadata": {},
   "outputs": [],
   "source": []
  },
  {
   "cell_type": "code",
   "execution_count": null,
   "metadata": {},
   "outputs": [],
   "source": []
  },
  {
   "cell_type": "code",
   "execution_count": null,
   "metadata": {},
   "outputs": [],
   "source": []
  },
  {
   "cell_type": "code",
   "execution_count": null,
   "metadata": {},
   "outputs": [],
   "source": []
  },
  {
   "cell_type": "code",
   "execution_count": null,
   "metadata": {},
   "outputs": [],
   "source": []
  },
  {
   "cell_type": "code",
   "execution_count": null,
   "metadata": {},
   "outputs": [],
   "source": []
  },
  {
   "cell_type": "code",
   "execution_count": null,
   "metadata": {},
   "outputs": [],
   "source": []
  },
  {
   "cell_type": "code",
   "execution_count": null,
   "metadata": {},
   "outputs": [],
   "source": []
  },
  {
   "cell_type": "code",
   "execution_count": null,
   "metadata": {},
   "outputs": [],
   "source": []
  },
  {
   "cell_type": "code",
   "execution_count": null,
   "metadata": {},
   "outputs": [],
   "source": []
  },
  {
   "cell_type": "code",
   "execution_count": null,
   "metadata": {},
   "outputs": [],
   "source": []
  },
  {
   "cell_type": "code",
   "execution_count": null,
   "metadata": {},
   "outputs": [],
   "source": []
  }
 ],
 "metadata": {
  "kernelspec": {
   "display_name": "yoloenv",
   "language": "python",
   "name": "python3"
  },
  "language_info": {
   "codemirror_mode": {
    "name": "ipython",
    "version": 3
   },
   "file_extension": ".py",
   "mimetype": "text/x-python",
   "name": "python",
   "nbconvert_exporter": "python",
   "pygments_lexer": "ipython3",
   "version": "3.8.19"
  },
  "orig_nbformat": 4
 },
 "nbformat": 4,
 "nbformat_minor": 2
}
