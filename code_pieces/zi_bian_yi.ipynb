{
 "cells": [
  {
   "cell_type": "code",
   "execution_count": null,
   "metadata": {},
   "outputs": [],
   "source": [
    "# git clone --recursive https://github.com/microsoft/onnxruntime.git \n",
    "# \n",
    "# # 或者直接找release界面，下载压缩包"
   ]
  },
  {
   "cell_type": "code",
   "execution_count": null,
   "metadata": {},
   "outputs": [],
   "source": [
    "# CMake  # 记得配置一下，下载压缩包，添加bin到path\n",
    "\n",
    "# cd onnxruntime\n",
    "\n",
    "# ##Linux MacOS\n",
    "# ./build.sh --config Release --build_shared_lib --parallel\n",
    "\n",
    "# ##windows  \n",
    "# .\\build.bat --config Release --build_shared_lib --parallel"
   ]
  }
 ],
 "metadata": {
  "language_info": {
   "name": "python"
  },
  "orig_nbformat": 4
 },
 "nbformat": 4,
 "nbformat_minor": 2
}
