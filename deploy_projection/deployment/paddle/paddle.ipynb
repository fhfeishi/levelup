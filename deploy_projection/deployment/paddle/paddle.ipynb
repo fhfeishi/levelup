{
 "cells": [
  {
   "cell_type": "code",
   "execution_count": null,
   "metadata": {},
   "outputs": [],
   "source": [
    "# pip install x2paddle   # onnx ----> paddlepaddle"
   ]
  },
  {
   "cell_type": "code",
   "execution_count": null,
   "metadata": {},
   "outputs": [],
   "source": [
    "# terminal  bash\n",
    "# >>>x2paddle --framework=onnx --model=logs/model.onnx --save_dir=paddle_model\n",
    "# 如果什么都没有发生，首先检查路径没有写错，然后就是环境的版本适配，\n",
    "# numpy、tensorboard、protobuf等版本调整一下\n",
    "# 同时也要注意paddlepaddle-gpu的版本， cuda11.3 ---- paddlepaddle-gpu 2.3.2\n",
    "# paddle.utils.run_check()  并不是百分百的检测手段，最好还是拿其他的手段测试一下"
   ]
  },
  {
   "cell_type": "code",
   "execution_count": null,
   "metadata": {},
   "outputs": [],
   "source": [
    "\"\"\" x2paddle的输出\n",
    "paddle_model/\n",
    "    +----/inference_model/\n",
    "            +-----model.pdiparams\n",
    "            +-----model.pdiparams.info\n",
    "            +-----model.pdmodel\n",
    "    +---- model.pdparams\n",
    "    +---- x2paddle_code.py\n",
    "\"\"\""
   ]
  },
  {
   "cell_type": "code",
   "execution_count": null,
   "metadata": {},
   "outputs": [],
   "source": [
    "# #error1#  paddle.to_tensor 会得到全0的tensor\n",
    "# solution#当然是调整paddlepaddle-gpu的版本\n",
    "# 如果要测试来得到问题所在的话：\n",
    "# import paddle\n",
    "# paddle.set_device('gpu:0')\n",
    "# test_tensor = paddle.to_tensor([1.2, 2.2, 3.4], place=paddle.CUDAPlace(0))\n",
    "# print(\"Test tensor stats:\")\n",
    "# print(\"Min:\", test_tensor.min())  \n",
    "# print(\"Max:\", test_tensor.max())  \n",
    "# print(\"Mean:\", test_tensor.mean())  "
   ]
  },
  {
   "cell_type": "code",
   "execution_count": null,
   "metadata": {},
   "outputs": [],
   "source": [
    "# #----------model load---------------------#\n",
    "# import paddle\n",
    "# model_path = 'paddle_model/inference_model/model'\n",
    "# model = paddle.jit.load(model_path)"
   ]
  },
  {
   "cell_type": "code",
   "execution_count": null,
   "metadata": {},
   "outputs": [],
   "source": [
    "# # input image-crop  640*640  PIL.Image.Image\n",
    "# def paddle_preprocess(image, target_size=(640, 640), device='gpu'):\n",
    "#     \"\"\"将输入图像处理为模型可接受的格式。\"\"\"\n",
    "#     image = image.resize(target_size, Image.BILINEAR)\n",
    "#     image = np.array(image).astype('float32')\n",
    "#     image = image.transpose((2, 0, 1))  # HWC to CHW\n",
    "#     image = image / 255.0  # 归一化\n",
    "#     # 明确地调用 CPU 或 GPU Place\n",
    "#     image = paddle.to_tensor(image, place=paddle.CUDAPlace(0) if device == 'gpu' else paddle.CPUPlace())\n",
    "#     image = image.unsqueeze(0)  # 增加batch维\n",
    "#     # print(\"image shape\", image.shape)  # image shape [1, 3, 640, 640]\n",
    "#     # print(\"image type\", type(image))  # image type <class 'paddle.Tensor'>\n",
    "#     return image"
   ]
  },
  {
   "cell_type": "code",
   "execution_count": null,
   "metadata": {},
   "outputs": [],
   "source": [
    "# def paddle_postprocess(pred, colors):\n",
    "#     # print(\"pred type\", pred.shape)  # pred type [1, 3, 640, 640]\n",
    "#     # print(\"pred type\", type(pred))  # pred type <class 'paddle.Tensor'>\n",
    "#     \"\"\"将分割结果转换为彩色图，并与原图混合。\"\"\"\n",
    "#     pred = pred.squeeze(0)  # 移除batch维\n",
    "#     pred = pred.argmax(0)   # 取概率最大的类别\n",
    "#     pred = pred.numpy()\n",
    "#     seg_img_colored = np.zeros((pred.shape[0], pred.shape[1], 3), dtype=np.uint8)\n",
    "#     # print(\"seg_img_colored shape\", seg_img_colored.shape)   # (640, 640, 3)\n",
    "#     for c in range(len(colors)):\n",
    "#         seg_img_colored[pred == c, :] = colors[c]\n",
    "#     seg_img_colored = Image.fromarray(seg_img_colored)\n",
    "#     return seg_img_colored"
   ]
  },
  {
   "cell_type": "code",
   "execution_count": null,
   "metadata": {},
   "outputs": [],
   "source": [
    "# def paddle_seg_image(image, model, device='gpu'):\n",
    "#     \"\"\"使用 PaddlePaddle 进行分割推理并返回着色的分割结果图像。\"\"\"\n",
    "#     # print(\"image size\", image.size)  # image shape (640, 640)\n",
    "#     # print(\"image type\", type(image))  # image type <class 'PIL.Image.Image'>\n",
    "#     old_image = image.copy()\n",
    "#     # 定义每个类别的颜色\n",
    "#     colors = [\n",
    "#         [0, 0, 0],  # 背景 - 黑色\n",
    "#         [255, 0, 0],  # 目标1 - 红色\n",
    "#         [0, 255, 0],  # 目标2 - 绿色\n",
    "#     ]\n",
    "#     # 设置设备\n",
    "#     paddle.set_device('gpu:0' if device == 'gpu' else 'cpu')\n",
    "#     model.eval()\n",
    "#     # 加载和预处理图像\n",
    "#     input_data = paddle_preprocess(image, device=device)\n",
    "#     # 执行模型推理\n",
    "#     output = model(input_data)\n",
    "#     # print(\"output shape\", output.shape)  # output shape [1, 3, 640, 640]\n",
    "#     # 处理输出并返回彩色分割图\n",
    "#     seg_image = paddle_postprocess(output, colors)\n",
    "#     # 将分割图与原图混合\n",
    "#     original_image = old_image.convert('RGB').resize(seg_image.size)\n",
    "#     blended_image = Image.blend(original_image, seg_image, 0.7)\n",
    "#     return blended_image"
   ]
  },
  {
   "cell_type": "code",
   "execution_count": null,
   "metadata": {},
   "outputs": [],
   "source": []
  }
 ],
 "metadata": {
  "language_info": {
   "name": "python"
  },
  "orig_nbformat": 4
 },
 "nbformat": 4,
 "nbformat_minor": 2
}
