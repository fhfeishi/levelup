{
 "cells": [
  {
   "cell_type": "code",
   "execution_count": null,
   "metadata": {},
   "outputs": [],
   "source": [
    "# model = u2net_full(out_ch=3)\n",
    "# input_tensor = torch.rand(1, 3, 640, 640)\n",
    "\n",
    "# model.eval()\n",
    "# with  torch.no_grad():\n",
    "#   output_list = model(input_tensor)\n",
    "\n",
    "# for i, output_tensor in enumerate(output_list):\n",
    "#   print(f\"output {i} shape:{output_tensor.shape}\")"
   ]
  },
  {
   "cell_type": "code",
   "execution_count": null,
   "metadata": {},
   "outputs": [],
   "source": []
  }
 ],
 "metadata": {
  "language_info": {
   "name": "python"
  },
  "orig_nbformat": 4
 },
 "nbformat": 4,
 "nbformat_minor": 2
}
