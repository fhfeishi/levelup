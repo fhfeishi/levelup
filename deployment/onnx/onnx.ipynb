{
 "cells": [
  {
   "cell_type": "code",
   "execution_count": null,
   "metadata": {},
   "outputs": [],
   "source": [
    "# pip install onnxruntime onnx onnxsim    ||   onnxruntime  onnxruntime-gpu ?  onnxsim:onnx simplyfier"
   ]
  },
  {
   "cell_type": "code",
   "execution_count": null,
   "metadata": {},
   "outputs": [],
   "source": [
    "# torch.pth  to  onnx\n",
    "\n",
    "# model = model()\n",
    "# device = torch.device('cuda' if torch.cuda.is_available() else 'gpu')\n",
    "# model.load_state_dict(torch.load(weights_path, map_location=device))\n",
    "# model.eval()\n",
    "# im = torch.zeros(1, 3, *self.input_shape).to('cpu')\n",
    "# input_layer_names = [\"images\"]\n",
    "# output_layer_name = [\"output\"]\n",
    "# --export the model\n",
    "# torch.onnx.export(model,\n",
    "# im,\n",
    "# f=model_path,\n",
    "# verbose=False,\n",
    "# training = torch.onnx.TrainingMode.EVAL,\n",
    "# do_constant_folding=True,\n",
    "# input_names=input_layer_names,\n",
    "# output_names=output_layer_names,\n",
    "# hynamic_axes=None)\n",
    "\n",
    "# --check\n",
    "# model_onnx = onnx.load(model_path)\n",
    "# onnx.checker.check_model(model_onnx)\n",
    "\n",
    "# if simplify:\n",
    "#     import onnxsim\n",
    "#     print(f'Simplifying with onnx-simplifier {onnxsim.__version__}.')\n",
    "#     model_onnx, check = onnxsim.simplify(\n",
    "#         model_onnx,\n",
    "#         dynamic_input_shape=False,\n",
    "#         input_shapes=None)\n",
    "#     assert check, 'assert check failed'\n",
    "#     onnx.save(model_onnx, model_path)\n",
    "# print('Onnx model save as {}'.format(model_path))\n",
    "\n"
   ]
  },
  {
   "cell_type": "code",
   "execution_count": null,
   "metadata": {},
   "outputs": [],
   "source": []
  },
  {
   "cell_type": "code",
   "execution_count": null,
   "metadata": {},
   "outputs": [],
   "source": []
  },
  {
   "cell_type": "code",
   "execution_count": null,
   "metadata": {},
   "outputs": [],
   "source": []
  },
  {
   "cell_type": "code",
   "execution_count": null,
   "metadata": {},
   "outputs": [],
   "source": []
  },
  {
   "cell_type": "code",
   "execution_count": null,
   "metadata": {},
   "outputs": [],
   "source": []
  },
  {
   "cell_type": "code",
   "execution_count": null,
   "metadata": {},
   "outputs": [],
   "source": []
  },
  {
   "cell_type": "code",
   "execution_count": null,
   "metadata": {},
   "outputs": [],
   "source": []
  }
 ],
 "metadata": {
  "language_info": {
   "name": "python"
  },
  "orig_nbformat": 4
 },
 "nbformat": 4,
 "nbformat_minor": 2
}
