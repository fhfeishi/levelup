{
 "cells": [
  {
   "cell_type": "raw",
   "metadata": {
    "vscode": {
     "languageId": "raw"
    }
   },
   "source": [
    "from flask import Flask\n",
    "app = Flask(__name__)\n",
    "\n",
    "\n",
    "@app.route('/')\n",
    "def hello_world():\n",
    "    return 'Hello World!'\n",
    "if __name__ == '__main__':\n",
    "    app.run(host='0.0.0.0', port=1122)\n",
    "\n",
    "1、面向对象\n",
    "Flask是一个类，app是这个类的实例，也可以说是这个类创建出来的对象，在创建app这个对象时，\n",
    "需要传入参数import_name，通常，我们使用__name__（模块的一个全局变量，表示模块名称）\n",
    "\n",
    "2、装饰器\n",
    "route是一个装饰器，在本示例中，用来装饰函数hello_world，当请求的path 是 / 时，\n",
    "程序用函数hello_world来处理这个请求，\n",
    "\n",
    "3、服务器监听设置\n",
    "当我们启动这个程序后，在最底层，其实是一个TCP服务端程序，也就是一个socket服务，\n",
    "socket服务在绑定host和port时存在这样的机制，如果你希望这个socket只能本本机的客户端访问，\n",
    "那么host设置成127.0.0.1，如果希望所有机器都能访问，需要设置成0.0.0.0。\n",
    "\n",
    "端口号默认使用5000， 你也可以改成其他端口号，很随意，只要不超过65535即可，但是要注意，\n",
    "不要选择那些已经被其他服务使用的端口号，否则会报错\n",
    "\n",
    "4、自动加载技术--reload   debug=开启flask自动加载 只需要将debug参数设置为True，flask将以调试模式启动\n",
    "自动加载技术在web开发中应用很广泛，设想，你正在编写一个服务，每写完一段代码，\n",
    "都需要进行调试，有时仅仅是修改了一行代码，如果为了测试代码，不停的重启服务，着实让人烦恼。\n",
    "\n",
    "自动加载技术会监测项目里文件的修改情况，一旦发现文件有修改，就会重新加载这个文件，\n",
    "相当于重新import这个模块，这样，你的每一次改动都会在保存后生效而不需要你重启服务，\n",
    "\n",
    "开启flask自动加载只需要将debug参数设置为True，flask将以调试模式启动\n"
   ]
  },
  {
   "cell_type": "raw",
   "metadata": {},
   "source": []
  }
 ],
 "metadata": {
  "kernelspec": {
   "display_name": "kiana",
   "language": "python",
   "name": "python3"
  },
  "language_info": {
   "codemirror_mode": {
    "name": "ipython",
    "version": 3
   },
   "file_extension": ".py",
   "mimetype": "text/x-python",
   "name": "python",
   "nbconvert_exporter": "python",
   "pygments_lexer": "ipython3",
   "version": "3.10.13"
  }
 },
 "nbformat": 4,
 "nbformat_minor": 2
}
