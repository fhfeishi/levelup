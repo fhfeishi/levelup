{
 "cells": [
  {
   "cell_type": "markdown",
   "metadata": {
    "vscode": {
     "languageId": "raw"
    }
   },
   "source": [
    "# 一些基础概念"
   ]
  },
  {
   "cell_type": "markdown",
   "metadata": {},
   "source": [
    "# Python Web 开发"
   ]
  },
  {
   "cell_type": "markdown",
   "metadata": {},
   "source": [
    "#### 1、Web框架\n",
    "* Web框架是一组库和模块，使Web开发更为简单化，通过提供常见的模式来构建Web应用。\n",
    "* 框架负责处理许多基础工作，如请求处理、响应输出、会话管理和安全性。"
   ]
  },
  {
   "cell_type": "markdown",
   "metadata": {},
   "source": [
    "2、常见的Pyhton Web框架\n",
    "* FastAPI：用于构建API的现代、快速（高性能）框架，支持异步编程。\n",
    "基于Starlette进行异步编程的现代框架，支持自动数据验证、序列化和文档生成（Swagger）。FastAPI 的性能接近 Node.js 和 Go，是构建高性能API的优选。\n",
    "\n",
    "* Flask：轻量级框架，灵活且易于扩展，适合小型项目或作为微服务的一部分。\n",
    "微框架，核心简单但高度可扩展。适合需要高度自定义的应用，支持多种扩展来增加如ORM、表单验证、开放认证等功能。\n",
    "\n",
    "* Django：Django是一个高级的Python Web框架，它鼓励快速开发和干净、实用的设计。它提供了许多内建的功能，如用户认证、内容管理、站点地图等，适合快速构建复杂的、数据驱动的网站。\n",
    "\n",
    "* Tornado：Tornado是一个非常强大的工具，适用于需要长时间连接用户的应用，如WebSockets。它是一个异步网络库，可以处理成千上万的活跃连接，适合构建实时应用。\n",
    "\n",
    "* Pyramid：Pyramid是一个灵活的框架，旨在做到“刚好足够”而不是“过度设计”。它非常适合在项目的需求会逐渐增加的情况下开始使用。\n",
    "\n",
    "* Bottle：Bottle是一个小型的微框架，适合于快速开发简单的个人或小型应用。由于它是一个单一文件模块，因此非常适合构建简单的个人项目。\n",
    "\n",
    "* CherryPy：CherryPy是一个最小但强大的Web框架，允许开发者快速构建Web应用，而且不需要特别学习一个模板语言或其他系统。\n"
   ]
  },
  {
   "cell_type": "raw",
   "metadata": {},
   "source": [
    "Python Web开发详细介绍\n",
    "Web框架的选择：\n",
    "\n",
    "Django：完整的MVC框架，内置了管理后台、用户认证、模板引擎、表单处理、ORM等。适合快速开发大型项目，拥有丰富的第三方库支持。\n",
    "Flask：微框架，核心简单但高度可扩展。适合需要高度自定义的应用，支持多种扩展来增加如ORM、表单验证、开放认证等功能。\n",
    "FastAPI：基于Starlette进行异步编程的现代框架，支持自动数据验证、序列化和文档生成（Swagger）。FastAPI 的性能接近 Node.js 和 Go，是构建高性能API的优选。\n",
    "项目结构和开发流程：\n",
    "\n",
    "环境设置：使用 virtualenv 或 conda 创建一个隔离的Python环境。\n",
    "项目结构：\n",
    "app/ - 应用代码\n",
    "tests/ - 测试模块\n",
    "requirements.txt - 依赖文件\n",
    "config.py - 配置文件\n",
    "开发实践：遵循PEP 8代码风格指南，使用 pytest 或 unittest 进行测试。\n",
    "部署：使用WSGI服务器如Gunicorn或uWSGI配合Nginx或Apache。\n",
    "安全性和性能优化：\n",
    "\n",
    "安全实践：使用HTTPS，存储敏感信息时使用加密，对所有外部API调用实施合适的认证和授权。\n",
    "性能优化：使用缓存机制如Redis来存储频繁查询的数据，数据库查询优化，异步处理来提高响应速度。"
   ]
  },
  {
   "cell_type": "markdown",
   "metadata": {},
   "source": []
  },
  {
   "cell_type": "markdown",
   "metadata": {},
   "source": [
    "# API（应用程序编程接口）"
   ]
  },
  {
   "cell_type": "markdown",
   "metadata": {},
   "source": [
    "#### 1、API定义\n",
    "* API是一种软件接口，允许两个应用程序之间通过预定义的方法进行交互\n",
    "* Web API是通过Web服务器公开的，通常使用HTTP协议。"
   ]
  },
  {
   "cell_type": "markdown",
   "metadata": {},
   "source": [
    "#### 2、API的类型\n",
    "* REST（Representational State Transfer）：使用标准HTTP方法如GET、POST、PUT、DELETE等。\n",
    "* GraphQL：允许客户端定义需要获取的数据结构。\n",
    "* （有点过时）SOAP（Simple Object Access Protocol）：较旧的标准，使用XML格式交换数据，不如REST灵活。"
   ]
  },
  {
   "cell_type": "raw",
   "metadata": {
    "vscode": {
     "languageId": "raw"
    }
   },
   "source": [
    "API设计详细介绍\n",
    "RESTful API设计原则：\n",
    "\n",
    "无状态：每个请求应该包含所有必要的信息来处理该请求。\n",
    "统一接口：资源的标识在请求中是统一的，资源的表现形式和与之交互的方法是一致的。\n",
    "可缓存：响应应明确标记为可缓存或不可缓存，以提高客户端效率。\n",
    "按需代码：（可选）服务器可以临时扩展客户端功能通过传输可执行代码。\n",
    "API版本管理：\n",
    "\n",
    "使用URI路径（如 /api/v1/）或请求头中的自定义字段来控制版本。\n",
    "向前兼容，尽量避免在一个已发布的API版本中进行破坏性更改。\n",
    "API安全性：\n",
    "\n",
    "认证：使用OAuth2、JWT（Json Web Tokens）等机制验证用户身份。\n",
    "授权：确保用户只能访问他们被授权的资源。\n",
    "数据验证：确保服务器通过验证所有的输入数据来避免SQL注入、XSS攻击等。\n",
    "文档和工具：\n",
    "\n",
    "Swagger / OpenAPI：定义API结构，自动生成文档和客户端库。\n",
    "Postman：测试API接口，生成API调用示例。"
   ]
  },
  {
   "cell_type": "raw",
   "metadata": {},
   "source": [
    "关于API（应用程序编程接口）\n",
    "API的定义：\n",
    "\n",
    "API是一种软件接口，允许两个应用程序之间通过预定义的方法进行交互。\n",
    "Web API是通过Web服务器公开的，通常使用HTTP协议。\n",
    "API的类型：\n",
    "\n",
    "REST（Representational State Transfer）：使用标准HTTP方法如GET、POST、PUT、DELETE等。\n",
    "GraphQL：允许客户端定义需要获取的数据结构。\n",
    "SOAP（Simple Object Access Protocol）：较旧的标准，使用XML格式交换数据，不如REST灵活。\n",
    "设计良好的API：\n",
    "\n",
    "一致性：接口设计应一致，易于理解和使用。\n",
    "文档：提供清晰、详尽的文档是非常重要的。\n",
    "版本控制：合理管理API版本，确保向后兼容性。\n",
    "安全性：确保传输安全（使用HTTPS）、身份验证和授权机制。\n",
    "API开发工具：\n",
    "\n",
    "Swagger或OpenAPI：用于设计、构建、文档化和使用RESTful接口。\n",
    "Postman：API开发过程中测试和管理API的工具。"
   ]
  },
  {
   "cell_type": "raw",
   "metadata": {
    "vscode": {
     "languageId": "raw"
    }
   },
   "source": []
  },
  {
   "cell_type": "markdown",
   "metadata": {},
   "source": []
  },
  {
   "cell_type": "markdown",
   "metadata": {},
   "source": []
  },
  {
   "cell_type": "markdown",
   "metadata": {},
   "source": []
  },
  {
   "cell_type": "markdown",
   "metadata": {},
   "source": []
  },
  {
   "cell_type": "markdown",
   "metadata": {},
   "source": []
  },
  {
   "cell_type": "markdown",
   "metadata": {},
   "source": []
  },
  {
   "cell_type": "markdown",
   "metadata": {},
   "source": []
  },
  {
   "cell_type": "markdown",
   "metadata": {},
   "source": []
  },
  {
   "cell_type": "markdown",
   "metadata": {},
   "source": []
  },
  {
   "cell_type": "markdown",
   "metadata": {},
   "source": []
  },
  {
   "cell_type": "markdown",
   "metadata": {},
   "source": []
  },
  {
   "cell_type": "markdown",
   "metadata": {},
   "source": []
  },
  {
   "cell_type": "markdown",
   "metadata": {},
   "source": []
  },
  {
   "cell_type": "markdown",
   "metadata": {},
   "source": []
  },
  {
   "cell_type": "markdown",
   "metadata": {},
   "source": []
  },
  {
   "cell_type": "markdown",
   "metadata": {},
   "source": []
  },
  {
   "cell_type": "markdown",
   "metadata": {},
   "source": []
  },
  {
   "cell_type": "markdown",
   "metadata": {},
   "source": []
  },
  {
   "cell_type": "markdown",
   "metadata": {},
   "source": []
  },
  {
   "cell_type": "markdown",
   "metadata": {},
   "source": []
  },
  {
   "cell_type": "markdown",
   "metadata": {},
   "source": []
  },
  {
   "cell_type": "markdown",
   "metadata": {},
   "source": []
  },
  {
   "cell_type": "markdown",
   "metadata": {},
   "source": []
  },
  {
   "cell_type": "markdown",
   "metadata": {},
   "source": []
  },
  {
   "cell_type": "markdown",
   "metadata": {},
   "source": []
  },
  {
   "cell_type": "markdown",
   "metadata": {},
   "source": []
  },
  {
   "cell_type": "markdown",
   "metadata": {},
   "source": []
  }
 ],
 "metadata": {
  "kernelspec": {
   "display_name": "kiana",
   "language": "python",
   "name": "python3"
  },
  "language_info": {
   "codemirror_mode": {
    "name": "ipython",
    "version": 3
   },
   "file_extension": ".py",
   "mimetype": "text/x-python",
   "name": "python",
   "nbconvert_exporter": "python",
   "pygments_lexer": "ipython3",
   "version": "3.10.13"
  }
 },
 "nbformat": 4,
 "nbformat_minor": 2
}
