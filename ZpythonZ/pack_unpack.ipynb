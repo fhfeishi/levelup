{
 "cells": [
  {
   "cell_type": "markdown",
   "metadata": {},
   "source": [
    "## packing and unpacking arguments in python"
   ]
  },
  {
   "cell_type": "markdown",
   "metadata": {},
   "source": [
    "###  * for tuples\n",
    "###  ** for dictionaries"
   ]
  },
  {
   "cell_type": "code",
   "execution_count": 1,
   "metadata": {},
   "outputs": [
    {
     "name": "stdout",
     "output_type": "stream",
     "text": [
      "15\n"
     ]
    }
   ],
   "source": [
    "def sum_all_five_nums(a, b, c, d, e):\n",
    "    return a+b+c+d+e\n",
    "lst = [1, 2, 3, 4 , 5]\n",
    "# print(sum_all_five_nums(lst)) # error\n",
    "print(sum_all_five_nums(*lst))"
   ]
  },
  {
   "cell_type": "code",
   "execution_count": 2,
   "metadata": {},
   "outputs": [
    {
     "name": "stdout",
     "output_type": "stream",
     "text": [
      "[2, 3, 4, 5, 6]\n",
      "range(2, 7)\n"
     ]
    }
   ],
   "source": [
    "#  use unpacking in the range built-in function taht expects a start and a end\n",
    "number = range(2, 7)\n",
    "print(list(number)) # [2, 3, 4, 5, 6]\n",
    "\n",
    "args = [2, 7]\n",
    "numbers = range(*args)\n",
    "print(numbers)\n"
   ]
  },
  {
   "cell_type": "code",
   "execution_count": 1,
   "metadata": {},
   "outputs": [
    {
     "name": "stdout",
     "output_type": "stream",
     "text": [
      "aa bb ['cc', 'dd']\n"
     ]
    }
   ],
   "source": [
    "countries = ['aa', 'bb', 'cc', 'dd']\n",
    "a, b, *rest = countries\n",
    "print(a, b, rest)  # aa bb ['cc', 'dd']"
   ]
  },
  {
   "cell_type": "code",
   "execution_count": 5,
   "metadata": {},
   "outputs": [
    {
     "name": "stdout",
     "output_type": "stream",
     "text": [
      "1 [2, 3, 4, 5, 6] 7\n",
      "[1, 2, 3, 4, 5] 6 7\n",
      "[1, 2, 3, 4, 5] 6 7\n",
      "[1, 2, 3, 4, 5] 6 7\n"
     ]
    }
   ],
   "source": [
    "numbers = [1, 2, 3, 4, 5, 6, 7]\n",
    "one, *middle, last = numbers\n",
    "print(one, middle, last)  # 1 [2, 3, 4, 5, 6] 7\n",
    "\n",
    "*first, middle, last = numbers\n",
    "print(first, middle, last) # [1, 2, 3, 4, 5] 6 7\n",
    "\n",
    "*one, middle, last = numbers\n",
    "print(one, middle, last)  # [1, 2, 3, 4, 5] 6 7\n",
    "\n",
    "*one, two, three = numbers\n",
    "print(one, two, three)  # [1, 2, 3, 4, 5] 6 7\n"
   ]
  },
  {
   "cell_type": "markdown",
   "metadata": {},
   "source": [
    "#### unpacking dictionaries"
   ]
  },
  {
   "cell_type": "code",
   "execution_count": 6,
   "metadata": {},
   "outputs": [
    {
     "name": "stdout",
     "output_type": "stream",
     "text": [
      "Ab lives in Cd, Ef he is 14 years old.\n"
     ]
    }
   ],
   "source": [
    "def unpacking_person_info(name, country, city, age):\n",
    "    return f'{name} lives in {country}, {city} he is {age} years old.'\n",
    "\n",
    "dict = {'name':'Ab', 'country':'Cd', 'city':'Ef', 'age':14}\n",
    "print(unpacking_person_info(**dict))"
   ]
  },
  {
   "cell_type": "markdown",
   "metadata": {},
   "source": [
    "### packing\n",
    "\n",
    "#### sometimes we never know how many arhements need to be passed to a python function. \n",
    "#### we can use the packing method to allow our function to take unlimited number or arbitrary number of arguments."
   ]
  },
  {
   "cell_type": "code",
   "execution_count": 7,
   "metadata": {},
   "outputs": [
    {
     "name": "stdout",
     "output_type": "stream",
     "text": [
      "10\n",
      "3835\n"
     ]
    }
   ],
   "source": [
    "## packing lists\n",
    "\n",
    "def sum_all(*args):\n",
    "    s = 0\n",
    "    for i in args:\n",
    "        s += i\n",
    "    return s\n",
    "print(sum_all(1, 2, 3, 4))\n",
    "print(sum_all(1, 22 , 33, 444, 2, 3333))"
   ]
  },
  {
   "cell_type": "code",
   "execution_count": 12,
   "metadata": {},
   "outputs": [
    {
     "name": "stdout",
     "output_type": "stream",
     "text": [
      "name = Aa\n",
      "country = Bb\n",
      "city = Cc\n",
      "age = 14\n",
      "{'name': 'Aa', 'country': 'Bb', 'city': 'Cc', 'age': 14}\n"
     ]
    }
   ],
   "source": [
    "### packing dictionaries\n",
    "\n",
    "def packing_person_info(**kwargs):\n",
    "    for key in kwargs:\n",
    "        print(f\"{key} = {kwargs[key]}\")\n",
    "    return kwargs\n",
    "\n",
    "print(packing_person_info(name=\"Aa\", country=\"Bb\", city=\"Cc\", age=14))\n",
    "\n"
   ]
  },
  {
   "cell_type": "code",
   "execution_count": 13,
   "metadata": {},
   "outputs": [
    {
     "name": "stdout",
     "output_type": "stream",
     "text": [
      "[0, 1, 2, 3, 4, 5, 6, 7]\n",
      "['Aa', 'Bb', 'Cc', 'AAA', 'BBB']\n"
     ]
    }
   ],
   "source": [
    "### spreading in python\n",
    "\n",
    "last_one = [1, 2, 3]\n",
    "last_two = [4, 5, 6, 7]\n",
    "last = [0, *last_one, *last_two]\n",
    "print(last)\n",
    "\n",
    "country_last_one = [\"Aa\", \"Bb\", \"Cc\"]\n",
    "country_last_two = [\"AAA\", \"BBB\"]\n",
    "nordic_countries = [*country_last_one, *country_last_two]\n",
    "print(nordic_countries)\n"
   ]
  },
  {
   "cell_type": "code",
   "execution_count": 15,
   "metadata": {},
   "outputs": [
    {
     "name": "stdout",
     "output_type": "stream",
     "text": [
      "0 2\n",
      "1 3\n",
      "2 4\n",
      "3 5\n",
      "hi\n",
      "the country {i} has been found at index {index}\n",
      "hi\n",
      "hi\n",
      "hi\n"
     ]
    }
   ],
   "source": [
    "## enumerate\n",
    "for index, item in enumerate([2, 3, 4, 5]):\n",
    "    print(index, item)\n",
    "for index, i in enumerate(countries):\n",
    "    print(\"hi\")\n",
    "    if i == \"aa\":\n",
    "        print('the country {i} has been found at index {index}')\n"
   ]
  },
  {
   "cell_type": "code",
   "execution_count": 16,
   "metadata": {},
   "outputs": [
    {
     "name": "stdout",
     "output_type": "stream",
     "text": [
      "[{'fruit': 'banana', 'veg': 'tomato'}, {'fruit': 'orange', 'veg': 'potato'}, {'fruit': 'lemmn', 'veg': 'cabbage'}, {'fruit': 'lime', 'veg': 'onion'}, {'fruit': 'mango', 'veg': 'carrot'}]\n"
     ]
    }
   ],
   "source": [
    "## zip\n",
    "fruits = ['banana', 'orange',  'lemmn', 'lime', 'mango']\n",
    "vagetables = ['tomato', 'potato', 'cabbage', 'onion', 'carrot']\n",
    "fruits_and_vagetables = []\n",
    "for f, v in zip(fruits, vagetables):\n",
    "    fruits_and_vagetables.append({'fruit':f, 'veg':v})\n",
    "print(fruits_and_vagetables)"
   ]
  }
 ],
 "metadata": {
  "kernelspec": {
   "display_name": "kiana",
   "language": "python",
   "name": "python3"
  },
  "language_info": {
   "codemirror_mode": {
    "name": "ipython",
    "version": 3
   },
   "file_extension": ".py",
   "mimetype": "text/x-python",
   "name": "python",
   "nbconvert_exporter": "python",
   "pygments_lexer": "ipython3",
   "version": "3.10.13"
  }
 },
 "nbformat": 4,
 "nbformat_minor": 2
}
